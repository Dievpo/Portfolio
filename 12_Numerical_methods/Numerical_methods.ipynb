{
 "cells": [
  {
   "cell_type": "markdown",
   "metadata": {
    "toc": true
   },
   "source": [
    "<h1>Содержание:<span class=\"tocSkip\"></span></h1>\n",
    "<div class=\"toc\"><ul class=\"toc-item\"><li><span><a href=\"#Подготовка-данных\" data-toc-modified-id=\"Подготовка-данных-1\"><span class=\"toc-item-num\">1&nbsp;&nbsp;</span>Подготовка данных</a></span><ul class=\"toc-item\"><li><span><a href=\"#Изучение-данных\" data-toc-modified-id=\"Изучение-данных-1.1\"><span class=\"toc-item-num\">1.1&nbsp;&nbsp;</span>Изучение данных</a></span></li><li><span><a href=\"#Предобработка-данных\" data-toc-modified-id=\"Предобработка-данных-1.2\"><span class=\"toc-item-num\">1.2&nbsp;&nbsp;</span>Предобработка данных</a></span></li></ul></li><li><span><a href=\"#Обучение-моделей\" data-toc-modified-id=\"Обучение-моделей-2\"><span class=\"toc-item-num\">2&nbsp;&nbsp;</span>Обучение моделей</a></span><ul class=\"toc-item\"><li><span><a href=\"#LinearRegression\" data-toc-modified-id=\"LinearRegression-2.1\"><span class=\"toc-item-num\">2.1&nbsp;&nbsp;</span>LinearRegression</a></span></li><li><span><a href=\"#Decision-Tree\" data-toc-modified-id=\"Decision-Tree-2.2\"><span class=\"toc-item-num\">2.2&nbsp;&nbsp;</span>Decision Tree</a></span></li><li><span><a href=\"#CatBoost\" data-toc-modified-id=\"CatBoost-2.3\"><span class=\"toc-item-num\">2.3&nbsp;&nbsp;</span>CatBoost</a></span></li><li><span><a href=\"#LightGBM\" data-toc-modified-id=\"LightGBM-2.4\"><span class=\"toc-item-num\">2.4&nbsp;&nbsp;</span>LightGBM</a></span></li></ul></li><li><span><a href=\"#Анализ-моделей\" data-toc-modified-id=\"Анализ-моделей-3\"><span class=\"toc-item-num\">3&nbsp;&nbsp;</span>Анализ моделей</a></span></li><li><span><a href=\"#Общий-вывод\" data-toc-modified-id=\"Общий-вывод-4\"><span class=\"toc-item-num\">4&nbsp;&nbsp;</span>Общий вывод</a></span></li></ul></div>"
   ]
  },
  {
   "cell_type": "markdown",
   "metadata": {},
   "source": [
    "# Определение стоимости автомобилей"
   ]
  },
  {
   "cell_type": "markdown",
   "metadata": {},
   "source": [
    "Сервис по продаже автомобилей с пробегом «Не бит, не крашен» разрабатывает приложение для привлечения новых клиентов. В нём можно быстро узнать рыночную стоимость своего автомобиля. В вашем распоряжении исторические данные: технические характеристики, комплектации и цены автомобилей. Вам нужно построить модель для определения стоимости. \n",
    "\n",
    "Заказчику важны:\n",
    "\n",
    "- качество предсказания;\n",
    "- скорость предсказания;\n",
    "- время обучения."
   ]
  },
  {
   "cell_type": "markdown",
   "metadata": {},
   "source": [
    "## Подготовка данных"
   ]
  },
  {
   "cell_type": "markdown",
   "metadata": {},
   "source": [
    "### Изучение данных"
   ]
  },
  {
   "cell_type": "markdown",
   "metadata": {},
   "source": [
    "Подключаем библиотеки:"
   ]
  },
  {
   "cell_type": "code",
   "execution_count": 1,
   "metadata": {},
   "outputs": [],
   "source": [
    "import time\n",
    "import pandas as pd\n",
    "import matplotlib.pyplot as plt\n",
    "\n",
    "from sklearn.model_selection import train_test_split\n",
    "from sklearn.preprocessing import OrdinalEncoder\n",
    "from sklearn.linear_model import LinearRegression\n",
    "from sklearn.metrics import mean_squared_error\n",
    "from sklearn.tree import DecisionTreeRegressor\n",
    "from catboost import CatBoostRegressor\n",
    "from sklearn.model_selection import GridSearchCV\n",
    "from lightgbm import LGBMRegressor"
   ]
  },
  {
   "cell_type": "markdown",
   "metadata": {},
   "source": [
    "Загрузим данные из файлов, выведем первые 10 строк таблиц для первого взгляда на данные."
   ]
  },
  {
   "cell_type": "code",
   "execution_count": 2,
   "metadata": {},
   "outputs": [
    {
     "data": {
      "text/html": [
       "<div>\n",
       "<style scoped>\n",
       "    .dataframe tbody tr th:only-of-type {\n",
       "        vertical-align: middle;\n",
       "    }\n",
       "\n",
       "    .dataframe tbody tr th {\n",
       "        vertical-align: top;\n",
       "    }\n",
       "\n",
       "    .dataframe thead th {\n",
       "        text-align: right;\n",
       "    }\n",
       "</style>\n",
       "<table border=\"1\" class=\"dataframe\">\n",
       "  <thead>\n",
       "    <tr style=\"text-align: right;\">\n",
       "      <th></th>\n",
       "      <th>DateCrawled</th>\n",
       "      <th>Price</th>\n",
       "      <th>VehicleType</th>\n",
       "      <th>RegistrationYear</th>\n",
       "      <th>Gearbox</th>\n",
       "      <th>Power</th>\n",
       "      <th>Model</th>\n",
       "      <th>Kilometer</th>\n",
       "      <th>RegistrationMonth</th>\n",
       "      <th>FuelType</th>\n",
       "      <th>Brand</th>\n",
       "      <th>Repaired</th>\n",
       "      <th>DateCreated</th>\n",
       "      <th>NumberOfPictures</th>\n",
       "      <th>PostalCode</th>\n",
       "      <th>LastSeen</th>\n",
       "    </tr>\n",
       "  </thead>\n",
       "  <tbody>\n",
       "    <tr>\n",
       "      <th>0</th>\n",
       "      <td>2016-03-24 11:52:17</td>\n",
       "      <td>480</td>\n",
       "      <td>NaN</td>\n",
       "      <td>1993</td>\n",
       "      <td>manual</td>\n",
       "      <td>0</td>\n",
       "      <td>golf</td>\n",
       "      <td>150000</td>\n",
       "      <td>0</td>\n",
       "      <td>petrol</td>\n",
       "      <td>volkswagen</td>\n",
       "      <td>NaN</td>\n",
       "      <td>2016-03-24 00:00:00</td>\n",
       "      <td>0</td>\n",
       "      <td>70435</td>\n",
       "      <td>2016-04-07 03:16:57</td>\n",
       "    </tr>\n",
       "    <tr>\n",
       "      <th>1</th>\n",
       "      <td>2016-03-24 10:58:45</td>\n",
       "      <td>18300</td>\n",
       "      <td>coupe</td>\n",
       "      <td>2011</td>\n",
       "      <td>manual</td>\n",
       "      <td>190</td>\n",
       "      <td>NaN</td>\n",
       "      <td>125000</td>\n",
       "      <td>5</td>\n",
       "      <td>gasoline</td>\n",
       "      <td>audi</td>\n",
       "      <td>yes</td>\n",
       "      <td>2016-03-24 00:00:00</td>\n",
       "      <td>0</td>\n",
       "      <td>66954</td>\n",
       "      <td>2016-04-07 01:46:50</td>\n",
       "    </tr>\n",
       "    <tr>\n",
       "      <th>2</th>\n",
       "      <td>2016-03-14 12:52:21</td>\n",
       "      <td>9800</td>\n",
       "      <td>suv</td>\n",
       "      <td>2004</td>\n",
       "      <td>auto</td>\n",
       "      <td>163</td>\n",
       "      <td>grand</td>\n",
       "      <td>125000</td>\n",
       "      <td>8</td>\n",
       "      <td>gasoline</td>\n",
       "      <td>jeep</td>\n",
       "      <td>NaN</td>\n",
       "      <td>2016-03-14 00:00:00</td>\n",
       "      <td>0</td>\n",
       "      <td>90480</td>\n",
       "      <td>2016-04-05 12:47:46</td>\n",
       "    </tr>\n",
       "    <tr>\n",
       "      <th>3</th>\n",
       "      <td>2016-03-17 16:54:04</td>\n",
       "      <td>1500</td>\n",
       "      <td>small</td>\n",
       "      <td>2001</td>\n",
       "      <td>manual</td>\n",
       "      <td>75</td>\n",
       "      <td>golf</td>\n",
       "      <td>150000</td>\n",
       "      <td>6</td>\n",
       "      <td>petrol</td>\n",
       "      <td>volkswagen</td>\n",
       "      <td>no</td>\n",
       "      <td>2016-03-17 00:00:00</td>\n",
       "      <td>0</td>\n",
       "      <td>91074</td>\n",
       "      <td>2016-03-17 17:40:17</td>\n",
       "    </tr>\n",
       "    <tr>\n",
       "      <th>4</th>\n",
       "      <td>2016-03-31 17:25:20</td>\n",
       "      <td>3600</td>\n",
       "      <td>small</td>\n",
       "      <td>2008</td>\n",
       "      <td>manual</td>\n",
       "      <td>69</td>\n",
       "      <td>fabia</td>\n",
       "      <td>90000</td>\n",
       "      <td>7</td>\n",
       "      <td>gasoline</td>\n",
       "      <td>skoda</td>\n",
       "      <td>no</td>\n",
       "      <td>2016-03-31 00:00:00</td>\n",
       "      <td>0</td>\n",
       "      <td>60437</td>\n",
       "      <td>2016-04-06 10:17:21</td>\n",
       "    </tr>\n",
       "    <tr>\n",
       "      <th>5</th>\n",
       "      <td>2016-04-04 17:36:23</td>\n",
       "      <td>650</td>\n",
       "      <td>sedan</td>\n",
       "      <td>1995</td>\n",
       "      <td>manual</td>\n",
       "      <td>102</td>\n",
       "      <td>3er</td>\n",
       "      <td>150000</td>\n",
       "      <td>10</td>\n",
       "      <td>petrol</td>\n",
       "      <td>bmw</td>\n",
       "      <td>yes</td>\n",
       "      <td>2016-04-04 00:00:00</td>\n",
       "      <td>0</td>\n",
       "      <td>33775</td>\n",
       "      <td>2016-04-06 19:17:07</td>\n",
       "    </tr>\n",
       "    <tr>\n",
       "      <th>6</th>\n",
       "      <td>2016-04-01 20:48:51</td>\n",
       "      <td>2200</td>\n",
       "      <td>convertible</td>\n",
       "      <td>2004</td>\n",
       "      <td>manual</td>\n",
       "      <td>109</td>\n",
       "      <td>2_reihe</td>\n",
       "      <td>150000</td>\n",
       "      <td>8</td>\n",
       "      <td>petrol</td>\n",
       "      <td>peugeot</td>\n",
       "      <td>no</td>\n",
       "      <td>2016-04-01 00:00:00</td>\n",
       "      <td>0</td>\n",
       "      <td>67112</td>\n",
       "      <td>2016-04-05 18:18:39</td>\n",
       "    </tr>\n",
       "    <tr>\n",
       "      <th>7</th>\n",
       "      <td>2016-03-21 18:54:38</td>\n",
       "      <td>0</td>\n",
       "      <td>sedan</td>\n",
       "      <td>1980</td>\n",
       "      <td>manual</td>\n",
       "      <td>50</td>\n",
       "      <td>other</td>\n",
       "      <td>40000</td>\n",
       "      <td>7</td>\n",
       "      <td>petrol</td>\n",
       "      <td>volkswagen</td>\n",
       "      <td>no</td>\n",
       "      <td>2016-03-21 00:00:00</td>\n",
       "      <td>0</td>\n",
       "      <td>19348</td>\n",
       "      <td>2016-03-25 16:47:58</td>\n",
       "    </tr>\n",
       "    <tr>\n",
       "      <th>8</th>\n",
       "      <td>2016-04-04 23:42:13</td>\n",
       "      <td>14500</td>\n",
       "      <td>bus</td>\n",
       "      <td>2014</td>\n",
       "      <td>manual</td>\n",
       "      <td>125</td>\n",
       "      <td>c_max</td>\n",
       "      <td>30000</td>\n",
       "      <td>8</td>\n",
       "      <td>petrol</td>\n",
       "      <td>ford</td>\n",
       "      <td>NaN</td>\n",
       "      <td>2016-04-04 00:00:00</td>\n",
       "      <td>0</td>\n",
       "      <td>94505</td>\n",
       "      <td>2016-04-04 23:42:13</td>\n",
       "    </tr>\n",
       "    <tr>\n",
       "      <th>9</th>\n",
       "      <td>2016-03-17 10:53:50</td>\n",
       "      <td>999</td>\n",
       "      <td>small</td>\n",
       "      <td>1998</td>\n",
       "      <td>manual</td>\n",
       "      <td>101</td>\n",
       "      <td>golf</td>\n",
       "      <td>150000</td>\n",
       "      <td>0</td>\n",
       "      <td>NaN</td>\n",
       "      <td>volkswagen</td>\n",
       "      <td>NaN</td>\n",
       "      <td>2016-03-17 00:00:00</td>\n",
       "      <td>0</td>\n",
       "      <td>27472</td>\n",
       "      <td>2016-03-31 17:17:06</td>\n",
       "    </tr>\n",
       "  </tbody>\n",
       "</table>\n",
       "</div>"
      ],
      "text/plain": [
       "           DateCrawled  Price  VehicleType  RegistrationYear Gearbox  Power  \\\n",
       "0  2016-03-24 11:52:17    480          NaN              1993  manual      0   \n",
       "1  2016-03-24 10:58:45  18300        coupe              2011  manual    190   \n",
       "2  2016-03-14 12:52:21   9800          suv              2004    auto    163   \n",
       "3  2016-03-17 16:54:04   1500        small              2001  manual     75   \n",
       "4  2016-03-31 17:25:20   3600        small              2008  manual     69   \n",
       "5  2016-04-04 17:36:23    650        sedan              1995  manual    102   \n",
       "6  2016-04-01 20:48:51   2200  convertible              2004  manual    109   \n",
       "7  2016-03-21 18:54:38      0        sedan              1980  manual     50   \n",
       "8  2016-04-04 23:42:13  14500          bus              2014  manual    125   \n",
       "9  2016-03-17 10:53:50    999        small              1998  manual    101   \n",
       "\n",
       "     Model  Kilometer  RegistrationMonth  FuelType       Brand Repaired  \\\n",
       "0     golf     150000                  0    petrol  volkswagen      NaN   \n",
       "1      NaN     125000                  5  gasoline        audi      yes   \n",
       "2    grand     125000                  8  gasoline        jeep      NaN   \n",
       "3     golf     150000                  6    petrol  volkswagen       no   \n",
       "4    fabia      90000                  7  gasoline       skoda       no   \n",
       "5      3er     150000                 10    petrol         bmw      yes   \n",
       "6  2_reihe     150000                  8    petrol     peugeot       no   \n",
       "7    other      40000                  7    petrol  volkswagen       no   \n",
       "8    c_max      30000                  8    petrol        ford      NaN   \n",
       "9     golf     150000                  0       NaN  volkswagen      NaN   \n",
       "\n",
       "           DateCreated  NumberOfPictures  PostalCode             LastSeen  \n",
       "0  2016-03-24 00:00:00                 0       70435  2016-04-07 03:16:57  \n",
       "1  2016-03-24 00:00:00                 0       66954  2016-04-07 01:46:50  \n",
       "2  2016-03-14 00:00:00                 0       90480  2016-04-05 12:47:46  \n",
       "3  2016-03-17 00:00:00                 0       91074  2016-03-17 17:40:17  \n",
       "4  2016-03-31 00:00:00                 0       60437  2016-04-06 10:17:21  \n",
       "5  2016-04-04 00:00:00                 0       33775  2016-04-06 19:17:07  \n",
       "6  2016-04-01 00:00:00                 0       67112  2016-04-05 18:18:39  \n",
       "7  2016-03-21 00:00:00                 0       19348  2016-03-25 16:47:58  \n",
       "8  2016-04-04 00:00:00                 0       94505  2016-04-04 23:42:13  \n",
       "9  2016-03-17 00:00:00                 0       27472  2016-03-31 17:17:06  "
      ]
     },
     "execution_count": 2,
     "metadata": {},
     "output_type": "execute_result"
    }
   ],
   "source": [
    "df = pd.read_csv('/datasets/autos.csv')\n",
    "df.head(10)"
   ]
  },
  {
   "cell_type": "markdown",
   "metadata": {},
   "source": [
    "С помощью метода info() изучим структуры таблиц: типы данных, количество строк, столбцов, пропущенных данных"
   ]
  },
  {
   "cell_type": "code",
   "execution_count": 3,
   "metadata": {},
   "outputs": [
    {
     "name": "stdout",
     "output_type": "stream",
     "text": [
      "<class 'pandas.core.frame.DataFrame'>\n",
      "RangeIndex: 354369 entries, 0 to 354368\n",
      "Data columns (total 16 columns):\n",
      " #   Column             Non-Null Count   Dtype \n",
      "---  ------             --------------   ----- \n",
      " 0   DateCrawled        354369 non-null  object\n",
      " 1   Price              354369 non-null  int64 \n",
      " 2   VehicleType        316879 non-null  object\n",
      " 3   RegistrationYear   354369 non-null  int64 \n",
      " 4   Gearbox            334536 non-null  object\n",
      " 5   Power              354369 non-null  int64 \n",
      " 6   Model              334664 non-null  object\n",
      " 7   Kilometer          354369 non-null  int64 \n",
      " 8   RegistrationMonth  354369 non-null  int64 \n",
      " 9   FuelType           321474 non-null  object\n",
      " 10  Brand              354369 non-null  object\n",
      " 11  Repaired           283215 non-null  object\n",
      " 12  DateCreated        354369 non-null  object\n",
      " 13  NumberOfPictures   354369 non-null  int64 \n",
      " 14  PostalCode         354369 non-null  int64 \n",
      " 15  LastSeen           354369 non-null  object\n",
      "dtypes: int64(7), object(9)\n",
      "memory usage: 43.3+ MB\n"
     ]
    }
   ],
   "source": [
    "df.info()"
   ]
  },
  {
   "cell_type": "code",
   "execution_count": 4,
   "metadata": {},
   "outputs": [
    {
     "data": {
      "text/html": [
       "<div>\n",
       "<style scoped>\n",
       "    .dataframe tbody tr th:only-of-type {\n",
       "        vertical-align: middle;\n",
       "    }\n",
       "\n",
       "    .dataframe tbody tr th {\n",
       "        vertical-align: top;\n",
       "    }\n",
       "\n",
       "    .dataframe thead th {\n",
       "        text-align: right;\n",
       "    }\n",
       "</style>\n",
       "<table border=\"1\" class=\"dataframe\">\n",
       "  <thead>\n",
       "    <tr style=\"text-align: right;\">\n",
       "      <th></th>\n",
       "      <th>Price</th>\n",
       "      <th>RegistrationYear</th>\n",
       "      <th>Power</th>\n",
       "      <th>Kilometer</th>\n",
       "      <th>RegistrationMonth</th>\n",
       "      <th>NumberOfPictures</th>\n",
       "      <th>PostalCode</th>\n",
       "    </tr>\n",
       "  </thead>\n",
       "  <tbody>\n",
       "    <tr>\n",
       "      <th>count</th>\n",
       "      <td>354369.000000</td>\n",
       "      <td>354369.000000</td>\n",
       "      <td>354369.000000</td>\n",
       "      <td>354369.000000</td>\n",
       "      <td>354369.000000</td>\n",
       "      <td>354369.0</td>\n",
       "      <td>354369.000000</td>\n",
       "    </tr>\n",
       "    <tr>\n",
       "      <th>mean</th>\n",
       "      <td>4416.656776</td>\n",
       "      <td>2004.234448</td>\n",
       "      <td>110.094337</td>\n",
       "      <td>128211.172535</td>\n",
       "      <td>5.714645</td>\n",
       "      <td>0.0</td>\n",
       "      <td>50508.689087</td>\n",
       "    </tr>\n",
       "    <tr>\n",
       "      <th>std</th>\n",
       "      <td>4514.158514</td>\n",
       "      <td>90.227958</td>\n",
       "      <td>189.850405</td>\n",
       "      <td>37905.341530</td>\n",
       "      <td>3.726421</td>\n",
       "      <td>0.0</td>\n",
       "      <td>25783.096248</td>\n",
       "    </tr>\n",
       "    <tr>\n",
       "      <th>min</th>\n",
       "      <td>0.000000</td>\n",
       "      <td>1000.000000</td>\n",
       "      <td>0.000000</td>\n",
       "      <td>5000.000000</td>\n",
       "      <td>0.000000</td>\n",
       "      <td>0.0</td>\n",
       "      <td>1067.000000</td>\n",
       "    </tr>\n",
       "    <tr>\n",
       "      <th>25%</th>\n",
       "      <td>1050.000000</td>\n",
       "      <td>1999.000000</td>\n",
       "      <td>69.000000</td>\n",
       "      <td>125000.000000</td>\n",
       "      <td>3.000000</td>\n",
       "      <td>0.0</td>\n",
       "      <td>30165.000000</td>\n",
       "    </tr>\n",
       "    <tr>\n",
       "      <th>50%</th>\n",
       "      <td>2700.000000</td>\n",
       "      <td>2003.000000</td>\n",
       "      <td>105.000000</td>\n",
       "      <td>150000.000000</td>\n",
       "      <td>6.000000</td>\n",
       "      <td>0.0</td>\n",
       "      <td>49413.000000</td>\n",
       "    </tr>\n",
       "    <tr>\n",
       "      <th>75%</th>\n",
       "      <td>6400.000000</td>\n",
       "      <td>2008.000000</td>\n",
       "      <td>143.000000</td>\n",
       "      <td>150000.000000</td>\n",
       "      <td>9.000000</td>\n",
       "      <td>0.0</td>\n",
       "      <td>71083.000000</td>\n",
       "    </tr>\n",
       "    <tr>\n",
       "      <th>max</th>\n",
       "      <td>20000.000000</td>\n",
       "      <td>9999.000000</td>\n",
       "      <td>20000.000000</td>\n",
       "      <td>150000.000000</td>\n",
       "      <td>12.000000</td>\n",
       "      <td>0.0</td>\n",
       "      <td>99998.000000</td>\n",
       "    </tr>\n",
       "  </tbody>\n",
       "</table>\n",
       "</div>"
      ],
      "text/plain": [
       "               Price  RegistrationYear          Power      Kilometer  \\\n",
       "count  354369.000000     354369.000000  354369.000000  354369.000000   \n",
       "mean     4416.656776       2004.234448     110.094337  128211.172535   \n",
       "std      4514.158514         90.227958     189.850405   37905.341530   \n",
       "min         0.000000       1000.000000       0.000000    5000.000000   \n",
       "25%      1050.000000       1999.000000      69.000000  125000.000000   \n",
       "50%      2700.000000       2003.000000     105.000000  150000.000000   \n",
       "75%      6400.000000       2008.000000     143.000000  150000.000000   \n",
       "max     20000.000000       9999.000000   20000.000000  150000.000000   \n",
       "\n",
       "       RegistrationMonth  NumberOfPictures     PostalCode  \n",
       "count      354369.000000          354369.0  354369.000000  \n",
       "mean            5.714645               0.0   50508.689087  \n",
       "std             3.726421               0.0   25783.096248  \n",
       "min             0.000000               0.0    1067.000000  \n",
       "25%             3.000000               0.0   30165.000000  \n",
       "50%             6.000000               0.0   49413.000000  \n",
       "75%             9.000000               0.0   71083.000000  \n",
       "max            12.000000               0.0   99998.000000  "
      ]
     },
     "execution_count": 4,
     "metadata": {},
     "output_type": "execute_result"
    }
   ],
   "source": [
    "df.describe()"
   ]
  },
  {
   "cell_type": "markdown",
   "metadata": {},
   "source": [
    "### Предобработка данных"
   ]
  },
  {
   "cell_type": "markdown",
   "metadata": {},
   "source": [
    "Есть пропуски в нескольких категориальных признаках ('VehicleType', 'Gearbox', 'Model', 'FuelType', 'Repaired'). Заполняю их значением 'unknown' и 'other'. В тех случаях если еть значение 'other', заменим пропуски на 'other'"
   ]
  },
  {
   "cell_type": "code",
   "execution_count": 5,
   "metadata": {},
   "outputs": [
    {
     "name": "stdout",
     "output_type": "stream",
     "text": [
      "Уникальные значения  VehicleType [nan 'coupe' 'suv' 'small' 'sedan' 'convertible' 'bus' 'wagon' 'other']\n",
      "Уникальные значения  Gearbox ['manual' 'auto' nan]\n",
      "Уникальные значения  Model ['golf' nan 'grand' 'fabia' '3er' '2_reihe' 'other' 'c_max' '3_reihe'\n",
      " 'passat' 'navara' 'ka' 'polo' 'twingo' 'a_klasse' 'scirocco' '5er'\n",
      " 'meriva' 'arosa' 'c4' 'civic' 'transporter' 'punto' 'e_klasse' 'clio'\n",
      " 'kadett' 'kangoo' 'corsa' 'one' 'fortwo' '1er' 'b_klasse' 'signum'\n",
      " 'astra' 'a8' 'jetta' 'fiesta' 'c_klasse' 'micra' 'vito' 'sprinter' '156'\n",
      " 'escort' 'forester' 'xc_reihe' 'scenic' 'a4' 'a1' 'insignia' 'combo'\n",
      " 'focus' 'tt' 'a6' 'jazz' 'omega' 'slk' '7er' '80' '147' '100' 'z_reihe'\n",
      " 'sportage' 'sorento' 'v40' 'ibiza' 'mustang' 'eos' 'touran' 'getz' 'a3'\n",
      " 'almera' 'megane' 'lupo' 'r19' 'zafira' 'caddy' 'mondeo' 'cordoba' 'colt'\n",
      " 'impreza' 'vectra' 'berlingo' 'tiguan' 'i_reihe' 'espace' 'sharan'\n",
      " '6_reihe' 'panda' 'up' 'seicento' 'ceed' '5_reihe' 'yeti' 'octavia' 'mii'\n",
      " 'rx_reihe' '6er' 'modus' 'fox' 'matiz' 'beetle' 'c1' 'rio' 'touareg'\n",
      " 'logan' 'spider' 'cuore' 's_max' 'a2' 'galaxy' 'c3' 'viano' 's_klasse'\n",
      " '1_reihe' 'avensis' 'roomster' 'sl' 'kaefer' 'santa' 'cooper' 'leon'\n",
      " '4_reihe' 'a5' '500' 'laguna' 'ptcruiser' 'clk' 'primera' 'x_reihe'\n",
      " 'exeo' '159' 'transit' 'juke' 'qashqai' 'carisma' 'accord' 'corolla'\n",
      " 'lanos' 'phaeton' 'verso' 'swift' 'rav' 'picanto' 'boxster' 'kalos'\n",
      " 'superb' 'stilo' 'alhambra' 'mx_reihe' 'roadster' 'ypsilon' 'cayenne'\n",
      " 'galant' 'justy' '90' 'sirion' 'crossfire' 'agila' 'duster' 'cr_reihe'\n",
      " 'v50' 'c_reihe' 'v_klasse' 'm_klasse' 'yaris' 'c5' 'aygo' 'cc' 'carnival'\n",
      " 'fusion' '911' 'bora' 'forfour' 'm_reihe' 'cl' 'tigra' '300c' 'spark'\n",
      " 'v70' 'kuga' 'x_type' 'ducato' 's_type' 'x_trail' 'toledo' 'altea'\n",
      " 'voyager' 'calibra' 'bravo' 'antara' 'tucson' 'citigo' 'jimny' 'wrangler'\n",
      " 'lybra' 'q7' 'lancer' 'captiva' 'c2' 'discovery' 'freelander' 'sandero'\n",
      " 'note' '900' 'cherokee' 'clubman' 'samara' 'defender' '601' 'cx_reihe'\n",
      " 'legacy' 'pajero' 'auris' 'niva' 's60' 'nubira' 'vivaro' 'g_klasse'\n",
      " 'lodgy' '850' 'range_rover' 'q3' 'serie_2' 'glk' 'charade' 'croma'\n",
      " 'outlander' 'doblo' 'musa' 'move' '9000' 'v60' '145' 'aveo' '200' 'b_max'\n",
      " 'range_rover_sport' 'terios' 'rangerover' 'q5' 'range_rover_evoque'\n",
      " 'materia' 'delta' 'gl' 'kalina' 'amarok' 'elefantino' 'i3' 'kappa'\n",
      " 'serie_3' 'serie_1']\n",
      "Уникальные значения  FuelType ['petrol' 'gasoline' nan 'lpg' 'other' 'hybrid' 'cng' 'electric']\n",
      "Уникальные значения  Repaired [nan 'yes' 'no']\n"
     ]
    }
   ],
   "source": [
    "print('Уникальные значения  VehicleType', df['VehicleType'].unique())\n",
    "print('Уникальные значения  Gearbox', df['Gearbox'].unique())\n",
    "print('Уникальные значения  Model', df['Model'].unique())\n",
    "print('Уникальные значения  FuelType', df['FuelType'].unique())\n",
    "print('Уникальные значения  Repaired', df['Repaired'].unique())"
   ]
  },
  {
   "cell_type": "code",
   "execution_count": 6,
   "metadata": {},
   "outputs": [],
   "source": [
    "df['VehicleType'] = df['VehicleType'].fillna('other')\n",
    "df['Gearbox'] = df['Gearbox'].fillna('unknown')\n",
    "df['Model'] = df['Model'].fillna('other')\n",
    "df['FuelType'] = df['FuelType'].fillna('other')\n",
    "df['Repaired'] = df['Repaired'].fillna('unknown')"
   ]
  },
  {
   "cell_type": "markdown",
   "metadata": {},
   "source": [
    "Проверим:"
   ]
  },
  {
   "cell_type": "code",
   "execution_count": 7,
   "metadata": {},
   "outputs": [
    {
     "name": "stdout",
     "output_type": "stream",
     "text": [
      "<class 'pandas.core.frame.DataFrame'>\n",
      "RangeIndex: 354369 entries, 0 to 354368\n",
      "Data columns (total 16 columns):\n",
      " #   Column             Non-Null Count   Dtype \n",
      "---  ------             --------------   ----- \n",
      " 0   DateCrawled        354369 non-null  object\n",
      " 1   Price              354369 non-null  int64 \n",
      " 2   VehicleType        354369 non-null  object\n",
      " 3   RegistrationYear   354369 non-null  int64 \n",
      " 4   Gearbox            354369 non-null  object\n",
      " 5   Power              354369 non-null  int64 \n",
      " 6   Model              354369 non-null  object\n",
      " 7   Kilometer          354369 non-null  int64 \n",
      " 8   RegistrationMonth  354369 non-null  int64 \n",
      " 9   FuelType           354369 non-null  object\n",
      " 10  Brand              354369 non-null  object\n",
      " 11  Repaired           354369 non-null  object\n",
      " 12  DateCreated        354369 non-null  object\n",
      " 13  NumberOfPictures   354369 non-null  int64 \n",
      " 14  PostalCode         354369 non-null  int64 \n",
      " 15  LastSeen           354369 non-null  object\n",
      "dtypes: int64(7), object(9)\n",
      "memory usage: 43.3+ MB\n"
     ]
    }
   ],
   "source": [
    "df.info()"
   ]
  },
  {
   "cell_type": "markdown",
   "metadata": {},
   "source": [
    "Пропусков больше нет."
   ]
  },
  {
   "cell_type": "markdown",
   "metadata": {},
   "source": [
    "**Удалим из датасета ненужные признаки.**"
   ]
  },
  {
   "cell_type": "markdown",
   "metadata": {},
   "source": [
    "- Признаки NumberOfPictures, PostalCode не несут полезной информации, удалим их.\n",
    "- Также DateCrawled повторяет дату в признаке DateCreated.\n",
    "- RegistrationMonth по смыслу вряд ли влияет на цену автомобиля."
   ]
  },
  {
   "cell_type": "code",
   "execution_count": 8,
   "metadata": {},
   "outputs": [
    {
     "data": {
      "text/html": [
       "<div>\n",
       "<style scoped>\n",
       "    .dataframe tbody tr th:only-of-type {\n",
       "        vertical-align: middle;\n",
       "    }\n",
       "\n",
       "    .dataframe tbody tr th {\n",
       "        vertical-align: top;\n",
       "    }\n",
       "\n",
       "    .dataframe thead th {\n",
       "        text-align: right;\n",
       "    }\n",
       "</style>\n",
       "<table border=\"1\" class=\"dataframe\">\n",
       "  <thead>\n",
       "    <tr style=\"text-align: right;\">\n",
       "      <th></th>\n",
       "      <th>Price</th>\n",
       "      <th>VehicleType</th>\n",
       "      <th>RegistrationYear</th>\n",
       "      <th>Gearbox</th>\n",
       "      <th>Power</th>\n",
       "      <th>Model</th>\n",
       "      <th>Kilometer</th>\n",
       "      <th>FuelType</th>\n",
       "      <th>Brand</th>\n",
       "      <th>Repaired</th>\n",
       "    </tr>\n",
       "  </thead>\n",
       "  <tbody>\n",
       "    <tr>\n",
       "      <th>0</th>\n",
       "      <td>480</td>\n",
       "      <td>other</td>\n",
       "      <td>1993</td>\n",
       "      <td>manual</td>\n",
       "      <td>0</td>\n",
       "      <td>golf</td>\n",
       "      <td>150000</td>\n",
       "      <td>petrol</td>\n",
       "      <td>volkswagen</td>\n",
       "      <td>unknown</td>\n",
       "    </tr>\n",
       "    <tr>\n",
       "      <th>1</th>\n",
       "      <td>18300</td>\n",
       "      <td>coupe</td>\n",
       "      <td>2011</td>\n",
       "      <td>manual</td>\n",
       "      <td>190</td>\n",
       "      <td>other</td>\n",
       "      <td>125000</td>\n",
       "      <td>gasoline</td>\n",
       "      <td>audi</td>\n",
       "      <td>yes</td>\n",
       "    </tr>\n",
       "    <tr>\n",
       "      <th>2</th>\n",
       "      <td>9800</td>\n",
       "      <td>suv</td>\n",
       "      <td>2004</td>\n",
       "      <td>auto</td>\n",
       "      <td>163</td>\n",
       "      <td>grand</td>\n",
       "      <td>125000</td>\n",
       "      <td>gasoline</td>\n",
       "      <td>jeep</td>\n",
       "      <td>unknown</td>\n",
       "    </tr>\n",
       "    <tr>\n",
       "      <th>3</th>\n",
       "      <td>1500</td>\n",
       "      <td>small</td>\n",
       "      <td>2001</td>\n",
       "      <td>manual</td>\n",
       "      <td>75</td>\n",
       "      <td>golf</td>\n",
       "      <td>150000</td>\n",
       "      <td>petrol</td>\n",
       "      <td>volkswagen</td>\n",
       "      <td>no</td>\n",
       "    </tr>\n",
       "    <tr>\n",
       "      <th>4</th>\n",
       "      <td>3600</td>\n",
       "      <td>small</td>\n",
       "      <td>2008</td>\n",
       "      <td>manual</td>\n",
       "      <td>69</td>\n",
       "      <td>fabia</td>\n",
       "      <td>90000</td>\n",
       "      <td>gasoline</td>\n",
       "      <td>skoda</td>\n",
       "      <td>no</td>\n",
       "    </tr>\n",
       "    <tr>\n",
       "      <th>5</th>\n",
       "      <td>650</td>\n",
       "      <td>sedan</td>\n",
       "      <td>1995</td>\n",
       "      <td>manual</td>\n",
       "      <td>102</td>\n",
       "      <td>3er</td>\n",
       "      <td>150000</td>\n",
       "      <td>petrol</td>\n",
       "      <td>bmw</td>\n",
       "      <td>yes</td>\n",
       "    </tr>\n",
       "    <tr>\n",
       "      <th>6</th>\n",
       "      <td>2200</td>\n",
       "      <td>convertible</td>\n",
       "      <td>2004</td>\n",
       "      <td>manual</td>\n",
       "      <td>109</td>\n",
       "      <td>2_reihe</td>\n",
       "      <td>150000</td>\n",
       "      <td>petrol</td>\n",
       "      <td>peugeot</td>\n",
       "      <td>no</td>\n",
       "    </tr>\n",
       "    <tr>\n",
       "      <th>7</th>\n",
       "      <td>0</td>\n",
       "      <td>sedan</td>\n",
       "      <td>1980</td>\n",
       "      <td>manual</td>\n",
       "      <td>50</td>\n",
       "      <td>other</td>\n",
       "      <td>40000</td>\n",
       "      <td>petrol</td>\n",
       "      <td>volkswagen</td>\n",
       "      <td>no</td>\n",
       "    </tr>\n",
       "    <tr>\n",
       "      <th>8</th>\n",
       "      <td>14500</td>\n",
       "      <td>bus</td>\n",
       "      <td>2014</td>\n",
       "      <td>manual</td>\n",
       "      <td>125</td>\n",
       "      <td>c_max</td>\n",
       "      <td>30000</td>\n",
       "      <td>petrol</td>\n",
       "      <td>ford</td>\n",
       "      <td>unknown</td>\n",
       "    </tr>\n",
       "    <tr>\n",
       "      <th>9</th>\n",
       "      <td>999</td>\n",
       "      <td>small</td>\n",
       "      <td>1998</td>\n",
       "      <td>manual</td>\n",
       "      <td>101</td>\n",
       "      <td>golf</td>\n",
       "      <td>150000</td>\n",
       "      <td>other</td>\n",
       "      <td>volkswagen</td>\n",
       "      <td>unknown</td>\n",
       "    </tr>\n",
       "  </tbody>\n",
       "</table>\n",
       "</div>"
      ],
      "text/plain": [
       "   Price  VehicleType  RegistrationYear Gearbox  Power    Model  Kilometer  \\\n",
       "0    480        other              1993  manual      0     golf     150000   \n",
       "1  18300        coupe              2011  manual    190    other     125000   \n",
       "2   9800          suv              2004    auto    163    grand     125000   \n",
       "3   1500        small              2001  manual     75     golf     150000   \n",
       "4   3600        small              2008  manual     69    fabia      90000   \n",
       "5    650        sedan              1995  manual    102      3er     150000   \n",
       "6   2200  convertible              2004  manual    109  2_reihe     150000   \n",
       "7      0        sedan              1980  manual     50    other      40000   \n",
       "8  14500          bus              2014  manual    125    c_max      30000   \n",
       "9    999        small              1998  manual    101     golf     150000   \n",
       "\n",
       "   FuelType       Brand Repaired  \n",
       "0    petrol  volkswagen  unknown  \n",
       "1  gasoline        audi      yes  \n",
       "2  gasoline        jeep  unknown  \n",
       "3    petrol  volkswagen       no  \n",
       "4  gasoline       skoda       no  \n",
       "5    petrol         bmw      yes  \n",
       "6    petrol     peugeot       no  \n",
       "7    petrol  volkswagen       no  \n",
       "8    petrol        ford  unknown  \n",
       "9     other  volkswagen  unknown  "
      ]
     },
     "execution_count": 8,
     "metadata": {},
     "output_type": "execute_result"
    }
   ],
   "source": [
    "df = df.drop(['DateCrawled', 'RegistrationMonth', 'DateCreated', 'NumberOfPictures', 'PostalCode', 'LastSeen'], axis=1)\n",
    "df.head(10)"
   ]
  },
  {
   "cell_type": "markdown",
   "metadata": {},
   "source": [
    "**Посмотрим есть ли дубликаты:**"
   ]
  },
  {
   "cell_type": "code",
   "execution_count": 9,
   "metadata": {},
   "outputs": [
    {
     "name": "stdout",
     "output_type": "stream",
     "text": [
      "Количество дубликатов: 45191\n"
     ]
    }
   ],
   "source": [
    "print('Количество дубликатов:', df.duplicated().sum())"
   ]
  },
  {
   "cell_type": "code",
   "execution_count": 10,
   "metadata": {},
   "outputs": [
    {
     "data": {
      "text/html": [
       "<div>\n",
       "<style scoped>\n",
       "    .dataframe tbody tr th:only-of-type {\n",
       "        vertical-align: middle;\n",
       "    }\n",
       "\n",
       "    .dataframe tbody tr th {\n",
       "        vertical-align: top;\n",
       "    }\n",
       "\n",
       "    .dataframe thead th {\n",
       "        text-align: right;\n",
       "    }\n",
       "</style>\n",
       "<table border=\"1\" class=\"dataframe\">\n",
       "  <thead>\n",
       "    <tr style=\"text-align: right;\">\n",
       "      <th></th>\n",
       "      <th>Price</th>\n",
       "      <th>VehicleType</th>\n",
       "      <th>RegistrationYear</th>\n",
       "      <th>Gearbox</th>\n",
       "      <th>Power</th>\n",
       "      <th>Model</th>\n",
       "      <th>Kilometer</th>\n",
       "      <th>FuelType</th>\n",
       "      <th>Brand</th>\n",
       "      <th>Repaired</th>\n",
       "    </tr>\n",
       "  </thead>\n",
       "  <tbody>\n",
       "    <tr>\n",
       "      <th>1117</th>\n",
       "      <td>950</td>\n",
       "      <td>small</td>\n",
       "      <td>1999</td>\n",
       "      <td>manual</td>\n",
       "      <td>60</td>\n",
       "      <td>polo</td>\n",
       "      <td>150000</td>\n",
       "      <td>petrol</td>\n",
       "      <td>volkswagen</td>\n",
       "      <td>no</td>\n",
       "    </tr>\n",
       "    <tr>\n",
       "      <th>1396</th>\n",
       "      <td>0</td>\n",
       "      <td>other</td>\n",
       "      <td>2000</td>\n",
       "      <td>unknown</td>\n",
       "      <td>0</td>\n",
       "      <td>other</td>\n",
       "      <td>150000</td>\n",
       "      <td>other</td>\n",
       "      <td>volvo</td>\n",
       "      <td>unknown</td>\n",
       "    </tr>\n",
       "    <tr>\n",
       "      <th>2169</th>\n",
       "      <td>0</td>\n",
       "      <td>coupe</td>\n",
       "      <td>2002</td>\n",
       "      <td>manual</td>\n",
       "      <td>129</td>\n",
       "      <td>c_klasse</td>\n",
       "      <td>150000</td>\n",
       "      <td>petrol</td>\n",
       "      <td>mercedes_benz</td>\n",
       "      <td>no</td>\n",
       "    </tr>\n",
       "    <tr>\n",
       "      <th>2833</th>\n",
       "      <td>1499</td>\n",
       "      <td>small</td>\n",
       "      <td>2001</td>\n",
       "      <td>manual</td>\n",
       "      <td>58</td>\n",
       "      <td>corsa</td>\n",
       "      <td>150000</td>\n",
       "      <td>petrol</td>\n",
       "      <td>opel</td>\n",
       "      <td>no</td>\n",
       "    </tr>\n",
       "    <tr>\n",
       "      <th>3025</th>\n",
       "      <td>2800</td>\n",
       "      <td>wagon</td>\n",
       "      <td>2005</td>\n",
       "      <td>unknown</td>\n",
       "      <td>0</td>\n",
       "      <td>touran</td>\n",
       "      <td>150000</td>\n",
       "      <td>gasoline</td>\n",
       "      <td>volkswagen</td>\n",
       "      <td>no</td>\n",
       "    </tr>\n",
       "    <tr>\n",
       "      <th>...</th>\n",
       "      <td>...</td>\n",
       "      <td>...</td>\n",
       "      <td>...</td>\n",
       "      <td>...</td>\n",
       "      <td>...</td>\n",
       "      <td>...</td>\n",
       "      <td>...</td>\n",
       "      <td>...</td>\n",
       "      <td>...</td>\n",
       "      <td>...</td>\n",
       "    </tr>\n",
       "    <tr>\n",
       "      <th>354352</th>\n",
       "      <td>6500</td>\n",
       "      <td>sedan</td>\n",
       "      <td>2003</td>\n",
       "      <td>auto</td>\n",
       "      <td>145</td>\n",
       "      <td>e_klasse</td>\n",
       "      <td>150000</td>\n",
       "      <td>gasoline</td>\n",
       "      <td>mercedes_benz</td>\n",
       "      <td>no</td>\n",
       "    </tr>\n",
       "    <tr>\n",
       "      <th>354355</th>\n",
       "      <td>4400</td>\n",
       "      <td>sedan</td>\n",
       "      <td>2008</td>\n",
       "      <td>manual</td>\n",
       "      <td>105</td>\n",
       "      <td>leon</td>\n",
       "      <td>150000</td>\n",
       "      <td>gasoline</td>\n",
       "      <td>seat</td>\n",
       "      <td>no</td>\n",
       "    </tr>\n",
       "    <tr>\n",
       "      <th>354358</th>\n",
       "      <td>1490</td>\n",
       "      <td>small</td>\n",
       "      <td>1998</td>\n",
       "      <td>manual</td>\n",
       "      <td>50</td>\n",
       "      <td>lupo</td>\n",
       "      <td>150000</td>\n",
       "      <td>petrol</td>\n",
       "      <td>volkswagen</td>\n",
       "      <td>no</td>\n",
       "    </tr>\n",
       "    <tr>\n",
       "      <th>354359</th>\n",
       "      <td>7900</td>\n",
       "      <td>sedan</td>\n",
       "      <td>2010</td>\n",
       "      <td>manual</td>\n",
       "      <td>140</td>\n",
       "      <td>golf</td>\n",
       "      <td>150000</td>\n",
       "      <td>gasoline</td>\n",
       "      <td>volkswagen</td>\n",
       "      <td>no</td>\n",
       "    </tr>\n",
       "    <tr>\n",
       "      <th>354363</th>\n",
       "      <td>1150</td>\n",
       "      <td>bus</td>\n",
       "      <td>2000</td>\n",
       "      <td>manual</td>\n",
       "      <td>0</td>\n",
       "      <td>zafira</td>\n",
       "      <td>150000</td>\n",
       "      <td>petrol</td>\n",
       "      <td>opel</td>\n",
       "      <td>no</td>\n",
       "    </tr>\n",
       "  </tbody>\n",
       "</table>\n",
       "<p>45191 rows × 10 columns</p>\n",
       "</div>"
      ],
      "text/plain": [
       "        Price VehicleType  RegistrationYear  Gearbox  Power     Model  \\\n",
       "1117      950       small              1999   manual     60      polo   \n",
       "1396        0       other              2000  unknown      0     other   \n",
       "2169        0       coupe              2002   manual    129  c_klasse   \n",
       "2833     1499       small              2001   manual     58     corsa   \n",
       "3025     2800       wagon              2005  unknown      0    touran   \n",
       "...       ...         ...               ...      ...    ...       ...   \n",
       "354352   6500       sedan              2003     auto    145  e_klasse   \n",
       "354355   4400       sedan              2008   manual    105      leon   \n",
       "354358   1490       small              1998   manual     50      lupo   \n",
       "354359   7900       sedan              2010   manual    140      golf   \n",
       "354363   1150         bus              2000   manual      0    zafira   \n",
       "\n",
       "        Kilometer  FuelType          Brand Repaired  \n",
       "1117       150000    petrol     volkswagen       no  \n",
       "1396       150000     other          volvo  unknown  \n",
       "2169       150000    petrol  mercedes_benz       no  \n",
       "2833       150000    petrol           opel       no  \n",
       "3025       150000  gasoline     volkswagen       no  \n",
       "...           ...       ...            ...      ...  \n",
       "354352     150000  gasoline  mercedes_benz       no  \n",
       "354355     150000  gasoline           seat       no  \n",
       "354358     150000    petrol     volkswagen       no  \n",
       "354359     150000  gasoline     volkswagen       no  \n",
       "354363     150000    petrol           opel       no  \n",
       "\n",
       "[45191 rows x 10 columns]"
      ]
     },
     "execution_count": 10,
     "metadata": {},
     "output_type": "execute_result"
    }
   ],
   "source": [
    "df[df.duplicated() == True]"
   ]
  },
  {
   "cell_type": "markdown",
   "metadata": {},
   "source": [
    "Удалим дубликаты."
   ]
  },
  {
   "cell_type": "code",
   "execution_count": 11,
   "metadata": {},
   "outputs": [
    {
     "name": "stdout",
     "output_type": "stream",
     "text": [
      "Количество дубликатов: 0\n"
     ]
    }
   ],
   "source": [
    "df.drop_duplicates(inplace=True)\n",
    "print('Количество дубликатов:', df.duplicated().sum())"
   ]
  },
  {
   "cell_type": "markdown",
   "metadata": {},
   "source": [
    "**Посмотрим какое распределение целевого признака 'Price' (цены)**"
   ]
  },
  {
   "cell_type": "code",
   "execution_count": 12,
   "metadata": {},
   "outputs": [
    {
     "data": {
      "image/png": "[encoded data removed]",
      "text/plain": [
       "<Figure size 576x288 with 1 Axes>"
      ]
     },
     "metadata": {
      "needs_background": "light"
     },
     "output_type": "display_data"
    }
   ],
   "source": [
    "fig, ax = plt.subplots()\n",
    "fig.set_size_inches(8,4)\n",
    "ax.hist(df['Price'], bins=50)\n",
    "ax.set_xlabel('Price', fontsize=14)\n",
    "ax.set_ylabel('Count', fontsize=14)\n",
    "plt.show()"
   ]
  },
  {
   "cell_type": "markdown",
   "metadata": {},
   "source": [
    "Нулевые значения цены является какой-то аномалией, скорее всего цена не была указана или указана неверно. Избавимся от таких значений, чтобы не прогнозировать нулевую цену."
   ]
  },
  {
   "cell_type": "code",
   "execution_count": 13,
   "metadata": {},
   "outputs": [
    {
     "data": {
      "text/html": [
       "<div>\n",
       "<style scoped>\n",
       "    .dataframe tbody tr th:only-of-type {\n",
       "        vertical-align: middle;\n",
       "    }\n",
       "\n",
       "    .dataframe tbody tr th {\n",
       "        vertical-align: top;\n",
       "    }\n",
       "\n",
       "    .dataframe thead th {\n",
       "        text-align: right;\n",
       "    }\n",
       "</style>\n",
       "<table border=\"1\" class=\"dataframe\">\n",
       "  <thead>\n",
       "    <tr style=\"text-align: right;\">\n",
       "      <th></th>\n",
       "      <th>Price</th>\n",
       "      <th>RegistrationYear</th>\n",
       "      <th>Power</th>\n",
       "      <th>Kilometer</th>\n",
       "    </tr>\n",
       "  </thead>\n",
       "  <tbody>\n",
       "    <tr>\n",
       "      <th>count</th>\n",
       "      <td>300316.000000</td>\n",
       "      <td>300316.000000</td>\n",
       "      <td>300316.000000</td>\n",
       "      <td>300316.000000</td>\n",
       "    </tr>\n",
       "    <tr>\n",
       "      <th>mean</th>\n",
       "      <td>4620.331521</td>\n",
       "      <td>2004.246257</td>\n",
       "      <td>111.730840</td>\n",
       "      <td>127309.084431</td>\n",
       "    </tr>\n",
       "    <tr>\n",
       "      <th>std</th>\n",
       "      <td>4565.437727</td>\n",
       "      <td>83.018828</td>\n",
       "      <td>199.077988</td>\n",
       "      <td>38217.881409</td>\n",
       "    </tr>\n",
       "    <tr>\n",
       "      <th>min</th>\n",
       "      <td>1.000000</td>\n",
       "      <td>1000.000000</td>\n",
       "      <td>0.000000</td>\n",
       "      <td>5000.000000</td>\n",
       "    </tr>\n",
       "    <tr>\n",
       "      <th>25%</th>\n",
       "      <td>1200.000000</td>\n",
       "      <td>1999.000000</td>\n",
       "      <td>69.000000</td>\n",
       "      <td>125000.000000</td>\n",
       "    </tr>\n",
       "    <tr>\n",
       "      <th>50%</th>\n",
       "      <td>2900.000000</td>\n",
       "      <td>2003.000000</td>\n",
       "      <td>105.000000</td>\n",
       "      <td>150000.000000</td>\n",
       "    </tr>\n",
       "    <tr>\n",
       "      <th>75%</th>\n",
       "      <td>6650.000000</td>\n",
       "      <td>2008.000000</td>\n",
       "      <td>143.000000</td>\n",
       "      <td>150000.000000</td>\n",
       "    </tr>\n",
       "    <tr>\n",
       "      <th>max</th>\n",
       "      <td>20000.000000</td>\n",
       "      <td>9999.000000</td>\n",
       "      <td>20000.000000</td>\n",
       "      <td>150000.000000</td>\n",
       "    </tr>\n",
       "  </tbody>\n",
       "</table>\n",
       "</div>"
      ],
      "text/plain": [
       "               Price  RegistrationYear          Power      Kilometer\n",
       "count  300316.000000     300316.000000  300316.000000  300316.000000\n",
       "mean     4620.331521       2004.246257     111.730840  127309.084431\n",
       "std      4565.437727         83.018828     199.077988   38217.881409\n",
       "min         1.000000       1000.000000       0.000000    5000.000000\n",
       "25%      1200.000000       1999.000000      69.000000  125000.000000\n",
       "50%      2900.000000       2003.000000     105.000000  150000.000000\n",
       "75%      6650.000000       2008.000000     143.000000  150000.000000\n",
       "max     20000.000000       9999.000000   20000.000000  150000.000000"
      ]
     },
     "execution_count": 13,
     "metadata": {},
     "output_type": "execute_result"
    }
   ],
   "source": [
    "df = df[~(df['Price'] == 0)]\n",
    "df.describe()"
   ]
  },
  {
   "cell_type": "markdown",
   "metadata": {},
   "source": [
    "**Проверим есть ли у нас нулевые значения пробега и мощности**"
   ]
  },
  {
   "cell_type": "code",
   "execution_count": 14,
   "metadata": {},
   "outputs": [
    {
     "data": {
      "text/plain": [
       "Price               0\n",
       "VehicleType         0\n",
       "RegistrationYear    0\n",
       "Gearbox             0\n",
       "Power               0\n",
       "Model               0\n",
       "Kilometer           0\n",
       "FuelType            0\n",
       "Brand               0\n",
       "Repaired            0\n",
       "dtype: int64"
      ]
     },
     "execution_count": 14,
     "metadata": {},
     "output_type": "execute_result"
    }
   ],
   "source": [
    "df[df['Kilometer'] == 0].count()"
   ]
  },
  {
   "cell_type": "markdown",
   "metadata": {},
   "source": [
    "Данных с нулевым пробегом нет"
   ]
  },
  {
   "cell_type": "code",
   "execution_count": 15,
   "metadata": {},
   "outputs": [
    {
     "data": {
      "text/plain": [
       "Price               32943\n",
       "VehicleType         32943\n",
       "RegistrationYear    32943\n",
       "Gearbox             32943\n",
       "Power               32943\n",
       "Model               32943\n",
       "Kilometer           32943\n",
       "FuelType            32943\n",
       "Brand               32943\n",
       "Repaired            32943\n",
       "dtype: int64"
      ]
     },
     "execution_count": 15,
     "metadata": {},
     "output_type": "execute_result"
    }
   ],
   "source": [
    "df[df['Power'] == 0].count()"
   ]
  },
  {
   "cell_type": "markdown",
   "metadata": {},
   "source": [
    "Данные с нулевой мощностью остались. Мы планируем прогнозировать цену реального автомобиля, а значит мощность у него не нулевая, поэтому удалим нулевые данные."
   ]
  },
  {
   "cell_type": "code",
   "execution_count": 16,
   "metadata": {},
   "outputs": [
    {
     "data": {
      "text/html": [
       "<div>\n",
       "<style scoped>\n",
       "    .dataframe tbody tr th:only-of-type {\n",
       "        vertical-align: middle;\n",
       "    }\n",
       "\n",
       "    .dataframe tbody tr th {\n",
       "        vertical-align: top;\n",
       "    }\n",
       "\n",
       "    .dataframe thead th {\n",
       "        text-align: right;\n",
       "    }\n",
       "</style>\n",
       "<table border=\"1\" class=\"dataframe\">\n",
       "  <thead>\n",
       "    <tr style=\"text-align: right;\">\n",
       "      <th></th>\n",
       "      <th>Price</th>\n",
       "      <th>RegistrationYear</th>\n",
       "      <th>Power</th>\n",
       "      <th>Kilometer</th>\n",
       "    </tr>\n",
       "  </thead>\n",
       "  <tbody>\n",
       "    <tr>\n",
       "      <th>count</th>\n",
       "      <td>267373.000000</td>\n",
       "      <td>267373.000000</td>\n",
       "      <td>267373.000000</td>\n",
       "      <td>267373.000000</td>\n",
       "    </tr>\n",
       "    <tr>\n",
       "      <th>mean</th>\n",
       "      <td>4889.721595</td>\n",
       "      <td>2003.610985</td>\n",
       "      <td>125.497186</td>\n",
       "      <td>127395.604642</td>\n",
       "    </tr>\n",
       "    <tr>\n",
       "      <th>std</th>\n",
       "      <td>4635.339966</td>\n",
       "      <td>34.329792</td>\n",
       "      <td>206.851347</td>\n",
       "      <td>37428.173128</td>\n",
       "    </tr>\n",
       "    <tr>\n",
       "      <th>min</th>\n",
       "      <td>1.000000</td>\n",
       "      <td>1000.000000</td>\n",
       "      <td>1.000000</td>\n",
       "      <td>5000.000000</td>\n",
       "    </tr>\n",
       "    <tr>\n",
       "      <th>25%</th>\n",
       "      <td>1350.000000</td>\n",
       "      <td>1999.000000</td>\n",
       "      <td>80.000000</td>\n",
       "      <td>125000.000000</td>\n",
       "    </tr>\n",
       "    <tr>\n",
       "      <th>50%</th>\n",
       "      <td>3200.000000</td>\n",
       "      <td>2004.000000</td>\n",
       "      <td>113.000000</td>\n",
       "      <td>150000.000000</td>\n",
       "    </tr>\n",
       "    <tr>\n",
       "      <th>75%</th>\n",
       "      <td>6999.000000</td>\n",
       "      <td>2008.000000</td>\n",
       "      <td>150.000000</td>\n",
       "      <td>150000.000000</td>\n",
       "    </tr>\n",
       "    <tr>\n",
       "      <th>max</th>\n",
       "      <td>20000.000000</td>\n",
       "      <td>9999.000000</td>\n",
       "      <td>20000.000000</td>\n",
       "      <td>150000.000000</td>\n",
       "    </tr>\n",
       "  </tbody>\n",
       "</table>\n",
       "</div>"
      ],
      "text/plain": [
       "               Price  RegistrationYear          Power      Kilometer\n",
       "count  267373.000000     267373.000000  267373.000000  267373.000000\n",
       "mean     4889.721595       2003.610985     125.497186  127395.604642\n",
       "std      4635.339966         34.329792     206.851347   37428.173128\n",
       "min         1.000000       1000.000000       1.000000    5000.000000\n",
       "25%      1350.000000       1999.000000      80.000000  125000.000000\n",
       "50%      3200.000000       2004.000000     113.000000  150000.000000\n",
       "75%      6999.000000       2008.000000     150.000000  150000.000000\n",
       "max     20000.000000       9999.000000   20000.000000  150000.000000"
      ]
     },
     "execution_count": 16,
     "metadata": {},
     "output_type": "execute_result"
    }
   ],
   "source": [
    "df = df[~(df['Power'] == 0)]\n",
    "df.describe()"
   ]
  },
  {
   "cell_type": "code",
   "execution_count": 17,
   "metadata": {},
   "outputs": [
    {
     "data": {
      "text/html": [
       "<div>\n",
       "<style scoped>\n",
       "    .dataframe tbody tr th:only-of-type {\n",
       "        vertical-align: middle;\n",
       "    }\n",
       "\n",
       "    .dataframe tbody tr th {\n",
       "        vertical-align: top;\n",
       "    }\n",
       "\n",
       "    .dataframe thead th {\n",
       "        text-align: right;\n",
       "    }\n",
       "</style>\n",
       "<table border=\"1\" class=\"dataframe\">\n",
       "  <thead>\n",
       "    <tr style=\"text-align: right;\">\n",
       "      <th></th>\n",
       "      <th>Price</th>\n",
       "      <th>VehicleType</th>\n",
       "      <th>RegistrationYear</th>\n",
       "      <th>Gearbox</th>\n",
       "      <th>Power</th>\n",
       "      <th>Model</th>\n",
       "      <th>Kilometer</th>\n",
       "      <th>FuelType</th>\n",
       "      <th>Brand</th>\n",
       "      <th>Repaired</th>\n",
       "    </tr>\n",
       "  </thead>\n",
       "  <tbody>\n",
       "    <tr>\n",
       "      <th>1</th>\n",
       "      <td>18300</td>\n",
       "      <td>coupe</td>\n",
       "      <td>2011</td>\n",
       "      <td>manual</td>\n",
       "      <td>190</td>\n",
       "      <td>other</td>\n",
       "      <td>125000</td>\n",
       "      <td>gasoline</td>\n",
       "      <td>audi</td>\n",
       "      <td>yes</td>\n",
       "    </tr>\n",
       "    <tr>\n",
       "      <th>2</th>\n",
       "      <td>9800</td>\n",
       "      <td>suv</td>\n",
       "      <td>2004</td>\n",
       "      <td>auto</td>\n",
       "      <td>163</td>\n",
       "      <td>grand</td>\n",
       "      <td>125000</td>\n",
       "      <td>gasoline</td>\n",
       "      <td>jeep</td>\n",
       "      <td>unknown</td>\n",
       "    </tr>\n",
       "    <tr>\n",
       "      <th>3</th>\n",
       "      <td>1500</td>\n",
       "      <td>small</td>\n",
       "      <td>2001</td>\n",
       "      <td>manual</td>\n",
       "      <td>75</td>\n",
       "      <td>golf</td>\n",
       "      <td>150000</td>\n",
       "      <td>petrol</td>\n",
       "      <td>volkswagen</td>\n",
       "      <td>no</td>\n",
       "    </tr>\n",
       "    <tr>\n",
       "      <th>4</th>\n",
       "      <td>3600</td>\n",
       "      <td>small</td>\n",
       "      <td>2008</td>\n",
       "      <td>manual</td>\n",
       "      <td>69</td>\n",
       "      <td>fabia</td>\n",
       "      <td>90000</td>\n",
       "      <td>gasoline</td>\n",
       "      <td>skoda</td>\n",
       "      <td>no</td>\n",
       "    </tr>\n",
       "    <tr>\n",
       "      <th>5</th>\n",
       "      <td>650</td>\n",
       "      <td>sedan</td>\n",
       "      <td>1995</td>\n",
       "      <td>manual</td>\n",
       "      <td>102</td>\n",
       "      <td>3er</td>\n",
       "      <td>150000</td>\n",
       "      <td>petrol</td>\n",
       "      <td>bmw</td>\n",
       "      <td>yes</td>\n",
       "    </tr>\n",
       "  </tbody>\n",
       "</table>\n",
       "</div>"
      ],
      "text/plain": [
       "   Price VehicleType  RegistrationYear Gearbox  Power  Model  Kilometer  \\\n",
       "1  18300       coupe              2011  manual    190  other     125000   \n",
       "2   9800         suv              2004    auto    163  grand     125000   \n",
       "3   1500       small              2001  manual     75   golf     150000   \n",
       "4   3600       small              2008  manual     69  fabia      90000   \n",
       "5    650       sedan              1995  manual    102    3er     150000   \n",
       "\n",
       "   FuelType       Brand Repaired  \n",
       "1  gasoline        audi      yes  \n",
       "2  gasoline        jeep  unknown  \n",
       "3    petrol  volkswagen       no  \n",
       "4  gasoline       skoda       no  \n",
       "5    petrol         bmw      yes  "
      ]
     },
     "execution_count": 17,
     "metadata": {},
     "output_type": "execute_result"
    }
   ],
   "source": [
    "df.head()"
   ]
  },
  {
   "cell_type": "markdown",
   "metadata": {},
   "source": [
    "**Проверим есть ли у нас аномалии в RegistrationYear**"
   ]
  },
  {
   "cell_type": "code",
   "execution_count": 18,
   "metadata": {},
   "outputs": [
    {
     "name": "stdout",
     "output_type": "stream",
     "text": [
      "Уникальные значения года: [2011 2004 2001 2008 1995 2014 1998 2005 2016 2007 2009 2002 2018 1997\n",
      " 1990 2017 1981 2003 1991 1984 2006 1999 2012 1994 2010 2000 1992 2013\n",
      " 1996 1989 2015 1993 1985 1982 1983 1973 1969 1971 1987 1988 1980 1970\n",
      " 1986 1976 1965 1945 1974 1955 1978 1979 1972 1977 1961 1975 1968 1963\n",
      " 1966 1964 1958 1959 1956 1941 1960 1500 1962 1929 1957 1910 1940 1967\n",
      " 1949 1937 1800 1953 2019 1954 1234 2900 6000 5911 1400 5000 4000 8000\n",
      " 1932 1951 1952 1950 4800 1942 1935 6500 1923 1000 1930 9999 1943 1938\n",
      " 1936 1928 3000 2800 1931 1948 4500 1927 1933 8200 1947 1944 1600]\n",
      "Количество записей с годом меньше 1960: Price               221\n",
      "VehicleType         221\n",
      "RegistrationYear    221\n",
      "Gearbox             221\n",
      "Power               221\n",
      "Model               221\n",
      "Kilometer           221\n",
      "FuelType            221\n",
      "Brand               221\n",
      "Repaired            221\n",
      "dtype: int64\n",
      "Количество записей с годом больше 2023: Price               22\n",
      "VehicleType         22\n",
      "RegistrationYear    22\n",
      "Gearbox             22\n",
      "Power               22\n",
      "Model               22\n",
      "Kilometer           22\n",
      "FuelType            22\n",
      "Brand               22\n",
      "Repaired            22\n",
      "dtype: int64\n"
     ]
    }
   ],
   "source": [
    "print('Уникальные значения года:', df['RegistrationYear'].unique())\n",
    "print('Количество записей с годом меньше 1960:', df[(df['RegistrationYear'] <= 1960)].count())\n",
    "print('Количество записей с годом больше 2023:', df[(df['RegistrationYear'] >= 2023)].count())"
   ]
  },
  {
   "cell_type": "markdown",
   "metadata": {},
   "source": [
    "Аномальных значений не много, можно удалить"
   ]
  },
  {
   "cell_type": "code",
   "execution_count": 19,
   "metadata": {},
   "outputs": [
    {
     "data": {
      "text/plain": [
       "array([2011, 2004, 2001, 2008, 1995, 2014, 1998, 2005, 2016, 2007, 2009,\n",
       "       2002, 2018, 1997, 1990, 2017, 1981, 2003, 1991, 1984, 2006, 1999,\n",
       "       2012, 1994, 2010, 2000, 1992, 2013, 1996, 1989, 2015, 1993, 1985,\n",
       "       1982, 1983, 1973, 1969, 1971, 1987, 1988, 1980, 1970, 1986, 1976,\n",
       "       1965, 1974, 1978, 1979, 1972, 1977, 1961, 1975, 1968, 1963, 1966,\n",
       "       1964, 1960, 1962, 1967, 2019])"
      ]
     },
     "execution_count": 19,
     "metadata": {},
     "output_type": "execute_result"
    }
   ],
   "source": [
    "df = df[(df['RegistrationYear'] >= 1960) & (df['RegistrationYear'] <= 2023)]\n",
    "\n",
    "#проверим\n",
    "df['RegistrationYear'].unique()"
   ]
  },
  {
   "cell_type": "markdown",
   "metadata": {},
   "source": [
    "**Вывод:**\n",
    "- Удалили признаки NumberOfPictures, PostalCode, DateCrawled, DateCreated и RegistrationMonth.\n",
    "- Удалили данные с нулевыми значениями 'Price' и 'Power'\n",
    "- Удалили аномалии в 'RegistrationYear'\n",
    "- Удалили дубликаты\n",
    "- Заменили пропуски значением 'unknown' и 'other'"
   ]
  },
  {
   "cell_type": "markdown",
   "metadata": {},
   "source": [
    "## Обучение моделей"
   ]
  },
  {
   "cell_type": "markdown",
   "metadata": {},
   "source": [
    "Разделим датасет на обучающую, валидационную и тестовую выборку в пропорции 3:1:1"
   ]
  },
  {
   "cell_type": "code",
   "execution_count": 20,
   "metadata": {},
   "outputs": [],
   "source": [
    "features = df.drop(['Price'], axis=1)\n",
    "target = df['Price']"
   ]
  },
  {
   "cell_type": "code",
   "execution_count": 21,
   "metadata": {},
   "outputs": [],
   "source": [
    "features_train, features_test, target_train, target_test = train_test_split(features, target, test_size=0.4, random_state=91)\n",
    "features_valid, features_test, target_valid, target_test = train_test_split(features_test, target_test, test_size=0.5, random_state=91)"
   ]
  },
  {
   "cell_type": "code",
   "execution_count": 22,
   "metadata": {},
   "outputs": [
    {
     "name": "stdout",
     "output_type": "stream",
     "text": [
      "Размер тренировочной выборки: (160312, 9)\n",
      "Размер валидационной выборки: (53437, 9)\n",
      "Размер тестовой выборки: (53438, 9)\n"
     ]
    }
   ],
   "source": [
    "print('Размер тренировочной выборки:', features_train.shape)\n",
    "print('Размер валидационной выборки:', features_valid.shape)\n",
    "print('Размер тестовой выборки:', features_test.shape)"
   ]
  },
  {
   "cell_type": "markdown",
   "metadata": {},
   "source": [
    "### LinearRegression"
   ]
  },
  {
   "cell_type": "markdown",
   "metadata": {},
   "source": [
    "Закодируем категориальные признаки техникой Ordinal Encoder"
   ]
  },
  {
   "cell_type": "code",
   "execution_count": 23,
   "metadata": {},
   "outputs": [],
   "source": [
    "# категориальные признаки\n",
    "cat_features = ['VehicleType', 'Gearbox', 'Model', 'FuelType', 'Brand', 'Repaired']"
   ]
  },
  {
   "cell_type": "code",
   "execution_count": 24,
   "metadata": {},
   "outputs": [],
   "source": [
    "# скопируем данные для надежности\n",
    "features_encoded = features.copy()\n",
    "features_encoded[cat_features] = OrdinalEncoder().fit_transform(features_encoded[cat_features])\n",
    "\n",
    "# заново разделим выборки\n",
    "features_train_encoded, features_test_encoded, target_train_encoded, target_test_encoded = train_test_split(features_encoded, target, test_size=0.4, random_state=91)\n",
    "features_valid_encoded, features_test_encoded, target_valid_encoded, target_test_encoded = train_test_split(features_test_encoded, target_test_encoded, test_size=0.5, random_state=91)"
   ]
  },
  {
   "cell_type": "code",
   "execution_count": 25,
   "metadata": {},
   "outputs": [
    {
     "name": "stdout",
     "output_type": "stream",
     "text": [
      "RMSE of Linear Regression: 3571.3311889061024\n"
     ]
    }
   ],
   "source": [
    "lr = LinearRegression().fit(features_train_encoded, target_train_encoded)\n",
    "pred_lr = lr.predict(features_valid_encoded)\n",
    "print(f'RMSE of Linear Regression: {mean_squared_error(target_valid_encoded, pred_lr, squared=False)}')"
   ]
  },
  {
   "cell_type": "markdown",
   "metadata": {},
   "source": [
    "По условию задания значение метрики RMSE должно быть меньше 2500. Linear Regression не подходит"
   ]
  },
  {
   "cell_type": "markdown",
   "metadata": {},
   "source": [
    "###  Decision Tree"
   ]
  },
  {
   "cell_type": "code",
   "execution_count": 26,
   "metadata": {},
   "outputs": [
    {
     "name": "stdout",
     "output_type": "stream",
     "text": [
      "RMSE of Desicion Tree: 2053.784055279156\n"
     ]
    }
   ],
   "source": [
    "dt = DecisionTreeRegressor(max_depth=10).fit(features_train_encoded, target_train)\n",
    "pred_dt = dt.predict(features_valid_encoded)\n",
    "print(f'RMSE of Desicion Tree: {mean_squared_error(target_valid, pred_dt, squared=False)}')"
   ]
  },
  {
   "cell_type": "markdown",
   "metadata": {},
   "source": [
    "По условию задания значение метрики RMSE должно быть меньше 2500. Decision Tree подходит"
   ]
  },
  {
   "cell_type": "markdown",
   "metadata": {},
   "source": [
    "### CatBoost"
   ]
  },
  {
   "cell_type": "code",
   "execution_count": 27,
   "metadata": {},
   "outputs": [
    {
     "data": {
      "application/vnd.jupyter.widget-view+json": {
       "model_id": "b89cd6af75e142598121b660f8ea1061",
       "version_major": 2,
       "version_minor": 0
      },
      "text/plain": [
       "MetricVisualizer(layout=Layout(align_self='stretch', height='500px'))"
      ]
     },
     "metadata": {},
     "output_type": "display_data"
    },
    {
     "name": "stdout",
     "output_type": "stream",
     "text": [
      "0:\tlearn: 6148.0583176\ttest: 6172.7400278\tbest: 6172.7400278 (0)\ttotal: 153ms\tremaining: 7.47s\n",
      "49:\tlearn: 1761.4021376\ttest: 1806.9057280\tbest: 1806.9057280 (49)\ttotal: 4.08s\tremaining: 0us\n",
      "\n",
      "bestTest = 1806.905728\n",
      "bestIteration = 49\n",
      "\n",
      "0:\tloss: 1806.9057280\tbest: 1806.9057280 (0)\ttotal: 4.85s\tremaining: 1m 12s\n",
      "0:\tlearn: 4004.5455307\ttest: 4027.1356162\tbest: 4027.1356162 (0)\ttotal: 89.9ms\tremaining: 4.4s\n",
      "49:\tlearn: 1561.6330412\ttest: 1723.8991122\tbest: 1723.8991122 (49)\ttotal: 4.03s\tremaining: 0us\n",
      "\n",
      "bestTest = 1723.899112\n",
      "bestIteration = 49\n",
      "\n",
      "1:\tloss: 1723.8991122\tbest: 1723.8991122 (1)\ttotal: 8.9s\tremaining: 1m 2s\n",
      "0:\tlearn: 6150.0285087\ttest: 6174.6629339\tbest: 6174.6629339 (0)\ttotal: 94.4ms\tremaining: 4.62s\n",
      "49:\tlearn: 1776.4153296\ttest: 1817.6729247\tbest: 1817.6729247 (49)\ttotal: 4.34s\tremaining: 0us\n",
      "\n",
      "bestTest = 1817.672925\n",
      "bestIteration = 49\n",
      "\n",
      "2:\tloss: 1817.6729247\tbest: 1723.8991122 (1)\ttotal: 13.3s\tremaining: 57.5s\n",
      "0:\tlearn: 4013.0679215\ttest: 4035.4165380\tbest: 4035.4165380 (0)\ttotal: 85.3ms\tremaining: 4.18s\n",
      "49:\tlearn: 1609.7050949\ttest: 1725.8967516\tbest: 1725.8967516 (49)\ttotal: 3.73s\tremaining: 0us\n",
      "\n",
      "bestTest = 1725.896752\n",
      "bestIteration = 49\n",
      "\n",
      "3:\tloss: 1725.8967516\tbest: 1723.8991122 (1)\ttotal: 17s\tremaining: 51.1s\n",
      "0:\tlearn: 6153.9407354\ttest: 6179.7825809\tbest: 6179.7825809 (0)\ttotal: 379ms\tremaining: 1m 15s\n",
      "50:\tlearn: 1744.6627913\ttest: 1798.8284145\tbest: 1798.8284145 (50)\ttotal: 15.6s\tremaining: 45.6s\n",
      "100:\tlearn: 1639.6626407\ttest: 1727.5586029\tbest: 1727.5586029 (100)\ttotal: 30.8s\tremaining: 30.2s\n",
      "150:\tlearn: 1585.2612190\ttest: 1699.3853526\tbest: 1699.3853526 (150)\ttotal: 47.8s\tremaining: 15.5s\n",
      "199:\tlearn: 1547.3573636\ttest: 1683.6232844\tbest: 1683.6232844 (199)\ttotal: 1m 4s\tremaining: 0us\n",
      "\n",
      "bestTest = 1683.623284\n",
      "bestIteration = 199\n",
      "\n",
      "4:\tloss: 1683.6232844\tbest: 1683.6232844 (4)\ttotal: 1m 21s\tremaining: 2m 58s\n",
      "0:\tlearn: 4032.3853389\ttest: 4062.7619022\tbest: 4062.7619022 (0)\ttotal: 352ms\tremaining: 1m 9s\n",
      "50:\tlearn: 1546.4261800\ttest: 1708.5842198\tbest: 1708.5842198 (50)\ttotal: 16.7s\tremaining: 48.7s\n",
      "100:\tlearn: 1448.5011570\ttest: 1693.8071569\tbest: 1693.8071569 (100)\ttotal: 34s\tremaining: 33.4s\n",
      "150:\tlearn: 1380.4082159\ttest: 1683.5831739\tbest: 1683.3373777 (149)\ttotal: 51.8s\tremaining: 16.8s\n",
      "199:\tlearn: 1337.3448302\ttest: 1683.7558119\tbest: 1681.9000371 (166)\ttotal: 1m 8s\tremaining: 0us\n",
      "\n",
      "bestTest = 1681.900037\n",
      "bestIteration = 166\n",
      "\n",
      "5:\tloss: 1681.9000371\tbest: 1681.9000371 (5)\ttotal: 2m 29s\tremaining: 4m 9s\n",
      "0:\tlearn: 6160.9226904\ttest: 6186.8677662\tbest: 6186.8677662 (0)\ttotal: 440ms\tremaining: 1m 27s\n",
      "50:\tlearn: 1763.9191022\ttest: 1806.9216703\tbest: 1806.9216703 (50)\ttotal: 16.2s\tremaining: 47.2s\n",
      "100:\tlearn: 1659.4031380\ttest: 1730.9003349\tbest: 1730.9003349 (100)\ttotal: 31.5s\tremaining: 30.9s\n",
      "150:\tlearn: 1615.4510441\ttest: 1705.5969536\tbest: 1705.5969536 (150)\ttotal: 45.7s\tremaining: 14.8s\n",
      "199:\tlearn: 1583.0697355\ttest: 1688.9011965\tbest: 1688.8991902 (198)\ttotal: 1m\tremaining: 0us\n",
      "\n",
      "bestTest = 1688.89919\n",
      "bestIteration = 198\n",
      "\n",
      "6:\tloss: 1688.8991902\tbest: 1681.9000371 (5)\ttotal: 3m 30s\tremaining: 4m 30s\n",
      "0:\tlearn: 4065.1339196\ttest: 4095.6173479\tbest: 4095.6173479 (0)\ttotal: 398ms\tremaining: 1m 19s\n",
      "50:\tlearn: 1589.6099994\ttest: 1721.6816126\tbest: 1721.6816126 (50)\ttotal: 15.3s\tremaining: 44.6s\n",
      "100:\tlearn: 1497.8613610\ttest: 1695.5567165\tbest: 1695.5567165 (100)\ttotal: 31.7s\tremaining: 31.1s\n",
      "150:\tlearn: 1432.8412328\ttest: 1687.8422937\tbest: 1687.5935091 (146)\ttotal: 48.6s\tremaining: 15.8s\n",
      "199:\tlearn: 1391.1908699\ttest: 1682.8694719\tbest: 1682.4710489 (196)\ttotal: 1m 5s\tremaining: 0us\n",
      "\n",
      "bestTest = 1682.471049\n",
      "bestIteration = 196\n",
      "\n",
      "7:\tloss: 1682.4710489\tbest: 1681.9000371 (5)\ttotal: 4m 35s\tremaining: 4m 35s\n",
      "0:\tlearn: 6142.9605301\ttest: 6167.1318328\tbest: 6167.1318328 (0)\ttotal: 133ms\tremaining: 6.51s\n",
      "49:\tlearn: 1705.8112001\ttest: 1779.3456408\tbest: 1779.3456408 (49)\ttotal: 6.44s\tremaining: 0us\n",
      "\n",
      "bestTest = 1779.345641\n",
      "bestIteration = 49\n",
      "\n",
      "8:\tloss: 1779.3456408\tbest: 1681.9000371 (5)\ttotal: 4m 42s\tremaining: 3m 39s\n",
      "0:\tlearn: 3972.5100963\ttest: 3991.9070277\tbest: 3991.9070277 (0)\ttotal: 134ms\tremaining: 6.56s\n",
      "49:\tlearn: 1467.1301064\ttest: 1708.3021003\tbest: 1708.0752149 (48)\ttotal: 6.33s\tremaining: 0us\n",
      "\n",
      "bestTest = 1708.075215\n",
      "bestIteration = 48\n",
      "\n",
      "9:\tloss: 1708.0752149\tbest: 1681.9000371 (5)\ttotal: 4m 48s\tremaining: 2m 53s\n",
      "0:\tlearn: 6145.6692813\ttest: 6169.7755671\tbest: 6169.7755671 (0)\ttotal: 142ms\tremaining: 6.96s\n",
      "49:\tlearn: 1725.4524440\ttest: 1787.1447914\tbest: 1787.1447914 (49)\ttotal: 6.38s\tremaining: 0us\n",
      "\n",
      "bestTest = 1787.144791\n",
      "bestIteration = 49\n",
      "\n",
      "10:\tloss: 1787.1447914\tbest: 1681.9000371 (5)\ttotal: 4m 55s\tremaining: 2m 14s\n",
      "0:\tlearn: 3984.3919422\ttest: 4003.4741061\tbest: 4003.4741061 (0)\ttotal: 138ms\tremaining: 6.76s\n",
      "49:\tlearn: 1516.1491535\ttest: 1707.0865006\tbest: 1707.0865006 (49)\ttotal: 6.15s\tremaining: 0us\n",
      "\n",
      "bestTest = 1707.086501\n",
      "bestIteration = 49\n",
      "\n",
      "11:\tloss: 1707.0865006\tbest: 1681.9000371 (5)\ttotal: 5m 1s\tremaining: 1m 40s\n",
      "0:\tlearn: 6155.2882334\ttest: 6181.3887246\tbest: 6181.3887246 (0)\ttotal: 486ms\tremaining: 1m 36s\n",
      "50:\tlearn: 1672.1293776\ttest: 1761.1313359\tbest: 1761.1313359 (50)\ttotal: 22.3s\tremaining: 1m 5s\n",
      "100:\tlearn: 1565.3805097\ttest: 1701.9962280\tbest: 1701.9962280 (100)\ttotal: 45.8s\tremaining: 44.9s\n",
      "150:\tlearn: 1499.8949146\ttest: 1678.1974993\tbest: 1678.1974993 (150)\ttotal: 1m 10s\tremaining: 23s\n",
      "199:\tlearn: 1452.6692954\ttest: 1665.2351711\tbest: 1665.2351711 (199)\ttotal: 1m 35s\tremaining: 0us\n",
      "\n",
      "bestTest = 1665.235171\n",
      "bestIteration = 199\n",
      "\n",
      "12:\tloss: 1665.2351711\tbest: 1665.2351711 (12)\ttotal: 6m 36s\tremaining: 1m 31s\n",
      "0:\tlearn: 4031.0684007\ttest: 4063.6539654\tbest: 4063.6539654 (0)\ttotal: 508ms\tremaining: 1m 41s\n",
      "50:\tlearn: 1445.6065963\ttest: 1711.8484185\tbest: 1711.8484185 (50)\ttotal: 24.1s\tremaining: 1m 10s\n",
      "100:\tlearn: 1318.7276089\ttest: 1701.8480234\tbest: 1700.5854070 (84)\ttotal: 49.2s\tremaining: 48.2s\n",
      "150:\tlearn: 1237.4891812\ttest: 1702.8003904\tbest: 1700.5854070 (84)\ttotal: 1m 15s\tremaining: 24.6s\n",
      "199:\tlearn: 1179.5710835\ttest: 1706.9736495\tbest: 1700.5854070 (84)\ttotal: 1m 41s\tremaining: 0us\n",
      "\n",
      "bestTest = 1700.585407\n",
      "bestIteration = 84\n",
      "\n",
      "13:\tloss: 1700.5854070\tbest: 1665.2351711 (12)\ttotal: 8m 18s\tremaining: 1m 11s\n",
      "0:\tlearn: 6160.9226904\ttest: 6186.8677662\tbest: 6186.8677662 (0)\ttotal: 406ms\tremaining: 1m 20s\n",
      "50:\tlearn: 1702.0799172\ttest: 1773.9819209\tbest: 1773.9819209 (50)\ttotal: 22.5s\tremaining: 1m 5s\n",
      "100:\tlearn: 1597.8588031\ttest: 1709.5060273\tbest: 1709.5060273 (100)\ttotal: 45.9s\tremaining: 45s\n",
      "150:\tlearn: 1541.4278414\ttest: 1685.2170206\tbest: 1685.2148487 (147)\ttotal: 1m 8s\tremaining: 22.1s\n",
      "199:\tlearn: 1506.1867949\ttest: 1674.0842787\tbest: 1674.0842787 (199)\ttotal: 1m 31s\tremaining: 0us\n",
      "\n",
      "bestTest = 1674.084279\n",
      "bestIteration = 199\n",
      "\n",
      "14:\tloss: 1674.0842787\tbest: 1665.2351711 (12)\ttotal: 9m 49s\tremaining: 39.3s\n",
      "0:\tlearn: 4065.1339196\ttest: 4095.6173479\tbest: 4095.6173479 (0)\ttotal: 428ms\tremaining: 1m 25s\n",
      "50:\tlearn: 1491.2085737\ttest: 1706.7071266\tbest: 1706.7071266 (50)\ttotal: 24.5s\tremaining: 1m 11s\n",
      "100:\tlearn: 1377.7099847\ttest: 1690.0174497\tbest: 1690.0174497 (100)\ttotal: 49.5s\tremaining: 48.5s\n",
      "150:\tlearn: 1298.7087500\ttest: 1683.7868057\tbest: 1682.4791429 (134)\ttotal: 1m 15s\tremaining: 24.4s\n",
      "199:\tlearn: 1242.7336265\ttest: 1682.2211216\tbest: 1682.0464399 (187)\ttotal: 1m 39s\tremaining: 0us\n",
      "\n",
      "bestTest = 1682.04644\n",
      "bestIteration = 187\n",
      "\n",
      "15:\tloss: 1682.0464399\tbest: 1665.2351711 (12)\ttotal: 11m 29s\tremaining: 0us\n",
      "Estimating final quality...\n",
      "Training on fold [0/3]\n",
      "0:\tlearn: 6153.8727964\ttest: 6162.0962864\tbest: 6162.0962864 (0)\ttotal: 470ms\tremaining: 1m 33s\n",
      "50:\tlearn: 1676.5224875\ttest: 1758.3097602\tbest: 1758.3097602 (50)\ttotal: 21.5s\tremaining: 1m 2s\n",
      "100:\tlearn: 1555.9817834\ttest: 1700.2626132\tbest: 1700.2626132 (100)\ttotal: 43.1s\tremaining: 42.2s\n",
      "150:\tlearn: 1484.0082629\ttest: 1678.4934516\tbest: 1678.4934516 (150)\ttotal: 1m 5s\tremaining: 21.3s\n",
      "199:\tlearn: 1430.9513161\ttest: 1666.1406908\tbest: 1666.1406908 (199)\ttotal: 1m 28s\tremaining: 0us\n",
      "\n",
      "bestTest = 1666.140691\n",
      "bestIteration = 199\n",
      "\n",
      "Training on fold [1/3]\n",
      "0:\tlearn: 6168.4296933\ttest: 6128.2365660\tbest: 6128.2365660 (0)\ttotal: 435ms\tremaining: 1m 26s\n",
      "50:\tlearn: 1685.4603848\ttest: 1745.0193884\tbest: 1745.0193884 (50)\ttotal: 20.1s\tremaining: 58.8s\n",
      "100:\tlearn: 1573.1621327\ttest: 1684.3014041\tbest: 1684.3014041 (100)\ttotal: 41.8s\tremaining: 41s\n",
      "150:\tlearn: 1503.3543660\ttest: 1660.6632914\tbest: 1660.6632914 (150)\ttotal: 1m 3s\tremaining: 20.7s\n",
      "199:\tlearn: 1457.0385326\ttest: 1647.7310867\tbest: 1647.7310867 (199)\ttotal: 1m 26s\tremaining: 0us\n",
      "\n",
      "bestTest = 1647.731087\n",
      "bestIteration = 199\n",
      "\n",
      "Training on fold [2/3]\n",
      "0:\tlearn: 6147.1793011\ttest: 6180.6311094\tbest: 6180.6311094 (0)\ttotal: 390ms\tremaining: 1m 17s\n",
      "50:\tlearn: 1667.8879013\ttest: 1769.8670082\tbest: 1769.8670082 (50)\ttotal: 20.7s\tremaining: 1m\n",
      "100:\tlearn: 1557.0726897\ttest: 1708.5410592\tbest: 1708.5410592 (100)\ttotal: 42.3s\tremaining: 41.5s\n",
      "150:\tlearn: 1491.2600568\ttest: 1684.7975854\tbest: 1684.7975854 (150)\ttotal: 1m 3s\tremaining: 20.7s\n",
      "199:\tlearn: 1449.6752119\ttest: 1672.4023593\tbest: 1672.4023593 (199)\ttotal: 1m 26s\tremaining: 0us\n",
      "\n",
      "bestTest = 1672.402359\n",
      "bestIteration = 199\n",
      "\n",
      "CPU times: user 17min 32s, sys: 10.6 s, total: 17min 43s\n",
      "Wall time: 17min 46s\n"
     ]
    }
   ],
   "source": [
    "%%time\n",
    "\n",
    "cat_model = CatBoostRegressor(cat_features=cat_features,\n",
    "                          loss_function='RMSE',\n",
    "                          verbose=50,\n",
    "                          thread_count=-1,\n",
    "                          random_seed=91)\n",
    "\n",
    "grid = {'learning_rate': [0.1, 0.5],\n",
    "        'depth': [10, 12],\n",
    "        'l2_leaf_reg': [3, 7],\n",
    "        'iterations' : [50, 200]}\n",
    "\n",
    "grid_search_result = cat_model.grid_search(grid, \n",
    "                                       X=features_train, \n",
    "                                       y=target_train,\n",
    "                                       plot=True)"
   ]
  },
  {
   "cell_type": "code",
   "execution_count": 28,
   "metadata": {},
   "outputs": [
    {
     "data": {
      "text/plain": [
       "{'depth': 12, 'l2_leaf_reg': 3, 'iterations': 200, 'learning_rate': 0.1}"
      ]
     },
     "execution_count": 28,
     "metadata": {},
     "output_type": "execute_result"
    }
   ],
   "source": [
    "grid_search_result['params']"
   ]
  },
  {
   "cell_type": "code",
   "execution_count": 29,
   "metadata": {},
   "outputs": [
    {
     "name": "stdout",
     "output_type": "stream",
     "text": [
      "0:\tlearn: 4291.3686452\ttotal: 528ms\tremaining: 1m 44s\n",
      "20:\tlearn: 1935.7480349\ttotal: 11.2s\tremaining: 1m 35s\n",
      "40:\tlearn: 1706.3512528\ttotal: 21.9s\tremaining: 1m 25s\n",
      "60:\tlearn: 1643.8538856\ttotal: 33s\tremaining: 1m 15s\n",
      "80:\tlearn: 1604.1017133\ttotal: 44.2s\tremaining: 1m 4s\n",
      "100:\tlearn: 1573.6791795\ttotal: 55.2s\tremaining: 54.1s\n",
      "120:\tlearn: 1545.3815121\ttotal: 1m 6s\tremaining: 43.6s\n",
      "140:\tlearn: 1522.4659985\ttotal: 1m 18s\tremaining: 32.8s\n",
      "160:\tlearn: 1503.4558518\ttotal: 1m 30s\tremaining: 21.9s\n",
      "180:\tlearn: 1485.8516566\ttotal: 1m 42s\tremaining: 10.8s\n",
      "199:\tlearn: 1469.6052181\ttotal: 1m 54s\tremaining: 0us\n",
      "RMSE of CatBoostRegressor: 1656.4554774506148\n",
      "CPU times: user 1min 54s, sys: 380 ms, total: 1min 54s\n",
      "Wall time: 1min 55s\n"
     ]
    }
   ],
   "source": [
    "%%time\n",
    "\n",
    "cat_model = CatBoostRegressor(cat_features=cat_features,\n",
    "                          loss_function='RMSE',\n",
    "                          **grid_search_result['params'],\n",
    "                          verbose=20,\n",
    "                          thread_count=-1,\n",
    "                          random_seed=91)\n",
    "cat_model.fit(features_train, target_train)\n",
    "pred_cat = cat_model.predict(features_valid)\n",
    "print(f'RMSE of CatBoostRegressor: {mean_squared_error(target_valid, pred_cat, squared=False)}')"
   ]
  },
  {
   "cell_type": "markdown",
   "metadata": {},
   "source": [
    "По условию задания значение метрики RMSE должно быть меньше 2500. CatBoostRegressor подходит и RMSE получилось меньше чем в Decision Tree"
   ]
  },
  {
   "cell_type": "markdown",
   "metadata": {},
   "source": [
    "### LightGBM"
   ]
  },
  {
   "cell_type": "code",
   "execution_count": 30,
   "metadata": {},
   "outputs": [],
   "source": [
    "%%time\n",
    "\n",
    "params = {\n",
    "    'num_leaves': [50, 100],\n",
    "    'max_depth': [10, 12],\n",
    "}\n",
    "\n",
    "lgb_model = LGBMRegressor(n_estimators=1000,\n",
    "                          random_state=91,\n",
    "                          n_jobs=-1)\n",
    "\n",
    "grid = GridSearchCV(estimator=lgb_model, param_grid=params, scoring='neg_root_mean_squared_error', cv=5)\n",
    "\n",
    "grid.fit(features_train_encoded, target_train_encoded)\n",
    "\n",
    "print(grid.best_estimator_)\n",
    "print(grid.best_params_)"
   ]
  },
  {
   "cell_type": "code",
   "execution_count": 31,
   "metadata": {},
   "outputs": [],
   "source": [
    "print(grid.best_params_)"
   ]
  },
  {
   "cell_type": "markdown",
   "metadata": {},
   "source": [
    "Лучшие параметры: {'num_leaves': 100, 'max_depth': 12}"
   ]
  },
  {
   "cell_type": "code",
   "execution_count": 32,
   "metadata": {},
   "outputs": [
    {
     "name": "stdout",
     "output_type": "stream",
     "text": [
      "RMSE of LGBMRegressor: 1682.386171406922\n"
     ]
    }
   ],
   "source": [
    "lgb_model = LGBMRegressor(num_leaves = 100, \n",
    "                          max_depth = 12, \n",
    "                          random_state=91,\n",
    "                          n_jobs=-1)\n",
    "lgb_model.fit(features_train_encoded, target_train)\n",
    "pred_lgb = lgb_model.predict(features_valid_encoded)\n",
    "print(f'RMSE of LGBMRegressor: {mean_squared_error(target_valid, pred_lgb, squared=False)}')"
   ]
  },
  {
   "cell_type": "markdown",
   "metadata": {},
   "source": [
    "**Вывод:**\n",
    "- По оценке RMSE градиентный бустинг оказывается лучше чем Linear Regression и Decision Tree."
   ]
  },
  {
   "cell_type": "markdown",
   "metadata": {},
   "source": [
    "## Анализ моделей"
   ]
  },
  {
   "cell_type": "markdown",
   "metadata": {},
   "source": [
    "Сравним данные модели по:\n",
    "\n",
    "- качеству предсказания\n",
    "- скорости предсказания\n",
    "- времени обучения"
   ]
  },
  {
   "cell_type": "code",
   "execution_count": 33,
   "metadata": {},
   "outputs": [],
   "source": [
    "list_quality = []\n",
    "list_predict = []\n",
    "list_train   = []"
   ]
  },
  {
   "cell_type": "markdown",
   "metadata": {},
   "source": [
    "Узнаем время обучения LinearRegression"
   ]
  },
  {
   "cell_type": "code",
   "execution_count": 34,
   "metadata": {},
   "outputs": [],
   "source": [
    "start = time.time()\n",
    "\n",
    "lr = LinearRegression().fit(features_train_encoded, target_train_encoded)\n",
    "\n",
    "list_train.append(time.time() - start)"
   ]
  },
  {
   "cell_type": "markdown",
   "metadata": {},
   "source": [
    "Узнаем время обучения Decision Tree"
   ]
  },
  {
   "cell_type": "code",
   "execution_count": 35,
   "metadata": {},
   "outputs": [],
   "source": [
    "start = time.time()\n",
    "\n",
    "dt = DecisionTreeRegressor(max_depth=10).fit(features_train_encoded, target_train)\n",
    "\n",
    "list_train.append(time.time() - start)"
   ]
  },
  {
   "cell_type": "markdown",
   "metadata": {},
   "source": [
    "Узнаем время обучения CatBoostRegressor"
   ]
  },
  {
   "cell_type": "code",
   "execution_count": 36,
   "metadata": {},
   "outputs": [],
   "source": [
    "start = time.time()\n",
    "\n",
    "cat_model = CatBoostRegressor(cat_features=cat_features,\n",
    "                          loss_function='RMSE',\n",
    "                          **grid_search_result['params'],\n",
    "                          silent=True,\n",
    "                          thread_count=-1,\n",
    "                          random_seed=91)\n",
    "cat_model.fit(features_train, target_train)\n",
    "\n",
    "list_train.append(time.time() - start)"
   ]
  },
  {
   "cell_type": "markdown",
   "metadata": {},
   "source": [
    "Узнаем время обучения LGBMRegressor"
   ]
  },
  {
   "cell_type": "code",
   "execution_count": 37,
   "metadata": {},
   "outputs": [],
   "source": [
    "start = time.time()\n",
    "\n",
    "lgb_model = LGBMRegressor(num_leaves = 100, \n",
    "                          max_depth = 12, \n",
    "                          random_state=91,\n",
    "                          n_jobs=-1)\n",
    "lgb_model.fit(features_train_encoded, target_train)\n",
    "\n",
    "list_train.append(time.time() - start)"
   ]
  },
  {
   "cell_type": "markdown",
   "metadata": {},
   "source": [
    "Узнаем время предсказания LinearRegression"
   ]
  },
  {
   "cell_type": "code",
   "execution_count": 38,
   "metadata": {},
   "outputs": [],
   "source": [
    "start = time.time()\n",
    "\n",
    "pred_lr = lr.predict(features_valid_encoded)\n",
    "\n",
    "list_predict.append(time.time() - start)"
   ]
  },
  {
   "cell_type": "markdown",
   "metadata": {},
   "source": [
    "Узнаем время предсказания Decision Tree"
   ]
  },
  {
   "cell_type": "code",
   "execution_count": 39,
   "metadata": {},
   "outputs": [],
   "source": [
    "start = time.time()\n",
    "\n",
    "pred_dt = dt.predict(features_valid_encoded)\n",
    "\n",
    "list_predict.append(time.time() - start)"
   ]
  },
  {
   "cell_type": "markdown",
   "metadata": {},
   "source": [
    "Узнаем время предсказания CatBoostRegressor"
   ]
  },
  {
   "cell_type": "code",
   "execution_count": 40,
   "metadata": {},
   "outputs": [],
   "source": [
    "start = time.time()\n",
    "\n",
    "pred_cat = cat_model.predict(features_valid)\n",
    "\n",
    "list_predict.append(time.time() - start)"
   ]
  },
  {
   "cell_type": "markdown",
   "metadata": {},
   "source": [
    "Узнаем время предсказания LGBMRegressor"
   ]
  },
  {
   "cell_type": "code",
   "execution_count": 41,
   "metadata": {},
   "outputs": [],
   "source": [
    "start = time.time()\n",
    "\n",
    "pred_lgb = lgb_model.predict(features_valid_encoded)\n",
    "\n",
    "list_predict.append(time.time() - start)"
   ]
  },
  {
   "cell_type": "markdown",
   "metadata": {},
   "source": [
    "Посчитаем метрику RMSE для LinearRegression"
   ]
  },
  {
   "cell_type": "code",
   "execution_count": 42,
   "metadata": {},
   "outputs": [],
   "source": [
    "list_quality.append(mean_squared_error(target_valid_encoded, pred_lr, squared=False))"
   ]
  },
  {
   "cell_type": "markdown",
   "metadata": {},
   "source": [
    "Посчитаем метрику RMSE для Decision Tree"
   ]
  },
  {
   "cell_type": "code",
   "execution_count": 43,
   "metadata": {},
   "outputs": [],
   "source": [
    "list_quality.append(mean_squared_error(target_valid_encoded, pred_dt, squared=False))"
   ]
  },
  {
   "cell_type": "markdown",
   "metadata": {},
   "source": [
    "Посчитаем метрику RMSE для CatBoostRegressor"
   ]
  },
  {
   "cell_type": "code",
   "execution_count": 44,
   "metadata": {},
   "outputs": [],
   "source": [
    "list_quality.append(mean_squared_error(target_valid, pred_cat, squared=False))"
   ]
  },
  {
   "cell_type": "markdown",
   "metadata": {},
   "source": [
    "Посчитаем метрику RMSE для LGBMRegressor"
   ]
  },
  {
   "cell_type": "code",
   "execution_count": 45,
   "metadata": {},
   "outputs": [],
   "source": [
    "list_quality.append(mean_squared_error(target_valid, pred_lgb, squared=False))"
   ]
  },
  {
   "cell_type": "markdown",
   "metadata": {},
   "source": [
    "Объединим все данные в обну таблицу для наглядности"
   ]
  },
  {
   "cell_type": "code",
   "execution_count": 46,
   "metadata": {},
   "outputs": [
    {
     "data": {
      "text/html": [
       "<div>\n",
       "<style scoped>\n",
       "    .dataframe tbody tr th:only-of-type {\n",
       "        vertical-align: middle;\n",
       "    }\n",
       "\n",
       "    .dataframe tbody tr th {\n",
       "        vertical-align: top;\n",
       "    }\n",
       "\n",
       "    .dataframe thead th {\n",
       "        text-align: right;\n",
       "    }\n",
       "</style>\n",
       "<table border=\"1\" class=\"dataframe\">\n",
       "  <thead>\n",
       "    <tr style=\"text-align: right;\">\n",
       "      <th></th>\n",
       "      <th>LinearRegression</th>\n",
       "      <th>Decision Tree</th>\n",
       "      <th>CatBoost</th>\n",
       "      <th>LightGBM</th>\n",
       "    </tr>\n",
       "  </thead>\n",
       "  <tbody>\n",
       "    <tr>\n",
       "      <th>Train Time</th>\n",
       "      <td>0.060175</td>\n",
       "      <td>0.385756</td>\n",
       "      <td>118.563774</td>\n",
       "      <td>9.647319</td>\n",
       "    </tr>\n",
       "    <tr>\n",
       "      <th>Predict Time</th>\n",
       "      <td>0.003863</td>\n",
       "      <td>0.008028</td>\n",
       "      <td>0.253209</td>\n",
       "      <td>0.532291</td>\n",
       "    </tr>\n",
       "    <tr>\n",
       "      <th>RMSE</th>\n",
       "      <td>3571.331189</td>\n",
       "      <td>2053.815624</td>\n",
       "      <td>1656.455477</td>\n",
       "      <td>1682.386171</td>\n",
       "    </tr>\n",
       "  </tbody>\n",
       "</table>\n",
       "</div>"
      ],
      "text/plain": [
       "              LinearRegression  Decision Tree     CatBoost     LightGBM\n",
       "Train Time            0.060175       0.385756   118.563774     9.647319\n",
       "Predict Time          0.003863       0.008028     0.253209     0.532291\n",
       "RMSE               3571.331189    2053.815624  1656.455477  1682.386171"
      ]
     },
     "execution_count": 46,
     "metadata": {},
     "output_type": "execute_result"
    }
   ],
   "source": [
    "pd.DataFrame([list_train, list_predict, list_quality],\n",
    "             index=['Train Time', 'Predict Time', 'RMSE'],\n",
    "             columns=['LinearRegression', 'Decision Tree', 'CatBoost', 'LightGBM'])"
   ]
  },
  {
   "cell_type": "markdown",
   "metadata": {},
   "source": [
    "Самое низкое значение метрики RMSE получилось у библиотека CatBoost, по ней и проведем финальное тестирование на тестовой выборке"
   ]
  },
  {
   "cell_type": "code",
   "execution_count": 47,
   "metadata": {},
   "outputs": [
    {
     "name": "stdout",
     "output_type": "stream",
     "text": [
      "Время предсказания на тестовой выборке: 0.2575809955596924\n",
      "RMSE of CatBoostRegressor: 1639.5533386745817\n"
     ]
    }
   ],
   "source": [
    "start = time.time()\n",
    "\n",
    "pred_cat = cat_model.predict(features_test)\n",
    "\n",
    "print('Время предсказания на тестовой выборке:', time.time() - start)\n",
    "print(f'RMSE of CatBoostRegressor: {mean_squared_error(target_test, pred_cat, squared=False)}')"
   ]
  },
  {
   "cell_type": "markdown",
   "metadata": {},
   "source": [
    "## Общий вывод"
   ]
  },
  {
   "cell_type": "markdown",
   "metadata": {},
   "source": [
    "- Был проведён анализ данных, в ходе которого были обработаны пропущенные значения\n",
    "- Были выявлены и удалены некоторые аномалии в данных\n",
    "- Проведено сравнение линейной регрессии, случайного дерева и библиотек градиентного бустинга CatBoost и LightGBM\n",
    "- С помощью кросс валидации были подобраны наилучшие параметры для CatBoostRegressor и LGBMRegressor\n",
    "- Регрессия с помощью библиотек градиентного бустинга позволяет улучшить результат прогноза по сравнению с более простыми алгоритмами, но обучаются они дольше\n",
    "- CatBoost оказался точнее"
   ]
  }
 ],
 "metadata": {
  "ExecuteTimeLog": [
   {
    "duration": 479,
    "start_time": "2023-03-19T04:47:45.903Z"
   },
   {
    "duration": 133,
    "start_time": "2023-03-19T04:48:50.502Z"
   },
   {
    "duration": 2031,
    "start_time": "2023-03-19T04:48:59.521Z"
   },
   {
    "duration": 196,
    "start_time": "2023-03-19T04:51:14.279Z"
   },
   {
    "duration": 8,
    "start_time": "2023-03-19T04:53:47.720Z"
   },
   {
    "duration": 540,
    "start_time": "2023-03-19T04:53:53.495Z"
   },
   {
    "duration": 75,
    "start_time": "2023-03-19T04:54:08.914Z"
   },
   {
    "duration": 776,
    "start_time": "2023-03-19T05:03:38.141Z"
   },
   {
    "duration": 151,
    "start_time": "2023-03-19T05:03:57.979Z"
   },
   {
    "duration": 9,
    "start_time": "2023-03-19T05:04:26.902Z"
   },
   {
    "duration": 94,
    "start_time": "2023-03-19T05:04:34.034Z"
   },
   {
    "duration": 67,
    "start_time": "2023-03-19T05:07:54.106Z"
   },
   {
    "duration": 88,
    "start_time": "2023-03-19T05:08:59.122Z"
   },
   {
    "duration": 459,
    "start_time": "2023-03-19T05:09:02.058Z"
   },
   {
    "duration": 117,
    "start_time": "2023-03-19T05:09:56.354Z"
   },
   {
    "duration": 359,
    "start_time": "2023-03-19T05:10:57.843Z"
   },
   {
    "duration": 92,
    "start_time": "2023-03-19T05:11:12.876Z"
   },
   {
    "duration": 71,
    "start_time": "2023-03-19T05:11:19.712Z"
   },
   {
    "duration": 357,
    "start_time": "2023-03-19T05:11:29.403Z"
   },
   {
    "duration": 3,
    "start_time": "2023-03-19T05:12:24.016Z"
   },
   {
    "duration": 382,
    "start_time": "2023-03-19T05:12:27.648Z"
   },
   {
    "duration": 430,
    "start_time": "2023-03-19T05:12:41.619Z"
   },
   {
    "duration": 797,
    "start_time": "2023-03-19T05:13:28.723Z"
   },
   {
    "duration": 99,
    "start_time": "2023-03-19T05:13:54.612Z"
   },
   {
    "duration": 33,
    "start_time": "2023-03-19T05:16:18.204Z"
   },
   {
    "duration": 13,
    "start_time": "2023-03-19T05:16:22.822Z"
   },
   {
    "duration": 12,
    "start_time": "2023-03-19T05:16:27.777Z"
   },
   {
    "duration": 714,
    "start_time": "2023-03-19T05:16:27.805Z"
   },
   {
    "duration": 118,
    "start_time": "2023-03-19T05:16:28.520Z"
   },
   {
    "duration": 96,
    "start_time": "2023-03-19T05:16:28.639Z"
   },
   {
    "duration": 106,
    "start_time": "2023-03-19T05:16:28.738Z"
   },
   {
    "duration": 125,
    "start_time": "2023-03-19T05:16:28.846Z"
   },
   {
    "duration": 377,
    "start_time": "2023-03-19T05:16:28.979Z"
   },
   {
    "duration": 363,
    "start_time": "2023-03-19T05:16:29.357Z"
   },
   {
    "duration": 767,
    "start_time": "2023-03-19T05:16:29.722Z"
   },
   {
    "duration": 36,
    "start_time": "2023-03-19T05:16:30.490Z"
   },
   {
    "duration": 11,
    "start_time": "2023-03-19T05:17:12.978Z"
   },
   {
    "duration": 18,
    "start_time": "2023-03-19T05:17:17.350Z"
   },
   {
    "duration": 79,
    "start_time": "2023-03-19T05:17:24.711Z"
   },
   {
    "duration": 13,
    "start_time": "2023-03-19T05:17:35.202Z"
   },
   {
    "duration": 20,
    "start_time": "2023-03-19T05:17:40.062Z"
   },
   {
    "duration": 817,
    "start_time": "2023-03-20T03:00:11.359Z"
   },
   {
    "duration": 3,
    "start_time": "2023-03-20T03:01:04.299Z"
   },
   {
    "duration": 3132,
    "start_time": "2023-03-20T03:01:04.305Z"
   },
   {
    "duration": 137,
    "start_time": "2023-03-20T03:01:07.439Z"
   },
   {
    "duration": 120,
    "start_time": "2023-03-20T03:01:07.577Z"
   },
   {
    "duration": 94,
    "start_time": "2023-03-20T03:01:07.699Z"
   },
   {
    "duration": 143,
    "start_time": "2023-03-20T03:01:07.795Z"
   },
   {
    "duration": 487,
    "start_time": "2023-03-20T03:01:07.943Z"
   },
   {
    "duration": 486,
    "start_time": "2023-03-20T03:01:08.434Z"
   },
   {
    "duration": 998,
    "start_time": "2023-03-20T03:01:08.921Z"
   },
   {
    "duration": 49,
    "start_time": "2023-03-20T03:01:09.921Z"
   },
   {
    "duration": 214,
    "start_time": "2023-03-20T03:01:09.972Z"
   },
   {
    "duration": 220,
    "start_time": "2023-03-20T03:01:28.360Z"
   },
   {
    "duration": 26,
    "start_time": "2023-03-20T04:34:00.150Z"
   },
   {
    "duration": 233,
    "start_time": "2023-03-20T04:34:24.278Z"
   },
   {
    "duration": 29,
    "start_time": "2023-03-20T04:34:45.006Z"
   },
   {
    "duration": 76,
    "start_time": "2023-03-20T04:35:15.102Z"
   },
   {
    "duration": 6,
    "start_time": "2023-03-20T04:36:39.000Z"
   },
   {
    "duration": 8,
    "start_time": "2023-03-20T04:36:50.512Z"
   },
   {
    "duration": 6,
    "start_time": "2023-03-20T04:36:54.568Z"
   },
   {
    "duration": 19,
    "start_time": "2023-03-20T04:37:11.409Z"
   },
   {
    "duration": 72,
    "start_time": "2023-03-20T04:38:42.177Z"
   },
   {
    "duration": 19,
    "start_time": "2023-03-20T04:40:31.075Z"
   },
   {
    "duration": 26,
    "start_time": "2023-03-20T04:41:16.316Z"
   },
   {
    "duration": 20,
    "start_time": "2023-03-20T04:41:36.641Z"
   },
   {
    "duration": 22,
    "start_time": "2023-03-20T04:41:45.764Z"
   },
   {
    "duration": 38,
    "start_time": "2023-03-20T04:42:12.988Z"
   },
   {
    "duration": 6,
    "start_time": "2023-03-20T04:42:40.669Z"
   },
   {
    "duration": 20,
    "start_time": "2023-03-20T04:42:48.101Z"
   },
   {
    "duration": 18,
    "start_time": "2023-03-20T04:43:08.878Z"
   },
   {
    "duration": 18,
    "start_time": "2023-03-20T04:44:10.935Z"
   },
   {
    "duration": 17,
    "start_time": "2023-03-20T04:44:46.847Z"
   },
   {
    "duration": 3,
    "start_time": "2023-03-20T04:45:37.793Z"
   },
   {
    "duration": 790,
    "start_time": "2023-03-20T04:45:37.798Z"
   },
   {
    "duration": 171,
    "start_time": "2023-03-20T04:45:38.590Z"
   },
   {
    "duration": 103,
    "start_time": "2023-03-20T04:45:38.763Z"
   },
   {
    "duration": 89,
    "start_time": "2023-03-20T04:45:38.868Z"
   },
   {
    "duration": 95,
    "start_time": "2023-03-20T04:45:38.959Z"
   },
   {
    "duration": 79,
    "start_time": "2023-03-20T04:46:01.167Z"
   },
   {
    "duration": 107,
    "start_time": "2023-03-20T04:46:02.511Z"
   },
   {
    "duration": 3,
    "start_time": "2023-03-20T04:46:08.951Z"
   },
   {
    "duration": 776,
    "start_time": "2023-03-20T04:46:08.956Z"
   },
   {
    "duration": 118,
    "start_time": "2023-03-20T04:46:09.734Z"
   },
   {
    "duration": 106,
    "start_time": "2023-03-20T04:46:09.854Z"
   },
   {
    "duration": 96,
    "start_time": "2023-03-20T04:46:09.963Z"
   },
   {
    "duration": 101,
    "start_time": "2023-03-20T04:46:10.061Z"
   },
   {
    "duration": 144,
    "start_time": "2023-03-20T04:46:10.164Z"
   },
   {
    "duration": 464,
    "start_time": "2023-03-20T04:46:10.322Z"
   },
   {
    "duration": 431,
    "start_time": "2023-03-20T04:46:10.788Z"
   },
   {
    "duration": 961,
    "start_time": "2023-03-20T04:46:11.221Z"
   },
   {
    "duration": 43,
    "start_time": "2023-03-20T04:46:12.184Z"
   },
   {
    "duration": 229,
    "start_time": "2023-03-20T04:46:12.230Z"
   },
   {
    "duration": 88,
    "start_time": "2023-03-20T04:46:12.461Z"
   },
   {
    "duration": 6,
    "start_time": "2023-03-20T04:46:12.552Z"
   },
   {
    "duration": 21,
    "start_time": "2023-03-20T04:46:12.560Z"
   },
   {
    "duration": 97,
    "start_time": "2023-03-20T04:46:12.583Z"
   },
   {
    "duration": 10,
    "start_time": "2023-03-20T04:46:12.682Z"
   },
   {
    "duration": 17,
    "start_time": "2023-03-20T07:07:39.064Z"
   },
   {
    "duration": 10,
    "start_time": "2023-03-20T07:08:37.755Z"
   },
   {
    "duration": 734,
    "start_time": "2023-03-20T07:08:57.898Z"
   },
   {
    "duration": 89,
    "start_time": "2023-03-20T07:09:01.914Z"
   },
   {
    "duration": 44,
    "start_time": "2023-03-20T07:09:41.660Z"
   },
   {
    "duration": 5,
    "start_time": "2023-03-20T07:09:47.915Z"
   },
   {
    "duration": 6,
    "start_time": "2023-03-20T07:10:51.837Z"
   },
   {
    "duration": 12,
    "start_time": "2023-03-20T08:03:34.248Z"
   },
   {
    "duration": 4,
    "start_time": "2023-03-20T08:03:56.736Z"
   },
   {
    "duration": 35,
    "start_time": "2023-03-20T08:05:20.362Z"
   },
   {
    "duration": 20,
    "start_time": "2023-03-20T08:06:01.596Z"
   },
   {
    "duration": 874,
    "start_time": "2023-03-20T08:06:05.474Z"
   },
   {
    "duration": 947,
    "start_time": "2023-03-20T08:07:28.390Z"
   },
   {
    "duration": 146,
    "start_time": "2023-03-20T08:10:06.386Z"
   },
   {
    "duration": 3,
    "start_time": "2023-03-20T08:10:25.557Z"
   },
   {
    "duration": 45,
    "start_time": "2023-03-20T08:10:29.748Z"
   },
   {
    "duration": 94,
    "start_time": "2023-03-20T08:13:23.406Z"
   },
   {
    "duration": 53,
    "start_time": "2023-03-20T08:13:36.039Z"
   },
   {
    "duration": 360,
    "start_time": "2023-03-20T08:13:43.783Z"
   },
   {
    "duration": 4,
    "start_time": "2023-03-20T08:15:09.433Z"
   },
   {
    "duration": 1213778,
    "start_time": "2023-03-20T08:15:13.770Z"
   },
   {
    "duration": 4,
    "start_time": "2023-03-20T08:35:27.550Z"
   },
   {
    "duration": 123652,
    "start_time": "2023-03-20T08:40:23.897Z"
   },
   {
    "duration": 48,
    "start_time": "2023-03-20T08:43:26.337Z"
   },
   {
    "duration": 1733769,
    "start_time": "2023-03-20T08:43:33.161Z"
   },
   {
    "duration": 11,
    "start_time": "2023-03-20T09:12:26.933Z"
   },
   {
    "duration": 0,
    "start_time": "2023-03-20T09:12:26.945Z"
   },
   {
    "duration": 3202,
    "start_time": "2023-03-20T09:12:29.169Z"
   },
   {
    "duration": 5593275,
    "start_time": "2023-03-20T09:12:38.271Z"
   },
   {
    "duration": 9,
    "start_time": "2023-03-20T10:45:51.548Z"
   },
   {
    "duration": 2035,
    "start_time": "2023-03-20T13:48:43.356Z"
   },
   {
    "duration": 1895,
    "start_time": "2023-03-20T13:48:45.402Z"
   },
   {
    "duration": 139,
    "start_time": "2023-03-20T13:48:47.299Z"
   },
   {
    "duration": 188,
    "start_time": "2023-03-20T13:48:47.440Z"
   },
   {
    "duration": 158,
    "start_time": "2023-03-20T13:48:47.631Z"
   },
   {
    "duration": 125,
    "start_time": "2023-03-20T13:48:47.797Z"
   },
   {
    "duration": 131,
    "start_time": "2023-03-20T13:48:47.925Z"
   },
   {
    "duration": 725,
    "start_time": "2023-03-20T13:48:48.059Z"
   },
   {
    "duration": 624,
    "start_time": "2023-03-20T13:48:48.795Z"
   },
   {
    "duration": 1263,
    "start_time": "2023-03-20T13:48:49.421Z"
   },
   {
    "duration": 60,
    "start_time": "2023-03-20T13:48:50.689Z"
   },
   {
    "duration": 325,
    "start_time": "2023-03-20T13:48:50.751Z"
   },
   {
    "duration": 123,
    "start_time": "2023-03-20T13:48:51.078Z"
   },
   {
    "duration": 10,
    "start_time": "2023-03-20T13:48:51.206Z"
   },
   {
    "duration": 34,
    "start_time": "2023-03-20T13:48:51.218Z"
   },
   {
    "duration": 107,
    "start_time": "2023-03-20T13:48:51.254Z"
   },
   {
    "duration": 26,
    "start_time": "2023-03-20T13:48:51.364Z"
   },
   {
    "duration": 70,
    "start_time": "2023-03-20T13:48:51.392Z"
   },
   {
    "duration": 200,
    "start_time": "2023-03-20T13:48:51.465Z"
   },
   {
    "duration": 6,
    "start_time": "2023-03-20T13:48:51.668Z"
   },
   {
    "duration": 28,
    "start_time": "2023-03-20T13:48:51.688Z"
   },
   {
    "duration": 1345,
    "start_time": "2023-03-20T13:48:51.719Z"
   },
   {
    "duration": 243,
    "start_time": "2023-03-20T13:48:53.066Z"
   },
   {
    "duration": 614,
    "start_time": "2023-03-20T13:48:53.382Z"
   },
   {
    "duration": 17849,
    "start_time": "2023-03-20T13:48:53.998Z"
   },
   {
    "duration": 22,
    "start_time": "2023-03-20T13:49:11.851Z"
   },
   {
    "duration": 0,
    "start_time": "2023-03-20T13:49:11.876Z"
   },
   {
    "duration": 0,
    "start_time": "2023-03-20T13:49:11.878Z"
   },
   {
    "duration": 0,
    "start_time": "2023-03-20T13:49:11.885Z"
   },
   {
    "duration": 0,
    "start_time": "2023-03-20T13:49:11.886Z"
   },
   {
    "duration": 1426796,
    "start_time": "2023-03-20T13:49:25.063Z"
   },
   {
    "duration": 8,
    "start_time": "2023-03-20T14:13:11.862Z"
   },
   {
    "duration": 137059,
    "start_time": "2023-03-20T14:13:11.872Z"
   },
   {
    "duration": 1118608,
    "start_time": "2023-03-20T14:15:28.933Z"
   },
   {
    "duration": 13,
    "start_time": "2023-03-20T14:34:07.544Z"
   },
   {
    "duration": 0,
    "start_time": "2023-03-20T14:34:07.559Z"
   },
   {
    "duration": 0,
    "start_time": "2023-03-20T14:34:07.560Z"
   },
   {
    "duration": 0,
    "start_time": "2023-03-20T14:34:07.561Z"
   },
   {
    "duration": 0,
    "start_time": "2023-03-20T14:34:07.563Z"
   },
   {
    "duration": 113,
    "start_time": "2023-03-20T14:34:42.879Z"
   },
   {
    "duration": 41,
    "start_time": "2023-03-20T14:34:57.704Z"
   },
   {
    "duration": 165801,
    "start_time": "2023-03-20T14:35:04.693Z"
   },
   {
    "duration": 16,
    "start_time": "2023-03-20T14:37:50.497Z"
   },
   {
    "duration": 0,
    "start_time": "2023-03-20T14:37:50.515Z"
   },
   {
    "duration": 17,
    "start_time": "2023-03-20T14:57:34.263Z"
   },
   {
    "duration": 0,
    "start_time": "2023-03-20T14:57:34.282Z"
   },
   {
    "duration": 0,
    "start_time": "2023-03-20T14:57:34.288Z"
   },
   {
    "duration": 186,
    "start_time": "2023-03-20T14:57:37.324Z"
   },
   {
    "duration": 40100,
    "start_time": "2023-03-20T14:57:53.229Z"
   },
   {
    "duration": 38,
    "start_time": "2023-03-20T14:58:33.332Z"
   },
   {
    "duration": 0,
    "start_time": "2023-03-20T14:58:33.376Z"
   },
   {
    "duration": 2489929,
    "start_time": "2023-03-20T14:58:41.957Z"
   },
   {
    "duration": 11,
    "start_time": "2023-03-20T15:40:11.889Z"
   },
   {
    "duration": 0,
    "start_time": "2023-03-20T15:40:11.902Z"
   },
   {
    "duration": 0,
    "start_time": "2023-03-20T15:40:11.904Z"
   },
   {
    "duration": 0,
    "start_time": "2023-03-20T15:40:11.905Z"
   },
   {
    "duration": 0,
    "start_time": "2023-03-20T15:40:11.906Z"
   },
   {
    "duration": 0,
    "start_time": "2023-03-20T15:40:11.907Z"
   },
   {
    "duration": 0,
    "start_time": "2023-03-20T15:40:11.908Z"
   },
   {
    "duration": 0,
    "start_time": "2023-03-20T15:40:11.909Z"
   },
   {
    "duration": 0,
    "start_time": "2023-03-20T15:40:11.910Z"
   },
   {
    "duration": 0,
    "start_time": "2023-03-20T15:40:11.911Z"
   },
   {
    "duration": 98,
    "start_time": "2023-03-20T15:40:45.573Z"
   },
   {
    "duration": 96,
    "start_time": "2023-03-20T15:40:54.795Z"
   },
   {
    "duration": 50261,
    "start_time": "2023-03-20T15:41:08.126Z"
   },
   {
    "duration": 13,
    "start_time": "2023-03-20T15:41:59.368Z"
   },
   {
    "duration": 16,
    "start_time": "2023-03-20T15:42:02.604Z"
   },
   {
    "duration": 6,
    "start_time": "2023-03-20T15:42:27.319Z"
   },
   {
    "duration": 1743,
    "start_time": "2023-03-21T02:01:53.542Z"
   },
   {
    "duration": 1215,
    "start_time": "2023-03-21T02:01:55.287Z"
   },
   {
    "duration": 154,
    "start_time": "2023-03-21T02:01:56.504Z"
   },
   {
    "duration": 112,
    "start_time": "2023-03-21T02:01:56.661Z"
   },
   {
    "duration": 111,
    "start_time": "2023-03-21T02:01:56.775Z"
   },
   {
    "duration": 111,
    "start_time": "2023-03-21T02:01:56.888Z"
   },
   {
    "duration": 148,
    "start_time": "2023-03-21T02:01:57.001Z"
   },
   {
    "duration": 546,
    "start_time": "2023-03-21T02:01:57.151Z"
   },
   {
    "duration": 534,
    "start_time": "2023-03-21T02:01:57.699Z"
   },
   {
    "duration": 1062,
    "start_time": "2023-03-21T02:01:58.237Z"
   },
   {
    "duration": 39,
    "start_time": "2023-03-21T02:01:59.301Z"
   },
   {
    "duration": 239,
    "start_time": "2023-03-21T02:01:59.342Z"
   },
   {
    "duration": 99,
    "start_time": "2023-03-21T02:01:59.584Z"
   },
   {
    "duration": 14,
    "start_time": "2023-03-21T02:01:59.684Z"
   },
   {
    "duration": 22,
    "start_time": "2023-03-21T02:01:59.699Z"
   },
   {
    "duration": 95,
    "start_time": "2023-03-21T02:01:59.723Z"
   },
   {
    "duration": 10,
    "start_time": "2023-03-21T02:01:59.820Z"
   },
   {
    "duration": 17,
    "start_time": "2023-03-21T02:01:59.832Z"
   },
   {
    "duration": 127,
    "start_time": "2023-03-21T02:01:59.851Z"
   },
   {
    "duration": 17,
    "start_time": "2023-03-21T02:01:59.981Z"
   },
   {
    "duration": 20,
    "start_time": "2023-03-21T02:02:00.000Z"
   },
   {
    "duration": 1202,
    "start_time": "2023-03-21T02:02:00.021Z"
   },
   {
    "duration": 85,
    "start_time": "2023-03-21T02:02:01.225Z"
   },
   {
    "duration": 570,
    "start_time": "2023-03-21T02:02:01.313Z"
   },
   {
    "duration": 1386779,
    "start_time": "2023-03-21T02:02:01.885Z"
   },
   {
    "duration": 4,
    "start_time": "2023-03-21T02:25:08.666Z"
   },
   {
    "duration": 159108,
    "start_time": "2023-03-21T02:25:08.672Z"
   },
   {
    "duration": 5122789,
    "start_time": "2023-03-21T02:27:47.784Z"
   },
   {
    "duration": 16,
    "start_time": "2023-03-21T03:53:10.578Z"
   },
   {
    "duration": 0,
    "start_time": "2023-03-21T03:53:10.597Z"
   },
   {
    "duration": 0,
    "start_time": "2023-03-21T03:53:10.599Z"
   },
   {
    "duration": 0,
    "start_time": "2023-03-21T03:53:10.600Z"
   },
   {
    "duration": 0,
    "start_time": "2023-03-21T03:53:10.601Z"
   },
   {
    "duration": 0,
    "start_time": "2023-03-21T03:53:10.602Z"
   },
   {
    "duration": 0,
    "start_time": "2023-03-21T03:53:10.603Z"
   },
   {
    "duration": 0,
    "start_time": "2023-03-21T03:53:10.607Z"
   },
   {
    "duration": 0,
    "start_time": "2023-03-21T03:53:10.609Z"
   },
   {
    "duration": 0,
    "start_time": "2023-03-21T03:53:10.611Z"
   },
   {
    "duration": 3,
    "start_time": "2023-03-21T03:53:34.461Z"
   },
   {
    "duration": 4,
    "start_time": "2023-03-21T03:53:39.429Z"
   },
   {
    "duration": 18849,
    "start_time": "2023-03-21T03:54:25.270Z"
   },
   {
    "duration": 1050657,
    "start_time": "2023-03-21T03:55:08.567Z"
   },
   {
    "duration": 5,
    "start_time": "2023-03-21T04:53:47.897Z"
   },
   {
    "duration": 162011,
    "start_time": "2023-03-21T04:53:49.403Z"
   },
   {
    "duration": 847698,
    "start_time": "2023-03-21T04:56:31.420Z"
   },
   {
    "duration": 393,
    "start_time": "2023-03-21T05:10:39.119Z"
   },
   {
    "duration": 698,
    "start_time": "2023-03-21T05:10:39.515Z"
   },
   {
    "duration": 4,
    "start_time": "2023-03-21T05:10:40.216Z"
   },
   {
    "duration": 12,
    "start_time": "2023-03-21T05:10:40.222Z"
   },
   {
    "duration": 27,
    "start_time": "2023-03-21T05:10:40.236Z"
   },
   {
    "duration": 2099,
    "start_time": "2023-03-23T06:39:55.312Z"
   },
   {
    "duration": 944,
    "start_time": "2023-03-23T06:39:57.413Z"
   },
   {
    "duration": 175,
    "start_time": "2023-03-23T06:39:58.779Z"
   },
   {
    "duration": 108,
    "start_time": "2023-03-23T06:40:00.569Z"
   },
   {
    "duration": 118,
    "start_time": "2023-03-23T06:40:37.065Z"
   },
   {
    "duration": 154,
    "start_time": "2023-03-23T06:40:42.362Z"
   },
   {
    "duration": 179,
    "start_time": "2023-03-23T06:41:13.296Z"
   },
   {
    "duration": 515,
    "start_time": "2023-03-23T06:41:17.022Z"
   },
   {
    "duration": 530,
    "start_time": "2023-03-23T06:41:18.223Z"
   },
   {
    "duration": 1138,
    "start_time": "2023-03-23T06:41:21.165Z"
   },
   {
    "duration": 39,
    "start_time": "2023-03-23T06:41:43.044Z"
   },
   {
    "duration": 240,
    "start_time": "2023-03-23T06:42:11.166Z"
   },
   {
    "duration": 107,
    "start_time": "2023-03-23T06:42:13.814Z"
   },
   {
    "duration": 12,
    "start_time": "2023-03-23T06:42:37.293Z"
   },
   {
    "duration": 32,
    "start_time": "2023-03-23T06:42:38.757Z"
   },
   {
    "duration": 83,
    "start_time": "2023-03-23T06:42:45.292Z"
   },
   {
    "duration": 13,
    "start_time": "2023-03-23T06:42:56.757Z"
   },
   {
    "duration": 58,
    "start_time": "2023-03-23T06:43:18.496Z"
   },
   {
    "duration": 16,
    "start_time": "2023-03-23T06:44:08.221Z"
   },
   {
    "duration": 108,
    "start_time": "2023-03-23T06:44:19.978Z"
   },
   {
    "duration": 7,
    "start_time": "2023-03-23T06:44:20.600Z"
   },
   {
    "duration": 5,
    "start_time": "2023-03-23T06:44:40.849Z"
   },
   {
    "duration": 1117,
    "start_time": "2023-03-23T06:44:51.054Z"
   },
   {
    "duration": 1727,
    "start_time": "2023-03-23T07:14:09.135Z"
   },
   {
    "duration": 2977,
    "start_time": "2023-03-23T07:14:10.864Z"
   },
   {
    "duration": 141,
    "start_time": "2023-03-23T07:14:13.843Z"
   },
   {
    "duration": 112,
    "start_time": "2023-03-23T07:14:13.989Z"
   },
   {
    "duration": 101,
    "start_time": "2023-03-23T07:14:14.103Z"
   },
   {
    "duration": 99,
    "start_time": "2023-03-23T07:14:14.205Z"
   },
   {
    "duration": 135,
    "start_time": "2023-03-23T07:14:14.306Z"
   },
   {
    "duration": 31,
    "start_time": "2023-03-23T07:14:14.442Z"
   },
   {
    "duration": 197,
    "start_time": "2023-03-23T07:14:14.489Z"
   },
   {
    "duration": 214,
    "start_time": "2023-03-23T07:14:14.690Z"
   },
   {
    "duration": 359,
    "start_time": "2023-03-23T07:14:14.906Z"
   },
   {
    "duration": 243,
    "start_time": "2023-03-23T07:17:01.615Z"
   },
   {
    "duration": 73,
    "start_time": "2023-03-23T07:17:04.561Z"
   },
   {
    "duration": 6,
    "start_time": "2023-03-23T07:17:12.982Z"
   },
   {
    "duration": 20,
    "start_time": "2023-03-23T07:17:16.136Z"
   },
   {
    "duration": 11,
    "start_time": "2023-03-23T07:20:06.523Z"
   },
   {
    "duration": 23,
    "start_time": "2023-03-23T07:20:41.553Z"
   },
   {
    "duration": 45,
    "start_time": "2023-03-23T07:28:06.034Z"
   },
   {
    "duration": 43,
    "start_time": "2023-03-23T07:28:13.890Z"
   },
   {
    "duration": 118,
    "start_time": "2023-03-23T07:28:48.932Z"
   },
   {
    "duration": 53,
    "start_time": "2023-03-23T07:33:27.530Z"
   },
   {
    "duration": 47,
    "start_time": "2023-03-23T07:33:59.559Z"
   },
   {
    "duration": 45,
    "start_time": "2023-03-23T07:34:10.488Z"
   },
   {
    "duration": 42,
    "start_time": "2023-03-23T07:34:29.743Z"
   },
   {
    "duration": 59,
    "start_time": "2023-03-23T07:34:57.334Z"
   },
   {
    "duration": 10,
    "start_time": "2023-03-23T08:25:00.433Z"
   },
   {
    "duration": 11,
    "start_time": "2023-03-23T08:25:08.769Z"
   },
   {
    "duration": 37,
    "start_time": "2023-03-23T08:25:16.130Z"
   },
   {
    "duration": 55,
    "start_time": "2023-03-23T08:25:26.658Z"
   },
   {
    "duration": 4,
    "start_time": "2023-03-23T08:25:54.745Z"
   },
   {
    "duration": 48,
    "start_time": "2023-03-23T08:25:59.466Z"
   },
   {
    "duration": 47,
    "start_time": "2023-03-23T08:27:57.035Z"
   },
   {
    "duration": 29,
    "start_time": "2023-03-23T08:28:29.260Z"
   },
   {
    "duration": 49,
    "start_time": "2023-03-23T08:31:57.694Z"
   },
   {
    "duration": 35,
    "start_time": "2023-03-23T08:32:33.063Z"
   },
   {
    "duration": 38,
    "start_time": "2023-03-23T08:33:49.041Z"
   },
   {
    "duration": 38,
    "start_time": "2023-03-23T08:34:01.976Z"
   },
   {
    "duration": 54,
    "start_time": "2023-03-23T08:34:49.897Z"
   },
   {
    "duration": 38,
    "start_time": "2023-03-23T08:39:46.751Z"
   },
   {
    "duration": 26,
    "start_time": "2023-03-23T08:40:07.262Z"
   },
   {
    "duration": 33,
    "start_time": "2023-03-23T08:41:24.584Z"
   },
   {
    "duration": 4,
    "start_time": "2023-03-23T08:43:33.845Z"
   },
   {
    "duration": 875,
    "start_time": "2023-03-23T08:43:33.851Z"
   },
   {
    "duration": 173,
    "start_time": "2023-03-23T08:43:34.729Z"
   },
   {
    "duration": 140,
    "start_time": "2023-03-23T08:43:34.905Z"
   },
   {
    "duration": 116,
    "start_time": "2023-03-23T08:43:35.048Z"
   },
   {
    "duration": 123,
    "start_time": "2023-03-23T08:43:35.166Z"
   },
   {
    "duration": 128,
    "start_time": "2023-03-23T08:43:35.291Z"
   },
   {
    "duration": 25,
    "start_time": "2023-03-23T08:43:35.421Z"
   },
   {
    "duration": 179,
    "start_time": "2023-03-23T08:43:35.447Z"
   },
   {
    "duration": 187,
    "start_time": "2023-03-23T08:43:35.628Z"
   },
   {
    "duration": 346,
    "start_time": "2023-03-23T08:43:35.816Z"
   },
   {
    "duration": 211,
    "start_time": "2023-03-23T08:43:36.164Z"
   },
   {
    "duration": 79,
    "start_time": "2023-03-23T08:43:36.377Z"
   },
   {
    "duration": 6,
    "start_time": "2023-03-23T08:43:36.460Z"
   },
   {
    "duration": 32,
    "start_time": "2023-03-23T08:43:36.468Z"
   },
   {
    "duration": 44,
    "start_time": "2023-03-23T08:43:36.502Z"
   },
   {
    "duration": 67,
    "start_time": "2023-03-23T08:43:41.352Z"
   },
   {
    "duration": 4,
    "start_time": "2023-03-23T08:43:57.141Z"
   },
   {
    "duration": 985,
    "start_time": "2023-03-23T08:43:57.148Z"
   },
   {
    "duration": 155,
    "start_time": "2023-03-23T08:43:58.135Z"
   },
   {
    "duration": 194,
    "start_time": "2023-03-23T08:43:58.291Z"
   },
   {
    "duration": 127,
    "start_time": "2023-03-23T08:43:58.490Z"
   },
   {
    "duration": 116,
    "start_time": "2023-03-23T08:43:58.619Z"
   },
   {
    "duration": 153,
    "start_time": "2023-03-23T08:43:58.737Z"
   },
   {
    "duration": 26,
    "start_time": "2023-03-23T08:43:58.892Z"
   },
   {
    "duration": 184,
    "start_time": "2023-03-23T08:43:58.920Z"
   },
   {
    "duration": 184,
    "start_time": "2023-03-23T08:43:59.105Z"
   },
   {
    "duration": 313,
    "start_time": "2023-03-23T08:43:59.290Z"
   },
   {
    "duration": 222,
    "start_time": "2023-03-23T08:43:59.605Z"
   },
   {
    "duration": 90,
    "start_time": "2023-03-23T08:43:59.829Z"
   },
   {
    "duration": 7,
    "start_time": "2023-03-23T08:43:59.923Z"
   },
   {
    "duration": 31,
    "start_time": "2023-03-23T08:43:59.932Z"
   },
   {
    "duration": 91,
    "start_time": "2023-03-23T08:43:59.965Z"
   },
   {
    "duration": 12,
    "start_time": "2023-03-23T08:44:00.059Z"
   },
   {
    "duration": 49,
    "start_time": "2023-03-23T08:44:00.089Z"
   },
   {
    "duration": 91,
    "start_time": "2023-03-23T08:44:00.139Z"
   },
   {
    "duration": 5,
    "start_time": "2023-03-23T08:44:00.232Z"
   },
   {
    "duration": 36,
    "start_time": "2023-03-23T08:44:00.239Z"
   },
   {
    "duration": 981,
    "start_time": "2023-03-23T08:44:00.276Z"
   },
   {
    "duration": 136,
    "start_time": "2023-03-23T08:44:01.258Z"
   },
   {
    "duration": 502,
    "start_time": "2023-03-23T08:44:01.397Z"
   },
   {
    "duration": 0,
    "start_time": "2023-03-23T08:53:33.684Z"
   },
   {
    "duration": 0,
    "start_time": "2023-03-23T08:53:33.685Z"
   },
   {
    "duration": 0,
    "start_time": "2023-03-23T08:53:33.686Z"
   },
   {
    "duration": 0,
    "start_time": "2023-03-23T08:53:33.687Z"
   },
   {
    "duration": 0,
    "start_time": "2023-03-23T08:53:33.688Z"
   },
   {
    "duration": 0,
    "start_time": "2023-03-23T08:53:33.695Z"
   },
   {
    "duration": 0,
    "start_time": "2023-03-23T08:53:33.696Z"
   },
   {
    "duration": 0,
    "start_time": "2023-03-23T08:53:33.697Z"
   },
   {
    "duration": 0,
    "start_time": "2023-03-23T08:53:33.698Z"
   },
   {
    "duration": 0,
    "start_time": "2023-03-23T08:53:33.700Z"
   },
   {
    "duration": 0,
    "start_time": "2023-03-23T08:53:33.701Z"
   },
   {
    "duration": 0,
    "start_time": "2023-03-23T08:53:33.702Z"
   },
   {
    "duration": 0,
    "start_time": "2023-03-23T08:53:33.704Z"
   },
   {
    "duration": 0,
    "start_time": "2023-03-23T08:53:33.705Z"
   },
   {
    "duration": 0,
    "start_time": "2023-03-23T08:53:33.706Z"
   },
   {
    "duration": 0,
    "start_time": "2023-03-23T08:53:33.707Z"
   },
   {
    "duration": 0,
    "start_time": "2023-03-23T08:53:33.708Z"
   },
   {
    "duration": 0,
    "start_time": "2023-03-23T08:53:33.709Z"
   },
   {
    "duration": 0,
    "start_time": "2023-03-23T08:53:33.710Z"
   },
   {
    "duration": 0,
    "start_time": "2023-03-23T08:53:33.711Z"
   },
   {
    "duration": 0,
    "start_time": "2023-03-23T08:53:33.712Z"
   },
   {
    "duration": 0,
    "start_time": "2023-03-23T08:53:33.713Z"
   },
   {
    "duration": 0,
    "start_time": "2023-03-23T08:53:33.714Z"
   },
   {
    "duration": 0,
    "start_time": "2023-03-23T08:53:33.715Z"
   },
   {
    "duration": 0,
    "start_time": "2023-03-23T08:53:33.716Z"
   },
   {
    "duration": 0,
    "start_time": "2023-03-23T08:53:33.717Z"
   },
   {
    "duration": 0,
    "start_time": "2023-03-23T08:53:33.718Z"
   },
   {
    "duration": 0,
    "start_time": "2023-03-23T08:53:33.719Z"
   },
   {
    "duration": 0,
    "start_time": "2023-03-23T08:53:33.720Z"
   },
   {
    "duration": 0,
    "start_time": "2023-03-23T08:53:33.721Z"
   },
   {
    "duration": 0,
    "start_time": "2023-03-23T08:53:33.722Z"
   },
   {
    "duration": 0,
    "start_time": "2023-03-23T08:53:33.723Z"
   },
   {
    "duration": 0,
    "start_time": "2023-03-23T08:53:33.724Z"
   },
   {
    "duration": 0,
    "start_time": "2023-03-23T08:53:33.725Z"
   },
   {
    "duration": 0,
    "start_time": "2023-03-23T08:53:33.726Z"
   },
   {
    "duration": 0,
    "start_time": "2023-03-23T08:53:33.727Z"
   },
   {
    "duration": 0,
    "start_time": "2023-03-23T08:53:33.728Z"
   },
   {
    "duration": 0,
    "start_time": "2023-03-23T08:53:33.729Z"
   },
   {
    "duration": 0,
    "start_time": "2023-03-23T08:53:33.791Z"
   },
   {
    "duration": 0,
    "start_time": "2023-03-23T08:53:33.792Z"
   },
   {
    "duration": 0,
    "start_time": "2023-03-23T08:53:33.795Z"
   },
   {
    "duration": 0,
    "start_time": "2023-03-23T08:53:33.796Z"
   },
   {
    "duration": 0,
    "start_time": "2023-03-23T08:53:33.796Z"
   },
   {
    "duration": 0,
    "start_time": "2023-03-23T08:53:33.797Z"
   },
   {
    "duration": 4,
    "start_time": "2023-03-23T08:54:11.074Z"
   },
   {
    "duration": 853,
    "start_time": "2023-03-23T08:54:12.249Z"
   },
   {
    "duration": 133,
    "start_time": "2023-03-23T08:54:15.649Z"
   },
   {
    "duration": 96,
    "start_time": "2023-03-23T08:54:17.764Z"
   },
   {
    "duration": 100,
    "start_time": "2023-03-23T08:54:21.103Z"
   },
   {
    "duration": 100,
    "start_time": "2023-03-23T08:54:23.273Z"
   },
   {
    "duration": 162,
    "start_time": "2023-03-23T08:54:26.530Z"
   },
   {
    "duration": 27,
    "start_time": "2023-03-23T08:54:29.805Z"
   },
   {
    "duration": 167,
    "start_time": "2023-03-23T08:54:32.050Z"
   },
   {
    "duration": 176,
    "start_time": "2023-03-23T08:54:32.754Z"
   },
   {
    "duration": 325,
    "start_time": "2023-03-23T08:54:34.725Z"
   },
   {
    "duration": 218,
    "start_time": "2023-03-23T08:54:38.074Z"
   },
   {
    "duration": 69,
    "start_time": "2023-03-23T08:54:40.754Z"
   },
   {
    "duration": 7,
    "start_time": "2023-03-23T08:54:43.162Z"
   },
   {
    "duration": 19,
    "start_time": "2023-03-23T08:54:44.042Z"
   },
   {
    "duration": 63,
    "start_time": "2023-03-23T08:54:45.252Z"
   },
   {
    "duration": 11,
    "start_time": "2023-03-23T08:54:46.650Z"
   },
   {
    "duration": 15,
    "start_time": "2023-03-23T08:54:51.034Z"
   },
   {
    "duration": 78,
    "start_time": "2023-03-23T08:54:51.466Z"
   },
   {
    "duration": 4,
    "start_time": "2023-03-23T08:54:51.939Z"
   },
   {
    "duration": 3,
    "start_time": "2023-03-23T08:54:55.820Z"
   },
   {
    "duration": 902,
    "start_time": "2023-03-23T08:54:56.942Z"
   },
   {
    "duration": 96,
    "start_time": "2023-03-23T08:55:02.898Z"
   },
   {
    "duration": 355,
    "start_time": "2023-03-23T08:55:13.379Z"
   },
   {
    "duration": 259555,
    "start_time": "2023-03-23T08:55:32.602Z"
   },
   {
    "duration": 6,
    "start_time": "2023-03-23T09:00:00.551Z"
   },
   {
    "duration": 172,
    "start_time": "2023-03-23T09:01:25.326Z"
   },
   {
    "duration": 263,
    "start_time": "2023-03-23T09:02:11.689Z"
   },
   {
    "duration": 144,
    "start_time": "2023-03-23T09:02:21.786Z"
   },
   {
    "duration": 135,
    "start_time": "2023-03-23T09:02:29.985Z"
   },
   {
    "duration": 15,
    "start_time": "2023-03-23T09:07:46.261Z"
   },
   {
    "duration": 47,
    "start_time": "2023-03-23T09:08:31.338Z"
   },
   {
    "duration": 4,
    "start_time": "2023-03-23T09:09:16.350Z"
   },
   {
    "duration": 6,
    "start_time": "2023-03-23T09:10:39.738Z"
   },
   {
    "duration": 5,
    "start_time": "2023-03-23T09:10:50.279Z"
   },
   {
    "duration": 5,
    "start_time": "2023-03-23T09:11:00.872Z"
   },
   {
    "duration": 81,
    "start_time": "2023-03-23T09:12:45.633Z"
   },
   {
    "duration": 10,
    "start_time": "2023-03-23T09:12:57.593Z"
   },
   {
    "duration": 9,
    "start_time": "2023-03-23T09:13:07.529Z"
   },
   {
    "duration": 11,
    "start_time": "2023-03-23T09:14:32.075Z"
   },
   {
    "duration": 17,
    "start_time": "2023-03-23T09:14:59.530Z"
   },
   {
    "duration": 1463,
    "start_time": "2023-03-23T09:15:56.293Z"
   },
   {
    "duration": 935,
    "start_time": "2023-03-23T09:15:57.759Z"
   },
   {
    "duration": 139,
    "start_time": "2023-03-23T09:15:58.696Z"
   },
   {
    "duration": 121,
    "start_time": "2023-03-23T09:15:58.837Z"
   },
   {
    "duration": 104,
    "start_time": "2023-03-23T09:15:58.959Z"
   },
   {
    "duration": 102,
    "start_time": "2023-03-23T09:15:59.064Z"
   },
   {
    "duration": 136,
    "start_time": "2023-03-23T09:15:59.168Z"
   },
   {
    "duration": 36,
    "start_time": "2023-03-23T09:15:59.306Z"
   },
   {
    "duration": 200,
    "start_time": "2023-03-23T09:15:59.344Z"
   },
   {
    "duration": 190,
    "start_time": "2023-03-23T09:15:59.546Z"
   },
   {
    "duration": 327,
    "start_time": "2023-03-23T09:15:59.737Z"
   },
   {
    "duration": 226,
    "start_time": "2023-03-23T09:16:00.065Z"
   },
   {
    "duration": 69,
    "start_time": "2023-03-23T09:16:00.293Z"
   },
   {
    "duration": 28,
    "start_time": "2023-03-23T09:16:00.364Z"
   },
   {
    "duration": 21,
    "start_time": "2023-03-23T09:16:00.394Z"
   },
   {
    "duration": 82,
    "start_time": "2023-03-23T09:16:00.417Z"
   },
   {
    "duration": 11,
    "start_time": "2023-03-23T09:16:00.501Z"
   },
   {
    "duration": 33,
    "start_time": "2023-03-23T09:16:00.514Z"
   },
   {
    "duration": 25,
    "start_time": "2023-03-23T09:16:00.549Z"
   },
   {
    "duration": 34,
    "start_time": "2023-03-23T09:16:00.576Z"
   },
   {
    "duration": 93,
    "start_time": "2023-03-23T09:16:00.611Z"
   },
   {
    "duration": 5,
    "start_time": "2023-03-23T09:16:00.705Z"
   },
   {
    "duration": 38,
    "start_time": "2023-03-23T09:16:00.711Z"
   },
   {
    "duration": 960,
    "start_time": "2023-03-23T09:16:00.751Z"
   },
   {
    "duration": 78,
    "start_time": "2023-03-23T09:16:01.713Z"
   },
   {
    "duration": 434,
    "start_time": "2023-03-23T09:16:01.793Z"
   },
   {
    "duration": 1084896,
    "start_time": "2023-03-23T09:16:02.229Z"
   },
   {
    "duration": 4,
    "start_time": "2023-03-23T09:34:07.129Z"
   },
   {
    "duration": 116500,
    "start_time": "2023-03-23T09:34:07.134Z"
   },
   {
    "duration": 2,
    "start_time": "2023-03-23T09:36:03.636Z"
   },
   {
    "duration": 6,
    "start_time": "2023-03-23T09:36:03.640Z"
   },
   {
    "duration": 7043,
    "start_time": "2023-03-23T09:36:03.647Z"
   },
   {
    "duration": 3,
    "start_time": "2023-03-23T09:36:10.691Z"
   },
   {
    "duration": 36,
    "start_time": "2023-03-23T09:36:10.696Z"
   },
   {
    "duration": 399,
    "start_time": "2023-03-23T09:36:10.733Z"
   },
   {
    "duration": 115911,
    "start_time": "2023-03-23T09:36:11.134Z"
   },
   {
    "duration": 6346,
    "start_time": "2023-03-23T09:38:07.047Z"
   },
   {
    "duration": 7,
    "start_time": "2023-03-23T09:38:13.394Z"
   },
   {
    "duration": 96,
    "start_time": "2023-03-23T09:38:13.403Z"
   },
   {
    "duration": 326,
    "start_time": "2023-03-23T09:38:13.502Z"
   },
   {
    "duration": 569,
    "start_time": "2023-03-23T09:38:13.830Z"
   },
   {
    "duration": 4,
    "start_time": "2023-03-23T09:38:14.400Z"
   },
   {
    "duration": 11,
    "start_time": "2023-03-23T09:38:14.406Z"
   },
   {
    "duration": 4,
    "start_time": "2023-03-23T09:38:14.419Z"
   },
   {
    "duration": 3,
    "start_time": "2023-03-23T09:38:14.425Z"
   },
   {
    "duration": 65,
    "start_time": "2023-03-23T09:38:14.430Z"
   },
   {
    "duration": 249,
    "start_time": "2023-03-23T10:12:21.314Z"
   },
   {
    "duration": 1479,
    "start_time": "2023-03-23T10:14:03.856Z"
   },
   {
    "duration": 894,
    "start_time": "2023-03-23T10:14:05.337Z"
   },
   {
    "duration": 158,
    "start_time": "2023-03-23T10:14:06.236Z"
   },
   {
    "duration": 122,
    "start_time": "2023-03-23T10:14:06.396Z"
   },
   {
    "duration": 112,
    "start_time": "2023-03-23T10:14:06.520Z"
   },
   {
    "duration": 118,
    "start_time": "2023-03-23T10:14:06.634Z"
   },
   {
    "duration": 149,
    "start_time": "2023-03-23T10:14:06.754Z"
   },
   {
    "duration": 43,
    "start_time": "2023-03-23T10:14:06.905Z"
   },
   {
    "duration": 216,
    "start_time": "2023-03-23T10:14:06.951Z"
   },
   {
    "duration": 222,
    "start_time": "2023-03-23T10:14:07.169Z"
   },
   {
    "duration": 436,
    "start_time": "2023-03-23T10:14:07.395Z"
   },
   {
    "duration": 232,
    "start_time": "2023-03-23T10:14:07.833Z"
   },
   {
    "duration": 83,
    "start_time": "2023-03-23T10:14:08.067Z"
   },
   {
    "duration": 7,
    "start_time": "2023-03-23T10:14:08.152Z"
   },
   {
    "duration": 44,
    "start_time": "2023-03-23T10:14:08.161Z"
   },
   {
    "duration": 84,
    "start_time": "2023-03-23T10:14:08.206Z"
   },
   {
    "duration": 12,
    "start_time": "2023-03-23T10:14:08.291Z"
   },
   {
    "duration": 31,
    "start_time": "2023-03-23T10:14:08.305Z"
   },
   {
    "duration": 21,
    "start_time": "2023-03-23T10:14:08.338Z"
   },
   {
    "duration": 32,
    "start_time": "2023-03-23T10:14:08.360Z"
   },
   {
    "duration": 100,
    "start_time": "2023-03-23T10:14:08.394Z"
   },
   {
    "duration": 4,
    "start_time": "2023-03-23T10:14:08.496Z"
   },
   {
    "duration": 10,
    "start_time": "2023-03-23T10:14:08.502Z"
   },
   {
    "duration": 975,
    "start_time": "2023-03-23T10:14:08.514Z"
   },
   {
    "duration": 100,
    "start_time": "2023-03-23T10:14:09.491Z"
   },
   {
    "duration": 443,
    "start_time": "2023-03-23T10:14:09.593Z"
   },
   {
    "duration": 10822,
    "start_time": "2023-03-23T10:14:10.040Z"
   },
   {
    "duration": 11,
    "start_time": "2023-03-23T10:14:20.864Z"
   },
   {
    "duration": 0,
    "start_time": "2023-03-23T10:14:20.877Z"
   },
   {
    "duration": 0,
    "start_time": "2023-03-23T10:14:20.879Z"
   },
   {
    "duration": 0,
    "start_time": "2023-03-23T10:14:20.880Z"
   },
   {
    "duration": 0,
    "start_time": "2023-03-23T10:14:20.880Z"
   },
   {
    "duration": 0,
    "start_time": "2023-03-23T10:14:20.882Z"
   },
   {
    "duration": 0,
    "start_time": "2023-03-23T10:14:20.883Z"
   },
   {
    "duration": 0,
    "start_time": "2023-03-23T10:14:20.884Z"
   },
   {
    "duration": 0,
    "start_time": "2023-03-23T10:14:20.884Z"
   },
   {
    "duration": 0,
    "start_time": "2023-03-23T10:14:20.886Z"
   },
   {
    "duration": 0,
    "start_time": "2023-03-23T10:14:20.887Z"
   },
   {
    "duration": 0,
    "start_time": "2023-03-23T10:14:20.888Z"
   },
   {
    "duration": 0,
    "start_time": "2023-03-23T10:14:20.889Z"
   },
   {
    "duration": 0,
    "start_time": "2023-03-23T10:14:20.890Z"
   },
   {
    "duration": 0,
    "start_time": "2023-03-23T10:14:20.891Z"
   },
   {
    "duration": 0,
    "start_time": "2023-03-23T10:14:20.892Z"
   },
   {
    "duration": 0,
    "start_time": "2023-03-23T10:14:20.893Z"
   },
   {
    "duration": 0,
    "start_time": "2023-03-23T10:14:20.894Z"
   },
   {
    "duration": 0,
    "start_time": "2023-03-23T10:14:20.896Z"
   },
   {
    "duration": 0,
    "start_time": "2023-03-23T10:14:20.897Z"
   },
   {
    "duration": 1399,
    "start_time": "2023-03-23T10:14:55.115Z"
   },
   {
    "duration": 912,
    "start_time": "2023-03-23T10:14:56.516Z"
   },
   {
    "duration": 143,
    "start_time": "2023-03-23T10:14:57.430Z"
   },
   {
    "duration": 179,
    "start_time": "2023-03-23T10:14:57.575Z"
   },
   {
    "duration": 122,
    "start_time": "2023-03-23T10:14:57.758Z"
   },
   {
    "duration": 135,
    "start_time": "2023-03-23T10:14:57.890Z"
   },
   {
    "duration": 137,
    "start_time": "2023-03-23T10:14:58.026Z"
   },
   {
    "duration": 43,
    "start_time": "2023-03-23T10:14:58.165Z"
   },
   {
    "duration": 216,
    "start_time": "2023-03-23T10:14:58.210Z"
   },
   {
    "duration": 218,
    "start_time": "2023-03-23T10:14:58.427Z"
   },
   {
    "duration": 415,
    "start_time": "2023-03-23T10:14:58.648Z"
   },
   {
    "duration": 218,
    "start_time": "2023-03-23T10:14:59.066Z"
   },
   {
    "duration": 90,
    "start_time": "2023-03-23T10:14:59.289Z"
   },
   {
    "duration": 7,
    "start_time": "2023-03-23T10:14:59.391Z"
   },
   {
    "duration": 31,
    "start_time": "2023-03-23T10:14:59.400Z"
   },
   {
    "duration": 103,
    "start_time": "2023-03-23T10:14:59.433Z"
   },
   {
    "duration": 11,
    "start_time": "2023-03-23T10:14:59.538Z"
   },
   {
    "duration": 14,
    "start_time": "2023-03-23T10:14:59.550Z"
   },
   {
    "duration": 50,
    "start_time": "2023-03-23T10:14:59.566Z"
   },
   {
    "duration": 23,
    "start_time": "2023-03-23T10:14:59.618Z"
   },
   {
    "duration": 111,
    "start_time": "2023-03-23T10:14:59.642Z"
   },
   {
    "duration": 4,
    "start_time": "2023-03-23T10:14:59.755Z"
   },
   {
    "duration": 5,
    "start_time": "2023-03-23T10:14:59.761Z"
   },
   {
    "duration": 959,
    "start_time": "2023-03-23T10:14:59.768Z"
   },
   {
    "duration": 160,
    "start_time": "2023-03-23T10:15:00.729Z"
   },
   {
    "duration": 406,
    "start_time": "2023-03-23T10:15:00.892Z"
   },
   {
    "duration": 1132978,
    "start_time": "2023-03-23T10:15:01.299Z"
   },
   {
    "duration": 3,
    "start_time": "2023-03-23T10:33:54.279Z"
   },
   {
    "duration": 119689,
    "start_time": "2023-03-23T10:33:54.284Z"
   },
   {
    "duration": 3,
    "start_time": "2023-03-23T10:35:53.975Z"
   },
   {
    "duration": 11,
    "start_time": "2023-03-23T10:35:53.979Z"
   },
   {
    "duration": 40708,
    "start_time": "2023-03-23T10:35:53.992Z"
   },
   {
    "duration": 2,
    "start_time": "2023-03-23T10:36:34.702Z"
   },
   {
    "duration": 96,
    "start_time": "2023-03-23T10:36:34.706Z"
   },
   {
    "duration": 411,
    "start_time": "2023-03-23T10:36:34.803Z"
   },
   {
    "duration": 122143,
    "start_time": "2023-03-23T10:36:35.215Z"
   },
   {
    "duration": 7842,
    "start_time": "2023-03-23T10:38:37.360Z"
   },
   {
    "duration": 90,
    "start_time": "2023-03-23T10:38:45.204Z"
   },
   {
    "duration": 103,
    "start_time": "2023-03-23T10:38:45.297Z"
   },
   {
    "duration": 302,
    "start_time": "2023-03-23T10:38:45.402Z"
   },
   {
    "duration": 502,
    "start_time": "2023-03-23T10:38:45.708Z"
   },
   {
    "duration": 79,
    "start_time": "2023-03-23T10:38:46.212Z"
   },
   {
    "duration": 4,
    "start_time": "2023-03-23T10:38:46.293Z"
   },
   {
    "duration": 4,
    "start_time": "2023-03-23T10:38:46.299Z"
   },
   {
    "duration": 5,
    "start_time": "2023-03-23T10:38:46.305Z"
   },
   {
    "duration": 10,
    "start_time": "2023-03-23T10:38:46.311Z"
   },
   {
    "duration": 266,
    "start_time": "2023-03-23T10:38:46.322Z"
   },
   {
    "duration": 74,
    "start_time": "2023-03-23T10:57:48.238Z"
   },
   {
    "duration": 1631,
    "start_time": "2023-03-24T03:12:35.950Z"
   },
   {
    "duration": 1119,
    "start_time": "2023-03-24T03:12:37.583Z"
   },
   {
    "duration": 137,
    "start_time": "2023-03-24T03:12:38.704Z"
   },
   {
    "duration": 116,
    "start_time": "2023-03-24T03:12:38.842Z"
   },
   {
    "duration": 101,
    "start_time": "2023-03-24T03:12:38.960Z"
   },
   {
    "duration": 106,
    "start_time": "2023-03-24T03:12:39.063Z"
   },
   {
    "duration": 134,
    "start_time": "2023-03-24T03:12:39.172Z"
   },
   {
    "duration": 35,
    "start_time": "2023-03-24T03:12:39.308Z"
   },
   {
    "duration": 197,
    "start_time": "2023-03-24T03:12:39.344Z"
   },
   {
    "duration": 215,
    "start_time": "2023-03-24T03:12:39.543Z"
   },
   {
    "duration": 360,
    "start_time": "2023-03-24T03:12:39.759Z"
   },
   {
    "duration": 222,
    "start_time": "2023-03-24T03:12:40.121Z"
   },
   {
    "duration": 76,
    "start_time": "2023-03-24T03:12:40.345Z"
   },
   {
    "duration": 6,
    "start_time": "2023-03-24T03:12:40.423Z"
   },
   {
    "duration": 30,
    "start_time": "2023-03-24T03:12:40.431Z"
   },
   {
    "duration": 71,
    "start_time": "2023-03-24T03:12:40.463Z"
   },
   {
    "duration": 11,
    "start_time": "2023-03-24T03:12:40.535Z"
   },
   {
    "duration": 18,
    "start_time": "2023-03-24T03:12:40.547Z"
   },
   {
    "duration": 26,
    "start_time": "2023-03-24T03:12:40.566Z"
   },
   {
    "duration": 30,
    "start_time": "2023-03-24T03:12:40.594Z"
   },
   {
    "duration": 102,
    "start_time": "2023-03-24T03:12:40.626Z"
   },
   {
    "duration": 4,
    "start_time": "2023-03-24T03:12:40.730Z"
   },
   {
    "duration": 20,
    "start_time": "2023-03-24T03:12:40.736Z"
   },
   {
    "duration": 919,
    "start_time": "2023-03-24T03:12:40.758Z"
   },
   {
    "duration": 140,
    "start_time": "2023-03-24T03:12:41.678Z"
   },
   {
    "duration": 414,
    "start_time": "2023-03-24T03:12:41.821Z"
   },
   {
    "duration": 1066606,
    "start_time": "2023-03-24T03:12:42.237Z"
   },
   {
    "duration": 4,
    "start_time": "2023-03-24T03:30:28.845Z"
   },
   {
    "duration": 115696,
    "start_time": "2023-03-24T03:30:28.850Z"
   },
   {
    "duration": 3,
    "start_time": "2023-03-24T03:32:24.548Z"
   },
   {
    "duration": 23,
    "start_time": "2023-03-24T03:32:24.552Z"
   },
   {
    "duration": 12154,
    "start_time": "2023-03-24T03:32:24.577Z"
   },
   {
    "duration": 3,
    "start_time": "2023-03-24T03:32:36.732Z"
   },
   {
    "duration": 84,
    "start_time": "2023-03-24T03:32:36.737Z"
   },
   {
    "duration": 389,
    "start_time": "2023-03-24T03:32:36.822Z"
   },
   {
    "duration": 118567,
    "start_time": "2023-03-24T03:32:37.213Z"
   },
   {
    "duration": 9651,
    "start_time": "2023-03-24T03:34:35.782Z"
   },
   {
    "duration": 7,
    "start_time": "2023-03-24T03:34:45.517Z"
   },
   {
    "duration": 200,
    "start_time": "2023-03-24T03:34:45.526Z"
   },
   {
    "duration": 269,
    "start_time": "2023-03-24T03:34:45.728Z"
   },
   {
    "duration": 535,
    "start_time": "2023-03-24T03:34:46.001Z"
   },
   {
    "duration": 4,
    "start_time": "2023-03-24T03:34:46.618Z"
   },
   {
    "duration": 33,
    "start_time": "2023-03-24T03:34:46.623Z"
   },
   {
    "duration": 42,
    "start_time": "2023-03-24T03:34:46.658Z"
   },
   {
    "duration": 43,
    "start_time": "2023-03-24T03:34:46.702Z"
   },
   {
    "duration": 33,
    "start_time": "2023-03-24T03:34:46.747Z"
   },
   {
    "duration": 276,
    "start_time": "2023-03-24T03:34:46.782Z"
   }
  ],
  "kernelspec": {
   "display_name": "Python 3 (ipykernel)",
   "language": "python",
   "name": "python3"
  },
  "language_info": {
   "codemirror_mode": {
    "name": "ipython",
    "version": 3
   },
   "file_extension": ".py",
   "mimetype": "text/x-python",
   "name": "python",
   "nbconvert_exporter": "python",
   "pygments_lexer": "ipython3",
   "version": "3.9.12"
  },
  "toc": {
   "base_numbering": 1,
   "nav_menu": {},
   "number_sections": true,
   "sideBar": true,
   "skip_h1_title": true,
   "title_cell": "Содержание:",
   "title_sidebar": "Содержание:",
   "toc_cell": true,
   "toc_position": {},
   "toc_section_display": true,
   "toc_window_display": false
  }
 },
 "nbformat": 4,
 "nbformat_minor": 2
}
