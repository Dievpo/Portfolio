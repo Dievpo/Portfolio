{
 "cells": [
  {
   "cell_type": "markdown",
   "id": "GEqQaHzsZ_bA",
   "metadata": {
    "id": "GEqQaHzsZ_bA"
   },
   "source": [
    "**Предсказание стоимости жилья**\n",
    "\n",
    "**В проекте вам нужно обучить модель линейной регрессии на данных о жилье в Калифорнии в 1990 году. На основе данных нужно предсказать медианную стоимость дома в жилом массиве. Обучите модель и сделайте предсказания на тестовой выборке. Для оценки качества модели используйте метрики RMSE, MAE и R2.**"
   ]
  },
  {
   "cell_type": "markdown",
   "id": "53871372",
   "metadata": {
    "id": "53871372"
   },
   "source": [
    "## Подготовка данных"
   ]
  },
  {
   "cell_type": "markdown",
   "id": "62239cc7",
   "metadata": {},
   "source": [
    "### Импортируем все нужные модули из *pyspark.ml.feature* для трансформации признаков, алгоритм линейной регрессии из *pyspark.ml.classification* и модули из *pyspark.ml.evaluation* для оценки качества модели"
   ]
  },
  {
   "cell_type": "code",
   "execution_count": 1,
   "id": "df92e3ec",
   "metadata": {
    "id": "df92e3ec"
   },
   "outputs": [],
   "source": [
    "import pandas as pd\n",
    "import numpy as np\n",
    "\n",
    "import pyspark\n",
    "from pyspark.sql import SparkSession\n",
    "from pyspark.sql.types import *\n",
    "import pyspark.sql.functions as F\n",
    "\n",
    "from pyspark.ml.feature import StringIndexer, VectorAssembler, StandardScaler\n",
    "from pyspark.ml.regression import LinearRegression\n",
    "from pyspark.ml.evaluation import BinaryClassificationEvaluator, MulticlassClassificationEvaluator\n",
    "\n",
    "pyspark_version = pyspark.__version__\n",
    "if int(pyspark_version[:1]) == 3:\n",
    "    from pyspark.ml.feature import OneHotEncoder    \n",
    "elif int(pyspark_version[:1]) == 2:\n",
    "    from pyspark.ml.feature import OneHotEncodeEstimator\n"
   ]
  },
  {
   "cell_type": "code",
   "execution_count": 2,
   "id": "662171df",
   "metadata": {},
   "outputs": [],
   "source": [
    "RANDOM_SEED = 2022\n",
    "spark = SparkSession.builder \\\n",
    "                    .master(\"local\") \\\n",
    "                    .appName(\"Hausing - LinearRegression\") \\\n",
    "                    .getOrCreate()"
   ]
  },
  {
   "cell_type": "markdown",
   "id": "e5b154b9",
   "metadata": {},
   "source": [
    "### Прочитаем данные из файла '/datasets/housing.csv'"
   ]
  },
  {
   "cell_type": "code",
   "execution_count": 3,
   "id": "27613d6e",
   "metadata": {},
   "outputs": [
    {
     "name": "stderr",
     "output_type": "stream",
     "text": [
      "[Stage 1:>                                                          (0 + 1) / 1]\r"
     ]
    },
    {
     "name": "stdout",
     "output_type": "stream",
     "text": [
      "root\n",
      " |-- longitude: double (nullable = true)\n",
      " |-- latitude: double (nullable = true)\n",
      " |-- housing_median_age: double (nullable = true)\n",
      " |-- total_rooms: double (nullable = true)\n",
      " |-- total_bedrooms: double (nullable = true)\n",
      " |-- population: double (nullable = true)\n",
      " |-- households: double (nullable = true)\n",
      " |-- median_income: double (nullable = true)\n",
      " |-- median_house_value: double (nullable = true)\n",
      " |-- ocean_proximity: string (nullable = true)\n",
      "\n"
     ]
    },
    {
     "name": "stderr",
     "output_type": "stream",
     "text": [
      "                                                                                \r"
     ]
    }
   ],
   "source": [
    "df_housing = spark.read.load('/datasets/housing.csv', format='csv', sep=',', inferSchema=True, header='true')\n",
    "df_housing.printSchema() "
   ]
  },
  {
   "cell_type": "markdown",
   "id": "d6b5312f",
   "metadata": {},
   "source": [
    "### Анализ датасета"
   ]
  },
  {
   "cell_type": "code",
   "execution_count": 4,
   "id": "584f58a5",
   "metadata": {},
   "outputs": [
    {
     "name": "stdout",
     "output_type": "stream",
     "text": [
      "               column    type\n",
      "0           longitude  double\n",
      "1            latitude  double\n",
      "2  housing_median_age  double\n",
      "3         total_rooms  double\n",
      "4      total_bedrooms  double\n",
      "5          population  double\n",
      "6          households  double\n",
      "7       median_income  double\n",
      "8  median_house_value  double\n",
      "9     ocean_proximity  string\n",
      "+---------+--------+------------------+-----------+--------------+----------+----------+-------------+------------------+---------------+\n",
      "|longitude|latitude|housing_median_age|total_rooms|total_bedrooms|population|households|median_income|median_house_value|ocean_proximity|\n",
      "+---------+--------+------------------+-----------+--------------+----------+----------+-------------+------------------+---------------+\n",
      "|  -122.23|   37.88|              41.0|      880.0|         129.0|     322.0|     126.0|       8.3252|          452600.0|       NEAR BAY|\n",
      "|  -122.22|   37.86|              21.0|     7099.0|        1106.0|    2401.0|    1138.0|       8.3014|          358500.0|       NEAR BAY|\n",
      "|  -122.24|   37.85|              52.0|     1467.0|         190.0|     496.0|     177.0|       7.2574|          352100.0|       NEAR BAY|\n",
      "|  -122.25|   37.85|              52.0|     1274.0|         235.0|     558.0|     219.0|       5.6431|          341300.0|       NEAR BAY|\n",
      "|  -122.25|   37.85|              52.0|     1627.0|         280.0|     565.0|     259.0|       3.8462|          342200.0|       NEAR BAY|\n",
      "|  -122.25|   37.85|              52.0|      919.0|         213.0|     413.0|     193.0|       4.0368|          269700.0|       NEAR BAY|\n",
      "|  -122.25|   37.84|              52.0|     2535.0|         489.0|    1094.0|     514.0|       3.6591|          299200.0|       NEAR BAY|\n",
      "|  -122.25|   37.84|              52.0|     3104.0|         687.0|    1157.0|     647.0|         3.12|          241400.0|       NEAR BAY|\n",
      "|  -122.26|   37.84|              42.0|     2555.0|         665.0|    1206.0|     595.0|       2.0804|          226700.0|       NEAR BAY|\n",
      "|  -122.25|   37.84|              52.0|     3549.0|         707.0|    1551.0|     714.0|       3.6912|          261100.0|       NEAR BAY|\n",
      "+---------+--------+------------------+-----------+--------------+----------+----------+-------------+------------------+---------------+\n",
      "only showing top 10 rows\n",
      "\n"
     ]
    }
   ],
   "source": [
    "# выведем названия колонок \n",
    "print(pd.DataFrame(df_housing.dtypes, columns=['column', 'type']).head(10))\n",
    "\n",
    "# выведем первые 10 строк \n",
    "df_housing.show(10)"
   ]
  },
  {
   "cell_type": "markdown",
   "id": "f4cf4e9e",
   "metadata": {},
   "source": [
    "Выведем базовые описательные статистики данных в виде таблицы в pandas"
   ]
  },
  {
   "cell_type": "code",
   "execution_count": 6,
   "id": "832954a8",
   "metadata": {},
   "outputs": [
    {
     "name": "stderr",
     "output_type": "stream",
     "text": [
      "                                                                                \r"
     ]
    },
    {
     "name": "stdout",
     "output_type": "stream",
     "text": [
      "+-------+-------------------+-----------------+------------------+------------------+------------------+------------------+-----------------+------------------+------------------+---------------+\n",
      "|summary|          longitude|         latitude|housing_median_age|       total_rooms|    total_bedrooms|        population|       households|     median_income|median_house_value|ocean_proximity|\n",
      "+-------+-------------------+-----------------+------------------+------------------+------------------+------------------+-----------------+------------------+------------------+---------------+\n",
      "|  count|              20640|            20640|             20640|             20640|             20433|             20640|            20640|             20640|             20640|          20640|\n",
      "|   mean|-119.56970445736148| 35.6318614341087|28.639486434108527|2635.7630813953488| 537.8705525375618|1425.4767441860465|499.5396802325581|3.8706710029070246|206855.81690891474|           null|\n",
      "| stddev|  2.003531723502584|2.135952397457101| 12.58555761211163|2181.6152515827944|421.38507007403115|  1132.46212176534|382.3297528316098| 1.899821717945263|115395.61587441359|           null|\n",
      "|    min|            -124.35|            32.54|               1.0|               2.0|               1.0|               3.0|              1.0|            0.4999|           14999.0|      <1H OCEAN|\n",
      "|    max|            -114.31|            41.95|              52.0|           39320.0|            6445.0|           35682.0|           6082.0|           15.0001|          500001.0|     NEAR OCEAN|\n",
      "+-------+-------------------+-----------------+------------------+------------------+------------------+------------------+-----------------+------------------+------------------+---------------+\n",
      "\n"
     ]
    }
   ],
   "source": [
    "# выведем базовые статистики\n",
    "df_housing.describe().show()"
   ]
  },
  {
   "cell_type": "markdown",
   "id": "1a023e1d",
   "metadata": {},
   "source": [
    "Разделим колонки на два типа: числовые и текстовые, которые представляют категориальные данные."
   ]
  },
  {
   "cell_type": "code",
   "execution_count": 7,
   "id": "6cb02b20",
   "metadata": {},
   "outputs": [],
   "source": [
    "categorical_cols = ['ocean_proximity']\n",
    "numerical_cols  = ['longitude', 'latitude', 'housing_median_age', 'total_rooms', \n",
    "                   'total_bedrooms', 'population', 'households', 'median_income']"
   ]
  },
  {
   "cell_type": "markdown",
   "id": "25a18a21",
   "metadata": {},
   "source": [
    "Видим, что есть пропущенные значения в датасете в столбце 'total_bedrooms', проверим"
   ]
  },
  {
   "cell_type": "code",
   "execution_count": 8,
   "id": "c96e8c49",
   "metadata": {},
   "outputs": [
    {
     "name": "stdout",
     "output_type": "stream",
     "text": [
      "longitude 0\n",
      "latitude 0\n",
      "housing_median_age 0\n",
      "total_rooms 0\n",
      "total_bedrooms 207\n",
      "population 0\n",
      "households 0\n",
      "median_income 0\n"
     ]
    }
   ],
   "source": [
    "# выведите пропущенные значения в каждой колонке\n",
    "columns = numerical_cols\n",
    "\n",
    "for column in columns:\n",
    "    check_col = F.col(column).cast('float').isNull()\n",
    "    print(column, df_housing.filter(check_col).count())"
   ]
  },
  {
   "cell_type": "markdown",
   "id": "700ac3ed",
   "metadata": {},
   "source": [
    "Заполним пропуски медианой "
   ]
  },
  {
   "cell_type": "code",
   "execution_count": 10,
   "id": "181de1a0",
   "metadata": {},
   "outputs": [],
   "source": [
    "df_housing = df_housing.fillna(int(df_housing.approxQuantile('total_bedrooms', [0.5], 0)[0]))"
   ]
  },
  {
   "cell_type": "code",
   "execution_count": 11,
   "id": "ee4c52bb",
   "metadata": {},
   "outputs": [
    {
     "name": "stdout",
     "output_type": "stream",
     "text": [
      "longitude 0\n",
      "latitude 0\n",
      "housing_median_age 0\n",
      "total_rooms 0\n",
      "total_bedrooms 0\n",
      "population 0\n",
      "households 0\n",
      "median_income 0\n"
     ]
    }
   ],
   "source": [
    "# проверим\n",
    "columns = numerical_cols\n",
    "\n",
    "for column in columns:\n",
    "    check_col = F.col(column).cast('float').isNull()\n",
    "    print(column, df_housing.filter(check_col).count())"
   ]
  },
  {
   "cell_type": "markdown",
   "id": "99799d92",
   "metadata": {},
   "source": [
    "Далее приступим к первому этапу — трансформации признаков."
   ]
  },
  {
   "cell_type": "markdown",
   "id": "588d1508",
   "metadata": {
    "id": "bddb08c4"
   },
   "source": [
    "### Разделение на выборки"
   ]
  },
  {
   "cell_type": "code",
   "execution_count": 12,
   "id": "c6ff81ed",
   "metadata": {
    "scrolled": true
   },
   "outputs": [
    {
     "name": "stderr",
     "output_type": "stream",
     "text": [
      "                                                                                \r"
     ]
    },
    {
     "name": "stdout",
     "output_type": "stream",
     "text": [
      "16418 4222\n"
     ]
    }
   ],
   "source": [
    "train_data, test_data = df_housing.randomSplit([.8,.2], seed=RANDOM_SEED)\n",
    "print(train_data.count(), test_data.count()) "
   ]
  },
  {
   "cell_type": "markdown",
   "id": "a0ff86ce",
   "metadata": {},
   "source": [
    "### Трансформация категорийных признаков"
   ]
  },
  {
   "cell_type": "markdown",
   "id": "f9c1c3fb",
   "metadata": {},
   "source": [
    "В первую очередь трансформируем категориальные признаки с помощью трансформера StringIndexer."
   ]
  },
  {
   "cell_type": "code",
   "execution_count": 14,
   "id": "ce51d019",
   "metadata": {},
   "outputs": [
    {
     "name": "stderr",
     "output_type": "stream",
     "text": [
      "                                                                                \r"
     ]
    },
    {
     "name": "stdout",
     "output_type": "stream",
     "text": [
      "+---------------+-------------------+\n",
      "|ocean_proximity|ocean_proximity_idx|\n",
      "+---------------+-------------------+\n",
      "|     NEAR OCEAN|                2.0|\n",
      "|     NEAR OCEAN|                2.0|\n",
      "|     NEAR OCEAN|                2.0|\n",
      "|     NEAR OCEAN|                2.0|\n",
      "|     NEAR OCEAN|                2.0|\n",
      "+---------------+-------------------+\n",
      "only showing top 5 rows\n",
      "\n"
     ]
    }
   ],
   "source": [
    "indexer = StringIndexer(inputCols=categorical_cols, \n",
    "                        outputCols=[c+'_idx' for c in categorical_cols])\n",
    "indexer.setHandleInvalid(\"skip\")\n",
    "index_model = indexer.fit(train_data)\n",
    "train_data = index_model.transform(train_data)\n",
    "\n",
    "cols = [c for c in train_data.columns for i in categorical_cols if (c.startswith(i))]\n",
    "train_data.select(cols).show(5) "
   ]
  },
  {
   "cell_type": "markdown",
   "id": "00e19a9b",
   "metadata": {},
   "source": [
    "Дополнительно создим OHE-кодирование для категорий"
   ]
  },
  {
   "cell_type": "code",
   "execution_count": 15,
   "id": "483c8e44",
   "metadata": {
    "scrolled": true
   },
   "outputs": [
    {
     "name": "stdout",
     "output_type": "stream",
     "text": [
      "+---------------+-------------------+-------------------+\n",
      "|ocean_proximity|ocean_proximity_idx|ocean_proximity_ohe|\n",
      "+---------------+-------------------+-------------------+\n",
      "|     NEAR OCEAN|                2.0|      (3,[2],[1.0])|\n",
      "|     NEAR OCEAN|                2.0|      (3,[2],[1.0])|\n",
      "|     NEAR OCEAN|                2.0|      (3,[2],[1.0])|\n",
      "|     NEAR OCEAN|                2.0|      (3,[2],[1.0])|\n",
      "|     NEAR OCEAN|                2.0|      (3,[2],[1.0])|\n",
      "+---------------+-------------------+-------------------+\n",
      "only showing top 5 rows\n",
      "\n"
     ]
    }
   ],
   "source": [
    "encoder = OneHotEncoder(inputCols=[c+'_idx' for c in categorical_cols],\n",
    "                        outputCols=[c+'_ohe' for c in categorical_cols])\n",
    "encoder_model = encoder.fit(train_data)\n",
    "train_data = encoder_model.transform(train_data)\n",
    "\n",
    "cols = [c for c in train_data.columns for i in categorical_cols if (c.startswith(i))]\n",
    "train_data.select(cols).show(5) "
   ]
  },
  {
   "cell_type": "markdown",
   "id": "df36c1bf",
   "metadata": {},
   "source": [
    "Объединим признаки в один вектор"
   ]
  },
  {
   "cell_type": "code",
   "execution_count": 16,
   "id": "7b2eedcb",
   "metadata": {},
   "outputs": [],
   "source": [
    "categorical_assembler = VectorAssembler(inputCols=[c+'_ohe' for c in categorical_cols], outputCol='categorical_features')\n",
    "train_data = categorical_assembler.transform(train_data) "
   ]
  },
  {
   "cell_type": "markdown",
   "id": "ed616113",
   "metadata": {},
   "source": [
    "**Проделаем трансформацию категорийных признаков для тестовой выборки**"
   ]
  },
  {
   "cell_type": "code",
   "execution_count": 17,
   "id": "bdca7514",
   "metadata": {},
   "outputs": [
    {
     "name": "stdout",
     "output_type": "stream",
     "text": [
      "+---------------+-------------------+\n",
      "|ocean_proximity|ocean_proximity_idx|\n",
      "+---------------+-------------------+\n",
      "|     NEAR OCEAN|                2.0|\n",
      "|     NEAR OCEAN|                2.0|\n",
      "|     NEAR OCEAN|                2.0|\n",
      "|     NEAR OCEAN|                2.0|\n",
      "|     NEAR OCEAN|                2.0|\n",
      "+---------------+-------------------+\n",
      "only showing top 5 rows\n",
      "\n"
     ]
    }
   ],
   "source": [
    "test_data = index_model.transform(test_data)\n",
    "\n",
    "cols = [c for c in test_data.columns for i in categorical_cols if (c.startswith(i))]\n",
    "test_data.select(cols).show(5) "
   ]
  },
  {
   "cell_type": "code",
   "execution_count": 18,
   "id": "b0aa20c2",
   "metadata": {},
   "outputs": [
    {
     "name": "stdout",
     "output_type": "stream",
     "text": [
      "+---------------+-------------------+-------------------+\n",
      "|ocean_proximity|ocean_proximity_idx|ocean_proximity_ohe|\n",
      "+---------------+-------------------+-------------------+\n",
      "|     NEAR OCEAN|                2.0|      (3,[2],[1.0])|\n",
      "|     NEAR OCEAN|                2.0|      (3,[2],[1.0])|\n",
      "|     NEAR OCEAN|                2.0|      (3,[2],[1.0])|\n",
      "|     NEAR OCEAN|                2.0|      (3,[2],[1.0])|\n",
      "|     NEAR OCEAN|                2.0|      (3,[2],[1.0])|\n",
      "+---------------+-------------------+-------------------+\n",
      "only showing top 5 rows\n",
      "\n"
     ]
    }
   ],
   "source": [
    "test_data = encoder_model.transform(test_data)\n",
    "\n",
    "cols = [c for c in test_data.columns for i in categorical_cols if (c.startswith(i))]\n",
    "test_data.select(cols).show(5) "
   ]
  },
  {
   "cell_type": "code",
   "execution_count": 19,
   "id": "797cd44e",
   "metadata": {},
   "outputs": [],
   "source": [
    "test_data = categorical_assembler.transform(test_data) "
   ]
  },
  {
   "cell_type": "markdown",
   "id": "96811977",
   "metadata": {},
   "source": [
    "### Трансформация числовых признаков"
   ]
  },
  {
   "cell_type": "markdown",
   "id": "e0b2da08",
   "metadata": {},
   "source": [
    "**- Для тренировочной выборки**"
   ]
  },
  {
   "cell_type": "code",
   "execution_count": 20,
   "id": "46a6ac92",
   "metadata": {},
   "outputs": [],
   "source": [
    "numerical_assembler = VectorAssembler(inputCols=numerical_cols, outputCol='numerical_features')\n",
    "train_data = numerical_assembler.transform(train_data) "
   ]
  },
  {
   "cell_type": "code",
   "execution_count": 21,
   "id": "3c6cc51f",
   "metadata": {},
   "outputs": [
    {
     "name": "stderr",
     "output_type": "stream",
     "text": [
      "                                                                                \r"
     ]
    }
   ],
   "source": [
    "standardScaler = StandardScaler(inputCol='numerical_features', outputCol='numerical_features_scaled')\n",
    "ss_model = standardScaler.fit(train_data)\n",
    "train_data = ss_model.transform(train_data) "
   ]
  },
  {
   "cell_type": "markdown",
   "id": "ff01b0d5",
   "metadata": {},
   "source": [
    "После всех трансформаций получается такая таблица:"
   ]
  },
  {
   "cell_type": "code",
   "execution_count": 22,
   "id": "1f01b24b",
   "metadata": {},
   "outputs": [
    {
     "name": "stdout",
     "output_type": "stream",
     "text": [
      "['longitude', 'latitude', 'housing_median_age', 'total_rooms', 'total_bedrooms', 'population', 'households', 'median_income', 'median_house_value', 'ocean_proximity', 'ocean_proximity_idx', 'ocean_proximity_ohe', 'categorical_features', 'numerical_features', 'numerical_features_scaled']\n"
     ]
    }
   ],
   "source": [
    "print(train_data.columns)"
   ]
  },
  {
   "cell_type": "markdown",
   "id": "5db62cfd",
   "metadata": {},
   "source": [
    "**- Для тестовой выборки**"
   ]
  },
  {
   "cell_type": "code",
   "execution_count": 23,
   "id": "8cacb82b",
   "metadata": {},
   "outputs": [],
   "source": [
    "test_data = numerical_assembler.transform(test_data) "
   ]
  },
  {
   "cell_type": "code",
   "execution_count": 24,
   "id": "f2476f85",
   "metadata": {},
   "outputs": [],
   "source": [
    "test_data = ss_model.transform(test_data)"
   ]
  },
  {
   "cell_type": "code",
   "execution_count": 25,
   "id": "8b3f6eca",
   "metadata": {},
   "outputs": [
    {
     "name": "stdout",
     "output_type": "stream",
     "text": [
      "['longitude', 'latitude', 'housing_median_age', 'total_rooms', 'total_bedrooms', 'population', 'households', 'median_income', 'median_house_value', 'ocean_proximity', 'ocean_proximity_idx', 'ocean_proximity_ohe', 'categorical_features', 'numerical_features', 'numerical_features_scaled']\n"
     ]
    }
   ],
   "source": [
    "print(test_data.columns)"
   ]
  },
  {
   "cell_type": "markdown",
   "id": "f48cb389",
   "metadata": {},
   "source": [
    "### Соберем трансформированные категорийные и числовые признаки с помощью VectorAssembler"
   ]
  },
  {
   "cell_type": "code",
   "execution_count": 26,
   "id": "bed98aac",
   "metadata": {},
   "outputs": [],
   "source": [
    "all_features = ['categorical_features','numerical_features_scaled']\n",
    "\n",
    "final_assembler = VectorAssembler(inputCols=all_features, outputCol='features') \n",
    "train_data = final_assembler.transform(train_data)\n",
    "test_data = final_assembler.transform(test_data)"
   ]
  },
  {
   "cell_type": "code",
   "execution_count": 27,
   "id": "050732b8",
   "metadata": {},
   "outputs": [
    {
     "name": "stdout",
     "output_type": "stream",
     "text": [
      "+---------+--------+------------------+-----------+--------------+----------+----------+-------------+------------------+---------------+-------------------+-------------------+--------------------+--------------------+-------------------------+--------------------+\n",
      "|longitude|latitude|housing_median_age|total_rooms|total_bedrooms|population|households|median_income|median_house_value|ocean_proximity|ocean_proximity_idx|ocean_proximity_ohe|categorical_features|  numerical_features|numerical_features_scaled|            features|\n",
      "+---------+--------+------------------+-----------+--------------+----------+----------+-------------+------------------+---------------+-------------------+-------------------+--------------------+--------------------+-------------------------+--------------------+\n",
      "|  -124.35|   40.54|              52.0|     1820.0|         300.0|     806.0|     270.0|       3.0147|           94600.0|     NEAR OCEAN|                2.0|      (3,[2],[1.0])|       [0.0,0.0,1.0]|[-124.35,40.54,52...|     [-61.952887791441...|[0.0,0.0,1.0,-61....|\n",
      "|   -124.3|    41.8|              19.0|     2672.0|         552.0|    1298.0|     478.0|       1.9797|           85800.0|     NEAR OCEAN|                2.0|      (3,[2],[1.0])|       [0.0,0.0,1.0]|[-124.3,41.8,19.0...|     [-61.927977100733...|[0.0,0.0,1.0,-61....|\n",
      "|  -124.27|   40.69|              36.0|     2349.0|         528.0|    1194.0|     465.0|       2.5179|           79000.0|     NEAR OCEAN|                2.0|      (3,[2],[1.0])|       [0.0,0.0,1.0]|[-124.27,40.69,36...|     [-61.913030686308...|[0.0,0.0,1.0,-61....|\n",
      "+---------+--------+------------------+-----------+--------------+----------+----------+-------------+------------------+---------------+-------------------+-------------------+--------------------+--------------------+-------------------------+--------------------+\n",
      "only showing top 3 rows\n",
      "\n"
     ]
    },
    {
     "name": "stderr",
     "output_type": "stream",
     "text": [
      "                                                                                \r"
     ]
    }
   ],
   "source": [
    "train_data.show(3)"
   ]
  },
  {
   "cell_type": "code",
   "execution_count": 28,
   "id": "60775798",
   "metadata": {},
   "outputs": [
    {
     "name": "stdout",
     "output_type": "stream",
     "text": [
      "+---------+--------+------------------+-----------+--------------+----------+----------+-------------+------------------+---------------+-------------------+-------------------+--------------------+--------------------+-------------------------+--------------------+\n",
      "|longitude|latitude|housing_median_age|total_rooms|total_bedrooms|population|households|median_income|median_house_value|ocean_proximity|ocean_proximity_idx|ocean_proximity_ohe|categorical_features|  numerical_features|numerical_features_scaled|            features|\n",
      "+---------+--------+------------------+-----------+--------------+----------+----------+-------------+------------------+---------------+-------------------+-------------------+--------------------+--------------------+-------------------------+--------------------+\n",
      "|   -124.3|   41.84|              17.0|     2677.0|         531.0|    1244.0|     456.0|       3.0313|          103600.0|     NEAR OCEAN|                2.0|      (3,[2],[1.0])|       [0.0,0.0,1.0]|[-124.3,41.84,17....|     [-61.927977100733...|[0.0,0.0,1.0,-61....|\n",
      "|  -124.23|   40.81|              52.0|     1112.0|         209.0|     544.0|     172.0|       3.3462|           50800.0|     NEAR OCEAN|                2.0|      (3,[2],[1.0])|       [0.0,0.0,1.0]|[-124.23,40.81,52...|     [-61.893102133741...|[0.0,0.0,1.0,-61....|\n",
      "|  -124.21|   40.75|              32.0|     1218.0|         331.0|     620.0|     268.0|       1.6528|           58100.0|     NEAR OCEAN|                2.0|      (3,[2],[1.0])|       [0.0,0.0,1.0]|[-124.21,40.75,32...|     [-61.883137857458...|[0.0,0.0,1.0,-61....|\n",
      "+---------+--------+------------------+-----------+--------------+----------+----------+-------------+------------------+---------------+-------------------+-------------------+--------------------+--------------------+-------------------------+--------------------+\n",
      "only showing top 3 rows\n",
      "\n"
     ]
    }
   ],
   "source": [
    "test_data.show(3)"
   ]
  },
  {
   "cell_type": "code",
   "execution_count": 29,
   "id": "362bd0f5",
   "metadata": {
    "scrolled": false
   },
   "outputs": [
    {
     "name": "stdout",
     "output_type": "stream",
     "text": [
      "+------------------+-------------------------+--------------------+\n",
      "|median_house_value|numerical_features_scaled|            features|\n",
      "+------------------+-------------------------+--------------------+\n",
      "|           94600.0|     [-61.952887791441...|[0.0,0.0,1.0,-61....|\n",
      "|           85800.0|     [-61.927977100733...|[0.0,0.0,1.0,-61....|\n",
      "|           79000.0|     [-61.913030686308...|[0.0,0.0,1.0,-61....|\n",
      "+------------------+-------------------------+--------------------+\n",
      "only showing top 3 rows\n",
      "\n"
     ]
    }
   ],
   "source": [
    "df_final_train = train_data.select(['median_house_value', 'numerical_features_scaled', 'features'])\n",
    "df_final_train.show(3)"
   ]
  },
  {
   "cell_type": "code",
   "execution_count": 30,
   "id": "affc73bd",
   "metadata": {},
   "outputs": [
    {
     "name": "stdout",
     "output_type": "stream",
     "text": [
      "+------------------+-------------------------+--------------------+\n",
      "|median_house_value|numerical_features_scaled|            features|\n",
      "+------------------+-------------------------+--------------------+\n",
      "|          103600.0|     [-61.927977100733...|[0.0,0.0,1.0,-61....|\n",
      "|           50800.0|     [-61.893102133741...|[0.0,0.0,1.0,-61....|\n",
      "|           58100.0|     [-61.883137857458...|[0.0,0.0,1.0,-61....|\n",
      "+------------------+-------------------------+--------------------+\n",
      "only showing top 3 rows\n",
      "\n"
     ]
    }
   ],
   "source": [
    "df_final_test = test_data.select(['median_house_value', 'numerical_features_scaled', 'features'])\n",
    "df_final_test.show(3)"
   ]
  },
  {
   "cell_type": "markdown",
   "id": "9f0a82f3",
   "metadata": {
    "id": "9f0a82f3"
   },
   "source": [
    "## Обучение моделей"
   ]
  },
  {
   "cell_type": "markdown",
   "id": "60e90a4b",
   "metadata": {},
   "source": [
    "### Обучение модели"
   ]
  },
  {
   "cell_type": "markdown",
   "id": "ff6d818b",
   "metadata": {},
   "source": [
    "#### Используя все данные из файла"
   ]
  },
  {
   "cell_type": "code",
   "execution_count": 31,
   "id": "c650b045",
   "metadata": {},
   "outputs": [
    {
     "name": "stderr",
     "output_type": "stream",
     "text": [
      "23/03/03 07:30:27 WARN BLAS: Failed to load implementation from: com.github.fommil.netlib.NativeSystemBLAS\n",
      "23/03/03 07:30:27 WARN BLAS: Failed to load implementation from: com.github.fommil.netlib.NativeRefBLAS\n",
      "                                                                                \r"
     ]
    }
   ],
   "source": [
    "regressor_all = LinearRegression(featuresCol = 'features', labelCol = 'median_house_value', maxIter=10, regParam=0.3, elasticNetParam=0.8)\n",
    "regressor_all = regressor_all.fit(df_final_train)"
   ]
  },
  {
   "cell_type": "markdown",
   "id": "48309491",
   "metadata": {},
   "source": [
    "#### Используя только числовые переменные, исключив категориальные"
   ]
  },
  {
   "cell_type": "code",
   "execution_count": 32,
   "id": "f5f4b186",
   "metadata": {},
   "outputs": [
    {
     "name": "stderr",
     "output_type": "stream",
     "text": [
      "                                                                                \r"
     ]
    }
   ],
   "source": [
    "regressor_num = LinearRegression(featuresCol = 'numerical_features_scaled', labelCol = 'median_house_value', maxIter=10, regParam=0.3, elasticNetParam=0.8)\n",
    "regressor_num = regressor_num.fit(df_final_train)"
   ]
  },
  {
   "cell_type": "markdown",
   "id": "43f89b25",
   "metadata": {},
   "source": [
    "### Предсказание на обучающей выборке"
   ]
  },
  {
   "cell_type": "markdown",
   "id": "5eff8296",
   "metadata": {},
   "source": [
    "#### Для всех данных"
   ]
  },
  {
   "cell_type": "code",
   "execution_count": 33,
   "id": "3e9fff8c",
   "metadata": {},
   "outputs": [
    {
     "name": "stderr",
     "output_type": "stream",
     "text": [
      "                                                                                \r"
     ]
    },
    {
     "name": "stdout",
     "output_type": "stream",
     "text": [
      "The RMSE for the model is: 69434.153485\n",
      "The MAE for the model is: 50178.684349\n",
      "The r2 for the model is: 0.636301\n"
     ]
    }
   ],
   "source": [
    "pred_results_all = regressor_all.evaluate(df_final_train)\n",
    "print(\"The RMSE for the model is: %2f\"% pred_results_all.rootMeanSquaredError)\n",
    "print(\"The MAE for the model is: %2f\"% pred_results_all.meanAbsoluteError)\n",
    "print(\"The r2 for the model is: %2f\"% pred_results_all.r2)"
   ]
  },
  {
   "cell_type": "markdown",
   "id": "351a1d6f",
   "metadata": {},
   "source": [
    "#### Только для числовых переменных"
   ]
  },
  {
   "cell_type": "code",
   "execution_count": 34,
   "id": "36aaa211",
   "metadata": {},
   "outputs": [
    {
     "name": "stderr",
     "output_type": "stream",
     "text": [
      "                                                                                \r"
     ]
    },
    {
     "name": "stdout",
     "output_type": "stream",
     "text": [
      "The RMSE for the model_num is: 69927.877248\n",
      "The MAE for the model_num is: 51014.808131\n",
      "The r2 for the model_num is: 0.631110\n"
     ]
    }
   ],
   "source": [
    "pred_results_num = regressor_num.evaluate(df_final_train)\n",
    "print(\"The RMSE for the model_num is: %2f\"% pred_results_num.rootMeanSquaredError)\n",
    "print(\"The MAE for the model_num is: %2f\"% pred_results_num.meanAbsoluteError)\n",
    "print(\"The r2 for the model_num is: %2f\"% pred_results_num.r2)"
   ]
  },
  {
   "cell_type": "markdown",
   "id": "757fd103",
   "metadata": {
    "id": "757fd103"
   },
   "source": [
    "## Анализ результатов"
   ]
  },
  {
   "cell_type": "markdown",
   "id": "7cfeff70",
   "metadata": {},
   "source": [
    "#### Для всех данных"
   ]
  },
  {
   "cell_type": "code",
   "execution_count": 35,
   "id": "58859460",
   "metadata": {
    "scrolled": false
   },
   "outputs": [
    {
     "name": "stdout",
     "output_type": "stream",
     "text": [
      "The RMSE for the model is: 68791.573039\n",
      "The MAE for the model is: 50066.800849\n",
      "The r2 for the model is: 0.649826\n"
     ]
    }
   ],
   "source": [
    "pred_results_all = regressor_all.evaluate(df_final_test)\n",
    "print(\"The RMSE for the model is: %2f\"% pred_results_all.rootMeanSquaredError)\n",
    "print(\"The MAE for the model is: %2f\"% pred_results_all.meanAbsoluteError)\n",
    "print(\"The r2 for the model is: %2f\"% pred_results_all.r2)"
   ]
  },
  {
   "cell_type": "markdown",
   "id": "bb624533",
   "metadata": {},
   "source": [
    "#### Только для числовых переменных"
   ]
  },
  {
   "cell_type": "code",
   "execution_count": 36,
   "id": "649a02e2",
   "metadata": {},
   "outputs": [
    {
     "name": "stdout",
     "output_type": "stream",
     "text": [
      "The RMSE for the model_num is: 68979.298440\n",
      "The MSE for the model_num is: 50760.829894\n",
      "The r2 for the model_num is: 0.647913\n"
     ]
    }
   ],
   "source": [
    "pred_results_num = regressor_num.evaluate(df_final_test)\n",
    "print(\"The RMSE for the model_num is: %2f\"% pred_results_num.rootMeanSquaredError)\n",
    "print(\"The MSE for the model_num is: %2f\"% pred_results_num.meanAbsoluteError)\n",
    "print(\"The r2 for the model_num is: %2f\"% pred_results_num.r2)"
   ]
  },
  {
   "cell_type": "code",
   "execution_count": 37,
   "id": "8284b28c",
   "metadata": {},
   "outputs": [],
   "source": [
    "spark.stop()"
   ]
  },
  {
   "cell_type": "markdown",
   "id": "3a01874c",
   "metadata": {},
   "source": [
    "**Модель обученая на всех данных (числовых и категориальных) показывает лучшие параметры:**\n",
    "\n",
    "    - RMSE ниже\n",
    "    - MAE ниже\n",
    "    - r2 выше"
   ]
  }
 ],
 "metadata": {
  "ExecuteTimeLog": [
   {
    "duration": 717,
    "start_time": "2023-02-14T09:45:52.748Z"
   },
   {
    "duration": 15244,
    "start_time": "2023-02-14T09:47:02.148Z"
   },
   {
    "duration": 8268,
    "start_time": "2023-02-14T09:49:27.319Z"
   },
   {
    "duration": 11,
    "start_time": "2023-02-14T09:54:02.733Z"
   },
   {
    "duration": 851,
    "start_time": "2023-02-14T09:54:11.499Z"
   },
   {
    "duration": 703,
    "start_time": "2023-02-14T09:54:17.749Z"
   },
   {
    "duration": 4583,
    "start_time": "2023-02-14T09:55:42.494Z"
   },
   {
    "duration": 797,
    "start_time": "2023-02-14T09:57:24.476Z"
   },
   {
    "duration": 16637,
    "start_time": "2023-02-14T13:17:59.865Z"
   },
   {
    "duration": 9270,
    "start_time": "2023-02-14T13:18:21.768Z"
   },
   {
    "duration": 703,
    "start_time": "2023-02-14T13:18:34.113Z"
   },
   {
    "duration": 6195,
    "start_time": "2023-02-14T13:18:37.870Z"
   },
   {
    "duration": 74,
    "start_time": "2023-02-14T13:18:45.116Z"
   },
   {
    "duration": 206,
    "start_time": "2023-02-14T13:20:00.664Z"
   },
   {
    "duration": 312,
    "start_time": "2023-02-14T13:20:07.993Z"
   },
   {
    "duration": 1171,
    "start_time": "2023-02-14T13:20:22.124Z"
   },
   {
    "duration": 16,
    "start_time": "2023-02-14T13:21:12.807Z"
   },
   {
    "duration": 3680,
    "start_time": "2023-02-14T13:21:26.321Z"
   },
   {
    "duration": 11,
    "start_time": "2023-02-14T13:24:26.378Z"
   },
   {
    "duration": 526,
    "start_time": "2023-02-14T13:24:26.391Z"
   },
   {
    "duration": 211,
    "start_time": "2023-02-14T13:24:26.919Z"
   },
   {
    "duration": 2215,
    "start_time": "2023-02-14T13:24:27.132Z"
   },
   {
    "duration": 4466,
    "start_time": "2023-02-14T13:24:29.349Z"
   },
   {
    "duration": 11,
    "start_time": "2023-02-14T13:24:36.706Z"
   },
   {
    "duration": 15813,
    "start_time": "2023-02-14T13:24:50.216Z"
   },
   {
    "duration": 8392,
    "start_time": "2023-02-14T13:25:06.032Z"
   },
   {
    "duration": 780,
    "start_time": "2023-02-14T13:25:14.425Z"
   },
   {
    "duration": 5506,
    "start_time": "2023-02-14T13:25:15.207Z"
   },
   {
    "duration": 5579,
    "start_time": "2023-02-14T13:25:20.715Z"
   },
   {
    "duration": 151,
    "start_time": "2023-02-14T13:25:26.297Z"
   },
   {
    "duration": 0,
    "start_time": "2023-02-14T13:25:26.449Z"
   },
   {
    "duration": 16025,
    "start_time": "2023-02-14T13:26:22.474Z"
   },
   {
    "duration": 8111,
    "start_time": "2023-02-14T13:26:38.501Z"
   },
   {
    "duration": 795,
    "start_time": "2023-02-14T13:26:46.614Z"
   },
   {
    "duration": 5995,
    "start_time": "2023-02-14T13:26:47.411Z"
   },
   {
    "duration": 5596,
    "start_time": "2023-02-14T13:26:53.409Z"
   },
   {
    "duration": 10,
    "start_time": "2023-02-14T13:27:23.540Z"
   },
   {
    "duration": 591,
    "start_time": "2023-02-14T13:27:23.552Z"
   },
   {
    "duration": 277,
    "start_time": "2023-02-14T13:27:24.146Z"
   },
   {
    "duration": 2581,
    "start_time": "2023-02-14T13:27:24.425Z"
   },
   {
    "duration": 247,
    "start_time": "2023-02-14T13:27:30.480Z"
   },
   {
    "duration": 3227,
    "start_time": "2023-02-14T13:29:48.882Z"
   },
   {
    "duration": 94,
    "start_time": "2023-02-14T13:30:47.426Z"
   },
   {
    "duration": 13,
    "start_time": "2023-02-14T13:31:07.270Z"
   },
   {
    "duration": 777,
    "start_time": "2023-02-14T13:31:20.946Z"
   },
   {
    "duration": 430,
    "start_time": "2023-02-14T13:31:41.396Z"
   },
   {
    "duration": 281,
    "start_time": "2023-02-14T13:32:07.339Z"
   },
   {
    "duration": 316,
    "start_time": "2023-02-14T13:32:14.535Z"
   },
   {
    "duration": 265,
    "start_time": "2023-02-14T13:32:19.387Z"
   },
   {
    "duration": 48,
    "start_time": "2023-02-14T13:32:45.107Z"
   },
   {
    "duration": 313,
    "start_time": "2023-02-14T13:32:53.702Z"
   },
   {
    "duration": 351,
    "start_time": "2023-02-14T13:33:57.471Z"
   },
   {
    "duration": 2443,
    "start_time": "2023-02-14T13:37:00.573Z"
   },
   {
    "duration": 627,
    "start_time": "2023-02-14T13:37:21.341Z"
   },
   {
    "duration": 4,
    "start_time": "2023-02-14T13:42:32.871Z"
   },
   {
    "duration": 190,
    "start_time": "2023-02-14T13:57:03.622Z"
   },
   {
    "duration": 77,
    "start_time": "2023-02-14T13:57:59.696Z"
   },
   {
    "duration": 93,
    "start_time": "2023-02-14T14:00:21.217Z"
   },
   {
    "duration": 1562,
    "start_time": "2023-02-14T14:01:32.580Z"
   },
   {
    "duration": 667,
    "start_time": "2023-02-14T14:02:35.172Z"
   },
   {
    "duration": 596,
    "start_time": "2023-02-14T14:03:15.164Z"
   },
   {
    "duration": 86,
    "start_time": "2023-02-14T14:04:30.993Z"
   },
   {
    "duration": 15834,
    "start_time": "2023-02-14T14:08:13.300Z"
   },
   {
    "duration": 9374,
    "start_time": "2023-02-14T14:08:29.137Z"
   },
   {
    "duration": 709,
    "start_time": "2023-02-14T14:08:38.513Z"
   },
   {
    "duration": 1316,
    "start_time": "2023-02-14T14:08:39.225Z"
   },
   {
    "duration": 3,
    "start_time": "2023-02-14T14:08:40.542Z"
   },
   {
    "duration": 4408,
    "start_time": "2023-02-14T14:08:46.397Z"
   },
   {
    "duration": 901,
    "start_time": "2023-02-14T14:08:54.349Z"
   },
   {
    "duration": 188,
    "start_time": "2023-02-14T14:09:05.245Z"
   },
   {
    "duration": 2006,
    "start_time": "2023-02-14T14:10:54.741Z"
   },
   {
    "duration": 87,
    "start_time": "2023-02-14T14:11:02.690Z"
   },
   {
    "duration": 7,
    "start_time": "2023-02-14T14:11:08.774Z"
   },
   {
    "duration": 639,
    "start_time": "2023-02-14T14:11:08.783Z"
   },
   {
    "duration": 275,
    "start_time": "2023-02-14T14:11:09.424Z"
   },
   {
    "duration": 707,
    "start_time": "2023-02-14T14:11:09.701Z"
   },
   {
    "duration": 3,
    "start_time": "2023-02-14T14:11:10.411Z"
   },
   {
    "duration": 2208,
    "start_time": "2023-02-14T14:11:10.415Z"
   },
   {
    "duration": 577,
    "start_time": "2023-02-14T14:11:12.625Z"
   },
   {
    "duration": 431,
    "start_time": "2023-02-14T14:11:13.203Z"
   },
   {
    "duration": 784,
    "start_time": "2023-02-14T14:11:13.636Z"
   },
   {
    "duration": 8,
    "start_time": "2023-02-14T14:11:24.547Z"
   },
   {
    "duration": 467,
    "start_time": "2023-02-14T14:11:24.557Z"
   },
   {
    "duration": 216,
    "start_time": "2023-02-14T14:11:25.026Z"
   },
   {
    "duration": 605,
    "start_time": "2023-02-14T14:11:25.243Z"
   },
   {
    "duration": 3,
    "start_time": "2023-02-14T14:11:25.850Z"
   },
   {
    "duration": 1611,
    "start_time": "2023-02-14T14:11:25.854Z"
   },
   {
    "duration": 585,
    "start_time": "2023-02-14T14:11:27.467Z"
   },
   {
    "duration": 306,
    "start_time": "2023-02-14T14:11:28.054Z"
   },
   {
    "duration": 635,
    "start_time": "2023-02-14T14:11:28.361Z"
   },
   {
    "duration": 7,
    "start_time": "2023-02-14T14:11:40.278Z"
   },
   {
    "duration": 324,
    "start_time": "2023-02-14T14:11:40.287Z"
   },
   {
    "duration": 137,
    "start_time": "2023-02-14T14:11:40.613Z"
   },
   {
    "duration": 436,
    "start_time": "2023-02-14T14:11:40.753Z"
   },
   {
    "duration": 4,
    "start_time": "2023-02-14T14:11:41.190Z"
   },
   {
    "duration": 1672,
    "start_time": "2023-02-14T14:11:41.196Z"
   },
   {
    "duration": 363,
    "start_time": "2023-02-14T14:11:42.870Z"
   },
   {
    "duration": 332,
    "start_time": "2023-02-14T14:11:43.235Z"
   },
   {
    "duration": 534,
    "start_time": "2023-02-14T14:11:43.568Z"
   },
   {
    "duration": 6,
    "start_time": "2023-02-14T14:11:55.611Z"
   },
   {
    "duration": 416,
    "start_time": "2023-02-14T14:11:55.618Z"
   },
   {
    "duration": 188,
    "start_time": "2023-02-14T14:11:56.036Z"
   },
   {
    "duration": 381,
    "start_time": "2023-02-14T14:11:56.227Z"
   },
   {
    "duration": 3,
    "start_time": "2023-02-14T14:11:56.610Z"
   },
   {
    "duration": 1285,
    "start_time": "2023-02-14T14:11:56.614Z"
   },
   {
    "duration": 521,
    "start_time": "2023-02-14T14:11:57.900Z"
   },
   {
    "duration": 386,
    "start_time": "2023-02-14T14:11:58.423Z"
   },
   {
    "duration": 422,
    "start_time": "2023-02-14T14:11:58.810Z"
   },
   {
    "duration": 276,
    "start_time": "2023-02-14T14:12:42.828Z"
   },
   {
    "duration": 102,
    "start_time": "2023-02-14T14:12:58.087Z"
   },
   {
    "duration": 15770,
    "start_time": "2023-02-14T14:13:49.059Z"
   },
   {
    "duration": 9469,
    "start_time": "2023-02-14T14:14:04.832Z"
   },
   {
    "duration": 912,
    "start_time": "2023-02-14T14:14:14.304Z"
   },
   {
    "duration": 1255,
    "start_time": "2023-02-14T14:14:15.217Z"
   },
   {
    "duration": 4,
    "start_time": "2023-02-14T14:14:16.475Z"
   },
   {
    "duration": 4125,
    "start_time": "2023-02-14T14:14:16.493Z"
   },
   {
    "duration": 1182,
    "start_time": "2023-02-14T14:14:20.620Z"
   },
   {
    "duration": 796,
    "start_time": "2023-02-14T14:14:21.804Z"
   },
   {
    "duration": 2209,
    "start_time": "2023-02-14T14:14:22.601Z"
   },
   {
    "duration": 781,
    "start_time": "2023-02-14T14:14:24.813Z"
   },
   {
    "duration": 6,
    "start_time": "2023-02-14T14:14:49.498Z"
   },
   {
    "duration": 503,
    "start_time": "2023-02-14T14:14:49.505Z"
   },
   {
    "duration": 288,
    "start_time": "2023-02-14T14:14:50.010Z"
   },
   {
    "duration": 470,
    "start_time": "2023-02-14T14:14:50.300Z"
   },
   {
    "duration": 3,
    "start_time": "2023-02-14T14:14:50.772Z"
   },
   {
    "duration": 2246,
    "start_time": "2023-02-14T14:14:50.776Z"
   },
   {
    "duration": 825,
    "start_time": "2023-02-14T14:14:53.024Z"
   },
   {
    "duration": 426,
    "start_time": "2023-02-14T14:14:53.851Z"
   },
   {
    "duration": 843,
    "start_time": "2023-02-14T14:14:54.279Z"
   },
   {
    "duration": 305,
    "start_time": "2023-02-14T14:14:55.125Z"
   },
   {
    "duration": 76,
    "start_time": "2023-02-14T14:17:07.386Z"
   },
   {
    "duration": 56,
    "start_time": "2023-02-14T14:17:25.062Z"
   },
   {
    "duration": 35,
    "start_time": "2023-02-14T14:18:11.079Z"
   },
   {
    "duration": 1266,
    "start_time": "2023-02-14T14:18:29.361Z"
   },
   {
    "duration": 8,
    "start_time": "2023-02-14T14:18:48.961Z"
   },
   {
    "duration": 437,
    "start_time": "2023-02-14T14:20:07.476Z"
   },
   {
    "duration": 2586,
    "start_time": "2023-02-14T14:22:17.540Z"
   },
   {
    "duration": 3725,
    "start_time": "2023-02-14T14:24:22.290Z"
   },
   {
    "duration": 1077,
    "start_time": "2023-02-14T14:25:38.156Z"
   },
   {
    "duration": 5,
    "start_time": "2023-02-14T14:27:18.927Z"
   },
   {
    "duration": 31,
    "start_time": "2023-02-14T14:29:37.843Z"
   },
   {
    "duration": 5537,
    "start_time": "2023-02-14T14:31:52.169Z"
   },
   {
    "duration": 16281,
    "start_time": "2023-02-14T14:32:38.832Z"
   },
   {
    "duration": 9084,
    "start_time": "2023-02-14T14:32:55.116Z"
   },
   {
    "duration": 898,
    "start_time": "2023-02-14T14:33:04.204Z"
   },
   {
    "duration": 1150,
    "start_time": "2023-02-14T14:33:05.104Z"
   },
   {
    "duration": 3,
    "start_time": "2023-02-14T14:33:06.256Z"
   },
   {
    "duration": 4443,
    "start_time": "2023-02-14T14:33:06.260Z"
   },
   {
    "duration": 1194,
    "start_time": "2023-02-14T14:33:10.705Z"
   },
   {
    "duration": 2114,
    "start_time": "2023-02-14T14:33:11.900Z"
   },
   {
    "duration": 992,
    "start_time": "2023-02-14T14:33:14.016Z"
   },
   {
    "duration": 113,
    "start_time": "2023-02-14T14:33:15.010Z"
   },
   {
    "duration": 2369,
    "start_time": "2023-02-14T14:33:15.125Z"
   },
   {
    "duration": 15968,
    "start_time": "2023-02-14T14:42:29.826Z"
   },
   {
    "duration": 9025,
    "start_time": "2023-02-14T14:42:45.797Z"
   },
   {
    "duration": 775,
    "start_time": "2023-02-14T14:42:54.823Z"
   },
   {
    "duration": 1045,
    "start_time": "2023-02-14T14:42:55.602Z"
   },
   {
    "duration": 2,
    "start_time": "2023-02-14T14:42:56.649Z"
   },
   {
    "duration": 4141,
    "start_time": "2023-02-14T14:42:56.653Z"
   },
   {
    "duration": 1100,
    "start_time": "2023-02-14T14:43:00.797Z"
   },
   {
    "duration": 2011,
    "start_time": "2023-02-14T14:43:01.899Z"
   },
   {
    "duration": 682,
    "start_time": "2023-02-14T14:43:03.912Z"
   },
   {
    "duration": 1727,
    "start_time": "2023-02-14T14:43:04.596Z"
   },
   {
    "duration": 1838,
    "start_time": "2023-02-14T14:48:29.257Z"
   },
   {
    "duration": 127,
    "start_time": "2023-02-14T14:48:35.817Z"
   },
   {
    "duration": 17,
    "start_time": "2023-02-14T14:49:00.149Z"
   },
   {
    "duration": 18,
    "start_time": "2023-02-14T14:50:34.869Z"
   },
   {
    "duration": 579,
    "start_time": "2023-02-14T14:51:28.434Z"
   },
   {
    "duration": 4,
    "start_time": "2023-02-14T14:51:37.642Z"
   },
   {
    "duration": 97,
    "start_time": "2023-02-14T14:51:49.276Z"
   },
   {
    "duration": 101,
    "start_time": "2023-02-14T14:52:38.068Z"
   },
   {
    "duration": 6,
    "start_time": "2023-02-14T14:53:10.707Z"
   },
   {
    "duration": 581,
    "start_time": "2023-02-14T14:53:10.714Z"
   },
   {
    "duration": 203,
    "start_time": "2023-02-14T14:53:11.298Z"
   },
   {
    "duration": 455,
    "start_time": "2023-02-14T14:53:11.504Z"
   },
   {
    "duration": 3,
    "start_time": "2023-02-14T14:53:11.961Z"
   },
   {
    "duration": 2272,
    "start_time": "2023-02-14T14:53:11.966Z"
   },
   {
    "duration": 532,
    "start_time": "2023-02-14T14:53:14.242Z"
   },
   {
    "duration": 606,
    "start_time": "2023-02-14T14:53:14.794Z"
   },
   {
    "duration": 261,
    "start_time": "2023-02-14T14:53:15.402Z"
   },
   {
    "duration": 1008,
    "start_time": "2023-02-14T14:53:15.666Z"
   },
   {
    "duration": 42,
    "start_time": "2023-02-14T14:53:16.675Z"
   },
   {
    "duration": 0,
    "start_time": "2023-02-14T14:53:16.719Z"
   },
   {
    "duration": 0,
    "start_time": "2023-02-14T14:53:16.721Z"
   },
   {
    "duration": 0,
    "start_time": "2023-02-14T14:53:16.722Z"
   },
   {
    "duration": 0,
    "start_time": "2023-02-14T14:53:16.724Z"
   },
   {
    "duration": 3,
    "start_time": "2023-02-14T14:53:27.534Z"
   },
   {
    "duration": 274,
    "start_time": "2023-02-14T14:53:29.944Z"
   },
   {
    "duration": 76,
    "start_time": "2023-02-14T14:53:48.861Z"
   },
   {
    "duration": 6,
    "start_time": "2023-02-14T14:53:52.895Z"
   },
   {
    "duration": 328,
    "start_time": "2023-02-14T14:53:52.903Z"
   },
   {
    "duration": 164,
    "start_time": "2023-02-14T14:53:53.233Z"
   },
   {
    "duration": 377,
    "start_time": "2023-02-14T14:53:53.400Z"
   },
   {
    "duration": 2,
    "start_time": "2023-02-14T14:53:53.779Z"
   },
   {
    "duration": 1844,
    "start_time": "2023-02-14T14:53:53.783Z"
   },
   {
    "duration": 429,
    "start_time": "2023-02-14T14:53:55.630Z"
   },
   {
    "duration": 489,
    "start_time": "2023-02-14T14:53:56.061Z"
   },
   {
    "duration": 246,
    "start_time": "2023-02-14T14:53:56.552Z"
   },
   {
    "duration": 942,
    "start_time": "2023-02-14T14:53:56.801Z"
   },
   {
    "duration": 2,
    "start_time": "2023-02-14T14:53:57.744Z"
   },
   {
    "duration": 6,
    "start_time": "2023-02-14T14:53:57.748Z"
   },
   {
    "duration": 5,
    "start_time": "2023-02-14T14:53:57.755Z"
   },
   {
    "duration": 6,
    "start_time": "2023-02-14T14:53:57.762Z"
   },
   {
    "duration": 2446,
    "start_time": "2023-02-14T14:53:57.769Z"
   },
   {
    "duration": 107,
    "start_time": "2023-02-14T14:54:07.490Z"
   },
   {
    "duration": 6,
    "start_time": "2023-02-14T14:54:10.663Z"
   },
   {
    "duration": 347,
    "start_time": "2023-02-14T14:54:10.671Z"
   },
   {
    "duration": 132,
    "start_time": "2023-02-14T14:54:11.019Z"
   },
   {
    "duration": 402,
    "start_time": "2023-02-14T14:54:11.153Z"
   },
   {
    "duration": 3,
    "start_time": "2023-02-14T14:54:11.557Z"
   },
   {
    "duration": 1345,
    "start_time": "2023-02-14T14:54:11.561Z"
   },
   {
    "duration": 371,
    "start_time": "2023-02-14T14:54:12.908Z"
   },
   {
    "duration": 401,
    "start_time": "2023-02-14T14:54:13.294Z"
   },
   {
    "duration": 246,
    "start_time": "2023-02-14T14:54:13.696Z"
   },
   {
    "duration": 919,
    "start_time": "2023-02-14T14:54:13.944Z"
   },
   {
    "duration": 2,
    "start_time": "2023-02-14T14:54:14.864Z"
   },
   {
    "duration": 53,
    "start_time": "2023-02-14T14:54:14.868Z"
   },
   {
    "duration": 7,
    "start_time": "2023-02-14T14:54:14.923Z"
   },
   {
    "duration": 9,
    "start_time": "2023-02-14T14:54:14.932Z"
   },
   {
    "duration": 31,
    "start_time": "2023-02-14T14:54:14.943Z"
   },
   {
    "duration": 4,
    "start_time": "2023-02-14T14:54:48.511Z"
   },
   {
    "duration": 1316,
    "start_time": "2023-02-14T14:56:42.655Z"
   },
   {
    "duration": 1596,
    "start_time": "2023-02-14T14:57:00.625Z"
   },
   {
    "duration": 2271,
    "start_time": "2023-02-14T14:57:22.373Z"
   },
   {
    "duration": 594,
    "start_time": "2023-02-14T14:57:34.957Z"
   },
   {
    "duration": 17,
    "start_time": "2023-02-14T14:59:04.756Z"
   },
   {
    "duration": 15,
    "start_time": "2023-02-14T14:59:16.292Z"
   },
   {
    "duration": 45,
    "start_time": "2023-02-14T15:00:40.458Z"
   },
   {
    "duration": 1433,
    "start_time": "2023-02-14T15:03:22.291Z"
   },
   {
    "duration": 1335,
    "start_time": "2023-02-14T15:04:42.307Z"
   },
   {
    "duration": 53,
    "start_time": "2023-02-14T15:06:53.964Z"
   },
   {
    "duration": 20,
    "start_time": "2023-02-14T15:07:02.676Z"
   },
   {
    "duration": 4,
    "start_time": "2023-02-14T15:07:03.684Z"
   },
   {
    "duration": 2111,
    "start_time": "2023-02-14T15:07:07.916Z"
   },
   {
    "duration": 1322,
    "start_time": "2023-02-14T15:07:23.084Z"
   },
   {
    "duration": 2018,
    "start_time": "2023-02-14T15:07:26.777Z"
   },
   {
    "duration": 1562,
    "start_time": "2023-02-14T15:07:39.989Z"
   },
   {
    "duration": 2,
    "start_time": "2023-02-14T15:07:41.553Z"
   },
   {
    "duration": 1212,
    "start_time": "2023-02-14T15:07:41.556Z"
   },
   {
    "duration": 107,
    "start_time": "2023-02-14T15:08:30.776Z"
   },
   {
    "duration": 1461,
    "start_time": "2023-02-14T15:09:00.258Z"
   },
   {
    "duration": 92,
    "start_time": "2023-02-14T15:09:06.165Z"
   },
   {
    "duration": 82,
    "start_time": "2023-02-14T15:09:19.631Z"
   },
   {
    "duration": 20,
    "start_time": "2023-02-14T15:09:39.113Z"
   },
   {
    "duration": 83,
    "start_time": "2023-02-14T15:09:43.030Z"
   },
   {
    "duration": 5,
    "start_time": "2023-02-14T15:09:43.485Z"
   },
   {
    "duration": 15496,
    "start_time": "2023-02-14T15:09:50.033Z"
   },
   {
    "duration": 8066,
    "start_time": "2023-02-14T15:10:05.531Z"
   },
   {
    "duration": 803,
    "start_time": "2023-02-14T15:10:13.599Z"
   },
   {
    "duration": 1213,
    "start_time": "2023-02-14T15:10:14.405Z"
   },
   {
    "duration": 4,
    "start_time": "2023-02-14T15:10:15.620Z"
   },
   {
    "duration": 4086,
    "start_time": "2023-02-14T15:10:15.625Z"
   },
   {
    "duration": 818,
    "start_time": "2023-02-14T15:10:19.713Z"
   },
   {
    "duration": 2178,
    "start_time": "2023-02-14T15:10:20.533Z"
   },
   {
    "duration": 894,
    "start_time": "2023-02-14T15:10:22.713Z"
   },
   {
    "duration": 1609,
    "start_time": "2023-02-14T15:10:23.609Z"
   },
   {
    "duration": 2,
    "start_time": "2023-02-14T15:10:25.220Z"
   },
   {
    "duration": 7,
    "start_time": "2023-02-14T15:10:25.223Z"
   },
   {
    "duration": 6,
    "start_time": "2023-02-14T15:10:25.231Z"
   },
   {
    "duration": 5,
    "start_time": "2023-02-14T15:10:25.239Z"
   },
   {
    "duration": 67,
    "start_time": "2023-02-14T15:10:25.246Z"
   },
   {
    "duration": 97,
    "start_time": "2023-02-14T15:10:25.315Z"
   },
   {
    "duration": 6,
    "start_time": "2023-02-14T15:10:25.415Z"
   },
   {
    "duration": 3081,
    "start_time": "2023-02-14T15:10:25.494Z"
   },
   {
    "duration": 2055,
    "start_time": "2023-02-14T15:10:28.576Z"
   },
   {
    "duration": 3463,
    "start_time": "2023-02-14T15:10:30.633Z"
   },
   {
    "duration": 5,
    "start_time": "2023-02-14T15:10:34.100Z"
   },
   {
    "duration": 175,
    "start_time": "2023-02-14T15:10:34.108Z"
   },
   {
    "duration": 0,
    "start_time": "2023-02-14T15:10:34.284Z"
   },
   {
    "duration": 0,
    "start_time": "2023-02-14T15:10:34.286Z"
   },
   {
    "duration": 2643,
    "start_time": "2023-02-14T15:10:46.569Z"
   },
   {
    "duration": 37,
    "start_time": "2023-02-14T15:11:04.054Z"
   },
   {
    "duration": 113,
    "start_time": "2023-02-14T15:11:12.869Z"
   },
   {
    "duration": 9,
    "start_time": "2023-02-14T15:12:36.801Z"
   },
   {
    "duration": 683,
    "start_time": "2023-02-14T15:12:36.812Z"
   },
   {
    "duration": 203,
    "start_time": "2023-02-14T15:12:37.497Z"
   },
   {
    "duration": 651,
    "start_time": "2023-02-14T15:12:37.702Z"
   },
   {
    "duration": 3,
    "start_time": "2023-02-14T15:12:38.355Z"
   },
   {
    "duration": 2059,
    "start_time": "2023-02-14T15:12:38.360Z"
   },
   {
    "duration": 499,
    "start_time": "2023-02-14T15:12:40.422Z"
   },
   {
    "duration": 577,
    "start_time": "2023-02-14T15:12:40.922Z"
   },
   {
    "duration": 234,
    "start_time": "2023-02-14T15:12:41.501Z"
   },
   {
    "duration": 971,
    "start_time": "2023-02-14T15:12:41.737Z"
   },
   {
    "duration": 19,
    "start_time": "2023-02-14T15:12:42.710Z"
   },
   {
    "duration": 63,
    "start_time": "2023-02-14T15:12:42.731Z"
   },
   {
    "duration": 732,
    "start_time": "2023-02-14T15:12:42.796Z"
   },
   {
    "duration": 5,
    "start_time": "2023-02-14T15:12:43.593Z"
   },
   {
    "duration": 21,
    "start_time": "2023-02-14T15:13:45.575Z"
   },
   {
    "duration": 6,
    "start_time": "2023-02-14T15:14:01.783Z"
   },
   {
    "duration": 346,
    "start_time": "2023-02-14T15:14:01.791Z"
   },
   {
    "duration": 185,
    "start_time": "2023-02-14T15:14:02.139Z"
   },
   {
    "duration": 556,
    "start_time": "2023-02-14T15:14:02.326Z"
   },
   {
    "duration": 2,
    "start_time": "2023-02-14T15:14:02.884Z"
   },
   {
    "duration": 1618,
    "start_time": "2023-02-14T15:14:02.888Z"
   },
   {
    "duration": 373,
    "start_time": "2023-02-14T15:14:04.508Z"
   },
   {
    "duration": 455,
    "start_time": "2023-02-14T15:14:04.894Z"
   },
   {
    "duration": 176,
    "start_time": "2023-02-14T15:14:05.351Z"
   },
   {
    "duration": 898,
    "start_time": "2023-02-14T15:14:05.529Z"
   },
   {
    "duration": 21,
    "start_time": "2023-02-14T15:14:06.428Z"
   },
   {
    "duration": 56,
    "start_time": "2023-02-14T15:14:06.450Z"
   },
   {
    "duration": 414,
    "start_time": "2023-02-14T15:14:06.508Z"
   },
   {
    "duration": 4,
    "start_time": "2023-02-14T15:14:06.924Z"
   },
   {
    "duration": 68,
    "start_time": "2023-02-14T15:14:06.929Z"
   },
   {
    "duration": 4,
    "start_time": "2023-02-14T15:14:06.998Z"
   },
   {
    "duration": 3198,
    "start_time": "2023-02-14T15:14:10.262Z"
   },
   {
    "duration": 1741,
    "start_time": "2023-02-14T15:14:29.078Z"
   },
   {
    "duration": 2462,
    "start_time": "2023-02-14T15:14:42.190Z"
   },
   {
    "duration": 2166,
    "start_time": "2023-02-14T15:15:07.452Z"
   },
   {
    "duration": 169,
    "start_time": "2023-02-14T15:15:20.586Z"
   },
   {
    "duration": 15197,
    "start_time": "2023-02-14T15:16:10.101Z"
   },
   {
    "duration": 8026,
    "start_time": "2023-02-14T15:16:25.301Z"
   },
   {
    "duration": 706,
    "start_time": "2023-02-14T15:16:33.394Z"
   },
   {
    "duration": 1207,
    "start_time": "2023-02-14T15:16:34.102Z"
   },
   {
    "duration": 3,
    "start_time": "2023-02-14T15:16:35.311Z"
   },
   {
    "duration": 3978,
    "start_time": "2023-02-14T15:16:35.316Z"
   },
   {
    "duration": 1045,
    "start_time": "2023-02-14T15:16:39.296Z"
   },
   {
    "duration": 1963,
    "start_time": "2023-02-14T15:16:40.342Z"
   },
   {
    "duration": 689,
    "start_time": "2023-02-14T15:16:42.307Z"
   },
   {
    "duration": 1682,
    "start_time": "2023-02-14T15:16:42.999Z"
   },
   {
    "duration": 54,
    "start_time": "2023-02-14T15:16:44.683Z"
   },
   {
    "duration": 88,
    "start_time": "2023-02-14T15:16:44.739Z"
   },
   {
    "duration": 1104,
    "start_time": "2023-02-14T15:16:44.894Z"
   },
   {
    "duration": 5,
    "start_time": "2023-02-14T15:16:46.000Z"
   },
   {
    "duration": 90,
    "start_time": "2023-02-14T15:16:46.006Z"
   },
   {
    "duration": 5,
    "start_time": "2023-02-14T15:16:46.097Z"
   },
   {
    "duration": 4350,
    "start_time": "2023-02-14T15:16:46.104Z"
   },
   {
    "duration": 2350,
    "start_time": "2023-02-14T15:16:50.455Z"
   },
   {
    "duration": 3904,
    "start_time": "2023-02-14T15:16:52.807Z"
   },
   {
    "duration": 2,
    "start_time": "2023-02-14T15:16:56.713Z"
   },
   {
    "duration": 2908,
    "start_time": "2023-02-14T15:16:56.717Z"
   },
   {
    "duration": 391,
    "start_time": "2023-02-14T15:16:59.627Z"
   },
   {
    "duration": 0,
    "start_time": "2023-02-14T15:17:00.020Z"
   },
   {
    "duration": 2074,
    "start_time": "2023-02-14T15:18:49.032Z"
   },
   {
    "duration": 146,
    "start_time": "2023-02-14T15:19:59.045Z"
   },
   {
    "duration": 25,
    "start_time": "2023-02-14T15:25:36.263Z"
   },
   {
    "duration": 7,
    "start_time": "2023-02-14T15:27:41.899Z"
   },
   {
    "duration": 3,
    "start_time": "2023-02-14T15:27:43.787Z"
   },
   {
    "duration": 24,
    "start_time": "2023-02-14T15:30:03.649Z"
   },
   {
    "duration": 1939,
    "start_time": "2023-02-14T15:31:43.789Z"
   },
   {
    "duration": 2,
    "start_time": "2023-02-14T15:31:48.393Z"
   },
   {
    "duration": 1758,
    "start_time": "2023-02-14T15:31:57.557Z"
   },
   {
    "duration": 33,
    "start_time": "2023-02-14T15:32:01.938Z"
   },
   {
    "duration": 177,
    "start_time": "2023-02-14T15:32:06.433Z"
   },
   {
    "duration": 15850,
    "start_time": "2023-02-14T15:32:15.469Z"
   },
   {
    "duration": 9399,
    "start_time": "2023-02-14T15:32:31.321Z"
   },
   {
    "duration": 898,
    "start_time": "2023-02-14T15:32:40.723Z"
   },
   {
    "duration": 1199,
    "start_time": "2023-02-14T15:32:41.623Z"
   },
   {
    "duration": 3,
    "start_time": "2023-02-14T15:32:42.825Z"
   },
   {
    "duration": 4974,
    "start_time": "2023-02-14T15:32:42.830Z"
   },
   {
    "duration": 901,
    "start_time": "2023-02-14T15:32:47.807Z"
   },
   {
    "duration": 2409,
    "start_time": "2023-02-14T15:32:48.709Z"
   },
   {
    "duration": 791,
    "start_time": "2023-02-14T15:32:51.121Z"
   },
   {
    "duration": 1791,
    "start_time": "2023-02-14T15:32:51.915Z"
   },
   {
    "duration": 43,
    "start_time": "2023-02-14T15:32:53.707Z"
   },
   {
    "duration": 75,
    "start_time": "2023-02-14T15:32:53.752Z"
   },
   {
    "duration": 1468,
    "start_time": "2023-02-14T15:32:53.829Z"
   },
   {
    "duration": 5,
    "start_time": "2023-02-14T15:32:55.300Z"
   },
   {
    "duration": 109,
    "start_time": "2023-02-14T15:32:55.307Z"
   },
   {
    "duration": 6,
    "start_time": "2023-02-14T15:32:55.418Z"
   },
   {
    "duration": 5434,
    "start_time": "2023-02-14T15:32:55.425Z"
   },
   {
    "duration": 2848,
    "start_time": "2023-02-14T15:33:00.861Z"
   },
   {
    "duration": 3833,
    "start_time": "2023-02-14T15:33:03.711Z"
   },
   {
    "duration": 2878,
    "start_time": "2023-02-14T15:33:07.546Z"
   },
   {
    "duration": 196,
    "start_time": "2023-02-14T15:33:10.426Z"
   },
   {
    "duration": 0,
    "start_time": "2023-02-14T15:33:10.623Z"
   },
   {
    "duration": 2098,
    "start_time": "2023-02-14T15:35:45.311Z"
   },
   {
    "duration": 1990,
    "start_time": "2023-02-14T15:35:48.716Z"
   },
   {
    "duration": 3,
    "start_time": "2023-02-14T15:35:58.727Z"
   },
   {
    "duration": 15291,
    "start_time": "2023-02-14T15:41:06.756Z"
   },
   {
    "duration": 8059,
    "start_time": "2023-02-14T15:41:22.049Z"
   },
   {
    "duration": 698,
    "start_time": "2023-02-14T15:41:30.109Z"
   },
   {
    "duration": 1148,
    "start_time": "2023-02-14T15:41:30.809Z"
   },
   {
    "duration": 3,
    "start_time": "2023-02-14T15:41:31.994Z"
   },
   {
    "duration": 4310,
    "start_time": "2023-02-14T15:41:31.999Z"
   },
   {
    "duration": 1067,
    "start_time": "2023-02-14T15:41:36.310Z"
   },
   {
    "duration": 1830,
    "start_time": "2023-02-14T15:41:37.379Z"
   },
   {
    "duration": 686,
    "start_time": "2023-02-14T15:41:39.211Z"
   },
   {
    "duration": 1658,
    "start_time": "2023-02-14T15:41:39.900Z"
   },
   {
    "duration": 62,
    "start_time": "2023-02-14T15:41:41.560Z"
   },
   {
    "duration": 88,
    "start_time": "2023-02-14T15:41:41.624Z"
   },
   {
    "duration": 1215,
    "start_time": "2023-02-14T15:41:41.714Z"
   },
   {
    "duration": 4,
    "start_time": "2023-02-14T15:41:42.931Z"
   },
   {
    "duration": 87,
    "start_time": "2023-02-14T15:41:42.936Z"
   },
   {
    "duration": 6,
    "start_time": "2023-02-14T15:41:43.093Z"
   },
   {
    "duration": 4316,
    "start_time": "2023-02-14T15:41:43.101Z"
   },
   {
    "duration": 2205,
    "start_time": "2023-02-14T15:41:47.419Z"
   },
   {
    "duration": 3244,
    "start_time": "2023-02-14T15:41:49.626Z"
   },
   {
    "duration": 3332,
    "start_time": "2023-02-14T15:41:52.873Z"
   },
   {
    "duration": 120,
    "start_time": "2023-02-14T15:42:17.690Z"
   },
   {
    "duration": 157,
    "start_time": "2023-02-14T15:42:27.442Z"
   },
   {
    "duration": 1751,
    "start_time": "2023-02-14T15:42:50.878Z"
   },
   {
    "duration": 844,
    "start_time": "2023-02-14T15:43:38.794Z"
   },
   {
    "duration": 22,
    "start_time": "2023-02-14T15:44:33.155Z"
   },
   {
    "duration": 704,
    "start_time": "2023-02-14T15:44:59.425Z"
   },
   {
    "duration": 15978,
    "start_time": "2023-02-14T15:45:20.243Z"
   },
   {
    "duration": 8313,
    "start_time": "2023-02-14T15:45:36.224Z"
   },
   {
    "duration": 715,
    "start_time": "2023-02-14T15:45:44.594Z"
   },
   {
    "duration": 1222,
    "start_time": "2023-02-14T15:45:45.312Z"
   },
   {
    "duration": 3,
    "start_time": "2023-02-14T15:45:46.593Z"
   },
   {
    "duration": 4225,
    "start_time": "2023-02-14T15:45:46.598Z"
   },
   {
    "duration": 1158,
    "start_time": "2023-02-14T15:45:50.824Z"
   },
   {
    "duration": 2010,
    "start_time": "2023-02-14T15:45:51.984Z"
   },
   {
    "duration": 709,
    "start_time": "2023-02-14T15:45:53.996Z"
   },
   {
    "duration": 1774,
    "start_time": "2023-02-14T15:45:54.708Z"
   },
   {
    "duration": 103,
    "start_time": "2023-02-14T15:45:56.492Z"
   },
   {
    "duration": 35,
    "start_time": "2023-02-14T15:45:56.596Z"
   },
   {
    "duration": 1192,
    "start_time": "2023-02-14T15:45:56.632Z"
   },
   {
    "duration": 70,
    "start_time": "2023-02-14T15:45:57.827Z"
   },
   {
    "duration": 115,
    "start_time": "2023-02-14T15:45:57.899Z"
   },
   {
    "duration": 5,
    "start_time": "2023-02-14T15:45:58.016Z"
   },
   {
    "duration": 4995,
    "start_time": "2023-02-14T15:45:58.023Z"
   },
   {
    "duration": 2778,
    "start_time": "2023-02-14T15:46:03.020Z"
   },
   {
    "duration": 3798,
    "start_time": "2023-02-14T15:46:05.800Z"
   },
   {
    "duration": 2701,
    "start_time": "2023-02-14T15:46:09.600Z"
   },
   {
    "duration": 1055,
    "start_time": "2023-02-14T15:46:12.303Z"
   },
   {
    "duration": 1050,
    "start_time": "2023-02-14T15:46:13.360Z"
   },
   {
    "duration": 7,
    "start_time": "2023-02-14T15:48:47.190Z"
   },
   {
    "duration": 5,
    "start_time": "2023-02-14T15:49:11.480Z"
   },
   {
    "duration": 5,
    "start_time": "2023-02-14T15:49:26.549Z"
   },
   {
    "duration": 5,
    "start_time": "2023-02-14T15:50:40.688Z"
   },
   {
    "duration": 85,
    "start_time": "2023-02-14T15:52:14.553Z"
   },
   {
    "duration": 148,
    "start_time": "2023-02-14T15:52:40.469Z"
   },
   {
    "duration": 13,
    "start_time": "2023-02-14T15:52:42.886Z"
   },
   {
    "duration": 126,
    "start_time": "2023-02-14T16:09:24.094Z"
   },
   {
    "duration": 12,
    "start_time": "2023-02-14T16:09:31.764Z"
   },
   {
    "duration": 528,
    "start_time": "2023-02-14T16:09:31.778Z"
   },
   {
    "duration": 193,
    "start_time": "2023-02-14T16:09:32.308Z"
   },
   {
    "duration": 535,
    "start_time": "2023-02-14T16:09:32.503Z"
   },
   {
    "duration": 3,
    "start_time": "2023-02-14T16:09:33.040Z"
   },
   {
    "duration": 1661,
    "start_time": "2023-02-14T16:09:33.045Z"
   },
   {
    "duration": 551,
    "start_time": "2023-02-14T16:09:34.709Z"
   },
   {
    "duration": 631,
    "start_time": "2023-02-14T16:09:35.262Z"
   },
   {
    "duration": 203,
    "start_time": "2023-02-14T16:09:35.896Z"
   },
   {
    "duration": 999,
    "start_time": "2023-02-14T16:09:36.101Z"
   },
   {
    "duration": 25,
    "start_time": "2023-02-14T16:09:37.101Z"
   },
   {
    "duration": 373,
    "start_time": "2023-02-14T16:09:37.128Z"
   },
   {
    "duration": 81,
    "start_time": "2023-02-14T16:10:07.553Z"
   },
   {
    "duration": 8,
    "start_time": "2023-02-14T16:10:10.814Z"
   },
   {
    "duration": 306,
    "start_time": "2023-02-14T16:10:10.824Z"
   },
   {
    "duration": 197,
    "start_time": "2023-02-14T16:10:11.131Z"
   },
   {
    "duration": 344,
    "start_time": "2023-02-14T16:10:11.330Z"
   },
   {
    "duration": 3,
    "start_time": "2023-02-14T16:10:11.676Z"
   },
   {
    "duration": 1604,
    "start_time": "2023-02-14T16:10:11.693Z"
   },
   {
    "duration": 475,
    "start_time": "2023-02-14T16:10:13.298Z"
   },
   {
    "duration": 471,
    "start_time": "2023-02-14T16:10:13.775Z"
   },
   {
    "duration": 125,
    "start_time": "2023-02-14T16:10:14.248Z"
   },
   {
    "duration": 1143,
    "start_time": "2023-02-14T16:10:14.375Z"
   },
   {
    "duration": 28,
    "start_time": "2023-02-14T16:10:15.520Z"
   },
   {
    "duration": 60,
    "start_time": "2023-02-14T16:10:15.550Z"
   },
   {
    "duration": 539,
    "start_time": "2023-02-14T16:10:35.381Z"
   },
   {
    "duration": 5,
    "start_time": "2023-02-14T16:10:44.489Z"
   },
   {
    "duration": 2834,
    "start_time": "2023-02-14T16:11:02.304Z"
   },
   {
    "duration": 2107,
    "start_time": "2023-02-14T16:14:30.163Z"
   },
   {
    "duration": 2393,
    "start_time": "2023-02-14T16:14:36.187Z"
   },
   {
    "duration": 2367,
    "start_time": "2023-02-14T16:14:43.623Z"
   },
   {
    "duration": 3,
    "start_time": "2023-02-14T16:17:25.096Z"
   },
   {
    "duration": 3,
    "start_time": "2023-02-14T16:17:28.972Z"
   },
   {
    "duration": 8,
    "start_time": "2023-02-14T16:17:38.568Z"
   },
   {
    "duration": 3,
    "start_time": "2023-02-14T16:17:50.184Z"
   },
   {
    "duration": 76,
    "start_time": "2023-02-14T16:17:50.696Z"
   },
   {
    "duration": 6,
    "start_time": "2023-02-14T16:17:58.899Z"
   },
   {
    "duration": 315,
    "start_time": "2023-02-14T16:17:58.907Z"
   },
   {
    "duration": 176,
    "start_time": "2023-02-14T16:17:59.223Z"
   },
   {
    "duration": 432,
    "start_time": "2023-02-14T16:17:59.401Z"
   },
   {
    "duration": 3,
    "start_time": "2023-02-14T16:17:59.836Z"
   },
   {
    "duration": 1588,
    "start_time": "2023-02-14T16:17:59.841Z"
   },
   {
    "duration": 389,
    "start_time": "2023-02-14T16:18:01.431Z"
   },
   {
    "duration": 438,
    "start_time": "2023-02-14T16:18:01.821Z"
   },
   {
    "duration": 160,
    "start_time": "2023-02-14T16:18:02.260Z"
   },
   {
    "duration": 733,
    "start_time": "2023-02-14T16:18:02.422Z"
   },
   {
    "duration": 20,
    "start_time": "2023-02-14T16:18:03.156Z"
   },
   {
    "duration": 1652,
    "start_time": "2023-02-14T16:18:03.178Z"
   },
   {
    "duration": 3,
    "start_time": "2023-02-14T16:18:04.832Z"
   },
   {
    "duration": 28,
    "start_time": "2023-02-14T16:18:04.838Z"
   },
   {
    "duration": 532,
    "start_time": "2023-02-14T16:18:04.868Z"
   },
   {
    "duration": 4,
    "start_time": "2023-02-14T16:18:16.181Z"
   },
   {
    "duration": 2409,
    "start_time": "2023-02-14T16:18:16.836Z"
   },
   {
    "duration": 4,
    "start_time": "2023-02-14T16:19:54.329Z"
   },
   {
    "duration": 97,
    "start_time": "2023-02-14T16:19:56.161Z"
   },
   {
    "duration": 6,
    "start_time": "2023-02-14T16:20:03.915Z"
   },
   {
    "duration": 294,
    "start_time": "2023-02-14T16:20:03.923Z"
   },
   {
    "duration": 119,
    "start_time": "2023-02-14T16:20:04.222Z"
   },
   {
    "duration": 379,
    "start_time": "2023-02-14T16:20:04.342Z"
   },
   {
    "duration": 2,
    "start_time": "2023-02-14T16:20:04.723Z"
   },
   {
    "duration": 1373,
    "start_time": "2023-02-14T16:20:04.727Z"
   },
   {
    "duration": 526,
    "start_time": "2023-02-14T16:20:06.102Z"
   },
   {
    "duration": 430,
    "start_time": "2023-02-14T16:20:06.630Z"
   },
   {
    "duration": 160,
    "start_time": "2023-02-14T16:20:07.062Z"
   },
   {
    "duration": 730,
    "start_time": "2023-02-14T16:20:07.224Z"
   },
   {
    "duration": 19,
    "start_time": "2023-02-14T16:20:07.955Z"
   },
   {
    "duration": 1497,
    "start_time": "2023-02-14T16:20:07.977Z"
   },
   {
    "duration": 3,
    "start_time": "2023-02-14T16:20:09.476Z"
   },
   {
    "duration": 29,
    "start_time": "2023-02-14T16:20:09.481Z"
   },
   {
    "duration": 393,
    "start_time": "2023-02-14T16:20:09.512Z"
   },
   {
    "duration": 4,
    "start_time": "2023-02-14T16:20:09.907Z"
   },
   {
    "duration": 2225,
    "start_time": "2023-02-14T16:20:09.913Z"
   },
   {
    "duration": 25,
    "start_time": "2023-02-14T16:20:34.030Z"
   },
   {
    "duration": 5,
    "start_time": "2023-02-14T16:20:35.453Z"
   },
   {
    "duration": 3299,
    "start_time": "2023-02-14T16:20:36.373Z"
   },
   {
    "duration": 1769,
    "start_time": "2023-02-14T16:20:48.626Z"
   },
   {
    "duration": 2163,
    "start_time": "2023-02-14T16:20:52.582Z"
   },
   {
    "duration": 1927,
    "start_time": "2023-02-14T16:20:57.104Z"
   },
   {
    "duration": 665,
    "start_time": "2023-02-14T16:20:59.893Z"
   },
   {
    "duration": 591,
    "start_time": "2023-02-14T16:21:06.162Z"
   },
   {
    "duration": 7,
    "start_time": "2023-02-14T16:23:40.759Z"
   },
   {
    "duration": 224,
    "start_time": "2023-02-14T16:23:59.080Z"
   },
   {
    "duration": 1188,
    "start_time": "2023-02-14T16:24:15.331Z"
   },
   {
    "duration": 1919,
    "start_time": "2023-02-14T16:24:27.929Z"
   },
   {
    "duration": 1640,
    "start_time": "2023-02-14T16:24:34.379Z"
   },
   {
    "duration": 608,
    "start_time": "2023-02-14T16:24:36.717Z"
   },
   {
    "duration": 499,
    "start_time": "2023-02-14T16:24:40.208Z"
   },
   {
    "duration": 5,
    "start_time": "2023-02-14T16:25:09.652Z"
   },
   {
    "duration": 7,
    "start_time": "2023-02-14T16:25:11.204Z"
   },
   {
    "duration": 14,
    "start_time": "2023-02-14T16:25:13.336Z"
   },
   {
    "duration": 19,
    "start_time": "2023-02-14T16:25:15.392Z"
   },
   {
    "duration": 9,
    "start_time": "2023-02-14T16:25:47.444Z"
   },
   {
    "duration": 10,
    "start_time": "2023-02-14T16:25:48.972Z"
   },
   {
    "duration": 15,
    "start_time": "2023-02-14T16:27:50.067Z"
   },
   {
    "duration": 1322,
    "start_time": "2023-02-14T16:28:03.838Z"
   },
   {
    "duration": 787,
    "start_time": "2023-02-14T16:28:56.016Z"
   },
   {
    "duration": 832,
    "start_time": "2023-02-14T16:29:46.179Z"
   },
   {
    "duration": 1385,
    "start_time": "2023-02-14T16:30:41.416Z"
   },
   {
    "duration": 2,
    "start_time": "2023-02-14T16:33:53.576Z"
   },
   {
    "duration": 850,
    "start_time": "2023-02-14T16:34:35.393Z"
   },
   {
    "duration": 725,
    "start_time": "2023-02-14T16:35:50.006Z"
   },
   {
    "duration": 626,
    "start_time": "2023-02-14T16:41:15.389Z"
   },
   {
    "duration": 572,
    "start_time": "2023-02-14T16:41:18.735Z"
   },
   {
    "duration": 665,
    "start_time": "2023-02-14T16:41:42.398Z"
   },
   {
    "duration": 781,
    "start_time": "2023-02-14T16:41:51.692Z"
   },
   {
    "duration": 15316,
    "start_time": "2023-02-14T16:43:31.224Z"
   },
   {
    "duration": 7892,
    "start_time": "2023-02-14T16:43:46.543Z"
   },
   {
    "duration": 763,
    "start_time": "2023-02-14T16:43:54.437Z"
   },
   {
    "duration": 1137,
    "start_time": "2023-02-14T16:43:55.202Z"
   },
   {
    "duration": 53,
    "start_time": "2023-02-14T16:43:56.342Z"
   },
   {
    "duration": 4199,
    "start_time": "2023-02-14T16:43:56.396Z"
   },
   {
    "duration": 999,
    "start_time": "2023-02-14T16:44:00.597Z"
   },
   {
    "duration": 2012,
    "start_time": "2023-02-14T16:44:01.598Z"
   },
   {
    "duration": 700,
    "start_time": "2023-02-14T16:44:03.612Z"
   },
   {
    "duration": 1720,
    "start_time": "2023-02-14T16:44:04.314Z"
   },
   {
    "duration": 76,
    "start_time": "2023-02-14T16:44:06.036Z"
   },
   {
    "duration": 2223,
    "start_time": "2023-02-14T16:44:06.114Z"
   },
   {
    "duration": 2,
    "start_time": "2023-02-14T16:44:08.339Z"
   },
   {
    "duration": 64,
    "start_time": "2023-02-14T16:44:08.344Z"
   },
   {
    "duration": 906,
    "start_time": "2023-02-14T16:44:08.410Z"
   },
   {
    "duration": 6,
    "start_time": "2023-02-14T16:44:09.318Z"
   },
   {
    "duration": 25,
    "start_time": "2023-02-14T16:44:09.393Z"
   },
   {
    "duration": 4,
    "start_time": "2023-02-14T16:44:09.421Z"
   },
   {
    "duration": 413,
    "start_time": "2023-02-14T16:44:09.495Z"
   },
   {
    "duration": 2092,
    "start_time": "2023-02-14T16:44:09.909Z"
   },
   {
    "duration": 3216,
    "start_time": "2023-02-14T16:44:12.003Z"
   },
   {
    "duration": 2381,
    "start_time": "2023-02-14T16:44:15.222Z"
   },
   {
    "duration": 941,
    "start_time": "2023-02-14T16:44:17.605Z"
   },
   {
    "duration": 961,
    "start_time": "2023-02-14T16:44:18.548Z"
   },
   {
    "duration": 1113,
    "start_time": "2023-02-14T16:44:19.511Z"
   },
   {
    "duration": 1277,
    "start_time": "2023-02-14T16:44:20.627Z"
   },
   {
    "duration": 17033,
    "start_time": "2023-02-15T02:10:02.704Z"
   },
   {
    "duration": 11104,
    "start_time": "2023-02-15T02:10:19.749Z"
   },
   {
    "duration": 859,
    "start_time": "2023-02-15T02:10:30.858Z"
   },
   {
    "duration": 1617,
    "start_time": "2023-02-15T02:10:31.719Z"
   },
   {
    "duration": 7,
    "start_time": "2023-02-15T02:10:33.338Z"
   },
   {
    "duration": 6192,
    "start_time": "2023-02-15T02:10:33.349Z"
   },
   {
    "duration": 1403,
    "start_time": "2023-02-15T02:10:39.543Z"
   },
   {
    "duration": 2296,
    "start_time": "2023-02-15T02:10:40.948Z"
   },
   {
    "duration": 1006,
    "start_time": "2023-02-15T02:10:43.246Z"
   },
   {
    "duration": 2213,
    "start_time": "2023-02-15T02:10:44.256Z"
   },
   {
    "duration": 79,
    "start_time": "2023-02-15T02:10:46.471Z"
   },
   {
    "duration": 2643,
    "start_time": "2023-02-15T02:10:46.552Z"
   },
   {
    "duration": 28,
    "start_time": "2023-02-15T02:10:49.211Z"
   },
   {
    "duration": 81,
    "start_time": "2023-02-15T02:10:49.242Z"
   },
   {
    "duration": 1231,
    "start_time": "2023-02-15T02:10:49.324Z"
   },
   {
    "duration": 58,
    "start_time": "2023-02-15T02:10:50.557Z"
   },
   {
    "duration": 99,
    "start_time": "2023-02-15T02:10:50.616Z"
   },
   {
    "duration": 23,
    "start_time": "2023-02-15T02:10:50.717Z"
   },
   {
    "duration": 609,
    "start_time": "2023-02-15T02:10:50.741Z"
   },
   {
    "duration": 3291,
    "start_time": "2023-02-15T02:10:51.352Z"
   },
   {
    "duration": 4720,
    "start_time": "2023-02-15T02:10:54.644Z"
   },
   {
    "duration": 3273,
    "start_time": "2023-02-15T02:10:59.366Z"
   },
   {
    "duration": 1314,
    "start_time": "2023-02-15T02:11:02.646Z"
   },
   {
    "duration": 1095,
    "start_time": "2023-02-15T02:11:03.961Z"
   },
   {
    "duration": 1520,
    "start_time": "2023-02-15T02:11:05.057Z"
   },
   {
    "duration": 1368,
    "start_time": "2023-02-15T02:11:06.579Z"
   },
   {
    "duration": 4024,
    "start_time": "2023-02-15T02:55:33.399Z"
   },
   {
    "duration": 1067,
    "start_time": "2023-02-15T02:55:41.750Z"
   },
   {
    "duration": 1719,
    "start_time": "2023-02-15T02:55:47.048Z"
   },
   {
    "duration": 1057,
    "start_time": "2023-02-15T02:55:54.263Z"
   },
   {
    "duration": 929,
    "start_time": "2023-02-15T02:55:58.569Z"
   },
   {
    "duration": 1019,
    "start_time": "2023-02-15T02:56:01.806Z"
   },
   {
    "duration": 2035,
    "start_time": "2023-02-15T02:56:27.709Z"
   },
   {
    "duration": 798,
    "start_time": "2023-02-15T02:57:12.981Z"
   },
   {
    "duration": 843,
    "start_time": "2023-02-15T02:57:18.137Z"
   },
   {
    "duration": 1088,
    "start_time": "2023-02-15T02:57:22.371Z"
   },
   {
    "duration": 915,
    "start_time": "2023-02-15T02:57:24.764Z"
   },
   {
    "duration": 6,
    "start_time": "2023-02-15T03:34:15.194Z"
   },
   {
    "duration": 540,
    "start_time": "2023-02-15T03:34:15.202Z"
   },
   {
    "duration": 199,
    "start_time": "2023-02-15T03:34:15.744Z"
   },
   {
    "duration": 420,
    "start_time": "2023-02-15T03:34:15.945Z"
   },
   {
    "duration": 3,
    "start_time": "2023-02-15T03:34:16.366Z"
   },
   {
    "duration": 1706,
    "start_time": "2023-02-15T03:34:16.370Z"
   },
   {
    "duration": 110,
    "start_time": "2023-02-15T03:34:18.110Z"
   },
   {
    "duration": 784,
    "start_time": "2023-02-15T03:34:37.533Z"
   },
   {
    "duration": 602,
    "start_time": "2023-02-15T03:34:50.493Z"
   },
   {
    "duration": 668,
    "start_time": "2023-02-15T03:35:28.382Z"
   },
   {
    "duration": 17278,
    "start_time": "2023-02-15T03:35:42.580Z"
   },
   {
    "duration": 9751,
    "start_time": "2023-02-15T03:35:59.861Z"
   },
   {
    "duration": 903,
    "start_time": "2023-02-15T03:36:09.618Z"
   },
   {
    "duration": 1425,
    "start_time": "2023-02-15T03:36:10.524Z"
   },
   {
    "duration": 59,
    "start_time": "2023-02-15T03:36:11.951Z"
   },
   {
    "duration": 4529,
    "start_time": "2023-02-15T03:36:12.012Z"
   },
   {
    "duration": 303,
    "start_time": "2023-02-15T03:36:16.543Z"
   },
   {
    "duration": 1506,
    "start_time": "2023-02-15T03:36:16.910Z"
   },
   {
    "duration": 1325,
    "start_time": "2023-02-15T03:36:18.417Z"
   },
   {
    "duration": 1973,
    "start_time": "2023-02-15T03:36:19.745Z"
   },
   {
    "duration": 611,
    "start_time": "2023-02-15T03:36:21.720Z"
   },
   {
    "duration": 1971,
    "start_time": "2023-02-15T03:36:22.333Z"
   },
   {
    "duration": 46,
    "start_time": "2023-02-15T03:36:24.310Z"
   },
   {
    "duration": 2466,
    "start_time": "2023-02-15T03:36:24.358Z"
   },
   {
    "duration": 3,
    "start_time": "2023-02-15T03:36:26.826Z"
   },
   {
    "duration": 80,
    "start_time": "2023-02-15T03:36:26.830Z"
   },
   {
    "duration": 1025,
    "start_time": "2023-02-15T03:36:26.913Z"
   },
   {
    "duration": 7,
    "start_time": "2023-02-15T03:36:27.940Z"
   },
   {
    "duration": 85,
    "start_time": "2023-02-15T03:36:27.949Z"
   },
   {
    "duration": 5,
    "start_time": "2023-02-15T03:36:28.036Z"
   },
   {
    "duration": 577,
    "start_time": "2023-02-15T03:36:28.042Z"
   },
   {
    "duration": 2908,
    "start_time": "2023-02-15T03:36:28.621Z"
   },
   {
    "duration": 4414,
    "start_time": "2023-02-15T03:36:31.530Z"
   },
   {
    "duration": 3009,
    "start_time": "2023-02-15T03:36:36.013Z"
   },
   {
    "duration": 1246,
    "start_time": "2023-02-15T03:36:39.024Z"
   },
   {
    "duration": 1164,
    "start_time": "2023-02-15T03:36:40.271Z"
   },
   {
    "duration": 1583,
    "start_time": "2023-02-15T03:36:41.437Z"
   },
   {
    "duration": 1190,
    "start_time": "2023-02-15T03:36:43.029Z"
   },
   {
    "duration": 44,
    "start_time": "2023-02-15T03:37:44.701Z"
   },
   {
    "duration": 837,
    "start_time": "2023-02-15T03:37:50.579Z"
   },
   {
    "duration": 130,
    "start_time": "2023-02-16T06:49:41.117Z"
   },
   {
    "duration": 721,
    "start_time": "2023-02-16T06:49:47.848Z"
   },
   {
    "duration": 16112,
    "start_time": "2023-02-16T06:49:49.723Z"
   },
   {
    "duration": 8,
    "start_time": "2023-02-16T07:05:45.753Z"
   },
   {
    "duration": 7,
    "start_time": "2023-02-16T07:05:45.763Z"
   },
   {
    "duration": 10487,
    "start_time": "2023-02-16T07:05:45.772Z"
   },
   {
    "duration": 852,
    "start_time": "2023-02-16T07:05:56.291Z"
   },
   {
    "duration": 5114,
    "start_time": "2023-02-16T07:07:01.830Z"
   },
   {
    "duration": 2249,
    "start_time": "2023-02-16T07:08:23.082Z"
   },
   {
    "duration": 1144,
    "start_time": "2023-02-16T07:10:12.381Z"
   },
   {
    "duration": 776,
    "start_time": "2023-02-16T07:10:38.225Z"
   },
   {
    "duration": 93,
    "start_time": "2023-02-16T07:10:47.070Z"
   },
   {
    "duration": 743,
    "start_time": "2023-02-16T07:11:19.416Z"
   },
   {
    "duration": 16764,
    "start_time": "2023-02-16T07:11:20.161Z"
   },
   {
    "duration": 10822,
    "start_time": "2023-02-16T07:11:36.927Z"
   },
   {
    "duration": 888,
    "start_time": "2023-02-16T07:11:47.750Z"
   },
   {
    "duration": 1756,
    "start_time": "2023-02-16T07:11:48.642Z"
   },
   {
    "duration": 5036,
    "start_time": "2023-02-16T07:11:50.400Z"
   },
   {
    "duration": 62,
    "start_time": "2023-02-16T07:11:55.439Z"
   },
   {
    "duration": 4531,
    "start_time": "2023-02-16T07:11:55.503Z"
   },
   {
    "duration": 59,
    "start_time": "2023-02-16T07:12:00.037Z"
   },
   {
    "duration": 944,
    "start_time": "2023-02-16T07:12:00.098Z"
   },
   {
    "duration": 804,
    "start_time": "2023-02-16T07:12:01.044Z"
   },
   {
    "duration": 1193,
    "start_time": "2023-02-16T07:12:01.850Z"
   },
   {
    "duration": 157,
    "start_time": "2023-02-16T07:13:13.281Z"
   },
   {
    "duration": 141,
    "start_time": "2023-02-16T08:34:47.892Z"
   },
   {
    "duration": 2486,
    "start_time": "2023-02-16T08:35:01.725Z"
   },
   {
    "duration": 2501,
    "start_time": "2023-02-16T08:35:46.349Z"
   },
   {
    "duration": 193,
    "start_time": "2023-02-16T08:36:52.681Z"
   },
   {
    "duration": 153,
    "start_time": "2023-02-16T08:37:07.318Z"
   },
   {
    "duration": 741,
    "start_time": "2023-02-16T08:39:37.979Z"
   },
   {
    "duration": 17308,
    "start_time": "2023-02-16T08:39:38.722Z"
   },
   {
    "duration": 11721,
    "start_time": "2023-02-16T08:39:56.032Z"
   },
   {
    "duration": 982,
    "start_time": "2023-02-16T08:40:07.755Z"
   },
   {
    "duration": 1700,
    "start_time": "2023-02-16T08:40:08.739Z"
   },
   {
    "duration": 6310,
    "start_time": "2023-02-16T08:40:10.450Z"
   },
   {
    "duration": 8,
    "start_time": "2023-02-16T08:40:16.792Z"
   },
   {
    "duration": 4527,
    "start_time": "2023-02-16T08:40:16.802Z"
   },
   {
    "duration": 11,
    "start_time": "2023-02-16T08:40:21.331Z"
   },
   {
    "duration": 1103,
    "start_time": "2023-02-16T08:40:21.344Z"
   },
   {
    "duration": 1407,
    "start_time": "2023-02-16T08:40:22.449Z"
   },
   {
    "duration": 2058,
    "start_time": "2023-02-16T08:40:23.859Z"
   },
   {
    "duration": 24,
    "start_time": "2023-02-16T08:40:25.919Z"
   },
   {
    "duration": 2967,
    "start_time": "2023-02-16T08:40:25.956Z"
   },
   {
    "duration": 654,
    "start_time": "2023-02-16T09:27:49.785Z"
   },
   {
    "duration": 608,
    "start_time": "2023-02-16T09:28:11.958Z"
   },
   {
    "duration": 2670,
    "start_time": "2023-02-16T09:28:34.010Z"
   },
   {
    "duration": 94,
    "start_time": "2023-02-16T09:28:55.249Z"
   },
   {
    "duration": 179,
    "start_time": "2023-02-16T09:33:37.927Z"
   },
   {
    "duration": 831,
    "start_time": "2023-02-16T09:36:35.731Z"
   },
   {
    "duration": 18892,
    "start_time": "2023-02-16T09:36:36.565Z"
   },
   {
    "duration": 11899,
    "start_time": "2023-02-16T09:36:55.459Z"
   },
   {
    "duration": 1127,
    "start_time": "2023-02-16T09:37:07.392Z"
   },
   {
    "duration": 1860,
    "start_time": "2023-02-16T09:37:08.522Z"
   },
   {
    "duration": 6544,
    "start_time": "2023-02-16T09:37:10.384Z"
   },
   {
    "duration": 10,
    "start_time": "2023-02-16T09:37:16.930Z"
   },
   {
    "duration": 4596,
    "start_time": "2023-02-16T09:37:16.942Z"
   },
   {
    "duration": 4,
    "start_time": "2023-02-16T09:37:21.539Z"
   },
   {
    "duration": 1039,
    "start_time": "2023-02-16T09:37:21.556Z"
   },
   {
    "duration": 1353,
    "start_time": "2023-02-16T09:37:22.597Z"
   },
   {
    "duration": 2191,
    "start_time": "2023-02-16T09:37:23.951Z"
   },
   {
    "duration": 8,
    "start_time": "2023-02-16T09:37:26.145Z"
   },
   {
    "duration": 3148,
    "start_time": "2023-02-16T09:37:26.195Z"
   },
   {
    "duration": 1246,
    "start_time": "2023-02-16T09:37:29.345Z"
   },
   {
    "duration": 144,
    "start_time": "2023-02-16T09:37:30.600Z"
   },
   {
    "duration": 796,
    "start_time": "2023-02-16T09:37:30.746Z"
   },
   {
    "duration": 872,
    "start_time": "2023-02-16T09:37:31.544Z"
   },
   {
    "duration": 87,
    "start_time": "2023-02-16T09:37:32.418Z"
   },
   {
    "duration": 36,
    "start_time": "2023-02-16T09:43:04.345Z"
   },
   {
    "duration": 1644,
    "start_time": "2023-02-16T09:43:05.051Z"
   },
   {
    "duration": 23,
    "start_time": "2023-02-16T09:43:08.595Z"
   },
   {
    "duration": 23,
    "start_time": "2023-02-16T09:44:16.247Z"
   },
   {
    "duration": 38,
    "start_time": "2023-02-16T09:44:16.885Z"
   },
   {
    "duration": 6,
    "start_time": "2023-02-16T09:44:17.564Z"
   },
   {
    "duration": 102,
    "start_time": "2023-02-16T09:46:38.878Z"
   },
   {
    "duration": 24,
    "start_time": "2023-02-16T09:46:39.682Z"
   },
   {
    "duration": 806,
    "start_time": "2023-02-16T09:50:38.240Z"
   },
   {
    "duration": 695,
    "start_time": "2023-02-16T09:50:42.058Z"
   },
   {
    "duration": 5586,
    "start_time": "2023-02-16T09:51:22.884Z"
   },
   {
    "duration": 2535,
    "start_time": "2023-02-16T09:51:28.472Z"
   },
   {
    "duration": 1379,
    "start_time": "2023-02-16T09:51:58.221Z"
   },
   {
    "duration": 975,
    "start_time": "2023-02-16T09:52:02.543Z"
   },
   {
    "duration": 1430,
    "start_time": "2023-02-16T09:54:34.120Z"
   },
   {
    "duration": 1335,
    "start_time": "2023-02-16T09:55:23.142Z"
   },
   {
    "duration": 230,
    "start_time": "2023-02-16T09:55:42.016Z"
   },
   {
    "duration": 733,
    "start_time": "2023-02-16T10:04:49.841Z"
   },
   {
    "duration": 17930,
    "start_time": "2023-02-16T10:04:50.577Z"
   },
   {
    "duration": 10625,
    "start_time": "2023-02-16T10:05:08.509Z"
   },
   {
    "duration": 1066,
    "start_time": "2023-02-16T10:05:19.136Z"
   },
   {
    "duration": 1698,
    "start_time": "2023-02-16T10:05:20.216Z"
   },
   {
    "duration": 5802,
    "start_time": "2023-02-16T10:05:21.921Z"
   },
   {
    "duration": 15,
    "start_time": "2023-02-16T10:05:27.725Z"
   },
   {
    "duration": 4999,
    "start_time": "2023-02-16T10:05:27.743Z"
   },
   {
    "duration": 48,
    "start_time": "2023-02-16T10:05:32.749Z"
   },
   {
    "duration": 1247,
    "start_time": "2023-02-16T10:05:32.799Z"
   },
   {
    "duration": 1393,
    "start_time": "2023-02-16T10:05:34.048Z"
   },
   {
    "duration": 1959,
    "start_time": "2023-02-16T10:05:35.443Z"
   },
   {
    "duration": 2,
    "start_time": "2023-02-16T10:05:37.404Z"
   },
   {
    "duration": 2943,
    "start_time": "2023-02-16T10:05:37.416Z"
   },
   {
    "duration": 847,
    "start_time": "2023-02-16T10:05:40.399Z"
   },
   {
    "duration": 90,
    "start_time": "2023-02-16T10:05:41.249Z"
   },
   {
    "duration": 670,
    "start_time": "2023-02-16T10:05:41.341Z"
   },
   {
    "duration": 490,
    "start_time": "2023-02-16T10:05:42.013Z"
   },
   {
    "duration": 46,
    "start_time": "2023-02-16T10:05:42.505Z"
   },
   {
    "duration": 100,
    "start_time": "2023-02-16T10:05:42.552Z"
   },
   {
    "duration": 1872,
    "start_time": "2023-02-16T10:05:42.654Z"
   },
   {
    "duration": 17,
    "start_time": "2023-02-16T10:05:44.528Z"
   },
   {
    "duration": 33,
    "start_time": "2023-02-16T10:05:44.547Z"
   },
   {
    "duration": 32,
    "start_time": "2023-02-16T10:05:44.593Z"
   },
   {
    "duration": 25,
    "start_time": "2023-02-16T10:05:44.632Z"
   },
   {
    "duration": 94,
    "start_time": "2023-02-16T10:05:44.659Z"
   },
   {
    "duration": 41,
    "start_time": "2023-02-16T10:05:44.757Z"
   },
   {
    "duration": 1018,
    "start_time": "2023-02-16T10:05:44.799Z"
   },
   {
    "duration": 629,
    "start_time": "2023-02-16T10:05:45.818Z"
   },
   {
    "duration": 4404,
    "start_time": "2023-02-16T10:05:46.449Z"
   },
   {
    "duration": 2484,
    "start_time": "2023-02-16T10:05:50.856Z"
   },
   {
    "duration": 1513,
    "start_time": "2023-02-16T10:05:53.351Z"
   },
   {
    "duration": 1017,
    "start_time": "2023-02-16T10:05:54.893Z"
   },
   {
    "duration": 1037,
    "start_time": "2023-02-16T10:05:55.911Z"
   },
   {
    "duration": 0,
    "start_time": "2023-02-16T10:05:56.950Z"
   },
   {
    "duration": 0,
    "start_time": "2023-02-16T10:05:56.951Z"
   },
   {
    "duration": 1032,
    "start_time": "2023-02-16T10:30:55.168Z"
   },
   {
    "duration": 916,
    "start_time": "2023-02-16T10:31:06.985Z"
   },
   {
    "duration": 745,
    "start_time": "2023-02-16T10:41:54.830Z"
   },
   {
    "duration": 754,
    "start_time": "2023-02-16T10:42:16.763Z"
   },
   {
    "duration": 694,
    "start_time": "2023-02-16T10:43:02.083Z"
   },
   {
    "duration": 585,
    "start_time": "2023-02-16T10:44:42.632Z"
   },
   {
    "duration": 400,
    "start_time": "2023-02-16T10:45:47.025Z"
   },
   {
    "duration": 4,
    "start_time": "2023-02-16T10:45:51.765Z"
   },
   {
    "duration": 15,
    "start_time": "2023-02-16T10:45:51.771Z"
   },
   {
    "duration": 432,
    "start_time": "2023-02-16T10:45:51.787Z"
   },
   {
    "duration": 232,
    "start_time": "2023-02-16T10:45:52.221Z"
   },
   {
    "duration": 633,
    "start_time": "2023-02-16T10:45:52.455Z"
   },
   {
    "duration": 1706,
    "start_time": "2023-02-16T10:45:53.090Z"
   },
   {
    "duration": 8,
    "start_time": "2023-02-16T10:45:54.797Z"
   },
   {
    "duration": 1750,
    "start_time": "2023-02-16T10:45:54.808Z"
   },
   {
    "duration": 6,
    "start_time": "2023-02-16T10:45:56.565Z"
   },
   {
    "duration": 485,
    "start_time": "2023-02-16T10:45:56.573Z"
   },
   {
    "duration": 806,
    "start_time": "2023-02-16T10:45:57.095Z"
   },
   {
    "duration": 648,
    "start_time": "2023-02-16T10:45:57.903Z"
   },
   {
    "duration": 4,
    "start_time": "2023-02-16T10:45:58.553Z"
   },
   {
    "duration": 1063,
    "start_time": "2023-02-16T10:45:58.597Z"
   },
   {
    "duration": 438,
    "start_time": "2023-02-16T10:45:59.695Z"
   },
   {
    "duration": 24,
    "start_time": "2023-02-16T10:46:00.135Z"
   },
   {
    "duration": 431,
    "start_time": "2023-02-16T10:46:00.161Z"
   },
   {
    "duration": 366,
    "start_time": "2023-02-16T10:46:00.605Z"
   },
   {
    "duration": 15,
    "start_time": "2023-02-16T10:46:00.973Z"
   },
   {
    "duration": 64,
    "start_time": "2023-02-16T10:46:00.989Z"
   },
   {
    "duration": 594,
    "start_time": "2023-02-16T10:46:01.054Z"
   },
   {
    "duration": 14,
    "start_time": "2023-02-16T10:46:01.651Z"
   },
   {
    "duration": 38,
    "start_time": "2023-02-16T10:46:01.700Z"
   },
   {
    "duration": 56,
    "start_time": "2023-02-16T10:46:01.748Z"
   },
   {
    "duration": 23,
    "start_time": "2023-02-16T10:46:01.806Z"
   },
   {
    "duration": 72,
    "start_time": "2023-02-16T10:46:01.831Z"
   },
   {
    "duration": 29,
    "start_time": "2023-02-16T10:46:01.906Z"
   },
   {
    "duration": 393,
    "start_time": "2023-02-16T10:46:01.937Z"
   },
   {
    "duration": 317,
    "start_time": "2023-02-16T10:46:02.332Z"
   },
   {
    "duration": 408,
    "start_time": "2023-02-16T10:46:02.651Z"
   },
   {
    "duration": 394,
    "start_time": "2023-02-16T10:46:12.140Z"
   },
   {
    "duration": 2821,
    "start_time": "2023-02-16T10:46:18.942Z"
   },
   {
    "duration": 911,
    "start_time": "2023-02-16T10:47:07.827Z"
   },
   {
    "duration": 6,
    "start_time": "2023-02-16T10:47:43.433Z"
   },
   {
    "duration": 14,
    "start_time": "2023-02-16T10:47:43.446Z"
   },
   {
    "duration": 405,
    "start_time": "2023-02-16T10:47:43.461Z"
   },
   {
    "duration": 158,
    "start_time": "2023-02-16T10:47:43.868Z"
   },
   {
    "duration": 657,
    "start_time": "2023-02-16T10:47:44.028Z"
   },
   {
    "duration": 1335,
    "start_time": "2023-02-16T10:47:44.687Z"
   },
   {
    "duration": 8,
    "start_time": "2023-02-16T10:47:46.024Z"
   },
   {
    "duration": 1737,
    "start_time": "2023-02-16T10:47:46.038Z"
   },
   {
    "duration": 3,
    "start_time": "2023-02-16T10:47:47.776Z"
   },
   {
    "duration": 253,
    "start_time": "2023-02-16T10:47:47.781Z"
   },
   {
    "duration": 670,
    "start_time": "2023-02-16T10:47:48.035Z"
   },
   {
    "duration": 602,
    "start_time": "2023-02-16T10:47:48.707Z"
   },
   {
    "duration": 7,
    "start_time": "2023-02-16T10:47:49.311Z"
   },
   {
    "duration": 742,
    "start_time": "2023-02-16T10:47:49.319Z"
   },
   {
    "duration": 291,
    "start_time": "2023-02-16T10:47:50.064Z"
   },
   {
    "duration": 35,
    "start_time": "2023-02-16T10:47:50.357Z"
   },
   {
    "duration": 360,
    "start_time": "2023-02-16T10:47:50.394Z"
   },
   {
    "duration": 367,
    "start_time": "2023-02-16T10:47:50.756Z"
   },
   {
    "duration": 22,
    "start_time": "2023-02-16T10:47:51.125Z"
   },
   {
    "duration": 511,
    "start_time": "2023-02-16T10:47:51.152Z"
   },
   {
    "duration": 2111,
    "start_time": "2023-02-16T10:48:40.069Z"
   },
   {
    "duration": 7,
    "start_time": "2023-02-16T10:50:07.739Z"
   },
   {
    "duration": 16,
    "start_time": "2023-02-16T10:50:07.748Z"
   },
   {
    "duration": 354,
    "start_time": "2023-02-16T10:50:07.766Z"
   },
   {
    "duration": 163,
    "start_time": "2023-02-16T10:50:08.121Z"
   },
   {
    "duration": 775,
    "start_time": "2023-02-16T10:50:08.286Z"
   },
   {
    "duration": 838,
    "start_time": "2023-02-16T10:50:09.062Z"
   },
   {
    "duration": 5,
    "start_time": "2023-02-16T10:50:09.902Z"
   },
   {
    "duration": 1494,
    "start_time": "2023-02-16T10:50:09.917Z"
   },
   {
    "duration": 5,
    "start_time": "2023-02-16T10:50:11.413Z"
   },
   {
    "duration": 326,
    "start_time": "2023-02-16T10:50:11.419Z"
   },
   {
    "duration": 617,
    "start_time": "2023-02-16T10:50:11.746Z"
   },
   {
    "duration": 584,
    "start_time": "2023-02-16T10:50:12.364Z"
   },
   {
    "duration": 905,
    "start_time": "2023-02-16T10:50:12.950Z"
   },
   {
    "duration": 408,
    "start_time": "2023-02-16T10:52:26.723Z"
   },
   {
    "duration": 6,
    "start_time": "2023-02-16T10:53:09.036Z"
   },
   {
    "duration": 8,
    "start_time": "2023-02-16T10:53:09.045Z"
   },
   {
    "duration": 409,
    "start_time": "2023-02-16T10:53:09.055Z"
   },
   {
    "duration": 131,
    "start_time": "2023-02-16T10:53:09.466Z"
   },
   {
    "duration": 383,
    "start_time": "2023-02-16T10:53:09.603Z"
   },
   {
    "duration": 911,
    "start_time": "2023-02-16T10:53:09.988Z"
   },
   {
    "duration": 11,
    "start_time": "2023-02-16T10:53:10.901Z"
   },
   {
    "duration": 1370,
    "start_time": "2023-02-16T10:53:10.914Z"
   },
   {
    "duration": 2,
    "start_time": "2023-02-16T10:53:12.286Z"
   },
   {
    "duration": 358,
    "start_time": "2023-02-16T10:53:12.290Z"
   },
   {
    "duration": 561,
    "start_time": "2023-02-16T10:53:12.653Z"
   },
   {
    "duration": 531,
    "start_time": "2023-02-16T10:53:13.216Z"
   },
   {
    "duration": 3,
    "start_time": "2023-02-16T10:53:13.749Z"
   },
   {
    "duration": 719,
    "start_time": "2023-02-16T10:53:13.755Z"
   },
   {
    "duration": 389,
    "start_time": "2023-02-16T10:53:14.476Z"
   },
   {
    "duration": 59,
    "start_time": "2023-02-16T10:53:14.868Z"
   },
   {
    "duration": 227,
    "start_time": "2023-02-16T10:53:14.935Z"
   },
   {
    "duration": 385,
    "start_time": "2023-02-16T10:53:15.164Z"
   },
   {
    "duration": 1438,
    "start_time": "2023-02-16T10:53:49.442Z"
   },
   {
    "duration": 139,
    "start_time": "2023-02-16T10:54:46.748Z"
   },
   {
    "duration": 88,
    "start_time": "2023-02-16T10:54:57.652Z"
   },
   {
    "duration": 13,
    "start_time": "2023-02-16T10:54:57.743Z"
   },
   {
    "duration": 333,
    "start_time": "2023-02-16T10:54:57.757Z"
   },
   {
    "duration": 138,
    "start_time": "2023-02-16T10:54:58.097Z"
   },
   {
    "duration": 493,
    "start_time": "2023-02-16T10:54:58.237Z"
   },
   {
    "duration": 1069,
    "start_time": "2023-02-16T10:54:58.733Z"
   },
   {
    "duration": 4,
    "start_time": "2023-02-16T10:54:59.811Z"
   },
   {
    "duration": 2700,
    "start_time": "2023-02-16T10:54:59.817Z"
   },
   {
    "duration": 16,
    "start_time": "2023-02-16T10:55:02.519Z"
   },
   {
    "duration": 569,
    "start_time": "2023-02-16T10:55:02.538Z"
   },
   {
    "duration": 912,
    "start_time": "2023-02-16T10:55:03.109Z"
   },
   {
    "duration": 1005,
    "start_time": "2023-02-16T10:55:04.023Z"
   },
   {
    "duration": 10,
    "start_time": "2023-02-16T10:55:05.030Z"
   },
   {
    "duration": 1286,
    "start_time": "2023-02-16T10:55:05.042Z"
   },
   {
    "duration": 877,
    "start_time": "2023-02-16T10:55:06.349Z"
   },
   {
    "duration": 5,
    "start_time": "2023-02-16T10:55:30.943Z"
   },
   {
    "duration": 18,
    "start_time": "2023-02-16T10:55:30.950Z"
   },
   {
    "duration": 385,
    "start_time": "2023-02-16T10:55:30.970Z"
   },
   {
    "duration": 103,
    "start_time": "2023-02-16T10:55:31.357Z"
   },
   {
    "duration": 466,
    "start_time": "2023-02-16T10:55:31.463Z"
   },
   {
    "duration": 791,
    "start_time": "2023-02-16T10:55:31.932Z"
   },
   {
    "duration": 4,
    "start_time": "2023-02-16T10:55:32.724Z"
   },
   {
    "duration": 1284,
    "start_time": "2023-02-16T10:55:32.729Z"
   },
   {
    "duration": 7,
    "start_time": "2023-02-16T10:55:34.014Z"
   },
   {
    "duration": 234,
    "start_time": "2023-02-16T10:55:34.023Z"
   },
   {
    "duration": 589,
    "start_time": "2023-02-16T10:55:34.259Z"
   },
   {
    "duration": 518,
    "start_time": "2023-02-16T10:55:34.850Z"
   },
   {
    "duration": 3,
    "start_time": "2023-02-16T10:55:35.370Z"
   },
   {
    "duration": 1075,
    "start_time": "2023-02-16T10:55:35.376Z"
   },
   {
    "duration": 586,
    "start_time": "2023-02-16T10:55:36.453Z"
   },
   {
    "duration": 27,
    "start_time": "2023-02-16T10:56:52.833Z"
   },
   {
    "duration": 726,
    "start_time": "2023-02-16T10:56:56.375Z"
   },
   {
    "duration": 383,
    "start_time": "2023-02-16T10:57:04.244Z"
   },
   {
    "duration": 208,
    "start_time": "2023-02-16T11:05:58.591Z"
   },
   {
    "duration": 6,
    "start_time": "2023-02-16T11:06:02.332Z"
   },
   {
    "duration": 32,
    "start_time": "2023-02-16T11:06:02.345Z"
   },
   {
    "duration": 475,
    "start_time": "2023-02-16T11:06:02.380Z"
   },
   {
    "duration": 240,
    "start_time": "2023-02-16T11:06:02.858Z"
   },
   {
    "duration": 613,
    "start_time": "2023-02-16T11:06:03.100Z"
   },
   {
    "duration": 805,
    "start_time": "2023-02-16T11:06:03.721Z"
   },
   {
    "duration": 4,
    "start_time": "2023-02-16T11:06:04.527Z"
   },
   {
    "duration": 1825,
    "start_time": "2023-02-16T11:06:04.533Z"
   },
   {
    "duration": 4,
    "start_time": "2023-02-16T11:06:06.361Z"
   },
   {
    "duration": 416,
    "start_time": "2023-02-16T11:06:06.367Z"
   },
   {
    "duration": 568,
    "start_time": "2023-02-16T11:06:06.785Z"
   },
   {
    "duration": 591,
    "start_time": "2023-02-16T11:06:07.355Z"
   },
   {
    "duration": 4,
    "start_time": "2023-02-16T11:06:07.948Z"
   },
   {
    "duration": 981,
    "start_time": "2023-02-16T11:06:07.954Z"
   },
   {
    "duration": 301,
    "start_time": "2023-02-16T11:06:12.038Z"
   },
   {
    "duration": 20,
    "start_time": "2023-02-16T11:06:15.339Z"
   },
   {
    "duration": 10,
    "start_time": "2023-02-16T11:06:24.519Z"
   },
   {
    "duration": 11,
    "start_time": "2023-02-16T11:06:36.559Z"
   },
   {
    "duration": 12,
    "start_time": "2023-02-16T11:07:06.456Z"
   },
   {
    "duration": 223,
    "start_time": "2023-02-16T11:07:27.371Z"
   },
   {
    "duration": 6,
    "start_time": "2023-02-16T11:07:31.566Z"
   },
   {
    "duration": 113,
    "start_time": "2023-02-16T11:07:31.575Z"
   },
   {
    "duration": 407,
    "start_time": "2023-02-16T11:07:31.690Z"
   },
   {
    "duration": 146,
    "start_time": "2023-02-16T11:07:32.099Z"
   },
   {
    "duration": 413,
    "start_time": "2023-02-16T11:07:32.247Z"
   },
   {
    "duration": 711,
    "start_time": "2023-02-16T11:07:32.662Z"
   },
   {
    "duration": 4,
    "start_time": "2023-02-16T11:07:33.374Z"
   },
   {
    "duration": 1555,
    "start_time": "2023-02-16T11:07:33.396Z"
   },
   {
    "duration": 12,
    "start_time": "2023-02-16T11:07:34.953Z"
   },
   {
    "duration": 330,
    "start_time": "2023-02-16T11:07:34.966Z"
   },
   {
    "duration": 576,
    "start_time": "2023-02-16T11:07:35.298Z"
   },
   {
    "duration": 711,
    "start_time": "2023-02-16T11:07:35.877Z"
   },
   {
    "duration": 13,
    "start_time": "2023-02-16T11:07:36.590Z"
   },
   {
    "duration": 948,
    "start_time": "2023-02-16T11:07:36.606Z"
   },
   {
    "duration": 401,
    "start_time": "2023-02-16T11:07:43.077Z"
   },
   {
    "duration": 390,
    "start_time": "2023-02-16T11:07:45.440Z"
   },
   {
    "duration": 375,
    "start_time": "2023-02-16T11:08:01.139Z"
   },
   {
    "duration": 234,
    "start_time": "2023-02-16T11:08:23.340Z"
   },
   {
    "duration": 12,
    "start_time": "2023-02-16T11:08:42.649Z"
   },
   {
    "duration": 10,
    "start_time": "2023-02-16T11:08:42.663Z"
   },
   {
    "duration": 341,
    "start_time": "2023-02-16T11:08:42.674Z"
   },
   {
    "duration": 132,
    "start_time": "2023-02-16T11:08:43.018Z"
   },
   {
    "duration": 501,
    "start_time": "2023-02-16T11:08:43.153Z"
   },
   {
    "duration": 690,
    "start_time": "2023-02-16T11:08:43.656Z"
   },
   {
    "duration": 4,
    "start_time": "2023-02-16T11:08:44.347Z"
   },
   {
    "duration": 1223,
    "start_time": "2023-02-16T11:08:44.353Z"
   },
   {
    "duration": 2,
    "start_time": "2023-02-16T11:08:45.578Z"
   },
   {
    "duration": 235,
    "start_time": "2023-02-16T11:08:45.581Z"
   },
   {
    "duration": 528,
    "start_time": "2023-02-16T11:08:45.830Z"
   },
   {
    "duration": 656,
    "start_time": "2023-02-16T11:08:46.359Z"
   },
   {
    "duration": 6,
    "start_time": "2023-02-16T11:08:47.017Z"
   },
   {
    "duration": 671,
    "start_time": "2023-02-16T11:08:47.026Z"
   },
   {
    "duration": 327,
    "start_time": "2023-02-16T11:08:47.699Z"
   },
   {
    "duration": 21,
    "start_time": "2023-02-16T11:08:48.033Z"
   },
   {
    "duration": 316,
    "start_time": "2023-02-16T11:08:48.057Z"
   },
   {
    "duration": 452,
    "start_time": "2023-02-16T11:08:48.375Z"
   },
   {
    "duration": 22,
    "start_time": "2023-02-16T11:08:48.829Z"
   },
   {
    "duration": 19,
    "start_time": "2023-02-16T11:08:57.437Z"
   },
   {
    "duration": 450,
    "start_time": "2023-02-16T11:08:58.062Z"
   },
   {
    "duration": 10,
    "start_time": "2023-02-16T11:09:01.422Z"
   },
   {
    "duration": 13,
    "start_time": "2023-02-16T11:09:03.254Z"
   },
   {
    "duration": 22,
    "start_time": "2023-02-16T11:09:03.689Z"
   },
   {
    "duration": 11,
    "start_time": "2023-02-16T11:09:04.167Z"
   },
   {
    "duration": 413,
    "start_time": "2023-02-16T11:09:18.944Z"
   },
   {
    "duration": 49,
    "start_time": "2023-02-16T11:09:37.077Z"
   },
   {
    "duration": 796,
    "start_time": "2023-02-16T11:09:54.763Z"
   },
   {
    "duration": 592,
    "start_time": "2023-02-16T11:10:00.257Z"
   },
   {
    "duration": 660,
    "start_time": "2023-02-16T11:10:16.958Z"
   },
   {
    "duration": 360,
    "start_time": "2023-02-16T11:10:23.965Z"
   },
   {
    "duration": 333,
    "start_time": "2023-02-16T11:10:27.683Z"
   },
   {
    "duration": 1463,
    "start_time": "2023-02-16T11:10:33.361Z"
   },
   {
    "duration": 1268,
    "start_time": "2023-02-16T11:10:35.987Z"
   },
   {
    "duration": 652,
    "start_time": "2023-02-16T11:10:40.561Z"
   },
   {
    "duration": 613,
    "start_time": "2023-02-16T11:10:43.288Z"
   },
   {
    "duration": 219,
    "start_time": "2023-02-16T11:10:58.745Z"
   },
   {
    "duration": 512,
    "start_time": "2023-02-16T11:11:07.642Z"
   },
   {
    "duration": 544,
    "start_time": "2023-02-16T11:11:14.433Z"
   },
   {
    "duration": 63,
    "start_time": "2023-02-17T06:01:25.925Z"
   },
   {
    "duration": 872,
    "start_time": "2023-02-17T06:01:33.045Z"
   },
   {
    "duration": 15475,
    "start_time": "2023-02-17T06:01:33.920Z"
   },
   {
    "duration": 8426,
    "start_time": "2023-02-17T06:01:49.396Z"
   },
   {
    "duration": 697,
    "start_time": "2023-02-17T06:01:57.823Z"
   },
   {
    "duration": 1196,
    "start_time": "2023-02-17T06:01:58.522Z"
   },
   {
    "duration": 4282,
    "start_time": "2023-02-17T06:01:59.719Z"
   },
   {
    "duration": 3,
    "start_time": "2023-02-17T06:02:04.003Z"
   },
   {
    "duration": 4083,
    "start_time": "2023-02-17T06:02:04.008Z"
   },
   {
    "duration": 3,
    "start_time": "2023-02-17T06:02:08.093Z"
   },
   {
    "duration": 917,
    "start_time": "2023-02-17T06:02:08.098Z"
   },
   {
    "duration": 1197,
    "start_time": "2023-02-17T06:02:09.017Z"
   },
   {
    "duration": 1602,
    "start_time": "2023-02-17T06:02:10.216Z"
   },
   {
    "duration": 2,
    "start_time": "2023-02-17T06:02:11.820Z"
   },
   {
    "duration": 2290,
    "start_time": "2023-02-17T06:02:11.825Z"
   },
   {
    "duration": 249,
    "start_time": "2023-02-17T06:02:40.966Z"
   },
   {
    "duration": 881,
    "start_time": "2023-02-17T06:03:02.022Z"
   },
   {
    "duration": 40,
    "start_time": "2023-02-17T06:06:40.281Z"
   },
   {
    "duration": 600,
    "start_time": "2023-02-17T06:06:42.993Z"
   },
   {
    "duration": 466,
    "start_time": "2023-02-17T06:06:44.557Z"
   },
   {
    "duration": 15,
    "start_time": "2023-02-17T06:06:46.625Z"
   },
   {
    "duration": 31,
    "start_time": "2023-02-17T06:07:12.980Z"
   },
   {
    "duration": 14,
    "start_time": "2023-02-17T06:07:14.280Z"
   },
   {
    "duration": 1164,
    "start_time": "2023-02-17T06:07:52.336Z"
   },
   {
    "duration": 5,
    "start_time": "2023-02-17T06:07:55.572Z"
   },
   {
    "duration": 21,
    "start_time": "2023-02-17T06:07:57.842Z"
   },
   {
    "duration": 19,
    "start_time": "2023-02-17T06:07:58.237Z"
   },
   {
    "duration": 8,
    "start_time": "2023-02-17T06:07:58.648Z"
   },
   {
    "duration": 38,
    "start_time": "2023-02-17T06:08:00.722Z"
   },
   {
    "duration": 601,
    "start_time": "2023-02-17T06:08:03.823Z"
   },
   {
    "duration": 467,
    "start_time": "2023-02-17T06:08:06.542Z"
   },
   {
    "duration": 367,
    "start_time": "2023-02-17T06:08:07.249Z"
   },
   {
    "duration": 523,
    "start_time": "2023-02-17T06:08:08.504Z"
   },
   {
    "duration": 3381,
    "start_time": "2023-02-17T06:08:12.023Z"
   },
   {
    "duration": 1698,
    "start_time": "2023-02-17T06:08:15.406Z"
   },
   {
    "duration": 870,
    "start_time": "2023-02-17T06:08:20.137Z"
   },
   {
    "duration": 695,
    "start_time": "2023-02-17T06:08:23.117Z"
   },
   {
    "duration": 536,
    "start_time": "2023-02-17T06:08:28.640Z"
   },
   {
    "duration": 676,
    "start_time": "2023-02-17T06:09:02.367Z"
   },
   {
    "duration": 761,
    "start_time": "2023-02-17T06:12:20.358Z"
   },
   {
    "duration": 15113,
    "start_time": "2023-02-17T06:12:21.121Z"
   },
   {
    "duration": 8556,
    "start_time": "2023-02-17T06:12:36.236Z"
   },
   {
    "duration": 904,
    "start_time": "2023-02-17T06:12:44.794Z"
   },
   {
    "duration": 1314,
    "start_time": "2023-02-17T06:12:45.700Z"
   },
   {
    "duration": 4397,
    "start_time": "2023-02-17T06:12:47.016Z"
   },
   {
    "duration": 3,
    "start_time": "2023-02-17T06:12:51.415Z"
   },
   {
    "duration": 3686,
    "start_time": "2023-02-17T06:12:51.420Z"
   },
   {
    "duration": 3,
    "start_time": "2023-02-17T06:12:55.108Z"
   },
   {
    "duration": 814,
    "start_time": "2023-02-17T06:12:55.113Z"
   },
   {
    "duration": 1166,
    "start_time": "2023-02-17T06:12:55.929Z"
   },
   {
    "duration": 1606,
    "start_time": "2023-02-17T06:12:57.097Z"
   },
   {
    "duration": 2,
    "start_time": "2023-02-17T06:12:58.708Z"
   },
   {
    "duration": 2498,
    "start_time": "2023-02-17T06:12:58.712Z"
   },
   {
    "duration": 1009,
    "start_time": "2023-02-17T06:13:01.212Z"
   },
   {
    "duration": 96,
    "start_time": "2023-02-17T06:13:02.223Z"
   },
   {
    "duration": 597,
    "start_time": "2023-02-17T06:13:02.321Z"
   },
   {
    "duration": 505,
    "start_time": "2023-02-17T06:13:02.920Z"
   },
   {
    "duration": 67,
    "start_time": "2023-02-17T06:13:03.427Z"
   },
   {
    "duration": 27,
    "start_time": "2023-02-17T06:13:03.496Z"
   },
   {
    "duration": 1228,
    "start_time": "2023-02-17T06:13:03.591Z"
   },
   {
    "duration": 5,
    "start_time": "2023-02-17T06:13:04.822Z"
   },
   {
    "duration": 23,
    "start_time": "2023-02-17T06:13:04.893Z"
   },
   {
    "duration": 84,
    "start_time": "2023-02-17T06:13:04.919Z"
   },
   {
    "duration": 8,
    "start_time": "2023-02-17T06:13:05.005Z"
   },
   {
    "duration": 98,
    "start_time": "2023-02-17T06:13:05.015Z"
   },
   {
    "duration": 912,
    "start_time": "2023-02-17T06:13:05.115Z"
   },
   {
    "duration": 626,
    "start_time": "2023-02-17T06:13:06.031Z"
   },
   {
    "duration": 554,
    "start_time": "2023-02-17T06:13:06.659Z"
   },
   {
    "duration": 609,
    "start_time": "2023-02-17T06:13:07.215Z"
   },
   {
    "duration": 4374,
    "start_time": "2023-02-17T06:13:07.827Z"
   },
   {
    "duration": 2006,
    "start_time": "2023-02-17T06:13:12.203Z"
   },
   {
    "duration": 1219,
    "start_time": "2023-02-17T06:13:14.210Z"
   },
   {
    "duration": 980,
    "start_time": "2023-02-17T06:13:15.431Z"
   },
   {
    "duration": 1202,
    "start_time": "2023-02-17T06:13:16.413Z"
   },
   {
    "duration": 776,
    "start_time": "2023-02-17T06:13:17.617Z"
   },
   {
    "duration": 634,
    "start_time": "2023-02-17T06:13:18.395Z"
   },
   {
    "duration": 2,
    "start_time": "2023-02-17T06:18:10.755Z"
   },
   {
    "duration": 708,
    "start_time": "2023-02-17T06:18:35.522Z"
   },
   {
    "duration": 14970,
    "start_time": "2023-02-17T06:18:36.232Z"
   },
   {
    "duration": 8819,
    "start_time": "2023-02-17T06:18:51.204Z"
   },
   {
    "duration": 774,
    "start_time": "2023-02-17T06:19:00.025Z"
   },
   {
    "duration": 4,
    "start_time": "2023-02-17T06:19:00.802Z"
   },
   {
    "duration": 4509,
    "start_time": "2023-02-17T06:19:00.808Z"
   },
   {
    "duration": 3,
    "start_time": "2023-02-17T06:19:05.319Z"
   },
   {
    "duration": 4199,
    "start_time": "2023-02-17T06:19:05.324Z"
   },
   {
    "duration": 3,
    "start_time": "2023-02-17T06:19:09.525Z"
   },
   {
    "duration": 875,
    "start_time": "2023-02-17T06:19:09.529Z"
   },
   {
    "duration": 1199,
    "start_time": "2023-02-17T06:19:10.406Z"
   },
   {
    "duration": 1803,
    "start_time": "2023-02-17T06:19:11.606Z"
   },
   {
    "duration": 3,
    "start_time": "2023-02-17T06:19:13.411Z"
   },
   {
    "duration": 2582,
    "start_time": "2023-02-17T06:19:13.422Z"
   },
   {
    "duration": 857,
    "start_time": "2023-02-17T06:19:16.007Z"
   },
   {
    "duration": 60,
    "start_time": "2023-02-17T06:19:16.866Z"
   },
   {
    "duration": 669,
    "start_time": "2023-02-17T06:19:16.928Z"
   },
   {
    "duration": 700,
    "start_time": "2023-02-17T06:19:17.598Z"
   },
   {
    "duration": 18,
    "start_time": "2023-02-17T06:19:18.300Z"
   },
   {
    "duration": 96,
    "start_time": "2023-02-17T06:19:18.320Z"
   },
   {
    "duration": 1380,
    "start_time": "2023-02-17T06:19:18.418Z"
   },
   {
    "duration": 5,
    "start_time": "2023-02-17T06:19:19.800Z"
   },
   {
    "duration": 85,
    "start_time": "2023-02-17T06:19:19.807Z"
   },
   {
    "duration": 17,
    "start_time": "2023-02-17T06:19:19.895Z"
   },
   {
    "duration": 5,
    "start_time": "2023-02-17T06:19:19.914Z"
   },
   {
    "duration": 105,
    "start_time": "2023-02-17T06:19:19.992Z"
   },
   {
    "duration": 797,
    "start_time": "2023-02-17T06:19:20.099Z"
   },
   {
    "duration": 824,
    "start_time": "2023-02-17T06:19:20.898Z"
   },
   {
    "duration": 811,
    "start_time": "2023-02-17T06:19:21.725Z"
   },
   {
    "duration": 607,
    "start_time": "2023-02-17T06:19:22.592Z"
   },
   {
    "duration": 3617,
    "start_time": "2023-02-17T06:19:23.201Z"
   },
   {
    "duration": 1887,
    "start_time": "2023-02-17T06:19:26.820Z"
   },
   {
    "duration": 987,
    "start_time": "2023-02-17T06:19:28.708Z"
   },
   {
    "duration": 795,
    "start_time": "2023-02-17T06:19:29.697Z"
   },
   {
    "duration": 1020,
    "start_time": "2023-02-17T06:19:30.494Z"
   },
   {
    "duration": 842,
    "start_time": "2023-02-17T06:19:31.516Z"
   },
   {
    "duration": 563,
    "start_time": "2023-02-17T06:19:32.360Z"
   },
   {
    "duration": 686,
    "start_time": "2023-02-17T12:57:33.457Z"
   },
   {
    "duration": 15575,
    "start_time": "2023-02-17T12:57:34.145Z"
   },
   {
    "duration": 8987,
    "start_time": "2023-02-17T12:57:49.722Z"
   },
   {
    "duration": 800,
    "start_time": "2023-02-17T12:57:58.710Z"
   },
   {
    "duration": 3,
    "start_time": "2023-02-17T12:57:59.513Z"
   },
   {
    "duration": 4292,
    "start_time": "2023-02-17T12:57:59.518Z"
   },
   {
    "duration": 3,
    "start_time": "2023-02-17T12:58:03.812Z"
   },
   {
    "duration": 3982,
    "start_time": "2023-02-17T12:58:03.816Z"
   },
   {
    "duration": 4,
    "start_time": "2023-02-17T12:58:07.800Z"
   },
   {
    "duration": 903,
    "start_time": "2023-02-17T12:58:07.806Z"
   },
   {
    "duration": 1212,
    "start_time": "2023-02-17T12:58:08.712Z"
   },
   {
    "duration": 1812,
    "start_time": "2023-02-17T12:58:09.925Z"
   },
   {
    "duration": 3,
    "start_time": "2023-02-17T12:58:11.796Z"
   },
   {
    "duration": 156,
    "start_time": "2023-02-17T12:58:11.806Z"
   },
   {
    "duration": 0,
    "start_time": "2023-02-17T12:58:11.963Z"
   },
   {
    "duration": 0,
    "start_time": "2023-02-17T12:58:11.964Z"
   },
   {
    "duration": 0,
    "start_time": "2023-02-17T12:58:11.966Z"
   },
   {
    "duration": 0,
    "start_time": "2023-02-17T12:58:11.967Z"
   },
   {
    "duration": 0,
    "start_time": "2023-02-17T12:58:11.968Z"
   },
   {
    "duration": 0,
    "start_time": "2023-02-17T12:58:11.968Z"
   },
   {
    "duration": 0,
    "start_time": "2023-02-17T12:58:11.969Z"
   },
   {
    "duration": 0,
    "start_time": "2023-02-17T12:58:11.970Z"
   },
   {
    "duration": 0,
    "start_time": "2023-02-17T12:58:11.971Z"
   },
   {
    "duration": 0,
    "start_time": "2023-02-17T12:58:11.972Z"
   },
   {
    "duration": 0,
    "start_time": "2023-02-17T12:58:11.974Z"
   },
   {
    "duration": 0,
    "start_time": "2023-02-17T12:58:11.975Z"
   },
   {
    "duration": 0,
    "start_time": "2023-02-17T12:58:11.976Z"
   },
   {
    "duration": 0,
    "start_time": "2023-02-17T12:58:11.996Z"
   },
   {
    "duration": 0,
    "start_time": "2023-02-17T12:58:11.997Z"
   },
   {
    "duration": 0,
    "start_time": "2023-02-17T12:58:11.998Z"
   },
   {
    "duration": 0,
    "start_time": "2023-02-17T12:58:11.999Z"
   },
   {
    "duration": 0,
    "start_time": "2023-02-17T12:58:12.000Z"
   },
   {
    "duration": 0,
    "start_time": "2023-02-17T12:58:12.001Z"
   },
   {
    "duration": 0,
    "start_time": "2023-02-17T12:58:12.002Z"
   },
   {
    "duration": 0,
    "start_time": "2023-02-17T12:58:12.003Z"
   },
   {
    "duration": 0,
    "start_time": "2023-02-17T12:58:12.004Z"
   },
   {
    "duration": 0,
    "start_time": "2023-02-17T12:58:12.005Z"
   },
   {
    "duration": 2631,
    "start_time": "2023-02-17T12:59:11.683Z"
   },
   {
    "duration": 935,
    "start_time": "2023-02-17T12:59:16.581Z"
   },
   {
    "duration": 106,
    "start_time": "2023-02-17T12:59:17.518Z"
   },
   {
    "duration": 785,
    "start_time": "2023-02-17T12:59:17.638Z"
   },
   {
    "duration": 670,
    "start_time": "2023-02-17T12:59:18.426Z"
   },
   {
    "duration": 18,
    "start_time": "2023-02-17T12:59:19.098Z"
   },
   {
    "duration": 99,
    "start_time": "2023-02-17T12:59:19.118Z"
   },
   {
    "duration": 1384,
    "start_time": "2023-02-17T12:59:19.220Z"
   },
   {
    "duration": 6,
    "start_time": "2023-02-17T12:59:20.607Z"
   },
   {
    "duration": 98,
    "start_time": "2023-02-17T12:59:20.615Z"
   },
   {
    "duration": 85,
    "start_time": "2023-02-17T12:59:20.715Z"
   },
   {
    "duration": 7,
    "start_time": "2023-02-17T12:59:20.802Z"
   },
   {
    "duration": 70,
    "start_time": "2023-02-17T12:59:20.925Z"
   },
   {
    "duration": 750,
    "start_time": "2023-02-17T12:59:21.169Z"
   },
   {
    "duration": 588,
    "start_time": "2023-02-17T12:59:21.921Z"
   },
   {
    "duration": 606,
    "start_time": "2023-02-17T12:59:22.512Z"
   },
   {
    "duration": 577,
    "start_time": "2023-02-17T12:59:23.121Z"
   },
   {
    "duration": 3621,
    "start_time": "2023-02-17T12:59:23.700Z"
   },
   {
    "duration": 2300,
    "start_time": "2023-02-17T12:59:27.323Z"
   },
   {
    "duration": 1285,
    "start_time": "2023-02-17T12:59:29.625Z"
   },
   {
    "duration": 939,
    "start_time": "2023-02-17T12:59:30.913Z"
   },
   {
    "duration": 1007,
    "start_time": "2023-02-17T12:59:31.854Z"
   },
   {
    "duration": 921,
    "start_time": "2023-02-17T12:59:32.896Z"
   },
   {
    "duration": 301,
    "start_time": "2023-02-17T12:59:33.820Z"
   },
   {
    "duration": 707,
    "start_time": "2023-02-17T13:01:37.041Z"
   },
   {
    "duration": 16086,
    "start_time": "2023-02-17T13:01:37.750Z"
   },
   {
    "duration": 9673,
    "start_time": "2023-02-17T13:01:53.838Z"
   },
   {
    "duration": 795,
    "start_time": "2023-02-17T13:02:03.512Z"
   },
   {
    "duration": 3,
    "start_time": "2023-02-17T13:02:04.309Z"
   },
   {
    "duration": 4688,
    "start_time": "2023-02-17T13:02:04.313Z"
   },
   {
    "duration": 3,
    "start_time": "2023-02-17T13:02:09.003Z"
   },
   {
    "duration": 4007,
    "start_time": "2023-02-17T13:02:09.008Z"
   },
   {
    "duration": 3,
    "start_time": "2023-02-17T13:02:13.017Z"
   },
   {
    "duration": 908,
    "start_time": "2023-02-17T13:02:13.021Z"
   },
   {
    "duration": 1330,
    "start_time": "2023-02-17T13:02:14.003Z"
   },
   {
    "duration": 2162,
    "start_time": "2023-02-17T13:02:15.335Z"
   },
   {
    "duration": 8,
    "start_time": "2023-02-17T13:02:17.499Z"
   },
   {
    "duration": 3198,
    "start_time": "2023-02-17T13:02:17.516Z"
   },
   {
    "duration": 1297,
    "start_time": "2023-02-17T13:02:20.718Z"
   },
   {
    "duration": 109,
    "start_time": "2023-02-17T13:02:22.017Z"
   },
   {
    "duration": 788,
    "start_time": "2023-02-17T13:02:22.128Z"
   },
   {
    "duration": 713,
    "start_time": "2023-02-17T13:02:22.918Z"
   },
   {
    "duration": 86,
    "start_time": "2023-02-17T13:02:23.633Z"
   },
   {
    "duration": 98,
    "start_time": "2023-02-17T13:02:23.721Z"
   },
   {
    "duration": 1576,
    "start_time": "2023-02-17T13:02:23.821Z"
   },
   {
    "duration": 11,
    "start_time": "2023-02-17T13:02:25.400Z"
   },
   {
    "duration": 101,
    "start_time": "2023-02-17T13:02:25.414Z"
   },
   {
    "duration": 79,
    "start_time": "2023-02-17T13:02:25.518Z"
   },
   {
    "duration": 29,
    "start_time": "2023-02-17T13:02:25.599Z"
   },
   {
    "duration": 99,
    "start_time": "2023-02-17T13:02:25.630Z"
   },
   {
    "duration": 894,
    "start_time": "2023-02-17T13:02:25.731Z"
   },
   {
    "duration": 806,
    "start_time": "2023-02-17T13:02:26.627Z"
   },
   {
    "duration": 780,
    "start_time": "2023-02-17T13:02:27.435Z"
   },
   {
    "duration": 942,
    "start_time": "2023-02-17T13:02:28.218Z"
   },
   {
    "duration": 4089,
    "start_time": "2023-02-17T13:02:29.162Z"
   },
   {
    "duration": 2073,
    "start_time": "2023-02-17T13:02:33.253Z"
   },
   {
    "duration": 1168,
    "start_time": "2023-02-17T13:02:35.328Z"
   },
   {
    "duration": 924,
    "start_time": "2023-02-17T13:02:36.498Z"
   },
   {
    "duration": 1080,
    "start_time": "2023-02-17T13:02:37.424Z"
   },
   {
    "duration": 892,
    "start_time": "2023-02-17T13:02:38.506Z"
   },
   {
    "duration": 639,
    "start_time": "2023-02-17T13:02:39.400Z"
   },
   {
    "duration": 778,
    "start_time": "2023-03-03T07:29:30.518Z"
   },
   {
    "duration": 17392,
    "start_time": "2023-03-03T07:29:31.298Z"
   },
   {
    "duration": 10955,
    "start_time": "2023-03-03T07:29:48.693Z"
   },
   {
    "duration": 932,
    "start_time": "2023-03-03T07:29:59.651Z"
   },
   {
    "duration": 7,
    "start_time": "2023-03-03T07:30:00.646Z"
   },
   {
    "duration": 5296,
    "start_time": "2023-03-03T07:30:00.655Z"
   },
   {
    "duration": 10,
    "start_time": "2023-03-03T07:30:05.954Z"
   },
   {
    "duration": 4441,
    "start_time": "2023-03-03T07:30:05.970Z"
   },
   {
    "duration": 3,
    "start_time": "2023-03-03T07:30:10.446Z"
   },
   {
    "duration": 1018,
    "start_time": "2023-03-03T07:30:10.456Z"
   },
   {
    "duration": 1209,
    "start_time": "2023-03-03T07:30:11.476Z"
   },
   {
    "duration": 2086,
    "start_time": "2023-03-03T07:30:12.686Z"
   },
   {
    "duration": 3,
    "start_time": "2023-03-03T07:30:14.775Z"
   },
   {
    "duration": 2618,
    "start_time": "2023-03-03T07:30:14.780Z"
   },
   {
    "duration": 1017,
    "start_time": "2023-03-03T07:30:17.445Z"
   },
   {
    "duration": 115,
    "start_time": "2023-03-03T07:30:18.463Z"
   },
   {
    "duration": 729,
    "start_time": "2023-03-03T07:30:18.580Z"
   },
   {
    "duration": 610,
    "start_time": "2023-03-03T07:30:19.311Z"
   },
   {
    "duration": 46,
    "start_time": "2023-03-03T07:30:19.922Z"
   },
   {
    "duration": 88,
    "start_time": "2023-03-03T07:30:19.970Z"
   },
   {
    "duration": 1707,
    "start_time": "2023-03-03T07:30:20.060Z"
   },
   {
    "duration": 6,
    "start_time": "2023-03-03T07:30:21.769Z"
   },
   {
    "duration": 89,
    "start_time": "2023-03-03T07:30:21.777Z"
   },
   {
    "duration": 78,
    "start_time": "2023-03-03T07:30:21.870Z"
   },
   {
    "duration": 7,
    "start_time": "2023-03-03T07:30:21.950Z"
   },
   {
    "duration": 110,
    "start_time": "2023-03-03T07:30:21.959Z"
   },
   {
    "duration": 1175,
    "start_time": "2023-03-03T07:30:22.071Z"
   },
   {
    "duration": 838,
    "start_time": "2023-03-03T07:30:23.251Z"
   },
   {
    "duration": 801,
    "start_time": "2023-03-03T07:30:24.091Z"
   },
   {
    "duration": 786,
    "start_time": "2023-03-03T07:30:24.894Z"
   },
   {
    "duration": 5390,
    "start_time": "2023-03-03T07:30:25.683Z"
   },
   {
    "duration": 2776,
    "start_time": "2023-03-03T07:30:31.077Z"
   },
   {
    "duration": 1620,
    "start_time": "2023-03-03T07:30:33.855Z"
   },
   {
    "duration": 1303,
    "start_time": "2023-03-03T07:30:35.478Z"
   },
   {
    "duration": 1392,
    "start_time": "2023-03-03T07:30:36.783Z"
   },
   {
    "duration": 1080,
    "start_time": "2023-03-03T07:30:38.178Z"
   },
   {
    "duration": 404,
    "start_time": "2023-03-03T07:30:39.260Z"
   }
  ],
  "colab": {
   "name": "PySparkSprint.ipynb",
   "provenance": []
  },
  "kernelspec": {
   "display_name": "Python 3 (ipykernel)",
   "language": "python",
   "name": "python3"
  },
  "language_info": {
   "codemirror_mode": {
    "name": "ipython",
    "version": 3
   },
   "file_extension": ".py",
   "mimetype": "text/x-python",
   "name": "python",
   "nbconvert_exporter": "python",
   "pygments_lexer": "ipython3",
   "version": "3.9.12"
  },
  "toc": {
   "base_numbering": 1,
   "nav_menu": {},
   "number_sections": true,
   "sideBar": true,
   "skip_h1_title": true,
   "title_cell": "Table of Contents",
   "title_sidebar": "Contents",
   "toc_cell": false,
   "toc_position": {},
   "toc_section_display": true,
   "toc_window_display": false
  }
 },
 "nbformat": 4,
 "nbformat_minor": 5
}
