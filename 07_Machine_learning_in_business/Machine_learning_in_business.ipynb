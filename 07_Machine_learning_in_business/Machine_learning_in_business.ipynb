{
 "cells": [
  {
   "cell_type": "markdown",
   "metadata": {},
   "source": [
    "# Выбор локации для скважины"
   ]
  },
  {
   "cell_type": "markdown",
   "metadata": {},
   "source": [
    "Допустим, вы работаете в добывающей компании «ГлавРосГосНефть». Нужно решить, где бурить новую скважину.\n",
    "\n",
    "Вам предоставлены пробы нефти в трёх регионах: в каждом 10 000 месторождений, где измерили качество нефти и объём её запасов. Постройте модель машинного обучения, которая поможет определить регион, где добыча принесёт наибольшую прибыль. Проанализируйте возможную прибыль и риски техникой *Bootstrap.*\n",
    "\n",
    "Шаги для выбора локации:\n",
    "\n",
    "- В избранном регионе ищут месторождения, для каждого определяют значения признаков;\n",
    "- Строят модель и оценивают объём запасов;\n",
    "- Выбирают месторождения с самым высокими оценками значений. Количество месторождений зависит от бюджета компании и стоимости разработки одной скважины;\n",
    "- Прибыль равна суммарной прибыли отобранных месторождений."
   ]
  },
  {
   "cell_type": "markdown",
   "metadata": {},
   "source": [
    "## Загрузка и подготовка данных"
   ]
  },
  {
   "cell_type": "markdown",
   "metadata": {},
   "source": [
    "### Импорт библиотек"
   ]
  },
  {
   "cell_type": "code",
   "execution_count": 403,
   "metadata": {},
   "outputs": [],
   "source": [
    "import pandas as pd\n",
    "import matplotlib.pyplot as plt\n",
    "import numpy as np\n",
    "from numpy.random import RandomState\n",
    "import seaborn as sns\n",
    "\n",
    "from sklearn.model_selection import train_test_split\n",
    "from sklearn.preprocessing import StandardScaler\n",
    "from sklearn.linear_model import LinearRegression\n",
    "from sklearn.metrics import mean_squared_error"
   ]
  },
  {
   "cell_type": "markdown",
   "metadata": {},
   "source": [
    "### Загрузка данных"
   ]
  },
  {
   "cell_type": "code",
   "execution_count": 404,
   "metadata": {},
   "outputs": [],
   "source": [
    "geo_data_0 = pd.read_csv('/datasets/geo_data_0.csv')\n",
    "geo_data_1 = pd.read_csv('/datasets/geo_data_1.csv')\n",
    "geo_data_2 = pd.read_csv('/datasets/geo_data_2.csv')"
   ]
  },
  {
   "cell_type": "code",
   "execution_count": 405,
   "metadata": {},
   "outputs": [
    {
     "name": "stdout",
     "output_type": "stream",
     "text": [
      "<class 'pandas.core.frame.DataFrame'>\n",
      "RangeIndex: 100000 entries, 0 to 99999\n",
      "Data columns (total 5 columns):\n",
      " #   Column   Non-Null Count   Dtype  \n",
      "---  ------   --------------   -----  \n",
      " 0   id       100000 non-null  object \n",
      " 1   f0       100000 non-null  float64\n",
      " 2   f1       100000 non-null  float64\n",
      " 3   f2       100000 non-null  float64\n",
      " 4   product  100000 non-null  float64\n",
      "dtypes: float64(4), object(1)\n",
      "memory usage: 3.8+ MB\n"
     ]
    },
    {
     "data": {
      "text/html": [
       "<div>\n",
       "<style scoped>\n",
       "    .dataframe tbody tr th:only-of-type {\n",
       "        vertical-align: middle;\n",
       "    }\n",
       "\n",
       "    .dataframe tbody tr th {\n",
       "        vertical-align: top;\n",
       "    }\n",
       "\n",
       "    .dataframe thead th {\n",
       "        text-align: right;\n",
       "    }\n",
       "</style>\n",
       "<table border=\"1\" class=\"dataframe\">\n",
       "  <thead>\n",
       "    <tr style=\"text-align: right;\">\n",
       "      <th></th>\n",
       "      <th>id</th>\n",
       "      <th>f0</th>\n",
       "      <th>f1</th>\n",
       "      <th>f2</th>\n",
       "      <th>product</th>\n",
       "    </tr>\n",
       "  </thead>\n",
       "  <tbody>\n",
       "    <tr>\n",
       "      <th>0</th>\n",
       "      <td>txEyH</td>\n",
       "      <td>0.705745</td>\n",
       "      <td>-0.497823</td>\n",
       "      <td>1.221170</td>\n",
       "      <td>105.280062</td>\n",
       "    </tr>\n",
       "    <tr>\n",
       "      <th>1</th>\n",
       "      <td>2acmU</td>\n",
       "      <td>1.334711</td>\n",
       "      <td>-0.340164</td>\n",
       "      <td>4.365080</td>\n",
       "      <td>73.037750</td>\n",
       "    </tr>\n",
       "    <tr>\n",
       "      <th>2</th>\n",
       "      <td>409Wp</td>\n",
       "      <td>1.022732</td>\n",
       "      <td>0.151990</td>\n",
       "      <td>1.419926</td>\n",
       "      <td>85.265647</td>\n",
       "    </tr>\n",
       "    <tr>\n",
       "      <th>3</th>\n",
       "      <td>iJLyR</td>\n",
       "      <td>-0.032172</td>\n",
       "      <td>0.139033</td>\n",
       "      <td>2.978566</td>\n",
       "      <td>168.620776</td>\n",
       "    </tr>\n",
       "    <tr>\n",
       "      <th>4</th>\n",
       "      <td>Xdl7t</td>\n",
       "      <td>1.988431</td>\n",
       "      <td>0.155413</td>\n",
       "      <td>4.751769</td>\n",
       "      <td>154.036647</td>\n",
       "    </tr>\n",
       "  </tbody>\n",
       "</table>\n",
       "</div>"
      ],
      "text/plain": [
       "      id        f0        f1        f2     product\n",
       "0  txEyH  0.705745 -0.497823  1.221170  105.280062\n",
       "1  2acmU  1.334711 -0.340164  4.365080   73.037750\n",
       "2  409Wp  1.022732  0.151990  1.419926   85.265647\n",
       "3  iJLyR -0.032172  0.139033  2.978566  168.620776\n",
       "4  Xdl7t  1.988431  0.155413  4.751769  154.036647"
      ]
     },
     "execution_count": 405,
     "metadata": {},
     "output_type": "execute_result"
    }
   ],
   "source": [
    "# с полощью метода info() изучим общую информацию о данных: количество строк и столбцов, типы данных и наличие пропуков\n",
    "geo_data_0.info()\n",
    "\n",
    "# выведем первые 5 строк на экран\n",
    "geo_data_0.head()"
   ]
  },
  {
   "cell_type": "code",
   "execution_count": 406,
   "metadata": {},
   "outputs": [
    {
     "name": "stdout",
     "output_type": "stream",
     "text": [
      "<class 'pandas.core.frame.DataFrame'>\n",
      "RangeIndex: 100000 entries, 0 to 99999\n",
      "Data columns (total 5 columns):\n",
      " #   Column   Non-Null Count   Dtype  \n",
      "---  ------   --------------   -----  \n",
      " 0   id       100000 non-null  object \n",
      " 1   f0       100000 non-null  float64\n",
      " 2   f1       100000 non-null  float64\n",
      " 3   f2       100000 non-null  float64\n",
      " 4   product  100000 non-null  float64\n",
      "dtypes: float64(4), object(1)\n",
      "memory usage: 3.8+ MB\n"
     ]
    },
    {
     "data": {
      "text/html": [
       "<div>\n",
       "<style scoped>\n",
       "    .dataframe tbody tr th:only-of-type {\n",
       "        vertical-align: middle;\n",
       "    }\n",
       "\n",
       "    .dataframe tbody tr th {\n",
       "        vertical-align: top;\n",
       "    }\n",
       "\n",
       "    .dataframe thead th {\n",
       "        text-align: right;\n",
       "    }\n",
       "</style>\n",
       "<table border=\"1\" class=\"dataframe\">\n",
       "  <thead>\n",
       "    <tr style=\"text-align: right;\">\n",
       "      <th></th>\n",
       "      <th>id</th>\n",
       "      <th>f0</th>\n",
       "      <th>f1</th>\n",
       "      <th>f2</th>\n",
       "      <th>product</th>\n",
       "    </tr>\n",
       "  </thead>\n",
       "  <tbody>\n",
       "    <tr>\n",
       "      <th>0</th>\n",
       "      <td>kBEdx</td>\n",
       "      <td>-15.001348</td>\n",
       "      <td>-8.276000</td>\n",
       "      <td>-0.005876</td>\n",
       "      <td>3.179103</td>\n",
       "    </tr>\n",
       "    <tr>\n",
       "      <th>1</th>\n",
       "      <td>62mP7</td>\n",
       "      <td>14.272088</td>\n",
       "      <td>-3.475083</td>\n",
       "      <td>0.999183</td>\n",
       "      <td>26.953261</td>\n",
       "    </tr>\n",
       "    <tr>\n",
       "      <th>2</th>\n",
       "      <td>vyE1P</td>\n",
       "      <td>6.263187</td>\n",
       "      <td>-5.948386</td>\n",
       "      <td>5.001160</td>\n",
       "      <td>134.766305</td>\n",
       "    </tr>\n",
       "    <tr>\n",
       "      <th>3</th>\n",
       "      <td>KcrkZ</td>\n",
       "      <td>-13.081196</td>\n",
       "      <td>-11.506057</td>\n",
       "      <td>4.999415</td>\n",
       "      <td>137.945408</td>\n",
       "    </tr>\n",
       "    <tr>\n",
       "      <th>4</th>\n",
       "      <td>AHL4O</td>\n",
       "      <td>12.702195</td>\n",
       "      <td>-8.147433</td>\n",
       "      <td>5.004363</td>\n",
       "      <td>134.766305</td>\n",
       "    </tr>\n",
       "  </tbody>\n",
       "</table>\n",
       "</div>"
      ],
      "text/plain": [
       "      id         f0         f1        f2     product\n",
       "0  kBEdx -15.001348  -8.276000 -0.005876    3.179103\n",
       "1  62mP7  14.272088  -3.475083  0.999183   26.953261\n",
       "2  vyE1P   6.263187  -5.948386  5.001160  134.766305\n",
       "3  KcrkZ -13.081196 -11.506057  4.999415  137.945408\n",
       "4  AHL4O  12.702195  -8.147433  5.004363  134.766305"
      ]
     },
     "execution_count": 406,
     "metadata": {},
     "output_type": "execute_result"
    }
   ],
   "source": [
    "# с полощью метода info() изучим общую информацию о данных: количество строк и столбцов, типы данных и наличие пропуков\n",
    "geo_data_1.info()\n",
    "\n",
    "# выведем первые 5 строк на экран\n",
    "geo_data_1.head()"
   ]
  },
  {
   "cell_type": "code",
   "execution_count": 407,
   "metadata": {},
   "outputs": [
    {
     "name": "stdout",
     "output_type": "stream",
     "text": [
      "<class 'pandas.core.frame.DataFrame'>\n",
      "RangeIndex: 100000 entries, 0 to 99999\n",
      "Data columns (total 5 columns):\n",
      " #   Column   Non-Null Count   Dtype  \n",
      "---  ------   --------------   -----  \n",
      " 0   id       100000 non-null  object \n",
      " 1   f0       100000 non-null  float64\n",
      " 2   f1       100000 non-null  float64\n",
      " 3   f2       100000 non-null  float64\n",
      " 4   product  100000 non-null  float64\n",
      "dtypes: float64(4), object(1)\n",
      "memory usage: 3.8+ MB\n"
     ]
    },
    {
     "data": {
      "text/html": [
       "<div>\n",
       "<style scoped>\n",
       "    .dataframe tbody tr th:only-of-type {\n",
       "        vertical-align: middle;\n",
       "    }\n",
       "\n",
       "    .dataframe tbody tr th {\n",
       "        vertical-align: top;\n",
       "    }\n",
       "\n",
       "    .dataframe thead th {\n",
       "        text-align: right;\n",
       "    }\n",
       "</style>\n",
       "<table border=\"1\" class=\"dataframe\">\n",
       "  <thead>\n",
       "    <tr style=\"text-align: right;\">\n",
       "      <th></th>\n",
       "      <th>id</th>\n",
       "      <th>f0</th>\n",
       "      <th>f1</th>\n",
       "      <th>f2</th>\n",
       "      <th>product</th>\n",
       "    </tr>\n",
       "  </thead>\n",
       "  <tbody>\n",
       "    <tr>\n",
       "      <th>0</th>\n",
       "      <td>fwXo0</td>\n",
       "      <td>-1.146987</td>\n",
       "      <td>0.963328</td>\n",
       "      <td>-0.828965</td>\n",
       "      <td>27.758673</td>\n",
       "    </tr>\n",
       "    <tr>\n",
       "      <th>1</th>\n",
       "      <td>WJtFt</td>\n",
       "      <td>0.262778</td>\n",
       "      <td>0.269839</td>\n",
       "      <td>-2.530187</td>\n",
       "      <td>56.069697</td>\n",
       "    </tr>\n",
       "    <tr>\n",
       "      <th>2</th>\n",
       "      <td>ovLUW</td>\n",
       "      <td>0.194587</td>\n",
       "      <td>0.289035</td>\n",
       "      <td>-5.586433</td>\n",
       "      <td>62.871910</td>\n",
       "    </tr>\n",
       "    <tr>\n",
       "      <th>3</th>\n",
       "      <td>q6cA6</td>\n",
       "      <td>2.236060</td>\n",
       "      <td>-0.553760</td>\n",
       "      <td>0.930038</td>\n",
       "      <td>114.572842</td>\n",
       "    </tr>\n",
       "    <tr>\n",
       "      <th>4</th>\n",
       "      <td>WPMUX</td>\n",
       "      <td>-0.515993</td>\n",
       "      <td>1.716266</td>\n",
       "      <td>5.899011</td>\n",
       "      <td>149.600746</td>\n",
       "    </tr>\n",
       "  </tbody>\n",
       "</table>\n",
       "</div>"
      ],
      "text/plain": [
       "      id        f0        f1        f2     product\n",
       "0  fwXo0 -1.146987  0.963328 -0.828965   27.758673\n",
       "1  WJtFt  0.262778  0.269839 -2.530187   56.069697\n",
       "2  ovLUW  0.194587  0.289035 -5.586433   62.871910\n",
       "3  q6cA6  2.236060 -0.553760  0.930038  114.572842\n",
       "4  WPMUX -0.515993  1.716266  5.899011  149.600746"
      ]
     },
     "execution_count": 407,
     "metadata": {},
     "output_type": "execute_result"
    }
   ],
   "source": [
    "# с полощью метода info() изучим общую информацию о данных: количество строк и столбцов, типы данных и наличие пропуков\n",
    "geo_data_2.info()\n",
    "\n",
    "# выведем первые 5 строк на экран\n",
    "geo_data_2.head()"
   ]
  },
  {
   "cell_type": "markdown",
   "metadata": {},
   "source": [
    "**Каждый из файлов содержит следующие столбцы:**\n",
    "- **признаки:**\n",
    "       - id — уникальный идентификатор скважины;\n",
    "       - f0, f1, f2 — три признака точек (неважно, что они означают, но сами признаки значимы);\n",
    "- **целевой признак:**\n",
    "       - product — объём запасов в скважине (тыс. баррелей)."
   ]
  },
  {
   "cell_type": "markdown",
   "metadata": {},
   "source": [
    "**Посмотрим на гистограммы распределений данных**"
   ]
  },
  {
   "cell_type": "code",
   "execution_count": 408,
   "metadata": {},
   "outputs": [
    {
     "data": {
      "text/plain": [
       "array([[<AxesSubplot:title={'center':'f0'}>,\n",
       "        <AxesSubplot:title={'center':'f1'}>],\n",
       "       [<AxesSubplot:title={'center':'f2'}>,\n",
       "        <AxesSubplot:title={'center':'product'}>]], dtype=object)"
      ]
     },
     "execution_count": 408,
     "metadata": {},
     "output_type": "execute_result"
    },
    {
     "data": {
      "image/png": "[encoded data removed]",
      "text/plain": [
       "<Figure size 1080x720 with 4 Axes>"
      ]
     },
     "metadata": {
      "needs_background": "light"
     },
     "output_type": "display_data"
    }
   ],
   "source": [
    "# построим гистограммы для столбцов geo_data_0\n",
    "geo_data_0.hist(bins=200, figsize=(15, 10))"
   ]
  },
  {
   "cell_type": "code",
   "execution_count": 409,
   "metadata": {},
   "outputs": [
    {
     "data": {
      "text/plain": [
       "array([[<AxesSubplot:title={'center':'f0'}>,\n",
       "        <AxesSubplot:title={'center':'f1'}>],\n",
       "       [<AxesSubplot:title={'center':'f2'}>,\n",
       "        <AxesSubplot:title={'center':'product'}>]], dtype=object)"
      ]
     },
     "execution_count": 409,
     "metadata": {},
     "output_type": "execute_result"
    },
    {
     "data": {
      "image/png": "[encoded data removed]",
      "text/plain": [
       "<Figure size 1080x720 with 4 Axes>"
      ]
     },
     "metadata": {
      "needs_background": "light"
     },
     "output_type": "display_data"
    }
   ],
   "source": [
    "# построим гистограммы для столбцов geo_data_1\n",
    "geo_data_1.hist(bins=200, figsize=(15, 10))"
   ]
  },
  {
   "cell_type": "code",
   "execution_count": 410,
   "metadata": {},
   "outputs": [
    {
     "data": {
      "text/plain": [
       "array([[<AxesSubplot:title={'center':'f0'}>,\n",
       "        <AxesSubplot:title={'center':'f1'}>],\n",
       "       [<AxesSubplot:title={'center':'f2'}>,\n",
       "        <AxesSubplot:title={'center':'product'}>]], dtype=object)"
      ]
     },
     "execution_count": 410,
     "metadata": {},
     "output_type": "execute_result"
    },
    {
     "data": {
      "image/png": "[encoded data removed]",
      "text/plain": [
       "<Figure size 1080x720 with 4 Axes>"
      ]
     },
     "metadata": {
      "needs_background": "light"
     },
     "output_type": "display_data"
    }
   ],
   "source": [
    "# построим гистограммы для столбцов geo_data_2\n",
    "geo_data_2.hist(bins=200, figsize=(15, 10))"
   ]
  },
  {
   "cell_type": "markdown",
   "metadata": {},
   "source": [
    "**Вывод по всем датафреймам:**\n",
    "- содержат 100 000 объектов\n",
    "- содержат 5 признаков:\n",
    "           - 1 шт. качественный признак (id). Можно будет удалить, т.к. не влияет на целевой признак \n",
    "           - 4 шт. количественных признаков (f0, f1, f2).\n",
    "- пропуски и дубликаты в датафреймах отсутствуют\n",
    "- распределения некоторых признаков отличаются от нормального \n",
    "- присутствуют небольшие выбросы, но неизвестно, что означают признаки и из-за этого сложно говорить об адекватности распределения\n",
    "- масштабы распределений признаков f0, f1, f2 не сильно отличаются друг от друга - нет необходимости применять масштабирование.\n",
    "- оставим данные как есть."
   ]
  },
  {
   "cell_type": "markdown",
   "metadata": {},
   "source": [
    "**Удалим качественный признак (id)**"
   ]
  },
  {
   "cell_type": "code",
   "execution_count": 411,
   "metadata": {},
   "outputs": [
    {
     "name": "stdout",
     "output_type": "stream",
     "text": [
      "<class 'pandas.core.frame.DataFrame'>\n",
      "RangeIndex: 100000 entries, 0 to 99999\n",
      "Data columns (total 4 columns):\n",
      " #   Column   Non-Null Count   Dtype  \n",
      "---  ------   --------------   -----  \n",
      " 0   f0       100000 non-null  float64\n",
      " 1   f1       100000 non-null  float64\n",
      " 2   f2       100000 non-null  float64\n",
      " 3   product  100000 non-null  float64\n",
      "dtypes: float64(4)\n",
      "memory usage: 3.1 MB\n",
      "\n",
      "<class 'pandas.core.frame.DataFrame'>\n",
      "RangeIndex: 100000 entries, 0 to 99999\n",
      "Data columns (total 4 columns):\n",
      " #   Column   Non-Null Count   Dtype  \n",
      "---  ------   --------------   -----  \n",
      " 0   f0       100000 non-null  float64\n",
      " 1   f1       100000 non-null  float64\n",
      " 2   f2       100000 non-null  float64\n",
      " 3   product  100000 non-null  float64\n",
      "dtypes: float64(4)\n",
      "memory usage: 3.1 MB\n",
      "\n",
      "<class 'pandas.core.frame.DataFrame'>\n",
      "RangeIndex: 100000 entries, 0 to 99999\n",
      "Data columns (total 4 columns):\n",
      " #   Column   Non-Null Count   Dtype  \n",
      "---  ------   --------------   -----  \n",
      " 0   f0       100000 non-null  float64\n",
      " 1   f1       100000 non-null  float64\n",
      " 2   f2       100000 non-null  float64\n",
      " 3   product  100000 non-null  float64\n",
      "dtypes: float64(4)\n",
      "memory usage: 3.1 MB\n"
     ]
    }
   ],
   "source": [
    "geo_data_0 = geo_data_0.drop(['id'], axis=1)\n",
    "geo_data_1 = geo_data_1.drop(['id'], axis=1)\n",
    "geo_data_2 = geo_data_2.drop(['id'], axis=1)\n",
    "\n",
    "# проверим удаление\n",
    "geo_data_0.info()\n",
    "print()\n",
    "geo_data_1.info()\n",
    "print()\n",
    "geo_data_2.info()"
   ]
  },
  {
   "cell_type": "markdown",
   "metadata": {},
   "source": [
    "**Данные проанализированы и подготовлены**"
   ]
  },
  {
   "cell_type": "markdown",
   "metadata": {},
   "source": [
    "## Обучение и проверка модели"
   ]
  },
  {
   "cell_type": "markdown",
   "metadata": {},
   "source": [
    "**Для каждого региона:**\n",
    "- разбьем данные на обучающую и валидационную выборки в соотношении 75:25\n",
    "- обучим модель линейной регрессии и сделайте предсказания на валидационной выборке\n",
    "- сохраните предсказания и правильные ответы на валидационной выборке\n",
    "- выведем средний запас предсказанного сырья и RMSE модели"
   ]
  },
  {
   "cell_type": "markdown",
   "metadata": {},
   "source": [
    "Для этого создадим функцию, чтобы не писать один и тот же код для каждого региона, то есть 3 раза."
   ]
  },
  {
   "cell_type": "code",
   "execution_count": 412,
   "metadata": {},
   "outputs": [],
   "source": [
    "def region_prediction(region):\n",
    "    '''\n",
    "    - Функция делит данные на признаки и целевой признак\n",
    "    - Функция разделяет исходные данные на обучающую и валидационную выборки в соотношении 75:25\n",
    "    - Обучает модель линейной регрессии \n",
    "    - Делает предсказания на валидационной выборке\n",
    "    - Выводит средний запас предсказанного сырья \n",
    "    - Выводит RMSE модели\n",
    "    \n",
    "    Входные данные: region - регион\n",
    "    Выходные данные: - Размер тренировочной выборки\n",
    "                     - Размер валидационой выборки)\n",
    "                     - Cредний запас предсказанного сырья\n",
    "                     - RMSE модели\n",
    "    \n",
    "    '''\n",
    "    # Разделим данные на признаки и целевой признак\n",
    "    target = region['product']\n",
    "    features = region.drop('product', axis=1)\n",
    "    \n",
    "    #\n",
    "    features_train, features_valid, target_train, target_valid = train_test_split(features, target, test_size=0.25, \n",
    "                                                                                  random_state=12345)\n",
    "    print('Размер тренировочной выборки:', features_train.shape)\n",
    "    print('Размер валидационой выборки:', features_valid.shape)\n",
    "    \n",
    "    lr = LinearRegression().fit(features_train, target_train)\n",
    "    predict = lr.predict(features_valid)\n",
    "\n",
    "    print('Cредний запас предсказанного сырья: {:.3f} тыс. баррелей'.format(predict.mean()))\n",
    "    print('RMSE модели: {:.2f}'.format(mean_squared_error(target_valid, predict)**.5))\n",
    "    \n",
    "    return predict, target_valid"
   ]
  },
  {
   "cell_type": "markdown",
   "metadata": {},
   "source": [
    "**- Регион 0**"
   ]
  },
  {
   "cell_type": "code",
   "execution_count": 413,
   "metadata": {},
   "outputs": [
    {
     "name": "stdout",
     "output_type": "stream",
     "text": [
      "Размер тренировочной выборки: (75000, 3)\n",
      "Размер валидационой выборки: (25000, 3)\n",
      "Cредний запас предсказанного сырья: 92.593 тыс. баррелей\n",
      "RMSE модели: 37.58\n"
     ]
    }
   ],
   "source": [
    "predict_0, target_valid_0 = region_prediction(geo_data_0)"
   ]
  },
  {
   "cell_type": "markdown",
   "metadata": {},
   "source": [
    "**- Регион 1**"
   ]
  },
  {
   "cell_type": "code",
   "execution_count": 414,
   "metadata": {},
   "outputs": [
    {
     "name": "stdout",
     "output_type": "stream",
     "text": [
      "Размер тренировочной выборки: (75000, 3)\n",
      "Размер валидационой выборки: (25000, 3)\n",
      "Cредний запас предсказанного сырья: 68.729 тыс. баррелей\n",
      "RMSE модели: 0.89\n"
     ]
    }
   ],
   "source": [
    "predict_1, target_valid_1 = region_prediction(geo_data_1)"
   ]
  },
  {
   "cell_type": "markdown",
   "metadata": {},
   "source": [
    "**- Регион 2**"
   ]
  },
  {
   "cell_type": "code",
   "execution_count": 415,
   "metadata": {},
   "outputs": [
    {
     "name": "stdout",
     "output_type": "stream",
     "text": [
      "Размер тренировочной выборки: (75000, 3)\n",
      "Размер валидационой выборки: (25000, 3)\n",
      "Cредний запас предсказанного сырья: 94.965 тыс. баррелей\n",
      "RMSE модели: 40.03\n"
     ]
    }
   ],
   "source": [
    "predict_2, target_valid_2 = region_prediction(geo_data_2)"
   ]
  },
  {
   "cell_type": "markdown",
   "metadata": {},
   "source": [
    "**Для каждого региона:**\n",
    "- данные были разделены на обучающую и валидационные выборки в соотношении 75:25\n",
    "- модели логистической регрессии были обучены на обучающих выборках\n",
    "- результаты обучения были проверены на валидационных выборках:\n",
    "             - для региона 0 - среднее полученное значение равно 92.593 тыс. баррелей \n",
    "                             - RMSE равна 37.58\n",
    "             - для региона 1 - среднее полученное значение равно 68.729 тыс. баррелей \n",
    "                             - RMSE равна 0.89\n",
    "             - для региона 2 - среднее полученное значение равно 94.965 тыс. баррелей \n",
    "                             - RMSE, равной 40.03\n",
    "\n",
    "**Вывод для каждого региона:**\n",
    "- в регионе 1 прогноз получился очень точным, но среднее спрогнозированное значение меньше, чем в других регионах примерно на 25 тыс. баррелей;\n",
    "- в регионах 0 и 2 средние значения значительно больше, чем в регионе 1, но и погрешность вычислений очень высока"
   ]
  },
  {
   "cell_type": "markdown",
   "metadata": {},
   "source": [
    "## Подготовка к расчёту прибыли"
   ]
  },
  {
   "cell_type": "markdown",
   "metadata": {},
   "source": [
    "- Сохраним в отдельных переменных все ключевые значения для расчётов "
   ]
  },
  {
   "cell_type": "code",
   "execution_count": 416,
   "metadata": {},
   "outputs": [],
   "source": [
    "# Бюджет на разработку скважин в регионе\n",
    "BUDGET = 10**10\n",
    "\n",
    "# Скважины для исследования\n",
    "WELLS_TO_EXPLORE = 500\n",
    "\n",
    "# Скважины для разработки\n",
    "WELLS_TO_DO = 200\n",
    "\n",
    "# Доход от 1000 баррелей\n",
    "REVENUE_PER_UNIT = 4.5*10**5"
   ]
  },
  {
   "cell_type": "markdown",
   "metadata": {},
   "source": [
    "- Рассчитаем достаточный объём сырья для безубыточной разработки новой скважины"
   ]
  },
  {
   "cell_type": "code",
   "execution_count": 417,
   "metadata": {},
   "outputs": [
    {
     "name": "stdout",
     "output_type": "stream",
     "text": [
      "Минимальный объём продукта с одной скважины для безубыточной разработки: 111.11 тыс. баррелей\n"
     ]
    }
   ],
   "source": [
    "min_product = BUDGET / (WELLS_TO_DO * REVENUE_PER_UNIT)\n",
    "print('Минимальный объём продукта с одной скважины для безубыточной разработки: {:.2f} тыс. баррелей'.format(min_product))"
   ]
  },
  {
   "cell_type": "markdown",
   "metadata": {},
   "source": [
    "- Сравним полученный объём сырья со средним запасом в каждом регионе"
   ]
  },
  {
   "cell_type": "code",
   "execution_count": 418,
   "metadata": {},
   "outputs": [
    {
     "name": "stdout",
     "output_type": "stream",
     "text": [
      "Соотношение безубыточного уровня разработки и среднего объема в регионе 0 - 0.83\n"
     ]
    }
   ],
   "source": [
    "print('Соотношение безубыточного уровня разработки и среднего объема в регионе 0 - {:.2f}'\n",
    "      .format(geo_data_0['product'].mean() / min_product))"
   ]
  },
  {
   "cell_type": "code",
   "execution_count": 419,
   "metadata": {},
   "outputs": [
    {
     "name": "stdout",
     "output_type": "stream",
     "text": [
      "Соотношение безубыточного уровня разработки и среднего объема в регионе 1 - 0.62\n"
     ]
    }
   ],
   "source": [
    "print('Соотношение безубыточного уровня разработки и среднего объема в регионе 1 - {:.2f}'\n",
    "      .format(geo_data_1['product'].mean() / min_product))"
   ]
  },
  {
   "cell_type": "code",
   "execution_count": 420,
   "metadata": {},
   "outputs": [
    {
     "name": "stdout",
     "output_type": "stream",
     "text": [
      "Соотношение безубыточного уровня разработки и среднего объема в регионе 2 - 0.86\n"
     ]
    }
   ],
   "source": [
    "print('Соотношение безубыточного уровня разработки и среднего объема в регионе 2 - {:.2f}'\n",
    "      .format(geo_data_2['product'].mean() / min_product))"
   ]
  },
  {
   "cell_type": "markdown",
   "metadata": {},
   "source": [
    "**Выводы:**\n",
    "- Минимальный объём продукта с одной скважины для безубыточной разработки 111.11 тыс. баррелей. Данный показатель рассчитан при условии выбора 200 лучших скважин из 500 в выборке\n",
    "- Полученный объём сырья для безубыточной разработки был сравнен со средним значением объема нефти в скважинах для каждого региона. Во всех регионах средний объем нефти в скважине меньше необходимого для безубыточной разработки и составляет от 0.62 до 0.86\n",
    "- Сделаем вывод, что в любом из регионов необходимо искать богатые месторождения, которые превышают средние показатели для региона"
   ]
  },
  {
   "cell_type": "markdown",
   "metadata": {},
   "source": [
    "## Расчёт прибыли и рисков "
   ]
  },
  {
   "cell_type": "markdown",
   "metadata": {},
   "source": [
    "### Расчёт прибыли"
   ]
  },
  {
   "cell_type": "markdown",
   "metadata": {},
   "source": [
    "Напишим функцию для расчёта прибыли по выбранным скважинам и предсказаниям модели:\n",
    "- Выберим скважины с максимальными значениями предсказаний.\n",
    "- Просуммируем целевое значение объёма сырья, соответствующее этим предсказаниям.\n",
    "- Рассчитаем прибыль для полученного объёма сырья."
   ]
  },
  {
   "cell_type": "code",
   "execution_count": 421,
   "metadata": {},
   "outputs": [],
   "source": [
    "def predicted_income (target, predict, state, replace=False, show_res=True, return_res=False):\n",
    "    '''\n",
    "    - Функция берёт выборку размера WELLS_TO_EXPLORE, выбирает WELLS_TO_DO наилучших значений\n",
    "    - Функция считает среднее значение объёма сырья для выбранных скважин\n",
    "    - Функция считает суммарный целевой объём сырья\n",
    "    - Функция считает прибыль для полученного объёма сырья\n",
    "    \n",
    "    Функция выводит:  прибыль для полученного объёма сырья\n",
    "    ''' \n",
    "    target = pd.Series(target).reset_index(drop=True)\n",
    "    predict = pd.Series(*predict.reshape(1,-1))\n",
    "   \n",
    "    ### возьмем рандомно 500 скважин\n",
    "    sample_predict = predict.sample(n=WELLS_TO_EXPLORE, replace=replace, random_state=state)\n",
    "    \n",
    "    ### выборим из них лучших 200\n",
    "    predict_sorted = sample_predict.sort_values(ascending=False).head(WELLS_TO_DO)\n",
    "    \n",
    "    ### отбор реалных значений таргетов\n",
    "    top_targets = target[predict_sorted.index]\n",
    "    top_wells_mean = top_targets.mean()\n",
    "    volume = top_targets.sum()\n",
    "    income = volume * REVENUE_PER_UNIT - BUDGET\n",
    "    \n",
    "    if show_res:\n",
    "        print('Средний запас сырья среди скважин с максимальным показателем: {:.2f} млн. рублей'.format(top_wells_mean))\n",
    "        print('Суммарный целевой объём сырья: {:.2f}'.format(volume))\n",
    "        print('Прибыль для полученного объёма сырья: {:.2f}'.format(income))\n",
    "    if return_res:\n",
    "        return income"
   ]
  },
  {
   "cell_type": "markdown",
   "metadata": {},
   "source": [
    "**- Регион 0**"
   ]
  },
  {
   "cell_type": "code",
   "execution_count": 422,
   "metadata": {},
   "outputs": [
    {
     "name": "stdout",
     "output_type": "stream",
     "text": [
      "Средний запас сырья среди скважин с максимальным показателем: 118.66 млн. рублей\n",
      "Суммарный целевой объём сырья: 23731.26\n",
      "Прибыль для полученного объёма сырья: 679068857.89\n"
     ]
    }
   ],
   "source": [
    "predicted_income(target_valid_0, predict_0, state=12345)"
   ]
  },
  {
   "cell_type": "markdown",
   "metadata": {},
   "source": [
    "**- Регион 1**"
   ]
  },
  {
   "cell_type": "code",
   "execution_count": 423,
   "metadata": {},
   "outputs": [
    {
     "name": "stdout",
     "output_type": "stream",
     "text": [
      "Средний запас сырья среди скважин с максимальным показателем: 119.77 млн. рублей\n",
      "Суммарный целевой объём сырья: 23954.40\n",
      "Прибыль для полученного объёма сырья: 779479884.18\n"
     ]
    }
   ],
   "source": [
    "predicted_income(target_valid_1, predict_1, state=12345)"
   ]
  },
  {
   "cell_type": "markdown",
   "metadata": {},
   "source": [
    "**- Регион 2**"
   ]
  },
  {
   "cell_type": "code",
   "execution_count": 424,
   "metadata": {},
   "outputs": [
    {
     "name": "stdout",
     "output_type": "stream",
     "text": [
      "Средний запас сырья среди скважин с максимальным показателем: 116.00 млн. рублей\n",
      "Суммарный целевой объём сырья: 23199.98\n",
      "Прибыль для полученного объёма сырья: 439990143.02\n"
     ]
    }
   ],
   "source": [
    "predicted_income(target_valid_2, predict_2, state=12345)"
   ]
  },
  {
   "cell_type": "markdown",
   "metadata": {},
   "source": [
    "### Расчёт прибыли и рисков"
   ]
  },
  {
   "cell_type": "markdown",
   "metadata": {},
   "source": [
    "Посчитайте риски и прибыль для каждого региона:\n",
    "- Применим технику Bootstrap с 1000 выборок, чтобы найти распределение прибыли.\n",
    "- Найдем среднюю прибыль, 95%-й доверительный интервал и риск убытков. Убыток — это отрицательная прибыль."
   ]
  },
  {
   "cell_type": "code",
   "execution_count": 425,
   "metadata": {},
   "outputs": [],
   "source": [
    "def profit_bootstrap(target, predict):\n",
    "    '''\n",
    "    Функция для расчета прибыли и рисков с применением техники Bootstrap\n",
    "    Функция берёт выборку размера WELLS_TO_EXPLORE, выбирает WELLS_TO_DO наивысших значений,\n",
    "    считает общую прибыль и сохраняет её в списке incomes.\n",
    "    \n",
    "    Функция выводит:  оценку средней прибыли\n",
    "                      95% доверительный интервал (считается с помощью функции quantile) риск убытков \n",
    "    '''\n",
    "    bootstrap_samples = 1000\n",
    "    alpha = 0.05\n",
    "    incomes = []\n",
    "    state = np.random.RandomState(42)\n",
    "    \n",
    "    for i in range(bootstrap_samples):\n",
    "        income = predicted_income(target, predict, state, replace=True, show_res=False, return_res=True)\n",
    "        incomes.append(income)\n",
    "\n",
    "    incomes = pd.Series(incomes)\n",
    "    income_mean = incomes.mean()\n",
    "    conf_int_left = incomes.quantile(alpha/2)\n",
    "    conf_int_right = incomes.quantile(1 - alpha/2)\n",
    "    \n",
    "    loss_count = 0\n",
    "    for inc in incomes :\n",
    "        if inc < 0 :\n",
    "            loss_count += 1\n",
    "    loss_rate = loss_count / bootstrap_samples\n",
    "       \n",
    "        \n",
    "    print('Средняя прибыль {:.2f} (млн. рублей)'.format(income_mean / 10**6))\n",
    "    print('95% доверительный интервал: {:.2f} : {:.2f} (млн. рублей)'.format(conf_int_left / 10**6, conf_int_right / 10**6))\n",
    "    print('Риск убытков: {:.2f} %'.format(loss_rate * 100))\n",
    "    \n",
    "    if loss_rate * 100 < 2.5:\n",
    "        print('В этом регионе вероятность убытков меньше 2.5%, следовательно регион нам подхолит')\n",
    "    else:\n",
    "        print('В этом регионе вероятность убытков больше 2.5%, следовательно регион нам НЕ подхолит')"
   ]
  },
  {
   "cell_type": "markdown",
   "metadata": {},
   "source": [
    "**Регион 0**"
   ]
  },
  {
   "cell_type": "code",
   "execution_count": 426,
   "metadata": {},
   "outputs": [
    {
     "name": "stdout",
     "output_type": "stream",
     "text": [
      "Средняя прибыль 381.63 (млн. рублей)\n",
      "95% доверительный интервал: -97.45 : 878.51 (млн. рублей)\n",
      "Риск убытков: 7.30 %\n",
      "В этом регионе вероятность убытков больше 2.5%, следовательно регион нам НЕ подхолит\n"
     ]
    }
   ],
   "source": [
    "profit_bootstrap(target_valid_0, predict_0)"
   ]
  },
  {
   "cell_type": "markdown",
   "metadata": {},
   "source": [
    "**Регион 1**"
   ]
  },
  {
   "cell_type": "code",
   "execution_count": 427,
   "metadata": {},
   "outputs": [
    {
     "name": "stdout",
     "output_type": "stream",
     "text": [
      "Средняя прибыль 451.79 (млн. рублей)\n",
      "95% доверительный интервал: 67.48 : 849.38 (млн. рублей)\n",
      "Риск убытков: 0.70 %\n",
      "В этом регионе вероятность убытков меньше 2.5%, следовательно регион нам подхолит\n"
     ]
    }
   ],
   "source": [
    "profit_bootstrap(target_valid_1, predict_1)"
   ]
  },
  {
   "cell_type": "markdown",
   "metadata": {},
   "source": [
    "**Регион 2**"
   ]
  },
  {
   "cell_type": "code",
   "execution_count": 428,
   "metadata": {},
   "outputs": [
    {
     "name": "stdout",
     "output_type": "stream",
     "text": [
      "Средняя прибыль 390.31 (млн. рублей)\n",
      "95% доверительный интервал: -128.80 : 917.83 (млн. рублей)\n",
      "Риск убытков: 7.70 %\n",
      "В этом регионе вероятность убытков больше 2.5%, следовательно регион нам НЕ подхолит\n"
     ]
    }
   ],
   "source": [
    "profit_bootstrap(target_valid_2, predict_2)"
   ]
  },
  {
   "cell_type": "markdown",
   "metadata": {},
   "source": [
    "**Выводы:**\n",
    "- При расчёте показателей для 200 наилучших скважин из 500 в выборке:\n",
    "    - Средний запас сырья с одной скважины среди всех регионов (118.66, 119.77, 116.00 соответственно) превосходит минимально необходимый объём 111.11.\n",
    "- В результате применения техники Boostrap было выявлено, что единственный подходящий по условиям (вероятность убытков менее 2.5%) регион — это регион 1:\n",
    "    - вероятность убытков составила 0.7%;\n",
    "    - средняя выручка - 451.79 млн. рублей;\n",
    "    - 95% доверительный интервал (67.48 - 849.38 млн. руб.) является самым узким среди всех регионов и не содержит в себе отрицательных значений (в отличие от других регионов)."
   ]
  }
 ],
 "metadata": {
  "ExecuteTimeLog": [
   {
    "duration": 381,
    "start_time": "2022-11-02T15:22:55.477Z"
   },
   {
    "duration": 1499,
    "start_time": "2022-11-02T15:22:56.328Z"
   },
   {
    "duration": 16,
    "start_time": "2022-11-02T15:22:58.475Z"
   },
   {
    "duration": 23,
    "start_time": "2022-11-02T15:23:16.640Z"
   },
   {
    "duration": 15,
    "start_time": "2022-11-02T15:23:18.131Z"
   },
   {
    "duration": 28,
    "start_time": "2022-11-02T15:23:45.967Z"
   },
   {
    "duration": 22,
    "start_time": "2022-11-02T15:23:59.779Z"
   },
   {
    "duration": 22,
    "start_time": "2022-11-02T15:24:05.510Z"
   },
   {
    "duration": 21,
    "start_time": "2022-11-02T15:26:08.678Z"
   },
   {
    "duration": 49,
    "start_time": "2022-11-02T17:31:29.870Z"
   },
   {
    "duration": 341,
    "start_time": "2022-11-02T17:31:35.442Z"
   },
   {
    "duration": 1868,
    "start_time": "2022-11-02T17:31:35.785Z"
   },
   {
    "duration": 31,
    "start_time": "2022-11-02T17:31:37.654Z"
   },
   {
    "duration": 21,
    "start_time": "2022-11-02T17:31:37.687Z"
   },
   {
    "duration": 22,
    "start_time": "2022-11-02T17:31:37.710Z"
   },
   {
    "duration": 797,
    "start_time": "2022-11-02T17:31:41.232Z"
   },
   {
    "duration": 523,
    "start_time": "2022-11-02T17:32:27.476Z"
   },
   {
    "duration": 3,
    "start_time": "2022-11-02T17:32:42.983Z"
   },
   {
    "duration": 367,
    "start_time": "2022-11-02T17:32:45.745Z"
   },
   {
    "duration": 448,
    "start_time": "2022-11-02T17:33:03.240Z"
   },
   {
    "duration": 363,
    "start_time": "2022-11-02T17:34:35.964Z"
   },
   {
    "duration": 1337,
    "start_time": "2022-11-02T17:35:45.918Z"
   },
   {
    "duration": 1408,
    "start_time": "2022-11-02T17:37:19.549Z"
   },
   {
    "duration": 1434,
    "start_time": "2022-11-02T17:37:36.119Z"
   },
   {
    "duration": 4,
    "start_time": "2022-11-02T17:38:00.233Z"
   },
   {
    "duration": 1562,
    "start_time": "2022-11-02T17:38:04.381Z"
   },
   {
    "duration": 39,
    "start_time": "2022-11-02T17:46:15.123Z"
   },
   {
    "duration": 20,
    "start_time": "2022-11-02T17:46:38.675Z"
   },
   {
    "duration": 2,
    "start_time": "2022-11-02T17:46:48.552Z"
   },
   {
    "duration": 337,
    "start_time": "2022-11-02T17:46:48.559Z"
   },
   {
    "duration": 21,
    "start_time": "2022-11-02T17:46:48.899Z"
   },
   {
    "duration": 19,
    "start_time": "2022-11-02T17:46:48.922Z"
   },
   {
    "duration": 252,
    "start_time": "2022-11-02T17:46:48.944Z"
   },
   {
    "duration": 1318,
    "start_time": "2022-11-02T17:46:49.198Z"
   },
   {
    "duration": 1468,
    "start_time": "2022-11-02T17:46:50.518Z"
   },
   {
    "duration": 1544,
    "start_time": "2022-11-02T17:46:51.988Z"
   },
   {
    "duration": 29,
    "start_time": "2022-11-02T17:46:53.533Z"
   },
   {
    "duration": 3,
    "start_time": "2022-11-02T17:47:27.376Z"
   },
   {
    "duration": 344,
    "start_time": "2022-11-02T17:47:27.385Z"
   },
   {
    "duration": 28,
    "start_time": "2022-11-02T17:47:27.734Z"
   },
   {
    "duration": 34,
    "start_time": "2022-11-02T17:47:27.764Z"
   },
   {
    "duration": 26,
    "start_time": "2022-11-02T17:47:27.801Z"
   },
   {
    "duration": 1553,
    "start_time": "2022-11-02T17:47:27.828Z"
   },
   {
    "duration": 1320,
    "start_time": "2022-11-02T17:47:29.382Z"
   },
   {
    "duration": 1593,
    "start_time": "2022-11-02T17:47:30.703Z"
   },
   {
    "duration": 28,
    "start_time": "2022-11-02T17:47:32.297Z"
   },
   {
    "duration": 3,
    "start_time": "2022-11-02T17:47:49.202Z"
   },
   {
    "duration": 331,
    "start_time": "2022-11-02T17:47:49.209Z"
   },
   {
    "duration": 19,
    "start_time": "2022-11-02T17:47:49.542Z"
   },
   {
    "duration": 26,
    "start_time": "2022-11-02T17:47:49.563Z"
   },
   {
    "duration": 18,
    "start_time": "2022-11-02T17:47:49.591Z"
   },
   {
    "duration": 1331,
    "start_time": "2022-11-02T17:47:49.610Z"
   },
   {
    "duration": 1659,
    "start_time": "2022-11-02T17:47:50.943Z"
   },
   {
    "duration": 1351,
    "start_time": "2022-11-02T17:47:52.604Z"
   },
   {
    "duration": 35,
    "start_time": "2022-11-02T17:47:53.956Z"
   },
   {
    "duration": 9,
    "start_time": "2022-11-02T17:52:01.933Z"
   },
   {
    "duration": 8,
    "start_time": "2022-11-02T17:52:39.303Z"
   },
   {
    "duration": 9,
    "start_time": "2022-11-02T17:52:48.149Z"
   },
   {
    "duration": 1142,
    "start_time": "2022-11-02T17:58:30.762Z"
   },
   {
    "duration": 10,
    "start_time": "2022-11-11T11:53:18.770Z"
   },
   {
    "duration": 1428,
    "start_time": "2022-11-11T11:54:49.431Z"
   },
   {
    "duration": 1635,
    "start_time": "2022-11-11T11:54:50.861Z"
   },
   {
    "duration": 25,
    "start_time": "2022-11-11T11:54:52.498Z"
   },
   {
    "duration": 29,
    "start_time": "2022-11-11T11:54:52.525Z"
   },
   {
    "duration": 19,
    "start_time": "2022-11-11T11:54:52.555Z"
   },
   {
    "duration": 1391,
    "start_time": "2022-11-11T11:54:52.575Z"
   },
   {
    "duration": 1427,
    "start_time": "2022-11-11T11:54:53.968Z"
   },
   {
    "duration": 1509,
    "start_time": "2022-11-11T11:54:55.397Z"
   },
   {
    "duration": 45,
    "start_time": "2022-11-11T11:54:56.908Z"
   },
   {
    "duration": 9,
    "start_time": "2022-11-11T11:54:56.955Z"
   },
   {
    "duration": 13,
    "start_time": "2022-11-11T11:54:56.965Z"
   },
   {
    "duration": 71,
    "start_time": "2022-11-11T11:54:56.979Z"
   },
   {
    "duration": 5,
    "start_time": "2022-11-11T11:55:48.565Z"
   },
   {
    "duration": 23,
    "start_time": "2022-11-11T11:55:50.919Z"
   },
   {
    "duration": 4,
    "start_time": "2022-11-11T11:55:59.372Z"
   },
   {
    "duration": 21,
    "start_time": "2022-11-11T11:56:00.181Z"
   },
   {
    "duration": 21,
    "start_time": "2022-11-11T11:57:09.390Z"
   },
   {
    "duration": 22,
    "start_time": "2022-11-11T11:57:38.790Z"
   },
   {
    "duration": 21,
    "start_time": "2022-11-11T11:57:40.111Z"
   },
   {
    "duration": 6,
    "start_time": "2022-11-11T12:05:35.579Z"
   },
   {
    "duration": 27,
    "start_time": "2022-11-11T12:05:36.548Z"
   },
   {
    "duration": 22,
    "start_time": "2022-11-11T12:05:37.554Z"
   },
   {
    "duration": 21,
    "start_time": "2022-11-11T12:05:40.989Z"
   },
   {
    "duration": 5,
    "start_time": "2022-11-11T12:08:00.508Z"
   },
   {
    "duration": 104,
    "start_time": "2022-11-11T12:08:01.547Z"
   },
   {
    "duration": 21,
    "start_time": "2022-11-11T12:08:02.020Z"
   },
   {
    "duration": 21,
    "start_time": "2022-11-11T12:08:03.805Z"
   },
   {
    "duration": 5,
    "start_time": "2022-11-11T12:11:47.507Z"
   },
   {
    "duration": 20,
    "start_time": "2022-11-11T12:11:48.255Z"
   },
   {
    "duration": 24,
    "start_time": "2022-11-11T12:11:49.232Z"
   },
   {
    "duration": 19,
    "start_time": "2022-11-11T12:11:51.706Z"
   },
   {
    "duration": 1598,
    "start_time": "2022-11-12T08:03:06.081Z"
   },
   {
    "duration": 1544,
    "start_time": "2022-11-12T08:03:07.681Z"
   },
   {
    "duration": 28,
    "start_time": "2022-11-12T08:03:09.226Z"
   },
   {
    "duration": 20,
    "start_time": "2022-11-12T08:03:09.256Z"
   },
   {
    "duration": 21,
    "start_time": "2022-11-12T08:03:09.278Z"
   },
   {
    "duration": 1555,
    "start_time": "2022-11-12T08:03:09.301Z"
   },
   {
    "duration": 1514,
    "start_time": "2022-11-12T08:03:10.858Z"
   },
   {
    "duration": 1608,
    "start_time": "2022-11-12T08:03:12.374Z"
   },
   {
    "duration": 31,
    "start_time": "2022-11-12T08:03:13.984Z"
   },
   {
    "duration": 19,
    "start_time": "2022-11-12T08:03:14.017Z"
   },
   {
    "duration": 95,
    "start_time": "2022-11-12T08:03:14.038Z"
   },
   {
    "duration": 107,
    "start_time": "2022-11-12T08:03:14.136Z"
   },
   {
    "duration": 201,
    "start_time": "2022-11-12T08:03:14.245Z"
   },
   {
    "duration": 2,
    "start_time": "2022-11-12T08:12:47.709Z"
   },
   {
    "duration": 46,
    "start_time": "2022-11-12T08:15:05.212Z"
   },
   {
    "duration": 3,
    "start_time": "2022-11-12T08:17:10.922Z"
   },
   {
    "duration": 5,
    "start_time": "2022-11-12T08:19:21.616Z"
   },
   {
    "duration": 5,
    "start_time": "2022-11-12T08:19:46.843Z"
   },
   {
    "duration": 5,
    "start_time": "2022-11-12T08:19:47.405Z"
   },
   {
    "duration": 5,
    "start_time": "2022-11-12T08:20:09.345Z"
   },
   {
    "duration": 4,
    "start_time": "2022-11-12T08:20:10.068Z"
   },
   {
    "duration": 5,
    "start_time": "2022-11-12T08:20:10.640Z"
   },
   {
    "duration": 9,
    "start_time": "2022-11-12T08:21:56.203Z"
   },
   {
    "duration": 4,
    "start_time": "2022-11-12T08:21:58.916Z"
   },
   {
    "duration": 4,
    "start_time": "2022-11-12T08:21:59.744Z"
   },
   {
    "duration": 3,
    "start_time": "2022-11-12T08:24:21.821Z"
   },
   {
    "duration": 5,
    "start_time": "2022-11-12T09:05:16.930Z"
   },
   {
    "duration": 336,
    "start_time": "2022-11-12T09:08:51.098Z"
   },
   {
    "duration": 4,
    "start_time": "2022-11-12T09:09:13.264Z"
   },
   {
    "duration": 422,
    "start_time": "2022-11-12T09:09:13.271Z"
   },
   {
    "duration": 23,
    "start_time": "2022-11-12T09:09:13.695Z"
   },
   {
    "duration": 32,
    "start_time": "2022-11-12T09:09:13.720Z"
   },
   {
    "duration": 20,
    "start_time": "2022-11-12T09:09:13.755Z"
   },
   {
    "duration": 1640,
    "start_time": "2022-11-12T09:09:13.776Z"
   },
   {
    "duration": 1858,
    "start_time": "2022-11-12T09:09:15.418Z"
   },
   {
    "duration": 1784,
    "start_time": "2022-11-12T09:09:17.278Z"
   },
   {
    "duration": 40,
    "start_time": "2022-11-12T09:09:19.064Z"
   },
   {
    "duration": 11,
    "start_time": "2022-11-12T09:09:19.106Z"
   },
   {
    "duration": 105,
    "start_time": "2022-11-12T09:09:19.133Z"
   },
   {
    "duration": 96,
    "start_time": "2022-11-12T09:11:31.146Z"
   },
   {
    "duration": 28,
    "start_time": "2022-11-12T09:12:25.102Z"
   },
   {
    "duration": 102,
    "start_time": "2022-11-12T09:19:04.033Z"
   },
   {
    "duration": 6,
    "start_time": "2022-11-12T09:20:16.814Z"
   },
   {
    "duration": 27,
    "start_time": "2022-11-12T09:20:17.836Z"
   },
   {
    "duration": 21,
    "start_time": "2022-11-12T09:20:29.429Z"
   },
   {
    "duration": 38,
    "start_time": "2022-11-12T09:20:36.206Z"
   },
   {
    "duration": 10,
    "start_time": "2022-11-12T09:23:21.821Z"
   },
   {
    "duration": 9,
    "start_time": "2022-11-12T09:23:27.872Z"
   },
   {
    "duration": 13,
    "start_time": "2022-11-12T09:23:46.646Z"
   },
   {
    "duration": 5,
    "start_time": "2022-11-12T09:24:20.183Z"
   },
   {
    "duration": 15,
    "start_time": "2022-11-12T09:24:20.741Z"
   },
   {
    "duration": 4,
    "start_time": "2022-11-12T09:25:48.957Z"
   },
   {
    "duration": 5,
    "start_time": "2022-11-12T09:25:54.240Z"
   },
   {
    "duration": 14,
    "start_time": "2022-11-12T09:25:54.676Z"
   },
   {
    "duration": 13,
    "start_time": "2022-11-12T09:28:18.370Z"
   },
   {
    "duration": 9,
    "start_time": "2022-11-12T09:28:28.358Z"
   },
   {
    "duration": 11,
    "start_time": "2022-11-12T09:28:32.628Z"
   },
   {
    "duration": 14,
    "start_time": "2022-11-12T09:29:24.867Z"
   },
   {
    "duration": 6,
    "start_time": "2022-11-12T09:29:27.167Z"
   },
   {
    "duration": 16,
    "start_time": "2022-11-12T09:29:27.665Z"
   },
   {
    "duration": 6,
    "start_time": "2022-11-12T09:29:37.029Z"
   },
   {
    "duration": 17,
    "start_time": "2022-11-12T09:29:37.505Z"
   },
   {
    "duration": 4,
    "start_time": "2022-11-12T09:30:06.546Z"
   },
   {
    "duration": 13,
    "start_time": "2022-11-12T09:30:07.390Z"
   },
   {
    "duration": 4,
    "start_time": "2022-11-12T09:30:33.157Z"
   },
   {
    "duration": 14,
    "start_time": "2022-11-12T09:30:33.396Z"
   },
   {
    "duration": 4,
    "start_time": "2022-11-12T09:31:47.720Z"
   },
   {
    "duration": 14,
    "start_time": "2022-11-12T09:31:48.107Z"
   },
   {
    "duration": 6,
    "start_time": "2022-11-12T09:32:28.285Z"
   },
   {
    "duration": 4,
    "start_time": "2022-11-12T09:37:58.701Z"
   },
   {
    "duration": 19,
    "start_time": "2022-11-12T09:37:58.707Z"
   },
   {
    "duration": 4,
    "start_time": "2022-11-12T09:40:52.874Z"
   },
   {
    "duration": 14,
    "start_time": "2022-11-12T09:40:53.345Z"
   },
   {
    "duration": 4,
    "start_time": "2022-11-12T09:41:05.520Z"
   },
   {
    "duration": 7,
    "start_time": "2022-11-12T09:41:05.929Z"
   },
   {
    "duration": 6,
    "start_time": "2022-11-12T09:45:32.234Z"
   },
   {
    "duration": 8,
    "start_time": "2022-11-12T09:45:32.685Z"
   },
   {
    "duration": 5,
    "start_time": "2022-11-12T09:47:37.413Z"
   },
   {
    "duration": 8,
    "start_time": "2022-11-12T09:47:37.820Z"
   },
   {
    "duration": 7,
    "start_time": "2022-11-12T09:49:30.697Z"
   },
   {
    "duration": 13,
    "start_time": "2022-11-12T09:49:31.251Z"
   },
   {
    "duration": 5,
    "start_time": "2022-11-12T09:49:54.813Z"
   },
   {
    "duration": 6,
    "start_time": "2022-11-12T09:49:55.259Z"
   },
   {
    "duration": 6,
    "start_time": "2022-11-12T09:49:58.818Z"
   },
   {
    "duration": 7,
    "start_time": "2022-11-12T09:49:59.203Z"
   },
   {
    "duration": 5,
    "start_time": "2022-11-12T09:52:12.441Z"
   },
   {
    "duration": 7,
    "start_time": "2022-11-12T09:52:13.587Z"
   },
   {
    "duration": 9,
    "start_time": "2022-11-12T09:52:17.259Z"
   },
   {
    "duration": 7,
    "start_time": "2022-11-12T09:52:18.621Z"
   },
   {
    "duration": 4,
    "start_time": "2022-11-12T09:52:48.382Z"
   },
   {
    "duration": 6,
    "start_time": "2022-11-12T09:52:49.264Z"
   },
   {
    "duration": 5,
    "start_time": "2022-11-12T09:54:41.197Z"
   },
   {
    "duration": 7,
    "start_time": "2022-11-12T09:54:42.317Z"
   },
   {
    "duration": 8,
    "start_time": "2022-11-12T09:54:45.538Z"
   },
   {
    "duration": 8,
    "start_time": "2022-11-12T09:54:46.902Z"
   },
   {
    "duration": 3,
    "start_time": "2022-11-12T09:55:56.252Z"
   },
   {
    "duration": 5,
    "start_time": "2022-11-12T09:55:59.551Z"
   },
   {
    "duration": 7,
    "start_time": "2022-11-12T09:56:00.566Z"
   },
   {
    "duration": 3,
    "start_time": "2022-11-12T09:56:34.451Z"
   },
   {
    "duration": 5,
    "start_time": "2022-11-12T09:56:36.894Z"
   },
   {
    "duration": 7,
    "start_time": "2022-11-12T09:56:37.857Z"
   },
   {
    "duration": 4,
    "start_time": "2022-11-12T09:57:39.774Z"
   },
   {
    "duration": 11,
    "start_time": "2022-11-12T09:57:40.700Z"
   },
   {
    "duration": 5,
    "start_time": "2022-11-12T09:57:41.082Z"
   },
   {
    "duration": 4,
    "start_time": "2022-11-12T09:57:41.271Z"
   },
   {
    "duration": 3,
    "start_time": "2022-11-12T09:57:57.553Z"
   },
   {
    "duration": 9,
    "start_time": "2022-11-12T09:57:58.547Z"
   },
   {
    "duration": 3,
    "start_time": "2022-11-12T09:58:03.832Z"
   },
   {
    "duration": 3,
    "start_time": "2022-11-12T09:58:04.688Z"
   },
   {
    "duration": 5,
    "start_time": "2022-11-12T09:58:06.390Z"
   },
   {
    "duration": 3,
    "start_time": "2022-11-12T09:58:06.695Z"
   },
   {
    "duration": 4,
    "start_time": "2022-11-12T09:58:07.564Z"
   },
   {
    "duration": 7,
    "start_time": "2022-11-12T09:58:08.701Z"
   },
   {
    "duration": 7,
    "start_time": "2022-11-12T09:58:09.843Z"
   },
   {
    "duration": 3,
    "start_time": "2022-11-12T09:58:41.206Z"
   },
   {
    "duration": 3,
    "start_time": "2022-11-12T09:58:42.196Z"
   },
   {
    "duration": 7,
    "start_time": "2022-11-12T09:58:45.213Z"
   },
   {
    "duration": 8,
    "start_time": "2022-11-12T09:58:46.023Z"
   },
   {
    "duration": 8,
    "start_time": "2022-11-12T09:58:47.357Z"
   },
   {
    "duration": 8,
    "start_time": "2022-11-12T09:58:50.728Z"
   },
   {
    "duration": 5,
    "start_time": "2022-11-12T10:00:09.312Z"
   },
   {
    "duration": 8,
    "start_time": "2022-11-12T10:00:10.233Z"
   },
   {
    "duration": 5,
    "start_time": "2022-11-12T10:01:15.786Z"
   },
   {
    "duration": 9,
    "start_time": "2022-11-12T10:01:16.620Z"
   },
   {
    "duration": 5,
    "start_time": "2022-11-12T10:01:22.612Z"
   },
   {
    "duration": 6,
    "start_time": "2022-11-12T10:01:23.460Z"
   },
   {
    "duration": 40,
    "start_time": "2022-11-12T10:04:46.038Z"
   },
   {
    "duration": 1711,
    "start_time": "2022-11-12T12:20:48.411Z"
   },
   {
    "duration": 884,
    "start_time": "2022-11-12T12:20:50.124Z"
   },
   {
    "duration": 26,
    "start_time": "2022-11-12T12:20:51.010Z"
   },
   {
    "duration": 20,
    "start_time": "2022-11-12T12:20:51.039Z"
   },
   {
    "duration": 17,
    "start_time": "2022-11-12T12:20:51.061Z"
   },
   {
    "duration": 1392,
    "start_time": "2022-11-12T12:20:51.080Z"
   },
   {
    "duration": 1425,
    "start_time": "2022-11-12T12:20:52.474Z"
   },
   {
    "duration": 1544,
    "start_time": "2022-11-12T12:20:53.900Z"
   },
   {
    "duration": 29,
    "start_time": "2022-11-12T12:20:55.446Z"
   },
   {
    "duration": 5,
    "start_time": "2022-11-12T12:20:55.478Z"
   },
   {
    "duration": 50,
    "start_time": "2022-11-12T12:20:55.484Z"
   },
   {
    "duration": 105,
    "start_time": "2022-11-12T12:20:55.613Z"
   },
   {
    "duration": 196,
    "start_time": "2022-11-12T12:20:55.721Z"
   },
   {
    "duration": 3,
    "start_time": "2022-11-12T12:20:55.919Z"
   },
   {
    "duration": 91,
    "start_time": "2022-11-12T12:20:55.924Z"
   },
   {
    "duration": 98,
    "start_time": "2022-11-12T12:20:56.017Z"
   },
   {
    "duration": 6,
    "start_time": "2022-11-12T12:20:56.117Z"
   },
   {
    "duration": 5,
    "start_time": "2022-11-12T12:20:56.124Z"
   },
   {
    "duration": 6,
    "start_time": "2022-11-12T12:20:56.130Z"
   },
   {
    "duration": 12,
    "start_time": "2022-11-12T12:20:56.138Z"
   },
   {
    "duration": 6,
    "start_time": "2022-11-12T12:20:56.152Z"
   },
   {
    "duration": 7,
    "start_time": "2022-11-12T12:20:56.160Z"
   },
   {
    "duration": 6,
    "start_time": "2022-11-12T12:30:58.617Z"
   },
   {
    "duration": 102,
    "start_time": "2022-11-12T12:31:18.512Z"
   },
   {
    "duration": 5,
    "start_time": "2022-11-12T12:34:44.186Z"
   },
   {
    "duration": 10,
    "start_time": "2022-11-12T12:34:45.685Z"
   },
   {
    "duration": 5,
    "start_time": "2022-11-12T12:34:57.040Z"
   },
   {
    "duration": 14,
    "start_time": "2022-11-12T12:34:57.510Z"
   },
   {
    "duration": 6,
    "start_time": "2022-11-12T12:35:27.593Z"
   },
   {
    "duration": 14,
    "start_time": "2022-11-12T12:35:27.983Z"
   },
   {
    "duration": 6,
    "start_time": "2022-11-12T12:35:54.167Z"
   },
   {
    "duration": 19,
    "start_time": "2022-11-12T12:35:54.611Z"
   },
   {
    "duration": 4,
    "start_time": "2022-11-12T12:36:51.301Z"
   },
   {
    "duration": 8,
    "start_time": "2022-11-12T12:36:52.286Z"
   },
   {
    "duration": 4,
    "start_time": "2022-11-12T12:37:22.553Z"
   },
   {
    "duration": 6,
    "start_time": "2022-11-12T12:37:23.487Z"
   },
   {
    "duration": 5,
    "start_time": "2022-11-12T12:37:45.926Z"
   },
   {
    "duration": 8,
    "start_time": "2022-11-12T12:37:46.801Z"
   },
   {
    "duration": 7,
    "start_time": "2022-11-12T12:37:58.428Z"
   },
   {
    "duration": 8,
    "start_time": "2022-11-12T12:37:59.323Z"
   },
   {
    "duration": 5,
    "start_time": "2022-11-12T12:38:02.646Z"
   },
   {
    "duration": 2662,
    "start_time": "2022-11-12T12:38:03.465Z"
   },
   {
    "duration": 8,
    "start_time": "2022-11-12T12:38:36.853Z"
   },
   {
    "duration": 5,
    "start_time": "2022-11-12T12:38:40.404Z"
   },
   {
    "duration": 8,
    "start_time": "2022-11-12T12:38:41.519Z"
   },
   {
    "duration": 8,
    "start_time": "2022-11-12T12:38:43.506Z"
   },
   {
    "duration": 7,
    "start_time": "2022-11-12T12:38:44.566Z"
   },
   {
    "duration": 6,
    "start_time": "2022-11-12T12:38:46.801Z"
   },
   {
    "duration": 1923,
    "start_time": "2022-11-12T12:38:47.434Z"
   },
   {
    "duration": 6,
    "start_time": "2022-11-12T12:39:06.616Z"
   },
   {
    "duration": 2131,
    "start_time": "2022-11-12T12:39:07.062Z"
   },
   {
    "duration": 1932,
    "start_time": "2022-11-12T12:40:47.323Z"
   },
   {
    "duration": 1984,
    "start_time": "2022-11-12T12:40:49.257Z"
   },
   {
    "duration": 5,
    "start_time": "2022-11-12T12:55:29.151Z"
   },
   {
    "duration": 2292,
    "start_time": "2022-11-12T12:55:30.399Z"
   },
   {
    "duration": 5,
    "start_time": "2022-11-12T12:55:45.718Z"
   },
   {
    "duration": 2287,
    "start_time": "2022-11-12T12:55:46.543Z"
   },
   {
    "duration": 5,
    "start_time": "2022-11-12T12:56:23.484Z"
   },
   {
    "duration": 2270,
    "start_time": "2022-11-12T12:56:24.413Z"
   },
   {
    "duration": 6,
    "start_time": "2022-11-12T13:00:36.138Z"
   },
   {
    "duration": 2499,
    "start_time": "2022-11-12T13:00:42.685Z"
   },
   {
    "duration": 4,
    "start_time": "2022-11-12T13:10:40.524Z"
   },
   {
    "duration": 14,
    "start_time": "2022-11-12T13:10:43.706Z"
   },
   {
    "duration": 9,
    "start_time": "2022-11-12T13:11:29.489Z"
   },
   {
    "duration": 3,
    "start_time": "2022-11-12T13:11:33.650Z"
   },
   {
    "duration": 325,
    "start_time": "2022-11-12T13:11:33.656Z"
   },
   {
    "duration": 19,
    "start_time": "2022-11-12T13:11:33.983Z"
   },
   {
    "duration": 24,
    "start_time": "2022-11-12T13:11:34.004Z"
   },
   {
    "duration": 18,
    "start_time": "2022-11-12T13:11:34.030Z"
   },
   {
    "duration": 1574,
    "start_time": "2022-11-12T13:11:34.049Z"
   },
   {
    "duration": 1485,
    "start_time": "2022-11-12T13:11:35.624Z"
   },
   {
    "duration": 1576,
    "start_time": "2022-11-12T13:11:37.112Z"
   },
   {
    "duration": 37,
    "start_time": "2022-11-12T13:11:38.690Z"
   },
   {
    "duration": 4,
    "start_time": "2022-11-12T13:11:38.729Z"
   },
   {
    "duration": 27,
    "start_time": "2022-11-12T13:11:38.736Z"
   },
   {
    "duration": 153,
    "start_time": "2022-11-12T13:11:38.764Z"
   },
   {
    "duration": 197,
    "start_time": "2022-11-12T13:11:38.918Z"
   },
   {
    "duration": 3,
    "start_time": "2022-11-12T13:11:39.117Z"
   },
   {
    "duration": 100,
    "start_time": "2022-11-12T13:11:39.122Z"
   },
   {
    "duration": 95,
    "start_time": "2022-11-12T13:11:39.224Z"
   },
   {
    "duration": 4,
    "start_time": "2022-11-12T13:11:39.321Z"
   },
   {
    "duration": 4,
    "start_time": "2022-11-12T13:11:39.327Z"
   },
   {
    "duration": 10,
    "start_time": "2022-11-12T13:11:39.333Z"
   },
   {
    "duration": 5,
    "start_time": "2022-11-12T13:12:12.185Z"
   },
   {
    "duration": 10,
    "start_time": "2022-11-12T13:12:23.269Z"
   },
   {
    "duration": 5,
    "start_time": "2022-11-12T13:12:27.031Z"
   },
   {
    "duration": 6,
    "start_time": "2022-11-12T13:12:44.700Z"
   },
   {
    "duration": 4,
    "start_time": "2022-11-12T13:15:33.707Z"
   },
   {
    "duration": 4,
    "start_time": "2022-11-12T13:16:05.299Z"
   },
   {
    "duration": 4,
    "start_time": "2022-11-12T13:16:06.255Z"
   },
   {
    "duration": 4,
    "start_time": "2022-11-12T13:16:07.996Z"
   },
   {
    "duration": 6,
    "start_time": "2022-11-12T13:18:07.570Z"
   },
   {
    "duration": 11,
    "start_time": "2022-11-12T13:18:12.704Z"
   },
   {
    "duration": 22,
    "start_time": "2022-11-12T13:18:47.867Z"
   },
   {
    "duration": 5,
    "start_time": "2022-11-12T13:21:52.250Z"
   },
   {
    "duration": 85,
    "start_time": "2022-11-12T13:22:02.229Z"
   },
   {
    "duration": 5,
    "start_time": "2022-11-12T13:22:23.495Z"
   },
   {
    "duration": 24,
    "start_time": "2022-11-12T13:22:24.482Z"
   },
   {
    "duration": 22,
    "start_time": "2022-11-12T13:22:27.053Z"
   },
   {
    "duration": 21,
    "start_time": "2022-11-12T13:22:28.483Z"
   },
   {
    "duration": 3,
    "start_time": "2022-11-12T13:24:51.465Z"
   },
   {
    "duration": 4,
    "start_time": "2022-11-12T13:29:14.065Z"
   },
   {
    "duration": 310,
    "start_time": "2022-11-12T13:29:14.071Z"
   },
   {
    "duration": 18,
    "start_time": "2022-11-12T13:29:14.382Z"
   },
   {
    "duration": 22,
    "start_time": "2022-11-12T13:29:14.402Z"
   },
   {
    "duration": 18,
    "start_time": "2022-11-12T13:29:14.425Z"
   },
   {
    "duration": 1349,
    "start_time": "2022-11-12T13:29:14.445Z"
   },
   {
    "duration": 1598,
    "start_time": "2022-11-12T13:29:15.796Z"
   },
   {
    "duration": 1727,
    "start_time": "2022-11-12T13:29:17.396Z"
   },
   {
    "duration": 32,
    "start_time": "2022-11-12T13:29:19.125Z"
   },
   {
    "duration": 5,
    "start_time": "2022-11-12T13:29:19.159Z"
   },
   {
    "duration": 52,
    "start_time": "2022-11-12T13:29:19.166Z"
   },
   {
    "duration": 194,
    "start_time": "2022-11-12T13:29:19.220Z"
   },
   {
    "duration": 112,
    "start_time": "2022-11-12T13:29:19.416Z"
   },
   {
    "duration": 4,
    "start_time": "2022-11-12T13:29:19.530Z"
   },
   {
    "duration": 4,
    "start_time": "2022-11-12T13:29:19.613Z"
   },
   {
    "duration": 98,
    "start_time": "2022-11-12T13:29:19.619Z"
   },
   {
    "duration": 5,
    "start_time": "2022-11-12T13:29:19.719Z"
   },
   {
    "duration": 6,
    "start_time": "2022-11-12T13:29:19.725Z"
   },
   {
    "duration": 3,
    "start_time": "2022-11-12T13:29:22.820Z"
   },
   {
    "duration": 6,
    "start_time": "2022-11-12T13:29:27.474Z"
   },
   {
    "duration": 12,
    "start_time": "2022-11-12T13:29:29.761Z"
   },
   {
    "duration": 5,
    "start_time": "2022-11-12T13:29:47.024Z"
   },
   {
    "duration": 14,
    "start_time": "2022-11-12T13:29:49.091Z"
   },
   {
    "duration": 14,
    "start_time": "2022-11-12T13:29:51.465Z"
   },
   {
    "duration": 6,
    "start_time": "2022-11-12T13:30:07.118Z"
   },
   {
    "duration": 17,
    "start_time": "2022-11-12T13:30:10.018Z"
   },
   {
    "duration": 7,
    "start_time": "2022-11-12T13:31:20.377Z"
   },
   {
    "duration": 17,
    "start_time": "2022-11-12T13:31:24.315Z"
   },
   {
    "duration": 3,
    "start_time": "2022-11-12T13:31:52.556Z"
   },
   {
    "duration": 5,
    "start_time": "2022-11-12T13:31:58.628Z"
   },
   {
    "duration": 1766,
    "start_time": "2022-11-12T13:32:02.922Z"
   },
   {
    "duration": 3,
    "start_time": "2022-11-12T13:33:54.094Z"
   },
   {
    "duration": 324,
    "start_time": "2022-11-12T13:33:54.100Z"
   },
   {
    "duration": 19,
    "start_time": "2022-11-12T13:33:54.426Z"
   },
   {
    "duration": 20,
    "start_time": "2022-11-12T13:33:54.446Z"
   },
   {
    "duration": 21,
    "start_time": "2022-11-12T13:33:54.468Z"
   },
   {
    "duration": 1323,
    "start_time": "2022-11-12T13:33:54.513Z"
   },
   {
    "duration": 1712,
    "start_time": "2022-11-12T13:33:55.838Z"
   },
   {
    "duration": 1294,
    "start_time": "2022-11-12T13:33:57.552Z"
   },
   {
    "duration": 28,
    "start_time": "2022-11-12T13:33:58.847Z"
   },
   {
    "duration": 5,
    "start_time": "2022-11-12T13:33:58.876Z"
   },
   {
    "duration": 51,
    "start_time": "2022-11-12T13:33:58.883Z"
   },
   {
    "duration": 112,
    "start_time": "2022-11-12T13:33:59.014Z"
   },
   {
    "duration": 193,
    "start_time": "2022-11-12T13:33:59.130Z"
   },
   {
    "duration": 3,
    "start_time": "2022-11-12T13:33:59.325Z"
   },
   {
    "duration": 186,
    "start_time": "2022-11-12T13:33:59.330Z"
   },
   {
    "duration": 6,
    "start_time": "2022-11-12T13:33:59.517Z"
   },
   {
    "duration": 4,
    "start_time": "2022-11-12T13:33:59.525Z"
   },
   {
    "duration": 5,
    "start_time": "2022-11-12T13:33:59.530Z"
   },
   {
    "duration": 4,
    "start_time": "2022-11-12T13:33:59.536Z"
   },
   {
    "duration": 7,
    "start_time": "2022-11-12T13:34:04.959Z"
   },
   {
    "duration": 6,
    "start_time": "2022-11-12T13:34:16.978Z"
   },
   {
    "duration": 1756,
    "start_time": "2022-11-12T13:34:18.338Z"
   },
   {
    "duration": 5,
    "start_time": "2022-11-12T13:35:17.414Z"
   },
   {
    "duration": 1810,
    "start_time": "2022-11-12T13:35:18.964Z"
   },
   {
    "duration": 3,
    "start_time": "2022-11-12T13:36:45.283Z"
   },
   {
    "duration": 5,
    "start_time": "2022-11-12T13:41:31.432Z"
   },
   {
    "duration": 100,
    "start_time": "2022-11-12T13:41:34.724Z"
   },
   {
    "duration": 5,
    "start_time": "2022-11-12T13:41:46.381Z"
   },
   {
    "duration": 78,
    "start_time": "2022-11-12T13:41:47.336Z"
   },
   {
    "duration": 5,
    "start_time": "2022-11-12T13:41:54.726Z"
   },
   {
    "duration": 24,
    "start_time": "2022-11-12T13:41:55.567Z"
   },
   {
    "duration": 21,
    "start_time": "2022-11-12T13:41:57.241Z"
   },
   {
    "duration": 22,
    "start_time": "2022-11-12T13:41:58.023Z"
   },
   {
    "duration": 5,
    "start_time": "2022-11-12T13:42:52.444Z"
   },
   {
    "duration": 54,
    "start_time": "2022-11-12T13:42:53.459Z"
   },
   {
    "duration": 75,
    "start_time": "2022-11-12T13:42:54.539Z"
   },
   {
    "duration": 26,
    "start_time": "2022-11-12T13:42:55.503Z"
   },
   {
    "duration": 3,
    "start_time": "2022-11-12T13:43:08.262Z"
   },
   {
    "duration": 3,
    "start_time": "2022-11-12T13:43:09.471Z"
   },
   {
    "duration": 4,
    "start_time": "2022-11-12T13:43:10.724Z"
   },
   {
    "duration": 4,
    "start_time": "2022-11-12T13:43:11.780Z"
   },
   {
    "duration": 4,
    "start_time": "2022-11-12T13:43:12.065Z"
   },
   {
    "duration": 3,
    "start_time": "2022-11-12T13:43:18.981Z"
   },
   {
    "duration": 5,
    "start_time": "2022-11-12T13:54:33.294Z"
   },
   {
    "duration": 1771,
    "start_time": "2022-11-12T13:54:38.748Z"
   },
   {
    "duration": 8,
    "start_time": "2022-11-12T14:36:20.272Z"
   },
   {
    "duration": 14,
    "start_time": "2022-11-12T14:36:22.131Z"
   },
   {
    "duration": 5,
    "start_time": "2022-11-12T14:38:11.355Z"
   },
   {
    "duration": 16,
    "start_time": "2022-11-12T14:38:13.776Z"
   },
   {
    "duration": 6,
    "start_time": "2022-11-12T14:38:54.858Z"
   },
   {
    "duration": 2418,
    "start_time": "2022-11-12T14:38:56.930Z"
   },
   {
    "duration": 12,
    "start_time": "2022-11-12T14:39:46.213Z"
   },
   {
    "duration": 2425,
    "start_time": "2022-11-12T14:39:47.430Z"
   },
   {
    "duration": 6,
    "start_time": "2022-11-12T14:40:03.452Z"
   },
   {
    "duration": 2564,
    "start_time": "2022-11-12T14:40:04.380Z"
   },
   {
    "duration": 8,
    "start_time": "2022-11-12T14:40:15.791Z"
   },
   {
    "duration": 2917,
    "start_time": "2022-11-12T14:40:16.561Z"
   },
   {
    "duration": 6,
    "start_time": "2022-11-12T14:41:18.530Z"
   },
   {
    "duration": 8,
    "start_time": "2022-11-12T14:41:20.912Z"
   },
   {
    "duration": 2307,
    "start_time": "2022-11-12T14:41:23.139Z"
   },
   {
    "duration": 441,
    "start_time": "2022-11-12T14:43:09.710Z"
   },
   {
    "duration": 11,
    "start_time": "2022-11-12T14:43:10.854Z"
   },
   {
    "duration": 6,
    "start_time": "2022-11-12T14:43:22.212Z"
   },
   {
    "duration": 12,
    "start_time": "2022-11-12T14:43:23.376Z"
   },
   {
    "duration": 5,
    "start_time": "2022-11-12T14:43:54.329Z"
   },
   {
    "duration": 18,
    "start_time": "2022-11-12T14:43:54.986Z"
   },
   {
    "duration": 7,
    "start_time": "2022-11-12T14:44:26.048Z"
   },
   {
    "duration": 19,
    "start_time": "2022-11-12T14:44:26.956Z"
   },
   {
    "duration": 5,
    "start_time": "2022-11-12T14:44:43.862Z"
   },
   {
    "duration": 2379,
    "start_time": "2022-11-12T14:44:44.799Z"
   },
   {
    "duration": 5,
    "start_time": "2022-11-12T14:46:43.536Z"
   },
   {
    "duration": 7,
    "start_time": "2022-11-12T14:46:44.192Z"
   },
   {
    "duration": 11,
    "start_time": "2022-11-12T14:46:45.133Z"
   },
   {
    "duration": 6,
    "start_time": "2022-11-12T14:46:48.004Z"
   },
   {
    "duration": 2328,
    "start_time": "2022-11-12T14:46:49.027Z"
   },
   {
    "duration": 2195,
    "start_time": "2022-11-12T14:47:01.496Z"
   },
   {
    "duration": 2281,
    "start_time": "2022-11-12T14:47:08.478Z"
   },
   {
    "duration": 5,
    "start_time": "2022-11-12T14:48:26.687Z"
   },
   {
    "duration": 2097,
    "start_time": "2022-11-12T14:48:27.797Z"
   },
   {
    "duration": 4,
    "start_time": "2022-11-12T14:50:09.557Z"
   },
   {
    "duration": 8,
    "start_time": "2022-11-12T14:50:11.578Z"
   },
   {
    "duration": 2399,
    "start_time": "2022-11-12T14:50:12.582Z"
   },
   {
    "duration": 6,
    "start_time": "2022-11-12T14:51:21.639Z"
   },
   {
    "duration": 2445,
    "start_time": "2022-11-12T14:51:23.001Z"
   },
   {
    "duration": 2581,
    "start_time": "2022-11-12T14:51:28.913Z"
   },
   {
    "duration": 2617,
    "start_time": "2022-11-12T14:51:35.157Z"
   },
   {
    "duration": 8,
    "start_time": "2022-11-12T14:52:51.676Z"
   },
   {
    "duration": 5,
    "start_time": "2022-11-12T14:53:50.745Z"
   },
   {
    "duration": 8,
    "start_time": "2022-11-12T14:53:51.880Z"
   },
   {
    "duration": 8,
    "start_time": "2022-11-12T14:54:02.019Z"
   },
   {
    "duration": 6,
    "start_time": "2022-11-12T14:54:03.220Z"
   },
   {
    "duration": 6,
    "start_time": "2022-11-12T14:54:27.506Z"
   },
   {
    "duration": 2324,
    "start_time": "2022-11-12T14:54:29.004Z"
   },
   {
    "duration": 6,
    "start_time": "2022-11-12T14:57:20.500Z"
   },
   {
    "duration": 8,
    "start_time": "2022-11-12T14:57:21.669Z"
   },
   {
    "duration": 8,
    "start_time": "2022-11-12T14:57:24.950Z"
   },
   {
    "duration": 2441,
    "start_time": "2022-11-12T14:57:26.105Z"
   },
   {
    "duration": 7,
    "start_time": "2022-11-12T15:00:19.497Z"
   },
   {
    "duration": 8,
    "start_time": "2022-11-12T15:00:20.461Z"
   },
   {
    "duration": 7,
    "start_time": "2022-11-12T15:05:05.603Z"
   },
   {
    "duration": 7,
    "start_time": "2022-11-12T15:05:06.673Z"
   },
   {
    "duration": 7,
    "start_time": "2022-11-12T15:05:08.171Z"
   },
   {
    "duration": 7,
    "start_time": "2022-11-12T15:05:08.993Z"
   },
   {
    "duration": 1358,
    "start_time": "2022-11-14T12:33:41.764Z"
   },
   {
    "duration": 1425,
    "start_time": "2022-11-14T12:33:43.124Z"
   },
   {
    "duration": 24,
    "start_time": "2022-11-14T12:33:44.551Z"
   },
   {
    "duration": 18,
    "start_time": "2022-11-14T12:33:44.576Z"
   },
   {
    "duration": 36,
    "start_time": "2022-11-14T12:33:44.595Z"
   },
   {
    "duration": 1461,
    "start_time": "2022-11-14T12:33:44.632Z"
   },
   {
    "duration": 1405,
    "start_time": "2022-11-14T12:33:46.094Z"
   },
   {
    "duration": 1442,
    "start_time": "2022-11-14T12:33:47.501Z"
   },
   {
    "duration": 31,
    "start_time": "2022-11-14T12:33:48.945Z"
   },
   {
    "duration": 5,
    "start_time": "2022-11-14T12:33:48.978Z"
   },
   {
    "duration": 74,
    "start_time": "2022-11-14T12:33:48.984Z"
   },
   {
    "duration": 24,
    "start_time": "2022-11-14T12:33:49.148Z"
   },
   {
    "duration": 112,
    "start_time": "2022-11-14T12:33:49.248Z"
   },
   {
    "duration": 3,
    "start_time": "2022-11-14T12:33:49.363Z"
   },
   {
    "duration": 103,
    "start_time": "2022-11-14T12:33:49.449Z"
   },
   {
    "duration": 8,
    "start_time": "2022-11-14T12:33:49.554Z"
   },
   {
    "duration": 7,
    "start_time": "2022-11-14T12:33:49.563Z"
   },
   {
    "duration": 8,
    "start_time": "2022-11-14T12:33:49.571Z"
   },
   {
    "duration": 12,
    "start_time": "2022-11-14T12:33:49.581Z"
   },
   {
    "duration": 19,
    "start_time": "2022-11-14T12:33:49.594Z"
   },
   {
    "duration": 5,
    "start_time": "2022-11-14T12:48:04.609Z"
   },
   {
    "duration": 107,
    "start_time": "2022-11-14T12:48:05.674Z"
   },
   {
    "duration": 10,
    "start_time": "2022-11-14T12:49:44.286Z"
   },
   {
    "duration": 8,
    "start_time": "2022-11-14T12:50:08.078Z"
   },
   {
    "duration": 4,
    "start_time": "2022-11-14T12:50:35.960Z"
   },
   {
    "duration": 13,
    "start_time": "2022-11-14T12:50:41.838Z"
   },
   {
    "duration": 9,
    "start_time": "2022-11-14T12:51:09.439Z"
   },
   {
    "duration": 5,
    "start_time": "2022-11-14T12:51:45.702Z"
   },
   {
    "duration": 10,
    "start_time": "2022-11-14T12:51:58.689Z"
   },
   {
    "duration": 5,
    "start_time": "2022-11-14T12:52:04.563Z"
   },
   {
    "duration": 9,
    "start_time": "2022-11-14T12:52:52.581Z"
   },
   {
    "duration": 8,
    "start_time": "2022-11-14T12:52:56.637Z"
   },
   {
    "duration": 5,
    "start_time": "2022-11-14T12:53:10.388Z"
   },
   {
    "duration": 3,
    "start_time": "2022-11-14T12:53:38.204Z"
   },
   {
    "duration": 351,
    "start_time": "2022-11-14T12:53:38.211Z"
   },
   {
    "duration": 20,
    "start_time": "2022-11-14T12:53:38.563Z"
   },
   {
    "duration": 20,
    "start_time": "2022-11-14T12:53:38.585Z"
   },
   {
    "duration": 20,
    "start_time": "2022-11-14T12:53:38.607Z"
   },
   {
    "duration": 1482,
    "start_time": "2022-11-14T12:53:38.648Z"
   },
   {
    "duration": 1553,
    "start_time": "2022-11-14T12:53:40.131Z"
   },
   {
    "duration": 1503,
    "start_time": "2022-11-14T12:53:41.686Z"
   },
   {
    "duration": 30,
    "start_time": "2022-11-14T12:53:43.190Z"
   },
   {
    "duration": 6,
    "start_time": "2022-11-14T12:53:43.222Z"
   },
   {
    "duration": 117,
    "start_time": "2022-11-14T12:53:43.231Z"
   },
   {
    "duration": 115,
    "start_time": "2022-11-14T12:53:43.350Z"
   },
   {
    "duration": 192,
    "start_time": "2022-11-14T12:53:43.468Z"
   },
   {
    "duration": 3,
    "start_time": "2022-11-14T12:53:43.662Z"
   },
   {
    "duration": 11,
    "start_time": "2022-11-14T12:53:43.748Z"
   },
   {
    "duration": 4,
    "start_time": "2022-11-14T12:53:43.849Z"
   },
   {
    "duration": 8,
    "start_time": "2022-11-14T12:53:43.855Z"
   },
   {
    "duration": 7,
    "start_time": "2022-11-14T12:53:43.864Z"
   },
   {
    "duration": 6,
    "start_time": "2022-11-14T12:53:43.872Z"
   },
   {
    "duration": 5,
    "start_time": "2022-11-14T12:53:43.879Z"
   },
   {
    "duration": 6,
    "start_time": "2022-11-14T12:54:15.796Z"
   },
   {
    "duration": 10,
    "start_time": "2022-11-14T12:54:49.630Z"
   },
   {
    "duration": 3,
    "start_time": "2022-11-14T12:54:57.745Z"
   },
   {
    "duration": 361,
    "start_time": "2022-11-14T12:54:57.752Z"
   },
   {
    "duration": 22,
    "start_time": "2022-11-14T12:54:58.115Z"
   },
   {
    "duration": 19,
    "start_time": "2022-11-14T12:54:58.148Z"
   },
   {
    "duration": 18,
    "start_time": "2022-11-14T12:54:58.169Z"
   },
   {
    "duration": 1320,
    "start_time": "2022-11-14T12:54:58.189Z"
   },
   {
    "duration": 1603,
    "start_time": "2022-11-14T12:54:59.511Z"
   },
   {
    "duration": 1719,
    "start_time": "2022-11-14T12:55:01.116Z"
   },
   {
    "duration": 32,
    "start_time": "2022-11-14T12:55:02.836Z"
   },
   {
    "duration": 5,
    "start_time": "2022-11-14T12:55:02.869Z"
   },
   {
    "duration": 74,
    "start_time": "2022-11-14T12:55:02.877Z"
   },
   {
    "duration": 110,
    "start_time": "2022-11-14T12:55:02.953Z"
   },
   {
    "duration": 189,
    "start_time": "2022-11-14T12:55:03.065Z"
   },
   {
    "duration": 95,
    "start_time": "2022-11-14T12:55:03.256Z"
   },
   {
    "duration": 97,
    "start_time": "2022-11-14T12:55:03.353Z"
   },
   {
    "duration": 10,
    "start_time": "2022-11-14T12:55:03.451Z"
   },
   {
    "duration": 6,
    "start_time": "2022-11-14T12:55:03.463Z"
   },
   {
    "duration": 8,
    "start_time": "2022-11-14T12:55:03.471Z"
   },
   {
    "duration": 5,
    "start_time": "2022-11-14T12:55:03.480Z"
   },
   {
    "duration": 5,
    "start_time": "2022-11-14T12:55:11.010Z"
   },
   {
    "duration": 4,
    "start_time": "2022-11-14T12:55:38.979Z"
   },
   {
    "duration": 5,
    "start_time": "2022-11-14T12:55:44.866Z"
   },
   {
    "duration": 5,
    "start_time": "2022-11-14T12:56:07.578Z"
   },
   {
    "duration": 7,
    "start_time": "2022-11-14T12:56:09.538Z"
   },
   {
    "duration": 10,
    "start_time": "2022-11-14T12:56:44.691Z"
   },
   {
    "duration": 4,
    "start_time": "2022-11-14T12:56:45.074Z"
   },
   {
    "duration": 3,
    "start_time": "2022-11-14T12:56:49.011Z"
   },
   {
    "duration": 376,
    "start_time": "2022-11-14T12:56:49.016Z"
   },
   {
    "duration": 20,
    "start_time": "2022-11-14T12:56:49.393Z"
   },
   {
    "duration": 18,
    "start_time": "2022-11-14T12:56:49.414Z"
   },
   {
    "duration": 29,
    "start_time": "2022-11-14T12:56:49.434Z"
   },
   {
    "duration": 1312,
    "start_time": "2022-11-14T12:56:49.465Z"
   },
   {
    "duration": 1695,
    "start_time": "2022-11-14T12:56:50.779Z"
   },
   {
    "duration": 1358,
    "start_time": "2022-11-14T12:56:52.476Z"
   },
   {
    "duration": 39,
    "start_time": "2022-11-14T12:56:53.836Z"
   },
   {
    "duration": 4,
    "start_time": "2022-11-14T12:56:53.877Z"
   },
   {
    "duration": 66,
    "start_time": "2022-11-14T12:56:53.883Z"
   },
   {
    "duration": 107,
    "start_time": "2022-11-14T12:56:53.952Z"
   },
   {
    "duration": 196,
    "start_time": "2022-11-14T12:56:54.062Z"
   },
   {
    "duration": 4,
    "start_time": "2022-11-14T12:56:54.260Z"
   },
   {
    "duration": 100,
    "start_time": "2022-11-14T12:56:54.350Z"
   },
   {
    "duration": 19,
    "start_time": "2022-11-14T12:56:54.451Z"
   },
   {
    "duration": 6,
    "start_time": "2022-11-14T12:56:54.471Z"
   },
   {
    "duration": 6,
    "start_time": "2022-11-14T12:56:54.479Z"
   },
   {
    "duration": 5,
    "start_time": "2022-11-14T12:56:54.486Z"
   },
   {
    "duration": 29,
    "start_time": "2022-11-14T12:56:54.492Z"
   },
   {
    "duration": 4,
    "start_time": "2022-11-14T12:56:58.151Z"
   },
   {
    "duration": 6,
    "start_time": "2022-11-14T12:56:59.201Z"
   },
   {
    "duration": 5,
    "start_time": "2022-11-14T12:57:00.807Z"
   },
   {
    "duration": 6,
    "start_time": "2022-11-14T12:57:03.847Z"
   },
   {
    "duration": 6,
    "start_time": "2022-11-14T12:57:09.562Z"
   },
   {
    "duration": 986,
    "start_time": "2022-11-14T12:57:11.365Z"
   },
   {
    "duration": 948,
    "start_time": "2022-11-14T12:57:16.858Z"
   },
   {
    "duration": 975,
    "start_time": "2022-11-14T12:57:21.608Z"
   },
   {
    "duration": 5,
    "start_time": "2022-11-14T13:05:08.135Z"
   },
   {
    "duration": 8,
    "start_time": "2022-11-14T13:05:10.148Z"
   },
   {
    "duration": 119,
    "start_time": "2022-11-14T13:05:37.336Z"
   },
   {
    "duration": 4,
    "start_time": "2022-11-14T13:06:42.944Z"
   },
   {
    "duration": 6,
    "start_time": "2022-11-14T13:06:43.980Z"
   },
   {
    "duration": 69,
    "start_time": "2022-11-14T13:08:20.988Z"
   },
   {
    "duration": 3,
    "start_time": "2022-11-14T13:08:51.721Z"
   },
   {
    "duration": 337,
    "start_time": "2022-11-14T13:08:51.728Z"
   },
   {
    "duration": 18,
    "start_time": "2022-11-14T13:08:52.067Z"
   },
   {
    "duration": 58,
    "start_time": "2022-11-14T13:08:52.086Z"
   },
   {
    "duration": 17,
    "start_time": "2022-11-14T13:08:52.147Z"
   },
   {
    "duration": 1767,
    "start_time": "2022-11-14T13:08:52.165Z"
   },
   {
    "duration": 1288,
    "start_time": "2022-11-14T13:08:53.934Z"
   },
   {
    "duration": 1373,
    "start_time": "2022-11-14T13:08:55.224Z"
   },
   {
    "duration": 27,
    "start_time": "2022-11-14T13:08:56.599Z"
   },
   {
    "duration": 4,
    "start_time": "2022-11-14T13:08:56.628Z"
   },
   {
    "duration": 26,
    "start_time": "2022-11-14T13:08:56.649Z"
   },
   {
    "duration": 179,
    "start_time": "2022-11-14T13:08:56.676Z"
   },
   {
    "duration": 210,
    "start_time": "2022-11-14T13:08:56.857Z"
   },
   {
    "duration": 3,
    "start_time": "2022-11-14T13:08:57.070Z"
   },
   {
    "duration": 101,
    "start_time": "2022-11-14T13:08:57.149Z"
   },
   {
    "duration": 14,
    "start_time": "2022-11-14T13:08:57.252Z"
   },
   {
    "duration": 5,
    "start_time": "2022-11-14T13:08:57.268Z"
   },
   {
    "duration": 5,
    "start_time": "2022-11-14T13:08:57.274Z"
   },
   {
    "duration": 4,
    "start_time": "2022-11-14T13:08:57.281Z"
   },
   {
    "duration": 22,
    "start_time": "2022-11-14T13:08:57.286Z"
   },
   {
    "duration": 611,
    "start_time": "2022-11-14T13:08:57.310Z"
   },
   {
    "duration": 81,
    "start_time": "2022-11-14T13:09:45.927Z"
   },
   {
    "duration": 226,
    "start_time": "2022-11-14T13:10:02.931Z"
   },
   {
    "duration": 51,
    "start_time": "2022-11-14T13:10:20.246Z"
   },
   {
    "duration": 9,
    "start_time": "2022-11-14T13:10:53.881Z"
   },
   {
    "duration": 62,
    "start_time": "2022-11-14T13:13:17.422Z"
   },
   {
    "duration": 51,
    "start_time": "2022-11-14T13:13:33.946Z"
   },
   {
    "duration": 5,
    "start_time": "2022-11-14T13:14:09.233Z"
   },
   {
    "duration": 5,
    "start_time": "2022-11-14T13:14:16.589Z"
   },
   {
    "duration": 114,
    "start_time": "2022-11-14T13:14:20.736Z"
   },
   {
    "duration": 4,
    "start_time": "2022-11-14T13:14:52.715Z"
   },
   {
    "duration": 359,
    "start_time": "2022-11-14T13:14:52.722Z"
   },
   {
    "duration": 21,
    "start_time": "2022-11-14T13:14:53.083Z"
   },
   {
    "duration": 20,
    "start_time": "2022-11-14T13:14:53.105Z"
   },
   {
    "duration": 34,
    "start_time": "2022-11-14T13:14:53.127Z"
   },
   {
    "duration": 1296,
    "start_time": "2022-11-14T13:14:53.162Z"
   },
   {
    "duration": 1331,
    "start_time": "2022-11-14T13:14:54.459Z"
   },
   {
    "duration": 1295,
    "start_time": "2022-11-14T13:14:55.791Z"
   },
   {
    "duration": 29,
    "start_time": "2022-11-14T13:14:57.087Z"
   },
   {
    "duration": 5,
    "start_time": "2022-11-14T13:14:57.117Z"
   },
   {
    "duration": 43,
    "start_time": "2022-11-14T13:14:57.124Z"
   },
   {
    "duration": 199,
    "start_time": "2022-11-14T13:14:57.169Z"
   },
   {
    "duration": 111,
    "start_time": "2022-11-14T13:14:57.449Z"
   },
   {
    "duration": 4,
    "start_time": "2022-11-14T13:14:57.562Z"
   },
   {
    "duration": 100,
    "start_time": "2022-11-14T13:14:57.650Z"
   },
   {
    "duration": 8,
    "start_time": "2022-11-14T13:14:57.751Z"
   },
   {
    "duration": 7,
    "start_time": "2022-11-14T13:14:57.760Z"
   },
   {
    "duration": 5,
    "start_time": "2022-11-14T13:14:57.769Z"
   },
   {
    "duration": 6,
    "start_time": "2022-11-14T13:14:58.063Z"
   },
   {
    "duration": 33,
    "start_time": "2022-11-14T13:14:59.818Z"
   },
   {
    "duration": 6,
    "start_time": "2022-11-14T13:15:59.644Z"
   },
   {
    "duration": 804,
    "start_time": "2022-11-14T13:16:01.386Z"
   },
   {
    "duration": 6,
    "start_time": "2022-11-14T13:16:22.867Z"
   },
   {
    "duration": 23,
    "start_time": "2022-11-14T13:16:24.031Z"
   },
   {
    "duration": 6,
    "start_time": "2022-11-14T13:17:01.426Z"
   },
   {
    "duration": 120,
    "start_time": "2022-11-14T13:17:02.431Z"
   },
   {
    "duration": 3,
    "start_time": "2022-11-14T13:17:10.627Z"
   },
   {
    "duration": 375,
    "start_time": "2022-11-14T13:17:10.636Z"
   },
   {
    "duration": 19,
    "start_time": "2022-11-14T13:17:11.013Z"
   },
   {
    "duration": 31,
    "start_time": "2022-11-14T13:17:11.033Z"
   },
   {
    "duration": 19,
    "start_time": "2022-11-14T13:17:11.066Z"
   },
   {
    "duration": 1924,
    "start_time": "2022-11-14T13:17:11.086Z"
   },
   {
    "duration": 1309,
    "start_time": "2022-11-14T13:17:13.012Z"
   },
   {
    "duration": 1343,
    "start_time": "2022-11-14T13:17:14.323Z"
   },
   {
    "duration": 31,
    "start_time": "2022-11-14T13:17:15.668Z"
   },
   {
    "duration": 5,
    "start_time": "2022-11-14T13:17:15.702Z"
   },
   {
    "duration": 46,
    "start_time": "2022-11-14T13:17:15.710Z"
   },
   {
    "duration": 208,
    "start_time": "2022-11-14T13:17:15.760Z"
   },
   {
    "duration": 195,
    "start_time": "2022-11-14T13:17:15.970Z"
   },
   {
    "duration": 6,
    "start_time": "2022-11-14T13:17:16.167Z"
   },
   {
    "duration": 98,
    "start_time": "2022-11-14T13:17:16.252Z"
   },
   {
    "duration": 9,
    "start_time": "2022-11-14T13:17:16.352Z"
   },
   {
    "duration": 6,
    "start_time": "2022-11-14T13:17:16.362Z"
   },
   {
    "duration": 7,
    "start_time": "2022-11-14T13:17:16.370Z"
   },
   {
    "duration": 6,
    "start_time": "2022-11-14T13:17:19.413Z"
   },
   {
    "duration": 60,
    "start_time": "2022-11-14T13:17:20.392Z"
   },
   {
    "duration": 9,
    "start_time": "2022-11-14T13:18:09.218Z"
   },
   {
    "duration": 5,
    "start_time": "2022-11-14T13:18:27.940Z"
   },
   {
    "duration": 4,
    "start_time": "2022-11-14T13:18:46.950Z"
   },
   {
    "duration": 354,
    "start_time": "2022-11-14T13:18:46.958Z"
   },
   {
    "duration": 23,
    "start_time": "2022-11-14T13:18:47.314Z"
   },
   {
    "duration": 19,
    "start_time": "2022-11-14T13:18:47.348Z"
   },
   {
    "duration": 18,
    "start_time": "2022-11-14T13:18:47.369Z"
   },
   {
    "duration": 2038,
    "start_time": "2022-11-14T13:18:47.389Z"
   },
   {
    "duration": 1294,
    "start_time": "2022-11-14T13:18:49.429Z"
   },
   {
    "duration": 1309,
    "start_time": "2022-11-14T13:18:50.725Z"
   },
   {
    "duration": 29,
    "start_time": "2022-11-14T13:18:52.035Z"
   },
   {
    "duration": 6,
    "start_time": "2022-11-14T13:18:52.065Z"
   },
   {
    "duration": 77,
    "start_time": "2022-11-14T13:18:52.073Z"
   },
   {
    "duration": 109,
    "start_time": "2022-11-14T13:18:52.152Z"
   },
   {
    "duration": 195,
    "start_time": "2022-11-14T13:18:52.263Z"
   },
   {
    "duration": 4,
    "start_time": "2022-11-14T13:18:52.461Z"
   },
   {
    "duration": 105,
    "start_time": "2022-11-14T13:18:52.550Z"
   },
   {
    "duration": 9,
    "start_time": "2022-11-14T13:18:52.657Z"
   },
   {
    "duration": 6,
    "start_time": "2022-11-14T13:18:52.668Z"
   },
   {
    "duration": 6,
    "start_time": "2022-11-14T13:18:52.676Z"
   },
   {
    "duration": 10,
    "start_time": "2022-11-14T13:18:52.683Z"
   },
   {
    "duration": 9,
    "start_time": "2022-11-14T13:18:52.694Z"
   },
   {
    "duration": 9,
    "start_time": "2022-11-14T13:18:52.704Z"
   },
   {
    "duration": 19,
    "start_time": "2022-11-14T13:18:52.715Z"
   },
   {
    "duration": 4,
    "start_time": "2022-11-14T13:19:30.429Z"
   },
   {
    "duration": 14,
    "start_time": "2022-11-14T13:19:31.332Z"
   },
   {
    "duration": 4,
    "start_time": "2022-11-14T13:19:39.696Z"
   },
   {
    "duration": 5,
    "start_time": "2022-11-14T13:19:40.681Z"
   },
   {
    "duration": 6,
    "start_time": "2022-11-14T13:19:43.907Z"
   },
   {
    "duration": 7,
    "start_time": "2022-11-14T13:19:45.245Z"
   },
   {
    "duration": 3,
    "start_time": "2022-11-14T13:20:12.360Z"
   },
   {
    "duration": 347,
    "start_time": "2022-11-14T13:20:12.366Z"
   },
   {
    "duration": 20,
    "start_time": "2022-11-14T13:20:12.714Z"
   },
   {
    "duration": 25,
    "start_time": "2022-11-14T13:20:12.735Z"
   },
   {
    "duration": 22,
    "start_time": "2022-11-14T13:20:12.762Z"
   },
   {
    "duration": 1273,
    "start_time": "2022-11-14T13:20:12.785Z"
   },
   {
    "duration": 1311,
    "start_time": "2022-11-14T13:20:14.060Z"
   },
   {
    "duration": 2221,
    "start_time": "2022-11-14T13:20:15.373Z"
   },
   {
    "duration": 29,
    "start_time": "2022-11-14T13:20:17.596Z"
   },
   {
    "duration": 5,
    "start_time": "2022-11-14T13:20:17.626Z"
   },
   {
    "duration": 24,
    "start_time": "2022-11-14T13:20:17.647Z"
   },
   {
    "duration": 184,
    "start_time": "2022-11-14T13:20:17.673Z"
   },
   {
    "duration": 199,
    "start_time": "2022-11-14T13:20:17.859Z"
   },
   {
    "duration": 86,
    "start_time": "2022-11-14T13:20:18.062Z"
   },
   {
    "duration": 120,
    "start_time": "2022-11-14T13:20:18.152Z"
   },
   {
    "duration": 19,
    "start_time": "2022-11-14T13:20:18.274Z"
   },
   {
    "duration": 7,
    "start_time": "2022-11-14T13:20:18.295Z"
   },
   {
    "duration": 8,
    "start_time": "2022-11-14T13:20:18.303Z"
   },
   {
    "duration": 12,
    "start_time": "2022-11-14T13:20:18.312Z"
   },
   {
    "duration": 19,
    "start_time": "2022-11-14T13:20:18.325Z"
   },
   {
    "duration": 4,
    "start_time": "2022-11-14T13:20:44.962Z"
   },
   {
    "duration": 20,
    "start_time": "2022-11-14T13:20:46.403Z"
   },
   {
    "duration": 22,
    "start_time": "2022-11-14T13:20:54.869Z"
   },
   {
    "duration": 22,
    "start_time": "2022-11-14T13:20:55.909Z"
   },
   {
    "duration": 4,
    "start_time": "2022-11-14T13:21:01.026Z"
   },
   {
    "duration": 5,
    "start_time": "2022-11-14T13:21:01.906Z"
   },
   {
    "duration": 4,
    "start_time": "2022-11-14T13:21:59.209Z"
   },
   {
    "duration": 6,
    "start_time": "2022-11-14T13:22:09.303Z"
   },
   {
    "duration": 5,
    "start_time": "2022-11-14T13:23:17.897Z"
   },
   {
    "duration": 30,
    "start_time": "2022-11-14T13:23:18.763Z"
   },
   {
    "duration": 7,
    "start_time": "2022-11-14T13:23:25.657Z"
   },
   {
    "duration": 4,
    "start_time": "2022-11-14T13:23:27.922Z"
   },
   {
    "duration": 3,
    "start_time": "2022-11-14T13:24:15.251Z"
   },
   {
    "duration": 4,
    "start_time": "2022-11-14T13:24:16.636Z"
   },
   {
    "duration": 5,
    "start_time": "2022-11-14T13:24:17.224Z"
   },
   {
    "duration": 6,
    "start_time": "2022-11-14T13:24:19.987Z"
   },
   {
    "duration": 6,
    "start_time": "2022-11-14T13:25:08.022Z"
   },
   {
    "duration": 13,
    "start_time": "2022-11-14T13:25:10.783Z"
   },
   {
    "duration": 14,
    "start_time": "2022-11-14T13:25:26.986Z"
   },
   {
    "duration": 12,
    "start_time": "2022-11-14T13:25:30.910Z"
   },
   {
    "duration": 0,
    "start_time": "2022-11-14T13:25:30.923Z"
   },
   {
    "duration": 8,
    "start_time": "2022-11-14T13:25:30.933Z"
   },
   {
    "duration": 52,
    "start_time": "2022-11-14T13:25:30.942Z"
   },
   {
    "duration": 0,
    "start_time": "2022-11-14T13:25:30.996Z"
   },
   {
    "duration": 0,
    "start_time": "2022-11-14T13:25:30.997Z"
   },
   {
    "duration": 6,
    "start_time": "2022-11-14T13:26:12.491Z"
   },
   {
    "duration": 6,
    "start_time": "2022-11-14T13:26:25.068Z"
   },
   {
    "duration": 3,
    "start_time": "2022-11-14T13:26:30.077Z"
   },
   {
    "duration": 368,
    "start_time": "2022-11-14T13:26:30.084Z"
   },
   {
    "duration": 20,
    "start_time": "2022-11-14T13:26:30.454Z"
   },
   {
    "duration": 36,
    "start_time": "2022-11-14T13:26:30.475Z"
   },
   {
    "duration": 63,
    "start_time": "2022-11-14T13:26:30.513Z"
   },
   {
    "duration": 1321,
    "start_time": "2022-11-14T13:26:30.577Z"
   },
   {
    "duration": 1325,
    "start_time": "2022-11-14T13:26:31.900Z"
   },
   {
    "duration": 1323,
    "start_time": "2022-11-14T13:26:33.227Z"
   },
   {
    "duration": 29,
    "start_time": "2022-11-14T13:26:34.553Z"
   },
   {
    "duration": 5,
    "start_time": "2022-11-14T13:26:34.584Z"
   },
   {
    "duration": 60,
    "start_time": "2022-11-14T13:26:34.591Z"
   },
   {
    "duration": 95,
    "start_time": "2022-11-14T13:26:34.653Z"
   },
   {
    "duration": 6,
    "start_time": "2022-11-14T13:26:34.750Z"
   },
   {
    "duration": 3,
    "start_time": "2022-11-14T13:26:47.208Z"
   },
   {
    "duration": 352,
    "start_time": "2022-11-14T13:26:47.213Z"
   },
   {
    "duration": 20,
    "start_time": "2022-11-14T13:26:47.567Z"
   },
   {
    "duration": 19,
    "start_time": "2022-11-14T13:26:47.588Z"
   },
   {
    "duration": 41,
    "start_time": "2022-11-14T13:26:47.610Z"
   },
   {
    "duration": 1295,
    "start_time": "2022-11-14T13:26:47.653Z"
   },
   {
    "duration": 2343,
    "start_time": "2022-11-14T13:26:48.950Z"
   },
   {
    "duration": 1347,
    "start_time": "2022-11-14T13:26:51.296Z"
   },
   {
    "duration": 30,
    "start_time": "2022-11-14T13:26:52.645Z"
   },
   {
    "duration": 5,
    "start_time": "2022-11-14T13:26:52.677Z"
   },
   {
    "duration": 68,
    "start_time": "2022-11-14T13:26:52.684Z"
   },
   {
    "duration": 115,
    "start_time": "2022-11-14T13:26:52.753Z"
   },
   {
    "duration": 192,
    "start_time": "2022-11-14T13:26:52.869Z"
   },
   {
    "duration": 3,
    "start_time": "2022-11-14T13:26:53.063Z"
   },
   {
    "duration": 183,
    "start_time": "2022-11-14T13:26:53.067Z"
   },
   {
    "duration": 7,
    "start_time": "2022-11-14T13:26:53.252Z"
   },
   {
    "duration": 6,
    "start_time": "2022-11-14T13:26:53.261Z"
   },
   {
    "duration": 5,
    "start_time": "2022-11-14T13:26:53.268Z"
   },
   {
    "duration": 5,
    "start_time": "2022-11-14T13:26:56.221Z"
   },
   {
    "duration": 6,
    "start_time": "2022-11-14T13:26:59.305Z"
   },
   {
    "duration": 6,
    "start_time": "2022-11-14T13:27:07.151Z"
   },
   {
    "duration": 6,
    "start_time": "2022-11-14T13:27:08.880Z"
   },
   {
    "duration": 6,
    "start_time": "2022-11-14T13:27:28.529Z"
   },
   {
    "duration": 1246,
    "start_time": "2022-11-14T13:27:29.595Z"
   },
   {
    "duration": 1212,
    "start_time": "2022-11-14T13:27:42.572Z"
   },
   {
    "duration": 1268,
    "start_time": "2022-11-14T13:27:46.865Z"
   },
   {
    "duration": 6,
    "start_time": "2022-11-14T13:32:00.744Z"
   },
   {
    "duration": 1237,
    "start_time": "2022-11-14T13:32:02.523Z"
   },
   {
    "duration": 6,
    "start_time": "2022-11-14T13:32:38.739Z"
   },
   {
    "duration": 1238,
    "start_time": "2022-11-14T13:32:39.773Z"
   },
   {
    "duration": 1278,
    "start_time": "2022-11-14T13:32:48.041Z"
   },
   {
    "duration": 1218,
    "start_time": "2022-11-14T13:32:52.730Z"
   },
   {
    "duration": 5,
    "start_time": "2022-11-14T13:37:23.842Z"
   },
   {
    "duration": 7,
    "start_time": "2022-11-14T13:37:24.710Z"
   },
   {
    "duration": 6,
    "start_time": "2022-11-14T13:37:29.867Z"
   },
   {
    "duration": 6,
    "start_time": "2022-11-14T13:37:31.054Z"
   },
   {
    "duration": 6,
    "start_time": "2022-11-14T13:39:03.922Z"
   },
   {
    "duration": 1263,
    "start_time": "2022-11-14T13:39:05.137Z"
   },
   {
    "duration": 6,
    "start_time": "2022-11-14T13:42:55.376Z"
   },
   {
    "duration": 1238,
    "start_time": "2022-11-14T13:42:56.610Z"
   },
   {
    "duration": 6,
    "start_time": "2022-11-14T13:43:57.889Z"
   },
   {
    "duration": 1217,
    "start_time": "2022-11-14T13:43:58.881Z"
   },
   {
    "duration": 7,
    "start_time": "2022-11-14T13:44:53.031Z"
   },
   {
    "duration": 6,
    "start_time": "2022-11-14T13:45:21.632Z"
   },
   {
    "duration": 3,
    "start_time": "2022-11-14T13:48:03.024Z"
   },
   {
    "duration": 4,
    "start_time": "2022-11-14T13:48:04.282Z"
   },
   {
    "duration": 2,
    "start_time": "2022-11-14T13:48:35.601Z"
   },
   {
    "duration": 3,
    "start_time": "2022-11-14T13:48:36.754Z"
   },
   {
    "duration": 4,
    "start_time": "2022-11-14T13:48:41.736Z"
   },
   {
    "duration": 4,
    "start_time": "2022-11-14T13:48:42.478Z"
   },
   {
    "duration": 4,
    "start_time": "2022-11-14T13:48:43.040Z"
   },
   {
    "duration": 6,
    "start_time": "2022-11-14T13:48:52.021Z"
   },
   {
    "duration": 1196,
    "start_time": "2022-11-14T13:48:53.825Z"
   },
   {
    "duration": 4,
    "start_time": "2022-11-14T13:52:17.577Z"
   },
   {
    "duration": 5,
    "start_time": "2022-11-14T13:53:08.141Z"
   },
   {
    "duration": 1249,
    "start_time": "2022-11-14T13:53:09.546Z"
   },
   {
    "duration": 6,
    "start_time": "2022-11-14T13:53:39.316Z"
   },
   {
    "duration": 1220,
    "start_time": "2022-11-14T13:53:40.540Z"
   },
   {
    "duration": 6,
    "start_time": "2022-11-14T13:53:50.840Z"
   },
   {
    "duration": 1303,
    "start_time": "2022-11-14T13:53:54.280Z"
   },
   {
    "duration": 7,
    "start_time": "2022-11-14T13:54:18.217Z"
   },
   {
    "duration": 3,
    "start_time": "2022-11-14T13:57:26.069Z"
   },
   {
    "duration": 5,
    "start_time": "2022-11-14T13:57:30.316Z"
   },
   {
    "duration": 6,
    "start_time": "2022-11-14T13:57:31.454Z"
   },
   {
    "duration": 6,
    "start_time": "2022-11-14T14:03:46.549Z"
   },
   {
    "duration": 1043,
    "start_time": "2022-11-14T14:03:49.840Z"
   },
   {
    "duration": 6,
    "start_time": "2022-11-14T14:04:12.068Z"
   },
   {
    "duration": 946,
    "start_time": "2022-11-14T14:04:12.962Z"
   },
   {
    "duration": 6,
    "start_time": "2022-11-14T14:04:25.903Z"
   },
   {
    "duration": 1277,
    "start_time": "2022-11-14T14:04:26.933Z"
   },
   {
    "duration": 6,
    "start_time": "2022-11-14T14:05:10.164Z"
   },
   {
    "duration": 11,
    "start_time": "2022-11-14T14:05:11.730Z"
   },
   {
    "duration": 7,
    "start_time": "2022-11-14T14:05:33.042Z"
   },
   {
    "duration": 12,
    "start_time": "2022-11-14T14:05:33.974Z"
   },
   {
    "duration": 6,
    "start_time": "2022-11-14T14:05:41.598Z"
   },
   {
    "duration": 1189,
    "start_time": "2022-11-14T14:05:42.415Z"
   },
   {
    "duration": 6,
    "start_time": "2022-11-14T14:07:01.903Z"
   },
   {
    "duration": 1229,
    "start_time": "2022-11-14T14:07:02.803Z"
   },
   {
    "duration": 7,
    "start_time": "2022-11-14T14:10:40.309Z"
   },
   {
    "duration": 1235,
    "start_time": "2022-11-14T14:10:41.626Z"
   },
   {
    "duration": 52,
    "start_time": "2022-11-14T14:11:13.899Z"
   },
   {
    "duration": 6,
    "start_time": "2022-11-14T14:11:22.904Z"
   },
   {
    "duration": 1261,
    "start_time": "2022-11-14T14:11:23.836Z"
   },
   {
    "duration": 6,
    "start_time": "2022-11-14T14:11:41.099Z"
   },
   {
    "duration": 1329,
    "start_time": "2022-11-14T14:11:41.880Z"
   },
   {
    "duration": 7,
    "start_time": "2022-11-14T14:19:38.972Z"
   },
   {
    "duration": 1329,
    "start_time": "2022-11-14T14:19:40.449Z"
   },
   {
    "duration": 1413,
    "start_time": "2022-11-14T14:20:20.177Z"
   },
   {
    "duration": 1350,
    "start_time": "2022-11-14T14:20:21.997Z"
   },
   {
    "duration": 1327,
    "start_time": "2022-11-14T14:20:23.349Z"
   },
   {
    "duration": 7,
    "start_time": "2022-11-14T14:20:30.007Z"
   },
   {
    "duration": 992,
    "start_time": "2022-11-14T14:20:30.447Z"
   },
   {
    "duration": 980,
    "start_time": "2022-11-14T14:20:31.441Z"
   },
   {
    "duration": 986,
    "start_time": "2022-11-14T14:20:32.423Z"
   },
   {
    "duration": 5,
    "start_time": "2022-11-14T14:21:35.426Z"
   },
   {
    "duration": 950,
    "start_time": "2022-11-14T14:21:36.374Z"
   },
   {
    "duration": 959,
    "start_time": "2022-11-14T14:21:37.326Z"
   },
   {
    "duration": 982,
    "start_time": "2022-11-14T14:21:38.287Z"
   },
   {
    "duration": 3,
    "start_time": "2022-11-14T14:26:14.030Z"
   },
   {
    "duration": 401,
    "start_time": "2022-11-14T14:26:14.037Z"
   },
   {
    "duration": 27,
    "start_time": "2022-11-14T14:26:14.440Z"
   },
   {
    "duration": 21,
    "start_time": "2022-11-14T14:26:14.469Z"
   },
   {
    "duration": 19,
    "start_time": "2022-11-14T14:26:14.493Z"
   },
   {
    "duration": 1458,
    "start_time": "2022-11-14T14:26:14.514Z"
   },
   {
    "duration": 1353,
    "start_time": "2022-11-14T14:26:15.974Z"
   },
   {
    "duration": 2753,
    "start_time": "2022-11-14T14:26:17.329Z"
   },
   {
    "duration": 25,
    "start_time": "2022-11-14T14:26:20.084Z"
   },
   {
    "duration": 9,
    "start_time": "2022-11-14T14:26:20.111Z"
   },
   {
    "duration": 128,
    "start_time": "2022-11-14T14:26:20.124Z"
   },
   {
    "duration": 195,
    "start_time": "2022-11-14T14:26:20.253Z"
   },
   {
    "duration": 124,
    "start_time": "2022-11-14T14:26:20.450Z"
   },
   {
    "duration": 69,
    "start_time": "2022-11-14T14:26:20.580Z"
   },
   {
    "duration": 96,
    "start_time": "2022-11-14T14:26:20.656Z"
   },
   {
    "duration": 15,
    "start_time": "2022-11-14T14:26:20.754Z"
   },
   {
    "duration": 10,
    "start_time": "2022-11-14T14:26:20.771Z"
   },
   {
    "duration": 24,
    "start_time": "2022-11-14T14:26:20.783Z"
   },
   {
    "duration": 14,
    "start_time": "2022-11-14T14:26:20.809Z"
   },
   {
    "duration": 23,
    "start_time": "2022-11-14T14:26:20.825Z"
   },
   {
    "duration": 11,
    "start_time": "2022-11-14T14:26:20.850Z"
   },
   {
    "duration": 16,
    "start_time": "2022-11-14T14:26:20.864Z"
   },
   {
    "duration": 11,
    "start_time": "2022-11-14T14:26:20.882Z"
   },
   {
    "duration": 1141,
    "start_time": "2022-11-14T14:26:20.896Z"
   },
   {
    "duration": 1018,
    "start_time": "2022-11-14T14:26:22.038Z"
   },
   {
    "duration": 990,
    "start_time": "2022-11-14T14:26:23.058Z"
   },
   {
    "duration": 3,
    "start_time": "2022-11-14T14:30:15.850Z"
   },
   {
    "duration": 334,
    "start_time": "2022-11-14T14:30:15.856Z"
   },
   {
    "duration": 22,
    "start_time": "2022-11-14T14:30:16.192Z"
   },
   {
    "duration": 20,
    "start_time": "2022-11-14T14:30:16.215Z"
   },
   {
    "duration": 19,
    "start_time": "2022-11-14T14:30:16.249Z"
   },
   {
    "duration": 1349,
    "start_time": "2022-11-14T14:30:16.270Z"
   },
   {
    "duration": 1364,
    "start_time": "2022-11-14T14:30:17.620Z"
   },
   {
    "duration": 1369,
    "start_time": "2022-11-14T14:30:18.986Z"
   },
   {
    "duration": 27,
    "start_time": "2022-11-14T14:30:20.357Z"
   },
   {
    "duration": 5,
    "start_time": "2022-11-14T14:30:20.386Z"
   },
   {
    "duration": 63,
    "start_time": "2022-11-14T14:30:20.393Z"
   },
   {
    "duration": 26,
    "start_time": "2022-11-14T14:30:20.549Z"
   },
   {
    "duration": 271,
    "start_time": "2022-11-14T14:30:20.577Z"
   },
   {
    "duration": 4,
    "start_time": "2022-11-14T14:30:20.851Z"
   },
   {
    "duration": 101,
    "start_time": "2022-11-14T14:30:20.857Z"
   },
   {
    "duration": 8,
    "start_time": "2022-11-14T14:30:20.960Z"
   },
   {
    "duration": 6,
    "start_time": "2022-11-14T14:30:20.969Z"
   },
   {
    "duration": 5,
    "start_time": "2022-11-14T14:30:20.976Z"
   },
   {
    "duration": 7,
    "start_time": "2022-11-14T14:30:20.982Z"
   },
   {
    "duration": 13,
    "start_time": "2022-11-14T14:30:20.991Z"
   },
   {
    "duration": 6,
    "start_time": "2022-11-14T14:30:21.006Z"
   },
   {
    "duration": 8,
    "start_time": "2022-11-14T14:30:21.014Z"
   },
   {
    "duration": 26,
    "start_time": "2022-11-14T14:30:21.024Z"
   },
   {
    "duration": 1027,
    "start_time": "2022-11-14T14:30:21.052Z"
   },
   {
    "duration": 1038,
    "start_time": "2022-11-14T14:30:22.081Z"
   },
   {
    "duration": 987,
    "start_time": "2022-11-14T14:30:23.121Z"
   }
  ],
  "kernelspec": {
   "display_name": "Python 3 (ipykernel)",
   "language": "python",
   "name": "python3"
  },
  "language_info": {
   "codemirror_mode": {
    "name": "ipython",
    "version": 3
   },
   "file_extension": ".py",
   "mimetype": "text/x-python",
   "name": "python",
   "nbconvert_exporter": "python",
   "pygments_lexer": "ipython3",
   "version": "3.9.12"
  },
  "toc": {
   "base_numbering": 1,
   "nav_menu": {},
   "number_sections": true,
   "sideBar": true,
   "skip_h1_title": true,
   "title_cell": "Table of Contents",
   "title_sidebar": "Contents",
   "toc_cell": false,
   "toc_position": {},
   "toc_section_display": true,
   "toc_window_display": false
  }
 },
 "nbformat": 4,
 "nbformat_minor": 2
}
