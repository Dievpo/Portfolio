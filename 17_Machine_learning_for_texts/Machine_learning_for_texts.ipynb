{
 "cells": [
  {
   "cell_type": "markdown",
   "metadata": {
    "toc": true
   },
   "source": [
    "<h1>Содержание<span class=\"tocSkip\"></span></h1>\n",
    "<div class=\"toc\"><ul class=\"toc-item\"><li><ul class=\"toc-item\"><li><span><a href=\"#Подготовка\" data-toc-modified-id=\"Подготовка-1\"><span class=\"toc-item-num\">1&nbsp;&nbsp;</span>Подготовка</a></span><ul class=\"toc-item\"><li><span><a href=\"#Импорт-библиотек\" data-toc-modified-id=\"Импорт-библиотек-1.1\"><span class=\"toc-item-num\">1.1&nbsp;&nbsp;</span>Импорт библиотек</a></span></li><li><span><a href=\"#Чтение-файла-и-изучение-данных\" data-toc-modified-id=\"Чтение-файла-и-изучение-данных-1.2\"><span class=\"toc-item-num\">1.2&nbsp;&nbsp;</span>Чтение файла и изучение данных</a></span></li><li><span><a href=\"#Анализ-данных\" data-toc-modified-id=\"Анализ-данных-1.3\"><span class=\"toc-item-num\">1.3&nbsp;&nbsp;</span>Анализ данных</a></span></li><li><span><a href=\"#Предобрабока-данных\" data-toc-modified-id=\"Предобрабока-данных-1.4\"><span class=\"toc-item-num\">1.4&nbsp;&nbsp;</span>Предобрабока данных</a></span><ul class=\"toc-item\"><li><span><a href=\"#Лемматизация\" data-toc-modified-id=\"Лемматизация-1.4.1\"><span class=\"toc-item-num\">1.4.1&nbsp;&nbsp;</span>Лемматизация</a></span></li><li><span><a href=\"#Регулярные-выражения\" data-toc-modified-id=\"Регулярные-выражения-1.4.2\"><span class=\"toc-item-num\">1.4.2&nbsp;&nbsp;</span>Регулярные выражения</a></span></li><li><span><a href=\"#Стоп-слова\" data-toc-modified-id=\"Стоп-слова-1.4.3\"><span class=\"toc-item-num\">1.4.3&nbsp;&nbsp;</span>Стоп-слова</a></span></li><li><span><a href=\"#Очищенный-набор-данных-для-обучения-моделей\" data-toc-modified-id=\"Очищенный-набор-данных-для-обучения-моделей-1.4.4\"><span class=\"toc-item-num\">1.4.4&nbsp;&nbsp;</span>Очищенный набор данных для обучения моделей</a></span></li></ul></li></ul></li><li><span><a href=\"#Обучение\" data-toc-modified-id=\"Обучение-2\"><span class=\"toc-item-num\">2&nbsp;&nbsp;</span>Обучение</a></span><ul class=\"toc-item\"><li><span><a href=\"#LogisticRegression\" data-toc-modified-id=\"LogisticRegression-2.1\"><span class=\"toc-item-num\">2.1&nbsp;&nbsp;</span>LogisticRegression</a></span></li><li><span><a href=\"#RandomForestClassifier\" data-toc-modified-id=\"RandomForestClassifier-2.2\"><span class=\"toc-item-num\">2.2&nbsp;&nbsp;</span>RandomForestClassifier</a></span></li><li><span><a href=\"#DecisionTreeClassifier\" data-toc-modified-id=\"DecisionTreeClassifier-2.3\"><span class=\"toc-item-num\">2.3&nbsp;&nbsp;</span>DecisionTreeClassifier</a></span></li><li><span><a href=\"#Результат\" data-toc-modified-id=\"Результат-2.4\"><span class=\"toc-item-num\">2.4&nbsp;&nbsp;</span>Результат</a></span></li></ul></li><li><span><a href=\"#Тестирование\" data-toc-modified-id=\"Тестирование-3\"><span class=\"toc-item-num\">3&nbsp;&nbsp;</span>Тестирование</a></span></li><li><span><a href=\"#Выводы\" data-toc-modified-id=\"Выводы-4\"><span class=\"toc-item-num\">4&nbsp;&nbsp;</span>Выводы</a></span></li></ul></div>"
   ]
  },
  {
   "cell_type": "markdown",
   "metadata": {},
   "source": [
    "# Проект для «Викишоп»"
   ]
  },
  {
   "cell_type": "markdown",
   "metadata": {},
   "source": [
    "Интернет-магазин «Викишоп» запускает новый сервис. Теперь пользователи могут редактировать и дополнять описания товаров, как в вики-сообществах. То есть клиенты предлагают свои правки и комментируют изменения других. Магазину нужен инструмент, который будет искать токсичные комментарии и отправлять их на модерацию. \n",
    "\n",
    "Обучите модель классифицировать комментарии на позитивные и негативные. В вашем распоряжении набор данных с разметкой о токсичности правок.\n",
    "\n",
    "Постройте модель со значением метрики качества *F1* не меньше 0.75. \n",
    "\n",
    "**Описание данных**\n",
    "\n",
    "Данные находятся в файле `toxic_comments.csv`. Столбец *text* в нём содержит текст комментария, а *toxic* — целевой признак."
   ]
  },
  {
   "cell_type": "markdown",
   "metadata": {},
   "source": [
    "## Подготовка"
   ]
  },
  {
   "cell_type": "markdown",
   "metadata": {},
   "source": [
    "### Импорт библиотек"
   ]
  },
  {
   "cell_type": "code",
   "execution_count": 1,
   "metadata": {},
   "outputs": [
    {
     "name": "stderr",
     "output_type": "stream",
     "text": [
      "[nltk_data] Downloading package stopwords to /home/jovyan/nltk_data...\n",
      "[nltk_data]   Package stopwords is already up-to-date!\n",
      "[nltk_data] Downloading package averaged_perceptron_tagger to\n",
      "[nltk_data]     /home/jovyan/nltk_data...\n",
      "[nltk_data]   Unzipping taggers/averaged_perceptron_tagger.zip.\n"
     ]
    },
    {
     "data": {
      "text/plain": [
       "True"
      ]
     },
     "execution_count": 1,
     "metadata": {},
     "output_type": "execute_result"
    }
   ],
   "source": [
    "import pandas as pd \n",
    "import numpy as np \n",
    "import matplotlib.pyplot as plt \n",
    "import seaborn as sns \n",
    "import nltk \n",
    "import re \n",
    "\n",
    "from nltk.stem import WordNetLemmatizer\n",
    "from nltk.corpus import stopwords as nltk_stopwords\n",
    "from sklearn.feature_extraction.text import TfidfVectorizer, CountVectorizer\n",
    "from sklearn.model_selection import train_test_split, GridSearchCV, TimeSeriesSplit\n",
    "from sklearn.linear_model import LogisticRegression\n",
    "from sklearn.ensemble import RandomForestClassifier\n",
    "from sklearn.tree import DecisionTreeClassifier\n",
    "from sklearn.metrics import f1_score\n",
    "from nltk.tag import pos_tag\n",
    "from nltk.corpus import wordnet\n",
    "from sklearn.pipeline import Pipeline\n",
    "\n",
    "nltk.download('stopwords')\n",
    "nltk.download('averaged_perceptron_tagger')"
   ]
  },
  {
   "cell_type": "markdown",
   "metadata": {},
   "source": [
    "### Чтение файла и изучение данных"
   ]
  },
  {
   "cell_type": "markdown",
   "metadata": {},
   "source": [
    "Прочитаем файл и сохраним данные в переменной data:"
   ]
  },
  {
   "cell_type": "code",
   "execution_count": 2,
   "metadata": {},
   "outputs": [
    {
     "data": {
      "text/html": [
       "<div>\n",
       "<style scoped>\n",
       "    .dataframe tbody tr th:only-of-type {\n",
       "        vertical-align: middle;\n",
       "    }\n",
       "\n",
       "    .dataframe tbody tr th {\n",
       "        vertical-align: top;\n",
       "    }\n",
       "\n",
       "    .dataframe thead th {\n",
       "        text-align: right;\n",
       "    }\n",
       "</style>\n",
       "<table border=\"1\" class=\"dataframe\">\n",
       "  <thead>\n",
       "    <tr style=\"text-align: right;\">\n",
       "      <th></th>\n",
       "      <th>Unnamed: 0</th>\n",
       "      <th>text</th>\n",
       "      <th>toxic</th>\n",
       "    </tr>\n",
       "  </thead>\n",
       "  <tbody>\n",
       "    <tr>\n",
       "      <th>0</th>\n",
       "      <td>0</td>\n",
       "      <td>Explanation\\nWhy the edits made under my usern...</td>\n",
       "      <td>0</td>\n",
       "    </tr>\n",
       "    <tr>\n",
       "      <th>1</th>\n",
       "      <td>1</td>\n",
       "      <td>D'aww! He matches this background colour I'm s...</td>\n",
       "      <td>0</td>\n",
       "    </tr>\n",
       "    <tr>\n",
       "      <th>2</th>\n",
       "      <td>2</td>\n",
       "      <td>Hey man, I'm really not trying to edit war. It...</td>\n",
       "      <td>0</td>\n",
       "    </tr>\n",
       "    <tr>\n",
       "      <th>3</th>\n",
       "      <td>3</td>\n",
       "      <td>\"\\nMore\\nI can't make any real suggestions on ...</td>\n",
       "      <td>0</td>\n",
       "    </tr>\n",
       "    <tr>\n",
       "      <th>4</th>\n",
       "      <td>4</td>\n",
       "      <td>You, sir, are my hero. Any chance you remember...</td>\n",
       "      <td>0</td>\n",
       "    </tr>\n",
       "    <tr>\n",
       "      <th>5</th>\n",
       "      <td>5</td>\n",
       "      <td>\"\\n\\nCongratulations from me as well, use the ...</td>\n",
       "      <td>0</td>\n",
       "    </tr>\n",
       "    <tr>\n",
       "      <th>6</th>\n",
       "      <td>6</td>\n",
       "      <td>COCKSUCKER BEFORE YOU PISS AROUND ON MY WORK</td>\n",
       "      <td>1</td>\n",
       "    </tr>\n",
       "    <tr>\n",
       "      <th>7</th>\n",
       "      <td>7</td>\n",
       "      <td>Your vandalism to the Matt Shirvington article...</td>\n",
       "      <td>0</td>\n",
       "    </tr>\n",
       "    <tr>\n",
       "      <th>8</th>\n",
       "      <td>8</td>\n",
       "      <td>Sorry if the word 'nonsense' was offensive to ...</td>\n",
       "      <td>0</td>\n",
       "    </tr>\n",
       "    <tr>\n",
       "      <th>9</th>\n",
       "      <td>9</td>\n",
       "      <td>alignment on this subject and which are contra...</td>\n",
       "      <td>0</td>\n",
       "    </tr>\n",
       "  </tbody>\n",
       "</table>\n",
       "</div>"
      ],
      "text/plain": [
       "   Unnamed: 0                                               text  toxic\n",
       "0           0  Explanation\\nWhy the edits made under my usern...      0\n",
       "1           1  D'aww! He matches this background colour I'm s...      0\n",
       "2           2  Hey man, I'm really not trying to edit war. It...      0\n",
       "3           3  \"\\nMore\\nI can't make any real suggestions on ...      0\n",
       "4           4  You, sir, are my hero. Any chance you remember...      0\n",
       "5           5  \"\\n\\nCongratulations from me as well, use the ...      0\n",
       "6           6       COCKSUCKER BEFORE YOU PISS AROUND ON MY WORK      1\n",
       "7           7  Your vandalism to the Matt Shirvington article...      0\n",
       "8           8  Sorry if the word 'nonsense' was offensive to ...      0\n",
       "9           9  alignment on this subject and which are contra...      0"
      ]
     },
     "metadata": {},
     "output_type": "display_data"
    },
    {
     "data": {
      "text/html": [
       "<div>\n",
       "<style scoped>\n",
       "    .dataframe tbody tr th:only-of-type {\n",
       "        vertical-align: middle;\n",
       "    }\n",
       "\n",
       "    .dataframe tbody tr th {\n",
       "        vertical-align: top;\n",
       "    }\n",
       "\n",
       "    .dataframe thead th {\n",
       "        text-align: right;\n",
       "    }\n",
       "</style>\n",
       "<table border=\"1\" class=\"dataframe\">\n",
       "  <thead>\n",
       "    <tr style=\"text-align: right;\">\n",
       "      <th></th>\n",
       "      <th>Unnamed: 0</th>\n",
       "      <th>text</th>\n",
       "      <th>toxic</th>\n",
       "    </tr>\n",
       "  </thead>\n",
       "  <tbody>\n",
       "    <tr>\n",
       "      <th>159282</th>\n",
       "      <td>159441</td>\n",
       "      <td>\"\\nNo he did not, read it again (I would have ...</td>\n",
       "      <td>0</td>\n",
       "    </tr>\n",
       "    <tr>\n",
       "      <th>159283</th>\n",
       "      <td>159442</td>\n",
       "      <td>\"\\n Auto guides and the motoring press are not...</td>\n",
       "      <td>0</td>\n",
       "    </tr>\n",
       "    <tr>\n",
       "      <th>159284</th>\n",
       "      <td>159443</td>\n",
       "      <td>\"\\nplease identify what part of BLP applies be...</td>\n",
       "      <td>0</td>\n",
       "    </tr>\n",
       "    <tr>\n",
       "      <th>159285</th>\n",
       "      <td>159444</td>\n",
       "      <td>Catalan independentism is the social movement ...</td>\n",
       "      <td>0</td>\n",
       "    </tr>\n",
       "    <tr>\n",
       "      <th>159286</th>\n",
       "      <td>159445</td>\n",
       "      <td>The numbers in parentheses are the additional ...</td>\n",
       "      <td>0</td>\n",
       "    </tr>\n",
       "    <tr>\n",
       "      <th>159287</th>\n",
       "      <td>159446</td>\n",
       "      <td>\":::::And for the second time of asking, when ...</td>\n",
       "      <td>0</td>\n",
       "    </tr>\n",
       "    <tr>\n",
       "      <th>159288</th>\n",
       "      <td>159447</td>\n",
       "      <td>You should be ashamed of yourself \\n\\nThat is ...</td>\n",
       "      <td>0</td>\n",
       "    </tr>\n",
       "    <tr>\n",
       "      <th>159289</th>\n",
       "      <td>159448</td>\n",
       "      <td>Spitzer \\n\\nUmm, theres no actual article for ...</td>\n",
       "      <td>0</td>\n",
       "    </tr>\n",
       "    <tr>\n",
       "      <th>159290</th>\n",
       "      <td>159449</td>\n",
       "      <td>And it looks like it was actually you who put ...</td>\n",
       "      <td>0</td>\n",
       "    </tr>\n",
       "    <tr>\n",
       "      <th>159291</th>\n",
       "      <td>159450</td>\n",
       "      <td>\"\\nAnd ... I really don't think you understand...</td>\n",
       "      <td>0</td>\n",
       "    </tr>\n",
       "  </tbody>\n",
       "</table>\n",
       "</div>"
      ],
      "text/plain": [
       "        Unnamed: 0                                               text  toxic\n",
       "159282      159441  \"\\nNo he did not, read it again (I would have ...      0\n",
       "159283      159442  \"\\n Auto guides and the motoring press are not...      0\n",
       "159284      159443  \"\\nplease identify what part of BLP applies be...      0\n",
       "159285      159444  Catalan independentism is the social movement ...      0\n",
       "159286      159445  The numbers in parentheses are the additional ...      0\n",
       "159287      159446  \":::::And for the second time of asking, when ...      0\n",
       "159288      159447  You should be ashamed of yourself \\n\\nThat is ...      0\n",
       "159289      159448  Spitzer \\n\\nUmm, theres no actual article for ...      0\n",
       "159290      159449  And it looks like it was actually you who put ...      0\n",
       "159291      159450  \"\\nAnd ... I really don't think you understand...      0"
      ]
     },
     "metadata": {},
     "output_type": "display_data"
    }
   ],
   "source": [
    "data = pd.read_csv('/datasets/toxic_comments.csv')\n",
    "display(data.head(10))\n",
    "display(data.tail(10))"
   ]
  },
  {
   "cell_type": "markdown",
   "metadata": {},
   "source": [
    "Посмотрим общую информацию о датафрейме:"
   ]
  },
  {
   "cell_type": "code",
   "execution_count": 3,
   "metadata": {},
   "outputs": [
    {
     "name": "stdout",
     "output_type": "stream",
     "text": [
      "<class 'pandas.core.frame.DataFrame'>\n",
      "RangeIndex: 159292 entries, 0 to 159291\n",
      "Data columns (total 3 columns):\n",
      " #   Column      Non-Null Count   Dtype \n",
      "---  ------      --------------   ----- \n",
      " 0   Unnamed: 0  159292 non-null  int64 \n",
      " 1   text        159292 non-null  object\n",
      " 2   toxic       159292 non-null  int64 \n",
      "dtypes: int64(2), object(1)\n",
      "memory usage: 3.6+ MB\n"
     ]
    }
   ],
   "source": [
    "data.info()"
   ]
  },
  {
   "cell_type": "markdown",
   "metadata": {},
   "source": [
    "Вывод:  \n",
    "- датафрейм содержит 2 столбца и 159292 записи в каждом из них\n",
    "- пропусков в данных нету\n",
    "- для признака text необходимо провести предобработку - необходимо очистить комментарии от лишних слов, провести токенизацию (разбиение текста на токены, т.е., отдельные фразы, слова, символы) и лемматизацию текста (приведение слова к начальной форме или лемме)"
   ]
  },
  {
   "cell_type": "markdown",
   "metadata": {},
   "source": [
    "### Анализ данных"
   ]
  },
  {
   "cell_type": "markdown",
   "metadata": {},
   "source": [
    "Более подробно исследуем целевой признак toxic."
   ]
  },
  {
   "cell_type": "markdown",
   "metadata": {},
   "source": [
    "Посмотрим на соотношение нейтральных и токсичных комментариев:"
   ]
  },
  {
   "cell_type": "code",
   "execution_count": 4,
   "metadata": {},
   "outputs": [
    {
     "data": {
      "text/plain": [
       "0    143106\n",
       "1     16186\n",
       "Name: toxic, dtype: int64"
      ]
     },
     "metadata": {},
     "output_type": "display_data"
    },
    {
     "name": "stdout",
     "output_type": "stream",
     "text": [
      "Процент объектов класса 1 к общему объёму датасета: 10.16%\n"
     ]
    }
   ],
   "source": [
    "display(data['toxic'].value_counts())\n",
    "print(f\"Процент объектов класса 1 к общему объёму датасета: {(sum(data['toxic']) / len(data) * 100):.2f}%\")"
   ]
  },
  {
   "cell_type": "code",
   "execution_count": 5,
   "metadata": {},
   "outputs": [
    {
     "data": {
      "text/plain": [
       "<AxesSubplot:xlabel='toxic', ylabel='count'>"
      ]
     },
     "execution_count": 5,
     "metadata": {},
     "output_type": "execute_result"
    },
    {
     "data": {
      "image/png": "[encoded data removed]",
      "text/plain": [
       "<Figure size 720x360 with 1 Axes>"
      ]
     },
     "metadata": {
      "needs_background": "light"
     },
     "output_type": "display_data"
    }
   ],
   "source": [
    "plt.figure(figsize=(10, 5))\n",
    "sns.countplot(x='toxic', data=data)"
   ]
  },
  {
   "cell_type": "markdown",
   "metadata": {},
   "source": [
    "Видим, что почти 90% комментариев имеет нейтральную или позитивную тональность, а 10% - негативную. Т.е., каждый 10-й комментарий можно трактовать как токсичный."
   ]
  },
  {
   "cell_type": "markdown",
   "metadata": {},
   "source": [
    "### Предобрабока данных"
   ]
  },
  {
   "cell_type": "markdown",
   "metadata": {},
   "source": [
    "Создадим копию датафрейма, чтобы не испортить исходный:"
   ]
  },
  {
   "cell_type": "code",
   "execution_count": 6,
   "metadata": {},
   "outputs": [
    {
     "data": {
      "text/plain": [
       "(159292, 3)"
      ]
     },
     "execution_count": 6,
     "metadata": {},
     "output_type": "execute_result"
    }
   ],
   "source": [
    "df = data.copy()\n",
    "df.shape"
   ]
  },
  {
   "cell_type": "markdown",
   "metadata": {},
   "source": [
    "#### Лемматизация"
   ]
  },
  {
   "cell_type": "markdown",
   "metadata": {},
   "source": [
    "Функция pos_tag из библиотеки NLTK возвращает часть речи в специальном формате. Для ее преобразования к входному формату лемматизатора используется функция get_wordnet_pos."
   ]
  },
  {
   "cell_type": "code",
   "execution_count": 7,
   "metadata": {},
   "outputs": [],
   "source": [
    "lemmatizer = WordNetLemmatizer()"
   ]
  },
  {
   "cell_type": "code",
   "execution_count": 8,
   "metadata": {},
   "outputs": [],
   "source": [
    "def get_wordnet_pos(pos_tag):\n",
    "    if pos_tag.startswith('J'):\n",
    "        return wordnet.ADJ\n",
    "    elif pos_tag.startswith('V'):\n",
    "        return wordnet.VERB\n",
    "    elif pos_tag.startswith('N'):\n",
    "        return wordnet.NOUN\n",
    "    elif pos_tag.startswith('R'):\n",
    "        return wordnet.ADV\n",
    "    else:\n",
    "        return wordnet.NOUN"
   ]
  },
  {
   "cell_type": "markdown",
   "metadata": {},
   "source": [
    "Проведём лемматизацию слов с помощью WordNetLemmatizer() из библиотеки nltk:"
   ]
  },
  {
   "cell_type": "code",
   "execution_count": 9,
   "metadata": {},
   "outputs": [
    {
     "data": {
      "text/html": [
       "<div>\n",
       "<style scoped>\n",
       "    .dataframe tbody tr th:only-of-type {\n",
       "        vertical-align: middle;\n",
       "    }\n",
       "\n",
       "    .dataframe tbody tr th {\n",
       "        vertical-align: top;\n",
       "    }\n",
       "\n",
       "    .dataframe thead th {\n",
       "        text-align: right;\n",
       "    }\n",
       "</style>\n",
       "<table border=\"1\" class=\"dataframe\">\n",
       "  <thead>\n",
       "    <tr style=\"text-align: right;\">\n",
       "      <th></th>\n",
       "      <th>Unnamed: 0</th>\n",
       "      <th>text</th>\n",
       "      <th>toxic</th>\n",
       "      <th>lemmas</th>\n",
       "    </tr>\n",
       "  </thead>\n",
       "  <tbody>\n",
       "    <tr>\n",
       "      <th>0</th>\n",
       "      <td>0</td>\n",
       "      <td>Explanation\\nWhy the edits made under my usern...</td>\n",
       "      <td>0</td>\n",
       "      <td>Explanation\\nWhy the edits made under my usern...</td>\n",
       "    </tr>\n",
       "    <tr>\n",
       "      <th>1</th>\n",
       "      <td>1</td>\n",
       "      <td>D'aww! He matches this background colour I'm s...</td>\n",
       "      <td>0</td>\n",
       "      <td>D'aww! He matches this background colour I'm s...</td>\n",
       "    </tr>\n",
       "    <tr>\n",
       "      <th>2</th>\n",
       "      <td>2</td>\n",
       "      <td>Hey man, I'm really not trying to edit war. It...</td>\n",
       "      <td>0</td>\n",
       "      <td>Hey man, I'm really not trying to edit war. It...</td>\n",
       "    </tr>\n",
       "    <tr>\n",
       "      <th>3</th>\n",
       "      <td>3</td>\n",
       "      <td>\"\\nMore\\nI can't make any real suggestions on ...</td>\n",
       "      <td>0</td>\n",
       "      <td>\"\\nMore\\nI can't make any real suggestions on ...</td>\n",
       "    </tr>\n",
       "    <tr>\n",
       "      <th>4</th>\n",
       "      <td>4</td>\n",
       "      <td>You, sir, are my hero. Any chance you remember...</td>\n",
       "      <td>0</td>\n",
       "      <td>You, sir, are my hero. Any chance you remember...</td>\n",
       "    </tr>\n",
       "  </tbody>\n",
       "</table>\n",
       "</div>"
      ],
      "text/plain": [
       "   Unnamed: 0                                               text  toxic  \\\n",
       "0           0  Explanation\\nWhy the edits made under my usern...      0   \n",
       "1           1  D'aww! He matches this background colour I'm s...      0   \n",
       "2           2  Hey man, I'm really not trying to edit war. It...      0   \n",
       "3           3  \"\\nMore\\nI can't make any real suggestions on ...      0   \n",
       "4           4  You, sir, are my hero. Any chance you remember...      0   \n",
       "\n",
       "                                              lemmas  \n",
       "0  Explanation\\nWhy the edits made under my usern...  \n",
       "1  D'aww! He matches this background colour I'm s...  \n",
       "2  Hey man, I'm really not trying to edit war. It...  \n",
       "3  \"\\nMore\\nI can't make any real suggestions on ...  \n",
       "4  You, sir, are my hero. Any chance you remember...  "
      ]
     },
     "execution_count": 9,
     "metadata": {},
     "output_type": "execute_result"
    }
   ],
   "source": [
    "# pos tag text\n",
    "pos_tags = pos_tag(df['text'])\n",
    "\n",
    "# лемматизация текста\n",
    "df['lemmas'] = [WordNetLemmatizer().lemmatize(t[0], get_wordnet_pos(t[1])) for t in pos_tags]\n",
    "\n",
    "df.head()"
   ]
  },
  {
   "cell_type": "code",
   "execution_count": 10,
   "metadata": {},
   "outputs": [
    {
     "data": {
      "text/html": [
       "<div>\n",
       "<style scoped>\n",
       "    .dataframe tbody tr th:only-of-type {\n",
       "        vertical-align: middle;\n",
       "    }\n",
       "\n",
       "    .dataframe tbody tr th {\n",
       "        vertical-align: top;\n",
       "    }\n",
       "\n",
       "    .dataframe thead th {\n",
       "        text-align: right;\n",
       "    }\n",
       "</style>\n",
       "<table border=\"1\" class=\"dataframe\">\n",
       "  <thead>\n",
       "    <tr style=\"text-align: right;\">\n",
       "      <th></th>\n",
       "      <th>Unnamed: 0</th>\n",
       "      <th>text</th>\n",
       "      <th>toxic</th>\n",
       "      <th>lemmas</th>\n",
       "    </tr>\n",
       "  </thead>\n",
       "  <tbody>\n",
       "    <tr>\n",
       "      <th>0</th>\n",
       "      <td>0</td>\n",
       "      <td>Explanation\\nWhy the edits made under my usern...</td>\n",
       "      <td>0</td>\n",
       "      <td>Explanation\\nWhy the edits made under my usern...</td>\n",
       "    </tr>\n",
       "    <tr>\n",
       "      <th>1</th>\n",
       "      <td>1</td>\n",
       "      <td>D'aww! He matches this background colour I'm s...</td>\n",
       "      <td>0</td>\n",
       "      <td>D'aww! He matches this background colour I'm s...</td>\n",
       "    </tr>\n",
       "    <tr>\n",
       "      <th>2</th>\n",
       "      <td>2</td>\n",
       "      <td>Hey man, I'm really not trying to edit war. It...</td>\n",
       "      <td>0</td>\n",
       "      <td>Hey man, I'm really not trying to edit war. It...</td>\n",
       "    </tr>\n",
       "    <tr>\n",
       "      <th>3</th>\n",
       "      <td>3</td>\n",
       "      <td>\"\\nMore\\nI can't make any real suggestions on ...</td>\n",
       "      <td>0</td>\n",
       "      <td>\"\\nMore\\nI can't make any real suggestions on ...</td>\n",
       "    </tr>\n",
       "    <tr>\n",
       "      <th>4</th>\n",
       "      <td>4</td>\n",
       "      <td>You, sir, are my hero. Any chance you remember...</td>\n",
       "      <td>0</td>\n",
       "      <td>You, sir, are my hero. Any chance you remember...</td>\n",
       "    </tr>\n",
       "  </tbody>\n",
       "</table>\n",
       "</div>"
      ],
      "text/plain": [
       "   Unnamed: 0                                               text  toxic  \\\n",
       "0           0  Explanation\\nWhy the edits made under my usern...      0   \n",
       "1           1  D'aww! He matches this background colour I'm s...      0   \n",
       "2           2  Hey man, I'm really not trying to edit war. It...      0   \n",
       "3           3  \"\\nMore\\nI can't make any real suggestions on ...      0   \n",
       "4           4  You, sir, are my hero. Any chance you remember...      0   \n",
       "\n",
       "                                              lemmas  \n",
       "0  Explanation\\nWhy the edits made under my usern...  \n",
       "1  D'aww! He matches this background colour I'm s...  \n",
       "2  Hey man, I'm really not trying to edit war. It...  \n",
       "3  \"\\nMore\\nI can't make any real suggestions on ...  \n",
       "4  You, sir, are my hero. Any chance you remember...  "
      ]
     },
     "execution_count": 10,
     "metadata": {},
     "output_type": "execute_result"
    }
   ],
   "source": [
    "df.head()"
   ]
  },
  {
   "cell_type": "markdown",
   "metadata": {},
   "source": [
    "#### Регулярные выражения"
   ]
  },
  {
   "cell_type": "markdown",
   "metadata": {},
   "source": [
    "Уберем лишние символы и приведем текст в нижний регистр:"
   ]
  },
  {
   "cell_type": "code",
   "execution_count": 14,
   "metadata": {},
   "outputs": [],
   "source": [
    "def remove_punctuation(text): \n",
    "    substitute = re.sub(r'[^a-zA-Z ]', ' ', text) \n",
    "    text = substitute.split() \n",
    "    # удаляем слова из одной буквы\n",
    "    text = [t for t in text if len(t) > 1]\n",
    "    return \" \".join(text) "
   ]
  },
  {
   "cell_type": "code",
   "execution_count": 15,
   "metadata": {},
   "outputs": [
    {
     "data": {
      "text/html": [
       "<div>\n",
       "<style scoped>\n",
       "    .dataframe tbody tr th:only-of-type {\n",
       "        vertical-align: middle;\n",
       "    }\n",
       "\n",
       "    .dataframe tbody tr th {\n",
       "        vertical-align: top;\n",
       "    }\n",
       "\n",
       "    .dataframe thead th {\n",
       "        text-align: right;\n",
       "    }\n",
       "</style>\n",
       "<table border=\"1\" class=\"dataframe\">\n",
       "  <thead>\n",
       "    <tr style=\"text-align: right;\">\n",
       "      <th></th>\n",
       "      <th>Unnamed: 0</th>\n",
       "      <th>text</th>\n",
       "      <th>toxic</th>\n",
       "      <th>lemmas</th>\n",
       "      <th>punctuation_free</th>\n",
       "    </tr>\n",
       "  </thead>\n",
       "  <tbody>\n",
       "    <tr>\n",
       "      <th>0</th>\n",
       "      <td>0</td>\n",
       "      <td>Explanation\\nWhy the edits made under my usern...</td>\n",
       "      <td>0</td>\n",
       "      <td>Explanation\\nWhy the edits made under my usern...</td>\n",
       "      <td>explanation why the edits made under my userna...</td>\n",
       "    </tr>\n",
       "    <tr>\n",
       "      <th>1</th>\n",
       "      <td>1</td>\n",
       "      <td>D'aww! He matches this background colour I'm s...</td>\n",
       "      <td>0</td>\n",
       "      <td>D'aww! He matches this background colour I'm s...</td>\n",
       "      <td>aww he matches this background colour seemingl...</td>\n",
       "    </tr>\n",
       "    <tr>\n",
       "      <th>2</th>\n",
       "      <td>2</td>\n",
       "      <td>Hey man, I'm really not trying to edit war. It...</td>\n",
       "      <td>0</td>\n",
       "      <td>Hey man, I'm really not trying to edit war. It...</td>\n",
       "      <td>hey man really not trying to edit war it just ...</td>\n",
       "    </tr>\n",
       "    <tr>\n",
       "      <th>3</th>\n",
       "      <td>3</td>\n",
       "      <td>\"\\nMore\\nI can't make any real suggestions on ...</td>\n",
       "      <td>0</td>\n",
       "      <td>\"\\nMore\\nI can't make any real suggestions on ...</td>\n",
       "      <td>more can make any real suggestions on improvem...</td>\n",
       "    </tr>\n",
       "    <tr>\n",
       "      <th>4</th>\n",
       "      <td>4</td>\n",
       "      <td>You, sir, are my hero. Any chance you remember...</td>\n",
       "      <td>0</td>\n",
       "      <td>You, sir, are my hero. Any chance you remember...</td>\n",
       "      <td>you sir are my hero any chance you remember wh...</td>\n",
       "    </tr>\n",
       "    <tr>\n",
       "      <th>5</th>\n",
       "      <td>5</td>\n",
       "      <td>\"\\n\\nCongratulations from me as well, use the ...</td>\n",
       "      <td>0</td>\n",
       "      <td>\"\\n\\nCongratulations from me as well, use the ...</td>\n",
       "      <td>congratulations from me as well use the tools ...</td>\n",
       "    </tr>\n",
       "    <tr>\n",
       "      <th>6</th>\n",
       "      <td>6</td>\n",
       "      <td>COCKSUCKER BEFORE YOU PISS AROUND ON MY WORK</td>\n",
       "      <td>1</td>\n",
       "      <td>COCKSUCKER BEFORE YOU PISS AROUND ON MY WORK</td>\n",
       "      <td>cocksucker before you piss around on my work</td>\n",
       "    </tr>\n",
       "    <tr>\n",
       "      <th>7</th>\n",
       "      <td>7</td>\n",
       "      <td>Your vandalism to the Matt Shirvington article...</td>\n",
       "      <td>0</td>\n",
       "      <td>Your vandalism to the Matt Shirvington article...</td>\n",
       "      <td>your vandalism to the matt shirvington article...</td>\n",
       "    </tr>\n",
       "    <tr>\n",
       "      <th>8</th>\n",
       "      <td>8</td>\n",
       "      <td>Sorry if the word 'nonsense' was offensive to ...</td>\n",
       "      <td>0</td>\n",
       "      <td>Sorry if the word 'nonsense' was offensive to ...</td>\n",
       "      <td>sorry if the word nonsense was offensive to yo...</td>\n",
       "    </tr>\n",
       "    <tr>\n",
       "      <th>9</th>\n",
       "      <td>9</td>\n",
       "      <td>alignment on this subject and which are contra...</td>\n",
       "      <td>0</td>\n",
       "      <td>alignment on this subject and which are contra...</td>\n",
       "      <td>alignment on this subject and which are contra...</td>\n",
       "    </tr>\n",
       "  </tbody>\n",
       "</table>\n",
       "</div>"
      ],
      "text/plain": [
       "   Unnamed: 0                                               text  toxic  \\\n",
       "0           0  Explanation\\nWhy the edits made under my usern...      0   \n",
       "1           1  D'aww! He matches this background colour I'm s...      0   \n",
       "2           2  Hey man, I'm really not trying to edit war. It...      0   \n",
       "3           3  \"\\nMore\\nI can't make any real suggestions on ...      0   \n",
       "4           4  You, sir, are my hero. Any chance you remember...      0   \n",
       "5           5  \"\\n\\nCongratulations from me as well, use the ...      0   \n",
       "6           6       COCKSUCKER BEFORE YOU PISS AROUND ON MY WORK      1   \n",
       "7           7  Your vandalism to the Matt Shirvington article...      0   \n",
       "8           8  Sorry if the word 'nonsense' was offensive to ...      0   \n",
       "9           9  alignment on this subject and which are contra...      0   \n",
       "\n",
       "                                              lemmas  \\\n",
       "0  Explanation\\nWhy the edits made under my usern...   \n",
       "1  D'aww! He matches this background colour I'm s...   \n",
       "2  Hey man, I'm really not trying to edit war. It...   \n",
       "3  \"\\nMore\\nI can't make any real suggestions on ...   \n",
       "4  You, sir, are my hero. Any chance you remember...   \n",
       "5  \"\\n\\nCongratulations from me as well, use the ...   \n",
       "6       COCKSUCKER BEFORE YOU PISS AROUND ON MY WORK   \n",
       "7  Your vandalism to the Matt Shirvington article...   \n",
       "8  Sorry if the word 'nonsense' was offensive to ...   \n",
       "9  alignment on this subject and which are contra...   \n",
       "\n",
       "                                    punctuation_free  \n",
       "0  explanation why the edits made under my userna...  \n",
       "1  aww he matches this background colour seemingl...  \n",
       "2  hey man really not trying to edit war it just ...  \n",
       "3  more can make any real suggestions on improvem...  \n",
       "4  you sir are my hero any chance you remember wh...  \n",
       "5  congratulations from me as well use the tools ...  \n",
       "6       cocksucker before you piss around on my work  \n",
       "7  your vandalism to the matt shirvington article...  \n",
       "8  sorry if the word nonsense was offensive to yo...  \n",
       "9  alignment on this subject and which are contra...  "
      ]
     },
     "execution_count": 15,
     "metadata": {},
     "output_type": "execute_result"
    }
   ],
   "source": [
    "df['punctuation_free'] = df['lemmas'].apply(lambda x: remove_punctuation(x.lower()))\n",
    "df.head(10)"
   ]
  },
  {
   "cell_type": "markdown",
   "metadata": {},
   "source": [
    "#### Стоп-слова"
   ]
  },
  {
   "cell_type": "markdown",
   "metadata": {},
   "source": [
    "Удалим стоп-слова:"
   ]
  },
  {
   "cell_type": "code",
   "execution_count": 16,
   "metadata": {},
   "outputs": [],
   "source": [
    "stop_words = set(nltk_stopwords.words('english'))  \n",
    "\n",
    "def remove_stopwords(text):\n",
    "    clean_text = [w for w in text.split() if not w in stop_words]  \n",
    "    return clean_text"
   ]
  },
  {
   "cell_type": "code",
   "execution_count": 17,
   "metadata": {},
   "outputs": [
    {
     "data": {
      "text/html": [
       "<div>\n",
       "<style scoped>\n",
       "    .dataframe tbody tr th:only-of-type {\n",
       "        vertical-align: middle;\n",
       "    }\n",
       "\n",
       "    .dataframe tbody tr th {\n",
       "        vertical-align: top;\n",
       "    }\n",
       "\n",
       "    .dataframe thead th {\n",
       "        text-align: right;\n",
       "    }\n",
       "</style>\n",
       "<table border=\"1\" class=\"dataframe\">\n",
       "  <thead>\n",
       "    <tr style=\"text-align: right;\">\n",
       "      <th></th>\n",
       "      <th>Unnamed: 0</th>\n",
       "      <th>text</th>\n",
       "      <th>toxic</th>\n",
       "      <th>lemmas</th>\n",
       "      <th>punctuation_free</th>\n",
       "      <th>stopwords_free</th>\n",
       "    </tr>\n",
       "  </thead>\n",
       "  <tbody>\n",
       "    <tr>\n",
       "      <th>0</th>\n",
       "      <td>0</td>\n",
       "      <td>Explanation\\nWhy the edits made under my usern...</td>\n",
       "      <td>0</td>\n",
       "      <td>Explanation\\nWhy the edits made under my usern...</td>\n",
       "      <td>explanation why the edits made under my userna...</td>\n",
       "      <td>[explanation, edits, made, username, hardcore,...</td>\n",
       "    </tr>\n",
       "    <tr>\n",
       "      <th>1</th>\n",
       "      <td>1</td>\n",
       "      <td>D'aww! He matches this background colour I'm s...</td>\n",
       "      <td>0</td>\n",
       "      <td>D'aww! He matches this background colour I'm s...</td>\n",
       "      <td>aww he matches this background colour seemingl...</td>\n",
       "      <td>[aww, matches, background, colour, seemingly, ...</td>\n",
       "    </tr>\n",
       "    <tr>\n",
       "      <th>2</th>\n",
       "      <td>2</td>\n",
       "      <td>Hey man, I'm really not trying to edit war. It...</td>\n",
       "      <td>0</td>\n",
       "      <td>Hey man, I'm really not trying to edit war. It...</td>\n",
       "      <td>hey man really not trying to edit war it just ...</td>\n",
       "      <td>[hey, man, really, trying, edit, war, guy, con...</td>\n",
       "    </tr>\n",
       "    <tr>\n",
       "      <th>3</th>\n",
       "      <td>3</td>\n",
       "      <td>\"\\nMore\\nI can't make any real suggestions on ...</td>\n",
       "      <td>0</td>\n",
       "      <td>\"\\nMore\\nI can't make any real suggestions on ...</td>\n",
       "      <td>more can make any real suggestions on improvem...</td>\n",
       "      <td>[make, real, suggestions, improvement, wondere...</td>\n",
       "    </tr>\n",
       "    <tr>\n",
       "      <th>4</th>\n",
       "      <td>4</td>\n",
       "      <td>You, sir, are my hero. Any chance you remember...</td>\n",
       "      <td>0</td>\n",
       "      <td>You, sir, are my hero. Any chance you remember...</td>\n",
       "      <td>you sir are my hero any chance you remember wh...</td>\n",
       "      <td>[sir, hero, chance, remember, page]</td>\n",
       "    </tr>\n",
       "  </tbody>\n",
       "</table>\n",
       "</div>"
      ],
      "text/plain": [
       "   Unnamed: 0                                               text  toxic  \\\n",
       "0           0  Explanation\\nWhy the edits made under my usern...      0   \n",
       "1           1  D'aww! He matches this background colour I'm s...      0   \n",
       "2           2  Hey man, I'm really not trying to edit war. It...      0   \n",
       "3           3  \"\\nMore\\nI can't make any real suggestions on ...      0   \n",
       "4           4  You, sir, are my hero. Any chance you remember...      0   \n",
       "\n",
       "                                              lemmas  \\\n",
       "0  Explanation\\nWhy the edits made under my usern...   \n",
       "1  D'aww! He matches this background colour I'm s...   \n",
       "2  Hey man, I'm really not trying to edit war. It...   \n",
       "3  \"\\nMore\\nI can't make any real suggestions on ...   \n",
       "4  You, sir, are my hero. Any chance you remember...   \n",
       "\n",
       "                                    punctuation_free  \\\n",
       "0  explanation why the edits made under my userna...   \n",
       "1  aww he matches this background colour seemingl...   \n",
       "2  hey man really not trying to edit war it just ...   \n",
       "3  more can make any real suggestions on improvem...   \n",
       "4  you sir are my hero any chance you remember wh...   \n",
       "\n",
       "                                      stopwords_free  \n",
       "0  [explanation, edits, made, username, hardcore,...  \n",
       "1  [aww, matches, background, colour, seemingly, ...  \n",
       "2  [hey, man, really, trying, edit, war, guy, con...  \n",
       "3  [make, real, suggestions, improvement, wondere...  \n",
       "4                [sir, hero, chance, remember, page]  "
      ]
     },
     "execution_count": 17,
     "metadata": {},
     "output_type": "execute_result"
    }
   ],
   "source": [
    "df['stopwords_free'] = df['punctuation_free'].apply(lambda x: remove_stopwords(x))\n",
    "df.head()"
   ]
  },
  {
   "cell_type": "markdown",
   "metadata": {},
   "source": [
    "Оставим только обработанную колонку и колонку 'toxic':"
   ]
  },
  {
   "cell_type": "code",
   "execution_count": 18,
   "metadata": {},
   "outputs": [
    {
     "data": {
      "text/html": [
       "<div>\n",
       "<style scoped>\n",
       "    .dataframe tbody tr th:only-of-type {\n",
       "        vertical-align: middle;\n",
       "    }\n",
       "\n",
       "    .dataframe tbody tr th {\n",
       "        vertical-align: top;\n",
       "    }\n",
       "\n",
       "    .dataframe thead th {\n",
       "        text-align: right;\n",
       "    }\n",
       "</style>\n",
       "<table border=\"1\" class=\"dataframe\">\n",
       "  <thead>\n",
       "    <tr style=\"text-align: right;\">\n",
       "      <th></th>\n",
       "      <th>stopwords_free</th>\n",
       "      <th>toxic</th>\n",
       "    </tr>\n",
       "  </thead>\n",
       "  <tbody>\n",
       "    <tr>\n",
       "      <th>0</th>\n",
       "      <td>[explanation, edits, made, username, hardcore,...</td>\n",
       "      <td>0</td>\n",
       "    </tr>\n",
       "    <tr>\n",
       "      <th>1</th>\n",
       "      <td>[aww, matches, background, colour, seemingly, ...</td>\n",
       "      <td>0</td>\n",
       "    </tr>\n",
       "    <tr>\n",
       "      <th>2</th>\n",
       "      <td>[hey, man, really, trying, edit, war, guy, con...</td>\n",
       "      <td>0</td>\n",
       "    </tr>\n",
       "    <tr>\n",
       "      <th>3</th>\n",
       "      <td>[make, real, suggestions, improvement, wondere...</td>\n",
       "      <td>0</td>\n",
       "    </tr>\n",
       "    <tr>\n",
       "      <th>4</th>\n",
       "      <td>[sir, hero, chance, remember, page]</td>\n",
       "      <td>0</td>\n",
       "    </tr>\n",
       "  </tbody>\n",
       "</table>\n",
       "</div>"
      ],
      "text/plain": [
       "                                      stopwords_free  toxic\n",
       "0  [explanation, edits, made, username, hardcore,...      0\n",
       "1  [aww, matches, background, colour, seemingly, ...      0\n",
       "2  [hey, man, really, trying, edit, war, guy, con...      0\n",
       "3  [make, real, suggestions, improvement, wondere...      0\n",
       "4                [sir, hero, chance, remember, page]      0"
      ]
     },
     "execution_count": 18,
     "metadata": {},
     "output_type": "execute_result"
    }
   ],
   "source": [
    "df = df[['stopwords_free', 'toxic']]\n",
    "df.head()"
   ]
  },
  {
   "cell_type": "markdown",
   "metadata": {},
   "source": [
    "#### Очищенный набор данных для обучения моделей"
   ]
  },
  {
   "cell_type": "markdown",
   "metadata": {},
   "source": [
    "Подготовим очищенный набор данных для обучения моделей:"
   ]
  },
  {
   "cell_type": "markdown",
   "metadata": {},
   "source": [
    "- выделим целевой признак toxic и признаки"
   ]
  },
  {
   "cell_type": "code",
   "execution_count": 19,
   "metadata": {},
   "outputs": [
    {
     "name": "stdout",
     "output_type": "stream",
     "text": [
      "Целевой признак: (159292,)\n",
      "Признаки: (159292, 1)\n"
     ]
    }
   ],
   "source": [
    "target = df['toxic']\n",
    "features = df.drop('toxic', axis = 1)\n",
    "\n",
    "print('Целевой признак:', target.shape)\n",
    "print('Признаки:', features.shape)"
   ]
  },
  {
   "cell_type": "markdown",
   "metadata": {},
   "source": [
    "- разделим датафрейм на обучающую и тестовую выборки в соотношении 80:20"
   ]
  },
  {
   "cell_type": "code",
   "execution_count": 20,
   "metadata": {},
   "outputs": [],
   "source": [
    "features_train, features_test, target_train, target_test = train_test_split(features, \n",
    "                                                                            target, \n",
    "                                                                            train_size=0.80, \n",
    "                                                                            test_size=0.20, \n",
    "                                                                            random_state=123)"
   ]
  },
  {
   "cell_type": "code",
   "execution_count": 21,
   "metadata": {},
   "outputs": [
    {
     "name": "stdout",
     "output_type": "stream",
     "text": [
      "Размер обучающей выборки (127433, 1)\n",
      "Размер тестовой выборки (31859, 1)\n"
     ]
    }
   ],
   "source": [
    "print('Размер обучающей выборки', features_train.shape )\n",
    "print('Размер тестовой выборки', features_test.shape)"
   ]
  },
  {
   "cell_type": "markdown",
   "metadata": {},
   "source": [
    "- созадим корпус текстов"
   ]
  },
  {
   "cell_type": "code",
   "execution_count": 22,
   "metadata": {},
   "outputs": [
    {
     "data": {
      "text/plain": [
       "[\"['racist', 'well', 'schwarzenegger', 'never', 'made', 'good', 'movie']\",\n",
       " \"['let', 'clear', 'mr', 'nice', 'guy', 'fellow', 'ideological', 'partisan', 'often', 'coordinate', 'edits', 'reverts', 'reverted', 'restored', 'reverted', 'far', 'backing', 'ideological', 'comrade', 'talk', 'page', 'stand', 'ready', 'support', 'masters', 'gaming', 'whole', 'website', 'play', 'propaganda', 'game', 'good', 'faith', 'grown', 'man', 'observed', 'behavior', 'long', 'enough', 'assumptions', 'good', 'faith', 'get', 'replaced', 'reasoned', 'informed', 'opinion']\",\n",
       " \"['ok', 'one', 'edited', 'talk', 'page', 'years', 'going', 'change']\"]"
      ]
     },
     "execution_count": 22,
     "metadata": {},
     "output_type": "execute_result"
    }
   ],
   "source": [
    "corpus_train = features_train['stopwords_free']\n",
    "corpus_train = [str (item) for item in corpus_train]\n",
    "corpus_test = features_test['stopwords_free']\n",
    "corpus_test = [str (item) for item in corpus_test]\n",
    "corpus_test[:3]"
   ]
  },
  {
   "cell_type": "markdown",
   "metadata": {},
   "source": [
    "- вычислим TF-IDF для корпуса текстов"
   ]
  },
  {
   "cell_type": "code",
   "execution_count": 23,
   "metadata": {},
   "outputs": [],
   "source": [
    "# создание признака tf-idfs (оценка важности слова в тексте)\n",
    "count_tf_idf = TfidfVectorizer(stop_words=stop_words)"
   ]
  },
  {
   "cell_type": "code",
   "execution_count": 24,
   "metadata": {},
   "outputs": [],
   "source": [
    "tf_idf = count_tf_idf.fit(corpus_train)\n",
    "train_X = tf_idf.transform(corpus_train)\n",
    "test_X = tf_idf.transform(corpus_test)"
   ]
  },
  {
   "cell_type": "markdown",
   "metadata": {},
   "source": [
    "Данные подготовили, переходим к обучению"
   ]
  },
  {
   "cell_type": "markdown",
   "metadata": {},
   "source": [
    "## Обучение"
   ]
  },
  {
   "cell_type": "markdown",
   "metadata": {},
   "source": [
    "Обучим следующие модели:  \n",
    "- LogisticRegression\n",
    "- RandomForestClassifier\n",
    "- DecisionTreeClassifier"
   ]
  },
  {
   "cell_type": "code",
   "execution_count": 25,
   "metadata": {},
   "outputs": [],
   "source": [
    "train_models = []"
   ]
  },
  {
   "cell_type": "markdown",
   "metadata": {},
   "source": [
    "### LogisticRegression"
   ]
  },
  {
   "cell_type": "code",
   "execution_count": 29,
   "metadata": {},
   "outputs": [
    {
     "name": "stdout",
     "output_type": "stream",
     "text": [
      "Лучшие параметры: {'C': 10}\n",
      "Accuracy logisticRegression: 0.7661793275828204\n",
      "CPU times: user 1min 56s, sys: 1min 55s, total: 3min 52s\n",
      "Wall time: 3min 52s\n"
     ]
    }
   ],
   "source": [
    "%%time\n",
    "# зададим алгоритм для модели \n",
    "lr = LogisticRegression(random_state=123, class_weight='balanced', solver='liblinear') \n",
    "\n",
    "# определим словарь с набором параметров\n",
    "lr_parametrs = {'C': [0.1, 1, 10]}\n",
    "\n",
    "# применим GridSearchCV с кросс-валидацией\n",
    "lr_grid = GridSearchCV(estimator=lr, param_grid=lr_parametrs, scoring='f1', cv=5)\n",
    "lr_grid.fit(train_X, target_train)\n",
    "\n",
    "print('Лучшие параметры: '+str(lr_grid.best_params_))\n",
    "print('Accuracy logisticRegression: '+str(lr_grid.best_score_))"
   ]
  },
  {
   "cell_type": "code",
   "execution_count": 30,
   "metadata": {},
   "outputs": [],
   "source": [
    "train_models.append([lr_grid, lr_grid.best_score_])"
   ]
  },
  {
   "cell_type": "markdown",
   "metadata": {},
   "source": [
    "### RandomForestClassifier"
   ]
  },
  {
   "cell_type": "code",
   "execution_count": 31,
   "metadata": {},
   "outputs": [
    {
     "name": "stdout",
     "output_type": "stream",
     "text": [
      "Лучшие параметры: {'max_depth': 6, 'min_samples_leaf': 3, 'min_samples_split': 2, 'n_estimators': 30}\n",
      "Accuracy RandomForestClassifier: 0.33021653413196606\n",
      "CPU times: user 7min 24s, sys: 3.7 s, total: 7min 27s\n",
      "Wall time: 7min 29s\n"
     ]
    }
   ],
   "source": [
    "%%time\n",
    "# зададим алгоритм для модели, укажем параметр class_weight = 'balanced'\n",
    "rf = RandomForestClassifier(class_weight='balanced', n_jobs=-1)\n",
    "\n",
    "# определим словарь с набором параметров\n",
    "rf_parametrs = {'n_estimators': range(20, 40, 5),\n",
    "                'max_depth': range(4, 8, 2),\n",
    "                'min_samples_leaf': range(3,5),\n",
    "                'min_samples_split': range(2,6,2)}\n",
    "\n",
    "# применяем GridSearchCV с кросс-валидацией\n",
    "rf_grid = GridSearchCV(estimator=rf, param_grid=rf_parametrs, scoring='f1', cv=5)\n",
    "rf_grid.fit(train_X, target_train)\n",
    "\n",
    "print('Лучшие параметры: '+str(rf_grid.best_params_))\n",
    "print('Accuracy RandomForestClassifier: '+str(rf_grid.best_score_))"
   ]
  },
  {
   "cell_type": "code",
   "execution_count": 32,
   "metadata": {},
   "outputs": [],
   "source": [
    "train_models.append([rf_grid, rf_grid.best_score_])"
   ]
  },
  {
   "cell_type": "markdown",
   "metadata": {},
   "source": [
    "### DecisionTreeClassifier"
   ]
  },
  {
   "cell_type": "code",
   "execution_count": 33,
   "metadata": {},
   "outputs": [
    {
     "name": "stdout",
     "output_type": "stream",
     "text": [
      "Лучшие параметры: {'max_depth': 9}\n",
      "Accuracy RandomForestClassifier: 0.5738145994694066\n",
      "CPU times: user 4min 21s, sys: 774 ms, total: 4min 21s\n",
      "Wall time: 4min 23s\n"
     ]
    }
   ],
   "source": [
    "%%time\n",
    "# зададим алгоритм для модели, укажем параметр class_weight = 'balanced'\n",
    "dt = DecisionTreeClassifier(random_state=12345)\n",
    "\n",
    "# определим словарь с набором параметров\n",
    "dt_parameters = {'max_depth':range(1,11,2)}\n",
    "\n",
    "# применяем GridSearchCV с кросс-валидацией\n",
    "dt_grid = GridSearchCV(estimator=dt, param_grid=dt_parameters, scoring = 'f1', cv=5)\n",
    "dt_grid.fit(train_X, target_train)\n",
    "\n",
    "print('Лучшие параметры: '+str(dt_grid.best_params_))\n",
    "print('Accuracy RandomForestClassifier: '+str(dt_grid.best_score_))"
   ]
  },
  {
   "cell_type": "code",
   "execution_count": 34,
   "metadata": {},
   "outputs": [],
   "source": [
    "train_models.append([dt_grid, dt_grid.best_score_])"
   ]
  },
  {
   "cell_type": "markdown",
   "metadata": {},
   "source": [
    "### Результат"
   ]
  },
  {
   "cell_type": "code",
   "execution_count": 35,
   "metadata": {},
   "outputs": [
    {
     "data": {
      "text/html": [
       "<div>\n",
       "<style scoped>\n",
       "    .dataframe tbody tr th:only-of-type {\n",
       "        vertical-align: middle;\n",
       "    }\n",
       "\n",
       "    .dataframe tbody tr th {\n",
       "        vertical-align: top;\n",
       "    }\n",
       "\n",
       "    .dataframe thead th {\n",
       "        text-align: right;\n",
       "    }\n",
       "</style>\n",
       "<table border=\"1\" class=\"dataframe\">\n",
       "  <thead>\n",
       "    <tr style=\"text-align: right;\">\n",
       "      <th></th>\n",
       "      <th>model</th>\n",
       "      <th>f1_train</th>\n",
       "    </tr>\n",
       "  </thead>\n",
       "  <tbody>\n",
       "    <tr>\n",
       "      <th>1</th>\n",
       "      <td>GridSearchCV(cv=5,\\n             estimator=RandomForestClassifier(class_weight='balanced',\\n                                              n_jobs=-1),\\n             param_grid={'max_depth': range(4, 8, 2),\\n                         'min_samples_leaf': range(3, 5),\\n                         'min_samples_split': range(2, 6, 2),\\n                         'n_estimators': range(20, 40, 5)},\\n             scoring='f1')</td>\n",
       "      <td>0.330217</td>\n",
       "    </tr>\n",
       "    <tr>\n",
       "      <th>2</th>\n",
       "      <td>GridSearchCV(cv=5, estimator=DecisionTreeClassifier(random_state=12345),\\n             param_grid={'max_depth': range(1, 11, 2)}, scoring='f1')</td>\n",
       "      <td>0.573815</td>\n",
       "    </tr>\n",
       "    <tr>\n",
       "      <th>0</th>\n",
       "      <td>GridSearchCV(cv=5,\\n             estimator=LogisticRegression(class_weight='balanced',\\n                                          random_state=123,\\n                                          solver='liblinear'),\\n             param_grid={'C': [0.1, 1, 10]}, scoring='f1')</td>\n",
       "      <td>0.766179</td>\n",
       "    </tr>\n",
       "  </tbody>\n",
       "</table>\n",
       "</div>"
      ],
      "text/plain": [
       "                                                                                                                                                                                                                                                                                                                                                                                                                             model  \\\n",
       "1  GridSearchCV(cv=5,\\n             estimator=RandomForestClassifier(class_weight='balanced',\\n                                              n_jobs=-1),\\n             param_grid={'max_depth': range(4, 8, 2),\\n                         'min_samples_leaf': range(3, 5),\\n                         'min_samples_split': range(2, 6, 2),\\n                         'n_estimators': range(20, 40, 5)},\\n             scoring='f1')   \n",
       "2  GridSearchCV(cv=5, estimator=DecisionTreeClassifier(random_state=12345),\\n             param_grid={'max_depth': range(1, 11, 2)}, scoring='f1')                                                                                                                                                                                                                                                                                   \n",
       "0  GridSearchCV(cv=5,\\n             estimator=LogisticRegression(class_weight='balanced',\\n                                          random_state=123,\\n                                          solver='liblinear'),\\n             param_grid={'C': [0.1, 1, 10]}, scoring='f1')                                                                                                                                                   \n",
       "\n",
       "   f1_train  \n",
       "1  0.330217  \n",
       "2  0.573815  \n",
       "0  0.766179  "
      ]
     },
     "metadata": {},
     "output_type": "display_data"
    }
   ],
   "source": [
    "result = pd.DataFrame(train_models, columns=['model', 'f1_train'])\n",
    "pd.options.display.max_colwidth = 0\n",
    "display(result.sort_values(by='f1_train'))"
   ]
  },
  {
   "cell_type": "markdown",
   "metadata": {},
   "source": [
    "Значение метрики f1 выше 0.75 (условие задачи) только у LogisticRegression. Только ее протестируем еа тестовых данных."
   ]
  },
  {
   "cell_type": "markdown",
   "metadata": {},
   "source": [
    "## Тестирование"
   ]
  },
  {
   "cell_type": "code",
   "execution_count": 36,
   "metadata": {},
   "outputs": [
    {
     "data": {
      "text/plain": [
       "0.771"
      ]
     },
     "execution_count": 36,
     "metadata": {},
     "output_type": "execute_result"
    }
   ],
   "source": [
    "predictions = lr_grid.predict(test_X)\n",
    "f1 = round(f1_score(target_test, predictions), 3)\n",
    "f1"
   ]
  },
  {
   "cell_type": "markdown",
   "metadata": {},
   "source": [
    "**Проверим модели на адекватность**"
   ]
  },
  {
   "cell_type": "code",
   "execution_count": 37,
   "metadata": {},
   "outputs": [
    {
     "data": {
      "text/plain": [
       "0.104"
      ]
     },
     "execution_count": 37,
     "metadata": {},
     "output_type": "execute_result"
    }
   ],
   "source": [
    "pred_previous = target_test.shift()\n",
    "pred_previous.iloc[0] = target_train.iloc[-1]\n",
    "\n",
    "f1 = round(f1_score(target_test, pred_previous), 3)\n",
    "f1"
   ]
  },
  {
   "cell_type": "markdown",
   "metadata": {},
   "source": [
    "Зачение f1 у LogisticRegression выше чем 0.104 (тк 0.104 - это ориентир). Проверка на адекватность пройдена у одной модели"
   ]
  },
  {
   "cell_type": "markdown",
   "metadata": {},
   "source": [
    "## Выводы"
   ]
  },
  {
   "cell_type": "markdown",
   "metadata": {},
   "source": [
    "Во время проекта:  \n",
    "1. изучили и подготовили данные:  \n",
    "- посмотрели общую информацию о данных  \n",
    "- убедились, что пропуски отсутствуют  \n",
    "- провели предобработку текста (удалили лишние символы, убрали стоп-слова)  \n",
    "2. обучили следующие модели: LogisticRegression, RandomForestClassifier и DecisionTreeClassifier. Только модель LogisticRegression справилась с поставленной задачей - достичь метрику качества F1 не меньше 0.75."
   ]
  },
  {
   "cell_type": "markdown",
   "metadata": {},
   "source": [
    "**Результат:** как наилучшую модель для классификации комментариев можно рекомендовать модель LogisticRegression с гиперпараметром class_weight = 'balanced', solver='liblinear' и 'C' = 10, которая дает результат F1 = 0.771."
   ]
  }
 ],
 "metadata": {
  "ExecuteTimeLog": [
   {
    "duration": 3309,
    "start_time": "2023-07-04T12:52:06.556Z"
   },
   {
    "duration": 3742,
    "start_time": "2023-07-04T12:52:43.392Z"
   },
   {
    "duration": 941,
    "start_time": "2023-07-04T12:53:04.062Z"
   },
   {
    "duration": 818,
    "start_time": "2023-07-04T12:53:19.638Z"
   },
   {
    "duration": 29,
    "start_time": "2023-07-04T12:53:58.156Z"
   },
   {
    "duration": 163,
    "start_time": "2023-07-04T12:55:17.450Z"
   },
   {
    "duration": 8299,
    "start_time": "2023-07-04T12:55:23.820Z"
   },
   {
    "duration": 6779,
    "start_time": "2023-07-04T12:55:46.839Z"
   },
   {
    "duration": 2937,
    "start_time": "2023-07-04T12:55:53.620Z"
   },
   {
    "duration": 35,
    "start_time": "2023-07-04T12:55:56.559Z"
   },
   {
    "duration": 1783,
    "start_time": "2023-07-04T12:55:56.596Z"
   },
   {
    "duration": 2948,
    "start_time": "2023-07-04T14:38:48.743Z"
   },
   {
    "duration": 3298,
    "start_time": "2023-07-04T14:38:51.693Z"
   },
   {
    "duration": 38,
    "start_time": "2023-07-04T14:38:54.993Z"
   },
   {
    "duration": 1761,
    "start_time": "2023-07-04T14:38:55.033Z"
   },
   {
    "duration": 1299,
    "start_time": "2023-07-05T03:00:22.259Z"
   },
   {
    "duration": 2872,
    "start_time": "2023-07-05T03:00:23.560Z"
   },
   {
    "duration": 28,
    "start_time": "2023-07-05T03:00:26.433Z"
   },
   {
    "duration": 1693,
    "start_time": "2023-07-05T03:00:26.462Z"
   },
   {
    "duration": 51,
    "start_time": "2023-07-06T08:48:53.586Z"
   },
   {
    "duration": 1469,
    "start_time": "2023-07-06T08:48:56.200Z"
   },
   {
    "duration": 3779,
    "start_time": "2023-07-06T08:48:57.671Z"
   },
   {
    "duration": 40,
    "start_time": "2023-07-06T08:50:35.253Z"
   },
   {
    "duration": 882,
    "start_time": "2023-07-06T08:51:15.981Z"
   },
   {
    "duration": 903,
    "start_time": "2023-07-06T08:51:27.426Z"
   },
   {
    "duration": 57,
    "start_time": "2023-07-06T09:09:23.382Z"
   },
   {
    "duration": 84,
    "start_time": "2023-07-06T09:09:39.701Z"
   },
   {
    "duration": 15,
    "start_time": "2023-07-06T09:10:04.317Z"
   },
   {
    "duration": 93,
    "start_time": "2023-07-06T09:10:17.581Z"
   },
   {
    "duration": 13,
    "start_time": "2023-07-06T09:11:42.638Z"
   },
   {
    "duration": 551,
    "start_time": "2023-07-06T09:11:59.484Z"
   },
   {
    "duration": 187,
    "start_time": "2023-07-06T09:12:04.602Z"
   },
   {
    "duration": 144,
    "start_time": "2023-07-06T09:12:14.488Z"
   },
   {
    "duration": 14,
    "start_time": "2023-07-06T09:12:25.814Z"
   },
   {
    "duration": 23,
    "start_time": "2023-07-06T09:12:55.782Z"
   },
   {
    "duration": 19,
    "start_time": "2023-07-06T09:13:12.365Z"
   },
   {
    "duration": 19,
    "start_time": "2023-07-06T09:13:30.502Z"
   },
   {
    "duration": 29,
    "start_time": "2023-07-06T09:15:29.695Z"
   },
   {
    "duration": 2243,
    "start_time": "2023-07-06T09:18:05.112Z"
   },
   {
    "duration": 1750,
    "start_time": "2023-07-06T09:26:38.809Z"
   },
   {
    "duration": 3401,
    "start_time": "2023-07-06T09:26:40.561Z"
   },
   {
    "duration": 42,
    "start_time": "2023-07-06T09:26:43.964Z"
   },
   {
    "duration": 25,
    "start_time": "2023-07-06T09:26:44.009Z"
   },
   {
    "duration": 287,
    "start_time": "2023-07-06T09:26:44.037Z"
   },
   {
    "duration": 2017,
    "start_time": "2023-07-06T09:26:44.326Z"
   },
   {
    "duration": 168,
    "start_time": "2023-07-06T09:29:33.995Z"
   },
   {
    "duration": 4,
    "start_time": "2023-07-06T09:30:34.166Z"
   },
   {
    "duration": 1701,
    "start_time": "2023-07-06T09:30:39.394Z"
   },
   {
    "duration": 828,
    "start_time": "2023-07-06T09:30:41.097Z"
   },
   {
    "duration": 49,
    "start_time": "2023-07-06T09:30:41.927Z"
   },
   {
    "duration": 43,
    "start_time": "2023-07-06T09:30:41.978Z"
   },
   {
    "duration": 346,
    "start_time": "2023-07-06T09:30:42.023Z"
   },
   {
    "duration": 2059,
    "start_time": "2023-07-06T09:30:42.371Z"
   },
   {
    "duration": 13,
    "start_time": "2023-07-06T09:30:44.432Z"
   },
   {
    "duration": 5,
    "start_time": "2023-07-06T09:32:11.515Z"
   },
   {
    "duration": 133,
    "start_time": "2023-07-06T09:32:28.023Z"
   },
   {
    "duration": 108,
    "start_time": "2023-07-06T09:35:23.767Z"
   },
   {
    "duration": 20,
    "start_time": "2023-07-06T09:35:29.612Z"
   },
   {
    "duration": 6,
    "start_time": "2023-07-06T09:35:32.989Z"
   },
   {
    "duration": 5,
    "start_time": "2023-07-06T09:37:18.993Z"
   },
   {
    "duration": 3,
    "start_time": "2023-07-06T09:37:44.743Z"
   },
   {
    "duration": 3,
    "start_time": "2023-07-06T09:37:47.662Z"
   },
   {
    "duration": 5629,
    "start_time": "2023-07-06T09:39:16.618Z"
   },
   {
    "duration": 3585,
    "start_time": "2023-07-06T09:39:22.250Z"
   },
   {
    "duration": 35,
    "start_time": "2023-07-06T09:39:25.837Z"
   },
   {
    "duration": 23,
    "start_time": "2023-07-06T09:39:25.875Z"
   },
   {
    "duration": 311,
    "start_time": "2023-07-06T09:39:25.900Z"
   },
   {
    "duration": 4041,
    "start_time": "2023-07-06T09:39:26.213Z"
   },
   {
    "duration": 66,
    "start_time": "2023-07-06T09:39:30.256Z"
   },
   {
    "duration": 28,
    "start_time": "2023-07-06T09:39:30.326Z"
   },
   {
    "duration": 17355,
    "start_time": "2023-07-06T09:39:30.357Z"
   },
   {
    "duration": 4136,
    "start_time": "2023-07-06T09:45:28.849Z"
   },
   {
    "duration": 3655,
    "start_time": "2023-07-06T09:45:32.988Z"
   },
   {
    "duration": 37,
    "start_time": "2023-07-06T09:45:36.645Z"
   },
   {
    "duration": 27,
    "start_time": "2023-07-06T09:45:36.685Z"
   },
   {
    "duration": 256,
    "start_time": "2023-07-06T09:45:36.714Z"
   },
   {
    "duration": 2083,
    "start_time": "2023-07-06T09:45:36.972Z"
   },
   {
    "duration": 4,
    "start_time": "2023-07-06T09:45:39.067Z"
   },
   {
    "duration": 5,
    "start_time": "2023-07-06T09:45:39.073Z"
   },
   {
    "duration": 15992,
    "start_time": "2023-07-06T09:45:39.081Z"
   },
   {
    "duration": 55,
    "start_time": "2023-07-06T09:47:05.290Z"
   },
   {
    "duration": 3105,
    "start_time": "2023-07-06T09:47:16.658Z"
   },
   {
    "duration": 1808,
    "start_time": "2023-07-06T09:47:30.428Z"
   },
   {
    "duration": 3818,
    "start_time": "2023-07-06T09:47:32.238Z"
   },
   {
    "duration": 42,
    "start_time": "2023-07-06T09:47:36.058Z"
   },
   {
    "duration": 18,
    "start_time": "2023-07-06T09:47:36.102Z"
   },
   {
    "duration": 271,
    "start_time": "2023-07-06T09:47:36.124Z"
   },
   {
    "duration": 2090,
    "start_time": "2023-07-06T09:47:36.397Z"
   },
   {
    "duration": 8,
    "start_time": "2023-07-06T09:47:38.490Z"
   },
   {
    "duration": 12,
    "start_time": "2023-07-06T09:47:38.500Z"
   },
   {
    "duration": 18007,
    "start_time": "2023-07-06T09:47:38.514Z"
   },
   {
    "duration": 6,
    "start_time": "2023-07-06T09:47:56.524Z"
   },
   {
    "duration": 178,
    "start_time": "2023-07-06T09:51:04.051Z"
   },
   {
    "duration": 10,
    "start_time": "2023-07-06T09:52:33.888Z"
   },
   {
    "duration": 4,
    "start_time": "2023-07-06T09:55:40.086Z"
   },
   {
    "duration": 14,
    "start_time": "2023-07-06T09:55:45.096Z"
   },
   {
    "duration": 3,
    "start_time": "2023-07-06T09:55:51.049Z"
   },
   {
    "duration": 12,
    "start_time": "2023-07-06T09:55:51.425Z"
   },
   {
    "duration": 245,
    "start_time": "2023-07-06T10:57:59.740Z"
   },
   {
    "duration": 23,
    "start_time": "2023-07-06T10:58:05.861Z"
   },
   {
    "duration": 5,
    "start_time": "2023-07-06T10:58:10.253Z"
   },
   {
    "duration": 25,
    "start_time": "2023-07-06T10:58:10.859Z"
   },
   {
    "duration": 14321,
    "start_time": "2023-07-06T10:58:20.358Z"
   },
   {
    "duration": 2795,
    "start_time": "2023-07-06T11:05:10.856Z"
   },
   {
    "duration": 4015,
    "start_time": "2023-07-06T11:05:13.654Z"
   },
   {
    "duration": 33,
    "start_time": "2023-07-06T11:05:17.671Z"
   },
   {
    "duration": 38,
    "start_time": "2023-07-06T11:05:17.706Z"
   },
   {
    "duration": 219,
    "start_time": "2023-07-06T11:05:17.746Z"
   },
   {
    "duration": 2085,
    "start_time": "2023-07-06T11:05:17.967Z"
   },
   {
    "duration": 16,
    "start_time": "2023-07-06T11:05:20.055Z"
   },
   {
    "duration": 24,
    "start_time": "2023-07-06T11:05:20.073Z"
   },
   {
    "duration": 16606,
    "start_time": "2023-07-06T11:05:20.099Z"
   },
   {
    "duration": 12,
    "start_time": "2023-07-06T11:05:36.708Z"
   },
   {
    "duration": 11543,
    "start_time": "2023-07-06T11:05:36.722Z"
   },
   {
    "duration": 155,
    "start_time": "2023-07-06T11:06:10.355Z"
   },
   {
    "duration": 5,
    "start_time": "2023-07-06T11:06:16.194Z"
   },
   {
    "duration": 13,
    "start_time": "2023-07-06T11:07:11.556Z"
   },
   {
    "duration": 13,
    "start_time": "2023-07-06T11:08:37.374Z"
   },
   {
    "duration": 33,
    "start_time": "2023-07-06T11:08:56.388Z"
   },
   {
    "duration": 280,
    "start_time": "2023-07-06T11:09:04.758Z"
   },
   {
    "duration": 11,
    "start_time": "2023-07-06T11:09:27.436Z"
   },
   {
    "duration": 84,
    "start_time": "2023-07-06T11:09:59.058Z"
   },
   {
    "duration": 84,
    "start_time": "2023-07-06T11:10:05.985Z"
   },
   {
    "duration": 18,
    "start_time": "2023-07-06T11:10:20.801Z"
   },
   {
    "duration": 2751,
    "start_time": "2023-07-06T11:13:23.716Z"
   },
   {
    "duration": 2295,
    "start_time": "2023-07-06T11:13:26.470Z"
   },
   {
    "duration": 37,
    "start_time": "2023-07-06T11:13:28.767Z"
   },
   {
    "duration": 22,
    "start_time": "2023-07-06T11:13:28.806Z"
   },
   {
    "duration": 242,
    "start_time": "2023-07-06T11:13:28.831Z"
   },
   {
    "duration": 2073,
    "start_time": "2023-07-06T11:13:29.075Z"
   },
   {
    "duration": 316,
    "start_time": "2023-07-06T11:13:31.150Z"
   },
   {
    "duration": 44,
    "start_time": "2023-07-06T11:13:31.468Z"
   },
   {
    "duration": 1881,
    "start_time": "2023-07-06T11:13:45.717Z"
   },
   {
    "duration": 905,
    "start_time": "2023-07-06T11:13:47.602Z"
   },
   {
    "duration": 37,
    "start_time": "2023-07-06T11:13:48.514Z"
   },
   {
    "duration": 16,
    "start_time": "2023-07-06T11:13:48.553Z"
   },
   {
    "duration": 257,
    "start_time": "2023-07-06T11:13:48.572Z"
   },
   {
    "duration": 2030,
    "start_time": "2023-07-06T11:13:48.831Z"
   },
   {
    "duration": 12,
    "start_time": "2023-07-06T11:13:50.863Z"
   },
   {
    "duration": 15,
    "start_time": "2023-07-06T11:13:50.877Z"
   },
   {
    "duration": 150884,
    "start_time": "2023-07-06T11:13:50.895Z"
   },
   {
    "duration": 49,
    "start_time": "2023-07-06T11:16:56.337Z"
   },
   {
    "duration": 11276,
    "start_time": "2023-07-06T11:17:28.434Z"
   },
   {
    "duration": 4,
    "start_time": "2023-07-06T11:18:01.187Z"
   },
   {
    "duration": 4280,
    "start_time": "2023-07-06T11:18:03.965Z"
   },
   {
    "duration": 87383,
    "start_time": "2023-07-06T11:18:39.542Z"
   },
   {
    "duration": 12,
    "start_time": "2023-07-06T11:21:01.901Z"
   },
   {
    "duration": 72,
    "start_time": "2023-07-06T11:21:06.195Z"
   },
   {
    "duration": 3,
    "start_time": "2023-07-06T11:21:58.589Z"
   },
   {
    "duration": 7,
    "start_time": "2023-07-06T11:22:00.340Z"
   },
   {
    "duration": 3111,
    "start_time": "2023-07-06T11:22:14.860Z"
   },
   {
    "duration": 3698,
    "start_time": "2023-07-06T11:22:17.973Z"
   },
   {
    "duration": 35,
    "start_time": "2023-07-06T11:22:21.674Z"
   },
   {
    "duration": 30,
    "start_time": "2023-07-06T11:22:21.711Z"
   },
   {
    "duration": 238,
    "start_time": "2023-07-06T11:22:21.743Z"
   },
   {
    "duration": 1943,
    "start_time": "2023-07-06T11:22:21.983Z"
   },
   {
    "duration": 5,
    "start_time": "2023-07-06T11:22:23.927Z"
   },
   {
    "duration": 16,
    "start_time": "2023-07-06T11:22:23.936Z"
   },
   {
    "duration": 155,
    "start_time": "2023-07-06T11:22:23.955Z"
   },
   {
    "duration": 8,
    "start_time": "2023-07-06T11:24:01.137Z"
   },
   {
    "duration": 9,
    "start_time": "2023-07-06T11:24:40.397Z"
   },
   {
    "duration": 0,
    "start_time": "2023-07-06T11:27:24.705Z"
   },
   {
    "duration": 0,
    "start_time": "2023-07-06T11:27:24.706Z"
   },
   {
    "duration": 0,
    "start_time": "2023-07-06T11:27:24.707Z"
   },
   {
    "duration": 0,
    "start_time": "2023-07-06T11:27:24.708Z"
   },
   {
    "duration": 0,
    "start_time": "2023-07-06T11:27:24.709Z"
   },
   {
    "duration": 0,
    "start_time": "2023-07-06T11:27:24.710Z"
   },
   {
    "duration": 0,
    "start_time": "2023-07-06T11:27:24.711Z"
   },
   {
    "duration": 0,
    "start_time": "2023-07-06T11:27:24.713Z"
   },
   {
    "duration": 0,
    "start_time": "2023-07-06T11:27:24.716Z"
   },
   {
    "duration": 0,
    "start_time": "2023-07-06T11:27:24.717Z"
   },
   {
    "duration": 0,
    "start_time": "2023-07-06T11:27:24.718Z"
   },
   {
    "duration": 0,
    "start_time": "2023-07-06T11:27:24.719Z"
   },
   {
    "duration": 0,
    "start_time": "2023-07-06T11:27:24.720Z"
   },
   {
    "duration": 0,
    "start_time": "2023-07-06T11:27:24.721Z"
   },
   {
    "duration": 0,
    "start_time": "2023-07-06T11:27:24.722Z"
   },
   {
    "duration": 0,
    "start_time": "2023-07-06T11:27:24.723Z"
   },
   {
    "duration": 0,
    "start_time": "2023-07-06T11:27:24.725Z"
   },
   {
    "duration": 0,
    "start_time": "2023-07-06T11:27:24.726Z"
   },
   {
    "duration": 0,
    "start_time": "2023-07-06T11:27:24.727Z"
   },
   {
    "duration": 5,
    "start_time": "2023-07-06T11:27:27.998Z"
   },
   {
    "duration": 775,
    "start_time": "2023-07-06T11:27:28.006Z"
   },
   {
    "duration": 42,
    "start_time": "2023-07-06T11:27:28.783Z"
   },
   {
    "duration": 19,
    "start_time": "2023-07-06T11:27:28.827Z"
   },
   {
    "duration": 143,
    "start_time": "2023-07-06T11:27:28.848Z"
   },
   {
    "duration": 8,
    "start_time": "2023-07-06T11:27:28.992Z"
   },
   {
    "duration": 29,
    "start_time": "2023-07-06T11:27:29.002Z"
   },
   {
    "duration": 4,
    "start_time": "2023-07-06T11:27:29.032Z"
   },
   {
    "duration": 3,
    "start_time": "2023-07-06T11:27:29.038Z"
   },
   {
    "duration": 69111,
    "start_time": "2023-07-06T11:27:29.043Z"
   },
   {
    "duration": 3,
    "start_time": "2023-07-06T11:28:54.103Z"
   },
   {
    "duration": 333,
    "start_time": "2023-07-06T11:28:58.038Z"
   },
   {
    "duration": 3,
    "start_time": "2023-07-06T11:29:08.230Z"
   },
   {
    "duration": 2441,
    "start_time": "2023-07-06T11:29:10.026Z"
   },
   {
    "duration": 2871,
    "start_time": "2023-07-06T11:29:23.528Z"
   },
   {
    "duration": 2468,
    "start_time": "2023-07-06T11:29:44.716Z"
   },
   {
    "duration": 3343,
    "start_time": "2023-07-06T11:29:56.637Z"
   },
   {
    "duration": 1880,
    "start_time": "2023-07-06T11:29:59.982Z"
   },
   {
    "duration": 36,
    "start_time": "2023-07-06T11:30:01.865Z"
   },
   {
    "duration": 71,
    "start_time": "2023-07-06T11:30:01.904Z"
   },
   {
    "duration": 311,
    "start_time": "2023-07-06T11:30:01.976Z"
   },
   {
    "duration": 8,
    "start_time": "2023-07-06T11:30:02.289Z"
   },
   {
    "duration": 34,
    "start_time": "2023-07-06T11:30:02.299Z"
   },
   {
    "duration": 28,
    "start_time": "2023-07-06T11:30:02.335Z"
   },
   {
    "duration": 21,
    "start_time": "2023-07-06T11:30:02.365Z"
   },
   {
    "duration": 2457,
    "start_time": "2023-07-06T11:30:02.388Z"
   },
   {
    "duration": 6774,
    "start_time": "2023-07-06T11:30:50.462Z"
   },
   {
    "duration": 88490,
    "start_time": "2023-07-06T11:31:04.309Z"
   },
   {
    "duration": 13,
    "start_time": "2023-07-06T11:43:25.947Z"
   },
   {
    "duration": 2080,
    "start_time": "2023-07-06T11:43:43.455Z"
   },
   {
    "duration": 76,
    "start_time": "2023-07-06T11:47:32.242Z"
   },
   {
    "duration": 1112,
    "start_time": "2023-07-06T11:48:54.510Z"
   },
   {
    "duration": 21,
    "start_time": "2023-07-06T11:49:38.643Z"
   },
   {
    "duration": 73,
    "start_time": "2023-07-06T11:49:54.547Z"
   },
   {
    "duration": 23,
    "start_time": "2023-07-06T11:50:54.111Z"
   },
   {
    "duration": 1075,
    "start_time": "2023-07-06T11:51:45.038Z"
   },
   {
    "duration": 459,
    "start_time": "2023-07-06T11:51:57.125Z"
   },
   {
    "duration": 179,
    "start_time": "2023-07-06T13:08:59.303Z"
   },
   {
    "duration": 931,
    "start_time": "2023-07-06T13:08:59.485Z"
   },
   {
    "duration": 35,
    "start_time": "2023-07-06T13:09:00.419Z"
   },
   {
    "duration": 179,
    "start_time": "2023-07-06T13:09:00.456Z"
   },
   {
    "duration": 199,
    "start_time": "2023-07-06T13:09:00.637Z"
   },
   {
    "duration": 8,
    "start_time": "2023-07-06T13:09:00.838Z"
   },
   {
    "duration": 157,
    "start_time": "2023-07-06T13:09:00.848Z"
   },
   {
    "duration": 29,
    "start_time": "2023-07-06T13:09:01.008Z"
   },
   {
    "duration": 23,
    "start_time": "2023-07-06T13:09:01.039Z"
   },
   {
    "duration": 2538,
    "start_time": "2023-07-06T13:09:01.064Z"
   },
   {
    "duration": 1335,
    "start_time": "2023-07-06T13:09:03.604Z"
   },
   {
    "duration": 2633,
    "start_time": "2023-07-06T13:09:16.281Z"
   },
   {
    "duration": 94116,
    "start_time": "2023-07-06T13:09:30.236Z"
   },
   {
    "duration": 1960,
    "start_time": "2023-07-06T13:11:41.389Z"
   },
   {
    "duration": 899,
    "start_time": "2023-07-06T13:11:43.351Z"
   },
   {
    "duration": 36,
    "start_time": "2023-07-06T13:11:44.252Z"
   },
   {
    "duration": 44,
    "start_time": "2023-07-06T13:11:44.292Z"
   },
   {
    "duration": 249,
    "start_time": "2023-07-06T13:11:44.339Z"
   },
   {
    "duration": 8,
    "start_time": "2023-07-06T13:11:44.590Z"
   },
   {
    "duration": 32,
    "start_time": "2023-07-06T13:11:44.600Z"
   },
   {
    "duration": 4,
    "start_time": "2023-07-06T13:11:44.634Z"
   },
   {
    "duration": 9,
    "start_time": "2023-07-06T13:11:44.640Z"
   },
   {
    "duration": 67351,
    "start_time": "2023-07-06T13:11:44.652Z"
   },
   {
    "duration": 0,
    "start_time": "2023-07-06T13:12:52.009Z"
   },
   {
    "duration": 0,
    "start_time": "2023-07-06T13:12:52.011Z"
   },
   {
    "duration": 8,
    "start_time": "2023-07-06T13:12:55.463Z"
   },
   {
    "duration": 892,
    "start_time": "2023-07-06T13:12:55.473Z"
   },
   {
    "duration": 52,
    "start_time": "2023-07-06T13:12:56.367Z"
   },
   {
    "duration": 26,
    "start_time": "2023-07-06T13:12:56.430Z"
   },
   {
    "duration": 146,
    "start_time": "2023-07-06T13:12:56.459Z"
   },
   {
    "duration": 20,
    "start_time": "2023-07-06T13:12:56.613Z"
   },
   {
    "duration": 21,
    "start_time": "2023-07-06T13:12:56.638Z"
   },
   {
    "duration": 5,
    "start_time": "2023-07-06T13:12:56.661Z"
   },
   {
    "duration": 43,
    "start_time": "2023-07-06T13:12:56.669Z"
   },
   {
    "duration": 155739,
    "start_time": "2023-07-06T13:12:56.715Z"
   },
   {
    "duration": 5,
    "start_time": "2023-07-06T13:41:28.985Z"
   },
   {
    "duration": 2688,
    "start_time": "2023-07-06T13:41:30.512Z"
   },
   {
    "duration": 4,
    "start_time": "2023-07-06T13:41:39.608Z"
   },
   {
    "duration": 335,
    "start_time": "2023-07-06T13:41:40.195Z"
   },
   {
    "duration": 382,
    "start_time": "2023-07-06T13:42:46.688Z"
   },
   {
    "duration": 8,
    "start_time": "2023-07-06T13:44:30.231Z"
   },
   {
    "duration": 850,
    "start_time": "2023-07-06T13:44:30.242Z"
   },
   {
    "duration": 39,
    "start_time": "2023-07-06T13:44:31.094Z"
   },
   {
    "duration": 36,
    "start_time": "2023-07-06T13:44:31.135Z"
   },
   {
    "duration": 155,
    "start_time": "2023-07-06T13:44:31.173Z"
   },
   {
    "duration": 9,
    "start_time": "2023-07-06T13:44:31.330Z"
   },
   {
    "duration": 25,
    "start_time": "2023-07-06T13:44:31.340Z"
   },
   {
    "duration": 13,
    "start_time": "2023-07-06T13:44:31.366Z"
   },
   {
    "duration": 144868,
    "start_time": "2023-07-06T13:44:31.381Z"
   },
   {
    "duration": 3,
    "start_time": "2023-07-06T13:46:56.251Z"
   },
   {
    "duration": 2445,
    "start_time": "2023-07-06T13:46:56.255Z"
   },
   {
    "duration": 5,
    "start_time": "2023-07-06T13:46:58.702Z"
   },
   {
    "duration": 2818,
    "start_time": "2023-07-06T13:46:58.710Z"
   },
   {
    "duration": 105,
    "start_time": "2023-07-06T13:47:35.538Z"
   },
   {
    "duration": 36,
    "start_time": "2023-07-06T13:47:57.998Z"
   },
   {
    "duration": 11,
    "start_time": "2023-07-06T13:48:16.698Z"
   },
   {
    "duration": 16,
    "start_time": "2023-07-06T13:48:24.054Z"
   },
   {
    "duration": 11,
    "start_time": "2023-07-06T13:48:40.193Z"
   },
   {
    "duration": 6,
    "start_time": "2023-07-06T13:48:41.219Z"
   },
   {
    "duration": 146066,
    "start_time": "2023-07-06T13:48:41.606Z"
   },
   {
    "duration": 3,
    "start_time": "2023-07-06T13:51:07.675Z"
   },
   {
    "duration": 2599,
    "start_time": "2023-07-06T13:51:07.680Z"
   },
   {
    "duration": 4,
    "start_time": "2023-07-06T13:51:10.281Z"
   },
   {
    "duration": 2754,
    "start_time": "2023-07-06T13:51:10.287Z"
   },
   {
    "duration": 94,
    "start_time": "2023-07-06T13:51:13.042Z"
   },
   {
    "duration": 42,
    "start_time": "2023-07-06T13:51:18.102Z"
   },
   {
    "duration": 411,
    "start_time": "2023-07-06T13:51:25.092Z"
   },
   {
    "duration": 547,
    "start_time": "2023-07-06T13:54:31.130Z"
   },
   {
    "duration": 1366,
    "start_time": "2023-07-06T13:57:38.928Z"
   },
   {
    "duration": 18,
    "start_time": "2023-07-06T13:57:44.390Z"
   },
   {
    "duration": 855,
    "start_time": "2023-07-06T13:57:44.410Z"
   },
   {
    "duration": 31,
    "start_time": "2023-07-06T13:57:45.267Z"
   },
   {
    "duration": 26,
    "start_time": "2023-07-06T13:57:45.312Z"
   },
   {
    "duration": 158,
    "start_time": "2023-07-06T13:57:45.341Z"
   },
   {
    "duration": 20,
    "start_time": "2023-07-06T13:57:45.501Z"
   },
   {
    "duration": 10,
    "start_time": "2023-07-06T13:57:45.528Z"
   },
   {
    "duration": 52,
    "start_time": "2023-07-06T13:58:07.635Z"
   },
   {
    "duration": 2962,
    "start_time": "2023-07-06T13:58:17.391Z"
   },
   {
    "duration": 3932,
    "start_time": "2023-07-06T13:58:20.355Z"
   },
   {
    "duration": 53,
    "start_time": "2023-07-06T13:58:24.289Z"
   },
   {
    "duration": 18,
    "start_time": "2023-07-06T13:58:24.344Z"
   },
   {
    "duration": 268,
    "start_time": "2023-07-06T13:58:24.364Z"
   },
   {
    "duration": 11,
    "start_time": "2023-07-06T13:58:24.634Z"
   },
   {
    "duration": 9,
    "start_time": "2023-07-06T13:58:24.648Z"
   },
   {
    "duration": 2039,
    "start_time": "2023-07-06T13:58:24.659Z"
   },
   {
    "duration": 6,
    "start_time": "2023-07-06T13:58:35.699Z"
   },
   {
    "duration": 4,
    "start_time": "2023-07-06T13:58:48.848Z"
   },
   {
    "duration": 149,
    "start_time": "2023-07-06T13:59:03.098Z"
   },
   {
    "duration": 40,
    "start_time": "2023-07-06T13:59:45.069Z"
   },
   {
    "duration": 22,
    "start_time": "2023-07-06T14:25:17.646Z"
   },
   {
    "duration": 4,
    "start_time": "2023-07-06T14:25:29.601Z"
   },
   {
    "duration": 137359,
    "start_time": "2023-07-06T14:25:30.001Z"
   },
   {
    "duration": 3,
    "start_time": "2023-07-06T14:27:47.362Z"
   },
   {
    "duration": 2495,
    "start_time": "2023-07-06T14:27:47.367Z"
   },
   {
    "duration": 7,
    "start_time": "2023-07-06T14:27:49.864Z"
   },
   {
    "duration": 2248,
    "start_time": "2023-07-06T14:27:49.873Z"
   },
   {
    "duration": 98,
    "start_time": "2023-07-06T14:27:52.123Z"
   },
   {
    "duration": 18,
    "start_time": "2023-07-06T14:27:52.222Z"
   },
   {
    "duration": 11,
    "start_time": "2023-07-06T14:29:40.138Z"
   },
   {
    "duration": 5,
    "start_time": "2023-07-06T14:29:47.108Z"
   },
   {
    "duration": 12,
    "start_time": "2023-07-06T14:32:12.201Z"
   },
   {
    "duration": 15,
    "start_time": "2023-07-06T14:35:57.470Z"
   },
   {
    "duration": 9,
    "start_time": "2023-07-06T14:36:15.532Z"
   },
   {
    "duration": 57,
    "start_time": "2023-07-06T14:36:19.202Z"
   },
   {
    "duration": 5,
    "start_time": "2023-07-06T14:37:08.202Z"
   },
   {
    "duration": 902,
    "start_time": "2023-07-06T14:37:54.091Z"
   },
   {
    "duration": 71,
    "start_time": "2023-07-06T14:39:06.776Z"
   },
   {
    "duration": 3190,
    "start_time": "2023-07-06T14:39:17.629Z"
   },
   {
    "duration": 3747,
    "start_time": "2023-07-06T14:39:20.821Z"
   },
   {
    "duration": 42,
    "start_time": "2023-07-06T14:39:24.570Z"
   },
   {
    "duration": 26,
    "start_time": "2023-07-06T14:39:24.621Z"
   },
   {
    "duration": 228,
    "start_time": "2023-07-06T14:39:24.650Z"
   },
   {
    "duration": 8,
    "start_time": "2023-07-06T14:39:24.880Z"
   },
   {
    "duration": 22,
    "start_time": "2023-07-06T14:39:24.891Z"
   },
   {
    "duration": 157385,
    "start_time": "2023-07-06T14:39:24.915Z"
   },
   {
    "duration": 23,
    "start_time": "2023-07-06T14:42:02.303Z"
   },
   {
    "duration": 2502,
    "start_time": "2023-07-06T14:42:02.332Z"
   },
   {
    "duration": 7,
    "start_time": "2023-07-06T14:42:04.836Z"
   },
   {
    "duration": 2424,
    "start_time": "2023-07-06T14:42:04.844Z"
   },
   {
    "duration": 91,
    "start_time": "2023-07-06T14:42:07.270Z"
   },
   {
    "duration": 16,
    "start_time": "2023-07-06T14:42:07.364Z"
   },
   {
    "duration": 56,
    "start_time": "2023-07-06T14:42:07.381Z"
   },
   {
    "duration": 4,
    "start_time": "2023-07-06T14:42:07.439Z"
   },
   {
    "duration": 984,
    "start_time": "2023-07-06T14:42:07.444Z"
   },
   {
    "duration": 5183,
    "start_time": "2023-07-06T14:42:08.430Z"
   },
   {
    "duration": 6301,
    "start_time": "2023-07-06T14:42:13.615Z"
   },
   {
    "duration": 148,
    "start_time": "2023-07-06T14:46:07.010Z"
   },
   {
    "duration": 40,
    "start_time": "2023-07-06T14:47:03.600Z"
   },
   {
    "duration": 49078,
    "start_time": "2023-07-06T14:47:07.534Z"
   },
   {
    "duration": 18,
    "start_time": "2023-07-06T14:54:50.485Z"
   },
   {
    "duration": 11,
    "start_time": "2023-07-06T14:55:59.210Z"
   },
   {
    "duration": 138692,
    "start_time": "2023-07-06T14:56:05.456Z"
   },
   {
    "duration": 235369,
    "start_time": "2023-07-06T14:59:46.809Z"
   },
   {
    "duration": 21,
    "start_time": "2023-07-06T15:04:24.243Z"
   },
   {
    "duration": 119,
    "start_time": "2023-07-06T15:06:56.226Z"
   },
   {
    "duration": 7,
    "start_time": "2023-07-06T15:08:00.191Z"
   },
   {
    "duration": 84809,
    "start_time": "2023-07-06T15:08:05.035Z"
   },
   {
    "duration": 81510,
    "start_time": "2023-07-06T15:09:55.132Z"
   },
   {
    "duration": 113497,
    "start_time": "2023-07-06T15:11:16.644Z"
   },
   {
    "duration": 2,
    "start_time": "2023-07-06T15:13:10.144Z"
   },
   {
    "duration": 28,
    "start_time": "2023-07-06T15:13:10.148Z"
   },
   {
    "duration": 7,
    "start_time": "2023-07-06T15:13:10.178Z"
   },
   {
    "duration": 4,
    "start_time": "2023-07-06T15:16:40.689Z"
   },
   {
    "duration": 83763,
    "start_time": "2023-07-06T15:16:41.786Z"
   },
   {
    "duration": 9,
    "start_time": "2023-07-06T15:18:05.552Z"
   },
   {
    "duration": 134134,
    "start_time": "2023-07-06T15:18:05.563Z"
   },
   {
    "duration": 7,
    "start_time": "2023-07-06T15:20:19.700Z"
   },
   {
    "duration": 20,
    "start_time": "2023-07-06T15:20:19.709Z"
   },
   {
    "duration": 50,
    "start_time": "2023-07-06T15:20:19.731Z"
   },
   {
    "duration": 12,
    "start_time": "2023-07-06T15:25:51.570Z"
   },
   {
    "duration": 3294,
    "start_time": "2023-07-06T15:28:01.645Z"
   },
   {
    "duration": 3818,
    "start_time": "2023-07-06T15:28:04.949Z"
   },
   {
    "duration": 42,
    "start_time": "2023-07-06T15:28:08.769Z"
   },
   {
    "duration": 33,
    "start_time": "2023-07-06T15:28:08.814Z"
   },
   {
    "duration": 200,
    "start_time": "2023-07-06T15:28:08.849Z"
   },
   {
    "duration": 11,
    "start_time": "2023-07-06T15:28:09.051Z"
   },
   {
    "duration": 20,
    "start_time": "2023-07-06T15:28:09.065Z"
   },
   {
    "duration": 161445,
    "start_time": "2023-07-06T15:28:09.087Z"
   },
   {
    "duration": 4,
    "start_time": "2023-07-06T15:30:50.541Z"
   },
   {
    "duration": 3116,
    "start_time": "2023-07-06T15:30:50.548Z"
   },
   {
    "duration": 7,
    "start_time": "2023-07-06T15:30:53.666Z"
   },
   {
    "duration": 2623,
    "start_time": "2023-07-06T15:30:53.675Z"
   },
   {
    "duration": 90,
    "start_time": "2023-07-06T15:30:56.301Z"
   },
   {
    "duration": 37,
    "start_time": "2023-07-06T15:30:56.396Z"
   },
   {
    "duration": 45,
    "start_time": "2023-07-06T15:30:56.436Z"
   },
   {
    "duration": 5,
    "start_time": "2023-07-06T15:30:56.483Z"
   },
   {
    "duration": 1154,
    "start_time": "2023-07-06T15:30:56.491Z"
   },
   {
    "duration": 5898,
    "start_time": "2023-07-06T15:30:57.648Z"
   },
   {
    "duration": 6884,
    "start_time": "2023-07-06T15:31:03.548Z"
   },
   {
    "duration": 3,
    "start_time": "2023-07-06T15:31:10.434Z"
   },
   {
    "duration": 86321,
    "start_time": "2023-07-06T15:31:10.439Z"
   },
   {
    "duration": 4,
    "start_time": "2023-07-06T15:32:36.762Z"
   },
   {
    "duration": 126188,
    "start_time": "2023-07-06T15:32:36.768Z"
   },
   {
    "duration": 4,
    "start_time": "2023-07-06T15:34:42.958Z"
   },
   {
    "duration": 14,
    "start_time": "2023-07-06T15:34:42.964Z"
   },
   {
    "duration": 2867,
    "start_time": "2023-07-06T15:38:26.216Z"
   },
   {
    "duration": 4015,
    "start_time": "2023-07-06T15:38:29.086Z"
   },
   {
    "duration": 45,
    "start_time": "2023-07-06T15:38:33.104Z"
   },
   {
    "duration": 22,
    "start_time": "2023-07-06T15:38:33.152Z"
   },
   {
    "duration": 211,
    "start_time": "2023-07-06T15:38:33.176Z"
   },
   {
    "duration": 10,
    "start_time": "2023-07-06T15:38:33.390Z"
   },
   {
    "duration": 15,
    "start_time": "2023-07-06T15:38:33.402Z"
   },
   {
    "duration": 157365,
    "start_time": "2023-07-06T15:38:33.420Z"
   },
   {
    "duration": 3,
    "start_time": "2023-07-06T15:41:10.787Z"
   },
   {
    "duration": 2433,
    "start_time": "2023-07-06T15:41:10.792Z"
   },
   {
    "duration": 9,
    "start_time": "2023-07-06T15:41:13.231Z"
   },
   {
    "duration": 2367,
    "start_time": "2023-07-06T15:41:13.242Z"
   },
   {
    "duration": 109,
    "start_time": "2023-07-06T15:41:15.620Z"
   },
   {
    "duration": 23,
    "start_time": "2023-07-06T15:41:15.732Z"
   },
   {
    "duration": 54,
    "start_time": "2023-07-06T15:41:15.758Z"
   },
   {
    "duration": 12,
    "start_time": "2023-07-06T15:41:15.815Z"
   },
   {
    "duration": 1007,
    "start_time": "2023-07-06T15:41:15.829Z"
   },
   {
    "duration": 5200,
    "start_time": "2023-07-06T15:41:16.837Z"
   },
   {
    "duration": 6006,
    "start_time": "2023-07-06T15:41:22.041Z"
   },
   {
    "duration": 3,
    "start_time": "2023-07-06T15:41:28.049Z"
   },
   {
    "duration": 85988,
    "start_time": "2023-07-06T15:41:28.054Z"
   },
   {
    "duration": 3,
    "start_time": "2023-07-06T15:42:54.043Z"
   },
   {
    "duration": 117317,
    "start_time": "2023-07-06T15:42:54.048Z"
   },
   {
    "duration": 4,
    "start_time": "2023-07-06T15:44:51.368Z"
   },
   {
    "duration": 171,
    "start_time": "2023-07-06T15:44:51.374Z"
   },
   {
    "duration": 2869,
    "start_time": "2023-07-06T15:50:42.499Z"
   },
   {
    "duration": 3698,
    "start_time": "2023-07-06T15:50:45.371Z"
   },
   {
    "duration": 38,
    "start_time": "2023-07-06T15:50:49.071Z"
   },
   {
    "duration": 32,
    "start_time": "2023-07-06T15:50:49.111Z"
   },
   {
    "duration": 156,
    "start_time": "2023-07-06T15:50:49.145Z"
   },
   {
    "duration": 14,
    "start_time": "2023-07-06T15:50:49.303Z"
   },
   {
    "duration": 18,
    "start_time": "2023-07-06T15:50:49.318Z"
   },
   {
    "duration": 145948,
    "start_time": "2023-07-06T15:50:49.339Z"
   },
   {
    "duration": 3,
    "start_time": "2023-07-06T15:53:15.290Z"
   },
   {
    "duration": 2498,
    "start_time": "2023-07-06T15:53:15.297Z"
   },
   {
    "duration": 8,
    "start_time": "2023-07-06T15:53:17.797Z"
   },
   {
    "duration": 2427,
    "start_time": "2023-07-06T15:53:17.814Z"
   },
   {
    "duration": 97,
    "start_time": "2023-07-06T15:53:20.242Z"
   },
   {
    "duration": 15,
    "start_time": "2023-07-06T15:53:20.341Z"
   },
   {
    "duration": 62,
    "start_time": "2023-07-06T15:53:20.358Z"
   },
   {
    "duration": 10,
    "start_time": "2023-07-06T15:53:20.423Z"
   },
   {
    "duration": 963,
    "start_time": "2023-07-06T15:53:20.435Z"
   },
   {
    "duration": 5242,
    "start_time": "2023-07-06T15:53:21.400Z"
   },
   {
    "duration": 6234,
    "start_time": "2023-07-06T15:53:26.644Z"
   },
   {
    "duration": 3,
    "start_time": "2023-07-06T15:53:32.880Z"
   },
   {
    "duration": 84362,
    "start_time": "2023-07-06T15:53:32.884Z"
   },
   {
    "duration": 3,
    "start_time": "2023-07-06T15:54:57.248Z"
   },
   {
    "duration": 118501,
    "start_time": "2023-07-06T15:54:57.253Z"
   },
   {
    "duration": 3,
    "start_time": "2023-07-06T15:56:55.756Z"
   },
   {
    "duration": 31,
    "start_time": "2023-07-06T15:56:55.762Z"
   },
   {
    "duration": 2675,
    "start_time": "2023-07-06T16:03:41.698Z"
   },
   {
    "duration": 4147,
    "start_time": "2023-07-06T16:03:44.374Z"
   },
   {
    "duration": 36,
    "start_time": "2023-07-06T16:03:48.524Z"
   },
   {
    "duration": 79,
    "start_time": "2023-07-06T16:03:48.562Z"
   },
   {
    "duration": 384,
    "start_time": "2023-07-06T16:03:48.644Z"
   },
   {
    "duration": 12,
    "start_time": "2023-07-06T16:03:49.032Z"
   },
   {
    "duration": 14,
    "start_time": "2023-07-06T16:03:49.046Z"
   },
   {
    "duration": 155217,
    "start_time": "2023-07-06T16:03:49.062Z"
   },
   {
    "duration": 3,
    "start_time": "2023-07-06T16:06:24.281Z"
   },
   {
    "duration": 2520,
    "start_time": "2023-07-06T16:06:24.286Z"
   },
   {
    "duration": 13,
    "start_time": "2023-07-06T16:06:26.808Z"
   },
   {
    "duration": 2467,
    "start_time": "2023-07-06T16:06:26.829Z"
   },
   {
    "duration": 91,
    "start_time": "2023-07-06T16:06:29.297Z"
   },
   {
    "duration": 34,
    "start_time": "2023-07-06T16:06:29.391Z"
   },
   {
    "duration": 53,
    "start_time": "2023-07-06T16:06:29.427Z"
   },
   {
    "duration": 5,
    "start_time": "2023-07-06T16:06:29.482Z"
   },
   {
    "duration": 1042,
    "start_time": "2023-07-06T16:06:29.489Z"
   },
   {
    "duration": 5339,
    "start_time": "2023-07-06T16:06:30.535Z"
   },
   {
    "duration": 6201,
    "start_time": "2023-07-06T16:06:35.876Z"
   },
   {
    "duration": 2,
    "start_time": "2023-07-06T16:06:42.079Z"
   },
   {
    "duration": 84050,
    "start_time": "2023-07-06T16:06:42.083Z"
   },
   {
    "duration": 4,
    "start_time": "2023-07-06T16:08:06.135Z"
   },
   {
    "duration": 117963,
    "start_time": "2023-07-06T16:08:06.141Z"
   },
   {
    "duration": 13,
    "start_time": "2023-07-06T16:10:04.115Z"
   },
   {
    "duration": 225,
    "start_time": "2023-07-06T16:10:04.132Z"
   },
   {
    "duration": 11,
    "start_time": "2023-07-06T16:10:04.359Z"
   },
   {
    "duration": 0,
    "start_time": "2023-07-06T16:10:04.372Z"
   },
   {
    "duration": 0,
    "start_time": "2023-07-06T16:10:04.374Z"
   },
   {
    "duration": 0,
    "start_time": "2023-07-06T16:10:04.376Z"
   },
   {
    "duration": 0,
    "start_time": "2023-07-06T16:10:04.377Z"
   },
   {
    "duration": 0,
    "start_time": "2023-07-06T16:10:04.378Z"
   },
   {
    "duration": 0,
    "start_time": "2023-07-06T16:10:04.379Z"
   },
   {
    "duration": 0,
    "start_time": "2023-07-06T16:10:04.381Z"
   },
   {
    "duration": 92,
    "start_time": "2023-07-06T16:13:39.747Z"
   },
   {
    "duration": 58859,
    "start_time": "2023-07-06T16:14:03.446Z"
   },
   {
    "duration": 12,
    "start_time": "2023-07-06T16:15:02.307Z"
   },
   {
    "duration": 36,
    "start_time": "2023-07-06T16:15:02.326Z"
   },
   {
    "duration": 16,
    "start_time": "2023-07-06T16:15:02.364Z"
   },
   {
    "duration": 0,
    "start_time": "2023-07-06T16:15:02.383Z"
   },
   {
    "duration": 0,
    "start_time": "2023-07-06T16:15:02.384Z"
   },
   {
    "duration": 0,
    "start_time": "2023-07-06T16:15:02.385Z"
   },
   {
    "duration": 0,
    "start_time": "2023-07-06T16:15:02.386Z"
   },
   {
    "duration": 0,
    "start_time": "2023-07-06T16:15:02.388Z"
   },
   {
    "duration": 1110,
    "start_time": "2023-07-06T16:16:08.807Z"
   },
   {
    "duration": 3,
    "start_time": "2023-07-06T16:16:33.703Z"
   },
   {
    "duration": 17,
    "start_time": "2023-07-06T16:16:34.335Z"
   },
   {
    "duration": 12,
    "start_time": "2023-07-06T16:16:56.098Z"
   },
   {
    "duration": 37,
    "start_time": "2023-07-06T16:17:01.007Z"
   },
   {
    "duration": 218,
    "start_time": "2023-07-06T16:17:46.107Z"
   },
   {
    "duration": 32,
    "start_time": "2023-07-06T16:17:46.790Z"
   },
   {
    "duration": 19,
    "start_time": "2023-07-06T16:18:38.308Z"
   },
   {
    "duration": 11,
    "start_time": "2023-07-07T09:26:56.989Z"
   },
   {
    "duration": 2568,
    "start_time": "2023-07-07T09:32:16.498Z"
   },
   {
    "duration": 2383,
    "start_time": "2023-07-07T09:32:19.069Z"
   },
   {
    "duration": 37,
    "start_time": "2023-07-07T09:32:21.454Z"
   },
   {
    "duration": 38,
    "start_time": "2023-07-07T09:32:21.493Z"
   },
   {
    "duration": 152,
    "start_time": "2023-07-07T09:32:21.534Z"
   },
   {
    "duration": 9,
    "start_time": "2023-07-07T09:32:21.688Z"
   },
   {
    "duration": 18,
    "start_time": "2023-07-07T09:32:21.709Z"
   },
   {
    "duration": 32,
    "start_time": "2023-07-07T09:32:21.729Z"
   },
   {
    "duration": 4,
    "start_time": "2023-07-07T09:34:28.632Z"
   },
   {
    "duration": 1093,
    "start_time": "2023-07-07T09:34:31.449Z"
   },
   {
    "duration": 10,
    "start_time": "2023-07-07T09:36:50.974Z"
   },
   {
    "duration": 439,
    "start_time": "2023-07-07T09:36:56.201Z"
   },
   {
    "duration": 4,
    "start_time": "2023-07-07T09:38:44.746Z"
   },
   {
    "duration": 12,
    "start_time": "2023-07-07T09:39:13.543Z"
   },
   {
    "duration": 24,
    "start_time": "2023-07-07T09:39:20.043Z"
   },
   {
    "duration": 5,
    "start_time": "2023-07-07T09:39:54.632Z"
   },
   {
    "duration": 21,
    "start_time": "2023-07-07T09:39:56.304Z"
   },
   {
    "duration": 16,
    "start_time": "2023-07-07T09:41:04.834Z"
   },
   {
    "duration": 22,
    "start_time": "2023-07-07T09:41:55.492Z"
   },
   {
    "duration": 28,
    "start_time": "2023-07-07T09:42:17.431Z"
   },
   {
    "duration": 15,
    "start_time": "2023-07-07T16:15:01.449Z"
   },
   {
    "duration": 2319,
    "start_time": "2023-07-07T16:15:05.975Z"
   },
   {
    "duration": 27,
    "start_time": "2023-07-07T16:17:36.352Z"
   },
   {
    "duration": 26,
    "start_time": "2023-07-07T16:17:54.459Z"
   },
   {
    "duration": 5,
    "start_time": "2023-07-07T16:20:47.850Z"
   },
   {
    "duration": 609,
    "start_time": "2023-07-07T16:20:49.304Z"
   },
   {
    "duration": 4,
    "start_time": "2023-07-07T16:22:01.577Z"
   },
   {
    "duration": 11,
    "start_time": "2023-07-07T16:23:58.304Z"
   },
   {
    "duration": 25,
    "start_time": "2023-07-07T16:23:59.345Z"
   },
   {
    "duration": 152,
    "start_time": "2023-07-07T16:24:40.718Z"
   },
   {
    "duration": 5,
    "start_time": "2023-07-07T16:24:45.033Z"
   },
   {
    "duration": 1586,
    "start_time": "2023-07-07T16:24:45.920Z"
   },
   {
    "duration": 32,
    "start_time": "2023-07-07T16:25:34.502Z"
   },
   {
    "duration": 31,
    "start_time": "2023-07-07T16:26:03.798Z"
   },
   {
    "duration": 25,
    "start_time": "2023-07-07T16:26:26.831Z"
   },
   {
    "duration": 21,
    "start_time": "2023-07-07T16:26:55.783Z"
   },
   {
    "duration": 1680,
    "start_time": "2023-07-07T16:27:02.553Z"
   },
   {
    "duration": 33,
    "start_time": "2023-07-07T16:27:27.334Z"
   },
   {
    "duration": 26,
    "start_time": "2023-07-07T16:27:37.694Z"
   },
   {
    "duration": 4,
    "start_time": "2023-07-07T16:29:12.356Z"
   },
   {
    "duration": 162,
    "start_time": "2023-07-07T16:29:55.096Z"
   },
   {
    "duration": 5,
    "start_time": "2023-07-07T16:33:55.672Z"
   },
   {
    "duration": 460,
    "start_time": "2023-07-07T16:34:00.730Z"
   },
   {
    "duration": 15,
    "start_time": "2023-07-07T16:35:09.138Z"
   },
   {
    "duration": 389,
    "start_time": "2023-07-07T16:35:16.854Z"
   },
   {
    "duration": 4,
    "start_time": "2023-07-07T16:35:38.403Z"
   },
   {
    "duration": 400,
    "start_time": "2023-07-07T16:35:39.942Z"
   },
   {
    "duration": 4,
    "start_time": "2023-07-07T16:39:31.053Z"
   },
   {
    "duration": 427,
    "start_time": "2023-07-07T16:40:23.982Z"
   },
   {
    "duration": 555,
    "start_time": "2023-07-07T16:44:21.264Z"
   },
   {
    "duration": 3,
    "start_time": "2023-07-07T16:44:39.003Z"
   },
   {
    "duration": 3,
    "start_time": "2023-07-07T16:44:40.002Z"
   },
   {
    "duration": 532,
    "start_time": "2023-07-07T16:44:40.575Z"
   },
   {
    "duration": 2,
    "start_time": "2023-07-07T16:47:11.580Z"
   },
   {
    "duration": 6,
    "start_time": "2023-07-07T16:47:12.041Z"
   },
   {
    "duration": 6,
    "start_time": "2023-07-07T16:47:14.375Z"
   },
   {
    "duration": 457,
    "start_time": "2023-07-07T16:47:50.651Z"
   },
   {
    "duration": 479,
    "start_time": "2023-07-07T16:48:04.443Z"
   },
   {
    "duration": 4,
    "start_time": "2023-07-07T16:49:27.893Z"
   },
   {
    "duration": 476,
    "start_time": "2023-07-07T16:49:29.543Z"
   },
   {
    "duration": 40,
    "start_time": "2023-07-07T16:56:07.975Z"
   },
   {
    "duration": 6,
    "start_time": "2023-07-07T16:56:24.088Z"
   },
   {
    "duration": 443,
    "start_time": "2023-07-07T16:56:50.147Z"
   },
   {
    "duration": 8,
    "start_time": "2023-07-07T16:57:23.172Z"
   },
   {
    "duration": 534,
    "start_time": "2023-07-07T16:57:23.831Z"
   },
   {
    "duration": 12,
    "start_time": "2023-07-07T16:57:39.805Z"
   },
   {
    "duration": 435,
    "start_time": "2023-07-07T16:57:40.855Z"
   },
   {
    "duration": 743,
    "start_time": "2023-07-07T16:59:41.160Z"
   },
   {
    "duration": 2210,
    "start_time": "2023-07-10T02:17:33.552Z"
   },
   {
    "duration": 3352,
    "start_time": "2023-07-10T02:17:35.764Z"
   },
   {
    "duration": 41,
    "start_time": "2023-07-10T02:17:39.118Z"
   },
   {
    "duration": 16,
    "start_time": "2023-07-10T02:17:39.161Z"
   },
   {
    "duration": 151,
    "start_time": "2023-07-10T02:17:39.179Z"
   },
   {
    "duration": 9,
    "start_time": "2023-07-10T02:17:39.332Z"
   },
   {
    "duration": 18,
    "start_time": "2023-07-10T02:17:39.342Z"
   },
   {
    "duration": 10,
    "start_time": "2023-07-10T02:17:39.361Z"
   },
   {
    "duration": 10553,
    "start_time": "2023-07-10T02:17:39.373Z"
   },
   {
    "duration": 8,
    "start_time": "2023-07-10T02:18:45.516Z"
   },
   {
    "duration": 14,
    "start_time": "2023-07-10T02:19:16.970Z"
   },
   {
    "duration": 3,
    "start_time": "2023-07-10T02:35:30.404Z"
   },
   {
    "duration": 2256,
    "start_time": "2023-07-10T02:35:31.321Z"
   },
   {
    "duration": 5,
    "start_time": "2023-07-10T02:38:31.418Z"
   },
   {
    "duration": 2971,
    "start_time": "2023-07-10T02:38:32.267Z"
   },
   {
    "duration": 2942,
    "start_time": "2023-07-10T02:39:22.610Z"
   },
   {
    "duration": 4,
    "start_time": "2023-07-10T02:39:43.318Z"
   },
   {
    "duration": 2111,
    "start_time": "2023-07-10T02:39:45.538Z"
   },
   {
    "duration": 87,
    "start_time": "2023-07-10T02:40:06.601Z"
   },
   {
    "duration": 26,
    "start_time": "2023-07-10T02:40:18.583Z"
   },
   {
    "duration": 40,
    "start_time": "2023-07-10T02:40:20.074Z"
   },
   {
    "duration": 4,
    "start_time": "2023-07-10T02:40:20.497Z"
   },
   {
    "duration": 128,
    "start_time": "2023-07-10T02:40:43.886Z"
   },
   {
    "duration": 25,
    "start_time": "2023-07-10T02:42:10.648Z"
   },
   {
    "duration": 67,
    "start_time": "2023-07-10T02:44:52.378Z"
   },
   {
    "duration": 6,
    "start_time": "2023-07-10T02:44:56.815Z"
   },
   {
    "duration": 17,
    "start_time": "2023-07-10T02:45:04.654Z"
   },
   {
    "duration": 16,
    "start_time": "2023-07-10T02:48:38.081Z"
   },
   {
    "duration": 16,
    "start_time": "2023-07-10T02:48:55.420Z"
   },
   {
    "duration": 16,
    "start_time": "2023-07-10T02:49:06.516Z"
   },
   {
    "duration": 18,
    "start_time": "2023-07-10T03:38:49.858Z"
   },
   {
    "duration": 8,
    "start_time": "2023-07-10T03:41:44.523Z"
   },
   {
    "duration": 19,
    "start_time": "2023-07-10T03:42:32.660Z"
   },
   {
    "duration": 4,
    "start_time": "2023-07-10T03:43:01.256Z"
   },
   {
    "duration": 19,
    "start_time": "2023-07-10T03:43:03.576Z"
   },
   {
    "duration": 16,
    "start_time": "2023-07-10T04:07:02.670Z"
   },
   {
    "duration": 61,
    "start_time": "2023-07-10T04:08:20.823Z"
   },
   {
    "duration": 15,
    "start_time": "2023-07-10T04:08:31.728Z"
   },
   {
    "duration": 5,
    "start_time": "2023-07-10T04:42:27.941Z"
   },
   {
    "duration": 5,
    "start_time": "2023-07-10T04:42:49.948Z"
   },
   {
    "duration": 228,
    "start_time": "2023-07-10T05:12:57.779Z"
   },
   {
    "duration": 8,
    "start_time": "2023-07-10T05:13:17.879Z"
   },
   {
    "duration": 849,
    "start_time": "2023-07-10T05:13:17.889Z"
   },
   {
    "duration": 46,
    "start_time": "2023-07-10T05:13:18.741Z"
   },
   {
    "duration": 23,
    "start_time": "2023-07-10T05:13:18.790Z"
   },
   {
    "duration": 575,
    "start_time": "2023-07-10T05:13:18.815Z"
   },
   {
    "duration": 9,
    "start_time": "2023-07-10T05:13:19.391Z"
   },
   {
    "duration": 25,
    "start_time": "2023-07-10T05:13:19.402Z"
   },
   {
    "duration": 17,
    "start_time": "2023-07-10T05:13:19.429Z"
   },
   {
    "duration": 9776,
    "start_time": "2023-07-10T05:13:19.448Z"
   },
   {
    "duration": 11,
    "start_time": "2023-07-10T05:13:29.226Z"
   },
   {
    "duration": 30,
    "start_time": "2023-07-10T05:13:29.239Z"
   },
   {
    "duration": 5,
    "start_time": "2023-07-10T05:13:29.270Z"
   },
   {
    "duration": 346,
    "start_time": "2023-07-10T05:13:29.277Z"
   },
   {
    "duration": 0,
    "start_time": "2023-07-10T05:13:29.625Z"
   },
   {
    "duration": 0,
    "start_time": "2023-07-10T05:13:29.627Z"
   },
   {
    "duration": 0,
    "start_time": "2023-07-10T05:13:29.628Z"
   },
   {
    "duration": 0,
    "start_time": "2023-07-10T05:13:29.629Z"
   },
   {
    "duration": 0,
    "start_time": "2023-07-10T05:13:29.630Z"
   },
   {
    "duration": 0,
    "start_time": "2023-07-10T05:13:29.631Z"
   },
   {
    "duration": 0,
    "start_time": "2023-07-10T05:13:29.632Z"
   },
   {
    "duration": 0,
    "start_time": "2023-07-10T05:13:29.633Z"
   },
   {
    "duration": 0,
    "start_time": "2023-07-10T05:13:29.634Z"
   },
   {
    "duration": 0,
    "start_time": "2023-07-10T05:13:29.635Z"
   },
   {
    "duration": 0,
    "start_time": "2023-07-10T05:13:29.636Z"
   },
   {
    "duration": 0,
    "start_time": "2023-07-10T05:13:29.637Z"
   },
   {
    "duration": 0,
    "start_time": "2023-07-10T05:13:29.638Z"
   },
   {
    "duration": 0,
    "start_time": "2023-07-10T05:13:29.639Z"
   },
   {
    "duration": 4,
    "start_time": "2023-07-10T05:41:37.613Z"
   },
   {
    "duration": 3004,
    "start_time": "2023-07-10T05:41:38.051Z"
   },
   {
    "duration": 4,
    "start_time": "2023-07-10T05:41:44.773Z"
   },
   {
    "duration": 1978,
    "start_time": "2023-07-10T05:41:45.294Z"
   },
   {
    "duration": 98,
    "start_time": "2023-07-10T05:41:50.745Z"
   },
   {
    "duration": 27,
    "start_time": "2023-07-10T05:41:56.493Z"
   },
   {
    "duration": 38,
    "start_time": "2023-07-10T05:41:57.837Z"
   },
   {
    "duration": 4,
    "start_time": "2023-07-10T05:41:58.257Z"
   },
   {
    "duration": 3,
    "start_time": "2023-07-10T05:42:08.745Z"
   },
   {
    "duration": 5,
    "start_time": "2023-07-10T05:42:23.196Z"
   },
   {
    "duration": 5,
    "start_time": "2023-07-10T05:42:51.262Z"
   },
   {
    "duration": 5,
    "start_time": "2023-07-10T05:44:13.211Z"
   },
   {
    "duration": 3,
    "start_time": "2023-07-10T05:46:17.947Z"
   },
   {
    "duration": 116,
    "start_time": "2023-07-10T05:46:25.633Z"
   },
   {
    "duration": 4,
    "start_time": "2023-07-10T05:49:00.393Z"
   },
   {
    "duration": 81,
    "start_time": "2023-07-10T05:49:04.953Z"
   },
   {
    "duration": 83,
    "start_time": "2023-07-10T05:49:41.273Z"
   },
   {
    "duration": 4,
    "start_time": "2023-07-10T05:55:53.818Z"
   },
   {
    "duration": 86,
    "start_time": "2023-07-10T05:55:54.521Z"
   },
   {
    "duration": 82,
    "start_time": "2023-07-10T05:56:44.707Z"
   },
   {
    "duration": 3,
    "start_time": "2023-07-10T06:00:59.814Z"
   },
   {
    "duration": 97,
    "start_time": "2023-07-10T06:01:00.466Z"
   },
   {
    "duration": 12,
    "start_time": "2023-07-10T06:01:22.293Z"
   },
   {
    "duration": 3,
    "start_time": "2023-07-10T06:01:26.417Z"
   },
   {
    "duration": 4,
    "start_time": "2023-07-10T06:01:44.925Z"
   },
   {
    "duration": 15,
    "start_time": "2023-07-10T06:01:56.541Z"
   },
   {
    "duration": 424,
    "start_time": "2023-07-10T06:02:32.726Z"
   },
   {
    "duration": 20,
    "start_time": "2023-07-10T06:02:57.842Z"
   },
   {
    "duration": 8,
    "start_time": "2023-07-10T06:03:04.798Z"
   },
   {
    "duration": 18,
    "start_time": "2023-07-10T06:10:13.807Z"
   },
   {
    "duration": 4,
    "start_time": "2023-07-10T06:10:29.226Z"
   },
   {
    "duration": 96,
    "start_time": "2023-07-10T06:10:34.403Z"
   },
   {
    "duration": 4,
    "start_time": "2023-07-10T06:10:45.191Z"
   },
   {
    "duration": 3,
    "start_time": "2023-07-10T06:10:55.022Z"
   },
   {
    "duration": 15,
    "start_time": "2023-07-10T06:11:13.077Z"
   },
   {
    "duration": 5,
    "start_time": "2023-07-10T06:11:20.855Z"
   },
   {
    "duration": 9003,
    "start_time": "2023-07-10T06:11:32.276Z"
   },
   {
    "duration": 6,
    "start_time": "2023-07-10T06:15:21.304Z"
   },
   {
    "duration": 447,
    "start_time": "2023-07-10T06:15:28.037Z"
   },
   {
    "duration": 5,
    "start_time": "2023-07-10T06:19:55.860Z"
   },
   {
    "duration": 5,
    "start_time": "2023-07-10T06:19:56.383Z"
   },
   {
    "duration": 105,
    "start_time": "2023-07-10T06:20:23.572Z"
   },
   {
    "duration": 4,
    "start_time": "2023-07-10T06:20:49.633Z"
   },
   {
    "duration": 7,
    "start_time": "2023-07-10T06:21:10.466Z"
   },
   {
    "duration": 5,
    "start_time": "2023-07-10T06:21:11.105Z"
   },
   {
    "duration": 4,
    "start_time": "2023-07-10T06:21:11.826Z"
   },
   {
    "duration": 4,
    "start_time": "2023-07-10T06:21:21.474Z"
   },
   {
    "duration": 734,
    "start_time": "2023-07-10T06:22:18.811Z"
   },
   {
    "duration": 955,
    "start_time": "2023-07-10T06:22:25.972Z"
   },
   {
    "duration": 5455,
    "start_time": "2023-07-10T06:22:58.051Z"
   },
   {
    "duration": 5621,
    "start_time": "2023-07-10T06:23:03.509Z"
   },
   {
    "duration": 4,
    "start_time": "2023-07-10T06:23:09.132Z"
   },
   {
    "duration": 22,
    "start_time": "2023-07-10T06:23:36.759Z"
   },
   {
    "duration": 15,
    "start_time": "2023-07-10T06:23:41.560Z"
   },
   {
    "duration": 21,
    "start_time": "2023-07-10T06:24:11.767Z"
   },
   {
    "duration": 8,
    "start_time": "2023-07-10T06:24:23.145Z"
   },
   {
    "duration": 686,
    "start_time": "2023-07-10T06:24:47.128Z"
   },
   {
    "duration": 699,
    "start_time": "2023-07-10T06:24:54.572Z"
   },
   {
    "duration": 5040,
    "start_time": "2023-07-10T06:24:59.139Z"
   },
   {
    "duration": 4547,
    "start_time": "2023-07-10T06:25:06.729Z"
   },
   {
    "duration": 4848,
    "start_time": "2023-07-10T06:28:51.961Z"
   },
   {
    "duration": 15,
    "start_time": "2023-07-10T06:29:17.669Z"
   },
   {
    "duration": 17,
    "start_time": "2023-07-10T06:29:32.145Z"
   },
   {
    "duration": 8,
    "start_time": "2023-07-10T06:29:38.865Z"
   },
   {
    "duration": 7,
    "start_time": "2023-07-10T06:29:50.328Z"
   },
   {
    "duration": 13,
    "start_time": "2023-07-10T06:30:14.629Z"
   },
   {
    "duration": 17,
    "start_time": "2023-07-10T06:30:23.584Z"
   },
   {
    "duration": 1919,
    "start_time": "2023-07-10T06:30:41.907Z"
   },
   {
    "duration": 931,
    "start_time": "2023-07-10T06:30:43.829Z"
   },
   {
    "duration": 38,
    "start_time": "2023-07-10T06:30:44.761Z"
   },
   {
    "duration": 33,
    "start_time": "2023-07-10T06:30:44.801Z"
   },
   {
    "duration": 159,
    "start_time": "2023-07-10T06:30:44.859Z"
   },
   {
    "duration": 12,
    "start_time": "2023-07-10T06:30:45.020Z"
   },
   {
    "duration": 36,
    "start_time": "2023-07-10T06:30:45.034Z"
   },
   {
    "duration": 48,
    "start_time": "2023-07-10T06:30:45.072Z"
   },
   {
    "duration": 10721,
    "start_time": "2023-07-10T06:30:45.122Z"
   },
   {
    "duration": 14,
    "start_time": "2023-07-10T06:30:55.846Z"
   },
   {
    "duration": 9,
    "start_time": "2023-07-10T06:30:55.864Z"
   },
   {
    "duration": 10,
    "start_time": "2023-07-10T06:30:55.875Z"
   },
   {
    "duration": 13,
    "start_time": "2023-07-10T06:30:55.887Z"
   },
   {
    "duration": 6,
    "start_time": "2023-07-10T06:30:55.904Z"
   },
   {
    "duration": 2853,
    "start_time": "2023-07-10T06:30:55.912Z"
   },
   {
    "duration": 4,
    "start_time": "2023-07-10T06:30:58.767Z"
   },
   {
    "duration": 2217,
    "start_time": "2023-07-10T06:30:58.773Z"
   },
   {
    "duration": 117,
    "start_time": "2023-07-10T06:31:00.992Z"
   },
   {
    "duration": 20,
    "start_time": "2023-07-10T06:31:01.111Z"
   },
   {
    "duration": 94,
    "start_time": "2023-07-10T06:31:01.133Z"
   },
   {
    "duration": 12,
    "start_time": "2023-07-10T06:31:01.229Z"
   },
   {
    "duration": 70,
    "start_time": "2023-07-10T06:31:01.242Z"
   },
   {
    "duration": 830,
    "start_time": "2023-07-10T06:31:01.314Z"
   },
   {
    "duration": 39,
    "start_time": "2023-07-10T06:31:02.146Z"
   },
   {
    "duration": 19,
    "start_time": "2023-07-10T06:31:02.187Z"
   },
   {
    "duration": 6,
    "start_time": "2023-07-10T06:31:05.020Z"
   },
   {
    "duration": 9,
    "start_time": "2023-07-10T06:31:19.020Z"
   },
   {
    "duration": 3,
    "start_time": "2023-07-10T06:31:39.707Z"
   },
   {
    "duration": 8,
    "start_time": "2023-07-10T06:31:42.469Z"
   },
   {
    "duration": 133,
    "start_time": "2023-07-10T06:31:48.682Z"
   },
   {
    "duration": 18,
    "start_time": "2023-07-10T09:10:58.416Z"
   },
   {
    "duration": 16,
    "start_time": "2023-07-10T09:12:35.438Z"
   },
   {
    "duration": 18,
    "start_time": "2023-07-10T09:12:46.789Z"
   },
   {
    "duration": 881,
    "start_time": "2023-07-10T09:21:27.730Z"
   },
   {
    "duration": 21,
    "start_time": "2023-07-10T09:21:33.879Z"
   },
   {
    "duration": 108,
    "start_time": "2023-07-10T09:22:45.414Z"
   },
   {
    "duration": 8,
    "start_time": "2023-07-10T09:22:59.829Z"
   },
   {
    "duration": 17,
    "start_time": "2023-07-10T09:23:01.308Z"
   },
   {
    "duration": 10,
    "start_time": "2023-07-10T09:23:09.439Z"
   },
   {
    "duration": 19,
    "start_time": "2023-07-10T09:23:15.077Z"
   },
   {
    "duration": 4,
    "start_time": "2023-07-10T09:28:08.840Z"
   },
   {
    "duration": 1033,
    "start_time": "2023-07-10T09:28:11.332Z"
   },
   {
    "duration": 2482,
    "start_time": "2023-07-10T09:28:25.150Z"
   },
   {
    "duration": 860,
    "start_time": "2023-07-10T09:28:27.634Z"
   },
   {
    "duration": 38,
    "start_time": "2023-07-10T09:28:28.496Z"
   },
   {
    "duration": 66,
    "start_time": "2023-07-10T09:28:28.537Z"
   },
   {
    "duration": 183,
    "start_time": "2023-07-10T09:28:28.607Z"
   },
   {
    "duration": 9,
    "start_time": "2023-07-10T09:28:28.793Z"
   },
   {
    "duration": 13,
    "start_time": "2023-07-10T09:28:28.804Z"
   },
   {
    "duration": 6,
    "start_time": "2023-07-10T09:28:28.819Z"
   },
   {
    "duration": 11118,
    "start_time": "2023-07-10T09:28:28.827Z"
   },
   {
    "duration": 14,
    "start_time": "2023-07-10T09:28:39.948Z"
   },
   {
    "duration": 11,
    "start_time": "2023-07-10T09:28:39.963Z"
   },
   {
    "duration": 24,
    "start_time": "2023-07-10T09:28:39.976Z"
   },
   {
    "duration": 42,
    "start_time": "2023-07-10T09:28:40.002Z"
   },
   {
    "duration": 17,
    "start_time": "2023-07-10T09:28:40.047Z"
   },
   {
    "duration": 702,
    "start_time": "2023-07-10T09:28:40.067Z"
   },
   {
    "duration": 4,
    "start_time": "2023-07-10T09:30:14.994Z"
   },
   {
    "duration": 2921,
    "start_time": "2023-07-10T09:30:25.245Z"
   },
   {
    "duration": 4,
    "start_time": "2023-07-10T09:30:56.444Z"
   },
   {
    "duration": 2185,
    "start_time": "2023-07-10T09:30:57.738Z"
   },
   {
    "duration": 100,
    "start_time": "2023-07-10T09:31:05.566Z"
   },
   {
    "duration": 21,
    "start_time": "2023-07-10T09:31:09.557Z"
   },
   {
    "duration": 50,
    "start_time": "2023-07-10T09:31:11.266Z"
   },
   {
    "duration": 4,
    "start_time": "2023-07-10T09:31:11.994Z"
   },
   {
    "duration": 6,
    "start_time": "2023-07-10T09:31:16.738Z"
   },
   {
    "duration": 3,
    "start_time": "2023-07-10T09:31:18.270Z"
   },
   {
    "duration": 18,
    "start_time": "2023-07-10T09:31:26.594Z"
   },
   {
    "duration": 9,
    "start_time": "2023-07-10T09:31:30.146Z"
   },
   {
    "duration": 24,
    "start_time": "2023-07-10T09:31:35.383Z"
   },
   {
    "duration": 16,
    "start_time": "2023-07-10T09:33:20.726Z"
   },
   {
    "duration": 787,
    "start_time": "2023-07-10T09:33:27.879Z"
   },
   {
    "duration": 5949,
    "start_time": "2023-07-10T09:33:29.727Z"
   },
   {
    "duration": 73,
    "start_time": "2023-07-10T09:33:38.848Z"
   },
   {
    "duration": 994,
    "start_time": "2023-07-10T09:42:20.382Z"
   },
   {
    "duration": 5,
    "start_time": "2023-07-10T09:43:17.079Z"
   },
   {
    "duration": 4,
    "start_time": "2023-07-10T09:43:20.405Z"
   },
   {
    "duration": 705,
    "start_time": "2023-07-10T09:43:27.531Z"
   },
   {
    "duration": 11994,
    "start_time": "2023-07-10T09:43:48.035Z"
   },
   {
    "duration": 232507,
    "start_time": "2023-07-10T09:44:03.377Z"
   },
   {
    "duration": 455933,
    "start_time": "2023-07-10T09:53:58.076Z"
   },
   {
    "duration": 18,
    "start_time": "2023-07-10T10:01:34.011Z"
   },
   {
    "duration": 0,
    "start_time": "2023-07-10T10:01:34.032Z"
   },
   {
    "duration": 0,
    "start_time": "2023-07-10T10:01:34.034Z"
   },
   {
    "duration": 0,
    "start_time": "2023-07-10T10:01:34.036Z"
   },
   {
    "duration": 4,
    "start_time": "2023-07-10T10:21:46.947Z"
   },
   {
    "duration": 4,
    "start_time": "2023-07-10T10:21:51.318Z"
   },
   {
    "duration": 4,
    "start_time": "2023-07-10T10:21:57.454Z"
   },
   {
    "duration": 273157,
    "start_time": "2023-07-10T10:21:59.835Z"
   },
   {
    "duration": 3,
    "start_time": "2023-07-10T10:26:32.995Z"
   },
   {
    "duration": 56,
    "start_time": "2023-07-10T10:26:33.000Z"
   },
   {
    "duration": 6,
    "start_time": "2023-07-10T10:31:52.284Z"
   },
   {
    "duration": 19,
    "start_time": "2023-07-10T10:34:51.477Z"
   },
   {
    "duration": 15,
    "start_time": "2023-07-10T10:34:59.120Z"
   },
   {
    "duration": 20,
    "start_time": "2023-07-10T10:36:53.574Z"
   },
   {
    "duration": 2687,
    "start_time": "2023-07-10T10:39:24.503Z"
   },
   {
    "duration": 1257,
    "start_time": "2023-07-10T10:39:27.192Z"
   },
   {
    "duration": 65,
    "start_time": "2023-07-10T10:39:28.452Z"
   },
   {
    "duration": 45,
    "start_time": "2023-07-10T10:39:28.521Z"
   },
   {
    "duration": 234,
    "start_time": "2023-07-10T10:39:28.569Z"
   },
   {
    "duration": 13,
    "start_time": "2023-07-10T10:39:28.806Z"
   },
   {
    "duration": 5,
    "start_time": "2023-07-10T10:39:28.821Z"
   },
   {
    "duration": 11,
    "start_time": "2023-07-10T10:39:28.831Z"
   },
   {
    "duration": 16807,
    "start_time": "2023-07-10T10:39:28.844Z"
   },
   {
    "duration": 12,
    "start_time": "2023-07-10T10:39:45.663Z"
   },
   {
    "duration": 14,
    "start_time": "2023-07-10T10:39:45.677Z"
   },
   {
    "duration": 5,
    "start_time": "2023-07-10T10:39:45.694Z"
   },
   {
    "duration": 10,
    "start_time": "2023-07-10T10:39:45.701Z"
   },
   {
    "duration": 23,
    "start_time": "2023-07-10T10:39:45.713Z"
   },
   {
    "duration": 3586,
    "start_time": "2023-07-10T10:39:45.739Z"
   },
   {
    "duration": 6,
    "start_time": "2023-07-10T10:39:49.326Z"
   },
   {
    "duration": 2446,
    "start_time": "2023-07-10T10:39:49.333Z"
   },
   {
    "duration": 109,
    "start_time": "2023-07-10T10:39:51.781Z"
   },
   {
    "duration": 21,
    "start_time": "2023-07-10T10:39:51.892Z"
   },
   {
    "duration": 67,
    "start_time": "2023-07-10T10:39:51.914Z"
   },
   {
    "duration": 5,
    "start_time": "2023-07-10T10:39:51.983Z"
   },
   {
    "duration": 1052,
    "start_time": "2023-07-10T10:39:51.990Z"
   },
   {
    "duration": 4,
    "start_time": "2023-07-10T10:39:53.044Z"
   },
   {
    "duration": 14148,
    "start_time": "2023-07-10T10:39:53.063Z"
   },
   {
    "duration": 3,
    "start_time": "2023-07-10T10:40:07.213Z"
   },
   {
    "duration": 6,
    "start_time": "2023-07-10T10:40:07.217Z"
   },
   {
    "duration": 10,
    "start_time": "2023-07-10T10:40:07.225Z"
   },
   {
    "duration": 12,
    "start_time": "2023-07-10T10:40:07.238Z"
   },
   {
    "duration": 230140,
    "start_time": "2023-07-10T10:40:07.252Z"
   },
   {
    "duration": 3,
    "start_time": "2023-07-10T10:43:57.394Z"
   },
   {
    "duration": 473553,
    "start_time": "2023-07-10T10:43:57.399Z"
   },
   {
    "duration": 2,
    "start_time": "2023-07-10T10:51:50.954Z"
   },
   {
    "duration": 246639,
    "start_time": "2023-07-10T10:51:50.958Z"
   },
   {
    "duration": 3,
    "start_time": "2023-07-10T10:55:57.599Z"
   },
   {
    "duration": 35,
    "start_time": "2023-07-10T10:55:57.604Z"
   },
   {
    "duration": 31,
    "start_time": "2023-07-10T10:55:57.641Z"
   },
   {
    "duration": 17,
    "start_time": "2023-07-10T10:55:57.676Z"
   },
   {
    "duration": 18192,
    "start_time": "2023-07-11T06:02:48.537Z"
   },
   {
    "duration": 3461,
    "start_time": "2023-07-11T06:03:06.731Z"
   },
   {
    "duration": 11,
    "start_time": "2023-07-11T06:03:10.194Z"
   },
   {
    "duration": 9,
    "start_time": "2023-07-11T06:03:10.206Z"
   },
   {
    "duration": 118,
    "start_time": "2023-07-11T06:03:10.217Z"
   },
   {
    "duration": 4,
    "start_time": "2023-07-11T06:03:10.337Z"
   },
   {
    "duration": 4,
    "start_time": "2023-07-11T06:03:10.343Z"
   },
   {
    "duration": 9,
    "start_time": "2023-07-11T06:03:10.364Z"
   },
   {
    "duration": 1450,
    "start_time": "2023-07-11T06:03:10.375Z"
   },
   {
    "duration": 7,
    "start_time": "2023-07-11T06:03:11.828Z"
   },
   {
    "duration": 5,
    "start_time": "2023-07-11T06:03:11.836Z"
   },
   {
    "duration": 22,
    "start_time": "2023-07-11T06:03:11.842Z"
   },
   {
    "duration": 4,
    "start_time": "2023-07-11T06:03:11.872Z"
   },
   {
    "duration": 4,
    "start_time": "2023-07-11T06:03:11.878Z"
   },
   {
    "duration": 15,
    "start_time": "2023-07-11T06:03:11.884Z"
   },
   {
    "duration": 11,
    "start_time": "2023-07-11T06:03:11.900Z"
   },
   {
    "duration": 14,
    "start_time": "2023-07-11T06:03:11.913Z"
   },
   {
    "duration": 35,
    "start_time": "2023-07-11T06:03:11.929Z"
   },
   {
    "duration": 10,
    "start_time": "2023-07-11T06:03:11.968Z"
   },
   {
    "duration": 10,
    "start_time": "2023-07-11T06:03:11.980Z"
   },
   {
    "duration": 4,
    "start_time": "2023-07-11T06:03:11.991Z"
   },
   {
    "duration": 7,
    "start_time": "2023-07-11T06:03:11.997Z"
   },
   {
    "duration": 7,
    "start_time": "2023-07-11T06:03:12.006Z"
   },
   {
    "duration": 16,
    "start_time": "2023-07-11T06:03:12.014Z"
   },
   {
    "duration": 3,
    "start_time": "2023-07-11T06:03:13.639Z"
   },
   {
    "duration": 59,
    "start_time": "2023-07-11T06:03:18.667Z"
   },
   {
    "duration": 337,
    "start_time": "2023-07-11T06:03:22.742Z"
   },
   {
    "duration": 11,
    "start_time": "2023-07-11T06:04:07.914Z"
   },
   {
    "duration": 9,
    "start_time": "2023-07-11T06:04:13.557Z"
   },
   {
    "duration": 6,
    "start_time": "2023-07-11T06:04:26.228Z"
   },
   {
    "duration": 192,
    "start_time": "2023-07-11T06:04:35.826Z"
   },
   {
    "duration": 7,
    "start_time": "2023-07-11T06:04:45.850Z"
   },
   {
    "duration": 4,
    "start_time": "2023-07-11T06:04:50.325Z"
   },
   {
    "duration": 2655,
    "start_time": "2023-07-11T08:07:28.612Z"
   },
   {
    "duration": 3183,
    "start_time": "2023-07-11T08:07:31.268Z"
   },
   {
    "duration": 31,
    "start_time": "2023-07-11T08:07:34.453Z"
   },
   {
    "duration": 15,
    "start_time": "2023-07-11T08:07:34.486Z"
   },
   {
    "duration": 143,
    "start_time": "2023-07-11T08:07:34.503Z"
   },
   {
    "duration": 7,
    "start_time": "2023-07-11T08:07:34.647Z"
   },
   {
    "duration": 13,
    "start_time": "2023-07-11T08:07:34.655Z"
   },
   {
    "duration": 6,
    "start_time": "2023-07-11T08:07:34.669Z"
   },
   {
    "duration": 9353,
    "start_time": "2023-07-11T08:07:34.677Z"
   },
   {
    "duration": 9,
    "start_time": "2023-07-11T08:07:44.034Z"
   },
   {
    "duration": 6,
    "start_time": "2023-07-11T08:07:44.045Z"
   },
   {
    "duration": 15,
    "start_time": "2023-07-11T08:07:44.053Z"
   },
   {
    "duration": 10,
    "start_time": "2023-07-11T08:07:44.070Z"
   },
   {
    "duration": 7,
    "start_time": "2023-07-11T08:07:44.082Z"
   },
   {
    "duration": 2707,
    "start_time": "2023-07-11T08:07:44.091Z"
   },
   {
    "duration": 4,
    "start_time": "2023-07-11T08:07:46.800Z"
   },
   {
    "duration": 1892,
    "start_time": "2023-07-11T08:07:46.805Z"
   },
   {
    "duration": 81,
    "start_time": "2023-07-11T08:07:48.698Z"
   },
   {
    "duration": 13,
    "start_time": "2023-07-11T08:07:48.781Z"
   },
   {
    "duration": 37,
    "start_time": "2023-07-11T08:07:48.796Z"
   },
   {
    "duration": 3,
    "start_time": "2023-07-11T08:07:48.835Z"
   },
   {
    "duration": 820,
    "start_time": "2023-07-11T08:07:48.839Z"
   },
   {
    "duration": 2,
    "start_time": "2023-07-11T08:07:49.661Z"
   },
   {
    "duration": 9193,
    "start_time": "2023-07-11T08:07:49.667Z"
   },
   {
    "duration": 2,
    "start_time": "2023-07-11T08:07:58.862Z"
   },
   {
    "duration": 20,
    "start_time": "2023-07-11T08:07:58.867Z"
   },
   {
    "duration": 5,
    "start_time": "2023-07-11T08:07:58.889Z"
   },
   {
    "duration": 3,
    "start_time": "2023-07-11T08:07:58.896Z"
   },
   {
    "duration": 232591,
    "start_time": "2023-07-11T08:07:58.901Z"
   },
   {
    "duration": 3,
    "start_time": "2023-07-11T08:11:51.493Z"
   },
   {
    "duration": 449075,
    "start_time": "2023-07-11T08:11:51.497Z"
   },
   {
    "duration": 3,
    "start_time": "2023-07-11T08:19:20.573Z"
   },
   {
    "duration": 263347,
    "start_time": "2023-07-11T08:19:20.578Z"
   },
   {
    "duration": 3,
    "start_time": "2023-07-11T08:23:43.927Z"
   },
   {
    "duration": 19,
    "start_time": "2023-07-11T08:23:43.931Z"
   },
   {
    "duration": 44,
    "start_time": "2023-07-11T08:23:43.952Z"
   },
   {
    "duration": 25,
    "start_time": "2023-07-11T08:23:43.998Z"
   }
  ],
  "kernelspec": {
   "display_name": "Python 3 (ipykernel)",
   "language": "python",
   "name": "python3"
  },
  "language_info": {
   "codemirror_mode": {
    "name": "ipython",
    "version": 3
   },
   "file_extension": ".py",
   "mimetype": "text/x-python",
   "name": "python",
   "nbconvert_exporter": "python",
   "pygments_lexer": "ipython3",
   "version": "3.9.12"
  },
  "toc": {
   "base_numbering": 1,
   "nav_menu": {},
   "number_sections": true,
   "sideBar": true,
   "skip_h1_title": true,
   "title_cell": "Содержание",
   "title_sidebar": "Contents",
   "toc_cell": true,
   "toc_position": {
    "height": "calc(100% - 180px)",
    "left": "10px",
    "top": "150px",
    "width": "302.391px"
   },
   "toc_section_display": true,
   "toc_window_display": true
  }
 },
 "nbformat": 4,
 "nbformat_minor": 2
}
