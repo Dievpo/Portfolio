{
 "cells": [
  {
   "cell_type": "markdown",
   "metadata": {
    "id": "sIfNaMOxgFyK"
   },
   "source": [
    "## Исследование данных о российском кинопрокате\n",
    "\n"
   ]
  },
  {
   "cell_type": "markdown",
   "metadata": {},
   "source": [
    "### Шаг 0. Подключение библиотек. "
   ]
  },
  {
   "cell_type": "code",
   "execution_count": 2,
   "metadata": {},
   "outputs": [],
   "source": [
    "import pandas as pd\n",
    "pd.set_option('display.max_columns', None)"
   ]
  },
  {
   "cell_type": "markdown",
   "metadata": {
    "id": "3bSlkCsbgFyL"
   },
   "source": [
    "### Шаг 1. Откройте файлы с данными и объедините их в один датафрейм. \n",
    "\n",
    "Объедините данные таким образом, чтобы все объекты из датасета `mkrf_movies` обязательно вошли в получившийся датафрейм. \n",
    "\n",
    "<div id=\"accordion\">\n",
    "    <div class=\"card\">\n",
    "        <div class=\"card-header\" id=\"headingThree\">\n",
    "            <button class=\"btn btn-link collapsed\" data-toggle=\"collapse\" data-target=\"#collapseHint_0\" aria-expanded=\"false\" aria-controls=\"collapseHint_0\">Подсказка</button>\n",
    "        </div>\n",
    "        <div id=\"collapseHint_0\" class=\"collapse\" aria-labelledby=\"headingThree\" data-parent=\"#accordion\">\n",
    "            <div class=\"card-body\">\n",
    "Обратите внимание на тип данных столбца, по которому будете соединять датафреймы. Тип данных этих столбцов должен быть одинаковым в обоих датафреймах.\n",
    "            </div>\n",
    "        </div>\n",
    "    </div>\n",
    "</div>"
   ]
  },
  {
   "cell_type": "code",
   "execution_count": 3,
   "metadata": {
    "id": "dw87FlzMgFyM"
   },
   "outputs": [
    {
     "data": {
      "text/html": [
       "<div>\n",
       "<style scoped>\n",
       "    .dataframe tbody tr th:only-of-type {\n",
       "        vertical-align: middle;\n",
       "    }\n",
       "\n",
       "    .dataframe tbody tr th {\n",
       "        vertical-align: top;\n",
       "    }\n",
       "\n",
       "    .dataframe thead th {\n",
       "        text-align: right;\n",
       "    }\n",
       "</style>\n",
       "<table border=\"1\" class=\"dataframe\">\n",
       "  <thead>\n",
       "    <tr style=\"text-align: right;\">\n",
       "      <th></th>\n",
       "      <th>title</th>\n",
       "      <th>puNumber</th>\n",
       "      <th>show_start_date</th>\n",
       "      <th>type</th>\n",
       "      <th>film_studio</th>\n",
       "      <th>production_country</th>\n",
       "      <th>director</th>\n",
       "      <th>producer</th>\n",
       "      <th>age_restriction</th>\n",
       "      <th>refundable_support</th>\n",
       "      <th>nonrefundable_support</th>\n",
       "      <th>budget</th>\n",
       "      <th>financing_source</th>\n",
       "      <th>ratings</th>\n",
       "      <th>genres</th>\n",
       "    </tr>\n",
       "  </thead>\n",
       "  <tbody>\n",
       "    <tr>\n",
       "      <th>0</th>\n",
       "      <td>Открытый простор</td>\n",
       "      <td>221048915</td>\n",
       "      <td>2015-11-27T12:00:00.000Z</td>\n",
       "      <td>Художественный</td>\n",
       "      <td>Тачстоун Пикчерз, Кобальт Пикчерз, Бикон Пикче...</td>\n",
       "      <td>США</td>\n",
       "      <td>Кевин Костнер</td>\n",
       "      <td>Дэвид Валдес, Кевин Костнер, Джейк Эбертс</td>\n",
       "      <td>«18+» - запрещено для детей</td>\n",
       "      <td>NaN</td>\n",
       "      <td>NaN</td>\n",
       "      <td>NaN</td>\n",
       "      <td>NaN</td>\n",
       "      <td>7.2</td>\n",
       "      <td>боевик,драма,мелодрама</td>\n",
       "    </tr>\n",
       "    <tr>\n",
       "      <th>1</th>\n",
       "      <td>Особо важное задание</td>\n",
       "      <td>111013716</td>\n",
       "      <td>2016-09-13T12:00:00.000Z</td>\n",
       "      <td>Художественный</td>\n",
       "      <td>Киностудия \"Мосфильм\"</td>\n",
       "      <td>СССР</td>\n",
       "      <td>Е.Матвеев</td>\n",
       "      <td>NaN</td>\n",
       "      <td>«6+» - для детей старше 6 лет</td>\n",
       "      <td>NaN</td>\n",
       "      <td>NaN</td>\n",
       "      <td>NaN</td>\n",
       "      <td>NaN</td>\n",
       "      <td>6.6</td>\n",
       "      <td>драма,военный</td>\n",
       "    </tr>\n",
       "    <tr>\n",
       "      <th>2</th>\n",
       "      <td>Особо опасен</td>\n",
       "      <td>221038416</td>\n",
       "      <td>2016-10-10T12:00:00.000Z</td>\n",
       "      <td>Художественный</td>\n",
       "      <td>Юниверсал Пикчерз, Кикстарт Продакшнз, Марк Пл...</td>\n",
       "      <td>США</td>\n",
       "      <td>Тимур Бекмамбетов</td>\n",
       "      <td>Джим Лемли, Джейсон Нетер, Марк Е.Платт, Яйн Смит</td>\n",
       "      <td>«18+» - запрещено для детей</td>\n",
       "      <td>NaN</td>\n",
       "      <td>NaN</td>\n",
       "      <td>NaN</td>\n",
       "      <td>NaN</td>\n",
       "      <td>6.8</td>\n",
       "      <td>фантастика,боевик,триллер</td>\n",
       "    </tr>\n",
       "    <tr>\n",
       "      <th>3</th>\n",
       "      <td>Особо опасен</td>\n",
       "      <td>221026916</td>\n",
       "      <td>2016-06-10T12:00:00.000Z</td>\n",
       "      <td>Художественный</td>\n",
       "      <td>Юниверсал Пикчерз, Кикстарт Продакшнз, Марк Пл...</td>\n",
       "      <td>США</td>\n",
       "      <td>Тимур Бекмамбетов</td>\n",
       "      <td>Джим Лемли, Джейсон Нетер, Марк Е.Платт, Яйн Смит</td>\n",
       "      <td>«18+» - запрещено для детей</td>\n",
       "      <td>NaN</td>\n",
       "      <td>NaN</td>\n",
       "      <td>NaN</td>\n",
       "      <td>NaN</td>\n",
       "      <td>6.8</td>\n",
       "      <td>фантастика,боевик,триллер</td>\n",
       "    </tr>\n",
       "    <tr>\n",
       "      <th>4</th>\n",
       "      <td>Особо опасен</td>\n",
       "      <td>221030815</td>\n",
       "      <td>2015-07-29T12:00:00.000Z</td>\n",
       "      <td>Художественный</td>\n",
       "      <td>Юниверсал Пикчерз, Кикстарт Продакшнз, Марк Пл...</td>\n",
       "      <td>США</td>\n",
       "      <td>Тимур Бекмамбетов</td>\n",
       "      <td>Джим Лемли, Джейсон Нетер, Марк Е.Платт, Яйн Смит</td>\n",
       "      <td>«18+» - запрещено для детей</td>\n",
       "      <td>NaN</td>\n",
       "      <td>NaN</td>\n",
       "      <td>NaN</td>\n",
       "      <td>NaN</td>\n",
       "      <td>6.8</td>\n",
       "      <td>фантастика,боевик,триллер</td>\n",
       "    </tr>\n",
       "  </tbody>\n",
       "</table>\n",
       "</div>"
      ],
      "text/plain": [
       "                  title   puNumber           show_start_date            type  \\\n",
       "0      Открытый простор  221048915  2015-11-27T12:00:00.000Z  Художественный   \n",
       "1  Особо важное задание  111013716  2016-09-13T12:00:00.000Z  Художественный   \n",
       "2          Особо опасен  221038416  2016-10-10T12:00:00.000Z  Художественный   \n",
       "3          Особо опасен  221026916  2016-06-10T12:00:00.000Z  Художественный   \n",
       "4          Особо опасен  221030815  2015-07-29T12:00:00.000Z  Художественный   \n",
       "\n",
       "                                         film_studio production_country  \\\n",
       "0  Тачстоун Пикчерз, Кобальт Пикчерз, Бикон Пикче...                США   \n",
       "1                              Киностудия \"Мосфильм\"               СССР   \n",
       "2  Юниверсал Пикчерз, Кикстарт Продакшнз, Марк Пл...                США   \n",
       "3  Юниверсал Пикчерз, Кикстарт Продакшнз, Марк Пл...                США   \n",
       "4  Юниверсал Пикчерз, Кикстарт Продакшнз, Марк Пл...                США   \n",
       "\n",
       "            director                                           producer  \\\n",
       "0      Кевин Костнер          Дэвид Валдес, Кевин Костнер, Джейк Эбертс   \n",
       "1          Е.Матвеев                                                NaN   \n",
       "2  Тимур Бекмамбетов  Джим Лемли, Джейсон Нетер, Марк Е.Платт, Яйн Смит   \n",
       "3  Тимур Бекмамбетов  Джим Лемли, Джейсон Нетер, Марк Е.Платт, Яйн Смит   \n",
       "4  Тимур Бекмамбетов  Джим Лемли, Джейсон Нетер, Марк Е.Платт, Яйн Смит   \n",
       "\n",
       "                 age_restriction  refundable_support  nonrefundable_support  \\\n",
       "0    «18+» - запрещено для детей                 NaN                    NaN   \n",
       "1  «6+» - для детей старше 6 лет                 NaN                    NaN   \n",
       "2    «18+» - запрещено для детей                 NaN                    NaN   \n",
       "3    «18+» - запрещено для детей                 NaN                    NaN   \n",
       "4    «18+» - запрещено для детей                 NaN                    NaN   \n",
       "\n",
       "   budget financing_source ratings                     genres  \n",
       "0     NaN              NaN     7.2     боевик,драма,мелодрама  \n",
       "1     NaN              NaN     6.6              драма,военный  \n",
       "2     NaN              NaN     6.8  фантастика,боевик,триллер  \n",
       "3     NaN              NaN     6.8  фантастика,боевик,триллер  \n",
       "4     NaN              NaN     6.8  фантастика,боевик,триллер  "
      ]
     },
     "execution_count": 3,
     "metadata": {},
     "output_type": "execute_result"
    }
   ],
   "source": [
    "mkrf_movies = pd.read_csv('/datasets/mkrf_movies.csv')\n",
    "mkrf_movies.head()"
   ]
  },
  {
   "cell_type": "code",
   "execution_count": 4,
   "metadata": {},
   "outputs": [
    {
     "name": "stdout",
     "output_type": "stream",
     "text": [
      "<class 'pandas.core.frame.DataFrame'>\n",
      "RangeIndex: 7486 entries, 0 to 7485\n",
      "Data columns (total 15 columns):\n",
      " #   Column                 Non-Null Count  Dtype  \n",
      "---  ------                 --------------  -----  \n",
      " 0   title                  7486 non-null   object \n",
      " 1   puNumber               7486 non-null   object \n",
      " 2   show_start_date        7486 non-null   object \n",
      " 3   type                   7486 non-null   object \n",
      " 4   film_studio            7468 non-null   object \n",
      " 5   production_country     7484 non-null   object \n",
      " 6   director               7477 non-null   object \n",
      " 7   producer               6918 non-null   object \n",
      " 8   age_restriction        7486 non-null   object \n",
      " 9   refundable_support     332 non-null    float64\n",
      " 10  nonrefundable_support  332 non-null    float64\n",
      " 11  budget                 332 non-null    float64\n",
      " 12  financing_source       332 non-null    object \n",
      " 13  ratings                6519 non-null   object \n",
      " 14  genres                 6510 non-null   object \n",
      "dtypes: float64(3), object(12)\n",
      "memory usage: 877.4+ KB\n"
     ]
    }
   ],
   "source": [
    "mkrf_movies.info()"
   ]
  },
  {
   "cell_type": "code",
   "execution_count": 5,
   "metadata": {},
   "outputs": [
    {
     "data": {
      "text/html": [
       "<div>\n",
       "<style scoped>\n",
       "    .dataframe tbody tr th:only-of-type {\n",
       "        vertical-align: middle;\n",
       "    }\n",
       "\n",
       "    .dataframe tbody tr th {\n",
       "        vertical-align: top;\n",
       "    }\n",
       "\n",
       "    .dataframe thead th {\n",
       "        text-align: right;\n",
       "    }\n",
       "</style>\n",
       "<table border=\"1\" class=\"dataframe\">\n",
       "  <thead>\n",
       "    <tr style=\"text-align: right;\">\n",
       "      <th></th>\n",
       "      <th>puNumber</th>\n",
       "      <th>box_office</th>\n",
       "    </tr>\n",
       "  </thead>\n",
       "  <tbody>\n",
       "    <tr>\n",
       "      <th>0</th>\n",
       "      <td>111000113</td>\n",
       "      <td>2.450000e+03</td>\n",
       "    </tr>\n",
       "    <tr>\n",
       "      <th>1</th>\n",
       "      <td>111000115</td>\n",
       "      <td>6.104000e+04</td>\n",
       "    </tr>\n",
       "    <tr>\n",
       "      <th>2</th>\n",
       "      <td>111000116</td>\n",
       "      <td>1.530300e+08</td>\n",
       "    </tr>\n",
       "    <tr>\n",
       "      <th>3</th>\n",
       "      <td>111000117</td>\n",
       "      <td>1.226096e+07</td>\n",
       "    </tr>\n",
       "    <tr>\n",
       "      <th>4</th>\n",
       "      <td>111000118</td>\n",
       "      <td>1.636841e+08</td>\n",
       "    </tr>\n",
       "  </tbody>\n",
       "</table>\n",
       "</div>"
      ],
      "text/plain": [
       "    puNumber    box_office\n",
       "0  111000113  2.450000e+03\n",
       "1  111000115  6.104000e+04\n",
       "2  111000116  1.530300e+08\n",
       "3  111000117  1.226096e+07\n",
       "4  111000118  1.636841e+08"
      ]
     },
     "execution_count": 5,
     "metadata": {},
     "output_type": "execute_result"
    }
   ],
   "source": [
    "mkrf_shows = pd.read_csv('/datasets/mkrf_shows.csv')\n",
    "mkrf_shows.head()"
   ]
  },
  {
   "cell_type": "code",
   "execution_count": 6,
   "metadata": {},
   "outputs": [
    {
     "name": "stdout",
     "output_type": "stream",
     "text": [
      "<class 'pandas.core.frame.DataFrame'>\n",
      "RangeIndex: 3158 entries, 0 to 3157\n",
      "Data columns (total 2 columns):\n",
      " #   Column      Non-Null Count  Dtype  \n",
      "---  ------      --------------  -----  \n",
      " 0   puNumber    3158 non-null   int64  \n",
      " 1   box_office  3158 non-null   float64\n",
      "dtypes: float64(1), int64(1)\n",
      "memory usage: 49.5 KB\n"
     ]
    }
   ],
   "source": [
    "mkrf_shows.info()"
   ]
  },
  {
   "cell_type": "markdown",
   "metadata": {},
   "source": [
    "puNumber — номер прокатного удостоверения.\n",
    "В mkrf_movies puNumber типа object, а в mkrf_shows puNumber типа int64. Необходимо привести puNumber к одному типу int64."
   ]
  },
  {
   "cell_type": "code",
   "execution_count": 7,
   "metadata": {},
   "outputs": [
    {
     "name": "stdout",
     "output_type": "stream",
     "text": [
      "<class 'pandas.core.frame.DataFrame'>\n",
      "Int64Index: 7485 entries, 0 to 7485\n",
      "Data columns (total 15 columns):\n",
      " #   Column                 Non-Null Count  Dtype  \n",
      "---  ------                 --------------  -----  \n",
      " 0   title                  7485 non-null   object \n",
      " 1   puNumber               7485 non-null   int64  \n",
      " 2   show_start_date        7485 non-null   object \n",
      " 3   type                   7485 non-null   object \n",
      " 4   film_studio            7467 non-null   object \n",
      " 5   production_country     7483 non-null   object \n",
      " 6   director               7476 non-null   object \n",
      " 7   producer               6917 non-null   object \n",
      " 8   age_restriction        7485 non-null   object \n",
      " 9   refundable_support     332 non-null    float64\n",
      " 10  nonrefundable_support  332 non-null    float64\n",
      " 11  budget                 332 non-null    float64\n",
      " 12  financing_source       332 non-null    object \n",
      " 13  ratings                6519 non-null   object \n",
      " 14  genres                 6510 non-null   object \n",
      "dtypes: float64(3), int64(1), object(11)\n",
      "memory usage: 935.6+ KB\n"
     ]
    }
   ],
   "source": [
    "mkrf_movies['puNumber'] = pd.to_numeric(mkrf_movies['puNumber'], errors='coerce')\n",
    "mkrf_movies[mkrf_movies['puNumber'].isna()]\n",
    "\n",
    "# так как особо никаких данных по этому фильму нет, можем его удалить\n",
    "mkrf_movies = mkrf_movies[mkrf_movies['puNumber'].isna() != True]\n",
    "mkrf_movies['puNumber'] = mkrf_movies['puNumber'].astype('int')\n",
    "mkrf_movies.info()"
   ]
  },
  {
   "cell_type": "code",
   "execution_count": 8,
   "metadata": {},
   "outputs": [
    {
     "name": "stdout",
     "output_type": "stream",
     "text": [
      "<class 'pandas.core.frame.DataFrame'>\n",
      "Int64Index: 7485 entries, 0 to 7484\n",
      "Data columns (total 16 columns):\n",
      " #   Column                 Non-Null Count  Dtype  \n",
      "---  ------                 --------------  -----  \n",
      " 0   title                  7485 non-null   object \n",
      " 1   puNumber               7485 non-null   int64  \n",
      " 2   show_start_date        7485 non-null   object \n",
      " 3   type                   7485 non-null   object \n",
      " 4   film_studio            7467 non-null   object \n",
      " 5   production_country     7483 non-null   object \n",
      " 6   director               7476 non-null   object \n",
      " 7   producer               6917 non-null   object \n",
      " 8   age_restriction        7485 non-null   object \n",
      " 9   refundable_support     332 non-null    float64\n",
      " 10  nonrefundable_support  332 non-null    float64\n",
      " 11  budget                 332 non-null    float64\n",
      " 12  financing_source       332 non-null    object \n",
      " 13  ratings                6519 non-null   object \n",
      " 14  genres                 6510 non-null   object \n",
      " 15  box_office             3158 non-null   float64\n",
      "dtypes: float64(4), int64(1), object(11)\n",
      "memory usage: 994.1+ KB\n"
     ]
    },
    {
     "data": {
      "text/html": [
       "<div>\n",
       "<style scoped>\n",
       "    .dataframe tbody tr th:only-of-type {\n",
       "        vertical-align: middle;\n",
       "    }\n",
       "\n",
       "    .dataframe tbody tr th {\n",
       "        vertical-align: top;\n",
       "    }\n",
       "\n",
       "    .dataframe thead th {\n",
       "        text-align: right;\n",
       "    }\n",
       "</style>\n",
       "<table border=\"1\" class=\"dataframe\">\n",
       "  <thead>\n",
       "    <tr style=\"text-align: right;\">\n",
       "      <th></th>\n",
       "      <th>title</th>\n",
       "      <th>puNumber</th>\n",
       "      <th>show_start_date</th>\n",
       "      <th>type</th>\n",
       "      <th>film_studio</th>\n",
       "      <th>production_country</th>\n",
       "      <th>director</th>\n",
       "      <th>producer</th>\n",
       "      <th>age_restriction</th>\n",
       "      <th>refundable_support</th>\n",
       "      <th>nonrefundable_support</th>\n",
       "      <th>budget</th>\n",
       "      <th>financing_source</th>\n",
       "      <th>ratings</th>\n",
       "      <th>genres</th>\n",
       "      <th>box_office</th>\n",
       "    </tr>\n",
       "  </thead>\n",
       "  <tbody>\n",
       "    <tr>\n",
       "      <th>0</th>\n",
       "      <td>Открытый простор</td>\n",
       "      <td>221048915</td>\n",
       "      <td>2015-11-27T12:00:00.000Z</td>\n",
       "      <td>Художественный</td>\n",
       "      <td>Тачстоун Пикчерз, Кобальт Пикчерз, Бикон Пикче...</td>\n",
       "      <td>США</td>\n",
       "      <td>Кевин Костнер</td>\n",
       "      <td>Дэвид Валдес, Кевин Костнер, Джейк Эбертс</td>\n",
       "      <td>«18+» - запрещено для детей</td>\n",
       "      <td>NaN</td>\n",
       "      <td>NaN</td>\n",
       "      <td>NaN</td>\n",
       "      <td>NaN</td>\n",
       "      <td>7.2</td>\n",
       "      <td>боевик,драма,мелодрама</td>\n",
       "      <td>NaN</td>\n",
       "    </tr>\n",
       "    <tr>\n",
       "      <th>1</th>\n",
       "      <td>Особо важное задание</td>\n",
       "      <td>111013716</td>\n",
       "      <td>2016-09-13T12:00:00.000Z</td>\n",
       "      <td>Художественный</td>\n",
       "      <td>Киностудия \"Мосфильм\"</td>\n",
       "      <td>СССР</td>\n",
       "      <td>Е.Матвеев</td>\n",
       "      <td>NaN</td>\n",
       "      <td>«6+» - для детей старше 6 лет</td>\n",
       "      <td>NaN</td>\n",
       "      <td>NaN</td>\n",
       "      <td>NaN</td>\n",
       "      <td>NaN</td>\n",
       "      <td>6.6</td>\n",
       "      <td>драма,военный</td>\n",
       "      <td>NaN</td>\n",
       "    </tr>\n",
       "    <tr>\n",
       "      <th>2</th>\n",
       "      <td>Особо опасен</td>\n",
       "      <td>221038416</td>\n",
       "      <td>2016-10-10T12:00:00.000Z</td>\n",
       "      <td>Художественный</td>\n",
       "      <td>Юниверсал Пикчерз, Кикстарт Продакшнз, Марк Пл...</td>\n",
       "      <td>США</td>\n",
       "      <td>Тимур Бекмамбетов</td>\n",
       "      <td>Джим Лемли, Джейсон Нетер, Марк Е.Платт, Яйн Смит</td>\n",
       "      <td>«18+» - запрещено для детей</td>\n",
       "      <td>NaN</td>\n",
       "      <td>NaN</td>\n",
       "      <td>NaN</td>\n",
       "      <td>NaN</td>\n",
       "      <td>6.8</td>\n",
       "      <td>фантастика,боевик,триллер</td>\n",
       "      <td>NaN</td>\n",
       "    </tr>\n",
       "    <tr>\n",
       "      <th>3</th>\n",
       "      <td>Особо опасен</td>\n",
       "      <td>221026916</td>\n",
       "      <td>2016-06-10T12:00:00.000Z</td>\n",
       "      <td>Художественный</td>\n",
       "      <td>Юниверсал Пикчерз, Кикстарт Продакшнз, Марк Пл...</td>\n",
       "      <td>США</td>\n",
       "      <td>Тимур Бекмамбетов</td>\n",
       "      <td>Джим Лемли, Джейсон Нетер, Марк Е.Платт, Яйн Смит</td>\n",
       "      <td>«18+» - запрещено для детей</td>\n",
       "      <td>NaN</td>\n",
       "      <td>NaN</td>\n",
       "      <td>NaN</td>\n",
       "      <td>NaN</td>\n",
       "      <td>6.8</td>\n",
       "      <td>фантастика,боевик,триллер</td>\n",
       "      <td>NaN</td>\n",
       "    </tr>\n",
       "    <tr>\n",
       "      <th>4</th>\n",
       "      <td>Особо опасен</td>\n",
       "      <td>221030815</td>\n",
       "      <td>2015-07-29T12:00:00.000Z</td>\n",
       "      <td>Художественный</td>\n",
       "      <td>Юниверсал Пикчерз, Кикстарт Продакшнз, Марк Пл...</td>\n",
       "      <td>США</td>\n",
       "      <td>Тимур Бекмамбетов</td>\n",
       "      <td>Джим Лемли, Джейсон Нетер, Марк Е.Платт, Яйн Смит</td>\n",
       "      <td>«18+» - запрещено для детей</td>\n",
       "      <td>NaN</td>\n",
       "      <td>NaN</td>\n",
       "      <td>NaN</td>\n",
       "      <td>NaN</td>\n",
       "      <td>6.8</td>\n",
       "      <td>фантастика,боевик,триллер</td>\n",
       "      <td>NaN</td>\n",
       "    </tr>\n",
       "  </tbody>\n",
       "</table>\n",
       "</div>"
      ],
      "text/plain": [
       "                  title   puNumber           show_start_date            type  \\\n",
       "0      Открытый простор  221048915  2015-11-27T12:00:00.000Z  Художественный   \n",
       "1  Особо важное задание  111013716  2016-09-13T12:00:00.000Z  Художественный   \n",
       "2          Особо опасен  221038416  2016-10-10T12:00:00.000Z  Художественный   \n",
       "3          Особо опасен  221026916  2016-06-10T12:00:00.000Z  Художественный   \n",
       "4          Особо опасен  221030815  2015-07-29T12:00:00.000Z  Художественный   \n",
       "\n",
       "                                         film_studio production_country  \\\n",
       "0  Тачстоун Пикчерз, Кобальт Пикчерз, Бикон Пикче...                США   \n",
       "1                              Киностудия \"Мосфильм\"               СССР   \n",
       "2  Юниверсал Пикчерз, Кикстарт Продакшнз, Марк Пл...                США   \n",
       "3  Юниверсал Пикчерз, Кикстарт Продакшнз, Марк Пл...                США   \n",
       "4  Юниверсал Пикчерз, Кикстарт Продакшнз, Марк Пл...                США   \n",
       "\n",
       "            director                                           producer  \\\n",
       "0      Кевин Костнер          Дэвид Валдес, Кевин Костнер, Джейк Эбертс   \n",
       "1          Е.Матвеев                                                NaN   \n",
       "2  Тимур Бекмамбетов  Джим Лемли, Джейсон Нетер, Марк Е.Платт, Яйн Смит   \n",
       "3  Тимур Бекмамбетов  Джим Лемли, Джейсон Нетер, Марк Е.Платт, Яйн Смит   \n",
       "4  Тимур Бекмамбетов  Джим Лемли, Джейсон Нетер, Марк Е.Платт, Яйн Смит   \n",
       "\n",
       "                 age_restriction  refundable_support  nonrefundable_support  \\\n",
       "0    «18+» - запрещено для детей                 NaN                    NaN   \n",
       "1  «6+» - для детей старше 6 лет                 NaN                    NaN   \n",
       "2    «18+» - запрещено для детей                 NaN                    NaN   \n",
       "3    «18+» - запрещено для детей                 NaN                    NaN   \n",
       "4    «18+» - запрещено для детей                 NaN                    NaN   \n",
       "\n",
       "   budget financing_source ratings                     genres  box_office  \n",
       "0     NaN              NaN     7.2     боевик,драма,мелодрама         NaN  \n",
       "1     NaN              NaN     6.6              драма,военный         NaN  \n",
       "2     NaN              NaN     6.8  фантастика,боевик,триллер         NaN  \n",
       "3     NaN              NaN     6.8  фантастика,боевик,триллер         NaN  \n",
       "4     NaN              NaN     6.8  фантастика,боевик,триллер         NaN  "
      ]
     },
     "execution_count": 8,
     "metadata": {},
     "output_type": "execute_result"
    }
   ],
   "source": [
    "# объедините их в один датафрейм данные\n",
    "movies = mkrf_movies.merge(mkrf_shows, on='puNumber', how='left')\n",
    "movies.info()\n",
    "movies.head()"
   ]
  },
  {
   "cell_type": "code",
   "execution_count": 9,
   "metadata": {},
   "outputs": [
    {
     "name": "stdout",
     "output_type": "stream",
     "text": [
      "Сумма по budget до объединения и после равны: True\n",
      "Сумма по box_office до объединения и после равны: True\n"
     ]
    }
   ],
   "source": [
    "#Проверим ничего ли не потеряли - сравним суммы по box_office/budget до мержа и после\n",
    "print('Сумма по budget до объединения и после равны:', mkrf_movies['budget'].sum() == movies['budget'].sum())\n",
    "\n",
    "print('Сумма по box_office до объединения и после равны:', mkrf_shows['box_office'].sum() == movies['box_office'].sum())"
   ]
  },
  {
   "cell_type": "markdown",
   "metadata": {
    "id": "KLDGpPG0gFyM"
   },
   "source": [
    "### Шаг 2. Предобработка данных"
   ]
  },
  {
   "cell_type": "markdown",
   "metadata": {
    "id": "ssWwKXsxgFyO"
   },
   "source": [
    "#### Шаг 2.1. Проверьте типы данных\n",
    "\n",
    "- Проверьте типы данных в датафрейме и преобразуйте их там, где это необходимо."
   ]
  },
  {
   "cell_type": "code",
   "execution_count": 10,
   "metadata": {
    "id": "kVGSplJOgFyO"
   },
   "outputs": [
    {
     "name": "stdout",
     "output_type": "stream",
     "text": [
      "<class 'pandas.core.frame.DataFrame'>\n",
      "Int64Index: 7485 entries, 0 to 7484\n",
      "Data columns (total 16 columns):\n",
      " #   Column                 Non-Null Count  Dtype  \n",
      "---  ------                 --------------  -----  \n",
      " 0   title                  7485 non-null   object \n",
      " 1   puNumber               7485 non-null   int64  \n",
      " 2   show_start_date        7485 non-null   object \n",
      " 3   type                   7485 non-null   object \n",
      " 4   film_studio            7467 non-null   object \n",
      " 5   production_country     7483 non-null   object \n",
      " 6   director               7476 non-null   object \n",
      " 7   producer               6917 non-null   object \n",
      " 8   age_restriction        7485 non-null   object \n",
      " 9   refundable_support     332 non-null    float64\n",
      " 10  nonrefundable_support  332 non-null    float64\n",
      " 11  budget                 332 non-null    float64\n",
      " 12  financing_source       332 non-null    object \n",
      " 13  ratings                6519 non-null   object \n",
      " 14  genres                 6510 non-null   object \n",
      " 15  box_office             3158 non-null   float64\n",
      "dtypes: float64(4), int64(1), object(11)\n",
      "memory usage: 994.1+ KB\n"
     ]
    }
   ],
   "source": [
    "movies.info()"
   ]
  },
  {
   "cell_type": "markdown",
   "metadata": {},
   "source": [
    "- show_start_date object должен быть datetime\n",
    "- ratings object должен быть float"
   ]
  },
  {
   "cell_type": "code",
   "execution_count": 11,
   "metadata": {},
   "outputs": [
    {
     "name": "stdout",
     "output_type": "stream",
     "text": [
      "<class 'pandas.core.frame.DataFrame'>\n",
      "Int64Index: 7485 entries, 0 to 7484\n",
      "Data columns (total 16 columns):\n",
      " #   Column                 Non-Null Count  Dtype              \n",
      "---  ------                 --------------  -----              \n",
      " 0   title                  7485 non-null   object             \n",
      " 1   puNumber               7485 non-null   int64              \n",
      " 2   show_start_date        7485 non-null   datetime64[ns, UTC]\n",
      " 3   type                   7485 non-null   object             \n",
      " 4   film_studio            7467 non-null   object             \n",
      " 5   production_country     7483 non-null   object             \n",
      " 6   director               7476 non-null   object             \n",
      " 7   producer               6917 non-null   object             \n",
      " 8   age_restriction        7485 non-null   object             \n",
      " 9   refundable_support     332 non-null    float64            \n",
      " 10  nonrefundable_support  332 non-null    float64            \n",
      " 11  budget                 332 non-null    float64            \n",
      " 12  financing_source       332 non-null    object             \n",
      " 13  ratings                6519 non-null   object             \n",
      " 14  genres                 6510 non-null   object             \n",
      " 15  box_office             3158 non-null   float64            \n",
      "dtypes: datetime64[ns, UTC](1), float64(4), int64(1), object(10)\n",
      "memory usage: 994.1+ KB\n"
     ]
    },
    {
     "data": {
      "text/html": [
       "<div>\n",
       "<style scoped>\n",
       "    .dataframe tbody tr th:only-of-type {\n",
       "        vertical-align: middle;\n",
       "    }\n",
       "\n",
       "    .dataframe tbody tr th {\n",
       "        vertical-align: top;\n",
       "    }\n",
       "\n",
       "    .dataframe thead th {\n",
       "        text-align: right;\n",
       "    }\n",
       "</style>\n",
       "<table border=\"1\" class=\"dataframe\">\n",
       "  <thead>\n",
       "    <tr style=\"text-align: right;\">\n",
       "      <th></th>\n",
       "      <th>title</th>\n",
       "      <th>puNumber</th>\n",
       "      <th>show_start_date</th>\n",
       "      <th>type</th>\n",
       "      <th>film_studio</th>\n",
       "      <th>production_country</th>\n",
       "      <th>director</th>\n",
       "      <th>producer</th>\n",
       "      <th>age_restriction</th>\n",
       "      <th>refundable_support</th>\n",
       "      <th>nonrefundable_support</th>\n",
       "      <th>budget</th>\n",
       "      <th>financing_source</th>\n",
       "      <th>ratings</th>\n",
       "      <th>genres</th>\n",
       "      <th>box_office</th>\n",
       "    </tr>\n",
       "  </thead>\n",
       "  <tbody>\n",
       "    <tr>\n",
       "      <th>0</th>\n",
       "      <td>Открытый простор</td>\n",
       "      <td>221048915</td>\n",
       "      <td>2015-11-27 12:00:00+00:00</td>\n",
       "      <td>Художественный</td>\n",
       "      <td>Тачстоун Пикчерз, Кобальт Пикчерз, Бикон Пикче...</td>\n",
       "      <td>США</td>\n",
       "      <td>Кевин Костнер</td>\n",
       "      <td>Дэвид Валдес, Кевин Костнер, Джейк Эбертс</td>\n",
       "      <td>«18+» - запрещено для детей</td>\n",
       "      <td>NaN</td>\n",
       "      <td>NaN</td>\n",
       "      <td>NaN</td>\n",
       "      <td>NaN</td>\n",
       "      <td>7.2</td>\n",
       "      <td>боевик,драма,мелодрама</td>\n",
       "      <td>NaN</td>\n",
       "    </tr>\n",
       "    <tr>\n",
       "      <th>1</th>\n",
       "      <td>Особо важное задание</td>\n",
       "      <td>111013716</td>\n",
       "      <td>2016-09-13 12:00:00+00:00</td>\n",
       "      <td>Художественный</td>\n",
       "      <td>Киностудия \"Мосфильм\"</td>\n",
       "      <td>СССР</td>\n",
       "      <td>Е.Матвеев</td>\n",
       "      <td>NaN</td>\n",
       "      <td>«6+» - для детей старше 6 лет</td>\n",
       "      <td>NaN</td>\n",
       "      <td>NaN</td>\n",
       "      <td>NaN</td>\n",
       "      <td>NaN</td>\n",
       "      <td>6.6</td>\n",
       "      <td>драма,военный</td>\n",
       "      <td>NaN</td>\n",
       "    </tr>\n",
       "    <tr>\n",
       "      <th>2</th>\n",
       "      <td>Особо опасен</td>\n",
       "      <td>221038416</td>\n",
       "      <td>2016-10-10 12:00:00+00:00</td>\n",
       "      <td>Художественный</td>\n",
       "      <td>Юниверсал Пикчерз, Кикстарт Продакшнз, Марк Пл...</td>\n",
       "      <td>США</td>\n",
       "      <td>Тимур Бекмамбетов</td>\n",
       "      <td>Джим Лемли, Джейсон Нетер, Марк Е.Платт, Яйн Смит</td>\n",
       "      <td>«18+» - запрещено для детей</td>\n",
       "      <td>NaN</td>\n",
       "      <td>NaN</td>\n",
       "      <td>NaN</td>\n",
       "      <td>NaN</td>\n",
       "      <td>6.8</td>\n",
       "      <td>фантастика,боевик,триллер</td>\n",
       "      <td>NaN</td>\n",
       "    </tr>\n",
       "    <tr>\n",
       "      <th>3</th>\n",
       "      <td>Особо опасен</td>\n",
       "      <td>221026916</td>\n",
       "      <td>2016-06-10 12:00:00+00:00</td>\n",
       "      <td>Художественный</td>\n",
       "      <td>Юниверсал Пикчерз, Кикстарт Продакшнз, Марк Пл...</td>\n",
       "      <td>США</td>\n",
       "      <td>Тимур Бекмамбетов</td>\n",
       "      <td>Джим Лемли, Джейсон Нетер, Марк Е.Платт, Яйн Смит</td>\n",
       "      <td>«18+» - запрещено для детей</td>\n",
       "      <td>NaN</td>\n",
       "      <td>NaN</td>\n",
       "      <td>NaN</td>\n",
       "      <td>NaN</td>\n",
       "      <td>6.8</td>\n",
       "      <td>фантастика,боевик,триллер</td>\n",
       "      <td>NaN</td>\n",
       "    </tr>\n",
       "    <tr>\n",
       "      <th>4</th>\n",
       "      <td>Особо опасен</td>\n",
       "      <td>221030815</td>\n",
       "      <td>2015-07-29 12:00:00+00:00</td>\n",
       "      <td>Художественный</td>\n",
       "      <td>Юниверсал Пикчерз, Кикстарт Продакшнз, Марк Пл...</td>\n",
       "      <td>США</td>\n",
       "      <td>Тимур Бекмамбетов</td>\n",
       "      <td>Джим Лемли, Джейсон Нетер, Марк Е.Платт, Яйн Смит</td>\n",
       "      <td>«18+» - запрещено для детей</td>\n",
       "      <td>NaN</td>\n",
       "      <td>NaN</td>\n",
       "      <td>NaN</td>\n",
       "      <td>NaN</td>\n",
       "      <td>6.8</td>\n",
       "      <td>фантастика,боевик,триллер</td>\n",
       "      <td>NaN</td>\n",
       "    </tr>\n",
       "  </tbody>\n",
       "</table>\n",
       "</div>"
      ],
      "text/plain": [
       "                  title   puNumber           show_start_date            type  \\\n",
       "0      Открытый простор  221048915 2015-11-27 12:00:00+00:00  Художественный   \n",
       "1  Особо важное задание  111013716 2016-09-13 12:00:00+00:00  Художественный   \n",
       "2          Особо опасен  221038416 2016-10-10 12:00:00+00:00  Художественный   \n",
       "3          Особо опасен  221026916 2016-06-10 12:00:00+00:00  Художественный   \n",
       "4          Особо опасен  221030815 2015-07-29 12:00:00+00:00  Художественный   \n",
       "\n",
       "                                         film_studio production_country  \\\n",
       "0  Тачстоун Пикчерз, Кобальт Пикчерз, Бикон Пикче...                США   \n",
       "1                              Киностудия \"Мосфильм\"               СССР   \n",
       "2  Юниверсал Пикчерз, Кикстарт Продакшнз, Марк Пл...                США   \n",
       "3  Юниверсал Пикчерз, Кикстарт Продакшнз, Марк Пл...                США   \n",
       "4  Юниверсал Пикчерз, Кикстарт Продакшнз, Марк Пл...                США   \n",
       "\n",
       "            director                                           producer  \\\n",
       "0      Кевин Костнер          Дэвид Валдес, Кевин Костнер, Джейк Эбертс   \n",
       "1          Е.Матвеев                                                NaN   \n",
       "2  Тимур Бекмамбетов  Джим Лемли, Джейсон Нетер, Марк Е.Платт, Яйн Смит   \n",
       "3  Тимур Бекмамбетов  Джим Лемли, Джейсон Нетер, Марк Е.Платт, Яйн Смит   \n",
       "4  Тимур Бекмамбетов  Джим Лемли, Джейсон Нетер, Марк Е.Платт, Яйн Смит   \n",
       "\n",
       "                 age_restriction  refundable_support  nonrefundable_support  \\\n",
       "0    «18+» - запрещено для детей                 NaN                    NaN   \n",
       "1  «6+» - для детей старше 6 лет                 NaN                    NaN   \n",
       "2    «18+» - запрещено для детей                 NaN                    NaN   \n",
       "3    «18+» - запрещено для детей                 NaN                    NaN   \n",
       "4    «18+» - запрещено для детей                 NaN                    NaN   \n",
       "\n",
       "   budget financing_source ratings                     genres  box_office  \n",
       "0     NaN              NaN     7.2     боевик,драма,мелодрама         NaN  \n",
       "1     NaN              NaN     6.6              драма,военный         NaN  \n",
       "2     NaN              NaN     6.8  фантастика,боевик,триллер         NaN  \n",
       "3     NaN              NaN     6.8  фантастика,боевик,триллер         NaN  \n",
       "4     NaN              NaN     6.8  фантастика,боевик,триллер         NaN  "
      ]
     },
     "execution_count": 11,
     "metadata": {},
     "output_type": "execute_result"
    }
   ],
   "source": [
    "#поменяем тип show_start_date на datetime\n",
    "movies['show_start_date'] = pd.to_datetime(movies['show_start_date'], format='%Y-%m-%d')\n",
    "movies.info()\n",
    "movies.head()"
   ]
  },
  {
   "cell_type": "code",
   "execution_count": 12,
   "metadata": {},
   "outputs": [
    {
     "data": {
      "text/plain": [
       "array(['7.2', '6.6', '6.8', '7.7', '8.3', '8.0', '7.8', '8.1', '7.1',\n",
       "       '6.0', '7.4', '5.8', '8.7', '6.3', '6.9', '5.0', '4.3', '7.3',\n",
       "       '7.0', '6.4', nan, '8.2', '7.5', '6.7', '7.9', '5.9', '6.2', '5.6',\n",
       "       '6.5', '2.4', '7.6', '6.1', '8.6', '8.5', '8.8', '5.5', '5.1',\n",
       "       '5.7', '5.4', '99%', '4.4', '4.5', '5.3', '4.1', '8.4', '2.6',\n",
       "       '3.8', '4.6', '4.8', '4.0', '3.0', '1.6', '4.2', '5.2', '4.7',\n",
       "       '4.9', '3.9', '2.7', '3.3', '2.9', '28%', '3.7', '1.4', '3.1',\n",
       "       '97%', '3.5', '3.2', '2.8', '1.5', '2.1', '2.5', '9.2', '3.4',\n",
       "       '1.1', '3.6', '83%', '64%', '91%', '94%', '62%', '79%', '90%',\n",
       "       '19%', '88%', '1.0', '89%', '1.3', '1.9', '1.8', '1.2', '1.7',\n",
       "       '9.0', '98%', '8.9', '9.1'], dtype=object)"
      ]
     },
     "execution_count": 12,
     "metadata": {},
     "output_type": "execute_result"
    }
   ],
   "source": [
    "movies['ratings'].unique()"
   ]
  },
  {
   "cell_type": "markdown",
   "metadata": {},
   "source": [
    "Есть значения, которые указаны в процентах и есть в балах. Переведем к единому стилю."
   ]
  },
  {
   "cell_type": "code",
   "execution_count": 13,
   "metadata": {},
   "outputs": [
    {
     "data": {
      "text/plain": [
       "array([7.2, 6.6, 6.8, 7.7, 8.3, 8. , 7.8, 8.1, 7.1, 6. , 7.4, 5.8, 8.7,\n",
       "       6.3, 6.9, 5. , 4.3, 7.3, 7. , 6.4, 0. , 8.2, 7.5, 6.7, 7.9, 5.9,\n",
       "       6.2, 5.6, 6.5, 2.4, 7.6, 6.1, 8.6, 8.5, 8.8, 5.5, 5.1, 5.7, 5.4,\n",
       "       9.9, 4.4, 4.5, 5.3, 4.1, 8.4, 2.6, 3.8, 4.6, 4.8, 4. , 3. , 1.6,\n",
       "       4.2, 5.2, 4.7, 4.9, 3.9, 2.7, 3.3, 2.9, 2.8, 3.7, 1.4, 3.1, 9.7,\n",
       "       3.5, 3.2, 1.5, 2.1, 2.5, 9.2, 3.4, 1.1, 3.6, 9.1, 9.4, 9. , 1.9,\n",
       "       1. , 8.9, 1.3, 1.8, 1.2, 1.7, 9.8])"
      ]
     },
     "execution_count": 13,
     "metadata": {},
     "output_type": "execute_result"
    }
   ],
   "source": [
    "#уберем знак %, заменим nan на 0 и изменим тип с object на float\n",
    "movies['ratings'] = movies['ratings'].replace(to_replace ='%', value = '', regex = True).fillna(0).astype('float')\n",
    "\n",
    "#переведем то что было в процентах в баллы\n",
    "movies['ratings'] = movies['ratings'].apply(lambda x: x/10 if x> 10 else x)\n",
    "\n",
    "movies['ratings'].unique()"
   ]
  },
  {
   "cell_type": "code",
   "execution_count": 14,
   "metadata": {},
   "outputs": [
    {
     "name": "stdout",
     "output_type": "stream",
     "text": [
      "<class 'pandas.core.frame.DataFrame'>\n",
      "Int64Index: 7485 entries, 0 to 7484\n",
      "Data columns (total 16 columns):\n",
      " #   Column                 Non-Null Count  Dtype              \n",
      "---  ------                 --------------  -----              \n",
      " 0   title                  7485 non-null   object             \n",
      " 1   puNumber               7485 non-null   int64              \n",
      " 2   show_start_date        7485 non-null   datetime64[ns, UTC]\n",
      " 3   type                   7485 non-null   object             \n",
      " 4   film_studio            7467 non-null   object             \n",
      " 5   production_country     7483 non-null   object             \n",
      " 6   director               7476 non-null   object             \n",
      " 7   producer               6917 non-null   object             \n",
      " 8   age_restriction        7485 non-null   object             \n",
      " 9   refundable_support     332 non-null    float64            \n",
      " 10  nonrefundable_support  332 non-null    float64            \n",
      " 11  budget                 332 non-null    float64            \n",
      " 12  financing_source       332 non-null    object             \n",
      " 13  ratings                7485 non-null   float64            \n",
      " 14  genres                 6510 non-null   object             \n",
      " 15  box_office             3158 non-null   float64            \n",
      "dtypes: datetime64[ns, UTC](1), float64(5), int64(1), object(9)\n",
      "memory usage: 994.1+ KB\n"
     ]
    }
   ],
   "source": [
    "movies.info()"
   ]
  },
  {
   "cell_type": "markdown",
   "metadata": {},
   "source": [
    "**Все данные правильного типа**"
   ]
  },
  {
   "cell_type": "markdown",
   "metadata": {
    "id": "i0MOLbF-gFyP"
   },
   "source": [
    "#### Шаг 2.2. Изучите пропуски в датафрейме\n",
    "\n",
    "- Объясните, почему заполнили пропуски определённым образом или почему не стали этого делать."
   ]
  },
  {
   "cell_type": "code",
   "execution_count": 15,
   "metadata": {
    "id": "8MJD_lkngFyP"
   },
   "outputs": [
    {
     "data": {
      "text/plain": [
       "title                       0\n",
       "puNumber                    0\n",
       "show_start_date             0\n",
       "type                        0\n",
       "film_studio                18\n",
       "production_country          2\n",
       "director                    9\n",
       "producer                  568\n",
       "age_restriction             0\n",
       "refundable_support       7153\n",
       "nonrefundable_support    7153\n",
       "budget                   7153\n",
       "financing_source         7153\n",
       "ratings                     0\n",
       "genres                    975\n",
       "box_office               4327\n",
       "dtype: int64"
      ]
     },
     "execution_count": 15,
     "metadata": {},
     "output_type": "execute_result"
    }
   ],
   "source": [
    "movies.isna().sum()"
   ]
  },
  {
   "cell_type": "code",
   "execution_count": 16,
   "metadata": {},
   "outputs": [
    {
     "data": {
      "text/plain": [
       "title                       0\n",
       "puNumber                    0\n",
       "show_start_date             0\n",
       "type                        0\n",
       "film_studio                18\n",
       "production_country          0\n",
       "director                    9\n",
       "producer                  568\n",
       "age_restriction             0\n",
       "refundable_support       7153\n",
       "nonrefundable_support    7153\n",
       "budget                   7153\n",
       "financing_source         7153\n",
       "ratings                     0\n",
       "genres                    975\n",
       "box_office               4327\n",
       "dtype: int64"
      ]
     },
     "execution_count": 16,
     "metadata": {},
     "output_type": "execute_result"
    }
   ],
   "source": [
    "#посмотрим на пропуски в production_country\n",
    "movies[movies['production_country'].isna()]\n",
    "\n",
    "#так как Ерфлаш и Мульт личности российского производства, пропуски в production_country можно заменить на 'Россия' \n",
    "movies['production_country'] = movies['production_country'].fillna('Россия')\n",
    "movies.isna().sum()"
   ]
  },
  {
   "cell_type": "markdown",
   "metadata": {},
   "source": [
    "**Заполним пропуски в film_studio, director, producer и genres на unknown**"
   ]
  },
  {
   "cell_type": "code",
   "execution_count": 17,
   "metadata": {},
   "outputs": [
    {
     "data": {
      "text/plain": [
       "title                       0\n",
       "puNumber                    0\n",
       "show_start_date             0\n",
       "type                        0\n",
       "film_studio                 0\n",
       "production_country          0\n",
       "director                    0\n",
       "producer                    0\n",
       "age_restriction             0\n",
       "refundable_support       7153\n",
       "nonrefundable_support    7153\n",
       "budget                   7153\n",
       "financing_source            0\n",
       "ratings                     0\n",
       "genres                      0\n",
       "box_office               4327\n",
       "dtype: int64"
      ]
     },
     "execution_count": 17,
     "metadata": {},
     "output_type": "execute_result"
    }
   ],
   "source": [
    "# перебор названий столбцов в цикле и замена пропущенных значений на 'unknown'\n",
    "columns_to_replace = ['film_studio', 'director', 'producer', 'genres', 'financing_source'] \n",
    "\n",
    "for column in columns_to_replace:\n",
    "    movies[column] = movies[column].fillna('unknown')\n",
    "\n",
    "movies.isna().sum()"
   ]
  },
  {
   "cell_type": "markdown",
   "metadata": {},
   "source": [
    "**Заполним пропуски в refundable_support, nonrefundable_support, budget, на 0, а в financing_source на unknow потому что пропуски говорят о том, что у этих фильмов не было государственной поддержки и в box_office на 0, так как нет данных о сборы в рублях (подумаем что с этим делать дальше)**"
   ]
  },
  {
   "cell_type": "code",
   "execution_count": 18,
   "metadata": {},
   "outputs": [
    {
     "data": {
      "text/plain": [
       "title                    0\n",
       "puNumber                 0\n",
       "show_start_date          0\n",
       "type                     0\n",
       "film_studio              0\n",
       "production_country       0\n",
       "director                 0\n",
       "producer                 0\n",
       "age_restriction          0\n",
       "refundable_support       0\n",
       "nonrefundable_support    0\n",
       "budget                   0\n",
       "financing_source         0\n",
       "ratings                  0\n",
       "genres                   0\n",
       "box_office               0\n",
       "dtype: int64"
      ]
     },
     "execution_count": 18,
     "metadata": {},
     "output_type": "execute_result"
    }
   ],
   "source": [
    "# перебор названий столбцов в цикле и замена пропущенных значений на 0\n",
    "columns_to_replace = ['refundable_support', 'nonrefundable_support', 'budget', 'box_office'] \n",
    "\n",
    "for column in columns_to_replace:\n",
    "    movies[column] = movies[column].fillna(0)\n",
    "\n",
    "movies.isna().sum()"
   ]
  },
  {
   "cell_type": "markdown",
   "metadata": {},
   "source": [
    "**Пропусков нет**"
   ]
  },
  {
   "cell_type": "markdown",
   "metadata": {
    "id": "4c6k1t9ygFyQ"
   },
   "source": [
    "#### Шаг 2.3. Изучите дубликаты в датафрейме\n",
    "- Проверьте, есть ли в данных дубликаты. Опишите причины, которые могли повлиять на появление дублей."
   ]
  },
  {
   "cell_type": "markdown",
   "metadata": {},
   "source": [
    "- Проверим дубликаты в puNumber"
   ]
  },
  {
   "cell_type": "code",
   "execution_count": 19,
   "metadata": {},
   "outputs": [
    {
     "data": {
      "text/html": [
       "<div>\n",
       "<style scoped>\n",
       "    .dataframe tbody tr th:only-of-type {\n",
       "        vertical-align: middle;\n",
       "    }\n",
       "\n",
       "    .dataframe tbody tr th {\n",
       "        vertical-align: top;\n",
       "    }\n",
       "\n",
       "    .dataframe thead th {\n",
       "        text-align: right;\n",
       "    }\n",
       "</style>\n",
       "<table border=\"1\" class=\"dataframe\">\n",
       "  <thead>\n",
       "    <tr style=\"text-align: right;\">\n",
       "      <th></th>\n",
       "      <th>title</th>\n",
       "      <th>puNumber</th>\n",
       "      <th>show_start_date</th>\n",
       "      <th>type</th>\n",
       "      <th>film_studio</th>\n",
       "      <th>production_country</th>\n",
       "      <th>director</th>\n",
       "      <th>producer</th>\n",
       "      <th>age_restriction</th>\n",
       "      <th>refundable_support</th>\n",
       "      <th>nonrefundable_support</th>\n",
       "      <th>budget</th>\n",
       "      <th>financing_source</th>\n",
       "      <th>ratings</th>\n",
       "      <th>genres</th>\n",
       "      <th>box_office</th>\n",
       "    </tr>\n",
       "  </thead>\n",
       "  <tbody>\n",
       "    <tr>\n",
       "      <th>5066</th>\n",
       "      <td>Анализируй это!</td>\n",
       "      <td>221054410</td>\n",
       "      <td>2010-05-25 12:00:00+00:00</td>\n",
       "      <td>Художественный</td>\n",
       "      <td>Уорнер Бразерс, Вилладж Роудшоу Филмз ЛТД</td>\n",
       "      <td>США-Австралия</td>\n",
       "      <td>ХЭрольд Рэмис</td>\n",
       "      <td>Джейн Розенталь, Пола Уейнстейн</td>\n",
       "      <td>«16+» - для детей старше 16 лет</td>\n",
       "      <td>0.0</td>\n",
       "      <td>0.0</td>\n",
       "      <td>0.0</td>\n",
       "      <td>unknown</td>\n",
       "      <td>7.4</td>\n",
       "      <td>комедия,криминал</td>\n",
       "      <td>0.0</td>\n",
       "    </tr>\n",
       "    <tr>\n",
       "      <th>5067</th>\n",
       "      <td>Анализируй то!</td>\n",
       "      <td>221054410</td>\n",
       "      <td>2010-05-25 12:00:00+00:00</td>\n",
       "      <td>Художественный</td>\n",
       "      <td>Уорнер Бразерс, Виллидж Роадшоу Пикчерз, Эн-Пи...</td>\n",
       "      <td>США</td>\n",
       "      <td>Гарольд Реймис</td>\n",
       "      <td>Джейн Розенталь, Паул Уэйнстейн</td>\n",
       "      <td>«12+» - для детей старше 12 лет</td>\n",
       "      <td>0.0</td>\n",
       "      <td>0.0</td>\n",
       "      <td>0.0</td>\n",
       "      <td>unknown</td>\n",
       "      <td>6.8</td>\n",
       "      <td>комедия,криминал</td>\n",
       "      <td>0.0</td>\n",
       "    </tr>\n",
       "  </tbody>\n",
       "</table>\n",
       "</div>"
      ],
      "text/plain": [
       "                title   puNumber           show_start_date            type  \\\n",
       "5066  Анализируй это!  221054410 2010-05-25 12:00:00+00:00  Художественный   \n",
       "5067   Анализируй то!  221054410 2010-05-25 12:00:00+00:00  Художественный   \n",
       "\n",
       "                                            film_studio production_country  \\\n",
       "5066          Уорнер Бразерс, Вилладж Роудшоу Филмз ЛТД      США-Австралия   \n",
       "5067  Уорнер Бразерс, Виллидж Роадшоу Пикчерз, Эн-Пи...                США   \n",
       "\n",
       "            director                         producer  \\\n",
       "5066   ХЭрольд Рэмис  Джейн Розенталь, Пола Уейнстейн   \n",
       "5067  Гарольд Реймис  Джейн Розенталь, Паул Уэйнстейн   \n",
       "\n",
       "                      age_restriction  refundable_support  \\\n",
       "5066  «16+» - для детей старше 16 лет                 0.0   \n",
       "5067  «12+» - для детей старше 12 лет                 0.0   \n",
       "\n",
       "      nonrefundable_support  budget financing_source  ratings  \\\n",
       "5066                    0.0     0.0          unknown      7.4   \n",
       "5067                    0.0     0.0          unknown      6.8   \n",
       "\n",
       "                genres  box_office  \n",
       "5066  комедия,криминал         0.0  \n",
       "5067  комедия,криминал         0.0  "
      ]
     },
     "execution_count": 19,
     "metadata": {},
     "output_type": "execute_result"
    }
   ],
   "source": [
    "movies[movies['puNumber'].duplicated() == True]\n",
    "movies[movies['puNumber'] == 221154310]\n",
    "movies[movies['puNumber'] == 221054410]"
   ]
  },
  {
   "cell_type": "markdown",
   "metadata": {},
   "source": [
    "Проверив в интеренете эти фильмы, увидела что они не бьются по дате премьеры. Мне кажестя если удалить их, ничего страшного не произойдет"
   ]
  },
  {
   "cell_type": "code",
   "execution_count": 20,
   "metadata": {},
   "outputs": [
    {
     "name": "stdout",
     "output_type": "stream",
     "text": [
      "<class 'pandas.core.frame.DataFrame'>\n",
      "RangeIndex: 7483 entries, 0 to 7482\n",
      "Data columns (total 16 columns):\n",
      " #   Column                 Non-Null Count  Dtype              \n",
      "---  ------                 --------------  -----              \n",
      " 0   title                  7483 non-null   object             \n",
      " 1   puNumber               7483 non-null   int64              \n",
      " 2   show_start_date        7483 non-null   datetime64[ns, UTC]\n",
      " 3   type                   7483 non-null   object             \n",
      " 4   film_studio            7483 non-null   object             \n",
      " 5   production_country     7483 non-null   object             \n",
      " 6   director               7483 non-null   object             \n",
      " 7   producer               7483 non-null   object             \n",
      " 8   age_restriction        7483 non-null   object             \n",
      " 9   refundable_support     7483 non-null   float64            \n",
      " 10  nonrefundable_support  7483 non-null   float64            \n",
      " 11  budget                 7483 non-null   float64            \n",
      " 12  financing_source       7483 non-null   object             \n",
      " 13  ratings                7483 non-null   float64            \n",
      " 14  genres                 7483 non-null   object             \n",
      " 15  box_office             7483 non-null   float64            \n",
      "dtypes: datetime64[ns, UTC](1), float64(5), int64(1), object(9)\n",
      "memory usage: 935.5+ KB\n"
     ]
    }
   ],
   "source": [
    "movies = movies.drop_duplicates('puNumber').reset_index(drop=True)\n",
    "movies.info()"
   ]
  },
  {
   "cell_type": "markdown",
   "metadata": {},
   "source": [
    "- Проверим дубликаты в title"
   ]
  },
  {
   "cell_type": "code",
   "execution_count": 21,
   "metadata": {
    "scrolled": true
   },
   "outputs": [
    {
     "data": {
      "text/html": [
       "<div>\n",
       "<style scoped>\n",
       "    .dataframe tbody tr th:only-of-type {\n",
       "        vertical-align: middle;\n",
       "    }\n",
       "\n",
       "    .dataframe tbody tr th {\n",
       "        vertical-align: top;\n",
       "    }\n",
       "\n",
       "    .dataframe thead th {\n",
       "        text-align: right;\n",
       "    }\n",
       "</style>\n",
       "<table border=\"1\" class=\"dataframe\">\n",
       "  <thead>\n",
       "    <tr style=\"text-align: right;\">\n",
       "      <th></th>\n",
       "      <th>title</th>\n",
       "      <th>puNumber</th>\n",
       "      <th>show_start_date</th>\n",
       "      <th>type</th>\n",
       "      <th>film_studio</th>\n",
       "      <th>production_country</th>\n",
       "      <th>director</th>\n",
       "      <th>producer</th>\n",
       "      <th>age_restriction</th>\n",
       "      <th>refundable_support</th>\n",
       "      <th>nonrefundable_support</th>\n",
       "      <th>budget</th>\n",
       "      <th>financing_source</th>\n",
       "      <th>ratings</th>\n",
       "      <th>genres</th>\n",
       "      <th>box_office</th>\n",
       "    </tr>\n",
       "  </thead>\n",
       "  <tbody>\n",
       "    <tr>\n",
       "      <th>3761</th>\n",
       "      <td>Гадкий Я</td>\n",
       "      <td>124000710</td>\n",
       "      <td>2010-06-23 12:00:00+00:00</td>\n",
       "      <td>Анимационный</td>\n",
       "      <td>Иллюминейшн Интертейнмент, Юниверсал Пикчерз</td>\n",
       "      <td>США</td>\n",
       "      <td>Пьер Коффин, Крис Рено</td>\n",
       "      <td>Джон Коэн, Кристофер Милидандри</td>\n",
       "      <td>«0+» - для любой зрительской аудитории</td>\n",
       "      <td>0.0</td>\n",
       "      <td>0.0</td>\n",
       "      <td>0.0</td>\n",
       "      <td>unknown</td>\n",
       "      <td>7.7</td>\n",
       "      <td>мультфильм,фэнтези,комедия</td>\n",
       "      <td>6970.0</td>\n",
       "    </tr>\n",
       "  </tbody>\n",
       "</table>\n",
       "</div>"
      ],
      "text/plain": [
       "         title   puNumber           show_start_date          type  \\\n",
       "3761  Гадкий Я  124000710 2010-06-23 12:00:00+00:00  Анимационный   \n",
       "\n",
       "                                       film_studio production_country  \\\n",
       "3761  Иллюминейшн Интертейнмент, Юниверсал Пикчерз                США   \n",
       "\n",
       "                    director                         producer  \\\n",
       "3761  Пьер Коффин, Крис Рено  Джон Коэн, Кристофер Милидандри   \n",
       "\n",
       "                             age_restriction  refundable_support  \\\n",
       "3761  «0+» - для любой зрительской аудитории                 0.0   \n",
       "\n",
       "      nonrefundable_support  budget financing_source  ratings  \\\n",
       "3761                    0.0     0.0          unknown      7.7   \n",
       "\n",
       "                          genres  box_office  \n",
       "3761  мультфильм,фэнтези,комедия      6970.0  "
      ]
     },
     "execution_count": 21,
     "metadata": {},
     "output_type": "execute_result"
    }
   ],
   "source": [
    "movies['title'].value_counts() \n",
    "\n",
    "#уберем в title '_'\n",
    "movies['title'] = movies['title'].replace(to_replace ='_', value = '', regex = True)\n",
    "\n",
    "#уберем дубликаты в title оставив строки с максимальным значением в box_office\n",
    "movies = movies.sort_values('box_office', ascending=False).drop_duplicates('title').sort_index().reset_index(drop=True)\n",
    "\n",
    "#проверим \n",
    "movies[movies['title'] == 'Гадкий Я']"
   ]
  },
  {
   "cell_type": "code",
   "execution_count": 22,
   "metadata": {},
   "outputs": [
    {
     "data": {
      "text/plain": [
       "array(['боевик, драма, мелодрама', 'драма, военный',\n",
       "       'фантастика, боевик, триллер', 'драма', 'мелодрама, комедия',\n",
       "       'мюзикл, мелодрама, комедия', 'комедия, криминал',\n",
       "       'боевик, триллер, детектив', 'боевик, драма, приключения',\n",
       "       'драма, спорт', 'триллер, драма, мелодрама', 'комедия, мелодрама',\n",
       "       'драма, мелодрама, комедия', 'драма, мелодрама', 'драма, история',\n",
       "       'драма, мелодрама, семейный', 'комедия, мелодрама, криминал',\n",
       "       'комедия', 'боевик, драма, криминал', 'драма, комедия',\n",
       "       'ужасы, фантастика, комедия',\n",
       "       'мультфильм, короткометражка, мелодрама', 'драма, криминал',\n",
       "       'мультфильм, фантастика, фэнтези', 'драма, мелодрама, биография',\n",
       "       'драма, комедия, военный', 'фантастика, драма, детектив',\n",
       "       'мюзикл, семейный', 'unknown', 'военный, приключения, драма',\n",
       "       'документальный, драма', 'драма, биография, история',\n",
       "       'боевик, триллер, драма', 'фэнтези, боевик',\n",
       "       'боевик, комедия, криминал', 'мюзикл, комедия, детский',\n",
       "       'комедия, мелодрама, драма', 'мультфильм, фэнтези, комедия',\n",
       "       'комедия, история', 'мелодрама', 'драма, биография, музыка',\n",
       "       'фэнтези, драма, мелодрама', 'триллер, военный',\n",
       "       'драма, мелодрама, военный', 'мюзикл, драма, мелодрама',\n",
       "       'мюзикл, комедия', 'мультфильм, приключения, семейный',\n",
       "       'ужасы, триллер', 'боевик, драма, военный',\n",
       "       'триллер, драма, криминал', 'драма, боевик',\n",
       "       'мультфильм, драма, комедия', 'триллер, криминал',\n",
       "       'военный, биография, драма', 'комедия, семейный', 'военный',\n",
       "       'фэнтези, приключения, семейный', 'ужасы, триллер, детектив',\n",
       "       'боевик, история, драма', 'ужасы, триллер, драма',\n",
       "       'драма, криминал, спорт', 'документальный, короткометражка',\n",
       "       'триллер, драма', 'криминал, детектив, приключения',\n",
       "       'драма, комедия, криминал', 'драма, комедия, вестерн',\n",
       "       'драма, мелодрама, детектив', 'мелодрама, биография',\n",
       "       'драма, мелодрама, история', 'комедия, приключения, история',\n",
       "       'приключения', 'драма, семейный', 'криминал, детектив',\n",
       "       'мультфильм, короткометражка, ужасы', 'фантастика, триллер, драма',\n",
       "       'фэнтези, мелодрама, комедия', 'драма, биография',\n",
       "       'комедия, криминал, история', 'фантастика, комедия, приключения',\n",
       "       'фэнтези, семейный', 'ужасы, фантастика, боевик',\n",
       "       'мелодрама, криминал', 'комедия, приключения, мелодрама',\n",
       "       'боевик, триллер, приключения', 'боевик, приключения',\n",
       "       'боевик, триллер, криминал', 'документальный, военный, история',\n",
       "       'драма, музыка', 'боевик, драма', 'приключения, боевик',\n",
       "       'драма, военный, биография', 'триллер, драма, приключения',\n",
       "       'аниме, мультфильм, фэнтези', 'триллер, детектив, драма',\n",
       "       'боевик, триллер, мелодрама', 'боевик, история',\n",
       "       'приключения, история', 'драма, комедия, приключения',\n",
       "       'фэнтези, комедия, приключения', 'документальный, музыка',\n",
       "       'мелодрама, драма', 'триллер, криминал, детектив', 'ужасы',\n",
       "       'мультфильм, фэнтези, боевик', 'боевик, фэнтези, драма',\n",
       "       'фэнтези, драма', 'фэнтези, боевик, комедия',\n",
       "       'приключения, детский, комедия', 'документальный',\n",
       "       'боевик, триллер, комедия', 'мелодрама, комедия, криминал',\n",
       "       'драма, детектив', 'триллер, драма, детектив',\n",
       "       'мюзикл, ужасы, триллер', 'детектив, триллер, ужасы',\n",
       "       'ужасы, фэнтези', 'ужасы, фэнтези, триллер', 'мультфильм, драма',\n",
       "       'ужасы, боевик, фантастика', 'боевик', 'фантастика, боевик',\n",
       "       'мелодрама, комедия, приключения', 'триллер, детектив',\n",
       "       'мюзикл, мелодрама, фэнтези', 'криминал',\n",
       "       'триллер, комедия, криминал', 'триллер, драма, военный',\n",
       "       'комедия, семейный, музыка', 'комедия, фантастика, мелодрама',\n",
       "       'фантастика, триллер, криминал', 'комедия, драма',\n",
       "       'боевик, военный', 'ужасы, фантастика, триллер',\n",
       "       'фантастика, драма, мелодрама', 'фэнтези, драма, детектив',\n",
       "       'боевик, драма, история', 'мультфильм, короткометражка, детский',\n",
       "       'комедия, приключения', 'ужасы, фэнтези, боевик',\n",
       "       'боевик, триллер', 'мультфильм, фэнтези, детский',\n",
       "       'мюзикл, боевик, драма', 'семейный, комедия, драма',\n",
       "       'концерт, музыка', 'фэнтези, боевик, драма',\n",
       "       'драма, комедия, музыка', 'фантастика, фэнтези, боевик',\n",
       "       'фэнтези, комедия, семейный', 'фэнтези, драма, комедия', 'триллер',\n",
       "       'фантастика, боевик, приключения', 'боевик, криминал, триллер',\n",
       "       'мультфильм, приключения, драма', 'мелодрама, музыка',\n",
       "       'документальный, музыка, концерт', 'мультфильм, семейный',\n",
       "       'мультфильм, комедия, приключения',\n",
       "       'мультфильм, комедия, семейный', 'фантастика, драма',\n",
       "       'фэнтези, боевик, приключения', 'мультфильм, приключения',\n",
       "       'драма, военный, история', 'история',\n",
       "       'документальный, короткометражка, семейный',\n",
       "       'мелодрама, история, триллер', 'мультфильм, мюзикл, драма',\n",
       "       'ужасы, детектив', 'мюзикл, комедия, приключения',\n",
       "       'драма, спорт, биография', 'фантастика, боевик, комедия',\n",
       "       'фантастика, приключения, детектив',\n",
       "       'короткометражка, драма, военный', 'драма, мультфильм',\n",
       "       'приключения, семейный', 'детектив', 'триллер, приключения',\n",
       "       'мультфильм, мюзикл, фэнтези', 'аниме, мультфильм, боевик',\n",
       "       'драма, комедия, биография', 'драма, комедия, спорт',\n",
       "       'документальный, приключения', 'боевик, мелодрама, комедия',\n",
       "       'семейный, комедия', 'фэнтези, боевик, триллер',\n",
       "       'ужасы, комедия, фэнтези', 'документальный, биография, музыка',\n",
       "       'фантастика, боевик, фэнтези', 'ужасы, боевик, триллер',\n",
       "       'комедия, криминал, семейный', 'приключения, драма',\n",
       "       'криминал, драма, триллер', 'драма, детектив, криминал',\n",
       "       'фэнтези, приключения, комедия', 'комедия, спорт',\n",
       "       'мюзикл, фэнтези, мелодрама', 'мультфильм, фэнтези, приключения',\n",
       "       'фантастика, фэнтези, приключения', 'фэнтези',\n",
       "       'фэнтези, приключения, боевик', 'фантастика, боевик, драма',\n",
       "       'криминал, драма', 'криминал, триллер, драма',\n",
       "       'драма, мелодрама, приключения', 'детский, комедия',\n",
       "       'фантастика, драма, боевик', 'фэнтези, мелодрама, драма',\n",
       "       'мультфильм, семейный, фэнтези', 'концерт, музыка, документальный',\n",
       "       'ужасы, комедия, приключения', 'драма, мелодрама, криминал',\n",
       "       'ужасы, фантастика, фэнтези', 'боевик, комедия',\n",
       "       'мультфильм, фантастика, комедия', 'триллер, ужасы',\n",
       "       'мультфильм, мюзикл, комедия', 'мелодрама, фэнтези, триллер',\n",
       "       'детский, приключения, комедия', 'комедия, детектив',\n",
       "       'аниме, мультфильм, мелодрама', 'документальный, драма, семейный',\n",
       "       'документальный, биография, история', 'военный, боевик, драма',\n",
       "       'ужасы, комедия', 'комедия, приключения, семейный',\n",
       "       'приключения, биография, история',\n",
       "       'детский, приключения, семейный', 'спорт, драма, биография',\n",
       "       'аниме, мультфильм, ужасы', 'фантастика, боевик, криминал',\n",
       "       'мюзикл, драма', 'драма, криминал, детектив',\n",
       "       'аниме, мультфильм, драма', 'драма, триллер, приключения',\n",
       "       'триллер, криминал, драма', 'фэнтези, комедия, драма',\n",
       "       'мультфильм, комедия', 'драма, комедия, история',\n",
       "       'комедия, биография, история',\n",
       "       'мультфильм, фантастика, приключения',\n",
       "       'аниме, мультфильм, фантастика', 'драма, семейный, биография',\n",
       "       'драма, криминал, биография', 'мультфильм, фэнтези, семейный',\n",
       "       'мультфильм, боевик, комедия', 'комедия, криминал, спорт',\n",
       "       'ужасы, драма', 'документальный, мюзикл',\n",
       "       'мелодрама, комедия, музыка', 'биография',\n",
       "       'триллер, криминал, комедия', 'фантастика, драма, комедия',\n",
       "       'комедия, драма, мелодрама', 'фантастика, приключения, боевик',\n",
       "       'мультфильм, фэнтези, драма', 'триллер, комедия',\n",
       "       'драма, приключения, биография', 'фантастика, комедия',\n",
       "       'мелодрама, драма, комедия', 'боевик, криминал',\n",
       "       'драма, криминал, боевик', 'комедия, боевик, приключения',\n",
       "       'мультфильм, мюзикл, детский', 'драма, фэнтези',\n",
       "       'документальный, семейный', 'фэнтези, драма, приключения',\n",
       "       'ужасы, комедия, фантастика', 'драма, мелодрама, музыка',\n",
       "       'фэнтези, драма, семейный', 'триллер, мелодрама, драма',\n",
       "       'вестерн, боевик, драма', 'мультфильм, короткометражка, комедия',\n",
       "       'боевик, комедия, приключения', 'триллер, драма, история',\n",
       "       'ужасы, фантастика', 'ужасы, мелодрама, комедия',\n",
       "       'фэнтези, приключения', 'фантастика, триллер',\n",
       "       'ужасы, боевик, фэнтези', 'мультфильм, комедия, детский',\n",
       "       'триллер, драма, биография', 'мультфильм, ужасы, фэнтези',\n",
       "       'мультфильм, ужасы, фантастика', 'ужасы, боевик, комедия',\n",
       "       'драма, биография, спорт', 'мультфильм',\n",
       "       'мелодрама, комедия, драма', 'приключения, фантастика, семейный',\n",
       "       'комедия, криминал, детектив', 'ужасы, триллер, комедия',\n",
       "       'криминал, комедия, триллер', 'семейный, приключения, комедия',\n",
       "       'мультфильм, драма, приключения', 'ужасы, драма, детектив',\n",
       "       'драма, приключения, фэнтези', 'фантастика, мультфильм, драма',\n",
       "       'драма, триллер, детектив', 'драма, история, музыка', 'детский',\n",
       "       'триллер, боевик, криминал', 'драма, фантастика',\n",
       "       'комедия, драма, семейный', 'боевик, драма, комедия',\n",
       "       'комедия, ужасы', 'драма, фантастика, триллер',\n",
       "       'фантастика, драма, триллер', 'мелодрама, комедия, спорт',\n",
       "       'история, спорт, драма', 'документальный, биография',\n",
       "       'биография, история', 'спорт, драма', 'боевик, фэнтези',\n",
       "       'мультфильм, фэнтези', 'документальный, комедия, история',\n",
       "       'криминал, комедия, боевик', 'фэнтези, приключения, драма',\n",
       "       'музыка, концерт', 'триллер, драма, боевик',\n",
       "       'комедия, криминал, боевик', 'комедия, фантастика, боевик',\n",
       "       'вестерн, приключения, боевик', 'аниме, мультфильм, комедия',\n",
       "       'детектив, криминал, триллер', 'мультфильм, комедия, криминал',\n",
       "       'комедия, приключения, детектив', 'драма, комедия, семейный',\n",
       "       'приключения, фантастика', 'триллер, детектив, ужасы',\n",
       "       'комедия, приключения, фэнтези', 'фэнтези, триллер, драма',\n",
       "       'фантастика, фэнтези, драма', 'мелодрама, приключения, боевик',\n",
       "       'детектив, триллер, криминал', 'фэнтези, семейный, мелодрама',\n",
       "       'военный, драма', 'документальный, приключения, семейный',\n",
       "       'криминал, комедия, драма', 'комедия, фантастика',\n",
       "       'история, биография, драма', 'мелодрама, драма, музыка',\n",
       "       'боевик, мелодрама', 'комедия, криминал, триллер',\n",
       "       'детектив, триллер, боевик', 'комедия, боевик, криминал',\n",
       "       'комедия, вестерн', 'детский, мелодрама, семейный',\n",
       "       'короткометражка, мультфильм', 'комедия, фэнтези',\n",
       "       'фантастика, драма, ужасы', 'триллер, драма, ужасы',\n",
       "       'драма, фэнтези, история', 'фэнтези, триллер, приключения',\n",
       "       'семейный', 'комедия, криминал, драма', 'комедия, фэнтези, ужасы',\n",
       "       'короткометражка, комедия, криминал', 'фантастика',\n",
       "       'триллер, ужасы, драма', 'мелодрама, драма, фэнтези',\n",
       "       'фантастика, приключения, драма', 'боевик, детектив',\n",
       "       'военный, драма, боевик', 'комедия, мелодрама, фэнтези',\n",
       "       'вестерн, криминал, триллер', 'драма, история, триллер',\n",
       "       'мультфильм, фантастика, боевик', 'детектив, драма, криминал',\n",
       "       'приключения, история, драма', 'мультфильм, семейный, детский',\n",
       "       'биография, драма, история', 'триллер, криминал, боевик',\n",
       "       'история, мелодрама', 'приключения, детский',\n",
       "       'музыка, приключения, концерт', 'военный, драма, комедия',\n",
       "       'фэнтези, боевик, военный', 'фантастика, детектив, боевик',\n",
       "       'мультфильм, фэнтези, история', 'биография, мелодрама, драма',\n",
       "       'документальный, биография, спорт',\n",
       "       'фантастика, комедия, детектив', 'музыка, концерт, документальный',\n",
       "       'триллер, боевик, приключения', 'триллер, драма, комедия',\n",
       "       'детектив, криминал', 'мультфильм, приключения, фэнтези',\n",
       "       'мелодрама, приключения', 'комедия, музыка',\n",
       "       'мелодрама, комедия, ужасы', 'драма, криминал, приключения',\n",
       "       'приключения, детектив, мелодрама', 'драма, криминал, фантастика',\n",
       "       'фэнтези, драма, биография', 'драма, вестерн',\n",
       "       'детектив, фантастика, криминал', 'триллер, драма, фантастика',\n",
       "       'ужасы, комедия, боевик', 'мелодрама, история', 'триллер, боевик',\n",
       "       'фильм-нуар, триллер, детектив', 'комедия, криминал, приключения',\n",
       "       'ужасы, триллер, мелодрама', 'военный, драма, история',\n",
       "       'драма, спорт, история', 'документальный, драма, история',\n",
       "       'триллер, мелодрама, детектив', 'детский, семейный',\n",
       "       'мюзикл, семейный, драма', 'биография, военный, драма',\n",
       "       'мультфильм, детский', 'боевик, криминал, драма',\n",
       "       'детектив, фэнтези, триллер', 'драма, боевик, приключения',\n",
       "       'драма, мелодрама, фэнтези', 'детектив, история, драма',\n",
       "       'фэнтези, боевик, ужасы', 'ужасы, фэнтези, мелодрама',\n",
       "       'ужасы, приключения', 'боевик, фантастика',\n",
       "       'ужасы, мелодрама, детектив', 'фантастика, триллер, приключения',\n",
       "       'боевик, приключения, история', 'приключения, боевик, триллер',\n",
       "       'детектив, ужасы, криминал', 'семейный, фэнтези',\n",
       "       'мюзикл, мелодрама', 'драма, военный, приключения',\n",
       "       'фантастика, драма, приключения', 'приключения, семейный, драма',\n",
       "       'история, драма, боевик', 'мультфильм, приключения, комедия',\n",
       "       'криминал, драма, комедия', 'ужасы, комедия, драма',\n",
       "       'комедия, семейный, приключения', 'мюзикл, фэнтези, драма',\n",
       "       'драма, вестерн, боевик', 'фантастика, триллер, детектив',\n",
       "       'драма, история, детектив', 'короткометражка, биография',\n",
       "       'мультфильм, приключения, фантастика', 'комедия, триллер',\n",
       "       'мультфильм, приключения, детектив', 'драма, триллер',\n",
       "       'ужасы, триллер, криминал', 'документальный, криминал, военный',\n",
       "       'ужасы, фэнтези, драма', 'фэнтези, комедия',\n",
       "       'ужасы, фэнтези, комедия', 'комедия, музыка, драма',\n",
       "       'мультфильм, приключения, военный', 'мюзикл, фэнтези, комедия',\n",
       "       'боевик, фантастика, приключения', 'триллер, ужасы, криминал',\n",
       "       'ужасы, фантастика, драма', 'фантастика, приключения, семейный',\n",
       "       'короткометражка, музыка', 'мелодрама, детектив, комедия',\n",
       "       'документальный, триллер, биография',\n",
       "       'боевик, фантастика, триллер', 'спорт, драма, комедия',\n",
       "       'фэнтези, мелодрама, приключения', 'триллер, детектив, криминал',\n",
       "       'короткометражка, мелодрама', 'мультфильм, семейный, спорт',\n",
       "       'комедия, фэнтези, мелодрама', 'драма, спорт, комедия',\n",
       "       'история, драма, мелодрама', 'драма, боевик, криминал',\n",
       "       'драма, комедия, триллер', 'аниме, мультфильм',\n",
       "       'документальный, ужасы', 'мультфильм, короткометражка',\n",
       "       'драма, история, военный', 'мультфильм, короткометражка, фэнтези',\n",
       "       'комедия, военный, музыка', 'биография, история, драма',\n",
       "       'ужасы, драма, мелодрама', 'драма, комедия, детектив',\n",
       "       'комедия, семейный, фантастика', 'мультфильм, семейный, комедия',\n",
       "       'история, детектив', 'приключения, мелодрама, детектив',\n",
       "       'мюзикл, комедия, мелодрама', 'драма, фантастика, ужасы',\n",
       "       'мультфильм, ужасы, комедия', 'для взрослых, драма, комедия',\n",
       "       'ужасы, комедия, музыка', 'комедия, история, драма',\n",
       "       'семейный, детектив, детский', 'короткометражка, драма',\n",
       "       'документальный, новости, драма', 'триллер, мелодрама',\n",
       "       'ужасы, драма, вестерн', 'мюзикл, фэнтези, семейный',\n",
       "       'вестерн, драма, триллер', 'приключения, вестерн, боевик',\n",
       "       'семейный, комедия, музыка', 'боевик, драма, вестерн',\n",
       "       'ужасы, драма, триллер', 'фантастика, мелодрама',\n",
       "       'комедия, криминал, биография', 'фантастика, мелодрама, боевик',\n",
       "       'семейный, мультфильм, комедия', 'комедия, драма, криминал',\n",
       "       'фантастика, боевик, военный', 'приключения, биография, драма',\n",
       "       'приключения, триллер, биография', 'криминал, боевик, триллер',\n",
       "       'боевик, вестерн, приключения', 'история, драма',\n",
       "       'фантастика, фэнтези, комедия', 'мультфильм, детский, комедия',\n",
       "       'мелодрама, комедия, триллер',\n",
       "       'документальный, боевик, приключения', 'драма, приключения',\n",
       "       'мелодрама, военный, драма', 'триллер, фэнтези',\n",
       "       'драма, триллер, биография', 'фэнтези, боевик, семейный',\n",
       "       'фантастика, триллер, комедия', 'документальный, фэнтези',\n",
       "       'комедия, мультфильм, фантастика', 'криминал, биография, комедия',\n",
       "       'биография, спорт, драма', 'приключения, военный',\n",
       "       'мультфильм, семейный, драма', 'документальный, фэнтези, драма',\n",
       "       'комедия, боевик, фантастика', 'семейный, приключения, военный',\n",
       "       'триллер, ужасы, детектив', 'короткометражка',\n",
       "       'мелодрама, триллер, история', 'документальный, история',\n",
       "       'мультфильм, приключения, детский', 'драма, комедия, мультфильм',\n",
       "       'военный, детектив', 'семейный, приключения, документальный',\n",
       "       'детский, фэнтези', 'документальный, комедия',\n",
       "       'комедия, биография', 'криминал, комедия',\n",
       "       'спорт, мелодрама, криминал', 'фантастика, комедия, боевик',\n",
       "       'боевик, приключения, детектив', 'детектив, триллер, драма',\n",
       "       'документальный, фантастика', 'мелодрама, комедия, семейный',\n",
       "       'мультфильм, мелодрама, комедия', 'боевик, приключения, триллер',\n",
       "       'мюзикл, комедия, музыка', 'фантастика, триллер, мелодрама',\n",
       "       'приключения, комедия, фэнтези', 'фэнтези, боевик, детектив',\n",
       "       'комедия, военный', 'драма, спорт, боевик',\n",
       "       'мультфильм, боевик, триллер', 'мелодрама, семейный',\n",
       "       'фантастика, боевик, детектив', 'драма, приключения, история',\n",
       "       'документальный, драма, музыка', 'фантастика, триллер, боевик',\n",
       "       'фэнтези, боевик, вестерн', 'драма, комедия, мелодрама',\n",
       "       'ужасы, фэнтези, приключения', 'триллер, фэнтези, драма',\n",
       "       'мультфильм, мюзикл, мелодрама', 'ужасы, триллер, фантастика',\n",
       "       'триллер, мелодрама, комедия', 'драма, спорт, семейный',\n",
       "       'ужасы, комедия, семейный', 'комедия, приключения, музыка',\n",
       "       'документальный, комедия, криминал', 'мелодрама, детектив',\n",
       "       'детский, приключения, фантастика',\n",
       "       'короткометражка, боевик, драма', 'фантастика, боевик, мелодрама',\n",
       "       'фэнтези, триллер, мелодрама', 'драма, детектив, история',\n",
       "       'боевик, криминал, детектив', 'мультфильм, фэнтези, мелодрама',\n",
       "       'мелодрама, драма, боевик', 'драма, приключения, мелодрама',\n",
       "       'фэнтези, боевик, криминал', 'фантастика, комедия, семейный',\n",
       "       'фэнтези, боевик, мелодрама', 'детский, фэнтези, приключения',\n",
       "       'ужасы, боевик', 'фантастика, мелодрама, комедия',\n",
       "       'семейный, спорт, боевик', 'триллер, биография, драма',\n",
       "       'ужасы, драма, комедия', 'мультфильм, фэнтези, триллер', 'мюзикл',\n",
       "       'комедия, приключения, вестерн', 'для взрослых, драма, мелодрама',\n",
       "       'документальный, ужасы, боевик', 'фантастика, боевик, семейный',\n",
       "       'военный, история', 'мультфильм, боевик, детектив',\n",
       "       'боевик, спорт, драма', 'драма, вестерн, приключения',\n",
       "       'ужасы, боевик, криминал', 'детектив, триллер',\n",
       "       'документальный, фэнтези, семейный', 'драма, семейный, комедия',\n",
       "       'ужасы, фантастика, детектив', 'драма, детектив, приключения',\n",
       "       'драма, криминал, история', 'драма, приключения, военный',\n",
       "       'приключения, триллер', 'боевик, драма, биография',\n",
       "       'драма, приключения, триллер', 'комедия, фэнтези, приключения',\n",
       "       'фантастика, боевик, ужасы', 'драма, комедия, фантастика',\n",
       "       'детектив, криминал, драма', 'боевик, триллер, фэнтези',\n",
       "       'приключения, детектив, семейный', 'мелодрама, фантастика, драма',\n",
       "       'ужасы, комедия, криминал', 'мультфильм, биография, драма',\n",
       "       'история, боевик, фэнтези', 'детектив, криминал, боевик',\n",
       "       'приключения, фэнтези', 'комедия, приключения, спорт',\n",
       "       'драма, биография, мюзикл', 'комедия, семейный, фэнтези',\n",
       "       'детектив, драма, триллер', 'боевик, приключения, семейный',\n",
       "       'биография, спорт, комедия', 'фантастика, приключения, военный',\n",
       "       'документальный, драма, биография',\n",
       "       'фантастика, мелодрама, фэнтези', 'детектив, приключения, драма',\n",
       "       'аниме, мультфильм, приключения', 'семейный, приключения',\n",
       "       'ужасы, фэнтези, детектив', 'семейный, документальный',\n",
       "       'драма, приключения, семейный', 'приключения, история, военный',\n",
       "       'фэнтези, мелодрама', 'фэнтези, триллер, детектив',\n",
       "       'документальный, спорт, биография', 'комедия, триллер, драма',\n",
       "       'драма, ужасы', 'биография, музыка, драма', 'фэнтези, ужасы',\n",
       "       'детектив, мелодрама, фэнтези', 'боевик, военный, история',\n",
       "       'биография, драма, криминал', 'триллер, мелодрама, криминал',\n",
       "       'семейный, мелодрама', 'биография, драма',\n",
       "       'военный, история, драма', 'фантастика, детектив, фэнтези',\n",
       "       'детектив, приключения, триллер', 'фантастика, приключения',\n",
       "       'мультфильм, короткометражка, мюзикл',\n",
       "       'мультфильм, детский, семейный', 'документальный, драма, комедия',\n",
       "       'комедия, приключения, криминал',\n",
       "       'документальный, семейный, музыка',\n",
       "       'комедия, драма, короткометражка', 'мелодрама, музыка, драма',\n",
       "       'детектив, фантастика, триллер', 'драма, мелодрама, триллер',\n",
       "       'биография, драма, военный', 'приключения, фантастика, драма',\n",
       "       'детектив, фильм-нуар, комедия', 'документальный, спорт',\n",
       "       'триллер, фантастика, драма', 'биография, документальный',\n",
       "       'ужасы, фантастика, мелодрама', 'детектив, комедия',\n",
       "       'история, биография, военный', 'криминал, мелодрама',\n",
       "       'драма, криминал, вестерн', 'мелодрама, семейный, приключения',\n",
       "       'триллер, ужасы, мелодрама', 'детектив, мелодрама',\n",
       "       'комедия, драма, биография', 'драма, военный, боевик',\n",
       "       'драма, комедия, ужасы', 'фантастика, драма, криминал',\n",
       "       'документальный, музыка, биография',\n",
       "       'мультфильм, боевик, приключения', 'короткометражка, фантастика',\n",
       "       'мультфильм, мелодрама, драма', 'боевик, военный, драма',\n",
       "       'фэнтези, семейный, приключения',\n",
       "       'детский, мультфильм, приключения', 'семейный, фэнтези, комедия',\n",
       "       'фэнтези, ужасы, триллер', 'ужасы, триллер, приключения',\n",
       "       'драма, боевик, история', 'фэнтези, комедия, детектив',\n",
       "       'история, приключения', 'боевик, комедия, семейный',\n",
       "       'фэнтези, драма, фильм-нуар', 'аниме, мультфильм, короткометражка',\n",
       "       'драма, военный, триллер', 'биография, криминал, триллер',\n",
       "       'фантастика, фэнтези, детектив', 'вестерн, биография, драма',\n",
       "       'биография, музыка, мюзикл', 'драма, история, биография',\n",
       "       'приключения, драма, фантастика', 'комедия, фэнтези, криминал',\n",
       "       'биография, спорт, история', 'драма, криминал, семейный',\n",
       "       'детектив, боевик, история', 'ужасы, комедия, детектив',\n",
       "       'триллер, приключения, драма', 'фэнтези, комедия, криминал',\n",
       "       'триллер, криминал, приключения', 'комедия, детектив, приключения',\n",
       "       'фэнтези, драма, ужасы', 'ужасы, драма, военный', 'реальное ТВ',\n",
       "       'аниме, мультфильм, детектив', 'приключения, фэнтези, семейный',\n",
       "       'драма, биография, комедия', 'триллер, комедия, ужасы',\n",
       "       'музыка, мелодрама, фэнтези', 'мультфильм, история',\n",
       "       'мультфильм, комедия, фантастика', 'биография, криминал, драма',\n",
       "       'комедия, мелодрама, фантастика', 'криминал, боевик, комедия',\n",
       "       'история, криминал', 'детектив, комедия, драма',\n",
       "       'триллер, фантастика, боевик', 'криминал, боевик',\n",
       "       'комедия, драма, военный', 'драма, триллер, криминал',\n",
       "       'мультфильм, мелодрама, приключения',\n",
       "       'фантастика, фэнтези, триллер', 'короткометражка, драма, триллер',\n",
       "       'военный, боевик, история', 'боевик, драма, триллер',\n",
       "       'документальный, военный, драма', 'драма, криминал, фильм-нуар',\n",
       "       'мультфильм, детский, приключения', 'мелодрама, история, драма'],\n",
       "      dtype=object)"
      ]
     },
     "execution_count": 22,
     "metadata": {},
     "output_type": "execute_result"
    }
   ],
   "source": [
    "movies['genres'].unique()\n",
    "#заменим в genres ',' на ', ' для наглядности\n",
    "movies['genres'] = movies['genres'].replace(to_replace =',', value = ', ', regex = True)\n",
    "movies['genres'].unique()"
   ]
  },
  {
   "cell_type": "markdown",
   "metadata": {
    "id": "52fOPrEBgFyQ"
   },
   "source": [
    "#### Шаг 2.4. Изучите категориальные значения\n",
    "\n",
    "- Посмотрите, какая общая проблема встречается почти во всех категориальных столбцах;\n",
    "- Исправьте проблемные значения в поле `type`.\n",
    "\n",
    "<div id=\"accordion\">\n",
    "    <div class=\"card\">\n",
    "        <div class=\"card-header\" id=\"headingThree\">\n",
    "            <button class=\"btn btn-link collapsed\" data-toggle=\"collapse\" data-target=\"#collapseHint_1\" aria-expanded=\"false\" aria-controls=\"collapseHint_1\">Подсказка</button>\n",
    "        </div>\n",
    "        <div id=\"collapseHint_1\" class=\"collapse\" aria-labelledby=\"headingThree\" data-parent=\"#accordion\">\n",
    "            <div class=\"card-body\">\n",
    "В поле <code>type</code> есть несколько значений, у которых появился пробел в начале строки. Самый простой способ их «починить» -- использовать метод <a href=\"https://pandas.pydata.org/docs/reference/api/pandas.Series.str.strip.html#pandas.Series.str.strip\">.str.strip</a>. Этот метод удаляет все пробелы, которые встречаются в начале и в конце строки. Применяют его таким образом:<br>\n",
    "<code>df['type'].str.strip()</code>\n",
    "            </div>\n",
    "        </div>\n",
    "    </div>\n",
    "</div>"
   ]
  },
  {
   "cell_type": "markdown",
   "metadata": {},
   "source": [
    "- Посмотрим, какая общая проблема встречается почти во всех категориальных столбцах"
   ]
  },
  {
   "cell_type": "code",
   "execution_count": 23,
   "metadata": {},
   "outputs": [
    {
     "data": {
      "text/plain": [
       "806"
      ]
     },
     "execution_count": 23,
     "metadata": {},
     "output_type": "execute_result"
    }
   ],
   "source": [
    "# изучим столбец 'production_country'\n",
    "len(movies['production_country'].unique())\n",
    "movies['production_country'].sort_values().unique()\n",
    "\n",
    "#есть значение production_country 2019 заменим его на unknown\n",
    "movies['production_country'] = movies['production_country'].str.replace('2019', 'unknown')\n",
    "\n",
    "#убираем лишние пробелы в начале и конце\n",
    "movies['production_country'] = movies['production_country'].str.strip()\n",
    "\n",
    "#убираем ; в середине слова\n",
    "movies['production_country'] = movies['production_country'].str.replace(';', '')\n",
    "\n",
    "#приведем к одному стилю убрав лишние символы\n",
    "movies['production_country'] = movies['production_country'].str.replace('-', ',').str.replace(' ,', ',').str.replace(',', ', ').str.replace('\\s{2,}', ' ',regex=True)\n",
    "\n",
    "len(movies['production_country'].unique())"
   ]
  },
  {
   "cell_type": "code",
   "execution_count": 24,
   "metadata": {},
   "outputs": [
    {
     "data": {
      "text/plain": [
       "array(['слово слово'], dtype=object)"
      ]
     },
     "execution_count": 24,
     "metadata": {},
     "output_type": "execute_result"
    }
   ],
   "source": [
    "pd.Series('слово    слово').str.replace('\\s{2,}', ' ',regex=True).unique()"
   ]
  },
  {
   "cell_type": "code",
   "execution_count": 25,
   "metadata": {},
   "outputs": [
    {
     "data": {
      "text/plain": [
       "array(['unknown', 'аниме, мультфильм', 'аниме, мультфильм, боевик',\n",
       "       'аниме, мультфильм, детектив', 'аниме, мультфильм, драма',\n",
       "       'аниме, мультфильм, комедия', 'аниме, мультфильм, короткометражка',\n",
       "       'аниме, мультфильм, мелодрама', 'аниме, мультфильм, приключения',\n",
       "       'аниме, мультфильм, ужасы', 'аниме, мультфильм, фантастика',\n",
       "       'аниме, мультфильм, фэнтези', 'биография',\n",
       "       'биография, военный, драма', 'биография, документальный',\n",
       "       'биография, драма', 'биография, драма, военный',\n",
       "       'биография, драма, история', 'биография, драма, криминал',\n",
       "       'биография, история', 'биография, история, драма',\n",
       "       'биография, криминал, драма', 'биография, криминал, триллер',\n",
       "       'биография, мелодрама, драма', 'биография, музыка, драма',\n",
       "       'биография, музыка, мюзикл', 'биография, спорт, драма',\n",
       "       'биография, спорт, история', 'биография, спорт, комедия', 'боевик',\n",
       "       'боевик, вестерн, приключения', 'боевик, военный',\n",
       "       'боевик, военный, драма', 'боевик, военный, история',\n",
       "       'боевик, детектив', 'боевик, драма', 'боевик, драма, биография',\n",
       "       'боевик, драма, вестерн', 'боевик, драма, военный',\n",
       "       'боевик, драма, история', 'боевик, драма, комедия',\n",
       "       'боевик, драма, криминал', 'боевик, драма, мелодрама',\n",
       "       'боевик, драма, приключения', 'боевик, драма, триллер',\n",
       "       'боевик, история', 'боевик, история, драма', 'боевик, комедия',\n",
       "       'боевик, комедия, криминал', 'боевик, комедия, приключения',\n",
       "       'боевик, комедия, семейный', 'боевик, криминал',\n",
       "       'боевик, криминал, детектив', 'боевик, криминал, драма',\n",
       "       'боевик, криминал, триллер', 'боевик, мелодрама',\n",
       "       'боевик, мелодрама, комедия', 'боевик, приключения',\n",
       "       'боевик, приключения, детектив', 'боевик, приключения, история',\n",
       "       'боевик, приключения, семейный', 'боевик, приключения, триллер',\n",
       "       'боевик, спорт, драма', 'боевик, триллер',\n",
       "       'боевик, триллер, детектив', 'боевик, триллер, драма',\n",
       "       'боевик, триллер, комедия', 'боевик, триллер, криминал',\n",
       "       'боевик, триллер, мелодрама', 'боевик, триллер, приключения',\n",
       "       'боевик, триллер, фэнтези', 'боевик, фантастика',\n",
       "       'боевик, фантастика, приключения', 'боевик, фантастика, триллер',\n",
       "       'боевик, фэнтези', 'боевик, фэнтези, драма',\n",
       "       'вестерн, биография, драма', 'вестерн, боевик, драма',\n",
       "       'вестерн, драма, триллер', 'вестерн, криминал, триллер',\n",
       "       'вестерн, приключения, боевик', 'военный',\n",
       "       'военный, биография, драма', 'военный, боевик, драма',\n",
       "       'военный, боевик, история', 'военный, детектив', 'военный, драма',\n",
       "       'военный, драма, боевик', 'военный, драма, история',\n",
       "       'военный, драма, комедия', 'военный, история',\n",
       "       'военный, история, драма', 'военный, приключения, драма',\n",
       "       'детектив', 'детектив, боевик, история',\n",
       "       'детектив, драма, криминал', 'детектив, драма, триллер',\n",
       "       'детектив, история, драма', 'детектив, комедия',\n",
       "       'детектив, комедия, драма', 'детектив, криминал',\n",
       "       'детектив, криминал, боевик', 'детектив, криминал, драма',\n",
       "       'детектив, криминал, триллер', 'детектив, мелодрама',\n",
       "       'детектив, мелодрама, фэнтези', 'детектив, приключения, драма',\n",
       "       'детектив, приключения, триллер', 'детектив, триллер',\n",
       "       'детектив, триллер, боевик', 'детектив, триллер, драма',\n",
       "       'детектив, триллер, криминал', 'детектив, триллер, ужасы',\n",
       "       'детектив, ужасы, криминал', 'детектив, фантастика, криминал',\n",
       "       'детектив, фантастика, триллер', 'детектив, фильм-нуар, комедия',\n",
       "       'детектив, фэнтези, триллер', 'детский', 'детский, комедия',\n",
       "       'детский, мелодрама, семейный', 'детский, мультфильм, приключения',\n",
       "       'детский, приключения, комедия', 'детский, приключения, семейный',\n",
       "       'детский, приключения, фантастика', 'детский, семейный',\n",
       "       'детский, фэнтези', 'детский, фэнтези, приключения',\n",
       "       'для взрослых, драма, комедия', 'для взрослых, драма, мелодрама',\n",
       "       'документальный', 'документальный, биография',\n",
       "       'документальный, биография, история',\n",
       "       'документальный, биография, музыка',\n",
       "       'документальный, биография, спорт',\n",
       "       'документальный, боевик, приключения',\n",
       "       'документальный, военный, драма',\n",
       "       'документальный, военный, история', 'документальный, драма',\n",
       "       'документальный, драма, биография',\n",
       "       'документальный, драма, история', 'документальный, драма, комедия',\n",
       "       'документальный, драма, музыка', 'документальный, драма, семейный',\n",
       "       'документальный, история', 'документальный, комедия',\n",
       "       'документальный, комедия, история',\n",
       "       'документальный, комедия, криминал',\n",
       "       'документальный, короткометражка',\n",
       "       'документальный, короткометражка, семейный',\n",
       "       'документальный, криминал, военный', 'документальный, музыка',\n",
       "       'документальный, музыка, биография',\n",
       "       'документальный, музыка, концерт', 'документальный, мюзикл',\n",
       "       'документальный, новости, драма', 'документальный, приключения',\n",
       "       'документальный, приключения, семейный',\n",
       "       'документальный, семейный', 'документальный, семейный, музыка',\n",
       "       'документальный, спорт', 'документальный, спорт, биография',\n",
       "       'документальный, триллер, биография', 'документальный, ужасы',\n",
       "       'документальный, ужасы, боевик', 'документальный, фантастика',\n",
       "       'документальный, фэнтези', 'документальный, фэнтези, драма',\n",
       "       'документальный, фэнтези, семейный', 'драма', 'драма, биография',\n",
       "       'драма, биография, история', 'драма, биография, комедия',\n",
       "       'драма, биография, музыка', 'драма, биография, мюзикл',\n",
       "       'драма, биография, спорт', 'драма, боевик',\n",
       "       'драма, боевик, история', 'драма, боевик, криминал',\n",
       "       'драма, боевик, приключения', 'драма, вестерн',\n",
       "       'драма, вестерн, боевик', 'драма, вестерн, приключения',\n",
       "       'драма, военный', 'драма, военный, биография',\n",
       "       'драма, военный, боевик', 'драма, военный, история',\n",
       "       'драма, военный, приключения', 'драма, военный, триллер',\n",
       "       'драма, детектив', 'драма, детектив, история',\n",
       "       'драма, детектив, криминал', 'драма, детектив, приключения',\n",
       "       'драма, история', 'драма, история, биография',\n",
       "       'драма, история, военный', 'драма, история, детектив',\n",
       "       'драма, история, музыка', 'драма, история, триллер',\n",
       "       'драма, комедия', 'драма, комедия, биография',\n",
       "       'драма, комедия, вестерн', 'драма, комедия, военный',\n",
       "       'драма, комедия, детектив', 'драма, комедия, история',\n",
       "       'драма, комедия, криминал', 'драма, комедия, мелодрама',\n",
       "       'драма, комедия, музыка', 'драма, комедия, мультфильм',\n",
       "       'драма, комедия, приключения', 'драма, комедия, семейный',\n",
       "       'драма, комедия, спорт', 'драма, комедия, триллер',\n",
       "       'драма, комедия, ужасы', 'драма, комедия, фантастика',\n",
       "       'драма, криминал', 'драма, криминал, биография',\n",
       "       'драма, криминал, боевик', 'драма, криминал, вестерн',\n",
       "       'драма, криминал, детектив', 'драма, криминал, история',\n",
       "       'драма, криминал, приключения', 'драма, криминал, семейный',\n",
       "       'драма, криминал, спорт', 'драма, криминал, фантастика',\n",
       "       'драма, криминал, фильм-нуар', 'драма, мелодрама',\n",
       "       'драма, мелодрама, биография', 'драма, мелодрама, военный',\n",
       "       'драма, мелодрама, детектив', 'драма, мелодрама, история',\n",
       "       'драма, мелодрама, комедия', 'драма, мелодрама, криминал',\n",
       "       'драма, мелодрама, музыка', 'драма, мелодрама, приключения',\n",
       "       'драма, мелодрама, семейный', 'драма, мелодрама, триллер',\n",
       "       'драма, мелодрама, фэнтези', 'драма, музыка', 'драма, мультфильм',\n",
       "       'драма, приключения', 'драма, приключения, биография',\n",
       "       'драма, приключения, военный', 'драма, приключения, история',\n",
       "       'драма, приключения, мелодрама', 'драма, приключения, семейный',\n",
       "       'драма, приключения, триллер', 'драма, приключения, фэнтези',\n",
       "       'драма, семейный', 'драма, семейный, биография',\n",
       "       'драма, семейный, комедия', 'драма, спорт',\n",
       "       'драма, спорт, биография', 'драма, спорт, боевик',\n",
       "       'драма, спорт, история', 'драма, спорт, комедия',\n",
       "       'драма, спорт, семейный', 'драма, триллер',\n",
       "       'драма, триллер, биография', 'драма, триллер, детектив',\n",
       "       'драма, триллер, криминал', 'драма, триллер, приключения',\n",
       "       'драма, ужасы', 'драма, фантастика', 'драма, фантастика, триллер',\n",
       "       'драма, фантастика, ужасы', 'драма, фэнтези',\n",
       "       'драма, фэнтези, история', 'история',\n",
       "       'история, биография, военный', 'история, биография, драма',\n",
       "       'история, боевик, фэнтези', 'история, детектив', 'история, драма',\n",
       "       'история, драма, боевик', 'история, драма, мелодрама',\n",
       "       'история, криминал', 'история, мелодрама', 'история, приключения',\n",
       "       'история, спорт, драма', 'комедия', 'комедия, биография',\n",
       "       'комедия, биография, история', 'комедия, боевик, криминал',\n",
       "       'комедия, боевик, приключения', 'комедия, боевик, фантастика',\n",
       "       'комедия, вестерн', 'комедия, военный', 'комедия, военный, музыка',\n",
       "       'комедия, детектив', 'комедия, детектив, приключения',\n",
       "       'комедия, драма', 'комедия, драма, биография',\n",
       "       'комедия, драма, военный', 'комедия, драма, короткометражка',\n",
       "       'комедия, драма, криминал', 'комедия, драма, мелодрама',\n",
       "       'комедия, драма, семейный', 'комедия, история',\n",
       "       'комедия, история, драма', 'комедия, криминал',\n",
       "       'комедия, криминал, биография', 'комедия, криминал, боевик',\n",
       "       'комедия, криминал, детектив', 'комедия, криминал, драма',\n",
       "       'комедия, криминал, история', 'комедия, криминал, приключения',\n",
       "       'комедия, криминал, семейный', 'комедия, криминал, спорт',\n",
       "       'комедия, криминал, триллер', 'комедия, мелодрама',\n",
       "       'комедия, мелодрама, драма', 'комедия, мелодрама, криминал',\n",
       "       'комедия, мелодрама, фантастика', 'комедия, мелодрама, фэнтези',\n",
       "       'комедия, музыка', 'комедия, музыка, драма',\n",
       "       'комедия, мультфильм, фантастика', 'комедия, приключения',\n",
       "       'комедия, приключения, вестерн', 'комедия, приключения, детектив',\n",
       "       'комедия, приключения, история', 'комедия, приключения, криминал',\n",
       "       'комедия, приключения, мелодрама', 'комедия, приключения, музыка',\n",
       "       'комедия, приключения, семейный', 'комедия, приключения, спорт',\n",
       "       'комедия, приключения, фэнтези', 'комедия, семейный',\n",
       "       'комедия, семейный, музыка', 'комедия, семейный, приключения',\n",
       "       'комедия, семейный, фантастика', 'комедия, семейный, фэнтези',\n",
       "       'комедия, спорт', 'комедия, триллер', 'комедия, триллер, драма',\n",
       "       'комедия, ужасы', 'комедия, фантастика',\n",
       "       'комедия, фантастика, боевик', 'комедия, фантастика, мелодрама',\n",
       "       'комедия, фэнтези', 'комедия, фэнтези, криминал',\n",
       "       'комедия, фэнтези, мелодрама', 'комедия, фэнтези, приключения',\n",
       "       'комедия, фэнтези, ужасы', 'концерт, музыка',\n",
       "       'концерт, музыка, документальный', 'короткометражка',\n",
       "       'короткометражка, биография', 'короткометражка, боевик, драма',\n",
       "       'короткометражка, драма', 'короткометражка, драма, военный',\n",
       "       'короткометражка, драма, триллер',\n",
       "       'короткометражка, комедия, криминал', 'короткометражка, мелодрама',\n",
       "       'короткометражка, музыка', 'короткометражка, мультфильм',\n",
       "       'короткометражка, фантастика', 'криминал',\n",
       "       'криминал, биография, комедия', 'криминал, боевик',\n",
       "       'криминал, боевик, комедия', 'криминал, боевик, триллер',\n",
       "       'криминал, детектив', 'криминал, детектив, приключения',\n",
       "       'криминал, драма', 'криминал, драма, комедия',\n",
       "       'криминал, драма, триллер', 'криминал, комедия',\n",
       "       'криминал, комедия, боевик', 'криминал, комедия, драма',\n",
       "       'криминал, комедия, триллер', 'криминал, мелодрама',\n",
       "       'криминал, триллер, драма', 'мелодрама', 'мелодрама, биография',\n",
       "       'мелодрама, военный, драма', 'мелодрама, детектив',\n",
       "       'мелодрама, детектив, комедия', 'мелодрама, драма',\n",
       "       'мелодрама, драма, боевик', 'мелодрама, драма, комедия',\n",
       "       'мелодрама, драма, музыка', 'мелодрама, драма, фэнтези',\n",
       "       'мелодрама, история', 'мелодрама, история, драма',\n",
       "       'мелодрама, история, триллер', 'мелодрама, комедия',\n",
       "       'мелодрама, комедия, драма', 'мелодрама, комедия, криминал',\n",
       "       'мелодрама, комедия, музыка', 'мелодрама, комедия, приключения',\n",
       "       'мелодрама, комедия, семейный', 'мелодрама, комедия, спорт',\n",
       "       'мелодрама, комедия, триллер', 'мелодрама, комедия, ужасы',\n",
       "       'мелодрама, криминал', 'мелодрама, музыка',\n",
       "       'мелодрама, музыка, драма', 'мелодрама, приключения',\n",
       "       'мелодрама, приключения, боевик', 'мелодрама, семейный',\n",
       "       'мелодрама, семейный, приключения', 'мелодрама, триллер, история',\n",
       "       'мелодрама, фантастика, драма', 'мелодрама, фэнтези, триллер',\n",
       "       'музыка, концерт', 'музыка, концерт, документальный',\n",
       "       'музыка, мелодрама, фэнтези', 'музыка, приключения, концерт',\n",
       "       'мультфильм', 'мультфильм, биография, драма',\n",
       "       'мультфильм, боевик, детектив', 'мультфильм, боевик, комедия',\n",
       "       'мультфильм, боевик, приключения', 'мультфильм, боевик, триллер',\n",
       "       'мультфильм, детский', 'мультфильм, детский, комедия',\n",
       "       'мультфильм, детский, приключения',\n",
       "       'мультфильм, детский, семейный', 'мультфильм, драма',\n",
       "       'мультфильм, драма, комедия', 'мультфильм, драма, приключения',\n",
       "       'мультфильм, история', 'мультфильм, комедия',\n",
       "       'мультфильм, комедия, детский', 'мультфильм, комедия, криминал',\n",
       "       'мультфильм, комедия, приключения',\n",
       "       'мультфильм, комедия, семейный', 'мультфильм, комедия, фантастика',\n",
       "       'мультфильм, короткометражка',\n",
       "       'мультфильм, короткометражка, детский',\n",
       "       'мультфильм, короткометражка, комедия',\n",
       "       'мультфильм, короткометражка, мелодрама',\n",
       "       'мультфильм, короткометражка, мюзикл',\n",
       "       'мультфильм, короткометражка, ужасы',\n",
       "       'мультфильм, короткометражка, фэнтези',\n",
       "       'мультфильм, мелодрама, драма', 'мультфильм, мелодрама, комедия',\n",
       "       'мультфильм, мелодрама, приключения',\n",
       "       'мультфильм, мюзикл, детский', 'мультфильм, мюзикл, драма',\n",
       "       'мультфильм, мюзикл, комедия', 'мультфильм, мюзикл, мелодрама',\n",
       "       'мультфильм, мюзикл, фэнтези', 'мультфильм, приключения',\n",
       "       'мультфильм, приключения, военный',\n",
       "       'мультфильм, приключения, детектив',\n",
       "       'мультфильм, приключения, детский',\n",
       "       'мультфильм, приключения, драма',\n",
       "       'мультфильм, приключения, комедия',\n",
       "       'мультфильм, приключения, семейный',\n",
       "       'мультфильм, приключения, фантастика',\n",
       "       'мультфильм, приключения, фэнтези', 'мультфильм, семейный',\n",
       "       'мультфильм, семейный, детский', 'мультфильм, семейный, драма',\n",
       "       'мультфильм, семейный, комедия', 'мультфильм, семейный, спорт',\n",
       "       'мультфильм, семейный, фэнтези', 'мультфильм, ужасы, комедия',\n",
       "       'мультфильм, ужасы, фантастика', 'мультфильм, ужасы, фэнтези',\n",
       "       'мультфильм, фантастика, боевик',\n",
       "       'мультфильм, фантастика, комедия',\n",
       "       'мультфильм, фантастика, приключения',\n",
       "       'мультфильм, фантастика, фэнтези', 'мультфильм, фэнтези',\n",
       "       'мультфильм, фэнтези, боевик', 'мультфильм, фэнтези, детский',\n",
       "       'мультфильм, фэнтези, драма', 'мультфильм, фэнтези, история',\n",
       "       'мультфильм, фэнтези, комедия', 'мультфильм, фэнтези, мелодрама',\n",
       "       'мультфильм, фэнтези, приключения',\n",
       "       'мультфильм, фэнтези, семейный', 'мультфильм, фэнтези, триллер',\n",
       "       'мюзикл', 'мюзикл, боевик, драма', 'мюзикл, драма',\n",
       "       'мюзикл, драма, мелодрама', 'мюзикл, комедия',\n",
       "       'мюзикл, комедия, детский', 'мюзикл, комедия, мелодрама',\n",
       "       'мюзикл, комедия, музыка', 'мюзикл, комедия, приключения',\n",
       "       'мюзикл, мелодрама', 'мюзикл, мелодрама, комедия',\n",
       "       'мюзикл, мелодрама, фэнтези', 'мюзикл, семейный',\n",
       "       'мюзикл, семейный, драма', 'мюзикл, ужасы, триллер',\n",
       "       'мюзикл, фэнтези, драма', 'мюзикл, фэнтези, комедия',\n",
       "       'мюзикл, фэнтези, мелодрама', 'мюзикл, фэнтези, семейный',\n",
       "       'приключения', 'приключения, биография, драма',\n",
       "       'приключения, биография, история', 'приключения, боевик',\n",
       "       'приключения, боевик, триллер', 'приключения, вестерн, боевик',\n",
       "       'приключения, военный', 'приключения, детектив, мелодрама',\n",
       "       'приключения, детектив, семейный', 'приключения, детский',\n",
       "       'приключения, детский, комедия', 'приключения, драма',\n",
       "       'приключения, драма, фантастика', 'приключения, история',\n",
       "       'приключения, история, военный', 'приключения, история, драма',\n",
       "       'приключения, комедия, фэнтези',\n",
       "       'приключения, мелодрама, детектив', 'приключения, семейный',\n",
       "       'приключения, семейный, драма', 'приключения, триллер',\n",
       "       'приключения, триллер, биография', 'приключения, фантастика',\n",
       "       'приключения, фантастика, драма',\n",
       "       'приключения, фантастика, семейный', 'приключения, фэнтези',\n",
       "       'приключения, фэнтези, семейный', 'реальное ТВ', 'семейный',\n",
       "       'семейный, детектив, детский', 'семейный, документальный',\n",
       "       'семейный, комедия', 'семейный, комедия, драма',\n",
       "       'семейный, комедия, музыка', 'семейный, мелодрама',\n",
       "       'семейный, мультфильм, комедия', 'семейный, приключения',\n",
       "       'семейный, приключения, военный',\n",
       "       'семейный, приключения, документальный',\n",
       "       'семейный, приключения, комедия', 'семейный, спорт, боевик',\n",
       "       'семейный, фэнтези', 'семейный, фэнтези, комедия', 'спорт, драма',\n",
       "       'спорт, драма, биография', 'спорт, драма, комедия',\n",
       "       'спорт, мелодрама, криминал', 'триллер',\n",
       "       'триллер, биография, драма', 'триллер, боевик',\n",
       "       'триллер, боевик, криминал', 'триллер, боевик, приключения',\n",
       "       'триллер, военный', 'триллер, детектив',\n",
       "       'триллер, детектив, драма', 'триллер, детектив, криминал',\n",
       "       'триллер, детектив, ужасы', 'триллер, драма',\n",
       "       'триллер, драма, биография', 'триллер, драма, боевик',\n",
       "       'триллер, драма, военный', 'триллер, драма, детектив',\n",
       "       'триллер, драма, история', 'триллер, драма, комедия',\n",
       "       'триллер, драма, криминал', 'триллер, драма, мелодрама',\n",
       "       'триллер, драма, приключения', 'триллер, драма, ужасы',\n",
       "       'триллер, драма, фантастика', 'триллер, комедия',\n",
       "       'триллер, комедия, криминал', 'триллер, комедия, ужасы',\n",
       "       'триллер, криминал', 'триллер, криминал, боевик',\n",
       "       'триллер, криминал, детектив', 'триллер, криминал, драма',\n",
       "       'триллер, криминал, комедия', 'триллер, криминал, приключения',\n",
       "       'триллер, мелодрама', 'триллер, мелодрама, детектив',\n",
       "       'триллер, мелодрама, драма', 'триллер, мелодрама, комедия',\n",
       "       'триллер, мелодрама, криминал', 'триллер, приключения',\n",
       "       'триллер, приключения, драма', 'триллер, ужасы',\n",
       "       'триллер, ужасы, детектив', 'триллер, ужасы, драма',\n",
       "       'триллер, ужасы, криминал', 'триллер, ужасы, мелодрама',\n",
       "       'триллер, фантастика, боевик', 'триллер, фантастика, драма',\n",
       "       'триллер, фэнтези', 'триллер, фэнтези, драма', 'ужасы',\n",
       "       'ужасы, боевик', 'ужасы, боевик, комедия',\n",
       "       'ужасы, боевик, криминал', 'ужасы, боевик, триллер',\n",
       "       'ужасы, боевик, фантастика', 'ужасы, боевик, фэнтези',\n",
       "       'ужасы, детектив', 'ужасы, драма', 'ужасы, драма, вестерн',\n",
       "       'ужасы, драма, военный', 'ужасы, драма, детектив',\n",
       "       'ужасы, драма, комедия', 'ужасы, драма, мелодрама',\n",
       "       'ужасы, драма, триллер', 'ужасы, комедия',\n",
       "       'ужасы, комедия, боевик', 'ужасы, комедия, детектив',\n",
       "       'ужасы, комедия, драма', 'ужасы, комедия, криминал',\n",
       "       'ужасы, комедия, музыка', 'ужасы, комедия, приключения',\n",
       "       'ужасы, комедия, семейный', 'ужасы, комедия, фантастика',\n",
       "       'ужасы, комедия, фэнтези', 'ужасы, мелодрама, детектив',\n",
       "       'ужасы, мелодрама, комедия', 'ужасы, приключения',\n",
       "       'ужасы, триллер', 'ужасы, триллер, детектив',\n",
       "       'ужасы, триллер, драма', 'ужасы, триллер, комедия',\n",
       "       'ужасы, триллер, криминал', 'ужасы, триллер, мелодрама',\n",
       "       'ужасы, триллер, приключения', 'ужасы, триллер, фантастика',\n",
       "       'ужасы, фантастика', 'ужасы, фантастика, боевик',\n",
       "       'ужасы, фантастика, детектив', 'ужасы, фантастика, драма',\n",
       "       'ужасы, фантастика, комедия', 'ужасы, фантастика, мелодрама',\n",
       "       'ужасы, фантастика, триллер', 'ужасы, фантастика, фэнтези',\n",
       "       'ужасы, фэнтези', 'ужасы, фэнтези, боевик',\n",
       "       'ужасы, фэнтези, детектив', 'ужасы, фэнтези, драма',\n",
       "       'ужасы, фэнтези, комедия', 'ужасы, фэнтези, мелодрама',\n",
       "       'ужасы, фэнтези, приключения', 'ужасы, фэнтези, триллер',\n",
       "       'фантастика', 'фантастика, боевик', 'фантастика, боевик, военный',\n",
       "       'фантастика, боевик, детектив', 'фантастика, боевик, драма',\n",
       "       'фантастика, боевик, комедия', 'фантастика, боевик, криминал',\n",
       "       'фантастика, боевик, мелодрама', 'фантастика, боевик, приключения',\n",
       "       'фантастика, боевик, семейный', 'фантастика, боевик, триллер',\n",
       "       'фантастика, боевик, ужасы', 'фантастика, боевик, фэнтези',\n",
       "       'фантастика, детектив, боевик', 'фантастика, детектив, фэнтези',\n",
       "       'фантастика, драма', 'фантастика, драма, боевик',\n",
       "       'фантастика, драма, детектив', 'фантастика, драма, комедия',\n",
       "       'фантастика, драма, криминал', 'фантастика, драма, мелодрама',\n",
       "       'фантастика, драма, приключения', 'фантастика, драма, триллер',\n",
       "       'фантастика, драма, ужасы', 'фантастика, комедия',\n",
       "       'фантастика, комедия, боевик', 'фантастика, комедия, детектив',\n",
       "       'фантастика, комедия, приключения',\n",
       "       'фантастика, комедия, семейный', 'фантастика, мелодрама',\n",
       "       'фантастика, мелодрама, боевик', 'фантастика, мелодрама, комедия',\n",
       "       'фантастика, мелодрама, фэнтези', 'фантастика, мультфильм, драма',\n",
       "       'фантастика, приключения', 'фантастика, приключения, боевик',\n",
       "       'фантастика, приключения, военный',\n",
       "       'фантастика, приключения, детектив',\n",
       "       'фантастика, приключения, драма',\n",
       "       'фантастика, приключения, семейный', 'фантастика, триллер',\n",
       "       'фантастика, триллер, боевик', 'фантастика, триллер, детектив',\n",
       "       'фантастика, триллер, драма', 'фантастика, триллер, комедия',\n",
       "       'фантастика, триллер, криминал', 'фантастика, триллер, мелодрама',\n",
       "       'фантастика, триллер, приключения', 'фантастика, фэнтези, боевик',\n",
       "       'фантастика, фэнтези, детектив', 'фантастика, фэнтези, драма',\n",
       "       'фантастика, фэнтези, комедия', 'фантастика, фэнтези, приключения',\n",
       "       'фантастика, фэнтези, триллер', 'фильм-нуар, триллер, детектив',\n",
       "       'фэнтези', 'фэнтези, боевик', 'фэнтези, боевик, вестерн',\n",
       "       'фэнтези, боевик, военный', 'фэнтези, боевик, детектив',\n",
       "       'фэнтези, боевик, драма', 'фэнтези, боевик, комедия',\n",
       "       'фэнтези, боевик, криминал', 'фэнтези, боевик, мелодрама',\n",
       "       'фэнтези, боевик, приключения', 'фэнтези, боевик, семейный',\n",
       "       'фэнтези, боевик, триллер', 'фэнтези, боевик, ужасы',\n",
       "       'фэнтези, драма', 'фэнтези, драма, биография',\n",
       "       'фэнтези, драма, детектив', 'фэнтези, драма, комедия',\n",
       "       'фэнтези, драма, мелодрама', 'фэнтези, драма, приключения',\n",
       "       'фэнтези, драма, семейный', 'фэнтези, драма, ужасы',\n",
       "       'фэнтези, драма, фильм-нуар', 'фэнтези, комедия',\n",
       "       'фэнтези, комедия, детектив', 'фэнтези, комедия, драма',\n",
       "       'фэнтези, комедия, криминал', 'фэнтези, комедия, приключения',\n",
       "       'фэнтези, комедия, семейный', 'фэнтези, мелодрама',\n",
       "       'фэнтези, мелодрама, драма', 'фэнтези, мелодрама, комедия',\n",
       "       'фэнтези, мелодрама, приключения', 'фэнтези, приключения',\n",
       "       'фэнтези, приключения, боевик', 'фэнтези, приключения, драма',\n",
       "       'фэнтези, приключения, комедия', 'фэнтези, приключения, семейный',\n",
       "       'фэнтези, семейный', 'фэнтези, семейный, мелодрама',\n",
       "       'фэнтези, семейный, приключения', 'фэнтези, триллер, детектив',\n",
       "       'фэнтези, триллер, драма', 'фэнтези, триллер, мелодрама',\n",
       "       'фэнтези, триллер, приключения', 'фэнтези, ужасы',\n",
       "       'фэнтези, ужасы, триллер'], dtype=object)"
      ]
     },
     "execution_count": 25,
     "metadata": {},
     "output_type": "execute_result"
    }
   ],
   "source": [
    "# изучим столбец 'genres'\n",
    "len(movies['genres'].unique())\n",
    "movies['genres'].sort_values().unique()\n",
    "\n",
    "#таких проблем как были в production_country "
   ]
  },
  {
   "cell_type": "markdown",
   "metadata": {},
   "source": [
    "- Исправим проблемные значения в поле `type`"
   ]
  },
  {
   "cell_type": "code",
   "execution_count": 26,
   "metadata": {
    "id": "PnXKIVdFgFyR"
   },
   "outputs": [
    {
     "data": {
      "text/plain": [
       "array(['Художественный', 'Анимационный', 'Прочие', 'Документальный',\n",
       "       'Научно-популярный', 'Музыкально-развлекательный'], dtype=object)"
      ]
     },
     "execution_count": 26,
     "metadata": {},
     "output_type": "execute_result"
    }
   ],
   "source": [
    "#изучим 'type'\n",
    "movies['type'].unique()\n",
    "\n",
    "#есть несколько значений, у которых появился пробел в начале строки, уберем его\n",
    "movies['type'] = movies['type'].str.strip()\n",
    "movies['type'].unique()"
   ]
  },
  {
   "cell_type": "markdown",
   "metadata": {
    "id": "XFSN5lrEgFyR"
   },
   "source": [
    "#### Шаг 2.5. Проверьте количественные значения\n",
    "\n",
    "- Проверьте, обнаружились ли в таких столбцах подозрительные данные. Как с такими данными лучше поступить?\n",
    "\n",
    "<div id=\"accordion\">\n",
    "    <div class=\"card\">\n",
    "        <div class=\"card-header\" id=\"headingThree\">\n",
    "            <button class=\"btn btn-link collapsed\" data-toggle=\"collapse\" data-target=\"#collapseHint_budget\" aria-expanded=\"false\" aria-controls=\"collapseHint_budget\">Подсказка</button>\n",
    "        </div>\n",
    "        <div id=\"collapseHint_budget\" class=\"collapse\" aria-labelledby=\"headingThree\" data-parent=\"#accordion\">\n",
    "            <div class=\"card-body\">\n",
    "Обратите внимание на описание столбца <code>budget</code>. Как этот столбец соотносится с двумя другими: <code>refundable_support</code> и <code>nonrefundable_support</code>?\n",
    "            </div>\n",
    "        </div>\n",
    "    </div>\n",
    "</div>"
   ]
  },
  {
   "cell_type": "code",
   "execution_count": 27,
   "metadata": {
    "id": "YbzClBxagFyS"
   },
   "outputs": [
    {
     "data": {
      "text/plain": [
       "0"
      ]
     },
     "execution_count": 27,
     "metadata": {},
     "output_type": "execute_result"
    }
   ],
   "source": [
    "#проверим есть ли строки, в которых полный объём государственной поддержки меньше, чем \n",
    "#сумма объёма возвратных средств государственной поддержки и объёма невозвратных средств государственной поддержки\n",
    "len(movies[(movies[['refundable_support', 'nonrefundable_support']].sum(axis=1) > movies['budget'])])\n",
    "\n",
    "#получили 17 штук, посмотрим на них, так как это очень странно\n",
    "movies[(movies[['refundable_support', 'nonrefundable_support']].sum(axis=1) > movies['budget'])]\n",
    "\n",
    "#я думаю, если удалить 17 строк, ничего страшного не будет\n",
    "incorrect_budget_index = movies[(movies['refundable_support'] + movies['nonrefundable_support']) > (movies['budget'])].index\n",
    "movies.drop(incorrect_budget_index, inplace=True)\n",
    "\n",
    "#проверим\n",
    "len(movies[(movies[['refundable_support', 'nonrefundable_support']].sum(axis=1) > movies['budget'])])"
   ]
  },
  {
   "cell_type": "markdown",
   "metadata": {
    "id": "Eu6oWp2CgFyS"
   },
   "source": [
    "#### Шаг 2.6. Добавьте новые столбцы\n",
    "\n",
    "\n",
    "\n"
   ]
  },
  {
   "cell_type": "markdown",
   "metadata": {
    "id": "7GgW-UpAgFyS"
   },
   "source": [
    "- Создайте столбец с информацией о годе проката. Выделите год из даты премьеры фильма."
   ]
  },
  {
   "cell_type": "code",
   "execution_count": 28,
   "metadata": {
    "id": "I-yd1DkWgFyT"
   },
   "outputs": [
    {
     "name": "stdout",
     "output_type": "stream",
     "text": [
      "<class 'pandas.core.frame.DataFrame'>\n",
      "Int64Index: 6739 entries, 0 to 6755\n",
      "Data columns (total 17 columns):\n",
      " #   Column                 Non-Null Count  Dtype              \n",
      "---  ------                 --------------  -----              \n",
      " 0   title                  6739 non-null   object             \n",
      " 1   puNumber               6739 non-null   int64              \n",
      " 2   show_start_date        6739 non-null   datetime64[ns, UTC]\n",
      " 3   type                   6739 non-null   object             \n",
      " 4   film_studio            6739 non-null   object             \n",
      " 5   production_country     6739 non-null   object             \n",
      " 6   director               6739 non-null   object             \n",
      " 7   producer               6739 non-null   object             \n",
      " 8   age_restriction        6739 non-null   object             \n",
      " 9   refundable_support     6739 non-null   float64            \n",
      " 10  nonrefundable_support  6739 non-null   float64            \n",
      " 11  budget                 6739 non-null   float64            \n",
      " 12  financing_source       6739 non-null   object             \n",
      " 13  ratings                6739 non-null   float64            \n",
      " 14  genres                 6739 non-null   object             \n",
      " 15  box_office             6739 non-null   float64            \n",
      " 16  year                   6739 non-null   int64              \n",
      "dtypes: datetime64[ns, UTC](1), float64(5), int64(2), object(9)\n",
      "memory usage: 947.7+ KB\n"
     ]
    }
   ],
   "source": [
    "movies['year'] = movies['show_start_date'].dt.year\n",
    "movies.info()"
   ]
  },
  {
   "cell_type": "markdown",
   "metadata": {
    "id": "nFTDLDYOgFyT"
   },
   "source": [
    "- Создайте два столбца: с именем и фамилией главного режиссёра и основным жанром фильма. В столбцы войдут первые значения из списка режиссёров и жанров соответственно.\n",
    "\n",
    "<div id=\"accordion\">\n",
    "    <div class=\"card\">\n",
    "        <div class=\"card-header\" id=\"headingThree\">\n",
    "            <button class=\"btn btn-link collapsed\" data-toggle=\"collapse\" data-target=\"#collapseHint_2\" aria-expanded=\"false\" aria-controls=\"collapseHint_2\">Подсказка</button>\n",
    "        </div>\n",
    "        <div id=\"collapseHint_2\" class=\"collapse\" aria-labelledby=\"headingThree\" data-parent=\"#accordion\">\n",
    "            <div class=\"card-body\">\n",
    "Чтобы создать такие столбцы, лучше всего использовать собственную функцию. Эту функцию можно применить к двум столбцам сразу. \n",
    "            </div>\n",
    "        </div>\n",
    "    </div>\n",
    "</div>"
   ]
  },
  {
   "cell_type": "code",
   "execution_count": 29,
   "metadata": {
    "id": "LSbRZKbMgFyU"
   },
   "outputs": [],
   "source": [
    "#Создадим функцию для получения первого значения из списка в ячейке столбца\n",
    "def get_first_value(column):\n",
    "    ''' Получить первое значение из списка в ячейке столбца\n",
    "    '''\n",
    "    first_value_list = []\n",
    "    for i in column:\n",
    "        i_new = i.split(', ')\n",
    "        first_value = i_new[0]\n",
    "        first_value_list.append(first_value)\n",
    "    first_value = pd.Series(first_value_list)\n",
    "    return first_value"
   ]
  },
  {
   "cell_type": "code",
   "execution_count": 30,
   "metadata": {
    "id": "LV6qFuZLgFyV"
   },
   "outputs": [
    {
     "data": {
      "text/html": [
       "<div>\n",
       "<style scoped>\n",
       "    .dataframe tbody tr th:only-of-type {\n",
       "        vertical-align: middle;\n",
       "    }\n",
       "\n",
       "    .dataframe tbody tr th {\n",
       "        vertical-align: top;\n",
       "    }\n",
       "\n",
       "    .dataframe thead th {\n",
       "        text-align: right;\n",
       "    }\n",
       "</style>\n",
       "<table border=\"1\" class=\"dataframe\">\n",
       "  <thead>\n",
       "    <tr style=\"text-align: right;\">\n",
       "      <th></th>\n",
       "      <th>title</th>\n",
       "      <th>puNumber</th>\n",
       "      <th>show_start_date</th>\n",
       "      <th>type</th>\n",
       "      <th>film_studio</th>\n",
       "      <th>production_country</th>\n",
       "      <th>director</th>\n",
       "      <th>producer</th>\n",
       "      <th>age_restriction</th>\n",
       "      <th>refundable_support</th>\n",
       "      <th>nonrefundable_support</th>\n",
       "      <th>budget</th>\n",
       "      <th>financing_source</th>\n",
       "      <th>ratings</th>\n",
       "      <th>genres</th>\n",
       "      <th>box_office</th>\n",
       "      <th>year</th>\n",
       "      <th>chief_director</th>\n",
       "      <th>main_genres</th>\n",
       "    </tr>\n",
       "  </thead>\n",
       "  <tbody>\n",
       "    <tr>\n",
       "      <th>0</th>\n",
       "      <td>Открытый простор</td>\n",
       "      <td>221048915</td>\n",
       "      <td>2015-11-27 12:00:00+00:00</td>\n",
       "      <td>Художественный</td>\n",
       "      <td>Тачстоун Пикчерз, Кобальт Пикчерз, Бикон Пикче...</td>\n",
       "      <td>США</td>\n",
       "      <td>Кевин Костнер</td>\n",
       "      <td>Дэвид Валдес, Кевин Костнер, Джейк Эбертс</td>\n",
       "      <td>«18+» - запрещено для детей</td>\n",
       "      <td>0.0</td>\n",
       "      <td>0.0</td>\n",
       "      <td>0.0</td>\n",
       "      <td>unknown</td>\n",
       "      <td>7.2</td>\n",
       "      <td>боевик, драма, мелодрама</td>\n",
       "      <td>0.0</td>\n",
       "      <td>2015</td>\n",
       "      <td>Кевин Костнер</td>\n",
       "      <td>боевик</td>\n",
       "    </tr>\n",
       "    <tr>\n",
       "      <th>1</th>\n",
       "      <td>Особо важное задание</td>\n",
       "      <td>111013716</td>\n",
       "      <td>2016-09-13 12:00:00+00:00</td>\n",
       "      <td>Художественный</td>\n",
       "      <td>Киностудия \"Мосфильм\"</td>\n",
       "      <td>СССР</td>\n",
       "      <td>Е.Матвеев</td>\n",
       "      <td>unknown</td>\n",
       "      <td>«6+» - для детей старше 6 лет</td>\n",
       "      <td>0.0</td>\n",
       "      <td>0.0</td>\n",
       "      <td>0.0</td>\n",
       "      <td>unknown</td>\n",
       "      <td>6.6</td>\n",
       "      <td>драма, военный</td>\n",
       "      <td>0.0</td>\n",
       "      <td>2016</td>\n",
       "      <td>Е.Матвеев</td>\n",
       "      <td>драма</td>\n",
       "    </tr>\n",
       "    <tr>\n",
       "      <th>2</th>\n",
       "      <td>Особо опасен</td>\n",
       "      <td>221030815</td>\n",
       "      <td>2015-07-29 12:00:00+00:00</td>\n",
       "      <td>Художественный</td>\n",
       "      <td>Юниверсал Пикчерз, Кикстарт Продакшнз, Марк Пл...</td>\n",
       "      <td>США</td>\n",
       "      <td>Тимур Бекмамбетов</td>\n",
       "      <td>Джим Лемли, Джейсон Нетер, Марк Е.Платт, Яйн Смит</td>\n",
       "      <td>«18+» - запрещено для детей</td>\n",
       "      <td>0.0</td>\n",
       "      <td>0.0</td>\n",
       "      <td>0.0</td>\n",
       "      <td>unknown</td>\n",
       "      <td>6.8</td>\n",
       "      <td>фантастика, боевик, триллер</td>\n",
       "      <td>0.0</td>\n",
       "      <td>2015</td>\n",
       "      <td>Тимур Бекмамбетов</td>\n",
       "      <td>фантастика</td>\n",
       "    </tr>\n",
       "    <tr>\n",
       "      <th>3</th>\n",
       "      <td>Остановился поезд</td>\n",
       "      <td>111013816</td>\n",
       "      <td>2016-09-13 12:00:00+00:00</td>\n",
       "      <td>Художественный</td>\n",
       "      <td>Киностудия \"Мосфильм\"</td>\n",
       "      <td>СССР</td>\n",
       "      <td>В.Абдрашитов</td>\n",
       "      <td>unknown</td>\n",
       "      <td>«6+» - для детей старше 6 лет</td>\n",
       "      <td>0.0</td>\n",
       "      <td>0.0</td>\n",
       "      <td>0.0</td>\n",
       "      <td>unknown</td>\n",
       "      <td>7.7</td>\n",
       "      <td>драма</td>\n",
       "      <td>0.0</td>\n",
       "      <td>2016</td>\n",
       "      <td>В.Абдрашитов</td>\n",
       "      <td>драма</td>\n",
       "    </tr>\n",
       "    <tr>\n",
       "      <th>4</th>\n",
       "      <td>Любовь и голуби</td>\n",
       "      <td>111007013</td>\n",
       "      <td>2013-10-18 12:00:00+00:00</td>\n",
       "      <td>Художественный</td>\n",
       "      <td>Киностудия \"Мосфильм\"</td>\n",
       "      <td>СССР</td>\n",
       "      <td>В.Меньшов</td>\n",
       "      <td>unknown</td>\n",
       "      <td>«12+» - для детей старше 12 лет</td>\n",
       "      <td>0.0</td>\n",
       "      <td>0.0</td>\n",
       "      <td>0.0</td>\n",
       "      <td>unknown</td>\n",
       "      <td>8.3</td>\n",
       "      <td>мелодрама, комедия</td>\n",
       "      <td>2700.0</td>\n",
       "      <td>2013</td>\n",
       "      <td>В.Меньшов</td>\n",
       "      <td>мелодрама</td>\n",
       "    </tr>\n",
       "    <tr>\n",
       "      <th>5</th>\n",
       "      <td>Любовь и сигареты</td>\n",
       "      <td>221074614</td>\n",
       "      <td>2014-12-29 12:00:00+00:00</td>\n",
       "      <td>Художественный</td>\n",
       "      <td>Юнайтед Артистс, Грин Стрит Филмз, Айкон Интер...</td>\n",
       "      <td>США</td>\n",
       "      <td>Джон Туртурро</td>\n",
       "      <td>Джон Пенотти, Джон Туртурро</td>\n",
       "      <td>«18+» - запрещено для детей</td>\n",
       "      <td>0.0</td>\n",
       "      <td>0.0</td>\n",
       "      <td>0.0</td>\n",
       "      <td>unknown</td>\n",
       "      <td>6.6</td>\n",
       "      <td>мюзикл, мелодрама, комедия</td>\n",
       "      <td>0.0</td>\n",
       "      <td>2014</td>\n",
       "      <td>Джон Туртурро</td>\n",
       "      <td>мюзикл</td>\n",
       "    </tr>\n",
       "    <tr>\n",
       "      <th>6</th>\n",
       "      <td>Отпетые мошенники.</td>\n",
       "      <td>121011416</td>\n",
       "      <td>2016-05-05 12:00:00+00:00</td>\n",
       "      <td>Художественный</td>\n",
       "      <td>Пульсар Продюксьон, ТФ1 Фильм</td>\n",
       "      <td>Франция</td>\n",
       "      <td>Эрик Беснард</td>\n",
       "      <td>Патрис Леду</td>\n",
       "      <td>«18+» - запрещено для детей</td>\n",
       "      <td>0.0</td>\n",
       "      <td>0.0</td>\n",
       "      <td>0.0</td>\n",
       "      <td>unknown</td>\n",
       "      <td>8.0</td>\n",
       "      <td>комедия, криминал</td>\n",
       "      <td>0.0</td>\n",
       "      <td>2016</td>\n",
       "      <td>Эрик Беснард</td>\n",
       "      <td>комедия</td>\n",
       "    </tr>\n",
       "    <tr>\n",
       "      <th>7</th>\n",
       "      <td>Отпуск за свой счет</td>\n",
       "      <td>111019114</td>\n",
       "      <td>2014-12-01 12:00:00+00:00</td>\n",
       "      <td>Художественный</td>\n",
       "      <td>Киностудия \"Мосфильм\", Телевидение ВНР</td>\n",
       "      <td>СССР, Венгрия</td>\n",
       "      <td>В.Титов</td>\n",
       "      <td>unknown</td>\n",
       "      <td>«12+» - для детей старше 12 лет</td>\n",
       "      <td>0.0</td>\n",
       "      <td>0.0</td>\n",
       "      <td>0.0</td>\n",
       "      <td>unknown</td>\n",
       "      <td>7.8</td>\n",
       "      <td>мелодрама, комедия</td>\n",
       "      <td>0.0</td>\n",
       "      <td>2014</td>\n",
       "      <td>В.Титов</td>\n",
       "      <td>мелодрама</td>\n",
       "    </tr>\n",
       "    <tr>\n",
       "      <th>8</th>\n",
       "      <td>Превосходство Борна /По одноименной новелле Ро...</td>\n",
       "      <td>221031416</td>\n",
       "      <td>2016-06-29 12:00:00+00:00</td>\n",
       "      <td>Художественный</td>\n",
       "      <td>Кеннеди/Маршал Компани, Юниверсал Пикчерз, Гип...</td>\n",
       "      <td>США</td>\n",
       "      <td>Пол Грингросс</td>\n",
       "      <td>Патрик Кроули, Фрэнк Маршалл, Пол Сэндберг</td>\n",
       "      <td>«16+» - для детей старше 16 лет</td>\n",
       "      <td>0.0</td>\n",
       "      <td>0.0</td>\n",
       "      <td>0.0</td>\n",
       "      <td>unknown</td>\n",
       "      <td>7.7</td>\n",
       "      <td>боевик, триллер, детектив</td>\n",
       "      <td>0.0</td>\n",
       "      <td>2016</td>\n",
       "      <td>Пол Грингросс</td>\n",
       "      <td>боевик</td>\n",
       "    </tr>\n",
       "    <tr>\n",
       "      <th>9</th>\n",
       "      <td>Ответный ход</td>\n",
       "      <td>111019014</td>\n",
       "      <td>2014-12-01 12:00:00+00:00</td>\n",
       "      <td>Художественный</td>\n",
       "      <td>Киностудия \"Мосфильм\"</td>\n",
       "      <td>СССР</td>\n",
       "      <td>М.Туманишвили</td>\n",
       "      <td>unknown</td>\n",
       "      <td>«12+» - для детей старше 12 лет</td>\n",
       "      <td>0.0</td>\n",
       "      <td>0.0</td>\n",
       "      <td>0.0</td>\n",
       "      <td>unknown</td>\n",
       "      <td>7.8</td>\n",
       "      <td>боевик, драма, приключения</td>\n",
       "      <td>0.0</td>\n",
       "      <td>2014</td>\n",
       "      <td>М.Туманишвили</td>\n",
       "      <td>боевик</td>\n",
       "    </tr>\n",
       "    <tr>\n",
       "      <th>10</th>\n",
       "      <td>Малышка на миллион /По мотивам рассказов Ф.Х.Т...</td>\n",
       "      <td>221011415</td>\n",
       "      <td>2015-04-03 12:00:00+00:00</td>\n",
       "      <td>Художественный</td>\n",
       "      <td>Уорнер Бразерс, Лейкшор Интертейнмент, Малпасо...</td>\n",
       "      <td>США</td>\n",
       "      <td>Клинт Иствуд</td>\n",
       "      <td>Клинт Иствуд, Том Розенберг, Альберт С.Рудди, ...</td>\n",
       "      <td>«16+» - для детей старше 16 лет</td>\n",
       "      <td>0.0</td>\n",
       "      <td>0.0</td>\n",
       "      <td>0.0</td>\n",
       "      <td>unknown</td>\n",
       "      <td>8.1</td>\n",
       "      <td>драма, спорт</td>\n",
       "      <td>0.0</td>\n",
       "      <td>2015</td>\n",
       "      <td>Клинт Иствуд</td>\n",
       "      <td>драма</td>\n",
       "    </tr>\n",
       "    <tr>\n",
       "      <th>11</th>\n",
       "      <td>Преданный садовник</td>\n",
       "      <td>121003106</td>\n",
       "      <td>2013-08-26 12:00:00+00:00</td>\n",
       "      <td>Художественный</td>\n",
       "      <td>Потбойлер Продакшнз, Эпсилон Моушн Пикчерз, Ск...</td>\n",
       "      <td>Германия, Великобритания</td>\n",
       "      <td>Фернанду Мейрелльеш</td>\n",
       "      <td>Саймон Чэннинг Уильямс</td>\n",
       "      <td>«16+» - для детей старше 16 лет</td>\n",
       "      <td>0.0</td>\n",
       "      <td>0.0</td>\n",
       "      <td>0.0</td>\n",
       "      <td>unknown</td>\n",
       "      <td>7.1</td>\n",
       "      <td>триллер, драма, мелодрама</td>\n",
       "      <td>0.0</td>\n",
       "      <td>2013</td>\n",
       "      <td>Фернанду Мейрелльеш</td>\n",
       "      <td>триллер</td>\n",
       "    </tr>\n",
       "    <tr>\n",
       "      <th>12</th>\n",
       "      <td>Отель /По мотивам пьесы Джона Уэбстера/</td>\n",
       "      <td>221008812</td>\n",
       "      <td>2012-01-27 12:00:00+00:00</td>\n",
       "      <td>Художественный</td>\n",
       "      <td>Кэтлей, Отель Продакшнс, Мунстоун Интертейнмен...</td>\n",
       "      <td>Великобритания, Италия</td>\n",
       "      <td>Майк Фиггис</td>\n",
       "      <td>Этчи Стро, Анни Стюарт, Майк Фиггис</td>\n",
       "      <td>«18+» - запрещено для детей</td>\n",
       "      <td>0.0</td>\n",
       "      <td>0.0</td>\n",
       "      <td>0.0</td>\n",
       "      <td>unknown</td>\n",
       "      <td>6.0</td>\n",
       "      <td>комедия, мелодрама</td>\n",
       "      <td>0.0</td>\n",
       "      <td>2012</td>\n",
       "      <td>Майк Фиггис</td>\n",
       "      <td>комедия</td>\n",
       "    </tr>\n",
       "    <tr>\n",
       "      <th>13</th>\n",
       "      <td>Председатель</td>\n",
       "      <td>111014916</td>\n",
       "      <td>2016-09-13 12:00:00+00:00</td>\n",
       "      <td>Художественный</td>\n",
       "      <td>Киностудия \"Мосфильм\"</td>\n",
       "      <td>СССР</td>\n",
       "      <td>А.Салтыков</td>\n",
       "      <td>unknown</td>\n",
       "      <td>«12+» - для детей старше 12 лет</td>\n",
       "      <td>0.0</td>\n",
       "      <td>0.0</td>\n",
       "      <td>0.0</td>\n",
       "      <td>unknown</td>\n",
       "      <td>8.3</td>\n",
       "      <td>драма</td>\n",
       "      <td>0.0</td>\n",
       "      <td>2016</td>\n",
       "      <td>А.Салтыков</td>\n",
       "      <td>драма</td>\n",
       "    </tr>\n",
       "    <tr>\n",
       "      <th>14</th>\n",
       "      <td>Осенний марафон</td>\n",
       "      <td>111007513</td>\n",
       "      <td>2013-10-18 12:00:00+00:00</td>\n",
       "      <td>Художественный</td>\n",
       "      <td>Киностудия \"Мосфильм\"</td>\n",
       "      <td>СССР</td>\n",
       "      <td>Г.Данелия</td>\n",
       "      <td>unknown</td>\n",
       "      <td>«12+» - для детей старше 12 лет</td>\n",
       "      <td>0.0</td>\n",
       "      <td>0.0</td>\n",
       "      <td>0.0</td>\n",
       "      <td>unknown</td>\n",
       "      <td>8.0</td>\n",
       "      <td>драма, мелодрама, комедия</td>\n",
       "      <td>0.0</td>\n",
       "      <td>2013</td>\n",
       "      <td>Г.Данелия</td>\n",
       "      <td>драма</td>\n",
       "    </tr>\n",
       "    <tr>\n",
       "      <th>15</th>\n",
       "      <td>Осень</td>\n",
       "      <td>111027914</td>\n",
       "      <td>2014-12-24 12:00:00+00:00</td>\n",
       "      <td>Художественный</td>\n",
       "      <td>Киностудия \"Мосфильм\"</td>\n",
       "      <td>СССР</td>\n",
       "      <td>А.Смирнов</td>\n",
       "      <td>unknown</td>\n",
       "      <td>«12+» - для детей старше 12 лет</td>\n",
       "      <td>0.0</td>\n",
       "      <td>0.0</td>\n",
       "      <td>0.0</td>\n",
       "      <td>unknown</td>\n",
       "      <td>7.4</td>\n",
       "      <td>драма, мелодрама</td>\n",
       "      <td>0.0</td>\n",
       "      <td>2014</td>\n",
       "      <td>А.Смирнов</td>\n",
       "      <td>драма</td>\n",
       "    </tr>\n",
       "    <tr>\n",
       "      <th>16</th>\n",
       "      <td>Неподдающиеся</td>\n",
       "      <td>111003616</td>\n",
       "      <td>2016-02-12 12:00:00+00:00</td>\n",
       "      <td>Художественный</td>\n",
       "      <td>Киностудия \"Мосфильм\"</td>\n",
       "      <td>СССР</td>\n",
       "      <td>Ю.Чулюкин</td>\n",
       "      <td>unknown</td>\n",
       "      <td>«6+» - для детей старше 6 лет</td>\n",
       "      <td>0.0</td>\n",
       "      <td>0.0</td>\n",
       "      <td>0.0</td>\n",
       "      <td>unknown</td>\n",
       "      <td>8.0</td>\n",
       "      <td>мелодрама, комедия</td>\n",
       "      <td>360.0</td>\n",
       "      <td>2016</td>\n",
       "      <td>Ю.Чулюкин</td>\n",
       "      <td>мелодрама</td>\n",
       "    </tr>\n",
       "    <tr>\n",
       "      <th>17</th>\n",
       "      <td>Неподсуден</td>\n",
       "      <td>111003716</td>\n",
       "      <td>2016-02-12 12:00:00+00:00</td>\n",
       "      <td>Художественный</td>\n",
       "      <td>Киностудия \"Мосфильм\"</td>\n",
       "      <td>СССР</td>\n",
       "      <td>В.Краснопольский, В.Усков</td>\n",
       "      <td>unknown</td>\n",
       "      <td>«6+» - для детей старше 6 лет</td>\n",
       "      <td>0.0</td>\n",
       "      <td>0.0</td>\n",
       "      <td>0.0</td>\n",
       "      <td>unknown</td>\n",
       "      <td>7.7</td>\n",
       "      <td>драма</td>\n",
       "      <td>420.0</td>\n",
       "      <td>2016</td>\n",
       "      <td>В.Краснопольский</td>\n",
       "      <td>драма</td>\n",
       "    </tr>\n",
       "    <tr>\n",
       "      <th>18</th>\n",
       "      <td>Незабываемый 1919-й год</td>\n",
       "      <td>111003316</td>\n",
       "      <td>2016-02-12 12:00:00+00:00</td>\n",
       "      <td>Художественный</td>\n",
       "      <td>Киностудия \"Мосфильм\"</td>\n",
       "      <td>СССР</td>\n",
       "      <td>М.Чиаурели</td>\n",
       "      <td>unknown</td>\n",
       "      <td>«12+» - для детей старше 12 лет</td>\n",
       "      <td>0.0</td>\n",
       "      <td>0.0</td>\n",
       "      <td>0.0</td>\n",
       "      <td>unknown</td>\n",
       "      <td>5.8</td>\n",
       "      <td>драма, история</td>\n",
       "      <td>0.0</td>\n",
       "      <td>2016</td>\n",
       "      <td>М.Чиаурели</td>\n",
       "      <td>драма</td>\n",
       "    </tr>\n",
       "    <tr>\n",
       "      <th>19</th>\n",
       "      <td>Незаконченная жизнь</td>\n",
       "      <td>121015405</td>\n",
       "      <td>2015-05-06 12:00:00+00:00</td>\n",
       "      <td>Художественный</td>\n",
       "      <td>Инишиэл Интертейнмент Групп, Мирамакс Филмз, П...</td>\n",
       "      <td>США</td>\n",
       "      <td>Лассе Халлстрем</td>\n",
       "      <td>Лесли Холлеран, Алан Лэдд мл., Келлиан Лэдд, Х...</td>\n",
       "      <td>«12+» - для детей старше 12 лет</td>\n",
       "      <td>0.0</td>\n",
       "      <td>0.0</td>\n",
       "      <td>0.0</td>\n",
       "      <td>unknown</td>\n",
       "      <td>7.2</td>\n",
       "      <td>драма, мелодрама, семейный</td>\n",
       "      <td>0.0</td>\n",
       "      <td>2015</td>\n",
       "      <td>Лассе Халлстрем</td>\n",
       "      <td>драма</td>\n",
       "    </tr>\n",
       "  </tbody>\n",
       "</table>\n",
       "</div>"
      ],
      "text/plain": [
       "                                                title   puNumber  \\\n",
       "0                                    Открытый простор  221048915   \n",
       "1                                Особо важное задание  111013716   \n",
       "2                                        Особо опасен  221030815   \n",
       "3                                   Остановился поезд  111013816   \n",
       "4                                     Любовь и голуби  111007013   \n",
       "5                                   Любовь и сигареты  221074614   \n",
       "6                                  Отпетые мошенники.  121011416   \n",
       "7                                 Отпуск за свой счет  111019114   \n",
       "8   Превосходство Борна /По одноименной новелле Ро...  221031416   \n",
       "9                                        Ответный ход  111019014   \n",
       "10  Малышка на миллион /По мотивам рассказов Ф.Х.Т...  221011415   \n",
       "11                                 Преданный садовник  121003106   \n",
       "12            Отель /По мотивам пьесы Джона Уэбстера/  221008812   \n",
       "13                                       Председатель  111014916   \n",
       "14                                    Осенний марафон  111007513   \n",
       "15                                              Осень  111027914   \n",
       "16                                      Неподдающиеся  111003616   \n",
       "17                                         Неподсуден  111003716   \n",
       "18                            Незабываемый 1919-й год  111003316   \n",
       "19                                Незаконченная жизнь  121015405   \n",
       "\n",
       "             show_start_date            type  \\\n",
       "0  2015-11-27 12:00:00+00:00  Художественный   \n",
       "1  2016-09-13 12:00:00+00:00  Художественный   \n",
       "2  2015-07-29 12:00:00+00:00  Художественный   \n",
       "3  2016-09-13 12:00:00+00:00  Художественный   \n",
       "4  2013-10-18 12:00:00+00:00  Художественный   \n",
       "5  2014-12-29 12:00:00+00:00  Художественный   \n",
       "6  2016-05-05 12:00:00+00:00  Художественный   \n",
       "7  2014-12-01 12:00:00+00:00  Художественный   \n",
       "8  2016-06-29 12:00:00+00:00  Художественный   \n",
       "9  2014-12-01 12:00:00+00:00  Художественный   \n",
       "10 2015-04-03 12:00:00+00:00  Художественный   \n",
       "11 2013-08-26 12:00:00+00:00  Художественный   \n",
       "12 2012-01-27 12:00:00+00:00  Художественный   \n",
       "13 2016-09-13 12:00:00+00:00  Художественный   \n",
       "14 2013-10-18 12:00:00+00:00  Художественный   \n",
       "15 2014-12-24 12:00:00+00:00  Художественный   \n",
       "16 2016-02-12 12:00:00+00:00  Художественный   \n",
       "17 2016-02-12 12:00:00+00:00  Художественный   \n",
       "18 2016-02-12 12:00:00+00:00  Художественный   \n",
       "19 2015-05-06 12:00:00+00:00  Художественный   \n",
       "\n",
       "                                          film_studio  \\\n",
       "0   Тачстоун Пикчерз, Кобальт Пикчерз, Бикон Пикче...   \n",
       "1                               Киностудия \"Мосфильм\"   \n",
       "2   Юниверсал Пикчерз, Кикстарт Продакшнз, Марк Пл...   \n",
       "3                               Киностудия \"Мосфильм\"   \n",
       "4                               Киностудия \"Мосфильм\"   \n",
       "5   Юнайтед Артистс, Грин Стрит Филмз, Айкон Интер...   \n",
       "6                      Пульсар Продюксьон, ТФ1 Фильм    \n",
       "7              Киностудия \"Мосфильм\", Телевидение ВНР   \n",
       "8   Кеннеди/Маршал Компани, Юниверсал Пикчерз, Гип...   \n",
       "9                               Киностудия \"Мосфильм\"   \n",
       "10  Уорнер Бразерс, Лейкшор Интертейнмент, Малпасо...   \n",
       "11  Потбойлер Продакшнз, Эпсилон Моушн Пикчерз, Ск...   \n",
       "12  Кэтлей, Отель Продакшнс, Мунстоун Интертейнмен...   \n",
       "13                              Киностудия \"Мосфильм\"   \n",
       "14                              Киностудия \"Мосфильм\"   \n",
       "15                              Киностудия \"Мосфильм\"   \n",
       "16                              Киностудия \"Мосфильм\"   \n",
       "17                              Киностудия \"Мосфильм\"   \n",
       "18                              Киностудия \"Мосфильм\"   \n",
       "19  Инишиэл Интертейнмент Групп, Мирамакс Филмз, П...   \n",
       "\n",
       "          production_country                   director  \\\n",
       "0                        США              Кевин Костнер   \n",
       "1                       СССР                  Е.Матвеев   \n",
       "2                        США          Тимур Бекмамбетов   \n",
       "3                       СССР               В.Абдрашитов   \n",
       "4                       СССР                  В.Меньшов   \n",
       "5                        США              Джон Туртурро   \n",
       "6                    Франция               Эрик Беснард   \n",
       "7              СССР, Венгрия                    В.Титов   \n",
       "8                        США              Пол Грингросс   \n",
       "9                       СССР              М.Туманишвили   \n",
       "10                       США               Клинт Иствуд   \n",
       "11  Германия, Великобритания        Фернанду Мейрелльеш   \n",
       "12    Великобритания, Италия                Майк Фиггис   \n",
       "13                      СССР                 А.Салтыков   \n",
       "14                      СССР                  Г.Данелия   \n",
       "15                      СССР                  А.Смирнов   \n",
       "16                      СССР                  Ю.Чулюкин   \n",
       "17                      СССР  В.Краснопольский, В.Усков   \n",
       "18                      СССР                 М.Чиаурели   \n",
       "19                       США            Лассе Халлстрем   \n",
       "\n",
       "                                             producer  \\\n",
       "0           Дэвид Валдес, Кевин Костнер, Джейк Эбертс   \n",
       "1                                             unknown   \n",
       "2   Джим Лемли, Джейсон Нетер, Марк Е.Платт, Яйн Смит   \n",
       "3                                             unknown   \n",
       "4                                             unknown   \n",
       "5                         Джон Пенотти, Джон Туртурро   \n",
       "6                                         Патрис Леду   \n",
       "7                                             unknown   \n",
       "8          Патрик Кроули, Фрэнк Маршалл, Пол Сэндберг   \n",
       "9                                             unknown   \n",
       "10  Клинт Иствуд, Том Розенберг, Альберт С.Рудди, ...   \n",
       "11                             Саймон Чэннинг Уильямс   \n",
       "12                Этчи Стро, Анни Стюарт, Майк Фиггис   \n",
       "13                                            unknown   \n",
       "14                                            unknown   \n",
       "15                                            unknown   \n",
       "16                                            unknown   \n",
       "17                                            unknown   \n",
       "18                                            unknown   \n",
       "19  Лесли Холлеран, Алан Лэдд мл., Келлиан Лэдд, Х...   \n",
       "\n",
       "                    age_restriction  refundable_support  \\\n",
       "0       «18+» - запрещено для детей                 0.0   \n",
       "1     «6+» - для детей старше 6 лет                 0.0   \n",
       "2       «18+» - запрещено для детей                 0.0   \n",
       "3     «6+» - для детей старше 6 лет                 0.0   \n",
       "4   «12+» - для детей старше 12 лет                 0.0   \n",
       "5       «18+» - запрещено для детей                 0.0   \n",
       "6       «18+» - запрещено для детей                 0.0   \n",
       "7   «12+» - для детей старше 12 лет                 0.0   \n",
       "8   «16+» - для детей старше 16 лет                 0.0   \n",
       "9   «12+» - для детей старше 12 лет                 0.0   \n",
       "10  «16+» - для детей старше 16 лет                 0.0   \n",
       "11  «16+» - для детей старше 16 лет                 0.0   \n",
       "12      «18+» - запрещено для детей                 0.0   \n",
       "13  «12+» - для детей старше 12 лет                 0.0   \n",
       "14  «12+» - для детей старше 12 лет                 0.0   \n",
       "15  «12+» - для детей старше 12 лет                 0.0   \n",
       "16    «6+» - для детей старше 6 лет                 0.0   \n",
       "17    «6+» - для детей старше 6 лет                 0.0   \n",
       "18  «12+» - для детей старше 12 лет                 0.0   \n",
       "19  «12+» - для детей старше 12 лет                 0.0   \n",
       "\n",
       "    nonrefundable_support  budget financing_source  ratings  \\\n",
       "0                     0.0     0.0          unknown      7.2   \n",
       "1                     0.0     0.0          unknown      6.6   \n",
       "2                     0.0     0.0          unknown      6.8   \n",
       "3                     0.0     0.0          unknown      7.7   \n",
       "4                     0.0     0.0          unknown      8.3   \n",
       "5                     0.0     0.0          unknown      6.6   \n",
       "6                     0.0     0.0          unknown      8.0   \n",
       "7                     0.0     0.0          unknown      7.8   \n",
       "8                     0.0     0.0          unknown      7.7   \n",
       "9                     0.0     0.0          unknown      7.8   \n",
       "10                    0.0     0.0          unknown      8.1   \n",
       "11                    0.0     0.0          unknown      7.1   \n",
       "12                    0.0     0.0          unknown      6.0   \n",
       "13                    0.0     0.0          unknown      8.3   \n",
       "14                    0.0     0.0          unknown      8.0   \n",
       "15                    0.0     0.0          unknown      7.4   \n",
       "16                    0.0     0.0          unknown      8.0   \n",
       "17                    0.0     0.0          unknown      7.7   \n",
       "18                    0.0     0.0          unknown      5.8   \n",
       "19                    0.0     0.0          unknown      7.2   \n",
       "\n",
       "                         genres  box_office  year       chief_director  \\\n",
       "0      боевик, драма, мелодрама         0.0  2015        Кевин Костнер   \n",
       "1                драма, военный         0.0  2016            Е.Матвеев   \n",
       "2   фантастика, боевик, триллер         0.0  2015    Тимур Бекмамбетов   \n",
       "3                         драма         0.0  2016         В.Абдрашитов   \n",
       "4            мелодрама, комедия      2700.0  2013            В.Меньшов   \n",
       "5    мюзикл, мелодрама, комедия         0.0  2014        Джон Туртурро   \n",
       "6             комедия, криминал         0.0  2016         Эрик Беснард   \n",
       "7            мелодрама, комедия         0.0  2014              В.Титов   \n",
       "8     боевик, триллер, детектив         0.0  2016        Пол Грингросс   \n",
       "9    боевик, драма, приключения         0.0  2014        М.Туманишвили   \n",
       "10                 драма, спорт         0.0  2015         Клинт Иствуд   \n",
       "11    триллер, драма, мелодрама         0.0  2013  Фернанду Мейрелльеш   \n",
       "12           комедия, мелодрама         0.0  2012          Майк Фиггис   \n",
       "13                        драма         0.0  2016           А.Салтыков   \n",
       "14    драма, мелодрама, комедия         0.0  2013            Г.Данелия   \n",
       "15             драма, мелодрама         0.0  2014            А.Смирнов   \n",
       "16           мелодрама, комедия       360.0  2016            Ю.Чулюкин   \n",
       "17                        драма       420.0  2016     В.Краснопольский   \n",
       "18               драма, история         0.0  2016           М.Чиаурели   \n",
       "19   драма, мелодрама, семейный         0.0  2015      Лассе Халлстрем   \n",
       "\n",
       "   main_genres  \n",
       "0       боевик  \n",
       "1        драма  \n",
       "2   фантастика  \n",
       "3        драма  \n",
       "4    мелодрама  \n",
       "5       мюзикл  \n",
       "6      комедия  \n",
       "7    мелодрама  \n",
       "8       боевик  \n",
       "9       боевик  \n",
       "10       драма  \n",
       "11     триллер  \n",
       "12     комедия  \n",
       "13       драма  \n",
       "14       драма  \n",
       "15       драма  \n",
       "16   мелодрама  \n",
       "17       драма  \n",
       "18       драма  \n",
       "19       драма  "
      ]
     },
     "execution_count": 30,
     "metadata": {},
     "output_type": "execute_result"
    }
   ],
   "source": [
    "#Создадим 2 столбца chief_director и main_genres\n",
    "movies['chief_director'] = movies['director'].str.split(', ').str[0]\n",
    "movies['main_genres'] = movies['genres'].str.split(', ').str[0]\n",
    "\n",
    "movies.head(20)"
   ]
  },
  {
   "cell_type": "markdown",
   "metadata": {
    "id": "1FsCXHwdgFyU"
   },
   "source": [
    "- Посчитайте, какую долю от общего бюджета фильма составляет государственная поддержка."
   ]
  },
  {
   "cell_type": "code",
   "execution_count": 31,
   "metadata": {},
   "outputs": [
    {
     "data": {
      "text/html": [
       "<div>\n",
       "<style scoped>\n",
       "    .dataframe tbody tr th:only-of-type {\n",
       "        vertical-align: middle;\n",
       "    }\n",
       "\n",
       "    .dataframe tbody tr th {\n",
       "        vertical-align: top;\n",
       "    }\n",
       "\n",
       "    .dataframe thead th {\n",
       "        text-align: right;\n",
       "    }\n",
       "</style>\n",
       "<table border=\"1\" class=\"dataframe\">\n",
       "  <thead>\n",
       "    <tr style=\"text-align: right;\">\n",
       "      <th></th>\n",
       "      <th>title</th>\n",
       "      <th>puNumber</th>\n",
       "      <th>show_start_date</th>\n",
       "      <th>type</th>\n",
       "      <th>film_studio</th>\n",
       "      <th>production_country</th>\n",
       "      <th>director</th>\n",
       "      <th>producer</th>\n",
       "      <th>age_restriction</th>\n",
       "      <th>refundable_support</th>\n",
       "      <th>nonrefundable_support</th>\n",
       "      <th>budget</th>\n",
       "      <th>financing_source</th>\n",
       "      <th>ratings</th>\n",
       "      <th>genres</th>\n",
       "      <th>box_office</th>\n",
       "      <th>year</th>\n",
       "      <th>chief_director</th>\n",
       "      <th>main_genres</th>\n",
       "      <th>gos/budget</th>\n",
       "    </tr>\n",
       "  </thead>\n",
       "  <tbody>\n",
       "    <tr>\n",
       "      <th>1093</th>\n",
       "      <td>Пока еще жива</td>\n",
       "      <td>111005313</td>\n",
       "      <td>2013-10-11 12:00:00+00:00</td>\n",
       "      <td>Художественный</td>\n",
       "      <td>АНО содействия развитию кинематографии \"Ангел-...</td>\n",
       "      <td>Россия</td>\n",
       "      <td>А.Атанесян</td>\n",
       "      <td>А.Атанесян, М.Бабаханов, Р.Бутко</td>\n",
       "      <td>«16+» - для детей старше 16 лет</td>\n",
       "      <td>0.0</td>\n",
       "      <td>26500000.0</td>\n",
       "      <td>79411900.0</td>\n",
       "      <td>Министерство культуры</td>\n",
       "      <td>8.1</td>\n",
       "      <td>драма, мелодрама</td>\n",
       "      <td>3.653536e+05</td>\n",
       "      <td>2013</td>\n",
       "      <td>А.Атанесян</td>\n",
       "      <td>драма</td>\n",
       "      <td>0.33</td>\n",
       "    </tr>\n",
       "    <tr>\n",
       "      <th>1243</th>\n",
       "      <td>Бесславные придурки</td>\n",
       "      <td>111003314</td>\n",
       "      <td>2014-03-28 12:00:00+00:00</td>\n",
       "      <td>Художественный</td>\n",
       "      <td>ООО \"Компания \"АТК-Студио\"</td>\n",
       "      <td>Россия</td>\n",
       "      <td>А.Якимчук</td>\n",
       "      <td>А.Тютрюмов</td>\n",
       "      <td>«12+» - для детей старше 12 лет</td>\n",
       "      <td>0.0</td>\n",
       "      <td>26000000.0</td>\n",
       "      <td>37142857.0</td>\n",
       "      <td>Министерство культуры</td>\n",
       "      <td>0.0</td>\n",
       "      <td>unknown</td>\n",
       "      <td>2.814000e+04</td>\n",
       "      <td>2014</td>\n",
       "      <td>А.Якимчук</td>\n",
       "      <td>unknown</td>\n",
       "      <td>0.70</td>\n",
       "    </tr>\n",
       "    <tr>\n",
       "      <th>1287</th>\n",
       "      <td>Невидимки</td>\n",
       "      <td>111004213</td>\n",
       "      <td>2013-09-10 12:00:00+00:00</td>\n",
       "      <td>Художественный</td>\n",
       "      <td>ООО \"Компания \"РЕАЛ-ДАКОТА\"</td>\n",
       "      <td>Россия</td>\n",
       "      <td>Р.Давлетьяров, С.Комаров</td>\n",
       "      <td>Р.Давлетьяров, А.Котелевский, А.Олейников</td>\n",
       "      <td>«12+» - для детей старше 12 лет</td>\n",
       "      <td>0.0</td>\n",
       "      <td>107847945.0</td>\n",
       "      <td>176023490.0</td>\n",
       "      <td>Фонд кино</td>\n",
       "      <td>5.3</td>\n",
       "      <td>комедия, фантастика</td>\n",
       "      <td>1.995703e+07</td>\n",
       "      <td>2013</td>\n",
       "      <td>Р.Давлетьяров</td>\n",
       "      <td>комедия</td>\n",
       "      <td>0.61</td>\n",
       "    </tr>\n",
       "    <tr>\n",
       "      <th>1310</th>\n",
       "      <td>БЕРЦЫ</td>\n",
       "      <td>111004314</td>\n",
       "      <td>2014-05-05 12:00:00+00:00</td>\n",
       "      <td>Художественный</td>\n",
       "      <td>ООО \"Студия \"Пассажир\"</td>\n",
       "      <td>Россия</td>\n",
       "      <td>Е.Миндадзе (псевдоним Катя Шагалова)</td>\n",
       "      <td>Л.Антонова</td>\n",
       "      <td>«16+» - для детей старше 16 лет</td>\n",
       "      <td>0.0</td>\n",
       "      <td>28000000.0</td>\n",
       "      <td>40574140.0</td>\n",
       "      <td>Министерство культуры</td>\n",
       "      <td>4.2</td>\n",
       "      <td>драма</td>\n",
       "      <td>5.591750e+04</td>\n",
       "      <td>2014</td>\n",
       "      <td>Е.Миндадзе (псевдоним Катя Шагалова)</td>\n",
       "      <td>драма</td>\n",
       "      <td>0.69</td>\n",
       "    </tr>\n",
       "    <tr>\n",
       "      <th>1554</th>\n",
       "      <td>Братья Ч</td>\n",
       "      <td>111004414</td>\n",
       "      <td>2014-04-23 12:00:00+00:00</td>\n",
       "      <td>Художественный</td>\n",
       "      <td>ООО \"Студия \"Пассажир\"</td>\n",
       "      <td>Россия</td>\n",
       "      <td>М.Угаров</td>\n",
       "      <td>А.Миндадзе, Л.Антонова</td>\n",
       "      <td>«16+» - для детей старше 16 лет</td>\n",
       "      <td>0.0</td>\n",
       "      <td>25000000.0</td>\n",
       "      <td>40015122.0</td>\n",
       "      <td>Министерство культуры</td>\n",
       "      <td>6.4</td>\n",
       "      <td>драма</td>\n",
       "      <td>2.321000e+05</td>\n",
       "      <td>2014</td>\n",
       "      <td>М.Угаров</td>\n",
       "      <td>драма</td>\n",
       "      <td>0.62</td>\n",
       "    </tr>\n",
       "    <tr>\n",
       "      <th>...</th>\n",
       "      <td>...</td>\n",
       "      <td>...</td>\n",
       "      <td>...</td>\n",
       "      <td>...</td>\n",
       "      <td>...</td>\n",
       "      <td>...</td>\n",
       "      <td>...</td>\n",
       "      <td>...</td>\n",
       "      <td>...</td>\n",
       "      <td>...</td>\n",
       "      <td>...</td>\n",
       "      <td>...</td>\n",
       "      <td>...</td>\n",
       "      <td>...</td>\n",
       "      <td>...</td>\n",
       "      <td>...</td>\n",
       "      <td>...</td>\n",
       "      <td>...</td>\n",
       "      <td>...</td>\n",
       "      <td>...</td>\n",
       "    </tr>\n",
       "    <tr>\n",
       "      <th>6734</th>\n",
       "      <td>Союз спасения</td>\n",
       "      <td>111022019</td>\n",
       "      <td>2019-12-26 12:00:00+00:00</td>\n",
       "      <td>Художественный</td>\n",
       "      <td>ЗАО \"Дирекция кино\"</td>\n",
       "      <td>Россия</td>\n",
       "      <td>А.Кравчук</td>\n",
       "      <td>А.Максимов, К.Эрнст</td>\n",
       "      <td>«12+» - для детей старше 12 лет</td>\n",
       "      <td>100000000.0</td>\n",
       "      <td>400000000.0</td>\n",
       "      <td>980000000.0</td>\n",
       "      <td>Фонд кино</td>\n",
       "      <td>6.0</td>\n",
       "      <td>история, биография, драма</td>\n",
       "      <td>7.177032e+08</td>\n",
       "      <td>2019</td>\n",
       "      <td>А.Кравчук</td>\n",
       "      <td>история</td>\n",
       "      <td>0.51</td>\n",
       "    </tr>\n",
       "    <tr>\n",
       "      <th>6736</th>\n",
       "      <td>Иван Царевич и Серый Волк 4</td>\n",
       "      <td>114005019</td>\n",
       "      <td>2019-12-20 12:00:00+00:00</td>\n",
       "      <td>Анимационный</td>\n",
       "      <td>ООО \"Студия анимационного кино \"Мельница\"</td>\n",
       "      <td>Россия</td>\n",
       "      <td>Д.Шмидт, К.Феоктистов</td>\n",
       "      <td>С.Сельянов, А.Боярский</td>\n",
       "      <td>«6+» - для детей старше 6 лет</td>\n",
       "      <td>100000000.0</td>\n",
       "      <td>0.0</td>\n",
       "      <td>190000000.0</td>\n",
       "      <td>Фонд кино</td>\n",
       "      <td>6.7</td>\n",
       "      <td>мультфильм, приключения, семейный</td>\n",
       "      <td>5.010692e+08</td>\n",
       "      <td>2019</td>\n",
       "      <td>Д.Шмидт</td>\n",
       "      <td>мультфильм</td>\n",
       "      <td>0.53</td>\n",
       "    </tr>\n",
       "    <tr>\n",
       "      <th>6744</th>\n",
       "      <td>Вторжение</td>\n",
       "      <td>111022519</td>\n",
       "      <td>2019-12-23 12:00:00+00:00</td>\n",
       "      <td>Художественный</td>\n",
       "      <td>ООО \"Арт Пикчерс Студия\", ООО \"Водород 2011\"</td>\n",
       "      <td>Россия</td>\n",
       "      <td>Ф.Бондарчук</td>\n",
       "      <td>Ф.Бондарчук, М.Врубель, А.Андрющенко, Д.Рудовский</td>\n",
       "      <td>«12+» - для детей старше 12 лет</td>\n",
       "      <td>100000000.0</td>\n",
       "      <td>400000000.0</td>\n",
       "      <td>944000000.0</td>\n",
       "      <td>Фонд кино</td>\n",
       "      <td>5.7</td>\n",
       "      <td>фантастика, боевик</td>\n",
       "      <td>0.000000e+00</td>\n",
       "      <td>2019</td>\n",
       "      <td>Ф.Бондарчук</td>\n",
       "      <td>фантастика</td>\n",
       "      <td>0.53</td>\n",
       "    </tr>\n",
       "    <tr>\n",
       "      <th>6746</th>\n",
       "      <td>Я свободен</td>\n",
       "      <td>111023019</td>\n",
       "      <td>2019-12-26 12:00:00+00:00</td>\n",
       "      <td>Художественный</td>\n",
       "      <td>АО \"ТПО \"Киностудия им. М.Горького\"</td>\n",
       "      <td>Россия</td>\n",
       "      <td>И.Северов</td>\n",
       "      <td>С.Зернов</td>\n",
       "      <td>«12+» - для детей старше 12 лет</td>\n",
       "      <td>0.0</td>\n",
       "      <td>30000000.0</td>\n",
       "      <td>46154000.0</td>\n",
       "      <td>Министерство культуры</td>\n",
       "      <td>5.9</td>\n",
       "      <td>драма</td>\n",
       "      <td>0.000000e+00</td>\n",
       "      <td>2019</td>\n",
       "      <td>И.Северов</td>\n",
       "      <td>драма</td>\n",
       "      <td>0.65</td>\n",
       "    </tr>\n",
       "    <tr>\n",
       "      <th>6748</th>\n",
       "      <td>(Не)идеальный мужчина</td>\n",
       "      <td>111023119</td>\n",
       "      <td>2019-12-24 12:00:00+00:00</td>\n",
       "      <td>Художественный</td>\n",
       "      <td>ООО \"Нон-Стоп Продакшн\"</td>\n",
       "      <td>Россия</td>\n",
       "      <td>М.Бальчюнас (псевдоним М.Вайсберг)</td>\n",
       "      <td>С.Мелькумов, А.Роднянский, М.Вайсберг, Р.Минас...</td>\n",
       "      <td>«12+» - для детей старше 12 лет</td>\n",
       "      <td>40000000.0</td>\n",
       "      <td>60000000.0</td>\n",
       "      <td>150147502.0</td>\n",
       "      <td>Фонд кино</td>\n",
       "      <td>4.5</td>\n",
       "      <td>комедия, фантастика, мелодрама</td>\n",
       "      <td>0.000000e+00</td>\n",
       "      <td>2019</td>\n",
       "      <td>М.Бальчюнас (псевдоним М.Вайсберг)</td>\n",
       "      <td>комедия</td>\n",
       "      <td>0.67</td>\n",
       "    </tr>\n",
       "  </tbody>\n",
       "</table>\n",
       "<p>315 rows × 20 columns</p>\n",
       "</div>"
      ],
      "text/plain": [
       "                            title   puNumber           show_start_date  \\\n",
       "1093                Пока еще жива  111005313 2013-10-11 12:00:00+00:00   \n",
       "1243          Бесславные придурки  111003314 2014-03-28 12:00:00+00:00   \n",
       "1287                    Невидимки  111004213 2013-09-10 12:00:00+00:00   \n",
       "1310                        БЕРЦЫ  111004314 2014-05-05 12:00:00+00:00   \n",
       "1554                     Братья Ч  111004414 2014-04-23 12:00:00+00:00   \n",
       "...                           ...        ...                       ...   \n",
       "6734                Союз спасения  111022019 2019-12-26 12:00:00+00:00   \n",
       "6736  Иван Царевич и Серый Волк 4  114005019 2019-12-20 12:00:00+00:00   \n",
       "6744                    Вторжение  111022519 2019-12-23 12:00:00+00:00   \n",
       "6746                   Я свободен  111023019 2019-12-26 12:00:00+00:00   \n",
       "6748        (Не)идеальный мужчина  111023119 2019-12-24 12:00:00+00:00   \n",
       "\n",
       "                type                                        film_studio  \\\n",
       "1093  Художественный  АНО содействия развитию кинематографии \"Ангел-...   \n",
       "1243  Художественный                         ООО \"Компания \"АТК-Студио\"   \n",
       "1287  Художественный                        ООО \"Компания \"РЕАЛ-ДАКОТА\"   \n",
       "1310  Художественный                             ООО \"Студия \"Пассажир\"   \n",
       "1554  Художественный                             ООО \"Студия \"Пассажир\"   \n",
       "...              ...                                                ...   \n",
       "6734  Художественный                                ЗАО \"Дирекция кино\"   \n",
       "6736    Анимационный          ООО \"Студия анимационного кино \"Мельница\"   \n",
       "6744  Художественный       ООО \"Арт Пикчерс Студия\", ООО \"Водород 2011\"   \n",
       "6746  Художественный                АО \"ТПО \"Киностудия им. М.Горького\"   \n",
       "6748  Художественный                           ООО \"Нон-Стоп Продакшн\"    \n",
       "\n",
       "     production_country                              director  \\\n",
       "1093             Россия                            А.Атанесян   \n",
       "1243             Россия                             А.Якимчук   \n",
       "1287             Россия              Р.Давлетьяров, С.Комаров   \n",
       "1310             Россия  Е.Миндадзе (псевдоним Катя Шагалова)   \n",
       "1554             Россия                              М.Угаров   \n",
       "...                 ...                                   ...   \n",
       "6734             Россия                             А.Кравчук   \n",
       "6736             Россия                 Д.Шмидт, К.Феоктистов   \n",
       "6744             Россия                           Ф.Бондарчук   \n",
       "6746             Россия                             И.Северов   \n",
       "6748             Россия    М.Бальчюнас (псевдоним М.Вайсберг)   \n",
       "\n",
       "                                               producer  \\\n",
       "1093                   А.Атанесян, М.Бабаханов, Р.Бутко   \n",
       "1243                                         А.Тютрюмов   \n",
       "1287          Р.Давлетьяров, А.Котелевский, А.Олейников   \n",
       "1310                                         Л.Антонова   \n",
       "1554                             А.Миндадзе, Л.Антонова   \n",
       "...                                                 ...   \n",
       "6734                                А.Максимов, К.Эрнст   \n",
       "6736                             С.Сельянов, А.Боярский   \n",
       "6744  Ф.Бондарчук, М.Врубель, А.Андрющенко, Д.Рудовский   \n",
       "6746                                           С.Зернов   \n",
       "6748  С.Мелькумов, А.Роднянский, М.Вайсберг, Р.Минас...   \n",
       "\n",
       "                      age_restriction  refundable_support  \\\n",
       "1093  «16+» - для детей старше 16 лет                 0.0   \n",
       "1243  «12+» - для детей старше 12 лет                 0.0   \n",
       "1287  «12+» - для детей старше 12 лет                 0.0   \n",
       "1310  «16+» - для детей старше 16 лет                 0.0   \n",
       "1554  «16+» - для детей старше 16 лет                 0.0   \n",
       "...                               ...                 ...   \n",
       "6734  «12+» - для детей старше 12 лет         100000000.0   \n",
       "6736    «6+» - для детей старше 6 лет         100000000.0   \n",
       "6744  «12+» - для детей старше 12 лет         100000000.0   \n",
       "6746  «12+» - для детей старше 12 лет                 0.0   \n",
       "6748  «12+» - для детей старше 12 лет          40000000.0   \n",
       "\n",
       "      nonrefundable_support       budget       financing_source  ratings  \\\n",
       "1093             26500000.0   79411900.0  Министерство культуры      8.1   \n",
       "1243             26000000.0   37142857.0  Министерство культуры      0.0   \n",
       "1287            107847945.0  176023490.0              Фонд кино      5.3   \n",
       "1310             28000000.0   40574140.0  Министерство культуры      4.2   \n",
       "1554             25000000.0   40015122.0  Министерство культуры      6.4   \n",
       "...                     ...          ...                    ...      ...   \n",
       "6734            400000000.0  980000000.0              Фонд кино      6.0   \n",
       "6736                    0.0  190000000.0              Фонд кино      6.7   \n",
       "6744            400000000.0  944000000.0              Фонд кино      5.7   \n",
       "6746             30000000.0   46154000.0  Министерство культуры      5.9   \n",
       "6748             60000000.0  150147502.0              Фонд кино      4.5   \n",
       "\n",
       "                                 genres    box_office  year  \\\n",
       "1093                   драма, мелодрама  3.653536e+05  2013   \n",
       "1243                            unknown  2.814000e+04  2014   \n",
       "1287                комедия, фантастика  1.995703e+07  2013   \n",
       "1310                              драма  5.591750e+04  2014   \n",
       "1554                              драма  2.321000e+05  2014   \n",
       "...                                 ...           ...   ...   \n",
       "6734          история, биография, драма  7.177032e+08  2019   \n",
       "6736  мультфильм, приключения, семейный  5.010692e+08  2019   \n",
       "6744                 фантастика, боевик  0.000000e+00  2019   \n",
       "6746                              драма  0.000000e+00  2019   \n",
       "6748     комедия, фантастика, мелодрама  0.000000e+00  2019   \n",
       "\n",
       "                            chief_director main_genres  gos/budget  \n",
       "1093                            А.Атанесян       драма        0.33  \n",
       "1243                             А.Якимчук     unknown        0.70  \n",
       "1287                         Р.Давлетьяров     комедия        0.61  \n",
       "1310  Е.Миндадзе (псевдоним Катя Шагалова)       драма        0.69  \n",
       "1554                              М.Угаров       драма        0.62  \n",
       "...                                    ...         ...         ...  \n",
       "6734                             А.Кравчук     история        0.51  \n",
       "6736                               Д.Шмидт  мультфильм        0.53  \n",
       "6744                           Ф.Бондарчук  фантастика        0.53  \n",
       "6746                             И.Северов       драма        0.65  \n",
       "6748    М.Бальчюнас (псевдоним М.Вайсберг)     комедия        0.67  \n",
       "\n",
       "[315 rows x 20 columns]"
      ]
     },
     "execution_count": 31,
     "metadata": {},
     "output_type": "execute_result"
    }
   ],
   "source": [
    "#разделим сумму 'refundable_support' и 'nonrefundable_support' на 'budget'\n",
    "movies['gos/budget'] =  movies.apply(lambda x: 0 if x['budget'] == 0 else round((x['refundable_support'] + x['nonrefundable_support']) / x['budget'], 2), axis=1)\n",
    "\n",
    "movies.head()\n",
    "movies[movies['budget'] > 0]"
   ]
  },
  {
   "cell_type": "code",
   "execution_count": 53,
   "metadata": {},
   "outputs": [
    {
     "data": {
      "text/plain": [
       "0   NaN\n",
       "dtype: float64"
      ]
     },
     "execution_count": 53,
     "metadata": {},
     "output_type": "execute_result"
    }
   ],
   "source": [
    "pd.Series([0]) / pd.Series([0])"
   ]
  },
  {
   "cell_type": "code",
   "execution_count": 32,
   "metadata": {},
   "outputs": [
    {
     "data": {
      "text/plain": [
       "0.5173858197698937"
      ]
     },
     "execution_count": 32,
     "metadata": {},
     "output_type": "execute_result"
    }
   ],
   "source": [
    "((movies['refundable_support'] + movies['nonrefundable_support']) / movies['budget']).mean()"
   ]
  },
  {
   "cell_type": "markdown",
   "metadata": {
    "id": "6t4EukPLgFyV"
   },
   "source": [
    "### Шаг 3. Проведите исследовательский анализ данных\n"
   ]
  },
  {
   "cell_type": "markdown",
   "metadata": {
    "id": "vAH8WCzugFyV"
   },
   "source": [
    "**- Посмотрите, сколько фильмов выходило в прокат каждый год. Обратите внимание, что данные о прокате в кинотеатрах известны не для всех фильмов. Посчитайте, какую долю составляют фильмы с указанной информацией о прокате в кинотеатрах.**"
   ]
  },
  {
   "cell_type": "code",
   "execution_count": 33,
   "metadata": {
    "id": "ABeV47y7gFyW"
   },
   "outputs": [
    {
     "data": {
      "text/plain": [
       "'Cколько фильмов выходило в прокат каждый год'"
      ]
     },
     "metadata": {},
     "output_type": "display_data"
    },
    {
     "data": {
      "text/plain": [
       "year\n",
       "2017    495\n",
       "2012    521\n",
       "2011    541\n",
       "2013    588\n",
       "2015    656\n",
       "2016    674\n",
       "2014    742\n",
       "2010    746\n",
       "2018    874\n",
       "2019    902\n",
       "Name: year, dtype: int64"
      ]
     },
     "metadata": {},
     "output_type": "display_data"
    },
    {
     "data": {
      "text/plain": [
       "'Cколько фильмов, у которых данные о прокате в кинотеатрах известны, выходило в прокат каждый год'"
      ]
     },
     "metadata": {},
     "output_type": "display_data"
    },
    {
     "data": {
      "text/plain": [
       "year\n",
       "2010     95\n",
       "2011    106\n",
       "2012    123\n",
       "2013    178\n",
       "2014    268\n",
       "2017    355\n",
       "2015    453\n",
       "2018    471\n",
       "2016    509\n",
       "2019    527\n",
       "Name: year, dtype: int64"
      ]
     },
     "metadata": {},
     "output_type": "display_data"
    },
    {
     "data": {
      "text/plain": [
       "'Какую долю составляют фильмы с указанной информацией о прокате в кинотеатрах'"
      ]
     },
     "metadata": {},
     "output_type": "display_data"
    },
    {
     "data": {
      "text/plain": [
       "year\n",
       "2010    0.127346\n",
       "2011    0.195933\n",
       "2012    0.236084\n",
       "2013    0.302721\n",
       "2014    0.361186\n",
       "2015    0.690549\n",
       "2016    0.755193\n",
       "2017    0.717172\n",
       "2018    0.538902\n",
       "2019    0.584257\n",
       "Name: year, dtype: float64"
      ]
     },
     "metadata": {},
     "output_type": "display_data"
    }
   ],
   "source": [
    "#сколько фильмов выходило в прокат каждый год\n",
    "display('Cколько фильмов выходило в прокат каждый год', movies.groupby('year')['year'].agg('count').sort_values())\n",
    "\n",
    "#сколько фильмов, у которых данные о прокате в кинотеатрах известны, выходило в прокат каждый год\n",
    "display('Cколько фильмов, у которых данные о прокате в кинотеатрах известны, выходило в прокат каждый год', movies[movies['box_office'] > 0].groupby('year')['year'].agg('count').sort_values())\n",
    "\n",
    "#какую долю составляют фильмы с указанной информацией о прокате в кинотеатрах\n",
    "display('Какую долю составляют фильмы с указанной информацией о прокате в кинотеатрах', movies[movies['box_office'] > 0].groupby('year')['year'].agg('count') / movies.groupby('year')['year'].agg('count').sort_values())"
   ]
  },
  {
   "cell_type": "code",
   "execution_count": 34,
   "metadata": {},
   "outputs": [
    {
     "data": {
      "text/html": [
       "<div>\n",
       "<style scoped>\n",
       "    .dataframe tbody tr th:only-of-type {\n",
       "        vertical-align: middle;\n",
       "    }\n",
       "\n",
       "    .dataframe tbody tr th {\n",
       "        vertical-align: top;\n",
       "    }\n",
       "\n",
       "    .dataframe thead th {\n",
       "        text-align: right;\n",
       "    }\n",
       "</style>\n",
       "<table border=\"1\" class=\"dataframe\">\n",
       "  <thead>\n",
       "    <tr style=\"text-align: right;\">\n",
       "      <th></th>\n",
       "      <th>box_office</th>\n",
       "    </tr>\n",
       "    <tr>\n",
       "      <th>year</th>\n",
       "      <th></th>\n",
       "    </tr>\n",
       "  </thead>\n",
       "  <tbody>\n",
       "    <tr>\n",
       "      <th>2010</th>\n",
       "      <td>0.127346</td>\n",
       "    </tr>\n",
       "    <tr>\n",
       "      <th>2011</th>\n",
       "      <td>0.195933</td>\n",
       "    </tr>\n",
       "    <tr>\n",
       "      <th>2012</th>\n",
       "      <td>0.236084</td>\n",
       "    </tr>\n",
       "    <tr>\n",
       "      <th>2013</th>\n",
       "      <td>0.302721</td>\n",
       "    </tr>\n",
       "    <tr>\n",
       "      <th>2014</th>\n",
       "      <td>0.361186</td>\n",
       "    </tr>\n",
       "    <tr>\n",
       "      <th>2015</th>\n",
       "      <td>0.690549</td>\n",
       "    </tr>\n",
       "    <tr>\n",
       "      <th>2016</th>\n",
       "      <td>0.755193</td>\n",
       "    </tr>\n",
       "    <tr>\n",
       "      <th>2017</th>\n",
       "      <td>0.717172</td>\n",
       "    </tr>\n",
       "    <tr>\n",
       "      <th>2018</th>\n",
       "      <td>0.538902</td>\n",
       "    </tr>\n",
       "    <tr>\n",
       "      <th>2019</th>\n",
       "      <td>0.584257</td>\n",
       "    </tr>\n",
       "  </tbody>\n",
       "</table>\n",
       "</div>"
      ],
      "text/plain": [
       "      box_office\n",
       "year            \n",
       "2010    0.127346\n",
       "2011    0.195933\n",
       "2012    0.236084\n",
       "2013    0.302721\n",
       "2014    0.361186\n",
       "2015    0.690549\n",
       "2016    0.755193\n",
       "2017    0.717172\n",
       "2018    0.538902\n",
       "2019    0.584257"
      ]
     },
     "execution_count": 34,
     "metadata": {},
     "output_type": "execute_result"
    }
   ],
   "source": [
    "movies.groupby('year').agg({'box_office' : lambda x : (x != 0).mean()})"
   ]
  },
  {
   "cell_type": "markdown",
   "metadata": {},
   "source": [
    "- Больше всего фильмов выходило в 2019 году (902 шт.), а меньше всего в 2017 году (495 шт.)\n",
    "- В кинотеатрах больше всего фильмов выходило так же в 2019 году (527 шт.), а меньше всего в 2010 году (95 шт.)\n",
    "- В 2019 году больше фильмов выходило в прокат в кинотеатрах, чем не выходило в кинотеатрах, а меньше всего в 2010 году"
   ]
  },
  {
   "cell_type": "markdown",
   "metadata": {
    "id": "BEOdcIrIgFyW"
   },
   "source": [
    "**- Изучите, как менялась динамика проката по годам. В каком году сумма сборов была минимальной? А максимальной?**"
   ]
  },
  {
   "cell_type": "code",
   "execution_count": 35,
   "metadata": {
    "id": "tfEhofYvgFyX"
   },
   "outputs": [
    {
     "data": {
      "text/html": [
       "<div>\n",
       "<style scoped>\n",
       "    .dataframe tbody tr th:only-of-type {\n",
       "        vertical-align: middle;\n",
       "    }\n",
       "\n",
       "    .dataframe tbody tr th {\n",
       "        vertical-align: top;\n",
       "    }\n",
       "\n",
       "    .dataframe thead th {\n",
       "        text-align: right;\n",
       "    }\n",
       "</style>\n",
       "<table border=\"1\" class=\"dataframe\">\n",
       "  <thead>\n",
       "    <tr style=\"text-align: right;\">\n",
       "      <th></th>\n",
       "      <th>sum</th>\n",
       "    </tr>\n",
       "    <tr>\n",
       "      <th>year</th>\n",
       "      <th></th>\n",
       "    </tr>\n",
       "  </thead>\n",
       "  <tbody>\n",
       "    <tr>\n",
       "      <th>2010</th>\n",
       "      <td>2.177414e+06</td>\n",
       "    </tr>\n",
       "    <tr>\n",
       "      <th>2012</th>\n",
       "      <td>6.955423e+06</td>\n",
       "    </tr>\n",
       "    <tr>\n",
       "      <th>2011</th>\n",
       "      <td>1.404129e+07</td>\n",
       "    </tr>\n",
       "    <tr>\n",
       "      <th>2013</th>\n",
       "      <td>2.979689e+07</td>\n",
       "    </tr>\n",
       "    <tr>\n",
       "      <th>2014</th>\n",
       "      <td>7.434701e+09</td>\n",
       "    </tr>\n",
       "    <tr>\n",
       "      <th>2015</th>\n",
       "      <td>3.852782e+10</td>\n",
       "    </tr>\n",
       "    <tr>\n",
       "      <th>2016</th>\n",
       "      <td>4.674207e+10</td>\n",
       "    </tr>\n",
       "    <tr>\n",
       "      <th>2019</th>\n",
       "      <td>4.827746e+10</td>\n",
       "    </tr>\n",
       "    <tr>\n",
       "      <th>2017</th>\n",
       "      <td>4.845815e+10</td>\n",
       "    </tr>\n",
       "    <tr>\n",
       "      <th>2018</th>\n",
       "      <td>4.925199e+10</td>\n",
       "    </tr>\n",
       "  </tbody>\n",
       "</table>\n",
       "</div>"
      ],
      "text/plain": [
       "               sum\n",
       "year              \n",
       "2010  2.177414e+06\n",
       "2012  6.955423e+06\n",
       "2011  1.404129e+07\n",
       "2013  2.979689e+07\n",
       "2014  7.434701e+09\n",
       "2015  3.852782e+10\n",
       "2016  4.674207e+10\n",
       "2019  4.827746e+10\n",
       "2017  4.845815e+10\n",
       "2018  4.925199e+10"
      ]
     },
     "execution_count": 35,
     "metadata": {},
     "output_type": "execute_result"
    },
    {
     "data": {
      "image/png": "[encoded data removed]",
      "text/plain": [
       "<Figure size 576x288 with 1 Axes>"
      ]
     },
     "metadata": {
      "needs_background": "light"
     },
     "output_type": "display_data"
    }
   ],
   "source": [
    "pivot_table_box_office_year = movies.query('box_office > 0').pivot_table(index = 'year', values = 'box_office', aggfunc = ['sum'])\n",
    "pivot_table_box_office_year.columns = ['sum']\n",
    "pivot_table_box_office_year\n",
    "pivot_table_box_office_year.plot(y = 'sum', kind='bar', figsize = (8,4), xlim=(2010, 2019), title='Сумма сборов')\n",
    "pivot_table_box_office_year.describe()\n",
    "pivot_table_box_office_year.sort_values('sum')"
   ]
  },
  {
   "cell_type": "markdown",
   "metadata": {},
   "source": [
    "- Сумма сборов была максимальной в 2018 году\n",
    "- Сумма сборов была минимальной в 2010 году"
   ]
  },
  {
   "cell_type": "code",
   "execution_count": 36,
   "metadata": {},
   "outputs": [
    {
     "data": {
      "text/html": [
       "<div>\n",
       "<style scoped>\n",
       "    .dataframe tbody tr th:only-of-type {\n",
       "        vertical-align: middle;\n",
       "    }\n",
       "\n",
       "    .dataframe tbody tr th {\n",
       "        vertical-align: top;\n",
       "    }\n",
       "\n",
       "    .dataframe thead th {\n",
       "        text-align: right;\n",
       "    }\n",
       "</style>\n",
       "<table border=\"1\" class=\"dataframe\">\n",
       "  <thead>\n",
       "    <tr style=\"text-align: right;\">\n",
       "      <th></th>\n",
       "      <th>sum</th>\n",
       "    </tr>\n",
       "    <tr>\n",
       "      <th>year</th>\n",
       "      <th></th>\n",
       "    </tr>\n",
       "  </thead>\n",
       "  <tbody>\n",
       "    <tr>\n",
       "      <th>2010</th>\n",
       "      <td>2,177,414</td>\n",
       "    </tr>\n",
       "    <tr>\n",
       "      <th>2012</th>\n",
       "      <td>6,955,423</td>\n",
       "    </tr>\n",
       "    <tr>\n",
       "      <th>2011</th>\n",
       "      <td>14,041,290</td>\n",
       "    </tr>\n",
       "    <tr>\n",
       "      <th>2013</th>\n",
       "      <td>29,796,886</td>\n",
       "    </tr>\n",
       "    <tr>\n",
       "      <th>2014</th>\n",
       "      <td>7,434,701,303</td>\n",
       "    </tr>\n",
       "    <tr>\n",
       "      <th>2015</th>\n",
       "      <td>38,527,823,819</td>\n",
       "    </tr>\n",
       "    <tr>\n",
       "      <th>2016</th>\n",
       "      <td>46,742,067,582</td>\n",
       "    </tr>\n",
       "    <tr>\n",
       "      <th>2019</th>\n",
       "      <td>48,277,463,088</td>\n",
       "    </tr>\n",
       "    <tr>\n",
       "      <th>2017</th>\n",
       "      <td>48,458,147,254</td>\n",
       "    </tr>\n",
       "    <tr>\n",
       "      <th>2018</th>\n",
       "      <td>49,251,991,405</td>\n",
       "    </tr>\n",
       "  </tbody>\n",
       "</table>\n",
       "</div>"
      ],
      "text/plain": [
       "                sum\n",
       "year               \n",
       "2010      2,177,414\n",
       "2012      6,955,423\n",
       "2011     14,041,290\n",
       "2013     29,796,886\n",
       "2014  7,434,701,303\n",
       "2015 38,527,823,819\n",
       "2016 46,742,067,582\n",
       "2019 48,277,463,088\n",
       "2017 48,458,147,254\n",
       "2018 49,251,991,405"
      ]
     },
     "metadata": {},
     "output_type": "display_data"
    }
   ],
   "source": [
    "with pd.option_context('display.float_format', '{:,.0f}'.format):\n",
    "    display(pivot_table_box_office_year.sort_values('sum'))"
   ]
  },
  {
   "cell_type": "markdown",
   "metadata": {
    "id": "G-7qS-N-gFyY"
   },
   "source": [
    "**- С помощью сводной таблицы посчитайте среднюю и медианную сумму сборов для каждого года.**"
   ]
  },
  {
   "cell_type": "code",
   "execution_count": 37,
   "metadata": {
    "id": "jmp-rgg9gFyY"
   },
   "outputs": [
    {
     "data": {
      "text/html": [
       "<div>\n",
       "<style scoped>\n",
       "    .dataframe tbody tr th:only-of-type {\n",
       "        vertical-align: middle;\n",
       "    }\n",
       "\n",
       "    .dataframe tbody tr th {\n",
       "        vertical-align: top;\n",
       "    }\n",
       "\n",
       "    .dataframe thead th {\n",
       "        text-align: right;\n",
       "    }\n",
       "</style>\n",
       "<table border=\"1\" class=\"dataframe\">\n",
       "  <thead>\n",
       "    <tr style=\"text-align: right;\">\n",
       "      <th></th>\n",
       "      <th>Средняя сумма</th>\n",
       "      <th>Медианная сумма</th>\n",
       "    </tr>\n",
       "    <tr>\n",
       "      <th>year</th>\n",
       "      <th></th>\n",
       "      <th></th>\n",
       "    </tr>\n",
       "  </thead>\n",
       "  <tbody>\n",
       "    <tr>\n",
       "      <th>2010</th>\n",
       "      <td>2,177,414</td>\n",
       "      <td>2,177,414</td>\n",
       "    </tr>\n",
       "    <tr>\n",
       "      <th>2011</th>\n",
       "      <td>14,041,290</td>\n",
       "      <td>14,041,290</td>\n",
       "    </tr>\n",
       "    <tr>\n",
       "      <th>2012</th>\n",
       "      <td>6,955,423</td>\n",
       "      <td>6,955,423</td>\n",
       "    </tr>\n",
       "    <tr>\n",
       "      <th>2013</th>\n",
       "      <td>29,796,886</td>\n",
       "      <td>29,796,886</td>\n",
       "    </tr>\n",
       "    <tr>\n",
       "      <th>2014</th>\n",
       "      <td>7,434,701,303</td>\n",
       "      <td>7,434,701,303</td>\n",
       "    </tr>\n",
       "    <tr>\n",
       "      <th>2015</th>\n",
       "      <td>38,527,823,819</td>\n",
       "      <td>38,527,823,819</td>\n",
       "    </tr>\n",
       "    <tr>\n",
       "      <th>2016</th>\n",
       "      <td>46,742,067,582</td>\n",
       "      <td>46,742,067,582</td>\n",
       "    </tr>\n",
       "    <tr>\n",
       "      <th>2017</th>\n",
       "      <td>48,458,147,254</td>\n",
       "      <td>48,458,147,254</td>\n",
       "    </tr>\n",
       "    <tr>\n",
       "      <th>2018</th>\n",
       "      <td>49,251,991,405</td>\n",
       "      <td>49,251,991,405</td>\n",
       "    </tr>\n",
       "    <tr>\n",
       "      <th>2019</th>\n",
       "      <td>48,277,463,088</td>\n",
       "      <td>48,277,463,088</td>\n",
       "    </tr>\n",
       "  </tbody>\n",
       "</table>\n",
       "</div>"
      ],
      "text/plain": [
       "      Средняя сумма  Медианная сумма\n",
       "year                                \n",
       "2010      2,177,414        2,177,414\n",
       "2011     14,041,290       14,041,290\n",
       "2012      6,955,423        6,955,423\n",
       "2013     29,796,886       29,796,886\n",
       "2014  7,434,701,303    7,434,701,303\n",
       "2015 38,527,823,819   38,527,823,819\n",
       "2016 46,742,067,582   46,742,067,582\n",
       "2017 48,458,147,254   48,458,147,254\n",
       "2018 49,251,991,405   49,251,991,405\n",
       "2019 48,277,463,088   48,277,463,088"
      ]
     },
     "metadata": {},
     "output_type": "display_data"
    }
   ],
   "source": [
    "pivot_table_box_office_year = pivot_table_box_office_year.pivot_table(index = 'year', values = 'sum', aggfunc = ['mean', 'median'])\n",
    "pivot_table_box_office_year.columns = ['Средняя сумма', 'Медианная сумма']\n",
    "\n",
    "with pd.option_context('display.float_format', '{:,.0f}'.format):\n",
    "    display(pivot_table_box_office_year)"
   ]
  },
  {
   "cell_type": "code",
   "execution_count": 38,
   "metadata": {},
   "outputs": [
    {
     "data": {
      "text/html": [
       "<div>\n",
       "<style scoped>\n",
       "    .dataframe tbody tr th:only-of-type {\n",
       "        vertical-align: middle;\n",
       "    }\n",
       "\n",
       "    .dataframe tbody tr th {\n",
       "        vertical-align: top;\n",
       "    }\n",
       "\n",
       "    .dataframe thead th {\n",
       "        text-align: right;\n",
       "    }\n",
       "</style>\n",
       "<table border=\"1\" class=\"dataframe\">\n",
       "  <thead>\n",
       "    <tr style=\"text-align: right;\">\n",
       "      <th></th>\n",
       "      <th>Средняя сумма</th>\n",
       "      <th>Медианная сумма</th>\n",
       "    </tr>\n",
       "    <tr>\n",
       "      <th>year</th>\n",
       "      <th></th>\n",
       "      <th></th>\n",
       "    </tr>\n",
       "  </thead>\n",
       "  <tbody>\n",
       "    <tr>\n",
       "      <th>2010</th>\n",
       "      <td>22,920</td>\n",
       "      <td>1,820</td>\n",
       "    </tr>\n",
       "    <tr>\n",
       "      <th>2011</th>\n",
       "      <td>132,465</td>\n",
       "      <td>2,952</td>\n",
       "    </tr>\n",
       "    <tr>\n",
       "      <th>2012</th>\n",
       "      <td>56,548</td>\n",
       "      <td>6,220</td>\n",
       "    </tr>\n",
       "    <tr>\n",
       "      <th>2013</th>\n",
       "      <td>167,398</td>\n",
       "      <td>3,680</td>\n",
       "    </tr>\n",
       "    <tr>\n",
       "      <th>2014</th>\n",
       "      <td>27,741,423</td>\n",
       "      <td>22,575</td>\n",
       "    </tr>\n",
       "    <tr>\n",
       "      <th>2015</th>\n",
       "      <td>85,050,384</td>\n",
       "      <td>4,972,558</td>\n",
       "    </tr>\n",
       "    <tr>\n",
       "      <th>2016</th>\n",
       "      <td>91,831,174</td>\n",
       "      <td>4,206,712</td>\n",
       "    </tr>\n",
       "    <tr>\n",
       "      <th>2017</th>\n",
       "      <td>136,501,823</td>\n",
       "      <td>9,919,415</td>\n",
       "    </tr>\n",
       "    <tr>\n",
       "      <th>2018</th>\n",
       "      <td>104,568,984</td>\n",
       "      <td>8,751,896</td>\n",
       "    </tr>\n",
       "    <tr>\n",
       "      <th>2019</th>\n",
       "      <td>91,608,089</td>\n",
       "      <td>4,654,563</td>\n",
       "    </tr>\n",
       "  </tbody>\n",
       "</table>\n",
       "</div>"
      ],
      "text/plain": [
       "      Средняя сумма  Медианная сумма\n",
       "year                                \n",
       "2010         22,920            1,820\n",
       "2011        132,465            2,952\n",
       "2012         56,548            6,220\n",
       "2013        167,398            3,680\n",
       "2014     27,741,423           22,575\n",
       "2015     85,050,384        4,972,558\n",
       "2016     91,831,174        4,206,712\n",
       "2017    136,501,823        9,919,415\n",
       "2018    104,568,984        8,751,896\n",
       "2019     91,608,089        4,654,563"
      ]
     },
     "metadata": {},
     "output_type": "display_data"
    }
   ],
   "source": [
    "pivot_table_box_office_year = movies.query('box_office > 0').pivot_table(index = 'year', values = 'box_office', aggfunc = ['mean', 'median'])\n",
    "pivot_table_box_office_year.columns = ['Средняя сумма', 'Медианная сумма']\n",
    "\n",
    "with pd.option_context('display.float_format', '{:,.0f}'.format):\n",
    "    display(pivot_table_box_office_year)"
   ]
  },
  {
   "cell_type": "markdown",
   "metadata": {},
   "source": [
    "- Медиана сильно меньше среднего, это говорит о том, что у большинства фильмов сборы маленькие, а у некоторых (у нембольшого количества) сборы большие."
   ]
  },
  {
   "cell_type": "markdown",
   "metadata": {
    "id": "Ok89WFwJgFyZ"
   },
   "source": [
    "**- Определите, влияет ли возрастное ограничение аудитории («6+», «12+», «16+», «18+» и т. д.) на сборы фильма в прокате в период с 2015 по 2019 год? Фильмы с каким возрастным ограничением собрали больше всего денег в прокате? Меняется ли картина в зависимости от года? Если да, предположите, с чем это может быть связано.**"
   ]
  },
  {
   "cell_type": "code",
   "execution_count": 40,
   "metadata": {},
   "outputs": [
    {
     "data": {
      "text/plain": [
       "<AxesSubplot:xlabel='year'>"
      ]
     },
     "execution_count": 40,
     "metadata": {},
     "output_type": "execute_result"
    },
    {
     "data": {
      "image/png": "[encoded data removed]",
      "text/plain": [
       "<Figure size 1080x432 with 1 Axes>"
      ]
     },
     "metadata": {
      "needs_background": "light"
     },
     "output_type": "display_data"
    }
   ],
   "source": [
    "movies.query('year >= 2015').pivot_table(index = 'year',\n",
    "                                         values = 'box_office',\n",
    "                                         columns= 'age_restriction',\n",
    "                                         aggfunc = 'sum').plot(kind='bar', figsize=(15,6))\n"
   ]
  },
  {
   "cell_type": "markdown",
   "metadata": {},
   "source": [
    "- Фильмы с возрастным ограничением «16+» собрали больше всего денег в прокате\n",
    "- Фильмы с возрастным ограничением «0+» собрали меньше всего денег в прокате\n",
    "- В 2016-2018 фильмы с возрастным ограничением «16+» собрали больше всего денег в прокате, а в 2015 больше всего денег в прокате собрали фильмы с возрастным ограничением «12+», а в 2019 все (кроме «0+») примерно равны.\n",
    "- Если смотреть на каждцю категорию отдельно, то из года в год все категории ведут себя по-разному\n",
    "- Фильмы с возрастным ограничением «18+» собрают меньше денег в прокате, чем фильмы с другими ограничениями, так как люди часто ходят в кино с детьми или предпочитают не такие жестокие фильмы. Рейтинг «18+» носит запретительный характер, а ограничения от «0+» до «16+» – рекомендательный."
   ]
  },
  {
   "cell_type": "markdown",
   "metadata": {
    "id": "l_Kg6Ku4gFya"
   },
   "source": [
    "### Шаг 4. Исследуйте фильмы, которые получили государственную поддержку\n",
    "\n",
    "На этом этапе нет конкретных инструкций и заданий — поищите интересные закономерности в данных. Посмотрите, сколько выделяют средств на поддержку кино. Проверьте, хорошо ли окупаются такие фильмы, какой у них рейтинг."
   ]
  },
  {
   "cell_type": "code",
   "execution_count": 41,
   "metadata": {},
   "outputs": [
    {
     "name": "stdout",
     "output_type": "stream",
     "text": [
      "Всего фильмов, которые получили государственную поддержку 315\n"
     ]
    }
   ],
   "source": [
    "print('Всего фильмов, которые получили государственную поддержку', len(movies.query('budget > 0')))"
   ]
  },
  {
   "cell_type": "code",
   "execution_count": 42,
   "metadata": {
    "id": "W9QKpjUdgFyb"
   },
   "outputs": [
    {
     "data": {
      "image/png": "[encoded data removed]",
      "text/plain": [
       "<Figure size 576x288 with 1 Axes>"
      ]
     },
     "metadata": {
      "needs_background": "light"
     },
     "output_type": "display_data"
    }
   ],
   "source": [
    "#сводная таблица суммы сборов фильмов, которые получили государственную поддержку \n",
    "pivot_table_gos_box_office_sum = movies.query('budget > 0').pivot_table(index = 'year', values = 'box_office', aggfunc = ['sum'])\n",
    "pivot_table_gos_box_office_sum.columns = ['sum']\n",
    "pivot_table_gos_box_office_sum.sort_values('sum')\n",
    "\n",
    "#посмотрим на графике\n",
    "pivot_table_gos_box_office_sum.plot(y = 'sum', kind='bar', figsize = (8,4), title='Сумма сборов');"
   ]
  },
  {
   "cell_type": "code",
   "execution_count": 43,
   "metadata": {},
   "outputs": [
    {
     "data": {
      "image/png": "[encoded data removed]",
      "text/plain": [
       "<Figure size 576x288 with 1 Axes>"
      ]
     },
     "metadata": {
      "needs_background": "light"
     },
     "output_type": "display_data"
    }
   ],
   "source": [
    "#сводная таблица количества фильмов, которые получили государственную поддержку\n",
    "pivot_table_gos_count = movies.query('budget > 0').pivot_table(index = 'year', values = 'budget', aggfunc = ['count'])\n",
    "pivot_table_gos_count.columns = ['count']\n",
    "pivot_table_gos_count.sort_values('count')\n",
    "\n",
    "#посмотрим на графике\n",
    "pivot_table_gos_count.plot(y = 'count', kind='bar', figsize = (8,4), title='Количество фильмов, которые получили государственную поддержку');"
   ]
  },
  {
   "cell_type": "code",
   "execution_count": 44,
   "metadata": {},
   "outputs": [
    {
     "data": {
      "image/png": "[encoded data removed]",
      "text/plain": [
       "<Figure size 576x288 with 1 Axes>"
      ]
     },
     "metadata": {
      "needs_background": "light"
     },
     "output_type": "display_data"
    }
   ],
   "source": [
    "#сводная таблица суммы возвратных средств государственной поддержки и суммы невозвратных средств государственной поддержки\n",
    "pivot_table_gos_sum = movies.query('budget > 0').pivot_table(index = 'year', values = ['refundable_support', 'nonrefundable_support'], aggfunc = ['sum'])\n",
    "pivot_table_gos_sum.columns = ['sum_nonrefundable', 'sum_refundable']\n",
    "\n",
    "#создадим столбец с суммой средств государственной поддержки\n",
    "pivot_table_gos_sum['sum'] = pivot_table_gos_sum['sum_nonrefundable'] + pivot_table_gos_sum['sum_refundable']\n",
    "pivot_table_gos_sum.sort_values('sum')\n",
    "\n",
    "#посмотрим на графике\n",
    "pivot_table_gos_sum.plot(y = 'sum', kind='bar', figsize = (8,4), title='Сумма средств государственной поддержки');"
   ]
  },
  {
   "cell_type": "code",
   "execution_count": 45,
   "metadata": {},
   "outputs": [
    {
     "data": {
      "text/plain": [
       "<AxesSubplot:xlabel='year'>"
      ]
     },
     "execution_count": 45,
     "metadata": {},
     "output_type": "execute_result"
    },
    {
     "data": {
      "image/png": "[encoded data removed]",
      "text/plain": [
       "<Figure size 432x288 with 1 Axes>"
      ]
     },
     "metadata": {
      "needs_background": "light"
     },
     "output_type": "display_data"
    }
   ],
   "source": [
    "movies.query('budget > 0').pivot_table(index = 'year', values = ['refundable_support', 'nonrefundable_support'], aggfunc = 'sum').plot(kind='bar', stacked=True)"
   ]
  },
  {
   "cell_type": "code",
   "execution_count": 46,
   "metadata": {},
   "outputs": [
    {
     "data": {
      "image/png": "[encoded data removed]",
      "text/plain": [
       "<Figure size 576x288 with 1 Axes>"
      ]
     },
     "metadata": {
      "needs_background": "light"
     },
     "output_type": "display_data"
    }
   ],
   "source": [
    "#объединим таблицу с суммой средств государственной поддержки с таблицей количества фильмов, которые получили государственную поддержку\n",
    "pivot_table_gos = pivot_table_gos_sum.merge(pivot_table_gos_count, on='year', how='left')\n",
    "\n",
    "#посчитаем в среднем сколько получил один фильм средств государственной поддержки\n",
    "pivot_table_gos['mean'] = pivot_table_gos['sum'] / pivot_table_gos['count']\n",
    "pivot_table_gos.sort_values('mean')\n",
    "\n",
    "#посмотрим на графике\n",
    "pivot_table_gos.plot(y = 'mean', kind='bar', figsize = (8,4), title='Средняя сумма средств государственной поддержки');"
   ]
  },
  {
   "cell_type": "code",
   "execution_count": 48,
   "metadata": {},
   "outputs": [
    {
     "data": {
      "text/plain": [
       "<AxesSubplot:xlabel='year'>"
      ]
     },
     "execution_count": 48,
     "metadata": {},
     "output_type": "execute_result"
    },
    {
     "data": {
      "image/png": "[encoded data removed]",
      "text/plain": [
       "<Figure size 1080x432 with 1 Axes>"
      ]
     },
     "metadata": {
      "needs_background": "light"
     },
     "output_type": "display_data"
    }
   ],
   "source": [
    "# График количества фильмов, которые получили государственную поддержку по возрастной категории\n",
    "\n",
    "movies.query('budget > 0').pivot_table(index = 'year',\n",
    "                                         values = 'budget',\n",
    "                                         columns= 'age_restriction',\n",
    "                                         aggfunc = 'count').plot(kind='bar', figsize=(15,6))"
   ]
  },
  {
   "cell_type": "markdown",
   "metadata": {},
   "source": [
    "- фильмы, которые получили государственную поддержку, больше всего денег в прокате собрали в 2017 году, их было всего 39 шт., и один фильм в среднем получил в этом году больше всего средств государственной поддержки\n",
    "- меньше всего в 2013 и фильмов с государственной поддержкой было всего 2, но средняя сумма средств государственной поддержки на один фильм в этом году соизмерима с 2016 и 2019 годом и эти фильмы имели возрастную категорию «12+» и «16+»\n",
    "- с 2013 по 2017 было увеличение суммы сборов, а с 2017 идет спад \n",
    "- с 2015 по 2017 был спад в количестве фильмов с государственной поддержкой, а после 2017 пошел рост\n",
    "- но в 2015 годы больше всего фильмов получили государственную поддержку (80 шт.), но средняя сумма средств государственной поддержки на один фильм в этом году примерна схожа с 2014 и в эти 2 года ниже, чем в остальные \n",
    "- в 2019 больше всего средств было выделленно из государства\n",
    "- в 2018 году не было ни одного фильма с возрастной категорией «0+», который бы получил государственную поддержку\n",
    "- больше всего фильмы имеют государственную поддержку с возрастной категорией «16+»"
   ]
  },
  {
   "cell_type": "markdown",
   "metadata": {},
   "source": [
    "- **Проверим, хорошо ли окупаются фильмы с государственной поддержкой**"
   ]
  },
  {
   "cell_type": "code",
   "execution_count": 49,
   "metadata": {},
   "outputs": [
    {
     "name": "stdout",
     "output_type": "stream",
     "text": [
      "Количество фильмов с господдержкой, которые не окупили себя: 234\n",
      "Самый окупившийся фильм: Холоп\n",
      "Самый неокупившийся фильм: Я-Учитель\n"
     ]
    },
    {
     "data": {
      "text/html": [
       "<div>\n",
       "<style scoped>\n",
       "    .dataframe tbody tr th:only-of-type {\n",
       "        vertical-align: middle;\n",
       "    }\n",
       "\n",
       "    .dataframe tbody tr th {\n",
       "        vertical-align: top;\n",
       "    }\n",
       "\n",
       "    .dataframe thead th {\n",
       "        text-align: right;\n",
       "    }\n",
       "</style>\n",
       "<table border=\"1\" class=\"dataframe\">\n",
       "  <thead>\n",
       "    <tr style=\"text-align: right;\">\n",
       "      <th></th>\n",
       "      <th>box_office/budget</th>\n",
       "    </tr>\n",
       "    <tr>\n",
       "      <th>year</th>\n",
       "      <th></th>\n",
       "    </tr>\n",
       "  </thead>\n",
       "  <tbody>\n",
       "    <tr>\n",
       "      <th>2013</th>\n",
       "      <td>0.059000</td>\n",
       "    </tr>\n",
       "    <tr>\n",
       "      <th>2015</th>\n",
       "      <td>0.478351</td>\n",
       "    </tr>\n",
       "    <tr>\n",
       "      <th>2016</th>\n",
       "      <td>0.598582</td>\n",
       "    </tr>\n",
       "    <tr>\n",
       "      <th>2014</th>\n",
       "      <td>0.625420</td>\n",
       "    </tr>\n",
       "    <tr>\n",
       "      <th>2019</th>\n",
       "      <td>0.878042</td>\n",
       "    </tr>\n",
       "    <tr>\n",
       "      <th>2017</th>\n",
       "      <td>1.022338</td>\n",
       "    </tr>\n",
       "    <tr>\n",
       "      <th>2018</th>\n",
       "      <td>1.129173</td>\n",
       "    </tr>\n",
       "  </tbody>\n",
       "</table>\n",
       "</div>"
      ],
      "text/plain": [
       "      box_office/budget\n",
       "year                   \n",
       "2013           0.059000\n",
       "2015           0.478351\n",
       "2016           0.598582\n",
       "2014           0.625420\n",
       "2019           0.878042\n",
       "2017           1.022338\n",
       "2018           1.129173"
      ]
     },
     "execution_count": 49,
     "metadata": {},
     "output_type": "execute_result"
    }
   ],
   "source": [
    "movies['box_office/budget'] = movies.apply(lambda x: 0 if x['budget'] == 0 else round(x['box_office'] / x['budget'], 4), axis=1)\n",
    "\n",
    "print('Количество фильмов с господдержкой, которые не окупили себя:', \n",
    "      len(movies[(movies['box_office/budget'] != 0) & (movies['box_office/budget'] < 1)]))\n",
    "print('Самый окупившийся фильм:', \n",
    "      movies[(movies['budget'] > 0) & (movies['box_office'] > 0)].sort_values('box_office/budget').iloc[-1]['title'])\n",
    "print('Самый неокупившийся фильм:', \n",
    "      movies[(movies['budget'] > 0) & (movies['box_office'] > 0)].sort_values('box_office/budget').iloc[0]['title'])\n",
    "\n",
    "#уберем значение 'box_office' = 0 и 'budget' = 0\n",
    "movies[(movies['budget'] > 0) & (movies['box_office'] > 0)].pivot_table(index = 'year', values = 'box_office/budget', aggfunc = 'mean').sort_values('box_office/budget')"
   ]
  },
  {
   "cell_type": "markdown",
   "metadata": {},
   "source": [
    "В среднем только в 2017 и 2018 годах фильмы с господдержкой окупили себя"
   ]
  },
  {
   "cell_type": "markdown",
   "metadata": {},
   "source": [
    " - **Сравним рейтинги фильмов с государственной поддержкой и без поддержки**"
   ]
  },
  {
   "cell_type": "code",
   "execution_count": 58,
   "metadata": {},
   "outputs": [
    {
     "data": {
      "text/plain": [
       "956"
      ]
     },
     "execution_count": 58,
     "metadata": {},
     "output_type": "execute_result"
    }
   ],
   "source": [
    "(movies['ratings'] == 0).sum()"
   ]
  },
  {
   "cell_type": "code",
   "execution_count": 50,
   "metadata": {},
   "outputs": [
    {
     "data": {
      "text/plain": [
       "'Средние рейтинги фильмов с государственной поддержкой'"
      ]
     },
     "metadata": {},
     "output_type": "display_data"
    },
    {
     "data": {
      "text/html": [
       "<div>\n",
       "<style scoped>\n",
       "    .dataframe tbody tr th:only-of-type {\n",
       "        vertical-align: middle;\n",
       "    }\n",
       "\n",
       "    .dataframe tbody tr th {\n",
       "        vertical-align: top;\n",
       "    }\n",
       "\n",
       "    .dataframe thead th {\n",
       "        text-align: right;\n",
       "    }\n",
       "</style>\n",
       "<table border=\"1\" class=\"dataframe\">\n",
       "  <thead>\n",
       "    <tr style=\"text-align: right;\">\n",
       "      <th></th>\n",
       "      <th>ratings</th>\n",
       "    </tr>\n",
       "    <tr>\n",
       "      <th>year</th>\n",
       "      <th></th>\n",
       "    </tr>\n",
       "  </thead>\n",
       "  <tbody>\n",
       "    <tr>\n",
       "      <th>2013</th>\n",
       "      <td>6.700000</td>\n",
       "    </tr>\n",
       "    <tr>\n",
       "      <th>2014</th>\n",
       "      <td>5.566667</td>\n",
       "    </tr>\n",
       "    <tr>\n",
       "      <th>2015</th>\n",
       "      <td>5.912500</td>\n",
       "    </tr>\n",
       "    <tr>\n",
       "      <th>2016</th>\n",
       "      <td>5.300000</td>\n",
       "    </tr>\n",
       "    <tr>\n",
       "      <th>2017</th>\n",
       "      <td>5.743590</td>\n",
       "    </tr>\n",
       "    <tr>\n",
       "      <th>2018</th>\n",
       "      <td>5.809615</td>\n",
       "    </tr>\n",
       "    <tr>\n",
       "      <th>2019</th>\n",
       "      <td>5.907246</td>\n",
       "    </tr>\n",
       "  </tbody>\n",
       "</table>\n",
       "</div>"
      ],
      "text/plain": [
       "       ratings\n",
       "year          \n",
       "2013  6.700000\n",
       "2014  5.566667\n",
       "2015  5.912500\n",
       "2016  5.300000\n",
       "2017  5.743590\n",
       "2018  5.809615\n",
       "2019  5.907246"
      ]
     },
     "metadata": {},
     "output_type": "display_data"
    },
    {
     "data": {
      "text/plain": [
       "'Средние рейтинги фильмов без государственной поддержки'"
      ]
     },
     "metadata": {},
     "output_type": "display_data"
    },
    {
     "data": {
      "text/html": [
       "<div>\n",
       "<style scoped>\n",
       "    .dataframe tbody tr th:only-of-type {\n",
       "        vertical-align: middle;\n",
       "    }\n",
       "\n",
       "    .dataframe tbody tr th {\n",
       "        vertical-align: top;\n",
       "    }\n",
       "\n",
       "    .dataframe thead th {\n",
       "        text-align: right;\n",
       "    }\n",
       "</style>\n",
       "<table border=\"1\" class=\"dataframe\">\n",
       "  <thead>\n",
       "    <tr style=\"text-align: right;\">\n",
       "      <th></th>\n",
       "      <th>ratings</th>\n",
       "    </tr>\n",
       "    <tr>\n",
       "      <th>year</th>\n",
       "      <th></th>\n",
       "    </tr>\n",
       "  </thead>\n",
       "  <tbody>\n",
       "    <tr>\n",
       "      <th>2010</th>\n",
       "      <td>6.027078</td>\n",
       "    </tr>\n",
       "    <tr>\n",
       "      <th>2011</th>\n",
       "      <td>5.927542</td>\n",
       "    </tr>\n",
       "    <tr>\n",
       "      <th>2012</th>\n",
       "      <td>5.928407</td>\n",
       "    </tr>\n",
       "    <tr>\n",
       "      <th>2013</th>\n",
       "      <td>5.986007</td>\n",
       "    </tr>\n",
       "    <tr>\n",
       "      <th>2014</th>\n",
       "      <td>5.979642</td>\n",
       "    </tr>\n",
       "    <tr>\n",
       "      <th>2015</th>\n",
       "      <td>5.478125</td>\n",
       "    </tr>\n",
       "    <tr>\n",
       "      <th>2016</th>\n",
       "      <td>5.362013</td>\n",
       "    </tr>\n",
       "    <tr>\n",
       "      <th>2017</th>\n",
       "      <td>5.425439</td>\n",
       "    </tr>\n",
       "    <tr>\n",
       "      <th>2018</th>\n",
       "      <td>4.659976</td>\n",
       "    </tr>\n",
       "    <tr>\n",
       "      <th>2019</th>\n",
       "      <td>4.984874</td>\n",
       "    </tr>\n",
       "  </tbody>\n",
       "</table>\n",
       "</div>"
      ],
      "text/plain": [
       "       ratings\n",
       "year          \n",
       "2010  6.027078\n",
       "2011  5.927542\n",
       "2012  5.928407\n",
       "2013  5.986007\n",
       "2014  5.979642\n",
       "2015  5.478125\n",
       "2016  5.362013\n",
       "2017  5.425439\n",
       "2018  4.659976\n",
       "2019  4.984874"
      ]
     },
     "metadata": {},
     "output_type": "display_data"
    },
    {
     "data": {
      "text/plain": [
       "'Отношение среднего рейтинга фильмов без государственной поддержки к фильмам без поддержки'"
      ]
     },
     "metadata": {},
     "output_type": "display_data"
    },
    {
     "data": {
      "text/html": [
       "<div>\n",
       "<style scoped>\n",
       "    .dataframe tbody tr th:only-of-type {\n",
       "        vertical-align: middle;\n",
       "    }\n",
       "\n",
       "    .dataframe tbody tr th {\n",
       "        vertical-align: top;\n",
       "    }\n",
       "\n",
       "    .dataframe thead th {\n",
       "        text-align: right;\n",
       "    }\n",
       "</style>\n",
       "<table border=\"1\" class=\"dataframe\">\n",
       "  <thead>\n",
       "    <tr style=\"text-align: right;\">\n",
       "      <th></th>\n",
       "      <th>ratings</th>\n",
       "    </tr>\n",
       "    <tr>\n",
       "      <th>year</th>\n",
       "      <th></th>\n",
       "    </tr>\n",
       "  </thead>\n",
       "  <tbody>\n",
       "    <tr>\n",
       "      <th>2010</th>\n",
       "      <td>NaN</td>\n",
       "    </tr>\n",
       "    <tr>\n",
       "      <th>2011</th>\n",
       "      <td>NaN</td>\n",
       "    </tr>\n",
       "    <tr>\n",
       "      <th>2012</th>\n",
       "      <td>NaN</td>\n",
       "    </tr>\n",
       "    <tr>\n",
       "      <th>2013</th>\n",
       "      <td>1.119277</td>\n",
       "    </tr>\n",
       "    <tr>\n",
       "      <th>2014</th>\n",
       "      <td>0.930936</td>\n",
       "    </tr>\n",
       "    <tr>\n",
       "      <th>2015</th>\n",
       "      <td>1.079293</td>\n",
       "    </tr>\n",
       "    <tr>\n",
       "      <th>2016</th>\n",
       "      <td>0.988435</td>\n",
       "    </tr>\n",
       "    <tr>\n",
       "      <th>2017</th>\n",
       "      <td>1.058641</td>\n",
       "    </tr>\n",
       "    <tr>\n",
       "      <th>2018</th>\n",
       "      <td>1.246705</td>\n",
       "    </tr>\n",
       "    <tr>\n",
       "      <th>2019</th>\n",
       "      <td>1.185034</td>\n",
       "    </tr>\n",
       "  </tbody>\n",
       "</table>\n",
       "</div>"
      ],
      "text/plain": [
       "       ratings\n",
       "year          \n",
       "2010       NaN\n",
       "2011       NaN\n",
       "2012       NaN\n",
       "2013  1.119277\n",
       "2014  0.930936\n",
       "2015  1.079293\n",
       "2016  0.988435\n",
       "2017  1.058641\n",
       "2018  1.246705\n",
       "2019  1.185034"
      ]
     },
     "metadata": {},
     "output_type": "display_data"
    }
   ],
   "source": [
    "display('Средние рейтинги фильмов с государственной поддержкой', \n",
    "        movies.query('budget > 0').pivot_table(index = 'year', values = 'ratings', aggfunc = 'mean'))\n",
    "display('Средние рейтинги фильмов без государственной поддержки', \n",
    "        movies.query('budget == 0').pivot_table(index = 'year', values = 'ratings', aggfunc = 'mean'))\n",
    "display('Отношение среднего рейтинга фильмов без государственной поддержки к фильмам без поддержки', \n",
    "        movies.query('budget > 0').pivot_table(index = 'year', values = 'ratings', aggfunc = 'mean') /  movies.query('budget == 0').pivot_table(index = 'year', values = 'ratings', aggfunc = 'mean'))"
   ]
  },
  {
   "cell_type": "code",
   "execution_count": 61,
   "metadata": {},
   "outputs": [
    {
     "data": {
      "text/html": [
       "<div>\n",
       "<style scoped>\n",
       "    .dataframe tbody tr th:only-of-type {\n",
       "        vertical-align: middle;\n",
       "    }\n",
       "\n",
       "    .dataframe tbody tr th {\n",
       "        vertical-align: top;\n",
       "    }\n",
       "\n",
       "    .dataframe thead tr th {\n",
       "        text-align: left;\n",
       "    }\n",
       "\n",
       "    .dataframe thead tr:last-of-type th {\n",
       "        text-align: right;\n",
       "    }\n",
       "</style>\n",
       "<table border=\"1\" class=\"dataframe\">\n",
       "  <thead>\n",
       "    <tr>\n",
       "      <th></th>\n",
       "      <th colspan=\"2\" halign=\"left\">ratings</th>\n",
       "    </tr>\n",
       "    <tr>\n",
       "      <th>budget</th>\n",
       "      <th>False</th>\n",
       "      <th>True</th>\n",
       "    </tr>\n",
       "    <tr>\n",
       "      <th>year</th>\n",
       "      <th></th>\n",
       "      <th></th>\n",
       "    </tr>\n",
       "  </thead>\n",
       "  <tbody>\n",
       "    <tr>\n",
       "      <th>2010</th>\n",
       "      <td>NaN</td>\n",
       "      <td>6.66</td>\n",
       "    </tr>\n",
       "    <tr>\n",
       "      <th>2011</th>\n",
       "      <td>NaN</td>\n",
       "      <td>6.48</td>\n",
       "    </tr>\n",
       "    <tr>\n",
       "      <th>2012</th>\n",
       "      <td>NaN</td>\n",
       "      <td>6.50</td>\n",
       "    </tr>\n",
       "    <tr>\n",
       "      <th>2013</th>\n",
       "      <td>6.70</td>\n",
       "      <td>6.51</td>\n",
       "    </tr>\n",
       "    <tr>\n",
       "      <th>2014</th>\n",
       "      <td>5.96</td>\n",
       "      <td>6.56</td>\n",
       "    </tr>\n",
       "    <tr>\n",
       "      <th>2015</th>\n",
       "      <td>6.14</td>\n",
       "      <td>6.35</td>\n",
       "    </tr>\n",
       "    <tr>\n",
       "      <th>2016</th>\n",
       "      <td>5.69</td>\n",
       "      <td>6.38</td>\n",
       "    </tr>\n",
       "    <tr>\n",
       "      <th>2017</th>\n",
       "      <td>6.05</td>\n",
       "      <td>6.34</td>\n",
       "    </tr>\n",
       "    <tr>\n",
       "      <th>2018</th>\n",
       "      <td>6.04</td>\n",
       "      <td>6.43</td>\n",
       "    </tr>\n",
       "    <tr>\n",
       "      <th>2019</th>\n",
       "      <td>6.18</td>\n",
       "      <td>6.54</td>\n",
       "    </tr>\n",
       "  </tbody>\n",
       "</table>\n",
       "</div>"
      ],
      "text/plain": [
       "       ratings      \n",
       "budget   False True \n",
       "year                \n",
       "2010       NaN  6.66\n",
       "2011       NaN  6.48\n",
       "2012       NaN  6.50\n",
       "2013      6.70  6.51\n",
       "2014      5.96  6.56\n",
       "2015      6.14  6.35\n",
       "2016      5.69  6.38\n",
       "2017      6.05  6.34\n",
       "2018      6.04  6.43\n",
       "2019      6.18  6.54"
      ]
     },
     "execution_count": 61,
     "metadata": {},
     "output_type": "execute_result"
    }
   ],
   "source": [
    "movies[movies['ratings'] > 0].groupby([movies['budget'] == 0,'year']).agg({'ratings' : 'mean'}).unstack('budget').round(2)"
   ]
  },
  {
   "cell_type": "markdown",
   "metadata": {},
   "source": [
    "- Видим, что государственная поддержка фильмов началась с 2013 года (или данных за более ранние года нет)\n",
    "- Чаще рейтинги фильмов с государственной поддержкой били выше фильмов без поддержки, но все же не сильно"
   ]
  },
  {
   "cell_type": "markdown",
   "metadata": {
    "id": "V2gYwMcPgFyd"
   },
   "source": [
    "### Шаг 5. Напишите общий вывод"
   ]
  },
  {
   "cell_type": "markdown",
   "metadata": {
    "id": "AYRg3dzXgFye"
   },
   "source": [
    "- Больше всего фильмов выходило в 2019 году (902 шт.), а меньше всего в 2017 году (495 шт.)\n",
    "- В кинотеатрах больше всего фильмов выходило так же в 2019 году (527 шт.), а меньше всего в 2010 году (95 шт.)\n",
    "- В 2019 году больше фильмов выходило в прокат в кинотеатрах, чем не выходило в кинотеатрах, а меньше всего в 2010 году\n",
    "- Сумма сборов была максимальной в 2018 году, а в 2010 году сумма сборов была минимальной\n",
    "- Фильмы с возрастным ограничением «16+» собрали больше всего денег в прокате и они больше всего имеют государственную поддержку, а меньше всего денег в прокате собрали фильмы с возрастным ограничением «0+» и в 2018 году не было ни одного фильма с возрастной категорией «0+», который бы получил государственную поддержку\n",
    "- Фильмы с возрастным ограничением «18+» собрают меньше денег в прокате, чем фильмы с другими ограничениями, так как люди часто ходят в кино с детьми или предпочитают не такие жестокие фильмы. Рейтинг «18+» носит запретительный характер, а ограничения от «0+» до «16+» – рекомендательный. И их меньше поддерживает государство.\n",
    "- Государственная поддержка фильмов началась с 2013 года (или данных за более ранние года нет). В 2013- 2015 годах, меньшая суммы сборов фильмов, которые получили государственную поддержку. В 2013-2014 маль фильмов получили государственную поддержку, а в 2015 средняя сумма средств государственной поддержки на один фильм очень низкая \n",
    "- Становится все лучше в 2017 году. Фильмы, которые получили государственную поддержку, больше всего денег в прокате собрали в 2017 году и один фильм в среднем получил в этом году больше всего средств государственной поддержки\n",
    "- Количество фильмов с господдержкой, которые не окупили себя: 234 шт. Самый окупившийся фильм с государственной поддержкой: Холоп, а самый неокупившийся фильм: Я-Учитель\n",
    "- Чаще рейтинги фильмов с государственной поддержкой били выше фильмов без поддержки"
   ]
  }
 ],
 "metadata": {
  "ExecuteTimeLog": [
   {
    "duration": 537,
    "start_time": "2021-07-07T10:12:08.634Z"
   },
   {
    "duration": 206,
    "start_time": "2021-07-07T10:12:30.191Z"
   },
   {
    "duration": 227,
    "start_time": "2021-07-07T10:12:33.078Z"
   },
   {
    "duration": 153,
    "start_time": "2021-07-07T10:13:42.146Z"
   },
   {
    "duration": 233,
    "start_time": "2021-07-07T10:30:09.252Z"
   },
   {
    "duration": 19,
    "start_time": "2021-07-07T10:30:15.577Z"
   },
   {
    "duration": 18,
    "start_time": "2021-07-07T10:30:57.348Z"
   },
   {
    "duration": 19,
    "start_time": "2021-07-07T10:31:17.452Z"
   },
   {
    "duration": 21,
    "start_time": "2021-07-07T10:31:32.227Z"
   },
   {
    "duration": 27,
    "start_time": "2021-07-07T10:32:06.588Z"
   },
   {
    "duration": 23,
    "start_time": "2021-07-07T10:32:43.645Z"
   },
   {
    "duration": 24,
    "start_time": "2021-07-07T10:33:06.948Z"
   },
   {
    "duration": 7,
    "start_time": "2021-07-07T10:33:28.558Z"
   },
   {
    "duration": 23,
    "start_time": "2021-07-07T10:33:43.761Z"
   },
   {
    "duration": 28,
    "start_time": "2021-07-07T10:34:13.466Z"
   },
   {
    "duration": 23,
    "start_time": "2021-07-07T10:35:56.187Z"
   },
   {
    "duration": 6,
    "start_time": "2021-07-07T10:36:48.182Z"
   },
   {
    "duration": 14,
    "start_time": "2021-07-07T10:37:49.641Z"
   },
   {
    "duration": 6,
    "start_time": "2021-07-07T10:38:06.694Z"
   },
   {
    "duration": 6,
    "start_time": "2021-07-07T10:38:13.493Z"
   },
   {
    "duration": 19,
    "start_time": "2021-07-07T10:38:44.056Z"
   },
   {
    "duration": 186,
    "start_time": "2021-07-07T10:48:35.618Z"
   },
   {
    "duration": 24,
    "start_time": "2021-07-07T10:48:51.498Z"
   },
   {
    "duration": 20,
    "start_time": "2021-07-07T10:48:59.415Z"
   },
   {
    "duration": 20,
    "start_time": "2021-07-07T10:53:02.195Z"
   },
   {
    "duration": 188,
    "start_time": "2021-07-07T10:54:40.486Z"
   },
   {
    "duration": 115,
    "start_time": "2021-07-07T10:54:52.552Z"
   },
   {
    "duration": 214,
    "start_time": "2021-07-07T10:54:56.354Z"
   },
   {
    "duration": 47,
    "start_time": "2021-07-07T10:54:58.282Z"
   },
   {
    "duration": 217,
    "start_time": "2021-07-07T10:59:16.075Z"
   },
   {
    "duration": 51,
    "start_time": "2021-07-07T10:59:16.243Z"
   },
   {
    "duration": 578,
    "start_time": "2021-07-07T10:59:18.774Z"
   },
   {
    "duration": 161,
    "start_time": "2021-07-07T10:59:21.238Z"
   },
   {
    "duration": 59,
    "start_time": "2021-07-07T10:59:21.453Z"
   },
   {
    "duration": 3,
    "start_time": "2021-07-07T11:02:10.786Z"
   },
   {
    "duration": 13,
    "start_time": "2021-07-07T11:07:07.722Z"
   },
   {
    "duration": 26,
    "start_time": "2021-07-07T11:07:17.958Z"
   },
   {
    "duration": 22,
    "start_time": "2021-07-07T11:08:17.939Z"
   },
   {
    "duration": 212,
    "start_time": "2021-07-07T11:08:19.665Z"
   },
   {
    "duration": 21,
    "start_time": "2021-07-07T11:08:29.945Z"
   },
   {
    "duration": 31,
    "start_time": "2021-07-07T11:08:38.899Z"
   },
   {
    "duration": 23,
    "start_time": "2021-07-07T11:08:54.527Z"
   },
   {
    "duration": 8,
    "start_time": "2021-07-07T11:18:55.974Z"
   },
   {
    "duration": 7,
    "start_time": "2021-07-07T11:19:03.639Z"
   },
   {
    "duration": 7,
    "start_time": "2021-07-07T11:19:06.444Z"
   },
   {
    "duration": 578,
    "start_time": "2021-07-07T12:09:59.576Z"
   },
   {
    "duration": 195,
    "start_time": "2021-07-07T12:10:00.156Z"
   },
   {
    "duration": 115,
    "start_time": "2021-07-07T12:10:00.353Z"
   },
   {
    "duration": 3,
    "start_time": "2021-07-07T12:10:00.470Z"
   },
   {
    "duration": 32,
    "start_time": "2021-07-07T12:10:00.474Z"
   },
   {
    "duration": 23,
    "start_time": "2021-07-07T12:10:00.508Z"
   },
   {
    "duration": 19,
    "start_time": "2021-07-07T12:10:00.533Z"
   },
   {
    "duration": 44,
    "start_time": "2021-07-07T12:10:00.553Z"
   },
   {
    "duration": 7,
    "start_time": "2021-07-07T12:10:00.600Z"
   },
   {
    "duration": 7,
    "start_time": "2021-07-07T12:19:45.761Z"
   },
   {
    "duration": 21,
    "start_time": "2021-07-07T12:21:35.482Z"
   },
   {
    "duration": 21,
    "start_time": "2021-07-07T12:29:23.569Z"
   },
   {
    "duration": 525,
    "start_time": "2021-07-07T12:29:44.542Z"
   },
   {
    "duration": 214,
    "start_time": "2021-07-07T12:29:45.069Z"
   },
   {
    "duration": 92,
    "start_time": "2021-07-07T12:29:45.285Z"
   },
   {
    "duration": 3,
    "start_time": "2021-07-07T12:29:45.379Z"
   },
   {
    "duration": 28,
    "start_time": "2021-07-07T12:29:45.384Z"
   },
   {
    "duration": 23,
    "start_time": "2021-07-07T12:29:45.413Z"
   },
   {
    "duration": 21,
    "start_time": "2021-07-07T12:29:45.437Z"
   },
   {
    "duration": 41,
    "start_time": "2021-07-07T12:29:45.460Z"
   },
   {
    "duration": 7,
    "start_time": "2021-07-07T12:29:45.502Z"
   },
   {
    "duration": 20,
    "start_time": "2021-07-07T12:29:45.511Z"
   },
   {
    "duration": 12,
    "start_time": "2021-07-07T12:34:02.800Z"
   },
   {
    "duration": 7,
    "start_time": "2021-07-07T12:35:10.479Z"
   },
   {
    "duration": 8,
    "start_time": "2021-07-07T12:35:22.440Z"
   },
   {
    "duration": 6,
    "start_time": "2021-07-07T12:35:35.649Z"
   },
   {
    "duration": 6,
    "start_time": "2021-07-07T12:35:43.107Z"
   },
   {
    "duration": 22,
    "start_time": "2021-07-07T12:38:03.029Z"
   },
   {
    "duration": 10,
    "start_time": "2021-07-07T12:38:06.592Z"
   },
   {
    "duration": 563,
    "start_time": "2021-07-07T12:38:46.493Z"
   },
   {
    "duration": 265,
    "start_time": "2021-07-07T12:38:47.058Z"
   },
   {
    "duration": 94,
    "start_time": "2021-07-07T12:38:47.325Z"
   },
   {
    "duration": 3,
    "start_time": "2021-07-07T12:38:47.422Z"
   },
   {
    "duration": 30,
    "start_time": "2021-07-07T12:38:47.427Z"
   },
   {
    "duration": 16,
    "start_time": "2021-07-07T12:38:53.305Z"
   },
   {
    "duration": 10,
    "start_time": "2021-07-07T12:38:53.499Z"
   },
   {
    "duration": 8,
    "start_time": "2021-07-07T12:39:48.161Z"
   },
   {
    "duration": 27,
    "start_time": "2021-07-07T12:41:17.629Z"
   },
   {
    "duration": 17,
    "start_time": "2021-07-07T12:41:17.867Z"
   },
   {
    "duration": 21,
    "start_time": "2021-07-07T12:41:19.310Z"
   },
   {
    "duration": 7,
    "start_time": "2021-07-07T12:41:19.544Z"
   },
   {
    "duration": 20,
    "start_time": "2021-07-07T12:41:20.504Z"
   },
   {
    "duration": 554,
    "start_time": "2021-07-07T12:56:23.696Z"
   },
   {
    "duration": 200,
    "start_time": "2021-07-07T12:56:25.234Z"
   },
   {
    "duration": 119,
    "start_time": "2021-07-07T12:56:25.480Z"
   },
   {
    "duration": 4,
    "start_time": "2021-07-07T12:56:25.762Z"
   },
   {
    "duration": 26,
    "start_time": "2021-07-07T12:56:27.172Z"
   },
   {
    "duration": 12,
    "start_time": "2021-07-07T12:56:29.051Z"
   },
   {
    "duration": 10,
    "start_time": "2021-07-07T12:56:29.291Z"
   },
   {
    "duration": 8,
    "start_time": "2021-07-07T12:56:29.623Z"
   },
   {
    "duration": 28,
    "start_time": "2021-07-07T12:56:32.137Z"
   },
   {
    "duration": 19,
    "start_time": "2021-07-07T12:56:39.785Z"
   },
   {
    "duration": 20,
    "start_time": "2021-07-07T12:56:44.297Z"
   },
   {
    "duration": 7,
    "start_time": "2021-07-07T12:56:45.392Z"
   },
   {
    "duration": 23,
    "start_time": "2021-07-07T12:56:46.615Z"
   },
   {
    "duration": 4,
    "start_time": "2021-07-07T12:57:06.625Z"
   },
   {
    "duration": 32,
    "start_time": "2021-07-07T12:57:36.690Z"
   },
   {
    "duration": 18,
    "start_time": "2021-07-07T12:58:00.149Z"
   },
   {
    "duration": 15,
    "start_time": "2021-07-07T12:59:16.793Z"
   },
   {
    "duration": 7,
    "start_time": "2021-07-07T13:19:22.624Z"
   },
   {
    "duration": 6,
    "start_time": "2021-07-07T14:17:33.527Z"
   },
   {
    "duration": 9,
    "start_time": "2021-07-07T14:17:48.409Z"
   },
   {
    "duration": 8,
    "start_time": "2021-07-07T14:20:13.060Z"
   },
   {
    "duration": 8,
    "start_time": "2021-07-07T14:20:37.957Z"
   },
   {
    "duration": 8,
    "start_time": "2021-07-07T14:20:47.470Z"
   },
   {
    "duration": 9,
    "start_time": "2021-07-07T14:20:54.503Z"
   },
   {
    "duration": 10,
    "start_time": "2021-07-07T14:28:57.763Z"
   },
   {
    "duration": 3,
    "start_time": "2021-07-07T14:30:23.377Z"
   },
   {
    "duration": 3,
    "start_time": "2021-07-07T14:30:36.489Z"
   },
   {
    "duration": 103,
    "start_time": "2021-07-07T14:30:52.351Z"
   },
   {
    "duration": 8,
    "start_time": "2021-07-07T14:30:54.763Z"
   },
   {
    "duration": 8,
    "start_time": "2021-07-07T14:31:29.301Z"
   },
   {
    "duration": 13,
    "start_time": "2021-07-07T14:31:44.516Z"
   },
   {
    "duration": 7,
    "start_time": "2021-07-07T14:33:10.972Z"
   },
   {
    "duration": 11,
    "start_time": "2021-07-07T14:33:27.780Z"
   },
   {
    "duration": 8,
    "start_time": "2021-07-07T14:34:44.588Z"
   },
   {
    "duration": 57,
    "start_time": "2021-07-07T14:35:59.042Z"
   },
   {
    "duration": 3,
    "start_time": "2021-07-07T14:36:28.168Z"
   },
   {
    "duration": 5,
    "start_time": "2021-07-07T14:36:46.254Z"
   },
   {
    "duration": 4,
    "start_time": "2021-07-07T14:36:52.714Z"
   },
   {
    "duration": 3,
    "start_time": "2021-07-07T14:36:56.612Z"
   },
   {
    "duration": 4,
    "start_time": "2021-07-07T14:36:57.049Z"
   },
   {
    "duration": 3,
    "start_time": "2021-07-07T14:39:21.214Z"
   },
   {
    "duration": 7,
    "start_time": "2021-07-07T14:39:52.406Z"
   },
   {
    "duration": 11,
    "start_time": "2021-07-07T14:39:58.576Z"
   },
   {
    "duration": 9,
    "start_time": "2021-07-07T14:40:26.301Z"
   },
   {
    "duration": 10,
    "start_time": "2021-07-07T14:40:31.704Z"
   },
   {
    "duration": 11,
    "start_time": "2021-07-07T14:40:36.249Z"
   },
   {
    "duration": 10,
    "start_time": "2021-07-07T14:40:39.783Z"
   },
   {
    "duration": 9,
    "start_time": "2021-07-07T14:40:48.558Z"
   },
   {
    "duration": 10,
    "start_time": "2021-07-07T14:40:57.143Z"
   },
   {
    "duration": 9,
    "start_time": "2021-07-07T14:41:06.074Z"
   },
   {
    "duration": 4324,
    "start_time": "2021-07-07T14:41:22.004Z"
   },
   {
    "duration": 11,
    "start_time": "2021-07-07T14:41:33.392Z"
   },
   {
    "duration": 9,
    "start_time": "2021-07-07T14:41:39.288Z"
   },
   {
    "duration": 569,
    "start_time": "2021-07-07T14:42:14.387Z"
   },
   {
    "duration": 197,
    "start_time": "2021-07-07T14:42:14.959Z"
   },
   {
    "duration": 84,
    "start_time": "2021-07-07T14:42:16.052Z"
   },
   {
    "duration": 4,
    "start_time": "2021-07-07T14:42:16.900Z"
   },
   {
    "duration": 27,
    "start_time": "2021-07-07T14:42:19.898Z"
   },
   {
    "duration": 12,
    "start_time": "2021-07-07T14:42:21.577Z"
   },
   {
    "duration": 9,
    "start_time": "2021-07-07T14:42:21.813Z"
   },
   {
    "duration": 9,
    "start_time": "2021-07-07T14:42:22.569Z"
   },
   {
    "duration": 29,
    "start_time": "2021-07-07T14:42:25.837Z"
   },
   {
    "duration": 20,
    "start_time": "2021-07-07T14:42:27.003Z"
   },
   {
    "duration": 21,
    "start_time": "2021-07-07T14:42:28.767Z"
   },
   {
    "duration": 7,
    "start_time": "2021-07-07T14:42:29.838Z"
   },
   {
    "duration": 4,
    "start_time": "2021-07-07T14:43:25.493Z"
   },
   {
    "duration": 7,
    "start_time": "2021-07-07T14:43:26.573Z"
   },
   {
    "duration": 10,
    "start_time": "2021-07-07T14:43:31.639Z"
   },
   {
    "duration": 9,
    "start_time": "2021-07-07T14:43:32.046Z"
   },
   {
    "duration": 10,
    "start_time": "2021-07-07T14:43:33.301Z"
   },
   {
    "duration": 12,
    "start_time": "2021-07-07T14:43:33.658Z"
   },
   {
    "duration": 8,
    "start_time": "2021-07-07T14:43:34.552Z"
   },
   {
    "duration": 9,
    "start_time": "2021-07-07T14:43:35.058Z"
   },
   {
    "duration": 12,
    "start_time": "2021-07-07T14:43:35.914Z"
   },
   {
    "duration": 17,
    "start_time": "2021-07-07T14:45:34.368Z"
   },
   {
    "duration": 512,
    "start_time": "2021-07-07T14:51:58.236Z"
   },
   {
    "duration": 223,
    "start_time": "2021-07-07T14:51:58.750Z"
   },
   {
    "duration": 93,
    "start_time": "2021-07-07T14:51:58.977Z"
   },
   {
    "duration": 4,
    "start_time": "2021-07-07T14:51:59.071Z"
   },
   {
    "duration": 37,
    "start_time": "2021-07-07T14:51:59.077Z"
   },
   {
    "duration": 18,
    "start_time": "2021-07-07T14:51:59.116Z"
   },
   {
    "duration": 10,
    "start_time": "2021-07-07T14:51:59.137Z"
   },
   {
    "duration": 8,
    "start_time": "2021-07-07T14:51:59.149Z"
   },
   {
    "duration": 54,
    "start_time": "2021-07-07T14:51:59.158Z"
   },
   {
    "duration": 18,
    "start_time": "2021-07-07T14:51:59.213Z"
   },
   {
    "duration": 22,
    "start_time": "2021-07-07T14:51:59.232Z"
   },
   {
    "duration": 36,
    "start_time": "2021-07-07T14:51:59.255Z"
   },
   {
    "duration": 7,
    "start_time": "2021-07-07T14:51:59.293Z"
   },
   {
    "duration": 10,
    "start_time": "2021-07-07T14:51:59.302Z"
   },
   {
    "duration": 9,
    "start_time": "2021-07-07T14:51:59.313Z"
   },
   {
    "duration": 11,
    "start_time": "2021-07-07T14:51:59.324Z"
   },
   {
    "duration": 8,
    "start_time": "2021-07-07T14:51:59.337Z"
   },
   {
    "duration": 46,
    "start_time": "2021-07-07T14:51:59.347Z"
   },
   {
    "duration": 22,
    "start_time": "2021-07-07T14:51:59.395Z"
   },
   {
    "duration": 24,
    "start_time": "2021-07-07T14:57:32.911Z"
   },
   {
    "duration": 7,
    "start_time": "2021-07-07T14:58:22.070Z"
   },
   {
    "duration": 4,
    "start_time": "2021-07-07T14:59:11.239Z"
   },
   {
    "duration": 25,
    "start_time": "2021-07-07T15:07:22.208Z"
   },
   {
    "duration": 16,
    "start_time": "2021-07-07T15:08:25.560Z"
   },
   {
    "duration": 15,
    "start_time": "2021-07-07T15:08:40.647Z"
   },
   {
    "duration": 14,
    "start_time": "2021-07-07T15:08:46.669Z"
   },
   {
    "duration": 533,
    "start_time": "2021-07-07T15:18:07.440Z"
   },
   {
    "duration": 173,
    "start_time": "2021-07-07T15:18:07.974Z"
   },
   {
    "duration": 84,
    "start_time": "2021-07-07T15:18:08.149Z"
   },
   {
    "duration": 3,
    "start_time": "2021-07-07T15:18:08.235Z"
   },
   {
    "duration": 30,
    "start_time": "2021-07-07T15:18:08.240Z"
   },
   {
    "duration": 22,
    "start_time": "2021-07-07T15:18:08.272Z"
   },
   {
    "duration": 11,
    "start_time": "2021-07-07T15:18:08.295Z"
   },
   {
    "duration": 11,
    "start_time": "2021-07-07T15:18:08.309Z"
   },
   {
    "duration": 40,
    "start_time": "2021-07-07T15:18:08.322Z"
   },
   {
    "duration": 42,
    "start_time": "2021-07-07T15:18:08.364Z"
   },
   {
    "duration": 22,
    "start_time": "2021-07-07T15:18:08.408Z"
   },
   {
    "duration": 5,
    "start_time": "2021-07-07T15:18:08.432Z"
   },
   {
    "duration": 13,
    "start_time": "2021-07-07T15:18:08.439Z"
   },
   {
    "duration": 9,
    "start_time": "2021-07-07T15:18:08.454Z"
   },
   {
    "duration": 32,
    "start_time": "2021-07-07T15:18:08.465Z"
   },
   {
    "duration": 10,
    "start_time": "2021-07-07T15:18:08.501Z"
   },
   {
    "duration": 7,
    "start_time": "2021-07-07T15:18:08.513Z"
   },
   {
    "duration": 11,
    "start_time": "2021-07-07T15:18:08.521Z"
   },
   {
    "duration": 17,
    "start_time": "2021-07-07T15:18:08.534Z"
   },
   {
    "duration": 44,
    "start_time": "2021-07-07T15:18:08.553Z"
   },
   {
    "duration": 22,
    "start_time": "2021-07-07T15:18:08.599Z"
   },
   {
    "duration": 61,
    "start_time": "2021-07-07T15:18:08.622Z"
   },
   {
    "duration": 7,
    "start_time": "2021-07-07T15:18:39.457Z"
   },
   {
    "duration": 5,
    "start_time": "2021-07-07T16:05:17.020Z"
   },
   {
    "duration": 5,
    "start_time": "2021-07-07T16:51:28.794Z"
   },
   {
    "duration": 546,
    "start_time": "2021-07-07T16:52:26.306Z"
   },
   {
    "duration": 203,
    "start_time": "2021-07-07T16:52:27.523Z"
   },
   {
    "duration": 85,
    "start_time": "2021-07-07T16:52:27.736Z"
   },
   {
    "duration": 4,
    "start_time": "2021-07-07T16:52:27.899Z"
   },
   {
    "duration": 25,
    "start_time": "2021-07-07T16:52:28.674Z"
   },
   {
    "duration": 8,
    "start_time": "2021-07-07T16:52:32.956Z"
   },
   {
    "duration": 18,
    "start_time": "2021-07-07T16:52:35.616Z"
   },
   {
    "duration": 6,
    "start_time": "2021-07-07T16:52:36.913Z"
   },
   {
    "duration": 11,
    "start_time": "2021-07-07T16:52:40.258Z"
   },
   {
    "duration": 10,
    "start_time": "2021-07-07T16:52:46.251Z"
   },
   {
    "duration": 8,
    "start_time": "2021-07-07T16:52:47.182Z"
   },
   {
    "duration": 27,
    "start_time": "2021-07-07T16:53:20.391Z"
   },
   {
    "duration": 20,
    "start_time": "2021-07-07T16:53:22.022Z"
   },
   {
    "duration": 23,
    "start_time": "2021-07-07T16:53:23.690Z"
   },
   {
    "duration": 8,
    "start_time": "2021-07-07T16:53:24.261Z"
   },
   {
    "duration": 4,
    "start_time": "2021-07-07T16:53:38.733Z"
   },
   {
    "duration": 7,
    "start_time": "2021-07-07T16:53:40.445Z"
   },
   {
    "duration": 11,
    "start_time": "2021-07-07T16:53:41.348Z"
   },
   {
    "duration": 13,
    "start_time": "2021-07-07T16:53:45.250Z"
   },
   {
    "duration": 12,
    "start_time": "2021-07-07T16:53:45.467Z"
   },
   {
    "duration": 4,
    "start_time": "2021-07-07T16:55:32.704Z"
   },
   {
    "duration": 12,
    "start_time": "2021-07-07T16:55:49.012Z"
   },
   {
    "duration": 18,
    "start_time": "2021-07-07T16:55:49.547Z"
   },
   {
    "duration": 611,
    "start_time": "2021-07-07T16:58:35.156Z"
   },
   {
    "duration": 200,
    "start_time": "2021-07-07T16:58:35.770Z"
   },
   {
    "duration": 86,
    "start_time": "2021-07-07T16:58:35.972Z"
   },
   {
    "duration": 3,
    "start_time": "2021-07-07T16:58:36.060Z"
   },
   {
    "duration": 27,
    "start_time": "2021-07-07T16:58:36.065Z"
   },
   {
    "duration": 8,
    "start_time": "2021-07-07T16:58:36.094Z"
   },
   {
    "duration": 17,
    "start_time": "2021-07-07T16:58:36.103Z"
   },
   {
    "duration": 5,
    "start_time": "2021-07-07T16:58:36.123Z"
   },
   {
    "duration": 11,
    "start_time": "2021-07-07T16:58:36.130Z"
   },
   {
    "duration": 7,
    "start_time": "2021-07-07T16:58:36.143Z"
   },
   {
    "duration": 37,
    "start_time": "2021-07-07T16:58:36.152Z"
   },
   {
    "duration": 27,
    "start_time": "2021-07-07T16:58:36.191Z"
   },
   {
    "duration": 19,
    "start_time": "2021-07-07T16:58:36.219Z"
   },
   {
    "duration": 49,
    "start_time": "2021-07-07T16:58:36.240Z"
   },
   {
    "duration": 6,
    "start_time": "2021-07-07T16:58:36.291Z"
   },
   {
    "duration": 3,
    "start_time": "2021-07-07T16:58:36.299Z"
   },
   {
    "duration": 13,
    "start_time": "2021-07-07T16:58:36.304Z"
   },
   {
    "duration": 10,
    "start_time": "2021-07-07T16:58:36.319Z"
   },
   {
    "duration": 10,
    "start_time": "2021-07-07T16:58:36.331Z"
   },
   {
    "duration": 44,
    "start_time": "2021-07-07T16:58:36.343Z"
   },
   {
    "duration": 4,
    "start_time": "2021-07-07T16:58:36.388Z"
   },
   {
    "duration": 13,
    "start_time": "2021-07-07T16:58:36.394Z"
   },
   {
    "duration": 16,
    "start_time": "2021-07-07T16:58:36.410Z"
   },
   {
    "duration": 8,
    "start_time": "2021-07-07T17:02:31.629Z"
   },
   {
    "duration": 8,
    "start_time": "2021-07-07T17:02:34.308Z"
   },
   {
    "duration": 6,
    "start_time": "2021-07-07T17:05:13.483Z"
   },
   {
    "duration": 17,
    "start_time": "2021-07-07T17:05:20.606Z"
   },
   {
    "duration": 7,
    "start_time": "2021-07-07T17:05:34.638Z"
   },
   {
    "duration": 3,
    "start_time": "2021-07-07T17:06:31.883Z"
   },
   {
    "duration": 570,
    "start_time": "2021-07-07T17:06:37.165Z"
   },
   {
    "duration": 174,
    "start_time": "2021-07-07T17:06:37.737Z"
   },
   {
    "duration": 47,
    "start_time": "2021-07-07T17:06:37.913Z"
   },
   {
    "duration": 3,
    "start_time": "2021-07-07T17:06:37.962Z"
   },
   {
    "duration": 27,
    "start_time": "2021-07-07T17:06:37.967Z"
   },
   {
    "duration": 7,
    "start_time": "2021-07-07T17:06:37.996Z"
   },
   {
    "duration": 16,
    "start_time": "2021-07-07T17:06:38.005Z"
   },
   {
    "duration": 6,
    "start_time": "2021-07-07T17:06:38.024Z"
   },
   {
    "duration": 12,
    "start_time": "2021-07-07T17:06:38.031Z"
   },
   {
    "duration": 41,
    "start_time": "2021-07-07T17:06:38.045Z"
   },
   {
    "duration": 8,
    "start_time": "2021-07-07T17:06:38.088Z"
   },
   {
    "duration": 26,
    "start_time": "2021-07-07T17:06:38.098Z"
   },
   {
    "duration": 17,
    "start_time": "2021-07-07T17:06:38.126Z"
   },
   {
    "duration": 43,
    "start_time": "2021-07-07T17:06:38.144Z"
   },
   {
    "duration": 6,
    "start_time": "2021-07-07T17:06:38.188Z"
   },
   {
    "duration": 5,
    "start_time": "2021-07-07T17:06:38.195Z"
   },
   {
    "duration": 9,
    "start_time": "2021-07-07T17:06:38.201Z"
   },
   {
    "duration": 12,
    "start_time": "2021-07-07T17:06:38.212Z"
   },
   {
    "duration": 11,
    "start_time": "2021-07-07T17:06:38.226Z"
   },
   {
    "duration": 47,
    "start_time": "2021-07-07T17:06:38.239Z"
   },
   {
    "duration": 4,
    "start_time": "2021-07-07T17:06:38.288Z"
   },
   {
    "duration": 13,
    "start_time": "2021-07-07T17:06:38.293Z"
   },
   {
    "duration": 5,
    "start_time": "2021-07-07T17:06:38.309Z"
   },
   {
    "duration": 18,
    "start_time": "2021-07-07T17:06:38.325Z"
   },
   {
    "duration": 20,
    "start_time": "2021-07-07T17:07:02.805Z"
   },
   {
    "duration": 19,
    "start_time": "2021-07-07T17:07:08.527Z"
   },
   {
    "duration": 19,
    "start_time": "2021-07-07T17:07:12.758Z"
   },
   {
    "duration": 22,
    "start_time": "2021-07-07T17:07:17.497Z"
   },
   {
    "duration": 19,
    "start_time": "2021-07-07T17:07:19.645Z"
   },
   {
    "duration": 10,
    "start_time": "2021-07-07T17:07:34.239Z"
   },
   {
    "duration": 17,
    "start_time": "2021-07-07T17:07:54.144Z"
   },
   {
    "duration": 14,
    "start_time": "2021-07-07T17:08:14.357Z"
   },
   {
    "duration": 616,
    "start_time": "2021-07-07T17:08:45.254Z"
   },
   {
    "duration": 178,
    "start_time": "2021-07-07T17:08:45.872Z"
   },
   {
    "duration": 60,
    "start_time": "2021-07-07T17:08:46.054Z"
   },
   {
    "duration": 3,
    "start_time": "2021-07-07T17:08:46.116Z"
   },
   {
    "duration": 26,
    "start_time": "2021-07-07T17:08:46.121Z"
   },
   {
    "duration": 7,
    "start_time": "2021-07-07T17:08:46.149Z"
   },
   {
    "duration": 17,
    "start_time": "2021-07-07T17:08:46.158Z"
   },
   {
    "duration": 14,
    "start_time": "2021-07-07T17:08:46.176Z"
   },
   {
    "duration": 17,
    "start_time": "2021-07-07T17:08:46.193Z"
   },
   {
    "duration": 9,
    "start_time": "2021-07-07T17:08:46.211Z"
   },
   {
    "duration": 21,
    "start_time": "2021-07-07T17:08:46.221Z"
   },
   {
    "duration": 49,
    "start_time": "2021-07-07T17:08:46.244Z"
   },
   {
    "duration": 24,
    "start_time": "2021-07-07T17:08:46.295Z"
   },
   {
    "duration": 22,
    "start_time": "2021-07-07T17:08:46.321Z"
   },
   {
    "duration": 6,
    "start_time": "2021-07-07T17:08:46.345Z"
   },
   {
    "duration": 5,
    "start_time": "2021-07-07T17:08:46.353Z"
   },
   {
    "duration": 13,
    "start_time": "2021-07-07T17:08:46.386Z"
   },
   {
    "duration": 12,
    "start_time": "2021-07-07T17:08:46.402Z"
   },
   {
    "duration": 10,
    "start_time": "2021-07-07T17:08:46.415Z"
   },
   {
    "duration": 7,
    "start_time": "2021-07-07T17:08:46.427Z"
   },
   {
    "duration": 8,
    "start_time": "2021-07-07T17:08:46.435Z"
   },
   {
    "duration": 68,
    "start_time": "2021-07-07T17:08:46.446Z"
   },
   {
    "duration": 13,
    "start_time": "2021-07-07T17:08:46.516Z"
   },
   {
    "duration": 78,
    "start_time": "2021-07-07T17:08:46.530Z"
   },
   {
    "duration": 40,
    "start_time": "2021-07-07T17:09:08.185Z"
   },
   {
    "duration": 16,
    "start_time": "2021-07-07T17:09:19.324Z"
   },
   {
    "duration": 21,
    "start_time": "2021-07-07T17:09:23.290Z"
   },
   {
    "duration": 13,
    "start_time": "2021-07-07T17:09:54.812Z"
   },
   {
    "duration": 13,
    "start_time": "2021-07-07T17:10:02.039Z"
   },
   {
    "duration": 10,
    "start_time": "2021-07-07T17:10:29.632Z"
   },
   {
    "duration": 13,
    "start_time": "2021-07-07T17:10:52.372Z"
   },
   {
    "duration": 13,
    "start_time": "2021-07-07T17:11:17.270Z"
   },
   {
    "duration": 13,
    "start_time": "2021-07-07T17:14:59.284Z"
   },
   {
    "duration": 547,
    "start_time": "2021-07-07T17:18:52.403Z"
   },
   {
    "duration": 163,
    "start_time": "2021-07-07T17:18:52.952Z"
   },
   {
    "duration": 44,
    "start_time": "2021-07-07T17:18:53.117Z"
   },
   {
    "duration": 3,
    "start_time": "2021-07-07T17:18:53.162Z"
   },
   {
    "duration": 26,
    "start_time": "2021-07-07T17:18:53.167Z"
   },
   {
    "duration": 6,
    "start_time": "2021-07-07T17:18:53.195Z"
   },
   {
    "duration": 15,
    "start_time": "2021-07-07T17:18:53.203Z"
   },
   {
    "duration": 5,
    "start_time": "2021-07-07T17:18:53.220Z"
   },
   {
    "duration": 11,
    "start_time": "2021-07-07T17:18:53.228Z"
   },
   {
    "duration": 9,
    "start_time": "2021-07-07T17:18:53.241Z"
   },
   {
    "duration": 41,
    "start_time": "2021-07-07T17:18:53.252Z"
   },
   {
    "duration": 33,
    "start_time": "2021-07-07T17:18:53.295Z"
   },
   {
    "duration": 19,
    "start_time": "2021-07-07T17:18:53.330Z"
   },
   {
    "duration": 49,
    "start_time": "2021-07-07T17:18:53.350Z"
   },
   {
    "duration": 5,
    "start_time": "2021-07-07T17:18:53.401Z"
   },
   {
    "duration": 5,
    "start_time": "2021-07-07T17:18:53.408Z"
   },
   {
    "duration": 11,
    "start_time": "2021-07-07T17:18:53.414Z"
   },
   {
    "duration": 9,
    "start_time": "2021-07-07T17:18:53.427Z"
   },
   {
    "duration": 10,
    "start_time": "2021-07-07T17:18:53.437Z"
   },
   {
    "duration": 39,
    "start_time": "2021-07-07T17:18:53.448Z"
   },
   {
    "duration": 26,
    "start_time": "2021-07-07T17:18:55.799Z"
   },
   {
    "duration": 598,
    "start_time": "2021-07-07T17:20:17.862Z"
   },
   {
    "duration": 161,
    "start_time": "2021-07-07T17:20:18.462Z"
   },
   {
    "duration": 45,
    "start_time": "2021-07-07T17:20:18.626Z"
   },
   {
    "duration": 4,
    "start_time": "2021-07-07T17:20:18.673Z"
   },
   {
    "duration": 38,
    "start_time": "2021-07-07T17:20:26.877Z"
   },
   {
    "duration": 7,
    "start_time": "2021-07-07T17:20:37.405Z"
   },
   {
    "duration": 19,
    "start_time": "2021-07-07T17:20:51.534Z"
   },
   {
    "duration": 5,
    "start_time": "2021-07-07T17:20:57.228Z"
   },
   {
    "duration": 7,
    "start_time": "2021-07-07T17:21:08.235Z"
   },
   {
    "duration": 19,
    "start_time": "2021-07-07T17:21:42.158Z"
   },
   {
    "duration": 14,
    "start_time": "2021-07-07T17:21:50.225Z"
   },
   {
    "duration": 22,
    "start_time": "2021-07-07T17:22:54.104Z"
   },
   {
    "duration": 5,
    "start_time": "2021-07-07T17:22:56.371Z"
   },
   {
    "duration": 14,
    "start_time": "2021-07-07T17:22:58.316Z"
   },
   {
    "duration": 5,
    "start_time": "2021-07-07T17:22:58.493Z"
   },
   {
    "duration": 35,
    "start_time": "2021-07-07T17:22:59.666Z"
   },
   {
    "duration": 6,
    "start_time": "2021-07-07T17:23:02.410Z"
   },
   {
    "duration": 611,
    "start_time": "2021-07-07T17:24:59.664Z"
   },
   {
    "duration": 178,
    "start_time": "2021-07-07T17:25:01.945Z"
   },
   {
    "duration": 47,
    "start_time": "2021-07-07T17:25:02.125Z"
   },
   {
    "duration": 2,
    "start_time": "2021-07-07T17:25:07.903Z"
   },
   {
    "duration": 254,
    "start_time": "2021-07-07T17:25:08.232Z"
   },
   {
    "duration": 182,
    "start_time": "2021-07-07T17:25:08.671Z"
   },
   {
    "duration": 6,
    "start_time": "2021-07-07T17:25:13.104Z"
   },
   {
    "duration": 36,
    "start_time": "2021-07-07T17:25:13.662Z"
   },
   {
    "duration": 7,
    "start_time": "2021-07-07T17:25:14.528Z"
   },
   {
    "duration": 24,
    "start_time": "2021-07-07T17:25:27.982Z"
   },
   {
    "duration": 3,
    "start_time": "2021-07-07T17:25:48.982Z"
   },
   {
    "duration": 165,
    "start_time": "2021-07-07T17:25:48.987Z"
   },
   {
    "duration": 50,
    "start_time": "2021-07-07T17:25:49.154Z"
   },
   {
    "duration": 4,
    "start_time": "2021-07-07T17:25:49.206Z"
   },
   {
    "duration": 26,
    "start_time": "2021-07-07T17:25:49.212Z"
   },
   {
    "duration": 7,
    "start_time": "2021-07-07T17:25:49.240Z"
   },
   {
    "duration": 16,
    "start_time": "2021-07-07T17:25:49.249Z"
   },
   {
    "duration": 22,
    "start_time": "2021-07-07T17:25:49.266Z"
   },
   {
    "duration": 16,
    "start_time": "2021-07-07T17:25:49.291Z"
   },
   {
    "duration": 9,
    "start_time": "2021-07-07T17:25:49.309Z"
   },
   {
    "duration": 7,
    "start_time": "2021-07-07T17:25:49.319Z"
   },
   {
    "duration": 28,
    "start_time": "2021-07-07T17:25:49.328Z"
   },
   {
    "duration": 44,
    "start_time": "2021-07-07T17:25:49.357Z"
   },
   {
    "duration": 22,
    "start_time": "2021-07-07T17:25:49.403Z"
   },
   {
    "duration": 7,
    "start_time": "2021-07-07T17:25:49.427Z"
   },
   {
    "duration": 3,
    "start_time": "2021-07-07T17:25:49.436Z"
   },
   {
    "duration": 44,
    "start_time": "2021-07-07T17:25:49.441Z"
   },
   {
    "duration": 12,
    "start_time": "2021-07-07T17:25:49.488Z"
   },
   {
    "duration": 13,
    "start_time": "2021-07-07T17:25:49.502Z"
   },
   {
    "duration": 10,
    "start_time": "2021-07-07T17:25:49.516Z"
   },
   {
    "duration": 62,
    "start_time": "2021-07-07T17:25:49.527Z"
   },
   {
    "duration": 26,
    "start_time": "2021-07-07T17:26:51.809Z"
   },
   {
    "duration": 26,
    "start_time": "2021-07-07T17:26:55.759Z"
   },
   {
    "duration": 26,
    "start_time": "2021-07-07T17:27:04.501Z"
   },
   {
    "duration": 25,
    "start_time": "2021-07-07T17:28:24.859Z"
   },
   {
    "duration": 21,
    "start_time": "2021-07-07T17:28:55.250Z"
   },
   {
    "duration": 21,
    "start_time": "2021-07-07T17:28:58.885Z"
   },
   {
    "duration": 7,
    "start_time": "2021-07-07T17:45:40.972Z"
   },
   {
    "duration": 13,
    "start_time": "2021-07-07T17:45:42.529Z"
   },
   {
    "duration": 27,
    "start_time": "2021-07-07T17:45:51.026Z"
   },
   {
    "duration": 518,
    "start_time": "2021-07-07T17:46:15.532Z"
   },
   {
    "duration": 235,
    "start_time": "2021-07-07T17:46:16.053Z"
   },
   {
    "duration": 80,
    "start_time": "2021-07-07T17:46:16.292Z"
   },
   {
    "duration": 5,
    "start_time": "2021-07-07T17:46:16.373Z"
   },
   {
    "duration": 26,
    "start_time": "2021-07-07T17:46:16.380Z"
   },
   {
    "duration": 7,
    "start_time": "2021-07-07T17:46:16.408Z"
   },
   {
    "duration": 16,
    "start_time": "2021-07-07T17:46:16.418Z"
   },
   {
    "duration": 5,
    "start_time": "2021-07-07T17:46:16.436Z"
   },
   {
    "duration": 13,
    "start_time": "2021-07-07T17:46:16.442Z"
   },
   {
    "duration": 35,
    "start_time": "2021-07-07T17:46:16.456Z"
   },
   {
    "duration": 8,
    "start_time": "2021-07-07T17:46:16.493Z"
   },
   {
    "duration": 28,
    "start_time": "2021-07-07T17:46:16.502Z"
   },
   {
    "duration": 17,
    "start_time": "2021-07-07T17:46:16.532Z"
   },
   {
    "duration": 44,
    "start_time": "2021-07-07T17:46:16.551Z"
   },
   {
    "duration": 6,
    "start_time": "2021-07-07T17:46:16.597Z"
   },
   {
    "duration": 4,
    "start_time": "2021-07-07T17:46:16.605Z"
   },
   {
    "duration": 9,
    "start_time": "2021-07-07T17:46:16.610Z"
   },
   {
    "duration": 9,
    "start_time": "2021-07-07T17:46:16.621Z"
   },
   {
    "duration": 10,
    "start_time": "2021-07-07T17:46:16.632Z"
   },
   {
    "duration": 43,
    "start_time": "2021-07-07T17:46:16.644Z"
   },
   {
    "duration": 26,
    "start_time": "2021-07-07T17:46:16.689Z"
   },
   {
    "duration": 19,
    "start_time": "2021-07-07T17:46:16.718Z"
   },
   {
    "duration": 8,
    "start_time": "2021-07-07T17:46:16.738Z"
   },
   {
    "duration": 43,
    "start_time": "2021-07-07T17:46:16.747Z"
   },
   {
    "duration": 19,
    "start_time": "2021-07-07T17:46:16.791Z"
   },
   {
    "duration": 9,
    "start_time": "2021-07-07T17:46:16.812Z"
   },
   {
    "duration": 60,
    "start_time": "2021-07-07T17:46:16.822Z"
   },
   {
    "duration": -8,
    "start_time": "2021-07-07T17:46:16.892Z"
   },
   {
    "duration": 12,
    "start_time": "2021-07-07T17:48:47.707Z"
   },
   {
    "duration": 553,
    "start_time": "2021-07-07T18:10:09.350Z"
   },
   {
    "duration": 230,
    "start_time": "2021-07-07T18:10:09.905Z"
   },
   {
    "duration": 97,
    "start_time": "2021-07-07T18:10:10.137Z"
   },
   {
    "duration": 5,
    "start_time": "2021-07-07T18:10:10.236Z"
   },
   {
    "duration": 29,
    "start_time": "2021-07-07T18:10:10.242Z"
   },
   {
    "duration": 7,
    "start_time": "2021-07-07T18:10:10.272Z"
   },
   {
    "duration": 15,
    "start_time": "2021-07-07T18:10:10.281Z"
   },
   {
    "duration": 4,
    "start_time": "2021-07-07T18:10:10.299Z"
   },
   {
    "duration": 14,
    "start_time": "2021-07-07T18:10:10.305Z"
   },
   {
    "duration": 8,
    "start_time": "2021-07-07T18:10:10.321Z"
   },
   {
    "duration": 8,
    "start_time": "2021-07-07T18:10:10.331Z"
   },
   {
    "duration": 56,
    "start_time": "2021-07-07T18:10:10.341Z"
   },
   {
    "duration": 19,
    "start_time": "2021-07-07T18:10:10.399Z"
   },
   {
    "duration": 23,
    "start_time": "2021-07-07T18:10:10.419Z"
   },
   {
    "duration": 6,
    "start_time": "2021-07-07T18:10:10.444Z"
   },
   {
    "duration": 9,
    "start_time": "2021-07-07T18:10:10.451Z"
   },
   {
    "duration": 30,
    "start_time": "2021-07-07T18:10:10.462Z"
   },
   {
    "duration": 9,
    "start_time": "2021-07-07T18:10:10.494Z"
   },
   {
    "duration": 14,
    "start_time": "2021-07-07T18:10:10.505Z"
   },
   {
    "duration": 7,
    "start_time": "2021-07-07T18:10:10.521Z"
   },
   {
    "duration": 26,
    "start_time": "2021-07-07T18:10:10.530Z"
   },
   {
    "duration": 44,
    "start_time": "2021-07-07T18:10:10.558Z"
   },
   {
    "duration": 7,
    "start_time": "2021-07-07T18:10:10.605Z"
   },
   {
    "duration": 11,
    "start_time": "2021-07-07T18:10:10.614Z"
   },
   {
    "duration": 19,
    "start_time": "2021-07-07T18:10:10.626Z"
   },
   {
    "duration": 44,
    "start_time": "2021-07-07T18:10:10.646Z"
   },
   {
    "duration": 516,
    "start_time": "2021-07-07T18:14:00.826Z"
   },
   {
    "duration": 230,
    "start_time": "2021-07-07T18:14:01.344Z"
   },
   {
    "duration": 105,
    "start_time": "2021-07-07T18:14:01.576Z"
   },
   {
    "duration": 5,
    "start_time": "2021-07-07T18:14:01.683Z"
   },
   {
    "duration": 46,
    "start_time": "2021-07-07T18:14:01.690Z"
   },
   {
    "duration": 7,
    "start_time": "2021-07-07T18:14:01.738Z"
   },
   {
    "duration": 20,
    "start_time": "2021-07-07T18:14:01.747Z"
   },
   {
    "duration": 16,
    "start_time": "2021-07-07T18:14:01.769Z"
   },
   {
    "duration": 14,
    "start_time": "2021-07-07T18:14:01.787Z"
   },
   {
    "duration": 15,
    "start_time": "2021-07-07T18:14:01.803Z"
   },
   {
    "duration": 12,
    "start_time": "2021-07-07T18:14:01.820Z"
   },
   {
    "duration": 35,
    "start_time": "2021-07-07T18:14:01.833Z"
   },
   {
    "duration": 31,
    "start_time": "2021-07-07T18:14:01.869Z"
   },
   {
    "duration": 37,
    "start_time": "2021-07-07T18:14:01.902Z"
   },
   {
    "duration": 8,
    "start_time": "2021-07-07T18:14:01.942Z"
   },
   {
    "duration": 16,
    "start_time": "2021-07-07T18:14:01.952Z"
   },
   {
    "duration": 13,
    "start_time": "2021-07-07T18:14:01.970Z"
   },
   {
    "duration": 32,
    "start_time": "2021-07-07T18:14:01.985Z"
   },
   {
    "duration": 11,
    "start_time": "2021-07-07T18:14:02.019Z"
   },
   {
    "duration": 22,
    "start_time": "2021-07-07T18:14:02.031Z"
   },
   {
    "duration": 27,
    "start_time": "2021-07-07T18:14:02.055Z"
   },
   {
    "duration": 18,
    "start_time": "2021-07-07T18:14:02.084Z"
   },
   {
    "duration": 18,
    "start_time": "2021-07-07T18:14:02.106Z"
   },
   {
    "duration": 11,
    "start_time": "2021-07-07T18:14:02.126Z"
   },
   {
    "duration": 21,
    "start_time": "2021-07-07T18:14:02.138Z"
   },
   {
    "duration": 32,
    "start_time": "2021-07-07T18:14:02.161Z"
   },
   {
    "duration": 28,
    "start_time": "2021-07-07T18:14:44.295Z"
   },
   {
    "duration": 6,
    "start_time": "2021-07-07T18:15:05.834Z"
   },
   {
    "duration": 511,
    "start_time": "2021-07-07T18:15:41.541Z"
   },
   {
    "duration": 183,
    "start_time": "2021-07-07T18:15:42.054Z"
   },
   {
    "duration": 50,
    "start_time": "2021-07-07T18:15:42.239Z"
   },
   {
    "duration": 5,
    "start_time": "2021-07-07T18:15:42.291Z"
   },
   {
    "duration": 48,
    "start_time": "2021-07-07T18:15:42.297Z"
   },
   {
    "duration": 8,
    "start_time": "2021-07-07T18:15:42.346Z"
   },
   {
    "duration": 17,
    "start_time": "2021-07-07T18:15:42.356Z"
   },
   {
    "duration": 15,
    "start_time": "2021-07-07T18:15:42.375Z"
   },
   {
    "duration": 12,
    "start_time": "2021-07-07T18:15:42.392Z"
   },
   {
    "duration": 7,
    "start_time": "2021-07-07T18:15:42.406Z"
   },
   {
    "duration": 7,
    "start_time": "2021-07-07T18:15:42.415Z"
   },
   {
    "duration": 29,
    "start_time": "2021-07-07T18:15:42.423Z"
   },
   {
    "duration": 43,
    "start_time": "2021-07-07T18:15:42.453Z"
   },
   {
    "duration": 18,
    "start_time": "2021-07-07T18:15:42.497Z"
   },
   {
    "duration": 6,
    "start_time": "2021-07-07T18:15:42.516Z"
   },
   {
    "duration": 3,
    "start_time": "2021-07-07T18:15:42.523Z"
   },
   {
    "duration": 18,
    "start_time": "2021-07-07T18:15:42.528Z"
   },
   {
    "duration": 10,
    "start_time": "2021-07-07T18:15:42.547Z"
   },
   {
    "duration": 36,
    "start_time": "2021-07-07T18:15:42.559Z"
   },
   {
    "duration": 8,
    "start_time": "2021-07-07T18:15:42.597Z"
   },
   {
    "duration": 28,
    "start_time": "2021-07-07T18:15:42.606Z"
   },
   {
    "duration": 52,
    "start_time": "2021-07-07T18:15:42.635Z"
   },
   {
    "duration": 7,
    "start_time": "2021-07-07T18:15:42.690Z"
   },
   {
    "duration": 10,
    "start_time": "2021-07-07T18:15:42.699Z"
   },
   {
    "duration": 19,
    "start_time": "2021-07-07T18:15:42.711Z"
   },
   {
    "duration": 9,
    "start_time": "2021-07-07T18:15:42.732Z"
   },
   {
    "duration": 5,
    "start_time": "2021-07-07T18:15:42.743Z"
   },
   {
    "duration": 1450,
    "start_time": "2021-07-07T18:15:51.984Z"
   },
   {
    "duration": 161,
    "start_time": "2021-07-07T18:15:53.435Z"
   },
   {
    "duration": 124,
    "start_time": "2021-07-07T18:15:53.598Z"
   },
   {
    "duration": 5,
    "start_time": "2021-07-07T18:15:53.724Z"
   },
   {
    "duration": 34,
    "start_time": "2021-07-07T18:15:53.730Z"
   },
   {
    "duration": 7,
    "start_time": "2021-07-07T18:15:53.765Z"
   },
   {
    "duration": 15,
    "start_time": "2021-07-07T18:15:53.773Z"
   },
   {
    "duration": 5,
    "start_time": "2021-07-07T18:15:53.791Z"
   },
   {
    "duration": 19,
    "start_time": "2021-07-07T18:15:53.798Z"
   },
   {
    "duration": 9,
    "start_time": "2021-07-07T18:15:53.818Z"
   },
   {
    "duration": 19,
    "start_time": "2021-07-07T18:15:53.828Z"
   },
   {
    "duration": 27,
    "start_time": "2021-07-07T18:15:53.848Z"
   },
   {
    "duration": 16,
    "start_time": "2021-07-07T18:15:53.884Z"
   },
   {
    "duration": 29,
    "start_time": "2021-07-07T18:15:53.901Z"
   },
   {
    "duration": 5,
    "start_time": "2021-07-07T18:15:53.932Z"
   },
   {
    "duration": 15,
    "start_time": "2021-07-07T18:15:53.939Z"
   },
   {
    "duration": 13,
    "start_time": "2021-07-07T18:15:53.956Z"
   },
   {
    "duration": 20,
    "start_time": "2021-07-07T18:15:53.971Z"
   },
   {
    "duration": 14,
    "start_time": "2021-07-07T18:15:53.992Z"
   },
   {
    "duration": 9,
    "start_time": "2021-07-07T18:15:54.009Z"
   },
   {
    "duration": 28,
    "start_time": "2021-07-07T18:15:54.020Z"
   },
   {
    "duration": 50,
    "start_time": "2021-07-07T18:15:54.051Z"
   },
   {
    "duration": 8,
    "start_time": "2021-07-07T18:15:54.105Z"
   },
   {
    "duration": 11,
    "start_time": "2021-07-07T18:15:54.115Z"
   },
   {
    "duration": 20,
    "start_time": "2021-07-07T18:15:54.128Z"
   },
   {
    "duration": 13,
    "start_time": "2021-07-07T18:15:54.184Z"
   },
   {
    "duration": 7,
    "start_time": "2021-07-07T18:15:54.199Z"
   },
   {
    "duration": 7,
    "start_time": "2021-07-07T18:17:08.042Z"
   },
   {
    "duration": 8,
    "start_time": "2021-07-07T18:17:21.008Z"
   },
   {
    "duration": 7,
    "start_time": "2021-07-07T18:17:29.003Z"
   },
   {
    "duration": 8,
    "start_time": "2021-07-07T18:17:32.492Z"
   },
   {
    "duration": 9,
    "start_time": "2021-07-07T18:17:41.758Z"
   },
   {
    "duration": 255,
    "start_time": "2021-07-07T18:20:20.897Z"
   },
   {
    "duration": 173,
    "start_time": "2021-07-07T18:20:26.636Z"
   },
   {
    "duration": 7,
    "start_time": "2021-07-07T18:21:47.164Z"
   },
   {
    "duration": 254,
    "start_time": "2021-07-07T18:23:08.703Z"
   },
   {
    "duration": 21,
    "start_time": "2021-07-07T18:23:22.506Z"
   },
   {
    "duration": 315,
    "start_time": "2021-07-07T18:25:54.801Z"
   },
   {
    "duration": 34,
    "start_time": "2021-07-07T18:26:51.817Z"
   },
   {
    "duration": 327,
    "start_time": "2021-07-07T18:26:56.147Z"
   },
   {
    "duration": 342,
    "start_time": "2021-07-07T18:27:15.887Z"
   },
   {
    "duration": 302,
    "start_time": "2021-07-07T18:28:18.569Z"
   },
   {
    "duration": 226,
    "start_time": "2021-07-07T18:29:20.879Z"
   },
   {
    "duration": 207,
    "start_time": "2021-07-07T18:29:58.114Z"
   },
   {
    "duration": 140,
    "start_time": "2021-07-07T18:32:04.372Z"
   },
   {
    "duration": 158,
    "start_time": "2021-07-07T18:32:32.508Z"
   },
   {
    "duration": 145,
    "start_time": "2021-07-07T18:32:41.365Z"
   },
   {
    "duration": 132,
    "start_time": "2021-07-07T18:32:45.199Z"
   },
   {
    "duration": 11,
    "start_time": "2021-07-07T18:35:24.679Z"
   },
   {
    "duration": 268,
    "start_time": "2021-07-07T18:36:16.145Z"
   },
   {
    "duration": 227,
    "start_time": "2021-07-07T18:37:04.918Z"
   },
   {
    "duration": 3,
    "start_time": "2021-07-07T18:37:33.012Z"
   },
   {
    "duration": 671,
    "start_time": "2021-07-07T18:37:38.295Z"
   },
   {
    "duration": 54,
    "start_time": "2021-07-07T18:37:53.406Z"
   },
   {
    "duration": 631,
    "start_time": "2021-07-07T18:37:56.463Z"
   },
   {
    "duration": 19,
    "start_time": "2021-07-07T18:39:40.535Z"
   },
   {
    "duration": 20,
    "start_time": "2021-07-07T18:40:12.236Z"
   },
   {
    "duration": 633,
    "start_time": "2021-07-07T18:42:00.398Z"
   },
   {
    "duration": 218,
    "start_time": "2021-07-07T18:42:01.033Z"
   },
   {
    "duration": 49,
    "start_time": "2021-07-07T18:42:01.253Z"
   },
   {
    "duration": 5,
    "start_time": "2021-07-07T18:42:01.303Z"
   },
   {
    "duration": 27,
    "start_time": "2021-07-07T18:42:01.310Z"
   },
   {
    "duration": 8,
    "start_time": "2021-07-07T18:42:01.339Z"
   },
   {
    "duration": 20,
    "start_time": "2021-07-07T18:42:01.348Z"
   },
   {
    "duration": 6,
    "start_time": "2021-07-07T18:42:01.386Z"
   },
   {
    "duration": 16,
    "start_time": "2021-07-07T18:42:01.394Z"
   },
   {
    "duration": 9,
    "start_time": "2021-07-07T18:42:01.411Z"
   },
   {
    "duration": 11,
    "start_time": "2021-07-07T18:42:01.421Z"
   },
   {
    "duration": 31,
    "start_time": "2021-07-07T18:42:01.434Z"
   },
   {
    "duration": 18,
    "start_time": "2021-07-07T18:42:01.485Z"
   },
   {
    "duration": 23,
    "start_time": "2021-07-07T18:42:01.505Z"
   },
   {
    "duration": 6,
    "start_time": "2021-07-07T18:42:01.530Z"
   },
   {
    "duration": 10,
    "start_time": "2021-07-07T18:42:01.538Z"
   },
   {
    "duration": 13,
    "start_time": "2021-07-07T18:42:01.550Z"
   },
   {
    "duration": 24,
    "start_time": "2021-07-07T18:42:01.564Z"
   },
   {
    "duration": 20,
    "start_time": "2021-07-07T18:42:01.590Z"
   },
   {
    "duration": 8,
    "start_time": "2021-07-07T18:42:01.611Z"
   },
   {
    "duration": 31,
    "start_time": "2021-07-07T18:42:01.620Z"
   },
   {
    "duration": 39,
    "start_time": "2021-07-07T18:42:01.653Z"
   },
   {
    "duration": 8,
    "start_time": "2021-07-07T18:42:01.696Z"
   },
   {
    "duration": 13,
    "start_time": "2021-07-07T18:42:01.705Z"
   },
   {
    "duration": 20,
    "start_time": "2021-07-07T18:42:01.720Z"
   },
   {
    "duration": 12,
    "start_time": "2021-07-07T18:42:01.741Z"
   },
   {
    "duration": 35,
    "start_time": "2021-07-07T18:42:01.755Z"
   },
   {
    "duration": 14,
    "start_time": "2021-07-07T18:42:01.792Z"
   },
   {
    "duration": 188,
    "start_time": "2021-07-07T18:42:01.808Z"
   },
   {
    "duration": 19,
    "start_time": "2021-07-07T18:42:01.998Z"
   },
   {
    "duration": 175,
    "start_time": "2021-07-07T18:42:02.019Z"
   },
   {
    "duration": 134,
    "start_time": "2021-07-07T18:42:02.196Z"
   },
   {
    "duration": 10,
    "start_time": "2021-07-07T18:42:02.331Z"
   },
   {
    "duration": 19,
    "start_time": "2021-07-07T18:42:02.343Z"
   },
   {
    "duration": 628,
    "start_time": "2021-07-07T18:46:30.701Z"
   },
   {
    "duration": 183,
    "start_time": "2021-07-07T18:46:31.331Z"
   },
   {
    "duration": 48,
    "start_time": "2021-07-07T18:46:31.516Z"
   },
   {
    "duration": 5,
    "start_time": "2021-07-07T18:46:31.566Z"
   },
   {
    "duration": 28,
    "start_time": "2021-07-07T18:46:31.572Z"
   },
   {
    "duration": 8,
    "start_time": "2021-07-07T18:46:31.602Z"
   },
   {
    "duration": 19,
    "start_time": "2021-07-07T18:46:31.611Z"
   },
   {
    "duration": 6,
    "start_time": "2021-07-07T18:46:31.633Z"
   },
   {
    "duration": 17,
    "start_time": "2021-07-07T18:46:31.642Z"
   },
   {
    "duration": 10,
    "start_time": "2021-07-07T18:46:31.684Z"
   },
   {
    "duration": 9,
    "start_time": "2021-07-07T18:46:31.695Z"
   },
   {
    "duration": 28,
    "start_time": "2021-07-07T18:46:31.705Z"
   },
   {
    "duration": 18,
    "start_time": "2021-07-07T18:46:31.735Z"
   },
   {
    "duration": 48,
    "start_time": "2021-07-07T18:46:31.755Z"
   },
   {
    "duration": 6,
    "start_time": "2021-07-07T18:46:31.804Z"
   },
   {
    "duration": 4,
    "start_time": "2021-07-07T18:46:31.812Z"
   },
   {
    "duration": 9,
    "start_time": "2021-07-07T18:46:31.817Z"
   },
   {
    "duration": 10,
    "start_time": "2021-07-07T18:46:31.827Z"
   },
   {
    "duration": 12,
    "start_time": "2021-07-07T18:46:31.838Z"
   },
   {
    "duration": 39,
    "start_time": "2021-07-07T18:46:31.851Z"
   },
   {
    "duration": 24,
    "start_time": "2021-07-07T18:46:31.892Z"
   },
   {
    "duration": 15,
    "start_time": "2021-07-07T18:46:31.918Z"
   },
   {
    "duration": 7,
    "start_time": "2021-07-07T18:46:31.936Z"
   },
   {
    "duration": 8,
    "start_time": "2021-07-07T18:46:31.944Z"
   },
   {
    "duration": 19,
    "start_time": "2021-07-07T18:46:31.984Z"
   },
   {
    "duration": 10,
    "start_time": "2021-07-07T18:46:32.004Z"
   },
   {
    "duration": 5,
    "start_time": "2021-07-07T18:46:32.016Z"
   },
   {
    "duration": 9,
    "start_time": "2021-07-07T18:46:32.023Z"
   },
   {
    "duration": 199,
    "start_time": "2021-07-07T18:46:32.033Z"
   },
   {
    "duration": 19,
    "start_time": "2021-07-07T18:46:32.234Z"
   },
   {
    "duration": 159,
    "start_time": "2021-07-07T18:46:32.255Z"
   },
   {
    "duration": 134,
    "start_time": "2021-07-07T18:46:32.416Z"
   },
   {
    "duration": 10,
    "start_time": "2021-07-07T18:46:32.552Z"
   },
   {
    "duration": 34,
    "start_time": "2021-07-07T18:46:32.563Z"
   },
   {
    "duration": 1039,
    "start_time": "2021-07-08T08:41:09.419Z"
   },
   {
    "duration": 333,
    "start_time": "2021-07-08T08:41:10.459Z"
   },
   {
    "duration": 173,
    "start_time": "2021-07-08T08:41:10.794Z"
   },
   {
    "duration": 5,
    "start_time": "2021-07-08T08:41:10.968Z"
   },
   {
    "duration": 25,
    "start_time": "2021-07-08T08:41:10.975Z"
   },
   {
    "duration": 9,
    "start_time": "2021-07-08T08:41:11.002Z"
   },
   {
    "duration": 18,
    "start_time": "2021-07-08T08:41:11.013Z"
   },
   {
    "duration": 6,
    "start_time": "2021-07-08T08:41:11.033Z"
   },
   {
    "duration": 44,
    "start_time": "2021-07-08T08:41:11.042Z"
   },
   {
    "duration": 10,
    "start_time": "2021-07-08T08:41:11.088Z"
   },
   {
    "duration": 9,
    "start_time": "2021-07-08T08:41:11.100Z"
   },
   {
    "duration": 27,
    "start_time": "2021-07-08T08:41:11.111Z"
   },
   {
    "duration": 46,
    "start_time": "2021-07-08T08:41:11.140Z"
   },
   {
    "duration": 17,
    "start_time": "2021-07-08T08:41:11.187Z"
   },
   {
    "duration": 6,
    "start_time": "2021-07-08T08:41:11.206Z"
   },
   {
    "duration": 5,
    "start_time": "2021-07-08T08:41:11.213Z"
   },
   {
    "duration": 10,
    "start_time": "2021-07-08T08:41:11.219Z"
   },
   {
    "duration": 9,
    "start_time": "2021-07-08T08:41:11.230Z"
   },
   {
    "duration": 45,
    "start_time": "2021-07-08T08:41:11.241Z"
   },
   {
    "duration": 7,
    "start_time": "2021-07-08T08:41:11.287Z"
   },
   {
    "duration": 24,
    "start_time": "2021-07-08T08:41:11.296Z"
   },
   {
    "duration": 16,
    "start_time": "2021-07-08T08:41:11.322Z"
   },
   {
    "duration": 7,
    "start_time": "2021-07-08T08:41:11.341Z"
   },
   {
    "duration": 41,
    "start_time": "2021-07-08T08:41:11.349Z"
   },
   {
    "duration": 17,
    "start_time": "2021-07-08T08:41:11.391Z"
   },
   {
    "duration": 9,
    "start_time": "2021-07-08T08:41:11.410Z"
   },
   {
    "duration": 5,
    "start_time": "2021-07-08T08:41:11.421Z"
   },
   {
    "duration": 6,
    "start_time": "2021-07-08T08:41:11.428Z"
   },
   {
    "duration": 198,
    "start_time": "2021-07-08T08:41:11.435Z"
   },
   {
    "duration": 18,
    "start_time": "2021-07-08T08:41:11.635Z"
   },
   {
    "duration": 155,
    "start_time": "2021-07-08T08:41:11.655Z"
   },
   {
    "duration": 138,
    "start_time": "2021-07-08T08:41:11.811Z"
   },
   {
    "duration": 10,
    "start_time": "2021-07-08T08:41:11.950Z"
   },
   {
    "duration": 29,
    "start_time": "2021-07-08T08:41:11.961Z"
   },
   {
    "duration": 171,
    "start_time": "2021-07-08T08:47:44.522Z"
   },
   {
    "duration": 124,
    "start_time": "2021-07-08T08:47:46.872Z"
   },
   {
    "duration": 191,
    "start_time": "2021-07-08T08:47:58.148Z"
   },
   {
    "duration": 191,
    "start_time": "2021-07-08T08:48:07.412Z"
   },
   {
    "duration": 261,
    "start_time": "2021-07-08T08:48:10.385Z"
   },
   {
    "duration": 255,
    "start_time": "2021-07-08T08:48:14.494Z"
   },
   {
    "duration": 219,
    "start_time": "2021-07-08T08:48:22.752Z"
   },
   {
    "duration": 173,
    "start_time": "2021-07-08T08:49:06.395Z"
   },
   {
    "duration": 180,
    "start_time": "2021-07-08T08:49:21.011Z"
   },
   {
    "duration": 6,
    "start_time": "2021-07-08T08:50:31.697Z"
   },
   {
    "duration": 10,
    "start_time": "2021-07-08T08:50:47.394Z"
   },
   {
    "duration": 11,
    "start_time": "2021-07-08T08:53:49.332Z"
   },
   {
    "duration": 171,
    "start_time": "2021-07-08T08:54:28.408Z"
   },
   {
    "duration": 636,
    "start_time": "2021-07-08T09:02:48.385Z"
   },
   {
    "duration": 227,
    "start_time": "2021-07-08T09:02:49.023Z"
   },
   {
    "duration": 104,
    "start_time": "2021-07-08T09:02:49.252Z"
   },
   {
    "duration": 5,
    "start_time": "2021-07-08T09:02:49.358Z"
   },
   {
    "duration": 27,
    "start_time": "2021-07-08T09:02:49.365Z"
   },
   {
    "duration": 8,
    "start_time": "2021-07-08T09:02:49.394Z"
   },
   {
    "duration": 18,
    "start_time": "2021-07-08T09:02:49.404Z"
   },
   {
    "duration": 6,
    "start_time": "2021-07-08T09:02:49.424Z"
   },
   {
    "duration": 11,
    "start_time": "2021-07-08T09:02:49.433Z"
   },
   {
    "duration": 13,
    "start_time": "2021-07-08T09:02:49.485Z"
   },
   {
    "duration": 9,
    "start_time": "2021-07-08T09:02:49.500Z"
   },
   {
    "duration": 38,
    "start_time": "2021-07-08T09:02:49.511Z"
   },
   {
    "duration": 42,
    "start_time": "2021-07-08T09:02:49.551Z"
   },
   {
    "duration": 21,
    "start_time": "2021-07-08T09:02:49.594Z"
   },
   {
    "duration": 6,
    "start_time": "2021-07-08T09:02:49.616Z"
   },
   {
    "duration": 3,
    "start_time": "2021-07-08T09:02:49.623Z"
   },
   {
    "duration": 9,
    "start_time": "2021-07-08T09:02:49.628Z"
   },
   {
    "duration": 52,
    "start_time": "2021-07-08T09:02:49.638Z"
   },
   {
    "duration": 11,
    "start_time": "2021-07-08T09:02:49.692Z"
   },
   {
    "duration": 8,
    "start_time": "2021-07-08T09:02:49.704Z"
   },
   {
    "duration": 27,
    "start_time": "2021-07-08T09:02:49.713Z"
   },
   {
    "duration": 59,
    "start_time": "2021-07-08T09:02:49.741Z"
   },
   {
    "duration": 8,
    "start_time": "2021-07-08T09:02:49.803Z"
   },
   {
    "duration": 14,
    "start_time": "2021-07-08T09:02:49.813Z"
   },
   {
    "duration": 20,
    "start_time": "2021-07-08T09:02:49.829Z"
   },
   {
    "duration": 44,
    "start_time": "2021-07-08T09:02:49.851Z"
   },
   {
    "duration": 14,
    "start_time": "2021-07-08T09:02:49.896Z"
   },
   {
    "duration": 221,
    "start_time": "2021-07-08T09:02:49.912Z"
   },
   {
    "duration": 6,
    "start_time": "2021-07-08T09:02:50.134Z"
   },
   {
    "duration": 206,
    "start_time": "2021-07-08T09:02:50.142Z"
   },
   {
    "duration": 19,
    "start_time": "2021-07-08T09:02:50.350Z"
   },
   {
    "duration": 21,
    "start_time": "2021-07-08T09:02:50.370Z"
   },
   {
    "duration": 20,
    "start_time": "2021-07-08T09:02:50.393Z"
   },
   {
    "duration": 5,
    "start_time": "2021-07-08T09:02:50.414Z"
   },
   {
    "duration": 5,
    "start_time": "2021-07-08T09:03:34.173Z"
   },
   {
    "duration": 6,
    "start_time": "2021-07-08T09:04:49.062Z"
   },
   {
    "duration": 9,
    "start_time": "2021-07-08T09:04:50.118Z"
   },
   {
    "duration": 14,
    "start_time": "2021-07-08T09:04:58.512Z"
   },
   {
    "duration": 9,
    "start_time": "2021-07-08T09:05:10.988Z"
   },
   {
    "duration": 11,
    "start_time": "2021-07-08T09:05:11.743Z"
   },
   {
    "duration": 7,
    "start_time": "2021-07-08T09:05:25.677Z"
   },
   {
    "duration": 13,
    "start_time": "2021-07-08T09:05:47.189Z"
   },
   {
    "duration": 13,
    "start_time": "2021-07-08T09:05:54.755Z"
   },
   {
    "duration": 4,
    "start_time": "2021-07-08T09:06:29.189Z"
   },
   {
    "duration": 244,
    "start_time": "2021-07-08T09:06:29.195Z"
   },
   {
    "duration": 91,
    "start_time": "2021-07-08T09:06:29.441Z"
   },
   {
    "duration": 4,
    "start_time": "2021-07-08T09:06:29.534Z"
   },
   {
    "duration": 28,
    "start_time": "2021-07-08T09:06:29.540Z"
   },
   {
    "duration": 6,
    "start_time": "2021-07-08T09:06:29.570Z"
   },
   {
    "duration": 18,
    "start_time": "2021-07-08T09:06:29.578Z"
   },
   {
    "duration": 5,
    "start_time": "2021-07-08T09:06:29.597Z"
   },
   {
    "duration": 13,
    "start_time": "2021-07-08T09:06:29.605Z"
   },
   {
    "duration": 8,
    "start_time": "2021-07-08T09:06:29.620Z"
   },
   {
    "duration": 7,
    "start_time": "2021-07-08T09:06:29.630Z"
   },
   {
    "duration": 63,
    "start_time": "2021-07-08T09:06:29.639Z"
   },
   {
    "duration": 17,
    "start_time": "2021-07-08T09:06:29.704Z"
   },
   {
    "duration": 20,
    "start_time": "2021-07-08T09:06:29.723Z"
   },
   {
    "duration": 6,
    "start_time": "2021-07-08T09:06:29.745Z"
   },
   {
    "duration": 3,
    "start_time": "2021-07-08T09:06:29.752Z"
   },
   {
    "duration": 7,
    "start_time": "2021-07-08T09:06:29.785Z"
   },
   {
    "duration": 11,
    "start_time": "2021-07-08T09:06:29.794Z"
   },
   {
    "duration": 15,
    "start_time": "2021-07-08T09:06:29.807Z"
   },
   {
    "duration": 8,
    "start_time": "2021-07-08T09:06:29.823Z"
   },
   {
    "duration": 70,
    "start_time": "2021-07-08T09:06:29.832Z"
   },
   {
    "duration": 17,
    "start_time": "2021-07-08T09:06:29.903Z"
   },
   {
    "duration": 9,
    "start_time": "2021-07-08T09:06:29.921Z"
   },
   {
    "duration": 9,
    "start_time": "2021-07-08T09:06:29.932Z"
   },
   {
    "duration": 57,
    "start_time": "2021-07-08T09:06:29.942Z"
   },
   {
    "duration": 11,
    "start_time": "2021-07-08T09:06:30.001Z"
   },
   {
    "duration": 19,
    "start_time": "2021-07-08T09:06:30.016Z"
   },
   {
    "duration": 217,
    "start_time": "2021-07-08T09:06:30.037Z"
   },
   {
    "duration": 6,
    "start_time": "2021-07-08T09:06:30.255Z"
   },
   {
    "duration": 205,
    "start_time": "2021-07-08T09:06:30.263Z"
   },
   {
    "duration": 27,
    "start_time": "2021-07-08T09:06:30.470Z"
   },
   {
    "duration": 11,
    "start_time": "2021-07-08T09:06:30.500Z"
   },
   {
    "duration": 31,
    "start_time": "2021-07-08T09:06:30.513Z"
   },
   {
    "duration": 18,
    "start_time": "2021-07-08T09:06:30.546Z"
   },
   {
    "duration": 11,
    "start_time": "2021-07-08T09:06:30.566Z"
   },
   {
    "duration": 19,
    "start_time": "2021-07-08T09:06:30.579Z"
   },
   {
    "duration": 20,
    "start_time": "2021-07-08T09:06:49.466Z"
   },
   {
    "duration": 9,
    "start_time": "2021-07-08T09:06:51.994Z"
   },
   {
    "duration": 20,
    "start_time": "2021-07-08T09:06:52.273Z"
   },
   {
    "duration": 246,
    "start_time": "2021-07-08T09:10:21.272Z"
   },
   {
    "duration": 84,
    "start_time": "2021-07-08T09:10:21.436Z"
   },
   {
    "duration": 7,
    "start_time": "2021-07-08T09:10:37.608Z"
   },
   {
    "duration": 189,
    "start_time": "2021-07-08T09:10:38.573Z"
   },
   {
    "duration": 185,
    "start_time": "2021-07-08T09:10:53.181Z"
   },
   {
    "duration": 11,
    "start_time": "2021-07-08T09:10:59.549Z"
   },
   {
    "duration": 42,
    "start_time": "2021-07-08T09:10:59.709Z"
   },
   {
    "duration": 12,
    "start_time": "2021-07-08T09:11:02.857Z"
   },
   {
    "duration": 28,
    "start_time": "2021-07-08T09:11:10.062Z"
   },
   {
    "duration": 249,
    "start_time": "2021-07-08T09:11:37.388Z"
   },
   {
    "duration": 232,
    "start_time": "2021-07-08T09:11:49.485Z"
   },
   {
    "duration": 453,
    "start_time": "2021-07-08T09:12:01.546Z"
   },
   {
    "duration": 440,
    "start_time": "2021-07-08T09:12:12.347Z"
   },
   {
    "duration": 213,
    "start_time": "2021-07-08T09:13:32.196Z"
   },
   {
    "duration": 172,
    "start_time": "2021-07-08T09:14:07.400Z"
   },
   {
    "duration": 185,
    "start_time": "2021-07-08T09:14:14.905Z"
   },
   {
    "duration": 209,
    "start_time": "2021-07-08T09:14:40.109Z"
   },
   {
    "duration": 201,
    "start_time": "2021-07-08T09:14:54.506Z"
   },
   {
    "duration": 622,
    "start_time": "2021-07-08T09:18:14.497Z"
   },
   {
    "duration": 220,
    "start_time": "2021-07-08T09:18:15.121Z"
   },
   {
    "duration": 79,
    "start_time": "2021-07-08T09:18:15.343Z"
   },
   {
    "duration": 4,
    "start_time": "2021-07-08T09:18:15.425Z"
   },
   {
    "duration": 24,
    "start_time": "2021-07-08T09:18:15.431Z"
   },
   {
    "duration": 8,
    "start_time": "2021-07-08T09:18:15.457Z"
   },
   {
    "duration": 16,
    "start_time": "2021-07-08T09:18:15.466Z"
   },
   {
    "duration": 5,
    "start_time": "2021-07-08T09:18:15.484Z"
   },
   {
    "duration": 10,
    "start_time": "2021-07-08T09:18:15.493Z"
   },
   {
    "duration": 8,
    "start_time": "2021-07-08T09:18:15.504Z"
   },
   {
    "duration": 7,
    "start_time": "2021-07-08T09:18:15.513Z"
   },
   {
    "duration": 26,
    "start_time": "2021-07-08T09:18:15.522Z"
   },
   {
    "duration": 49,
    "start_time": "2021-07-08T09:18:15.550Z"
   },
   {
    "duration": 21,
    "start_time": "2021-07-08T09:18:15.601Z"
   },
   {
    "duration": 8,
    "start_time": "2021-07-08T09:18:15.624Z"
   },
   {
    "duration": 3,
    "start_time": "2021-07-08T09:18:15.634Z"
   },
   {
    "duration": 8,
    "start_time": "2021-07-08T09:18:15.639Z"
   },
   {
    "duration": 45,
    "start_time": "2021-07-08T09:18:15.649Z"
   },
   {
    "duration": 13,
    "start_time": "2021-07-08T09:18:15.696Z"
   },
   {
    "duration": 10,
    "start_time": "2021-07-08T09:18:15.711Z"
   },
   {
    "duration": 64,
    "start_time": "2021-07-08T09:18:15.722Z"
   },
   {
    "duration": 19,
    "start_time": "2021-07-08T09:18:15.788Z"
   },
   {
    "duration": 9,
    "start_time": "2021-07-08T09:18:15.809Z"
   },
   {
    "duration": 9,
    "start_time": "2021-07-08T09:18:15.820Z"
   },
   {
    "duration": 18,
    "start_time": "2021-07-08T09:18:15.831Z"
   },
   {
    "duration": 43,
    "start_time": "2021-07-08T09:18:15.851Z"
   },
   {
    "duration": 12,
    "start_time": "2021-07-08T09:18:15.897Z"
   },
   {
    "duration": 219,
    "start_time": "2021-07-08T09:18:15.911Z"
   },
   {
    "duration": 8,
    "start_time": "2021-07-08T09:18:16.132Z"
   },
   {
    "duration": 199,
    "start_time": "2021-07-08T09:18:16.141Z"
   },
   {
    "duration": 18,
    "start_time": "2021-07-08T09:18:16.341Z"
   },
   {
    "duration": 24,
    "start_time": "2021-07-08T09:18:16.361Z"
   },
   {
    "duration": 24,
    "start_time": "2021-07-08T09:18:16.387Z"
   },
   {
    "duration": 211,
    "start_time": "2021-07-08T09:18:16.413Z"
   },
   {
    "duration": 18,
    "start_time": "2021-07-08T09:18:16.626Z"
   },
   {
    "duration": 596,
    "start_time": "2021-07-08T10:06:33.623Z"
   },
   {
    "duration": 181,
    "start_time": "2021-07-08T10:06:34.221Z"
   },
   {
    "duration": 176,
    "start_time": "2021-07-08T10:06:34.635Z"
   },
   {
    "duration": 239,
    "start_time": "2021-07-08T10:06:55.572Z"
   },
   {
    "duration": 6,
    "start_time": "2021-07-08T10:06:57.687Z"
   },
   {
    "duration": 4,
    "start_time": "2021-07-08T10:07:03.956Z"
   },
   {
    "duration": 4,
    "start_time": "2021-07-08T10:07:10.376Z"
   },
   {
    "duration": 4,
    "start_time": "2021-07-08T10:17:19.889Z"
   },
   {
    "duration": 3,
    "start_time": "2021-07-08T10:19:19.407Z"
   },
   {
    "duration": 197,
    "start_time": "2021-07-08T10:19:19.412Z"
   },
   {
    "duration": 127,
    "start_time": "2021-07-08T10:19:19.611Z"
   },
   {
    "duration": 4,
    "start_time": "2021-07-08T10:19:19.740Z"
   },
   {
    "duration": 27,
    "start_time": "2021-07-08T10:19:19.746Z"
   },
   {
    "duration": 7,
    "start_time": "2021-07-08T10:19:19.775Z"
   },
   {
    "duration": 30,
    "start_time": "2021-07-08T10:19:19.784Z"
   },
   {
    "duration": 7,
    "start_time": "2021-07-08T10:19:19.817Z"
   },
   {
    "duration": 26,
    "start_time": "2021-07-08T10:19:19.826Z"
   },
   {
    "duration": 18,
    "start_time": "2021-07-08T10:19:19.854Z"
   },
   {
    "duration": 14,
    "start_time": "2021-07-08T10:19:19.874Z"
   },
   {
    "duration": 48,
    "start_time": "2021-07-08T10:19:19.890Z"
   },
   {
    "duration": 17,
    "start_time": "2021-07-08T10:19:19.940Z"
   },
   {
    "duration": 38,
    "start_time": "2021-07-08T10:19:19.959Z"
   },
   {
    "duration": 8,
    "start_time": "2021-07-08T10:19:19.999Z"
   },
   {
    "duration": 15,
    "start_time": "2021-07-08T10:19:20.009Z"
   },
   {
    "duration": 22,
    "start_time": "2021-07-08T10:19:20.026Z"
   },
   {
    "duration": 10,
    "start_time": "2021-07-08T10:19:20.050Z"
   },
   {
    "duration": 10,
    "start_time": "2021-07-08T10:19:20.062Z"
   },
   {
    "duration": 20,
    "start_time": "2021-07-08T10:19:20.073Z"
   },
   {
    "duration": 29,
    "start_time": "2021-07-08T10:19:20.095Z"
   },
   {
    "duration": 17,
    "start_time": "2021-07-08T10:19:20.126Z"
   },
   {
    "duration": 40,
    "start_time": "2021-07-08T10:19:20.146Z"
   },
   {
    "duration": 15,
    "start_time": "2021-07-08T10:19:20.189Z"
   },
   {
    "duration": 19,
    "start_time": "2021-07-08T10:19:20.206Z"
   },
   {
    "duration": 10,
    "start_time": "2021-07-08T10:19:20.226Z"
   },
   {
    "duration": 11,
    "start_time": "2021-07-08T10:19:20.238Z"
   },
   {
    "duration": 297,
    "start_time": "2021-07-08T10:19:20.250Z"
   },
   {
    "duration": 6,
    "start_time": "2021-07-08T10:19:20.549Z"
   },
   {
    "duration": 191,
    "start_time": "2021-07-08T10:19:20.557Z"
   },
   {
    "duration": 19,
    "start_time": "2021-07-08T10:19:20.750Z"
   },
   {
    "duration": 20,
    "start_time": "2021-07-08T10:19:20.771Z"
   },
   {
    "duration": 15,
    "start_time": "2021-07-08T10:19:20.793Z"
   },
   {
    "duration": 222,
    "start_time": "2021-07-08T10:19:20.809Z"
   },
   {
    "duration": 20,
    "start_time": "2021-07-08T10:19:21.033Z"
   },
   {
    "duration": 27,
    "start_time": "2021-07-08T10:45:04.055Z"
   },
   {
    "duration": 8,
    "start_time": "2021-07-08T10:45:08.478Z"
   },
   {
    "duration": 8,
    "start_time": "2021-07-08T10:45:31.982Z"
   },
   {
    "duration": 10,
    "start_time": "2021-07-08T10:46:01.221Z"
   },
   {
    "duration": 17,
    "start_time": "2021-07-08T10:46:40.011Z"
   },
   {
    "duration": 193,
    "start_time": "2021-07-08T10:48:19.471Z"
   },
   {
    "duration": 225,
    "start_time": "2021-07-08T10:49:26.480Z"
   },
   {
    "duration": 204,
    "start_time": "2021-07-08T10:49:59.992Z"
   },
   {
    "duration": 435,
    "start_time": "2021-07-08T10:50:06.779Z"
   },
   {
    "duration": 199,
    "start_time": "2021-07-08T10:50:14.891Z"
   },
   {
    "duration": 204,
    "start_time": "2021-07-08T10:50:18.501Z"
   },
   {
    "duration": 244,
    "start_time": "2021-07-08T10:50:23.359Z"
   },
   {
    "duration": 192,
    "start_time": "2021-07-08T10:50:29.135Z"
   },
   {
    "duration": 218,
    "start_time": "2021-07-08T10:50:33.092Z"
   },
   {
    "duration": 207,
    "start_time": "2021-07-08T10:52:45.381Z"
   },
   {
    "duration": 5,
    "start_time": "2021-07-08T10:53:34.641Z"
   },
   {
    "duration": 196,
    "start_time": "2021-07-08T10:53:41.478Z"
   },
   {
    "duration": 43,
    "start_time": "2021-07-08T10:53:50.335Z"
   },
   {
    "duration": 32,
    "start_time": "2021-07-08T10:53:55.294Z"
   },
   {
    "duration": 55,
    "start_time": "2021-07-08T10:54:09.675Z"
   },
   {
    "duration": 16,
    "start_time": "2021-07-08T10:54:12.260Z"
   },
   {
    "duration": 15,
    "start_time": "2021-07-08T10:54:49.150Z"
   },
   {
    "duration": 20,
    "start_time": "2021-07-08T10:56:07.596Z"
   },
   {
    "duration": 16,
    "start_time": "2021-07-08T10:58:26.276Z"
   },
   {
    "duration": 22,
    "start_time": "2021-07-08T10:59:00.486Z"
   },
   {
    "duration": 18,
    "start_time": "2021-07-08T11:02:09.653Z"
   },
   {
    "duration": 10,
    "start_time": "2021-07-08T11:03:44.331Z"
   },
   {
    "duration": 10,
    "start_time": "2021-07-08T11:03:54.055Z"
   },
   {
    "duration": 12,
    "start_time": "2021-07-08T11:04:41.967Z"
   },
   {
    "duration": 24,
    "start_time": "2021-07-08T11:07:30.732Z"
   },
   {
    "duration": 6,
    "start_time": "2021-07-08T11:07:37.364Z"
   },
   {
    "duration": 16,
    "start_time": "2021-07-08T11:08:01.819Z"
   },
   {
    "duration": 17,
    "start_time": "2021-07-08T11:09:47.488Z"
   },
   {
    "duration": 246,
    "start_time": "2021-07-08T11:10:00.830Z"
   },
   {
    "duration": 18,
    "start_time": "2021-07-08T11:13:55.195Z"
   },
   {
    "duration": 204,
    "start_time": "2021-07-08T11:14:04.951Z"
   },
   {
    "duration": 19,
    "start_time": "2021-07-08T11:15:10.613Z"
   },
   {
    "duration": 680,
    "start_time": "2021-07-08T11:16:25.793Z"
   },
   {
    "duration": 451,
    "start_time": "2021-07-08T11:16:40.313Z"
   },
   {
    "duration": 469,
    "start_time": "2021-07-08T11:17:21.286Z"
   },
   {
    "duration": 20,
    "start_time": "2021-07-08T11:19:12.554Z"
   },
   {
    "duration": 35,
    "start_time": "2021-07-08T11:20:05.484Z"
   },
   {
    "duration": 53,
    "start_time": "2021-07-08T11:21:40.050Z"
   },
   {
    "duration": 13,
    "start_time": "2021-07-08T11:22:26.059Z"
   },
   {
    "duration": 19,
    "start_time": "2021-07-08T11:22:47.419Z"
   },
   {
    "duration": 25,
    "start_time": "2021-07-08T11:23:19.958Z"
   },
   {
    "duration": 29,
    "start_time": "2021-07-08T11:23:25.415Z"
   },
   {
    "duration": 10,
    "start_time": "2021-07-08T11:24:45.138Z"
   },
   {
    "duration": 19,
    "start_time": "2021-07-08T11:24:54.498Z"
   },
   {
    "duration": 12,
    "start_time": "2021-07-08T11:25:32.225Z"
   },
   {
    "duration": 19,
    "start_time": "2021-07-08T11:25:37.092Z"
   },
   {
    "duration": 17,
    "start_time": "2021-07-08T11:25:58.116Z"
   },
   {
    "duration": 15,
    "start_time": "2021-07-08T11:26:02.258Z"
   },
   {
    "duration": 8,
    "start_time": "2021-07-08T11:26:59.682Z"
   },
   {
    "duration": 184,
    "start_time": "2021-07-08T11:27:21.894Z"
   },
   {
    "duration": 8,
    "start_time": "2021-07-08T11:27:23.824Z"
   },
   {
    "duration": 202,
    "start_time": "2021-07-08T11:27:23.962Z"
   },
   {
    "duration": 360,
    "start_time": "2021-07-08T11:28:33.215Z"
   },
   {
    "duration": 231,
    "start_time": "2021-07-08T11:32:05.542Z"
   },
   {
    "duration": 607,
    "start_time": "2021-07-08T11:36:27.854Z"
   },
   {
    "duration": 241,
    "start_time": "2021-07-08T11:36:28.463Z"
   },
   {
    "duration": 67,
    "start_time": "2021-07-08T11:36:28.709Z"
   },
   {
    "duration": 5,
    "start_time": "2021-07-08T11:36:28.778Z"
   },
   {
    "duration": 32,
    "start_time": "2021-07-08T11:36:28.784Z"
   },
   {
    "duration": 11,
    "start_time": "2021-07-08T11:36:28.819Z"
   },
   {
    "duration": 20,
    "start_time": "2021-07-08T11:36:28.834Z"
   },
   {
    "duration": 36,
    "start_time": "2021-07-08T11:36:28.857Z"
   },
   {
    "duration": 16,
    "start_time": "2021-07-08T11:36:28.895Z"
   },
   {
    "duration": 14,
    "start_time": "2021-07-08T11:36:28.913Z"
   },
   {
    "duration": 9,
    "start_time": "2021-07-08T11:36:28.930Z"
   },
   {
    "duration": 55,
    "start_time": "2021-07-08T11:36:28.941Z"
   },
   {
    "duration": 27,
    "start_time": "2021-07-08T11:36:28.999Z"
   },
   {
    "duration": 30,
    "start_time": "2021-07-08T11:36:29.028Z"
   },
   {
    "duration": 31,
    "start_time": "2021-07-08T11:36:29.060Z"
   },
   {
    "duration": 3,
    "start_time": "2021-07-08T11:36:29.093Z"
   },
   {
    "duration": 12,
    "start_time": "2021-07-08T11:36:29.099Z"
   },
   {
    "duration": 11,
    "start_time": "2021-07-08T11:36:29.112Z"
   },
   {
    "duration": 12,
    "start_time": "2021-07-08T11:36:29.125Z"
   },
   {
    "duration": 9,
    "start_time": "2021-07-08T11:36:29.139Z"
   },
   {
    "duration": 31,
    "start_time": "2021-07-08T11:36:29.191Z"
   },
   {
    "duration": 17,
    "start_time": "2021-07-08T11:36:29.226Z"
   },
   {
    "duration": 7,
    "start_time": "2021-07-08T11:36:29.245Z"
   },
   {
    "duration": 10,
    "start_time": "2021-07-08T11:36:29.254Z"
   },
   {
    "duration": 30,
    "start_time": "2021-07-08T11:36:29.292Z"
   },
   {
    "duration": 11,
    "start_time": "2021-07-08T11:36:29.324Z"
   },
   {
    "duration": 11,
    "start_time": "2021-07-08T11:36:29.337Z"
   },
   {
    "duration": 230,
    "start_time": "2021-07-08T11:36:29.349Z"
   },
   {
    "duration": 13,
    "start_time": "2021-07-08T11:36:29.588Z"
   },
   {
    "duration": 205,
    "start_time": "2021-07-08T11:36:29.603Z"
   },
   {
    "duration": 20,
    "start_time": "2021-07-08T11:36:29.810Z"
   },
   {
    "duration": 9,
    "start_time": "2021-07-08T11:36:29.832Z"
   },
   {
    "duration": 16,
    "start_time": "2021-07-08T11:36:29.843Z"
   },
   {
    "duration": 283,
    "start_time": "2021-07-08T11:36:29.861Z"
   },
   {
    "duration": 50,
    "start_time": "2021-07-08T11:36:30.146Z"
   },
   {
    "duration": 14,
    "start_time": "2021-07-08T11:36:30.198Z"
   },
   {
    "duration": 11,
    "start_time": "2021-07-08T11:36:30.214Z"
   },
   {
    "duration": 245,
    "start_time": "2021-07-08T11:36:30.227Z"
   },
   {
    "duration": 439,
    "start_time": "2021-07-08T11:36:30.474Z"
   },
   {
    "duration": 210,
    "start_time": "2021-07-08T11:36:30.915Z"
   },
   {
    "duration": 15,
    "start_time": "2021-07-08T11:36:31.127Z"
   },
   {
    "duration": 17,
    "start_time": "2021-07-08T11:38:20.451Z"
   },
   {
    "duration": 642,
    "start_time": "2021-07-08T11:46:17.881Z"
   },
   {
    "duration": 210,
    "start_time": "2021-07-08T11:46:18.525Z"
   },
   {
    "duration": 104,
    "start_time": "2021-07-08T11:46:18.741Z"
   },
   {
    "duration": 8,
    "start_time": "2021-07-08T11:46:18.847Z"
   },
   {
    "duration": 25,
    "start_time": "2021-07-08T11:46:18.857Z"
   },
   {
    "duration": 14,
    "start_time": "2021-07-08T11:46:18.884Z"
   },
   {
    "duration": 22,
    "start_time": "2021-07-08T11:46:18.900Z"
   },
   {
    "duration": 5,
    "start_time": "2021-07-08T11:46:18.924Z"
   },
   {
    "duration": 13,
    "start_time": "2021-07-08T11:46:18.931Z"
   },
   {
    "duration": 45,
    "start_time": "2021-07-08T11:46:18.946Z"
   },
   {
    "duration": 12,
    "start_time": "2021-07-08T11:46:18.993Z"
   },
   {
    "duration": 38,
    "start_time": "2021-07-08T11:46:19.006Z"
   },
   {
    "duration": 50,
    "start_time": "2021-07-08T11:46:19.046Z"
   },
   {
    "duration": 29,
    "start_time": "2021-07-08T11:46:19.099Z"
   },
   {
    "duration": 7,
    "start_time": "2021-07-08T11:46:19.130Z"
   },
   {
    "duration": 3,
    "start_time": "2021-07-08T11:46:19.139Z"
   },
   {
    "duration": 11,
    "start_time": "2021-07-08T11:46:19.144Z"
   },
   {
    "duration": 40,
    "start_time": "2021-07-08T11:46:19.157Z"
   },
   {
    "duration": 15,
    "start_time": "2021-07-08T11:46:19.199Z"
   },
   {
    "duration": 10,
    "start_time": "2021-07-08T11:46:19.217Z"
   },
   {
    "duration": 68,
    "start_time": "2021-07-08T11:46:19.230Z"
   },
   {
    "duration": 17,
    "start_time": "2021-07-08T11:46:19.301Z"
   },
   {
    "duration": 7,
    "start_time": "2021-07-08T11:46:19.321Z"
   },
   {
    "duration": 11,
    "start_time": "2021-07-08T11:46:19.330Z"
   },
   {
    "duration": 59,
    "start_time": "2021-07-08T11:46:19.343Z"
   },
   {
    "duration": 17,
    "start_time": "2021-07-08T11:46:19.405Z"
   },
   {
    "duration": 16,
    "start_time": "2021-07-08T11:46:19.424Z"
   },
   {
    "duration": 252,
    "start_time": "2021-07-08T11:46:19.443Z"
   },
   {
    "duration": 9,
    "start_time": "2021-07-08T11:46:19.697Z"
   },
   {
    "duration": 224,
    "start_time": "2021-07-08T11:46:19.708Z"
   },
   {
    "duration": 21,
    "start_time": "2021-07-08T11:46:19.934Z"
   },
   {
    "duration": 9,
    "start_time": "2021-07-08T11:46:19.956Z"
   },
   {
    "duration": 32,
    "start_time": "2021-07-08T11:46:19.967Z"
   },
   {
    "duration": 288,
    "start_time": "2021-07-08T11:46:20.004Z"
   },
   {
    "duration": 23,
    "start_time": "2021-07-08T11:46:20.300Z"
   },
   {
    "duration": 11,
    "start_time": "2021-07-08T11:46:20.325Z"
   },
   {
    "duration": 11,
    "start_time": "2021-07-08T11:46:20.339Z"
   },
   {
    "duration": 259,
    "start_time": "2021-07-08T11:46:20.352Z"
   },
   {
    "duration": 438,
    "start_time": "2021-07-08T11:46:20.613Z"
   },
   {
    "duration": 207,
    "start_time": "2021-07-08T11:46:21.054Z"
   },
   {
    "duration": 27,
    "start_time": "2021-07-08T11:46:21.262Z"
   },
   {
    "duration": 19,
    "start_time": "2021-07-08T11:46:21.291Z"
   },
   {
    "duration": 820,
    "start_time": "2021-07-08T11:49:01.655Z"
   },
   {
    "duration": 372,
    "start_time": "2021-07-08T11:49:02.478Z"
   },
   {
    "duration": 98,
    "start_time": "2021-07-08T11:49:02.853Z"
   },
   {
    "duration": 6,
    "start_time": "2021-07-08T11:49:02.953Z"
   },
   {
    "duration": 39,
    "start_time": "2021-07-08T11:49:02.960Z"
   },
   {
    "duration": 9,
    "start_time": "2021-07-08T11:49:03.003Z"
   },
   {
    "duration": 23,
    "start_time": "2021-07-08T11:49:03.014Z"
   },
   {
    "duration": 6,
    "start_time": "2021-07-08T11:49:03.041Z"
   },
   {
    "duration": 20,
    "start_time": "2021-07-08T11:49:03.049Z"
   },
   {
    "duration": 18,
    "start_time": "2021-07-08T11:49:03.084Z"
   },
   {
    "duration": 14,
    "start_time": "2021-07-08T11:49:03.104Z"
   },
   {
    "duration": 39,
    "start_time": "2021-07-08T11:49:03.119Z"
   },
   {
    "duration": 38,
    "start_time": "2021-07-08T11:49:03.160Z"
   },
   {
    "duration": 26,
    "start_time": "2021-07-08T11:49:03.200Z"
   },
   {
    "duration": 7,
    "start_time": "2021-07-08T11:49:03.227Z"
   },
   {
    "duration": 4,
    "start_time": "2021-07-08T11:49:03.236Z"
   },
   {
    "duration": 15,
    "start_time": "2021-07-08T11:49:03.243Z"
   },
   {
    "duration": 21,
    "start_time": "2021-07-08T11:49:03.285Z"
   },
   {
    "duration": 17,
    "start_time": "2021-07-08T11:49:03.309Z"
   },
   {
    "duration": 10,
    "start_time": "2021-07-08T11:49:03.328Z"
   },
   {
    "duration": 65,
    "start_time": "2021-07-08T11:49:03.340Z"
   },
   {
    "duration": 18,
    "start_time": "2021-07-08T11:49:03.407Z"
   },
   {
    "duration": 8,
    "start_time": "2021-07-08T11:49:03.428Z"
   },
   {
    "duration": 15,
    "start_time": "2021-07-08T11:49:03.438Z"
   },
   {
    "duration": 40,
    "start_time": "2021-07-08T11:49:03.455Z"
   },
   {
    "duration": 12,
    "start_time": "2021-07-08T11:49:03.497Z"
   },
   {
    "duration": 29,
    "start_time": "2021-07-08T11:49:03.511Z"
   },
   {
    "duration": 285,
    "start_time": "2021-07-08T11:49:03.542Z"
   },
   {
    "duration": 8,
    "start_time": "2021-07-08T11:49:03.829Z"
   },
   {
    "duration": 227,
    "start_time": "2021-07-08T11:49:03.838Z"
   },
   {
    "duration": 40,
    "start_time": "2021-07-08T11:49:04.066Z"
   },
   {
    "duration": 10,
    "start_time": "2021-07-08T11:49:04.108Z"
   },
   {
    "duration": 26,
    "start_time": "2021-07-08T11:49:04.121Z"
   },
   {
    "duration": 290,
    "start_time": "2021-07-08T11:49:04.149Z"
   },
   {
    "duration": 26,
    "start_time": "2021-07-08T11:49:04.441Z"
   },
   {
    "duration": 31,
    "start_time": "2021-07-08T11:49:04.470Z"
   },
   {
    "duration": 14,
    "start_time": "2021-07-08T11:49:04.503Z"
   },
   {
    "duration": 259,
    "start_time": "2021-07-08T11:49:04.521Z"
   },
   {
    "duration": 480,
    "start_time": "2021-07-08T11:49:04.782Z"
   },
   {
    "duration": 225,
    "start_time": "2021-07-08T11:49:05.264Z"
   },
   {
    "duration": 22,
    "start_time": "2021-07-08T11:49:05.491Z"
   },
   {
    "duration": 24,
    "start_time": "2021-07-08T11:49:05.515Z"
   },
   {
    "duration": 634,
    "start_time": "2021-07-08T11:52:24.960Z"
   },
   {
    "duration": 199,
    "start_time": "2021-07-08T11:52:25.599Z"
   },
   {
    "duration": 106,
    "start_time": "2021-07-08T11:52:25.803Z"
   },
   {
    "duration": 7,
    "start_time": "2021-07-08T11:52:25.911Z"
   },
   {
    "duration": 29,
    "start_time": "2021-07-08T11:52:25.920Z"
   },
   {
    "duration": 7,
    "start_time": "2021-07-08T11:52:25.951Z"
   },
   {
    "duration": 26,
    "start_time": "2021-07-08T11:52:25.961Z"
   },
   {
    "duration": 11,
    "start_time": "2021-07-08T11:52:25.990Z"
   },
   {
    "duration": 29,
    "start_time": "2021-07-08T11:52:26.005Z"
   },
   {
    "duration": 9,
    "start_time": "2021-07-08T11:52:26.036Z"
   },
   {
    "duration": 8,
    "start_time": "2021-07-08T11:52:26.047Z"
   },
   {
    "duration": 63,
    "start_time": "2021-07-08T11:52:26.057Z"
   },
   {
    "duration": 17,
    "start_time": "2021-07-08T11:52:26.122Z"
   },
   {
    "duration": 43,
    "start_time": "2021-07-08T11:52:26.142Z"
   },
   {
    "duration": 17,
    "start_time": "2021-07-08T11:52:26.187Z"
   },
   {
    "duration": 5,
    "start_time": "2021-07-08T11:52:26.206Z"
   },
   {
    "duration": 12,
    "start_time": "2021-07-08T11:52:26.212Z"
   },
   {
    "duration": 11,
    "start_time": "2021-07-08T11:52:26.226Z"
   },
   {
    "duration": 12,
    "start_time": "2021-07-08T11:52:26.238Z"
   },
   {
    "duration": 38,
    "start_time": "2021-07-08T11:52:26.252Z"
   },
   {
    "duration": 40,
    "start_time": "2021-07-08T11:52:26.292Z"
   },
   {
    "duration": 17,
    "start_time": "2021-07-08T11:52:26.336Z"
   },
   {
    "duration": 39,
    "start_time": "2021-07-08T11:52:26.355Z"
   },
   {
    "duration": 11,
    "start_time": "2021-07-08T11:52:26.395Z"
   },
   {
    "duration": 23,
    "start_time": "2021-07-08T11:52:26.408Z"
   },
   {
    "duration": 12,
    "start_time": "2021-07-08T11:52:26.432Z"
   },
   {
    "duration": 41,
    "start_time": "2021-07-08T11:52:26.446Z"
   },
   {
    "duration": 215,
    "start_time": "2021-07-08T11:52:26.493Z"
   },
   {
    "duration": 8,
    "start_time": "2021-07-08T11:52:26.710Z"
   },
   {
    "duration": 228,
    "start_time": "2021-07-08T11:52:26.720Z"
   },
   {
    "duration": 18,
    "start_time": "2021-07-08T11:52:26.950Z"
   },
   {
    "duration": 35,
    "start_time": "2021-07-08T11:52:26.969Z"
   },
   {
    "duration": 23,
    "start_time": "2021-07-08T11:52:27.006Z"
   },
   {
    "duration": 258,
    "start_time": "2021-07-08T11:52:27.030Z"
   },
   {
    "duration": 24,
    "start_time": "2021-07-08T11:52:27.290Z"
   },
   {
    "duration": 12,
    "start_time": "2021-07-08T11:52:27.316Z"
   },
   {
    "duration": 10,
    "start_time": "2021-07-08T11:52:27.329Z"
   },
   {
    "duration": 298,
    "start_time": "2021-07-08T11:52:27.341Z"
   },
   {
    "duration": 436,
    "start_time": "2021-07-08T11:52:27.641Z"
   },
   {
    "duration": 216,
    "start_time": "2021-07-08T11:52:28.079Z"
   },
   {
    "duration": 20,
    "start_time": "2021-07-08T11:52:28.297Z"
   },
   {
    "duration": 17,
    "start_time": "2021-07-08T11:52:28.319Z"
   },
   {
    "duration": 395,
    "start_time": "2022-08-10T13:41:19.930Z"
   },
   {
    "duration": 401,
    "start_time": "2022-08-10T13:43:58.189Z"
   },
   {
    "duration": 120,
    "start_time": "2022-08-10T13:44:21.207Z"
   },
   {
    "duration": 105,
    "start_time": "2022-08-10T13:44:24.495Z"
   },
   {
    "duration": 102,
    "start_time": "2022-08-10T13:44:31.385Z"
   },
   {
    "duration": 3,
    "start_time": "2022-08-10T13:59:27.961Z"
   },
   {
    "duration": 104,
    "start_time": "2022-08-10T13:59:29.506Z"
   },
   {
    "duration": 186,
    "start_time": "2022-08-10T14:00:48.901Z"
   },
   {
    "duration": 104,
    "start_time": "2022-08-10T14:01:21.407Z"
   },
   {
    "duration": 72,
    "start_time": "2022-08-10T14:01:32.226Z"
   },
   {
    "duration": 67,
    "start_time": "2022-08-10T14:02:35.867Z"
   },
   {
    "duration": 58,
    "start_time": "2022-08-10T14:02:41.086Z"
   },
   {
    "duration": 106,
    "start_time": "2022-08-10T14:03:24.458Z"
   },
   {
    "duration": 15,
    "start_time": "2022-08-10T14:03:27.371Z"
   },
   {
    "duration": 56,
    "start_time": "2022-08-10T14:11:56.212Z"
   },
   {
    "duration": 12,
    "start_time": "2022-08-10T14:12:01.715Z"
   },
   {
    "duration": 2,
    "start_time": "2022-08-10T14:59:55.584Z"
   },
   {
    "duration": 108,
    "start_time": "2022-08-10T14:59:58.116Z"
   },
   {
    "duration": 16,
    "start_time": "2022-08-10T15:00:04.505Z"
   },
   {
    "duration": 55,
    "start_time": "2022-08-10T15:00:06.005Z"
   },
   {
    "duration": 13,
    "start_time": "2022-08-10T15:00:07.925Z"
   },
   {
    "duration": 80,
    "start_time": "2022-08-10T15:01:24.978Z"
   },
   {
    "duration": 419,
    "start_time": "2022-08-10T15:07:00.046Z"
   },
   {
    "duration": 380,
    "start_time": "2022-08-10T15:07:46.518Z"
   },
   {
    "duration": 78,
    "start_time": "2022-08-10T15:11:28.591Z"
   },
   {
    "duration": 10,
    "start_time": "2022-08-10T15:11:40.104Z"
   },
   {
    "duration": 18,
    "start_time": "2022-08-10T15:11:55.155Z"
   },
   {
    "duration": 13,
    "start_time": "2022-08-10T15:12:29.538Z"
   },
   {
    "duration": 25,
    "start_time": "2022-08-10T15:13:19.428Z"
   },
   {
    "duration": 13,
    "start_time": "2022-08-10T15:14:16.639Z"
   },
   {
    "duration": 17,
    "start_time": "2022-08-10T15:14:29.655Z"
   },
   {
    "duration": 25,
    "start_time": "2022-08-10T15:14:40.382Z"
   },
   {
    "duration": 26,
    "start_time": "2022-08-10T15:15:57.730Z"
   },
   {
    "duration": 23,
    "start_time": "2022-08-10T15:18:05.412Z"
   },
   {
    "duration": 25,
    "start_time": "2022-08-10T15:23:07.784Z"
   },
   {
    "duration": 3,
    "start_time": "2022-08-10T15:23:25.150Z"
   },
   {
    "duration": 132,
    "start_time": "2022-08-10T15:23:25.155Z"
   },
   {
    "duration": 27,
    "start_time": "2022-08-10T15:23:25.289Z"
   },
   {
    "duration": 44,
    "start_time": "2022-08-10T15:23:25.318Z"
   },
   {
    "duration": 11,
    "start_time": "2022-08-10T15:23:25.364Z"
   },
   {
    "duration": 16,
    "start_time": "2022-08-10T15:23:28.549Z"
   },
   {
    "duration": 19,
    "start_time": "2022-08-10T15:23:55.768Z"
   },
   {
    "duration": 3,
    "start_time": "2022-08-10T15:25:51.282Z"
   },
   {
    "duration": 111,
    "start_time": "2022-08-10T15:25:51.287Z"
   },
   {
    "duration": 16,
    "start_time": "2022-08-10T15:25:51.400Z"
   },
   {
    "duration": 47,
    "start_time": "2022-08-10T15:25:51.418Z"
   },
   {
    "duration": 11,
    "start_time": "2022-08-10T15:25:51.467Z"
   },
   {
    "duration": 34,
    "start_time": "2022-08-10T15:25:51.480Z"
   },
   {
    "duration": 15,
    "start_time": "2022-08-10T15:25:51.516Z"
   },
   {
    "duration": 8,
    "start_time": "2022-08-10T15:26:12.170Z"
   },
   {
    "duration": 21,
    "start_time": "2022-08-10T15:26:20.247Z"
   },
   {
    "duration": 29,
    "start_time": "2022-08-10T15:26:46.149Z"
   },
   {
    "duration": 21,
    "start_time": "2022-08-10T15:27:08.671Z"
   },
   {
    "duration": 13,
    "start_time": "2022-08-10T15:27:12.137Z"
   },
   {
    "duration": 24,
    "start_time": "2022-08-10T15:27:21.695Z"
   },
   {
    "duration": 40,
    "start_time": "2022-08-10T15:27:44.483Z"
   },
   {
    "duration": 50,
    "start_time": "2022-08-10T15:28:07.057Z"
   },
   {
    "duration": 3,
    "start_time": "2022-08-10T15:29:42.194Z"
   },
   {
    "duration": 134,
    "start_time": "2022-08-10T15:29:42.202Z"
   },
   {
    "duration": 17,
    "start_time": "2022-08-10T15:29:42.338Z"
   },
   {
    "duration": 44,
    "start_time": "2022-08-10T15:29:42.356Z"
   },
   {
    "duration": 12,
    "start_time": "2022-08-10T15:29:42.402Z"
   },
   {
    "duration": 19,
    "start_time": "2022-08-10T15:29:44.553Z"
   },
   {
    "duration": 21,
    "start_time": "2022-08-10T15:30:03.342Z"
   },
   {
    "duration": 37,
    "start_time": "2022-08-10T15:30:08.024Z"
   },
   {
    "duration": 17,
    "start_time": "2022-08-10T15:30:35.546Z"
   },
   {
    "duration": 9,
    "start_time": "2022-08-10T15:34:02.688Z"
   },
   {
    "duration": 66,
    "start_time": "2022-08-10T15:34:15.148Z"
   },
   {
    "duration": 38,
    "start_time": "2022-08-10T15:34:30.596Z"
   },
   {
    "duration": 4,
    "start_time": "2022-08-10T15:49:16.242Z"
   },
   {
    "duration": 37,
    "start_time": "2022-08-10T15:49:21.704Z"
   },
   {
    "duration": 8,
    "start_time": "2022-08-10T15:52:41.554Z"
   },
   {
    "duration": 34,
    "start_time": "2022-08-10T15:58:09.652Z"
   },
   {
    "duration": 22,
    "start_time": "2022-08-10T15:58:35.248Z"
   },
   {
    "duration": 58,
    "start_time": "2022-08-10T15:59:44.634Z"
   },
   {
    "duration": 64,
    "start_time": "2022-08-10T16:00:12.503Z"
   },
   {
    "duration": 56,
    "start_time": "2022-08-10T16:00:49.290Z"
   },
   {
    "duration": 13,
    "start_time": "2022-08-10T16:03:17.039Z"
   },
   {
    "duration": 5,
    "start_time": "2022-08-10T16:03:58.620Z"
   },
   {
    "duration": 3,
    "start_time": "2022-08-10T16:06:00.515Z"
   },
   {
    "duration": 124,
    "start_time": "2022-08-10T16:06:00.520Z"
   },
   {
    "duration": 15,
    "start_time": "2022-08-10T16:06:00.646Z"
   },
   {
    "duration": 53,
    "start_time": "2022-08-10T16:06:00.663Z"
   },
   {
    "duration": 10,
    "start_time": "2022-08-10T16:06:00.718Z"
   },
   {
    "duration": 17,
    "start_time": "2022-08-10T16:06:00.730Z"
   },
   {
    "duration": 2,
    "start_time": "2022-08-10T16:06:30.579Z"
   },
   {
    "duration": 124,
    "start_time": "2022-08-10T16:06:30.583Z"
   },
   {
    "duration": 16,
    "start_time": "2022-08-10T16:06:30.709Z"
   },
   {
    "duration": 53,
    "start_time": "2022-08-10T16:06:30.727Z"
   },
   {
    "duration": 11,
    "start_time": "2022-08-10T16:06:30.782Z"
   },
   {
    "duration": 41,
    "start_time": "2022-08-10T16:06:30.795Z"
   },
   {
    "duration": 39,
    "start_time": "2022-08-10T16:06:30.838Z"
   },
   {
    "duration": 22,
    "start_time": "2022-08-10T16:06:30.879Z"
   },
   {
    "duration": 333,
    "start_time": "2022-08-10T16:06:30.903Z"
   },
   {
    "duration": 0,
    "start_time": "2022-08-10T16:06:31.239Z"
   },
   {
    "duration": 17,
    "start_time": "2022-08-10T16:06:49.948Z"
   },
   {
    "duration": 316,
    "start_time": "2022-08-10T16:06:57.086Z"
   },
   {
    "duration": 59,
    "start_time": "2022-08-10T16:07:18.112Z"
   },
   {
    "duration": 60,
    "start_time": "2022-08-10T16:07:30.168Z"
   },
   {
    "duration": 36,
    "start_time": "2022-08-10T16:07:43.033Z"
   },
   {
    "duration": 3,
    "start_time": "2022-08-10T16:07:52.074Z"
   },
   {
    "duration": 109,
    "start_time": "2022-08-10T16:07:52.080Z"
   },
   {
    "duration": 16,
    "start_time": "2022-08-10T16:07:52.191Z"
   },
   {
    "duration": 45,
    "start_time": "2022-08-10T16:07:52.209Z"
   },
   {
    "duration": 11,
    "start_time": "2022-08-10T16:07:52.256Z"
   },
   {
    "duration": 26,
    "start_time": "2022-08-10T16:07:52.269Z"
   },
   {
    "duration": 35,
    "start_time": "2022-08-10T16:07:52.297Z"
   },
   {
    "duration": 15,
    "start_time": "2022-08-10T16:07:52.334Z"
   },
   {
    "duration": 50,
    "start_time": "2022-08-10T16:07:52.351Z"
   },
   {
    "duration": 6,
    "start_time": "2022-08-10T16:08:14.633Z"
   },
   {
    "duration": 5,
    "start_time": "2022-08-10T16:52:34.507Z"
   },
   {
    "duration": 6,
    "start_time": "2022-08-10T16:52:40.984Z"
   },
   {
    "duration": 6,
    "start_time": "2022-08-10T16:54:23.729Z"
   },
   {
    "duration": 6,
    "start_time": "2022-08-10T16:54:47.392Z"
   },
   {
    "duration": 71,
    "start_time": "2022-08-10T16:59:22.352Z"
   },
   {
    "duration": 7,
    "start_time": "2022-08-10T16:59:26.301Z"
   },
   {
    "duration": 12,
    "start_time": "2022-08-10T17:00:49.763Z"
   },
   {
    "duration": 8,
    "start_time": "2022-08-10T17:01:48.945Z"
   },
   {
    "duration": 7,
    "start_time": "2022-08-10T17:02:17.931Z"
   },
   {
    "duration": 6,
    "start_time": "2022-08-10T17:02:51.616Z"
   },
   {
    "duration": 12,
    "start_time": "2022-08-10T17:03:14.634Z"
   },
   {
    "duration": 12,
    "start_time": "2022-08-10T17:04:42.657Z"
   },
   {
    "duration": 343,
    "start_time": "2022-08-10T17:06:25.844Z"
   },
   {
    "duration": 20,
    "start_time": "2022-08-10T17:06:49.049Z"
   },
   {
    "duration": 74,
    "start_time": "2022-08-10T17:09:43.009Z"
   },
   {
    "duration": 79,
    "start_time": "2022-08-10T17:09:52.213Z"
   },
   {
    "duration": 80,
    "start_time": "2022-08-10T17:10:19.400Z"
   },
   {
    "duration": 11,
    "start_time": "2022-08-10T17:10:39.429Z"
   },
   {
    "duration": 10,
    "start_time": "2022-08-10T17:11:06.502Z"
   },
   {
    "duration": 16,
    "start_time": "2022-08-10T17:13:05.041Z"
   },
   {
    "duration": 7,
    "start_time": "2022-08-10T17:15:01.505Z"
   },
   {
    "duration": 10,
    "start_time": "2022-08-10T17:15:08.708Z"
   },
   {
    "duration": 25,
    "start_time": "2022-08-10T17:22:14.736Z"
   },
   {
    "duration": 17,
    "start_time": "2022-08-10T17:23:29.215Z"
   },
   {
    "duration": 9,
    "start_time": "2022-08-10T17:28:20.711Z"
   },
   {
    "duration": 10,
    "start_time": "2022-08-10T17:28:57.601Z"
   },
   {
    "duration": 17,
    "start_time": "2022-08-10T17:29:08.902Z"
   },
   {
    "duration": 5,
    "start_time": "2022-08-10T17:29:53.984Z"
   },
   {
    "duration": 13,
    "start_time": "2022-08-10T17:30:03.084Z"
   },
   {
    "duration": 3,
    "start_time": "2022-08-10T17:30:33.101Z"
   },
   {
    "duration": 111,
    "start_time": "2022-08-10T17:30:33.106Z"
   },
   {
    "duration": 15,
    "start_time": "2022-08-10T17:30:33.219Z"
   },
   {
    "duration": 45,
    "start_time": "2022-08-10T17:30:33.236Z"
   },
   {
    "duration": 10,
    "start_time": "2022-08-10T17:30:33.283Z"
   },
   {
    "duration": 24,
    "start_time": "2022-08-10T17:30:33.295Z"
   },
   {
    "duration": 35,
    "start_time": "2022-08-10T17:30:33.321Z"
   },
   {
    "duration": 38,
    "start_time": "2022-08-10T17:30:33.358Z"
   },
   {
    "duration": 32,
    "start_time": "2022-08-10T17:30:33.398Z"
   },
   {
    "duration": 5,
    "start_time": "2022-08-10T17:30:33.433Z"
   },
   {
    "duration": 18,
    "start_time": "2022-08-10T17:30:33.439Z"
   },
   {
    "duration": 45,
    "start_time": "2022-08-10T17:30:33.459Z"
   },
   {
    "duration": 11,
    "start_time": "2022-08-10T17:30:33.506Z"
   },
   {
    "duration": 20,
    "start_time": "2022-08-10T17:30:33.518Z"
   },
   {
    "duration": 14,
    "start_time": "2022-08-10T17:31:33.448Z"
   },
   {
    "duration": 15,
    "start_time": "2022-08-10T17:32:01.740Z"
   },
   {
    "duration": 21,
    "start_time": "2022-08-10T17:32:25.360Z"
   },
   {
    "duration": 3,
    "start_time": "2022-08-10T17:33:53.600Z"
   },
   {
    "duration": 110,
    "start_time": "2022-08-10T17:33:53.606Z"
   },
   {
    "duration": 20,
    "start_time": "2022-08-10T17:33:53.718Z"
   },
   {
    "duration": 45,
    "start_time": "2022-08-10T17:33:53.741Z"
   },
   {
    "duration": 10,
    "start_time": "2022-08-10T17:33:53.788Z"
   },
   {
    "duration": 29,
    "start_time": "2022-08-10T17:33:53.800Z"
   },
   {
    "duration": 35,
    "start_time": "2022-08-10T17:33:53.831Z"
   },
   {
    "duration": 30,
    "start_time": "2022-08-10T17:33:53.868Z"
   },
   {
    "duration": 35,
    "start_time": "2022-08-10T17:33:53.899Z"
   },
   {
    "duration": 4,
    "start_time": "2022-08-10T17:33:53.936Z"
   },
   {
    "duration": 23,
    "start_time": "2022-08-10T17:33:53.942Z"
   },
   {
    "duration": 17,
    "start_time": "2022-08-10T17:34:01.669Z"
   },
   {
    "duration": 11,
    "start_time": "2022-08-10T17:34:13.930Z"
   },
   {
    "duration": 16,
    "start_time": "2022-08-10T17:43:32.987Z"
   },
   {
    "duration": 21,
    "start_time": "2022-08-10T17:43:39.208Z"
   },
   {
    "duration": 394,
    "start_time": "2022-08-11T05:06:37.066Z"
   },
   {
    "duration": 269,
    "start_time": "2022-08-11T05:06:37.462Z"
   },
   {
    "duration": 15,
    "start_time": "2022-08-11T05:06:37.732Z"
   },
   {
    "duration": 103,
    "start_time": "2022-08-11T05:06:37.748Z"
   },
   {
    "duration": 9,
    "start_time": "2022-08-11T05:06:37.852Z"
   },
   {
    "duration": 27,
    "start_time": "2022-08-11T05:06:37.863Z"
   },
   {
    "duration": 47,
    "start_time": "2022-08-11T05:06:37.892Z"
   },
   {
    "duration": 14,
    "start_time": "2022-08-11T05:06:37.941Z"
   },
   {
    "duration": 50,
    "start_time": "2022-08-11T05:06:37.957Z"
   },
   {
    "duration": 6,
    "start_time": "2022-08-11T05:06:38.010Z"
   },
   {
    "duration": 23,
    "start_time": "2022-08-11T05:06:38.017Z"
   },
   {
    "duration": 22,
    "start_time": "2022-08-11T05:06:38.042Z"
   },
   {
    "duration": 31,
    "start_time": "2022-08-11T05:06:38.066Z"
   },
   {
    "duration": 18,
    "start_time": "2022-08-11T05:06:38.099Z"
   },
   {
    "duration": 17,
    "start_time": "2022-08-11T05:06:38.118Z"
   },
   {
    "duration": 19,
    "start_time": "2022-08-11T05:06:38.136Z"
   },
   {
    "duration": 5,
    "start_time": "2022-08-11T05:08:37.818Z"
   },
   {
    "duration": 5,
    "start_time": "2022-08-11T05:09:18.309Z"
   },
   {
    "duration": 19,
    "start_time": "2022-08-11T05:11:14.223Z"
   },
   {
    "duration": 6,
    "start_time": "2022-08-11T05:12:08.899Z"
   },
   {
    "duration": 9,
    "start_time": "2022-08-11T05:12:10.421Z"
   },
   {
    "duration": 6,
    "start_time": "2022-08-11T05:13:17.102Z"
   },
   {
    "duration": 10,
    "start_time": "2022-08-11T05:13:53.703Z"
   },
   {
    "duration": 6,
    "start_time": "2022-08-11T05:14:03.524Z"
   },
   {
    "duration": 3,
    "start_time": "2022-08-11T05:14:20.571Z"
   },
   {
    "duration": 131,
    "start_time": "2022-08-11T05:14:20.576Z"
   },
   {
    "duration": 13,
    "start_time": "2022-08-11T05:14:20.709Z"
   },
   {
    "duration": 59,
    "start_time": "2022-08-11T05:14:20.724Z"
   },
   {
    "duration": 23,
    "start_time": "2022-08-11T05:14:20.785Z"
   },
   {
    "duration": 26,
    "start_time": "2022-08-11T05:14:20.809Z"
   },
   {
    "duration": 33,
    "start_time": "2022-08-11T05:14:20.837Z"
   },
   {
    "duration": 31,
    "start_time": "2022-08-11T05:14:20.872Z"
   },
   {
    "duration": 32,
    "start_time": "2022-08-11T05:14:20.905Z"
   },
   {
    "duration": 5,
    "start_time": "2022-08-11T05:14:20.938Z"
   },
   {
    "duration": 19,
    "start_time": "2022-08-11T05:14:20.945Z"
   },
   {
    "duration": 45,
    "start_time": "2022-08-11T05:14:20.966Z"
   },
   {
    "duration": 10,
    "start_time": "2022-08-11T05:14:21.012Z"
   },
   {
    "duration": 17,
    "start_time": "2022-08-11T05:14:21.023Z"
   },
   {
    "duration": 17,
    "start_time": "2022-08-11T05:14:21.041Z"
   },
   {
    "duration": 39,
    "start_time": "2022-08-11T05:14:21.060Z"
   },
   {
    "duration": 8,
    "start_time": "2022-08-11T05:14:21.101Z"
   },
   {
    "duration": 20,
    "start_time": "2022-08-11T05:23:36.336Z"
   },
   {
    "duration": 10,
    "start_time": "2022-08-11T05:25:53.566Z"
   },
   {
    "duration": 16,
    "start_time": "2022-08-11T05:25:56.508Z"
   },
   {
    "duration": 9,
    "start_time": "2022-08-11T05:26:01.907Z"
   },
   {
    "duration": 25,
    "start_time": "2022-08-11T05:26:04.677Z"
   },
   {
    "duration": 24,
    "start_time": "2022-08-11T05:26:19.083Z"
   },
   {
    "duration": 29,
    "start_time": "2022-08-11T05:30:09.473Z"
   },
   {
    "duration": 16,
    "start_time": "2022-08-11T05:30:35.365Z"
   },
   {
    "duration": 10,
    "start_time": "2022-08-11T05:31:42.503Z"
   },
   {
    "duration": 7,
    "start_time": "2022-08-11T05:33:55.451Z"
   },
   {
    "duration": 7,
    "start_time": "2022-08-11T05:34:13.499Z"
   },
   {
    "duration": 37,
    "start_time": "2022-08-11T05:34:26.588Z"
   },
   {
    "duration": 5,
    "start_time": "2022-08-11T05:35:13.206Z"
   },
   {
    "duration": 69,
    "start_time": "2022-08-11T05:35:29.939Z"
   },
   {
    "duration": 21,
    "start_time": "2022-08-11T05:38:36.453Z"
   },
   {
    "duration": 16,
    "start_time": "2022-08-11T05:45:37.227Z"
   },
   {
    "duration": 30,
    "start_time": "2022-08-11T05:48:27.605Z"
   },
   {
    "duration": 5,
    "start_time": "2022-08-11T05:48:44.152Z"
   },
   {
    "duration": 9,
    "start_time": "2022-08-11T05:49:32.000Z"
   },
   {
    "duration": 132,
    "start_time": "2022-08-11T06:02:56.892Z"
   },
   {
    "duration": 11,
    "start_time": "2022-08-11T06:03:02.605Z"
   },
   {
    "duration": 17,
    "start_time": "2022-08-11T06:03:11.806Z"
   },
   {
    "duration": 13,
    "start_time": "2022-08-11T06:05:17.453Z"
   },
   {
    "duration": 3,
    "start_time": "2022-08-11T06:05:40.131Z"
   },
   {
    "duration": 116,
    "start_time": "2022-08-11T06:05:40.135Z"
   },
   {
    "duration": 15,
    "start_time": "2022-08-11T06:05:40.254Z"
   },
   {
    "duration": 52,
    "start_time": "2022-08-11T06:05:40.271Z"
   },
   {
    "duration": 10,
    "start_time": "2022-08-11T06:05:40.326Z"
   },
   {
    "duration": 49,
    "start_time": "2022-08-11T06:05:40.346Z"
   },
   {
    "duration": 42,
    "start_time": "2022-08-11T06:05:40.397Z"
   },
   {
    "duration": 18,
    "start_time": "2022-08-11T06:05:40.441Z"
   },
   {
    "duration": 50,
    "start_time": "2022-08-11T06:05:40.461Z"
   },
   {
    "duration": 6,
    "start_time": "2022-08-11T06:05:40.512Z"
   },
   {
    "duration": 30,
    "start_time": "2022-08-11T06:05:40.520Z"
   },
   {
    "duration": 15,
    "start_time": "2022-08-11T06:05:40.551Z"
   },
   {
    "duration": 37,
    "start_time": "2022-08-11T06:05:40.567Z"
   },
   {
    "duration": 15,
    "start_time": "2022-08-11T06:05:40.607Z"
   },
   {
    "duration": 14,
    "start_time": "2022-08-11T06:05:40.623Z"
   },
   {
    "duration": 18,
    "start_time": "2022-08-11T06:05:40.639Z"
   },
   {
    "duration": 36,
    "start_time": "2022-08-11T06:05:40.660Z"
   },
   {
    "duration": 5,
    "start_time": "2022-08-11T06:06:23.997Z"
   },
   {
    "duration": 113,
    "start_time": "2022-08-11T06:06:24.004Z"
   },
   {
    "duration": 15,
    "start_time": "2022-08-11T06:06:24.119Z"
   },
   {
    "duration": 50,
    "start_time": "2022-08-11T06:06:24.136Z"
   },
   {
    "duration": 13,
    "start_time": "2022-08-11T06:06:24.188Z"
   },
   {
    "duration": 26,
    "start_time": "2022-08-11T06:06:24.202Z"
   },
   {
    "duration": 34,
    "start_time": "2022-08-11T06:06:24.230Z"
   },
   {
    "duration": 23,
    "start_time": "2022-08-11T06:06:24.286Z"
   },
   {
    "duration": 35,
    "start_time": "2022-08-11T06:06:24.311Z"
   },
   {
    "duration": 4,
    "start_time": "2022-08-11T06:06:24.348Z"
   },
   {
    "duration": 18,
    "start_time": "2022-08-11T06:06:24.354Z"
   },
   {
    "duration": 19,
    "start_time": "2022-08-11T06:06:24.393Z"
   },
   {
    "duration": 10,
    "start_time": "2022-08-11T06:06:24.414Z"
   },
   {
    "duration": 14,
    "start_time": "2022-08-11T06:06:24.427Z"
   },
   {
    "duration": 14,
    "start_time": "2022-08-11T06:06:24.443Z"
   },
   {
    "duration": 51,
    "start_time": "2022-08-11T06:06:24.459Z"
   },
   {
    "duration": 15,
    "start_time": "2022-08-11T06:06:24.512Z"
   },
   {
    "duration": 14,
    "start_time": "2022-08-11T06:06:24.529Z"
   },
   {
    "duration": 3,
    "start_time": "2022-08-11T06:07:12.704Z"
   },
   {
    "duration": 111,
    "start_time": "2022-08-11T06:07:12.709Z"
   },
   {
    "duration": 18,
    "start_time": "2022-08-11T06:07:12.822Z"
   },
   {
    "duration": 51,
    "start_time": "2022-08-11T06:07:12.842Z"
   },
   {
    "duration": 13,
    "start_time": "2022-08-11T06:07:12.895Z"
   },
   {
    "duration": 42,
    "start_time": "2022-08-11T06:07:12.909Z"
   },
   {
    "duration": 51,
    "start_time": "2022-08-11T06:07:12.953Z"
   },
   {
    "duration": 14,
    "start_time": "2022-08-11T06:07:13.005Z"
   },
   {
    "duration": 30,
    "start_time": "2022-08-11T06:07:13.021Z"
   },
   {
    "duration": 5,
    "start_time": "2022-08-11T06:07:13.053Z"
   },
   {
    "duration": 40,
    "start_time": "2022-08-11T06:07:13.087Z"
   },
   {
    "duration": 14,
    "start_time": "2022-08-11T06:07:13.129Z"
   },
   {
    "duration": 9,
    "start_time": "2022-08-11T06:07:13.145Z"
   },
   {
    "duration": 14,
    "start_time": "2022-08-11T06:07:13.156Z"
   },
   {
    "duration": 34,
    "start_time": "2022-08-11T06:07:13.172Z"
   },
   {
    "duration": 31,
    "start_time": "2022-08-11T06:07:13.208Z"
   },
   {
    "duration": 16,
    "start_time": "2022-08-11T06:07:13.240Z"
   },
   {
    "duration": 43,
    "start_time": "2022-08-11T06:07:13.258Z"
   },
   {
    "duration": 12,
    "start_time": "2022-08-11T06:08:58.731Z"
   },
   {
    "duration": 27,
    "start_time": "2022-08-11T06:09:12.884Z"
   },
   {
    "duration": 16,
    "start_time": "2022-08-11T06:09:24.400Z"
   },
   {
    "duration": 25,
    "start_time": "2022-08-11T06:10:06.008Z"
   },
   {
    "duration": 15,
    "start_time": "2022-08-11T06:11:55.363Z"
   },
   {
    "duration": 258,
    "start_time": "2022-08-11T06:54:33.371Z"
   },
   {
    "duration": 239,
    "start_time": "2022-08-11T06:54:48.799Z"
   },
   {
    "duration": 640,
    "start_time": "2022-08-11T07:13:25.014Z"
   },
   {
    "duration": 9,
    "start_time": "2022-08-11T07:17:53.466Z"
   },
   {
    "duration": 11,
    "start_time": "2022-08-11T07:18:14.675Z"
   },
   {
    "duration": 22,
    "start_time": "2022-08-11T07:18:22.984Z"
   },
   {
    "duration": 15,
    "start_time": "2022-08-11T07:18:44.248Z"
   },
   {
    "duration": 24,
    "start_time": "2022-08-11T07:19:42.646Z"
   },
   {
    "duration": 22,
    "start_time": "2022-08-11T07:20:02.999Z"
   },
   {
    "duration": 22,
    "start_time": "2022-08-11T07:21:27.749Z"
   },
   {
    "duration": 40,
    "start_time": "2022-08-11T07:21:39.459Z"
   },
   {
    "duration": 3,
    "start_time": "2022-08-11T07:21:55.421Z"
   },
   {
    "duration": 105,
    "start_time": "2022-08-11T07:21:55.427Z"
   },
   {
    "duration": 14,
    "start_time": "2022-08-11T07:21:55.534Z"
   },
   {
    "duration": 56,
    "start_time": "2022-08-11T07:21:55.550Z"
   },
   {
    "duration": 9,
    "start_time": "2022-08-11T07:21:55.608Z"
   },
   {
    "duration": 24,
    "start_time": "2022-08-11T07:21:55.619Z"
   },
   {
    "duration": 33,
    "start_time": "2022-08-11T07:21:55.644Z"
   },
   {
    "duration": 25,
    "start_time": "2022-08-11T07:21:55.687Z"
   },
   {
    "duration": 36,
    "start_time": "2022-08-11T07:21:55.714Z"
   },
   {
    "duration": 5,
    "start_time": "2022-08-11T07:21:55.752Z"
   },
   {
    "duration": 48,
    "start_time": "2022-08-11T07:21:55.759Z"
   },
   {
    "duration": 15,
    "start_time": "2022-08-11T07:21:55.809Z"
   },
   {
    "duration": 11,
    "start_time": "2022-08-11T07:21:55.826Z"
   },
   {
    "duration": 14,
    "start_time": "2022-08-11T07:21:55.840Z"
   },
   {
    "duration": 50,
    "start_time": "2022-08-11T07:21:55.857Z"
   },
   {
    "duration": 20,
    "start_time": "2022-08-11T07:21:55.909Z"
   },
   {
    "duration": 16,
    "start_time": "2022-08-11T07:21:55.931Z"
   },
   {
    "duration": 12,
    "start_time": "2022-08-11T07:21:55.948Z"
   },
   {
    "duration": 49,
    "start_time": "2022-08-11T07:21:55.961Z"
   },
   {
    "duration": 3,
    "start_time": "2022-08-11T07:22:22.547Z"
   },
   {
    "duration": 114,
    "start_time": "2022-08-11T07:22:22.552Z"
   },
   {
    "duration": 14,
    "start_time": "2022-08-11T07:22:22.667Z"
   },
   {
    "duration": 48,
    "start_time": "2022-08-11T07:22:22.683Z"
   },
   {
    "duration": 10,
    "start_time": "2022-08-11T07:22:22.733Z"
   },
   {
    "duration": 28,
    "start_time": "2022-08-11T07:22:22.744Z"
   },
   {
    "duration": 38,
    "start_time": "2022-08-11T07:22:22.773Z"
   },
   {
    "duration": 13,
    "start_time": "2022-08-11T07:22:22.812Z"
   },
   {
    "duration": 30,
    "start_time": "2022-08-11T07:22:22.827Z"
   },
   {
    "duration": 4,
    "start_time": "2022-08-11T07:22:22.859Z"
   },
   {
    "duration": 44,
    "start_time": "2022-08-11T07:22:22.864Z"
   },
   {
    "duration": 13,
    "start_time": "2022-08-11T07:22:22.910Z"
   },
   {
    "duration": 8,
    "start_time": "2022-08-11T07:22:22.925Z"
   },
   {
    "duration": 20,
    "start_time": "2022-08-11T07:22:22.935Z"
   },
   {
    "duration": 40,
    "start_time": "2022-08-11T07:22:22.957Z"
   },
   {
    "duration": 19,
    "start_time": "2022-08-11T07:22:22.999Z"
   },
   {
    "duration": 17,
    "start_time": "2022-08-11T07:22:23.020Z"
   },
   {
    "duration": 9,
    "start_time": "2022-08-11T07:22:23.039Z"
   },
   {
    "duration": 52,
    "start_time": "2022-08-11T07:22:23.050Z"
   },
   {
    "duration": 3,
    "start_time": "2022-08-11T07:22:55.147Z"
   },
   {
    "duration": 105,
    "start_time": "2022-08-11T07:22:55.152Z"
   },
   {
    "duration": 12,
    "start_time": "2022-08-11T07:22:55.259Z"
   },
   {
    "duration": 55,
    "start_time": "2022-08-11T07:22:55.273Z"
   },
   {
    "duration": 10,
    "start_time": "2022-08-11T07:22:55.329Z"
   },
   {
    "duration": 25,
    "start_time": "2022-08-11T07:22:55.340Z"
   },
   {
    "duration": 35,
    "start_time": "2022-08-11T07:22:55.366Z"
   },
   {
    "duration": 13,
    "start_time": "2022-08-11T07:22:55.403Z"
   },
   {
    "duration": 27,
    "start_time": "2022-08-11T07:22:55.418Z"
   },
   {
    "duration": 5,
    "start_time": "2022-08-11T07:22:55.447Z"
   },
   {
    "duration": 51,
    "start_time": "2022-08-11T07:22:55.453Z"
   },
   {
    "duration": 15,
    "start_time": "2022-08-11T07:22:55.506Z"
   },
   {
    "duration": 10,
    "start_time": "2022-08-11T07:22:55.522Z"
   },
   {
    "duration": 19,
    "start_time": "2022-08-11T07:22:55.534Z"
   },
   {
    "duration": 44,
    "start_time": "2022-08-11T07:22:55.555Z"
   },
   {
    "duration": 22,
    "start_time": "2022-08-11T07:22:55.600Z"
   },
   {
    "duration": 23,
    "start_time": "2022-08-11T07:22:55.623Z"
   },
   {
    "duration": 17,
    "start_time": "2022-08-11T07:22:55.648Z"
   },
   {
    "duration": 45,
    "start_time": "2022-08-11T07:22:55.667Z"
   },
   {
    "duration": 3,
    "start_time": "2022-08-11T07:23:16.428Z"
   },
   {
    "duration": 118,
    "start_time": "2022-08-11T07:23:16.434Z"
   },
   {
    "duration": 16,
    "start_time": "2022-08-11T07:23:16.554Z"
   },
   {
    "duration": 49,
    "start_time": "2022-08-11T07:23:16.572Z"
   },
   {
    "duration": 12,
    "start_time": "2022-08-11T07:23:16.623Z"
   },
   {
    "duration": 30,
    "start_time": "2022-08-11T07:23:16.637Z"
   },
   {
    "duration": 36,
    "start_time": "2022-08-11T07:23:16.669Z"
   },
   {
    "duration": 13,
    "start_time": "2022-08-11T07:23:16.706Z"
   },
   {
    "duration": 28,
    "start_time": "2022-08-11T07:23:16.720Z"
   },
   {
    "duration": 5,
    "start_time": "2022-08-11T07:23:16.749Z"
   },
   {
    "duration": 38,
    "start_time": "2022-08-11T07:23:16.755Z"
   },
   {
    "duration": 20,
    "start_time": "2022-08-11T07:23:16.794Z"
   },
   {
    "duration": 9,
    "start_time": "2022-08-11T07:23:16.815Z"
   },
   {
    "duration": 14,
    "start_time": "2022-08-11T07:23:16.826Z"
   },
   {
    "duration": 12,
    "start_time": "2022-08-11T07:23:16.841Z"
   },
   {
    "duration": 48,
    "start_time": "2022-08-11T07:23:16.854Z"
   },
   {
    "duration": 14,
    "start_time": "2022-08-11T07:23:16.904Z"
   },
   {
    "duration": 8,
    "start_time": "2022-08-11T07:23:16.920Z"
   },
   {
    "duration": 62,
    "start_time": "2022-08-11T07:23:16.929Z"
   },
   {
    "duration": 47,
    "start_time": "2022-08-11T07:24:24.063Z"
   },
   {
    "duration": 3,
    "start_time": "2022-08-11T07:25:30.836Z"
   },
   {
    "duration": 116,
    "start_time": "2022-08-11T07:25:30.841Z"
   },
   {
    "duration": 14,
    "start_time": "2022-08-11T07:25:30.959Z"
   },
   {
    "duration": 52,
    "start_time": "2022-08-11T07:25:30.975Z"
   },
   {
    "duration": 9,
    "start_time": "2022-08-11T07:25:31.029Z"
   },
   {
    "duration": 35,
    "start_time": "2022-08-11T07:25:31.040Z"
   },
   {
    "duration": 37,
    "start_time": "2022-08-11T07:25:31.077Z"
   },
   {
    "duration": 14,
    "start_time": "2022-08-11T07:25:31.115Z"
   },
   {
    "duration": 38,
    "start_time": "2022-08-11T07:25:31.132Z"
   },
   {
    "duration": 4,
    "start_time": "2022-08-11T07:25:31.171Z"
   },
   {
    "duration": 45,
    "start_time": "2022-08-11T07:25:31.177Z"
   },
   {
    "duration": 19,
    "start_time": "2022-08-11T07:25:31.224Z"
   },
   {
    "duration": 9,
    "start_time": "2022-08-11T07:25:31.245Z"
   },
   {
    "duration": 24,
    "start_time": "2022-08-11T07:25:31.256Z"
   },
   {
    "duration": 19,
    "start_time": "2022-08-11T07:25:31.282Z"
   },
   {
    "duration": 37,
    "start_time": "2022-08-11T07:25:31.303Z"
   },
   {
    "duration": 14,
    "start_time": "2022-08-11T07:25:31.342Z"
   },
   {
    "duration": 14,
    "start_time": "2022-08-11T07:25:31.358Z"
   },
   {
    "duration": 38,
    "start_time": "2022-08-11T07:25:31.374Z"
   },
   {
    "duration": 31,
    "start_time": "2022-08-11T07:25:46.515Z"
   },
   {
    "duration": 55,
    "start_time": "2022-08-11T07:26:11.947Z"
   },
   {
    "duration": 43,
    "start_time": "2022-08-11T07:27:51.585Z"
   },
   {
    "duration": 3,
    "start_time": "2022-08-11T07:27:59.627Z"
   },
   {
    "duration": 116,
    "start_time": "2022-08-11T07:27:59.631Z"
   },
   {
    "duration": 13,
    "start_time": "2022-08-11T07:27:59.749Z"
   },
   {
    "duration": 53,
    "start_time": "2022-08-11T07:27:59.764Z"
   },
   {
    "duration": 9,
    "start_time": "2022-08-11T07:27:59.818Z"
   },
   {
    "duration": 29,
    "start_time": "2022-08-11T07:27:59.828Z"
   },
   {
    "duration": 71,
    "start_time": "2022-08-11T07:27:59.859Z"
   },
   {
    "duration": 14,
    "start_time": "2022-08-11T07:27:59.931Z"
   },
   {
    "duration": 50,
    "start_time": "2022-08-11T07:27:59.947Z"
   },
   {
    "duration": 5,
    "start_time": "2022-08-11T07:28:00.000Z"
   },
   {
    "duration": 53,
    "start_time": "2022-08-11T07:28:00.007Z"
   },
   {
    "duration": 19,
    "start_time": "2022-08-11T07:28:00.062Z"
   },
   {
    "duration": 18,
    "start_time": "2022-08-11T07:28:00.083Z"
   },
   {
    "duration": 22,
    "start_time": "2022-08-11T07:28:00.103Z"
   },
   {
    "duration": 12,
    "start_time": "2022-08-11T07:28:00.127Z"
   },
   {
    "duration": 25,
    "start_time": "2022-08-11T07:28:00.141Z"
   },
   {
    "duration": 15,
    "start_time": "2022-08-11T07:28:00.167Z"
   },
   {
    "duration": 16,
    "start_time": "2022-08-11T07:28:00.183Z"
   },
   {
    "duration": 42,
    "start_time": "2022-08-11T07:28:00.202Z"
   },
   {
    "duration": 53,
    "start_time": "2022-08-11T07:28:16.122Z"
   },
   {
    "duration": 279,
    "start_time": "2022-08-11T07:29:12.065Z"
   },
   {
    "duration": 62,
    "start_time": "2022-08-11T07:29:29.270Z"
   },
   {
    "duration": 42,
    "start_time": "2022-08-11T07:30:03.399Z"
   },
   {
    "duration": 2,
    "start_time": "2022-08-11T07:34:15.834Z"
   },
   {
    "duration": 111,
    "start_time": "2022-08-11T07:34:15.838Z"
   },
   {
    "duration": 14,
    "start_time": "2022-08-11T07:34:15.950Z"
   },
   {
    "duration": 68,
    "start_time": "2022-08-11T07:34:15.966Z"
   },
   {
    "duration": 12,
    "start_time": "2022-08-11T07:34:16.036Z"
   },
   {
    "duration": 30,
    "start_time": "2022-08-11T07:34:16.050Z"
   },
   {
    "duration": 57,
    "start_time": "2022-08-11T07:34:16.082Z"
   },
   {
    "duration": 13,
    "start_time": "2022-08-11T07:34:16.141Z"
   },
   {
    "duration": 41,
    "start_time": "2022-08-11T07:34:16.156Z"
   },
   {
    "duration": 6,
    "start_time": "2022-08-11T07:34:16.199Z"
   },
   {
    "duration": 66,
    "start_time": "2022-08-11T07:34:16.210Z"
   },
   {
    "duration": 44,
    "start_time": "2022-08-11T07:34:16.278Z"
   },
   {
    "duration": 17,
    "start_time": "2022-08-11T07:34:16.324Z"
   },
   {
    "duration": 32,
    "start_time": "2022-08-11T07:34:16.344Z"
   },
   {
    "duration": 50,
    "start_time": "2022-08-11T07:34:27.316Z"
   },
   {
    "duration": 2,
    "start_time": "2022-08-11T07:34:41.664Z"
   },
   {
    "duration": 133,
    "start_time": "2022-08-11T07:34:41.668Z"
   },
   {
    "duration": 24,
    "start_time": "2022-08-11T07:34:41.803Z"
   },
   {
    "duration": 48,
    "start_time": "2022-08-11T07:34:41.830Z"
   },
   {
    "duration": 14,
    "start_time": "2022-08-11T07:34:41.879Z"
   },
   {
    "duration": 45,
    "start_time": "2022-08-11T07:34:41.895Z"
   },
   {
    "duration": 32,
    "start_time": "2022-08-11T07:34:41.941Z"
   },
   {
    "duration": 15,
    "start_time": "2022-08-11T07:34:41.974Z"
   },
   {
    "duration": 45,
    "start_time": "2022-08-11T07:34:41.992Z"
   },
   {
    "duration": 5,
    "start_time": "2022-08-11T07:34:42.038Z"
   },
   {
    "duration": 18,
    "start_time": "2022-08-11T07:34:42.045Z"
   },
   {
    "duration": 46,
    "start_time": "2022-08-11T07:34:42.064Z"
   },
   {
    "duration": 14,
    "start_time": "2022-08-11T07:34:42.112Z"
   },
   {
    "duration": 79,
    "start_time": "2022-08-11T07:34:42.128Z"
   },
   {
    "duration": 16,
    "start_time": "2022-08-11T07:34:42.210Z"
   },
   {
    "duration": 17,
    "start_time": "2022-08-11T07:34:42.228Z"
   },
   {
    "duration": 15,
    "start_time": "2022-08-11T07:34:42.246Z"
   },
   {
    "duration": 21,
    "start_time": "2022-08-11T07:34:42.262Z"
   },
   {
    "duration": 6,
    "start_time": "2022-08-11T07:35:25.723Z"
   },
   {
    "duration": 5,
    "start_time": "2022-08-11T07:35:31.027Z"
   },
   {
    "duration": 25,
    "start_time": "2022-08-11T07:36:18.926Z"
   },
   {
    "duration": 8,
    "start_time": "2022-08-11T07:37:09.199Z"
   },
   {
    "duration": 9,
    "start_time": "2022-08-11T07:38:46.230Z"
   },
   {
    "duration": 5,
    "start_time": "2022-08-11T07:38:51.129Z"
   },
   {
    "duration": 7,
    "start_time": "2022-08-11T07:39:09.641Z"
   },
   {
    "duration": 15,
    "start_time": "2022-08-11T07:41:07.271Z"
   },
   {
    "duration": 3,
    "start_time": "2022-08-11T07:41:16.775Z"
   },
   {
    "duration": 122,
    "start_time": "2022-08-11T07:41:16.779Z"
   },
   {
    "duration": 15,
    "start_time": "2022-08-11T07:41:16.903Z"
   },
   {
    "duration": 58,
    "start_time": "2022-08-11T07:41:16.920Z"
   },
   {
    "duration": 23,
    "start_time": "2022-08-11T07:41:16.980Z"
   },
   {
    "duration": 34,
    "start_time": "2022-08-11T07:41:17.005Z"
   },
   {
    "duration": 36,
    "start_time": "2022-08-11T07:41:17.041Z"
   },
   {
    "duration": 19,
    "start_time": "2022-08-11T07:41:17.079Z"
   },
   {
    "duration": 47,
    "start_time": "2022-08-11T07:41:17.101Z"
   },
   {
    "duration": 4,
    "start_time": "2022-08-11T07:41:17.150Z"
   },
   {
    "duration": 35,
    "start_time": "2022-08-11T07:41:17.156Z"
   },
   {
    "duration": 19,
    "start_time": "2022-08-11T07:41:17.194Z"
   },
   {
    "duration": 10,
    "start_time": "2022-08-11T07:41:17.214Z"
   },
   {
    "duration": 94,
    "start_time": "2022-08-11T07:41:17.226Z"
   },
   {
    "duration": 13,
    "start_time": "2022-08-11T07:41:17.322Z"
   },
   {
    "duration": 20,
    "start_time": "2022-08-11T07:41:17.337Z"
   },
   {
    "duration": 4,
    "start_time": "2022-08-11T07:41:17.359Z"
   },
   {
    "duration": 49,
    "start_time": "2022-08-11T07:41:17.364Z"
   },
   {
    "duration": 9,
    "start_time": "2022-08-11T07:42:11.015Z"
   },
   {
    "duration": 4,
    "start_time": "2022-08-11T07:42:43.820Z"
   },
   {
    "duration": 5,
    "start_time": "2022-08-11T07:42:55.576Z"
   },
   {
    "duration": 5,
    "start_time": "2022-08-11T07:43:03.759Z"
   },
   {
    "duration": 7,
    "start_time": "2022-08-11T07:44:11.812Z"
   },
   {
    "duration": 21,
    "start_time": "2022-08-11T07:44:43.918Z"
   },
   {
    "duration": 14,
    "start_time": "2022-08-11T07:45:26.933Z"
   },
   {
    "duration": 16,
    "start_time": "2022-08-11T07:45:43.420Z"
   },
   {
    "duration": 17,
    "start_time": "2022-08-11T07:49:14.146Z"
   },
   {
    "duration": 26,
    "start_time": "2022-08-11T07:55:50.480Z"
   },
   {
    "duration": 45,
    "start_time": "2022-08-11T07:56:00.113Z"
   },
   {
    "duration": 3,
    "start_time": "2022-08-11T07:56:23.939Z"
   },
   {
    "duration": 99,
    "start_time": "2022-08-11T07:56:23.944Z"
   },
   {
    "duration": 13,
    "start_time": "2022-08-11T07:56:24.044Z"
   },
   {
    "duration": 49,
    "start_time": "2022-08-11T07:56:24.059Z"
   },
   {
    "duration": 9,
    "start_time": "2022-08-11T07:56:24.110Z"
   },
   {
    "duration": 24,
    "start_time": "2022-08-11T07:56:24.121Z"
   },
   {
    "duration": 32,
    "start_time": "2022-08-11T07:56:24.146Z"
   },
   {
    "duration": 15,
    "start_time": "2022-08-11T07:56:24.180Z"
   },
   {
    "duration": 28,
    "start_time": "2022-08-11T07:56:24.197Z"
   },
   {
    "duration": 4,
    "start_time": "2022-08-11T07:56:24.226Z"
   },
   {
    "duration": 18,
    "start_time": "2022-08-11T07:56:24.232Z"
   },
   {
    "duration": 39,
    "start_time": "2022-08-11T07:56:24.251Z"
   },
   {
    "duration": 9,
    "start_time": "2022-08-11T07:56:24.291Z"
   },
   {
    "duration": 50,
    "start_time": "2022-08-11T07:56:24.302Z"
   },
   {
    "duration": 34,
    "start_time": "2022-08-11T07:56:24.353Z"
   },
   {
    "duration": 17,
    "start_time": "2022-08-11T07:56:24.389Z"
   },
   {
    "duration": 19,
    "start_time": "2022-08-11T07:56:24.408Z"
   },
   {
    "duration": 24,
    "start_time": "2022-08-11T07:56:24.429Z"
   },
   {
    "duration": 35,
    "start_time": "2022-08-11T07:56:40.651Z"
   },
   {
    "duration": 3,
    "start_time": "2022-08-11T07:57:11.221Z"
   },
   {
    "duration": 94,
    "start_time": "2022-08-11T07:57:11.226Z"
   },
   {
    "duration": 14,
    "start_time": "2022-08-11T07:57:11.322Z"
   },
   {
    "duration": 45,
    "start_time": "2022-08-11T07:57:11.338Z"
   },
   {
    "duration": 9,
    "start_time": "2022-08-11T07:57:11.385Z"
   },
   {
    "duration": 22,
    "start_time": "2022-08-11T07:57:11.396Z"
   },
   {
    "duration": 31,
    "start_time": "2022-08-11T07:57:11.420Z"
   },
   {
    "duration": 34,
    "start_time": "2022-08-11T07:57:11.453Z"
   },
   {
    "duration": 29,
    "start_time": "2022-08-11T07:57:11.489Z"
   },
   {
    "duration": 4,
    "start_time": "2022-08-11T07:57:11.520Z"
   },
   {
    "duration": 18,
    "start_time": "2022-08-11T07:57:11.526Z"
   },
   {
    "duration": 32,
    "start_time": "2022-08-11T07:57:11.546Z"
   },
   {
    "duration": 9,
    "start_time": "2022-08-11T07:57:11.587Z"
   },
   {
    "duration": 50,
    "start_time": "2022-08-11T07:57:11.598Z"
   },
   {
    "duration": 39,
    "start_time": "2022-08-11T07:57:11.649Z"
   },
   {
    "duration": 19,
    "start_time": "2022-08-11T07:57:11.689Z"
   },
   {
    "duration": 19,
    "start_time": "2022-08-11T07:57:11.709Z"
   },
   {
    "duration": 14,
    "start_time": "2022-08-11T07:57:11.729Z"
   },
   {
    "duration": 38,
    "start_time": "2022-08-11T07:58:51.009Z"
   },
   {
    "duration": 30,
    "start_time": "2022-08-11T07:59:14.425Z"
   },
   {
    "duration": 3,
    "start_time": "2022-08-11T07:59:36.074Z"
   },
   {
    "duration": 110,
    "start_time": "2022-08-11T07:59:36.080Z"
   },
   {
    "duration": 17,
    "start_time": "2022-08-11T07:59:36.191Z"
   },
   {
    "duration": 71,
    "start_time": "2022-08-11T07:59:36.211Z"
   },
   {
    "duration": 13,
    "start_time": "2022-08-11T07:59:36.284Z"
   },
   {
    "duration": 39,
    "start_time": "2022-08-11T07:59:36.299Z"
   },
   {
    "duration": 49,
    "start_time": "2022-08-11T07:59:36.340Z"
   },
   {
    "duration": 17,
    "start_time": "2022-08-11T07:59:36.391Z"
   },
   {
    "duration": 48,
    "start_time": "2022-08-11T07:59:36.411Z"
   },
   {
    "duration": 9,
    "start_time": "2022-08-11T07:59:36.461Z"
   },
   {
    "duration": 23,
    "start_time": "2022-08-11T07:59:36.471Z"
   },
   {
    "duration": 14,
    "start_time": "2022-08-11T07:59:36.496Z"
   },
   {
    "duration": 21,
    "start_time": "2022-08-11T07:59:36.512Z"
   },
   {
    "duration": 53,
    "start_time": "2022-08-11T07:59:36.534Z"
   },
   {
    "duration": 14,
    "start_time": "2022-08-11T07:59:36.590Z"
   },
   {
    "duration": 32,
    "start_time": "2022-08-11T07:59:36.606Z"
   },
   {
    "duration": 21,
    "start_time": "2022-08-11T07:59:36.640Z"
   },
   {
    "duration": 2,
    "start_time": "2022-08-11T08:07:43.417Z"
   },
   {
    "duration": 105,
    "start_time": "2022-08-11T08:07:43.422Z"
   },
   {
    "duration": 15,
    "start_time": "2022-08-11T08:07:43.528Z"
   },
   {
    "duration": 48,
    "start_time": "2022-08-11T08:07:43.544Z"
   },
   {
    "duration": 9,
    "start_time": "2022-08-11T08:07:43.594Z"
   },
   {
    "duration": 27,
    "start_time": "2022-08-11T08:07:43.606Z"
   },
   {
    "duration": 32,
    "start_time": "2022-08-11T08:07:43.634Z"
   },
   {
    "duration": 32,
    "start_time": "2022-08-11T08:07:43.668Z"
   },
   {
    "duration": 30,
    "start_time": "2022-08-11T08:07:43.702Z"
   },
   {
    "duration": 6,
    "start_time": "2022-08-11T08:07:43.735Z"
   },
   {
    "duration": 55,
    "start_time": "2022-08-11T08:07:43.743Z"
   },
   {
    "duration": 22,
    "start_time": "2022-08-11T08:07:43.800Z"
   },
   {
    "duration": 15,
    "start_time": "2022-08-11T08:07:43.824Z"
   },
   {
    "duration": 98,
    "start_time": "2022-08-11T08:07:43.841Z"
   },
   {
    "duration": 15,
    "start_time": "2022-08-11T08:07:43.941Z"
   },
   {
    "duration": 3,
    "start_time": "2022-08-11T08:08:50.628Z"
   },
   {
    "duration": 125,
    "start_time": "2022-08-11T08:08:50.633Z"
   },
   {
    "duration": 17,
    "start_time": "2022-08-11T08:08:50.759Z"
   },
   {
    "duration": 48,
    "start_time": "2022-08-11T08:08:50.788Z"
   },
   {
    "duration": 10,
    "start_time": "2022-08-11T08:08:50.838Z"
   },
   {
    "duration": 26,
    "start_time": "2022-08-11T08:08:50.849Z"
   },
   {
    "duration": 30,
    "start_time": "2022-08-11T08:08:50.877Z"
   },
   {
    "duration": 14,
    "start_time": "2022-08-11T08:08:50.909Z"
   },
   {
    "duration": 30,
    "start_time": "2022-08-11T08:08:50.924Z"
   },
   {
    "duration": 4,
    "start_time": "2022-08-11T08:08:50.956Z"
   },
   {
    "duration": 15,
    "start_time": "2022-08-11T08:08:50.987Z"
   },
   {
    "duration": 17,
    "start_time": "2022-08-11T08:08:51.004Z"
   },
   {
    "duration": 10,
    "start_time": "2022-08-11T08:08:51.022Z"
   },
   {
    "duration": 69,
    "start_time": "2022-08-11T08:08:51.034Z"
   },
   {
    "duration": 14,
    "start_time": "2022-08-11T08:08:51.105Z"
   },
   {
    "duration": 15,
    "start_time": "2022-08-11T08:08:51.121Z"
   },
   {
    "duration": 8,
    "start_time": "2022-08-11T08:09:55.258Z"
   },
   {
    "duration": 18,
    "start_time": "2022-08-11T08:10:14.472Z"
   },
   {
    "duration": 3,
    "start_time": "2022-08-11T08:10:46.595Z"
   },
   {
    "duration": 107,
    "start_time": "2022-08-11T08:10:46.600Z"
   },
   {
    "duration": 14,
    "start_time": "2022-08-11T08:10:46.709Z"
   },
   {
    "duration": 46,
    "start_time": "2022-08-11T08:10:46.725Z"
   },
   {
    "duration": 8,
    "start_time": "2022-08-11T08:10:46.773Z"
   },
   {
    "duration": 29,
    "start_time": "2022-08-11T08:10:46.783Z"
   },
   {
    "duration": 29,
    "start_time": "2022-08-11T08:10:46.813Z"
   },
   {
    "duration": 12,
    "start_time": "2022-08-11T08:10:46.843Z"
   },
   {
    "duration": 41,
    "start_time": "2022-08-11T08:10:46.857Z"
   },
   {
    "duration": 4,
    "start_time": "2022-08-11T08:10:46.899Z"
   },
   {
    "duration": 16,
    "start_time": "2022-08-11T08:10:46.904Z"
   },
   {
    "duration": 14,
    "start_time": "2022-08-11T08:10:46.921Z"
   },
   {
    "duration": 9,
    "start_time": "2022-08-11T08:10:46.937Z"
   },
   {
    "duration": 75,
    "start_time": "2022-08-11T08:10:46.947Z"
   },
   {
    "duration": 13,
    "start_time": "2022-08-11T08:10:47.023Z"
   },
   {
    "duration": 25,
    "start_time": "2022-08-11T08:10:47.038Z"
   },
   {
    "duration": 29,
    "start_time": "2022-08-11T08:10:47.065Z"
   },
   {
    "duration": 3,
    "start_time": "2022-08-11T08:11:16.825Z"
   },
   {
    "duration": 111,
    "start_time": "2022-08-11T08:11:16.830Z"
   },
   {
    "duration": 15,
    "start_time": "2022-08-11T08:11:16.943Z"
   },
   {
    "duration": 45,
    "start_time": "2022-08-11T08:11:16.960Z"
   },
   {
    "duration": 11,
    "start_time": "2022-08-11T08:11:17.007Z"
   },
   {
    "duration": 29,
    "start_time": "2022-08-11T08:11:17.019Z"
   },
   {
    "duration": 41,
    "start_time": "2022-08-11T08:11:17.049Z"
   },
   {
    "duration": 14,
    "start_time": "2022-08-11T08:11:17.092Z"
   },
   {
    "duration": 32,
    "start_time": "2022-08-11T08:11:17.108Z"
   },
   {
    "duration": 5,
    "start_time": "2022-08-11T08:11:17.142Z"
   },
   {
    "duration": 43,
    "start_time": "2022-08-11T08:11:17.149Z"
   },
   {
    "duration": 14,
    "start_time": "2022-08-11T08:11:17.194Z"
   },
   {
    "duration": 14,
    "start_time": "2022-08-11T08:11:17.209Z"
   },
   {
    "duration": 68,
    "start_time": "2022-08-11T08:11:17.225Z"
   },
   {
    "duration": 15,
    "start_time": "2022-08-11T08:11:17.294Z"
   },
   {
    "duration": 18,
    "start_time": "2022-08-11T08:11:17.311Z"
   },
   {
    "duration": 18,
    "start_time": "2022-08-11T08:11:17.330Z"
   },
   {
    "duration": 42,
    "start_time": "2022-08-11T08:11:17.350Z"
   },
   {
    "duration": 21,
    "start_time": "2022-08-11T08:11:45.463Z"
   },
   {
    "duration": 12,
    "start_time": "2022-08-11T08:12:57.813Z"
   },
   {
    "duration": 6,
    "start_time": "2022-08-11T08:14:41.457Z"
   },
   {
    "duration": 26,
    "start_time": "2022-08-11T08:15:31.376Z"
   },
   {
    "duration": 7,
    "start_time": "2022-08-11T08:15:40.596Z"
   },
   {
    "duration": 4,
    "start_time": "2022-08-11T08:16:08.497Z"
   },
   {
    "duration": 13,
    "start_time": "2022-08-11T08:19:06.917Z"
   },
   {
    "duration": 17,
    "start_time": "2022-08-11T08:19:16.386Z"
   },
   {
    "duration": 13,
    "start_time": "2022-08-11T08:19:20.853Z"
   },
   {
    "duration": 10,
    "start_time": "2022-08-11T08:21:31.265Z"
   },
   {
    "duration": 18,
    "start_time": "2022-08-11T08:21:59.310Z"
   },
   {
    "duration": 9,
    "start_time": "2022-08-11T08:22:08.206Z"
   },
   {
    "duration": 14,
    "start_time": "2022-08-11T08:23:11.515Z"
   },
   {
    "duration": 20,
    "start_time": "2022-08-11T08:23:14.851Z"
   },
   {
    "duration": 33,
    "start_time": "2022-08-11T08:23:52.262Z"
   },
   {
    "duration": 32,
    "start_time": "2022-08-11T08:24:52.697Z"
   },
   {
    "duration": 26,
    "start_time": "2022-08-11T08:25:01.125Z"
   },
   {
    "duration": 30,
    "start_time": "2022-08-11T08:25:12.507Z"
   },
   {
    "duration": 37,
    "start_time": "2022-08-11T08:25:37.081Z"
   },
   {
    "duration": 26,
    "start_time": "2022-08-11T08:25:44.992Z"
   },
   {
    "duration": 49,
    "start_time": "2022-08-11T08:26:11.446Z"
   },
   {
    "duration": 39,
    "start_time": "2022-08-11T08:26:15.160Z"
   },
   {
    "duration": 27,
    "start_time": "2022-08-11T08:27:11.077Z"
   },
   {
    "duration": 39,
    "start_time": "2022-08-11T08:27:55.752Z"
   },
   {
    "duration": 32,
    "start_time": "2022-08-11T08:36:41.362Z"
   },
   {
    "duration": 47,
    "start_time": "2022-08-11T08:36:49.159Z"
   },
   {
    "duration": 43,
    "start_time": "2022-08-11T08:37:03.937Z"
   },
   {
    "duration": 37,
    "start_time": "2022-08-11T08:37:21.322Z"
   },
   {
    "duration": 34,
    "start_time": "2022-08-11T08:37:39.128Z"
   },
   {
    "duration": 2,
    "start_time": "2022-08-11T08:37:53.438Z"
   },
   {
    "duration": 109,
    "start_time": "2022-08-11T08:37:53.442Z"
   },
   {
    "duration": 13,
    "start_time": "2022-08-11T08:37:53.552Z"
   },
   {
    "duration": 50,
    "start_time": "2022-08-11T08:37:53.566Z"
   },
   {
    "duration": 10,
    "start_time": "2022-08-11T08:37:53.618Z"
   },
   {
    "duration": 25,
    "start_time": "2022-08-11T08:37:53.630Z"
   },
   {
    "duration": 31,
    "start_time": "2022-08-11T08:37:53.656Z"
   },
   {
    "duration": 13,
    "start_time": "2022-08-11T08:37:53.688Z"
   },
   {
    "duration": 28,
    "start_time": "2022-08-11T08:37:53.703Z"
   },
   {
    "duration": 5,
    "start_time": "2022-08-11T08:37:53.733Z"
   },
   {
    "duration": 49,
    "start_time": "2022-08-11T08:37:53.739Z"
   },
   {
    "duration": 15,
    "start_time": "2022-08-11T08:37:53.789Z"
   },
   {
    "duration": 10,
    "start_time": "2022-08-11T08:37:53.805Z"
   },
   {
    "duration": 73,
    "start_time": "2022-08-11T08:37:53.818Z"
   },
   {
    "duration": 15,
    "start_time": "2022-08-11T08:37:53.893Z"
   },
   {
    "duration": 18,
    "start_time": "2022-08-11T08:37:53.910Z"
   },
   {
    "duration": 18,
    "start_time": "2022-08-11T08:37:53.929Z"
   },
   {
    "duration": 48,
    "start_time": "2022-08-11T08:37:53.949Z"
   },
   {
    "duration": 35,
    "start_time": "2022-08-11T08:37:53.999Z"
   },
   {
    "duration": 36,
    "start_time": "2022-08-11T08:38:11.105Z"
   },
   {
    "duration": 33,
    "start_time": "2022-08-11T08:38:19.226Z"
   },
   {
    "duration": 30,
    "start_time": "2022-08-11T08:39:44.054Z"
   },
   {
    "duration": 45,
    "start_time": "2022-08-11T08:40:20.954Z"
   },
   {
    "duration": 46,
    "start_time": "2022-08-11T08:41:10.011Z"
   },
   {
    "duration": 3,
    "start_time": "2022-08-11T08:42:47.658Z"
   },
   {
    "duration": 131,
    "start_time": "2022-08-11T08:43:00.839Z"
   },
   {
    "duration": 38,
    "start_time": "2022-08-11T08:56:36.346Z"
   },
   {
    "duration": 102,
    "start_time": "2022-08-11T08:56:44.280Z"
   },
   {
    "duration": 37,
    "start_time": "2022-08-11T08:57:16.984Z"
   },
   {
    "duration": 140,
    "start_time": "2022-08-11T08:57:31.257Z"
   },
   {
    "duration": 3,
    "start_time": "2022-08-11T08:58:16.616Z"
   },
   {
    "duration": 126,
    "start_time": "2022-08-11T08:58:16.621Z"
   },
   {
    "duration": 14,
    "start_time": "2022-08-11T08:58:16.748Z"
   },
   {
    "duration": 47,
    "start_time": "2022-08-11T08:58:16.764Z"
   },
   {
    "duration": 10,
    "start_time": "2022-08-11T08:58:16.812Z"
   },
   {
    "duration": 31,
    "start_time": "2022-08-11T08:58:16.823Z"
   },
   {
    "duration": 33,
    "start_time": "2022-08-11T08:58:16.855Z"
   },
   {
    "duration": 14,
    "start_time": "2022-08-11T08:58:16.890Z"
   },
   {
    "duration": 48,
    "start_time": "2022-08-11T08:58:16.906Z"
   },
   {
    "duration": 5,
    "start_time": "2022-08-11T08:58:16.956Z"
   },
   {
    "duration": 30,
    "start_time": "2022-08-11T08:58:16.962Z"
   },
   {
    "duration": 22,
    "start_time": "2022-08-11T08:58:16.994Z"
   },
   {
    "duration": 10,
    "start_time": "2022-08-11T08:58:17.018Z"
   },
   {
    "duration": 146,
    "start_time": "2022-08-11T08:58:17.030Z"
   },
   {
    "duration": 14,
    "start_time": "2022-08-11T08:58:17.186Z"
   },
   {
    "duration": 32,
    "start_time": "2022-08-11T08:58:17.202Z"
   },
   {
    "duration": 22,
    "start_time": "2022-08-11T08:58:17.235Z"
   },
   {
    "duration": 19,
    "start_time": "2022-08-11T08:58:17.259Z"
   },
   {
    "duration": 111,
    "start_time": "2022-08-11T08:58:17.279Z"
   },
   {
    "duration": 24,
    "start_time": "2022-08-11T08:58:31.341Z"
   },
   {
    "duration": 34,
    "start_time": "2022-08-11T08:58:42.527Z"
   },
   {
    "duration": 36,
    "start_time": "2022-08-11T08:59:18.343Z"
   },
   {
    "duration": 42,
    "start_time": "2022-08-11T09:01:37.937Z"
   },
   {
    "duration": 36,
    "start_time": "2022-08-11T09:01:42.129Z"
   },
   {
    "duration": 44,
    "start_time": "2022-08-11T09:01:49.818Z"
   },
   {
    "duration": 166,
    "start_time": "2022-08-11T09:02:10.032Z"
   },
   {
    "duration": 145,
    "start_time": "2022-08-11T09:02:18.865Z"
   },
   {
    "duration": 37,
    "start_time": "2022-08-11T09:02:54.520Z"
   },
   {
    "duration": 2,
    "start_time": "2022-08-11T09:03:15.152Z"
   },
   {
    "duration": 106,
    "start_time": "2022-08-11T09:03:15.157Z"
   },
   {
    "duration": 27,
    "start_time": "2022-08-11T09:03:15.264Z"
   },
   {
    "duration": 46,
    "start_time": "2022-08-11T09:03:15.293Z"
   },
   {
    "duration": 10,
    "start_time": "2022-08-11T09:03:15.341Z"
   },
   {
    "duration": 33,
    "start_time": "2022-08-11T09:03:15.353Z"
   },
   {
    "duration": 32,
    "start_time": "2022-08-11T09:03:15.388Z"
   },
   {
    "duration": 14,
    "start_time": "2022-08-11T09:03:15.422Z"
   },
   {
    "duration": 54,
    "start_time": "2022-08-11T09:03:15.438Z"
   },
   {
    "duration": 4,
    "start_time": "2022-08-11T09:03:15.494Z"
   },
   {
    "duration": 19,
    "start_time": "2022-08-11T09:03:15.500Z"
   },
   {
    "duration": 21,
    "start_time": "2022-08-11T09:03:15.521Z"
   },
   {
    "duration": 12,
    "start_time": "2022-08-11T09:03:15.544Z"
   },
   {
    "duration": 152,
    "start_time": "2022-08-11T09:03:15.558Z"
   },
   {
    "duration": 21,
    "start_time": "2022-08-11T09:03:15.712Z"
   },
   {
    "duration": 16,
    "start_time": "2022-08-11T09:03:15.735Z"
   },
   {
    "duration": 18,
    "start_time": "2022-08-11T09:03:15.787Z"
   },
   {
    "duration": 18,
    "start_time": "2022-08-11T09:03:15.807Z"
   },
   {
    "duration": 36,
    "start_time": "2022-08-11T09:03:15.827Z"
   },
   {
    "duration": 26,
    "start_time": "2022-08-11T09:03:22.379Z"
   },
   {
    "duration": 3441,
    "start_time": "2022-08-11T09:04:23.952Z"
   },
   {
    "duration": 47,
    "start_time": "2022-08-11T09:04:32.582Z"
   },
   {
    "duration": 18,
    "start_time": "2022-08-11T09:04:44.620Z"
   },
   {
    "duration": 3134,
    "start_time": "2022-08-11T09:06:58.277Z"
   },
   {
    "duration": 22,
    "start_time": "2022-08-11T09:07:05.158Z"
   },
   {
    "duration": 44,
    "start_time": "2022-08-11T09:10:28.517Z"
   },
   {
    "duration": 20,
    "start_time": "2022-08-11T09:10:42.545Z"
   },
   {
    "duration": 3,
    "start_time": "2022-08-11T09:10:52.824Z"
   },
   {
    "duration": 97,
    "start_time": "2022-08-11T09:10:52.828Z"
   },
   {
    "duration": 13,
    "start_time": "2022-08-11T09:10:52.926Z"
   },
   {
    "duration": 46,
    "start_time": "2022-08-11T09:10:52.941Z"
   },
   {
    "duration": 9,
    "start_time": "2022-08-11T09:10:52.990Z"
   },
   {
    "duration": 34,
    "start_time": "2022-08-11T09:10:53.001Z"
   },
   {
    "duration": 45,
    "start_time": "2022-08-11T09:10:53.037Z"
   },
   {
    "duration": 13,
    "start_time": "2022-08-11T09:10:53.084Z"
   },
   {
    "duration": 46,
    "start_time": "2022-08-11T09:10:53.098Z"
   },
   {
    "duration": 5,
    "start_time": "2022-08-11T09:10:53.146Z"
   },
   {
    "duration": 38,
    "start_time": "2022-08-11T09:10:53.153Z"
   },
   {
    "duration": 21,
    "start_time": "2022-08-11T09:10:53.193Z"
   },
   {
    "duration": 32,
    "start_time": "2022-08-11T09:10:53.215Z"
   },
   {
    "duration": 128,
    "start_time": "2022-08-11T09:10:53.251Z"
   },
   {
    "duration": 22,
    "start_time": "2022-08-11T09:10:53.381Z"
   },
   {
    "duration": 37,
    "start_time": "2022-08-11T09:10:53.404Z"
   },
   {
    "duration": 15,
    "start_time": "2022-08-11T09:10:53.443Z"
   },
   {
    "duration": 34,
    "start_time": "2022-08-11T09:10:53.460Z"
   },
   {
    "duration": 46,
    "start_time": "2022-08-11T09:10:53.496Z"
   },
   {
    "duration": 18,
    "start_time": "2022-08-11T09:10:53.544Z"
   },
   {
    "duration": 44,
    "start_time": "2022-08-11T09:11:32.722Z"
   },
   {
    "duration": 55,
    "start_time": "2022-08-11T09:12:56.363Z"
   },
   {
    "duration": 3127,
    "start_time": "2022-08-11T09:17:55.935Z"
   },
   {
    "duration": 3277,
    "start_time": "2022-08-11T09:18:13.504Z"
   },
   {
    "duration": 42,
    "start_time": "2022-08-11T09:31:46.304Z"
   },
   {
    "duration": 31,
    "start_time": "2022-08-11T09:43:55.488Z"
   },
   {
    "duration": 264,
    "start_time": "2022-08-11T09:44:19.931Z"
   },
   {
    "duration": 367,
    "start_time": "2022-08-11T09:45:25.019Z"
   },
   {
    "duration": 38,
    "start_time": "2022-08-11T09:45:39.031Z"
   },
   {
    "duration": 19482,
    "start_time": "2022-08-11T09:45:50.364Z"
   },
   {
    "duration": 0,
    "start_time": "2022-08-11T09:46:09.848Z"
   },
   {
    "duration": 44,
    "start_time": "2022-08-11T09:50:06.610Z"
   },
   {
    "duration": 45,
    "start_time": "2022-08-11T09:50:36.643Z"
   },
   {
    "duration": 43,
    "start_time": "2022-08-11T09:50:52.095Z"
   },
   {
    "duration": 4,
    "start_time": "2022-08-11T09:51:23.810Z"
   },
   {
    "duration": 95,
    "start_time": "2022-08-11T09:51:23.816Z"
   },
   {
    "duration": 15,
    "start_time": "2022-08-11T09:51:23.913Z"
   },
   {
    "duration": 47,
    "start_time": "2022-08-11T09:51:23.931Z"
   },
   {
    "duration": 9,
    "start_time": "2022-08-11T09:51:23.980Z"
   },
   {
    "duration": 24,
    "start_time": "2022-08-11T09:51:23.990Z"
   },
   {
    "duration": 34,
    "start_time": "2022-08-11T09:51:24.015Z"
   },
   {
    "duration": 39,
    "start_time": "2022-08-11T09:51:24.050Z"
   },
   {
    "duration": 28,
    "start_time": "2022-08-11T09:51:24.090Z"
   },
   {
    "duration": 4,
    "start_time": "2022-08-11T09:51:24.121Z"
   },
   {
    "duration": 19,
    "start_time": "2022-08-11T09:51:24.127Z"
   },
   {
    "duration": 40,
    "start_time": "2022-08-11T09:51:24.148Z"
   },
   {
    "duration": 10,
    "start_time": "2022-08-11T09:51:24.189Z"
   },
   {
    "duration": 138,
    "start_time": "2022-08-11T09:51:24.201Z"
   },
   {
    "duration": 15,
    "start_time": "2022-08-11T09:51:24.340Z"
   },
   {
    "duration": 38,
    "start_time": "2022-08-11T09:51:24.357Z"
   },
   {
    "duration": 16,
    "start_time": "2022-08-11T09:51:24.397Z"
   },
   {
    "duration": 18,
    "start_time": "2022-08-11T09:51:24.415Z"
   },
   {
    "duration": 15,
    "start_time": "2022-08-11T09:51:24.434Z"
   },
   {
    "duration": 71,
    "start_time": "2022-08-11T09:51:24.450Z"
   },
   {
    "duration": 43,
    "start_time": "2022-08-11T09:51:49.618Z"
   },
   {
    "duration": 145,
    "start_time": "2022-08-11T09:52:21.236Z"
   },
   {
    "duration": 36,
    "start_time": "2022-08-11T09:52:48.122Z"
   },
   {
    "duration": 79,
    "start_time": "2022-08-11T09:54:51.712Z"
   },
   {
    "duration": 37,
    "start_time": "2022-08-11T09:57:52.605Z"
   },
   {
    "duration": 37,
    "start_time": "2022-08-11T09:59:45.761Z"
   },
   {
    "duration": 29,
    "start_time": "2022-08-11T10:00:01.244Z"
   },
   {
    "duration": 18,
    "start_time": "2022-08-11T10:00:07.621Z"
   },
   {
    "duration": 3,
    "start_time": "2022-08-11T10:00:36.754Z"
   },
   {
    "duration": 92,
    "start_time": "2022-08-11T10:00:36.759Z"
   },
   {
    "duration": 14,
    "start_time": "2022-08-11T10:00:36.853Z"
   },
   {
    "duration": 49,
    "start_time": "2022-08-11T10:00:36.869Z"
   },
   {
    "duration": 10,
    "start_time": "2022-08-11T10:00:36.919Z"
   },
   {
    "duration": 33,
    "start_time": "2022-08-11T10:00:36.930Z"
   },
   {
    "duration": 34,
    "start_time": "2022-08-11T10:00:36.964Z"
   },
   {
    "duration": 14,
    "start_time": "2022-08-11T10:00:37.000Z"
   },
   {
    "duration": 28,
    "start_time": "2022-08-11T10:00:37.016Z"
   },
   {
    "duration": 4,
    "start_time": "2022-08-11T10:00:37.045Z"
   },
   {
    "duration": 39,
    "start_time": "2022-08-11T10:00:37.051Z"
   },
   {
    "duration": 14,
    "start_time": "2022-08-11T10:00:37.091Z"
   },
   {
    "duration": 10,
    "start_time": "2022-08-11T10:00:37.107Z"
   },
   {
    "duration": 141,
    "start_time": "2022-08-11T10:00:37.118Z"
   },
   {
    "duration": 33,
    "start_time": "2022-08-11T10:00:37.260Z"
   },
   {
    "duration": 22,
    "start_time": "2022-08-11T10:00:37.295Z"
   },
   {
    "duration": 18,
    "start_time": "2022-08-11T10:00:37.318Z"
   },
   {
    "duration": 18,
    "start_time": "2022-08-11T10:00:37.338Z"
   },
   {
    "duration": 44,
    "start_time": "2022-08-11T10:00:37.358Z"
   },
   {
    "duration": 140,
    "start_time": "2022-08-11T10:00:37.404Z"
   },
   {
    "duration": 39,
    "start_time": "2022-08-11T10:01:10.768Z"
   },
   {
    "duration": 404,
    "start_time": "2022-08-11T13:42:25.065Z"
   },
   {
    "duration": 218,
    "start_time": "2022-08-11T13:42:25.471Z"
   },
   {
    "duration": 17,
    "start_time": "2022-08-11T13:42:25.691Z"
   },
   {
    "duration": 79,
    "start_time": "2022-08-11T13:42:25.710Z"
   },
   {
    "duration": 10,
    "start_time": "2022-08-11T13:42:25.790Z"
   },
   {
    "duration": 28,
    "start_time": "2022-08-11T13:42:25.801Z"
   },
   {
    "duration": 30,
    "start_time": "2022-08-11T13:42:25.830Z"
   },
   {
    "duration": 12,
    "start_time": "2022-08-11T13:42:25.862Z"
   },
   {
    "duration": 27,
    "start_time": "2022-08-11T13:42:25.876Z"
   },
   {
    "duration": 4,
    "start_time": "2022-08-11T13:42:25.904Z"
   },
   {
    "duration": 17,
    "start_time": "2022-08-11T13:42:25.910Z"
   },
   {
    "duration": 13,
    "start_time": "2022-08-11T13:42:25.956Z"
   },
   {
    "duration": 8,
    "start_time": "2022-08-11T13:42:25.971Z"
   },
   {
    "duration": 156,
    "start_time": "2022-08-11T13:42:25.981Z"
   },
   {
    "duration": 19,
    "start_time": "2022-08-11T13:42:26.138Z"
   },
   {
    "duration": 14,
    "start_time": "2022-08-11T13:42:26.158Z"
   },
   {
    "duration": 16,
    "start_time": "2022-08-11T13:42:26.174Z"
   },
   {
    "duration": 17,
    "start_time": "2022-08-11T13:42:26.192Z"
   },
   {
    "duration": 18,
    "start_time": "2022-08-11T13:42:26.211Z"
   },
   {
    "duration": 549,
    "start_time": "2022-08-11T13:42:26.231Z"
   },
   {
    "duration": 541,
    "start_time": "2022-08-11T13:42:40.217Z"
   },
   {
    "duration": 1020,
    "start_time": "2022-08-11T13:43:00.499Z"
   },
   {
    "duration": 514,
    "start_time": "2022-08-11T13:43:42.620Z"
   },
   {
    "duration": 3,
    "start_time": "2022-08-11T13:44:18.513Z"
   },
   {
    "duration": 90,
    "start_time": "2022-08-11T13:44:18.520Z"
   },
   {
    "duration": 12,
    "start_time": "2022-08-11T13:44:18.612Z"
   },
   {
    "duration": 45,
    "start_time": "2022-08-11T13:44:18.626Z"
   },
   {
    "duration": 9,
    "start_time": "2022-08-11T13:44:18.673Z"
   },
   {
    "duration": 24,
    "start_time": "2022-08-11T13:44:18.684Z"
   },
   {
    "duration": 30,
    "start_time": "2022-08-11T13:44:18.710Z"
   },
   {
    "duration": 25,
    "start_time": "2022-08-11T13:44:18.741Z"
   },
   {
    "duration": 28,
    "start_time": "2022-08-11T13:44:18.768Z"
   },
   {
    "duration": 5,
    "start_time": "2022-08-11T13:44:18.798Z"
   },
   {
    "duration": 17,
    "start_time": "2022-08-11T13:44:18.805Z"
   },
   {
    "duration": 44,
    "start_time": "2022-08-11T13:44:18.824Z"
   },
   {
    "duration": 9,
    "start_time": "2022-08-11T13:44:18.869Z"
   },
   {
    "duration": 138,
    "start_time": "2022-08-11T13:44:18.880Z"
   },
   {
    "duration": 14,
    "start_time": "2022-08-11T13:44:19.020Z"
   },
   {
    "duration": 35,
    "start_time": "2022-08-11T13:44:19.035Z"
   },
   {
    "duration": 18,
    "start_time": "2022-08-11T13:44:19.071Z"
   },
   {
    "duration": 19,
    "start_time": "2022-08-11T13:44:19.090Z"
   },
   {
    "duration": 17,
    "start_time": "2022-08-11T13:44:19.110Z"
   },
   {
    "duration": 73,
    "start_time": "2022-08-11T13:44:19.128Z"
   },
   {
    "duration": 2,
    "start_time": "2022-08-11T13:44:49.376Z"
   },
   {
    "duration": 94,
    "start_time": "2022-08-11T13:44:49.380Z"
   },
   {
    "duration": 13,
    "start_time": "2022-08-11T13:44:49.476Z"
   },
   {
    "duration": 58,
    "start_time": "2022-08-11T13:44:49.490Z"
   },
   {
    "duration": 10,
    "start_time": "2022-08-11T13:44:49.550Z"
   },
   {
    "duration": 25,
    "start_time": "2022-08-11T13:44:49.562Z"
   },
   {
    "duration": 34,
    "start_time": "2022-08-11T13:44:49.589Z"
   },
   {
    "duration": 11,
    "start_time": "2022-08-11T13:44:49.625Z"
   },
   {
    "duration": 43,
    "start_time": "2022-08-11T13:44:49.638Z"
   },
   {
    "duration": 4,
    "start_time": "2022-08-11T13:44:49.683Z"
   },
   {
    "duration": 19,
    "start_time": "2022-08-11T13:44:49.688Z"
   },
   {
    "duration": 14,
    "start_time": "2022-08-11T13:44:49.709Z"
   },
   {
    "duration": 35,
    "start_time": "2022-08-11T13:44:49.725Z"
   },
   {
    "duration": 136,
    "start_time": "2022-08-11T13:44:49.763Z"
   },
   {
    "duration": 14,
    "start_time": "2022-08-11T13:44:49.901Z"
   },
   {
    "duration": 16,
    "start_time": "2022-08-11T13:44:49.917Z"
   },
   {
    "duration": 18,
    "start_time": "2022-08-11T13:44:49.957Z"
   },
   {
    "duration": 22,
    "start_time": "2022-08-11T13:44:49.977Z"
   },
   {
    "duration": 16,
    "start_time": "2022-08-11T13:44:50.001Z"
   },
   {
    "duration": 309,
    "start_time": "2022-08-11T13:44:50.019Z"
   },
   {
    "duration": 3,
    "start_time": "2022-08-11T13:46:31.592Z"
   },
   {
    "duration": 110,
    "start_time": "2022-08-11T13:46:31.599Z"
   },
   {
    "duration": 14,
    "start_time": "2022-08-11T13:46:31.711Z"
   },
   {
    "duration": 44,
    "start_time": "2022-08-11T13:46:31.727Z"
   },
   {
    "duration": 11,
    "start_time": "2022-08-11T13:46:31.773Z"
   },
   {
    "duration": 30,
    "start_time": "2022-08-11T13:46:31.785Z"
   },
   {
    "duration": 42,
    "start_time": "2022-08-11T13:46:31.816Z"
   },
   {
    "duration": 14,
    "start_time": "2022-08-11T13:46:31.860Z"
   },
   {
    "duration": 57,
    "start_time": "2022-08-11T13:46:31.876Z"
   },
   {
    "duration": 5,
    "start_time": "2022-08-11T13:46:31.935Z"
   },
   {
    "duration": 23,
    "start_time": "2022-08-11T13:46:31.943Z"
   },
   {
    "duration": 18,
    "start_time": "2022-08-11T13:46:31.968Z"
   },
   {
    "duration": 12,
    "start_time": "2022-08-11T13:46:31.988Z"
   },
   {
    "duration": 148,
    "start_time": "2022-08-11T13:46:32.002Z"
   },
   {
    "duration": 19,
    "start_time": "2022-08-11T13:46:32.156Z"
   },
   {
    "duration": 30,
    "start_time": "2022-08-11T13:46:32.177Z"
   },
   {
    "duration": 20,
    "start_time": "2022-08-11T13:46:32.210Z"
   },
   {
    "duration": 42,
    "start_time": "2022-08-11T13:46:32.232Z"
   },
   {
    "duration": 17,
    "start_time": "2022-08-11T13:46:32.275Z"
   },
   {
    "duration": 109,
    "start_time": "2022-08-11T13:46:32.295Z"
   },
   {
    "duration": 35,
    "start_time": "2022-08-11T13:53:34.656Z"
   },
   {
    "duration": 3,
    "start_time": "2022-08-11T13:53:55.222Z"
   },
   {
    "duration": 122,
    "start_time": "2022-08-11T13:53:55.227Z"
   },
   {
    "duration": 16,
    "start_time": "2022-08-11T13:53:55.351Z"
   },
   {
    "duration": 51,
    "start_time": "2022-08-11T13:53:55.369Z"
   },
   {
    "duration": 9,
    "start_time": "2022-08-11T13:53:55.422Z"
   },
   {
    "duration": 24,
    "start_time": "2022-08-11T13:53:55.433Z"
   },
   {
    "duration": 32,
    "start_time": "2022-08-11T13:53:55.459Z"
   },
   {
    "duration": 14,
    "start_time": "2022-08-11T13:53:55.493Z"
   },
   {
    "duration": 51,
    "start_time": "2022-08-11T13:53:55.509Z"
   },
   {
    "duration": 5,
    "start_time": "2022-08-11T13:53:55.562Z"
   },
   {
    "duration": 18,
    "start_time": "2022-08-11T13:53:55.568Z"
   },
   {
    "duration": 18,
    "start_time": "2022-08-11T13:53:55.588Z"
   },
   {
    "duration": 22,
    "start_time": "2022-08-11T13:53:55.608Z"
   },
   {
    "duration": 155,
    "start_time": "2022-08-11T13:53:55.634Z"
   },
   {
    "duration": 14,
    "start_time": "2022-08-11T13:53:55.790Z"
   },
   {
    "duration": 16,
    "start_time": "2022-08-11T13:53:55.806Z"
   },
   {
    "duration": 38,
    "start_time": "2022-08-11T13:53:55.824Z"
   },
   {
    "duration": 21,
    "start_time": "2022-08-11T13:53:55.863Z"
   },
   {
    "duration": 16,
    "start_time": "2022-08-11T13:53:55.886Z"
   },
   {
    "duration": 37,
    "start_time": "2022-08-11T13:53:55.903Z"
   },
   {
    "duration": 3,
    "start_time": "2022-08-11T13:54:17.875Z"
   },
   {
    "duration": 92,
    "start_time": "2022-08-11T13:54:17.881Z"
   },
   {
    "duration": 13,
    "start_time": "2022-08-11T13:54:17.974Z"
   },
   {
    "duration": 48,
    "start_time": "2022-08-11T13:54:17.989Z"
   },
   {
    "duration": 16,
    "start_time": "2022-08-11T13:54:18.039Z"
   },
   {
    "duration": 48,
    "start_time": "2022-08-11T13:54:18.058Z"
   },
   {
    "duration": 34,
    "start_time": "2022-08-11T13:54:18.108Z"
   },
   {
    "duration": 13,
    "start_time": "2022-08-11T13:54:18.143Z"
   },
   {
    "duration": 29,
    "start_time": "2022-08-11T13:54:18.157Z"
   },
   {
    "duration": 4,
    "start_time": "2022-08-11T13:54:18.187Z"
   },
   {
    "duration": 22,
    "start_time": "2022-08-11T13:54:18.193Z"
   },
   {
    "duration": 19,
    "start_time": "2022-08-11T13:54:18.217Z"
   },
   {
    "duration": 23,
    "start_time": "2022-08-11T13:54:18.238Z"
   },
   {
    "duration": 143,
    "start_time": "2022-08-11T13:54:18.263Z"
   },
   {
    "duration": 14,
    "start_time": "2022-08-11T13:54:18.408Z"
   },
   {
    "duration": 35,
    "start_time": "2022-08-11T13:54:18.423Z"
   },
   {
    "duration": 18,
    "start_time": "2022-08-11T13:54:18.459Z"
   },
   {
    "duration": 22,
    "start_time": "2022-08-11T13:54:18.478Z"
   },
   {
    "duration": 66,
    "start_time": "2022-08-11T13:54:18.502Z"
   },
   {
    "duration": 3229,
    "start_time": "2022-08-11T13:54:18.570Z"
   },
   {
    "duration": 8,
    "start_time": "2022-08-11T13:55:21.256Z"
   },
   {
    "duration": 2,
    "start_time": "2022-08-11T13:56:01.717Z"
   },
   {
    "duration": 90,
    "start_time": "2022-08-11T13:56:01.739Z"
   },
   {
    "duration": 14,
    "start_time": "2022-08-11T13:56:01.831Z"
   },
   {
    "duration": 62,
    "start_time": "2022-08-11T13:56:01.847Z"
   },
   {
    "duration": 11,
    "start_time": "2022-08-11T13:56:01.911Z"
   },
   {
    "duration": 24,
    "start_time": "2022-08-11T13:56:01.924Z"
   },
   {
    "duration": 33,
    "start_time": "2022-08-11T13:56:01.950Z"
   },
   {
    "duration": 14,
    "start_time": "2022-08-11T13:56:01.984Z"
   },
   {
    "duration": 30,
    "start_time": "2022-08-11T13:56:01.999Z"
   },
   {
    "duration": 4,
    "start_time": "2022-08-11T13:56:02.031Z"
   },
   {
    "duration": 21,
    "start_time": "2022-08-11T13:56:02.058Z"
   },
   {
    "duration": 30,
    "start_time": "2022-08-11T13:56:02.081Z"
   },
   {
    "duration": 11,
    "start_time": "2022-08-11T13:56:02.113Z"
   },
   {
    "duration": 140,
    "start_time": "2022-08-11T13:56:02.126Z"
   },
   {
    "duration": 14,
    "start_time": "2022-08-11T13:56:02.268Z"
   },
   {
    "duration": 15,
    "start_time": "2022-08-11T13:56:02.284Z"
   },
   {
    "duration": 16,
    "start_time": "2022-08-11T13:56:02.301Z"
   },
   {
    "duration": 51,
    "start_time": "2022-08-11T13:56:02.319Z"
   },
   {
    "duration": 17,
    "start_time": "2022-08-11T13:56:02.372Z"
   },
   {
    "duration": 125,
    "start_time": "2022-08-11T13:56:02.618Z"
   },
   {
    "duration": 217,
    "start_time": "2022-08-11T13:56:43.970Z"
   },
   {
    "duration": 120,
    "start_time": "2022-08-11T13:56:53.927Z"
   },
   {
    "duration": 14,
    "start_time": "2022-08-11T13:57:00.503Z"
   },
   {
    "duration": 35,
    "start_time": "2022-08-11T14:09:10.823Z"
   },
   {
    "duration": 2,
    "start_time": "2022-08-11T14:11:18.897Z"
   },
   {
    "duration": 92,
    "start_time": "2022-08-11T14:11:18.903Z"
   },
   {
    "duration": 13,
    "start_time": "2022-08-11T14:11:18.997Z"
   },
   {
    "duration": 52,
    "start_time": "2022-08-11T14:11:19.012Z"
   },
   {
    "duration": 10,
    "start_time": "2022-08-11T14:11:19.066Z"
   },
   {
    "duration": 25,
    "start_time": "2022-08-11T14:11:19.077Z"
   },
   {
    "duration": 31,
    "start_time": "2022-08-11T14:11:19.104Z"
   },
   {
    "duration": 32,
    "start_time": "2022-08-11T14:11:19.136Z"
   },
   {
    "duration": 28,
    "start_time": "2022-08-11T14:11:19.170Z"
   },
   {
    "duration": 4,
    "start_time": "2022-08-11T14:11:19.200Z"
   },
   {
    "duration": 21,
    "start_time": "2022-08-11T14:11:19.206Z"
   },
   {
    "duration": 38,
    "start_time": "2022-08-11T14:11:19.229Z"
   },
   {
    "duration": 10,
    "start_time": "2022-08-11T14:11:19.268Z"
   },
   {
    "duration": 132,
    "start_time": "2022-08-11T14:11:19.286Z"
   },
   {
    "duration": 38,
    "start_time": "2022-08-11T14:11:19.420Z"
   },
   {
    "duration": 21,
    "start_time": "2022-08-11T14:11:19.460Z"
   },
   {
    "duration": 21,
    "start_time": "2022-08-11T14:11:19.483Z"
   },
   {
    "duration": 19,
    "start_time": "2022-08-11T14:11:19.505Z"
   },
   {
    "duration": 47,
    "start_time": "2022-08-11T14:11:19.526Z"
   },
   {
    "duration": 42,
    "start_time": "2022-08-11T14:11:19.574Z"
   },
   {
    "duration": 126,
    "start_time": "2022-08-11T14:11:34.660Z"
   },
   {
    "duration": 37,
    "start_time": "2022-08-11T14:11:47.421Z"
   },
   {
    "duration": 2,
    "start_time": "2022-08-11T14:13:25.159Z"
   },
   {
    "duration": 121,
    "start_time": "2022-08-11T14:13:25.166Z"
   },
   {
    "duration": 18,
    "start_time": "2022-08-11T14:13:25.289Z"
   },
   {
    "duration": 45,
    "start_time": "2022-08-11T14:13:25.310Z"
   },
   {
    "duration": 11,
    "start_time": "2022-08-11T14:13:25.358Z"
   },
   {
    "duration": 26,
    "start_time": "2022-08-11T14:13:25.371Z"
   },
   {
    "duration": 32,
    "start_time": "2022-08-11T14:13:25.398Z"
   },
   {
    "duration": 30,
    "start_time": "2022-08-11T14:13:25.432Z"
   },
   {
    "duration": 28,
    "start_time": "2022-08-11T14:13:25.464Z"
   },
   {
    "duration": 4,
    "start_time": "2022-08-11T14:13:25.494Z"
   },
   {
    "duration": 16,
    "start_time": "2022-08-11T14:13:25.500Z"
   },
   {
    "duration": 40,
    "start_time": "2022-08-11T14:13:25.517Z"
   },
   {
    "duration": 9,
    "start_time": "2022-08-11T14:13:25.559Z"
   },
   {
    "duration": 146,
    "start_time": "2022-08-11T14:13:25.570Z"
   },
   {
    "duration": 40,
    "start_time": "2022-08-11T14:13:25.718Z"
   },
   {
    "duration": 21,
    "start_time": "2022-08-11T14:13:25.760Z"
   },
   {
    "duration": 17,
    "start_time": "2022-08-11T14:13:25.783Z"
   },
   {
    "duration": 18,
    "start_time": "2022-08-11T14:13:25.802Z"
   },
   {
    "duration": 41,
    "start_time": "2022-08-11T14:13:25.822Z"
   },
   {
    "duration": 130,
    "start_time": "2022-08-11T14:13:25.865Z"
   },
   {
    "duration": 46,
    "start_time": "2022-08-12T05:35:37.563Z"
   },
   {
    "duration": 392,
    "start_time": "2022-08-12T05:35:41.979Z"
   },
   {
    "duration": 213,
    "start_time": "2022-08-12T05:35:42.373Z"
   },
   {
    "duration": 13,
    "start_time": "2022-08-12T05:35:42.588Z"
   },
   {
    "duration": 79,
    "start_time": "2022-08-12T05:35:42.602Z"
   },
   {
    "duration": 9,
    "start_time": "2022-08-12T05:35:42.682Z"
   },
   {
    "duration": 27,
    "start_time": "2022-08-12T05:35:42.692Z"
   },
   {
    "duration": 30,
    "start_time": "2022-08-12T05:35:42.720Z"
   },
   {
    "duration": 12,
    "start_time": "2022-08-12T05:35:42.752Z"
   },
   {
    "duration": 48,
    "start_time": "2022-08-12T05:35:42.766Z"
   },
   {
    "duration": 4,
    "start_time": "2022-08-12T05:35:42.817Z"
   },
   {
    "duration": 17,
    "start_time": "2022-08-12T05:35:42.823Z"
   },
   {
    "duration": 12,
    "start_time": "2022-08-12T05:35:42.841Z"
   },
   {
    "duration": 7,
    "start_time": "2022-08-12T05:35:42.854Z"
   },
   {
    "duration": 78,
    "start_time": "2022-08-12T05:35:42.863Z"
   },
   {
    "duration": 12,
    "start_time": "2022-08-12T05:35:42.943Z"
   },
   {
    "duration": 16,
    "start_time": "2022-08-12T05:35:42.956Z"
   },
   {
    "duration": 31,
    "start_time": "2022-08-12T05:35:42.973Z"
   },
   {
    "duration": 21,
    "start_time": "2022-08-12T05:35:43.006Z"
   },
   {
    "duration": 14,
    "start_time": "2022-08-12T05:35:43.028Z"
   },
   {
    "duration": 48,
    "start_time": "2022-08-12T05:35:43.044Z"
   },
   {
    "duration": 46,
    "start_time": "2022-08-12T05:35:58.497Z"
   },
   {
    "duration": 52,
    "start_time": "2022-08-12T05:36:03.670Z"
   },
   {
    "duration": 45,
    "start_time": "2022-08-12T05:36:12.100Z"
   },
   {
    "duration": 41,
    "start_time": "2022-08-12T05:36:24.036Z"
   },
   {
    "duration": 14,
    "start_time": "2022-08-12T05:36:36.794Z"
   },
   {
    "duration": 39,
    "start_time": "2022-08-12T05:39:51.024Z"
   },
   {
    "duration": 29,
    "start_time": "2022-08-12T05:40:14.454Z"
   },
   {
    "duration": 23,
    "start_time": "2022-08-12T05:40:21.591Z"
   },
   {
    "duration": 18,
    "start_time": "2022-08-12T05:41:58.851Z"
   },
   {
    "duration": 36,
    "start_time": "2022-08-12T05:42:33.000Z"
   },
   {
    "duration": 17,
    "start_time": "2022-08-12T05:43:16.707Z"
   },
   {
    "duration": 19,
    "start_time": "2022-08-12T05:44:44.604Z"
   },
   {
    "duration": 7,
    "start_time": "2022-08-12T05:47:14.479Z"
   },
   {
    "duration": 6,
    "start_time": "2022-08-12T05:47:24.336Z"
   },
   {
    "duration": 12,
    "start_time": "2022-08-12T05:47:36.092Z"
   },
   {
    "duration": 9,
    "start_time": "2022-08-12T05:47:42.591Z"
   },
   {
    "duration": 7,
    "start_time": "2022-08-12T05:47:53.560Z"
   },
   {
    "duration": 12,
    "start_time": "2022-08-12T06:01:08.999Z"
   },
   {
    "duration": 15,
    "start_time": "2022-08-12T06:01:40.258Z"
   },
   {
    "duration": 353,
    "start_time": "2022-08-13T08:34:01.072Z"
   },
   {
    "duration": 224,
    "start_time": "2022-08-13T08:34:01.427Z"
   },
   {
    "duration": 14,
    "start_time": "2022-08-13T08:34:01.653Z"
   },
   {
    "duration": 100,
    "start_time": "2022-08-13T08:34:01.668Z"
   },
   {
    "duration": 9,
    "start_time": "2022-08-13T08:34:01.771Z"
   },
   {
    "duration": 28,
    "start_time": "2022-08-13T08:34:01.782Z"
   },
   {
    "duration": 30,
    "start_time": "2022-08-13T08:34:01.812Z"
   },
   {
    "duration": 13,
    "start_time": "2022-08-13T08:34:01.844Z"
   },
   {
    "duration": 55,
    "start_time": "2022-08-13T08:34:01.859Z"
   },
   {
    "duration": 4,
    "start_time": "2022-08-13T08:34:01.916Z"
   },
   {
    "duration": 24,
    "start_time": "2022-08-13T08:34:01.921Z"
   },
   {
    "duration": 11,
    "start_time": "2022-08-13T08:34:01.947Z"
   },
   {
    "duration": 9,
    "start_time": "2022-08-13T08:34:01.959Z"
   },
   {
    "duration": 68,
    "start_time": "2022-08-13T08:34:01.970Z"
   },
   {
    "duration": 11,
    "start_time": "2022-08-13T08:34:02.039Z"
   },
   {
    "duration": 30,
    "start_time": "2022-08-13T08:34:02.051Z"
   },
   {
    "duration": 30,
    "start_time": "2022-08-13T08:34:02.083Z"
   },
   {
    "duration": 17,
    "start_time": "2022-08-13T08:34:02.115Z"
   },
   {
    "duration": 40,
    "start_time": "2022-08-13T08:34:02.133Z"
   },
   {
    "duration": 18,
    "start_time": "2022-08-13T08:34:02.175Z"
   },
   {
    "duration": 31,
    "start_time": "2022-08-13T08:34:02.195Z"
   },
   {
    "duration": 52,
    "start_time": "2022-08-13T08:43:10.838Z"
   },
   {
    "duration": 70,
    "start_time": "2022-08-13T08:43:16.211Z"
   },
   {
    "duration": 4,
    "start_time": "2022-08-13T08:43:23.449Z"
   },
   {
    "duration": 9,
    "start_time": "2022-08-13T08:43:44.348Z"
   },
   {
    "duration": 6,
    "start_time": "2022-08-13T08:44:10.434Z"
   },
   {
    "duration": 7,
    "start_time": "2022-08-13T08:47:40.923Z"
   },
   {
    "duration": 140,
    "start_time": "2022-08-13T08:50:17.663Z"
   },
   {
    "duration": 918,
    "start_time": "2022-08-13T08:50:26.749Z"
   },
   {
    "duration": 35,
    "start_time": "2022-08-13T08:50:44.155Z"
   },
   {
    "duration": 41,
    "start_time": "2022-08-13T08:51:00.231Z"
   },
   {
    "duration": 2,
    "start_time": "2022-08-13T08:51:33.966Z"
   },
   {
    "duration": 97,
    "start_time": "2022-08-13T08:51:33.971Z"
   },
   {
    "duration": 13,
    "start_time": "2022-08-13T08:51:34.069Z"
   },
   {
    "duration": 49,
    "start_time": "2022-08-13T08:51:34.083Z"
   },
   {
    "duration": 9,
    "start_time": "2022-08-13T08:51:34.134Z"
   },
   {
    "duration": 23,
    "start_time": "2022-08-13T08:51:34.144Z"
   },
   {
    "duration": 29,
    "start_time": "2022-08-13T08:51:34.169Z"
   },
   {
    "duration": 18,
    "start_time": "2022-08-13T08:51:34.200Z"
   },
   {
    "duration": 25,
    "start_time": "2022-08-13T08:51:34.220Z"
   },
   {
    "duration": 3,
    "start_time": "2022-08-13T08:51:34.247Z"
   },
   {
    "duration": 14,
    "start_time": "2022-08-13T08:51:34.253Z"
   },
   {
    "duration": 11,
    "start_time": "2022-08-13T08:51:34.269Z"
   },
   {
    "duration": 9,
    "start_time": "2022-08-13T08:51:34.311Z"
   },
   {
    "duration": 52,
    "start_time": "2022-08-13T08:51:34.321Z"
   },
   {
    "duration": 13,
    "start_time": "2022-08-13T08:51:34.375Z"
   },
   {
    "duration": 33,
    "start_time": "2022-08-13T08:51:34.389Z"
   },
   {
    "duration": 16,
    "start_time": "2022-08-13T08:51:34.424Z"
   },
   {
    "duration": 15,
    "start_time": "2022-08-13T08:51:34.442Z"
   },
   {
    "duration": 55,
    "start_time": "2022-08-13T08:51:34.459Z"
   },
   {
    "duration": 17,
    "start_time": "2022-08-13T08:51:34.516Z"
   },
   {
    "duration": 8,
    "start_time": "2022-08-13T08:51:34.534Z"
   },
   {
    "duration": 38,
    "start_time": "2022-08-13T08:51:34.543Z"
   },
   {
    "duration": 48,
    "start_time": "2022-08-13T08:52:17.864Z"
   },
   {
    "duration": 3,
    "start_time": "2022-08-13T08:52:32.916Z"
   },
   {
    "duration": 107,
    "start_time": "2022-08-13T08:52:32.920Z"
   },
   {
    "duration": 11,
    "start_time": "2022-08-13T08:52:33.029Z"
   },
   {
    "duration": 43,
    "start_time": "2022-08-13T08:52:33.042Z"
   },
   {
    "duration": 9,
    "start_time": "2022-08-13T08:52:33.086Z"
   },
   {
    "duration": 25,
    "start_time": "2022-08-13T08:52:33.096Z"
   },
   {
    "duration": 29,
    "start_time": "2022-08-13T08:52:33.122Z"
   },
   {
    "duration": 12,
    "start_time": "2022-08-13T08:52:33.152Z"
   },
   {
    "duration": 44,
    "start_time": "2022-08-13T08:52:33.167Z"
   },
   {
    "duration": 4,
    "start_time": "2022-08-13T08:52:33.213Z"
   },
   {
    "duration": 18,
    "start_time": "2022-08-13T08:52:33.218Z"
   },
   {
    "duration": 27,
    "start_time": "2022-08-13T08:52:33.237Z"
   },
   {
    "duration": 20,
    "start_time": "2022-08-13T08:52:33.265Z"
   },
   {
    "duration": 23,
    "start_time": "2022-08-13T08:52:33.287Z"
   },
   {
    "duration": 58,
    "start_time": "2022-08-13T08:52:33.312Z"
   },
   {
    "duration": 9,
    "start_time": "2022-08-13T08:54:21.025Z"
   },
   {
    "duration": 2,
    "start_time": "2022-08-13T08:54:28.270Z"
   },
   {
    "duration": 99,
    "start_time": "2022-08-13T08:54:28.274Z"
   },
   {
    "duration": 12,
    "start_time": "2022-08-13T08:54:28.375Z"
   },
   {
    "duration": 48,
    "start_time": "2022-08-13T08:54:28.388Z"
   },
   {
    "duration": 10,
    "start_time": "2022-08-13T08:54:28.437Z"
   },
   {
    "duration": 22,
    "start_time": "2022-08-13T08:54:28.448Z"
   },
   {
    "duration": 30,
    "start_time": "2022-08-13T08:54:28.471Z"
   },
   {
    "duration": 18,
    "start_time": "2022-08-13T08:54:28.503Z"
   },
   {
    "duration": 25,
    "start_time": "2022-08-13T08:54:28.522Z"
   },
   {
    "duration": 4,
    "start_time": "2022-08-13T08:54:28.548Z"
   },
   {
    "duration": 16,
    "start_time": "2022-08-13T08:54:28.554Z"
   },
   {
    "duration": 11,
    "start_time": "2022-08-13T08:54:28.572Z"
   },
   {
    "duration": 33,
    "start_time": "2022-08-13T08:54:28.585Z"
   },
   {
    "duration": 8,
    "start_time": "2022-08-13T08:54:28.620Z"
   },
   {
    "duration": 13,
    "start_time": "2022-08-13T08:55:40.039Z"
   },
   {
    "duration": 3,
    "start_time": "2022-08-13T08:56:12.533Z"
   },
   {
    "duration": 140,
    "start_time": "2022-08-13T08:56:12.538Z"
   },
   {
    "duration": 18,
    "start_time": "2022-08-13T08:56:12.680Z"
   },
   {
    "duration": 62,
    "start_time": "2022-08-13T08:56:12.701Z"
   },
   {
    "duration": 12,
    "start_time": "2022-08-13T08:56:12.765Z"
   },
   {
    "duration": 33,
    "start_time": "2022-08-13T08:56:12.779Z"
   },
   {
    "duration": 36,
    "start_time": "2022-08-13T08:56:12.814Z"
   },
   {
    "duration": 11,
    "start_time": "2022-08-13T08:56:12.851Z"
   },
   {
    "duration": 26,
    "start_time": "2022-08-13T08:56:12.865Z"
   },
   {
    "duration": 20,
    "start_time": "2022-08-13T08:56:12.893Z"
   },
   {
    "duration": 18,
    "start_time": "2022-08-13T08:56:12.915Z"
   },
   {
    "duration": 12,
    "start_time": "2022-08-13T08:56:12.935Z"
   },
   {
    "duration": 8,
    "start_time": "2022-08-13T08:56:12.948Z"
   },
   {
    "duration": 11,
    "start_time": "2022-08-13T08:56:12.958Z"
   },
   {
    "duration": 40,
    "start_time": "2022-08-13T08:56:12.971Z"
   },
   {
    "duration": 15,
    "start_time": "2022-08-13T08:56:13.013Z"
   },
   {
    "duration": 16,
    "start_time": "2022-08-13T08:56:13.029Z"
   },
   {
    "duration": 15,
    "start_time": "2022-08-13T08:56:13.047Z"
   },
   {
    "duration": 55,
    "start_time": "2022-08-13T08:56:13.063Z"
   },
   {
    "duration": 17,
    "start_time": "2022-08-13T08:56:13.120Z"
   },
   {
    "duration": 8,
    "start_time": "2022-08-13T08:56:13.138Z"
   },
   {
    "duration": 5,
    "start_time": "2022-08-13T08:56:42.154Z"
   },
   {
    "duration": 7,
    "start_time": "2022-08-13T08:57:17.584Z"
   },
   {
    "duration": 8,
    "start_time": "2022-08-13T08:57:23.409Z"
   },
   {
    "duration": 7,
    "start_time": "2022-08-13T08:57:40.645Z"
   },
   {
    "duration": 39,
    "start_time": "2022-08-13T08:58:52.617Z"
   },
   {
    "duration": 6,
    "start_time": "2022-08-13T08:59:00.119Z"
   },
   {
    "duration": 29,
    "start_time": "2022-08-13T08:59:46.449Z"
   },
   {
    "duration": 7,
    "start_time": "2022-08-13T08:59:47.777Z"
   },
   {
    "duration": 8,
    "start_time": "2022-08-13T09:00:37.204Z"
   },
   {
    "duration": 12,
    "start_time": "2022-08-13T09:00:50.449Z"
   },
   {
    "duration": 35,
    "start_time": "2022-08-13T09:01:31.019Z"
   },
   {
    "duration": 7,
    "start_time": "2022-08-13T09:01:33.241Z"
   },
   {
    "duration": 51,
    "start_time": "2022-08-13T09:02:30.238Z"
   },
   {
    "duration": 8,
    "start_time": "2022-08-13T09:02:32.573Z"
   },
   {
    "duration": 12,
    "start_time": "2022-08-13T09:02:34.509Z"
   },
   {
    "duration": 42,
    "start_time": "2022-08-13T09:03:01.111Z"
   },
   {
    "duration": 8,
    "start_time": "2022-08-13T09:03:03.542Z"
   },
   {
    "duration": 12,
    "start_time": "2022-08-13T09:03:05.649Z"
   },
   {
    "duration": 3,
    "start_time": "2022-08-13T09:03:41.366Z"
   },
   {
    "duration": 105,
    "start_time": "2022-08-13T09:03:41.371Z"
   },
   {
    "duration": 13,
    "start_time": "2022-08-13T09:03:41.478Z"
   },
   {
    "duration": 46,
    "start_time": "2022-08-13T09:03:41.492Z"
   },
   {
    "duration": 8,
    "start_time": "2022-08-13T09:03:41.540Z"
   },
   {
    "duration": 21,
    "start_time": "2022-08-13T09:03:41.550Z"
   },
   {
    "duration": 29,
    "start_time": "2022-08-13T09:03:41.572Z"
   },
   {
    "duration": 12,
    "start_time": "2022-08-13T09:03:41.602Z"
   },
   {
    "duration": 26,
    "start_time": "2022-08-13T09:03:41.615Z"
   },
   {
    "duration": 4,
    "start_time": "2022-08-13T09:03:41.643Z"
   },
   {
    "duration": 26,
    "start_time": "2022-08-13T09:03:41.649Z"
   },
   {
    "duration": 13,
    "start_time": "2022-08-13T09:03:41.676Z"
   },
   {
    "duration": 25,
    "start_time": "2022-08-13T09:03:41.690Z"
   },
   {
    "duration": 12,
    "start_time": "2022-08-13T09:03:41.717Z"
   },
   {
    "duration": 12,
    "start_time": "2022-08-13T09:03:41.731Z"
   },
   {
    "duration": 13,
    "start_time": "2022-08-13T09:03:41.745Z"
   },
   {
    "duration": 15,
    "start_time": "2022-08-13T09:03:41.760Z"
   },
   {
    "duration": 47,
    "start_time": "2022-08-13T09:03:41.776Z"
   },
   {
    "duration": 36,
    "start_time": "2022-08-13T09:03:41.824Z"
   },
   {
    "duration": 18,
    "start_time": "2022-08-13T09:03:41.861Z"
   },
   {
    "duration": 4,
    "start_time": "2022-08-13T09:03:41.880Z"
   },
   {
    "duration": 31,
    "start_time": "2022-08-13T09:03:41.886Z"
   },
   {
    "duration": 45,
    "start_time": "2022-08-13T09:03:41.919Z"
   },
   {
    "duration": 6,
    "start_time": "2022-08-13T09:03:41.966Z"
   },
   {
    "duration": 12,
    "start_time": "2022-08-13T09:03:41.973Z"
   },
   {
    "duration": 50,
    "start_time": "2022-08-13T09:04:21.131Z"
   },
   {
    "duration": 3,
    "start_time": "2022-08-13T09:04:34.250Z"
   },
   {
    "duration": 100,
    "start_time": "2022-08-13T09:04:34.255Z"
   },
   {
    "duration": 13,
    "start_time": "2022-08-13T09:04:34.357Z"
   },
   {
    "duration": 42,
    "start_time": "2022-08-13T09:04:34.371Z"
   },
   {
    "duration": 10,
    "start_time": "2022-08-13T09:04:34.415Z"
   },
   {
    "duration": 22,
    "start_time": "2022-08-13T09:04:34.426Z"
   },
   {
    "duration": 32,
    "start_time": "2022-08-13T09:04:34.449Z"
   },
   {
    "duration": 31,
    "start_time": "2022-08-13T09:04:34.483Z"
   },
   {
    "duration": 27,
    "start_time": "2022-08-13T09:04:34.515Z"
   },
   {
    "duration": 4,
    "start_time": "2022-08-13T09:04:34.544Z"
   },
   {
    "duration": 28,
    "start_time": "2022-08-13T09:04:34.549Z"
   },
   {
    "duration": 13,
    "start_time": "2022-08-13T09:04:34.578Z"
   },
   {
    "duration": 9,
    "start_time": "2022-08-13T09:04:34.611Z"
   },
   {
    "duration": 12,
    "start_time": "2022-08-13T09:04:34.624Z"
   },
   {
    "duration": 13,
    "start_time": "2022-08-13T09:04:34.638Z"
   },
   {
    "duration": 15,
    "start_time": "2022-08-13T09:04:34.653Z"
   },
   {
    "duration": 45,
    "start_time": "2022-08-13T09:04:34.669Z"
   },
   {
    "duration": 17,
    "start_time": "2022-08-13T09:04:34.715Z"
   },
   {
    "duration": 32,
    "start_time": "2022-08-13T09:04:34.734Z"
   },
   {
    "duration": 16,
    "start_time": "2022-08-13T09:04:34.767Z"
   },
   {
    "duration": 28,
    "start_time": "2022-08-13T09:04:34.784Z"
   },
   {
    "duration": 8,
    "start_time": "2022-08-13T09:04:34.813Z"
   },
   {
    "duration": 75,
    "start_time": "2022-08-13T09:04:34.823Z"
   },
   {
    "duration": 6,
    "start_time": "2022-08-13T09:04:34.911Z"
   },
   {
    "duration": 12,
    "start_time": "2022-08-13T09:04:34.919Z"
   },
   {
    "duration": 3,
    "start_time": "2022-08-13T09:05:15.258Z"
   },
   {
    "duration": 113,
    "start_time": "2022-08-13T09:05:15.263Z"
   },
   {
    "duration": 18,
    "start_time": "2022-08-13T09:05:15.377Z"
   },
   {
    "duration": 49,
    "start_time": "2022-08-13T09:05:15.410Z"
   },
   {
    "duration": 12,
    "start_time": "2022-08-13T09:05:15.461Z"
   },
   {
    "duration": 37,
    "start_time": "2022-08-13T09:05:15.475Z"
   },
   {
    "duration": 32,
    "start_time": "2022-08-13T09:05:15.514Z"
   },
   {
    "duration": 14,
    "start_time": "2022-08-13T09:05:15.547Z"
   },
   {
    "duration": 55,
    "start_time": "2022-08-13T09:05:15.564Z"
   },
   {
    "duration": 5,
    "start_time": "2022-08-13T09:05:15.621Z"
   },
   {
    "duration": 19,
    "start_time": "2022-08-13T09:05:15.628Z"
   },
   {
    "duration": 18,
    "start_time": "2022-08-13T09:05:15.648Z"
   },
   {
    "duration": 9,
    "start_time": "2022-08-13T09:05:15.668Z"
   },
   {
    "duration": 43,
    "start_time": "2022-08-13T09:05:15.679Z"
   },
   {
    "duration": 16,
    "start_time": "2022-08-13T09:05:15.724Z"
   },
   {
    "duration": 19,
    "start_time": "2022-08-13T09:05:15.742Z"
   },
   {
    "duration": 21,
    "start_time": "2022-08-13T09:05:15.763Z"
   },
   {
    "duration": 32,
    "start_time": "2022-08-13T09:05:15.786Z"
   },
   {
    "duration": 36,
    "start_time": "2022-08-13T09:05:15.820Z"
   },
   {
    "duration": 17,
    "start_time": "2022-08-13T09:05:15.857Z"
   },
   {
    "duration": 4,
    "start_time": "2022-08-13T09:05:15.876Z"
   },
   {
    "duration": 36,
    "start_time": "2022-08-13T09:05:15.882Z"
   },
   {
    "duration": 8,
    "start_time": "2022-08-13T09:05:15.920Z"
   },
   {
    "duration": 55,
    "start_time": "2022-08-13T09:05:15.931Z"
   },
   {
    "duration": 28,
    "start_time": "2022-08-13T09:05:15.988Z"
   },
   {
    "duration": 14,
    "start_time": "2022-08-13T09:05:16.017Z"
   },
   {
    "duration": 77,
    "start_time": "2022-08-13T09:07:01.246Z"
   },
   {
    "duration": 9,
    "start_time": "2022-08-13T09:07:02.521Z"
   },
   {
    "duration": 3,
    "start_time": "2022-08-13T09:07:10.428Z"
   },
   {
    "duration": 96,
    "start_time": "2022-08-13T09:07:10.433Z"
   },
   {
    "duration": 15,
    "start_time": "2022-08-13T09:07:10.531Z"
   },
   {
    "duration": 43,
    "start_time": "2022-08-13T09:07:10.548Z"
   },
   {
    "duration": 9,
    "start_time": "2022-08-13T09:07:10.594Z"
   },
   {
    "duration": 22,
    "start_time": "2022-08-13T09:07:10.604Z"
   },
   {
    "duration": 31,
    "start_time": "2022-08-13T09:07:10.628Z"
   },
   {
    "duration": 12,
    "start_time": "2022-08-13T09:07:10.661Z"
   },
   {
    "duration": 47,
    "start_time": "2022-08-13T09:07:10.674Z"
   },
   {
    "duration": 4,
    "start_time": "2022-08-13T09:07:10.723Z"
   },
   {
    "duration": 18,
    "start_time": "2022-08-13T09:07:10.728Z"
   },
   {
    "duration": 13,
    "start_time": "2022-08-13T09:07:10.747Z"
   },
   {
    "duration": 8,
    "start_time": "2022-08-13T09:07:10.762Z"
   },
   {
    "duration": 51,
    "start_time": "2022-08-13T09:07:10.772Z"
   },
   {
    "duration": 16,
    "start_time": "2022-08-13T09:07:10.826Z"
   },
   {
    "duration": 15,
    "start_time": "2022-08-13T09:07:10.844Z"
   },
   {
    "duration": 17,
    "start_time": "2022-08-13T09:07:10.861Z"
   },
   {
    "duration": 46,
    "start_time": "2022-08-13T09:07:10.880Z"
   },
   {
    "duration": 35,
    "start_time": "2022-08-13T09:07:10.928Z"
   },
   {
    "duration": 25,
    "start_time": "2022-08-13T09:07:10.965Z"
   },
   {
    "duration": 5,
    "start_time": "2022-08-13T09:07:11.010Z"
   },
   {
    "duration": 15,
    "start_time": "2022-08-13T09:07:11.016Z"
   },
   {
    "duration": 7,
    "start_time": "2022-08-13T09:07:11.033Z"
   },
   {
    "duration": 80,
    "start_time": "2022-08-13T09:07:11.042Z"
   },
   {
    "duration": 6,
    "start_time": "2022-08-13T09:07:11.124Z"
   },
   {
    "duration": 13,
    "start_time": "2022-08-13T09:07:11.132Z"
   },
   {
    "duration": 14,
    "start_time": "2022-08-13T09:08:30.534Z"
   },
   {
    "duration": 11,
    "start_time": "2022-08-13T09:08:35.475Z"
   },
   {
    "duration": 7,
    "start_time": "2022-08-13T09:08:44.725Z"
   },
   {
    "duration": 6,
    "start_time": "2022-08-13T09:09:10.320Z"
   },
   {
    "duration": 38,
    "start_time": "2022-08-13T09:10:23.173Z"
   },
   {
    "duration": 39,
    "start_time": "2022-08-13T09:11:03.403Z"
   },
   {
    "duration": 47,
    "start_time": "2022-08-13T09:11:07.388Z"
   },
   {
    "duration": 3,
    "start_time": "2022-08-13T09:17:17.388Z"
   },
   {
    "duration": 117,
    "start_time": "2022-08-13T09:17:17.393Z"
   },
   {
    "duration": 13,
    "start_time": "2022-08-13T09:17:17.512Z"
   },
   {
    "duration": 47,
    "start_time": "2022-08-13T09:17:17.527Z"
   },
   {
    "duration": 11,
    "start_time": "2022-08-13T09:17:17.576Z"
   },
   {
    "duration": 24,
    "start_time": "2022-08-13T09:17:17.589Z"
   },
   {
    "duration": 31,
    "start_time": "2022-08-13T09:17:17.615Z"
   },
   {
    "duration": 13,
    "start_time": "2022-08-13T09:17:17.648Z"
   },
   {
    "duration": 56,
    "start_time": "2022-08-13T09:17:17.664Z"
   },
   {
    "duration": 5,
    "start_time": "2022-08-13T09:17:17.722Z"
   },
   {
    "duration": 26,
    "start_time": "2022-08-13T09:17:17.729Z"
   },
   {
    "duration": 15,
    "start_time": "2022-08-13T09:17:17.757Z"
   },
   {
    "duration": 38,
    "start_time": "2022-08-13T09:17:17.774Z"
   },
   {
    "duration": 18,
    "start_time": "2022-08-13T09:17:17.813Z"
   },
   {
    "duration": 13,
    "start_time": "2022-08-13T09:17:17.832Z"
   },
   {
    "duration": 16,
    "start_time": "2022-08-13T09:17:17.847Z"
   },
   {
    "duration": 46,
    "start_time": "2022-08-13T09:17:17.865Z"
   },
   {
    "duration": 16,
    "start_time": "2022-08-13T09:17:17.913Z"
   },
   {
    "duration": 34,
    "start_time": "2022-08-13T09:17:17.931Z"
   },
   {
    "duration": 17,
    "start_time": "2022-08-13T09:17:17.967Z"
   },
   {
    "duration": 27,
    "start_time": "2022-08-13T09:17:17.986Z"
   },
   {
    "duration": 15,
    "start_time": "2022-08-13T09:17:18.015Z"
   },
   {
    "duration": 7,
    "start_time": "2022-08-13T09:17:18.031Z"
   },
   {
    "duration": 15,
    "start_time": "2022-08-13T09:17:18.041Z"
   },
   {
    "duration": 0,
    "start_time": "2022-08-13T09:17:18.058Z"
   },
   {
    "duration": 0,
    "start_time": "2022-08-13T09:17:18.059Z"
   },
   {
    "duration": 12,
    "start_time": "2022-08-13T09:18:04.994Z"
   },
   {
    "duration": 14,
    "start_time": "2022-08-13T09:18:16.811Z"
   },
   {
    "duration": 6,
    "start_time": "2022-08-13T09:18:23.823Z"
   },
   {
    "duration": 18,
    "start_time": "2022-08-13T09:18:32.548Z"
   },
   {
    "duration": 3,
    "start_time": "2022-08-13T09:26:39.095Z"
   },
   {
    "duration": 121,
    "start_time": "2022-08-13T09:26:39.100Z"
   },
   {
    "duration": 13,
    "start_time": "2022-08-13T09:26:39.223Z"
   },
   {
    "duration": 55,
    "start_time": "2022-08-13T09:26:39.237Z"
   },
   {
    "duration": 9,
    "start_time": "2022-08-13T09:26:39.293Z"
   },
   {
    "duration": 56,
    "start_time": "2022-08-13T09:26:39.303Z"
   },
   {
    "duration": 40,
    "start_time": "2022-08-13T09:26:39.360Z"
   },
   {
    "duration": 26,
    "start_time": "2022-08-13T09:26:39.401Z"
   },
   {
    "duration": 58,
    "start_time": "2022-08-13T09:26:39.429Z"
   },
   {
    "duration": 5,
    "start_time": "2022-08-13T09:26:39.489Z"
   },
   {
    "duration": 42,
    "start_time": "2022-08-13T09:26:39.496Z"
   },
   {
    "duration": 19,
    "start_time": "2022-08-13T09:26:39.539Z"
   },
   {
    "duration": 15,
    "start_time": "2022-08-13T09:26:39.560Z"
   },
   {
    "duration": 28,
    "start_time": "2022-08-13T09:26:39.577Z"
   },
   {
    "duration": 28,
    "start_time": "2022-08-13T09:26:39.607Z"
   },
   {
    "duration": 30,
    "start_time": "2022-08-13T09:26:39.637Z"
   },
   {
    "duration": 29,
    "start_time": "2022-08-13T09:26:39.668Z"
   },
   {
    "duration": 33,
    "start_time": "2022-08-13T09:26:39.698Z"
   },
   {
    "duration": 41,
    "start_time": "2022-08-13T09:26:39.732Z"
   },
   {
    "duration": 17,
    "start_time": "2022-08-13T09:26:39.774Z"
   },
   {
    "duration": 5,
    "start_time": "2022-08-13T09:26:39.793Z"
   },
   {
    "duration": 22,
    "start_time": "2022-08-13T09:26:39.817Z"
   },
   {
    "duration": 10,
    "start_time": "2022-08-13T09:26:39.840Z"
   },
   {
    "duration": 31,
    "start_time": "2022-08-13T09:26:39.852Z"
   },
   {
    "duration": 20,
    "start_time": "2022-08-13T09:26:39.884Z"
   },
   {
    "duration": 33,
    "start_time": "2022-08-13T09:26:39.906Z"
   },
   {
    "duration": 15,
    "start_time": "2022-08-13T09:26:57.566Z"
   },
   {
    "duration": 6,
    "start_time": "2022-08-13T09:27:01.338Z"
   },
   {
    "duration": 14,
    "start_time": "2022-08-13T09:44:14.936Z"
   },
   {
    "duration": 6,
    "start_time": "2022-08-13T09:44:17.128Z"
   },
   {
    "duration": 77,
    "start_time": "2022-08-13T09:48:23.248Z"
   },
   {
    "duration": 32,
    "start_time": "2022-08-13T09:48:32.502Z"
   },
   {
    "duration": 38,
    "start_time": "2022-08-13T09:48:51.652Z"
   },
   {
    "duration": 10,
    "start_time": "2022-08-13T09:49:11.050Z"
   },
   {
    "duration": 3,
    "start_time": "2022-08-13T09:49:25.577Z"
   },
   {
    "duration": 98,
    "start_time": "2022-08-13T09:49:25.582Z"
   },
   {
    "duration": 13,
    "start_time": "2022-08-13T09:49:25.682Z"
   },
   {
    "duration": 43,
    "start_time": "2022-08-13T09:49:25.697Z"
   },
   {
    "duration": 9,
    "start_time": "2022-08-13T09:49:25.742Z"
   },
   {
    "duration": 24,
    "start_time": "2022-08-13T09:49:25.752Z"
   },
   {
    "duration": 30,
    "start_time": "2022-08-13T09:49:25.778Z"
   },
   {
    "duration": 19,
    "start_time": "2022-08-13T09:49:25.813Z"
   },
   {
    "duration": 34,
    "start_time": "2022-08-13T09:49:25.834Z"
   },
   {
    "duration": 4,
    "start_time": "2022-08-13T09:49:25.870Z"
   },
   {
    "duration": 23,
    "start_time": "2022-08-13T09:49:25.876Z"
   },
   {
    "duration": 16,
    "start_time": "2022-08-13T09:49:25.911Z"
   },
   {
    "duration": 11,
    "start_time": "2022-08-13T09:49:25.929Z"
   },
   {
    "duration": 16,
    "start_time": "2022-08-13T09:49:25.942Z"
   },
   {
    "duration": 12,
    "start_time": "2022-08-13T09:49:25.959Z"
   },
   {
    "duration": 16,
    "start_time": "2022-08-13T09:49:25.972Z"
   },
   {
    "duration": 40,
    "start_time": "2022-08-13T09:49:25.990Z"
   },
   {
    "duration": 17,
    "start_time": "2022-08-13T09:49:26.031Z"
   },
   {
    "duration": 33,
    "start_time": "2022-08-13T09:49:26.050Z"
   },
   {
    "duration": 44,
    "start_time": "2022-08-13T09:49:26.085Z"
   },
   {
    "duration": 4,
    "start_time": "2022-08-13T09:49:26.131Z"
   },
   {
    "duration": 15,
    "start_time": "2022-08-13T09:49:26.136Z"
   },
   {
    "duration": 6,
    "start_time": "2022-08-13T09:49:26.153Z"
   },
   {
    "duration": 64,
    "start_time": "2022-08-13T09:49:26.160Z"
   },
   {
    "duration": 9,
    "start_time": "2022-08-13T09:49:26.225Z"
   },
   {
    "duration": 3,
    "start_time": "2022-08-13T09:49:40.783Z"
   },
   {
    "duration": 100,
    "start_time": "2022-08-13T09:49:40.787Z"
   },
   {
    "duration": 12,
    "start_time": "2022-08-13T09:49:40.889Z"
   },
   {
    "duration": 52,
    "start_time": "2022-08-13T09:49:40.903Z"
   },
   {
    "duration": 9,
    "start_time": "2022-08-13T09:49:40.956Z"
   },
   {
    "duration": 24,
    "start_time": "2022-08-13T09:49:40.967Z"
   },
   {
    "duration": 38,
    "start_time": "2022-08-13T09:49:40.993Z"
   },
   {
    "duration": 13,
    "start_time": "2022-08-13T09:49:41.033Z"
   },
   {
    "duration": 28,
    "start_time": "2022-08-13T09:49:41.049Z"
   },
   {
    "duration": 4,
    "start_time": "2022-08-13T09:49:41.079Z"
   },
   {
    "duration": 54,
    "start_time": "2022-08-13T09:49:41.084Z"
   },
   {
    "duration": 19,
    "start_time": "2022-08-13T09:49:41.140Z"
   },
   {
    "duration": 8,
    "start_time": "2022-08-13T09:49:41.161Z"
   },
   {
    "duration": 15,
    "start_time": "2022-08-13T09:49:41.171Z"
   },
   {
    "duration": 39,
    "start_time": "2022-08-13T09:49:41.187Z"
   },
   {
    "duration": 21,
    "start_time": "2022-08-13T09:49:41.227Z"
   },
   {
    "duration": 16,
    "start_time": "2022-08-13T09:49:41.249Z"
   },
   {
    "duration": 17,
    "start_time": "2022-08-13T09:49:41.267Z"
   },
   {
    "duration": 58,
    "start_time": "2022-08-13T09:49:41.286Z"
   },
   {
    "duration": 18,
    "start_time": "2022-08-13T09:49:41.346Z"
   },
   {
    "duration": 5,
    "start_time": "2022-08-13T09:49:41.365Z"
   },
   {
    "duration": 14,
    "start_time": "2022-08-13T09:49:41.372Z"
   },
   {
    "duration": 42,
    "start_time": "2022-08-13T09:49:41.387Z"
   },
   {
    "duration": 28,
    "start_time": "2022-08-13T09:49:41.434Z"
   },
   {
    "duration": 16,
    "start_time": "2022-08-13T09:54:43.387Z"
   },
   {
    "duration": 3,
    "start_time": "2022-08-13T09:54:49.138Z"
   },
   {
    "duration": 99,
    "start_time": "2022-08-13T09:54:49.143Z"
   },
   {
    "duration": 12,
    "start_time": "2022-08-13T09:54:49.244Z"
   },
   {
    "duration": 43,
    "start_time": "2022-08-13T09:54:49.258Z"
   },
   {
    "duration": 31,
    "start_time": "2022-08-13T09:54:49.303Z"
   },
   {
    "duration": 29,
    "start_time": "2022-08-13T09:54:49.336Z"
   },
   {
    "duration": 33,
    "start_time": "2022-08-13T09:54:49.367Z"
   },
   {
    "duration": 17,
    "start_time": "2022-08-13T09:54:49.401Z"
   },
   {
    "duration": 28,
    "start_time": "2022-08-13T09:54:49.430Z"
   },
   {
    "duration": 5,
    "start_time": "2022-08-13T09:54:49.460Z"
   },
   {
    "duration": 19,
    "start_time": "2022-08-13T09:54:49.466Z"
   },
   {
    "duration": 12,
    "start_time": "2022-08-13T09:54:49.487Z"
   },
   {
    "duration": 25,
    "start_time": "2022-08-13T09:54:49.500Z"
   },
   {
    "duration": 13,
    "start_time": "2022-08-13T09:54:49.527Z"
   },
   {
    "duration": 11,
    "start_time": "2022-08-13T09:54:49.542Z"
   },
   {
    "duration": 12,
    "start_time": "2022-08-13T09:54:49.555Z"
   },
   {
    "duration": 45,
    "start_time": "2022-08-13T09:54:49.568Z"
   },
   {
    "duration": 21,
    "start_time": "2022-08-13T09:54:49.615Z"
   },
   {
    "duration": 34,
    "start_time": "2022-08-13T09:54:49.638Z"
   },
   {
    "duration": 50,
    "start_time": "2022-08-13T09:54:49.674Z"
   },
   {
    "duration": 5,
    "start_time": "2022-08-13T09:54:49.726Z"
   },
   {
    "duration": 15,
    "start_time": "2022-08-13T09:54:49.733Z"
   },
   {
    "duration": 6,
    "start_time": "2022-08-13T09:54:49.749Z"
   },
   {
    "duration": 13,
    "start_time": "2022-08-13T09:54:49.757Z"
   },
   {
    "duration": 3,
    "start_time": "2022-08-13T09:55:17.756Z"
   },
   {
    "duration": 104,
    "start_time": "2022-08-13T09:55:17.761Z"
   },
   {
    "duration": 14,
    "start_time": "2022-08-13T09:55:17.866Z"
   },
   {
    "duration": 50,
    "start_time": "2022-08-13T09:55:17.881Z"
   },
   {
    "duration": 9,
    "start_time": "2022-08-13T09:55:17.934Z"
   },
   {
    "duration": 22,
    "start_time": "2022-08-13T09:55:17.944Z"
   },
   {
    "duration": 29,
    "start_time": "2022-08-13T09:55:17.967Z"
   },
   {
    "duration": 28,
    "start_time": "2022-08-13T09:55:17.997Z"
   },
   {
    "duration": 28,
    "start_time": "2022-08-13T09:55:18.027Z"
   },
   {
    "duration": 4,
    "start_time": "2022-08-13T09:55:18.056Z"
   },
   {
    "duration": 21,
    "start_time": "2022-08-13T09:55:18.062Z"
   },
   {
    "duration": 37,
    "start_time": "2022-08-13T09:55:18.085Z"
   },
   {
    "duration": 10,
    "start_time": "2022-08-13T09:55:18.124Z"
   },
   {
    "duration": 13,
    "start_time": "2022-08-13T09:55:18.136Z"
   },
   {
    "duration": 11,
    "start_time": "2022-08-13T09:55:18.151Z"
   },
   {
    "duration": 12,
    "start_time": "2022-08-13T09:55:18.164Z"
   },
   {
    "duration": 47,
    "start_time": "2022-08-13T09:55:18.178Z"
   },
   {
    "duration": 18,
    "start_time": "2022-08-13T09:55:18.227Z"
   },
   {
    "duration": 36,
    "start_time": "2022-08-13T09:55:18.247Z"
   },
   {
    "duration": 32,
    "start_time": "2022-08-13T09:55:18.285Z"
   },
   {
    "duration": 10,
    "start_time": "2022-08-13T09:55:18.318Z"
   },
   {
    "duration": 12,
    "start_time": "2022-08-13T09:55:18.329Z"
   },
   {
    "duration": 6,
    "start_time": "2022-08-13T09:55:18.343Z"
   },
   {
    "duration": 15,
    "start_time": "2022-08-13T09:55:18.350Z"
   },
   {
    "duration": 7,
    "start_time": "2022-08-13T09:55:24.702Z"
   },
   {
    "duration": 13,
    "start_time": "2022-08-13T09:56:37.280Z"
   },
   {
    "duration": 2,
    "start_time": "2022-08-13T09:56:57.669Z"
   },
   {
    "duration": 105,
    "start_time": "2022-08-13T09:56:57.673Z"
   },
   {
    "duration": 14,
    "start_time": "2022-08-13T09:56:57.780Z"
   },
   {
    "duration": 56,
    "start_time": "2022-08-13T09:56:57.796Z"
   },
   {
    "duration": 9,
    "start_time": "2022-08-13T09:56:57.854Z"
   },
   {
    "duration": 22,
    "start_time": "2022-08-13T09:56:57.865Z"
   },
   {
    "duration": 40,
    "start_time": "2022-08-13T09:56:57.888Z"
   },
   {
    "duration": 14,
    "start_time": "2022-08-13T09:56:57.930Z"
   },
   {
    "duration": 29,
    "start_time": "2022-08-13T09:56:57.947Z"
   },
   {
    "duration": 5,
    "start_time": "2022-08-13T09:56:57.978Z"
   },
   {
    "duration": 45,
    "start_time": "2022-08-13T09:56:57.985Z"
   },
   {
    "duration": 13,
    "start_time": "2022-08-13T09:56:58.031Z"
   },
   {
    "duration": 9,
    "start_time": "2022-08-13T09:56:58.045Z"
   },
   {
    "duration": 13,
    "start_time": "2022-08-13T09:56:58.056Z"
   },
   {
    "duration": 12,
    "start_time": "2022-08-13T09:56:58.070Z"
   },
   {
    "duration": 44,
    "start_time": "2022-08-13T09:56:58.084Z"
   },
   {
    "duration": 20,
    "start_time": "2022-08-13T09:56:58.130Z"
   },
   {
    "duration": 20,
    "start_time": "2022-08-13T09:56:58.151Z"
   },
   {
    "duration": 60,
    "start_time": "2022-08-13T09:56:58.173Z"
   },
   {
    "duration": 18,
    "start_time": "2022-08-13T09:56:58.235Z"
   },
   {
    "duration": 4,
    "start_time": "2022-08-13T09:56:58.254Z"
   },
   {
    "duration": 15,
    "start_time": "2022-08-13T09:56:58.259Z"
   },
   {
    "duration": 6,
    "start_time": "2022-08-13T09:56:58.276Z"
   },
   {
    "duration": 43,
    "start_time": "2022-08-13T09:56:58.285Z"
   },
   {
    "duration": 21,
    "start_time": "2022-08-13T09:58:02.568Z"
   },
   {
    "duration": 3,
    "start_time": "2022-08-13T10:01:57.945Z"
   },
   {
    "duration": 125,
    "start_time": "2022-08-13T10:01:57.950Z"
   },
   {
    "duration": 12,
    "start_time": "2022-08-13T10:01:58.077Z"
   },
   {
    "duration": 68,
    "start_time": "2022-08-13T10:01:58.091Z"
   },
   {
    "duration": 9,
    "start_time": "2022-08-13T10:01:58.161Z"
   },
   {
    "duration": 25,
    "start_time": "2022-08-13T10:01:58.171Z"
   },
   {
    "duration": 37,
    "start_time": "2022-08-13T10:01:58.198Z"
   },
   {
    "duration": 16,
    "start_time": "2022-08-13T10:01:58.237Z"
   },
   {
    "duration": 29,
    "start_time": "2022-08-13T10:01:58.256Z"
   },
   {
    "duration": 4,
    "start_time": "2022-08-13T10:01:58.286Z"
   },
   {
    "duration": 42,
    "start_time": "2022-08-13T10:01:58.292Z"
   },
   {
    "duration": 17,
    "start_time": "2022-08-13T10:01:58.335Z"
   },
   {
    "duration": 18,
    "start_time": "2022-08-13T10:01:58.354Z"
   },
   {
    "duration": 12,
    "start_time": "2022-08-13T10:01:58.374Z"
   },
   {
    "duration": 12,
    "start_time": "2022-08-13T10:01:58.388Z"
   },
   {
    "duration": 27,
    "start_time": "2022-08-13T10:01:58.401Z"
   },
   {
    "duration": 24,
    "start_time": "2022-08-13T10:01:58.431Z"
   },
   {
    "duration": 16,
    "start_time": "2022-08-13T10:01:58.456Z"
   },
   {
    "duration": 61,
    "start_time": "2022-08-13T10:01:58.474Z"
   },
   {
    "duration": 19,
    "start_time": "2022-08-13T10:01:58.537Z"
   },
   {
    "duration": 5,
    "start_time": "2022-08-13T10:01:58.558Z"
   },
   {
    "duration": 24,
    "start_time": "2022-08-13T10:01:58.565Z"
   },
   {
    "duration": 27,
    "start_time": "2022-08-13T10:01:58.590Z"
   },
   {
    "duration": 36,
    "start_time": "2022-08-13T10:01:58.624Z"
   },
   {
    "duration": 6,
    "start_time": "2022-08-13T10:01:58.662Z"
   },
   {
    "duration": 44,
    "start_time": "2022-08-13T10:02:27.833Z"
   },
   {
    "duration": 11,
    "start_time": "2022-08-13T10:02:43.353Z"
   },
   {
    "duration": 31,
    "start_time": "2022-08-13T10:02:56.442Z"
   },
   {
    "duration": 3,
    "start_time": "2022-08-13T10:03:02.580Z"
   },
   {
    "duration": 150,
    "start_time": "2022-08-13T10:03:02.585Z"
   },
   {
    "duration": 15,
    "start_time": "2022-08-13T10:03:02.737Z"
   },
   {
    "duration": 55,
    "start_time": "2022-08-13T10:03:02.754Z"
   },
   {
    "duration": 12,
    "start_time": "2022-08-13T10:03:02.824Z"
   },
   {
    "duration": 33,
    "start_time": "2022-08-13T10:03:02.837Z"
   },
   {
    "duration": 55,
    "start_time": "2022-08-13T10:03:02.872Z"
   },
   {
    "duration": 13,
    "start_time": "2022-08-13T10:03:02.929Z"
   },
   {
    "duration": 45,
    "start_time": "2022-08-13T10:03:02.943Z"
   },
   {
    "duration": 4,
    "start_time": "2022-08-13T10:03:02.990Z"
   },
   {
    "duration": 26,
    "start_time": "2022-08-13T10:03:02.995Z"
   },
   {
    "duration": 39,
    "start_time": "2022-08-13T10:03:03.022Z"
   },
   {
    "duration": 17,
    "start_time": "2022-08-13T10:03:03.062Z"
   },
   {
    "duration": 15,
    "start_time": "2022-08-13T10:03:03.082Z"
   },
   {
    "duration": 21,
    "start_time": "2022-08-13T10:03:03.099Z"
   },
   {
    "duration": 23,
    "start_time": "2022-08-13T10:03:03.122Z"
   },
   {
    "duration": 16,
    "start_time": "2022-08-13T10:03:03.146Z"
   },
   {
    "duration": 39,
    "start_time": "2022-08-13T10:03:03.163Z"
   },
   {
    "duration": 37,
    "start_time": "2022-08-13T10:03:03.203Z"
   },
   {
    "duration": 16,
    "start_time": "2022-08-13T10:03:03.242Z"
   },
   {
    "duration": 14,
    "start_time": "2022-08-13T10:03:03.260Z"
   },
   {
    "duration": 25,
    "start_time": "2022-08-13T10:03:03.275Z"
   },
   {
    "duration": 63,
    "start_time": "2022-08-13T10:03:03.302Z"
   },
   {
    "duration": 31,
    "start_time": "2022-08-13T10:03:03.367Z"
   },
   {
    "duration": 3,
    "start_time": "2022-08-13T10:04:12.035Z"
   },
   {
    "duration": 104,
    "start_time": "2022-08-13T10:04:12.040Z"
   },
   {
    "duration": 12,
    "start_time": "2022-08-13T10:04:12.145Z"
   },
   {
    "duration": 42,
    "start_time": "2022-08-13T10:04:12.159Z"
   },
   {
    "duration": 19,
    "start_time": "2022-08-13T10:04:12.203Z"
   },
   {
    "duration": 25,
    "start_time": "2022-08-13T10:04:12.223Z"
   },
   {
    "duration": 29,
    "start_time": "2022-08-13T10:04:12.250Z"
   },
   {
    "duration": 12,
    "start_time": "2022-08-13T10:04:12.280Z"
   },
   {
    "duration": 46,
    "start_time": "2022-08-13T10:04:12.293Z"
   },
   {
    "duration": 4,
    "start_time": "2022-08-13T10:04:12.340Z"
   },
   {
    "duration": 16,
    "start_time": "2022-08-13T10:04:12.347Z"
   },
   {
    "duration": 11,
    "start_time": "2022-08-13T10:04:12.365Z"
   },
   {
    "duration": 7,
    "start_time": "2022-08-13T10:04:12.378Z"
   },
   {
    "duration": 40,
    "start_time": "2022-08-13T10:04:12.387Z"
   },
   {
    "duration": 12,
    "start_time": "2022-08-13T10:04:12.428Z"
   },
   {
    "duration": 29,
    "start_time": "2022-08-13T10:04:12.442Z"
   },
   {
    "duration": 21,
    "start_time": "2022-08-13T10:04:12.472Z"
   },
   {
    "duration": 51,
    "start_time": "2022-08-13T10:04:12.494Z"
   },
   {
    "duration": 40,
    "start_time": "2022-08-13T10:04:12.546Z"
   },
   {
    "duration": 17,
    "start_time": "2022-08-13T10:04:12.588Z"
   },
   {
    "duration": 22,
    "start_time": "2022-08-13T10:04:12.618Z"
   },
   {
    "duration": 23,
    "start_time": "2022-08-13T10:04:12.641Z"
   },
   {
    "duration": 47,
    "start_time": "2022-08-13T10:04:12.666Z"
   },
   {
    "duration": 3,
    "start_time": "2022-08-13T10:06:57.989Z"
   },
   {
    "duration": 113,
    "start_time": "2022-08-13T10:06:57.995Z"
   },
   {
    "duration": 21,
    "start_time": "2022-08-13T10:06:58.110Z"
   },
   {
    "duration": 43,
    "start_time": "2022-08-13T10:06:58.134Z"
   },
   {
    "duration": 10,
    "start_time": "2022-08-13T10:06:58.179Z"
   },
   {
    "duration": 31,
    "start_time": "2022-08-13T10:06:58.191Z"
   },
   {
    "duration": 31,
    "start_time": "2022-08-13T10:06:58.224Z"
   },
   {
    "duration": 12,
    "start_time": "2022-08-13T10:06:58.257Z"
   },
   {
    "duration": 26,
    "start_time": "2022-08-13T10:06:58.271Z"
   },
   {
    "duration": 6,
    "start_time": "2022-08-13T10:06:58.313Z"
   },
   {
    "duration": 19,
    "start_time": "2022-08-13T10:06:58.322Z"
   },
   {
    "duration": 15,
    "start_time": "2022-08-13T10:06:58.342Z"
   },
   {
    "duration": 8,
    "start_time": "2022-08-13T10:06:58.358Z"
   },
   {
    "duration": 13,
    "start_time": "2022-08-13T10:06:58.368Z"
   },
   {
    "duration": 43,
    "start_time": "2022-08-13T10:06:58.382Z"
   },
   {
    "duration": 14,
    "start_time": "2022-08-13T10:06:58.427Z"
   },
   {
    "duration": 16,
    "start_time": "2022-08-13T10:06:58.442Z"
   },
   {
    "duration": 17,
    "start_time": "2022-08-13T10:06:58.459Z"
   },
   {
    "duration": 62,
    "start_time": "2022-08-13T10:06:58.478Z"
   },
   {
    "duration": 19,
    "start_time": "2022-08-13T10:06:58.541Z"
   },
   {
    "duration": 6,
    "start_time": "2022-08-13T10:06:58.562Z"
   },
   {
    "duration": 20,
    "start_time": "2022-08-13T10:06:58.569Z"
   },
   {
    "duration": 47,
    "start_time": "2022-08-13T10:06:58.590Z"
   },
   {
    "duration": 3,
    "start_time": "2022-08-13T10:07:09.358Z"
   },
   {
    "duration": 112,
    "start_time": "2022-08-13T10:07:09.363Z"
   },
   {
    "duration": 12,
    "start_time": "2022-08-13T10:07:09.477Z"
   },
   {
    "duration": 50,
    "start_time": "2022-08-13T10:07:09.491Z"
   },
   {
    "duration": 9,
    "start_time": "2022-08-13T10:07:09.542Z"
   },
   {
    "duration": 22,
    "start_time": "2022-08-13T10:07:09.553Z"
   },
   {
    "duration": 33,
    "start_time": "2022-08-13T10:07:09.577Z"
   },
   {
    "duration": 14,
    "start_time": "2022-08-13T10:07:09.623Z"
   },
   {
    "duration": 27,
    "start_time": "2022-08-13T10:07:09.639Z"
   },
   {
    "duration": 4,
    "start_time": "2022-08-13T10:07:09.668Z"
   },
   {
    "duration": 19,
    "start_time": "2022-08-13T10:07:09.673Z"
   },
   {
    "duration": 31,
    "start_time": "2022-08-13T10:07:09.693Z"
   },
   {
    "duration": 11,
    "start_time": "2022-08-13T10:07:09.725Z"
   },
   {
    "duration": 16,
    "start_time": "2022-08-13T10:07:09.737Z"
   },
   {
    "duration": 11,
    "start_time": "2022-08-13T10:07:09.755Z"
   },
   {
    "duration": 14,
    "start_time": "2022-08-13T10:07:09.768Z"
   },
   {
    "duration": 44,
    "start_time": "2022-08-13T10:07:09.784Z"
   },
   {
    "duration": 18,
    "start_time": "2022-08-13T10:07:09.830Z"
   },
   {
    "duration": 35,
    "start_time": "2022-08-13T10:07:09.850Z"
   },
   {
    "duration": 41,
    "start_time": "2022-08-13T10:07:09.887Z"
   },
   {
    "duration": 13,
    "start_time": "2022-08-13T10:07:09.930Z"
   },
   {
    "duration": 14,
    "start_time": "2022-08-13T10:07:09.944Z"
   },
   {
    "duration": 36,
    "start_time": "2022-08-13T10:07:09.959Z"
   },
   {
    "duration": 29,
    "start_time": "2022-08-13T10:07:36.071Z"
   },
   {
    "duration": 3,
    "start_time": "2022-08-13T10:07:46.026Z"
   },
   {
    "duration": 108,
    "start_time": "2022-08-13T10:07:46.031Z"
   },
   {
    "duration": 13,
    "start_time": "2022-08-13T10:07:46.140Z"
   },
   {
    "duration": 45,
    "start_time": "2022-08-13T10:07:46.156Z"
   },
   {
    "duration": 24,
    "start_time": "2022-08-13T10:07:46.202Z"
   },
   {
    "duration": 27,
    "start_time": "2022-08-13T10:07:46.227Z"
   },
   {
    "duration": 31,
    "start_time": "2022-08-13T10:07:46.256Z"
   },
   {
    "duration": 25,
    "start_time": "2022-08-13T10:07:46.289Z"
   },
   {
    "duration": 29,
    "start_time": "2022-08-13T10:07:46.318Z"
   },
   {
    "duration": 4,
    "start_time": "2022-08-13T10:07:46.350Z"
   },
   {
    "duration": 23,
    "start_time": "2022-08-13T10:07:46.356Z"
   },
   {
    "duration": 16,
    "start_time": "2022-08-13T10:07:46.381Z"
   },
   {
    "duration": 29,
    "start_time": "2022-08-13T10:07:46.399Z"
   },
   {
    "duration": 13,
    "start_time": "2022-08-13T10:07:46.429Z"
   },
   {
    "duration": 14,
    "start_time": "2022-08-13T10:07:46.443Z"
   },
   {
    "duration": 14,
    "start_time": "2022-08-13T10:07:46.459Z"
   },
   {
    "duration": 47,
    "start_time": "2022-08-13T10:07:46.475Z"
   },
   {
    "duration": 18,
    "start_time": "2022-08-13T10:07:46.524Z"
   },
   {
    "duration": 34,
    "start_time": "2022-08-13T10:07:46.543Z"
   },
   {
    "duration": 38,
    "start_time": "2022-08-13T10:07:46.579Z"
   },
   {
    "duration": 5,
    "start_time": "2022-08-13T10:07:46.623Z"
   },
   {
    "duration": 21,
    "start_time": "2022-08-13T10:07:46.630Z"
   },
   {
    "duration": 28,
    "start_time": "2022-08-13T10:07:46.653Z"
   },
   {
    "duration": 10,
    "start_time": "2022-08-13T10:07:46.683Z"
   },
   {
    "duration": 3,
    "start_time": "2022-08-13T10:11:07.867Z"
   },
   {
    "duration": 105,
    "start_time": "2022-08-13T10:11:07.872Z"
   },
   {
    "duration": 14,
    "start_time": "2022-08-13T10:11:07.979Z"
   },
   {
    "duration": 48,
    "start_time": "2022-08-13T10:11:07.995Z"
   },
   {
    "duration": 9,
    "start_time": "2022-08-13T10:11:08.045Z"
   },
   {
    "duration": 30,
    "start_time": "2022-08-13T10:11:08.056Z"
   },
   {
    "duration": 39,
    "start_time": "2022-08-13T10:11:08.088Z"
   },
   {
    "duration": 14,
    "start_time": "2022-08-13T10:11:08.129Z"
   },
   {
    "duration": 27,
    "start_time": "2022-08-13T10:11:08.144Z"
   },
   {
    "duration": 4,
    "start_time": "2022-08-13T10:11:08.174Z"
   },
   {
    "duration": 43,
    "start_time": "2022-08-13T10:11:08.180Z"
   },
   {
    "duration": 28,
    "start_time": "2022-08-13T10:11:08.226Z"
   },
   {
    "duration": 13,
    "start_time": "2022-08-13T10:11:08.256Z"
   },
   {
    "duration": 16,
    "start_time": "2022-08-13T10:11:08.271Z"
   },
   {
    "duration": 24,
    "start_time": "2022-08-13T10:11:08.289Z"
   },
   {
    "duration": 29,
    "start_time": "2022-08-13T10:11:08.315Z"
   },
   {
    "duration": 24,
    "start_time": "2022-08-13T10:11:08.346Z"
   },
   {
    "duration": 24,
    "start_time": "2022-08-13T10:11:08.372Z"
   },
   {
    "duration": 42,
    "start_time": "2022-08-13T10:11:08.411Z"
   },
   {
    "duration": 18,
    "start_time": "2022-08-13T10:11:08.455Z"
   },
   {
    "duration": 5,
    "start_time": "2022-08-13T10:11:08.474Z"
   },
   {
    "duration": 44,
    "start_time": "2022-08-13T10:11:08.481Z"
   },
   {
    "duration": 39,
    "start_time": "2022-08-13T10:11:08.527Z"
   },
   {
    "duration": 3,
    "start_time": "2022-08-13T10:11:24.273Z"
   },
   {
    "duration": 114,
    "start_time": "2022-08-13T10:11:24.278Z"
   },
   {
    "duration": 15,
    "start_time": "2022-08-13T10:11:24.394Z"
   },
   {
    "duration": 58,
    "start_time": "2022-08-13T10:11:24.411Z"
   },
   {
    "duration": 10,
    "start_time": "2022-08-13T10:11:24.471Z"
   },
   {
    "duration": 43,
    "start_time": "2022-08-13T10:11:24.482Z"
   },
   {
    "duration": 50,
    "start_time": "2022-08-13T10:11:24.527Z"
   },
   {
    "duration": 16,
    "start_time": "2022-08-13T10:11:24.579Z"
   },
   {
    "duration": 54,
    "start_time": "2022-08-13T10:11:24.597Z"
   },
   {
    "duration": 4,
    "start_time": "2022-08-13T10:11:24.654Z"
   },
   {
    "duration": 30,
    "start_time": "2022-08-13T10:11:24.659Z"
   },
   {
    "duration": 51,
    "start_time": "2022-08-13T10:11:24.691Z"
   },
   {
    "duration": 25,
    "start_time": "2022-08-13T10:11:24.744Z"
   },
   {
    "duration": 22,
    "start_time": "2022-08-13T10:11:24.770Z"
   },
   {
    "duration": 27,
    "start_time": "2022-08-13T10:11:24.793Z"
   },
   {
    "duration": 38,
    "start_time": "2022-08-13T10:11:24.822Z"
   },
   {
    "duration": 17,
    "start_time": "2022-08-13T10:11:24.862Z"
   },
   {
    "duration": 17,
    "start_time": "2022-08-13T10:11:24.881Z"
   },
   {
    "duration": 49,
    "start_time": "2022-08-13T10:11:24.900Z"
   },
   {
    "duration": 37,
    "start_time": "2022-08-13T10:11:24.950Z"
   },
   {
    "duration": 22,
    "start_time": "2022-08-13T10:11:24.989Z"
   },
   {
    "duration": 43,
    "start_time": "2022-08-13T10:11:25.018Z"
   },
   {
    "duration": 47,
    "start_time": "2022-08-13T10:11:25.062Z"
   },
   {
    "duration": 2,
    "start_time": "2022-08-13T10:11:49.978Z"
   },
   {
    "duration": 107,
    "start_time": "2022-08-13T10:11:49.982Z"
   },
   {
    "duration": 13,
    "start_time": "2022-08-13T10:11:50.091Z"
   },
   {
    "duration": 56,
    "start_time": "2022-08-13T10:11:50.105Z"
   },
   {
    "duration": 9,
    "start_time": "2022-08-13T10:11:50.163Z"
   },
   {
    "duration": 23,
    "start_time": "2022-08-13T10:11:50.174Z"
   },
   {
    "duration": 45,
    "start_time": "2022-08-13T10:11:50.198Z"
   },
   {
    "duration": 19,
    "start_time": "2022-08-13T10:11:50.245Z"
   },
   {
    "duration": 28,
    "start_time": "2022-08-13T10:11:50.265Z"
   },
   {
    "duration": 12,
    "start_time": "2022-08-13T10:11:50.314Z"
   },
   {
    "duration": 23,
    "start_time": "2022-08-13T10:11:50.328Z"
   },
   {
    "duration": 13,
    "start_time": "2022-08-13T10:11:50.352Z"
   },
   {
    "duration": 8,
    "start_time": "2022-08-13T10:11:50.366Z"
   },
   {
    "duration": 12,
    "start_time": "2022-08-13T10:11:50.377Z"
   },
   {
    "duration": 33,
    "start_time": "2022-08-13T10:11:50.391Z"
   },
   {
    "duration": 17,
    "start_time": "2022-08-13T10:11:50.426Z"
   },
   {
    "duration": 15,
    "start_time": "2022-08-13T10:11:50.445Z"
   },
   {
    "duration": 18,
    "start_time": "2022-08-13T10:11:50.462Z"
   },
   {
    "duration": 51,
    "start_time": "2022-08-13T10:11:50.482Z"
   },
   {
    "duration": 18,
    "start_time": "2022-08-13T10:11:50.534Z"
   },
   {
    "duration": 4,
    "start_time": "2022-08-13T10:11:50.554Z"
   },
   {
    "duration": 14,
    "start_time": "2022-08-13T10:11:50.559Z"
   },
   {
    "duration": 64,
    "start_time": "2022-08-13T10:11:50.574Z"
   },
   {
    "duration": 3,
    "start_time": "2022-08-13T10:12:03.749Z"
   },
   {
    "duration": 115,
    "start_time": "2022-08-13T10:12:03.753Z"
   },
   {
    "duration": 12,
    "start_time": "2022-08-13T10:12:03.870Z"
   },
   {
    "duration": 48,
    "start_time": "2022-08-13T10:12:03.883Z"
   },
   {
    "duration": 9,
    "start_time": "2022-08-13T10:12:03.932Z"
   },
   {
    "duration": 21,
    "start_time": "2022-08-13T10:12:03.943Z"
   },
   {
    "duration": 33,
    "start_time": "2022-08-13T10:12:03.966Z"
   },
   {
    "duration": 32,
    "start_time": "2022-08-13T10:12:04.001Z"
   },
   {
    "duration": 37,
    "start_time": "2022-08-13T10:12:04.036Z"
   },
   {
    "duration": 7,
    "start_time": "2022-08-13T10:12:04.075Z"
   },
   {
    "duration": 25,
    "start_time": "2022-08-13T10:12:04.083Z"
   },
   {
    "duration": 38,
    "start_time": "2022-08-13T10:12:04.109Z"
   },
   {
    "duration": 12,
    "start_time": "2022-08-13T10:12:04.149Z"
   },
   {
    "duration": 26,
    "start_time": "2022-08-13T10:12:04.162Z"
   },
   {
    "duration": 12,
    "start_time": "2022-08-13T10:12:04.189Z"
   },
   {
    "duration": 29,
    "start_time": "2022-08-13T10:12:04.203Z"
   },
   {
    "duration": 21,
    "start_time": "2022-08-13T10:12:04.234Z"
   },
   {
    "duration": 15,
    "start_time": "2022-08-13T10:12:04.256Z"
   },
   {
    "duration": 48,
    "start_time": "2022-08-13T10:12:04.273Z"
   },
   {
    "duration": 18,
    "start_time": "2022-08-13T10:12:04.323Z"
   },
   {
    "duration": 8,
    "start_time": "2022-08-13T10:12:04.342Z"
   },
   {
    "duration": 34,
    "start_time": "2022-08-13T10:12:04.351Z"
   },
   {
    "duration": 37,
    "start_time": "2022-08-13T10:12:04.387Z"
   },
   {
    "duration": 3,
    "start_time": "2022-08-13T10:12:31.524Z"
   },
   {
    "duration": 106,
    "start_time": "2022-08-13T10:12:31.529Z"
   },
   {
    "duration": 12,
    "start_time": "2022-08-13T10:12:31.637Z"
   },
   {
    "duration": 48,
    "start_time": "2022-08-13T10:12:31.651Z"
   },
   {
    "duration": 13,
    "start_time": "2022-08-13T10:12:31.701Z"
   },
   {
    "duration": 30,
    "start_time": "2022-08-13T10:12:31.716Z"
   },
   {
    "duration": 30,
    "start_time": "2022-08-13T10:12:31.747Z"
   },
   {
    "duration": 13,
    "start_time": "2022-08-13T10:12:31.778Z"
   },
   {
    "duration": 49,
    "start_time": "2022-08-13T10:12:31.793Z"
   },
   {
    "duration": 4,
    "start_time": "2022-08-13T10:12:31.843Z"
   },
   {
    "duration": 16,
    "start_time": "2022-08-13T10:12:31.849Z"
   },
   {
    "duration": 15,
    "start_time": "2022-08-13T10:12:31.867Z"
   },
   {
    "duration": 10,
    "start_time": "2022-08-13T10:12:31.883Z"
   },
   {
    "duration": 18,
    "start_time": "2022-08-13T10:12:31.912Z"
   },
   {
    "duration": 13,
    "start_time": "2022-08-13T10:12:31.933Z"
   },
   {
    "duration": 16,
    "start_time": "2022-08-13T10:12:31.947Z"
   },
   {
    "duration": 16,
    "start_time": "2022-08-13T10:12:31.964Z"
   },
   {
    "duration": 55,
    "start_time": "2022-08-13T10:12:31.982Z"
   },
   {
    "duration": 36,
    "start_time": "2022-08-13T10:12:32.039Z"
   },
   {
    "duration": 17,
    "start_time": "2022-08-13T10:12:32.077Z"
   },
   {
    "duration": 26,
    "start_time": "2022-08-13T10:12:32.095Z"
   },
   {
    "duration": 16,
    "start_time": "2022-08-13T10:12:32.123Z"
   },
   {
    "duration": 29,
    "start_time": "2022-08-13T10:12:32.141Z"
   },
   {
    "duration": 3,
    "start_time": "2022-08-13T10:12:42.599Z"
   },
   {
    "duration": 132,
    "start_time": "2022-08-13T10:12:42.605Z"
   },
   {
    "duration": 19,
    "start_time": "2022-08-13T10:12:42.739Z"
   },
   {
    "duration": 47,
    "start_time": "2022-08-13T10:12:42.760Z"
   },
   {
    "duration": 17,
    "start_time": "2022-08-13T10:12:42.809Z"
   },
   {
    "duration": 29,
    "start_time": "2022-08-13T10:12:42.828Z"
   },
   {
    "duration": 32,
    "start_time": "2022-08-13T10:12:42.859Z"
   },
   {
    "duration": 31,
    "start_time": "2022-08-13T10:12:42.892Z"
   },
   {
    "duration": 29,
    "start_time": "2022-08-13T10:12:42.926Z"
   },
   {
    "duration": 4,
    "start_time": "2022-08-13T10:12:42.957Z"
   },
   {
    "duration": 16,
    "start_time": "2022-08-13T10:12:42.963Z"
   },
   {
    "duration": 14,
    "start_time": "2022-08-13T10:12:42.981Z"
   },
   {
    "duration": 16,
    "start_time": "2022-08-13T10:12:43.011Z"
   },
   {
    "duration": 14,
    "start_time": "2022-08-13T10:12:43.029Z"
   },
   {
    "duration": 12,
    "start_time": "2022-08-13T10:12:43.045Z"
   },
   {
    "duration": 12,
    "start_time": "2022-08-13T10:12:43.058Z"
   },
   {
    "duration": 14,
    "start_time": "2022-08-13T10:12:43.071Z"
   },
   {
    "duration": 18,
    "start_time": "2022-08-13T10:12:43.119Z"
   },
   {
    "duration": 33,
    "start_time": "2022-08-13T10:12:43.139Z"
   },
   {
    "duration": 16,
    "start_time": "2022-08-13T10:12:43.173Z"
   },
   {
    "duration": 31,
    "start_time": "2022-08-13T10:12:43.191Z"
   },
   {
    "duration": 12,
    "start_time": "2022-08-13T10:12:43.224Z"
   },
   {
    "duration": 34,
    "start_time": "2022-08-13T10:12:43.238Z"
   },
   {
    "duration": 19,
    "start_time": "2022-08-13T10:12:53.505Z"
   },
   {
    "duration": 8,
    "start_time": "2022-08-13T10:16:11.768Z"
   },
   {
    "duration": 0,
    "start_time": "2022-08-13T10:16:11.806Z"
   },
   {
    "duration": 0,
    "start_time": "2022-08-13T10:16:11.807Z"
   },
   {
    "duration": 0,
    "start_time": "2022-08-13T10:16:11.809Z"
   },
   {
    "duration": 0,
    "start_time": "2022-08-13T10:16:11.811Z"
   },
   {
    "duration": 16,
    "start_time": "2022-08-13T10:16:11.814Z"
   },
   {
    "duration": 26,
    "start_time": "2022-08-13T10:16:11.832Z"
   },
   {
    "duration": 78,
    "start_time": "2022-08-13T10:16:11.859Z"
   },
   {
    "duration": 15,
    "start_time": "2022-08-13T10:16:11.939Z"
   },
   {
    "duration": 29,
    "start_time": "2022-08-13T10:16:11.955Z"
   },
   {
    "duration": 38,
    "start_time": "2022-08-13T10:16:11.987Z"
   },
   {
    "duration": 27,
    "start_time": "2022-08-13T10:16:12.027Z"
   },
   {
    "duration": 14,
    "start_time": "2022-08-13T10:16:12.056Z"
   },
   {
    "duration": 13,
    "start_time": "2022-08-13T10:16:12.072Z"
   },
   {
    "duration": 13,
    "start_time": "2022-08-13T10:16:12.087Z"
   },
   {
    "duration": 24,
    "start_time": "2022-08-13T10:16:12.101Z"
   },
   {
    "duration": 20,
    "start_time": "2022-08-13T10:16:12.127Z"
   },
   {
    "duration": 17,
    "start_time": "2022-08-13T10:16:12.149Z"
   },
   {
    "duration": 16,
    "start_time": "2022-08-13T10:16:12.168Z"
   },
   {
    "duration": 76,
    "start_time": "2022-08-13T10:16:12.186Z"
   },
   {
    "duration": 18,
    "start_time": "2022-08-13T10:16:12.264Z"
   },
   {
    "duration": 5,
    "start_time": "2022-08-13T10:16:12.283Z"
   },
   {
    "duration": 36,
    "start_time": "2022-08-13T10:16:12.290Z"
   },
   {
    "duration": 36,
    "start_time": "2022-08-13T10:16:12.328Z"
   },
   {
    "duration": 21,
    "start_time": "2022-08-13T10:16:12.366Z"
   },
   {
    "duration": 9,
    "start_time": "2022-08-13T10:16:23.992Z"
   },
   {
    "duration": 8,
    "start_time": "2022-08-13T10:17:18.267Z"
   },
   {
    "duration": 8,
    "start_time": "2022-08-13T10:19:19.284Z"
   },
   {
    "duration": 26,
    "start_time": "2022-08-13T10:31:37.309Z"
   },
   {
    "duration": 13,
    "start_time": "2022-08-13T10:31:44.747Z"
   },
   {
    "duration": 15,
    "start_time": "2022-08-13T10:32:08.439Z"
   },
   {
    "duration": 7,
    "start_time": "2022-08-13T10:34:21.601Z"
   },
   {
    "duration": 19,
    "start_time": "2022-08-13T10:34:44.596Z"
   },
   {
    "duration": 15,
    "start_time": "2022-08-13T10:34:59.986Z"
   },
   {
    "duration": 11,
    "start_time": "2022-08-13T10:35:13.125Z"
   },
   {
    "duration": 10,
    "start_time": "2022-08-13T10:35:20.851Z"
   },
   {
    "duration": 3,
    "start_time": "2022-08-13T10:35:27.972Z"
   },
   {
    "duration": 129,
    "start_time": "2022-08-13T10:35:27.977Z"
   },
   {
    "duration": 26,
    "start_time": "2022-08-13T10:35:28.107Z"
   },
   {
    "duration": 51,
    "start_time": "2022-08-13T10:35:28.135Z"
   },
   {
    "duration": 9,
    "start_time": "2022-08-13T10:35:28.187Z"
   },
   {
    "duration": 45,
    "start_time": "2022-08-13T10:35:28.198Z"
   },
   {
    "duration": 40,
    "start_time": "2022-08-13T10:35:28.245Z"
   },
   {
    "duration": 13,
    "start_time": "2022-08-13T10:35:28.287Z"
   },
   {
    "duration": 40,
    "start_time": "2022-08-13T10:35:28.301Z"
   },
   {
    "duration": 14,
    "start_time": "2022-08-13T10:35:28.344Z"
   },
   {
    "duration": 43,
    "start_time": "2022-08-13T10:35:28.360Z"
   },
   {
    "duration": 48,
    "start_time": "2022-08-13T10:35:28.405Z"
   },
   {
    "duration": 15,
    "start_time": "2022-08-13T10:35:28.455Z"
   },
   {
    "duration": 26,
    "start_time": "2022-08-13T10:35:28.471Z"
   },
   {
    "duration": 41,
    "start_time": "2022-08-13T10:35:28.499Z"
   },
   {
    "duration": 18,
    "start_time": "2022-08-13T10:35:28.543Z"
   },
   {
    "duration": 26,
    "start_time": "2022-08-13T10:35:28.563Z"
   },
   {
    "duration": 33,
    "start_time": "2022-08-13T10:35:28.590Z"
   },
   {
    "duration": 46,
    "start_time": "2022-08-13T10:35:28.627Z"
   },
   {
    "duration": 18,
    "start_time": "2022-08-13T10:35:28.675Z"
   },
   {
    "duration": 33,
    "start_time": "2022-08-13T10:35:28.694Z"
   },
   {
    "duration": 26,
    "start_time": "2022-08-13T10:35:28.728Z"
   },
   {
    "duration": 44,
    "start_time": "2022-08-13T10:35:28.756Z"
   },
   {
    "duration": 20,
    "start_time": "2022-08-13T10:35:28.802Z"
   },
   {
    "duration": 21,
    "start_time": "2022-08-13T10:35:28.824Z"
   },
   {
    "duration": 15,
    "start_time": "2022-08-13T10:39:17.131Z"
   },
   {
    "duration": 23,
    "start_time": "2022-08-13T10:39:24.633Z"
   },
   {
    "duration": 3,
    "start_time": "2022-08-13T10:40:15.324Z"
   },
   {
    "duration": 117,
    "start_time": "2022-08-13T10:40:15.329Z"
   },
   {
    "duration": 15,
    "start_time": "2022-08-13T10:40:15.448Z"
   },
   {
    "duration": 45,
    "start_time": "2022-08-13T10:40:15.464Z"
   },
   {
    "duration": 18,
    "start_time": "2022-08-13T10:40:15.515Z"
   },
   {
    "duration": 23,
    "start_time": "2022-08-13T10:40:15.535Z"
   },
   {
    "duration": 33,
    "start_time": "2022-08-13T10:40:15.560Z"
   },
   {
    "duration": 36,
    "start_time": "2022-08-13T10:40:15.594Z"
   },
   {
    "duration": 28,
    "start_time": "2022-08-13T10:40:15.632Z"
   },
   {
    "duration": 5,
    "start_time": "2022-08-13T10:40:15.662Z"
   },
   {
    "duration": 58,
    "start_time": "2022-08-13T10:40:15.668Z"
   },
   {
    "duration": 19,
    "start_time": "2022-08-13T10:40:15.728Z"
   },
   {
    "duration": 11,
    "start_time": "2022-08-13T10:40:15.749Z"
   },
   {
    "duration": 15,
    "start_time": "2022-08-13T10:40:15.763Z"
   },
   {
    "duration": 47,
    "start_time": "2022-08-13T10:40:15.779Z"
   },
   {
    "duration": 17,
    "start_time": "2022-08-13T10:40:15.827Z"
   },
   {
    "duration": 28,
    "start_time": "2022-08-13T10:40:15.846Z"
   },
   {
    "duration": 27,
    "start_time": "2022-08-13T10:40:15.875Z"
   },
   {
    "duration": 46,
    "start_time": "2022-08-13T10:40:15.904Z"
   },
   {
    "duration": 18,
    "start_time": "2022-08-13T10:40:15.952Z"
   },
   {
    "duration": 4,
    "start_time": "2022-08-13T10:40:15.971Z"
   },
   {
    "duration": 18,
    "start_time": "2022-08-13T10:40:15.977Z"
   },
   {
    "duration": 53,
    "start_time": "2022-08-13T10:40:15.996Z"
   },
   {
    "duration": 15,
    "start_time": "2022-08-13T10:40:16.051Z"
   },
   {
    "duration": 23,
    "start_time": "2022-08-13T10:40:16.068Z"
   },
   {
    "duration": 1098,
    "start_time": "2022-08-13T10:40:49.651Z"
   },
   {
    "duration": 23,
    "start_time": "2022-08-13T10:40:58.138Z"
   },
   {
    "duration": 15,
    "start_time": "2022-08-13T10:41:36.247Z"
   },
   {
    "duration": 10,
    "start_time": "2022-08-13T10:43:29.565Z"
   },
   {
    "duration": 31,
    "start_time": "2022-08-13T10:43:35.806Z"
   },
   {
    "duration": 14,
    "start_time": "2022-08-13T10:44:28.040Z"
   },
   {
    "duration": 23,
    "start_time": "2022-08-13T10:44:42.216Z"
   },
   {
    "duration": 28,
    "start_time": "2022-08-13T10:45:23.801Z"
   },
   {
    "duration": 18,
    "start_time": "2022-08-13T10:45:26.245Z"
   },
   {
    "duration": 29,
    "start_time": "2022-08-13T10:45:57.592Z"
   },
   {
    "duration": 10,
    "start_time": "2022-08-13T10:46:25.218Z"
   },
   {
    "duration": 10,
    "start_time": "2022-08-13T10:46:51.524Z"
   },
   {
    "duration": 11,
    "start_time": "2022-08-13T10:48:15.736Z"
   },
   {
    "duration": 10,
    "start_time": "2022-08-13T10:48:37.691Z"
   },
   {
    "duration": 18,
    "start_time": "2022-08-13T10:49:13.600Z"
   },
   {
    "duration": 599,
    "start_time": "2022-08-13T10:49:38.551Z"
   },
   {
    "duration": 697,
    "start_time": "2022-08-13T10:50:36.035Z"
   },
   {
    "duration": 2,
    "start_time": "2022-08-13T10:50:41.325Z"
   },
   {
    "duration": 98,
    "start_time": "2022-08-13T10:50:41.329Z"
   },
   {
    "duration": 19,
    "start_time": "2022-08-13T10:50:41.428Z"
   },
   {
    "duration": 44,
    "start_time": "2022-08-13T10:50:41.448Z"
   },
   {
    "duration": 11,
    "start_time": "2022-08-13T10:50:41.495Z"
   },
   {
    "duration": 28,
    "start_time": "2022-08-13T10:50:41.507Z"
   },
   {
    "duration": 33,
    "start_time": "2022-08-13T10:50:41.537Z"
   },
   {
    "duration": 14,
    "start_time": "2022-08-13T10:50:41.572Z"
   },
   {
    "duration": 53,
    "start_time": "2022-08-13T10:50:41.588Z"
   },
   {
    "duration": 5,
    "start_time": "2022-08-13T10:50:41.642Z"
   },
   {
    "duration": 17,
    "start_time": "2022-08-13T10:50:41.648Z"
   },
   {
    "duration": 15,
    "start_time": "2022-08-13T10:50:41.666Z"
   },
   {
    "duration": 45,
    "start_time": "2022-08-13T10:50:41.683Z"
   },
   {
    "duration": 13,
    "start_time": "2022-08-13T10:50:41.731Z"
   },
   {
    "duration": 12,
    "start_time": "2022-08-13T10:50:41.745Z"
   },
   {
    "duration": 15,
    "start_time": "2022-08-13T10:50:41.759Z"
   },
   {
    "duration": 36,
    "start_time": "2022-08-13T10:50:41.775Z"
   },
   {
    "duration": 18,
    "start_time": "2022-08-13T10:50:41.822Z"
   },
   {
    "duration": 35,
    "start_time": "2022-08-13T10:50:41.841Z"
   },
   {
    "duration": 17,
    "start_time": "2022-08-13T10:50:41.878Z"
   },
   {
    "duration": 19,
    "start_time": "2022-08-13T10:50:41.897Z"
   },
   {
    "duration": 15,
    "start_time": "2022-08-13T10:50:41.922Z"
   },
   {
    "duration": 34,
    "start_time": "2022-08-13T10:50:41.939Z"
   },
   {
    "duration": 39,
    "start_time": "2022-08-13T10:50:41.974Z"
   },
   {
    "duration": 15,
    "start_time": "2022-08-13T10:50:42.023Z"
   },
   {
    "duration": 695,
    "start_time": "2022-08-13T10:50:42.039Z"
   },
   {
    "duration": 618,
    "start_time": "2022-08-13T10:51:05.256Z"
   },
   {
    "duration": 577,
    "start_time": "2022-08-13T10:51:38.950Z"
   },
   {
    "duration": 702,
    "start_time": "2022-08-13T10:52:31.832Z"
   },
   {
    "duration": 623,
    "start_time": "2022-08-13T10:52:44.727Z"
   },
   {
    "duration": 3,
    "start_time": "2022-08-13T10:52:55.263Z"
   },
   {
    "duration": 99,
    "start_time": "2022-08-13T10:52:55.267Z"
   },
   {
    "duration": 12,
    "start_time": "2022-08-13T10:52:55.368Z"
   },
   {
    "duration": 48,
    "start_time": "2022-08-13T10:52:55.382Z"
   },
   {
    "duration": 10,
    "start_time": "2022-08-13T10:52:55.431Z"
   },
   {
    "duration": 28,
    "start_time": "2022-08-13T10:52:55.443Z"
   },
   {
    "duration": 49,
    "start_time": "2022-08-13T10:52:55.473Z"
   },
   {
    "duration": 14,
    "start_time": "2022-08-13T10:52:55.524Z"
   },
   {
    "duration": 28,
    "start_time": "2022-08-13T10:52:55.540Z"
   },
   {
    "duration": 5,
    "start_time": "2022-08-13T10:52:55.569Z"
   },
   {
    "duration": 41,
    "start_time": "2022-08-13T10:52:55.576Z"
   },
   {
    "duration": 13,
    "start_time": "2022-08-13T10:52:55.619Z"
   },
   {
    "duration": 9,
    "start_time": "2022-08-13T10:52:55.634Z"
   },
   {
    "duration": 13,
    "start_time": "2022-08-13T10:52:55.644Z"
   },
   {
    "duration": 13,
    "start_time": "2022-08-13T10:52:55.659Z"
   },
   {
    "duration": 52,
    "start_time": "2022-08-13T10:52:55.674Z"
   },
   {
    "duration": 16,
    "start_time": "2022-08-13T10:52:55.727Z"
   },
   {
    "duration": 19,
    "start_time": "2022-08-13T10:52:55.744Z"
   },
   {
    "duration": 34,
    "start_time": "2022-08-13T10:52:55.764Z"
   },
   {
    "duration": 31,
    "start_time": "2022-08-13T10:52:55.800Z"
   },
   {
    "duration": 4,
    "start_time": "2022-08-13T10:52:55.833Z"
   },
   {
    "duration": 14,
    "start_time": "2022-08-13T10:52:55.838Z"
   },
   {
    "duration": 31,
    "start_time": "2022-08-13T10:52:55.853Z"
   },
   {
    "duration": 36,
    "start_time": "2022-08-13T10:52:55.887Z"
   },
   {
    "duration": 14,
    "start_time": "2022-08-13T10:52:55.925Z"
   },
   {
    "duration": 693,
    "start_time": "2022-08-13T10:52:55.940Z"
   },
   {
    "duration": 694,
    "start_time": "2022-08-13T10:53:03.924Z"
   },
   {
    "duration": 733,
    "start_time": "2022-08-13T10:53:14.199Z"
   },
   {
    "duration": 8,
    "start_time": "2022-08-13T10:53:28.646Z"
   },
   {
    "duration": 696,
    "start_time": "2022-08-13T10:54:27.014Z"
   },
   {
    "duration": 617,
    "start_time": "2022-08-13T10:55:21.257Z"
   },
   {
    "duration": 8,
    "start_time": "2022-08-13T10:55:27.443Z"
   },
   {
    "duration": 631,
    "start_time": "2022-08-13T10:55:33.123Z"
   },
   {
    "duration": 704,
    "start_time": "2022-08-13T10:56:10.024Z"
   },
   {
    "duration": 724,
    "start_time": "2022-08-13T10:56:42.643Z"
   },
   {
    "duration": 710,
    "start_time": "2022-08-13T10:57:22.723Z"
   },
   {
    "duration": 632,
    "start_time": "2022-08-13T10:57:46.424Z"
   },
   {
    "duration": 7,
    "start_time": "2022-08-13T10:58:27.535Z"
   },
   {
    "duration": 638,
    "start_time": "2022-08-13T10:58:43.496Z"
   },
   {
    "duration": 7,
    "start_time": "2022-08-13T10:59:33.925Z"
   },
   {
    "duration": 639,
    "start_time": "2022-08-13T10:59:43.312Z"
   },
   {
    "duration": 655,
    "start_time": "2022-08-13T11:00:02.481Z"
   },
   {
    "duration": 19,
    "start_time": "2022-08-13T11:00:37.226Z"
   },
   {
    "duration": 3,
    "start_time": "2022-08-13T11:00:45.125Z"
   },
   {
    "duration": 112,
    "start_time": "2022-08-13T11:00:45.130Z"
   },
   {
    "duration": 16,
    "start_time": "2022-08-13T11:00:45.243Z"
   },
   {
    "duration": 72,
    "start_time": "2022-08-13T11:00:45.261Z"
   },
   {
    "duration": 13,
    "start_time": "2022-08-13T11:00:45.336Z"
   },
   {
    "duration": 24,
    "start_time": "2022-08-13T11:00:45.351Z"
   },
   {
    "duration": 48,
    "start_time": "2022-08-13T11:00:45.377Z"
   },
   {
    "duration": 15,
    "start_time": "2022-08-13T11:00:45.432Z"
   },
   {
    "duration": 34,
    "start_time": "2022-08-13T11:00:45.448Z"
   },
   {
    "duration": 5,
    "start_time": "2022-08-13T11:00:45.483Z"
   },
   {
    "duration": 45,
    "start_time": "2022-08-13T11:00:45.490Z"
   },
   {
    "duration": 20,
    "start_time": "2022-08-13T11:00:45.537Z"
   },
   {
    "duration": 12,
    "start_time": "2022-08-13T11:00:45.559Z"
   },
   {
    "duration": 50,
    "start_time": "2022-08-13T11:00:45.575Z"
   },
   {
    "duration": 15,
    "start_time": "2022-08-13T11:00:45.627Z"
   },
   {
    "duration": 14,
    "start_time": "2022-08-13T11:00:45.643Z"
   },
   {
    "duration": 15,
    "start_time": "2022-08-13T11:00:45.659Z"
   },
   {
    "duration": 15,
    "start_time": "2022-08-13T11:00:45.675Z"
   },
   {
    "duration": 37,
    "start_time": "2022-08-13T11:00:45.717Z"
   },
   {
    "duration": 17,
    "start_time": "2022-08-13T11:00:45.756Z"
   },
   {
    "duration": 5,
    "start_time": "2022-08-13T11:00:45.775Z"
   },
   {
    "duration": 34,
    "start_time": "2022-08-13T11:00:45.782Z"
   },
   {
    "duration": 37,
    "start_time": "2022-08-13T11:00:45.817Z"
   },
   {
    "duration": 11,
    "start_time": "2022-08-13T11:00:45.856Z"
   },
   {
    "duration": 14,
    "start_time": "2022-08-13T11:00:45.868Z"
   },
   {
    "duration": 47,
    "start_time": "2022-08-13T11:00:45.884Z"
   },
   {
    "duration": 888,
    "start_time": "2022-08-13T11:01:37.541Z"
   },
   {
    "duration": 648,
    "start_time": "2022-08-13T11:02:21.018Z"
   },
   {
    "duration": 3,
    "start_time": "2022-08-13T11:02:27.262Z"
   },
   {
    "duration": 97,
    "start_time": "2022-08-13T11:02:27.266Z"
   },
   {
    "duration": 12,
    "start_time": "2022-08-13T11:02:27.365Z"
   },
   {
    "duration": 54,
    "start_time": "2022-08-13T11:02:27.379Z"
   },
   {
    "duration": 12,
    "start_time": "2022-08-13T11:02:27.435Z"
   },
   {
    "duration": 24,
    "start_time": "2022-08-13T11:02:27.448Z"
   },
   {
    "duration": 40,
    "start_time": "2022-08-13T11:02:27.474Z"
   },
   {
    "duration": 17,
    "start_time": "2022-08-13T11:02:27.515Z"
   },
   {
    "duration": 25,
    "start_time": "2022-08-13T11:02:27.533Z"
   },
   {
    "duration": 4,
    "start_time": "2022-08-13T11:02:27.560Z"
   },
   {
    "duration": 27,
    "start_time": "2022-08-13T11:02:27.566Z"
   },
   {
    "duration": 29,
    "start_time": "2022-08-13T11:02:27.594Z"
   },
   {
    "duration": 17,
    "start_time": "2022-08-13T11:02:27.624Z"
   },
   {
    "duration": 13,
    "start_time": "2022-08-13T11:02:27.642Z"
   },
   {
    "duration": 10,
    "start_time": "2022-08-13T11:02:27.656Z"
   },
   {
    "duration": 12,
    "start_time": "2022-08-13T11:02:27.668Z"
   },
   {
    "duration": 15,
    "start_time": "2022-08-13T11:02:27.681Z"
   },
   {
    "duration": 34,
    "start_time": "2022-08-13T11:02:27.697Z"
   },
   {
    "duration": 34,
    "start_time": "2022-08-13T11:02:27.732Z"
   },
   {
    "duration": 16,
    "start_time": "2022-08-13T11:02:27.768Z"
   },
   {
    "duration": 36,
    "start_time": "2022-08-13T11:02:27.786Z"
   },
   {
    "duration": 13,
    "start_time": "2022-08-13T11:02:27.824Z"
   },
   {
    "duration": 33,
    "start_time": "2022-08-13T11:02:27.839Z"
   },
   {
    "duration": 13,
    "start_time": "2022-08-13T11:02:27.873Z"
   },
   {
    "duration": 36,
    "start_time": "2022-08-13T11:02:27.887Z"
   },
   {
    "duration": 708,
    "start_time": "2022-08-13T11:02:27.925Z"
   },
   {
    "duration": 3,
    "start_time": "2022-08-13T11:02:43.049Z"
   },
   {
    "duration": 98,
    "start_time": "2022-08-13T11:02:43.054Z"
   },
   {
    "duration": 13,
    "start_time": "2022-08-13T11:02:43.154Z"
   },
   {
    "duration": 55,
    "start_time": "2022-08-13T11:02:43.168Z"
   },
   {
    "duration": 9,
    "start_time": "2022-08-13T11:02:43.225Z"
   },
   {
    "duration": 21,
    "start_time": "2022-08-13T11:02:43.235Z"
   },
   {
    "duration": 29,
    "start_time": "2022-08-13T11:02:43.257Z"
   },
   {
    "duration": 34,
    "start_time": "2022-08-13T11:02:43.287Z"
   },
   {
    "duration": 28,
    "start_time": "2022-08-13T11:02:43.323Z"
   },
   {
    "duration": 4,
    "start_time": "2022-08-13T11:02:43.352Z"
   },
   {
    "duration": 16,
    "start_time": "2022-08-13T11:02:43.358Z"
   },
   {
    "duration": 12,
    "start_time": "2022-08-13T11:02:43.375Z"
   },
   {
    "duration": 14,
    "start_time": "2022-08-13T11:02:43.411Z"
   },
   {
    "duration": 14,
    "start_time": "2022-08-13T11:02:43.427Z"
   },
   {
    "duration": 12,
    "start_time": "2022-08-13T11:02:43.442Z"
   },
   {
    "duration": 21,
    "start_time": "2022-08-13T11:02:43.456Z"
   },
   {
    "duration": 41,
    "start_time": "2022-08-13T11:02:43.479Z"
   },
   {
    "duration": 21,
    "start_time": "2022-08-13T11:02:43.521Z"
   },
   {
    "duration": 44,
    "start_time": "2022-08-13T11:02:43.545Z"
   },
   {
    "duration": 43,
    "start_time": "2022-08-13T11:02:43.590Z"
   },
   {
    "duration": 5,
    "start_time": "2022-08-13T11:02:43.634Z"
   },
   {
    "duration": 15,
    "start_time": "2022-08-13T11:02:43.640Z"
   },
   {
    "duration": 31,
    "start_time": "2022-08-13T11:02:43.656Z"
   },
   {
    "duration": 35,
    "start_time": "2022-08-13T11:02:43.689Z"
   },
   {
    "duration": 14,
    "start_time": "2022-08-13T11:02:43.726Z"
   },
   {
    "duration": 850,
    "start_time": "2022-08-13T11:02:43.742Z"
   },
   {
    "duration": 7,
    "start_time": "2022-08-13T11:02:44.594Z"
   },
   {
    "duration": 2,
    "start_time": "2022-08-13T11:03:07.769Z"
   },
   {
    "duration": 109,
    "start_time": "2022-08-13T11:03:07.773Z"
   },
   {
    "duration": 13,
    "start_time": "2022-08-13T11:03:07.883Z"
   },
   {
    "duration": 53,
    "start_time": "2022-08-13T11:03:07.899Z"
   },
   {
    "duration": 10,
    "start_time": "2022-08-13T11:03:07.954Z"
   },
   {
    "duration": 33,
    "start_time": "2022-08-13T11:03:07.965Z"
   },
   {
    "duration": 40,
    "start_time": "2022-08-13T11:03:07.999Z"
   },
   {
    "duration": 12,
    "start_time": "2022-08-13T11:03:08.040Z"
   },
   {
    "duration": 33,
    "start_time": "2022-08-13T11:03:08.053Z"
   },
   {
    "duration": 4,
    "start_time": "2022-08-13T11:03:08.088Z"
   },
   {
    "duration": 30,
    "start_time": "2022-08-13T11:03:08.094Z"
   },
   {
    "duration": 32,
    "start_time": "2022-08-13T11:03:08.126Z"
   },
   {
    "duration": 16,
    "start_time": "2022-08-13T11:03:08.159Z"
   },
   {
    "duration": 14,
    "start_time": "2022-08-13T11:03:08.177Z"
   },
   {
    "duration": 17,
    "start_time": "2022-08-13T11:03:08.192Z"
   },
   {
    "duration": 24,
    "start_time": "2022-08-13T11:03:08.218Z"
   },
   {
    "duration": 24,
    "start_time": "2022-08-13T11:03:08.243Z"
   },
   {
    "duration": 17,
    "start_time": "2022-08-13T11:03:08.268Z"
   },
   {
    "duration": 42,
    "start_time": "2022-08-13T11:03:08.287Z"
   },
   {
    "duration": 17,
    "start_time": "2022-08-13T11:03:08.330Z"
   },
   {
    "duration": 18,
    "start_time": "2022-08-13T11:03:08.349Z"
   },
   {
    "duration": 16,
    "start_time": "2022-08-13T11:03:08.368Z"
   },
   {
    "duration": 45,
    "start_time": "2022-08-13T11:03:08.386Z"
   },
   {
    "duration": 18,
    "start_time": "2022-08-13T11:03:08.433Z"
   },
   {
    "duration": 14,
    "start_time": "2022-08-13T11:03:08.453Z"
   },
   {
    "duration": 675,
    "start_time": "2022-08-13T11:03:08.469Z"
   },
   {
    "duration": 908,
    "start_time": "2022-08-13T11:03:34.663Z"
   },
   {
    "duration": 2412,
    "start_time": "2022-08-13T11:03:43.131Z"
   },
   {
    "duration": 3,
    "start_time": "2022-08-13T11:05:00.050Z"
   },
   {
    "duration": 107,
    "start_time": "2022-08-13T11:05:00.054Z"
   },
   {
    "duration": 12,
    "start_time": "2022-08-13T11:05:00.162Z"
   },
   {
    "duration": 67,
    "start_time": "2022-08-13T11:05:00.176Z"
   },
   {
    "duration": 9,
    "start_time": "2022-08-13T11:05:00.244Z"
   },
   {
    "duration": 25,
    "start_time": "2022-08-13T11:05:00.254Z"
   },
   {
    "duration": 43,
    "start_time": "2022-08-13T11:05:00.280Z"
   },
   {
    "duration": 12,
    "start_time": "2022-08-13T11:05:00.325Z"
   },
   {
    "duration": 32,
    "start_time": "2022-08-13T11:05:00.339Z"
   },
   {
    "duration": 4,
    "start_time": "2022-08-13T11:05:00.372Z"
   },
   {
    "duration": 50,
    "start_time": "2022-08-13T11:05:00.378Z"
   },
   {
    "duration": 26,
    "start_time": "2022-08-13T11:05:00.430Z"
   },
   {
    "duration": 19,
    "start_time": "2022-08-13T11:05:00.458Z"
   },
   {
    "duration": 46,
    "start_time": "2022-08-13T11:05:00.478Z"
   },
   {
    "duration": 29,
    "start_time": "2022-08-13T11:05:00.525Z"
   },
   {
    "duration": 23,
    "start_time": "2022-08-13T11:05:00.556Z"
   },
   {
    "duration": 40,
    "start_time": "2022-08-13T11:05:00.581Z"
   },
   {
    "duration": 17,
    "start_time": "2022-08-13T11:05:00.624Z"
   },
   {
    "duration": 35,
    "start_time": "2022-08-13T11:05:00.643Z"
   },
   {
    "duration": 18,
    "start_time": "2022-08-13T11:05:00.680Z"
   },
   {
    "duration": 5,
    "start_time": "2022-08-13T11:05:00.723Z"
   },
   {
    "duration": 15,
    "start_time": "2022-08-13T11:05:00.730Z"
   },
   {
    "duration": 51,
    "start_time": "2022-08-13T11:05:00.747Z"
   },
   {
    "duration": 32,
    "start_time": "2022-08-13T11:05:00.801Z"
   },
   {
    "duration": 29,
    "start_time": "2022-08-13T11:05:00.834Z"
   },
   {
    "duration": 81,
    "start_time": "2022-08-13T11:05:00.864Z"
   },
   {
    "duration": 3,
    "start_time": "2022-08-13T11:05:13.373Z"
   },
   {
    "duration": 107,
    "start_time": "2022-08-13T11:05:13.378Z"
   },
   {
    "duration": 12,
    "start_time": "2022-08-13T11:05:13.487Z"
   },
   {
    "duration": 51,
    "start_time": "2022-08-13T11:05:13.501Z"
   },
   {
    "duration": 9,
    "start_time": "2022-08-13T11:05:13.553Z"
   },
   {
    "duration": 23,
    "start_time": "2022-08-13T11:05:13.563Z"
   },
   {
    "duration": 32,
    "start_time": "2022-08-13T11:05:13.588Z"
   },
   {
    "duration": 13,
    "start_time": "2022-08-13T11:05:13.621Z"
   },
   {
    "duration": 28,
    "start_time": "2022-08-13T11:05:13.637Z"
   },
   {
    "duration": 4,
    "start_time": "2022-08-13T11:05:13.667Z"
   },
   {
    "duration": 49,
    "start_time": "2022-08-13T11:05:13.673Z"
   },
   {
    "duration": 14,
    "start_time": "2022-08-13T11:05:13.723Z"
   },
   {
    "duration": 10,
    "start_time": "2022-08-13T11:05:13.738Z"
   },
   {
    "duration": 12,
    "start_time": "2022-08-13T11:05:13.750Z"
   },
   {
    "duration": 19,
    "start_time": "2022-08-13T11:05:13.764Z"
   },
   {
    "duration": 47,
    "start_time": "2022-08-13T11:05:13.785Z"
   },
   {
    "duration": 17,
    "start_time": "2022-08-13T11:05:13.833Z"
   },
   {
    "duration": 16,
    "start_time": "2022-08-13T11:05:13.851Z"
   },
   {
    "duration": 58,
    "start_time": "2022-08-13T11:05:13.869Z"
   },
   {
    "duration": 17,
    "start_time": "2022-08-13T11:05:13.929Z"
   },
   {
    "duration": 5,
    "start_time": "2022-08-13T11:05:13.948Z"
   },
   {
    "duration": 12,
    "start_time": "2022-08-13T11:05:13.954Z"
   },
   {
    "duration": 67,
    "start_time": "2022-08-13T11:05:13.967Z"
   },
   {
    "duration": 12,
    "start_time": "2022-08-13T11:05:14.036Z"
   },
   {
    "duration": 13,
    "start_time": "2022-08-13T11:05:14.050Z"
   },
   {
    "duration": 19,
    "start_time": "2022-08-13T11:05:14.065Z"
   },
   {
    "duration": 18,
    "start_time": "2022-08-13T11:05:24.155Z"
   },
   {
    "duration": 20,
    "start_time": "2022-08-13T11:05:34.098Z"
   },
   {
    "duration": 10,
    "start_time": "2022-08-13T11:06:11.329Z"
   },
   {
    "duration": 2,
    "start_time": "2022-08-13T11:06:19.660Z"
   },
   {
    "duration": 101,
    "start_time": "2022-08-13T11:06:19.664Z"
   },
   {
    "duration": 13,
    "start_time": "2022-08-13T11:06:19.768Z"
   },
   {
    "duration": 47,
    "start_time": "2022-08-13T11:06:19.783Z"
   },
   {
    "duration": 9,
    "start_time": "2022-08-13T11:06:19.832Z"
   },
   {
    "duration": 35,
    "start_time": "2022-08-13T11:06:19.842Z"
   },
   {
    "duration": 29,
    "start_time": "2022-08-13T11:06:19.879Z"
   },
   {
    "duration": 21,
    "start_time": "2022-08-13T11:06:19.909Z"
   },
   {
    "duration": 36,
    "start_time": "2022-08-13T11:06:19.931Z"
   },
   {
    "duration": 4,
    "start_time": "2022-08-13T11:06:19.968Z"
   },
   {
    "duration": 28,
    "start_time": "2022-08-13T11:06:19.974Z"
   },
   {
    "duration": 34,
    "start_time": "2022-08-13T11:06:20.004Z"
   },
   {
    "duration": 17,
    "start_time": "2022-08-13T11:06:20.040Z"
   },
   {
    "duration": 16,
    "start_time": "2022-08-13T11:06:20.059Z"
   },
   {
    "duration": 12,
    "start_time": "2022-08-13T11:06:20.077Z"
   },
   {
    "duration": 24,
    "start_time": "2022-08-13T11:06:20.090Z"
   },
   {
    "duration": 27,
    "start_time": "2022-08-13T11:06:20.115Z"
   },
   {
    "duration": 15,
    "start_time": "2022-08-13T11:06:20.144Z"
   },
   {
    "duration": 36,
    "start_time": "2022-08-13T11:06:20.160Z"
   },
   {
    "duration": 36,
    "start_time": "2022-08-13T11:06:20.197Z"
   },
   {
    "duration": 21,
    "start_time": "2022-08-13T11:06:20.234Z"
   },
   {
    "duration": 26,
    "start_time": "2022-08-13T11:06:20.257Z"
   },
   {
    "duration": 38,
    "start_time": "2022-08-13T11:06:20.285Z"
   },
   {
    "duration": 14,
    "start_time": "2022-08-13T11:06:20.325Z"
   },
   {
    "duration": 21,
    "start_time": "2022-08-13T11:06:20.341Z"
   },
   {
    "duration": 26,
    "start_time": "2022-08-13T11:06:20.364Z"
   },
   {
    "duration": 4,
    "start_time": "2022-08-13T11:06:58.524Z"
   },
   {
    "duration": 114,
    "start_time": "2022-08-13T11:06:58.530Z"
   },
   {
    "duration": 12,
    "start_time": "2022-08-13T11:06:58.645Z"
   },
   {
    "duration": 54,
    "start_time": "2022-08-13T11:06:58.659Z"
   },
   {
    "duration": 10,
    "start_time": "2022-08-13T11:06:58.722Z"
   },
   {
    "duration": 40,
    "start_time": "2022-08-13T11:06:58.734Z"
   },
   {
    "duration": 29,
    "start_time": "2022-08-13T11:06:58.776Z"
   },
   {
    "duration": 14,
    "start_time": "2022-08-13T11:06:58.807Z"
   },
   {
    "duration": 32,
    "start_time": "2022-08-13T11:06:58.827Z"
   },
   {
    "duration": 4,
    "start_time": "2022-08-13T11:06:58.860Z"
   },
   {
    "duration": 24,
    "start_time": "2022-08-13T11:06:58.866Z"
   },
   {
    "duration": 31,
    "start_time": "2022-08-13T11:06:58.891Z"
   },
   {
    "duration": 12,
    "start_time": "2022-08-13T11:06:58.923Z"
   },
   {
    "duration": 26,
    "start_time": "2022-08-13T11:06:58.937Z"
   },
   {
    "duration": 30,
    "start_time": "2022-08-13T11:06:58.965Z"
   },
   {
    "duration": 37,
    "start_time": "2022-08-13T11:06:58.996Z"
   },
   {
    "duration": 14,
    "start_time": "2022-08-13T11:06:59.035Z"
   },
   {
    "duration": 24,
    "start_time": "2022-08-13T11:06:59.051Z"
   },
   {
    "duration": 45,
    "start_time": "2022-08-13T11:06:59.077Z"
   },
   {
    "duration": 17,
    "start_time": "2022-08-13T11:06:59.124Z"
   },
   {
    "duration": 6,
    "start_time": "2022-08-13T11:06:59.142Z"
   },
   {
    "duration": 22,
    "start_time": "2022-08-13T11:06:59.149Z"
   },
   {
    "duration": 37,
    "start_time": "2022-08-13T11:06:59.172Z"
   },
   {
    "duration": 12,
    "start_time": "2022-08-13T11:06:59.218Z"
   },
   {
    "duration": 27,
    "start_time": "2022-08-13T11:06:59.231Z"
   },
   {
    "duration": 391,
    "start_time": "2022-08-13T11:07:17.595Z"
   },
   {
    "duration": 0,
    "start_time": "2022-08-13T11:07:17.987Z"
   },
   {
    "duration": 3,
    "start_time": "2022-08-13T11:07:29.264Z"
   },
   {
    "duration": 119,
    "start_time": "2022-08-13T11:07:29.268Z"
   },
   {
    "duration": 16,
    "start_time": "2022-08-13T11:07:29.389Z"
   },
   {
    "duration": 66,
    "start_time": "2022-08-13T11:07:29.407Z"
   },
   {
    "duration": 10,
    "start_time": "2022-08-13T11:07:29.475Z"
   },
   {
    "duration": 44,
    "start_time": "2022-08-13T11:07:29.486Z"
   },
   {
    "duration": 45,
    "start_time": "2022-08-13T11:07:29.532Z"
   },
   {
    "duration": 15,
    "start_time": "2022-08-13T11:07:29.578Z"
   },
   {
    "duration": 33,
    "start_time": "2022-08-13T11:07:29.596Z"
   },
   {
    "duration": 5,
    "start_time": "2022-08-13T11:07:29.631Z"
   },
   {
    "duration": 19,
    "start_time": "2022-08-13T11:07:29.637Z"
   },
   {
    "duration": 14,
    "start_time": "2022-08-13T11:07:29.658Z"
   },
   {
    "duration": 10,
    "start_time": "2022-08-13T11:07:29.674Z"
   },
   {
    "duration": 44,
    "start_time": "2022-08-13T11:07:29.686Z"
   },
   {
    "duration": 12,
    "start_time": "2022-08-13T11:07:29.731Z"
   },
   {
    "duration": 15,
    "start_time": "2022-08-13T11:07:29.745Z"
   },
   {
    "duration": 16,
    "start_time": "2022-08-13T11:07:29.761Z"
   },
   {
    "duration": 49,
    "start_time": "2022-08-13T11:07:29.778Z"
   },
   {
    "duration": 34,
    "start_time": "2022-08-13T11:07:29.828Z"
   },
   {
    "duration": 17,
    "start_time": "2022-08-13T11:07:29.864Z"
   },
   {
    "duration": 4,
    "start_time": "2022-08-13T11:07:29.883Z"
   },
   {
    "duration": 36,
    "start_time": "2022-08-13T11:07:29.888Z"
   },
   {
    "duration": 31,
    "start_time": "2022-08-13T11:07:29.926Z"
   },
   {
    "duration": 10,
    "start_time": "2022-08-13T11:07:29.960Z"
   },
   {
    "duration": 13,
    "start_time": "2022-08-13T11:07:29.972Z"
   },
   {
    "duration": 18792,
    "start_time": "2022-08-13T11:07:29.986Z"
   },
   {
    "duration": 4,
    "start_time": "2022-08-13T11:07:48.780Z"
   },
   {
    "duration": 3,
    "start_time": "2022-08-13T11:08:35.324Z"
   },
   {
    "duration": 119,
    "start_time": "2022-08-13T11:08:35.329Z"
   },
   {
    "duration": 15,
    "start_time": "2022-08-13T11:08:35.450Z"
   },
   {
    "duration": 54,
    "start_time": "2022-08-13T11:08:35.467Z"
   },
   {
    "duration": 10,
    "start_time": "2022-08-13T11:08:35.524Z"
   },
   {
    "duration": 22,
    "start_time": "2022-08-13T11:08:35.535Z"
   },
   {
    "duration": 29,
    "start_time": "2022-08-13T11:08:35.559Z"
   },
   {
    "duration": 31,
    "start_time": "2022-08-13T11:08:35.590Z"
   },
   {
    "duration": 28,
    "start_time": "2022-08-13T11:08:35.623Z"
   },
   {
    "duration": 4,
    "start_time": "2022-08-13T11:08:35.652Z"
   },
   {
    "duration": 16,
    "start_time": "2022-08-13T11:08:35.658Z"
   },
   {
    "duration": 47,
    "start_time": "2022-08-13T11:08:35.675Z"
   },
   {
    "duration": 9,
    "start_time": "2022-08-13T11:08:35.724Z"
   },
   {
    "duration": 12,
    "start_time": "2022-08-13T11:08:35.736Z"
   },
   {
    "duration": 12,
    "start_time": "2022-08-13T11:08:35.749Z"
   },
   {
    "duration": 12,
    "start_time": "2022-08-13T11:08:35.762Z"
   },
   {
    "duration": 37,
    "start_time": "2022-08-13T11:08:35.775Z"
   },
   {
    "duration": 21,
    "start_time": "2022-08-13T11:08:35.813Z"
   },
   {
    "duration": 36,
    "start_time": "2022-08-13T11:08:35.835Z"
   },
   {
    "duration": 19,
    "start_time": "2022-08-13T11:08:35.872Z"
   },
   {
    "duration": 31,
    "start_time": "2022-08-13T11:08:35.892Z"
   },
   {
    "duration": 13,
    "start_time": "2022-08-13T11:08:35.925Z"
   },
   {
    "duration": 31,
    "start_time": "2022-08-13T11:08:35.940Z"
   },
   {
    "duration": 13,
    "start_time": "2022-08-13T11:08:35.973Z"
   },
   {
    "duration": 39,
    "start_time": "2022-08-13T11:08:35.987Z"
   },
   {
    "duration": 29,
    "start_time": "2022-08-13T11:08:36.028Z"
   },
   {
    "duration": 5,
    "start_time": "2022-08-13T11:08:42.270Z"
   },
   {
    "duration": 2,
    "start_time": "2022-08-13T11:09:03.361Z"
   },
   {
    "duration": 105,
    "start_time": "2022-08-13T11:09:03.365Z"
   },
   {
    "duration": 11,
    "start_time": "2022-08-13T11:09:03.472Z"
   },
   {
    "duration": 45,
    "start_time": "2022-08-13T11:09:03.485Z"
   },
   {
    "duration": 8,
    "start_time": "2022-08-13T11:09:03.533Z"
   },
   {
    "duration": 22,
    "start_time": "2022-08-13T11:09:03.543Z"
   },
   {
    "duration": 30,
    "start_time": "2022-08-13T11:09:03.566Z"
   },
   {
    "duration": 19,
    "start_time": "2022-08-13T11:09:03.610Z"
   },
   {
    "duration": 26,
    "start_time": "2022-08-13T11:09:03.630Z"
   },
   {
    "duration": 4,
    "start_time": "2022-08-13T11:09:03.658Z"
   },
   {
    "duration": 20,
    "start_time": "2022-08-13T11:09:03.664Z"
   },
   {
    "duration": 37,
    "start_time": "2022-08-13T11:09:03.685Z"
   },
   {
    "duration": 9,
    "start_time": "2022-08-13T11:09:03.724Z"
   },
   {
    "duration": 19,
    "start_time": "2022-08-13T11:09:03.735Z"
   },
   {
    "duration": 13,
    "start_time": "2022-08-13T11:09:03.756Z"
   },
   {
    "duration": 14,
    "start_time": "2022-08-13T11:09:03.771Z"
   },
   {
    "duration": 39,
    "start_time": "2022-08-13T11:09:03.787Z"
   },
   {
    "duration": 15,
    "start_time": "2022-08-13T11:09:03.827Z"
   },
   {
    "duration": 32,
    "start_time": "2022-08-13T11:09:03.844Z"
   },
   {
    "duration": 17,
    "start_time": "2022-08-13T11:09:03.878Z"
   },
   {
    "duration": 29,
    "start_time": "2022-08-13T11:09:03.896Z"
   },
   {
    "duration": 15,
    "start_time": "2022-08-13T11:09:03.927Z"
   },
   {
    "duration": 33,
    "start_time": "2022-08-13T11:09:03.944Z"
   },
   {
    "duration": 11,
    "start_time": "2022-08-13T11:09:03.979Z"
   },
   {
    "duration": 31,
    "start_time": "2022-08-13T11:09:03.992Z"
   },
   {
    "duration": 10,
    "start_time": "2022-08-13T11:09:04.025Z"
   },
   {
    "duration": 4,
    "start_time": "2022-08-13T11:09:07.502Z"
   },
   {
    "duration": 3,
    "start_time": "2022-08-13T11:10:41.302Z"
   },
   {
    "duration": 99,
    "start_time": "2022-08-13T11:10:41.307Z"
   },
   {
    "duration": 28,
    "start_time": "2022-08-13T11:10:41.407Z"
   },
   {
    "duration": 42,
    "start_time": "2022-08-13T11:10:41.437Z"
   },
   {
    "duration": 9,
    "start_time": "2022-08-13T11:10:41.481Z"
   },
   {
    "duration": 29,
    "start_time": "2022-08-13T11:10:41.492Z"
   },
   {
    "duration": 32,
    "start_time": "2022-08-13T11:10:41.527Z"
   },
   {
    "duration": 12,
    "start_time": "2022-08-13T11:10:41.561Z"
   },
   {
    "duration": 26,
    "start_time": "2022-08-13T11:10:41.574Z"
   },
   {
    "duration": 21,
    "start_time": "2022-08-13T11:10:41.602Z"
   },
   {
    "duration": 25,
    "start_time": "2022-08-13T11:10:41.627Z"
   },
   {
    "duration": 13,
    "start_time": "2022-08-13T11:10:41.653Z"
   },
   {
    "duration": 9,
    "start_time": "2022-08-13T11:10:41.668Z"
   },
   {
    "duration": 14,
    "start_time": "2022-08-13T11:10:41.679Z"
   },
   {
    "duration": 16,
    "start_time": "2022-08-13T11:10:41.720Z"
   },
   {
    "duration": 14,
    "start_time": "2022-08-13T11:10:41.738Z"
   },
   {
    "duration": 17,
    "start_time": "2022-08-13T11:10:41.754Z"
   },
   {
    "duration": 15,
    "start_time": "2022-08-13T11:10:41.772Z"
   },
   {
    "duration": 64,
    "start_time": "2022-08-13T11:10:41.789Z"
   },
   {
    "duration": 18,
    "start_time": "2022-08-13T11:10:41.855Z"
   },
   {
    "duration": 8,
    "start_time": "2022-08-13T11:10:41.875Z"
   },
   {
    "duration": 20,
    "start_time": "2022-08-13T11:10:41.884Z"
   },
   {
    "duration": 47,
    "start_time": "2022-08-13T11:10:41.912Z"
   },
   {
    "duration": 16,
    "start_time": "2022-08-13T11:10:41.960Z"
   },
   {
    "duration": 15,
    "start_time": "2022-08-13T11:10:41.977Z"
   },
   {
    "duration": 2937,
    "start_time": "2022-08-13T11:10:41.993Z"
   },
   {
    "duration": 12,
    "start_time": "2022-08-13T11:10:49.905Z"
   },
   {
    "duration": 12,
    "start_time": "2022-08-13T11:11:04.295Z"
   },
   {
    "duration": 2722,
    "start_time": "2022-08-13T11:11:11.503Z"
   },
   {
    "duration": 8,
    "start_time": "2022-08-13T11:11:17.124Z"
   },
   {
    "duration": 2936,
    "start_time": "2022-08-13T11:12:18.011Z"
   },
   {
    "duration": 11,
    "start_time": "2022-08-13T11:12:23.514Z"
   },
   {
    "duration": 3,
    "start_time": "2022-08-13T11:17:08.878Z"
   },
   {
    "duration": 106,
    "start_time": "2022-08-13T11:17:08.883Z"
   },
   {
    "duration": 13,
    "start_time": "2022-08-13T11:17:08.990Z"
   },
   {
    "duration": 50,
    "start_time": "2022-08-13T11:17:09.004Z"
   },
   {
    "duration": 9,
    "start_time": "2022-08-13T11:17:09.056Z"
   },
   {
    "duration": 23,
    "start_time": "2022-08-13T11:17:09.066Z"
   },
   {
    "duration": 33,
    "start_time": "2022-08-13T11:17:09.091Z"
   },
   {
    "duration": 13,
    "start_time": "2022-08-13T11:17:09.125Z"
   },
   {
    "duration": 28,
    "start_time": "2022-08-13T11:17:09.140Z"
   },
   {
    "duration": 4,
    "start_time": "2022-08-13T11:17:09.170Z"
   },
   {
    "duration": 48,
    "start_time": "2022-08-13T11:17:09.175Z"
   },
   {
    "duration": 13,
    "start_time": "2022-08-13T11:17:09.225Z"
   },
   {
    "duration": 8,
    "start_time": "2022-08-13T11:17:09.240Z"
   },
   {
    "duration": 13,
    "start_time": "2022-08-13T11:17:09.250Z"
   },
   {
    "duration": 12,
    "start_time": "2022-08-13T11:17:09.264Z"
   },
   {
    "duration": 43,
    "start_time": "2022-08-13T11:17:09.278Z"
   },
   {
    "duration": 25,
    "start_time": "2022-08-13T11:17:09.324Z"
   },
   {
    "duration": 22,
    "start_time": "2022-08-13T11:17:09.351Z"
   },
   {
    "duration": 52,
    "start_time": "2022-08-13T11:17:09.375Z"
   },
   {
    "duration": 24,
    "start_time": "2022-08-13T11:17:09.428Z"
   },
   {
    "duration": 8,
    "start_time": "2022-08-13T11:17:09.454Z"
   },
   {
    "duration": 21,
    "start_time": "2022-08-13T11:17:09.464Z"
   },
   {
    "duration": 47,
    "start_time": "2022-08-13T11:17:09.487Z"
   },
   {
    "duration": 11,
    "start_time": "2022-08-13T11:17:09.535Z"
   },
   {
    "duration": 13,
    "start_time": "2022-08-13T11:17:09.548Z"
   },
   {
    "duration": 12,
    "start_time": "2022-08-13T11:17:09.563Z"
   },
   {
    "duration": 20,
    "start_time": "2022-08-13T11:18:15.088Z"
   },
   {
    "duration": 15,
    "start_time": "2022-08-13T11:19:39.069Z"
   },
   {
    "duration": 10,
    "start_time": "2022-08-13T11:20:38.671Z"
   },
   {
    "duration": 3,
    "start_time": "2022-08-13T11:20:43.351Z"
   },
   {
    "duration": 103,
    "start_time": "2022-08-13T11:20:43.356Z"
   },
   {
    "duration": 14,
    "start_time": "2022-08-13T11:20:43.461Z"
   },
   {
    "duration": 42,
    "start_time": "2022-08-13T11:20:43.477Z"
   },
   {
    "duration": 9,
    "start_time": "2022-08-13T11:20:43.520Z"
   },
   {
    "duration": 23,
    "start_time": "2022-08-13T11:20:43.530Z"
   },
   {
    "duration": 30,
    "start_time": "2022-08-13T11:20:43.554Z"
   },
   {
    "duration": 32,
    "start_time": "2022-08-13T11:20:43.586Z"
   },
   {
    "duration": 28,
    "start_time": "2022-08-13T11:20:43.621Z"
   },
   {
    "duration": 4,
    "start_time": "2022-08-13T11:20:43.651Z"
   },
   {
    "duration": 15,
    "start_time": "2022-08-13T11:20:43.657Z"
   },
   {
    "duration": 40,
    "start_time": "2022-08-13T11:20:43.674Z"
   },
   {
    "duration": 7,
    "start_time": "2022-08-13T11:20:43.716Z"
   },
   {
    "duration": 13,
    "start_time": "2022-08-13T11:20:43.725Z"
   },
   {
    "duration": 11,
    "start_time": "2022-08-13T11:20:43.739Z"
   },
   {
    "duration": 12,
    "start_time": "2022-08-13T11:20:43.752Z"
   },
   {
    "duration": 15,
    "start_time": "2022-08-13T11:20:43.765Z"
   },
   {
    "duration": 25,
    "start_time": "2022-08-13T11:20:43.811Z"
   },
   {
    "duration": 39,
    "start_time": "2022-08-13T11:20:43.838Z"
   },
   {
    "duration": 16,
    "start_time": "2022-08-13T11:20:43.879Z"
   },
   {
    "duration": 5,
    "start_time": "2022-08-13T11:20:43.911Z"
   },
   {
    "duration": 21,
    "start_time": "2022-08-13T11:20:43.918Z"
   },
   {
    "duration": 31,
    "start_time": "2022-08-13T11:20:43.941Z"
   },
   {
    "duration": 10,
    "start_time": "2022-08-13T11:20:43.975Z"
   },
   {
    "duration": 35,
    "start_time": "2022-08-13T11:20:43.986Z"
   },
   {
    "duration": 14,
    "start_time": "2022-08-13T11:20:44.023Z"
   },
   {
    "duration": 876,
    "start_time": "2022-08-13T11:21:02.533Z"
   },
   {
    "duration": 4,
    "start_time": "2022-08-13T11:21:21.885Z"
   },
   {
    "duration": 729,
    "start_time": "2022-08-13T11:22:24.733Z"
   },
   {
    "duration": 3,
    "start_time": "2022-08-13T11:22:28.739Z"
   },
   {
    "duration": 94,
    "start_time": "2022-08-13T11:22:28.744Z"
   },
   {
    "duration": 12,
    "start_time": "2022-08-13T11:22:28.839Z"
   },
   {
    "duration": 46,
    "start_time": "2022-08-13T11:22:28.852Z"
   },
   {
    "duration": 11,
    "start_time": "2022-08-13T11:22:28.900Z"
   },
   {
    "duration": 32,
    "start_time": "2022-08-13T11:22:28.913Z"
   },
   {
    "duration": 28,
    "start_time": "2022-08-13T11:22:28.947Z"
   },
   {
    "duration": 11,
    "start_time": "2022-08-13T11:22:28.977Z"
   },
   {
    "duration": 43,
    "start_time": "2022-08-13T11:22:28.991Z"
   },
   {
    "duration": 5,
    "start_time": "2022-08-13T11:22:29.035Z"
   },
   {
    "duration": 16,
    "start_time": "2022-08-13T11:22:29.041Z"
   },
   {
    "duration": 13,
    "start_time": "2022-08-13T11:22:29.058Z"
   },
   {
    "duration": 8,
    "start_time": "2022-08-13T11:22:29.072Z"
   },
   {
    "duration": 40,
    "start_time": "2022-08-13T11:22:29.082Z"
   },
   {
    "duration": 12,
    "start_time": "2022-08-13T11:22:29.123Z"
   },
   {
    "duration": 17,
    "start_time": "2022-08-13T11:22:29.137Z"
   },
   {
    "duration": 15,
    "start_time": "2022-08-13T11:22:29.155Z"
   },
   {
    "duration": 40,
    "start_time": "2022-08-13T11:22:29.171Z"
   },
   {
    "duration": 35,
    "start_time": "2022-08-13T11:22:29.212Z"
   },
   {
    "duration": 18,
    "start_time": "2022-08-13T11:22:29.249Z"
   },
   {
    "duration": 5,
    "start_time": "2022-08-13T11:22:29.268Z"
   },
   {
    "duration": 37,
    "start_time": "2022-08-13T11:22:29.275Z"
   },
   {
    "duration": 33,
    "start_time": "2022-08-13T11:22:29.314Z"
   },
   {
    "duration": 15,
    "start_time": "2022-08-13T11:22:29.350Z"
   },
   {
    "duration": 15,
    "start_time": "2022-08-13T11:22:29.366Z"
   },
   {
    "duration": 834,
    "start_time": "2022-08-13T11:22:29.382Z"
   },
   {
    "duration": 25,
    "start_time": "2022-08-13T11:23:02.546Z"
   },
   {
    "duration": 8,
    "start_time": "2022-08-13T11:23:09.332Z"
   },
   {
    "duration": 3,
    "start_time": "2022-08-13T11:23:34.361Z"
   },
   {
    "duration": 98,
    "start_time": "2022-08-13T11:23:34.366Z"
   },
   {
    "duration": 13,
    "start_time": "2022-08-13T11:23:34.466Z"
   },
   {
    "duration": 44,
    "start_time": "2022-08-13T11:23:34.480Z"
   },
   {
    "duration": 11,
    "start_time": "2022-08-13T11:23:34.525Z"
   },
   {
    "duration": 28,
    "start_time": "2022-08-13T11:23:34.538Z"
   },
   {
    "duration": 31,
    "start_time": "2022-08-13T11:23:34.567Z"
   },
   {
    "duration": 14,
    "start_time": "2022-08-13T11:23:34.612Z"
   },
   {
    "duration": 31,
    "start_time": "2022-08-13T11:23:34.628Z"
   },
   {
    "duration": 4,
    "start_time": "2022-08-13T11:23:34.663Z"
   },
   {
    "duration": 46,
    "start_time": "2022-08-13T11:23:34.668Z"
   },
   {
    "duration": 15,
    "start_time": "2022-08-13T11:23:34.716Z"
   },
   {
    "duration": 8,
    "start_time": "2022-08-13T11:23:34.733Z"
   },
   {
    "duration": 12,
    "start_time": "2022-08-13T11:23:34.743Z"
   },
   {
    "duration": 12,
    "start_time": "2022-08-13T11:23:34.756Z"
   },
   {
    "duration": 44,
    "start_time": "2022-08-13T11:23:34.770Z"
   },
   {
    "duration": 16,
    "start_time": "2022-08-13T11:23:34.815Z"
   },
   {
    "duration": 19,
    "start_time": "2022-08-13T11:23:34.833Z"
   },
   {
    "duration": 35,
    "start_time": "2022-08-13T11:23:34.853Z"
   },
   {
    "duration": 36,
    "start_time": "2022-08-13T11:23:34.890Z"
   },
   {
    "duration": 4,
    "start_time": "2022-08-13T11:23:34.928Z"
   },
   {
    "duration": 15,
    "start_time": "2022-08-13T11:23:34.934Z"
   },
   {
    "duration": 72,
    "start_time": "2022-08-13T11:23:34.950Z"
   },
   {
    "duration": 11,
    "start_time": "2022-08-13T11:23:35.023Z"
   },
   {
    "duration": 18,
    "start_time": "2022-08-13T11:23:35.036Z"
   },
   {
    "duration": 17,
    "start_time": "2022-08-13T11:23:35.055Z"
   },
   {
    "duration": 9,
    "start_time": "2022-08-13T11:23:35.074Z"
   },
   {
    "duration": 3,
    "start_time": "2022-08-13T11:25:50.575Z"
   },
   {
    "duration": 111,
    "start_time": "2022-08-13T11:25:50.579Z"
   },
   {
    "duration": 12,
    "start_time": "2022-08-13T11:25:50.691Z"
   },
   {
    "duration": 47,
    "start_time": "2022-08-13T11:25:50.705Z"
   },
   {
    "duration": 10,
    "start_time": "2022-08-13T11:25:50.754Z"
   },
   {
    "duration": 24,
    "start_time": "2022-08-13T11:25:50.765Z"
   },
   {
    "duration": 30,
    "start_time": "2022-08-13T11:25:50.791Z"
   },
   {
    "duration": 13,
    "start_time": "2022-08-13T11:25:50.822Z"
   },
   {
    "duration": 27,
    "start_time": "2022-08-13T11:25:50.836Z"
   },
   {
    "duration": 4,
    "start_time": "2022-08-13T11:25:50.864Z"
   },
   {
    "duration": 17,
    "start_time": "2022-08-13T11:25:50.869Z"
   },
   {
    "duration": 12,
    "start_time": "2022-08-13T11:25:50.888Z"
   },
   {
    "duration": 14,
    "start_time": "2022-08-13T11:25:50.901Z"
   },
   {
    "duration": 13,
    "start_time": "2022-08-13T11:25:50.917Z"
   },
   {
    "duration": 12,
    "start_time": "2022-08-13T11:25:50.932Z"
   },
   {
    "duration": 12,
    "start_time": "2022-08-13T11:25:50.946Z"
   },
   {
    "duration": 15,
    "start_time": "2022-08-13T11:25:50.959Z"
   },
   {
    "duration": 16,
    "start_time": "2022-08-13T11:25:50.975Z"
   },
   {
    "duration": 43,
    "start_time": "2022-08-13T11:25:50.993Z"
   },
   {
    "duration": 17,
    "start_time": "2022-08-13T11:25:51.037Z"
   },
   {
    "duration": 39,
    "start_time": "2022-08-13T11:25:51.056Z"
   },
   {
    "duration": 5,
    "start_time": "2022-08-13T11:26:26.302Z"
   },
   {
    "duration": 13,
    "start_time": "2022-08-13T11:26:59.560Z"
   },
   {
    "duration": 17,
    "start_time": "2022-08-13T11:30:12.238Z"
   },
   {
    "duration": 13,
    "start_time": "2022-08-13T11:30:49.979Z"
   },
   {
    "duration": 11,
    "start_time": "2022-08-13T11:31:52.565Z"
   },
   {
    "duration": 26,
    "start_time": "2022-08-13T11:34:22.463Z"
   },
   {
    "duration": 8,
    "start_time": "2022-08-13T11:39:05.261Z"
   },
   {
    "duration": 12,
    "start_time": "2022-08-13T11:39:15.641Z"
   },
   {
    "duration": 8,
    "start_time": "2022-08-13T11:39:36.987Z"
   },
   {
    "duration": 9,
    "start_time": "2022-08-13T11:40:16.250Z"
   },
   {
    "duration": 11,
    "start_time": "2022-08-13T11:41:41.310Z"
   },
   {
    "duration": 1499,
    "start_time": "2022-08-13T11:41:49.052Z"
   },
   {
    "duration": 1681,
    "start_time": "2022-08-13T11:41:58.815Z"
   },
   {
    "duration": 1683,
    "start_time": "2022-08-13T11:42:41.467Z"
   },
   {
    "duration": 10,
    "start_time": "2022-08-13T11:43:43.017Z"
   },
   {
    "duration": 3,
    "start_time": "2022-08-13T11:43:49.887Z"
   },
   {
    "duration": 98,
    "start_time": "2022-08-13T11:43:49.892Z"
   },
   {
    "duration": 19,
    "start_time": "2022-08-13T11:43:49.992Z"
   },
   {
    "duration": 47,
    "start_time": "2022-08-13T11:43:50.013Z"
   },
   {
    "duration": 9,
    "start_time": "2022-08-13T11:43:50.061Z"
   },
   {
    "duration": 23,
    "start_time": "2022-08-13T11:43:50.072Z"
   },
   {
    "duration": 29,
    "start_time": "2022-08-13T11:43:50.096Z"
   },
   {
    "duration": 12,
    "start_time": "2022-08-13T11:43:50.127Z"
   },
   {
    "duration": 26,
    "start_time": "2022-08-13T11:43:50.140Z"
   },
   {
    "duration": 5,
    "start_time": "2022-08-13T11:43:50.167Z"
   },
   {
    "duration": 37,
    "start_time": "2022-08-13T11:43:50.174Z"
   },
   {
    "duration": 12,
    "start_time": "2022-08-13T11:43:50.213Z"
   },
   {
    "duration": 9,
    "start_time": "2022-08-13T11:43:50.227Z"
   },
   {
    "duration": 13,
    "start_time": "2022-08-13T11:43:50.237Z"
   },
   {
    "duration": 12,
    "start_time": "2022-08-13T11:43:50.251Z"
   },
   {
    "duration": 17,
    "start_time": "2022-08-13T11:43:50.264Z"
   },
   {
    "duration": 40,
    "start_time": "2022-08-13T11:43:50.282Z"
   },
   {
    "duration": 15,
    "start_time": "2022-08-13T11:43:50.324Z"
   },
   {
    "duration": 33,
    "start_time": "2022-08-13T11:43:50.341Z"
   },
   {
    "duration": 43,
    "start_time": "2022-08-13T11:43:50.376Z"
   },
   {
    "duration": 35,
    "start_time": "2022-08-13T11:43:50.420Z"
   },
   {
    "duration": 12,
    "start_time": "2022-08-13T11:43:50.457Z"
   },
   {
    "duration": 7,
    "start_time": "2022-08-13T11:43:50.471Z"
   },
   {
    "duration": 48,
    "start_time": "2022-08-13T11:43:50.480Z"
   },
   {
    "duration": 1474,
    "start_time": "2022-08-13T11:43:50.530Z"
   },
   {
    "duration": 13,
    "start_time": "2022-08-13T11:43:52.005Z"
   },
   {
    "duration": 1583,
    "start_time": "2022-08-13T11:44:05.514Z"
   },
   {
    "duration": 1554,
    "start_time": "2022-08-13T11:44:14.018Z"
   },
   {
    "duration": 10,
    "start_time": "2022-08-13T11:44:30.694Z"
   },
   {
    "duration": 2486,
    "start_time": "2022-08-13T11:44:34.882Z"
   },
   {
    "duration": 1567,
    "start_time": "2022-08-13T11:46:14.613Z"
   },
   {
    "duration": 3,
    "start_time": "2022-08-13T11:48:26.754Z"
   },
   {
    "duration": 97,
    "start_time": "2022-08-13T11:48:26.759Z"
   },
   {
    "duration": 12,
    "start_time": "2022-08-13T11:48:26.858Z"
   },
   {
    "duration": 44,
    "start_time": "2022-08-13T11:48:26.872Z"
   },
   {
    "duration": 10,
    "start_time": "2022-08-13T11:48:26.918Z"
   },
   {
    "duration": 22,
    "start_time": "2022-08-13T11:48:26.929Z"
   },
   {
    "duration": 29,
    "start_time": "2022-08-13T11:48:26.953Z"
   },
   {
    "duration": 30,
    "start_time": "2022-08-13T11:48:26.984Z"
   },
   {
    "duration": 27,
    "start_time": "2022-08-13T11:48:27.015Z"
   },
   {
    "duration": 4,
    "start_time": "2022-08-13T11:48:27.044Z"
   },
   {
    "duration": 17,
    "start_time": "2022-08-13T11:48:27.050Z"
   },
   {
    "duration": 43,
    "start_time": "2022-08-13T11:48:27.069Z"
   },
   {
    "duration": 9,
    "start_time": "2022-08-13T11:48:27.114Z"
   },
   {
    "duration": 13,
    "start_time": "2022-08-13T11:48:27.125Z"
   },
   {
    "duration": 13,
    "start_time": "2022-08-13T11:48:27.139Z"
   },
   {
    "duration": 26,
    "start_time": "2022-08-13T11:48:27.153Z"
   },
   {
    "duration": 32,
    "start_time": "2022-08-13T11:48:27.181Z"
   },
   {
    "duration": 16,
    "start_time": "2022-08-13T11:48:27.215Z"
   },
   {
    "duration": 35,
    "start_time": "2022-08-13T11:48:27.233Z"
   },
   {
    "duration": 40,
    "start_time": "2022-08-13T11:48:27.271Z"
   },
   {
    "duration": 2348,
    "start_time": "2022-08-13T11:48:27.312Z"
   },
   {
    "duration": 4,
    "start_time": "2022-08-13T11:48:40.958Z"
   },
   {
    "duration": 2326,
    "start_time": "2022-08-13T11:49:37.169Z"
   },
   {
    "duration": 7,
    "start_time": "2022-08-13T11:50:17.821Z"
   },
   {
    "duration": 2,
    "start_time": "2022-08-13T11:50:50.627Z"
   },
   {
    "duration": 99,
    "start_time": "2022-08-13T11:50:50.631Z"
   },
   {
    "duration": 13,
    "start_time": "2022-08-13T11:50:50.732Z"
   },
   {
    "duration": 49,
    "start_time": "2022-08-13T11:50:50.746Z"
   },
   {
    "duration": 9,
    "start_time": "2022-08-13T11:50:50.797Z"
   },
   {
    "duration": 23,
    "start_time": "2022-08-13T11:50:50.808Z"
   },
   {
    "duration": 30,
    "start_time": "2022-08-13T11:50:50.832Z"
   },
   {
    "duration": 13,
    "start_time": "2022-08-13T11:50:50.863Z"
   },
   {
    "duration": 47,
    "start_time": "2022-08-13T11:50:50.878Z"
   },
   {
    "duration": 4,
    "start_time": "2022-08-13T11:50:50.926Z"
   },
   {
    "duration": 18,
    "start_time": "2022-08-13T11:50:50.931Z"
   },
   {
    "duration": 13,
    "start_time": "2022-08-13T11:50:50.950Z"
   },
   {
    "duration": 7,
    "start_time": "2022-08-13T11:50:50.965Z"
   },
   {
    "duration": 38,
    "start_time": "2022-08-13T11:50:50.974Z"
   },
   {
    "duration": 13,
    "start_time": "2022-08-13T11:50:51.013Z"
   },
   {
    "duration": 15,
    "start_time": "2022-08-13T11:50:51.028Z"
   },
   {
    "duration": 17,
    "start_time": "2022-08-13T11:50:51.045Z"
   },
   {
    "duration": 16,
    "start_time": "2022-08-13T11:50:51.063Z"
   },
   {
    "duration": 37,
    "start_time": "2022-08-13T11:50:51.110Z"
   },
   {
    "duration": 18,
    "start_time": "2022-08-13T11:50:51.148Z"
   },
   {
    "duration": 2705,
    "start_time": "2022-08-13T11:50:51.167Z"
   },
   {
    "duration": 2304,
    "start_time": "2022-08-13T11:50:53.874Z"
   },
   {
    "duration": 7,
    "start_time": "2022-08-13T11:51:57.589Z"
   },
   {
    "duration": 3,
    "start_time": "2022-08-13T11:53:04.893Z"
   },
   {
    "duration": 99,
    "start_time": "2022-08-13T11:53:04.898Z"
   },
   {
    "duration": 13,
    "start_time": "2022-08-13T11:53:04.998Z"
   },
   {
    "duration": 46,
    "start_time": "2022-08-13T11:53:05.013Z"
   },
   {
    "duration": 9,
    "start_time": "2022-08-13T11:53:05.061Z"
   },
   {
    "duration": 23,
    "start_time": "2022-08-13T11:53:05.072Z"
   },
   {
    "duration": 30,
    "start_time": "2022-08-13T11:53:05.096Z"
   },
   {
    "duration": 11,
    "start_time": "2022-08-13T11:53:05.127Z"
   },
   {
    "duration": 25,
    "start_time": "2022-08-13T11:53:05.139Z"
   },
   {
    "duration": 4,
    "start_time": "2022-08-13T11:53:05.165Z"
   },
   {
    "duration": 16,
    "start_time": "2022-08-13T11:53:05.170Z"
   },
   {
    "duration": 32,
    "start_time": "2022-08-13T11:53:05.187Z"
   },
   {
    "duration": 8,
    "start_time": "2022-08-13T11:53:05.220Z"
   },
   {
    "duration": 12,
    "start_time": "2022-08-13T11:53:05.231Z"
   },
   {
    "duration": 12,
    "start_time": "2022-08-13T11:53:05.244Z"
   },
   {
    "duration": 12,
    "start_time": "2022-08-13T11:53:05.258Z"
   },
   {
    "duration": 44,
    "start_time": "2022-08-13T11:53:05.271Z"
   },
   {
    "duration": 15,
    "start_time": "2022-08-13T11:53:05.317Z"
   },
   {
    "duration": 33,
    "start_time": "2022-08-13T11:53:05.334Z"
   },
   {
    "duration": 19,
    "start_time": "2022-08-13T11:53:05.368Z"
   },
   {
    "duration": 2381,
    "start_time": "2022-08-13T11:53:05.389Z"
   },
   {
    "duration": 2469,
    "start_time": "2022-08-13T11:53:07.771Z"
   },
   {
    "duration": 8,
    "start_time": "2022-08-13T11:53:26.378Z"
   },
   {
    "duration": 2373,
    "start_time": "2022-08-13T11:53:56.347Z"
   },
   {
    "duration": 6,
    "start_time": "2022-08-13T11:53:58.722Z"
   },
   {
    "duration": 2,
    "start_time": "2022-08-13T11:54:04.624Z"
   },
   {
    "duration": 100,
    "start_time": "2022-08-13T11:54:04.628Z"
   },
   {
    "duration": 13,
    "start_time": "2022-08-13T11:54:04.729Z"
   },
   {
    "duration": 42,
    "start_time": "2022-08-13T11:54:04.744Z"
   },
   {
    "duration": 9,
    "start_time": "2022-08-13T11:54:04.787Z"
   },
   {
    "duration": 24,
    "start_time": "2022-08-13T11:54:04.797Z"
   },
   {
    "duration": 29,
    "start_time": "2022-08-13T11:54:04.823Z"
   },
   {
    "duration": 11,
    "start_time": "2022-08-13T11:54:04.854Z"
   },
   {
    "duration": 47,
    "start_time": "2022-08-13T11:54:04.867Z"
   },
   {
    "duration": 4,
    "start_time": "2022-08-13T11:54:04.916Z"
   },
   {
    "duration": 19,
    "start_time": "2022-08-13T11:54:04.922Z"
   },
   {
    "duration": 12,
    "start_time": "2022-08-13T11:54:04.943Z"
   },
   {
    "duration": 9,
    "start_time": "2022-08-13T11:54:04.957Z"
   },
   {
    "duration": 36,
    "start_time": "2022-08-13T11:54:04.967Z"
   },
   {
    "duration": 17,
    "start_time": "2022-08-13T11:54:05.014Z"
   },
   {
    "duration": 20,
    "start_time": "2022-08-13T11:54:05.032Z"
   },
   {
    "duration": 15,
    "start_time": "2022-08-13T11:54:05.053Z"
   },
   {
    "duration": 15,
    "start_time": "2022-08-13T11:54:05.069Z"
   },
   {
    "duration": 54,
    "start_time": "2022-08-13T11:54:05.086Z"
   },
   {
    "duration": 17,
    "start_time": "2022-08-13T11:54:05.142Z"
   },
   {
    "duration": 2404,
    "start_time": "2022-08-13T11:54:05.161Z"
   },
   {
    "duration": 1625,
    "start_time": "2022-08-13T11:54:58.063Z"
   },
   {
    "duration": 1739,
    "start_time": "2022-08-13T11:55:34.782Z"
   },
   {
    "duration": 1786,
    "start_time": "2022-08-13T11:56:26.508Z"
   },
   {
    "duration": 3,
    "start_time": "2022-08-13T11:56:48.009Z"
   },
   {
    "duration": 96,
    "start_time": "2022-08-13T11:56:48.013Z"
   },
   {
    "duration": 16,
    "start_time": "2022-08-13T11:56:48.111Z"
   },
   {
    "duration": 48,
    "start_time": "2022-08-13T11:56:48.128Z"
   },
   {
    "duration": 9,
    "start_time": "2022-08-13T11:56:48.178Z"
   },
   {
    "duration": 23,
    "start_time": "2022-08-13T11:56:48.188Z"
   },
   {
    "duration": 28,
    "start_time": "2022-08-13T11:56:48.213Z"
   },
   {
    "duration": 12,
    "start_time": "2022-08-13T11:56:48.243Z"
   },
   {
    "duration": 26,
    "start_time": "2022-08-13T11:56:48.256Z"
   },
   {
    "duration": 28,
    "start_time": "2022-08-13T11:56:48.283Z"
   },
   {
    "duration": 17,
    "start_time": "2022-08-13T11:56:48.313Z"
   },
   {
    "duration": 13,
    "start_time": "2022-08-13T11:56:48.332Z"
   },
   {
    "duration": 10,
    "start_time": "2022-08-13T11:56:48.347Z"
   },
   {
    "duration": 12,
    "start_time": "2022-08-13T11:56:48.360Z"
   },
   {
    "duration": 48,
    "start_time": "2022-08-13T11:56:48.374Z"
   },
   {
    "duration": 12,
    "start_time": "2022-08-13T11:56:48.424Z"
   },
   {
    "duration": 17,
    "start_time": "2022-08-13T11:56:48.438Z"
   },
   {
    "duration": 16,
    "start_time": "2022-08-13T11:56:48.456Z"
   },
   {
    "duration": 65,
    "start_time": "2022-08-13T11:56:48.474Z"
   },
   {
    "duration": 19,
    "start_time": "2022-08-13T11:56:48.540Z"
   },
   {
    "duration": 2415,
    "start_time": "2022-08-13T11:56:48.561Z"
   },
   {
    "duration": 1532,
    "start_time": "2022-08-13T11:56:50.977Z"
   },
   {
    "duration": 9,
    "start_time": "2022-08-13T11:56:55.588Z"
   },
   {
    "duration": 13,
    "start_time": "2022-08-13T11:57:30.431Z"
   },
   {
    "duration": 382,
    "start_time": "2022-08-13T16:45:04.113Z"
   },
   {
    "duration": 234,
    "start_time": "2022-08-13T16:45:04.497Z"
   },
   {
    "duration": 13,
    "start_time": "2022-08-13T16:45:04.732Z"
   },
   {
    "duration": 115,
    "start_time": "2022-08-13T16:45:04.747Z"
   },
   {
    "duration": 9,
    "start_time": "2022-08-13T16:45:04.864Z"
   },
   {
    "duration": 47,
    "start_time": "2022-08-13T16:45:04.875Z"
   },
   {
    "duration": 29,
    "start_time": "2022-08-13T16:45:04.923Z"
   },
   {
    "duration": 23,
    "start_time": "2022-08-13T16:45:04.954Z"
   },
   {
    "duration": 47,
    "start_time": "2022-08-13T16:45:04.978Z"
   },
   {
    "duration": 7,
    "start_time": "2022-08-13T16:45:05.026Z"
   },
   {
    "duration": 48,
    "start_time": "2022-08-13T16:45:05.035Z"
   },
   {
    "duration": 36,
    "start_time": "2022-08-13T16:45:05.084Z"
   },
   {
    "duration": 21,
    "start_time": "2022-08-13T16:45:05.121Z"
   },
   {
    "duration": 31,
    "start_time": "2022-08-13T16:45:05.144Z"
   },
   {
    "duration": 15,
    "start_time": "2022-08-13T16:45:05.176Z"
   },
   {
    "duration": 33,
    "start_time": "2022-08-13T16:45:05.192Z"
   },
   {
    "duration": 23,
    "start_time": "2022-08-13T16:45:05.227Z"
   },
   {
    "duration": 23,
    "start_time": "2022-08-13T16:45:05.251Z"
   },
   {
    "duration": 39,
    "start_time": "2022-08-13T16:45:05.276Z"
   },
   {
    "duration": 14,
    "start_time": "2022-08-13T16:45:05.317Z"
   },
   {
    "duration": 111,
    "start_time": "2022-08-13T16:45:05.333Z"
   },
   {
    "duration": 0,
    "start_time": "2022-08-13T16:45:05.446Z"
   },
   {
    "duration": 0,
    "start_time": "2022-08-13T16:45:05.447Z"
   },
   {
    "duration": 41,
    "start_time": "2022-08-13T16:46:24.553Z"
   },
   {
    "duration": 38,
    "start_time": "2022-08-13T16:47:02.557Z"
   },
   {
    "duration": 39,
    "start_time": "2022-08-13T16:47:12.108Z"
   },
   {
    "duration": 1498,
    "start_time": "2022-08-13T16:47:17.805Z"
   },
   {
    "duration": 16,
    "start_time": "2022-08-13T16:47:45.281Z"
   },
   {
    "duration": 7,
    "start_time": "2022-08-13T16:47:49.256Z"
   },
   {
    "duration": 3,
    "start_time": "2022-08-13T16:50:30.861Z"
   },
   {
    "duration": 9,
    "start_time": "2022-08-13T16:51:23.983Z"
   },
   {
    "duration": 10,
    "start_time": "2022-08-13T16:51:33.521Z"
   },
   {
    "duration": 3,
    "start_time": "2022-08-13T16:51:41.091Z"
   },
   {
    "duration": 99,
    "start_time": "2022-08-13T16:51:41.098Z"
   },
   {
    "duration": 14,
    "start_time": "2022-08-13T16:51:41.199Z"
   },
   {
    "duration": 54,
    "start_time": "2022-08-13T16:51:41.214Z"
   },
   {
    "duration": 8,
    "start_time": "2022-08-13T16:51:41.270Z"
   },
   {
    "duration": 36,
    "start_time": "2022-08-13T16:51:41.281Z"
   },
   {
    "duration": 40,
    "start_time": "2022-08-13T16:51:41.318Z"
   },
   {
    "duration": 13,
    "start_time": "2022-08-13T16:51:41.359Z"
   },
   {
    "duration": 43,
    "start_time": "2022-08-13T16:51:41.373Z"
   },
   {
    "duration": 3,
    "start_time": "2022-08-13T16:51:41.418Z"
   },
   {
    "duration": 49,
    "start_time": "2022-08-13T16:51:41.423Z"
   },
   {
    "duration": 27,
    "start_time": "2022-08-13T16:51:41.474Z"
   },
   {
    "duration": 30,
    "start_time": "2022-08-13T16:51:41.503Z"
   },
   {
    "duration": 29,
    "start_time": "2022-08-13T16:51:41.535Z"
   },
   {
    "duration": 25,
    "start_time": "2022-08-13T16:51:41.569Z"
   },
   {
    "duration": 39,
    "start_time": "2022-08-13T16:51:41.596Z"
   },
   {
    "duration": 35,
    "start_time": "2022-08-13T16:51:41.637Z"
   },
   {
    "duration": 30,
    "start_time": "2022-08-13T16:51:41.674Z"
   },
   {
    "duration": 35,
    "start_time": "2022-08-13T16:51:41.706Z"
   },
   {
    "duration": 17,
    "start_time": "2022-08-13T16:51:41.742Z"
   },
   {
    "duration": 50,
    "start_time": "2022-08-13T16:51:41.760Z"
   },
   {
    "duration": 4,
    "start_time": "2022-08-13T16:51:41.812Z"
   },
   {
    "duration": 21,
    "start_time": "2022-08-13T16:51:41.818Z"
   },
   {
    "duration": 3,
    "start_time": "2022-08-13T16:52:28.445Z"
   },
   {
    "duration": 11,
    "start_time": "2022-08-13T16:52:30.167Z"
   },
   {
    "duration": 4,
    "start_time": "2022-08-13T16:52:35.986Z"
   },
   {
    "duration": 122,
    "start_time": "2022-08-13T16:52:35.992Z"
   },
   {
    "duration": 13,
    "start_time": "2022-08-13T16:52:36.115Z"
   },
   {
    "duration": 44,
    "start_time": "2022-08-13T16:52:36.130Z"
   },
   {
    "duration": 10,
    "start_time": "2022-08-13T16:52:36.176Z"
   },
   {
    "duration": 23,
    "start_time": "2022-08-13T16:52:36.187Z"
   },
   {
    "duration": 29,
    "start_time": "2022-08-13T16:52:36.211Z"
   },
   {
    "duration": 12,
    "start_time": "2022-08-13T16:52:36.242Z"
   },
   {
    "duration": 47,
    "start_time": "2022-08-13T16:52:36.255Z"
   },
   {
    "duration": 5,
    "start_time": "2022-08-13T16:52:36.303Z"
   },
   {
    "duration": 17,
    "start_time": "2022-08-13T16:52:36.310Z"
   },
   {
    "duration": 16,
    "start_time": "2022-08-13T16:52:36.329Z"
   },
   {
    "duration": 7,
    "start_time": "2022-08-13T16:52:36.346Z"
   },
   {
    "duration": 45,
    "start_time": "2022-08-13T16:52:36.355Z"
   },
   {
    "duration": 13,
    "start_time": "2022-08-13T16:52:36.401Z"
   },
   {
    "duration": 12,
    "start_time": "2022-08-13T16:52:36.416Z"
   },
   {
    "duration": 17,
    "start_time": "2022-08-13T16:52:36.429Z"
   },
   {
    "duration": 14,
    "start_time": "2022-08-13T16:52:36.448Z"
   },
   {
    "duration": 60,
    "start_time": "2022-08-13T16:52:36.464Z"
   },
   {
    "duration": 18,
    "start_time": "2022-08-13T16:52:36.525Z"
   },
   {
    "duration": 60,
    "start_time": "2022-08-13T16:52:36.544Z"
   },
   {
    "duration": 3,
    "start_time": "2022-08-13T16:52:36.605Z"
   },
   {
    "duration": 10,
    "start_time": "2022-08-13T16:52:36.610Z"
   },
   {
    "duration": 4,
    "start_time": "2022-08-13T16:53:00.888Z"
   },
   {
    "duration": 21,
    "start_time": "2022-08-13T16:53:01.694Z"
   },
   {
    "duration": 3,
    "start_time": "2022-08-13T16:53:05.133Z"
   },
   {
    "duration": 107,
    "start_time": "2022-08-13T16:53:05.138Z"
   },
   {
    "duration": 12,
    "start_time": "2022-08-13T16:53:05.246Z"
   },
   {
    "duration": 54,
    "start_time": "2022-08-13T16:53:05.260Z"
   },
   {
    "duration": 10,
    "start_time": "2022-08-13T16:53:05.316Z"
   },
   {
    "duration": 21,
    "start_time": "2022-08-13T16:53:05.328Z"
   },
   {
    "duration": 33,
    "start_time": "2022-08-13T16:53:05.350Z"
   },
   {
    "duration": 36,
    "start_time": "2022-08-13T16:53:05.385Z"
   },
   {
    "duration": 25,
    "start_time": "2022-08-13T16:53:05.424Z"
   },
   {
    "duration": 4,
    "start_time": "2022-08-13T16:53:05.451Z"
   },
   {
    "duration": 21,
    "start_time": "2022-08-13T16:53:05.456Z"
   },
   {
    "duration": 15,
    "start_time": "2022-08-13T16:53:05.505Z"
   },
   {
    "duration": 9,
    "start_time": "2022-08-13T16:53:05.522Z"
   },
   {
    "duration": 14,
    "start_time": "2022-08-13T16:53:05.533Z"
   },
   {
    "duration": 27,
    "start_time": "2022-08-13T16:53:05.549Z"
   },
   {
    "duration": 12,
    "start_time": "2022-08-13T16:53:05.578Z"
   },
   {
    "duration": 19,
    "start_time": "2022-08-13T16:53:05.600Z"
   },
   {
    "duration": 17,
    "start_time": "2022-08-13T16:53:05.622Z"
   },
   {
    "duration": 35,
    "start_time": "2022-08-13T16:53:05.640Z"
   },
   {
    "duration": 44,
    "start_time": "2022-08-13T16:53:05.676Z"
   },
   {
    "duration": 34,
    "start_time": "2022-08-13T16:53:05.722Z"
   },
   {
    "duration": 3,
    "start_time": "2022-08-13T16:53:05.757Z"
   },
   {
    "duration": 16,
    "start_time": "2022-08-13T16:53:05.762Z"
   },
   {
    "duration": 3,
    "start_time": "2022-08-13T16:54:33.322Z"
   },
   {
    "duration": 105,
    "start_time": "2022-08-13T16:54:33.326Z"
   },
   {
    "duration": 11,
    "start_time": "2022-08-13T16:54:33.433Z"
   },
   {
    "duration": 45,
    "start_time": "2022-08-13T16:54:33.446Z"
   },
   {
    "duration": 13,
    "start_time": "2022-08-13T16:54:33.493Z"
   },
   {
    "duration": 36,
    "start_time": "2022-08-13T16:54:33.507Z"
   },
   {
    "duration": 31,
    "start_time": "2022-08-13T16:54:33.545Z"
   },
   {
    "duration": 13,
    "start_time": "2022-08-13T16:54:33.577Z"
   },
   {
    "duration": 32,
    "start_time": "2022-08-13T16:54:33.599Z"
   },
   {
    "duration": 4,
    "start_time": "2022-08-13T16:54:33.633Z"
   },
   {
    "duration": 23,
    "start_time": "2022-08-13T16:54:33.639Z"
   },
   {
    "duration": 13,
    "start_time": "2022-08-13T16:54:33.664Z"
   },
   {
    "duration": 30,
    "start_time": "2022-08-13T16:54:33.678Z"
   },
   {
    "duration": 24,
    "start_time": "2022-08-13T16:54:33.710Z"
   },
   {
    "duration": 13,
    "start_time": "2022-08-13T16:54:33.735Z"
   },
   {
    "duration": 12,
    "start_time": "2022-08-13T16:54:33.750Z"
   },
   {
    "duration": 39,
    "start_time": "2022-08-13T16:54:33.763Z"
   },
   {
    "duration": 25,
    "start_time": "2022-08-13T16:54:33.804Z"
   },
   {
    "duration": 45,
    "start_time": "2022-08-13T16:54:33.832Z"
   },
   {
    "duration": 45,
    "start_time": "2022-08-13T16:54:33.879Z"
   },
   {
    "duration": 47,
    "start_time": "2022-08-13T16:54:33.926Z"
   },
   {
    "duration": 4,
    "start_time": "2022-08-13T16:54:33.975Z"
   },
   {
    "duration": 33,
    "start_time": "2022-08-13T16:54:33.980Z"
   },
   {
    "duration": 2,
    "start_time": "2022-08-13T16:55:14.772Z"
   },
   {
    "duration": 91,
    "start_time": "2022-08-13T16:55:14.776Z"
   },
   {
    "duration": 11,
    "start_time": "2022-08-13T16:55:14.870Z"
   },
   {
    "duration": 43,
    "start_time": "2022-08-13T16:55:14.883Z"
   },
   {
    "duration": 9,
    "start_time": "2022-08-13T16:55:14.928Z"
   },
   {
    "duration": 21,
    "start_time": "2022-08-13T16:55:14.939Z"
   },
   {
    "duration": 68,
    "start_time": "2022-08-13T16:55:14.962Z"
   },
   {
    "duration": 13,
    "start_time": "2022-08-13T16:55:15.032Z"
   },
   {
    "duration": 29,
    "start_time": "2022-08-13T16:55:15.046Z"
   },
   {
    "duration": 5,
    "start_time": "2022-08-13T16:55:15.078Z"
   },
   {
    "duration": 15,
    "start_time": "2022-08-13T16:55:15.101Z"
   },
   {
    "duration": 18,
    "start_time": "2022-08-13T16:55:15.118Z"
   },
   {
    "duration": 9,
    "start_time": "2022-08-13T16:55:15.138Z"
   },
   {
    "duration": 17,
    "start_time": "2022-08-13T16:55:15.149Z"
   },
   {
    "duration": 36,
    "start_time": "2022-08-13T16:55:15.168Z"
   },
   {
    "duration": 14,
    "start_time": "2022-08-13T16:55:15.206Z"
   },
   {
    "duration": 16,
    "start_time": "2022-08-13T16:55:15.222Z"
   },
   {
    "duration": 20,
    "start_time": "2022-08-13T16:55:15.240Z"
   },
   {
    "duration": 60,
    "start_time": "2022-08-13T16:55:15.261Z"
   },
   {
    "duration": 16,
    "start_time": "2022-08-13T16:55:15.322Z"
   },
   {
    "duration": 33,
    "start_time": "2022-08-13T16:55:15.339Z"
   },
   {
    "duration": 3,
    "start_time": "2022-08-13T16:55:15.373Z"
   },
   {
    "duration": 496,
    "start_time": "2022-08-13T16:55:15.377Z"
   },
   {
    "duration": 3,
    "start_time": "2022-08-13T16:56:56.895Z"
   },
   {
    "duration": 91,
    "start_time": "2022-08-13T16:56:56.906Z"
   },
   {
    "duration": 14,
    "start_time": "2022-08-13T16:56:57.000Z"
   },
   {
    "duration": 47,
    "start_time": "2022-08-13T16:56:57.015Z"
   },
   {
    "duration": 10,
    "start_time": "2022-08-13T16:56:57.064Z"
   },
   {
    "duration": 24,
    "start_time": "2022-08-13T16:56:57.076Z"
   },
   {
    "duration": 33,
    "start_time": "2022-08-13T16:56:57.101Z"
   },
   {
    "duration": 13,
    "start_time": "2022-08-13T16:56:57.136Z"
   },
   {
    "duration": 50,
    "start_time": "2022-08-13T16:56:57.151Z"
   },
   {
    "duration": 4,
    "start_time": "2022-08-13T16:56:57.203Z"
   },
   {
    "duration": 24,
    "start_time": "2022-08-13T16:56:57.209Z"
   },
   {
    "duration": 30,
    "start_time": "2022-08-13T16:56:57.234Z"
   },
   {
    "duration": 24,
    "start_time": "2022-08-13T16:56:57.265Z"
   },
   {
    "duration": 29,
    "start_time": "2022-08-13T16:56:57.291Z"
   },
   {
    "duration": 37,
    "start_time": "2022-08-13T16:56:57.322Z"
   },
   {
    "duration": 33,
    "start_time": "2022-08-13T16:56:57.360Z"
   },
   {
    "duration": 20,
    "start_time": "2022-08-13T16:56:57.395Z"
   },
   {
    "duration": 32,
    "start_time": "2022-08-13T16:56:57.416Z"
   },
   {
    "duration": 42,
    "start_time": "2022-08-13T16:56:57.450Z"
   },
   {
    "duration": 17,
    "start_time": "2022-08-13T16:56:57.494Z"
   },
   {
    "duration": 49,
    "start_time": "2022-08-13T16:56:57.512Z"
   },
   {
    "duration": 3,
    "start_time": "2022-08-13T16:56:57.563Z"
   },
   {
    "duration": 574,
    "start_time": "2022-08-13T16:56:57.568Z"
   },
   {
    "duration": 12,
    "start_time": "2022-08-13T16:57:16.305Z"
   },
   {
    "duration": 3,
    "start_time": "2022-08-13T16:57:38.898Z"
   },
   {
    "duration": 92,
    "start_time": "2022-08-13T16:57:38.902Z"
   },
   {
    "duration": 14,
    "start_time": "2022-08-13T16:57:38.996Z"
   },
   {
    "duration": 46,
    "start_time": "2022-08-13T16:57:39.012Z"
   },
   {
    "duration": 9,
    "start_time": "2022-08-13T16:57:39.059Z"
   },
   {
    "duration": 28,
    "start_time": "2022-08-13T16:57:39.070Z"
   },
   {
    "duration": 45,
    "start_time": "2022-08-13T16:57:39.100Z"
   },
   {
    "duration": 17,
    "start_time": "2022-08-13T16:57:39.147Z"
   },
   {
    "duration": 49,
    "start_time": "2022-08-13T16:57:39.166Z"
   },
   {
    "duration": 4,
    "start_time": "2022-08-13T16:57:39.217Z"
   },
   {
    "duration": 24,
    "start_time": "2022-08-13T16:57:39.223Z"
   },
   {
    "duration": 17,
    "start_time": "2022-08-13T16:57:39.250Z"
   },
   {
    "duration": 9,
    "start_time": "2022-08-13T16:57:39.269Z"
   },
   {
    "duration": 28,
    "start_time": "2022-08-13T16:57:39.280Z"
   },
   {
    "duration": 13,
    "start_time": "2022-08-13T16:57:39.310Z"
   },
   {
    "duration": 26,
    "start_time": "2022-08-13T16:57:39.324Z"
   },
   {
    "duration": 17,
    "start_time": "2022-08-13T16:57:39.351Z"
   },
   {
    "duration": 42,
    "start_time": "2022-08-13T16:57:39.369Z"
   },
   {
    "duration": 37,
    "start_time": "2022-08-13T16:57:39.413Z"
   },
   {
    "duration": 16,
    "start_time": "2022-08-13T16:57:39.452Z"
   },
   {
    "duration": 60,
    "start_time": "2022-08-13T16:57:39.470Z"
   },
   {
    "duration": 17,
    "start_time": "2022-08-13T16:57:39.531Z"
   },
   {
    "duration": 8,
    "start_time": "2022-08-13T16:57:45.534Z"
   },
   {
    "duration": 11,
    "start_time": "2022-08-13T17:04:07.183Z"
   },
   {
    "duration": 10,
    "start_time": "2022-08-13T17:04:29.488Z"
   },
   {
    "duration": 3,
    "start_time": "2022-08-13T17:04:34.020Z"
   },
   {
    "duration": 110,
    "start_time": "2022-08-13T17:04:34.025Z"
   },
   {
    "duration": 14,
    "start_time": "2022-08-13T17:04:34.136Z"
   },
   {
    "duration": 43,
    "start_time": "2022-08-13T17:04:34.151Z"
   },
   {
    "duration": 10,
    "start_time": "2022-08-13T17:04:34.195Z"
   },
   {
    "duration": 21,
    "start_time": "2022-08-13T17:04:34.206Z"
   },
   {
    "duration": 32,
    "start_time": "2022-08-13T17:04:34.228Z"
   },
   {
    "duration": 42,
    "start_time": "2022-08-13T17:04:34.262Z"
   },
   {
    "duration": 41,
    "start_time": "2022-08-13T17:04:34.307Z"
   },
   {
    "duration": 4,
    "start_time": "2022-08-13T17:04:34.350Z"
   },
   {
    "duration": 16,
    "start_time": "2022-08-13T17:04:34.356Z"
   },
   {
    "duration": 40,
    "start_time": "2022-08-13T17:04:34.373Z"
   },
   {
    "duration": 9,
    "start_time": "2022-08-13T17:04:34.415Z"
   },
   {
    "duration": 13,
    "start_time": "2022-08-13T17:04:34.426Z"
   },
   {
    "duration": 12,
    "start_time": "2022-08-13T17:04:34.441Z"
   },
   {
    "duration": 15,
    "start_time": "2022-08-13T17:04:34.455Z"
   },
   {
    "duration": 22,
    "start_time": "2022-08-13T17:04:34.501Z"
   },
   {
    "duration": 20,
    "start_time": "2022-08-13T17:04:34.525Z"
   },
   {
    "duration": 68,
    "start_time": "2022-08-13T17:04:34.547Z"
   },
   {
    "duration": 18,
    "start_time": "2022-08-13T17:04:34.616Z"
   },
   {
    "duration": 41,
    "start_time": "2022-08-13T17:04:34.635Z"
   },
   {
    "duration": 37,
    "start_time": "2022-08-13T17:04:34.678Z"
   },
   {
    "duration": 8,
    "start_time": "2022-08-13T17:04:34.717Z"
   },
   {
    "duration": 10,
    "start_time": "2022-08-13T17:04:34.728Z"
   },
   {
    "duration": 7,
    "start_time": "2022-08-13T17:04:39.959Z"
   },
   {
    "duration": 7,
    "start_time": "2022-08-13T17:05:03.461Z"
   },
   {
    "duration": 26,
    "start_time": "2022-08-13T17:05:48.649Z"
   },
   {
    "duration": 12,
    "start_time": "2022-08-13T17:06:07.670Z"
   },
   {
    "duration": 25,
    "start_time": "2022-08-13T17:06:17.523Z"
   },
   {
    "duration": 8,
    "start_time": "2022-08-13T17:06:36.152Z"
   },
   {
    "duration": 4,
    "start_time": "2022-08-13T17:06:53.187Z"
   },
   {
    "duration": 6,
    "start_time": "2022-08-13T17:07:04.867Z"
   },
   {
    "duration": 5,
    "start_time": "2022-08-13T17:07:29.479Z"
   },
   {
    "duration": 7,
    "start_time": "2022-08-13T17:07:40.926Z"
   },
   {
    "duration": 2080,
    "start_time": "2022-08-13T17:08:24.124Z"
   },
   {
    "duration": 26,
    "start_time": "2022-08-13T17:08:44.027Z"
   },
   {
    "duration": 22,
    "start_time": "2022-08-13T17:08:56.747Z"
   },
   {
    "duration": 3,
    "start_time": "2022-08-13T17:11:03.214Z"
   },
   {
    "duration": 101,
    "start_time": "2022-08-13T17:11:03.219Z"
   },
   {
    "duration": 14,
    "start_time": "2022-08-13T17:11:03.322Z"
   },
   {
    "duration": 50,
    "start_time": "2022-08-13T17:11:03.338Z"
   },
   {
    "duration": 8,
    "start_time": "2022-08-13T17:11:03.390Z"
   },
   {
    "duration": 35,
    "start_time": "2022-08-13T17:11:03.399Z"
   },
   {
    "duration": 44,
    "start_time": "2022-08-13T17:11:03.435Z"
   },
   {
    "duration": 11,
    "start_time": "2022-08-13T17:11:03.481Z"
   },
   {
    "duration": 49,
    "start_time": "2022-08-13T17:11:03.494Z"
   },
   {
    "duration": 6,
    "start_time": "2022-08-13T17:11:03.544Z"
   },
   {
    "duration": 29,
    "start_time": "2022-08-13T17:11:03.551Z"
   },
   {
    "duration": 34,
    "start_time": "2022-08-13T17:11:03.581Z"
   },
   {
    "duration": 18,
    "start_time": "2022-08-13T17:11:03.617Z"
   },
   {
    "duration": 43,
    "start_time": "2022-08-13T17:11:03.636Z"
   },
   {
    "duration": 40,
    "start_time": "2022-08-13T17:11:03.680Z"
   },
   {
    "duration": 34,
    "start_time": "2022-08-13T17:11:03.722Z"
   },
   {
    "duration": 11,
    "start_time": "2022-08-13T17:11:47.540Z"
   },
   {
    "duration": 6,
    "start_time": "2022-08-13T17:12:23.113Z"
   },
   {
    "duration": 26,
    "start_time": "2022-08-13T17:12:39.942Z"
   },
   {
    "duration": 9,
    "start_time": "2022-08-13T17:14:07.504Z"
   },
   {
    "duration": 2,
    "start_time": "2022-08-13T17:14:10.838Z"
   },
   {
    "duration": 91,
    "start_time": "2022-08-13T17:14:10.842Z"
   },
   {
    "duration": 16,
    "start_time": "2022-08-13T17:14:10.934Z"
   },
   {
    "duration": 43,
    "start_time": "2022-08-13T17:14:10.951Z"
   },
   {
    "duration": 11,
    "start_time": "2022-08-13T17:14:10.996Z"
   },
   {
    "duration": 56,
    "start_time": "2022-08-13T17:14:11.008Z"
   },
   {
    "duration": 31,
    "start_time": "2022-08-13T17:14:11.065Z"
   },
   {
    "duration": 13,
    "start_time": "2022-08-13T17:14:11.097Z"
   },
   {
    "duration": 28,
    "start_time": "2022-08-13T17:14:11.111Z"
   },
   {
    "duration": 4,
    "start_time": "2022-08-13T17:14:11.141Z"
   },
   {
    "duration": 16,
    "start_time": "2022-08-13T17:14:11.146Z"
   },
   {
    "duration": 38,
    "start_time": "2022-08-13T17:14:11.164Z"
   },
   {
    "duration": 8,
    "start_time": "2022-08-13T17:14:11.205Z"
   },
   {
    "duration": 13,
    "start_time": "2022-08-13T17:14:11.214Z"
   },
   {
    "duration": 11,
    "start_time": "2022-08-13T17:14:11.228Z"
   },
   {
    "duration": 22,
    "start_time": "2022-08-13T17:14:11.240Z"
   },
   {
    "duration": 14,
    "start_time": "2022-08-13T17:14:24.945Z"
   },
   {
    "duration": 3,
    "start_time": "2022-08-13T17:14:42.852Z"
   },
   {
    "duration": 103,
    "start_time": "2022-08-13T17:14:42.857Z"
   },
   {
    "duration": 13,
    "start_time": "2022-08-13T17:14:42.961Z"
   },
   {
    "duration": 47,
    "start_time": "2022-08-13T17:14:42.977Z"
   },
   {
    "duration": 9,
    "start_time": "2022-08-13T17:14:43.025Z"
   },
   {
    "duration": 21,
    "start_time": "2022-08-13T17:14:43.036Z"
   },
   {
    "duration": 33,
    "start_time": "2022-08-13T17:14:43.059Z"
   },
   {
    "duration": 15,
    "start_time": "2022-08-13T17:14:43.093Z"
   },
   {
    "duration": 25,
    "start_time": "2022-08-13T17:14:43.110Z"
   },
   {
    "duration": 4,
    "start_time": "2022-08-13T17:14:43.137Z"
   },
   {
    "duration": 23,
    "start_time": "2022-08-13T17:14:43.143Z"
   },
   {
    "duration": 45,
    "start_time": "2022-08-13T17:14:43.168Z"
   },
   {
    "duration": 13,
    "start_time": "2022-08-13T17:14:43.215Z"
   },
   {
    "duration": 17,
    "start_time": "2022-08-13T17:14:43.230Z"
   },
   {
    "duration": 12,
    "start_time": "2022-08-13T17:14:43.249Z"
   },
   {
    "duration": 41,
    "start_time": "2022-08-13T17:14:43.263Z"
   },
   {
    "duration": 16,
    "start_time": "2022-08-13T17:14:43.306Z"
   },
   {
    "duration": 18,
    "start_time": "2022-08-13T17:14:43.323Z"
   },
   {
    "duration": 34,
    "start_time": "2022-08-13T17:14:43.342Z"
   },
   {
    "duration": 35,
    "start_time": "2022-08-13T17:14:43.378Z"
   },
   {
    "duration": 39,
    "start_time": "2022-08-13T17:14:43.415Z"
   },
   {
    "duration": 20,
    "start_time": "2022-08-13T17:14:43.456Z"
   },
   {
    "duration": 25,
    "start_time": "2022-08-13T17:14:43.477Z"
   },
   {
    "duration": 14,
    "start_time": "2022-08-13T17:14:43.503Z"
   },
   {
    "duration": 24,
    "start_time": "2022-08-13T17:14:43.519Z"
   },
   {
    "duration": 6,
    "start_time": "2022-08-13T17:14:43.545Z"
   },
   {
    "duration": 15,
    "start_time": "2022-08-13T17:14:43.553Z"
   },
   {
    "duration": 36,
    "start_time": "2022-08-13T17:14:43.571Z"
   },
   {
    "duration": 24,
    "start_time": "2022-08-13T17:15:17.090Z"
   },
   {
    "duration": 50,
    "start_time": "2022-08-13T17:17:07.760Z"
   },
   {
    "duration": 23,
    "start_time": "2022-08-13T17:17:18.612Z"
   },
   {
    "duration": 24,
    "start_time": "2022-08-13T17:17:37.321Z"
   },
   {
    "duration": 7,
    "start_time": "2022-08-13T17:18:37.828Z"
   },
   {
    "duration": 7,
    "start_time": "2022-08-13T17:19:06.368Z"
   },
   {
    "duration": 10,
    "start_time": "2022-08-13T17:19:09.843Z"
   },
   {
    "duration": 3,
    "start_time": "2022-08-13T17:19:14.826Z"
   },
   {
    "duration": 95,
    "start_time": "2022-08-13T17:19:14.830Z"
   },
   {
    "duration": 12,
    "start_time": "2022-08-13T17:19:14.927Z"
   },
   {
    "duration": 42,
    "start_time": "2022-08-13T17:19:14.940Z"
   },
   {
    "duration": 9,
    "start_time": "2022-08-13T17:19:14.984Z"
   },
   {
    "duration": 27,
    "start_time": "2022-08-13T17:19:14.994Z"
   },
   {
    "duration": 37,
    "start_time": "2022-08-13T17:19:15.022Z"
   },
   {
    "duration": 11,
    "start_time": "2022-08-13T17:19:15.061Z"
   },
   {
    "duration": 34,
    "start_time": "2022-08-13T17:19:15.074Z"
   },
   {
    "duration": 4,
    "start_time": "2022-08-13T17:19:15.109Z"
   },
   {
    "duration": 15,
    "start_time": "2022-08-13T17:19:15.115Z"
   },
   {
    "duration": 14,
    "start_time": "2022-08-13T17:19:15.132Z"
   },
   {
    "duration": 9,
    "start_time": "2022-08-13T17:19:15.148Z"
   },
   {
    "duration": 41,
    "start_time": "2022-08-13T17:19:15.160Z"
   },
   {
    "duration": 13,
    "start_time": "2022-08-13T17:19:15.203Z"
   },
   {
    "duration": 25,
    "start_time": "2022-08-13T17:19:15.217Z"
   },
   {
    "duration": 17,
    "start_time": "2022-08-13T17:19:15.243Z"
   },
   {
    "duration": 17,
    "start_time": "2022-08-13T17:19:15.261Z"
   },
   {
    "duration": 52,
    "start_time": "2022-08-13T17:19:15.280Z"
   },
   {
    "duration": 15,
    "start_time": "2022-08-13T17:19:15.333Z"
   },
   {
    "duration": 54,
    "start_time": "2022-08-13T17:19:15.350Z"
   },
   {
    "duration": 17,
    "start_time": "2022-08-13T17:19:15.405Z"
   },
   {
    "duration": 8,
    "start_time": "2022-08-13T17:19:15.423Z"
   },
   {
    "duration": 8,
    "start_time": "2022-08-13T17:19:15.432Z"
   },
   {
    "duration": 7,
    "start_time": "2022-08-13T17:19:23.802Z"
   },
   {
    "duration": 25,
    "start_time": "2022-08-13T17:19:35.882Z"
   },
   {
    "duration": 7,
    "start_time": "2022-08-13T17:20:11.265Z"
   },
   {
    "duration": 24,
    "start_time": "2022-08-13T17:20:18.073Z"
   },
   {
    "duration": 7,
    "start_time": "2022-08-13T17:22:53.164Z"
   },
   {
    "duration": 4,
    "start_time": "2022-08-13T17:25:36.732Z"
   },
   {
    "duration": 14,
    "start_time": "2022-08-13T17:25:47.581Z"
   },
   {
    "duration": 38,
    "start_time": "2022-08-13T17:27:22.992Z"
   },
   {
    "duration": 3,
    "start_time": "2022-08-13T17:27:33.699Z"
   },
   {
    "duration": 102,
    "start_time": "2022-08-13T17:27:33.705Z"
   },
   {
    "duration": 18,
    "start_time": "2022-08-13T17:27:33.809Z"
   },
   {
    "duration": 44,
    "start_time": "2022-08-13T17:27:33.829Z"
   },
   {
    "duration": 11,
    "start_time": "2022-08-13T17:27:33.875Z"
   },
   {
    "duration": 24,
    "start_time": "2022-08-13T17:27:33.887Z"
   },
   {
    "duration": 38,
    "start_time": "2022-08-13T17:27:33.913Z"
   },
   {
    "duration": 14,
    "start_time": "2022-08-13T17:27:33.953Z"
   },
   {
    "duration": 54,
    "start_time": "2022-08-13T17:27:33.970Z"
   },
   {
    "duration": 5,
    "start_time": "2022-08-13T17:27:34.025Z"
   },
   {
    "duration": 24,
    "start_time": "2022-08-13T17:27:34.032Z"
   },
   {
    "duration": 12,
    "start_time": "2022-08-13T17:27:34.058Z"
   },
   {
    "duration": 29,
    "start_time": "2022-08-13T17:27:34.072Z"
   },
   {
    "duration": 13,
    "start_time": "2022-08-13T17:27:34.102Z"
   },
   {
    "duration": 14,
    "start_time": "2022-08-13T17:27:34.116Z"
   },
   {
    "duration": 15,
    "start_time": "2022-08-13T17:27:34.131Z"
   },
   {
    "duration": 17,
    "start_time": "2022-08-13T17:27:34.147Z"
   },
   {
    "duration": 49,
    "start_time": "2022-08-13T17:27:34.165Z"
   },
   {
    "duration": 35,
    "start_time": "2022-08-13T17:27:34.216Z"
   },
   {
    "duration": 16,
    "start_time": "2022-08-13T17:27:34.253Z"
   },
   {
    "duration": 57,
    "start_time": "2022-08-13T17:27:34.271Z"
   },
   {
    "duration": 12,
    "start_time": "2022-08-13T17:27:34.330Z"
   },
   {
    "duration": 3,
    "start_time": "2022-08-13T17:28:05.089Z"
   },
   {
    "duration": 91,
    "start_time": "2022-08-13T17:28:05.094Z"
   },
   {
    "duration": 14,
    "start_time": "2022-08-13T17:28:05.186Z"
   },
   {
    "duration": 48,
    "start_time": "2022-08-13T17:28:05.202Z"
   },
   {
    "duration": 8,
    "start_time": "2022-08-13T17:28:05.252Z"
   },
   {
    "duration": 28,
    "start_time": "2022-08-13T17:28:05.261Z"
   },
   {
    "duration": 31,
    "start_time": "2022-08-13T17:28:05.291Z"
   },
   {
    "duration": 13,
    "start_time": "2022-08-13T17:28:05.323Z"
   },
   {
    "duration": 28,
    "start_time": "2022-08-13T17:28:05.338Z"
   },
   {
    "duration": 4,
    "start_time": "2022-08-13T17:28:05.368Z"
   },
   {
    "duration": 37,
    "start_time": "2022-08-13T17:28:05.374Z"
   },
   {
    "duration": 13,
    "start_time": "2022-08-13T17:28:05.413Z"
   },
   {
    "duration": 9,
    "start_time": "2022-08-13T17:28:05.428Z"
   },
   {
    "duration": 20,
    "start_time": "2022-08-13T17:28:05.439Z"
   },
   {
    "duration": 11,
    "start_time": "2022-08-13T17:28:05.461Z"
   },
   {
    "duration": 35,
    "start_time": "2022-08-13T17:28:05.474Z"
   },
   {
    "duration": 16,
    "start_time": "2022-08-13T17:28:05.511Z"
   },
   {
    "duration": 21,
    "start_time": "2022-08-13T17:28:05.529Z"
   },
   {
    "duration": 59,
    "start_time": "2022-08-13T17:28:05.552Z"
   },
   {
    "duration": 17,
    "start_time": "2022-08-13T17:28:05.613Z"
   },
   {
    "duration": 47,
    "start_time": "2022-08-13T17:28:05.631Z"
   },
   {
    "duration": 21,
    "start_time": "2022-08-13T17:28:05.680Z"
   },
   {
    "duration": 10,
    "start_time": "2022-08-13T17:28:05.702Z"
   },
   {
    "duration": 23,
    "start_time": "2022-08-13T17:28:05.715Z"
   },
   {
    "duration": 5,
    "start_time": "2022-08-13T17:28:05.740Z"
   },
   {
    "duration": 20,
    "start_time": "2022-08-13T17:28:05.746Z"
   },
   {
    "duration": 387,
    "start_time": "2022-08-16T08:45:42.826Z"
   },
   {
    "duration": 4,
    "start_time": "2022-08-16T08:46:12.086Z"
   },
   {
    "duration": 3,
    "start_time": "2022-08-16T08:46:22.244Z"
   },
   {
    "duration": 290,
    "start_time": "2022-08-16T08:46:22.249Z"
   },
   {
    "duration": 15,
    "start_time": "2022-08-16T08:46:22.541Z"
   },
   {
    "duration": 89,
    "start_time": "2022-08-16T08:46:22.558Z"
   },
   {
    "duration": 10,
    "start_time": "2022-08-16T08:46:22.649Z"
   },
   {
    "duration": 34,
    "start_time": "2022-08-16T08:46:22.660Z"
   },
   {
    "duration": 34,
    "start_time": "2022-08-16T08:46:22.695Z"
   },
   {
    "duration": 14,
    "start_time": "2022-08-16T08:46:22.731Z"
   },
   {
    "duration": 55,
    "start_time": "2022-08-16T08:46:22.746Z"
   },
   {
    "duration": 4,
    "start_time": "2022-08-16T08:46:22.803Z"
   },
   {
    "duration": 36,
    "start_time": "2022-08-16T08:46:22.809Z"
   },
   {
    "duration": 24,
    "start_time": "2022-08-16T08:46:22.847Z"
   },
   {
    "duration": 28,
    "start_time": "2022-08-16T08:46:22.873Z"
   },
   {
    "duration": 16,
    "start_time": "2022-08-16T08:46:22.904Z"
   },
   {
    "duration": 16,
    "start_time": "2022-08-16T08:46:22.922Z"
   },
   {
    "duration": 17,
    "start_time": "2022-08-16T08:46:22.940Z"
   },
   {
    "duration": 21,
    "start_time": "2022-08-16T08:46:22.992Z"
   },
   {
    "duration": 22,
    "start_time": "2022-08-16T08:46:23.015Z"
   },
   {
    "duration": 71,
    "start_time": "2022-08-16T08:46:23.038Z"
   },
   {
    "duration": 22,
    "start_time": "2022-08-16T08:46:23.110Z"
   },
   {
    "duration": 66,
    "start_time": "2022-08-16T08:46:23.134Z"
   },
   {
    "duration": 15,
    "start_time": "2022-08-16T08:46:23.202Z"
   },
   {
    "duration": 9,
    "start_time": "2022-08-16T08:46:23.219Z"
   },
   {
    "duration": 31,
    "start_time": "2022-08-16T08:46:23.230Z"
   },
   {
    "duration": 33,
    "start_time": "2022-08-16T08:46:23.263Z"
   },
   {
    "duration": 21,
    "start_time": "2022-08-16T08:46:23.298Z"
   },
   {
    "duration": 4,
    "start_time": "2022-08-16T08:47:10.483Z"
   },
   {
    "duration": 80,
    "start_time": "2022-08-16T08:47:17.942Z"
   },
   {
    "duration": 6,
    "start_time": "2022-08-16T08:47:24.213Z"
   },
   {
    "duration": 6,
    "start_time": "2022-08-16T08:48:31.540Z"
   },
   {
    "duration": 6,
    "start_time": "2022-08-16T08:48:40.107Z"
   },
   {
    "duration": 7,
    "start_time": "2022-08-16T08:49:14.754Z"
   },
   {
    "duration": 24,
    "start_time": "2022-08-16T08:57:56.448Z"
   },
   {
    "duration": 3,
    "start_time": "2022-08-16T08:58:10.330Z"
   },
   {
    "duration": 116,
    "start_time": "2022-08-16T08:58:10.336Z"
   },
   {
    "duration": 19,
    "start_time": "2022-08-16T08:58:10.454Z"
   },
   {
    "duration": 54,
    "start_time": "2022-08-16T08:58:10.475Z"
   },
   {
    "duration": 11,
    "start_time": "2022-08-16T08:58:10.531Z"
   },
   {
    "duration": 35,
    "start_time": "2022-08-16T08:58:10.543Z"
   },
   {
    "duration": 37,
    "start_time": "2022-08-16T08:58:10.580Z"
   },
   {
    "duration": 14,
    "start_time": "2022-08-16T08:58:10.620Z"
   },
   {
    "duration": 42,
    "start_time": "2022-08-16T08:58:10.637Z"
   },
   {
    "duration": 15,
    "start_time": "2022-08-16T08:58:10.680Z"
   },
   {
    "duration": 33,
    "start_time": "2022-08-16T08:58:10.697Z"
   },
   {
    "duration": 24,
    "start_time": "2022-08-16T08:58:10.732Z"
   },
   {
    "duration": 12,
    "start_time": "2022-08-16T08:58:10.757Z"
   },
   {
    "duration": 17,
    "start_time": "2022-08-16T08:58:10.771Z"
   },
   {
    "duration": 29,
    "start_time": "2022-08-16T08:58:10.792Z"
   },
   {
    "duration": 19,
    "start_time": "2022-08-16T08:58:10.823Z"
   },
   {
    "duration": 21,
    "start_time": "2022-08-16T08:58:10.843Z"
   },
   {
    "duration": 18,
    "start_time": "2022-08-16T08:58:10.866Z"
   },
   {
    "duration": 40,
    "start_time": "2022-08-16T08:58:10.892Z"
   },
   {
    "duration": 17,
    "start_time": "2022-08-16T08:58:10.934Z"
   },
   {
    "duration": 63,
    "start_time": "2022-08-16T08:58:10.953Z"
   },
   {
    "duration": 14,
    "start_time": "2022-08-16T08:58:11.018Z"
   },
   {
    "duration": 10,
    "start_time": "2022-08-16T08:58:11.033Z"
   },
   {
    "duration": 15,
    "start_time": "2022-08-16T08:58:11.046Z"
   },
   {
    "duration": 49,
    "start_time": "2022-08-16T08:58:11.062Z"
   },
   {
    "duration": 21,
    "start_time": "2022-08-16T08:58:47.178Z"
   },
   {
    "duration": 14,
    "start_time": "2022-08-16T08:59:02.537Z"
   },
   {
    "duration": 51,
    "start_time": "2022-08-16T09:06:14.038Z"
   },
   {
    "duration": 3,
    "start_time": "2022-08-16T09:06:23.172Z"
   },
   {
    "duration": 10,
    "start_time": "2022-08-16T09:06:48.536Z"
   },
   {
    "duration": 11,
    "start_time": "2022-08-16T09:07:17.637Z"
   },
   {
    "duration": 8,
    "start_time": "2022-08-16T09:07:20.984Z"
   },
   {
    "duration": 11,
    "start_time": "2022-08-16T09:07:54.635Z"
   },
   {
    "duration": 78,
    "start_time": "2022-08-16T09:08:16.643Z"
   },
   {
    "duration": 13,
    "start_time": "2022-08-16T09:08:25.032Z"
   },
   {
    "duration": 113,
    "start_time": "2022-08-16T09:08:52.944Z"
   },
   {
    "duration": 89,
    "start_time": "2022-08-16T09:08:59.741Z"
   },
   {
    "duration": 9,
    "start_time": "2022-08-16T09:09:05.133Z"
   },
   {
    "duration": 35,
    "start_time": "2022-08-16T09:09:17.676Z"
   },
   {
    "duration": 10,
    "start_time": "2022-08-16T09:19:41.775Z"
   },
   {
    "duration": 24,
    "start_time": "2022-08-16T09:19:50.923Z"
   },
   {
    "duration": 602,
    "start_time": "2022-08-16T09:21:09.416Z"
   },
   {
    "duration": 110,
    "start_time": "2022-08-16T09:41:49.063Z"
   },
   {
    "duration": 159,
    "start_time": "2022-08-16T09:42:11.341Z"
   },
   {
    "duration": 11,
    "start_time": "2022-08-16T09:42:12.970Z"
   },
   {
    "duration": 15,
    "start_time": "2022-08-16T09:44:41.639Z"
   },
   {
    "duration": 39,
    "start_time": "2022-08-16T09:44:55.302Z"
   },
   {
    "duration": 41,
    "start_time": "2022-08-16T09:45:33.766Z"
   },
   {
    "duration": 105,
    "start_time": "2022-08-16T10:04:25.553Z"
   },
   {
    "duration": 13,
    "start_time": "2022-08-16T10:04:29.743Z"
   },
   {
    "duration": 956,
    "start_time": "2022-08-16T10:05:19.904Z"
   },
   {
    "duration": 17,
    "start_time": "2022-08-16T10:06:23.986Z"
   },
   {
    "duration": 3,
    "start_time": "2022-08-16T10:06:43.796Z"
   },
   {
    "duration": 110,
    "start_time": "2022-08-16T10:06:43.801Z"
   },
   {
    "duration": 17,
    "start_time": "2022-08-16T10:06:43.912Z"
   },
   {
    "duration": 45,
    "start_time": "2022-08-16T10:06:43.932Z"
   },
   {
    "duration": 13,
    "start_time": "2022-08-16T10:06:43.979Z"
   },
   {
    "duration": 30,
    "start_time": "2022-08-16T10:06:43.994Z"
   },
   {
    "duration": 37,
    "start_time": "2022-08-16T10:06:44.026Z"
   },
   {
    "duration": 40,
    "start_time": "2022-08-16T10:06:44.065Z"
   },
   {
    "duration": 35,
    "start_time": "2022-08-16T10:06:44.109Z"
   },
   {
    "duration": 6,
    "start_time": "2022-08-16T10:06:44.146Z"
   },
   {
    "duration": 52,
    "start_time": "2022-08-16T10:06:44.154Z"
   },
   {
    "duration": 15,
    "start_time": "2022-08-16T10:06:44.208Z"
   },
   {
    "duration": 10,
    "start_time": "2022-08-16T10:06:44.226Z"
   },
   {
    "duration": 23,
    "start_time": "2022-08-16T10:06:44.238Z"
   },
   {
    "duration": 43,
    "start_time": "2022-08-16T10:06:44.263Z"
   },
   {
    "duration": 16,
    "start_time": "2022-08-16T10:06:44.308Z"
   },
   {
    "duration": 26,
    "start_time": "2022-08-16T10:06:44.325Z"
   },
   {
    "duration": 45,
    "start_time": "2022-08-16T10:06:44.353Z"
   },
   {
    "duration": 42,
    "start_time": "2022-08-16T10:06:44.400Z"
   },
   {
    "duration": 19,
    "start_time": "2022-08-16T10:06:44.444Z"
   },
   {
    "duration": 43,
    "start_time": "2022-08-16T10:06:44.491Z"
   },
   {
    "duration": 16,
    "start_time": "2022-08-16T10:06:44.535Z"
   },
   {
    "duration": 9,
    "start_time": "2022-08-16T10:06:44.553Z"
   },
   {
    "duration": 15,
    "start_time": "2022-08-16T10:06:44.592Z"
   },
   {
    "duration": 16,
    "start_time": "2022-08-16T10:06:44.609Z"
   },
   {
    "duration": 11,
    "start_time": "2022-08-16T10:06:44.627Z"
   },
   {
    "duration": 12,
    "start_time": "2022-08-16T10:10:31.378Z"
   },
   {
    "duration": 3,
    "start_time": "2022-08-16T10:10:38.629Z"
   },
   {
    "duration": 106,
    "start_time": "2022-08-16T10:10:38.634Z"
   },
   {
    "duration": 14,
    "start_time": "2022-08-16T10:10:38.742Z"
   },
   {
    "duration": 48,
    "start_time": "2022-08-16T10:10:38.757Z"
   },
   {
    "duration": 10,
    "start_time": "2022-08-16T10:10:38.807Z"
   },
   {
    "duration": 32,
    "start_time": "2022-08-16T10:10:38.819Z"
   },
   {
    "duration": 51,
    "start_time": "2022-08-16T10:10:38.853Z"
   },
   {
    "duration": 14,
    "start_time": "2022-08-16T10:10:38.906Z"
   },
   {
    "duration": 30,
    "start_time": "2022-08-16T10:10:38.922Z"
   },
   {
    "duration": 5,
    "start_time": "2022-08-16T10:10:38.954Z"
   },
   {
    "duration": 17,
    "start_time": "2022-08-16T10:10:38.992Z"
   },
   {
    "duration": 14,
    "start_time": "2022-08-16T10:10:39.011Z"
   },
   {
    "duration": 10,
    "start_time": "2022-08-16T10:10:39.026Z"
   },
   {
    "duration": 15,
    "start_time": "2022-08-16T10:10:39.038Z"
   },
   {
    "duration": 45,
    "start_time": "2022-08-16T10:10:39.054Z"
   },
   {
    "duration": 24,
    "start_time": "2022-08-16T10:10:39.101Z"
   },
   {
    "duration": 18,
    "start_time": "2022-08-16T10:10:39.127Z"
   },
   {
    "duration": 19,
    "start_time": "2022-08-16T10:10:39.147Z"
   },
   {
    "duration": 38,
    "start_time": "2022-08-16T10:10:39.192Z"
   },
   {
    "duration": 19,
    "start_time": "2022-08-16T10:10:39.231Z"
   },
   {
    "duration": 71,
    "start_time": "2022-08-16T10:10:39.252Z"
   },
   {
    "duration": 16,
    "start_time": "2022-08-16T10:10:39.324Z"
   },
   {
    "duration": 10,
    "start_time": "2022-08-16T10:10:39.342Z"
   },
   {
    "duration": 45,
    "start_time": "2022-08-16T10:10:39.354Z"
   },
   {
    "duration": 16,
    "start_time": "2022-08-16T10:10:39.400Z"
   },
   {
    "duration": 12,
    "start_time": "2022-08-16T10:10:39.419Z"
   },
   {
    "duration": 32,
    "start_time": "2022-08-16T10:14:47.934Z"
   },
   {
    "duration": 34,
    "start_time": "2022-08-16T10:17:24.958Z"
   },
   {
    "duration": 3,
    "start_time": "2022-08-16T10:24:14.167Z"
   },
   {
    "duration": 113,
    "start_time": "2022-08-16T10:24:14.178Z"
   },
   {
    "duration": 16,
    "start_time": "2022-08-16T10:24:14.293Z"
   },
   {
    "duration": 55,
    "start_time": "2022-08-16T10:24:14.310Z"
   },
   {
    "duration": 14,
    "start_time": "2022-08-16T10:24:14.367Z"
   },
   {
    "duration": 37,
    "start_time": "2022-08-16T10:24:14.384Z"
   },
   {
    "duration": 45,
    "start_time": "2022-08-16T10:24:14.423Z"
   },
   {
    "duration": 24,
    "start_time": "2022-08-16T10:24:14.470Z"
   },
   {
    "duration": 45,
    "start_time": "2022-08-16T10:24:14.496Z"
   },
   {
    "duration": 7,
    "start_time": "2022-08-16T10:24:14.543Z"
   },
   {
    "duration": 20,
    "start_time": "2022-08-16T10:24:14.552Z"
   },
   {
    "duration": 16,
    "start_time": "2022-08-16T10:24:14.574Z"
   },
   {
    "duration": 13,
    "start_time": "2022-08-16T10:24:14.592Z"
   },
   {
    "duration": 21,
    "start_time": "2022-08-16T10:24:14.607Z"
   },
   {
    "duration": 16,
    "start_time": "2022-08-16T10:24:14.632Z"
   },
   {
    "duration": 21,
    "start_time": "2022-08-16T10:24:14.649Z"
   },
   {
    "duration": 29,
    "start_time": "2022-08-16T10:24:14.672Z"
   },
   {
    "duration": 28,
    "start_time": "2022-08-16T10:24:14.703Z"
   },
   {
    "duration": 88,
    "start_time": "2022-08-16T10:24:14.733Z"
   },
   {
    "duration": 20,
    "start_time": "2022-08-16T10:24:14.823Z"
   },
   {
    "duration": 80,
    "start_time": "2022-08-16T10:24:14.845Z"
   },
   {
    "duration": 15,
    "start_time": "2022-08-16T10:24:14.927Z"
   },
   {
    "duration": 11,
    "start_time": "2022-08-16T10:24:14.944Z"
   },
   {
    "duration": 41,
    "start_time": "2022-08-16T10:24:14.957Z"
   },
   {
    "duration": 16,
    "start_time": "2022-08-16T10:24:14.999Z"
   },
   {
    "duration": 4,
    "start_time": "2022-08-16T10:24:15.017Z"
   },
   {
    "duration": 85,
    "start_time": "2022-08-16T10:24:15.023Z"
   },
   {
    "duration": 8,
    "start_time": "2022-08-16T10:31:17.158Z"
   },
   {
    "duration": 13,
    "start_time": "2022-08-16T10:32:55.698Z"
   },
   {
    "duration": 2,
    "start_time": "2022-08-16T10:41:41.621Z"
   },
   {
    "duration": 114,
    "start_time": "2022-08-16T10:41:41.625Z"
   },
   {
    "duration": 17,
    "start_time": "2022-08-16T10:41:41.741Z"
   },
   {
    "duration": 47,
    "start_time": "2022-08-16T10:41:41.761Z"
   },
   {
    "duration": 16,
    "start_time": "2022-08-16T10:41:41.810Z"
   },
   {
    "duration": 44,
    "start_time": "2022-08-16T10:41:41.828Z"
   },
   {
    "duration": 60,
    "start_time": "2022-08-16T10:41:41.874Z"
   },
   {
    "duration": 22,
    "start_time": "2022-08-16T10:41:41.936Z"
   },
   {
    "duration": 65,
    "start_time": "2022-08-16T10:41:41.964Z"
   },
   {
    "duration": 8,
    "start_time": "2022-08-16T10:41:42.031Z"
   },
   {
    "duration": 37,
    "start_time": "2022-08-16T10:41:42.041Z"
   },
   {
    "duration": 27,
    "start_time": "2022-08-16T10:41:42.080Z"
   },
   {
    "duration": 44,
    "start_time": "2022-08-16T10:41:42.109Z"
   },
   {
    "duration": 29,
    "start_time": "2022-08-16T10:41:42.157Z"
   },
   {
    "duration": 16,
    "start_time": "2022-08-16T10:41:42.188Z"
   },
   {
    "duration": 21,
    "start_time": "2022-08-16T10:41:42.206Z"
   },
   {
    "duration": 20,
    "start_time": "2022-08-16T10:41:42.229Z"
   },
   {
    "duration": 46,
    "start_time": "2022-08-16T10:41:42.251Z"
   },
   {
    "duration": 44,
    "start_time": "2022-08-16T10:41:42.299Z"
   },
   {
    "duration": 20,
    "start_time": "2022-08-16T10:41:42.345Z"
   },
   {
    "duration": 44,
    "start_time": "2022-08-16T10:41:42.391Z"
   },
   {
    "duration": 15,
    "start_time": "2022-08-16T10:41:42.437Z"
   },
   {
    "duration": 38,
    "start_time": "2022-08-16T10:41:42.455Z"
   },
   {
    "duration": 16,
    "start_time": "2022-08-16T10:41:42.497Z"
   },
   {
    "duration": 16,
    "start_time": "2022-08-16T10:41:42.515Z"
   },
   {
    "duration": 4,
    "start_time": "2022-08-16T10:41:42.533Z"
   },
   {
    "duration": 67,
    "start_time": "2022-08-16T10:41:42.539Z"
   },
   {
    "duration": 12,
    "start_time": "2022-08-16T10:41:42.607Z"
   },
   {
    "duration": 9,
    "start_time": "2022-08-16T10:41:42.621Z"
   },
   {
    "duration": 6,
    "start_time": "2022-08-16T10:41:48.644Z"
   },
   {
    "duration": 3,
    "start_time": "2022-08-16T10:42:48.423Z"
   },
   {
    "duration": 117,
    "start_time": "2022-08-16T10:42:48.428Z"
   },
   {
    "duration": 15,
    "start_time": "2022-08-16T10:42:48.547Z"
   },
   {
    "duration": 57,
    "start_time": "2022-08-16T10:42:48.563Z"
   },
   {
    "duration": 11,
    "start_time": "2022-08-16T10:42:48.623Z"
   },
   {
    "duration": 29,
    "start_time": "2022-08-16T10:42:48.635Z"
   },
   {
    "duration": 40,
    "start_time": "2022-08-16T10:42:48.665Z"
   },
   {
    "duration": 16,
    "start_time": "2022-08-16T10:42:48.707Z"
   },
   {
    "duration": 31,
    "start_time": "2022-08-16T10:42:48.725Z"
   },
   {
    "duration": 5,
    "start_time": "2022-08-16T10:42:48.758Z"
   },
   {
    "duration": 18,
    "start_time": "2022-08-16T10:42:48.792Z"
   },
   {
    "duration": 16,
    "start_time": "2022-08-16T10:42:48.812Z"
   },
   {
    "duration": 11,
    "start_time": "2022-08-16T10:42:48.830Z"
   },
   {
    "duration": 56,
    "start_time": "2022-08-16T10:42:48.844Z"
   },
   {
    "duration": 20,
    "start_time": "2022-08-16T10:42:48.902Z"
   },
   {
    "duration": 20,
    "start_time": "2022-08-16T10:42:48.924Z"
   },
   {
    "duration": 46,
    "start_time": "2022-08-16T10:42:48.946Z"
   },
   {
    "duration": 20,
    "start_time": "2022-08-16T10:42:48.994Z"
   },
   {
    "duration": 42,
    "start_time": "2022-08-16T10:42:49.016Z"
   },
   {
    "duration": 51,
    "start_time": "2022-08-16T10:42:49.060Z"
   },
   {
    "duration": 53,
    "start_time": "2022-08-16T10:42:49.114Z"
   },
   {
    "duration": 34,
    "start_time": "2022-08-16T10:42:49.169Z"
   },
   {
    "duration": 10,
    "start_time": "2022-08-16T10:42:49.205Z"
   },
   {
    "duration": 22,
    "start_time": "2022-08-16T10:42:49.217Z"
   },
   {
    "duration": 16,
    "start_time": "2022-08-16T10:42:49.241Z"
   },
   {
    "duration": 4,
    "start_time": "2022-08-16T10:42:49.259Z"
   },
   {
    "duration": 38,
    "start_time": "2022-08-16T10:42:49.292Z"
   },
   {
    "duration": 14,
    "start_time": "2022-08-16T10:42:49.333Z"
   },
   {
    "duration": 42,
    "start_time": "2022-08-16T10:42:49.349Z"
   },
   {
    "duration": 17,
    "start_time": "2022-08-16T10:45:00.304Z"
   },
   {
    "duration": 11,
    "start_time": "2022-08-16T10:47:55.873Z"
   },
   {
    "duration": 22,
    "start_time": "2022-08-16T10:53:36.606Z"
   },
   {
    "duration": 27,
    "start_time": "2022-08-16T10:56:18.734Z"
   },
   {
    "duration": 32,
    "start_time": "2022-08-16T10:57:05.933Z"
   },
   {
    "duration": 34,
    "start_time": "2022-08-16T10:58:03.319Z"
   },
   {
    "duration": 40,
    "start_time": "2022-08-16T10:59:20.473Z"
   },
   {
    "duration": 28,
    "start_time": "2022-08-16T10:59:24.377Z"
   },
   {
    "duration": 3,
    "start_time": "2022-08-17T07:49:42.928Z"
   },
   {
    "duration": 99,
    "start_time": "2022-08-17T07:49:42.933Z"
   },
   {
    "duration": 13,
    "start_time": "2022-08-17T07:49:43.033Z"
   },
   {
    "duration": 47,
    "start_time": "2022-08-17T07:49:43.047Z"
   },
   {
    "duration": 10,
    "start_time": "2022-08-17T07:49:43.096Z"
   },
   {
    "duration": 36,
    "start_time": "2022-08-17T07:49:43.107Z"
   },
   {
    "duration": 32,
    "start_time": "2022-08-17T07:49:43.144Z"
   },
   {
    "duration": 39,
    "start_time": "2022-08-17T07:49:43.178Z"
   },
   {
    "duration": 32,
    "start_time": "2022-08-17T07:49:43.219Z"
   },
   {
    "duration": 5,
    "start_time": "2022-08-17T07:49:43.252Z"
   },
   {
    "duration": 16,
    "start_time": "2022-08-17T07:49:43.258Z"
   },
   {
    "duration": 46,
    "start_time": "2022-08-17T07:49:43.276Z"
   },
   {
    "duration": 16,
    "start_time": "2022-08-17T07:49:43.324Z"
   },
   {
    "duration": 13,
    "start_time": "2022-08-17T07:49:43.343Z"
   },
   {
    "duration": 13,
    "start_time": "2022-08-17T07:49:43.358Z"
   },
   {
    "duration": 54,
    "start_time": "2022-08-17T07:49:43.373Z"
   },
   {
    "duration": 17,
    "start_time": "2022-08-17T07:49:43.429Z"
   },
   {
    "duration": 23,
    "start_time": "2022-08-17T07:49:43.448Z"
   },
   {
    "duration": 78,
    "start_time": "2022-08-17T07:49:43.472Z"
   },
   {
    "duration": 18,
    "start_time": "2022-08-17T07:49:43.553Z"
   },
   {
    "duration": 46,
    "start_time": "2022-08-17T07:49:43.573Z"
   },
   {
    "duration": 15,
    "start_time": "2022-08-17T07:49:43.621Z"
   },
   {
    "duration": 9,
    "start_time": "2022-08-17T07:49:43.638Z"
   },
   {
    "duration": 15,
    "start_time": "2022-08-17T07:49:43.648Z"
   },
   {
    "duration": 47,
    "start_time": "2022-08-17T07:49:43.665Z"
   },
   {
    "duration": 4,
    "start_time": "2022-08-17T07:49:43.713Z"
   },
   {
    "duration": 44,
    "start_time": "2022-08-17T07:49:43.719Z"
   },
   {
    "duration": 13,
    "start_time": "2022-08-17T07:49:43.765Z"
   },
   {
    "duration": 199,
    "start_time": "2022-08-17T07:49:43.779Z"
   },
   {
    "duration": 31,
    "start_time": "2022-08-17T07:49:43.980Z"
   },
   {
    "duration": 342,
    "start_time": "2022-08-17T07:49:44.013Z"
   },
   {
    "duration": 31,
    "start_time": "2022-08-17T07:49:44.357Z"
   },
   {
    "duration": 7,
    "start_time": "2022-08-17T07:50:02.583Z"
   },
   {
    "duration": 20,
    "start_time": "2022-08-17T07:53:18.278Z"
   },
   {
    "duration": 24,
    "start_time": "2022-08-17T07:54:13.896Z"
   },
   {
    "duration": 21,
    "start_time": "2022-08-17T07:55:12.955Z"
   },
   {
    "duration": 18,
    "start_time": "2022-08-17T07:55:44.243Z"
   },
   {
    "duration": 19,
    "start_time": "2022-08-17T07:57:08.649Z"
   },
   {
    "duration": 161,
    "start_time": "2022-08-17T08:01:54.410Z"
   },
   {
    "duration": 139,
    "start_time": "2022-08-17T08:02:17.257Z"
   },
   {
    "duration": 161,
    "start_time": "2022-08-17T08:02:26.562Z"
   },
   {
    "duration": 147,
    "start_time": "2022-08-17T08:03:00.932Z"
   },
   {
    "duration": 142,
    "start_time": "2022-08-17T08:05:19.820Z"
   },
   {
    "duration": 201,
    "start_time": "2022-08-17T08:05:32.095Z"
   },
   {
    "duration": 172,
    "start_time": "2022-08-17T08:06:40.534Z"
   },
   {
    "duration": 175,
    "start_time": "2022-08-17T08:06:55.684Z"
   },
   {
    "duration": 98,
    "start_time": "2022-08-17T08:07:07.042Z"
   },
   {
    "duration": 129,
    "start_time": "2022-08-17T08:07:28.752Z"
   },
   {
    "duration": 125,
    "start_time": "2022-08-17T08:07:42.110Z"
   },
   {
    "duration": 150,
    "start_time": "2022-08-17T08:07:56.964Z"
   },
   {
    "duration": 165,
    "start_time": "2022-08-17T08:11:59.649Z"
   },
   {
    "duration": 16,
    "start_time": "2022-08-17T08:12:10.681Z"
   },
   {
    "duration": 142,
    "start_time": "2022-08-17T08:12:20.261Z"
   },
   {
    "duration": 15,
    "start_time": "2022-08-17T08:14:04.722Z"
   },
   {
    "duration": 219,
    "start_time": "2022-08-17T08:15:36.056Z"
   },
   {
    "duration": 160,
    "start_time": "2022-08-17T08:18:26.373Z"
   },
   {
    "duration": 18,
    "start_time": "2022-08-17T08:18:37.929Z"
   },
   {
    "duration": 161,
    "start_time": "2022-08-17T08:18:46.442Z"
   },
   {
    "duration": 647,
    "start_time": "2022-08-17T08:21:05.996Z"
   },
   {
    "duration": 13,
    "start_time": "2022-08-17T08:21:12.345Z"
   },
   {
    "duration": 16,
    "start_time": "2022-08-17T08:21:38.034Z"
   },
   {
    "duration": 155,
    "start_time": "2022-08-17T08:21:59.499Z"
   },
   {
    "duration": 211,
    "start_time": "2022-08-17T08:22:16.782Z"
   },
   {
    "duration": 15,
    "start_time": "2022-08-17T08:23:38.567Z"
   },
   {
    "duration": 432,
    "start_time": "2022-08-17T08:23:45.073Z"
   },
   {
    "duration": 335,
    "start_time": "2022-08-17T08:24:20.702Z"
   },
   {
    "duration": 610,
    "start_time": "2022-08-17T08:24:51.257Z"
   },
   {
    "duration": 16,
    "start_time": "2022-08-17T08:25:06.958Z"
   },
   {
    "duration": 5,
    "start_time": "2022-08-17T08:25:24.327Z"
   },
   {
    "duration": 15,
    "start_time": "2022-08-17T08:25:30.100Z"
   },
   {
    "duration": 27,
    "start_time": "2022-08-17T08:25:37.512Z"
   },
   {
    "duration": 5,
    "start_time": "2022-08-17T08:25:49.614Z"
   },
   {
    "duration": 124,
    "start_time": "2022-08-17T08:25:49.621Z"
   },
   {
    "duration": 15,
    "start_time": "2022-08-17T08:25:49.747Z"
   },
   {
    "duration": 48,
    "start_time": "2022-08-17T08:25:49.764Z"
   },
   {
    "duration": 19,
    "start_time": "2022-08-17T08:25:49.814Z"
   },
   {
    "duration": 34,
    "start_time": "2022-08-17T08:25:49.836Z"
   },
   {
    "duration": 48,
    "start_time": "2022-08-17T08:25:49.872Z"
   },
   {
    "duration": 17,
    "start_time": "2022-08-17T08:25:49.925Z"
   },
   {
    "duration": 35,
    "start_time": "2022-08-17T08:25:49.944Z"
   },
   {
    "duration": 5,
    "start_time": "2022-08-17T08:25:49.980Z"
   },
   {
    "duration": 45,
    "start_time": "2022-08-17T08:25:50.005Z"
   },
   {
    "duration": 36,
    "start_time": "2022-08-17T08:25:50.052Z"
   },
   {
    "duration": 21,
    "start_time": "2022-08-17T08:25:50.090Z"
   },
   {
    "duration": 37,
    "start_time": "2022-08-17T08:25:50.113Z"
   },
   {
    "duration": 15,
    "start_time": "2022-08-17T08:25:50.152Z"
   },
   {
    "duration": 19,
    "start_time": "2022-08-17T08:25:50.170Z"
   },
   {
    "duration": 28,
    "start_time": "2022-08-17T08:25:50.191Z"
   },
   {
    "duration": 25,
    "start_time": "2022-08-17T08:25:50.221Z"
   },
   {
    "duration": 38,
    "start_time": "2022-08-17T08:25:50.248Z"
   },
   {
    "duration": 40,
    "start_time": "2022-08-17T08:25:50.288Z"
   },
   {
    "duration": 35,
    "start_time": "2022-08-17T08:25:50.331Z"
   },
   {
    "duration": 11,
    "start_time": "2022-08-17T08:25:50.368Z"
   },
   {
    "duration": 34,
    "start_time": "2022-08-17T08:25:50.381Z"
   },
   {
    "duration": 21,
    "start_time": "2022-08-17T08:25:50.417Z"
   },
   {
    "duration": 14,
    "start_time": "2022-08-17T08:25:50.440Z"
   },
   {
    "duration": 4,
    "start_time": "2022-08-17T08:25:50.456Z"
   },
   {
    "duration": 74,
    "start_time": "2022-08-17T08:25:50.461Z"
   },
   {
    "duration": 15,
    "start_time": "2022-08-17T08:25:50.537Z"
   },
   {
    "duration": 197,
    "start_time": "2022-08-17T08:25:50.553Z"
   },
   {
    "duration": 16,
    "start_time": "2022-08-17T08:25:50.752Z"
   },
   {
    "duration": 297,
    "start_time": "2022-08-17T08:25:50.771Z"
   },
   {
    "duration": 158,
    "start_time": "2022-08-17T08:25:51.069Z"
   },
   {
    "duration": 192,
    "start_time": "2022-08-17T08:25:51.228Z"
   },
   {
    "duration": 21,
    "start_time": "2022-08-17T08:25:51.421Z"
   },
   {
    "duration": 27,
    "start_time": "2022-08-17T08:26:29.199Z"
   },
   {
    "duration": 140,
    "start_time": "2022-08-17T08:27:53.599Z"
   },
   {
    "duration": 7,
    "start_time": "2022-08-17T08:31:41.833Z"
   },
   {
    "duration": 149,
    "start_time": "2022-08-17T08:32:51.397Z"
   },
   {
    "duration": 1597,
    "start_time": "2022-08-17T08:37:21.214Z"
   },
   {
    "duration": 194,
    "start_time": "2022-08-17T08:38:06.003Z"
   },
   {
    "duration": 14,
    "start_time": "2022-08-17T08:38:17.310Z"
   },
   {
    "duration": 16,
    "start_time": "2022-08-17T08:38:26.855Z"
   },
   {
    "duration": 2,
    "start_time": "2022-08-17T08:38:33.588Z"
   },
   {
    "duration": 100,
    "start_time": "2022-08-17T08:38:33.592Z"
   },
   {
    "duration": 14,
    "start_time": "2022-08-17T08:38:33.694Z"
   },
   {
    "duration": 56,
    "start_time": "2022-08-17T08:38:33.711Z"
   },
   {
    "duration": 10,
    "start_time": "2022-08-17T08:38:33.768Z"
   },
   {
    "duration": 25,
    "start_time": "2022-08-17T08:38:33.779Z"
   },
   {
    "duration": 50,
    "start_time": "2022-08-17T08:38:33.806Z"
   },
   {
    "duration": 12,
    "start_time": "2022-08-17T08:38:33.858Z"
   },
   {
    "duration": 37,
    "start_time": "2022-08-17T08:38:33.872Z"
   },
   {
    "duration": 5,
    "start_time": "2022-08-17T08:38:33.911Z"
   },
   {
    "duration": 26,
    "start_time": "2022-08-17T08:38:33.918Z"
   },
   {
    "duration": 27,
    "start_time": "2022-08-17T08:38:33.946Z"
   },
   {
    "duration": 11,
    "start_time": "2022-08-17T08:38:33.975Z"
   },
   {
    "duration": 38,
    "start_time": "2022-08-17T08:38:33.988Z"
   },
   {
    "duration": 15,
    "start_time": "2022-08-17T08:38:34.028Z"
   },
   {
    "duration": 14,
    "start_time": "2022-08-17T08:38:34.045Z"
   },
   {
    "duration": 37,
    "start_time": "2022-08-17T08:38:34.060Z"
   },
   {
    "duration": 37,
    "start_time": "2022-08-17T08:38:34.099Z"
   },
   {
    "duration": 39,
    "start_time": "2022-08-17T08:38:34.138Z"
   },
   {
    "duration": 16,
    "start_time": "2022-08-17T08:38:34.179Z"
   },
   {
    "duration": 51,
    "start_time": "2022-08-17T08:38:34.205Z"
   },
   {
    "duration": 12,
    "start_time": "2022-08-17T08:38:34.258Z"
   },
   {
    "duration": 8,
    "start_time": "2022-08-17T08:38:34.271Z"
   },
   {
    "duration": 28,
    "start_time": "2022-08-17T08:38:34.281Z"
   },
   {
    "duration": 29,
    "start_time": "2022-08-17T08:38:34.311Z"
   },
   {
    "duration": 3,
    "start_time": "2022-08-17T08:38:34.342Z"
   },
   {
    "duration": 44,
    "start_time": "2022-08-17T08:38:34.347Z"
   },
   {
    "duration": 22,
    "start_time": "2022-08-17T08:38:34.393Z"
   },
   {
    "duration": 200,
    "start_time": "2022-08-17T08:38:34.418Z"
   },
   {
    "duration": 20,
    "start_time": "2022-08-17T08:38:34.620Z"
   },
   {
    "duration": 303,
    "start_time": "2022-08-17T08:38:34.642Z"
   },
   {
    "duration": 7,
    "start_time": "2022-08-17T08:38:34.947Z"
   },
   {
    "duration": 179,
    "start_time": "2022-08-17T08:38:34.956Z"
   },
   {
    "duration": 251,
    "start_time": "2022-08-17T08:38:35.137Z"
   },
   {
    "duration": 152,
    "start_time": "2022-08-17T08:38:35.390Z"
   },
   {
    "duration": 14,
    "start_time": "2022-08-17T08:38:35.544Z"
   },
   {
    "duration": 15,
    "start_time": "2022-08-17T08:39:26.027Z"
   },
   {
    "duration": 7,
    "start_time": "2022-08-17T08:40:11.473Z"
   },
   {
    "duration": 17,
    "start_time": "2022-08-17T08:40:18.122Z"
   },
   {
    "duration": 15,
    "start_time": "2022-08-17T08:40:29.987Z"
   },
   {
    "duration": 12,
    "start_time": "2022-08-17T08:41:42.547Z"
   },
   {
    "duration": 154,
    "start_time": "2022-08-17T08:44:19.647Z"
   },
   {
    "duration": 15,
    "start_time": "2022-08-17T08:44:29.343Z"
   },
   {
    "duration": 164,
    "start_time": "2022-08-17T08:44:34.817Z"
   },
   {
    "duration": 10,
    "start_time": "2022-08-17T08:58:41.778Z"
   },
   {
    "duration": 6,
    "start_time": "2022-08-17T08:58:49.454Z"
   },
   {
    "duration": 6,
    "start_time": "2022-08-17T08:59:59.973Z"
   },
   {
    "duration": 9,
    "start_time": "2022-08-17T09:00:47.889Z"
   },
   {
    "duration": 13,
    "start_time": "2022-08-17T09:01:42.457Z"
   },
   {
    "duration": 18,
    "start_time": "2022-08-17T09:01:50.222Z"
   },
   {
    "duration": 14,
    "start_time": "2022-08-17T09:13:35.434Z"
   },
   {
    "duration": 32,
    "start_time": "2022-08-17T09:13:44.050Z"
   },
   {
    "duration": 2,
    "start_time": "2022-08-17T09:14:55.567Z"
   },
   {
    "duration": 96,
    "start_time": "2022-08-17T09:14:55.571Z"
   },
   {
    "duration": 13,
    "start_time": "2022-08-17T09:14:55.668Z"
   },
   {
    "duration": 47,
    "start_time": "2022-08-17T09:14:55.683Z"
   },
   {
    "duration": 10,
    "start_time": "2022-08-17T09:14:55.732Z"
   },
   {
    "duration": 22,
    "start_time": "2022-08-17T09:14:55.744Z"
   },
   {
    "duration": 31,
    "start_time": "2022-08-17T09:14:55.767Z"
   },
   {
    "duration": 22,
    "start_time": "2022-08-17T09:14:55.799Z"
   },
   {
    "duration": 29,
    "start_time": "2022-08-17T09:14:55.823Z"
   },
   {
    "duration": 4,
    "start_time": "2022-08-17T09:14:55.854Z"
   },
   {
    "duration": 18,
    "start_time": "2022-08-17T09:14:55.860Z"
   },
   {
    "duration": 37,
    "start_time": "2022-08-17T09:14:55.879Z"
   },
   {
    "duration": 12,
    "start_time": "2022-08-17T09:14:55.918Z"
   },
   {
    "duration": 12,
    "start_time": "2022-08-17T09:14:55.932Z"
   },
   {
    "duration": 12,
    "start_time": "2022-08-17T09:14:55.945Z"
   },
   {
    "duration": 13,
    "start_time": "2022-08-17T09:14:55.958Z"
   },
   {
    "duration": 50,
    "start_time": "2022-08-17T09:14:55.973Z"
   },
   {
    "duration": 30,
    "start_time": "2022-08-17T09:14:56.027Z"
   },
   {
    "duration": 56,
    "start_time": "2022-08-17T09:14:56.060Z"
   },
   {
    "duration": 23,
    "start_time": "2022-08-17T09:14:56.118Z"
   },
   {
    "duration": 47,
    "start_time": "2022-08-17T09:14:56.144Z"
   },
   {
    "duration": 27,
    "start_time": "2022-08-17T09:14:56.193Z"
   },
   {
    "duration": 11,
    "start_time": "2022-08-17T09:14:56.222Z"
   },
   {
    "duration": 16,
    "start_time": "2022-08-17T09:14:56.235Z"
   },
   {
    "duration": 24,
    "start_time": "2022-08-17T09:14:56.253Z"
   },
   {
    "duration": 58,
    "start_time": "2022-08-17T09:14:56.279Z"
   },
   {
    "duration": 39,
    "start_time": "2022-08-17T09:14:56.339Z"
   },
   {
    "duration": 15,
    "start_time": "2022-08-17T09:14:56.379Z"
   },
   {
    "duration": 175,
    "start_time": "2022-08-17T09:14:56.396Z"
   },
   {
    "duration": 16,
    "start_time": "2022-08-17T09:14:56.572Z"
   },
   {
    "duration": 273,
    "start_time": "2022-08-17T09:14:56.589Z"
   },
   {
    "duration": 6,
    "start_time": "2022-08-17T09:14:56.864Z"
   },
   {
    "duration": 158,
    "start_time": "2022-08-17T09:14:56.871Z"
   },
   {
    "duration": 153,
    "start_time": "2022-08-17T09:14:57.031Z"
   },
   {
    "duration": 155,
    "start_time": "2022-08-17T09:14:57.186Z"
   },
   {
    "duration": 158,
    "start_time": "2022-08-17T09:14:57.344Z"
   },
   {
    "duration": 310,
    "start_time": "2022-08-17T09:14:57.503Z"
   },
   {
    "duration": 32,
    "start_time": "2022-08-17T09:15:11.508Z"
   },
   {
    "duration": 31,
    "start_time": "2022-08-17T09:15:36.307Z"
   },
   {
    "duration": 397,
    "start_time": "2022-08-17T09:15:43.643Z"
   },
   {
    "duration": 288,
    "start_time": "2022-08-17T09:16:55.512Z"
   },
   {
    "duration": 33,
    "start_time": "2022-08-17T09:17:45.380Z"
   },
   {
    "duration": 448,
    "start_time": "2022-08-17T09:18:11.040Z"
   },
   {
    "duration": 303,
    "start_time": "2022-08-17T09:18:50.521Z"
   },
   {
    "duration": 305,
    "start_time": "2022-08-17T09:20:13.825Z"
   },
   {
    "duration": 286,
    "start_time": "2022-08-17T09:24:42.743Z"
   },
   {
    "duration": 3,
    "start_time": "2022-08-17T09:25:03.171Z"
   },
   {
    "duration": 91,
    "start_time": "2022-08-17T09:25:03.176Z"
   },
   {
    "duration": 13,
    "start_time": "2022-08-17T09:25:03.268Z"
   },
   {
    "duration": 43,
    "start_time": "2022-08-17T09:25:03.282Z"
   },
   {
    "duration": 9,
    "start_time": "2022-08-17T09:25:03.326Z"
   },
   {
    "duration": 20,
    "start_time": "2022-08-17T09:25:03.337Z"
   },
   {
    "duration": 30,
    "start_time": "2022-08-17T09:25:03.358Z"
   },
   {
    "duration": 18,
    "start_time": "2022-08-17T09:25:03.389Z"
   },
   {
    "duration": 26,
    "start_time": "2022-08-17T09:25:03.408Z"
   },
   {
    "duration": 4,
    "start_time": "2022-08-17T09:25:03.436Z"
   },
   {
    "duration": 18,
    "start_time": "2022-08-17T09:25:03.441Z"
   },
   {
    "duration": 14,
    "start_time": "2022-08-17T09:25:03.460Z"
   },
   {
    "duration": 35,
    "start_time": "2022-08-17T09:25:03.476Z"
   },
   {
    "duration": 12,
    "start_time": "2022-08-17T09:25:03.513Z"
   },
   {
    "duration": 13,
    "start_time": "2022-08-17T09:25:03.526Z"
   },
   {
    "duration": 12,
    "start_time": "2022-08-17T09:25:03.540Z"
   },
   {
    "duration": 16,
    "start_time": "2022-08-17T09:25:03.553Z"
   },
   {
    "duration": 47,
    "start_time": "2022-08-17T09:25:03.571Z"
   },
   {
    "duration": 36,
    "start_time": "2022-08-17T09:25:03.620Z"
   },
   {
    "duration": 16,
    "start_time": "2022-08-17T09:25:03.657Z"
   },
   {
    "duration": 56,
    "start_time": "2022-08-17T09:25:03.675Z"
   },
   {
    "duration": 11,
    "start_time": "2022-08-17T09:25:03.733Z"
   },
   {
    "duration": 7,
    "start_time": "2022-08-17T09:25:03.746Z"
   },
   {
    "duration": 14,
    "start_time": "2022-08-17T09:25:03.754Z"
   },
   {
    "duration": 40,
    "start_time": "2022-08-17T09:25:03.770Z"
   },
   {
    "duration": 2,
    "start_time": "2022-08-17T09:25:03.812Z"
   },
   {
    "duration": 34,
    "start_time": "2022-08-17T09:25:03.817Z"
   },
   {
    "duration": 15,
    "start_time": "2022-08-17T09:25:03.853Z"
   },
   {
    "duration": 179,
    "start_time": "2022-08-17T09:25:03.869Z"
   },
   {
    "duration": 17,
    "start_time": "2022-08-17T09:25:04.050Z"
   },
   {
    "duration": 285,
    "start_time": "2022-08-17T09:25:04.068Z"
   },
   {
    "duration": 6,
    "start_time": "2022-08-17T09:25:04.354Z"
   },
   {
    "duration": 142,
    "start_time": "2022-08-17T09:25:04.362Z"
   },
   {
    "duration": 150,
    "start_time": "2022-08-17T09:25:04.506Z"
   },
   {
    "duration": 225,
    "start_time": "2022-08-17T09:25:04.657Z"
   },
   {
    "duration": 150,
    "start_time": "2022-08-17T09:25:04.885Z"
   },
   {
    "duration": 285,
    "start_time": "2022-08-17T09:25:05.037Z"
   },
   {
    "duration": 451,
    "start_time": "2022-08-17T15:03:00.283Z"
   },
   {
    "duration": 280,
    "start_time": "2022-08-17T15:03:00.736Z"
   },
   {
    "duration": 17,
    "start_time": "2022-08-17T15:03:01.018Z"
   },
   {
    "duration": 99,
    "start_time": "2022-08-17T15:03:02.427Z"
   },
   {
    "duration": 12,
    "start_time": "2022-08-17T15:03:02.528Z"
   },
   {
    "duration": 27,
    "start_time": "2022-08-17T15:03:02.541Z"
   },
   {
    "duration": 35,
    "start_time": "2022-08-17T15:03:02.570Z"
   },
   {
    "duration": 15,
    "start_time": "2022-08-17T15:03:02.607Z"
   },
   {
    "duration": 34,
    "start_time": "2022-08-17T15:03:04.617Z"
   },
   {
    "duration": 4,
    "start_time": "2022-08-17T15:03:04.653Z"
   },
   {
    "duration": 22,
    "start_time": "2022-08-17T15:03:04.659Z"
   },
   {
    "duration": 17,
    "start_time": "2022-08-17T15:03:04.682Z"
   },
   {
    "duration": 11,
    "start_time": "2022-08-17T15:03:04.701Z"
   },
   {
    "duration": 15,
    "start_time": "2022-08-17T15:03:04.713Z"
   },
   {
    "duration": 16,
    "start_time": "2022-08-17T15:03:06.957Z"
   },
   {
    "duration": 22,
    "start_time": "2022-08-17T15:03:06.975Z"
   },
   {
    "duration": 20,
    "start_time": "2022-08-17T15:03:06.998Z"
   },
   {
    "duration": 19,
    "start_time": "2022-08-17T15:03:07.019Z"
   },
   {
    "duration": 56,
    "start_time": "2022-08-17T15:03:07.040Z"
   },
   {
    "duration": 18,
    "start_time": "2022-08-17T15:03:07.098Z"
   },
   {
    "duration": 37,
    "start_time": "2022-08-17T15:03:07.118Z"
   },
   {
    "duration": 38,
    "start_time": "2022-08-17T15:03:07.157Z"
   },
   {
    "duration": 8,
    "start_time": "2022-08-17T15:03:07.197Z"
   },
   {
    "duration": 18,
    "start_time": "2022-08-17T15:03:07.207Z"
   },
   {
    "duration": 14,
    "start_time": "2022-08-17T15:03:07.227Z"
   },
   {
    "duration": 4,
    "start_time": "2022-08-17T15:03:07.243Z"
   },
   {
    "duration": 66,
    "start_time": "2022-08-17T15:03:07.248Z"
   },
   {
    "duration": 16,
    "start_time": "2022-08-17T15:03:07.316Z"
   },
   {
    "duration": 634,
    "start_time": "2022-08-17T15:03:07.334Z"
   },
   {
    "duration": 24,
    "start_time": "2022-08-17T15:03:07.970Z"
   },
   {
    "duration": 316,
    "start_time": "2022-08-17T15:03:07.996Z"
   },
   {
    "duration": 8,
    "start_time": "2022-08-17T15:03:08.314Z"
   },
   {
    "duration": 208,
    "start_time": "2022-08-17T15:03:08.324Z"
   },
   {
    "duration": 175,
    "start_time": "2022-08-17T15:03:08.534Z"
   },
   {
    "duration": 214,
    "start_time": "2022-08-17T15:03:09.194Z"
   },
   {
    "duration": 168,
    "start_time": "2022-08-17T15:03:09.410Z"
   },
   {
    "duration": 334,
    "start_time": "2022-08-17T15:03:09.579Z"
   },
   {
    "duration": 3,
    "start_time": "2022-08-17T15:06:28.275Z"
   },
   {
    "duration": 105,
    "start_time": "2022-08-17T15:06:28.280Z"
   },
   {
    "duration": 15,
    "start_time": "2022-08-17T15:06:28.386Z"
   },
   {
    "duration": 42,
    "start_time": "2022-08-17T15:06:28.403Z"
   },
   {
    "duration": 11,
    "start_time": "2022-08-17T15:06:28.446Z"
   },
   {
    "duration": 26,
    "start_time": "2022-08-17T15:06:28.459Z"
   },
   {
    "duration": 39,
    "start_time": "2022-08-17T15:06:28.487Z"
   },
   {
    "duration": 16,
    "start_time": "2022-08-17T15:06:28.527Z"
   },
   {
    "duration": 32,
    "start_time": "2022-08-17T15:06:28.546Z"
   },
   {
    "duration": 5,
    "start_time": "2022-08-17T15:06:28.592Z"
   },
   {
    "duration": 22,
    "start_time": "2022-08-17T15:06:28.599Z"
   },
   {
    "duration": 18,
    "start_time": "2022-08-17T15:06:28.623Z"
   },
   {
    "duration": 11,
    "start_time": "2022-08-17T15:06:28.644Z"
   },
   {
    "duration": 48,
    "start_time": "2022-08-17T15:06:28.657Z"
   },
   {
    "duration": 17,
    "start_time": "2022-08-17T15:06:28.707Z"
   },
   {
    "duration": 12,
    "start_time": "2022-08-17T15:06:28.726Z"
   },
   {
    "duration": 20,
    "start_time": "2022-08-17T15:06:28.740Z"
   },
   {
    "duration": 49,
    "start_time": "2022-08-17T15:06:28.762Z"
   },
   {
    "duration": 41,
    "start_time": "2022-08-17T15:06:28.813Z"
   },
   {
    "duration": 49,
    "start_time": "2022-08-17T15:06:28.857Z"
   },
   {
    "duration": 6,
    "start_time": "2022-08-17T15:06:28.908Z"
   },
   {
    "duration": 94,
    "start_time": "2022-08-17T15:09:38.082Z"
   },
   {
    "duration": 4,
    "start_time": "2022-08-17T15:09:58.338Z"
   },
   {
    "duration": 113,
    "start_time": "2022-08-17T15:09:58.345Z"
   },
   {
    "duration": 16,
    "start_time": "2022-08-17T15:09:58.460Z"
   },
   {
    "duration": 42,
    "start_time": "2022-08-17T15:09:58.492Z"
   },
   {
    "duration": 10,
    "start_time": "2022-08-17T15:09:58.536Z"
   },
   {
    "duration": 25,
    "start_time": "2022-08-17T15:09:58.548Z"
   },
   {
    "duration": 37,
    "start_time": "2022-08-17T15:09:58.575Z"
   },
   {
    "duration": 16,
    "start_time": "2022-08-17T15:09:58.613Z"
   },
   {
    "duration": 32,
    "start_time": "2022-08-17T15:09:58.631Z"
   },
   {
    "duration": 4,
    "start_time": "2022-08-17T15:09:58.665Z"
   },
   {
    "duration": 20,
    "start_time": "2022-08-17T15:09:58.693Z"
   },
   {
    "duration": 34,
    "start_time": "2022-08-17T15:09:58.715Z"
   },
   {
    "duration": 10,
    "start_time": "2022-08-17T15:09:58.751Z"
   },
   {
    "duration": 14,
    "start_time": "2022-08-17T15:09:58.762Z"
   },
   {
    "duration": 15,
    "start_time": "2022-08-17T15:09:58.794Z"
   },
   {
    "duration": 11,
    "start_time": "2022-08-17T15:09:58.810Z"
   },
   {
    "duration": 18,
    "start_time": "2022-08-17T15:09:58.823Z"
   },
   {
    "duration": 28,
    "start_time": "2022-08-17T15:09:58.842Z"
   },
   {
    "duration": 57,
    "start_time": "2022-08-17T15:09:58.871Z"
   },
   {
    "duration": 19,
    "start_time": "2022-08-17T15:09:58.929Z"
   },
   {
    "duration": 65,
    "start_time": "2022-08-17T15:09:58.950Z"
   },
   {
    "duration": 14,
    "start_time": "2022-08-17T15:09:59.017Z"
   },
   {
    "duration": 8,
    "start_time": "2022-08-17T15:09:59.033Z"
   },
   {
    "duration": 16,
    "start_time": "2022-08-17T15:09:59.044Z"
   },
   {
    "duration": 41,
    "start_time": "2022-08-17T15:09:59.062Z"
   },
   {
    "duration": 3,
    "start_time": "2022-08-17T15:09:59.105Z"
   },
   {
    "duration": 39,
    "start_time": "2022-08-17T15:09:59.110Z"
   },
   {
    "duration": 16,
    "start_time": "2022-08-17T15:09:59.150Z"
   },
   {
    "duration": 207,
    "start_time": "2022-08-17T15:09:59.192Z"
   },
   {
    "duration": 18,
    "start_time": "2022-08-17T15:09:59.401Z"
   },
   {
    "duration": 306,
    "start_time": "2022-08-17T15:09:59.421Z"
   },
   {
    "duration": 7,
    "start_time": "2022-08-17T15:09:59.729Z"
   },
   {
    "duration": 166,
    "start_time": "2022-08-17T15:09:59.738Z"
   },
   {
    "duration": 179,
    "start_time": "2022-08-17T15:09:59.906Z"
   },
   {
    "duration": 162,
    "start_time": "2022-08-17T15:10:00.092Z"
   },
   {
    "duration": 182,
    "start_time": "2022-08-17T15:10:00.256Z"
   },
   {
    "duration": 322,
    "start_time": "2022-08-17T15:10:00.440Z"
   },
   {
    "duration": 387,
    "start_time": "2022-08-18T10:20:22.795Z"
   },
   {
    "duration": 276,
    "start_time": "2022-08-18T10:20:23.184Z"
   },
   {
    "duration": 15,
    "start_time": "2022-08-18T10:20:23.461Z"
   },
   {
    "duration": 87,
    "start_time": "2022-08-18T10:20:23.478Z"
   },
   {
    "duration": 9,
    "start_time": "2022-08-18T10:20:23.567Z"
   },
   {
    "duration": 24,
    "start_time": "2022-08-18T10:20:23.578Z"
   },
   {
    "duration": 33,
    "start_time": "2022-08-18T10:20:23.604Z"
   },
   {
    "duration": 13,
    "start_time": "2022-08-18T10:20:23.638Z"
   },
   {
    "duration": 29,
    "start_time": "2022-08-18T10:20:23.653Z"
   },
   {
    "duration": 5,
    "start_time": "2022-08-18T10:20:23.707Z"
   },
   {
    "duration": 42,
    "start_time": "2022-08-18T10:20:23.713Z"
   },
   {
    "duration": 17,
    "start_time": "2022-08-18T10:20:23.757Z"
   },
   {
    "duration": 9,
    "start_time": "2022-08-18T10:20:23.776Z"
   },
   {
    "duration": 20,
    "start_time": "2022-08-18T10:20:23.787Z"
   },
   {
    "duration": 20,
    "start_time": "2022-08-18T10:20:23.809Z"
   },
   {
    "duration": 11,
    "start_time": "2022-08-18T10:20:23.831Z"
   },
   {
    "duration": 17,
    "start_time": "2022-08-18T10:20:23.844Z"
   },
   {
    "duration": 53,
    "start_time": "2022-08-18T10:20:23.863Z"
   },
   {
    "duration": 37,
    "start_time": "2022-08-18T10:20:23.918Z"
   },
   {
    "duration": 19,
    "start_time": "2022-08-18T10:20:23.957Z"
   },
   {
    "duration": 78,
    "start_time": "2022-08-18T10:20:23.978Z"
   },
   {
    "duration": 12,
    "start_time": "2022-08-18T10:20:24.058Z"
   },
   {
    "duration": 8,
    "start_time": "2022-08-18T10:20:24.071Z"
   },
   {
    "duration": 43,
    "start_time": "2022-08-18T10:20:24.081Z"
   },
   {
    "duration": 22,
    "start_time": "2022-08-18T10:20:24.126Z"
   },
   {
    "duration": 5,
    "start_time": "2022-08-18T10:20:24.150Z"
   },
   {
    "duration": 60,
    "start_time": "2022-08-18T10:20:24.157Z"
   },
   {
    "duration": 15,
    "start_time": "2022-08-18T10:20:24.220Z"
   },
   {
    "duration": 609,
    "start_time": "2022-08-18T10:20:24.237Z"
   },
   {
    "duration": 23,
    "start_time": "2022-08-18T10:20:24.848Z"
   },
   {
    "duration": 291,
    "start_time": "2022-08-18T10:20:24.873Z"
   },
   {
    "duration": 7,
    "start_time": "2022-08-18T10:20:25.165Z"
   },
   {
    "duration": 159,
    "start_time": "2022-08-18T10:20:25.173Z"
   },
   {
    "duration": 165,
    "start_time": "2022-08-18T10:20:25.334Z"
   },
   {
    "duration": 211,
    "start_time": "2022-08-18T10:20:25.500Z"
   },
   {
    "duration": 152,
    "start_time": "2022-08-18T10:20:25.712Z"
   },
   {
    "duration": 386,
    "start_time": "2022-08-18T10:20:25.865Z"
   },
   {
    "duration": 6,
    "start_time": "2022-08-18T10:28:27.624Z"
   },
   {
    "duration": 6,
    "start_time": "2022-08-18T10:28:34.636Z"
   },
   {
    "duration": 6,
    "start_time": "2022-08-18T10:28:41.034Z"
   },
   {
    "duration": 5,
    "start_time": "2022-08-18T10:28:50.289Z"
   },
   {
    "duration": 6,
    "start_time": "2022-08-18T10:31:24.327Z"
   },
   {
    "duration": 6,
    "start_time": "2022-08-18T10:31:37.592Z"
   },
   {
    "duration": 6,
    "start_time": "2022-08-18T10:31:41.622Z"
   },
   {
    "duration": 17,
    "start_time": "2022-08-18T10:33:14.157Z"
   },
   {
    "duration": 76,
    "start_time": "2022-08-18T10:35:45.125Z"
   },
   {
    "duration": 2,
    "start_time": "2022-08-18T10:36:30.402Z"
   },
   {
    "duration": 101,
    "start_time": "2022-08-18T10:36:30.406Z"
   },
   {
    "duration": 13,
    "start_time": "2022-08-18T10:36:30.508Z"
   },
   {
    "duration": 53,
    "start_time": "2022-08-18T10:36:30.523Z"
   },
   {
    "duration": 18,
    "start_time": "2022-08-18T10:36:30.578Z"
   },
   {
    "duration": 59,
    "start_time": "2022-08-18T10:36:30.598Z"
   },
   {
    "duration": 34,
    "start_time": "2022-08-18T10:36:30.658Z"
   },
   {
    "duration": 19,
    "start_time": "2022-08-18T10:36:30.693Z"
   },
   {
    "duration": 50,
    "start_time": "2022-08-18T10:36:30.715Z"
   },
   {
    "duration": 6,
    "start_time": "2022-08-18T10:36:30.767Z"
   },
   {
    "duration": 44,
    "start_time": "2022-08-18T10:36:30.774Z"
   },
   {
    "duration": 19,
    "start_time": "2022-08-18T10:36:30.820Z"
   },
   {
    "duration": 32,
    "start_time": "2022-08-18T10:36:30.841Z"
   },
   {
    "duration": 26,
    "start_time": "2022-08-18T10:36:30.875Z"
   },
   {
    "duration": 46,
    "start_time": "2022-08-18T10:36:30.903Z"
   },
   {
    "duration": 17,
    "start_time": "2022-08-18T10:36:30.951Z"
   },
   {
    "duration": 29,
    "start_time": "2022-08-18T10:36:30.970Z"
   },
   {
    "duration": 46,
    "start_time": "2022-08-18T10:36:31.000Z"
   },
   {
    "duration": 46,
    "start_time": "2022-08-18T10:36:31.048Z"
   },
   {
    "duration": 18,
    "start_time": "2022-08-18T10:36:31.096Z"
   },
   {
    "duration": 49,
    "start_time": "2022-08-18T10:36:31.117Z"
   },
   {
    "duration": 6,
    "start_time": "2022-08-18T10:36:31.167Z"
   },
   {
    "duration": 43,
    "start_time": "2022-08-18T10:36:31.175Z"
   },
   {
    "duration": 10,
    "start_time": "2022-08-18T10:36:31.222Z"
   },
   {
    "duration": 24,
    "start_time": "2022-08-18T10:36:31.233Z"
   },
   {
    "duration": 39,
    "start_time": "2022-08-18T10:36:31.258Z"
   },
   {
    "duration": 8,
    "start_time": "2022-08-18T10:36:31.305Z"
   },
   {
    "duration": 42,
    "start_time": "2022-08-18T10:36:31.314Z"
   },
   {
    "duration": 20,
    "start_time": "2022-08-18T10:36:31.358Z"
   },
   {
    "duration": 28,
    "start_time": "2022-08-18T10:36:31.380Z"
   },
   {
    "duration": 221,
    "start_time": "2022-08-18T10:36:31.410Z"
   },
   {
    "duration": 12,
    "start_time": "2022-08-18T10:36:31.633Z"
   },
   {
    "duration": 0,
    "start_time": "2022-08-18T10:36:31.646Z"
   },
   {
    "duration": 0,
    "start_time": "2022-08-18T10:36:31.648Z"
   },
   {
    "duration": 0,
    "start_time": "2022-08-18T10:36:31.650Z"
   },
   {
    "duration": 0,
    "start_time": "2022-08-18T10:36:31.651Z"
   },
   {
    "duration": 0,
    "start_time": "2022-08-18T10:36:31.652Z"
   },
   {
    "duration": 0,
    "start_time": "2022-08-18T10:36:31.653Z"
   },
   {
    "duration": 0,
    "start_time": "2022-08-18T10:36:31.654Z"
   },
   {
    "duration": 0,
    "start_time": "2022-08-18T10:36:31.656Z"
   },
   {
    "duration": 153,
    "start_time": "2022-08-18T10:37:24.136Z"
   },
   {
    "duration": 7,
    "start_time": "2022-08-18T10:37:27.886Z"
   },
   {
    "duration": 8,
    "start_time": "2022-08-18T10:37:32.211Z"
   },
   {
    "duration": 27,
    "start_time": "2022-08-18T10:37:32.221Z"
   },
   {
    "duration": 321,
    "start_time": "2022-08-18T10:37:32.250Z"
   },
   {
    "duration": 7,
    "start_time": "2022-08-18T10:37:32.574Z"
   },
   {
    "duration": 177,
    "start_time": "2022-08-18T10:37:32.583Z"
   },
   {
    "duration": 186,
    "start_time": "2022-08-18T10:37:32.762Z"
   },
   {
    "duration": 183,
    "start_time": "2022-08-18T10:37:32.950Z"
   },
   {
    "duration": 192,
    "start_time": "2022-08-18T10:37:33.135Z"
   },
   {
    "duration": 356,
    "start_time": "2022-08-18T10:37:33.330Z"
   },
   {
    "duration": 103,
    "start_time": "2022-08-18T10:38:59.071Z"
   },
   {
    "duration": 223,
    "start_time": "2022-08-18T10:40:41.675Z"
   },
   {
    "duration": 347,
    "start_time": "2022-08-18T10:40:56.153Z"
   },
   {
    "duration": 27,
    "start_time": "2022-08-18T10:43:09.861Z"
   },
   {
    "duration": 190,
    "start_time": "2022-08-18T10:43:26.441Z"
   },
   {
    "duration": 13,
    "start_time": "2022-08-18T10:47:20.050Z"
   },
   {
    "duration": 138,
    "start_time": "2022-08-18T10:47:30.926Z"
   },
   {
    "duration": 607,
    "start_time": "2022-08-18T12:11:05.264Z"
   },
   {
    "duration": 225,
    "start_time": "2022-08-18T12:11:05.873Z"
   },
   {
    "duration": 15,
    "start_time": "2022-08-18T12:11:06.099Z"
   },
   {
    "duration": 101,
    "start_time": "2022-08-18T12:11:06.115Z"
   },
   {
    "duration": 13,
    "start_time": "2022-08-18T12:11:06.218Z"
   },
   {
    "duration": 48,
    "start_time": "2022-08-18T12:11:06.233Z"
   },
   {
    "duration": 51,
    "start_time": "2022-08-18T12:11:06.283Z"
   },
   {
    "duration": 6,
    "start_time": "2022-08-18T12:11:06.336Z"
   },
   {
    "duration": 5,
    "start_time": "2022-08-18T12:11:11.317Z"
   },
   {
    "duration": 5,
    "start_time": "2022-08-18T12:11:42.946Z"
   },
   {
    "duration": 5,
    "start_time": "2022-08-18T12:13:10.429Z"
   },
   {
    "duration": 9,
    "start_time": "2022-08-18T12:13:25.552Z"
   },
   {
    "duration": 260,
    "start_time": "2022-08-18T12:15:48.424Z"
   },
   {
    "duration": 82,
    "start_time": "2022-08-18T12:16:39.264Z"
   },
   {
    "duration": 4,
    "start_time": "2022-08-18T12:17:46.891Z"
   },
   {
    "duration": 103,
    "start_time": "2022-08-18T12:17:46.903Z"
   },
   {
    "duration": 13,
    "start_time": "2022-08-18T12:17:47.007Z"
   },
   {
    "duration": 43,
    "start_time": "2022-08-18T12:17:47.021Z"
   },
   {
    "duration": 16,
    "start_time": "2022-08-18T12:17:47.065Z"
   },
   {
    "duration": 22,
    "start_time": "2022-08-18T12:17:47.083Z"
   },
   {
    "duration": 30,
    "start_time": "2022-08-18T12:17:47.106Z"
   },
   {
    "duration": 35,
    "start_time": "2022-08-18T12:17:47.138Z"
   },
   {
    "duration": 19,
    "start_time": "2022-08-18T12:17:47.177Z"
   },
   {
    "duration": 28,
    "start_time": "2022-08-18T12:17:47.197Z"
   },
   {
    "duration": 5,
    "start_time": "2022-08-18T12:17:47.227Z"
   },
   {
    "duration": 64,
    "start_time": "2022-08-18T12:17:47.234Z"
   },
   {
    "duration": 19,
    "start_time": "2022-08-18T12:17:47.299Z"
   },
   {
    "duration": 9,
    "start_time": "2022-08-18T12:17:47.320Z"
   },
   {
    "duration": 16,
    "start_time": "2022-08-18T12:17:47.332Z"
   },
   {
    "duration": 3,
    "start_time": "2022-08-18T12:21:03.411Z"
   },
   {
    "duration": 102,
    "start_time": "2022-08-18T12:21:03.416Z"
   },
   {
    "duration": 13,
    "start_time": "2022-08-18T12:21:03.520Z"
   },
   {
    "duration": 61,
    "start_time": "2022-08-18T12:21:03.535Z"
   },
   {
    "duration": 9,
    "start_time": "2022-08-18T12:21:03.598Z"
   },
   {
    "duration": 23,
    "start_time": "2022-08-18T12:21:03.609Z"
   },
   {
    "duration": 37,
    "start_time": "2022-08-18T12:21:03.634Z"
   },
   {
    "duration": 5,
    "start_time": "2022-08-18T12:21:03.673Z"
   },
   {
    "duration": 21,
    "start_time": "2022-08-18T12:21:03.679Z"
   },
   {
    "duration": 35,
    "start_time": "2022-08-18T12:21:03.701Z"
   },
   {
    "duration": 4,
    "start_time": "2022-08-18T12:21:03.738Z"
   },
   {
    "duration": 90,
    "start_time": "2022-08-18T12:21:03.744Z"
   },
   {
    "duration": 17,
    "start_time": "2022-08-18T12:21:08.918Z"
   },
   {
    "duration": 17,
    "start_time": "2022-08-18T12:21:22.473Z"
   },
   {
    "duration": 98,
    "start_time": "2022-08-18T12:23:44.941Z"
   },
   {
    "duration": 75,
    "start_time": "2022-08-18T12:24:42.350Z"
   },
   {
    "duration": 2,
    "start_time": "2022-08-18T12:29:33.353Z"
   },
   {
    "duration": 118,
    "start_time": "2022-08-18T12:29:33.359Z"
   },
   {
    "duration": 13,
    "start_time": "2022-08-18T12:29:33.479Z"
   },
   {
    "duration": 56,
    "start_time": "2022-08-18T12:29:33.494Z"
   },
   {
    "duration": 20,
    "start_time": "2022-08-18T12:29:33.552Z"
   },
   {
    "duration": 55,
    "start_time": "2022-08-18T12:29:33.574Z"
   },
   {
    "duration": 44,
    "start_time": "2022-08-18T12:29:33.631Z"
   },
   {
    "duration": 7,
    "start_time": "2022-08-18T12:29:33.677Z"
   },
   {
    "duration": 27,
    "start_time": "2022-08-18T12:29:33.686Z"
   },
   {
    "duration": 33,
    "start_time": "2022-08-18T12:29:33.715Z"
   },
   {
    "duration": 17,
    "start_time": "2022-08-18T12:29:33.751Z"
   },
   {
    "duration": 22,
    "start_time": "2022-08-18T12:29:33.770Z"
   },
   {
    "duration": 17,
    "start_time": "2022-08-18T12:29:33.794Z"
   },
   {
    "duration": 8,
    "start_time": "2022-08-18T12:29:33.812Z"
   },
   {
    "duration": 20,
    "start_time": "2022-08-18T12:29:33.821Z"
   },
   {
    "duration": 28,
    "start_time": "2022-08-18T12:29:33.842Z"
   },
   {
    "duration": 20,
    "start_time": "2022-08-18T12:29:33.871Z"
   },
   {
    "duration": 15,
    "start_time": "2022-08-18T12:29:33.893Z"
   },
   {
    "duration": 18,
    "start_time": "2022-08-18T12:29:33.910Z"
   },
   {
    "duration": 66,
    "start_time": "2022-08-18T12:29:33.929Z"
   },
   {
    "duration": 17,
    "start_time": "2022-08-18T12:29:33.996Z"
   },
   {
    "duration": 54,
    "start_time": "2022-08-18T12:29:34.015Z"
   },
   {
    "duration": 5,
    "start_time": "2022-08-18T12:29:34.070Z"
   },
   {
    "duration": 23,
    "start_time": "2022-08-18T12:29:34.076Z"
   },
   {
    "duration": 16,
    "start_time": "2022-08-18T12:29:34.101Z"
   },
   {
    "duration": 18,
    "start_time": "2022-08-18T12:29:34.119Z"
   },
   {
    "duration": 30,
    "start_time": "2022-08-18T12:29:34.139Z"
   },
   {
    "duration": 4,
    "start_time": "2022-08-18T12:29:34.171Z"
   },
   {
    "duration": 41,
    "start_time": "2022-08-18T12:29:34.177Z"
   },
   {
    "duration": 9,
    "start_time": "2022-08-18T12:29:34.220Z"
   },
   {
    "duration": 17,
    "start_time": "2022-08-18T12:29:52.601Z"
   },
   {
    "duration": 37,
    "start_time": "2022-08-18T12:30:03.137Z"
   },
   {
    "duration": 9,
    "start_time": "2022-08-18T12:30:34.717Z"
   },
   {
    "duration": 9,
    "start_time": "2022-08-18T12:30:45.027Z"
   },
   {
    "duration": 35,
    "start_time": "2022-08-18T12:30:55.207Z"
   },
   {
    "duration": 30,
    "start_time": "2022-08-18T12:33:11.292Z"
   },
   {
    "duration": 9,
    "start_time": "2022-08-18T12:33:25.335Z"
   },
   {
    "duration": 29,
    "start_time": "2022-08-18T12:33:32.311Z"
   },
   {
    "duration": 2,
    "start_time": "2022-08-18T12:34:04.873Z"
   },
   {
    "duration": 106,
    "start_time": "2022-08-18T12:34:04.877Z"
   },
   {
    "duration": 13,
    "start_time": "2022-08-18T12:34:04.986Z"
   },
   {
    "duration": 50,
    "start_time": "2022-08-18T12:34:05.000Z"
   },
   {
    "duration": 20,
    "start_time": "2022-08-18T12:34:05.052Z"
   },
   {
    "duration": 32,
    "start_time": "2022-08-18T12:34:05.074Z"
   },
   {
    "duration": 37,
    "start_time": "2022-08-18T12:34:05.108Z"
   },
   {
    "duration": 5,
    "start_time": "2022-08-18T12:34:05.147Z"
   },
   {
    "duration": 67,
    "start_time": "2022-08-18T12:34:05.153Z"
   },
   {
    "duration": 60,
    "start_time": "2022-08-18T12:34:05.222Z"
   },
   {
    "duration": 16,
    "start_time": "2022-08-18T12:34:05.285Z"
   },
   {
    "duration": 29,
    "start_time": "2022-08-18T12:34:05.303Z"
   },
   {
    "duration": 18,
    "start_time": "2022-08-18T12:34:05.334Z"
   },
   {
    "duration": 35,
    "start_time": "2022-08-18T12:34:05.358Z"
   },
   {
    "duration": 17,
    "start_time": "2022-08-18T12:34:05.396Z"
   },
   {
    "duration": 17,
    "start_time": "2022-08-18T12:34:05.415Z"
   },
   {
    "duration": 30,
    "start_time": "2022-08-18T12:34:05.434Z"
   },
   {
    "duration": 42,
    "start_time": "2022-08-18T12:34:05.466Z"
   },
   {
    "duration": 37,
    "start_time": "2022-08-18T12:34:05.510Z"
   },
   {
    "duration": 42,
    "start_time": "2022-08-18T12:34:05.548Z"
   },
   {
    "duration": 21,
    "start_time": "2022-08-18T12:34:05.591Z"
   },
   {
    "duration": 57,
    "start_time": "2022-08-18T12:34:05.613Z"
   },
   {
    "duration": 9,
    "start_time": "2022-08-18T12:34:05.675Z"
   },
   {
    "duration": 37,
    "start_time": "2022-08-18T12:34:05.686Z"
   },
   {
    "duration": 8,
    "start_time": "2022-08-18T12:34:05.724Z"
   },
   {
    "duration": 18,
    "start_time": "2022-08-18T12:34:05.734Z"
   },
   {
    "duration": 23,
    "start_time": "2022-08-18T12:34:05.754Z"
   },
   {
    "duration": 13,
    "start_time": "2022-08-18T12:34:05.779Z"
   },
   {
    "duration": 43,
    "start_time": "2022-08-18T12:34:05.795Z"
   },
   {
    "duration": 35,
    "start_time": "2022-08-18T12:34:05.839Z"
   },
   {
    "duration": 3,
    "start_time": "2022-08-18T12:38:21.180Z"
   },
   {
    "duration": 104,
    "start_time": "2022-08-18T12:38:21.185Z"
   },
   {
    "duration": 15,
    "start_time": "2022-08-18T12:38:21.291Z"
   },
   {
    "duration": 42,
    "start_time": "2022-08-18T12:38:21.308Z"
   },
   {
    "duration": 16,
    "start_time": "2022-08-18T12:38:21.353Z"
   },
   {
    "duration": 23,
    "start_time": "2022-08-18T12:38:21.371Z"
   },
   {
    "duration": 31,
    "start_time": "2022-08-18T12:38:21.395Z"
   },
   {
    "duration": 4,
    "start_time": "2022-08-18T12:38:21.428Z"
   },
   {
    "duration": 23,
    "start_time": "2022-08-18T12:38:21.457Z"
   },
   {
    "duration": 30,
    "start_time": "2022-08-18T12:38:21.481Z"
   },
   {
    "duration": 5,
    "start_time": "2022-08-18T12:38:21.513Z"
   },
   {
    "duration": 58,
    "start_time": "2022-08-18T12:38:21.519Z"
   },
   {
    "duration": 15,
    "start_time": "2022-08-18T12:38:21.579Z"
   },
   {
    "duration": 11,
    "start_time": "2022-08-18T12:38:21.596Z"
   },
   {
    "duration": 15,
    "start_time": "2022-08-18T12:38:21.609Z"
   },
   {
    "duration": 18,
    "start_time": "2022-08-18T12:38:21.663Z"
   },
   {
    "duration": 16,
    "start_time": "2022-08-18T12:38:21.683Z"
   },
   {
    "duration": 26,
    "start_time": "2022-08-18T12:38:21.701Z"
   },
   {
    "duration": 20,
    "start_time": "2022-08-18T12:38:21.729Z"
   },
   {
    "duration": 53,
    "start_time": "2022-08-18T12:38:21.750Z"
   },
   {
    "duration": 17,
    "start_time": "2022-08-18T12:38:21.804Z"
   },
   {
    "duration": 74,
    "start_time": "2022-08-18T12:38:21.822Z"
   },
   {
    "duration": 4,
    "start_time": "2022-08-18T12:38:21.898Z"
   },
   {
    "duration": 19,
    "start_time": "2022-08-18T12:38:21.904Z"
   },
   {
    "duration": 22,
    "start_time": "2022-08-18T12:38:21.924Z"
   },
   {
    "duration": 24,
    "start_time": "2022-08-18T12:38:21.948Z"
   },
   {
    "duration": 31,
    "start_time": "2022-08-18T12:38:21.973Z"
   },
   {
    "duration": 6,
    "start_time": "2022-08-18T12:38:22.005Z"
   },
   {
    "duration": 58,
    "start_time": "2022-08-18T12:38:22.014Z"
   },
   {
    "duration": 27,
    "start_time": "2022-08-18T12:38:22.074Z"
   },
   {
    "duration": 43,
    "start_time": "2022-08-18T12:38:40.439Z"
   },
   {
    "duration": 31,
    "start_time": "2022-08-18T12:38:58.170Z"
   },
   {
    "duration": 4,
    "start_time": "2022-08-18T12:39:45.847Z"
   },
   {
    "duration": 43,
    "start_time": "2022-08-18T12:39:51.928Z"
   },
   {
    "duration": 32,
    "start_time": "2022-08-18T12:40:12.858Z"
   },
   {
    "duration": 28,
    "start_time": "2022-08-18T12:40:19.251Z"
   },
   {
    "duration": 8,
    "start_time": "2022-08-18T12:55:58.631Z"
   },
   {
    "duration": 20,
    "start_time": "2022-08-18T13:00:17.613Z"
   },
   {
    "duration": 23,
    "start_time": "2022-08-18T13:06:45.217Z"
   },
   {
    "duration": 21,
    "start_time": "2022-08-18T13:06:54.873Z"
   },
   {
    "duration": 22,
    "start_time": "2022-08-18T13:07:26.703Z"
   },
   {
    "duration": 9,
    "start_time": "2022-08-18T13:07:37.678Z"
   },
   {
    "duration": 20,
    "start_time": "2022-08-18T13:07:43.804Z"
   },
   {
    "duration": 66,
    "start_time": "2022-08-18T13:09:37.733Z"
   },
   {
    "duration": 21,
    "start_time": "2022-08-18T13:10:01.090Z"
   },
   {
    "duration": 4,
    "start_time": "2022-08-18T13:11:11.845Z"
   },
   {
    "duration": 94,
    "start_time": "2022-08-18T13:11:11.851Z"
   },
   {
    "duration": 19,
    "start_time": "2022-08-18T13:11:11.946Z"
   },
   {
    "duration": 68,
    "start_time": "2022-08-18T13:11:11.967Z"
   },
   {
    "duration": 13,
    "start_time": "2022-08-18T13:11:12.038Z"
   },
   {
    "duration": 33,
    "start_time": "2022-08-18T13:11:12.053Z"
   },
   {
    "duration": 47,
    "start_time": "2022-08-18T13:11:12.088Z"
   },
   {
    "duration": 20,
    "start_time": "2022-08-18T13:11:12.137Z"
   },
   {
    "duration": 19,
    "start_time": "2022-08-18T13:11:12.159Z"
   },
   {
    "duration": 43,
    "start_time": "2022-08-18T13:11:12.180Z"
   },
   {
    "duration": 5,
    "start_time": "2022-08-18T13:11:12.225Z"
   },
   {
    "duration": 19,
    "start_time": "2022-08-18T13:11:12.259Z"
   },
   {
    "duration": 23,
    "start_time": "2022-08-18T13:11:12.281Z"
   },
   {
    "duration": 19,
    "start_time": "2022-08-18T13:11:12.307Z"
   },
   {
    "duration": 31,
    "start_time": "2022-08-18T13:11:12.328Z"
   },
   {
    "duration": 17,
    "start_time": "2022-08-18T13:11:12.361Z"
   },
   {
    "duration": 14,
    "start_time": "2022-08-18T13:11:12.380Z"
   },
   {
    "duration": 35,
    "start_time": "2022-08-18T13:11:12.405Z"
   },
   {
    "duration": 29,
    "start_time": "2022-08-18T13:11:12.442Z"
   },
   {
    "duration": 37,
    "start_time": "2022-08-18T13:11:12.473Z"
   },
   {
    "duration": 18,
    "start_time": "2022-08-18T13:11:12.512Z"
   },
   {
    "duration": 57,
    "start_time": "2022-08-18T13:11:12.532Z"
   },
   {
    "duration": 6,
    "start_time": "2022-08-18T13:11:12.591Z"
   },
   {
    "duration": 21,
    "start_time": "2022-08-18T13:11:12.599Z"
   },
   {
    "duration": 36,
    "start_time": "2022-08-18T13:11:12.622Z"
   },
   {
    "duration": 20,
    "start_time": "2022-08-18T13:11:12.660Z"
   },
   {
    "duration": 15,
    "start_time": "2022-08-18T13:11:12.682Z"
   },
   {
    "duration": 3,
    "start_time": "2022-08-18T13:11:12.700Z"
   },
   {
    "duration": 64,
    "start_time": "2022-08-18T13:11:12.705Z"
   },
   {
    "duration": 21,
    "start_time": "2022-08-18T13:11:12.772Z"
   },
   {
    "duration": 16,
    "start_time": "2022-08-18T13:11:12.795Z"
   },
   {
    "duration": 14,
    "start_time": "2022-08-18T13:11:12.813Z"
   },
   {
    "duration": 609,
    "start_time": "2022-08-18T13:11:12.858Z"
   },
   {
    "duration": 8,
    "start_time": "2022-08-18T13:11:13.469Z"
   },
   {
    "duration": 25,
    "start_time": "2022-08-18T13:11:13.480Z"
   },
   {
    "duration": 27,
    "start_time": "2022-08-18T13:11:13.507Z"
   },
   {
    "duration": 348,
    "start_time": "2022-08-19T06:28:14.635Z"
   },
   {
    "duration": 361,
    "start_time": "2022-08-19T06:28:14.986Z"
   },
   {
    "duration": 15,
    "start_time": "2022-08-19T06:28:15.349Z"
   },
   {
    "duration": 94,
    "start_time": "2022-08-19T06:28:15.366Z"
   },
   {
    "duration": 8,
    "start_time": "2022-08-19T06:28:15.462Z"
   },
   {
    "duration": 29,
    "start_time": "2022-08-19T06:28:15.472Z"
   },
   {
    "duration": 31,
    "start_time": "2022-08-19T06:28:15.503Z"
   },
   {
    "duration": 5,
    "start_time": "2022-08-19T06:28:15.535Z"
   },
   {
    "duration": 13,
    "start_time": "2022-08-19T06:28:15.542Z"
   },
   {
    "duration": 51,
    "start_time": "2022-08-19T06:28:15.557Z"
   },
   {
    "duration": 4,
    "start_time": "2022-08-19T06:28:15.609Z"
   },
   {
    "duration": 22,
    "start_time": "2022-08-19T06:28:15.614Z"
   },
   {
    "duration": 13,
    "start_time": "2022-08-19T06:28:15.638Z"
   },
   {
    "duration": 9,
    "start_time": "2022-08-19T06:28:15.652Z"
   },
   {
    "duration": 36,
    "start_time": "2022-08-19T06:28:15.662Z"
   },
   {
    "duration": 12,
    "start_time": "2022-08-19T06:28:15.699Z"
   },
   {
    "duration": 9,
    "start_time": "2022-08-19T06:28:15.713Z"
   },
   {
    "duration": 16,
    "start_time": "2022-08-19T06:28:15.723Z"
   },
   {
    "duration": 47,
    "start_time": "2022-08-19T06:28:15.741Z"
   },
   {
    "duration": 37,
    "start_time": "2022-08-19T06:28:15.789Z"
   },
   {
    "duration": 18,
    "start_time": "2022-08-19T06:28:15.827Z"
   },
   {
    "duration": 62,
    "start_time": "2022-08-19T06:28:15.847Z"
   },
   {
    "duration": 5,
    "start_time": "2022-08-19T06:28:15.910Z"
   },
   {
    "duration": 15,
    "start_time": "2022-08-19T06:28:15.917Z"
   },
   {
    "duration": 7,
    "start_time": "2022-08-19T06:28:15.934Z"
   },
   {
    "duration": 15,
    "start_time": "2022-08-19T06:28:15.942Z"
   },
   {
    "duration": 34,
    "start_time": "2022-08-19T06:28:15.959Z"
   },
   {
    "duration": 4,
    "start_time": "2022-08-19T06:28:15.996Z"
   },
   {
    "duration": 46,
    "start_time": "2022-08-19T06:28:16.003Z"
   },
   {
    "duration": 41,
    "start_time": "2022-08-19T06:28:16.050Z"
   },
   {
    "duration": 15,
    "start_time": "2022-08-19T06:28:16.093Z"
   },
   {
    "duration": 12,
    "start_time": "2022-08-19T06:28:16.110Z"
   },
   {
    "duration": 606,
    "start_time": "2022-08-19T06:28:16.124Z"
   },
   {
    "duration": 7,
    "start_time": "2022-08-19T06:28:16.732Z"
   },
   {
    "duration": 18,
    "start_time": "2022-08-19T06:28:16.741Z"
   },
   {
    "duration": 99,
    "start_time": "2022-08-19T06:28:16.760Z"
   },
   {
    "duration": 0,
    "start_time": "2022-08-19T06:28:16.861Z"
   },
   {
    "duration": 0,
    "start_time": "2022-08-19T06:28:16.862Z"
   },
   {
    "duration": 0,
    "start_time": "2022-08-19T06:28:16.863Z"
   },
   {
    "duration": 0,
    "start_time": "2022-08-19T06:28:16.864Z"
   },
   {
    "duration": 0,
    "start_time": "2022-08-19T06:28:16.865Z"
   },
   {
    "duration": 0,
    "start_time": "2022-08-19T06:28:16.866Z"
   },
   {
    "duration": 0,
    "start_time": "2022-08-19T06:28:16.868Z"
   },
   {
    "duration": 0,
    "start_time": "2022-08-19T06:28:16.869Z"
   },
   {
    "duration": 0,
    "start_time": "2022-08-19T06:28:16.886Z"
   },
   {
    "duration": 25,
    "start_time": "2022-08-19T06:29:32.005Z"
   },
   {
    "duration": 12,
    "start_time": "2022-08-19T06:30:00.977Z"
   },
   {
    "duration": 22,
    "start_time": "2022-08-19T06:30:10.736Z"
   },
   {
    "duration": 32,
    "start_time": "2022-08-19T06:30:35.468Z"
   },
   {
    "duration": 13,
    "start_time": "2022-08-19T06:31:03.267Z"
   },
   {
    "duration": 10,
    "start_time": "2022-08-19T06:31:13.269Z"
   },
   {
    "duration": 31,
    "start_time": "2022-08-19T06:31:27.349Z"
   },
   {
    "duration": 33,
    "start_time": "2022-08-19T06:32:06.794Z"
   },
   {
    "duration": 21,
    "start_time": "2022-08-19T06:32:16.524Z"
   },
   {
    "duration": 20,
    "start_time": "2022-08-19T06:35:33.327Z"
   },
   {
    "duration": 26,
    "start_time": "2022-08-19T06:36:15.175Z"
   },
   {
    "duration": 23,
    "start_time": "2022-08-19T06:37:22.770Z"
   },
   {
    "duration": 79,
    "start_time": "2022-08-19T06:43:32.055Z"
   },
   {
    "duration": 97,
    "start_time": "2022-08-19T06:45:05.746Z"
   },
   {
    "duration": 17,
    "start_time": "2022-08-19T06:48:18.532Z"
   },
   {
    "duration": 18,
    "start_time": "2022-08-19T06:48:39.502Z"
   },
   {
    "duration": 58,
    "start_time": "2022-08-19T06:48:48.386Z"
   },
   {
    "duration": 20,
    "start_time": "2022-08-19T06:49:03.288Z"
   },
   {
    "duration": 20,
    "start_time": "2022-08-19T06:49:35.032Z"
   },
   {
    "duration": 13,
    "start_time": "2022-08-19T06:50:46.580Z"
   },
   {
    "duration": 11,
    "start_time": "2022-08-19T06:51:08.695Z"
   },
   {
    "duration": 3,
    "start_time": "2022-08-19T06:51:16.278Z"
   },
   {
    "duration": 145,
    "start_time": "2022-08-19T06:51:16.283Z"
   },
   {
    "duration": 19,
    "start_time": "2022-08-19T06:51:16.430Z"
   },
   {
    "duration": 46,
    "start_time": "2022-08-19T06:51:16.451Z"
   },
   {
    "duration": 10,
    "start_time": "2022-08-19T06:51:16.499Z"
   },
   {
    "duration": 42,
    "start_time": "2022-08-19T06:51:16.512Z"
   },
   {
    "duration": 72,
    "start_time": "2022-08-19T06:51:16.556Z"
   },
   {
    "duration": 7,
    "start_time": "2022-08-19T06:51:16.630Z"
   },
   {
    "duration": 23,
    "start_time": "2022-08-19T06:51:16.639Z"
   },
   {
    "duration": 45,
    "start_time": "2022-08-19T06:51:16.664Z"
   },
   {
    "duration": 6,
    "start_time": "2022-08-19T06:51:16.711Z"
   },
   {
    "duration": 22,
    "start_time": "2022-08-19T06:51:16.719Z"
   },
   {
    "duration": 14,
    "start_time": "2022-08-19T06:51:16.744Z"
   },
   {
    "duration": 16,
    "start_time": "2022-08-19T06:51:16.786Z"
   },
   {
    "duration": 16,
    "start_time": "2022-08-19T06:51:16.804Z"
   },
   {
    "duration": 14,
    "start_time": "2022-08-19T06:51:16.821Z"
   },
   {
    "duration": 11,
    "start_time": "2022-08-19T06:51:16.837Z"
   },
   {
    "duration": 56,
    "start_time": "2022-08-19T06:51:16.850Z"
   },
   {
    "duration": 23,
    "start_time": "2022-08-19T06:51:16.909Z"
   },
   {
    "duration": 60,
    "start_time": "2022-08-19T06:51:16.935Z"
   },
   {
    "duration": 18,
    "start_time": "2022-08-19T06:51:16.997Z"
   },
   {
    "duration": 39,
    "start_time": "2022-08-19T06:51:17.017Z"
   },
   {
    "duration": 30,
    "start_time": "2022-08-19T06:51:17.058Z"
   },
   {
    "duration": 14,
    "start_time": "2022-08-19T06:51:17.090Z"
   },
   {
    "duration": 9,
    "start_time": "2022-08-19T06:51:17.106Z"
   },
   {
    "duration": 15,
    "start_time": "2022-08-19T06:51:17.117Z"
   },
   {
    "duration": 14,
    "start_time": "2022-08-19T06:51:17.134Z"
   },
   {
    "duration": 38,
    "start_time": "2022-08-19T06:51:17.150Z"
   },
   {
    "duration": 47,
    "start_time": "2022-08-19T06:51:17.190Z"
   },
   {
    "duration": 118,
    "start_time": "2022-08-19T06:51:17.238Z"
   },
   {
    "duration": 40,
    "start_time": "2022-08-19T06:51:17.357Z"
   },
   {
    "duration": 15,
    "start_time": "2022-08-19T06:51:17.398Z"
   },
   {
    "duration": 254,
    "start_time": "2022-08-19T06:51:17.415Z"
   },
   {
    "duration": 7,
    "start_time": "2022-08-19T06:51:17.671Z"
   },
   {
    "duration": 24,
    "start_time": "2022-08-19T06:51:17.687Z"
   },
   {
    "duration": 16,
    "start_time": "2022-08-19T06:52:00.448Z"
   },
   {
    "duration": 23,
    "start_time": "2022-08-19T06:52:31.836Z"
   },
   {
    "duration": 28,
    "start_time": "2022-08-19T06:52:43.641Z"
   },
   {
    "duration": 9,
    "start_time": "2022-08-19T06:55:13.698Z"
   },
   {
    "duration": 2,
    "start_time": "2022-08-19T06:55:19.531Z"
   },
   {
    "duration": 101,
    "start_time": "2022-08-19T06:55:19.535Z"
   },
   {
    "duration": 16,
    "start_time": "2022-08-19T06:55:19.637Z"
   },
   {
    "duration": 44,
    "start_time": "2022-08-19T06:55:19.655Z"
   },
   {
    "duration": 11,
    "start_time": "2022-08-19T06:55:19.702Z"
   },
   {
    "duration": 28,
    "start_time": "2022-08-19T06:55:19.715Z"
   },
   {
    "duration": 48,
    "start_time": "2022-08-19T06:55:19.745Z"
   },
   {
    "duration": 6,
    "start_time": "2022-08-19T06:55:19.795Z"
   },
   {
    "duration": 15,
    "start_time": "2022-08-19T06:55:19.803Z"
   },
   {
    "duration": 31,
    "start_time": "2022-08-19T06:55:19.820Z"
   },
   {
    "duration": 36,
    "start_time": "2022-08-19T06:55:19.853Z"
   },
   {
    "duration": 17,
    "start_time": "2022-08-19T06:55:19.891Z"
   },
   {
    "duration": 14,
    "start_time": "2022-08-19T06:55:19.910Z"
   },
   {
    "duration": 9,
    "start_time": "2022-08-19T06:55:19.927Z"
   },
   {
    "duration": 14,
    "start_time": "2022-08-19T06:55:19.937Z"
   },
   {
    "duration": 14,
    "start_time": "2022-08-19T06:55:19.987Z"
   },
   {
    "duration": 13,
    "start_time": "2022-08-19T06:55:20.002Z"
   },
   {
    "duration": 22,
    "start_time": "2022-08-19T06:55:20.016Z"
   },
   {
    "duration": 21,
    "start_time": "2022-08-19T06:55:20.039Z"
   },
   {
    "duration": 38,
    "start_time": "2022-08-19T06:55:20.087Z"
   },
   {
    "duration": 17,
    "start_time": "2022-08-19T06:55:20.127Z"
   },
   {
    "duration": 62,
    "start_time": "2022-08-19T06:55:20.146Z"
   },
   {
    "duration": 4,
    "start_time": "2022-08-19T06:55:20.210Z"
   },
   {
    "duration": 30,
    "start_time": "2022-08-19T06:55:20.216Z"
   },
   {
    "duration": 8,
    "start_time": "2022-08-19T06:55:20.248Z"
   },
   {
    "duration": 15,
    "start_time": "2022-08-19T06:55:20.258Z"
   },
   {
    "duration": 26,
    "start_time": "2022-08-19T06:55:20.274Z"
   },
   {
    "duration": 4,
    "start_time": "2022-08-19T06:55:20.301Z"
   },
   {
    "duration": 37,
    "start_time": "2022-08-19T06:55:20.307Z"
   },
   {
    "duration": 120,
    "start_time": "2022-08-19T06:55:20.346Z"
   },
   {
    "duration": 31,
    "start_time": "2022-08-19T06:55:20.468Z"
   },
   {
    "duration": 11,
    "start_time": "2022-08-19T06:55:20.501Z"
   },
   {
    "duration": 179,
    "start_time": "2022-08-19T06:55:20.513Z"
   },
   {
    "duration": 9,
    "start_time": "2022-08-19T06:55:20.694Z"
   },
   {
    "duration": 31,
    "start_time": "2022-08-19T06:55:20.704Z"
   },
   {
    "duration": 20,
    "start_time": "2022-08-19T06:59:31.989Z"
   },
   {
    "duration": 26,
    "start_time": "2022-08-19T06:59:44.242Z"
   },
   {
    "duration": 20,
    "start_time": "2022-08-19T06:59:50.486Z"
   },
   {
    "duration": 3,
    "start_time": "2022-08-19T07:00:16.416Z"
   },
   {
    "duration": 127,
    "start_time": "2022-08-19T07:00:16.421Z"
   },
   {
    "duration": 20,
    "start_time": "2022-08-19T07:00:16.550Z"
   },
   {
    "duration": 48,
    "start_time": "2022-08-19T07:00:16.586Z"
   },
   {
    "duration": 14,
    "start_time": "2022-08-19T07:00:16.636Z"
   },
   {
    "duration": 31,
    "start_time": "2022-08-19T07:00:16.653Z"
   },
   {
    "duration": 34,
    "start_time": "2022-08-19T07:00:16.685Z"
   },
   {
    "duration": 6,
    "start_time": "2022-08-19T07:00:16.721Z"
   },
   {
    "duration": 15,
    "start_time": "2022-08-19T07:00:16.729Z"
   },
   {
    "duration": 56,
    "start_time": "2022-08-19T07:00:16.746Z"
   },
   {
    "duration": 5,
    "start_time": "2022-08-19T07:00:16.804Z"
   },
   {
    "duration": 18,
    "start_time": "2022-08-19T07:00:16.810Z"
   },
   {
    "duration": 17,
    "start_time": "2022-08-19T07:00:16.830Z"
   },
   {
    "duration": 43,
    "start_time": "2022-08-19T07:00:16.850Z"
   },
   {
    "duration": 21,
    "start_time": "2022-08-19T07:00:16.894Z"
   },
   {
    "duration": 19,
    "start_time": "2022-08-19T07:00:16.917Z"
   },
   {
    "duration": 23,
    "start_time": "2022-08-19T07:00:16.938Z"
   },
   {
    "duration": 27,
    "start_time": "2022-08-19T07:00:16.962Z"
   },
   {
    "duration": 19,
    "start_time": "2022-08-19T07:00:16.991Z"
   },
   {
    "duration": 38,
    "start_time": "2022-08-19T07:00:17.012Z"
   },
   {
    "duration": 36,
    "start_time": "2022-08-19T07:00:17.052Z"
   },
   {
    "duration": 39,
    "start_time": "2022-08-19T07:00:17.090Z"
   },
   {
    "duration": 5,
    "start_time": "2022-08-19T07:00:17.130Z"
   },
   {
    "duration": 16,
    "start_time": "2022-08-19T07:00:17.136Z"
   },
   {
    "duration": 39,
    "start_time": "2022-08-19T07:00:17.154Z"
   },
   {
    "duration": 40,
    "start_time": "2022-08-19T07:00:17.195Z"
   },
   {
    "duration": 36,
    "start_time": "2022-08-19T07:00:17.237Z"
   },
   {
    "duration": 9,
    "start_time": "2022-08-19T07:00:17.275Z"
   },
   {
    "duration": 61,
    "start_time": "2022-08-19T07:00:17.285Z"
   },
   {
    "duration": 90,
    "start_time": "2022-08-19T07:00:17.348Z"
   },
   {
    "duration": 20,
    "start_time": "2022-08-19T07:00:17.439Z"
   },
   {
    "duration": 27,
    "start_time": "2022-08-19T07:00:17.461Z"
   },
   {
    "duration": 198,
    "start_time": "2022-08-19T07:00:17.490Z"
   },
   {
    "duration": 9,
    "start_time": "2022-08-19T07:00:17.690Z"
   },
   {
    "duration": 22,
    "start_time": "2022-08-19T07:00:17.700Z"
   },
   {
    "duration": 22,
    "start_time": "2022-08-19T07:00:17.724Z"
   },
   {
    "duration": 329,
    "start_time": "2022-08-19T07:00:17.748Z"
   },
   {
    "duration": 267,
    "start_time": "2022-08-19T07:00:18.078Z"
   },
   {
    "duration": 58,
    "start_time": "2022-08-19T07:03:34.445Z"
   },
   {
    "duration": 3,
    "start_time": "2022-08-19T07:05:04.976Z"
   },
   {
    "duration": 163,
    "start_time": "2022-08-19T07:05:04.981Z"
   },
   {
    "duration": 24,
    "start_time": "2022-08-19T07:05:05.146Z"
   },
   {
    "duration": 48,
    "start_time": "2022-08-19T07:05:05.187Z"
   },
   {
    "duration": 16,
    "start_time": "2022-08-19T07:05:05.237Z"
   },
   {
    "duration": 34,
    "start_time": "2022-08-19T07:05:05.255Z"
   },
   {
    "duration": 55,
    "start_time": "2022-08-19T07:05:05.290Z"
   },
   {
    "duration": 6,
    "start_time": "2022-08-19T07:05:05.347Z"
   },
   {
    "duration": 45,
    "start_time": "2022-08-19T07:05:05.356Z"
   },
   {
    "duration": 34,
    "start_time": "2022-08-19T07:05:05.403Z"
   },
   {
    "duration": 5,
    "start_time": "2022-08-19T07:05:05.438Z"
   },
   {
    "duration": 46,
    "start_time": "2022-08-19T07:05:05.445Z"
   },
   {
    "duration": 24,
    "start_time": "2022-08-19T07:05:05.493Z"
   },
   {
    "duration": 15,
    "start_time": "2022-08-19T07:05:05.519Z"
   },
   {
    "duration": 21,
    "start_time": "2022-08-19T07:05:05.535Z"
   },
   {
    "duration": 48,
    "start_time": "2022-08-19T07:05:05.558Z"
   },
   {
    "duration": 20,
    "start_time": "2022-08-19T07:05:05.608Z"
   },
   {
    "duration": 22,
    "start_time": "2022-08-19T07:05:05.630Z"
   },
   {
    "duration": 45,
    "start_time": "2022-08-19T07:05:05.654Z"
   },
   {
    "duration": 41,
    "start_time": "2022-08-19T07:05:05.701Z"
   },
   {
    "duration": 17,
    "start_time": "2022-08-19T07:05:05.744Z"
   },
   {
    "duration": 58,
    "start_time": "2022-08-19T07:05:05.762Z"
   },
   {
    "duration": 5,
    "start_time": "2022-08-19T07:05:05.822Z"
   },
   {
    "duration": 17,
    "start_time": "2022-08-19T07:05:05.830Z"
   },
   {
    "duration": 37,
    "start_time": "2022-08-19T07:05:05.850Z"
   },
   {
    "duration": 16,
    "start_time": "2022-08-19T07:05:05.888Z"
   },
   {
    "duration": 16,
    "start_time": "2022-08-19T07:05:05.905Z"
   },
   {
    "duration": 4,
    "start_time": "2022-08-19T07:05:05.922Z"
   },
   {
    "duration": 64,
    "start_time": "2022-08-19T07:05:05.928Z"
   },
   {
    "duration": 116,
    "start_time": "2022-08-19T07:05:05.994Z"
   },
   {
    "duration": 23,
    "start_time": "2022-08-19T07:05:06.111Z"
   },
   {
    "duration": 13,
    "start_time": "2022-08-19T07:05:06.135Z"
   },
   {
    "duration": 315,
    "start_time": "2022-08-19T07:05:06.149Z"
   },
   {
    "duration": 11,
    "start_time": "2022-08-19T07:05:06.467Z"
   },
   {
    "duration": 23,
    "start_time": "2022-08-19T07:05:06.487Z"
   },
   {
    "duration": 38,
    "start_time": "2022-08-19T07:05:06.512Z"
   },
   {
    "duration": 353,
    "start_time": "2022-08-19T07:05:06.552Z"
   },
   {
    "duration": 262,
    "start_time": "2022-08-19T07:05:06.907Z"
   },
   {
    "duration": 16,
    "start_time": "2022-08-19T07:05:07.171Z"
   },
   {
    "duration": 219,
    "start_time": "2022-08-19T07:05:07.188Z"
   },
   {
    "duration": 183,
    "start_time": "2022-08-19T07:05:07.409Z"
   },
   {
    "duration": 168,
    "start_time": "2022-08-19T07:05:07.594Z"
   },
   {
    "duration": 170,
    "start_time": "2022-08-19T07:05:07.764Z"
   },
   {
    "duration": 178,
    "start_time": "2022-08-19T07:05:07.936Z"
   },
   {
    "duration": 311,
    "start_time": "2022-08-19T07:05:08.115Z"
   },
   {
    "duration": 254,
    "start_time": "2022-08-19T07:07:00.946Z"
   },
   {
    "duration": 91,
    "start_time": "2022-08-19T07:12:31.573Z"
   },
   {
    "duration": 3,
    "start_time": "2022-08-19T07:13:07.452Z"
   },
   {
    "duration": 114,
    "start_time": "2022-08-19T07:13:07.456Z"
   },
   {
    "duration": 23,
    "start_time": "2022-08-19T07:13:07.572Z"
   },
   {
    "duration": 43,
    "start_time": "2022-08-19T07:13:07.597Z"
   },
   {
    "duration": 10,
    "start_time": "2022-08-19T07:13:07.642Z"
   },
   {
    "duration": 27,
    "start_time": "2022-08-19T07:13:07.653Z"
   },
   {
    "duration": 31,
    "start_time": "2022-08-19T07:13:07.682Z"
   },
   {
    "duration": 4,
    "start_time": "2022-08-19T07:13:07.715Z"
   },
   {
    "duration": 16,
    "start_time": "2022-08-19T07:13:07.721Z"
   },
   {
    "duration": 50,
    "start_time": "2022-08-19T07:13:07.738Z"
   },
   {
    "duration": 5,
    "start_time": "2022-08-19T07:13:07.790Z"
   },
   {
    "duration": 17,
    "start_time": "2022-08-19T07:13:07.796Z"
   },
   {
    "duration": 14,
    "start_time": "2022-08-19T07:13:07.814Z"
   },
   {
    "duration": 9,
    "start_time": "2022-08-19T07:13:07.829Z"
   },
   {
    "duration": 14,
    "start_time": "2022-08-19T07:13:07.840Z"
   },
   {
    "duration": 42,
    "start_time": "2022-08-19T07:13:07.856Z"
   },
   {
    "duration": 10,
    "start_time": "2022-08-19T07:13:07.900Z"
   },
   {
    "duration": 24,
    "start_time": "2022-08-19T07:13:07.911Z"
   },
   {
    "duration": 15,
    "start_time": "2022-08-19T07:13:07.937Z"
   },
   {
    "duration": 54,
    "start_time": "2022-08-19T07:13:07.953Z"
   },
   {
    "duration": 21,
    "start_time": "2022-08-19T07:13:08.009Z"
   },
   {
    "duration": 57,
    "start_time": "2022-08-19T07:13:08.032Z"
   },
   {
    "duration": 5,
    "start_time": "2022-08-19T07:13:08.091Z"
   },
   {
    "duration": 15,
    "start_time": "2022-08-19T07:13:08.098Z"
   },
   {
    "duration": 8,
    "start_time": "2022-08-19T07:13:08.114Z"
   },
   {
    "duration": 14,
    "start_time": "2022-08-19T07:13:08.123Z"
   },
   {
    "duration": 13,
    "start_time": "2022-08-19T07:13:08.139Z"
   },
   {
    "duration": 34,
    "start_time": "2022-08-19T07:13:08.154Z"
   },
   {
    "duration": 38,
    "start_time": "2022-08-19T07:13:08.192Z"
   },
   {
    "duration": 103,
    "start_time": "2022-08-19T07:13:08.232Z"
   },
   {
    "duration": 18,
    "start_time": "2022-08-19T07:13:08.337Z"
   },
   {
    "duration": 30,
    "start_time": "2022-08-19T07:13:08.357Z"
   },
   {
    "duration": 171,
    "start_time": "2022-08-19T07:13:08.389Z"
   },
   {
    "duration": 8,
    "start_time": "2022-08-19T07:13:08.561Z"
   },
   {
    "duration": 28,
    "start_time": "2022-08-19T07:13:08.570Z"
   },
   {
    "duration": 20,
    "start_time": "2022-08-19T07:13:08.600Z"
   },
   {
    "duration": 275,
    "start_time": "2022-08-19T07:13:08.622Z"
   },
   {
    "duration": 328,
    "start_time": "2022-08-19T07:13:08.899Z"
   },
   {
    "duration": 6,
    "start_time": "2022-08-19T07:13:09.229Z"
   },
   {
    "duration": 163,
    "start_time": "2022-08-19T07:13:09.236Z"
   },
   {
    "duration": 168,
    "start_time": "2022-08-19T07:13:09.401Z"
   },
   {
    "duration": 163,
    "start_time": "2022-08-19T07:13:09.571Z"
   },
   {
    "duration": 169,
    "start_time": "2022-08-19T07:13:09.735Z"
   },
   {
    "duration": 170,
    "start_time": "2022-08-19T07:13:09.906Z"
   },
   {
    "duration": 327,
    "start_time": "2022-08-19T07:13:10.078Z"
   },
   {
    "duration": 258,
    "start_time": "2022-08-19T07:13:10.407Z"
   },
   {
    "duration": 94,
    "start_time": "2022-08-19T07:13:10.667Z"
   },
   {
    "duration": 43,
    "start_time": "2022-08-19T07:13:10.762Z"
   },
   {
    "duration": 2,
    "start_time": "2022-08-19T07:17:10.161Z"
   },
   {
    "duration": 109,
    "start_time": "2022-08-19T07:17:10.165Z"
   },
   {
    "duration": 14,
    "start_time": "2022-08-19T07:17:10.276Z"
   },
   {
    "duration": 55,
    "start_time": "2022-08-19T07:17:10.291Z"
   },
   {
    "duration": 10,
    "start_time": "2022-08-19T07:17:10.348Z"
   },
   {
    "duration": 29,
    "start_time": "2022-08-19T07:17:10.360Z"
   },
   {
    "duration": 35,
    "start_time": "2022-08-19T07:17:10.391Z"
   },
   {
    "duration": 5,
    "start_time": "2022-08-19T07:17:10.428Z"
   },
   {
    "duration": 20,
    "start_time": "2022-08-19T07:17:10.435Z"
   },
   {
    "duration": 45,
    "start_time": "2022-08-19T07:17:10.457Z"
   },
   {
    "duration": 4,
    "start_time": "2022-08-19T07:17:10.505Z"
   },
   {
    "duration": 17,
    "start_time": "2022-08-19T07:17:10.510Z"
   },
   {
    "duration": 16,
    "start_time": "2022-08-19T07:17:10.529Z"
   },
   {
    "duration": 10,
    "start_time": "2022-08-19T07:17:10.547Z"
   },
   {
    "duration": 14,
    "start_time": "2022-08-19T07:17:10.587Z"
   },
   {
    "duration": 13,
    "start_time": "2022-08-19T07:17:10.602Z"
   },
   {
    "duration": 17,
    "start_time": "2022-08-19T07:17:10.616Z"
   },
   {
    "duration": 19,
    "start_time": "2022-08-19T07:17:10.635Z"
   },
   {
    "duration": 37,
    "start_time": "2022-08-19T07:17:10.656Z"
   },
   {
    "duration": 37,
    "start_time": "2022-08-19T07:17:10.695Z"
   },
   {
    "duration": 18,
    "start_time": "2022-08-19T07:17:10.733Z"
   },
   {
    "duration": 59,
    "start_time": "2022-08-19T07:17:10.752Z"
   },
   {
    "duration": 4,
    "start_time": "2022-08-19T07:17:10.813Z"
   },
   {
    "duration": 14,
    "start_time": "2022-08-19T07:17:10.819Z"
   },
   {
    "duration": 7,
    "start_time": "2022-08-19T07:17:10.835Z"
   },
   {
    "duration": 15,
    "start_time": "2022-08-19T07:17:10.843Z"
   },
   {
    "duration": 37,
    "start_time": "2022-08-19T07:17:10.859Z"
   },
   {
    "duration": 3,
    "start_time": "2022-08-19T07:17:10.897Z"
   },
   {
    "duration": 42,
    "start_time": "2022-08-19T07:17:10.903Z"
   },
   {
    "duration": 3,
    "start_time": "2022-08-19T07:19:01.287Z"
   },
   {
    "duration": 109,
    "start_time": "2022-08-19T07:19:01.291Z"
   },
   {
    "duration": 15,
    "start_time": "2022-08-19T07:19:01.402Z"
   },
   {
    "duration": 75,
    "start_time": "2022-08-19T07:19:01.418Z"
   },
   {
    "duration": 10,
    "start_time": "2022-08-19T07:19:01.495Z"
   },
   {
    "duration": 51,
    "start_time": "2022-08-19T07:19:01.506Z"
   },
   {
    "duration": 55,
    "start_time": "2022-08-19T07:19:01.558Z"
   },
   {
    "duration": 5,
    "start_time": "2022-08-19T07:19:01.615Z"
   },
   {
    "duration": 26,
    "start_time": "2022-08-19T07:19:01.622Z"
   },
   {
    "duration": 47,
    "start_time": "2022-08-19T07:19:01.650Z"
   },
   {
    "duration": 5,
    "start_time": "2022-08-19T07:19:01.699Z"
   },
   {
    "duration": 52,
    "start_time": "2022-08-19T07:19:01.705Z"
   },
   {
    "duration": 33,
    "start_time": "2022-08-19T07:19:01.758Z"
   },
   {
    "duration": 19,
    "start_time": "2022-08-19T07:19:01.793Z"
   },
   {
    "duration": 26,
    "start_time": "2022-08-19T07:19:01.814Z"
   },
   {
    "duration": 18,
    "start_time": "2022-08-19T07:19:01.842Z"
   },
   {
    "duration": 24,
    "start_time": "2022-08-19T07:19:01.862Z"
   },
   {
    "duration": 27,
    "start_time": "2022-08-19T07:19:01.887Z"
   },
   {
    "duration": 21,
    "start_time": "2022-08-19T07:19:01.915Z"
   },
   {
    "duration": 47,
    "start_time": "2022-08-19T07:19:01.938Z"
   },
   {
    "duration": 18,
    "start_time": "2022-08-19T07:19:01.987Z"
   },
   {
    "duration": 66,
    "start_time": "2022-08-19T07:19:02.008Z"
   },
   {
    "duration": 8,
    "start_time": "2022-08-19T07:19:02.076Z"
   },
   {
    "duration": 28,
    "start_time": "2022-08-19T07:19:02.085Z"
   },
   {
    "duration": 26,
    "start_time": "2022-08-19T07:19:02.115Z"
   },
   {
    "duration": 40,
    "start_time": "2022-08-19T07:19:02.143Z"
   },
   {
    "duration": 62,
    "start_time": "2022-08-19T07:19:02.185Z"
   },
   {
    "duration": 27,
    "start_time": "2022-08-19T07:19:02.248Z"
   },
   {
    "duration": 136,
    "start_time": "2022-08-19T07:19:02.277Z"
   },
   {
    "duration": 91,
    "start_time": "2022-08-19T07:19:02.415Z"
   },
   {
    "duration": 19,
    "start_time": "2022-08-19T07:19:02.508Z"
   },
   {
    "duration": 12,
    "start_time": "2022-08-19T07:19:02.529Z"
   },
   {
    "duration": 186,
    "start_time": "2022-08-19T07:19:02.543Z"
   },
   {
    "duration": 7,
    "start_time": "2022-08-19T07:19:02.731Z"
   },
   {
    "duration": 19,
    "start_time": "2022-08-19T07:19:02.739Z"
   },
   {
    "duration": 36,
    "start_time": "2022-08-19T07:19:02.759Z"
   },
   {
    "duration": 273,
    "start_time": "2022-08-19T07:19:02.878Z"
   },
   {
    "duration": 243,
    "start_time": "2022-08-19T07:19:03.152Z"
   },
   {
    "duration": 7,
    "start_time": "2022-08-19T07:19:03.397Z"
   },
   {
    "duration": 151,
    "start_time": "2022-08-19T07:19:03.405Z"
   },
   {
    "duration": 169,
    "start_time": "2022-08-19T07:19:03.558Z"
   },
   {
    "duration": 151,
    "start_time": "2022-08-19T07:19:03.729Z"
   },
   {
    "duration": 179,
    "start_time": "2022-08-19T07:19:03.886Z"
   },
   {
    "duration": 161,
    "start_time": "2022-08-19T07:19:04.067Z"
   },
   {
    "duration": 322,
    "start_time": "2022-08-19T07:19:04.230Z"
   },
   {
    "duration": 264,
    "start_time": "2022-08-19T07:19:04.554Z"
   },
   {
    "duration": 190,
    "start_time": "2022-08-19T07:19:04.820Z"
   },
   {
    "duration": 34,
    "start_time": "2022-08-19T07:19:05.011Z"
   },
   {
    "duration": 2,
    "start_time": "2022-08-19T07:20:24.857Z"
   },
   {
    "duration": 116,
    "start_time": "2022-08-19T07:20:24.861Z"
   },
   {
    "duration": 13,
    "start_time": "2022-08-19T07:20:24.978Z"
   },
   {
    "duration": 64,
    "start_time": "2022-08-19T07:20:24.993Z"
   },
   {
    "duration": 9,
    "start_time": "2022-08-19T07:20:25.059Z"
   },
   {
    "duration": 37,
    "start_time": "2022-08-19T07:20:25.069Z"
   },
   {
    "duration": 35,
    "start_time": "2022-08-19T07:20:25.108Z"
   },
   {
    "duration": 5,
    "start_time": "2022-08-19T07:20:25.144Z"
   },
   {
    "duration": 44,
    "start_time": "2022-08-19T07:20:25.150Z"
   },
   {
    "duration": 37,
    "start_time": "2022-08-19T07:20:25.195Z"
   },
   {
    "duration": 5,
    "start_time": "2022-08-19T07:20:25.234Z"
   },
   {
    "duration": 36,
    "start_time": "2022-08-19T07:20:25.240Z"
   },
   {
    "duration": 34,
    "start_time": "2022-08-19T07:20:25.277Z"
   },
   {
    "duration": 27,
    "start_time": "2022-08-19T07:20:25.314Z"
   },
   {
    "duration": 24,
    "start_time": "2022-08-19T07:20:25.343Z"
   },
   {
    "duration": 24,
    "start_time": "2022-08-19T07:20:25.368Z"
   },
   {
    "duration": 20,
    "start_time": "2022-08-19T07:20:25.393Z"
   },
   {
    "duration": 39,
    "start_time": "2022-08-19T07:20:25.414Z"
   },
   {
    "duration": 24,
    "start_time": "2022-08-19T07:20:25.454Z"
   },
   {
    "duration": 39,
    "start_time": "2022-08-19T07:20:25.479Z"
   },
   {
    "duration": 18,
    "start_time": "2022-08-19T07:20:25.520Z"
   },
   {
    "duration": 51,
    "start_time": "2022-08-19T07:20:25.539Z"
   },
   {
    "duration": 33,
    "start_time": "2022-08-19T07:29:44.363Z"
   },
   {
    "duration": 6,
    "start_time": "2022-08-19T07:30:00.308Z"
   },
   {
    "duration": 3,
    "start_time": "2022-08-19T07:30:32.383Z"
   },
   {
    "duration": 98,
    "start_time": "2022-08-19T07:30:32.388Z"
   },
   {
    "duration": 13,
    "start_time": "2022-08-19T07:30:32.488Z"
   },
   {
    "duration": 51,
    "start_time": "2022-08-19T07:30:32.503Z"
   },
   {
    "duration": 10,
    "start_time": "2022-08-19T07:30:32.555Z"
   },
   {
    "duration": 22,
    "start_time": "2022-08-19T07:30:32.566Z"
   },
   {
    "duration": 31,
    "start_time": "2022-08-19T07:30:32.590Z"
   },
   {
    "duration": 4,
    "start_time": "2022-08-19T07:30:32.623Z"
   },
   {
    "duration": 15,
    "start_time": "2022-08-19T07:30:32.628Z"
   },
   {
    "duration": 48,
    "start_time": "2022-08-19T07:30:32.644Z"
   },
   {
    "duration": 4,
    "start_time": "2022-08-19T07:30:32.694Z"
   },
   {
    "duration": 24,
    "start_time": "2022-08-19T07:30:32.699Z"
   },
   {
    "duration": 14,
    "start_time": "2022-08-19T07:30:32.724Z"
   },
   {
    "duration": 12,
    "start_time": "2022-08-19T07:30:32.740Z"
   },
   {
    "duration": 36,
    "start_time": "2022-08-19T07:30:32.754Z"
   },
   {
    "duration": 12,
    "start_time": "2022-08-19T07:30:32.791Z"
   },
   {
    "duration": 16,
    "start_time": "2022-08-19T07:30:32.805Z"
   },
   {
    "duration": 17,
    "start_time": "2022-08-19T07:30:32.822Z"
   },
   {
    "duration": 19,
    "start_time": "2022-08-19T07:30:32.840Z"
   },
   {
    "duration": 55,
    "start_time": "2022-08-19T07:30:32.860Z"
   },
   {
    "duration": 16,
    "start_time": "2022-08-19T07:30:32.917Z"
   },
   {
    "duration": 16,
    "start_time": "2022-08-19T07:30:32.935Z"
   },
   {
    "duration": 0,
    "start_time": "2022-08-19T07:30:32.953Z"
   },
   {
    "duration": 0,
    "start_time": "2022-08-19T07:30:32.955Z"
   },
   {
    "duration": 0,
    "start_time": "2022-08-19T07:30:32.956Z"
   },
   {
    "duration": 0,
    "start_time": "2022-08-19T07:30:32.956Z"
   },
   {
    "duration": 0,
    "start_time": "2022-08-19T07:30:32.957Z"
   },
   {
    "duration": 0,
    "start_time": "2022-08-19T07:30:32.959Z"
   },
   {
    "duration": 0,
    "start_time": "2022-08-19T07:30:32.960Z"
   },
   {
    "duration": 0,
    "start_time": "2022-08-19T07:30:32.987Z"
   },
   {
    "duration": 0,
    "start_time": "2022-08-19T07:30:32.988Z"
   },
   {
    "duration": 0,
    "start_time": "2022-08-19T07:30:32.989Z"
   },
   {
    "duration": 0,
    "start_time": "2022-08-19T07:30:32.990Z"
   },
   {
    "duration": 0,
    "start_time": "2022-08-19T07:30:32.991Z"
   },
   {
    "duration": 0,
    "start_time": "2022-08-19T07:30:32.992Z"
   },
   {
    "duration": 0,
    "start_time": "2022-08-19T07:30:32.993Z"
   },
   {
    "duration": 0,
    "start_time": "2022-08-19T07:30:32.994Z"
   },
   {
    "duration": 0,
    "start_time": "2022-08-19T07:30:32.995Z"
   },
   {
    "duration": 0,
    "start_time": "2022-08-19T07:30:32.995Z"
   },
   {
    "duration": 0,
    "start_time": "2022-08-19T07:30:32.996Z"
   },
   {
    "duration": 0,
    "start_time": "2022-08-19T07:30:32.997Z"
   },
   {
    "duration": 0,
    "start_time": "2022-08-19T07:30:32.998Z"
   },
   {
    "duration": 0,
    "start_time": "2022-08-19T07:30:32.999Z"
   },
   {
    "duration": 0,
    "start_time": "2022-08-19T07:30:33.000Z"
   },
   {
    "duration": 0,
    "start_time": "2022-08-19T07:30:33.001Z"
   },
   {
    "duration": 0,
    "start_time": "2022-08-19T07:30:33.002Z"
   },
   {
    "duration": 0,
    "start_time": "2022-08-19T07:30:33.003Z"
   },
   {
    "duration": 0,
    "start_time": "2022-08-19T07:30:33.004Z"
   },
   {
    "duration": 0,
    "start_time": "2022-08-19T07:30:33.005Z"
   },
   {
    "duration": 8,
    "start_time": "2022-08-19T07:31:25.573Z"
   },
   {
    "duration": 2,
    "start_time": "2022-08-19T07:32:05.444Z"
   },
   {
    "duration": 99,
    "start_time": "2022-08-19T07:32:05.448Z"
   },
   {
    "duration": 14,
    "start_time": "2022-08-19T07:32:05.548Z"
   },
   {
    "duration": 44,
    "start_time": "2022-08-19T07:32:05.563Z"
   },
   {
    "duration": 9,
    "start_time": "2022-08-19T07:32:05.609Z"
   },
   {
    "duration": 25,
    "start_time": "2022-08-19T07:32:05.619Z"
   },
   {
    "duration": 33,
    "start_time": "2022-08-19T07:32:05.646Z"
   },
   {
    "duration": 9,
    "start_time": "2022-08-19T07:32:05.680Z"
   },
   {
    "duration": 16,
    "start_time": "2022-08-19T07:32:05.690Z"
   },
   {
    "duration": 32,
    "start_time": "2022-08-19T07:32:05.707Z"
   },
   {
    "duration": 4,
    "start_time": "2022-08-19T07:32:05.741Z"
   },
   {
    "duration": 43,
    "start_time": "2022-08-19T07:32:05.747Z"
   },
   {
    "duration": 16,
    "start_time": "2022-08-19T07:32:05.792Z"
   },
   {
    "duration": 9,
    "start_time": "2022-08-19T07:32:05.811Z"
   },
   {
    "duration": 19,
    "start_time": "2022-08-19T07:32:05.822Z"
   },
   {
    "duration": 14,
    "start_time": "2022-08-19T07:32:05.842Z"
   },
   {
    "duration": 32,
    "start_time": "2022-08-19T07:32:05.858Z"
   },
   {
    "duration": 17,
    "start_time": "2022-08-19T07:32:05.892Z"
   },
   {
    "duration": 16,
    "start_time": "2022-08-19T07:32:05.911Z"
   },
   {
    "duration": 35,
    "start_time": "2022-08-19T07:32:05.928Z"
   },
   {
    "duration": 24,
    "start_time": "2022-08-19T07:32:05.987Z"
   },
   {
    "duration": 33,
    "start_time": "2022-08-19T07:32:06.013Z"
   },
   {
    "duration": 34,
    "start_time": "2022-08-19T07:32:22.972Z"
   },
   {
    "duration": 3,
    "start_time": "2022-08-19T07:32:48.628Z"
   },
   {
    "duration": 107,
    "start_time": "2022-08-19T07:32:48.632Z"
   },
   {
    "duration": 13,
    "start_time": "2022-08-19T07:32:48.740Z"
   },
   {
    "duration": 42,
    "start_time": "2022-08-19T07:32:48.755Z"
   },
   {
    "duration": 9,
    "start_time": "2022-08-19T07:32:48.799Z"
   },
   {
    "duration": 22,
    "start_time": "2022-08-19T07:32:48.810Z"
   },
   {
    "duration": 31,
    "start_time": "2022-08-19T07:32:48.835Z"
   },
   {
    "duration": 20,
    "start_time": "2022-08-19T07:32:48.867Z"
   },
   {
    "duration": 14,
    "start_time": "2022-08-19T07:32:48.888Z"
   },
   {
    "duration": 28,
    "start_time": "2022-08-19T07:32:48.903Z"
   },
   {
    "duration": 5,
    "start_time": "2022-08-19T07:32:48.932Z"
   },
   {
    "duration": 17,
    "start_time": "2022-08-19T07:32:48.938Z"
   },
   {
    "duration": 43,
    "start_time": "2022-08-19T07:32:48.957Z"
   },
   {
    "duration": 9,
    "start_time": "2022-08-19T07:32:49.003Z"
   },
   {
    "duration": 11,
    "start_time": "2022-08-19T07:32:49.014Z"
   },
   {
    "duration": 12,
    "start_time": "2022-08-19T07:32:49.027Z"
   },
   {
    "duration": 9,
    "start_time": "2022-08-19T07:32:49.041Z"
   },
   {
    "duration": 16,
    "start_time": "2022-08-19T07:32:49.087Z"
   },
   {
    "duration": 22,
    "start_time": "2022-08-19T07:32:49.104Z"
   },
   {
    "duration": 35,
    "start_time": "2022-08-19T07:32:49.128Z"
   },
   {
    "duration": 33,
    "start_time": "2022-08-19T07:32:49.165Z"
   },
   {
    "duration": 32,
    "start_time": "2022-08-19T07:32:49.199Z"
   },
   {
    "duration": 3,
    "start_time": "2022-08-19T07:33:26.424Z"
   },
   {
    "duration": 102,
    "start_time": "2022-08-19T07:33:26.429Z"
   },
   {
    "duration": 14,
    "start_time": "2022-08-19T07:33:26.533Z"
   },
   {
    "duration": 47,
    "start_time": "2022-08-19T07:33:26.548Z"
   },
   {
    "duration": 9,
    "start_time": "2022-08-19T07:33:26.598Z"
   },
   {
    "duration": 25,
    "start_time": "2022-08-19T07:33:26.609Z"
   },
   {
    "duration": 51,
    "start_time": "2022-08-19T07:33:26.636Z"
   },
   {
    "duration": 6,
    "start_time": "2022-08-19T07:33:26.689Z"
   },
   {
    "duration": 16,
    "start_time": "2022-08-19T07:33:26.696Z"
   },
   {
    "duration": 29,
    "start_time": "2022-08-19T07:33:26.714Z"
   },
   {
    "duration": 5,
    "start_time": "2022-08-19T07:33:26.745Z"
   },
   {
    "duration": 49,
    "start_time": "2022-08-19T07:33:26.752Z"
   },
   {
    "duration": 15,
    "start_time": "2022-08-19T07:33:26.802Z"
   },
   {
    "duration": 9,
    "start_time": "2022-08-19T07:33:26.820Z"
   },
   {
    "duration": 24,
    "start_time": "2022-08-19T07:33:26.830Z"
   },
   {
    "duration": 34,
    "start_time": "2022-08-19T07:33:26.856Z"
   },
   {
    "duration": 9,
    "start_time": "2022-08-19T07:33:26.892Z"
   },
   {
    "duration": 17,
    "start_time": "2022-08-19T07:33:26.903Z"
   },
   {
    "duration": 17,
    "start_time": "2022-08-19T07:33:26.921Z"
   },
   {
    "duration": 66,
    "start_time": "2022-08-19T07:33:26.940Z"
   },
   {
    "duration": 16,
    "start_time": "2022-08-19T07:33:27.008Z"
   },
   {
    "duration": 37,
    "start_time": "2022-08-19T07:33:27.026Z"
   },
   {
    "duration": 5,
    "start_time": "2022-08-19T07:33:27.116Z"
   },
   {
    "duration": 17,
    "start_time": "2022-08-19T07:33:27.123Z"
   },
   {
    "duration": 11,
    "start_time": "2022-08-19T07:33:27.142Z"
   },
   {
    "duration": 14,
    "start_time": "2022-08-19T07:33:27.154Z"
   },
   {
    "duration": 14,
    "start_time": "2022-08-19T07:33:27.170Z"
   },
   {
    "duration": 3,
    "start_time": "2022-08-19T07:33:27.186Z"
   },
   {
    "duration": 49,
    "start_time": "2022-08-19T07:33:27.190Z"
   },
   {
    "duration": 107,
    "start_time": "2022-08-19T07:33:27.240Z"
   },
   {
    "duration": 38,
    "start_time": "2022-08-19T07:33:27.349Z"
   },
   {
    "duration": 11,
    "start_time": "2022-08-19T07:33:27.389Z"
   },
   {
    "duration": 218,
    "start_time": "2022-08-19T07:33:27.401Z"
   },
   {
    "duration": 7,
    "start_time": "2022-08-19T07:33:27.622Z"
   },
   {
    "duration": 20,
    "start_time": "2022-08-19T07:33:27.631Z"
   },
   {
    "duration": 36,
    "start_time": "2022-08-19T07:33:27.654Z"
   },
   {
    "duration": 277,
    "start_time": "2022-08-19T07:33:27.692Z"
   },
   {
    "duration": 253,
    "start_time": "2022-08-19T07:33:27.971Z"
   },
   {
    "duration": 5,
    "start_time": "2022-08-19T07:33:28.226Z"
   },
   {
    "duration": 158,
    "start_time": "2022-08-19T07:33:28.233Z"
   },
   {
    "duration": 168,
    "start_time": "2022-08-19T07:33:28.392Z"
   },
   {
    "duration": 154,
    "start_time": "2022-08-19T07:33:28.562Z"
   },
   {
    "duration": 163,
    "start_time": "2022-08-19T07:33:28.718Z"
   },
   {
    "duration": 239,
    "start_time": "2022-08-19T07:33:28.886Z"
   },
   {
    "duration": 309,
    "start_time": "2022-08-19T07:33:29.127Z"
   },
   {
    "duration": 254,
    "start_time": "2022-08-19T07:33:29.438Z"
   },
   {
    "duration": 108,
    "start_time": "2022-08-19T07:33:29.694Z"
   },
   {
    "duration": 32,
    "start_time": "2022-08-19T07:33:29.804Z"
   },
   {
    "duration": 16,
    "start_time": "2022-08-19T07:37:42.036Z"
   },
   {
    "duration": 17,
    "start_time": "2022-08-19T07:38:54.582Z"
   },
   {
    "duration": 30,
    "start_time": "2022-08-19T07:40:19.011Z"
   },
   {
    "duration": 61,
    "start_time": "2022-08-19T07:41:36.013Z"
   },
   {
    "duration": 50,
    "start_time": "2022-08-19T07:42:50.834Z"
   },
   {
    "duration": 117,
    "start_time": "2022-08-19T07:45:47.085Z"
   },
   {
    "duration": 97,
    "start_time": "2022-08-19T07:46:26.065Z"
   },
   {
    "duration": 63,
    "start_time": "2022-08-19T07:47:24.122Z"
   },
   {
    "duration": 64,
    "start_time": "2022-08-19T07:48:08.621Z"
   },
   {
    "duration": 68,
    "start_time": "2022-08-19T07:48:19.609Z"
   },
   {
    "duration": 73,
    "start_time": "2022-08-19T07:49:45.187Z"
   },
   {
    "duration": 79,
    "start_time": "2022-08-19T07:50:11.185Z"
   },
   {
    "duration": 78,
    "start_time": "2022-08-19T07:50:35.507Z"
   },
   {
    "duration": 93,
    "start_time": "2022-08-19T08:17:30.435Z"
   },
   {
    "duration": 74,
    "start_time": "2022-08-19T08:22:02.859Z"
   },
   {
    "duration": 156,
    "start_time": "2022-08-19T08:22:10.831Z"
   },
   {
    "duration": 89,
    "start_time": "2022-08-19T08:22:19.580Z"
   },
   {
    "duration": 1000,
    "start_time": "2022-08-19T08:22:25.801Z"
   },
   {
    "duration": 142,
    "start_time": "2022-08-19T08:22:46.496Z"
   },
   {
    "duration": 697,
    "start_time": "2022-08-19T08:23:40.883Z"
   },
   {
    "duration": 82,
    "start_time": "2022-08-19T08:24:03.812Z"
   },
   {
    "duration": 105,
    "start_time": "2022-08-19T08:25:29.619Z"
   },
   {
    "duration": 92,
    "start_time": "2022-08-19T08:25:37.553Z"
   },
   {
    "duration": 110,
    "start_time": "2022-08-19T08:27:31.400Z"
   },
   {
    "duration": 98,
    "start_time": "2022-08-19T08:27:38.091Z"
   },
   {
    "duration": 84,
    "start_time": "2022-08-19T08:27:56.560Z"
   },
   {
    "duration": 75,
    "start_time": "2022-08-19T08:28:52.787Z"
   },
   {
    "duration": 107,
    "start_time": "2022-08-19T08:30:01.070Z"
   },
   {
    "duration": 97,
    "start_time": "2022-08-19T08:35:56.360Z"
   },
   {
    "duration": 163,
    "start_time": "2022-08-19T08:36:08.090Z"
   },
   {
    "duration": 73,
    "start_time": "2022-08-19T08:36:13.214Z"
   },
   {
    "duration": 71,
    "start_time": "2022-08-19T08:38:16.920Z"
   },
   {
    "duration": 4,
    "start_time": "2022-08-19T08:38:22.296Z"
   },
   {
    "duration": 118,
    "start_time": "2022-08-19T08:38:22.302Z"
   },
   {
    "duration": 14,
    "start_time": "2022-08-19T08:38:22.422Z"
   },
   {
    "duration": 43,
    "start_time": "2022-08-19T08:38:22.438Z"
   },
   {
    "duration": 12,
    "start_time": "2022-08-19T08:38:22.484Z"
   },
   {
    "duration": 35,
    "start_time": "2022-08-19T08:38:22.499Z"
   },
   {
    "duration": 35,
    "start_time": "2022-08-19T08:38:22.536Z"
   },
   {
    "duration": 7,
    "start_time": "2022-08-19T08:38:22.587Z"
   },
   {
    "duration": 23,
    "start_time": "2022-08-19T08:38:22.596Z"
   },
   {
    "duration": 28,
    "start_time": "2022-08-19T08:38:22.621Z"
   },
   {
    "duration": 5,
    "start_time": "2022-08-19T08:38:22.651Z"
   },
   {
    "duration": 47,
    "start_time": "2022-08-19T08:38:22.657Z"
   },
   {
    "duration": 15,
    "start_time": "2022-08-19T08:38:22.706Z"
   },
   {
    "duration": 10,
    "start_time": "2022-08-19T08:38:22.722Z"
   },
   {
    "duration": 12,
    "start_time": "2022-08-19T08:38:22.734Z"
   },
   {
    "duration": 51,
    "start_time": "2022-08-19T08:38:22.747Z"
   },
   {
    "duration": 20,
    "start_time": "2022-08-19T08:38:22.800Z"
   },
   {
    "duration": 17,
    "start_time": "2022-08-19T08:38:22.822Z"
   },
   {
    "duration": 19,
    "start_time": "2022-08-19T08:38:22.841Z"
   },
   {
    "duration": 53,
    "start_time": "2022-08-19T08:38:22.888Z"
   },
   {
    "duration": 18,
    "start_time": "2022-08-19T08:38:22.943Z"
   },
   {
    "duration": 66,
    "start_time": "2022-08-19T08:38:22.963Z"
   },
   {
    "duration": 4,
    "start_time": "2022-08-19T08:38:23.031Z"
   },
   {
    "duration": 15,
    "start_time": "2022-08-19T08:38:23.037Z"
   },
   {
    "duration": 7,
    "start_time": "2022-08-19T08:38:23.053Z"
   },
   {
    "duration": 37,
    "start_time": "2022-08-19T08:38:23.062Z"
   },
   {
    "duration": 23,
    "start_time": "2022-08-19T08:38:23.104Z"
   },
   {
    "duration": 5,
    "start_time": "2022-08-19T08:38:23.128Z"
   },
   {
    "duration": 56,
    "start_time": "2022-08-19T08:38:23.136Z"
   },
   {
    "duration": 102,
    "start_time": "2022-08-19T08:38:23.194Z"
   },
   {
    "duration": 22,
    "start_time": "2022-08-19T08:38:23.298Z"
   },
   {
    "duration": 12,
    "start_time": "2022-08-19T08:38:23.322Z"
   },
   {
    "duration": 213,
    "start_time": "2022-08-19T08:38:23.335Z"
   },
   {
    "duration": 8,
    "start_time": "2022-08-19T08:38:23.550Z"
   },
   {
    "duration": 64,
    "start_time": "2022-08-19T08:38:23.560Z"
   },
   {
    "duration": 20,
    "start_time": "2022-08-19T08:38:23.626Z"
   },
   {
    "duration": 294,
    "start_time": "2022-08-19T08:38:23.647Z"
   },
   {
    "duration": 256,
    "start_time": "2022-08-19T08:38:23.943Z"
   },
   {
    "duration": 8,
    "start_time": "2022-08-19T08:38:24.200Z"
   },
   {
    "duration": 164,
    "start_time": "2022-08-19T08:38:24.211Z"
   },
   {
    "duration": 169,
    "start_time": "2022-08-19T08:38:24.376Z"
   },
   {
    "duration": 161,
    "start_time": "2022-08-19T08:38:24.546Z"
   },
   {
    "duration": 263,
    "start_time": "2022-08-19T08:38:24.709Z"
   },
   {
    "duration": 182,
    "start_time": "2022-08-19T08:38:24.974Z"
   },
   {
    "duration": 313,
    "start_time": "2022-08-19T08:38:25.158Z"
   },
   {
    "duration": 282,
    "start_time": "2022-08-19T08:38:25.473Z"
   },
   {
    "duration": 2277,
    "start_time": "2022-08-19T08:39:14.278Z"
   },
   {
    "duration": 80,
    "start_time": "2022-08-19T08:39:35.866Z"
   },
   {
    "duration": 84,
    "start_time": "2022-08-19T08:40:13.871Z"
   },
   {
    "duration": 1483,
    "start_time": "2022-08-19T08:40:23.618Z"
   },
   {
    "duration": 3,
    "start_time": "2022-08-19T08:40:35.037Z"
   },
   {
    "duration": 104,
    "start_time": "2022-08-19T08:40:35.042Z"
   },
   {
    "duration": 20,
    "start_time": "2022-08-19T08:40:35.148Z"
   },
   {
    "duration": 59,
    "start_time": "2022-08-19T08:40:35.170Z"
   },
   {
    "duration": 10,
    "start_time": "2022-08-19T08:40:35.232Z"
   },
   {
    "duration": 30,
    "start_time": "2022-08-19T08:40:35.244Z"
   },
   {
    "duration": 42,
    "start_time": "2022-08-19T08:40:35.276Z"
   },
   {
    "duration": 6,
    "start_time": "2022-08-19T08:40:35.320Z"
   },
   {
    "duration": 27,
    "start_time": "2022-08-19T08:40:35.328Z"
   },
   {
    "duration": 54,
    "start_time": "2022-08-19T08:40:35.357Z"
   },
   {
    "duration": 5,
    "start_time": "2022-08-19T08:40:35.413Z"
   },
   {
    "duration": 26,
    "start_time": "2022-08-19T08:40:35.420Z"
   },
   {
    "duration": 15,
    "start_time": "2022-08-19T08:40:35.448Z"
   },
   {
    "duration": 12,
    "start_time": "2022-08-19T08:40:35.493Z"
   },
   {
    "duration": 17,
    "start_time": "2022-08-19T08:40:35.507Z"
   },
   {
    "duration": 13,
    "start_time": "2022-08-19T08:40:35.526Z"
   },
   {
    "duration": 18,
    "start_time": "2022-08-19T08:40:35.540Z"
   },
   {
    "duration": 30,
    "start_time": "2022-08-19T08:40:35.559Z"
   },
   {
    "duration": 30,
    "start_time": "2022-08-19T08:40:35.591Z"
   },
   {
    "duration": 35,
    "start_time": "2022-08-19T08:40:35.622Z"
   },
   {
    "duration": 49,
    "start_time": "2022-08-19T08:40:35.659Z"
   },
   {
    "duration": 35,
    "start_time": "2022-08-19T08:40:35.710Z"
   },
   {
    "duration": 5,
    "start_time": "2022-08-19T08:40:35.747Z"
   },
   {
    "duration": 17,
    "start_time": "2022-08-19T08:40:35.754Z"
   },
   {
    "duration": 21,
    "start_time": "2022-08-19T08:40:35.772Z"
   },
   {
    "duration": 14,
    "start_time": "2022-08-19T08:40:35.946Z"
   },
   {
    "duration": 30,
    "start_time": "2022-08-19T08:40:35.962Z"
   },
   {
    "duration": 7,
    "start_time": "2022-08-19T08:40:36.010Z"
   },
   {
    "duration": 54,
    "start_time": "2022-08-19T08:40:36.019Z"
   },
   {
    "duration": 135,
    "start_time": "2022-08-19T08:40:36.074Z"
   },
   {
    "duration": 28,
    "start_time": "2022-08-19T08:40:36.211Z"
   },
   {
    "duration": 15,
    "start_time": "2022-08-19T08:40:36.243Z"
   },
   {
    "duration": 280,
    "start_time": "2022-08-19T08:40:36.260Z"
   },
   {
    "duration": 9,
    "start_time": "2022-08-19T08:40:36.542Z"
   },
   {
    "duration": 103,
    "start_time": "2022-08-19T08:40:36.553Z"
   },
   {
    "duration": 26,
    "start_time": "2022-08-19T08:40:36.658Z"
   },
   {
    "duration": 294,
    "start_time": "2022-08-19T08:40:36.763Z"
   },
   {
    "duration": 375,
    "start_time": "2022-08-19T08:40:37.059Z"
   },
   {
    "duration": 7,
    "start_time": "2022-08-19T08:40:37.435Z"
   },
   {
    "duration": 179,
    "start_time": "2022-08-19T08:40:37.443Z"
   },
   {
    "duration": 173,
    "start_time": "2022-08-19T08:40:37.625Z"
   },
   {
    "duration": 157,
    "start_time": "2022-08-19T08:40:37.800Z"
   },
   {
    "duration": 164,
    "start_time": "2022-08-19T08:40:37.959Z"
   },
   {
    "duration": 164,
    "start_time": "2022-08-19T08:40:38.124Z"
   },
   {
    "duration": 308,
    "start_time": "2022-08-19T08:40:38.290Z"
   },
   {
    "duration": 274,
    "start_time": "2022-08-19T08:40:38.600Z"
   },
   {
    "duration": 1453,
    "start_time": "2022-08-19T08:40:38.876Z"
   },
   {
    "duration": 76,
    "start_time": "2022-08-19T08:41:13.146Z"
   },
   {
    "duration": 75,
    "start_time": "2022-08-19T08:41:31.746Z"
   },
   {
    "duration": 73,
    "start_time": "2022-08-19T08:44:51.106Z"
   },
   {
    "duration": 79,
    "start_time": "2022-08-19T08:44:58.950Z"
   },
   {
    "duration": 86,
    "start_time": "2022-08-19T08:56:55.532Z"
   },
   {
    "duration": 484,
    "start_time": "2022-08-19T08:57:08.605Z"
   },
   {
    "duration": 78,
    "start_time": "2022-08-19T08:57:29.805Z"
   },
   {
    "duration": 3,
    "start_time": "2022-08-19T08:57:39.760Z"
   },
   {
    "duration": 110,
    "start_time": "2022-08-19T08:57:39.765Z"
   },
   {
    "duration": 22,
    "start_time": "2022-08-19T08:57:39.877Z"
   },
   {
    "duration": 48,
    "start_time": "2022-08-19T08:57:39.900Z"
   },
   {
    "duration": 12,
    "start_time": "2022-08-19T08:57:39.950Z"
   },
   {
    "duration": 36,
    "start_time": "2022-08-19T08:57:39.964Z"
   },
   {
    "duration": 46,
    "start_time": "2022-08-19T08:57:40.002Z"
   },
   {
    "duration": 5,
    "start_time": "2022-08-19T08:57:40.050Z"
   },
   {
    "duration": 34,
    "start_time": "2022-08-19T08:57:40.057Z"
   },
   {
    "duration": 37,
    "start_time": "2022-08-19T08:57:40.094Z"
   },
   {
    "duration": 4,
    "start_time": "2022-08-19T08:57:40.135Z"
   },
   {
    "duration": 46,
    "start_time": "2022-08-19T08:57:40.141Z"
   },
   {
    "duration": 21,
    "start_time": "2022-08-19T08:57:40.189Z"
   },
   {
    "duration": 18,
    "start_time": "2022-08-19T08:57:40.212Z"
   },
   {
    "duration": 15,
    "start_time": "2022-08-19T08:57:40.232Z"
   },
   {
    "duration": 39,
    "start_time": "2022-08-19T08:57:40.249Z"
   },
   {
    "duration": 14,
    "start_time": "2022-08-19T08:57:40.290Z"
   },
   {
    "duration": 23,
    "start_time": "2022-08-19T08:57:40.305Z"
   },
   {
    "duration": 23,
    "start_time": "2022-08-19T08:57:40.330Z"
   },
   {
    "duration": 70,
    "start_time": "2022-08-19T08:57:40.355Z"
   },
   {
    "duration": 19,
    "start_time": "2022-08-19T08:57:40.427Z"
   },
   {
    "duration": 88,
    "start_time": "2022-08-19T08:57:40.448Z"
   },
   {
    "duration": 6,
    "start_time": "2022-08-19T08:57:40.538Z"
   },
   {
    "duration": 24,
    "start_time": "2022-08-19T08:57:40.546Z"
   },
   {
    "duration": 11,
    "start_time": "2022-08-19T08:57:40.572Z"
   },
   {
    "duration": 43,
    "start_time": "2022-08-19T08:57:40.587Z"
   },
   {
    "duration": 14,
    "start_time": "2022-08-19T08:57:40.632Z"
   },
   {
    "duration": 3,
    "start_time": "2022-08-19T08:57:40.647Z"
   },
   {
    "duration": 49,
    "start_time": "2022-08-19T08:57:40.653Z"
   },
   {
    "duration": 104,
    "start_time": "2022-08-19T08:57:40.704Z"
   },
   {
    "duration": 23,
    "start_time": "2022-08-19T08:57:40.810Z"
   },
   {
    "duration": 13,
    "start_time": "2022-08-19T08:57:40.835Z"
   },
   {
    "duration": 221,
    "start_time": "2022-08-19T08:57:40.850Z"
   },
   {
    "duration": 16,
    "start_time": "2022-08-19T08:57:41.073Z"
   },
   {
    "duration": 35,
    "start_time": "2022-08-19T08:57:41.092Z"
   },
   {
    "duration": 49,
    "start_time": "2022-08-19T08:57:41.129Z"
   },
   {
    "duration": 294,
    "start_time": "2022-08-19T08:57:41.180Z"
   },
   {
    "duration": 277,
    "start_time": "2022-08-19T08:57:41.476Z"
   },
   {
    "duration": 6,
    "start_time": "2022-08-19T08:57:41.755Z"
   },
   {
    "duration": 201,
    "start_time": "2022-08-19T08:57:41.763Z"
   },
   {
    "duration": 173,
    "start_time": "2022-08-19T08:57:41.966Z"
   },
   {
    "duration": 175,
    "start_time": "2022-08-19T08:57:42.141Z"
   },
   {
    "duration": 168,
    "start_time": "2022-08-19T08:57:42.317Z"
   },
   {
    "duration": 178,
    "start_time": "2022-08-19T08:57:42.487Z"
   },
   {
    "duration": 441,
    "start_time": "2022-08-19T08:57:42.667Z"
   },
   {
    "duration": 306,
    "start_time": "2022-08-19T08:57:43.110Z"
   },
   {
    "duration": 91,
    "start_time": "2022-08-19T08:57:43.418Z"
   },
   {
    "duration": 136,
    "start_time": "2022-08-19T09:16:24.484Z"
   },
   {
    "duration": 82,
    "start_time": "2022-08-19T09:16:43.684Z"
   },
   {
    "duration": 108,
    "start_time": "2022-08-19T09:18:22.380Z"
   },
   {
    "duration": 59,
    "start_time": "2022-08-19T09:23:08.988Z"
   },
   {
    "duration": 3,
    "start_time": "2022-08-19T09:23:30.160Z"
   },
   {
    "duration": 114,
    "start_time": "2022-08-19T09:23:30.165Z"
   },
   {
    "duration": 16,
    "start_time": "2022-08-19T09:23:30.280Z"
   },
   {
    "duration": 73,
    "start_time": "2022-08-19T09:23:30.298Z"
   },
   {
    "duration": 10,
    "start_time": "2022-08-19T09:23:30.372Z"
   },
   {
    "duration": 42,
    "start_time": "2022-08-19T09:23:30.383Z"
   },
   {
    "duration": 48,
    "start_time": "2022-08-19T09:23:30.426Z"
   },
   {
    "duration": 5,
    "start_time": "2022-08-19T09:23:30.476Z"
   },
   {
    "duration": 51,
    "start_time": "2022-08-19T09:23:30.483Z"
   },
   {
    "duration": 61,
    "start_time": "2022-08-19T09:23:30.536Z"
   },
   {
    "duration": 46,
    "start_time": "2022-08-19T09:23:30.599Z"
   },
   {
    "duration": 81,
    "start_time": "2022-08-19T09:23:30.647Z"
   },
   {
    "duration": 48,
    "start_time": "2022-08-19T09:23:30.730Z"
   },
   {
    "duration": 28,
    "start_time": "2022-08-19T09:23:30.780Z"
   },
   {
    "duration": 46,
    "start_time": "2022-08-19T09:23:30.810Z"
   },
   {
    "duration": 69,
    "start_time": "2022-08-19T09:23:30.858Z"
   },
   {
    "duration": 25,
    "start_time": "2022-08-19T09:23:30.929Z"
   },
   {
    "duration": 31,
    "start_time": "2022-08-19T09:23:30.956Z"
   },
   {
    "duration": 19,
    "start_time": "2022-08-19T09:23:30.988Z"
   },
   {
    "duration": 42,
    "start_time": "2022-08-19T09:23:31.009Z"
   },
   {
    "duration": 35,
    "start_time": "2022-08-19T09:23:31.053Z"
   },
   {
    "duration": 63,
    "start_time": "2022-08-19T09:23:31.090Z"
   },
   {
    "duration": 5,
    "start_time": "2022-08-19T09:23:31.154Z"
   },
   {
    "duration": 39,
    "start_time": "2022-08-19T09:23:31.164Z"
   },
   {
    "duration": 28,
    "start_time": "2022-08-19T09:23:31.205Z"
   },
   {
    "duration": 39,
    "start_time": "2022-08-19T09:23:31.235Z"
   },
   {
    "duration": 87,
    "start_time": "2022-08-19T09:23:31.276Z"
   },
   {
    "duration": 9,
    "start_time": "2022-08-19T09:23:31.365Z"
   },
   {
    "duration": 66,
    "start_time": "2022-08-19T09:23:31.375Z"
   },
   {
    "duration": 102,
    "start_time": "2022-08-19T09:23:31.443Z"
   },
   {
    "duration": 18,
    "start_time": "2022-08-19T09:23:31.547Z"
   },
   {
    "duration": 43,
    "start_time": "2022-08-19T09:23:31.567Z"
   },
   {
    "duration": 184,
    "start_time": "2022-08-19T09:23:31.612Z"
   },
   {
    "duration": 7,
    "start_time": "2022-08-19T09:23:31.799Z"
   },
   {
    "duration": 47,
    "start_time": "2022-08-19T09:23:31.808Z"
   },
   {
    "duration": 32,
    "start_time": "2022-08-19T09:23:31.857Z"
   },
   {
    "duration": 312,
    "start_time": "2022-08-19T09:23:31.892Z"
   },
   {
    "duration": 245,
    "start_time": "2022-08-19T09:23:32.207Z"
   },
   {
    "duration": 6,
    "start_time": "2022-08-19T09:23:32.454Z"
   },
   {
    "duration": 173,
    "start_time": "2022-08-19T09:23:32.462Z"
   },
   {
    "duration": 288,
    "start_time": "2022-08-19T09:23:32.637Z"
   },
   {
    "duration": 184,
    "start_time": "2022-08-19T09:23:32.927Z"
   },
   {
    "duration": 171,
    "start_time": "2022-08-19T09:23:33.112Z"
   },
   {
    "duration": 180,
    "start_time": "2022-08-19T09:23:33.284Z"
   },
   {
    "duration": 360,
    "start_time": "2022-08-19T09:23:33.465Z"
   },
   {
    "duration": 306,
    "start_time": "2022-08-19T09:23:33.826Z"
   },
   {
    "duration": 67,
    "start_time": "2022-08-19T09:23:34.133Z"
   },
   {
    "duration": 1364,
    "start_time": "2022-08-19T09:23:53.622Z"
   },
   {
    "duration": 1223,
    "start_time": "2022-08-19T09:24:45.452Z"
   },
   {
    "duration": 109,
    "start_time": "2022-08-19T09:24:56.590Z"
   },
   {
    "duration": 86,
    "start_time": "2022-08-19T09:25:20.473Z"
   },
   {
    "duration": 84,
    "start_time": "2022-08-19T09:25:41.498Z"
   },
   {
    "duration": 81,
    "start_time": "2022-08-19T09:25:50.847Z"
   },
   {
    "duration": 94,
    "start_time": "2022-08-19T09:26:25.608Z"
   },
   {
    "duration": 90,
    "start_time": "2022-08-19T09:26:58.907Z"
   },
   {
    "duration": 2,
    "start_time": "2022-08-19T09:27:07.638Z"
   },
   {
    "duration": 115,
    "start_time": "2022-08-19T09:27:07.642Z"
   },
   {
    "duration": 15,
    "start_time": "2022-08-19T09:27:07.759Z"
   },
   {
    "duration": 44,
    "start_time": "2022-08-19T09:27:07.793Z"
   },
   {
    "duration": 10,
    "start_time": "2022-08-19T09:27:07.838Z"
   },
   {
    "duration": 26,
    "start_time": "2022-08-19T09:27:07.850Z"
   },
   {
    "duration": 150,
    "start_time": "2022-08-19T09:27:07.877Z"
   },
   {
    "duration": 6,
    "start_time": "2022-08-19T09:27:08.029Z"
   },
   {
    "duration": 22,
    "start_time": "2022-08-19T09:27:08.036Z"
   },
   {
    "duration": 51,
    "start_time": "2022-08-19T09:27:08.060Z"
   },
   {
    "duration": 4,
    "start_time": "2022-08-19T09:27:08.114Z"
   },
   {
    "duration": 18,
    "start_time": "2022-08-19T09:27:08.120Z"
   },
   {
    "duration": 13,
    "start_time": "2022-08-19T09:27:08.140Z"
   },
   {
    "duration": 36,
    "start_time": "2022-08-19T09:27:08.155Z"
   },
   {
    "duration": 18,
    "start_time": "2022-08-19T09:27:08.193Z"
   },
   {
    "duration": 14,
    "start_time": "2022-08-19T09:27:08.213Z"
   },
   {
    "duration": 13,
    "start_time": "2022-08-19T09:27:08.228Z"
   },
   {
    "duration": 18,
    "start_time": "2022-08-19T09:27:08.243Z"
   },
   {
    "duration": 27,
    "start_time": "2022-08-19T09:27:08.288Z"
   },
   {
    "duration": 37,
    "start_time": "2022-08-19T09:27:08.316Z"
   },
   {
    "duration": 39,
    "start_time": "2022-08-19T09:27:08.354Z"
   },
   {
    "duration": 39,
    "start_time": "2022-08-19T09:27:08.395Z"
   },
   {
    "duration": 6,
    "start_time": "2022-08-19T09:27:08.436Z"
   },
   {
    "duration": 17,
    "start_time": "2022-08-19T09:27:08.444Z"
   },
   {
    "duration": 32,
    "start_time": "2022-08-19T09:27:08.463Z"
   },
   {
    "duration": 21,
    "start_time": "2022-08-19T09:27:08.498Z"
   },
   {
    "duration": 16,
    "start_time": "2022-08-19T09:27:08.520Z"
   },
   {
    "duration": 4,
    "start_time": "2022-08-19T09:27:08.538Z"
   },
   {
    "duration": 83,
    "start_time": "2022-08-19T09:27:08.546Z"
   },
   {
    "duration": 119,
    "start_time": "2022-08-19T09:27:08.631Z"
   },
   {
    "duration": 46,
    "start_time": "2022-08-19T09:27:08.752Z"
   },
   {
    "duration": 19,
    "start_time": "2022-08-19T09:27:08.800Z"
   },
   {
    "duration": 212,
    "start_time": "2022-08-19T09:27:08.821Z"
   },
   {
    "duration": 7,
    "start_time": "2022-08-19T09:27:09.035Z"
   },
   {
    "duration": 22,
    "start_time": "2022-08-19T09:27:09.043Z"
   },
   {
    "duration": 42,
    "start_time": "2022-08-19T09:27:09.066Z"
   },
   {
    "duration": 324,
    "start_time": "2022-08-19T09:27:09.110Z"
   },
   {
    "duration": 297,
    "start_time": "2022-08-19T09:27:09.435Z"
   },
   {
    "duration": 7,
    "start_time": "2022-08-19T09:27:09.734Z"
   },
   {
    "duration": 159,
    "start_time": "2022-08-19T09:27:09.743Z"
   },
   {
    "duration": 201,
    "start_time": "2022-08-19T09:27:09.905Z"
   },
   {
    "duration": 176,
    "start_time": "2022-08-19T09:27:10.108Z"
   },
   {
    "duration": 196,
    "start_time": "2022-08-19T09:27:10.286Z"
   },
   {
    "duration": 166,
    "start_time": "2022-08-19T09:27:10.484Z"
   },
   {
    "duration": 379,
    "start_time": "2022-08-19T09:27:10.652Z"
   },
   {
    "duration": 269,
    "start_time": "2022-08-19T09:27:11.033Z"
   },
   {
    "duration": 113,
    "start_time": "2022-08-19T09:27:11.305Z"
   },
   {
    "duration": 101,
    "start_time": "2022-08-19T09:27:54.454Z"
   },
   {
    "duration": 212,
    "start_time": "2022-08-19T09:28:03.658Z"
   },
   {
    "duration": 91,
    "start_time": "2022-08-19T09:28:30.330Z"
   },
   {
    "duration": 115,
    "start_time": "2022-08-19T09:29:16.364Z"
   },
   {
    "duration": 97,
    "start_time": "2022-08-19T09:30:13.064Z"
   },
   {
    "duration": 102,
    "start_time": "2022-08-19T09:30:25.399Z"
   },
   {
    "duration": 99,
    "start_time": "2022-08-19T09:31:05.068Z"
   },
   {
    "duration": 83,
    "start_time": "2022-08-19T09:35:25.440Z"
   },
   {
    "duration": 80,
    "start_time": "2022-08-19T09:35:45.700Z"
   },
   {
    "duration": 77,
    "start_time": "2022-08-19T09:35:53.455Z"
   },
   {
    "duration": 88,
    "start_time": "2022-08-19T09:36:16.056Z"
   },
   {
    "duration": 54,
    "start_time": "2022-08-19T09:39:55.607Z"
   },
   {
    "duration": 48,
    "start_time": "2022-08-19T09:41:11.073Z"
   },
   {
    "duration": 63,
    "start_time": "2022-08-19T09:41:59.067Z"
   },
   {
    "duration": 92,
    "start_time": "2022-08-19T09:51:53.587Z"
   },
   {
    "duration": 54,
    "start_time": "2022-08-19T09:52:05.156Z"
   },
   {
    "duration": 92,
    "start_time": "2022-08-19T09:55:23.847Z"
   },
   {
    "duration": 92,
    "start_time": "2022-08-19T09:56:34.531Z"
   },
   {
    "duration": 52,
    "start_time": "2022-08-19T10:53:29.561Z"
   },
   {
    "duration": 395,
    "start_time": "2022-08-19T10:53:32.525Z"
   },
   {
    "duration": 287,
    "start_time": "2022-08-19T10:53:32.922Z"
   },
   {
    "duration": 17,
    "start_time": "2022-08-19T10:53:33.210Z"
   },
   {
    "duration": 112,
    "start_time": "2022-08-19T10:53:33.230Z"
   },
   {
    "duration": 11,
    "start_time": "2022-08-19T10:53:33.344Z"
   },
   {
    "duration": 44,
    "start_time": "2022-08-19T10:53:33.357Z"
   },
   {
    "duration": 63,
    "start_time": "2022-08-19T10:53:33.403Z"
   },
   {
    "duration": 5,
    "start_time": "2022-08-19T10:53:33.468Z"
   },
   {
    "duration": 48,
    "start_time": "2022-08-19T10:53:33.475Z"
   },
   {
    "duration": 46,
    "start_time": "2022-08-19T10:53:33.525Z"
   },
   {
    "duration": 5,
    "start_time": "2022-08-19T10:53:33.573Z"
   },
   {
    "duration": 34,
    "start_time": "2022-08-19T10:53:33.580Z"
   },
   {
    "duration": 29,
    "start_time": "2022-08-19T10:53:33.616Z"
   },
   {
    "duration": 18,
    "start_time": "2022-08-19T10:53:33.647Z"
   },
   {
    "duration": 33,
    "start_time": "2022-08-19T10:53:33.667Z"
   },
   {
    "duration": 28,
    "start_time": "2022-08-19T10:53:33.702Z"
   },
   {
    "duration": 15,
    "start_time": "2022-08-19T10:53:33.732Z"
   },
   {
    "duration": 34,
    "start_time": "2022-08-19T10:53:33.749Z"
   },
   {
    "duration": 20,
    "start_time": "2022-08-19T10:53:33.785Z"
   },
   {
    "duration": 42,
    "start_time": "2022-08-19T10:53:33.807Z"
   },
   {
    "duration": 21,
    "start_time": "2022-08-19T10:53:33.851Z"
   },
   {
    "duration": 53,
    "start_time": "2022-08-19T10:53:33.874Z"
   },
   {
    "duration": 5,
    "start_time": "2022-08-19T10:53:33.929Z"
   },
   {
    "duration": 28,
    "start_time": "2022-08-19T10:53:33.935Z"
   },
   {
    "duration": 29,
    "start_time": "2022-08-19T10:53:33.964Z"
   },
   {
    "duration": 37,
    "start_time": "2022-08-19T10:53:33.995Z"
   },
   {
    "duration": 33,
    "start_time": "2022-08-19T10:53:34.034Z"
   },
   {
    "duration": 4,
    "start_time": "2022-08-19T10:53:34.071Z"
   },
   {
    "duration": 103,
    "start_time": "2022-08-19T10:53:34.076Z"
   },
   {
    "duration": 97,
    "start_time": "2022-08-19T10:53:34.181Z"
   },
   {
    "duration": 13,
    "start_time": "2022-08-19T10:53:34.280Z"
   },
   {
    "duration": 30,
    "start_time": "2022-08-19T10:53:34.295Z"
   },
   {
    "duration": 15,
    "start_time": "2022-08-19T10:53:34.327Z"
   },
   {
    "duration": 949,
    "start_time": "2022-08-19T10:53:34.344Z"
   },
   {
    "duration": 8,
    "start_time": "2022-08-19T10:53:35.295Z"
   },
   {
    "duration": 19,
    "start_time": "2022-08-19T10:53:35.305Z"
   },
   {
    "duration": 91,
    "start_time": "2022-08-19T10:53:35.325Z"
   },
   {
    "duration": 454,
    "start_time": "2022-08-19T10:53:35.418Z"
   },
   {
    "duration": 398,
    "start_time": "2022-08-19T10:53:35.874Z"
   },
   {
    "duration": 6,
    "start_time": "2022-08-19T10:53:36.274Z"
   },
   {
    "duration": 277,
    "start_time": "2022-08-19T10:53:36.292Z"
   },
   {
    "duration": 321,
    "start_time": "2022-08-19T10:53:36.570Z"
   },
   {
    "duration": 279,
    "start_time": "2022-08-19T10:53:36.894Z"
   },
   {
    "duration": 306,
    "start_time": "2022-08-19T10:53:37.175Z"
   },
   {
    "duration": 303,
    "start_time": "2022-08-19T10:53:37.492Z"
   },
   {
    "duration": 441,
    "start_time": "2022-08-19T10:53:37.797Z"
   },
   {
    "duration": 467,
    "start_time": "2022-08-19T10:53:38.240Z"
   },
   {
    "duration": 106,
    "start_time": "2022-08-19T10:53:38.709Z"
   },
   {
    "duration": 85,
    "start_time": "2022-08-19T10:53:38.818Z"
   },
   {
    "duration": 5,
    "start_time": "2022-08-19T10:54:39.082Z"
   },
   {
    "duration": 6,
    "start_time": "2022-08-19T10:54:43.597Z"
   },
   {
    "duration": 6,
    "start_time": "2022-08-19T10:55:07.543Z"
   },
   {
    "duration": 105,
    "start_time": "2022-08-19T10:56:11.601Z"
   },
   {
    "duration": 169,
    "start_time": "2022-08-19T10:57:37.419Z"
   },
   {
    "duration": 107,
    "start_time": "2022-08-19T10:57:37.992Z"
   },
   {
    "duration": 4,
    "start_time": "2022-08-19T10:59:03.683Z"
   },
   {
    "duration": 4,
    "start_time": "2022-08-19T10:59:05.768Z"
   },
   {
    "duration": 18,
    "start_time": "2022-08-19T11:00:50.717Z"
   },
   {
    "duration": 18,
    "start_time": "2022-08-19T11:01:07.616Z"
   },
   {
    "duration": 22,
    "start_time": "2022-08-19T11:01:18.938Z"
   }
  ],
  "colab": {
   "name": "DA+. Сборный проект 1. Шаблон (1).ipynb",
   "provenance": []
  },
  "kernelspec": {
   "display_name": "Python 3 (ipykernel)",
   "language": "python",
   "name": "python3"
  },
  "language_info": {
   "codemirror_mode": {
    "name": "ipython",
    "version": 3
   },
   "file_extension": ".py",
   "mimetype": "text/x-python",
   "name": "python",
   "nbconvert_exporter": "python",
   "pygments_lexer": "ipython3",
   "version": "3.9.12"
  },
  "toc": {
   "base_numbering": 1,
   "nav_menu": {},
   "number_sections": true,
   "sideBar": true,
   "skip_h1_title": true,
   "title_cell": "Table of Contents",
   "title_sidebar": "Contents",
   "toc_cell": false,
   "toc_position": {
    "height": "calc(100% - 180px)",
    "left": "10px",
    "top": "150px",
    "width": "375.391px"
   },
   "toc_section_display": true,
   "toc_window_display": false
  }
 },
 "nbformat": 4,
 "nbformat_minor": 1
}
