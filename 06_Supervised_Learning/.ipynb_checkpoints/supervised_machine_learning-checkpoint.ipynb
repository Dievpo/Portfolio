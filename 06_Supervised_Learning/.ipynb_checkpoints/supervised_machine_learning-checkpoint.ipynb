{
 "cells": [
  {
   "cell_type": "markdown",
   "metadata": {
    "toc": true
   },
   "source": [
    "<h1>Содержание<span class=\"tocSkip\"></span></h1>\n",
    "<div class=\"toc\"><ul class=\"toc-item\"><li><span><a href=\"#Подготовка-данных\" data-toc-modified-id=\"Подготовка-данных-1\"><span class=\"toc-item-num\">1&nbsp;&nbsp;</span>Подготовка данных</a></span><ul class=\"toc-item\"><li><span><a href=\"#Импорт-библиотек\" data-toc-modified-id=\"Импорт-библиотек-1.1\"><span class=\"toc-item-num\">1.1&nbsp;&nbsp;</span>Импорт библиотек</a></span></li><li><span><a href=\"#Загрузка-и-изучение-данных\" data-toc-modified-id=\"Загрузка-и-изучение-данных-1.2\"><span class=\"toc-item-num\">1.2&nbsp;&nbsp;</span>Загрузка и изучение данных</a></span></li><li><span><a href=\"#Предобработка-данных\" data-toc-modified-id=\"Предобработка-данных-1.3\"><span class=\"toc-item-num\">1.3&nbsp;&nbsp;</span>Предобработка данных</a></span></li><li><span><a href=\"#Преобразование-признаков\" data-toc-modified-id=\"Преобразование-признаков-1.4\"><span class=\"toc-item-num\">1.4&nbsp;&nbsp;</span>Преобразование признаков</a></span></li><li><span><a href=\"#Разобьем-данные-на-выборки\" data-toc-modified-id=\"Разобьем-данные-на-выборки-1.5\"><span class=\"toc-item-num\">1.5&nbsp;&nbsp;</span>Разобьем данные на выборки</a></span></li><li><span><a href=\"#Масштабирование-численных-признаков\" data-toc-modified-id=\"Масштабирование-численных-признаков-1.6\"><span class=\"toc-item-num\">1.6&nbsp;&nbsp;</span>Масштабирование численных признаков</a></span></li></ul></li><li><span><a href=\"#Исследование-задачи\" data-toc-modified-id=\"Исследование-задачи-2\"><span class=\"toc-item-num\">2&nbsp;&nbsp;</span>Исследование задачи</a></span><ul class=\"toc-item\"><li><span><a href=\"#Проверим-баланс-классов\" data-toc-modified-id=\"Проверим-баланс-классов-2.1\"><span class=\"toc-item-num\">2.1&nbsp;&nbsp;</span>Проверим баланс классов</a></span></li><li><span><a href=\"#Обучим-модель-без-учета-дисбаланса\" data-toc-modified-id=\"Обучим-модель-без-учета-дисбаланса-2.2\"><span class=\"toc-item-num\">2.2&nbsp;&nbsp;</span>Обучим модель без учета дисбаланса</a></span><ul class=\"toc-item\"><li><span><a href=\"#Решающее-дерево\" data-toc-modified-id=\"Решающее-дерево-2.2.1\"><span class=\"toc-item-num\">2.2.1&nbsp;&nbsp;</span>Решающее дерево</a></span></li><li><span><a href=\"#Случайный-лес\" data-toc-modified-id=\"Случайный-лес-2.2.2\"><span class=\"toc-item-num\">2.2.2&nbsp;&nbsp;</span>Случайный лес</a></span></li><li><span><a href=\"#Логистическая-регрессия\" data-toc-modified-id=\"Логистическая-регрессия-2.2.3\"><span class=\"toc-item-num\">2.2.3&nbsp;&nbsp;</span>Логистическая регрессия</a></span></li></ul></li><li><span><a href=\"#Построим-ROC-кривую-и-высчислим-площади-под-этой-линией\" data-toc-modified-id=\"Построим-ROC-кривую-и-высчислим-площади-под-этой-линией-2.3\"><span class=\"toc-item-num\">2.3&nbsp;&nbsp;</span>Построим ROC-кривую и высчислим площади под этой линией</a></span></li></ul></li><li><span><a href=\"#Борьба-с-дисбалансом\" data-toc-modified-id=\"Борьба-с-дисбалансом-3\"><span class=\"toc-item-num\">3&nbsp;&nbsp;</span>Борьба с дисбалансом</a></span><ul class=\"toc-item\"><li><span><a href=\"#Взвешивание-классов\" data-toc-modified-id=\"Взвешивание-классов-3.1\"><span class=\"toc-item-num\">3.1&nbsp;&nbsp;</span>Взвешивание классов</a></span></li><li><span><a href=\"#Увеличение-выборки\" data-toc-modified-id=\"Увеличение-выборки-3.2\"><span class=\"toc-item-num\">3.2&nbsp;&nbsp;</span>Увеличение выборки</a></span></li><li><span><a href=\"#Уменьшение-выборки\" data-toc-modified-id=\"Уменьшение-выборки-3.3\"><span class=\"toc-item-num\">3.3&nbsp;&nbsp;</span>Уменьшение выборки</a></span></li></ul></li><li><span><a href=\"#Тестирование-модели\" data-toc-modified-id=\"Тестирование-модели-4\"><span class=\"toc-item-num\">4&nbsp;&nbsp;</span>Тестирование модели</a></span></li><li><span><a href=\"#Чек-лист-готовности-проекта\" data-toc-modified-id=\"Чек-лист-готовности-проекта-5\"><span class=\"toc-item-num\">5&nbsp;&nbsp;</span>Чек-лист готовности проекта</a></span></li></ul></div>"
   ]
  },
  {
   "cell_type": "markdown",
   "metadata": {},
   "source": [
    "# Отток клиентов"
   ]
  },
  {
   "cell_type": "markdown",
   "metadata": {},
   "source": [
    "Из «Бета-Банка» стали уходить клиенты. Каждый месяц. Немного, но заметно. Банковские маркетологи посчитали: сохранять текущих клиентов дешевле, чем привлекать новых.\n",
    "\n",
    "Нужно спрогнозировать, уйдёт клиент из банка в ближайшее время или нет. Вам предоставлены исторические данные о поведении клиентов и расторжении договоров с банком. \n",
    "\n",
    "Постройте модель с предельно большим значением *F1*-меры. Чтобы сдать проект успешно, нужно довести метрику до 0.59. Проверьте *F1*-меру на тестовой выборке самостоятельно.\n",
    "\n",
    "Дополнительно измеряйте *AUC-ROC*, сравнивайте её значение с *F1*-мерой.\n",
    "\n",
    "Источник данных: [https://www.kaggle.com/barelydedicated/bank-customer-churn-modeling](https://www.kaggle.com/barelydedicated/bank-customer-churn-modeling)"
   ]
  },
  {
   "cell_type": "markdown",
   "metadata": {},
   "source": [
    "## Подготовка данных"
   ]
  },
  {
   "cell_type": "markdown",
   "metadata": {},
   "source": [
    "### Импорт библиотек"
   ]
  },
  {
   "cell_type": "code",
   "execution_count": 224,
   "metadata": {},
   "outputs": [],
   "source": [
    "import pandas as pd\n",
    "\n",
    "import seaborn as sns\n",
    "import matplotlib.pyplot as plt\n",
    "\n",
    "from sklearn.model_selection import train_test_split\n",
    "pd.options.mode.chained_assignment = None\n",
    "from sklearn.preprocessing import StandardScaler\n",
    "from sklearn.tree import DecisionTreeClassifier\n",
    "from sklearn.ensemble import RandomForestClassifier\n",
    "from sklearn.linear_model import LogisticRegression\n",
    "\n",
    "from sklearn.metrics import accuracy_score\n",
    "from sklearn.metrics import f1_score\n",
    "from sklearn.metrics import confusion_matrix\n",
    "from sklearn.metrics import roc_curve \n",
    "from sklearn.metrics import roc_auc_score\n",
    "from sklearn.utils import shuffle"
   ]
  },
  {
   "cell_type": "markdown",
   "metadata": {},
   "source": [
    "### Загрузка и изучение данных"
   ]
  },
  {
   "cell_type": "code",
   "execution_count": 225,
   "metadata": {},
   "outputs": [
    {
     "data": {
      "text/html": [
       "<div>\n",
       "<style scoped>\n",
       "    .dataframe tbody tr th:only-of-type {\n",
       "        vertical-align: middle;\n",
       "    }\n",
       "\n",
       "    .dataframe tbody tr th {\n",
       "        vertical-align: top;\n",
       "    }\n",
       "\n",
       "    .dataframe thead th {\n",
       "        text-align: right;\n",
       "    }\n",
       "</style>\n",
       "<table border=\"1\" class=\"dataframe\">\n",
       "  <thead>\n",
       "    <tr style=\"text-align: right;\">\n",
       "      <th></th>\n",
       "      <th>RowNumber</th>\n",
       "      <th>CustomerId</th>\n",
       "      <th>Surname</th>\n",
       "      <th>CreditScore</th>\n",
       "      <th>Geography</th>\n",
       "      <th>Gender</th>\n",
       "      <th>Age</th>\n",
       "      <th>Tenure</th>\n",
       "      <th>Balance</th>\n",
       "      <th>NumOfProducts</th>\n",
       "      <th>HasCrCard</th>\n",
       "      <th>IsActiveMember</th>\n",
       "      <th>EstimatedSalary</th>\n",
       "      <th>Exited</th>\n",
       "    </tr>\n",
       "  </thead>\n",
       "  <tbody>\n",
       "    <tr>\n",
       "      <th>0</th>\n",
       "      <td>1</td>\n",
       "      <td>15634602</td>\n",
       "      <td>Hargrave</td>\n",
       "      <td>619</td>\n",
       "      <td>France</td>\n",
       "      <td>Female</td>\n",
       "      <td>42</td>\n",
       "      <td>2.0</td>\n",
       "      <td>0.00</td>\n",
       "      <td>1</td>\n",
       "      <td>1</td>\n",
       "      <td>1</td>\n",
       "      <td>101348.88</td>\n",
       "      <td>1</td>\n",
       "    </tr>\n",
       "    <tr>\n",
       "      <th>1</th>\n",
       "      <td>2</td>\n",
       "      <td>15647311</td>\n",
       "      <td>Hill</td>\n",
       "      <td>608</td>\n",
       "      <td>Spain</td>\n",
       "      <td>Female</td>\n",
       "      <td>41</td>\n",
       "      <td>1.0</td>\n",
       "      <td>83807.86</td>\n",
       "      <td>1</td>\n",
       "      <td>0</td>\n",
       "      <td>1</td>\n",
       "      <td>112542.58</td>\n",
       "      <td>0</td>\n",
       "    </tr>\n",
       "    <tr>\n",
       "      <th>2</th>\n",
       "      <td>3</td>\n",
       "      <td>15619304</td>\n",
       "      <td>Onio</td>\n",
       "      <td>502</td>\n",
       "      <td>France</td>\n",
       "      <td>Female</td>\n",
       "      <td>42</td>\n",
       "      <td>8.0</td>\n",
       "      <td>159660.80</td>\n",
       "      <td>3</td>\n",
       "      <td>1</td>\n",
       "      <td>0</td>\n",
       "      <td>113931.57</td>\n",
       "      <td>1</td>\n",
       "    </tr>\n",
       "    <tr>\n",
       "      <th>3</th>\n",
       "      <td>4</td>\n",
       "      <td>15701354</td>\n",
       "      <td>Boni</td>\n",
       "      <td>699</td>\n",
       "      <td>France</td>\n",
       "      <td>Female</td>\n",
       "      <td>39</td>\n",
       "      <td>1.0</td>\n",
       "      <td>0.00</td>\n",
       "      <td>2</td>\n",
       "      <td>0</td>\n",
       "      <td>0</td>\n",
       "      <td>93826.63</td>\n",
       "      <td>0</td>\n",
       "    </tr>\n",
       "    <tr>\n",
       "      <th>4</th>\n",
       "      <td>5</td>\n",
       "      <td>15737888</td>\n",
       "      <td>Mitchell</td>\n",
       "      <td>850</td>\n",
       "      <td>Spain</td>\n",
       "      <td>Female</td>\n",
       "      <td>43</td>\n",
       "      <td>2.0</td>\n",
       "      <td>125510.82</td>\n",
       "      <td>1</td>\n",
       "      <td>1</td>\n",
       "      <td>1</td>\n",
       "      <td>79084.10</td>\n",
       "      <td>0</td>\n",
       "    </tr>\n",
       "  </tbody>\n",
       "</table>\n",
       "</div>"
      ],
      "text/plain": [
       "   RowNumber  CustomerId   Surname  CreditScore Geography  Gender  Age  \\\n",
       "0          1    15634602  Hargrave          619    France  Female   42   \n",
       "1          2    15647311      Hill          608     Spain  Female   41   \n",
       "2          3    15619304      Onio          502    France  Female   42   \n",
       "3          4    15701354      Boni          699    France  Female   39   \n",
       "4          5    15737888  Mitchell          850     Spain  Female   43   \n",
       "\n",
       "   Tenure    Balance  NumOfProducts  HasCrCard  IsActiveMember  \\\n",
       "0     2.0       0.00              1          1               1   \n",
       "1     1.0   83807.86              1          0               1   \n",
       "2     8.0  159660.80              3          1               0   \n",
       "3     1.0       0.00              2          0               0   \n",
       "4     2.0  125510.82              1          1               1   \n",
       "\n",
       "   EstimatedSalary  Exited  \n",
       "0        101348.88       1  \n",
       "1        112542.58       0  \n",
       "2        113931.57       1  \n",
       "3         93826.63       0  \n",
       "4         79084.10       0  "
      ]
     },
     "execution_count": 225,
     "metadata": {},
     "output_type": "execute_result"
    }
   ],
   "source": [
    "# прочитаем файл и сохраним его в переменной data\n",
    "df = pd.read_csv('/datasets/Churn.csv')\n",
    "# выведем первые 5 строк на экран\n",
    "df.head()"
   ]
  },
  {
   "cell_type": "code",
   "execution_count": 226,
   "metadata": {},
   "outputs": [
    {
     "name": "stdout",
     "output_type": "stream",
     "text": [
      "<class 'pandas.core.frame.DataFrame'>\n",
      "RangeIndex: 10000 entries, 0 to 9999\n",
      "Data columns (total 14 columns):\n",
      " #   Column           Non-Null Count  Dtype  \n",
      "---  ------           --------------  -----  \n",
      " 0   RowNumber        10000 non-null  int64  \n",
      " 1   CustomerId       10000 non-null  int64  \n",
      " 2   Surname          10000 non-null  object \n",
      " 3   CreditScore      10000 non-null  int64  \n",
      " 4   Geography        10000 non-null  object \n",
      " 5   Gender           10000 non-null  object \n",
      " 6   Age              10000 non-null  int64  \n",
      " 7   Tenure           9091 non-null   float64\n",
      " 8   Balance          10000 non-null  float64\n",
      " 9   NumOfProducts    10000 non-null  int64  \n",
      " 10  HasCrCard        10000 non-null  int64  \n",
      " 11  IsActiveMember   10000 non-null  int64  \n",
      " 12  EstimatedSalary  10000 non-null  float64\n",
      " 13  Exited           10000 non-null  int64  \n",
      "dtypes: float64(3), int64(8), object(3)\n",
      "memory usage: 1.1+ MB\n"
     ]
    }
   ],
   "source": [
    "# с полощью метода info() изучим общую информацию о данных: количество строк и столбцов, типы данных и наличие пропуков\n",
    "df.info()"
   ]
  },
  {
   "cell_type": "code",
   "execution_count": 227,
   "metadata": {},
   "outputs": [
    {
     "data": {
      "text/html": [
       "<div>\n",
       "<style scoped>\n",
       "    .dataframe tbody tr th:only-of-type {\n",
       "        vertical-align: middle;\n",
       "    }\n",
       "\n",
       "    .dataframe tbody tr th {\n",
       "        vertical-align: top;\n",
       "    }\n",
       "\n",
       "    .dataframe thead th {\n",
       "        text-align: right;\n",
       "    }\n",
       "</style>\n",
       "<table border=\"1\" class=\"dataframe\">\n",
       "  <thead>\n",
       "    <tr style=\"text-align: right;\">\n",
       "      <th></th>\n",
       "      <th>count</th>\n",
       "      <th>mean</th>\n",
       "      <th>std</th>\n",
       "      <th>min</th>\n",
       "      <th>25%</th>\n",
       "      <th>50%</th>\n",
       "      <th>75%</th>\n",
       "      <th>max</th>\n",
       "    </tr>\n",
       "  </thead>\n",
       "  <tbody>\n",
       "    <tr>\n",
       "      <th>RowNumber</th>\n",
       "      <td>10000.0</td>\n",
       "      <td>5.000500e+03</td>\n",
       "      <td>2886.895680</td>\n",
       "      <td>1.00</td>\n",
       "      <td>2500.75</td>\n",
       "      <td>5.000500e+03</td>\n",
       "      <td>7.500250e+03</td>\n",
       "      <td>10000.00</td>\n",
       "    </tr>\n",
       "    <tr>\n",
       "      <th>CustomerId</th>\n",
       "      <td>10000.0</td>\n",
       "      <td>1.569094e+07</td>\n",
       "      <td>71936.186123</td>\n",
       "      <td>15565701.00</td>\n",
       "      <td>15628528.25</td>\n",
       "      <td>1.569074e+07</td>\n",
       "      <td>1.575323e+07</td>\n",
       "      <td>15815690.00</td>\n",
       "    </tr>\n",
       "    <tr>\n",
       "      <th>CreditScore</th>\n",
       "      <td>10000.0</td>\n",
       "      <td>6.505288e+02</td>\n",
       "      <td>96.653299</td>\n",
       "      <td>350.00</td>\n",
       "      <td>584.00</td>\n",
       "      <td>6.520000e+02</td>\n",
       "      <td>7.180000e+02</td>\n",
       "      <td>850.00</td>\n",
       "    </tr>\n",
       "    <tr>\n",
       "      <th>Age</th>\n",
       "      <td>10000.0</td>\n",
       "      <td>3.892180e+01</td>\n",
       "      <td>10.487806</td>\n",
       "      <td>18.00</td>\n",
       "      <td>32.00</td>\n",
       "      <td>3.700000e+01</td>\n",
       "      <td>4.400000e+01</td>\n",
       "      <td>92.00</td>\n",
       "    </tr>\n",
       "    <tr>\n",
       "      <th>Tenure</th>\n",
       "      <td>9091.0</td>\n",
       "      <td>4.997690e+00</td>\n",
       "      <td>2.894723</td>\n",
       "      <td>0.00</td>\n",
       "      <td>2.00</td>\n",
       "      <td>5.000000e+00</td>\n",
       "      <td>7.000000e+00</td>\n",
       "      <td>10.00</td>\n",
       "    </tr>\n",
       "    <tr>\n",
       "      <th>Balance</th>\n",
       "      <td>10000.0</td>\n",
       "      <td>7.648589e+04</td>\n",
       "      <td>62397.405202</td>\n",
       "      <td>0.00</td>\n",
       "      <td>0.00</td>\n",
       "      <td>9.719854e+04</td>\n",
       "      <td>1.276442e+05</td>\n",
       "      <td>250898.09</td>\n",
       "    </tr>\n",
       "    <tr>\n",
       "      <th>NumOfProducts</th>\n",
       "      <td>10000.0</td>\n",
       "      <td>1.530200e+00</td>\n",
       "      <td>0.581654</td>\n",
       "      <td>1.00</td>\n",
       "      <td>1.00</td>\n",
       "      <td>1.000000e+00</td>\n",
       "      <td>2.000000e+00</td>\n",
       "      <td>4.00</td>\n",
       "    </tr>\n",
       "    <tr>\n",
       "      <th>HasCrCard</th>\n",
       "      <td>10000.0</td>\n",
       "      <td>7.055000e-01</td>\n",
       "      <td>0.455840</td>\n",
       "      <td>0.00</td>\n",
       "      <td>0.00</td>\n",
       "      <td>1.000000e+00</td>\n",
       "      <td>1.000000e+00</td>\n",
       "      <td>1.00</td>\n",
       "    </tr>\n",
       "    <tr>\n",
       "      <th>IsActiveMember</th>\n",
       "      <td>10000.0</td>\n",
       "      <td>5.151000e-01</td>\n",
       "      <td>0.499797</td>\n",
       "      <td>0.00</td>\n",
       "      <td>0.00</td>\n",
       "      <td>1.000000e+00</td>\n",
       "      <td>1.000000e+00</td>\n",
       "      <td>1.00</td>\n",
       "    </tr>\n",
       "    <tr>\n",
       "      <th>EstimatedSalary</th>\n",
       "      <td>10000.0</td>\n",
       "      <td>1.000902e+05</td>\n",
       "      <td>57510.492818</td>\n",
       "      <td>11.58</td>\n",
       "      <td>51002.11</td>\n",
       "      <td>1.001939e+05</td>\n",
       "      <td>1.493882e+05</td>\n",
       "      <td>199992.48</td>\n",
       "    </tr>\n",
       "    <tr>\n",
       "      <th>Exited</th>\n",
       "      <td>10000.0</td>\n",
       "      <td>2.037000e-01</td>\n",
       "      <td>0.402769</td>\n",
       "      <td>0.00</td>\n",
       "      <td>0.00</td>\n",
       "      <td>0.000000e+00</td>\n",
       "      <td>0.000000e+00</td>\n",
       "      <td>1.00</td>\n",
       "    </tr>\n",
       "  </tbody>\n",
       "</table>\n",
       "</div>"
      ],
      "text/plain": [
       "                   count          mean           std          min  \\\n",
       "RowNumber        10000.0  5.000500e+03   2886.895680         1.00   \n",
       "CustomerId       10000.0  1.569094e+07  71936.186123  15565701.00   \n",
       "CreditScore      10000.0  6.505288e+02     96.653299       350.00   \n",
       "Age              10000.0  3.892180e+01     10.487806        18.00   \n",
       "Tenure            9091.0  4.997690e+00      2.894723         0.00   \n",
       "Balance          10000.0  7.648589e+04  62397.405202         0.00   \n",
       "NumOfProducts    10000.0  1.530200e+00      0.581654         1.00   \n",
       "HasCrCard        10000.0  7.055000e-01      0.455840         0.00   \n",
       "IsActiveMember   10000.0  5.151000e-01      0.499797         0.00   \n",
       "EstimatedSalary  10000.0  1.000902e+05  57510.492818        11.58   \n",
       "Exited           10000.0  2.037000e-01      0.402769         0.00   \n",
       "\n",
       "                         25%           50%           75%          max  \n",
       "RowNumber            2500.75  5.000500e+03  7.500250e+03     10000.00  \n",
       "CustomerId       15628528.25  1.569074e+07  1.575323e+07  15815690.00  \n",
       "CreditScore           584.00  6.520000e+02  7.180000e+02       850.00  \n",
       "Age                    32.00  3.700000e+01  4.400000e+01        92.00  \n",
       "Tenure                  2.00  5.000000e+00  7.000000e+00        10.00  \n",
       "Balance                 0.00  9.719854e+04  1.276442e+05    250898.09  \n",
       "NumOfProducts           1.00  1.000000e+00  2.000000e+00         4.00  \n",
       "HasCrCard               0.00  1.000000e+00  1.000000e+00         1.00  \n",
       "IsActiveMember          0.00  1.000000e+00  1.000000e+00         1.00  \n",
       "EstimatedSalary     51002.11  1.001939e+05  1.493882e+05    199992.48  \n",
       "Exited                  0.00  0.000000e+00  0.000000e+00         1.00  "
      ]
     },
     "execution_count": 227,
     "metadata": {},
     "output_type": "execute_result"
    }
   ],
   "source": [
    "df.describe().T"
   ]
  },
  {
   "cell_type": "code",
   "execution_count": 228,
   "metadata": {},
   "outputs": [
    {
     "data": {
      "text/html": [
       "<div>\n",
       "<style scoped>\n",
       "    .dataframe tbody tr th:only-of-type {\n",
       "        vertical-align: middle;\n",
       "    }\n",
       "\n",
       "    .dataframe tbody tr th {\n",
       "        vertical-align: top;\n",
       "    }\n",
       "\n",
       "    .dataframe thead th {\n",
       "        text-align: right;\n",
       "    }\n",
       "</style>\n",
       "<table border=\"1\" class=\"dataframe\">\n",
       "  <thead>\n",
       "    <tr style=\"text-align: right;\">\n",
       "      <th></th>\n",
       "      <th>Surname</th>\n",
       "      <th>Geography</th>\n",
       "      <th>Gender</th>\n",
       "    </tr>\n",
       "  </thead>\n",
       "  <tbody>\n",
       "    <tr>\n",
       "      <th>count</th>\n",
       "      <td>10000</td>\n",
       "      <td>10000</td>\n",
       "      <td>10000</td>\n",
       "    </tr>\n",
       "    <tr>\n",
       "      <th>unique</th>\n",
       "      <td>2932</td>\n",
       "      <td>3</td>\n",
       "      <td>2</td>\n",
       "    </tr>\n",
       "    <tr>\n",
       "      <th>top</th>\n",
       "      <td>Smith</td>\n",
       "      <td>France</td>\n",
       "      <td>Male</td>\n",
       "    </tr>\n",
       "    <tr>\n",
       "      <th>freq</th>\n",
       "      <td>32</td>\n",
       "      <td>5014</td>\n",
       "      <td>5457</td>\n",
       "    </tr>\n",
       "  </tbody>\n",
       "</table>\n",
       "</div>"
      ],
      "text/plain": [
       "       Surname Geography Gender\n",
       "count    10000     10000  10000\n",
       "unique    2932         3      2\n",
       "top      Smith    France   Male\n",
       "freq        32      5014   5457"
      ]
     },
     "execution_count": 228,
     "metadata": {},
     "output_type": "execute_result"
    }
   ],
   "source": [
    "df.describe(include=['object', 'bool'])"
   ]
  },
  {
   "cell_type": "markdown",
   "metadata": {},
   "source": [
    "- Половина клиентов банка живет во Франции\n",
    "- Мужчин больше чем женщин на 457 человек\n",
    "- Редний возраст 39 лет\n",
    "- Средняя предполагаемая зарплата \t100 090\n",
    "- В среднем на счетах находится сумма примерно 76 485\n",
    "- В среднем люди являются 5 лет клиентами банка\n",
    "- 51.5% активных клиентов в банке\n",
    "- Практически 71% имеют кредитную карту\n",
    "- Примерно 20% клиентов ушли из банка"
   ]
  },
  {
   "cell_type": "markdown",
   "metadata": {},
   "source": [
    "Посмотрим на проценты ушедших и оставшихся клиентов за все время"
   ]
  },
  {
   "cell_type": "code",
   "execution_count": 229,
   "metadata": {},
   "outputs": [
    {
     "data": {
      "text/plain": [
       "0    0.7963\n",
       "1    0.2037\n",
       "Name: Exited, dtype: float64"
      ]
     },
     "execution_count": 229,
     "metadata": {},
     "output_type": "execute_result"
    }
   ],
   "source": [
    "df.Exited.value_counts(normalize=True)"
   ]
  },
  {
   "cell_type": "code",
   "execution_count": 230,
   "metadata": {},
   "outputs": [
    {
     "data": {
      "text/plain": [
       "<AxesSubplot:title={'center':'Баланс классов в обучаей выборке'}>"
      ]
     },
     "execution_count": 230,
     "metadata": {},
     "output_type": "execute_result"
    },
    {
     "data": {
      "image/png": "[encoded data removed]",
      "text/plain": [
       "<Figure size 432x288 with 1 Axes>"
      ]
     },
     "metadata": {
      "needs_background": "light"
     },
     "output_type": "display_data"
    }
   ],
   "source": [
    "# построим график для наглядности\n",
    "df['Exited'].value_counts().plot(kind='bar', grid=True, title='Баланс классов в обучаей выборке')"
   ]
  },
  {
   "cell_type": "markdown",
   "metadata": {},
   "source": [
    "**Вывод:**\n",
    "1. Имеем 10000 строк и 14 столбцов\n",
    "2. Есть как количественные (например Age, Tenure, Balance), так и качественные признаки (например Surname, Geography, Gender)\n",
    "3. Есть пропущенные данные. В столбце Tenure - сколько лет человек является клиентом банка, их, примерно, 9%\n",
    "4. Столбцы RowNumber, CustomerId, Surname, скорее всего, никак не влияют на принятие решения ухода из банка, думаю их можно удалить для ускорения работы\n",
    "5. Есть дисбалланс классов\n",
    "6. Масштаб признаков разный, поэтому, перед тем как приступить к обучению модели, необходимо их масштабировать"
   ]
  },
  {
   "cell_type": "markdown",
   "metadata": {},
   "source": [
    "**Пизнаки:**\n",
    "- CreditScore — кредитный рейтинг\n",
    "- Geography — страна проживания\n",
    "- Gender — пол\n",
    "- Age — возраст\n",
    "- Tenure — сколько лет человек является клиентом банка\n",
    "- Balance — баланс на счёте\n",
    "- NumOfProducts — количество продуктов банка, используемых клиентом\n",
    "- HasCrCard — наличие кредитной карты\n",
    "- IsActiveMember — активность клиента\n",
    "- EstimatedSalary — предполагаемая зарплата"
   ]
  },
  {
   "cell_type": "markdown",
   "metadata": {},
   "source": [
    "**Целевой признак:**\n",
    "- Exited — факт ухода клиента"
   ]
  },
  {
   "cell_type": "markdown",
   "metadata": {},
   "source": [
    "### Предобработка данных"
   ]
  },
  {
   "cell_type": "markdown",
   "metadata": {},
   "source": [
    "Удалим не влияющие на принятие решения ухода из банка данные - столбцы RowNumber, CustomerId, Surname"
   ]
  },
  {
   "cell_type": "code",
   "execution_count": 231,
   "metadata": {},
   "outputs": [
    {
     "name": "stdout",
     "output_type": "stream",
     "text": [
      "<class 'pandas.core.frame.DataFrame'>\n",
      "RangeIndex: 10000 entries, 0 to 9999\n",
      "Data columns (total 11 columns):\n",
      " #   Column           Non-Null Count  Dtype  \n",
      "---  ------           --------------  -----  \n",
      " 0   CreditScore      10000 non-null  int64  \n",
      " 1   Geography        10000 non-null  object \n",
      " 2   Gender           10000 non-null  object \n",
      " 3   Age              10000 non-null  int64  \n",
      " 4   Tenure           9091 non-null   float64\n",
      " 5   Balance          10000 non-null  float64\n",
      " 6   NumOfProducts    10000 non-null  int64  \n",
      " 7   HasCrCard        10000 non-null  int64  \n",
      " 8   IsActiveMember   10000 non-null  int64  \n",
      " 9   EstimatedSalary  10000 non-null  float64\n",
      " 10  Exited           10000 non-null  int64  \n",
      "dtypes: float64(3), int64(6), object(2)\n",
      "memory usage: 859.5+ KB\n"
     ]
    }
   ],
   "source": [
    "df = df.drop(['RowNumber', 'CustomerId', 'Surname'], axis=1)\n",
    "\n",
    "# проверим удаление на общей информации о данных\n",
    "df.info()"
   ]
  },
  {
   "cell_type": "markdown",
   "metadata": {},
   "source": [
    "**Посмотрим распределение признака Tenure — сколько лет человек является клиентом банка**"
   ]
  },
  {
   "cell_type": "code",
   "execution_count": 232,
   "metadata": {},
   "outputs": [
    {
     "name": "stdout",
     "output_type": "stream",
     "text": [
      "Количество пропусков в столбце Tenure: 909\n"
     ]
    }
   ],
   "source": [
    "print('Количество пропусков в столбце Tenure:', df['Tenure'].isnull().sum())"
   ]
  },
  {
   "cell_type": "code",
   "execution_count": 233,
   "metadata": {},
   "outputs": [
    {
     "data": {
      "text/plain": [
       "array([ 2.,  1.,  8.,  7.,  4.,  6.,  3., 10.,  5.,  9.,  0., nan])"
      ]
     },
     "execution_count": 233,
     "metadata": {},
     "output_type": "execute_result"
    }
   ],
   "source": [
    "df['Tenure'].unique()"
   ]
  },
  {
   "cell_type": "code",
   "execution_count": 234,
   "metadata": {},
   "outputs": [
    {
     "data": {
      "text/plain": [
       "<AxesSubplot:xlabel='Tenure', ylabel='Count'>"
      ]
     },
     "execution_count": 234,
     "metadata": {},
     "output_type": "execute_result"
    },
    {
     "data": {
      "image/png": "[encoded data removed]",
      "text/plain": [
       "<Figure size 432x288 with 1 Axes>"
      ]
     },
     "metadata": {
      "needs_background": "light"
     },
     "output_type": "display_data"
    }
   ],
   "source": [
    "sns.histplot(df['Tenure'], bins=11)"
   ]
  },
  {
   "cell_type": "markdown",
   "metadata": {},
   "source": [
    "Выведем на экран среднее арифметическое и медиану"
   ]
  },
  {
   "cell_type": "code",
   "execution_count": 235,
   "metadata": {},
   "outputs": [
    {
     "name": "stdout",
     "output_type": "stream",
     "text": [
      "Среднее арифметическое = 4.997690023099769\n",
      "Медиана = 5.0\n"
     ]
    }
   ],
   "source": [
    "print('Среднее арифметическое =', df['Tenure'].mean())\n",
    "print('Медиана =', df['Tenure'].median())"
   ]
  },
  {
   "cell_type": "markdown",
   "metadata": {},
   "source": [
    "Медиана и среднее арифметическое равны и достаточно высоки, не будем заполнять пропуски ними. Вероятнее всего пропуски у новых клиентов и поэтому заполним пропуски 0"
   ]
  },
  {
   "cell_type": "code",
   "execution_count": 236,
   "metadata": {},
   "outputs": [],
   "source": [
    "# заменим пропуски на 0\n",
    "df['Tenure'] = df['Tenure'].fillna(0)"
   ]
  },
  {
   "cell_type": "code",
   "execution_count": 237,
   "metadata": {},
   "outputs": [],
   "source": [
    "# переведем формат данных в int\n",
    "df['Tenure'] = df['Tenure'].astype('int')"
   ]
  },
  {
   "cell_type": "code",
   "execution_count": 238,
   "metadata": {},
   "outputs": [
    {
     "data": {
      "text/plain": [
       "0     1291\n",
       "1      952\n",
       "2      950\n",
       "8      933\n",
       "3      928\n",
       "5      927\n",
       "7      925\n",
       "4      885\n",
       "9      882\n",
       "6      881\n",
       "10     446\n",
       "Name: Tenure, dtype: int64"
      ]
     },
     "execution_count": 238,
     "metadata": {},
     "output_type": "execute_result"
    }
   ],
   "source": [
    "# проверим как сработала замена\n",
    "df['Tenure'].value_counts()"
   ]
  },
  {
   "cell_type": "code",
   "execution_count": 239,
   "metadata": {},
   "outputs": [
    {
     "data": {
      "text/plain": [
       "<AxesSubplot:xlabel='Tenure', ylabel='Count'>"
      ]
     },
     "execution_count": 239,
     "metadata": {},
     "output_type": "execute_result"
    },
    {
     "data": {
      "image/png": "[encoded data removed]",
      "text/plain": [
       "<Figure size 432x288 with 1 Axes>"
      ]
     },
     "metadata": {
      "needs_background": "light"
     },
     "output_type": "display_data"
    }
   ],
   "source": [
    "sns.histplot(df['Tenure'], bins=11)"
   ]
  },
  {
   "cell_type": "code",
   "execution_count": 240,
   "metadata": {},
   "outputs": [
    {
     "name": "stdout",
     "output_type": "stream",
     "text": [
      "<class 'pandas.core.frame.DataFrame'>\n",
      "RangeIndex: 10000 entries, 0 to 9999\n",
      "Data columns (total 11 columns):\n",
      " #   Column           Non-Null Count  Dtype  \n",
      "---  ------           --------------  -----  \n",
      " 0   CreditScore      10000 non-null  int64  \n",
      " 1   Geography        10000 non-null  object \n",
      " 2   Gender           10000 non-null  object \n",
      " 3   Age              10000 non-null  int64  \n",
      " 4   Tenure           10000 non-null  int64  \n",
      " 5   Balance          10000 non-null  float64\n",
      " 6   NumOfProducts    10000 non-null  int64  \n",
      " 7   HasCrCard        10000 non-null  int64  \n",
      " 8   IsActiveMember   10000 non-null  int64  \n",
      " 9   EstimatedSalary  10000 non-null  float64\n",
      " 10  Exited           10000 non-null  int64  \n",
      "dtypes: float64(2), int64(7), object(2)\n",
      "memory usage: 859.5+ KB\n"
     ]
    }
   ],
   "source": [
    "# проверим датасет\n",
    "df.info()"
   ]
  },
  {
   "cell_type": "markdown",
   "metadata": {},
   "source": [
    "- удалены ненужные столбцы\n",
    "- нет пропущенныхданных\n",
    "- данные переведены в правильный тип"
   ]
  },
  {
   "cell_type": "markdown",
   "metadata": {},
   "source": [
    "### Преобразование признаков"
   ]
  },
  {
   "cell_type": "markdown",
   "metadata": {},
   "source": [
    "Преобразуем категориальные признаки в численные используя технику прямого кодирования, вызовем функцию get_dummies() с аргументом drop_first. Такой подход позволит не попасть в дамми-ловушку, так как не создает большое количество фиктивных признаков."
   ]
  },
  {
   "cell_type": "code",
   "execution_count": 241,
   "metadata": {},
   "outputs": [
    {
     "data": {
      "text/html": [
       "<div>\n",
       "<style scoped>\n",
       "    .dataframe tbody tr th:only-of-type {\n",
       "        vertical-align: middle;\n",
       "    }\n",
       "\n",
       "    .dataframe tbody tr th {\n",
       "        vertical-align: top;\n",
       "    }\n",
       "\n",
       "    .dataframe thead th {\n",
       "        text-align: right;\n",
       "    }\n",
       "</style>\n",
       "<table border=\"1\" class=\"dataframe\">\n",
       "  <thead>\n",
       "    <tr style=\"text-align: right;\">\n",
       "      <th></th>\n",
       "      <th>CreditScore</th>\n",
       "      <th>Age</th>\n",
       "      <th>Tenure</th>\n",
       "      <th>Balance</th>\n",
       "      <th>NumOfProducts</th>\n",
       "      <th>HasCrCard</th>\n",
       "      <th>IsActiveMember</th>\n",
       "      <th>EstimatedSalary</th>\n",
       "      <th>Exited</th>\n",
       "      <th>Geography_Germany</th>\n",
       "      <th>Geography_Spain</th>\n",
       "      <th>Gender_Male</th>\n",
       "    </tr>\n",
       "  </thead>\n",
       "  <tbody>\n",
       "    <tr>\n",
       "      <th>0</th>\n",
       "      <td>619</td>\n",
       "      <td>42</td>\n",
       "      <td>2</td>\n",
       "      <td>0.00</td>\n",
       "      <td>1</td>\n",
       "      <td>1</td>\n",
       "      <td>1</td>\n",
       "      <td>101348.88</td>\n",
       "      <td>1</td>\n",
       "      <td>0</td>\n",
       "      <td>0</td>\n",
       "      <td>0</td>\n",
       "    </tr>\n",
       "    <tr>\n",
       "      <th>1</th>\n",
       "      <td>608</td>\n",
       "      <td>41</td>\n",
       "      <td>1</td>\n",
       "      <td>83807.86</td>\n",
       "      <td>1</td>\n",
       "      <td>0</td>\n",
       "      <td>1</td>\n",
       "      <td>112542.58</td>\n",
       "      <td>0</td>\n",
       "      <td>0</td>\n",
       "      <td>1</td>\n",
       "      <td>0</td>\n",
       "    </tr>\n",
       "    <tr>\n",
       "      <th>2</th>\n",
       "      <td>502</td>\n",
       "      <td>42</td>\n",
       "      <td>8</td>\n",
       "      <td>159660.80</td>\n",
       "      <td>3</td>\n",
       "      <td>1</td>\n",
       "      <td>0</td>\n",
       "      <td>113931.57</td>\n",
       "      <td>1</td>\n",
       "      <td>0</td>\n",
       "      <td>0</td>\n",
       "      <td>0</td>\n",
       "    </tr>\n",
       "    <tr>\n",
       "      <th>3</th>\n",
       "      <td>699</td>\n",
       "      <td>39</td>\n",
       "      <td>1</td>\n",
       "      <td>0.00</td>\n",
       "      <td>2</td>\n",
       "      <td>0</td>\n",
       "      <td>0</td>\n",
       "      <td>93826.63</td>\n",
       "      <td>0</td>\n",
       "      <td>0</td>\n",
       "      <td>0</td>\n",
       "      <td>0</td>\n",
       "    </tr>\n",
       "    <tr>\n",
       "      <th>4</th>\n",
       "      <td>850</td>\n",
       "      <td>43</td>\n",
       "      <td>2</td>\n",
       "      <td>125510.82</td>\n",
       "      <td>1</td>\n",
       "      <td>1</td>\n",
       "      <td>1</td>\n",
       "      <td>79084.10</td>\n",
       "      <td>0</td>\n",
       "      <td>0</td>\n",
       "      <td>1</td>\n",
       "      <td>0</td>\n",
       "    </tr>\n",
       "  </tbody>\n",
       "</table>\n",
       "</div>"
      ],
      "text/plain": [
       "   CreditScore  Age  Tenure    Balance  NumOfProducts  HasCrCard  \\\n",
       "0          619   42       2       0.00              1          1   \n",
       "1          608   41       1   83807.86              1          0   \n",
       "2          502   42       8  159660.80              3          1   \n",
       "3          699   39       1       0.00              2          0   \n",
       "4          850   43       2  125510.82              1          1   \n",
       "\n",
       "   IsActiveMember  EstimatedSalary  Exited  Geography_Germany  \\\n",
       "0               1        101348.88       1                  0   \n",
       "1               1        112542.58       0                  0   \n",
       "2               0        113931.57       1                  0   \n",
       "3               0         93826.63       0                  0   \n",
       "4               1         79084.10       0                  0   \n",
       "\n",
       "   Geography_Spain  Gender_Male  \n",
       "0                0            0  \n",
       "1                1            0  \n",
       "2                0            0  \n",
       "3                0            0  \n",
       "4                1            0  "
      ]
     },
     "execution_count": 241,
     "metadata": {},
     "output_type": "execute_result"
    }
   ],
   "source": [
    "df_ohe = pd.get_dummies(df, drop_first=True)\n",
    "# выведем на экран первые 5 строк датасета\n",
    "df_ohe.head()"
   ]
  },
  {
   "cell_type": "code",
   "execution_count": 242,
   "metadata": {},
   "outputs": [
    {
     "data": {
      "text/plain": [
       "CreditScore            int64\n",
       "Age                    int64\n",
       "Tenure                 int64\n",
       "Balance              float64\n",
       "NumOfProducts          int64\n",
       "HasCrCard              int64\n",
       "IsActiveMember         int64\n",
       "EstimatedSalary      float64\n",
       "Exited                 int64\n",
       "Geography_Germany      uint8\n",
       "Geography_Spain        uint8\n",
       "Gender_Male            uint8\n",
       "dtype: object"
      ]
     },
     "execution_count": 242,
     "metadata": {},
     "output_type": "execute_result"
    }
   ],
   "source": [
    "# проверим типы данных столбцов\n",
    "df_ohe.dtypes"
   ]
  },
  {
   "cell_type": "markdown",
   "metadata": {},
   "source": [
    "### Разобьем данные на выборки"
   ]
  },
  {
   "cell_type": "code",
   "execution_count": 243,
   "metadata": {},
   "outputs": [],
   "source": [
    "target = df_ohe['Exited']\n",
    "features = df_ohe.drop('Exited', axis=1)"
   ]
  },
  {
   "cell_type": "markdown",
   "metadata": {},
   "source": [
    "Методом train_test_split разделим исходные данные на обучающую (60%) и валидационную выборку (40%)"
   ]
  },
  {
   "cell_type": "code",
   "execution_count": 244,
   "metadata": {},
   "outputs": [],
   "source": [
    "features_train, features_valid, target_train, target_valid = train_test_split(features, \n",
    "                                                                              target, \n",
    "                                                                              train_size=0.60, \n",
    "                                                                              test_size=0.40, \n",
    "                                                                              random_state=123, \n",
    "                                                                              stratify=target)"
   ]
  },
  {
   "cell_type": "markdown",
   "metadata": {},
   "source": [
    "Разделим валидационную выборку пополам — на валидационную и тестовую выборки,каждая из этих 2-х выборок составит 20% из всех данных df_ohe"
   ]
  },
  {
   "cell_type": "code",
   "execution_count": 245,
   "metadata": {},
   "outputs": [],
   "source": [
    "features_valid, features_test, target_valid, target_test = train_test_split(features_valid, \n",
    "                                                                            target_valid, \n",
    "                                                                            train_size=0.50, \n",
    "                                                                            test_size=0.50, \n",
    "                                                                            random_state=123, \n",
    "                                                                            stratify=target_valid)"
   ]
  },
  {
   "cell_type": "code",
   "execution_count": 246,
   "metadata": {},
   "outputs": [
    {
     "name": "stdout",
     "output_type": "stream",
     "text": [
      "Размер обучающей выбоки: (6000, 11)\n",
      "Размер валидационной выбоки: (2000, 11)\n",
      "Размер тестовой выбоки: (2000, 11)\n"
     ]
    }
   ],
   "source": [
    "# проверим\n",
    "print('Размер обучающей выбоки:', features_train.shape)\n",
    "print('Размер валидационной выбоки:', features_valid.shape)\n",
    "print('Размер тестовой выбоки:', features_test.shape)"
   ]
  },
  {
   "cell_type": "markdown",
   "metadata": {},
   "source": [
    "### Масштабирование численных признаков"
   ]
  },
  {
   "cell_type": "markdown",
   "metadata": {},
   "source": [
    "Масштаб признаков очень сильно отличается. Это может отрицательно повлиять на работу будущей модели (алгоритм может решить, что признак с более высокими значениями более важен чем другие признаки), поэтому признаки необходимо масштабировать. Приведем признаки к одному масштабу. Для этого будем использовать структуру для стандартизации данных из библиотеке sklearn — StandardScaler. В переменной numeric запишем список всех численных признаков."
   ]
  },
  {
   "cell_type": "code",
   "execution_count": 247,
   "metadata": {},
   "outputs": [
    {
     "data": {
      "text/plain": [
       "StandardScaler()"
      ]
     },
     "execution_count": 247,
     "metadata": {},
     "output_type": "execute_result"
    }
   ],
   "source": [
    "# создадим объект этой структуры и настроим его на обучающих данных\n",
    "numeric = ['CreditScore', 'Age','Tenure', 'Balance', 'NumOfProducts', 'EstimatedSalary']\n",
    "\n",
    "scaler = StandardScaler()\n",
    "scaler.fit(features_train[numeric]) "
   ]
  },
  {
   "cell_type": "markdown",
   "metadata": {},
   "source": [
    "Преобразуем обучающую, валидационную и тестовую выборки функцией transform()"
   ]
  },
  {
   "cell_type": "code",
   "execution_count": 248,
   "metadata": {},
   "outputs": [],
   "source": [
    "features_train[numeric] = scaler.transform(features_train[numeric])\n",
    "features_valid[numeric] = scaler.transform(features_valid[numeric])\n",
    "features_test[numeric] = scaler.transform(features_test[numeric])"
   ]
  },
  {
   "cell_type": "code",
   "execution_count": 249,
   "metadata": {},
   "outputs": [
    {
     "data": {
      "text/html": [
       "<div>\n",
       "<style scoped>\n",
       "    .dataframe tbody tr th:only-of-type {\n",
       "        vertical-align: middle;\n",
       "    }\n",
       "\n",
       "    .dataframe tbody tr th {\n",
       "        vertical-align: top;\n",
       "    }\n",
       "\n",
       "    .dataframe thead th {\n",
       "        text-align: right;\n",
       "    }\n",
       "</style>\n",
       "<table border=\"1\" class=\"dataframe\">\n",
       "  <thead>\n",
       "    <tr style=\"text-align: right;\">\n",
       "      <th></th>\n",
       "      <th>CreditScore</th>\n",
       "      <th>Age</th>\n",
       "      <th>Tenure</th>\n",
       "      <th>Balance</th>\n",
       "      <th>NumOfProducts</th>\n",
       "      <th>HasCrCard</th>\n",
       "      <th>IsActiveMember</th>\n",
       "      <th>EstimatedSalary</th>\n",
       "      <th>Geography_Germany</th>\n",
       "      <th>Geography_Spain</th>\n",
       "      <th>Gender_Male</th>\n",
       "    </tr>\n",
       "  </thead>\n",
       "  <tbody>\n",
       "    <tr>\n",
       "      <th>6255</th>\n",
       "      <td>-1.081763</td>\n",
       "      <td>1.561078</td>\n",
       "      <td>-1.463231</td>\n",
       "      <td>0.567612</td>\n",
       "      <td>2.552230</td>\n",
       "      <td>1</td>\n",
       "      <td>0</td>\n",
       "      <td>-1.444757</td>\n",
       "      <td>1</td>\n",
       "      <td>0</td>\n",
       "      <td>1</td>\n",
       "    </tr>\n",
       "    <tr>\n",
       "      <th>7141</th>\n",
       "      <td>1.083241</td>\n",
       "      <td>-0.091611</td>\n",
       "      <td>-1.140673</td>\n",
       "      <td>0.097622</td>\n",
       "      <td>-0.926107</td>\n",
       "      <td>0</td>\n",
       "      <td>1</td>\n",
       "      <td>-1.559126</td>\n",
       "      <td>1</td>\n",
       "      <td>0</td>\n",
       "      <td>0</td>\n",
       "    </tr>\n",
       "    <tr>\n",
       "      <th>3824</th>\n",
       "      <td>0.167278</td>\n",
       "      <td>0.491691</td>\n",
       "      <td>-1.463231</td>\n",
       "      <td>0.751314</td>\n",
       "      <td>-0.926107</td>\n",
       "      <td>0</td>\n",
       "      <td>0</td>\n",
       "      <td>-1.476028</td>\n",
       "      <td>0</td>\n",
       "      <td>0</td>\n",
       "      <td>1</td>\n",
       "    </tr>\n",
       "    <tr>\n",
       "      <th>1901</th>\n",
       "      <td>1.509997</td>\n",
       "      <td>2.727681</td>\n",
       "      <td>0.149559</td>\n",
       "      <td>-1.219982</td>\n",
       "      <td>0.813061</td>\n",
       "      <td>0</td>\n",
       "      <td>1</td>\n",
       "      <td>-0.786010</td>\n",
       "      <td>0</td>\n",
       "      <td>1</td>\n",
       "      <td>1</td>\n",
       "    </tr>\n",
       "    <tr>\n",
       "      <th>2886</th>\n",
       "      <td>-2.101813</td>\n",
       "      <td>-0.188828</td>\n",
       "      <td>0.472117</td>\n",
       "      <td>-1.219982</td>\n",
       "      <td>0.813061</td>\n",
       "      <td>1</td>\n",
       "      <td>0</td>\n",
       "      <td>-0.312019</td>\n",
       "      <td>0</td>\n",
       "      <td>0</td>\n",
       "      <td>0</td>\n",
       "    </tr>\n",
       "  </tbody>\n",
       "</table>\n",
       "</div>"
      ],
      "text/plain": [
       "      CreditScore       Age    Tenure   Balance  NumOfProducts  HasCrCard  \\\n",
       "6255    -1.081763  1.561078 -1.463231  0.567612       2.552230          1   \n",
       "7141     1.083241 -0.091611 -1.140673  0.097622      -0.926107          0   \n",
       "3824     0.167278  0.491691 -1.463231  0.751314      -0.926107          0   \n",
       "1901     1.509997  2.727681  0.149559 -1.219982       0.813061          0   \n",
       "2886    -2.101813 -0.188828  0.472117 -1.219982       0.813061          1   \n",
       "\n",
       "      IsActiveMember  EstimatedSalary  Geography_Germany  Geography_Spain  \\\n",
       "6255               0        -1.444757                  1                0   \n",
       "7141               1        -1.559126                  1                0   \n",
       "3824               0        -1.476028                  0                0   \n",
       "1901               1        -0.786010                  0                1   \n",
       "2886               0        -0.312019                  0                0   \n",
       "\n",
       "      Gender_Male  \n",
       "6255            1  \n",
       "7141            0  \n",
       "3824            1  \n",
       "1901            1  \n",
       "2886            0  "
      ]
     },
     "execution_count": 249,
     "metadata": {},
     "output_type": "execute_result"
    }
   ],
   "source": [
    "# проверим результат\n",
    "features_train.head()"
   ]
  },
  {
   "cell_type": "markdown",
   "metadata": {},
   "source": [
    "- Признаки имеют одинаковый масштаб, можем перейти к исследованию задачи."
   ]
  },
  {
   "cell_type": "markdown",
   "metadata": {},
   "source": [
    "**Вывод:**\n",
    "1. Был проведен анализ и предобработка данных\n",
    "2. Датасет был очищен от лишних столбцов\n",
    "3. Были заполнены пропуски\n",
    "4. Данные были перведены в требуемый вид с помощью команды get_dummy.\n",
    "5. Численные признаки масштабированный с помощью StandardScaler.\n",
    "6. Датасет был разбит на три выборки с целью обучения, валидации и тестирования моделей."
   ]
  },
  {
   "cell_type": "markdown",
   "metadata": {},
   "source": [
    "## Исследование задачи"
   ]
  },
  {
   "cell_type": "markdown",
   "metadata": {},
   "source": [
    "### Проверим баланс классов"
   ]
  },
  {
   "cell_type": "code",
   "execution_count": 250,
   "metadata": {},
   "outputs": [
    {
     "data": {
      "text/plain": [
       "0    7963\n",
       "1    2037\n",
       "Name: Exited, dtype: int64"
      ]
     },
     "execution_count": 250,
     "metadata": {},
     "output_type": "execute_result"
    }
   ],
   "source": [
    "df_ohe['Exited'].value_counts()"
   ]
  },
  {
   "cell_type": "markdown",
   "metadata": {},
   "source": [
    "Во сколько значение '0' привышает над значением '1':"
   ]
  },
  {
   "cell_type": "code",
   "execution_count": 251,
   "metadata": {},
   "outputs": [
    {
     "data": {
      "text/plain": [
       "3.9091801669121256"
      ]
     },
     "execution_count": 251,
     "metadata": {},
     "output_type": "execute_result"
    }
   ],
   "source": [
    "df_ohe['Exited'].value_counts()[0] / df_ohe['Exited'].value_counts()[1]"
   ]
  },
  {
   "cell_type": "code",
   "execution_count": 252,
   "metadata": {},
   "outputs": [
    {
     "data": {
      "text/plain": [
       "<AxesSubplot:title={'center':'Баланс классов в обучаей выборке'}>"
      ]
     },
     "execution_count": 252,
     "metadata": {},
     "output_type": "execute_result"
    },
    {
     "data": {
      "image/png": "[encoded data removed]",
      "text/plain": [
       "<Figure size 432x288 with 1 Axes>"
      ]
     },
     "metadata": {
      "needs_background": "light"
     },
     "output_type": "display_data"
    }
   ],
   "source": [
    "# построим график для наглядности\n",
    "df['Exited'].value_counts().plot(kind='bar', grid=True, title='Баланс классов в обучаей выборке')"
   ]
  },
  {
   "cell_type": "markdown",
   "metadata": {},
   "source": [
    "Видим, что классы не сбалансированы"
   ]
  },
  {
   "cell_type": "markdown",
   "metadata": {},
   "source": [
    "### Обучим модель без учета дисбаланса"
   ]
  },
  {
   "cell_type": "markdown",
   "metadata": {},
   "source": [
    "Рассмотрим следующие модели классификации:\n",
    "- дерево принятия решений (Decision Tree Classifier)\n",
    "- случайный лес (Random Forest Classifier)\n",
    "- логистическая регрессия (Logistic Regression)."
   ]
  },
  {
   "cell_type": "markdown",
   "metadata": {},
   "source": [
    "Для каждой модели посчитаем accuracy (правильность модели), f1-меру (среднее гармоническое полноты и точности) и построим матрицу ошибок"
   ]
  },
  {
   "cell_type": "markdown",
   "metadata": {},
   "source": [
    "#### Решающее дерево\n",
    "\n",
    "Выделим гиперпараметры для настройки модели:\n",
    "- max_depth - максимальная глубина древа\n",
    "- min_samples_split - минимальное количество объектов в узле\n",
    "- min_samples_leaf - минимальное количество объектов в листе\n",
    "- criterion (\"gini\" или \"entropy\") - функция измерения качества разделения"
   ]
  },
  {
   "cell_type": "code",
   "execution_count": 253,
   "metadata": {},
   "outputs": [
    {
     "name": "stdout",
     "output_type": "stream",
     "text": [
      "Наилучшая метрика f1: 0.576\n",
      "Парамтеры модели:\n",
      "   max_depth = 7\n",
      "   min_samples_split = 2\n",
      "   min_samples_leaf = 5\n",
      "   criterion = gini \n",
      "\n",
      "CPU times: user 11 s, sys: 20.1 ms, total: 11 s\n",
      "Wall time: 11 s\n"
     ]
    }
   ],
   "source": [
    "%%time\n",
    "# best_params_f1 - наилучшие параметры для модели и и best_f1 - наивысшая f1 метрика\n",
    "best_params_f1 = []\n",
    "best_dtc_f1 = 0\n",
    "\n",
    "# проходим в циклах по всем выбранным гиперпараметрам\n",
    "for max_depth in range(2,10):\n",
    "        for min_samples_split in range(2,6):\n",
    "            for min_samples_leaf in range(1,10):\n",
    "                for criterion in ['gini', 'entropy']:\n",
    "                    # инициация модели с текущими гиперпараметрами\n",
    "                    dtc = DecisionTreeClassifier(random_state=123,\n",
    "                                                          max_depth=max_depth,\n",
    "                                                          min_samples_split=min_samples_split,\n",
    "                                                          min_samples_leaf=min_samples_leaf,\n",
    "                                                          criterion=criterion)\n",
    "                    # обучение модели на тренировочной выборке\n",
    "                    dtc.fit(features_train, target_train)\n",
    "                    # f1-мера\n",
    "                    dtc_f1 = f1_score(target_valid, dtc.predict(features_valid))\n",
    "                    if dtc_f1 > best_dtc_f1:\n",
    "                        best_params_f1 = [max_depth, min_samples_split, min_samples_leaf, criterion]\n",
    "                        best_dtc_f1 = dtc_f1\n",
    "print('''Наилучшая метрика f1: {}\n",
    "Парамтеры модели:\n",
    "   max_depth = {}\n",
    "   min_samples_split = {}\n",
    "   min_samples_leaf = {}\n",
    "   criterion = {} \\n'''.format(round(best_dtc_f1, 3),\n",
    "                             best_params_f1[0],\n",
    "                             best_params_f1[1],\n",
    "                             best_params_f1[2],\n",
    "                             best_params_f1[3]\n",
    "                            ))\n"
   ]
  },
  {
   "cell_type": "markdown",
   "metadata": {},
   "source": [
    "Примим эти гиперпараметры для решающего дерева"
   ]
  },
  {
   "cell_type": "code",
   "execution_count": 254,
   "metadata": {},
   "outputs": [
    {
     "name": "stdout",
     "output_type": "stream",
     "text": [
      "Accuracy решающего дерева: 0.8535\n",
      "f1_score решающего дерева: 0.5759768451519537\n",
      "CPU times: user 43.1 ms, sys: 39.7 ms, total: 82.8 ms\n",
      "Wall time: 59.5 ms\n"
     ]
    },
    {
     "data": {
      "text/plain": [
       "<AxesSubplot:>"
      ]
     },
     "execution_count": 254,
     "metadata": {},
     "output_type": "execute_result"
    },
    {
     "data": {
      "image/png": "[encoded data removed]",
      "text/plain": [
       "<Figure size 432x288 with 1 Axes>"
      ]
     },
     "metadata": {
      "needs_background": "light"
     },
     "output_type": "display_data"
    }
   ],
   "source": [
    "%%time\n",
    "# инициация модели\n",
    "dtc = DecisionTreeClassifier(random_state=123,\n",
    "                             max_depth=7,\n",
    "                             min_samples_split=2,\n",
    "                             min_samples_leaf=5,\n",
    "                             criterion='gini')\n",
    "# обучение модели на тренировочной выборке\n",
    "dtc.fit(features_train, target_train)\n",
    "\n",
    "# accuracy\n",
    "dtc_accuracy = accuracy_score(target_valid, dtc.predict(features_valid))\n",
    "\n",
    "# f1-мера\n",
    "dtc_f1 = f1_score(target_valid, dtc.predict(features_valid))\n",
    "\n",
    "# матрица ошибок\n",
    "dtc_cm = confusion_matrix(target_valid, dtc.predict(features_valid))\n",
    "\n",
    "print('Accuracy решающего дерева:', dtc_accuracy)\n",
    "print('f1_score решающего дерева:', dtc_f1)\n",
    "sns.heatmap(dtc_cm,annot=True,cmap=\"Blues\",fmt=\"d\",cbar=False)"
   ]
  },
  {
   "cell_type": "markdown",
   "metadata": {},
   "source": [
    "- Наилучшая метрика f1 для решающего дерева 0.5759768451519537 (не достаточно по техническому заданию).\n",
    "- Попробуем улучшить результат на других моделях"
   ]
  },
  {
   "cell_type": "markdown",
   "metadata": {},
   "source": [
    "#### Случайный лес\n",
    "\n",
    "Выделим гиперпараметры для настройки модели:\n",
    "- n_estimators - количество деревьев\n",
    "- max_depth - максимальная глубина древа\n",
    "- min_samples_split - минимальное количество объектов в узле\n",
    "- min_samples_leaf - минимальное количество объектов в листе"
   ]
  },
  {
   "cell_type": "code",
   "execution_count": 255,
   "metadata": {},
   "outputs": [
    {
     "name": "stdout",
     "output_type": "stream",
     "text": [
      "Наилучшая метрика f1: 0.574\n",
      "Парамтеры модели:\n",
      "    n_estimators = 37\n",
      "    max_depth = 16\n",
      "    min_samples_split = 4\n",
      "    min_samples_leaf = 1 \n",
      "\n",
      "CPU times: user 1min 24s, sys: 225 ms, total: 1min 25s\n",
      "Wall time: 1min 25s\n"
     ]
    }
   ],
   "source": [
    "%%time\n",
    "# best_params_f1 - наилучшие параметры для модели и и best_f1 - наивысшая f1 метрика\n",
    "best_params_f1 = []\n",
    "best_rfc_f1 = 0\n",
    "\n",
    "# проходим в циклах по всем выбранным гиперпараметрам\n",
    "for n_estimators in range(30,40):\n",
    "        for max_depth in range(10,17,2):\n",
    "            for min_samples_split in range(2,5):\n",
    "                for min_samples_leaf in range(1,4):\n",
    "                    # инициация модели с текущими гиперпараметрами\n",
    "                    rfc = RandomForestClassifier(random_state=123,\n",
    "                                                          n_estimators=n_estimators,\n",
    "                                                          max_depth=max_depth,\n",
    "                                                          min_samples_split=min_samples_split,\n",
    "                                                          min_samples_leaf=min_samples_leaf)\n",
    "                    # обучение модели на тренировочной выборке\n",
    "                    rfc.fit(features_train, target_train)\n",
    "                    # вычисление f1 модели методом f1_score\n",
    "                    rfc_f1 = f1_score(target_valid, rfc.predict(features_valid))\n",
    "                    # если текущее значение метрики f1 выше предыдущего лучшего значения, \n",
    "                    # сохраняем параметры модели и текущую метрику f1\n",
    "                    if rfc_f1 > best_rfc_f1:\n",
    "                        best_params_f1 = [n_estimators, max_depth, min_samples_split, min_samples_leaf]\n",
    "                        best_rfc_f1 = rfc_f1\n",
    "# вывод наилучшей метрики f1 и параметров модели.\n",
    "print('''Наилучшая метрика f1: {}\n",
    "Парамтеры модели:\n",
    "    n_estimators = {}\n",
    "    max_depth = {}\n",
    "    min_samples_split = {}\n",
    "    min_samples_leaf = {} \\n'''.format(round(best_rfc_f1, 3),\n",
    "                              best_params_f1[0],\n",
    "                              best_params_f1[1],\n",
    "                              best_params_f1[2],\n",
    "                              best_params_f1[3]\n",
    "                             ))                        "
   ]
  },
  {
   "cell_type": "markdown",
   "metadata": {},
   "source": [
    "Примим эти гиперпараметры для случайного леса"
   ]
  },
  {
   "cell_type": "code",
   "execution_count": 256,
   "metadata": {},
   "outputs": [
    {
     "name": "stdout",
     "output_type": "stream",
     "text": [
      "Accuracy случайного леса: 0.8605\n",
      "f1_score случайного леса: 0.5740458015267175\n",
      "CPU times: user 331 ms, sys: 23.4 ms, total: 355 ms\n",
      "Wall time: 359 ms\n"
     ]
    },
    {
     "data": {
      "text/plain": [
       "<AxesSubplot:>"
      ]
     },
     "execution_count": 256,
     "metadata": {},
     "output_type": "execute_result"
    },
    {
     "data": {
      "image/png": "[encoded data removed]",
      "text/plain": [
       "<Figure size 432x288 with 1 Axes>"
      ]
     },
     "metadata": {
      "needs_background": "light"
     },
     "output_type": "display_data"
    }
   ],
   "source": [
    "%%time\n",
    "# инициация модели с выбраными гиперпараметрами\n",
    "rfc = RandomForestClassifier(random_state=123,\n",
    "                                      n_estimators=37,\n",
    "                                      max_depth=16,\n",
    "                                      min_samples_split=4,\n",
    "                                      min_samples_leaf=1)\n",
    "# обучение модели на тренировочной выборке\n",
    "rfc.fit(features_train, target_train)\n",
    "\n",
    "# accuracy\n",
    "rfc_accuracy = accuracy_score(target_valid, rfc.predict(features_valid))\n",
    "\n",
    "# f1-мера\n",
    "rfc_f1 = f1_score(target_valid, rfc.predict(features_valid))\n",
    "\n",
    "# матрица ошибок\n",
    "rfc_cm = confusion_matrix(target_valid, rfc.predict(features_valid))\n",
    "\n",
    "print('Accuracy случайного леса:', rfc_accuracy)\n",
    "print('f1_score случайного леса:', rfc_f1)\n",
    "sns.heatmap(rfc_cm,annot=True,cmap=\"Blues\",fmt=\"d\",cbar=False)"
   ]
  },
  {
   "cell_type": "markdown",
   "metadata": {},
   "source": [
    "- Наилучшая метрика f1 для решающего дерева 0.5740458015267175 (не достаточно по техническому заданию).\n",
    "- Попробуем улучшить результат на других моделях"
   ]
  },
  {
   "cell_type": "markdown",
   "metadata": {},
   "source": [
    "#### Логистическая регрессия\n",
    "\n",
    "Выделим гиперпараметры для настройки модели:\n",
    "- С - инверсия силы регуляризации"
   ]
  },
  {
   "cell_type": "code",
   "execution_count": 257,
   "metadata": {},
   "outputs": [
    {
     "name": "stdout",
     "output_type": "stream",
     "text": [
      "Наилучшая метрика f1: 0.306\n",
      "Парамтеры модели:\n",
      "   C = 1 \n",
      "CPU times: user 5.43 s, sys: 7.59 s, total: 13 s\n",
      "Wall time: 13 s\n"
     ]
    }
   ],
   "source": [
    "%%time\n",
    "# best_params_f1 - наилучшие параметры для модели и и best_f1 - наивысшая f1 метрика\n",
    "best_params_f1 = []\n",
    "best_lr_f1 = 0\n",
    "\n",
    "# проходим в циклах по всем выбранным гиперпараметрам\n",
    "for C in range(1, 100):\n",
    "    lr = LogisticRegression(random_state=123, C=C, max_iter=1000, solver='liblinear')\n",
    "    # обучение модели на тренировочной выборке\n",
    "    lr.fit(features_train, target_train)\n",
    "\n",
    "    # вычисление f1 модели методом f1_score\n",
    "    lr_f1 = f1_score(target_valid, lr.predict(features_valid))\n",
    "    # если текущее значение метрики f1 выше предыдущего лучшего значения, сохраняем параметры модели и текущую метрику f1\n",
    "    if lr_f1 > best_lr_f1:\n",
    "        best_params_f1 = [C]\n",
    "        best_lr_f1 = lr_f1\n",
    "        \n",
    "# вывод наилучшей метрики f1 и параметров модели.\n",
    "print('''Наилучшая метрика f1: {}\n",
    "Парамтеры модели:\n",
    "   C = {} '''.format(round(best_lr_f1, 3),\n",
    "                             best_params_f1[0]\n",
    "                            ))          "
   ]
  },
  {
   "cell_type": "markdown",
   "metadata": {},
   "source": [
    "Примим эти гиперпараметры для логистической регрессии"
   ]
  },
  {
   "cell_type": "code",
   "execution_count": 258,
   "metadata": {},
   "outputs": [
    {
     "name": "stdout",
     "output_type": "stream",
     "text": [
      "Accuracy логистической регресси: 0.8045\n",
      "f1_score логистической регресси: 0.30550621669627\n",
      "CPU times: user 149 ms, sys: 210 ms, total: 360 ms\n",
      "Wall time: 408 ms\n"
     ]
    },
    {
     "data": {
      "text/plain": [
       "<AxesSubplot:>"
      ]
     },
     "execution_count": 258,
     "metadata": {},
     "output_type": "execute_result"
    },
    {
     "data": {
      "image/png": "[encoded data removed]",
      "text/plain": [
       "<Figure size 432x288 with 1 Axes>"
      ]
     },
     "metadata": {
      "needs_background": "light"
     },
     "output_type": "display_data"
    }
   ],
   "source": [
    "%%time\n",
    "# инициация модели с выбраными гиперпараметрами\n",
    "lr = LogisticRegression(random_state=123, C=1, max_iter=1000, solver='liblinear')\n",
    "# обучение модели на тренировочной выборке\n",
    "lr.fit(features_train, target_train)\n",
    "\n",
    "# accuracy\n",
    "lr_accuracy = accuracy_score(target_valid, lr.predict(features_valid))\n",
    "\n",
    "# f1-мера\n",
    "lr_f1 = f1_score(target_valid, lr.predict(features_valid))\n",
    "\n",
    "# матрица ошибок\n",
    "lr_cm = confusion_matrix(target_valid, lr.predict(features_valid))\n",
    "\n",
    "print('Accuracy логистической регресси:', lr_accuracy)\n",
    "print('f1_score логистической регресси:', lr_f1)\n",
    "sns.heatmap(lr_cm,annot=True,cmap=\"Blues\",fmt=\"d\",cbar=False)"
   ]
  },
  {
   "cell_type": "markdown",
   "metadata": {},
   "source": [
    "- Логистическая регрессия чаще предсказывает ложно-отрицательные значения и в 2 раза реже истинно-положительные\n",
    "- Наилучшая метрика f1 для логистической регрессии 0.305 (хуже, чем на остальных моделях)\n",
    "- Попробуем улучшить результат, разобравшись с дисбалансом классов"
   ]
  },
  {
   "cell_type": "markdown",
   "metadata": {},
   "source": [
    "### Построим ROC-кривую и высчислим площади под этой линией"
   ]
  },
  {
   "cell_type": "code",
   "execution_count": 259,
   "metadata": {},
   "outputs": [],
   "source": [
    "# чтобы не писать один и тот же код для каждой модели создадим функцию для построения ROC-кривой и высчисления площади под этой линией\n",
    "\n",
    "def roc_curve_plot (model, name):\n",
    "    probabilities_valid = model.predict_proba(features_valid)\n",
    "    probabilities_one_valid = probabilities_valid[:, 1]\n",
    "    \n",
    "    auc_roc = roc_auc_score(target_valid, probabilities_one_valid)\n",
    "    \n",
    "    fpr, tpr, thresholds = roc_curve(target_valid, probabilities_one_valid) \n",
    "    \n",
    "    plt.figure(figsize=(8,4))\n",
    "\n",
    "    plt.plot(fpr, tpr, color='blue')\n",
    "    plt.plot([0, 1], [0, 1], linestyle='--', color='red')\n",
    "\n",
    "    plt.xlim([0.0, 1.0])\n",
    "    plt.ylim([0.0, 1.0])\n",
    "\n",
    "    plt.xlabel('Ложноположительные ответы')\n",
    "    plt.ylabel('Истинно положительные ответы')\n",
    "\n",
    "    plt.title('ROC-кривая модели {}'.format(name))\n",
    "    \n",
    "    plt.show()\n",
    "    print('AUC-ROC модели {} = {:.3}'.format(name, auc_roc))"
   ]
  },
  {
   "cell_type": "code",
   "execution_count": 260,
   "metadata": {},
   "outputs": [
    {
     "data": {
      "image/png": "[encoded data removed]",
      "text/plain": [
       "<Figure size 576x288 with 1 Axes>"
      ]
     },
     "metadata": {
      "needs_background": "light"
     },
     "output_type": "display_data"
    },
    {
     "name": "stdout",
     "output_type": "stream",
     "text": [
      "AUC-ROC модели dtc = 0.822\n"
     ]
    }
   ],
   "source": [
    "roc_curve_plot (dtc, 'dtc')"
   ]
  },
  {
   "cell_type": "code",
   "execution_count": 261,
   "metadata": {},
   "outputs": [
    {
     "data": {
      "image/png": "[encoded data removed]",
      "text/plain": [
       "<Figure size 576x288 with 1 Axes>"
      ]
     },
     "metadata": {
      "needs_background": "light"
     },
     "output_type": "display_data"
    },
    {
     "name": "stdout",
     "output_type": "stream",
     "text": [
      "AUC-ROC модели rfc = 0.839\n"
     ]
    }
   ],
   "source": [
    "roc_curve_plot (rfc, 'rfc')"
   ]
  },
  {
   "cell_type": "code",
   "execution_count": 262,
   "metadata": {},
   "outputs": [
    {
     "data": {
      "image/png": "[encoded data removed]",
      "text/plain": [
       "<Figure size 576x288 with 1 Axes>"
      ]
     },
     "metadata": {
      "needs_background": "light"
     },
     "output_type": "display_data"
    },
    {
     "name": "stdout",
     "output_type": "stream",
     "text": [
      "AUC-ROC модели lr = 0.732\n"
     ]
    }
   ],
   "source": [
    "roc_curve_plot (lr, 'lr')"
   ]
  },
  {
   "cell_type": "markdown",
   "metadata": {},
   "source": [
    "- Кривая ошибок модели случайного леса лучше, чем логистической регрессии и дерева решений"
   ]
  },
  {
   "cell_type": "markdown",
   "metadata": {},
   "source": [
    "**Вывод:**\n",
    "1. В ходе исследования были рассмотрены 3 модели, решающие задачу классификации:\n",
    "- Логистическая регрессия;\n",
    "- Дерево решений;\n",
    "- Случайный лес.\n",
    "2. Для каждой из моделей вывели следующие метрики: accuracy_score, f1_score и roc_auc_score. \n",
    "3. По всем метрикам наилучший результат по показала модель случайного леса (Accuracy = 0.8605, f1_score = 0.574, ROC-AUC = 0.839)."
   ]
  },
  {
   "cell_type": "markdown",
   "metadata": {},
   "source": [
    "## Борьба с дисбалансом"
   ]
  },
  {
   "cell_type": "markdown",
   "metadata": {},
   "source": [
    "Соотношение значений целевого признака: "
   ]
  },
  {
   "cell_type": "code",
   "execution_count": 263,
   "metadata": {},
   "outputs": [
    {
     "data": {
      "text/plain": [
       "3.9091801669121256"
      ]
     },
     "execution_count": 263,
     "metadata": {},
     "output_type": "execute_result"
    }
   ],
   "source": [
    "df_ohe['Exited'].value_counts()[0] / df_ohe['Exited'].value_counts()[1]"
   ]
  },
  {
   "cell_type": "markdown",
   "metadata": {},
   "source": [
    "Соотношение значений целевого признака 4:1."
   ]
  },
  {
   "cell_type": "markdown",
   "metadata": {},
   "source": [
    "Для борьмбы с дисбаллансом класов применим:\n",
    "- Взвешивание классов\n",
    "- Увеличение выборки\n",
    "- Уменьшение выборки"
   ]
  },
  {
   "cell_type": "markdown",
   "metadata": {},
   "source": [
    "### Взвешивание классов"
   ]
  },
  {
   "cell_type": "markdown",
   "metadata": {},
   "source": [
    "Если указать class_weight='balanced', алгоритм посчитает, во сколько раз класс «0» встречается чаще класса «1», чтобы сделать больший вес у редкого класса."
   ]
  },
  {
   "cell_type": "code",
   "execution_count": 264,
   "metadata": {},
   "outputs": [
    {
     "name": "stdout",
     "output_type": "stream",
     "text": [
      "Решающее дерево\n",
      "Accuracy = 0.761\n",
      "f1_score = 0.5532710280373832\n",
      "ROC-AUC = 0.8268794955167996\n",
      "\n",
      "Случайный лес\n",
      "Accuracy = 0.8585\n",
      "f1_score = 0.5892597968069666\n",
      "ROC-AUC = 0.8401012415016258\n",
      "\n",
      "Логистическая регрессия\n",
      "Accuracy = 0.692\n",
      "f1_score = 0.46059544658493873\n",
      "ROC-AUC = 0.73454589122081\n"
     ]
    }
   ],
   "source": [
    "# дерево принятия решений\n",
    "dtc = DecisionTreeClassifier(random_state=123, max_depth=7, min_samples_split=2, min_samples_leaf=5, criterion='gini', class_weight='balanced')\n",
    "dtc.fit(features_train, target_train)\n",
    "dtc_accuracy = accuracy_score(target_valid, dtc.predict(features_valid))\n",
    "dtc_f1 = f1_score(target_valid, dtc.predict(features_valid))\n",
    "dtc_probabilities_valid = dtc.predict_proba(features_valid)\n",
    "dtc_probabilities_one_valid = dtc_probabilities_valid[:, 1]\n",
    "dtc_auc_roc = roc_auc_score(target_valid, dtc_probabilities_one_valid)\n",
    "\n",
    "# случайный лес\n",
    "rfc = RandomForestClassifier(random_state=123, n_estimators=37, max_depth=16, min_samples_split=4, min_samples_leaf=1, class_weight='balanced')\n",
    "rfc.fit(features_train, target_train)\n",
    "rfc_accuracy = accuracy_score(target_valid, rfc.predict(features_valid))\n",
    "rfc_f1 = f1_score(target_valid, rfc.predict(features_valid))\n",
    "rfc_probabilities_valid = rfc.predict_proba(features_valid)\n",
    "rfc_probabilities_one_valid = rfc_probabilities_valid[:, 1]\n",
    "rfc_auc_roc = roc_auc_score(target_valid, rfc_probabilities_one_valid)\n",
    "\n",
    "# логистическая регрессия\n",
    "lr = LogisticRegression(random_state=123, C=1, max_iter=1000, solver='liblinear', class_weight='balanced')\n",
    "lr.fit(features_train, target_train)\n",
    "lr_accuracy = accuracy_score(target_valid, lr.predict(features_valid))\n",
    "lr_f1 = f1_score(target_valid, lr.predict(features_valid))\n",
    "lr_probabilities_valid = lr.predict_proba(features_valid)\n",
    "lr_probabilities_one_valid = lr_probabilities_valid[:, 1]\n",
    "lr_auc_roc = roc_auc_score(target_valid, lr_probabilities_one_valid)\n",
    "\n",
    "print('Решающее дерево')\n",
    "print('Accuracy =', dtc_accuracy)\n",
    "print('f1_score =', dtc_f1)\n",
    "print('ROC-AUC =', dtc_auc_roc)\n",
    "print()\n",
    "print('Случайный лес')\n",
    "print('Accuracy =', rfc_accuracy)\n",
    "print('f1_score =', rfc_f1)\n",
    "print('ROC-AUC =', rfc_auc_roc)\n",
    "print()\n",
    "print('Логистическая регрессия')\n",
    "print('Accuracy =', lr_accuracy)\n",
    "print('f1_score =', lr_f1)\n",
    "print('ROC-AUC =', lr_auc_roc)"
   ]
  },
  {
   "cell_type": "markdown",
   "metadata": {},
   "source": [
    "Уменьшился показатель accuracy у логистической регрессии, но увеличился f1_score. ROC-AUC у случайного леса выше чем у логистической регрессии, примерно, на 0.11"
   ]
  },
  {
   "cell_type": "markdown",
   "metadata": {},
   "source": [
    "### Увеличение выборки"
   ]
  },
  {
   "cell_type": "markdown",
   "metadata": {},
   "source": [
    "Напишем функцию для увеличение выборки"
   ]
  },
  {
   "cell_type": "code",
   "execution_count": 265,
   "metadata": {},
   "outputs": [],
   "source": [
    "def upsample (features, target, repeat):\n",
    "    \"\"\"\"\n",
    "    features_zeros — признаки объектов с ответом «0»;\n",
    "    features_ones — признаки объектов с ответом «1»;\n",
    "    target_zeros — целевой признак объектов, у которых ответы только «0»;\n",
    "    target_ones — целевой признак объектов, у которых ответы только «1».\n",
    "    \"\"\"\n",
    "    features_zeros = features[target == 0]\n",
    "    features_ones = features[target == 1]\n",
    "    target_zeros = target[target == 0]\n",
    "    target_ones = target[target == 1]\n",
    "    \n",
    "    # увеличенная выборка признаков\n",
    "    features_upsampled = pd.concat([features_zeros] + [features_ones] * repeat)\n",
    "    # увеличенная выборка целевого признака\n",
    "    target_upsampled = pd.concat([target_zeros] + [target_ones] * repeat)\n",
    "    \n",
    "    # перемешаем объекты\n",
    "    features_upsampled, target_upsampled = shuffle(features_upsampled, target_upsampled, random_state=12345)\n",
    "    \n",
    "    return features_upsampled, target_upsampled"
   ]
  },
  {
   "cell_type": "markdown",
   "metadata": {},
   "source": [
    "Для обучающей выборки увеличим количество объектов класса 1 в 6 раз"
   ]
  },
  {
   "cell_type": "code",
   "execution_count": 266,
   "metadata": {},
   "outputs": [],
   "source": [
    "features_upsampled, target_upsampled = upsample(features_train, target_train, 6)"
   ]
  },
  {
   "cell_type": "markdown",
   "metadata": {},
   "source": [
    "Обучим модели на сбалансированных обучающих выборках"
   ]
  },
  {
   "cell_type": "code",
   "execution_count": 267,
   "metadata": {},
   "outputs": [
    {
     "name": "stdout",
     "output_type": "stream",
     "text": [
      "Решающее дерево\n",
      "Accuracy = 0.7615\n",
      "f1_score = 0.5529522024367385\n",
      "ROC-AUC = 0.8215249039314217\n",
      "\n",
      "Случайный лес\n",
      "Accuracy = 0.847\n",
      "f1_score = 0.6005221932114883\n",
      "ROC-AUC = 0.8454419770420731\n",
      "\n",
      "Логистическая регрессия\n",
      "Accuracy = 0.692\n",
      "f1_score = 0.46059544658493873\n",
      "ROC-AUC = 0.7345197186914967\n"
     ]
    }
   ],
   "source": [
    "# дерево принятия решений\n",
    "dtc = DecisionTreeClassifier(random_state=123, max_depth=7, min_samples_split=2, min_samples_leaf=5, criterion='gini', class_weight='balanced')\n",
    "dtc.fit(features_upsampled, target_upsampled)\n",
    "dtc_accuracy = accuracy_score(target_valid, dtc.predict(features_valid))\n",
    "dtc_f1 = f1_score(target_valid, dtc.predict(features_valid))\n",
    "dtc_probabilities_valid = dtc.predict_proba(features_valid)\n",
    "dtc_probabilities_one_valid = dtc_probabilities_valid[:, 1]\n",
    "dtc_auc_roc = roc_auc_score(target_valid, dtc_probabilities_one_valid)\n",
    "\n",
    "# случайный лес\n",
    "rfc = RandomForestClassifier(random_state=123, n_estimators=37, max_depth=16, min_samples_split=4, min_samples_leaf=1, class_weight='balanced')\n",
    "rfc.fit(features_upsampled, target_upsampled)\n",
    "rfc_accuracy = accuracy_score(target_valid, rfc.predict(features_valid))\n",
    "rfc_f1 = f1_score(target_valid, rfc.predict(features_valid))\n",
    "rfc_probabilities_valid = rfc.predict_proba(features_valid)\n",
    "rfc_probabilities_one_valid = rfc_probabilities_valid[:, 1]\n",
    "rfc_auc_roc = roc_auc_score(target_valid, rfc_probabilities_one_valid)\n",
    "\n",
    "# логистическая регрессия\n",
    "lr = LogisticRegression(random_state=123, C=1, max_iter=1000, solver='liblinear', class_weight='balanced')\n",
    "lr.fit(features_upsampled, target_upsampled)\n",
    "lr_accuracy = accuracy_score(target_valid, lr.predict(features_valid))\n",
    "lr_f1 = f1_score(target_valid, lr.predict(features_valid))\n",
    "lr_probabilities_valid = lr.predict_proba(features_valid)\n",
    "lr_probabilities_one_valid = lr_probabilities_valid[:, 1]\n",
    "lr_auc_roc = roc_auc_score(target_valid, lr_probabilities_one_valid)\n",
    "\n",
    "print('Решающее дерево')\n",
    "print('Accuracy =', dtc_accuracy)\n",
    "print('f1_score =', dtc_f1)\n",
    "print('ROC-AUC =', dtc_auc_roc)\n",
    "print()\n",
    "print('Случайный лес')\n",
    "print('Accuracy =', rfc_accuracy)\n",
    "print('f1_score =', rfc_f1)\n",
    "print('ROC-AUC =', rfc_auc_roc)\n",
    "print()\n",
    "print('Логистическая регрессия')\n",
    "print('Accuracy =', lr_accuracy)\n",
    "print('f1_score =', lr_f1)\n",
    "print('ROC-AUC =', lr_auc_roc)"
   ]
  },
  {
   "cell_type": "markdown",
   "metadata": {},
   "source": [
    "- Метрика f1 для модели случайного леса достигла значения 0.6005221932114883 на сбалансированной выборке, что удовлетворяет условию технического задания (>0.59)."
   ]
  },
  {
   "cell_type": "markdown",
   "metadata": {},
   "source": [
    "### Уменьшение выборки"
   ]
  },
  {
   "cell_type": "markdown",
   "metadata": {},
   "source": [
    "Напишем функцию для уменьшения выборки"
   ]
  },
  {
   "cell_type": "code",
   "execution_count": 268,
   "metadata": {},
   "outputs": [],
   "source": [
    "def downsample (features, target, fraction):\n",
    "    \"\"\"\"\n",
    "    features_zeros — признаки объектов с ответом «0»;\n",
    "    features_ones — признаки объектов с ответом «1»;\n",
    "    target_zeros — целевой признак объектов, у которых ответы только «0»;\n",
    "    target_ones — целевой признак объектов, у которых ответы только «1».\n",
    "    \"\"\"\n",
    "    features_zeros = features[target == 0]\n",
    "    features_ones = features[target == 1]\n",
    "    target_zeros = target[target == 0]\n",
    "    target_ones = target[target == 1]\n",
    "    \n",
    "    features_downsampled = pd.concat([features_zeros.sample(frac=fraction, random_state=12345)] + [features_ones])\n",
    "    target_downsampled = pd.concat([target_zeros.sample(frac=fraction, random_state=12345)] + [target_ones])\n",
    "    \n",
    "    # перемешаем объекты\n",
    "    features_downsampled, target_downsampled = shuffle(features_downsampled, target_downsampled, random_state=12345)\n",
    "    \n",
    "    return features_downsampled, target_downsampled"
   ]
  },
  {
   "cell_type": "markdown",
   "metadata": {},
   "source": [
    "Уменьшим количество объектов класса 0 в 2 раза"
   ]
  },
  {
   "cell_type": "code",
   "execution_count": 269,
   "metadata": {},
   "outputs": [],
   "source": [
    "features_downsampled, target_downsampled = downsample(features_train, target_train, 0.5)"
   ]
  },
  {
   "cell_type": "markdown",
   "metadata": {},
   "source": [
    "Обучим модели на сбалансированных обучающих выборках"
   ]
  },
  {
   "cell_type": "code",
   "execution_count": 270,
   "metadata": {},
   "outputs": [
    {
     "name": "stdout",
     "output_type": "stream",
     "text": [
      "Решающее дерево\n",
      "Accuracy = 0.745\n",
      "f1_score = 0.5405405405405405\n",
      "ROC-AUC = 0.8199406961276974\n",
      "\n",
      "Случайный лес\n",
      "Accuracy = 0.833\n",
      "f1_score = 0.6023809523809525\n",
      "ROC-AUC = 0.8339383806286333\n",
      "\n",
      "Логистическая регрессия\n",
      "Accuracy = 0.6905\n",
      "f1_score = 0.4631396357328708\n",
      "ROC-AUC = 0.7339500812887969\n"
     ]
    }
   ],
   "source": [
    "# дерево принятия решений\n",
    "dtc = DecisionTreeClassifier(random_state=123, max_depth=7, min_samples_split=2, min_samples_leaf=5, criterion='gini', class_weight='balanced')\n",
    "dtc.fit(features_downsampled, target_downsampled)\n",
    "dtc_accuracy = accuracy_score(target_valid, dtc.predict(features_valid))\n",
    "dtc_f1 = f1_score(target_valid, dtc.predict(features_valid))\n",
    "dtc_probabilities_valid = dtc.predict_proba(features_valid)\n",
    "dtc_probabilities_one_valid = dtc_probabilities_valid[:, 1]\n",
    "dtc_auc_roc = roc_auc_score(target_valid, dtc_probabilities_one_valid)\n",
    "\n",
    "# случайный лес\n",
    "rfc = RandomForestClassifier(random_state=123, n_estimators=37, max_depth=16, min_samples_split=4, min_samples_leaf=1, class_weight='balanced')\n",
    "rfc.fit(features_downsampled, target_downsampled)\n",
    "rfc_accuracy = accuracy_score(target_valid, rfc.predict(features_valid))\n",
    "rfc_f1 = f1_score(target_valid, rfc.predict(features_valid))\n",
    "rfc_probabilities_valid = rfc.predict_proba(features_valid)\n",
    "rfc_probabilities_one_valid = rfc_probabilities_valid[:, 1]\n",
    "rfc_auc_roc = roc_auc_score(target_valid, rfc_probabilities_one_valid)\n",
    "\n",
    "# логистическая регрессия\n",
    "lr = LogisticRegression(random_state=123, C=1, max_iter=1000, solver='liblinear', class_weight='balanced')\n",
    "lr.fit(features_downsampled, target_downsampled)\n",
    "lr_accuracy = accuracy_score(target_valid, lr.predict(features_valid))\n",
    "lr_f1 = f1_score(target_valid, lr.predict(features_valid))\n",
    "lr_probabilities_valid = lr.predict_proba(features_valid)\n",
    "lr_probabilities_one_valid = lr_probabilities_valid[:, 1]\n",
    "lr_auc_roc = roc_auc_score(target_valid, lr_probabilities_one_valid)\n",
    "\n",
    "print('Решающее дерево')\n",
    "print('Accuracy =', dtc_accuracy)\n",
    "print('f1_score =', dtc_f1)\n",
    "print('ROC-AUC =', dtc_auc_roc)\n",
    "print()\n",
    "print('Случайный лес')\n",
    "print('Accuracy =', rfc_accuracy)\n",
    "print('f1_score =', rfc_f1)\n",
    "print('ROC-AUC =', rfc_auc_roc)\n",
    "print()\n",
    "print('Логистическая регрессия')\n",
    "print('Accuracy =', lr_accuracy)\n",
    "print('f1_score =', lr_f1)\n",
    "print('ROC-AUC =', lr_auc_roc)"
   ]
  },
  {
   "cell_type": "markdown",
   "metadata": {},
   "source": [
    "- Метрика f1 для модели случайного леса достигла значения 0.6023809523809525 на сбалансированной выборке, что удовлетворяет условию технического задания (>0.59)."
   ]
  },
  {
   "cell_type": "markdown",
   "metadata": {},
   "source": [
    "**Вывод:**\n",
    "1. Взвешивание классов не дало значительного увеличения метрики f1:\n",
    "2. Увеличение и уменьшение выборки дали необходимый прирост точности, при уменьшении выборки точность чуть выше \n",
    "3. Необходимое качество на валидационной выборке получила модель **случайного леса**\n",
    "   - Accuracy = 0.833\n",
    "   - f1_score = 0.6023809523809525\n",
    "   - ROC-AUC = 0.8339383806286333"
   ]
  },
  {
   "cell_type": "markdown",
   "metadata": {},
   "source": [
    "## Тестирование модели"
   ]
  },
  {
   "cell_type": "markdown",
   "metadata": {},
   "source": [
    "- Проведём обучение полученной модели на всех доступных данных (обучающей + валидационной), предварительно сбалансировав классы с найденными ранее коэффициентами repeat и fraction.\n",
    "- Вычислим метрики f1 и roc_auc на тестовой выборке"
   ]
  },
  {
   "cell_type": "code",
   "execution_count": 271,
   "metadata": {},
   "outputs": [
    {
     "name": "stdout",
     "output_type": "stream",
     "text": [
      "Accuracy финальной модели = 0.8355\n",
      "f1_score финальной модели = 0.624\n",
      "ROC-AUC финальной модели = 0.8614539038267852\n"
     ]
    }
   ],
   "source": [
    "rfc = RandomForestClassifier(random_state=123, n_estimators=37, max_depth=16, min_samples_split=4, min_samples_leaf=1, class_weight='balanced')\n",
    "\n",
    "# применим уменьшение выборки для объединенной выборки, т.к. иенно это дало лучшие результаты\n",
    "features_total, target_total = downsample(features_train.append(features_valid), target_train.append(target_valid), 0.5)\n",
    "\n",
    "# обучим модель\n",
    "rfc.fit(features_total, target_total)\n",
    "\n",
    "# accuracy\n",
    "rfc_accuracy = accuracy_score(target_test, rfc.predict(features_test))\n",
    "\n",
    "# f1\n",
    "rfc_f1 = f1_score(target_test, rfc.predict(features_test))\n",
    "\n",
    "# rfc_auc_roc\n",
    "rfc_probabilities_test = rfc.predict_proba(features_test)\n",
    "rfc_probabilities_one_test = rfc_probabilities_test[:, 1]\n",
    "rfc_auc_roc = roc_auc_score(target_test, rfc_probabilities_one_test)\n",
    "\n",
    "print('Accuracy финальной модели =', rfc_accuracy)\n",
    "print('f1_score финальной модели =', rfc_f1)\n",
    "print('ROC-AUC финальной модели =', rfc_auc_roc)"
   ]
  },
  {
   "cell_type": "markdown",
   "metadata": {},
   "source": [
    "- Построим ROC-кривую для финальной модели"
   ]
  },
  {
   "cell_type": "code",
   "execution_count": 272,
   "metadata": {},
   "outputs": [
    {
     "data": {
      "image/png": "[encoded data removed]",
      "text/plain": [
       "<Figure size 576x288 with 1 Axes>"
      ]
     },
     "metadata": {
      "needs_background": "light"
     },
     "output_type": "display_data"
    }
   ],
   "source": [
    "fpr, tpr, thresholds = roc_curve(target_test, rfc_probabilities_one_test) \n",
    "    \n",
    "plt.figure(figsize=(8,4))\n",
    "\n",
    "plt.plot(fpr, tpr, color='blue')\n",
    "plt.plot([0, 1], [0, 1], linestyle='--', color='red')\n",
    "\n",
    "plt.xlim([0.0, 1.0])\n",
    "plt.ylim([0.0, 1.0])\n",
    "\n",
    "plt.xlabel('Ложноположительные ответы')\n",
    "plt.ylabel('Истинно положительные ответы')\n",
    "\n",
    "plt.title('ROC-кривая финальной модели')\n",
    "    \n",
    "plt.show()"
   ]
  },
  {
   "cell_type": "markdown",
   "metadata": {},
   "source": [
    "**Вывод:**\n",
    "- Удовлетворяющее техническому заданию значение метрики f1 (на тестовой выборке) удалось получить на моделе\n",
    "   - **Случайного леса** со следующими параметрами:\n",
    "      - n_estimators=37\n",
    "      - max_depth=16\n",
    "      - min_samples_split=4\n",
    "      - min_samples_leaf=1\n",
    "   - Получили следующие показатели:\n",
    "      - Accuracy = 0.8355\n",
    "      - f1_score = 0.624 (увеличение со значения 0.574) - лучший результат\n",
    "      - ROC-AUC = 0.8614539038267852 (увеличение со значения 0.839) - лучший результат"
   ]
  },
  {
   "cell_type": "markdown",
   "metadata": {},
   "source": [
    "## Чек-лист готовности проекта"
   ]
  },
  {
   "cell_type": "markdown",
   "metadata": {},
   "source": [
    "Поставьте 'x' в выполненных пунктах. Далее нажмите Shift+Enter."
   ]
  },
  {
   "cell_type": "markdown",
   "metadata": {},
   "source": [
    "- [x]  Jupyter Notebook открыт\n",
    "- [x]  Весь код выполняется без ошибок\n",
    "- [x]  Ячейки с кодом расположены в порядке исполнения\n",
    "- [x]  Выполнен шаг 1: данные подготовлены\n",
    "- [x]  Выполнен шаг 2: задача исследована\n",
    "    - [x]  Исследован баланс классов\n",
    "    - [x]  Изучены модели без учёта дисбаланса\n",
    "    - [x]  Написаны выводы по результатам исследования\n",
    "- [x]  Выполнен шаг 3: учтён дисбаланс\n",
    "    - [x]  Применено несколько способов борьбы с дисбалансом\n",
    "    - [x]  Написаны выводы по результатам исследования\n",
    "- [x]  Выполнен шаг 4: проведено тестирование\n",
    "- [x]  Удалось достичь *F1*-меры не менее 0.59\n",
    "- [x]  Исследована метрика *AUC-ROC*"
   ]
  }
 ],
 "metadata": {
  "ExecuteTimeLog": [
   {
    "duration": 402,
    "start_time": "2022-10-17T12:58:09.388Z"
   },
   {
    "duration": 177,
    "start_time": "2022-10-17T12:58:10.081Z"
   },
   {
    "duration": 46,
    "start_time": "2022-10-17T12:58:28.774Z"
   },
   {
    "duration": 48,
    "start_time": "2022-10-17T13:05:06.949Z"
   },
   {
    "duration": 12,
    "start_time": "2022-10-17T13:05:08.076Z"
   },
   {
    "duration": 55,
    "start_time": "2022-10-17T13:08:47.919Z"
   },
   {
    "duration": 11,
    "start_time": "2022-10-17T13:11:08.652Z"
   },
   {
    "duration": 10,
    "start_time": "2022-10-17T13:12:17.461Z"
   },
   {
    "duration": 51,
    "start_time": "2022-10-17T13:12:39.056Z"
   },
   {
    "duration": 16,
    "start_time": "2022-10-17T13:12:39.802Z"
   },
   {
    "duration": 4,
    "start_time": "2022-10-17T13:36:08.627Z"
   },
   {
    "duration": 65,
    "start_time": "2022-10-17T13:37:05.573Z"
   },
   {
    "duration": 2,
    "start_time": "2022-10-17T13:37:19.987Z"
   },
   {
    "duration": 56,
    "start_time": "2022-10-17T13:37:19.993Z"
   },
   {
    "duration": 10,
    "start_time": "2022-10-17T13:37:20.051Z"
   },
   {
    "duration": 13,
    "start_time": "2022-10-17T13:37:20.062Z"
   },
   {
    "duration": 7,
    "start_time": "2022-10-17T13:40:55.075Z"
   },
   {
    "duration": 4,
    "start_time": "2022-10-17T13:41:52.353Z"
   },
   {
    "duration": 11,
    "start_time": "2022-10-17T13:42:39.741Z"
   },
   {
    "duration": 5,
    "start_time": "2022-10-17T13:44:53.171Z"
   },
   {
    "duration": 9,
    "start_time": "2022-10-17T13:47:04.586Z"
   },
   {
    "duration": 13,
    "start_time": "2022-10-17T13:47:25.416Z"
   },
   {
    "duration": 7,
    "start_time": "2022-10-17T13:47:58.833Z"
   },
   {
    "duration": 4,
    "start_time": "2022-10-17T13:48:05.504Z"
   },
   {
    "duration": 5,
    "start_time": "2022-10-17T13:48:12.152Z"
   },
   {
    "duration": 5,
    "start_time": "2022-10-17T13:49:27.193Z"
   },
   {
    "duration": 7,
    "start_time": "2022-10-17T13:49:58.273Z"
   },
   {
    "duration": 7,
    "start_time": "2022-10-17T13:54:12.502Z"
   },
   {
    "duration": 7,
    "start_time": "2022-10-17T13:54:23.699Z"
   },
   {
    "duration": 4,
    "start_time": "2022-10-17T13:54:39.648Z"
   },
   {
    "duration": 7,
    "start_time": "2022-10-17T13:54:41.253Z"
   },
   {
    "duration": 584,
    "start_time": "2022-10-17T13:55:13.332Z"
   },
   {
    "duration": 4,
    "start_time": "2022-10-17T13:58:03.524Z"
   },
   {
    "duration": 235,
    "start_time": "2022-10-17T14:23:00.973Z"
   },
   {
    "duration": 476,
    "start_time": "2022-10-17T14:25:38.318Z"
   },
   {
    "duration": 48,
    "start_time": "2022-10-17T14:26:14.456Z"
   },
   {
    "duration": 353,
    "start_time": "2022-10-17T14:28:21.894Z"
   },
   {
    "duration": 162,
    "start_time": "2022-10-17T14:29:20.447Z"
   },
   {
    "duration": 191,
    "start_time": "2022-10-17T14:29:47.181Z"
   },
   {
    "duration": 129,
    "start_time": "2022-10-17T14:29:57.935Z"
   },
   {
    "duration": 208,
    "start_time": "2022-10-17T14:30:08.007Z"
   },
   {
    "duration": 146,
    "start_time": "2022-10-17T14:30:30.578Z"
   },
   {
    "duration": 147,
    "start_time": "2022-10-17T14:31:29.038Z"
   },
   {
    "duration": 2,
    "start_time": "2022-10-17T14:31:38.744Z"
   },
   {
    "duration": 55,
    "start_time": "2022-10-17T14:31:38.750Z"
   },
   {
    "duration": 11,
    "start_time": "2022-10-17T14:31:38.806Z"
   },
   {
    "duration": 11,
    "start_time": "2022-10-17T14:31:38.818Z"
   },
   {
    "duration": 3,
    "start_time": "2022-10-17T14:31:38.831Z"
   },
   {
    "duration": 7,
    "start_time": "2022-10-17T14:31:38.836Z"
   },
   {
    "duration": 151,
    "start_time": "2022-10-17T14:31:38.844Z"
   },
   {
    "duration": 5,
    "start_time": "2022-10-17T14:31:38.996Z"
   },
   {
    "duration": 6,
    "start_time": "2022-10-17T14:31:39.003Z"
   },
   {
    "duration": 8,
    "start_time": "2022-10-17T14:31:39.010Z"
   },
   {
    "duration": 165,
    "start_time": "2022-10-17T14:31:39.021Z"
   },
   {
    "duration": 1278,
    "start_time": "2022-10-22T10:34:39.921Z"
   },
   {
    "duration": 72,
    "start_time": "2022-10-22T10:34:42.424Z"
   },
   {
    "duration": 13,
    "start_time": "2022-10-22T10:34:46.894Z"
   },
   {
    "duration": 43,
    "start_time": "2022-10-22T10:35:14.097Z"
   },
   {
    "duration": 35,
    "start_time": "2022-10-22T10:41:00.561Z"
   },
   {
    "duration": 186,
    "start_time": "2022-10-22T10:46:23.744Z"
   },
   {
    "duration": 150,
    "start_time": "2022-10-22T10:46:43.748Z"
   },
   {
    "duration": 113,
    "start_time": "2022-10-22T10:47:05.477Z"
   },
   {
    "duration": 14,
    "start_time": "2022-10-22T11:28:40.255Z"
   },
   {
    "duration": 8,
    "start_time": "2022-10-22T11:28:43.007Z"
   },
   {
    "duration": 5,
    "start_time": "2022-10-22T11:28:43.425Z"
   },
   {
    "duration": 130,
    "start_time": "2022-10-22T11:28:43.902Z"
   },
   {
    "duration": 5,
    "start_time": "2022-10-22T11:28:46.672Z"
   },
   {
    "duration": 3,
    "start_time": "2022-10-22T11:28:51.389Z"
   },
   {
    "duration": 11,
    "start_time": "2022-10-22T11:28:52.705Z"
   },
   {
    "duration": 110,
    "start_time": "2022-10-22T11:31:15.775Z"
   },
   {
    "duration": 18,
    "start_time": "2022-10-22T11:31:24.533Z"
   },
   {
    "duration": 4,
    "start_time": "2022-10-22T11:31:54.525Z"
   },
   {
    "duration": 47,
    "start_time": "2022-10-22T11:31:54.532Z"
   },
   {
    "duration": 14,
    "start_time": "2022-10-22T11:31:54.582Z"
   },
   {
    "duration": 46,
    "start_time": "2022-10-22T11:31:54.598Z"
   },
   {
    "duration": 23,
    "start_time": "2022-10-22T11:31:54.646Z"
   },
   {
    "duration": 15,
    "start_time": "2022-10-22T11:34:45.290Z"
   },
   {
    "duration": 3,
    "start_time": "2022-10-22T11:34:51.388Z"
   },
   {
    "duration": 80,
    "start_time": "2022-10-22T11:34:51.394Z"
   },
   {
    "duration": 15,
    "start_time": "2022-10-22T11:34:51.476Z"
   },
   {
    "duration": 46,
    "start_time": "2022-10-22T11:34:51.492Z"
   },
   {
    "duration": 17,
    "start_time": "2022-10-22T11:34:51.540Z"
   },
   {
    "duration": 14,
    "start_time": "2022-10-22T11:34:51.559Z"
   },
   {
    "duration": 5,
    "start_time": "2022-10-22T11:34:51.575Z"
   },
   {
    "duration": 8,
    "start_time": "2022-10-22T11:34:51.582Z"
   },
   {
    "duration": 166,
    "start_time": "2022-10-22T11:34:51.592Z"
   },
   {
    "duration": 6,
    "start_time": "2022-10-22T11:34:51.760Z"
   },
   {
    "duration": 5,
    "start_time": "2022-10-22T11:34:51.769Z"
   },
   {
    "duration": 12,
    "start_time": "2022-10-22T11:34:51.775Z"
   },
   {
    "duration": 6,
    "start_time": "2022-10-22T11:34:59.900Z"
   },
   {
    "duration": 143,
    "start_time": "2022-10-22T11:35:04.085Z"
   },
   {
    "duration": 15,
    "start_time": "2022-10-22T11:35:44.554Z"
   },
   {
    "duration": 10,
    "start_time": "2022-10-22T11:48:26.597Z"
   },
   {
    "duration": 23,
    "start_time": "2022-10-22T11:49:06.522Z"
   },
   {
    "duration": 10,
    "start_time": "2022-10-22T11:50:28.061Z"
   },
   {
    "duration": 7,
    "start_time": "2022-10-22T11:50:33.624Z"
   },
   {
    "duration": 2,
    "start_time": "2022-10-22T11:52:14.102Z"
   },
   {
    "duration": 280,
    "start_time": "2022-10-22T11:55:00.157Z"
   },
   {
    "duration": 3,
    "start_time": "2022-10-22T11:57:05.030Z"
   },
   {
    "duration": 7,
    "start_time": "2022-10-22T12:05:10.528Z"
   },
   {
    "duration": 8,
    "start_time": "2022-10-22T12:05:49.784Z"
   },
   {
    "duration": 22,
    "start_time": "2022-10-22T12:07:29.062Z"
   },
   {
    "duration": 15,
    "start_time": "2022-10-22T12:07:44.808Z"
   },
   {
    "duration": 3,
    "start_time": "2022-10-22T12:09:08.054Z"
   },
   {
    "duration": 3,
    "start_time": "2022-10-22T12:09:39.603Z"
   },
   {
    "duration": 18,
    "start_time": "2022-10-22T12:10:41.201Z"
   },
   {
    "duration": 10,
    "start_time": "2022-10-22T12:12:31.620Z"
   },
   {
    "duration": 11,
    "start_time": "2022-10-22T12:13:10.496Z"
   },
   {
    "duration": 3,
    "start_time": "2022-10-22T12:15:49.428Z"
   },
   {
    "duration": 41,
    "start_time": "2022-10-22T12:15:49.434Z"
   },
   {
    "duration": 12,
    "start_time": "2022-10-22T12:15:49.477Z"
   },
   {
    "duration": 41,
    "start_time": "2022-10-22T12:15:49.490Z"
   },
   {
    "duration": 17,
    "start_time": "2022-10-22T12:15:49.533Z"
   },
   {
    "duration": 10,
    "start_time": "2022-10-22T12:15:49.551Z"
   },
   {
    "duration": 3,
    "start_time": "2022-10-22T12:15:49.563Z"
   },
   {
    "duration": 6,
    "start_time": "2022-10-22T12:15:49.568Z"
   },
   {
    "duration": 161,
    "start_time": "2022-10-22T12:15:49.575Z"
   },
   {
    "duration": 5,
    "start_time": "2022-10-22T12:15:49.738Z"
   },
   {
    "duration": 3,
    "start_time": "2022-10-22T12:15:49.746Z"
   },
   {
    "duration": 6,
    "start_time": "2022-10-22T12:15:49.750Z"
   },
   {
    "duration": 6,
    "start_time": "2022-10-22T12:15:49.757Z"
   },
   {
    "duration": 160,
    "start_time": "2022-10-22T12:15:49.765Z"
   },
   {
    "duration": 11,
    "start_time": "2022-10-22T12:15:49.927Z"
   },
   {
    "duration": 19,
    "start_time": "2022-10-22T12:15:49.940Z"
   },
   {
    "duration": 5,
    "start_time": "2022-10-22T12:15:49.960Z"
   },
   {
    "duration": 6,
    "start_time": "2022-10-22T12:15:49.967Z"
   },
   {
    "duration": 7,
    "start_time": "2022-10-22T12:15:49.975Z"
   },
   {
    "duration": 37,
    "start_time": "2022-10-22T12:15:49.983Z"
   },
   {
    "duration": 8,
    "start_time": "2022-10-22T12:15:50.022Z"
   },
   {
    "duration": 16,
    "start_time": "2022-10-22T12:15:50.045Z"
   },
   {
    "duration": 13,
    "start_time": "2022-10-22T12:17:41.055Z"
   },
   {
    "duration": 4,
    "start_time": "2022-10-22T12:18:06.421Z"
   },
   {
    "duration": 47,
    "start_time": "2022-10-22T12:18:06.427Z"
   },
   {
    "duration": 14,
    "start_time": "2022-10-22T12:18:06.477Z"
   },
   {
    "duration": 47,
    "start_time": "2022-10-22T12:18:06.493Z"
   },
   {
    "duration": 19,
    "start_time": "2022-10-22T12:18:06.542Z"
   },
   {
    "duration": 16,
    "start_time": "2022-10-22T12:18:06.563Z"
   },
   {
    "duration": 4,
    "start_time": "2022-10-22T12:18:06.580Z"
   },
   {
    "duration": 7,
    "start_time": "2022-10-22T12:18:06.586Z"
   },
   {
    "duration": 131,
    "start_time": "2022-10-22T12:18:06.615Z"
   },
   {
    "duration": 5,
    "start_time": "2022-10-22T12:18:06.748Z"
   },
   {
    "duration": 7,
    "start_time": "2022-10-22T12:18:06.755Z"
   },
   {
    "duration": 7,
    "start_time": "2022-10-22T12:18:06.764Z"
   },
   {
    "duration": 6,
    "start_time": "2022-10-22T12:18:06.773Z"
   },
   {
    "duration": 146,
    "start_time": "2022-10-22T12:18:06.780Z"
   },
   {
    "duration": 11,
    "start_time": "2022-10-22T12:18:06.928Z"
   },
   {
    "duration": 17,
    "start_time": "2022-10-22T12:18:06.941Z"
   },
   {
    "duration": 4,
    "start_time": "2022-10-22T12:18:06.959Z"
   },
   {
    "duration": 6,
    "start_time": "2022-10-22T12:18:06.965Z"
   },
   {
    "duration": 8,
    "start_time": "2022-10-22T12:18:06.972Z"
   },
   {
    "duration": 44,
    "start_time": "2022-10-22T12:18:06.981Z"
   },
   {
    "duration": 4,
    "start_time": "2022-10-22T12:18:07.027Z"
   },
   {
    "duration": 10,
    "start_time": "2022-10-22T12:18:07.032Z"
   },
   {
    "duration": 18,
    "start_time": "2022-10-22T12:18:07.044Z"
   },
   {
    "duration": 12,
    "start_time": "2022-10-22T12:18:27.078Z"
   },
   {
    "duration": 13,
    "start_time": "2022-10-22T12:19:55.670Z"
   },
   {
    "duration": 15,
    "start_time": "2022-10-22T12:20:14.531Z"
   },
   {
    "duration": 9,
    "start_time": "2022-10-22T12:20:19.524Z"
   },
   {
    "duration": 32,
    "start_time": "2022-10-22T12:21:17.961Z"
   },
   {
    "duration": 7,
    "start_time": "2022-10-22T12:21:30.400Z"
   },
   {
    "duration": 11,
    "start_time": "2022-10-22T12:21:35.372Z"
   },
   {
    "duration": 12,
    "start_time": "2022-10-22T12:22:42.280Z"
   },
   {
    "duration": 55,
    "start_time": "2022-10-22T12:29:11.951Z"
   },
   {
    "duration": 4,
    "start_time": "2022-10-22T12:30:56.193Z"
   },
   {
    "duration": 70,
    "start_time": "2022-10-22T12:30:56.201Z"
   },
   {
    "duration": 15,
    "start_time": "2022-10-22T12:30:56.273Z"
   },
   {
    "duration": 41,
    "start_time": "2022-10-22T12:30:56.290Z"
   },
   {
    "duration": 15,
    "start_time": "2022-10-22T12:30:56.334Z"
   },
   {
    "duration": 8,
    "start_time": "2022-10-22T12:30:56.350Z"
   },
   {
    "duration": 17,
    "start_time": "2022-10-22T12:32:04.172Z"
   },
   {
    "duration": 131,
    "start_time": "2022-10-22T12:32:09.503Z"
   },
   {
    "duration": 100,
    "start_time": "2022-10-22T12:32:17.098Z"
   },
   {
    "duration": 105,
    "start_time": "2022-10-22T12:32:39.085Z"
   },
   {
    "duration": 118,
    "start_time": "2022-10-22T12:33:06.178Z"
   },
   {
    "duration": 3,
    "start_time": "2022-10-22T12:34:35.056Z"
   },
   {
    "duration": 39,
    "start_time": "2022-10-22T12:34:35.063Z"
   },
   {
    "duration": 14,
    "start_time": "2022-10-22T12:34:35.104Z"
   },
   {
    "duration": 40,
    "start_time": "2022-10-22T12:34:35.120Z"
   },
   {
    "duration": 16,
    "start_time": "2022-10-22T12:34:35.162Z"
   },
   {
    "duration": 29,
    "start_time": "2022-10-22T12:34:35.180Z"
   },
   {
    "duration": 120,
    "start_time": "2022-10-22T12:34:35.210Z"
   },
   {
    "duration": 11,
    "start_time": "2022-10-22T12:34:35.331Z"
   },
   {
    "duration": 8,
    "start_time": "2022-10-22T12:34:35.344Z"
   },
   {
    "duration": 9,
    "start_time": "2022-10-22T12:34:35.353Z"
   },
   {
    "duration": 214,
    "start_time": "2022-10-22T12:34:35.365Z"
   },
   {
    "duration": 5,
    "start_time": "2022-10-22T12:34:35.580Z"
   },
   {
    "duration": 3,
    "start_time": "2022-10-22T12:34:35.587Z"
   },
   {
    "duration": 24,
    "start_time": "2022-10-22T12:34:35.592Z"
   },
   {
    "duration": 7,
    "start_time": "2022-10-22T12:34:35.617Z"
   },
   {
    "duration": 166,
    "start_time": "2022-10-22T12:34:35.626Z"
   },
   {
    "duration": 18,
    "start_time": "2022-10-22T12:34:35.794Z"
   },
   {
    "duration": 20,
    "start_time": "2022-10-22T12:34:35.814Z"
   },
   {
    "duration": 5,
    "start_time": "2022-10-22T12:34:35.835Z"
   },
   {
    "duration": 5,
    "start_time": "2022-10-22T12:34:35.842Z"
   },
   {
    "duration": 8,
    "start_time": "2022-10-22T12:34:35.848Z"
   },
   {
    "duration": 6,
    "start_time": "2022-10-22T12:34:35.857Z"
   },
   {
    "duration": 4,
    "start_time": "2022-10-22T12:34:35.864Z"
   },
   {
    "duration": 40,
    "start_time": "2022-10-22T12:34:35.870Z"
   },
   {
    "duration": 21,
    "start_time": "2022-10-22T12:34:35.911Z"
   },
   {
    "duration": 10,
    "start_time": "2022-10-22T12:34:35.934Z"
   },
   {
    "duration": 41,
    "start_time": "2022-10-22T12:47:45.678Z"
   },
   {
    "duration": 106,
    "start_time": "2022-10-22T12:47:52.977Z"
   },
   {
    "duration": 48,
    "start_time": "2022-10-22T12:50:24.122Z"
   },
   {
    "duration": 749,
    "start_time": "2022-10-22T12:50:56.142Z"
   },
   {
    "duration": 6,
    "start_time": "2022-10-22T12:51:16.902Z"
   },
   {
    "duration": 3,
    "start_time": "2022-10-22T12:52:29.048Z"
   },
   {
    "duration": 48,
    "start_time": "2022-10-22T12:52:29.056Z"
   },
   {
    "duration": 11,
    "start_time": "2022-10-22T12:52:29.107Z"
   },
   {
    "duration": 47,
    "start_time": "2022-10-22T12:52:29.120Z"
   },
   {
    "duration": 17,
    "start_time": "2022-10-22T12:52:29.170Z"
   },
   {
    "duration": 21,
    "start_time": "2022-10-22T12:52:29.188Z"
   },
   {
    "duration": 141,
    "start_time": "2022-10-22T12:52:29.210Z"
   },
   {
    "duration": 4,
    "start_time": "2022-10-22T12:52:42.098Z"
   },
   {
    "duration": 42,
    "start_time": "2022-10-22T12:52:42.104Z"
   },
   {
    "duration": 11,
    "start_time": "2022-10-22T12:52:42.148Z"
   },
   {
    "duration": 37,
    "start_time": "2022-10-22T12:52:42.160Z"
   },
   {
    "duration": 17,
    "start_time": "2022-10-22T12:52:42.209Z"
   },
   {
    "duration": 6,
    "start_time": "2022-10-22T12:52:42.227Z"
   },
   {
    "duration": 131,
    "start_time": "2022-10-22T12:52:42.234Z"
   },
   {
    "duration": 12,
    "start_time": "2022-10-22T12:52:42.366Z"
   },
   {
    "duration": 4,
    "start_time": "2022-10-22T12:52:42.379Z"
   },
   {
    "duration": 6,
    "start_time": "2022-10-22T12:52:42.384Z"
   },
   {
    "duration": 129,
    "start_time": "2022-10-22T12:52:42.410Z"
   },
   {
    "duration": 5,
    "start_time": "2022-10-22T12:52:42.540Z"
   },
   {
    "duration": 7,
    "start_time": "2022-10-22T12:52:42.547Z"
   },
   {
    "duration": 8,
    "start_time": "2022-10-22T12:52:42.555Z"
   },
   {
    "duration": 8,
    "start_time": "2022-10-22T12:52:42.564Z"
   },
   {
    "duration": 143,
    "start_time": "2022-10-22T12:52:42.574Z"
   },
   {
    "duration": 11,
    "start_time": "2022-10-22T12:52:42.719Z"
   },
   {
    "duration": 18,
    "start_time": "2022-10-22T12:52:42.732Z"
   },
   {
    "duration": 4,
    "start_time": "2022-10-22T12:52:42.752Z"
   },
   {
    "duration": 9,
    "start_time": "2022-10-22T12:52:42.757Z"
   },
   {
    "duration": 8,
    "start_time": "2022-10-22T12:52:42.767Z"
   },
   {
    "duration": 32,
    "start_time": "2022-10-22T12:52:42.777Z"
   },
   {
    "duration": 4,
    "start_time": "2022-10-22T12:52:42.810Z"
   },
   {
    "duration": 8,
    "start_time": "2022-10-22T12:52:42.816Z"
   },
   {
    "duration": 20,
    "start_time": "2022-10-22T12:52:42.825Z"
   },
   {
    "duration": 9,
    "start_time": "2022-10-22T12:52:42.847Z"
   },
   {
    "duration": 7,
    "start_time": "2022-10-22T12:52:42.857Z"
   },
   {
    "duration": 35,
    "start_time": "2022-10-22T13:28:27.066Z"
   },
   {
    "duration": 114,
    "start_time": "2022-10-22T13:28:53.285Z"
   },
   {
    "duration": 90,
    "start_time": "2022-10-22T13:32:05.006Z"
   },
   {
    "duration": 3,
    "start_time": "2022-10-22T13:32:14.272Z"
   },
   {
    "duration": 40,
    "start_time": "2022-10-22T13:32:14.280Z"
   },
   {
    "duration": 12,
    "start_time": "2022-10-22T13:32:14.322Z"
   },
   {
    "duration": 36,
    "start_time": "2022-10-22T13:32:14.335Z"
   },
   {
    "duration": 49,
    "start_time": "2022-10-22T13:32:14.373Z"
   },
   {
    "duration": 6,
    "start_time": "2022-10-22T13:32:14.424Z"
   },
   {
    "duration": 156,
    "start_time": "2022-10-22T13:32:14.432Z"
   },
   {
    "duration": 32,
    "start_time": "2022-10-22T13:32:14.589Z"
   },
   {
    "duration": 4,
    "start_time": "2022-10-22T13:32:14.623Z"
   },
   {
    "duration": 7,
    "start_time": "2022-10-22T13:32:14.629Z"
   },
   {
    "duration": 133,
    "start_time": "2022-10-22T13:32:14.638Z"
   },
   {
    "duration": 5,
    "start_time": "2022-10-22T13:32:14.773Z"
   },
   {
    "duration": 7,
    "start_time": "2022-10-22T13:32:14.780Z"
   },
   {
    "duration": 6,
    "start_time": "2022-10-22T13:32:14.789Z"
   },
   {
    "duration": 5,
    "start_time": "2022-10-22T13:32:14.810Z"
   },
   {
    "duration": 140,
    "start_time": "2022-10-22T13:32:14.817Z"
   },
   {
    "duration": 11,
    "start_time": "2022-10-22T13:32:14.959Z"
   },
   {
    "duration": 22,
    "start_time": "2022-10-22T13:32:14.972Z"
   },
   {
    "duration": 18,
    "start_time": "2022-10-22T13:32:14.996Z"
   },
   {
    "duration": 22,
    "start_time": "2022-10-22T13:32:15.016Z"
   },
   {
    "duration": 13,
    "start_time": "2022-10-22T13:32:15.040Z"
   },
   {
    "duration": 8,
    "start_time": "2022-10-22T13:32:15.054Z"
   },
   {
    "duration": 5,
    "start_time": "2022-10-22T13:32:15.064Z"
   },
   {
    "duration": 13,
    "start_time": "2022-10-22T13:32:15.070Z"
   },
   {
    "duration": 36,
    "start_time": "2022-10-22T13:32:15.084Z"
   },
   {
    "duration": 10,
    "start_time": "2022-10-22T13:32:15.121Z"
   },
   {
    "duration": 86,
    "start_time": "2022-10-22T13:32:15.133Z"
   },
   {
    "duration": 3,
    "start_time": "2022-10-22T13:32:45.277Z"
   },
   {
    "duration": 89,
    "start_time": "2022-10-22T13:32:54.824Z"
   },
   {
    "duration": 6,
    "start_time": "2022-10-22T13:34:59.260Z"
   },
   {
    "duration": 318,
    "start_time": "2022-10-22T13:35:17.604Z"
   },
   {
    "duration": 224,
    "start_time": "2022-10-22T13:37:36.006Z"
   },
   {
    "duration": 177,
    "start_time": "2022-10-22T13:38:34.182Z"
   },
   {
    "duration": 216,
    "start_time": "2022-10-22T13:39:19.494Z"
   },
   {
    "duration": 39,
    "start_time": "2022-10-22T13:40:01.429Z"
   },
   {
    "duration": 89,
    "start_time": "2022-10-22T13:40:04.757Z"
   },
   {
    "duration": 25,
    "start_time": "2022-10-22T13:40:06.615Z"
   },
   {
    "duration": 4,
    "start_time": "2022-10-22T13:41:22.577Z"
   },
   {
    "duration": 37,
    "start_time": "2022-10-22T13:44:38.075Z"
   },
   {
    "duration": 342,
    "start_time": "2022-10-22T13:45:10.489Z"
   },
   {
    "duration": 285,
    "start_time": "2022-10-22T13:45:32.026Z"
   },
   {
    "duration": 264,
    "start_time": "2022-10-22T13:47:17.577Z"
   },
   {
    "duration": 331,
    "start_time": "2022-10-22T13:47:34.399Z"
   },
   {
    "duration": 436,
    "start_time": "2022-10-22T13:48:07.493Z"
   },
   {
    "duration": 298,
    "start_time": "2022-10-22T13:51:41.621Z"
   },
   {
    "duration": 485,
    "start_time": "2022-10-22T13:51:50.924Z"
   },
   {
    "duration": 289,
    "start_time": "2022-10-22T13:52:07.843Z"
   },
   {
    "duration": 469,
    "start_time": "2022-10-22T13:52:32.445Z"
   },
   {
    "duration": 289,
    "start_time": "2022-10-22T13:53:49.149Z"
   },
   {
    "duration": 4,
    "start_time": "2022-10-22T13:56:07.952Z"
   },
   {
    "duration": 38,
    "start_time": "2022-10-22T13:56:07.959Z"
   },
   {
    "duration": 11,
    "start_time": "2022-10-22T13:56:07.998Z"
   },
   {
    "duration": 36,
    "start_time": "2022-10-22T13:56:08.010Z"
   },
   {
    "duration": 16,
    "start_time": "2022-10-22T13:56:08.048Z"
   },
   {
    "duration": 8,
    "start_time": "2022-10-22T13:56:08.065Z"
   },
   {
    "duration": 138,
    "start_time": "2022-10-22T13:56:08.074Z"
   },
   {
    "duration": 12,
    "start_time": "2022-10-22T13:56:08.214Z"
   },
   {
    "duration": 3,
    "start_time": "2022-10-22T13:56:08.227Z"
   },
   {
    "duration": 10,
    "start_time": "2022-10-22T13:56:08.232Z"
   },
   {
    "duration": 138,
    "start_time": "2022-10-22T13:56:08.244Z"
   },
   {
    "duration": 5,
    "start_time": "2022-10-22T13:56:08.384Z"
   },
   {
    "duration": 19,
    "start_time": "2022-10-22T13:56:08.390Z"
   },
   {
    "duration": 8,
    "start_time": "2022-10-22T13:56:08.410Z"
   },
   {
    "duration": 7,
    "start_time": "2022-10-22T13:56:08.420Z"
   },
   {
    "duration": 188,
    "start_time": "2022-10-22T13:56:08.429Z"
   },
   {
    "duration": 13,
    "start_time": "2022-10-22T13:56:08.619Z"
   },
   {
    "duration": 19,
    "start_time": "2022-10-22T13:56:08.633Z"
   },
   {
    "duration": 5,
    "start_time": "2022-10-22T13:56:08.653Z"
   },
   {
    "duration": 7,
    "start_time": "2022-10-22T13:56:08.659Z"
   },
   {
    "duration": 9,
    "start_time": "2022-10-22T13:56:08.667Z"
   },
   {
    "duration": 33,
    "start_time": "2022-10-22T13:56:08.677Z"
   },
   {
    "duration": 4,
    "start_time": "2022-10-22T13:56:08.711Z"
   },
   {
    "duration": 8,
    "start_time": "2022-10-22T13:56:08.717Z"
   },
   {
    "duration": 31,
    "start_time": "2022-10-22T13:56:08.727Z"
   },
   {
    "duration": 9,
    "start_time": "2022-10-22T13:56:08.760Z"
   },
   {
    "duration": 371,
    "start_time": "2022-10-22T13:56:08.770Z"
   },
   {
    "duration": 392,
    "start_time": "2022-10-22T13:56:09.142Z"
   },
   {
    "duration": 474,
    "start_time": "2022-10-22T13:56:09.537Z"
   },
   {
    "duration": 4,
    "start_time": "2022-10-22T13:57:16.641Z"
   },
   {
    "duration": 45,
    "start_time": "2022-10-22T13:57:16.647Z"
   },
   {
    "duration": 11,
    "start_time": "2022-10-22T13:57:16.694Z"
   },
   {
    "duration": 35,
    "start_time": "2022-10-22T13:57:16.707Z"
   },
   {
    "duration": 15,
    "start_time": "2022-10-22T13:57:16.744Z"
   },
   {
    "duration": 6,
    "start_time": "2022-10-22T13:57:16.760Z"
   },
   {
    "duration": 131,
    "start_time": "2022-10-22T13:57:16.767Z"
   },
   {
    "duration": 13,
    "start_time": "2022-10-22T13:57:16.908Z"
   },
   {
    "duration": 4,
    "start_time": "2022-10-22T13:57:16.922Z"
   },
   {
    "duration": 6,
    "start_time": "2022-10-22T13:57:16.927Z"
   },
   {
    "duration": 141,
    "start_time": "2022-10-22T13:57:16.935Z"
   },
   {
    "duration": 5,
    "start_time": "2022-10-22T13:57:17.077Z"
   },
   {
    "duration": 4,
    "start_time": "2022-10-22T13:57:17.084Z"
   },
   {
    "duration": 19,
    "start_time": "2022-10-22T13:57:17.090Z"
   },
   {
    "duration": 5,
    "start_time": "2022-10-22T13:57:17.111Z"
   },
   {
    "duration": 172,
    "start_time": "2022-10-22T13:57:17.118Z"
   },
   {
    "duration": 18,
    "start_time": "2022-10-22T13:57:17.292Z"
   },
   {
    "duration": 17,
    "start_time": "2022-10-22T13:57:17.312Z"
   },
   {
    "duration": 5,
    "start_time": "2022-10-22T13:57:17.331Z"
   },
   {
    "duration": 5,
    "start_time": "2022-10-22T13:57:17.338Z"
   },
   {
    "duration": 8,
    "start_time": "2022-10-22T13:57:17.344Z"
   },
   {
    "duration": 5,
    "start_time": "2022-10-22T13:57:17.354Z"
   },
   {
    "duration": 4,
    "start_time": "2022-10-22T13:57:17.361Z"
   },
   {
    "duration": 46,
    "start_time": "2022-10-22T13:57:17.366Z"
   },
   {
    "duration": 22,
    "start_time": "2022-10-22T13:57:17.413Z"
   },
   {
    "duration": 10,
    "start_time": "2022-10-22T13:57:17.436Z"
   },
   {
    "duration": 371,
    "start_time": "2022-10-22T13:57:17.448Z"
   },
   {
    "duration": 404,
    "start_time": "2022-10-22T13:57:17.820Z"
   },
   {
    "duration": 299,
    "start_time": "2022-10-22T13:57:18.227Z"
   },
   {
    "duration": 5,
    "start_time": "2022-10-22T13:57:44.570Z"
   },
   {
    "duration": 44,
    "start_time": "2022-10-22T13:57:44.579Z"
   },
   {
    "duration": 11,
    "start_time": "2022-10-22T13:57:44.625Z"
   },
   {
    "duration": 34,
    "start_time": "2022-10-22T13:57:44.637Z"
   },
   {
    "duration": 38,
    "start_time": "2022-10-22T13:57:44.673Z"
   },
   {
    "duration": 6,
    "start_time": "2022-10-22T13:57:44.713Z"
   },
   {
    "duration": 120,
    "start_time": "2022-10-22T13:57:44.720Z"
   },
   {
    "duration": 14,
    "start_time": "2022-10-22T13:57:44.841Z"
   },
   {
    "duration": 5,
    "start_time": "2022-10-22T13:57:44.856Z"
   },
   {
    "duration": 11,
    "start_time": "2022-10-22T13:57:44.862Z"
   },
   {
    "duration": 136,
    "start_time": "2022-10-22T13:57:44.876Z"
   },
   {
    "duration": 5,
    "start_time": "2022-10-22T13:57:45.014Z"
   },
   {
    "duration": 8,
    "start_time": "2022-10-22T13:57:45.021Z"
   },
   {
    "duration": 7,
    "start_time": "2022-10-22T13:57:45.031Z"
   },
   {
    "duration": 8,
    "start_time": "2022-10-22T13:57:45.040Z"
   },
   {
    "duration": 150,
    "start_time": "2022-10-22T13:57:45.049Z"
   },
   {
    "duration": 11,
    "start_time": "2022-10-22T13:57:45.209Z"
   },
   {
    "duration": 19,
    "start_time": "2022-10-22T13:57:45.222Z"
   },
   {
    "duration": 5,
    "start_time": "2022-10-22T13:57:45.242Z"
   },
   {
    "duration": 9,
    "start_time": "2022-10-22T13:57:45.249Z"
   },
   {
    "duration": 8,
    "start_time": "2022-10-22T13:57:45.259Z"
   },
   {
    "duration": 8,
    "start_time": "2022-10-22T13:57:45.269Z"
   },
   {
    "duration": 31,
    "start_time": "2022-10-22T13:57:45.279Z"
   },
   {
    "duration": 10,
    "start_time": "2022-10-22T13:57:45.312Z"
   },
   {
    "duration": 21,
    "start_time": "2022-10-22T13:57:45.323Z"
   },
   {
    "duration": 9,
    "start_time": "2022-10-22T13:57:45.346Z"
   },
   {
    "duration": 372,
    "start_time": "2022-10-22T13:57:45.357Z"
   },
   {
    "duration": 601,
    "start_time": "2022-10-22T13:57:45.733Z"
   },
   {
    "duration": 298,
    "start_time": "2022-10-22T13:57:46.337Z"
   },
   {
    "duration": 221,
    "start_time": "2022-10-22T13:58:12.997Z"
   },
   {
    "duration": 238,
    "start_time": "2022-10-22T13:58:23.686Z"
   },
   {
    "duration": 43,
    "start_time": "2022-10-22T14:16:33.175Z"
   },
   {
    "duration": 5,
    "start_time": "2022-10-22T14:16:38.543Z"
   },
   {
    "duration": 14,
    "start_time": "2022-10-22T14:17:02.391Z"
   },
   {
    "duration": 4,
    "start_time": "2022-10-22T14:18:31.769Z"
   },
   {
    "duration": 15,
    "start_time": "2022-10-22T14:18:36.411Z"
   },
   {
    "duration": 3,
    "start_time": "2022-10-22T14:18:57.149Z"
   },
   {
    "duration": 16,
    "start_time": "2022-10-22T14:19:02.554Z"
   },
   {
    "duration": 4,
    "start_time": "2022-10-22T14:19:28.416Z"
   },
   {
    "duration": 4,
    "start_time": "2022-10-22T14:19:32.651Z"
   },
   {
    "duration": 160,
    "start_time": "2022-10-22T14:19:34.474Z"
   },
   {
    "duration": 4,
    "start_time": "2022-10-22T14:19:41.016Z"
   },
   {
    "duration": 45,
    "start_time": "2022-10-22T14:19:41.024Z"
   },
   {
    "duration": 12,
    "start_time": "2022-10-22T14:19:41.071Z"
   },
   {
    "duration": 48,
    "start_time": "2022-10-22T14:19:41.084Z"
   },
   {
    "duration": 20,
    "start_time": "2022-10-22T14:19:41.134Z"
   },
   {
    "duration": 8,
    "start_time": "2022-10-22T14:19:41.156Z"
   },
   {
    "duration": 123,
    "start_time": "2022-10-22T14:19:41.166Z"
   },
   {
    "duration": 25,
    "start_time": "2022-10-22T14:19:41.291Z"
   },
   {
    "duration": 23,
    "start_time": "2022-10-22T14:19:41.317Z"
   },
   {
    "duration": 11,
    "start_time": "2022-10-22T14:19:41.342Z"
   },
   {
    "duration": 146,
    "start_time": "2022-10-22T14:19:41.354Z"
   },
   {
    "duration": 6,
    "start_time": "2022-10-22T14:19:41.508Z"
   },
   {
    "duration": 5,
    "start_time": "2022-10-22T14:19:41.516Z"
   },
   {
    "duration": 5,
    "start_time": "2022-10-22T14:19:41.523Z"
   },
   {
    "duration": 9,
    "start_time": "2022-10-22T14:19:41.530Z"
   },
   {
    "duration": 168,
    "start_time": "2022-10-22T14:19:41.541Z"
   },
   {
    "duration": 12,
    "start_time": "2022-10-22T14:19:41.710Z"
   },
   {
    "duration": 16,
    "start_time": "2022-10-22T14:19:41.724Z"
   },
   {
    "duration": 5,
    "start_time": "2022-10-22T14:19:41.742Z"
   },
   {
    "duration": 5,
    "start_time": "2022-10-22T14:19:41.748Z"
   },
   {
    "duration": 10,
    "start_time": "2022-10-22T14:19:41.755Z"
   },
   {
    "duration": 7,
    "start_time": "2022-10-22T14:19:41.767Z"
   },
   {
    "duration": 4,
    "start_time": "2022-10-22T14:19:41.809Z"
   },
   {
    "duration": 13,
    "start_time": "2022-10-22T14:19:41.814Z"
   },
   {
    "duration": 30,
    "start_time": "2022-10-22T14:19:41.829Z"
   },
   {
    "duration": 12,
    "start_time": "2022-10-22T14:19:41.861Z"
   },
   {
    "duration": 249,
    "start_time": "2022-10-22T14:19:41.875Z"
   },
   {
    "duration": 291,
    "start_time": "2022-10-22T14:19:42.125Z"
   },
   {
    "duration": 408,
    "start_time": "2022-10-22T14:19:42.417Z"
   },
   {
    "duration": 5,
    "start_time": "2022-10-22T14:19:42.827Z"
   },
   {
    "duration": 207,
    "start_time": "2022-10-22T14:19:42.833Z"
   },
   {
    "duration": 5,
    "start_time": "2022-10-22T14:20:51.091Z"
   },
   {
    "duration": 124,
    "start_time": "2022-10-22T14:20:53.227Z"
   },
   {
    "duration": 5,
    "start_time": "2022-10-22T14:21:37.277Z"
   },
   {
    "duration": 117,
    "start_time": "2022-10-22T14:21:37.863Z"
   },
   {
    "duration": 5,
    "start_time": "2022-10-22T14:22:05.026Z"
   },
   {
    "duration": 118,
    "start_time": "2022-10-22T14:22:05.515Z"
   },
   {
    "duration": 124,
    "start_time": "2022-10-22T14:22:35.904Z"
   },
   {
    "duration": 266,
    "start_time": "2022-10-22T14:22:37.230Z"
   },
   {
    "duration": 39,
    "start_time": "2022-10-22T14:25:59.375Z"
   },
   {
    "duration": 261,
    "start_time": "2022-10-22T14:30:19.049Z"
   },
   {
    "duration": 196,
    "start_time": "2022-10-22T14:33:55.723Z"
   },
   {
    "duration": 2,
    "start_time": "2022-10-22T14:46:30.739Z"
   },
   {
    "duration": 5,
    "start_time": "2022-10-22T14:46:47.989Z"
   },
   {
    "duration": 105,
    "start_time": "2022-10-22T14:47:08.620Z"
   },
   {
    "duration": 11,
    "start_time": "2022-10-22T14:55:24.490Z"
   },
   {
    "duration": 20,
    "start_time": "2022-10-22T14:55:46.724Z"
   },
   {
    "duration": 10206,
    "start_time": "2022-10-22T14:56:06.060Z"
   },
   {
    "duration": 21,
    "start_time": "2022-10-22T14:57:16.672Z"
   },
   {
    "duration": 10631,
    "start_time": "2022-10-22T14:57:27.922Z"
   },
   {
    "duration": 3,
    "start_time": "2022-10-22T14:58:27.535Z"
   },
   {
    "duration": 39,
    "start_time": "2022-10-22T14:58:27.540Z"
   },
   {
    "duration": 12,
    "start_time": "2022-10-22T14:58:27.582Z"
   },
   {
    "duration": 47,
    "start_time": "2022-10-22T14:58:27.596Z"
   },
   {
    "duration": 16,
    "start_time": "2022-10-22T14:58:27.645Z"
   },
   {
    "duration": 6,
    "start_time": "2022-10-22T14:58:27.663Z"
   },
   {
    "duration": 128,
    "start_time": "2022-10-22T14:58:27.671Z"
   },
   {
    "duration": 17,
    "start_time": "2022-10-22T14:58:27.801Z"
   },
   {
    "duration": 3,
    "start_time": "2022-10-22T14:58:27.820Z"
   },
   {
    "duration": 11,
    "start_time": "2022-10-22T14:58:27.825Z"
   },
   {
    "duration": 138,
    "start_time": "2022-10-22T14:58:27.837Z"
   },
   {
    "duration": 6,
    "start_time": "2022-10-22T14:58:27.976Z"
   },
   {
    "duration": 6,
    "start_time": "2022-10-22T14:58:27.983Z"
   },
   {
    "duration": 18,
    "start_time": "2022-10-22T14:58:27.991Z"
   },
   {
    "duration": 5,
    "start_time": "2022-10-22T14:58:28.010Z"
   },
   {
    "duration": 133,
    "start_time": "2022-10-22T14:58:28.016Z"
   },
   {
    "duration": 10,
    "start_time": "2022-10-22T14:58:28.151Z"
   },
   {
    "duration": 15,
    "start_time": "2022-10-22T14:58:28.163Z"
   },
   {
    "duration": 4,
    "start_time": "2022-10-22T14:58:28.180Z"
   },
   {
    "duration": 26,
    "start_time": "2022-10-22T14:58:28.185Z"
   },
   {
    "duration": 8,
    "start_time": "2022-10-22T14:58:28.213Z"
   },
   {
    "duration": 5,
    "start_time": "2022-10-22T14:58:28.223Z"
   },
   {
    "duration": 6,
    "start_time": "2022-10-22T14:58:28.230Z"
   },
   {
    "duration": 13,
    "start_time": "2022-10-22T14:58:28.238Z"
   },
   {
    "duration": 21,
    "start_time": "2022-10-22T14:58:28.252Z"
   },
   {
    "duration": 10,
    "start_time": "2022-10-22T14:58:28.275Z"
   },
   {
    "duration": 5,
    "start_time": "2022-10-22T14:58:28.311Z"
   },
   {
    "duration": 119,
    "start_time": "2022-10-22T14:58:28.317Z"
   },
   {
    "duration": 10261,
    "start_time": "2022-10-22T14:58:28.437Z"
   },
   {
    "duration": 58,
    "start_time": "2022-10-22T15:00:35.550Z"
   },
   {
    "duration": 12,
    "start_time": "2022-10-22T15:02:24.436Z"
   },
   {
    "duration": 13,
    "start_time": "2022-10-22T15:02:46.910Z"
   },
   {
    "duration": 1638,
    "start_time": "2022-10-25T06:32:29.169Z"
   },
   {
    "duration": 207,
    "start_time": "2022-10-25T06:32:30.809Z"
   },
   {
    "duration": 27,
    "start_time": "2022-10-25T06:32:31.018Z"
   },
   {
    "duration": 72,
    "start_time": "2022-10-25T06:32:31.049Z"
   },
   {
    "duration": 18,
    "start_time": "2022-10-25T06:32:31.123Z"
   },
   {
    "duration": 16,
    "start_time": "2022-10-25T06:32:31.143Z"
   },
   {
    "duration": 149,
    "start_time": "2022-10-25T06:32:31.161Z"
   },
   {
    "duration": 17,
    "start_time": "2022-10-25T06:32:31.313Z"
   },
   {
    "duration": 24,
    "start_time": "2022-10-25T06:32:31.332Z"
   },
   {
    "duration": 11,
    "start_time": "2022-10-25T06:32:31.360Z"
   },
   {
    "duration": 165,
    "start_time": "2022-10-25T06:32:31.372Z"
   },
   {
    "duration": 6,
    "start_time": "2022-10-25T06:32:31.540Z"
   },
   {
    "duration": 11,
    "start_time": "2022-10-25T06:32:31.548Z"
   },
   {
    "duration": 11,
    "start_time": "2022-10-25T06:32:31.561Z"
   },
   {
    "duration": 9,
    "start_time": "2022-10-25T06:32:31.574Z"
   },
   {
    "duration": 209,
    "start_time": "2022-10-25T06:32:31.585Z"
   },
   {
    "duration": 26,
    "start_time": "2022-10-25T06:32:31.796Z"
   },
   {
    "duration": 67,
    "start_time": "2022-10-25T06:32:31.824Z"
   },
   {
    "duration": 16,
    "start_time": "2022-10-25T06:32:31.893Z"
   },
   {
    "duration": 11,
    "start_time": "2022-10-25T06:32:31.911Z"
   },
   {
    "duration": 11,
    "start_time": "2022-10-25T06:32:31.925Z"
   },
   {
    "duration": 9,
    "start_time": "2022-10-25T06:32:31.938Z"
   },
   {
    "duration": 5,
    "start_time": "2022-10-25T06:32:31.948Z"
   },
   {
    "duration": 13,
    "start_time": "2022-10-25T06:32:31.955Z"
   },
   {
    "duration": 25,
    "start_time": "2022-10-25T06:32:31.970Z"
   },
   {
    "duration": 30,
    "start_time": "2022-10-25T06:32:31.997Z"
   },
   {
    "duration": 5,
    "start_time": "2022-10-25T06:32:32.029Z"
   },
   {
    "duration": 130,
    "start_time": "2022-10-25T06:32:32.038Z"
   },
   {
    "duration": 9646,
    "start_time": "2022-10-25T06:32:32.170Z"
   },
   {
    "duration": 117,
    "start_time": "2022-10-25T06:32:41.821Z"
   },
   {
    "duration": 0,
    "start_time": "2022-10-25T06:32:41.940Z"
   },
   {
    "duration": 0,
    "start_time": "2022-10-25T06:32:41.942Z"
   },
   {
    "duration": 0,
    "start_time": "2022-10-25T06:32:41.943Z"
   },
   {
    "duration": 0,
    "start_time": "2022-10-25T06:32:41.944Z"
   },
   {
    "duration": 0,
    "start_time": "2022-10-25T06:32:41.946Z"
   },
   {
    "duration": 0,
    "start_time": "2022-10-25T06:32:41.947Z"
   },
   {
    "duration": 0,
    "start_time": "2022-10-25T06:32:41.948Z"
   },
   {
    "duration": 220,
    "start_time": "2022-10-25T06:35:08.959Z"
   },
   {
    "duration": 180,
    "start_time": "2022-10-25T06:58:20.388Z"
   },
   {
    "duration": 179,
    "start_time": "2022-10-25T06:58:36.955Z"
   },
   {
    "duration": 74140,
    "start_time": "2022-10-25T06:58:51.855Z"
   },
   {
    "duration": 460,
    "start_time": "2022-10-25T07:30:11.962Z"
   },
   {
    "duration": 99,
    "start_time": "2022-10-25T07:38:35.843Z"
   },
   {
    "duration": 30002,
    "start_time": "2022-10-25T07:39:24.729Z"
   },
   {
    "duration": 10407,
    "start_time": "2022-10-25T07:42:01.922Z"
   },
   {
    "duration": 343,
    "start_time": "2022-10-25T07:42:23.382Z"
   },
   {
    "duration": 10163,
    "start_time": "2022-10-25T07:42:58.562Z"
   },
   {
    "duration": 272,
    "start_time": "2022-10-25T07:43:11.763Z"
   },
   {
    "duration": 342,
    "start_time": "2022-10-25T07:45:31.700Z"
   },
   {
    "duration": 284,
    "start_time": "2022-10-25T07:45:34.556Z"
   },
   {
    "duration": 8823,
    "start_time": "2022-10-25T07:46:05.628Z"
   },
   {
    "duration": 165,
    "start_time": "2022-10-25T07:46:33.379Z"
   },
   {
    "duration": 69434,
    "start_time": "2022-10-25T07:46:42.385Z"
   },
   {
    "duration": 409,
    "start_time": "2022-10-25T07:48:09.835Z"
   },
   {
    "duration": 10448,
    "start_time": "2022-10-25T07:48:13.880Z"
   },
   {
    "duration": 348,
    "start_time": "2022-10-25T07:48:31.581Z"
   },
   {
    "duration": 9945,
    "start_time": "2022-10-25T07:49:02.184Z"
   },
   {
    "duration": 275,
    "start_time": "2022-10-25T07:49:20.667Z"
   },
   {
    "duration": 4,
    "start_time": "2022-10-25T07:50:35.442Z"
   },
   {
    "duration": 109,
    "start_time": "2022-10-25T07:50:36.787Z"
   },
   {
    "duration": 125,
    "start_time": "2022-10-25T07:50:40.292Z"
   },
   {
    "duration": 251,
    "start_time": "2022-10-25T07:50:41.455Z"
   },
   {
    "duration": 193,
    "start_time": "2022-10-25T07:51:39.841Z"
   },
   {
    "duration": 77,
    "start_time": "2022-10-25T07:54:45.798Z"
   },
   {
    "duration": 234,
    "start_time": "2022-10-25T07:55:02.556Z"
   },
   {
    "duration": 318,
    "start_time": "2022-10-25T07:55:24.913Z"
   },
   {
    "duration": 57,
    "start_time": "2022-10-25T13:12:01.480Z"
   },
   {
    "duration": 1504,
    "start_time": "2022-10-25T13:12:10.968Z"
   },
   {
    "duration": 109,
    "start_time": "2022-10-25T13:12:12.475Z"
   },
   {
    "duration": 15,
    "start_time": "2022-10-25T13:12:12.586Z"
   },
   {
    "duration": 55,
    "start_time": "2022-10-25T13:12:12.603Z"
   },
   {
    "duration": 25,
    "start_time": "2022-10-25T13:12:12.661Z"
   },
   {
    "duration": 10,
    "start_time": "2022-10-25T13:12:12.688Z"
   },
   {
    "duration": 174,
    "start_time": "2022-10-25T13:12:12.702Z"
   },
   {
    "duration": 12,
    "start_time": "2022-10-25T13:12:12.878Z"
   },
   {
    "duration": 5,
    "start_time": "2022-10-25T13:12:12.892Z"
   },
   {
    "duration": 5,
    "start_time": "2022-10-25T13:12:12.911Z"
   },
   {
    "duration": 154,
    "start_time": "2022-10-25T13:12:12.918Z"
   },
   {
    "duration": 6,
    "start_time": "2022-10-25T13:12:13.074Z"
   },
   {
    "duration": 13,
    "start_time": "2022-10-25T13:12:13.081Z"
   },
   {
    "duration": 9,
    "start_time": "2022-10-25T13:12:13.095Z"
   },
   {
    "duration": 25,
    "start_time": "2022-10-25T13:12:13.106Z"
   },
   {
    "duration": 156,
    "start_time": "2022-10-25T13:12:13.133Z"
   },
   {
    "duration": 12,
    "start_time": "2022-10-25T13:12:13.291Z"
   },
   {
    "duration": 31,
    "start_time": "2022-10-25T13:12:13.308Z"
   },
   {
    "duration": 6,
    "start_time": "2022-10-25T13:12:13.341Z"
   },
   {
    "duration": 10,
    "start_time": "2022-10-25T13:12:13.349Z"
   },
   {
    "duration": 9,
    "start_time": "2022-10-25T13:12:13.361Z"
   },
   {
    "duration": 15,
    "start_time": "2022-10-25T13:12:13.371Z"
   },
   {
    "duration": 4,
    "start_time": "2022-10-25T13:12:13.388Z"
   },
   {
    "duration": 31,
    "start_time": "2022-10-25T13:12:13.394Z"
   },
   {
    "duration": 32,
    "start_time": "2022-10-25T13:12:13.427Z"
   },
   {
    "duration": 13,
    "start_time": "2022-10-25T13:12:13.461Z"
   },
   {
    "duration": 19,
    "start_time": "2022-10-25T13:12:13.476Z"
   },
   {
    "duration": 14,
    "start_time": "2022-10-25T13:12:13.498Z"
   },
   {
    "duration": 178,
    "start_time": "2022-10-25T13:12:13.514Z"
   },
   {
    "duration": 11203,
    "start_time": "2022-10-25T13:12:13.694Z"
   },
   {
    "duration": 238,
    "start_time": "2022-10-25T13:12:24.899Z"
   },
   {
    "duration": 69129,
    "start_time": "2022-10-25T13:12:25.139Z"
   },
   {
    "duration": 458,
    "start_time": "2022-10-25T13:13:34.270Z"
   },
   {
    "duration": 12591,
    "start_time": "2022-10-25T13:13:34.730Z"
   },
   {
    "duration": 589,
    "start_time": "2022-10-25T13:13:47.325Z"
   },
   {
    "duration": 5,
    "start_time": "2022-10-25T13:13:47.916Z"
   },
   {
    "duration": 132,
    "start_time": "2022-10-25T13:13:47.923Z"
   },
   {
    "duration": 149,
    "start_time": "2022-10-25T13:13:48.057Z"
   },
   {
    "duration": 304,
    "start_time": "2022-10-25T13:13:48.207Z"
   },
   {
    "duration": 403,
    "start_time": "2022-10-25T13:13:48.513Z"
   },
   {
    "duration": 59473,
    "start_time": "2022-10-25T13:13:49.009Z"
   },
   {
    "duration": 11,
    "start_time": "2022-10-25T13:15:28.740Z"
   },
   {
    "duration": 20,
    "start_time": "2022-10-25T13:15:50.637Z"
   },
   {
    "duration": 13,
    "start_time": "2022-10-25T13:16:04.655Z"
   },
   {
    "duration": 10,
    "start_time": "2022-10-25T13:16:19.247Z"
   },
   {
    "duration": 14,
    "start_time": "2022-10-25T13:16:33.417Z"
   },
   {
    "duration": 5,
    "start_time": "2022-10-25T13:24:37.679Z"
   },
   {
    "duration": 6,
    "start_time": "2022-10-25T13:24:48.159Z"
   },
   {
    "duration": 86989,
    "start_time": "2022-10-25T13:26:50.025Z"
   },
   {
    "duration": 461,
    "start_time": "2022-10-25T13:28:24.167Z"
   },
   {
    "duration": 12149,
    "start_time": "2022-10-25T13:28:28.264Z"
   },
   {
    "duration": 345,
    "start_time": "2022-10-25T13:38:51.475Z"
   },
   {
    "duration": 4,
    "start_time": "2022-10-25T13:38:54.033Z"
   },
   {
    "duration": 118,
    "start_time": "2022-10-25T13:38:54.474Z"
   },
   {
    "duration": 134,
    "start_time": "2022-10-25T13:38:54.897Z"
   },
   {
    "duration": 300,
    "start_time": "2022-10-25T13:38:55.890Z"
   },
   {
    "duration": 408,
    "start_time": "2022-10-25T13:38:58.707Z"
   },
   {
    "duration": 6,
    "start_time": "2022-10-25T13:39:18.976Z"
   },
   {
    "duration": 457,
    "start_time": "2022-10-25T14:03:12.554Z"
   },
   {
    "duration": 4,
    "start_time": "2022-10-25T14:17:12.148Z"
   },
   {
    "duration": 16,
    "start_time": "2022-10-25T14:17:18.682Z"
   },
   {
    "duration": 4,
    "start_time": "2022-10-25T14:17:42.983Z"
   },
   {
    "duration": 20,
    "start_time": "2022-10-25T14:17:47.524Z"
   },
   {
    "duration": 4,
    "start_time": "2022-10-25T14:22:52.582Z"
   },
   {
    "duration": 13,
    "start_time": "2022-10-25T14:22:53.108Z"
   },
   {
    "duration": 8,
    "start_time": "2022-10-25T14:23:48.607Z"
   },
   {
    "duration": 4,
    "start_time": "2022-10-25T14:28:22.247Z"
   },
   {
    "duration": 8,
    "start_time": "2022-10-25T14:28:23.353Z"
   },
   {
    "duration": 492,
    "start_time": "2022-10-25T14:30:38.720Z"
   },
   {
    "duration": 390,
    "start_time": "2022-10-25T14:32:54.841Z"
   },
   {
    "duration": 11,
    "start_time": "2022-10-25T14:33:15.754Z"
   },
   {
    "duration": 656,
    "start_time": "2022-10-25T14:33:16.457Z"
   },
   {
    "duration": 12,
    "start_time": "2022-10-25T14:33:26.400Z"
   },
   {
    "duration": 859,
    "start_time": "2022-10-25T14:33:26.953Z"
   },
   {
    "duration": 10,
    "start_time": "2022-10-25T14:33:33.679Z"
   },
   {
    "duration": 596,
    "start_time": "2022-10-25T14:33:34.118Z"
   },
   {
    "duration": 11,
    "start_time": "2022-10-25T14:33:40.601Z"
   },
   {
    "duration": 673,
    "start_time": "2022-10-25T14:33:41.138Z"
   },
   {
    "duration": 11,
    "start_time": "2022-10-25T14:33:47.740Z"
   },
   {
    "duration": 671,
    "start_time": "2022-10-25T14:33:48.243Z"
   },
   {
    "duration": 10,
    "start_time": "2022-10-25T14:33:54.737Z"
   },
   {
    "duration": 659,
    "start_time": "2022-10-25T14:33:55.154Z"
   },
   {
    "duration": 10,
    "start_time": "2022-10-25T14:34:00.759Z"
   },
   {
    "duration": 653,
    "start_time": "2022-10-25T14:34:01.199Z"
   },
   {
    "duration": 10,
    "start_time": "2022-10-25T14:34:07.477Z"
   },
   {
    "duration": 770,
    "start_time": "2022-10-25T14:34:07.941Z"
   },
   {
    "duration": 686,
    "start_time": "2022-10-25T14:34:45.630Z"
   },
   {
    "duration": 9,
    "start_time": "2022-10-25T14:36:03.556Z"
   },
   {
    "duration": 545,
    "start_time": "2022-10-25T14:36:03.970Z"
   },
   {
    "duration": 9,
    "start_time": "2022-10-25T14:36:11.506Z"
   },
   {
    "duration": 703,
    "start_time": "2022-10-25T14:36:11.906Z"
   },
   {
    "duration": 10,
    "start_time": "2022-10-25T14:36:19.556Z"
   },
   {
    "duration": 549,
    "start_time": "2022-10-25T14:36:19.769Z"
   },
   {
    "duration": 11,
    "start_time": "2022-10-25T14:36:27.709Z"
   },
   {
    "duration": 579,
    "start_time": "2022-10-25T14:36:28.148Z"
   },
   {
    "duration": 9,
    "start_time": "2022-10-25T14:36:34.504Z"
   },
   {
    "duration": 671,
    "start_time": "2022-10-25T14:36:34.839Z"
   },
   {
    "duration": 5,
    "start_time": "2022-10-25T14:42:26.336Z"
   },
   {
    "duration": 9,
    "start_time": "2022-10-25T14:42:45.045Z"
   },
   {
    "duration": 9,
    "start_time": "2022-10-25T14:44:45.556Z"
   },
   {
    "duration": 442,
    "start_time": "2022-10-25T14:45:50.368Z"
   },
   {
    "duration": 10,
    "start_time": "2022-10-25T14:45:59.466Z"
   },
   {
    "duration": 288,
    "start_time": "2022-10-25T14:46:00.538Z"
   },
   {
    "duration": 10,
    "start_time": "2022-10-25T14:46:07.684Z"
   },
   {
    "duration": 332,
    "start_time": "2022-10-25T14:46:08.677Z"
   },
   {
    "duration": 12,
    "start_time": "2022-10-25T14:46:14.177Z"
   },
   {
    "duration": 338,
    "start_time": "2022-10-25T14:46:15.170Z"
   },
   {
    "duration": 9,
    "start_time": "2022-10-25T14:46:20.506Z"
   },
   {
    "duration": 327,
    "start_time": "2022-10-25T14:46:21.584Z"
   },
   {
    "duration": 9,
    "start_time": "2022-10-25T14:46:27.735Z"
   },
   {
    "duration": 348,
    "start_time": "2022-10-25T14:46:28.767Z"
   },
   {
    "duration": 8,
    "start_time": "2022-10-25T14:47:09.847Z"
   },
   {
    "duration": 288,
    "start_time": "2022-10-25T14:47:10.931Z"
   },
   {
    "duration": 10,
    "start_time": "2022-10-25T14:47:19.425Z"
   },
   {
    "duration": 297,
    "start_time": "2022-10-25T14:47:20.421Z"
   },
   {
    "duration": 11,
    "start_time": "2022-10-25T14:50:07.803Z"
   },
   {
    "duration": 306,
    "start_time": "2022-10-25T14:50:09.708Z"
   },
   {
    "duration": 9,
    "start_time": "2022-10-25T14:50:18.667Z"
   },
   {
    "duration": 411,
    "start_time": "2022-10-25T14:50:19.598Z"
   },
   {
    "duration": 10,
    "start_time": "2022-10-25T14:50:27.052Z"
   },
   {
    "duration": 393,
    "start_time": "2022-10-25T14:50:28.118Z"
   },
   {
    "duration": 9,
    "start_time": "2022-10-25T14:50:35.265Z"
   },
   {
    "duration": 334,
    "start_time": "2022-10-25T14:50:36.077Z"
   },
   {
    "duration": 9,
    "start_time": "2022-10-25T14:50:40.907Z"
   },
   {
    "duration": 358,
    "start_time": "2022-10-25T14:50:41.858Z"
   },
   {
    "duration": 9,
    "start_time": "2022-10-25T14:50:48.159Z"
   },
   {
    "duration": 329,
    "start_time": "2022-10-25T14:50:48.782Z"
   },
   {
    "duration": 52,
    "start_time": "2022-10-25T14:55:05.613Z"
   },
   {
    "duration": 231,
    "start_time": "2022-10-25T15:06:45.945Z"
   },
   {
    "duration": 224,
    "start_time": "2022-10-25T15:07:00.137Z"
   },
   {
    "duration": 223,
    "start_time": "2022-10-25T15:07:24.628Z"
   },
   {
    "duration": 228,
    "start_time": "2022-10-25T15:08:32.270Z"
   },
   {
    "duration": 221,
    "start_time": "2022-10-25T15:14:09.367Z"
   },
   {
    "duration": 229,
    "start_time": "2022-10-25T15:16:10.916Z"
   },
   {
    "duration": 304,
    "start_time": "2022-10-25T15:16:19.011Z"
   },
   {
    "duration": 5,
    "start_time": "2022-10-25T15:17:52.650Z"
   },
   {
    "duration": 57,
    "start_time": "2022-10-25T15:17:52.657Z"
   },
   {
    "duration": 14,
    "start_time": "2022-10-25T15:17:52.716Z"
   },
   {
    "duration": 48,
    "start_time": "2022-10-25T15:17:52.731Z"
   },
   {
    "duration": 42,
    "start_time": "2022-10-25T15:17:52.781Z"
   },
   {
    "duration": 5,
    "start_time": "2022-10-25T15:17:52.825Z"
   },
   {
    "duration": 130,
    "start_time": "2022-10-25T15:17:52.832Z"
   },
   {
    "duration": 12,
    "start_time": "2022-10-25T15:17:52.964Z"
   },
   {
    "duration": 3,
    "start_time": "2022-10-25T15:17:52.978Z"
   },
   {
    "duration": 28,
    "start_time": "2022-10-25T15:17:52.982Z"
   },
   {
    "duration": 136,
    "start_time": "2022-10-25T15:17:53.012Z"
   },
   {
    "duration": 5,
    "start_time": "2022-10-25T15:17:53.150Z"
   },
   {
    "duration": 5,
    "start_time": "2022-10-25T15:17:53.156Z"
   },
   {
    "duration": 11,
    "start_time": "2022-10-25T15:17:53.164Z"
   },
   {
    "duration": 10,
    "start_time": "2022-10-25T15:17:53.176Z"
   },
   {
    "duration": 151,
    "start_time": "2022-10-25T15:17:53.187Z"
   },
   {
    "duration": 10,
    "start_time": "2022-10-25T15:17:53.339Z"
   },
   {
    "duration": 16,
    "start_time": "2022-10-25T15:17:53.351Z"
   },
   {
    "duration": 4,
    "start_time": "2022-10-25T15:17:53.368Z"
   },
   {
    "duration": 10,
    "start_time": "2022-10-25T15:17:53.374Z"
   },
   {
    "duration": 27,
    "start_time": "2022-10-25T15:17:53.385Z"
   },
   {
    "duration": 6,
    "start_time": "2022-10-25T15:17:53.414Z"
   },
   {
    "duration": 10,
    "start_time": "2022-10-25T15:17:53.422Z"
   },
   {
    "duration": 9,
    "start_time": "2022-10-25T15:17:53.434Z"
   },
   {
    "duration": 24,
    "start_time": "2022-10-25T15:17:53.444Z"
   },
   {
    "duration": 10,
    "start_time": "2022-10-25T15:17:53.470Z"
   },
   {
    "duration": 28,
    "start_time": "2022-10-25T15:17:53.481Z"
   },
   {
    "duration": 72,
    "start_time": "2022-10-25T15:17:53.510Z"
   },
   {
    "duration": 128,
    "start_time": "2022-10-25T15:17:53.584Z"
   },
   {
    "duration": 10772,
    "start_time": "2022-10-25T15:17:53.714Z"
   },
   {
    "duration": 147,
    "start_time": "2022-10-25T15:18:04.488Z"
   },
   {
    "duration": 85595,
    "start_time": "2022-10-25T15:18:04.637Z"
   },
   {
    "duration": 481,
    "start_time": "2022-10-25T15:19:30.234Z"
   },
   {
    "duration": 12799,
    "start_time": "2022-10-25T15:19:30.717Z"
   },
   {
    "duration": 512,
    "start_time": "2022-10-25T15:19:43.518Z"
   },
   {
    "duration": 4,
    "start_time": "2022-10-25T15:19:44.032Z"
   },
   {
    "duration": 199,
    "start_time": "2022-10-25T15:19:44.038Z"
   },
   {
    "duration": 147,
    "start_time": "2022-10-25T15:19:44.238Z"
   },
   {
    "duration": 302,
    "start_time": "2022-10-25T15:19:44.387Z"
   },
   {
    "duration": 5,
    "start_time": "2022-10-25T15:19:44.690Z"
   },
   {
    "duration": 44,
    "start_time": "2022-10-25T15:19:44.708Z"
   },
   {
    "duration": 0,
    "start_time": "2022-10-25T15:19:44.754Z"
   },
   {
    "duration": 0,
    "start_time": "2022-10-25T15:19:44.755Z"
   },
   {
    "duration": 0,
    "start_time": "2022-10-25T15:19:44.756Z"
   },
   {
    "duration": 0,
    "start_time": "2022-10-25T15:19:44.757Z"
   },
   {
    "duration": 0,
    "start_time": "2022-10-25T15:19:44.758Z"
   },
   {
    "duration": 0,
    "start_time": "2022-10-25T15:19:44.759Z"
   },
   {
    "duration": 0,
    "start_time": "2022-10-25T15:19:44.761Z"
   },
   {
    "duration": 0,
    "start_time": "2022-10-25T15:19:44.762Z"
   },
   {
    "duration": 155,
    "start_time": "2022-10-25T15:24:11.774Z"
   },
   {
    "duration": 76739,
    "start_time": "2022-10-25T15:24:29.554Z"
   },
   {
    "duration": 8,
    "start_time": "2022-10-25T15:26:16.346Z"
   },
   {
    "duration": 6,
    "start_time": "2022-10-25T15:26:17.475Z"
   },
   {
    "duration": 4,
    "start_time": "2022-10-25T15:26:20.872Z"
   },
   {
    "duration": 9,
    "start_time": "2022-10-25T15:26:25.373Z"
   },
   {
    "duration": 22,
    "start_time": "2022-10-25T15:26:27.749Z"
   },
   {
    "duration": 10,
    "start_time": "2022-10-25T15:26:28.623Z"
   },
   {
    "duration": 6,
    "start_time": "2022-10-25T15:26:31.713Z"
   },
   {
    "duration": 6,
    "start_time": "2022-10-25T15:26:32.855Z"
   },
   {
    "duration": 111,
    "start_time": "2022-10-25T15:26:34.478Z"
   },
   {
    "duration": 10865,
    "start_time": "2022-10-25T15:26:44.535Z"
   },
   {
    "duration": 208,
    "start_time": "2022-10-25T15:27:24.511Z"
   },
   {
    "duration": 85434,
    "start_time": "2022-10-25T15:27:43.044Z"
   },
   {
    "duration": 422,
    "start_time": "2022-10-25T15:30:07.915Z"
   },
   {
    "duration": 12382,
    "start_time": "2022-10-25T15:30:17.529Z"
   },
   {
    "duration": 287,
    "start_time": "2022-10-25T15:30:40.741Z"
   },
   {
    "duration": 6,
    "start_time": "2022-10-25T15:30:48.145Z"
   },
   {
    "duration": 117,
    "start_time": "2022-10-25T15:30:49.359Z"
   },
   {
    "duration": 133,
    "start_time": "2022-10-25T15:30:50.522Z"
   },
   {
    "duration": 289,
    "start_time": "2022-10-25T15:30:51.325Z"
   },
   {
    "duration": 6,
    "start_time": "2022-10-25T15:30:57.515Z"
   },
   {
    "duration": 490,
    "start_time": "2022-10-25T15:31:10.220Z"
   },
   {
    "duration": 5,
    "start_time": "2022-10-25T15:31:17.712Z"
   },
   {
    "duration": 9,
    "start_time": "2022-10-25T15:31:21.074Z"
   },
   {
    "duration": 661,
    "start_time": "2022-10-25T15:31:22.853Z"
   },
   {
    "duration": 5,
    "start_time": "2022-10-25T15:31:31.551Z"
   },
   {
    "duration": 12,
    "start_time": "2022-10-25T15:31:34.323Z"
   },
   {
    "duration": 393,
    "start_time": "2022-10-25T15:31:35.525Z"
   },
   {
    "duration": 225,
    "start_time": "2022-10-25T15:31:58.208Z"
   },
   {
    "duration": 280,
    "start_time": "2022-10-25T15:36:51.655Z"
   },
   {
    "duration": 307,
    "start_time": "2022-10-25T15:39:12.020Z"
   },
   {
    "duration": 297,
    "start_time": "2022-10-25T15:39:18.500Z"
   },
   {
    "duration": 344,
    "start_time": "2022-10-25T15:39:24.559Z"
   },
   {
    "duration": 258,
    "start_time": "2022-10-25T15:39:29.939Z"
   },
   {
    "duration": 204,
    "start_time": "2022-10-25T15:39:36.989Z"
   },
   {
    "duration": 232,
    "start_time": "2022-10-25T15:39:42.894Z"
   },
   {
    "duration": 280,
    "start_time": "2022-10-25T15:39:47.742Z"
   },
   {
    "duration": 256,
    "start_time": "2022-10-25T15:40:40.275Z"
   },
   {
    "duration": 292,
    "start_time": "2022-10-25T15:40:59.508Z"
   },
   {
    "duration": 258,
    "start_time": "2022-10-25T15:41:06.190Z"
   },
   {
    "duration": 280,
    "start_time": "2022-10-25T15:41:10.686Z"
   },
   {
    "duration": 431,
    "start_time": "2022-10-25T15:42:28.633Z"
   },
   {
    "duration": 284,
    "start_time": "2022-10-25T15:44:14.970Z"
   },
   {
    "duration": 137,
    "start_time": "2022-10-25T15:46:22.476Z"
   },
   {
    "duration": 289,
    "start_time": "2022-10-25T15:56:03.578Z"
   },
   {
    "duration": 5,
    "start_time": "2022-10-25T15:56:52.198Z"
   },
   {
    "duration": 61,
    "start_time": "2022-10-25T15:56:52.207Z"
   },
   {
    "duration": 15,
    "start_time": "2022-10-25T15:56:52.271Z"
   },
   {
    "duration": 135,
    "start_time": "2022-10-25T15:56:52.288Z"
   },
   {
    "duration": 18,
    "start_time": "2022-10-25T15:56:52.425Z"
   },
   {
    "duration": 5,
    "start_time": "2022-10-25T15:56:52.445Z"
   },
   {
    "duration": 171,
    "start_time": "2022-10-25T15:56:52.451Z"
   },
   {
    "duration": 14,
    "start_time": "2022-10-25T15:56:52.624Z"
   },
   {
    "duration": 15,
    "start_time": "2022-10-25T15:56:52.641Z"
   },
   {
    "duration": 15,
    "start_time": "2022-10-25T15:56:52.658Z"
   },
   {
    "duration": 172,
    "start_time": "2022-10-25T15:56:52.676Z"
   },
   {
    "duration": 5,
    "start_time": "2022-10-25T15:56:52.850Z"
   },
   {
    "duration": 5,
    "start_time": "2022-10-25T15:56:52.856Z"
   },
   {
    "duration": 7,
    "start_time": "2022-10-25T15:56:52.862Z"
   },
   {
    "duration": 7,
    "start_time": "2022-10-25T15:56:52.871Z"
   },
   {
    "duration": 149,
    "start_time": "2022-10-25T15:56:52.880Z"
   },
   {
    "duration": 11,
    "start_time": "2022-10-25T15:56:53.031Z"
   },
   {
    "duration": 18,
    "start_time": "2022-10-25T15:56:53.043Z"
   },
   {
    "duration": 5,
    "start_time": "2022-10-25T15:56:53.062Z"
   },
   {
    "duration": 6,
    "start_time": "2022-10-25T15:56:53.069Z"
   },
   {
    "duration": 37,
    "start_time": "2022-10-25T15:56:53.077Z"
   },
   {
    "duration": 7,
    "start_time": "2022-10-25T15:56:53.115Z"
   },
   {
    "duration": 5,
    "start_time": "2022-10-25T15:56:53.124Z"
   },
   {
    "duration": 14,
    "start_time": "2022-10-25T15:56:53.131Z"
   },
   {
    "duration": 23,
    "start_time": "2022-10-25T15:56:53.147Z"
   },
   {
    "duration": 37,
    "start_time": "2022-10-25T15:56:53.172Z"
   },
   {
    "duration": 7,
    "start_time": "2022-10-25T15:56:53.211Z"
   },
   {
    "duration": 11,
    "start_time": "2022-10-25T15:56:53.220Z"
   },
   {
    "duration": 135,
    "start_time": "2022-10-25T15:56:53.235Z"
   },
   {
    "duration": 11016,
    "start_time": "2022-10-25T15:56:53.372Z"
   },
   {
    "duration": 234,
    "start_time": "2022-10-25T15:57:04.390Z"
   },
   {
    "duration": 85320,
    "start_time": "2022-10-25T15:57:04.625Z"
   },
   {
    "duration": 472,
    "start_time": "2022-10-25T15:58:29.947Z"
   },
   {
    "duration": 12995,
    "start_time": "2022-10-25T15:58:30.421Z"
   },
   {
    "duration": 521,
    "start_time": "2022-10-25T15:58:43.418Z"
   },
   {
    "duration": 5,
    "start_time": "2022-10-25T15:58:44.010Z"
   },
   {
    "duration": 145,
    "start_time": "2022-10-25T15:58:44.017Z"
   },
   {
    "duration": 150,
    "start_time": "2022-10-25T15:58:44.164Z"
   },
   {
    "duration": 298,
    "start_time": "2022-10-25T15:58:44.316Z"
   },
   {
    "duration": 6,
    "start_time": "2022-10-25T15:58:44.615Z"
   },
   {
    "duration": 397,
    "start_time": "2022-10-25T15:58:44.622Z"
   },
   {
    "duration": 92,
    "start_time": "2022-10-25T15:58:45.021Z"
   },
   {
    "duration": 105,
    "start_time": "2022-10-25T15:58:45.115Z"
   },
   {
    "duration": 597,
    "start_time": "2022-10-25T15:58:45.221Z"
   },
   {
    "duration": 91,
    "start_time": "2022-10-25T15:58:45.820Z"
   },
   {
    "duration": 102,
    "start_time": "2022-10-25T15:58:45.913Z"
   },
   {
    "duration": 299,
    "start_time": "2022-10-25T15:58:46.016Z"
   },
   {
    "duration": 445,
    "start_time": "2022-10-25T15:58:46.317Z"
   },
   {
    "duration": 126,
    "start_time": "2022-10-25T15:58:46.764Z"
   }
  ],
  "kernelspec": {
   "display_name": "Python 3 (ipykernel)",
   "language": "python",
   "name": "python3"
  },
  "language_info": {
   "codemirror_mode": {
    "name": "ipython",
    "version": 3
   },
   "file_extension": ".py",
   "mimetype": "text/x-python",
   "name": "python",
   "nbconvert_exporter": "python",
   "pygments_lexer": "ipython3",
   "version": "3.9.12"
  },
  "toc": {
   "base_numbering": 1,
   "nav_menu": {},
   "number_sections": true,
   "sideBar": true,
   "skip_h1_title": true,
   "title_cell": "Содержание",
   "title_sidebar": "Contents",
   "toc_cell": true,
   "toc_position": {},
   "toc_section_display": true,
   "toc_window_display": true
  }
 },
 "nbformat": 4,
 "nbformat_minor": 2
}
