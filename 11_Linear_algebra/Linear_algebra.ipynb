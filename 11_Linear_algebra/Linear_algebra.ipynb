{
 "cells": [
  {
   "cell_type": "markdown",
   "metadata": {
    "toc": true
   },
   "source": [
    "<h1>Содержание<span class=\"tocSkip\"></span></h1>\n",
    "<div class=\"toc\"><ul class=\"toc-item\"><li><span><a href=\"#Загрузка-данных\" data-toc-modified-id=\"Загрузка-данных-1\"><span class=\"toc-item-num\">1&nbsp;&nbsp;</span>Загрузка данных</a></span><ul class=\"toc-item\"><li><span><a href=\"#Импорт-библиотек\" data-toc-modified-id=\"Импорт-библиотек-1.1\"><span class=\"toc-item-num\">1.1&nbsp;&nbsp;</span>Импорт библиотек</a></span></li><li><span><a href=\"#Загрузка-и-изучение-данных\" data-toc-modified-id=\"Загрузка-и-изучение-данных-1.2\"><span class=\"toc-item-num\">1.2&nbsp;&nbsp;</span>Загрузка и изучение данных</a></span></li></ul></li><li><span><a href=\"#Умножение-матриц\" data-toc-modified-id=\"Умножение-матриц-2\"><span class=\"toc-item-num\">2&nbsp;&nbsp;</span>Умножение матриц</a></span><ul class=\"toc-item\"><li><span><a href=\"#Теоретическая-часть\" data-toc-modified-id=\"Теоретическая-часть-2.1\"><span class=\"toc-item-num\">2.1&nbsp;&nbsp;</span>Теоретическая часть</a></span></li><li><span><a href=\"#Признаки-умножают-на-обратимую-матрицу.-Изменится-ли-качество-линейной-регрессии?\" data-toc-modified-id=\"Признаки-умножают-на-обратимую-матрицу.-Изменится-ли-качество-линейной-регрессии?-2.2\"><span class=\"toc-item-num\">2.2&nbsp;&nbsp;</span>Признаки умножают на обратимую матрицу. Изменится ли качество линейной регрессии?</a></span></li></ul></li><li><span><a href=\"#Алгоритм-преобразования\" data-toc-modified-id=\"Алгоритм-преобразования-3\"><span class=\"toc-item-num\">3&nbsp;&nbsp;</span>Алгоритм преобразования</a></span></li><li><span><a href=\"#Проверка-алгоритма\" data-toc-modified-id=\"Проверка-алгоритма-4\"><span class=\"toc-item-num\">4&nbsp;&nbsp;</span>Проверка алгоритма</a></span><ul class=\"toc-item\"><li><span><a href=\"#Исследуем-качество-модели-без-преобразования\" data-toc-modified-id=\"Исследуем-качество-модели-без-преобразования-4.1\"><span class=\"toc-item-num\">4.1&nbsp;&nbsp;</span>Исследуем качество модели без преобразования</a></span><ul class=\"toc-item\"><li><span><a href=\"#С-исходными-признаками\" data-toc-modified-id=\"С-исходными-признаками-4.1.1\"><span class=\"toc-item-num\">4.1.1&nbsp;&nbsp;</span>С исходными признаками</a></span></li><li><span><a href=\"#С-отмасштабированными-признаками\" data-toc-modified-id=\"С-отмасштабированными-признаками-4.1.2\"><span class=\"toc-item-num\">4.1.2&nbsp;&nbsp;</span>С отмасштабированными признаками</a></span></li></ul></li><li><span><a href=\"#Исследуем-качество-модели-с-преобразованием\" data-toc-modified-id=\"Исследуем-качество-модели-с-преобразованием-4.2\"><span class=\"toc-item-num\">4.2&nbsp;&nbsp;</span>Исследуем качество модели с преобразованием</a></span><ul class=\"toc-item\"><li><span><a href=\"#Преобразование-матрицы\" data-toc-modified-id=\"Преобразование-матрицы-4.2.1\"><span class=\"toc-item-num\">4.2.1&nbsp;&nbsp;</span>Преобразование матрицы</a></span></li><li><span><a href=\"#Качество-модели-с-исходными-признаками\" data-toc-modified-id=\"Качество-модели-с-исходными-признаками-4.2.2\"><span class=\"toc-item-num\">4.2.2&nbsp;&nbsp;</span>Качество модели с исходными признаками</a></span></li><li><span><a href=\"#Качество-модели-с-отмасштабированными-признаками\" data-toc-modified-id=\"Качество-модели-с-отмасштабированными-признаками-4.2.3\"><span class=\"toc-item-num\">4.2.3&nbsp;&nbsp;</span>Качество модели с отмасштабированными признаками</a></span></li></ul></li></ul></li><li><span><a href=\"#Итоговый-вывод\" data-toc-modified-id=\"Итоговый-вывод-5\"><span class=\"toc-item-num\">5&nbsp;&nbsp;</span>Итоговый вывод</a></span></li></ul></div>"
   ]
  },
  {
   "cell_type": "markdown",
   "metadata": {},
   "source": [
    "# Защита персональных данных клиентов"
   ]
  },
  {
   "cell_type": "markdown",
   "metadata": {},
   "source": [
    "Вам нужно защитить данные клиентов страховой компании «Хоть потоп». Разработайте такой метод преобразования данных, чтобы по ним было сложно восстановить персональную информацию. Обоснуйте корректность его работы.\n",
    "\n",
    "Нужно защитить данные, чтобы при преобразовании качество моделей машинного обучения не ухудшилось. Подбирать наилучшую модель не требуется."
   ]
  },
  {
   "cell_type": "markdown",
   "metadata": {},
   "source": [
    "## Загрузка данных"
   ]
  },
  {
   "cell_type": "markdown",
   "metadata": {},
   "source": [
    "### Импорт библиотек"
   ]
  },
  {
   "cell_type": "code",
   "execution_count": 1,
   "metadata": {},
   "outputs": [],
   "source": [
    "import pandas as pd\n",
    "import numpy as np\n",
    "\n",
    "from sklearn.linear_model import LinearRegression\n",
    "from sklearn.model_selection import train_test_split\n",
    "from sklearn.metrics import r2_score\n",
    "from sklearn.preprocessing import StandardScaler\n",
    "from sklearn.pipeline import Pipeline"
   ]
  },
  {
   "cell_type": "markdown",
   "metadata": {},
   "source": [
    "### Загрузка и изучение данных"
   ]
  },
  {
   "cell_type": "code",
   "execution_count": 2,
   "metadata": {},
   "outputs": [
    {
     "data": {
      "text/html": [
       "<div>\n",
       "<style scoped>\n",
       "    .dataframe tbody tr th:only-of-type {\n",
       "        vertical-align: middle;\n",
       "    }\n",
       "\n",
       "    .dataframe tbody tr th {\n",
       "        vertical-align: top;\n",
       "    }\n",
       "\n",
       "    .dataframe thead th {\n",
       "        text-align: right;\n",
       "    }\n",
       "</style>\n",
       "<table border=\"1\" class=\"dataframe\">\n",
       "  <thead>\n",
       "    <tr style=\"text-align: right;\">\n",
       "      <th></th>\n",
       "      <th>Пол</th>\n",
       "      <th>Возраст</th>\n",
       "      <th>Зарплата</th>\n",
       "      <th>Члены семьи</th>\n",
       "      <th>Страховые выплаты</th>\n",
       "    </tr>\n",
       "  </thead>\n",
       "  <tbody>\n",
       "    <tr>\n",
       "      <th>0</th>\n",
       "      <td>1</td>\n",
       "      <td>41.0</td>\n",
       "      <td>49600.0</td>\n",
       "      <td>1</td>\n",
       "      <td>0</td>\n",
       "    </tr>\n",
       "    <tr>\n",
       "      <th>1</th>\n",
       "      <td>0</td>\n",
       "      <td>46.0</td>\n",
       "      <td>38000.0</td>\n",
       "      <td>1</td>\n",
       "      <td>1</td>\n",
       "    </tr>\n",
       "    <tr>\n",
       "      <th>2</th>\n",
       "      <td>0</td>\n",
       "      <td>29.0</td>\n",
       "      <td>21000.0</td>\n",
       "      <td>0</td>\n",
       "      <td>0</td>\n",
       "    </tr>\n",
       "    <tr>\n",
       "      <th>3</th>\n",
       "      <td>0</td>\n",
       "      <td>21.0</td>\n",
       "      <td>41700.0</td>\n",
       "      <td>2</td>\n",
       "      <td>0</td>\n",
       "    </tr>\n",
       "    <tr>\n",
       "      <th>4</th>\n",
       "      <td>1</td>\n",
       "      <td>28.0</td>\n",
       "      <td>26100.0</td>\n",
       "      <td>0</td>\n",
       "      <td>0</td>\n",
       "    </tr>\n",
       "  </tbody>\n",
       "</table>\n",
       "</div>"
      ],
      "text/plain": [
       "   Пол  Возраст  Зарплата  Члены семьи  Страховые выплаты\n",
       "0    1     41.0   49600.0            1                  0\n",
       "1    0     46.0   38000.0            1                  1\n",
       "2    0     29.0   21000.0            0                  0\n",
       "3    0     21.0   41700.0            2                  0\n",
       "4    1     28.0   26100.0            0                  0"
      ]
     },
     "execution_count": 2,
     "metadata": {},
     "output_type": "execute_result"
    }
   ],
   "source": [
    "# прочитаем файл и сохраним его в переменной df\n",
    "df = pd.read_csv('/datasets/insurance.csv')\n",
    "\n",
    "# выведем первые 5 строк на экран\n",
    "df.head()"
   ]
  },
  {
   "cell_type": "code",
   "execution_count": 3,
   "metadata": {},
   "outputs": [
    {
     "name": "stdout",
     "output_type": "stream",
     "text": [
      "<class 'pandas.core.frame.DataFrame'>\n",
      "RangeIndex: 5000 entries, 0 to 4999\n",
      "Data columns (total 5 columns):\n",
      " #   Column             Non-Null Count  Dtype  \n",
      "---  ------             --------------  -----  \n",
      " 0   Пол                5000 non-null   int64  \n",
      " 1   Возраст            5000 non-null   float64\n",
      " 2   Зарплата           5000 non-null   float64\n",
      " 3   Члены семьи        5000 non-null   int64  \n",
      " 4   Страховые выплаты  5000 non-null   int64  \n",
      "dtypes: float64(2), int64(3)\n",
      "memory usage: 195.4 KB\n"
     ]
    }
   ],
   "source": [
    "# с полощью метода info() изучим общую информацию о данных: количество строк и столбцов, типы данных и наличие пропуков\n",
    "df.info()"
   ]
  },
  {
   "cell_type": "code",
   "execution_count": 4,
   "metadata": {},
   "outputs": [
    {
     "data": {
      "text/html": [
       "<div>\n",
       "<style scoped>\n",
       "    .dataframe tbody tr th:only-of-type {\n",
       "        vertical-align: middle;\n",
       "    }\n",
       "\n",
       "    .dataframe tbody tr th {\n",
       "        vertical-align: top;\n",
       "    }\n",
       "\n",
       "    .dataframe thead th {\n",
       "        text-align: right;\n",
       "    }\n",
       "</style>\n",
       "<table border=\"1\" class=\"dataframe\">\n",
       "  <thead>\n",
       "    <tr style=\"text-align: right;\">\n",
       "      <th></th>\n",
       "      <th>Пол</th>\n",
       "      <th>Возраст</th>\n",
       "      <th>Зарплата</th>\n",
       "      <th>Члены семьи</th>\n",
       "      <th>Страховые выплаты</th>\n",
       "    </tr>\n",
       "  </thead>\n",
       "  <tbody>\n",
       "    <tr>\n",
       "      <th>count</th>\n",
       "      <td>5000.000000</td>\n",
       "      <td>5000.000000</td>\n",
       "      <td>5000.000000</td>\n",
       "      <td>5000.000000</td>\n",
       "      <td>5000.000000</td>\n",
       "    </tr>\n",
       "    <tr>\n",
       "      <th>mean</th>\n",
       "      <td>0.499000</td>\n",
       "      <td>30.952800</td>\n",
       "      <td>39916.360000</td>\n",
       "      <td>1.194200</td>\n",
       "      <td>0.148000</td>\n",
       "    </tr>\n",
       "    <tr>\n",
       "      <th>std</th>\n",
       "      <td>0.500049</td>\n",
       "      <td>8.440807</td>\n",
       "      <td>9900.083569</td>\n",
       "      <td>1.091387</td>\n",
       "      <td>0.463183</td>\n",
       "    </tr>\n",
       "    <tr>\n",
       "      <th>min</th>\n",
       "      <td>0.000000</td>\n",
       "      <td>18.000000</td>\n",
       "      <td>5300.000000</td>\n",
       "      <td>0.000000</td>\n",
       "      <td>0.000000</td>\n",
       "    </tr>\n",
       "    <tr>\n",
       "      <th>25%</th>\n",
       "      <td>0.000000</td>\n",
       "      <td>24.000000</td>\n",
       "      <td>33300.000000</td>\n",
       "      <td>0.000000</td>\n",
       "      <td>0.000000</td>\n",
       "    </tr>\n",
       "    <tr>\n",
       "      <th>50%</th>\n",
       "      <td>0.000000</td>\n",
       "      <td>30.000000</td>\n",
       "      <td>40200.000000</td>\n",
       "      <td>1.000000</td>\n",
       "      <td>0.000000</td>\n",
       "    </tr>\n",
       "    <tr>\n",
       "      <th>75%</th>\n",
       "      <td>1.000000</td>\n",
       "      <td>37.000000</td>\n",
       "      <td>46600.000000</td>\n",
       "      <td>2.000000</td>\n",
       "      <td>0.000000</td>\n",
       "    </tr>\n",
       "    <tr>\n",
       "      <th>max</th>\n",
       "      <td>1.000000</td>\n",
       "      <td>65.000000</td>\n",
       "      <td>79000.000000</td>\n",
       "      <td>6.000000</td>\n",
       "      <td>5.000000</td>\n",
       "    </tr>\n",
       "  </tbody>\n",
       "</table>\n",
       "</div>"
      ],
      "text/plain": [
       "               Пол      Возраст      Зарплата  Члены семьи  Страховые выплаты\n",
       "count  5000.000000  5000.000000   5000.000000  5000.000000        5000.000000\n",
       "mean      0.499000    30.952800  39916.360000     1.194200           0.148000\n",
       "std       0.500049     8.440807   9900.083569     1.091387           0.463183\n",
       "min       0.000000    18.000000   5300.000000     0.000000           0.000000\n",
       "25%       0.000000    24.000000  33300.000000     0.000000           0.000000\n",
       "50%       0.000000    30.000000  40200.000000     1.000000           0.000000\n",
       "75%       1.000000    37.000000  46600.000000     2.000000           0.000000\n",
       "max       1.000000    65.000000  79000.000000     6.000000           5.000000"
      ]
     },
     "execution_count": 4,
     "metadata": {},
     "output_type": "execute_result"
    }
   ],
   "source": [
    "df.describe()"
   ]
  },
  {
   "cell_type": "markdown",
   "metadata": {},
   "source": [
    "Проверим, есть ли в данных дубликаты"
   ]
  },
  {
   "cell_type": "code",
   "execution_count": 5,
   "metadata": {},
   "outputs": [
    {
     "data": {
      "text/plain": [
       "Пол                  153\n",
       "Возраст              153\n",
       "Зарплата             153\n",
       "Члены семьи          153\n",
       "Страховые выплаты    153\n",
       "dtype: int64"
      ]
     },
     "execution_count": 5,
     "metadata": {},
     "output_type": "execute_result"
    }
   ],
   "source": [
    "df[df.duplicated() == True].count()"
   ]
  },
  {
   "cell_type": "markdown",
   "metadata": {},
   "source": [
    "Количество дубликатов - 153 строчки"
   ]
  },
  {
   "cell_type": "markdown",
   "metadata": {},
   "source": [
    "Изменим тип данных в столбцах Возраст и Зарплата на целочисленный ввиду отсуствия дробных частей. Так же уменьшим обращение к памяти для остальных столбцов"
   ]
  },
  {
   "cell_type": "code",
   "execution_count": 6,
   "metadata": {},
   "outputs": [
    {
     "name": "stdout",
     "output_type": "stream",
     "text": [
      "Максимальный остаток от деления на 1: 0.999999999992724\n",
      "Средний остаток от деления на 1: 0.0006000000000240107\n",
      "Минимальный остаток от деления на 1: 0.0\n"
     ]
    }
   ],
   "source": [
    "print('Максимальный остаток от деления на 1:', (df['Зарплата'] % 1).max())\n",
    "print('Средний остаток от деления на 1:', (df['Зарплата'] % 1).mean())\n",
    "print('Минимальный остаток от деления на 1:', (df['Зарплата'] % 1).min())"
   ]
  },
  {
   "cell_type": "code",
   "execution_count": 7,
   "metadata": {},
   "outputs": [
    {
     "name": "stdout",
     "output_type": "stream",
     "text": [
      "<class 'pandas.core.frame.DataFrame'>\n",
      "RangeIndex: 5000 entries, 0 to 4999\n",
      "Data columns (total 5 columns):\n",
      " #   Column             Non-Null Count  Dtype\n",
      "---  ------             --------------  -----\n",
      " 0   Пол                5000 non-null   int64\n",
      " 1   Возраст            5000 non-null   int64\n",
      " 2   Зарплата           5000 non-null   int64\n",
      " 3   Члены семьи        5000 non-null   int64\n",
      " 4   Страховые выплаты  5000 non-null   int64\n",
      "dtypes: int64(5)\n",
      "memory usage: 195.4 KB\n"
     ]
    }
   ],
   "source": [
    "df = df.astype(int, errors='ignore')\n",
    "df.info()"
   ]
  },
  {
   "cell_type": "code",
   "execution_count": 8,
   "metadata": {},
   "outputs": [
    {
     "name": "stdout",
     "output_type": "stream",
     "text": [
      "<class 'pandas.core.frame.DataFrame'>\n",
      "RangeIndex: 5000 entries, 0 to 4999\n",
      "Data columns (total 5 columns):\n",
      " #   Column             Non-Null Count  Dtype\n",
      "---  ------             --------------  -----\n",
      " 0   Пол                5000 non-null   int8 \n",
      " 1   Возраст            5000 non-null   int8 \n",
      " 2   Зарплата           5000 non-null   int32\n",
      " 3   Члены семьи        5000 non-null   int8 \n",
      " 4   Страховые выплаты  5000 non-null   int8 \n",
      "dtypes: int32(1), int8(4)\n",
      "memory usage: 39.2 KB\n"
     ]
    }
   ],
   "source": [
    "df['Пол'] = pd.to_numeric(df['Пол'], downcast='integer')\n",
    "df['Возраст'] = pd.to_numeric(df['Возраст'], downcast='integer')\n",
    "df['Зарплата'] = pd.to_numeric(df['Зарплата'], downcast='integer')\n",
    "df['Члены семьи'] = pd.to_numeric(df['Члены семьи'], downcast='integer')\n",
    "df['Страховые выплаты'] = pd.to_numeric(df['Страховые выплаты'], downcast='integer')\n",
    "df.info()"
   ]
  },
  {
   "cell_type": "markdown",
   "metadata": {},
   "source": [
    "Проведем корреляционный анализ и посмотрим, как переменные взаимосвязаны между собой"
   ]
  },
  {
   "cell_type": "code",
   "execution_count": 9,
   "metadata": {},
   "outputs": [
    {
     "data": {
      "text/html": [
       "<div>\n",
       "<style scoped>\n",
       "    .dataframe tbody tr th:only-of-type {\n",
       "        vertical-align: middle;\n",
       "    }\n",
       "\n",
       "    .dataframe tbody tr th {\n",
       "        vertical-align: top;\n",
       "    }\n",
       "\n",
       "    .dataframe thead th {\n",
       "        text-align: right;\n",
       "    }\n",
       "</style>\n",
       "<table border=\"1\" class=\"dataframe\">\n",
       "  <thead>\n",
       "    <tr style=\"text-align: right;\">\n",
       "      <th></th>\n",
       "      <th>Пол</th>\n",
       "      <th>Возраст</th>\n",
       "      <th>Зарплата</th>\n",
       "      <th>Члены семьи</th>\n",
       "      <th>Страховые выплаты</th>\n",
       "    </tr>\n",
       "  </thead>\n",
       "  <tbody>\n",
       "    <tr>\n",
       "      <th>Пол</th>\n",
       "      <td>1.000000</td>\n",
       "      <td>0.002074</td>\n",
       "      <td>0.014910</td>\n",
       "      <td>-0.008991</td>\n",
       "      <td>0.010140</td>\n",
       "    </tr>\n",
       "    <tr>\n",
       "      <th>Возраст</th>\n",
       "      <td>0.002074</td>\n",
       "      <td>1.000000</td>\n",
       "      <td>-0.019093</td>\n",
       "      <td>-0.006692</td>\n",
       "      <td>0.651030</td>\n",
       "    </tr>\n",
       "    <tr>\n",
       "      <th>Зарплата</th>\n",
       "      <td>0.014910</td>\n",
       "      <td>-0.019093</td>\n",
       "      <td>1.000000</td>\n",
       "      <td>-0.030296</td>\n",
       "      <td>-0.014963</td>\n",
       "    </tr>\n",
       "    <tr>\n",
       "      <th>Члены семьи</th>\n",
       "      <td>-0.008991</td>\n",
       "      <td>-0.006692</td>\n",
       "      <td>-0.030296</td>\n",
       "      <td>1.000000</td>\n",
       "      <td>-0.036290</td>\n",
       "    </tr>\n",
       "    <tr>\n",
       "      <th>Страховые выплаты</th>\n",
       "      <td>0.010140</td>\n",
       "      <td>0.651030</td>\n",
       "      <td>-0.014963</td>\n",
       "      <td>-0.036290</td>\n",
       "      <td>1.000000</td>\n",
       "    </tr>\n",
       "  </tbody>\n",
       "</table>\n",
       "</div>"
      ],
      "text/plain": [
       "                        Пол   Возраст  Зарплата  Члены семьи  \\\n",
       "Пол                1.000000  0.002074  0.014910    -0.008991   \n",
       "Возраст            0.002074  1.000000 -0.019093    -0.006692   \n",
       "Зарплата           0.014910 -0.019093  1.000000    -0.030296   \n",
       "Члены семьи       -0.008991 -0.006692 -0.030296     1.000000   \n",
       "Страховые выплаты  0.010140  0.651030 -0.014963    -0.036290   \n",
       "\n",
       "                   Страховые выплаты  \n",
       "Пол                         0.010140  \n",
       "Возраст                     0.651030  \n",
       "Зарплата                   -0.014963  \n",
       "Члены семьи                -0.036290  \n",
       "Страховые выплаты           1.000000  "
      ]
     },
     "execution_count": 9,
     "metadata": {},
     "output_type": "execute_result"
    }
   ],
   "source": [
    "df.corr()"
   ]
  },
  {
   "cell_type": "markdown",
   "metadata": {},
   "source": [
    "**Вывод:**\n",
    "- Количество мужчин и женщин в датасете поравну\n",
    "- Возраст от 18 до 65 лет и в среднем людям 31\n",
    "- Зарплата от 5300 до 79000\n",
    "- Членов семьи в среднем 1, максимально 6\n",
    "- Страховых выплат обычно нет, но максимально 5\n",
    "- Страховые выплаты сильно коррелируют с Возрастом и имеют обратную корреляцию и Количеством членов семьи и Зарплатой"
   ]
  },
  {
   "cell_type": "markdown",
   "metadata": {},
   "source": [
    "## Умножение матриц"
   ]
  },
  {
   "cell_type": "markdown",
   "metadata": {},
   "source": [
    "Убедимся в том, что линейня регрессия из scikit-learn вычисляет значения по формуле:"
   ]
  },
  {
   "cell_type": "code",
   "execution_count": 10,
   "metadata": {},
   "outputs": [],
   "source": [
    "features = df.drop('Страховые выплаты', axis=1)\n",
    "target = df['Страховые выплаты']"
   ]
  },
  {
   "cell_type": "code",
   "execution_count": 11,
   "metadata": {},
   "outputs": [
    {
     "data": {
      "text/plain": [
       "array([ 7.92580563e-03,  3.57083050e-02, -1.70081903e-07, -1.35676627e-02])"
      ]
     },
     "metadata": {},
     "output_type": "display_data"
    }
   ],
   "source": [
    "X = np.concatenate((np.ones((features.shape[0], 1)), features), axis=1)\n",
    "y = target\n",
    "w = np.linalg.inv(X.T.dot(X)).dot(X.T).dot(y)\n",
    "display(w[1:])"
   ]
  },
  {
   "cell_type": "code",
   "execution_count": 12,
   "metadata": {},
   "outputs": [
    {
     "data": {
      "text/plain": [
       "array([ 7.92580563e-03,  3.57083050e-02, -1.70081903e-07, -1.35676627e-02])"
      ]
     },
     "execution_count": 12,
     "metadata": {},
     "output_type": "execute_result"
    }
   ],
   "source": [
    "model = LinearRegression()\n",
    "model.fit(features, target)\n",
    "model.coef_"
   ]
  },
  {
   "cell_type": "markdown",
   "metadata": {},
   "source": [
    "**Вывод:** Коэфициенты регрессии совпадают на 100%"
   ]
  },
  {
   "cell_type": "markdown",
   "metadata": {},
   "source": [
    "### Теоретическая часть"
   ]
  },
  {
   "cell_type": "markdown",
   "metadata": {},
   "source": [
    "Обозначения:\n",
    "\n",
    "- $X$ — матрица признаков (нулевой столбец состоит из единиц)\n",
    "\n",
    "- $y$ — вектор целевого признака\n",
    "\n",
    "- $P$ — матрица, на которую умножаются признаки\n",
    "\n",
    "- $w$ — вектор весов линейной регрессии (нулевой элемент равен сдвигу)"
   ]
  },
  {
   "cell_type": "markdown",
   "metadata": {},
   "source": [
    "Предсказания:\n",
    "\n",
    "$$\n",
    "a = Xw\n",
    "$$\n",
    "\n",
    "Задача обучения:\n",
    "\n",
    "$$\n",
    "w = \\arg\\min_w MSE(Xw, y)\n",
    "$$\n",
    "\n",
    "Формула обучения:\n",
    "\n",
    "$$\n",
    "w = (X^T X)^{-1} X^T y\n",
    "$$"
   ]
  },
  {
   "cell_type": "markdown",
   "metadata": {},
   "source": [
    "### Признаки умножают на обратимую матрицу. Изменится ли качество линейной регрессии?"
   ]
  },
  {
   "cell_type": "markdown",
   "metadata": {},
   "source": [
    "**Ответ:** не изменится."
   ]
  },
  {
   "cell_type": "markdown",
   "metadata": {},
   "source": [
    "**Обоснование:**"
   ]
  },
  {
   "cell_type": "markdown",
   "metadata": {},
   "source": [
    "Заменим матрицу ***X*** на матрицу ***Z***:"
   ]
  },
  {
   "cell_type": "markdown",
   "metadata": {},
   "source": [
    "$$\n",
    "Z = XP\n",
    "$$"
   ]
  },
  {
   "cell_type": "markdown",
   "metadata": {},
   "source": [
    "где ***P*** - обратимая матрица с некими значениями, на которую может быть умножена матрица "
   ]
  },
  {
   "cell_type": "markdown",
   "metadata": {},
   "source": [
    "Заменим ***X*** на ***Z*** и вычислим, чему будет равено предсказание и вектор весов."
   ]
  },
  {
   "cell_type": "markdown",
   "metadata": {},
   "source": [
    "$$\n",
    "a_{1} = Zw_{1}\n",
    "$$"
   ]
  },
  {
   "cell_type": "markdown",
   "metadata": {},
   "source": [
    "$$\n",
    "w_{1} = (Z^T Z)^{-1} Z^T y\n",
    "$$"
   ]
  },
  {
   "cell_type": "markdown",
   "metadata": {},
   "source": [
    "Подставим второе уравнение в первое:"
   ]
  },
  {
   "cell_type": "markdown",
   "metadata": {},
   "source": [
    "$$\n",
    "a_{1} = Z(Z^T Z)^{-1} Z^T y\n",
    "$$"
   ]
  },
  {
   "cell_type": "markdown",
   "metadata": {},
   "source": [
    "Заменим все ***Z***:"
   ]
  },
  {
   "cell_type": "markdown",
   "metadata": {},
   "source": [
    "$$\n",
    "a_{1} = XP((XP)^T (XP))^{-1} (XP)^T y\n",
    "$$"
   ]
  },
  {
   "cell_type": "markdown",
   "metadata": {},
   "source": [
    "Воспользуемся свойством транспорнированной матрицы:"
   ]
  },
  {
   "cell_type": "markdown",
   "metadata": {},
   "source": [
    "$$\n",
    "(AB)^T = B^T A^T\n",
    "$$"
   ]
  },
  {
   "cell_type": "markdown",
   "metadata": {},
   "source": [
    "$$\n",
    "a_{1} = XP(P^T X^T X P))^{-1} (XP)^T y\n",
    "$$"
   ]
  },
  {
   "cell_type": "markdown",
   "metadata": {},
   "source": [
    "Свойсво обратной матрицы:"
   ]
  },
  {
   "cell_type": "markdown",
   "metadata": {},
   "source": [
    "$$\n",
    "(AB)^{-1} = (B)^{-1} (A)^{-1}\n",
    "$$"
   ]
  },
  {
   "cell_type": "markdown",
   "metadata": {},
   "source": [
    "$$\n",
    "a_{1} = XP(P)^{-1} (X^T X)^{-1} (P^T)^{-1} P^T X^T  y\n",
    "$$"
   ]
  },
  {
   "cell_type": "markdown",
   "metadata": {},
   "source": [
    "$$\n",
    "P(P)^{-1} = E\n",
    "$$"
   ]
  },
  {
   "cell_type": "markdown",
   "metadata": {},
   "source": [
    "$$\n",
    "(P^T)^{-1} (P)^T = E\n",
    "$$"
   ]
  },
  {
   "cell_type": "markdown",
   "metadata": {},
   "source": [
    "Умножение на единичную матрицу ничего не меняет."
   ]
  },
  {
   "cell_type": "markdown",
   "metadata": {},
   "source": [
    "$$\n",
    "a_{1} = X E (X^T X)^{-1} E X^T  y = X (X^T X)^{-1} (X)^T y = Xw = a\n",
    "$$\n"
   ]
  },
  {
   "cell_type": "markdown",
   "metadata": {},
   "source": [
    "**Вывод:** значение предсказания не меняется, если умножать матрицу признаков на обратимую матрицу"
   ]
  },
  {
   "cell_type": "markdown",
   "metadata": {},
   "source": [
    "## Алгоритм преобразования"
   ]
  },
  {
   "cell_type": "markdown",
   "metadata": {},
   "source": [
    "**Алгоритм**\n",
    "\n",
    "Для защиты информации на этапе поиска коэффициентов регрессии и предсказаний регрессии будем умножать матрицу признаков на обратимую матрицу , которая будет генерироваться случайным образом.\n",
    "\n",
    "Этапы алгоритма:\n",
    "\n",
    "1. Составление матрицы ***Y***\n",
    "2. Проверка матрицы на обратимость. Вычисление детерминанта матрицы ***Y***\n",
    "3. Получение матрицы преобразованных признаков ***Z=XY***\n",
    "4. Применение алгоритма на преобразованных признаках ***Z***"
   ]
  },
  {
   "cell_type": "markdown",
   "metadata": {},
   "source": [
    "**Обоснование**\n",
    "\n",
    "Матрица ***Y*** должна иметь размерность ***nxn***, где n - количество признаков для регрессии. Матрица ***Z*** будет иметь туже размерность, что и матрица ***X***. "
   ]
  },
  {
   "cell_type": "markdown",
   "metadata": {},
   "source": [
    "$$\n",
    "X = \n",
    "\\begin{pmatrix}\n",
    "1 & 2 \\\\\n",
    "2 & 3 \\\\\n",
    "4 & 5 \\\\\n",
    "\\end{pmatrix}\n",
    "$$"
   ]
  },
  {
   "cell_type": "markdown",
   "metadata": {},
   "source": [
    "$$\n",
    "Y = \n",
    "\\begin{pmatrix}\n",
    "1 & 0 \\\\\n",
    "2 & 3 \\\\\n",
    "\\end{pmatrix}\n",
    "$$"
   ]
  },
  {
   "cell_type": "markdown",
   "metadata": {},
   "source": [
    "Найдем значние ***Z***:"
   ]
  },
  {
   "cell_type": "markdown",
   "metadata": {},
   "source": [
    "$$\n",
    "Z = XY = \n",
    "\\begin{pmatrix}\n",
    "1*1+2*2 & 1*0+2*3 \\\\\n",
    "2*1+3*2 & 2*0+3*3 \\\\\n",
    "4*1+5*2 & 4*0+5*3 \\\\\n",
    "\\end{pmatrix}\n",
    "= \n",
    "\\begin{pmatrix}\n",
    "5 & 6 \\\\\n",
    "8 & 9 \\\\\n",
    "14 & 15 \\\\\n",
    "\\end{pmatrix}\n",
    "$$"
   ]
  },
  {
   "cell_type": "markdown",
   "metadata": {},
   "source": [
    "После этого добавляем нулевой столбец и вводим данные в линейную регрессию"
   ]
  },
  {
   "cell_type": "markdown",
   "metadata": {},
   "source": [
    "## Проверка алгоритма"
   ]
  },
  {
   "cell_type": "markdown",
   "metadata": {},
   "source": [
    "Проведем исследование модели по двум направлениям:\n",
    "\n",
    "- Исследуем качество модели без преобразования.\n",
    "   - С исходными признаками\n",
    "   - С отмасштабированными признаками\n",
    "- Исследуем качество модели с преобразованием. \n",
    "   - С исходными признаками \n",
    "   - С отмасштабированными признаками"
   ]
  },
  {
   "cell_type": "markdown",
   "metadata": {},
   "source": [
    "Разделим данные на обучающие и тестовые"
   ]
  },
  {
   "cell_type": "code",
   "execution_count": 13,
   "metadata": {},
   "outputs": [],
   "source": [
    "features_train, features_test, target_train, target_test = train_test_split(\n",
    "    features, target, test_size=0.25, random_state=12345)"
   ]
  },
  {
   "cell_type": "code",
   "execution_count": 14,
   "metadata": {},
   "outputs": [
    {
     "name": "stdout",
     "output_type": "stream",
     "text": [
      "Размер тренировочной выборки (3750, 4)\n",
      "Размер тестовой выборки (1250, 4)\n"
     ]
    }
   ],
   "source": [
    "print('Размер тренировочной выборки', features_train.shape)\n",
    "print('Размер тестовой выборки', features_test.shape)"
   ]
  },
  {
   "cell_type": "markdown",
   "metadata": {},
   "source": [
    "### Исследуем качество модели без преобразования"
   ]
  },
  {
   "cell_type": "markdown",
   "metadata": {},
   "source": [
    "#### С исходными признаками"
   ]
  },
  {
   "cell_type": "code",
   "execution_count": 15,
   "metadata": {},
   "outputs": [
    {
     "name": "stdout",
     "output_type": "stream",
     "text": [
      "Коэффициенты - вектор w: [ 1.79258370e-02  3.57228278e-02 -5.46002729e-07 -1.26186599e-02]\n",
      "R2 = 0.4352275684083322\n"
     ]
    }
   ],
   "source": [
    "model = LinearRegression()\n",
    "model.fit(features_train, target_train)\n",
    "\n",
    "R2_origin_data = r2_score(target_test, model.predict(features_test))\n",
    "\n",
    "print(\"Коэффициенты - вектор w:\",model.coef_)\n",
    "print(\"R2 =\", R2_origin_data)"
   ]
  },
  {
   "cell_type": "markdown",
   "metadata": {},
   "source": [
    "#### С отмасштабированными признаками"
   ]
  },
  {
   "cell_type": "code",
   "execution_count": 16,
   "metadata": {},
   "outputs": [
    {
     "name": "stdout",
     "output_type": "stream",
     "text": [
      "R2 = 0.43522756840833376\n"
     ]
    }
   ],
   "source": [
    "regressor = LinearRegression()\n",
    "scaller = StandardScaler()\n",
    "scaller.fit(features_train, target_train)\n",
    "\n",
    "pipeline = Pipeline([(\"standard_scaller\", scaller),(\"linear_regression\", regressor)])\n",
    "pipeline.fit(features_train, target_train)\n",
    "\n",
    "R2_LR_origin_data_scaled = r2_score(target_test, pipeline.predict(features_test))\n",
    "\n",
    "print(\"R2 =\", R2_LR_origin_data_scaled)"
   ]
  },
  {
   "cell_type": "markdown",
   "metadata": {},
   "source": [
    "**Вывод:** Модель ведет себя одинаково как на исходных данных, так и на отмасштабированных"
   ]
  },
  {
   "cell_type": "markdown",
   "metadata": {},
   "source": [
    "### Исследуем качество модели с преобразованием"
   ]
  },
  {
   "cell_type": "markdown",
   "metadata": {},
   "source": [
    "#### Преобразование матрицы"
   ]
  },
  {
   "cell_type": "markdown",
   "metadata": {},
   "source": [
    "Создадим матрицу признаков:"
   ]
  },
  {
   "cell_type": "code",
   "execution_count": 17,
   "metadata": {},
   "outputs": [
    {
     "data": {
      "text/plain": [
       "array([[    1,    41, 49600,     1],\n",
       "       [    0,    46, 38000,     1],\n",
       "       [    0,    29, 21000,     0],\n",
       "       [    0,    21, 41700,     2],\n",
       "       [    1,    28, 26100,     0]], dtype=int32)"
      ]
     },
     "execution_count": 17,
     "metadata": {},
     "output_type": "execute_result"
    }
   ],
   "source": [
    "features_matrix = features.values\n",
    "features_matrix[:5, :]"
   ]
  },
  {
   "cell_type": "markdown",
   "metadata": {},
   "source": [
    "Создадим случайную матрицу nxn"
   ]
  },
  {
   "cell_type": "code",
   "execution_count": 18,
   "metadata": {},
   "outputs": [
    {
     "data": {
      "text/plain": [
       "array([[7, 4, 8, 5],\n",
       "       [7, 3, 7, 8],\n",
       "       [5, 4, 8, 8],\n",
       "       [3, 6, 5, 2]])"
      ]
     },
     "execution_count": 18,
     "metadata": {},
     "output_type": "execute_result"
    }
   ],
   "source": [
    "n = features.shape[1]\n",
    "np.random.seed(42)\n",
    "random_matrix = np.random.randint(1, 10, (n,n))\n",
    "random_matrix"
   ]
  },
  {
   "cell_type": "markdown",
   "metadata": {},
   "source": [
    "Проверим случайную матрицу на обратимость."
   ]
  },
  {
   "cell_type": "code",
   "execution_count": 19,
   "metadata": {},
   "outputs": [
    {
     "data": {
      "text/plain": [
       "array([[ 0.06374502,  0.33466135, -0.38645418,  0.04780876],\n",
       "       [-0.24701195,  0.20318725, -0.12749004,  0.31474104],\n",
       "       [ 0.37450199, -0.53386454,  0.35458167, -0.21912351],\n",
       "       [-0.29083665,  0.22310757,  0.07569721,  0.03187251]])"
      ]
     },
     "execution_count": 19,
     "metadata": {},
     "output_type": "execute_result"
    }
   ],
   "source": [
    "np.linalg.inv(random_matrix)"
   ]
  },
  {
   "cell_type": "markdown",
   "metadata": {},
   "source": [
    "Ошибки не возникло, значит матрица обратима"
   ]
  },
  {
   "cell_type": "markdown",
   "metadata": {},
   "source": [
    "Умножим матрицу признаков features_matrix на матрицу random_matrix. Результат сохраним в переменной encoded_matrix."
   ]
  },
  {
   "cell_type": "code",
   "execution_count": 20,
   "metadata": {},
   "outputs": [
    {
     "data": {
      "text/plain": [
       "array([[248297, 198533, 397100, 397135],\n",
       "       [190325, 152144, 304327, 304370],\n",
       "       [105203,  84087, 168203, 168232],\n",
       "       [208653, 166875, 333757, 333772],\n",
       "       [130703, 104488, 209004, 209029]])"
      ]
     },
     "execution_count": 20,
     "metadata": {},
     "output_type": "execute_result"
    }
   ],
   "source": [
    "encoded_matrix = features_matrix @ random_matrix\n",
    "encoded_matrix[:5, :]"
   ]
  },
  {
   "cell_type": "markdown",
   "metadata": {},
   "source": [
    "Данные потеряли свои оригинальные значения, теперь в них хранится непонятное число"
   ]
  },
  {
   "cell_type": "code",
   "execution_count": 21,
   "metadata": {},
   "outputs": [
    {
     "data": {
      "text/plain": [
       "numpy.ndarray"
      ]
     },
     "execution_count": 21,
     "metadata": {},
     "output_type": "execute_result"
    }
   ],
   "source": [
    "type(encoded_matrix)"
   ]
  },
  {
   "cell_type": "markdown",
   "metadata": {},
   "source": [
    "*Данные преобразовали. Можно приступить к обучению модели*"
   ]
  },
  {
   "cell_type": "markdown",
   "metadata": {},
   "source": [
    "#### Качество модели с исходными признаками"
   ]
  },
  {
   "cell_type": "markdown",
   "metadata": {},
   "source": [
    "Разделим данные на обучающие и тестовые"
   ]
  },
  {
   "cell_type": "code",
   "execution_count": 22,
   "metadata": {},
   "outputs": [],
   "source": [
    "features_train, features_test, target_train, target_test = train_test_split(\n",
    "    encoded_matrix, target, test_size=0.25, random_state=12345)"
   ]
  },
  {
   "cell_type": "code",
   "execution_count": 23,
   "metadata": {},
   "outputs": [
    {
     "name": "stdout",
     "output_type": "stream",
     "text": [
      "Размер тренировочной выборки (3750, 4)\n",
      "Размер тестовой выборки (1250, 4)\n"
     ]
    }
   ],
   "source": [
    "print('Размер тренировочной выборки', features_train.shape)\n",
    "print('Размер тестовой выборки', features_test.shape)"
   ]
  },
  {
   "cell_type": "code",
   "execution_count": 24,
   "metadata": {},
   "outputs": [
    {
     "name": "stdout",
     "output_type": "stream",
     "text": [
      "Коэффициенты - вектор w: [ 0.01249466 -0.00114101 -0.00959304  0.00235431]\n",
      "R2 = 0.43522756840807486\n"
     ]
    }
   ],
   "source": [
    "model = LinearRegression()\n",
    "model.fit(features_train, target_train)\n",
    "\n",
    "R2_encoded_matrix = r2_score(target_test, model.predict(features_test))\n",
    "\n",
    "print(\"Коэффициенты - вектор w:\",model.coef_)\n",
    "print(\"R2 =\", R2_encoded_matrix)"
   ]
  },
  {
   "cell_type": "markdown",
   "metadata": {},
   "source": [
    "#### Качество модели с отмасштабированными признаками"
   ]
  },
  {
   "cell_type": "code",
   "execution_count": 25,
   "metadata": {},
   "outputs": [
    {
     "name": "stdout",
     "output_type": "stream",
     "text": [
      "R2 = 0.4352275684077155\n"
     ]
    }
   ],
   "source": [
    "regressor = LinearRegression()\n",
    "scaller = StandardScaler()\n",
    "scaller.fit(features_train, target_train)\n",
    "\n",
    "pipeline = Pipeline([(\"standard_scaller\", scaller),(\"linear_regression\", regressor)])\n",
    "pipeline.fit(features_train, target_train)\n",
    "\n",
    "R2_encoded_matrix_scaled = r2_score(target_test, pipeline.predict(features_test))\n",
    "\n",
    "print(\"R2 =\", R2_encoded_matrix_scaled)"
   ]
  },
  {
   "cell_type": "markdown",
   "metadata": {},
   "source": [
    "Сравним показатели качества моделей"
   ]
  },
  {
   "cell_type": "code",
   "execution_count": 26,
   "metadata": {},
   "outputs": [
    {
     "data": {
      "text/html": [
       "<div>\n",
       "<style scoped>\n",
       "    .dataframe tbody tr th:only-of-type {\n",
       "        vertical-align: middle;\n",
       "    }\n",
       "\n",
       "    .dataframe tbody tr th {\n",
       "        vertical-align: top;\n",
       "    }\n",
       "\n",
       "    .dataframe thead th {\n",
       "        text-align: right;\n",
       "    }\n",
       "</style>\n",
       "<table border=\"1\" class=\"dataframe\">\n",
       "  <thead>\n",
       "    <tr style=\"text-align: right;\">\n",
       "      <th></th>\n",
       "      <th>R2</th>\n",
       "    </tr>\n",
       "  </thead>\n",
       "  <tbody>\n",
       "    <tr>\n",
       "      <th>Линейная регрессия</th>\n",
       "      <td>0.435228</td>\n",
       "    </tr>\n",
       "    <tr>\n",
       "      <th>Линейная регрессия c масштабом</th>\n",
       "      <td>0.435228</td>\n",
       "    </tr>\n",
       "    <tr>\n",
       "      <th>Линейная регрессия на преобразованных признаках</th>\n",
       "      <td>0.435228</td>\n",
       "    </tr>\n",
       "    <tr>\n",
       "      <th>Линейная регрессия на преобразованных признаках c масштабом</th>\n",
       "      <td>0.435228</td>\n",
       "    </tr>\n",
       "  </tbody>\n",
       "</table>\n",
       "</div>"
      ],
      "text/plain": [
       "                                                          R2\n",
       "Линейная регрессия                                  0.435228\n",
       "Линейная регрессия c масштабом                      0.435228\n",
       "Линейная регрессия на преобразованных признаках     0.435228\n",
       "Линейная регрессия на преобразованных признаках...  0.435228"
      ]
     },
     "execution_count": 26,
     "metadata": {},
     "output_type": "execute_result"
    }
   ],
   "source": [
    "result = pd.DataFrame(data= [R2_LR_origin_data_scaled,\n",
    "                      R2_origin_data,\n",
    "                      R2_encoded_matrix,\n",
    "                      R2_encoded_matrix_scaled], \n",
    "                     columns=['R2'], \n",
    "                     index=['Линейная регрессия',\n",
    "                            'Линейная регрессия c масштабом',\n",
    "                            'Линейная регрессия на преобразованных признаках',\n",
    "                            'Линейная регрессия на преобразованных признаках c масштабом',])\n",
    "result"
   ]
  },
  {
   "cell_type": "markdown",
   "metadata": {},
   "source": [
    "Метрики идентичны, а это значит, что качество модели линейной регрессии после преобразования данных не изменилось"
   ]
  },
  {
   "cell_type": "markdown",
   "metadata": {},
   "source": [
    "## Итоговый вывод"
   ]
  },
  {
   "cell_type": "markdown",
   "metadata": {},
   "source": [
    "В ходе работы было проделано:\n",
    "- Загружены и изучены данные\n",
    "- Математически доказано, что качество линейной регрессии не изменится, если умножать признаки на обратимую матрицу\n",
    "- Создан алгоритм преобразования данных\n",
    "- Протестирован алгоритм преобразования данных и проверена метрика R2 для данных без преобразования и с ним\n",
    "\n",
    "По результатам работы использования матричных операций можно увидеть, что данные очень просто зашифровать от распознования, имея правильную матрицу."
   ]
  }
 ],
 "metadata": {
  "ExecuteTimeLog": [
   {
    "duration": 441,
    "start_time": "2023-03-06T02:44:12.235Z"
   },
   {
    "duration": 84,
    "start_time": "2023-03-06T02:44:24.341Z"
   },
   {
    "duration": 49,
    "start_time": "2023-03-06T02:48:21.327Z"
   },
   {
    "duration": 11,
    "start_time": "2023-03-06T02:48:51.260Z"
   },
   {
    "duration": 68,
    "start_time": "2023-03-06T02:51:58.666Z"
   },
   {
    "duration": 13,
    "start_time": "2023-03-06T02:52:30.961Z"
   },
   {
    "duration": 5,
    "start_time": "2023-03-06T02:53:02.261Z"
   },
   {
    "duration": 7,
    "start_time": "2023-03-06T02:53:19.244Z"
   },
   {
    "duration": 4,
    "start_time": "2023-03-06T02:53:55.572Z"
   },
   {
    "duration": 16,
    "start_time": "2023-03-06T02:54:41.846Z"
   },
   {
    "duration": 11,
    "start_time": "2023-03-06T02:54:47.284Z"
   },
   {
    "duration": 8,
    "start_time": "2023-03-06T02:56:02.261Z"
   },
   {
    "duration": 23,
    "start_time": "2023-03-06T02:56:24.661Z"
   },
   {
    "duration": 4,
    "start_time": "2023-03-06T03:47:03.454Z"
   },
   {
    "duration": 3,
    "start_time": "2023-03-06T04:24:43.819Z"
   },
   {
    "duration": 8,
    "start_time": "2023-03-06T04:24:44.429Z"
   },
   {
    "duration": 7,
    "start_time": "2023-03-06T04:24:45.390Z"
   },
   {
    "duration": 984,
    "start_time": "2023-03-06T04:25:05.670Z"
   },
   {
    "duration": 11,
    "start_time": "2023-03-06T04:25:08.542Z"
   },
   {
    "duration": 3,
    "start_time": "2023-03-06T04:59:58.947Z"
   },
   {
    "duration": 107,
    "start_time": "2023-03-06T05:01:10.340Z"
   },
   {
    "duration": 71,
    "start_time": "2023-03-06T05:01:43.700Z"
   },
   {
    "duration": 103,
    "start_time": "2023-03-06T05:12:54.655Z"
   },
   {
    "duration": 81,
    "start_time": "2023-03-06T05:17:26.675Z"
   },
   {
    "duration": 70,
    "start_time": "2023-03-06T05:20:28.063Z"
   },
   {
    "duration": 71,
    "start_time": "2023-03-06T09:34:28.591Z"
   },
   {
    "duration": 9,
    "start_time": "2023-03-06T09:42:00.114Z"
   },
   {
    "duration": 57,
    "start_time": "2023-03-06T09:43:10.831Z"
   },
   {
    "duration": 9,
    "start_time": "2023-03-06T09:43:16.908Z"
   },
   {
    "duration": 9,
    "start_time": "2023-03-06T09:43:40.309Z"
   },
   {
    "duration": 14,
    "start_time": "2023-03-06T09:44:31.340Z"
   },
   {
    "duration": 3,
    "start_time": "2023-03-06T09:44:39.407Z"
   },
   {
    "duration": 42,
    "start_time": "2023-03-06T09:44:39.412Z"
   },
   {
    "duration": 12,
    "start_time": "2023-03-06T09:44:39.456Z"
   },
   {
    "duration": 31,
    "start_time": "2023-03-06T09:44:39.470Z"
   },
   {
    "duration": 4,
    "start_time": "2023-03-06T09:44:39.503Z"
   },
   {
    "duration": 12,
    "start_time": "2023-03-06T09:44:39.509Z"
   },
   {
    "duration": 63,
    "start_time": "2023-03-06T09:44:39.523Z"
   },
   {
    "duration": 13,
    "start_time": "2023-03-06T09:44:39.674Z"
   },
   {
    "duration": 1094,
    "start_time": "2023-03-06T09:44:56.106Z"
   },
   {
    "duration": 42,
    "start_time": "2023-03-06T09:44:57.202Z"
   },
   {
    "duration": 11,
    "start_time": "2023-03-06T09:44:57.245Z"
   },
   {
    "duration": 38,
    "start_time": "2023-03-06T09:44:57.258Z"
   },
   {
    "duration": 3,
    "start_time": "2023-03-06T09:44:57.298Z"
   },
   {
    "duration": 14,
    "start_time": "2023-03-06T09:44:57.303Z"
   },
   {
    "duration": 63,
    "start_time": "2023-03-06T09:44:57.322Z"
   },
   {
    "duration": 202,
    "start_time": "2023-03-06T09:44:57.387Z"
   },
   {
    "duration": 0,
    "start_time": "2023-03-06T09:44:57.591Z"
   },
   {
    "duration": 13,
    "start_time": "2023-03-06T09:45:23.553Z"
   },
   {
    "duration": 5,
    "start_time": "2023-03-06T09:45:27.753Z"
   },
   {
    "duration": 4,
    "start_time": "2023-03-06T09:45:50.310Z"
   },
   {
    "duration": 3,
    "start_time": "2023-03-06T09:48:54.814Z"
   },
   {
    "duration": 12,
    "start_time": "2023-03-06T09:50:31.021Z"
   },
   {
    "duration": 4,
    "start_time": "2023-03-06T09:51:41.014Z"
   },
   {
    "duration": 11,
    "start_time": "2023-03-06T09:55:01.302Z"
   },
   {
    "duration": 14,
    "start_time": "2023-03-06T09:55:03.014Z"
   },
   {
    "duration": 10,
    "start_time": "2023-03-06T09:56:24.318Z"
   },
   {
    "duration": 14,
    "start_time": "2023-03-06T09:56:25.198Z"
   },
   {
    "duration": 1053,
    "start_time": "2023-03-07T13:33:40.404Z"
   },
   {
    "duration": 111,
    "start_time": "2023-03-07T13:33:41.459Z"
   },
   {
    "duration": 11,
    "start_time": "2023-03-07T13:33:41.571Z"
   },
   {
    "duration": 26,
    "start_time": "2023-03-07T13:33:41.584Z"
   },
   {
    "duration": 3,
    "start_time": "2023-03-07T13:33:41.612Z"
   },
   {
    "duration": 30,
    "start_time": "2023-03-07T13:33:41.617Z"
   },
   {
    "duration": 103,
    "start_time": "2023-03-07T13:33:41.654Z"
   },
   {
    "duration": 6,
    "start_time": "2023-03-07T13:33:41.767Z"
   },
   {
    "duration": 5,
    "start_time": "2023-03-07T13:33:41.774Z"
   },
   {
    "duration": 11,
    "start_time": "2023-03-07T13:33:41.781Z"
   },
   {
    "duration": 62,
    "start_time": "2023-03-07T13:33:41.793Z"
   },
   {
    "duration": 9,
    "start_time": "2023-03-07T13:33:41.857Z"
   },
   {
    "duration": 4,
    "start_time": "2023-03-07T13:35:53.633Z"
   },
   {
    "duration": 5,
    "start_time": "2023-03-07T13:36:17.194Z"
   },
   {
    "duration": 63,
    "start_time": "2023-03-07T13:37:05.369Z"
   },
   {
    "duration": 5,
    "start_time": "2023-03-07T13:37:36.032Z"
   },
   {
    "duration": 3,
    "start_time": "2023-03-07T13:37:51.990Z"
   },
   {
    "duration": 4,
    "start_time": "2023-03-07T13:42:21.624Z"
   },
   {
    "duration": 4,
    "start_time": "2023-03-07T13:42:35.949Z"
   },
   {
    "duration": 7,
    "start_time": "2023-03-07T13:43:29.780Z"
   },
   {
    "duration": 11,
    "start_time": "2023-03-07T13:43:57.599Z"
   },
   {
    "duration": 105,
    "start_time": "2023-03-07T13:46:07.430Z"
   },
   {
    "duration": 1007,
    "start_time": "2023-03-07T13:46:15.603Z"
   },
   {
    "duration": 52,
    "start_time": "2023-03-07T13:46:16.612Z"
   },
   {
    "duration": 11,
    "start_time": "2023-03-07T13:46:16.667Z"
   },
   {
    "duration": 21,
    "start_time": "2023-03-07T13:46:16.680Z"
   },
   {
    "duration": 3,
    "start_time": "2023-03-07T13:46:16.703Z"
   },
   {
    "duration": 37,
    "start_time": "2023-03-07T13:46:16.707Z"
   },
   {
    "duration": 115,
    "start_time": "2023-03-07T13:46:16.745Z"
   },
   {
    "duration": 28,
    "start_time": "2023-03-07T13:46:16.862Z"
   },
   {
    "duration": 6,
    "start_time": "2023-03-07T13:46:16.891Z"
   },
   {
    "duration": 10,
    "start_time": "2023-03-07T13:46:16.898Z"
   },
   {
    "duration": 12,
    "start_time": "2023-03-07T13:46:16.910Z"
   },
   {
    "duration": 4,
    "start_time": "2023-03-07T13:46:16.924Z"
   },
   {
    "duration": 13,
    "start_time": "2023-03-07T13:46:16.931Z"
   },
   {
    "duration": 39,
    "start_time": "2023-03-07T13:46:16.948Z"
   },
   {
    "duration": 10,
    "start_time": "2023-03-07T13:46:16.991Z"
   },
   {
    "duration": 9,
    "start_time": "2023-03-07T13:46:17.048Z"
   },
   {
    "duration": 86,
    "start_time": "2023-03-07T13:46:17.059Z"
   },
   {
    "duration": 24,
    "start_time": "2023-03-07T13:46:17.151Z"
   },
   {
    "duration": 113,
    "start_time": "2023-03-07T13:46:17.177Z"
   },
   {
    "duration": 0,
    "start_time": "2023-03-07T13:46:17.292Z"
   },
   {
    "duration": 0,
    "start_time": "2023-03-07T13:46:17.293Z"
   },
   {
    "duration": 9,
    "start_time": "2023-03-07T13:46:34.962Z"
   },
   {
    "duration": 8,
    "start_time": "2023-03-07T13:46:39.709Z"
   },
   {
    "duration": 8,
    "start_time": "2023-03-07T13:46:45.015Z"
   },
   {
    "duration": 1048,
    "start_time": "2023-03-07T13:51:48.111Z"
   },
   {
    "duration": 43,
    "start_time": "2023-03-07T13:51:49.165Z"
   },
   {
    "duration": 10,
    "start_time": "2023-03-07T13:51:49.209Z"
   },
   {
    "duration": 42,
    "start_time": "2023-03-07T13:51:49.220Z"
   },
   {
    "duration": 7,
    "start_time": "2023-03-07T13:51:49.264Z"
   },
   {
    "duration": 7,
    "start_time": "2023-03-07T13:51:49.273Z"
   },
   {
    "duration": 75,
    "start_time": "2023-03-07T13:51:49.281Z"
   },
   {
    "duration": 6,
    "start_time": "2023-03-07T13:51:49.358Z"
   },
   {
    "duration": 78,
    "start_time": "2023-03-07T13:51:49.366Z"
   },
   {
    "duration": 31,
    "start_time": "2023-03-07T13:51:49.452Z"
   },
   {
    "duration": 14,
    "start_time": "2023-03-07T13:51:49.485Z"
   },
   {
    "duration": 4,
    "start_time": "2023-03-07T13:51:49.501Z"
   },
   {
    "duration": 6,
    "start_time": "2023-03-07T13:51:49.507Z"
   },
   {
    "duration": 8,
    "start_time": "2023-03-07T13:51:49.515Z"
   },
   {
    "duration": 11,
    "start_time": "2023-03-07T13:51:49.546Z"
   },
   {
    "duration": 84,
    "start_time": "2023-03-07T13:51:49.559Z"
   },
   {
    "duration": 5,
    "start_time": "2023-03-07T13:51:49.645Z"
   },
   {
    "duration": 27,
    "start_time": "2023-03-07T13:51:49.652Z"
   },
   {
    "duration": 11,
    "start_time": "2023-03-07T13:51:49.681Z"
   },
   {
    "duration": 13,
    "start_time": "2023-03-07T13:51:49.693Z"
   },
   {
    "duration": 8,
    "start_time": "2023-03-07T13:51:49.708Z"
   },
   {
    "duration": 1181,
    "start_time": "2023-03-09T04:04:14.240Z"
   },
   {
    "duration": 109,
    "start_time": "2023-03-09T04:04:15.423Z"
   },
   {
    "duration": 10,
    "start_time": "2023-03-09T04:04:15.533Z"
   },
   {
    "duration": 22,
    "start_time": "2023-03-09T04:04:15.545Z"
   },
   {
    "duration": 5,
    "start_time": "2023-03-09T04:07:33.904Z"
   },
   {
    "duration": 7,
    "start_time": "2023-03-09T04:07:40.402Z"
   },
   {
    "duration": 18,
    "start_time": "2023-03-09T04:08:18.279Z"
   },
   {
    "duration": 13,
    "start_time": "2023-03-09T04:09:18.927Z"
   },
   {
    "duration": 22,
    "start_time": "2023-03-09T04:09:27.768Z"
   },
   {
    "duration": 8,
    "start_time": "2023-03-09T04:10:53.129Z"
   },
   {
    "duration": 9,
    "start_time": "2023-03-09T04:14:29.620Z"
   },
   {
    "duration": 12,
    "start_time": "2023-03-09T04:14:33.435Z"
   },
   {
    "duration": 8,
    "start_time": "2023-03-09T04:15:21.441Z"
   },
   {
    "duration": 13,
    "start_time": "2023-03-09T04:16:57.843Z"
   },
   {
    "duration": 7,
    "start_time": "2023-03-09T04:17:08.918Z"
   },
   {
    "duration": 16,
    "start_time": "2023-03-09T04:19:22.948Z"
   },
   {
    "duration": 10,
    "start_time": "2023-03-09T06:12:40.038Z"
   },
   {
    "duration": 97,
    "start_time": "2023-03-09T07:32:06.605Z"
   },
   {
    "duration": 3,
    "start_time": "2023-03-09T07:32:12.702Z"
   },
   {
    "duration": 34,
    "start_time": "2023-03-09T07:32:12.707Z"
   },
   {
    "duration": 10,
    "start_time": "2023-03-09T07:32:12.742Z"
   },
   {
    "duration": 21,
    "start_time": "2023-03-09T07:32:12.753Z"
   },
   {
    "duration": 14,
    "start_time": "2023-03-09T07:32:12.777Z"
   },
   {
    "duration": 15,
    "start_time": "2023-03-09T07:32:12.792Z"
   },
   {
    "duration": 13,
    "start_time": "2023-03-09T07:32:12.808Z"
   },
   {
    "duration": 9,
    "start_time": "2023-03-09T07:32:12.822Z"
   },
   {
    "duration": 4,
    "start_time": "2023-03-09T07:32:12.832Z"
   },
   {
    "duration": 7,
    "start_time": "2023-03-09T07:32:12.837Z"
   },
   {
    "duration": 16,
    "start_time": "2023-03-09T07:32:12.886Z"
   },
   {
    "duration": 10,
    "start_time": "2023-03-09T07:32:12.990Z"
   },
   {
    "duration": 3,
    "start_time": "2023-03-09T07:32:13.002Z"
   },
   {
    "duration": 7,
    "start_time": "2023-03-09T07:32:13.009Z"
   },
   {
    "duration": 10,
    "start_time": "2023-03-09T07:32:13.018Z"
   },
   {
    "duration": 4,
    "start_time": "2023-03-09T07:32:13.030Z"
   },
   {
    "duration": 5,
    "start_time": "2023-03-09T07:32:13.035Z"
   },
   {
    "duration": 47,
    "start_time": "2023-03-09T07:32:13.042Z"
   },
   {
    "duration": 14,
    "start_time": "2023-03-09T07:32:13.090Z"
   },
   {
    "duration": 83,
    "start_time": "2023-03-09T07:32:13.106Z"
   },
   {
    "duration": 5,
    "start_time": "2023-03-09T07:32:13.191Z"
   },
   {
    "duration": 4,
    "start_time": "2023-03-09T07:32:13.198Z"
   },
   {
    "duration": 6,
    "start_time": "2023-03-09T07:32:13.203Z"
   },
   {
    "duration": 14,
    "start_time": "2023-03-09T07:32:13.211Z"
   },
   {
    "duration": 7,
    "start_time": "2023-03-09T07:32:13.226Z"
   },
   {
    "duration": 5,
    "start_time": "2023-03-09T07:35:07.499Z"
   },
   {
    "duration": 3,
    "start_time": "2023-03-09T07:35:14.098Z"
   },
   {
    "duration": 37,
    "start_time": "2023-03-09T07:35:14.103Z"
   },
   {
    "duration": 8,
    "start_time": "2023-03-09T07:35:14.141Z"
   },
   {
    "duration": 20,
    "start_time": "2023-03-09T07:35:14.151Z"
   },
   {
    "duration": 6,
    "start_time": "2023-03-09T07:35:14.173Z"
   },
   {
    "duration": 34,
    "start_time": "2023-03-09T07:35:14.180Z"
   },
   {
    "duration": 13,
    "start_time": "2023-03-09T07:35:14.215Z"
   },
   {
    "duration": 8,
    "start_time": "2023-03-09T07:35:14.230Z"
   },
   {
    "duration": 8,
    "start_time": "2023-03-09T07:35:14.239Z"
   },
   {
    "duration": 7,
    "start_time": "2023-03-09T07:35:14.248Z"
   },
   {
    "duration": 29,
    "start_time": "2023-03-09T07:35:14.256Z"
   },
   {
    "duration": 13,
    "start_time": "2023-03-09T07:35:14.293Z"
   },
   {
    "duration": 24,
    "start_time": "2023-03-09T07:35:14.381Z"
   },
   {
    "duration": 11,
    "start_time": "2023-03-09T07:35:14.408Z"
   },
   {
    "duration": 17,
    "start_time": "2023-03-09T07:35:14.420Z"
   },
   {
    "duration": 4,
    "start_time": "2023-03-09T07:35:14.438Z"
   },
   {
    "duration": 11,
    "start_time": "2023-03-09T07:35:14.444Z"
   },
   {
    "duration": 6,
    "start_time": "2023-03-09T07:35:14.456Z"
   },
   {
    "duration": 149,
    "start_time": "2023-03-09T07:35:14.463Z"
   },
   {
    "duration": 7,
    "start_time": "2023-03-09T07:35:14.613Z"
   },
   {
    "duration": 8,
    "start_time": "2023-03-09T07:35:14.621Z"
   },
   {
    "duration": 3,
    "start_time": "2023-03-09T07:35:14.631Z"
   },
   {
    "duration": 7,
    "start_time": "2023-03-09T07:35:14.635Z"
   },
   {
    "duration": 23,
    "start_time": "2023-03-09T07:35:14.644Z"
   },
   {
    "duration": 7,
    "start_time": "2023-03-09T07:35:14.669Z"
   },
   {
    "duration": 1129,
    "start_time": "2023-03-09T07:35:25.106Z"
   },
   {
    "duration": 61,
    "start_time": "2023-03-09T07:35:26.238Z"
   },
   {
    "duration": 14,
    "start_time": "2023-03-09T07:35:26.300Z"
   },
   {
    "duration": 52,
    "start_time": "2023-03-09T07:35:26.316Z"
   },
   {
    "duration": 8,
    "start_time": "2023-03-09T07:35:26.370Z"
   },
   {
    "duration": 30,
    "start_time": "2023-03-09T07:35:26.379Z"
   },
   {
    "duration": 25,
    "start_time": "2023-03-09T07:35:26.411Z"
   },
   {
    "duration": 10,
    "start_time": "2023-03-09T07:35:26.437Z"
   },
   {
    "duration": 4,
    "start_time": "2023-03-09T07:35:26.448Z"
   },
   {
    "duration": 16,
    "start_time": "2023-03-09T07:35:26.453Z"
   },
   {
    "duration": 15,
    "start_time": "2023-03-09T07:35:26.493Z"
   },
   {
    "duration": 80,
    "start_time": "2023-03-09T07:35:26.509Z"
   },
   {
    "duration": 44,
    "start_time": "2023-03-09T07:35:26.590Z"
   },
   {
    "duration": 9,
    "start_time": "2023-03-09T07:35:26.638Z"
   },
   {
    "duration": 11,
    "start_time": "2023-03-09T07:35:26.648Z"
   },
   {
    "duration": 10,
    "start_time": "2023-03-09T07:35:26.661Z"
   },
   {
    "duration": 26,
    "start_time": "2023-03-09T07:35:26.673Z"
   },
   {
    "duration": 7,
    "start_time": "2023-03-09T07:35:26.701Z"
   },
   {
    "duration": 76,
    "start_time": "2023-03-09T07:35:26.709Z"
   },
   {
    "duration": 7,
    "start_time": "2023-03-09T07:35:26.786Z"
   },
   {
    "duration": 95,
    "start_time": "2023-03-09T07:35:26.794Z"
   },
   {
    "duration": 14,
    "start_time": "2023-03-09T07:35:26.890Z"
   },
   {
    "duration": 41,
    "start_time": "2023-03-09T07:35:26.905Z"
   },
   {
    "duration": 10,
    "start_time": "2023-03-09T07:35:26.947Z"
   },
   {
    "duration": 13,
    "start_time": "2023-03-09T07:35:26.959Z"
   },
   {
    "duration": 1194,
    "start_time": "2023-03-10T03:27:25.446Z"
   },
   {
    "duration": 91,
    "start_time": "2023-03-10T03:27:26.643Z"
   },
   {
    "duration": 13,
    "start_time": "2023-03-10T03:27:26.736Z"
   },
   {
    "duration": 32,
    "start_time": "2023-03-10T03:27:26.750Z"
   },
   {
    "duration": 9,
    "start_time": "2023-03-10T03:27:26.784Z"
   },
   {
    "duration": 25,
    "start_time": "2023-03-10T03:27:26.794Z"
   },
   {
    "duration": 5,
    "start_time": "2023-03-10T03:27:44.495Z"
   },
   {
    "duration": 114,
    "start_time": "2023-03-10T03:28:49.842Z"
   },
   {
    "duration": 5,
    "start_time": "2023-03-10T03:35:20.921Z"
   },
   {
    "duration": 8,
    "start_time": "2023-03-10T03:35:43.353Z"
   },
   {
    "duration": 11,
    "start_time": "2023-03-10T03:36:09.089Z"
   },
   {
    "duration": 6,
    "start_time": "2023-03-10T03:36:16.554Z"
   },
   {
    "duration": 8,
    "start_time": "2023-03-10T03:36:29.906Z"
   },
   {
    "duration": 3,
    "start_time": "2023-03-10T03:36:46.497Z"
   },
   {
    "duration": 9,
    "start_time": "2023-03-10T03:36:52.554Z"
   },
   {
    "duration": 7,
    "start_time": "2023-03-10T04:41:00.063Z"
   },
   {
    "duration": 3,
    "start_time": "2023-03-10T04:41:11.023Z"
   },
   {
    "duration": 18,
    "start_time": "2023-03-10T04:41:14.535Z"
   },
   {
    "duration": 12,
    "start_time": "2023-03-10T04:42:26.008Z"
   },
   {
    "duration": 3,
    "start_time": "2023-03-10T04:42:33.924Z"
   },
   {
    "duration": 53,
    "start_time": "2023-03-10T04:42:33.928Z"
   },
   {
    "duration": 10,
    "start_time": "2023-03-10T04:42:33.982Z"
   },
   {
    "duration": 135,
    "start_time": "2023-03-10T04:42:33.994Z"
   },
   {
    "duration": 31,
    "start_time": "2023-03-10T04:42:34.131Z"
   },
   {
    "duration": 16,
    "start_time": "2023-03-10T04:42:34.164Z"
   },
   {
    "duration": 10,
    "start_time": "2023-03-10T04:42:34.182Z"
   },
   {
    "duration": 4,
    "start_time": "2023-03-10T04:45:10.426Z"
   },
   {
    "duration": 13,
    "start_time": "2023-03-10T04:45:17.258Z"
   },
   {
    "duration": 17,
    "start_time": "2023-03-10T04:45:24.851Z"
   },
   {
    "duration": 6,
    "start_time": "2023-03-10T04:45:45.418Z"
   },
   {
    "duration": 3,
    "start_time": "2023-03-10T04:46:07.799Z"
   },
   {
    "duration": 43,
    "start_time": "2023-03-10T04:46:07.804Z"
   },
   {
    "duration": 13,
    "start_time": "2023-03-10T04:46:07.848Z"
   },
   {
    "duration": 29,
    "start_time": "2023-03-10T04:46:07.863Z"
   },
   {
    "duration": 9,
    "start_time": "2023-03-10T04:46:07.894Z"
   },
   {
    "duration": 32,
    "start_time": "2023-03-10T04:46:07.905Z"
   },
   {
    "duration": 16,
    "start_time": "2023-03-10T04:46:07.938Z"
   },
   {
    "duration": 24,
    "start_time": "2023-03-10T04:46:07.956Z"
   },
   {
    "duration": 23,
    "start_time": "2023-03-10T04:46:10.925Z"
   },
   {
    "duration": 11,
    "start_time": "2023-03-10T04:46:21.956Z"
   },
   {
    "duration": 14,
    "start_time": "2023-03-10T09:11:03.473Z"
   },
   {
    "duration": 16,
    "start_time": "2023-03-10T09:11:08.254Z"
   },
   {
    "duration": 10,
    "start_time": "2023-03-10T09:19:25.365Z"
   },
   {
    "duration": 10,
    "start_time": "2023-03-10T09:19:33.317Z"
   },
   {
    "duration": 11,
    "start_time": "2023-03-10T09:22:31.359Z"
   },
   {
    "duration": 17,
    "start_time": "2023-03-10T10:16:59.213Z"
   },
   {
    "duration": 110,
    "start_time": "2023-03-10T10:33:02.235Z"
   },
   {
    "duration": 105,
    "start_time": "2023-03-10T10:41:18.250Z"
   },
   {
    "duration": 1301,
    "start_time": "2023-03-10T10:42:33.549Z"
   },
   {
    "duration": 48,
    "start_time": "2023-03-10T10:42:34.853Z"
   },
   {
    "duration": 18,
    "start_time": "2023-03-10T10:42:34.903Z"
   },
   {
    "duration": 90,
    "start_time": "2023-03-10T10:42:34.924Z"
   },
   {
    "duration": 15,
    "start_time": "2023-03-10T10:42:35.016Z"
   },
   {
    "duration": 23,
    "start_time": "2023-03-10T10:42:35.037Z"
   },
   {
    "duration": 18,
    "start_time": "2023-03-10T10:42:35.064Z"
   },
   {
    "duration": 26,
    "start_time": "2023-03-10T10:42:35.084Z"
   },
   {
    "duration": 37,
    "start_time": "2023-03-10T10:42:35.113Z"
   },
   {
    "duration": 7,
    "start_time": "2023-03-10T10:42:35.154Z"
   },
   {
    "duration": 13,
    "start_time": "2023-03-10T10:42:35.163Z"
   },
   {
    "duration": 162,
    "start_time": "2023-03-10T10:42:35.179Z"
   },
   {
    "duration": 14,
    "start_time": "2023-03-10T10:42:35.345Z"
   },
   {
    "duration": 9,
    "start_time": "2023-03-10T10:42:35.361Z"
   },
   {
    "duration": 18,
    "start_time": "2023-03-10T10:42:35.372Z"
   },
   {
    "duration": 29,
    "start_time": "2023-03-10T10:42:35.393Z"
   },
   {
    "duration": 7,
    "start_time": "2023-03-10T10:42:35.437Z"
   },
   {
    "duration": 35,
    "start_time": "2023-03-10T10:42:35.447Z"
   },
   {
    "duration": 46,
    "start_time": "2023-03-10T10:42:35.485Z"
   },
   {
    "duration": 138,
    "start_time": "2023-03-10T10:42:35.543Z"
   },
   {
    "duration": 14,
    "start_time": "2023-03-10T10:42:35.683Z"
   },
   {
    "duration": 62,
    "start_time": "2023-03-10T10:42:35.700Z"
   },
   {
    "duration": 21,
    "start_time": "2023-03-10T10:42:35.763Z"
   },
   {
    "duration": 31,
    "start_time": "2023-03-10T10:42:35.786Z"
   },
   {
    "duration": 49,
    "start_time": "2023-03-10T10:42:35.819Z"
   },
   {
    "duration": 21,
    "start_time": "2023-03-10T10:42:35.870Z"
   },
   {
    "duration": 115,
    "start_time": "2023-03-10T10:43:15.389Z"
   },
   {
    "duration": 6,
    "start_time": "2023-03-10T10:43:19.925Z"
   },
   {
    "duration": 13,
    "start_time": "2023-03-10T10:43:46.677Z"
   },
   {
    "duration": 5,
    "start_time": "2023-03-10T10:43:59.318Z"
   },
   {
    "duration": 5,
    "start_time": "2023-03-10T10:44:07.710Z"
   },
   {
    "duration": 6,
    "start_time": "2023-03-10T10:44:25.598Z"
   },
   {
    "duration": 1313,
    "start_time": "2023-03-10T10:44:39.172Z"
   },
   {
    "duration": 50,
    "start_time": "2023-03-10T10:44:40.488Z"
   },
   {
    "duration": 17,
    "start_time": "2023-03-10T10:44:40.540Z"
   },
   {
    "duration": 48,
    "start_time": "2023-03-10T10:44:40.561Z"
   },
   {
    "duration": 14,
    "start_time": "2023-03-10T10:44:40.611Z"
   },
   {
    "duration": 16,
    "start_time": "2023-03-10T10:44:40.628Z"
   },
   {
    "duration": 62,
    "start_time": "2023-03-10T10:44:40.647Z"
   },
   {
    "duration": 15,
    "start_time": "2023-03-10T10:44:40.711Z"
   },
   {
    "duration": 16,
    "start_time": "2023-03-10T10:44:40.728Z"
   },
   {
    "duration": 29,
    "start_time": "2023-03-10T10:44:40.746Z"
   },
   {
    "duration": 11,
    "start_time": "2023-03-10T10:44:40.777Z"
   },
   {
    "duration": 57,
    "start_time": "2023-03-10T10:44:40.792Z"
   },
   {
    "duration": 85,
    "start_time": "2023-03-10T10:44:40.852Z"
   },
   {
    "duration": 27,
    "start_time": "2023-03-10T10:44:40.950Z"
   },
   {
    "duration": 16,
    "start_time": "2023-03-10T10:44:40.980Z"
   },
   {
    "duration": 15,
    "start_time": "2023-03-10T10:44:40.998Z"
   },
   {
    "duration": 5,
    "start_time": "2023-03-10T10:44:41.016Z"
   },
   {
    "duration": 25,
    "start_time": "2023-03-10T10:44:41.023Z"
   },
   {
    "duration": 24,
    "start_time": "2023-03-10T10:44:41.056Z"
   },
   {
    "duration": 13,
    "start_time": "2023-03-10T10:44:41.082Z"
   },
   {
    "duration": 77,
    "start_time": "2023-03-10T10:44:41.096Z"
   },
   {
    "duration": 69,
    "start_time": "2023-03-10T10:44:41.175Z"
   },
   {
    "duration": 26,
    "start_time": "2023-03-10T10:44:41.252Z"
   },
   {
    "duration": 12,
    "start_time": "2023-03-10T10:44:41.280Z"
   },
   {
    "duration": 15,
    "start_time": "2023-03-10T10:44:41.294Z"
   },
   {
    "duration": 11,
    "start_time": "2023-03-10T10:44:41.311Z"
   }
  ],
  "kernelspec": {
   "display_name": "Python 3 (ipykernel)",
   "language": "python",
   "name": "python3"
  },
  "language_info": {
   "codemirror_mode": {
    "name": "ipython",
    "version": 3
   },
   "file_extension": ".py",
   "mimetype": "text/x-python",
   "name": "python",
   "nbconvert_exporter": "python",
   "pygments_lexer": "ipython3",
   "version": "3.9.12"
  },
  "toc": {
   "base_numbering": 1,
   "nav_menu": {},
   "number_sections": true,
   "sideBar": true,
   "skip_h1_title": true,
   "title_cell": "Содержание",
   "title_sidebar": "Contents",
   "toc_cell": true,
   "toc_position": {},
   "toc_section_display": true,
   "toc_window_display": true
  }
 },
 "nbformat": 4,
 "nbformat_minor": 2
}
