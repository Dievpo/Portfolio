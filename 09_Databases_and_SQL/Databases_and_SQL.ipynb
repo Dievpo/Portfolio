{
 "cells": [
  {
   "cell_type": "markdown",
   "id": "5a3f6abc",
   "metadata": {},
   "source": [
    "1. Посчитайте, сколько компаний закрылось."
   ]
  },
  {
   "cell_type": "code",
   "execution_count": null,
   "id": "0cf39ddf",
   "metadata": {},
   "outputs": [],
   "source": [
    "SELECT COUNT(id)\n",
    "FROM company\n",
    "WHERE status = 'closed'"
   ]
  },
  {
   "cell_type": "markdown",
   "id": "3c2a453a",
   "metadata": {},
   "source": [
    "2. Отобразите количество привлечённых средств для новостных компаний США. Используйте данные из таблицы company. Отсортируйте таблицу по убыванию значений в поле funding_total ."
   ]
  },
  {
   "cell_type": "code",
   "execution_count": null,
   "id": "4183d8f1",
   "metadata": {},
   "outputs": [],
   "source": [
    "SELECT funding_total\n",
    "FROM company\n",
    "WHERE country_code = 'USA' AND category_code = 'news'\n",
    "ORDER BY funding_total DESC;"
   ]
  },
  {
   "cell_type": "markdown",
   "id": "a690b1e3",
   "metadata": {},
   "source": [
    "3. Найдите общую сумму сделок по покупке одних компаний другими в долларах. Отберите сделки, которые осуществлялись только за наличные с 2011 по 2013 год включительно."
   ]
  },
  {
   "cell_type": "code",
   "execution_count": null,
   "id": "21b5ef40",
   "metadata": {},
   "outputs": [],
   "source": [
    "SELECT SUM(price_amount)\n",
    "FROM acquisition\n",
    "WHERE term_code = 'cash'\n",
    "      AND EXTRACT(YEAR FROM CAST(acquired_at AS timestamp)) IN (2011, 2012, 2013);"
   ]
  },
  {
   "cell_type": "markdown",
   "id": "2e243565",
   "metadata": {},
   "source": [
    "4. Отобразите имя, фамилию и названия аккаунтов людей в твиттере, у которых названия аккаунтов начинаются на 'Silver'."
   ]
  },
  {
   "cell_type": "code",
   "execution_count": null,
   "id": "d415d3cb",
   "metadata": {},
   "outputs": [],
   "source": [
    "SELECT first_name, \n",
    "       last_name,\n",
    "       twitter_username\n",
    "FROM people\n",
    "WHERE twitter_username LIKE 'Silver%';"
   ]
  },
  {
   "cell_type": "markdown",
   "id": "0f52cffc",
   "metadata": {},
   "source": [
    "5. Выведите на экран всю информацию о людях, у которых названия аккаунтов в твиттере содержат подстроку 'money', а фамилия начинается на 'K'."
   ]
  },
  {
   "cell_type": "code",
   "execution_count": null,
   "id": "eee4882e",
   "metadata": {},
   "outputs": [],
   "source": [
    "SELECT *\n",
    "FROM people\n",
    "WHERE twitter_username LIKE '%money%'\n",
    "      AND last_name LIKE 'K%';"
   ]
  },
  {
   "cell_type": "markdown",
   "id": "35da7c7b",
   "metadata": {},
   "source": [
    "6. Для каждой страны отобразите общую сумму привлечённых инвестиций, которые получили компании, зарегистрированные в этой стране. Страну, в которой зарегистрирована компания, можно определить по коду страны. Отсортируйте данные по убыванию суммы."
   ]
  },
  {
   "cell_type": "code",
   "execution_count": null,
   "id": "552620c7",
   "metadata": {},
   "outputs": [],
   "source": [
    "SELECT country_code, \n",
    "       SUM(funding_total)\n",
    "FROM company\n",
    "GROUP BY country_code\n",
    "ORDER BY SUM(funding_total) DESC;"
   ]
  },
  {
   "cell_type": "markdown",
   "id": "2b202fee",
   "metadata": {},
   "source": [
    "7. Составьте таблицу, в которую войдёт дата проведения раунда, а также минимальное и максимальное значения суммы инвестиций, привлечённых в эту дату.\n",
    "\n",
    "Оставьте в итоговой таблице только те записи, в которых минимальное значение суммы инвестиций не равно нулю и не равно максимальному значению."
   ]
  },
  {
   "cell_type": "code",
   "execution_count": null,
   "id": "e3513b21",
   "metadata": {},
   "outputs": [],
   "source": [
    "SELECT funded_at,\n",
    "       MIN(raised_amount),\n",
    "       MAX(raised_amount)\n",
    "FROM funding_round\n",
    "GROUP BY  funded_at\n",
    "HAVING MIN(raised_amount) <> 0\n",
    "      AND MIN(raised_amount) <> MAX(raised_amount); "
   ]
  },
  {
   "cell_type": "markdown",
   "id": "03b03c9d",
   "metadata": {},
   "source": [
    "8. Создайте поле с категориями:\n",
    "- Для фондов, которые инвестируют в 100 и более компаний, назначьте категорию high_activity.\n",
    "- Для фондов, которые инвестируют в 20 и более компаний до 100, назначьте категорию middle_activity.\n",
    "- Если количество инвестируемых компаний фонда не достигает 20, назначьте категорию low_activity.\n",
    "- Отобразите все поля таблицы fund и новое поле с категориями."
   ]
  },
  {
   "cell_type": "code",
   "execution_count": null,
   "id": "dd40ab92",
   "metadata": {},
   "outputs": [],
   "source": [
    "SELECT *,\n",
    "CASE \n",
    "WHEN invested_companies >= 100 THEN 'high_activity'\n",
    "WHEN invested_companies < 20 THEN 'low_activity'\n",
    "ELSE 'middle_activity'\n",
    "END AS category\n",
    "FROM fund;"
   ]
  },
  {
   "cell_type": "markdown",
   "id": "c7e3f09e",
   "metadata": {},
   "source": [
    "9. Для каждой из категорий, назначенных в предыдущем задании, посчитайте округлённое до ближайшего целого числа среднее количество инвестиционных раундов, в которых фонд принимал участие. Выведите на экран категории и среднее число инвестиционных раундов. Отсортируйте таблицу по возрастанию среднего."
   ]
  },
  {
   "cell_type": "code",
   "execution_count": null,
   "id": "28e4644d",
   "metadata": {},
   "outputs": [],
   "source": [
    "SELECT \n",
    "       CASE\n",
    "           WHEN invested_companies>=100 THEN 'high_activity'\n",
    "           WHEN invested_companies>=20 THEN 'middle_activity'\n",
    "           ELSE 'low_activity'\n",
    "       END AS activity,\n",
    "       ROUND(AVG(investment_rounds))\n",
    "FROM fund\n",
    "GROUP BY activity\n",
    "ORDER BY ROUND(AVG(investment_rounds));"
   ]
  },
  {
   "cell_type": "markdown",
   "id": "46f41986",
   "metadata": {},
   "source": [
    "10. Проанализируйте, в каких странах находятся фонды, которые чаще всего инвестируют в стартапы.\n",
    "\n",
    "Для каждой страны посчитайте минимальное, максимальное и среднее число компаний, в которые инвестировали фонды этой страны, основанные с 2010 по 2012 год включительно. Исключите страны с фондами, у которых минимальное число компаний, получивших инвестиции, равно нулю. Выгрузите десять самых активных стран-инвесторов.\n",
    "\n",
    "Отсортируйте таблицу по среднему количеству компаний от большего к меньшему, а затем по коду страны в лексикографическом порядке."
   ]
  },
  {
   "cell_type": "code",
   "execution_count": null,
   "id": "2cbe29fd",
   "metadata": {},
   "outputs": [],
   "source": [
    "SELECT country_code,\n",
    "       MIN(invested_companies),\n",
    "       MAX(invested_companies),\n",
    "       AVG(invested_companies)\n",
    "FROM fund\n",
    "WHERE EXTRACT(YEAR FROM CAST(founded_at AS timestamp)) IN (2010, 2011, 2012)\n",
    "GROUP BY country_code\n",
    "HAVING MIN(invested_companies) > 0\n",
    "ORDER BY AVG(invested_companies) DESC, country_code\n",
    "LIMIT 10;"
   ]
  },
  {
   "cell_type": "markdown",
   "id": "ded216f5",
   "metadata": {},
   "source": [
    "11. Отобразите имя и фамилию всех сотрудников стартапов. Добавьте поле с названием учебного заведения, которое окончил сотрудник, если эта информация известна."
   ]
  },
  {
   "cell_type": "code",
   "execution_count": null,
   "id": "c1b8818e",
   "metadata": {},
   "outputs": [],
   "source": [
    "SELECT p.first_name,\n",
    "       p.last_name,\n",
    "       e.instituition\n",
    "FROM people AS p\n",
    "LEFT JOIN education AS e ON p.id = e.person_id;"
   ]
  },
  {
   "cell_type": "markdown",
   "id": "1767005a",
   "metadata": {},
   "source": [
    "12. Для каждой компании найдите количество учебных заведений, которые окончили её сотрудники. Выведите название компании и число уникальных названий учебных заведений. Составьте топ-5 компаний по количеству университетов."
   ]
  },
  {
   "cell_type": "code",
   "execution_count": null,
   "id": "42ef56d7",
   "metadata": {},
   "outputs": [],
   "source": [
    "SELECT c.name,\n",
    "       COUNT(DISTINCT e.instituition)\n",
    "FROM company AS c\n",
    "JOIN people AS p ON c.id = p.company_id\n",
    "JOIN education AS e ON e.person_id = p.id\n",
    "GROUP BY c.name\n",
    "ORDER BY COUNT(DISTINCT e.instituition) DESC\n",
    "LIMIT 5;"
   ]
  },
  {
   "cell_type": "markdown",
   "id": "8322b5dd",
   "metadata": {},
   "source": [
    "13. Составьте список с уникальными названиями закрытых компаний, для которых первый раунд финансирования оказался последним."
   ]
  },
  {
   "cell_type": "code",
   "execution_count": null,
   "id": "fd4bc50e",
   "metadata": {},
   "outputs": [],
   "source": [
    "SELECT name\n",
    "FROM company AS c\n",
    "JOIN funding_round AS fr ON c.id = fr.company_id\n",
    "WHERE c.status = 'closed'\n",
    "AND fr.is_first_round = 1\n",
    "AND fr.is_last_round = 1\n",
    "GROUP BY name;"
   ]
  },
  {
   "cell_type": "markdown",
   "id": "7defb8ce",
   "metadata": {},
   "source": [
    "14. Составьте список уникальных номеров сотрудников, которые работают в компаниях, отобранных в предыдущем задании."
   ]
  },
  {
   "cell_type": "code",
   "execution_count": null,
   "id": "662202e3",
   "metadata": {},
   "outputs": [],
   "source": [
    "SELECT DISTINCT p.id\n",
    "FROM people AS p\n",
    "WHERE company_id IN (SELECT c.id\n",
    "                    FROM company AS c\n",
    "                    JOIN funding_round AS fr ON c.id = fr.company_id\n",
    "                    WHERE c.status = 'closed'\n",
    "                    AND fr.is_first_round = 1\n",
    "                    AND fr.is_last_round = 1\n",
    "                    GROUP BY c.id);"
   ]
  },
  {
   "cell_type": "markdown",
   "id": "61aea138",
   "metadata": {},
   "source": [
    "15. Составьте таблицу, куда войдут уникальные пары с номерами сотрудников из предыдущей задачи и учебным заведением, которое окончил сотрудник."
   ]
  },
  {
   "cell_type": "code",
   "execution_count": null,
   "id": "de70cbdf",
   "metadata": {},
   "outputs": [],
   "source": [
    "SELECT p.id,\n",
    "       e.instituition\n",
    "FROM people AS p\n",
    "LEFT JOIN education AS e ON p.id = e.person_id\n",
    "WHERE company_id IN (SELECT c.id\n",
    "                    FROM company AS c\n",
    "                    JOIN funding_round AS fr ON c.id = fr.company_id\n",
    "                    WHERE c.status = 'closed'\n",
    "                    AND fr.is_first_round = 1\n",
    "                    AND fr.is_last_round = 1\n",
    "                    GROUP BY c.id)\n",
    "GROUP BY p.id,\n",
    "         e.instituition\n",
    "HAVING e.instituition IS NOT NULL;"
   ]
  },
  {
   "cell_type": "markdown",
   "id": "6d15eea1",
   "metadata": {},
   "source": [
    "16. Посчитайте количество учебных заведений для каждого сотрудника из предыдущего задания. При подсчёте учитывайте, что некоторые сотрудники могли окончить одно и то же заведение дважды."
   ]
  },
  {
   "cell_type": "code",
   "execution_count": null,
   "id": "d1661eba",
   "metadata": {},
   "outputs": [],
   "source": [
    "SELECT p.id,\n",
    "       COUNT(e.instituition)\n",
    "FROM people AS p\n",
    "LEFT JOIN education AS e ON p.id = e.person_id\n",
    "WHERE company_id IN (SELECT c.id\n",
    "                    FROM company AS c\n",
    "                    JOIN funding_round AS fr ON c.id = fr.company_id\n",
    "                    WHERE c.status = 'closed'\n",
    "                    AND fr.is_first_round = 1\n",
    "                    AND fr.is_last_round = 1\n",
    "                    GROUP BY c.id)\n",
    "GROUP BY p.id\n",
    "HAVING COUNT(DISTINCT e.instituition) > 0;"
   ]
  },
  {
   "cell_type": "markdown",
   "id": "f04b2b16",
   "metadata": {},
   "source": [
    "17. Дополните предыдущий запрос и выведите среднее число учебных заведений (всех, не только уникальных), которые окончили сотрудники разных компаний. Нужно вывести только одну запись, группировка здесь не понадобится."
   ]
  },
  {
   "cell_type": "code",
   "execution_count": null,
   "id": "4f240d5b",
   "metadata": {},
   "outputs": [],
   "source": [
    "WITH base AS (SELECT p.id,\n",
    "                     COUNT(e.instituition)\n",
    "            FROM people AS p\n",
    "            LEFT JOIN education AS e ON p.id = e.person_id\n",
    "            WHERE company_id IN (SELECT c.id\n",
    "                                FROM company AS c\n",
    "                                JOIN funding_round AS fr ON c.id = fr.company_id\n",
    "                                WHERE c.status = 'closed'\n",
    "                                AND fr.is_first_round = 1\n",
    "                                AND fr.is_last_round = 1\n",
    "                                GROUP BY c.id)\n",
    "            GROUP BY p.id\n",
    "            HAVING COUNT(DISTINCT e.instituition) > 0)\n",
    "\n",
    "SELECT AVG(COUNT)\n",
    "FROM base;"
   ]
  },
  {
   "cell_type": "markdown",
   "id": "c21ad152",
   "metadata": {},
   "source": [
    "18. Напишите похожий запрос: выведите среднее число учебных заведений (всех, не только уникальных), которые окончили сотрудники Facebook*.\n",
    "*(сервис, запрещённый на территории РФ)"
   ]
  },
  {
   "cell_type": "code",
   "execution_count": null,
   "id": "f974f13a",
   "metadata": {},
   "outputs": [],
   "source": [
    "WITH base AS (SELECT p.id,\n",
    "                     COUNT(e.instituition)\n",
    "            FROM people AS p\n",
    "            RIGHT JOIN education AS e ON p.id = e.person_id\n",
    "            WHERE company_id IN (SELECT id\n",
    "                                FROM company \n",
    "                                WHERE name = 'Facebook'\n",
    "                                )\n",
    "            GROUP BY p.id)\n",
    "\n",
    "SELECT AVG(COUNT)\n",
    "FROM base;"
   ]
  },
  {
   "cell_type": "markdown",
   "id": "50da00d0",
   "metadata": {},
   "source": [
    "19. Составьте таблицу из полей:\n",
    "- name_of_fund — название фонда;\n",
    "- name_of_company — название компании;\n",
    "- amount — сумма инвестиций, которую привлекла компания в раунде.\n",
    "\n",
    "В таблицу войдут данные о компаниях, в истории которых было больше шести важных этапов, а раунды финансирования проходили с 2012 по 2013 год включительно."
   ]
  },
  {
   "cell_type": "code",
   "execution_count": null,
   "id": "4896cea9",
   "metadata": {},
   "outputs": [],
   "source": [
    "SELECT f.name AS name_of_fund,\n",
    "       c.name AS name_of_company,\n",
    "       fr.raised_amount AS amount\n",
    "FROM investment AS i\n",
    "LEFT JOIN company AS c ON c.id = i.company_id\n",
    "LEFT JOIN fund AS f ON i.fund_id = f.id\n",
    "INNER JOIN \n",
    "        (SELECT*\n",
    "        FROM funding_round\n",
    "        WHERE funded_at BETWEEN '2012-01-01' AND '2013-12-31') AS fr ON fr.id = i.funding_round_id\n",
    "WHERE c.milestones > 6;"
   ]
  },
  {
   "cell_type": "markdown",
   "id": "34bec11b",
   "metadata": {},
   "source": [
    "20. Выгрузите таблицу, в которой будут такие поля:\n",
    "- название компании-покупателя;\n",
    "- сумма сделки;\n",
    "- название компании, которую купили;\n",
    "- сумма инвестиций, вложенных в купленную компанию;\n",
    "- доля, которая отображает, во сколько раз сумма покупки превысила сумму вложенных в компанию инвестиций, округлённая до ближайшего целого числа.\n",
    "\n",
    "Не учитывайте те сделки, в которых сумма покупки равна нулю. Если сумма инвестиций в компанию равна нулю, исключите такую компанию из таблицы.\n",
    "\n",
    "Отсортируйте таблицу по сумме сделки от большей к меньшей, а затем по названию купленной компании в лексикографическом порядке. Ограничьте таблицу первыми десятью записями."
   ]
  },
  {
   "cell_type": "code",
   "execution_count": null,
   "id": "5134aff4",
   "metadata": {},
   "outputs": [],
   "source": [
    "WITH acquiring AS\n",
    "    (SELECT c.name AS buyer,\n",
    "    a.price_amount AS price,\n",
    "    a.id AS KEY\n",
    "    FROM acquisition AS a\n",
    "    LEFT JOIN company AS c ON a.acquiring_company_id = c.id\n",
    "    WHERE a.price_amount > 0),\n",
    "    acquired AS\n",
    "    (SELECT c.name AS acquisition,\n",
    "    c.funding_total AS investment,\n",
    "    a.id AS KEY\n",
    "    FROM acquisition AS a\n",
    "    LEFT JOIN company AS c ON a.acquired_company_id = c.id\n",
    "    WHERE c.funding_total > 0)\n",
    "\n",
    "SELECT acqn.buyer,\n",
    "        acqn.price,\n",
    "        acqd.acquisition,\n",
    "        acqd.investment,\n",
    "        ROUND(acqn.price / acqd.investment) AS uplift\n",
    "FROM acquiring AS acqn\n",
    "JOIN acquired AS acqd ON acqn.KEY = acqd.KEY\n",
    "ORDER BY price DESC, acquisition\n",
    "LIMIT 10;"
   ]
  },
  {
   "cell_type": "markdown",
   "id": "ed1678fe",
   "metadata": {},
   "source": [
    "21. Выгрузите таблицу, в которую войдут названия компаний из категории social, получившие финансирование с 2010 по 2013 год включительно. Проверьте, что сумма инвестиций не равна нулю. Выведите также номер месяца, в котором проходил раунд финансирования."
   ]
  },
  {
   "cell_type": "code",
   "execution_count": null,
   "id": "01519fe2",
   "metadata": {},
   "outputs": [],
   "source": [
    "SELECT  c.name AS social_co,\n",
    "        EXTRACT (MONTH FROM fr.funded_at) AS funding_month\n",
    "FROM company AS c\n",
    "LEFT JOIN funding_round AS fr ON c.id = fr.company_id\n",
    "WHERE c.category_code = 'social'\n",
    "        AND fr.funded_at BETWEEN '2010-01-01' AND '2013-12-31'\n",
    "        AND fr.raised_amount <> 0;"
   ]
  },
  {
   "cell_type": "markdown",
   "id": "d4bee05a",
   "metadata": {},
   "source": [
    "22. Отберите данные по месяцам с 2010 по 2013 год, когда проходили инвестиционные раунды. Сгруппируйте данные по номеру месяца и получите таблицу, в которой будут поля:\n",
    "- номер месяца, в котором проходили раунды;\n",
    "- количество уникальных названий фондов из США, которые инвестировали в этом месяце;\n",
    "- количество компаний, купленных за этот месяц;\n",
    "- общая сумма сделок по покупкам в этом месяце."
   ]
  },
  {
   "cell_type": "code",
   "execution_count": null,
   "id": "711a7221",
   "metadata": {},
   "outputs": [],
   "source": [
    "WITH fundings AS\n",
    "    (SELECT EXTRACT(MONTH FROM CAST(fr.funded_at AS DATE)) AS funding_month,\n",
    "    COUNT(DISTINCT f.id) AS us_funds\n",
    "    FROM fund AS f\n",
    "    LEFT JOIN investment AS i ON f.id = i.fund_id\n",
    "    LEFT JOIN funding_round AS fr ON i.funding_round_id = fr.id\n",
    "    WHERE f.country_code = 'USA'\n",
    "    AND EXTRACT(YEAR FROM CAST(fr.funded_at AS DATE)) BETWEEN 2010 AND 2013\n",
    "    GROUP BY funding_month),\n",
    "    acquisitions AS\n",
    "    (SELECT EXTRACT(MONTH FROM CAST(acquired_at AS DATE)) AS funding_month,\n",
    "    COUNT(acquired_company_id) AS bought_co,\n",
    "    SUM(price_amount) AS sum_total\n",
    "    FROM acquisition\n",
    "    WHERE EXTRACT(YEAR FROM CAST(acquired_at AS DATE)) BETWEEN 2010 AND 2013\n",
    "    GROUP BY funding_month)\n",
    "\n",
    "SELECT fnd.funding_month, fnd.us_funds, acq.bought_co, acq.sum_total\n",
    "FROM fundings AS fnd\n",
    "LEFT JOIN acquisitions AS acq ON fnd.funding_month = acq.funding_month;"
   ]
  },
  {
   "cell_type": "markdown",
   "id": "7a165c6a",
   "metadata": {},
   "source": [
    "23. Составьте сводную таблицу и выведите среднюю сумму инвестиций для стран, в которых есть стартапы, зарегистрированные в 2011, 2012 и 2013 годах. Данные за каждый год должны быть в отдельном поле. Отсортируйте таблицу по среднему значению инвестиций за 2011 год от большего к меньшему."
   ]
  },
  {
   "cell_type": "code",
   "execution_count": null,
   "id": "3318962e",
   "metadata": {},
   "outputs": [],
   "source": [
    "WITH y_11 AS\n",
    "    (SELECT country_code AS country,\n",
    "    AVG(funding_total) AS y_2011\n",
    "    FROM company\n",
    "    WHERE EXTRACT(YEAR FROM founded_at::DATE) IN(2011, 2012, 2013)\n",
    "    GROUP BY country, EXTRACT(YEAR FROM founded_at)\n",
    "    HAVING EXTRACT(YEAR FROM founded_at) = '2011'),\n",
    "    y_12 AS\n",
    "    (SELECT country_code AS country,\n",
    "    AVG(funding_total) AS y_2012\n",
    "    FROM company\n",
    "    WHERE EXTRACT(YEAR FROM founded_at::DATE) IN(2011, 2012, 2013)\n",
    "    GROUP BY country, EXTRACT(YEAR FROM founded_at)\n",
    "    HAVING EXTRACT(YEAR FROM founded_at) = '2012'),\n",
    "    y_13 AS\n",
    "    (SELECT country_code AS country,\n",
    "    AVG(funding_total) AS y_2013\n",
    "    FROM company\n",
    "    WHERE EXTRACT(YEAR FROM founded_at::DATE) IN(2011, 2012, 2013)\n",
    "    GROUP BY country, EXTRACT(YEAR FROM founded_at)\n",
    "    HAVING EXTRACT(YEAR FROM founded_at) = '2013')\n",
    "\n",
    "SELECT y_11.country, y_2011, y_2012, y_2013\n",
    "FROM y_11\n",
    "JOIN y_12 ON y_11.country = y_12.country\n",
    "JOIN y_13 ON y_12.country = y_13.country\n",
    "ORDER BY y_2011 DESC;"
   ]
  }
 ],
 "metadata": {
  "kernelspec": {
   "display_name": "Python 3 (ipykernel)",
   "language": "python",
   "name": "python3"
  },
  "language_info": {
   "codemirror_mode": {
    "name": "ipython",
    "version": 3
   },
   "file_extension": ".py",
   "mimetype": "text/x-python",
   "name": "python",
   "nbconvert_exporter": "python",
   "pygments_lexer": "ipython3",
   "version": "3.9.12"
  }
 },
 "nbformat": 4,
 "nbformat_minor": 5
}
