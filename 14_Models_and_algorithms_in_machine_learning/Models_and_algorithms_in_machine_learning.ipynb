{
 "cells": [
  {
   "cell_type": "markdown",
   "id": "734bb847",
   "metadata": {
    "toc": true
   },
   "source": [
    "<h1>Содержание<span class=\"tocSkip\"></span></h1>\n",
    "<div class=\"toc\"><ul class=\"toc-item\"><li><span><a href=\"#Импорт-библиотек\" data-toc-modified-id=\"Импорт-библиотек-1\">Импорт библиотек</a></span><li><span><a href=\"#Загрузка-данных\" data-toc-modified-id=\"Загрузка-данных-2\">Загрузка данных</a></span></li><li><span><a href=\"#Предобработка-и-анализ-данных\" data-toc-modified-id=\"Предобработка-и-анализ-данных-3\">Предобработка и анализ данных</a></span><ul class=\"toc-item\"><li><span><a href=\"#Анализ-данных\" data-toc-modified-id=\"Анализ-данных-3.1\">Анализ данных</a></span><ul class=\"toc-item\"><li><span><a href=\"#Приведем-в-порядок-названия-колонок\" data-toc-modified-id=\"Приведем-в-порядок-названия-колонок-3.1.1\">Приведем в порядок названия колонок</a></span></li><li><span><a href=\"#Изучим-общую-информацию-о-данных\" data-toc-modified-id=\"Изучим-общую-информацию-о-данных-3.1.2\">Изучим общую информацию о данных</a></span></li><li><span><a href=\"#Проверим-на-наличие-дубликатов\" data-toc-modified-id=\"Проверим-на-наличие-дубликатов-3.1.3\">Проверим на наличие дубликатов</a></span></li><li><span><a href=\"#Проверим-на-наличие-пропусков\" data-toc-modified-id=\"Проверим-на-наличие-пропусков-3.1.4\">Проверим на наличие пропусков</a></span></li><li><span><a href=\"#Изучим-колонку-temperature\" data-toc-modified-id=\"Изучим-колонку-temperature-3.1.5\">Изучим колонку temperature</a></span></li><li><span><a href=\"#Изучим-колонку-luminosity\" data-toc-modified-id=\"Изучим-колонку-luminosity-3.1.6\">Изучим колонку luminosity</a></span></li><li><span><a href=\"#Изучим-колонку-radius\" data-toc-modified-id=\"Изучим-колонку-radius-3.1.7\">Изучим колонку radius</a></span></li><li><span><a href=\"#Изучим-колонку-magnitude\" data-toc-modified-id=\"Изучим-колонку-magnitude-3.1.8\">Изучим колонку magnitude</a></span></li><li><span><a href=\"#Изучим-колонку-type\" data-toc-modified-id=\"Изучим-колонку-type-3.1.9\">Изучим колонку type</a></span></li><li><span><a href=\"#Изучим-колонку-color\" data-toc-modified-id=\"Изучим-колонку-color-3.1.10\">Изучим колонку color</a></span></li><li><span><a href=\"#Вывод:\" data-toc-modified-id=\"Вывод:-3.1.11\">Вывод:</a></span></li></ul><li><span><a href=\"#Разобьем-данные-на-выборки\" data-toc-modified-id=\"Разобьем-данные-на-выборки-3.2\">Разобьем данные на выборки</a></span><li><span><a href=\"#Подготовка-данных-к-обучению\" data-toc-modified-id=\"Подготовка-данных-к-обучению-3.3\">Подготовка данных к обучению</a></span><ul class=\"toc-item\"><li><span><a href=\"#Применим-технику-OHE-к-категориальным-признакам\" data-toc-modified-id=\"Применим-технику-OHE-к-категориальным-признакам-3.3.1\">Применим технику OHE к категориальным признакам</a></span></li><li><span><a href=\"#Масштабируем-количественные-данные\" data-toc-modified-id=\"Масштабируем-количественные-данные-3.3.2\">Масштабируем количественные данные</a></span></li></ul></ul><li><span><a href=\"#Построение-базовой-нейронной-сети\" data-toc-modified-id=\"Построение-базовой-нейронной-сети-4\">Построение базовой нейронной сети</a></span><ul class=\"toc-item\"><li><span><a href=\"#Базовая-модель-1\" data-toc-modified-id=\"Базовая-модель-1-4.1\">Базовая модель 1</a></span></li><li><span><a href=\"#Базовая-модель-2\" data-toc-modified-id=\"Базовая-модель-2-4.2\">Базовая модель 2</a></span></li><li><span><a href=\"#Базовая-модель-3\" data-toc-modified-id=\"Базовая-модель-3-4.3\">Базовая модель 3</a></span></li><li><span><a href=\"#Базовая-модель-4\" data-toc-modified-id=\"Базовая-модель-4-4.4\">Базовая модель 4</a></span></li><li><span><a href=\"#Базовая-модель-5\" data-toc-modified-id=\"Базовая-модель-5-4.5\">Базовая модель 5</a></span><li><span><a href=\"#Вывод-по-результатам-построения-модели:\" data-toc-modified-id=\"Вывод-по-результатам-построения-модели:-5\">Вывод по результатам построения модели:</a></span></ul><li><span><a href=\"#Улучшение-нейронной-сети\" data-toc-modified-id=\"Улучшение-нейронной-сети-5\">Улучшение нейронной сети</a></span><ul class=\"toc-item\"><li><span><a href=\"#Batch-Normalization\" data-toc-modified-id=\"Batch-Normalization-5.1\">Batch Normalization</a></span></li><li><span><a href=\"#Dropout\" data-toc-modified-id=\"Dropout-5.2\">Dropout</a></span><ul class=\"toc-item\"><li><span><a href=\"#Значение-p=0.1\" data-toc-modified-id=\"Значение-p=0.1-5.2.1\">Значение p=0.1</a></span></li><li><span><a href=\"#Значение-p=0.3\" data-toc-modified-id=\"Значение-p=0.3-5.2.2\">Значение p=0.3</a></span></li><li><span><a href=\"#Значение-p=0.5\" data-toc-modified-id=\"Значение-p=0.5-5.2.3\">Значение p=0.5</a></span></li></ul></li><li><span><a href=\"#Вывод-по-результатам-улучшения-модели:\" data-toc-modified-id=\"Вывод-по-результатам-улучшения-модели:-5.3\">Вывод по результатам улучшения модели:</a></span></ul><li><span><a href=\"#Получили-модель:\" data-toc-modified-id=\"Получили-модель:-5.4\">Получили модель:</a></span><li><span><a href=\"#Выводы\" data-toc-modified-id=\"Выводы-6\">Выводы</a></span></div>"
   ]
  },
  {
   "cell_type": "markdown",
   "id": "56d7cfd8",
   "metadata": {},
   "source": [
    "## Импорт библиотек"
   ]
  },
  {
   "cell_type": "code",
   "execution_count": 1,
   "id": "8002bf20",
   "metadata": {},
   "outputs": [
    {
     "name": "stdout",
     "output_type": "stream",
     "text": [
      "Collecting torchmetrics\n",
      "  Downloading torchmetrics-0.11.4-py3-none-any.whl (519 kB)\n",
      "\u001b[K     |████████████████████████████████| 519 kB 1.9 MB/s eta 0:00:01\n",
      "\u001b[?25hRequirement already satisfied: torch>=1.8.1 in /opt/conda/lib/python3.9/site-packages (from torchmetrics) (1.10.0)\n",
      "Requirement already satisfied: numpy>=1.17.2 in /opt/conda/lib/python3.9/site-packages (from torchmetrics) (1.21.1)\n",
      "Requirement already satisfied: packaging in /opt/conda/lib/python3.9/site-packages (from torchmetrics) (21.3)\n",
      "Requirement already satisfied: typing-extensions in /opt/conda/lib/python3.9/site-packages (from torch>=1.8.1->torchmetrics) (4.3.0)\n",
      "Requirement already satisfied: pyparsing!=3.0.5,>=2.0.2 in /opt/conda/lib/python3.9/site-packages (from packaging->torchmetrics) (2.4.7)\n",
      "Installing collected packages: torchmetrics\n",
      "Successfully installed torchmetrics-0.11.4\n",
      "Note: you may need to restart the kernel to use updated packages.\n"
     ]
    }
   ],
   "source": [
    "pip install torchmetrics"
   ]
  },
  {
   "cell_type": "code",
   "execution_count": 2,
   "id": "spectacular-folder",
   "metadata": {},
   "outputs": [],
   "source": [
    "import pandas as pd\n",
    "import seaborn as sns\n",
    "import numpy as np\n",
    "import torch\n",
    "import torch.nn as nn\n",
    "import matplotlib.pyplot as plt\n",
    "\n",
    "from sklearn.preprocessing import StandardScaler, OneHotEncoder\n",
    "from sklearn.model_selection import train_test_split\n",
    "from sklearn.metrics import mean_squared_error\n",
    "from torchmetrics import MeanSquaredError"
   ]
  },
  {
   "cell_type": "markdown",
   "id": "corresponding-armstrong",
   "metadata": {
    "ExecuteTime": {
     "end_time": "2022-05-05T04:58:05.692448Z",
     "start_time": "2022-05-05T04:58:05.688565Z"
    }
   },
   "source": [
    "## Загрузка данных"
   ]
  },
  {
   "cell_type": "code",
   "execution_count": 3,
   "id": "c1f3d5bb",
   "metadata": {},
   "outputs": [
    {
     "data": {
      "text/html": [
       "<div>\n",
       "<style scoped>\n",
       "    .dataframe tbody tr th:only-of-type {\n",
       "        vertical-align: middle;\n",
       "    }\n",
       "\n",
       "    .dataframe tbody tr th {\n",
       "        vertical-align: top;\n",
       "    }\n",
       "\n",
       "    .dataframe thead th {\n",
       "        text-align: right;\n",
       "    }\n",
       "</style>\n",
       "<table border=\"1\" class=\"dataframe\">\n",
       "  <thead>\n",
       "    <tr style=\"text-align: right;\">\n",
       "      <th></th>\n",
       "      <th>Unnamed: 0</th>\n",
       "      <th>Temperature (K)</th>\n",
       "      <th>Luminosity(L/Lo)</th>\n",
       "      <th>Radius(R/Ro)</th>\n",
       "      <th>Absolute magnitude(Mv)</th>\n",
       "      <th>Star type</th>\n",
       "      <th>Star color</th>\n",
       "    </tr>\n",
       "  </thead>\n",
       "  <tbody>\n",
       "    <tr>\n",
       "      <th>0</th>\n",
       "      <td>0</td>\n",
       "      <td>3068</td>\n",
       "      <td>0.002400</td>\n",
       "      <td>0.1700</td>\n",
       "      <td>16.12</td>\n",
       "      <td>0</td>\n",
       "      <td>Red</td>\n",
       "    </tr>\n",
       "    <tr>\n",
       "      <th>1</th>\n",
       "      <td>1</td>\n",
       "      <td>3042</td>\n",
       "      <td>0.000500</td>\n",
       "      <td>0.1542</td>\n",
       "      <td>16.60</td>\n",
       "      <td>0</td>\n",
       "      <td>Red</td>\n",
       "    </tr>\n",
       "    <tr>\n",
       "      <th>2</th>\n",
       "      <td>2</td>\n",
       "      <td>2600</td>\n",
       "      <td>0.000300</td>\n",
       "      <td>0.1020</td>\n",
       "      <td>18.70</td>\n",
       "      <td>0</td>\n",
       "      <td>Red</td>\n",
       "    </tr>\n",
       "    <tr>\n",
       "      <th>3</th>\n",
       "      <td>3</td>\n",
       "      <td>2800</td>\n",
       "      <td>0.000200</td>\n",
       "      <td>0.1600</td>\n",
       "      <td>16.65</td>\n",
       "      <td>0</td>\n",
       "      <td>Red</td>\n",
       "    </tr>\n",
       "    <tr>\n",
       "      <th>4</th>\n",
       "      <td>4</td>\n",
       "      <td>1939</td>\n",
       "      <td>0.000138</td>\n",
       "      <td>0.1030</td>\n",
       "      <td>20.06</td>\n",
       "      <td>0</td>\n",
       "      <td>Red</td>\n",
       "    </tr>\n",
       "  </tbody>\n",
       "</table>\n",
       "</div>"
      ],
      "text/plain": [
       "   Unnamed: 0  Temperature (K)  Luminosity(L/Lo)  Radius(R/Ro)  \\\n",
       "0           0             3068          0.002400        0.1700   \n",
       "1           1             3042          0.000500        0.1542   \n",
       "2           2             2600          0.000300        0.1020   \n",
       "3           3             2800          0.000200        0.1600   \n",
       "4           4             1939          0.000138        0.1030   \n",
       "\n",
       "   Absolute magnitude(Mv)  Star type Star color  \n",
       "0                   16.12          0        Red  \n",
       "1                   16.60          0        Red  \n",
       "2                   18.70          0        Red  \n",
       "3                   16.65          0        Red  \n",
       "4                   20.06          0        Red  "
      ]
     },
     "execution_count": 3,
     "metadata": {},
     "output_type": "execute_result"
    }
   ],
   "source": [
    "df = pd.read_csv('/datasets/6_class.csv')\n",
    "df.head()"
   ]
  },
  {
   "cell_type": "markdown",
   "id": "19a7840f",
   "metadata": {},
   "source": [
    "- Temperature (K) - Абсолютная температура — температура на поверхности звезды в Кельвинах;\n",
    "- Luminosity (L/Lo) - Относительная светимость — светимость звезды относительно Солнца;\n",
    "- Radius (R/Ro) - Относительный радиус — радиус звезды относительно радиуса Солнца.\n",
    "- Absolute magnitude (Mv) - Абсолютная звёздная величина — физическая величина, характеризующая блеск звезды;\n",
    "- Star type - Тип звезды;\n",
    "- Star color - Звёздный цвет — цвет звезды, который определяют на основе спектрального анализа."
   ]
  },
  {
   "cell_type": "markdown",
   "id": "simple-subdivision",
   "metadata": {},
   "source": [
    "## Предобработка и анализ данных"
   ]
  },
  {
   "cell_type": "markdown",
   "id": "c1e6e0b6",
   "metadata": {},
   "source": [
    "### Анализ данных"
   ]
  },
  {
   "cell_type": "markdown",
   "id": "335cf8b6",
   "metadata": {},
   "source": [
    "#### Приведем в порядок названия колонок"
   ]
  },
  {
   "cell_type": "markdown",
   "id": "6025fd5a",
   "metadata": {},
   "source": [
    "Поле под названием Unnamed: 0 является полем с индексами, так как при общем количестве строк в 240 значения указанного поля изменяются от 0 до 239. Данное поле следует удалить из датасет."
   ]
  },
  {
   "cell_type": "code",
   "execution_count": 4,
   "id": "1515a6a0",
   "metadata": {},
   "outputs": [],
   "source": [
    "# удалим первую неинформативную колонку \n",
    "df.drop('Unnamed: 0', axis= 1 , inplace= True )"
   ]
  },
  {
   "cell_type": "code",
   "execution_count": 5,
   "id": "1f433e4e",
   "metadata": {},
   "outputs": [],
   "source": [
    "# переименуем название колонок\n",
    "df.columns = ['temperature', 'luminosity', 'radius', 'magnitude', 'type', 'color']"
   ]
  },
  {
   "cell_type": "markdown",
   "id": "156a7e59",
   "metadata": {},
   "source": [
    "#### Изучим общую информацию о данных"
   ]
  },
  {
   "cell_type": "code",
   "execution_count": 6,
   "id": "flush-dream",
   "metadata": {},
   "outputs": [
    {
     "name": "stdout",
     "output_type": "stream",
     "text": [
      "<class 'pandas.core.frame.DataFrame'>\n",
      "RangeIndex: 240 entries, 0 to 239\n",
      "Data columns (total 6 columns):\n",
      " #   Column       Non-Null Count  Dtype  \n",
      "---  ------       --------------  -----  \n",
      " 0   temperature  240 non-null    int64  \n",
      " 1   luminosity   240 non-null    float64\n",
      " 2   radius       240 non-null    float64\n",
      " 3   magnitude    240 non-null    float64\n",
      " 4   type         240 non-null    int64  \n",
      " 5   color        240 non-null    object \n",
      "dtypes: float64(3), int64(2), object(1)\n",
      "memory usage: 11.4+ KB\n"
     ]
    }
   ],
   "source": [
    "df.info()"
   ]
  },
  {
   "cell_type": "code",
   "execution_count": 7,
   "id": "18bea6cb",
   "metadata": {},
   "outputs": [
    {
     "data": {
      "text/html": [
       "<div>\n",
       "<style scoped>\n",
       "    .dataframe tbody tr th:only-of-type {\n",
       "        vertical-align: middle;\n",
       "    }\n",
       "\n",
       "    .dataframe tbody tr th {\n",
       "        vertical-align: top;\n",
       "    }\n",
       "\n",
       "    .dataframe thead th {\n",
       "        text-align: right;\n",
       "    }\n",
       "</style>\n",
       "<table border=\"1\" class=\"dataframe\">\n",
       "  <thead>\n",
       "    <tr style=\"text-align: right;\">\n",
       "      <th></th>\n",
       "      <th>count</th>\n",
       "      <th>mean</th>\n",
       "      <th>std</th>\n",
       "      <th>min</th>\n",
       "      <th>25%</th>\n",
       "      <th>50%</th>\n",
       "      <th>75%</th>\n",
       "      <th>max</th>\n",
       "    </tr>\n",
       "  </thead>\n",
       "  <tbody>\n",
       "    <tr>\n",
       "      <th>temperature</th>\n",
       "      <td>240.0</td>\n",
       "      <td>10497.462500</td>\n",
       "      <td>9552.425037</td>\n",
       "      <td>1939.00000</td>\n",
       "      <td>3344.250000</td>\n",
       "      <td>5776.0000</td>\n",
       "      <td>15055.5000</td>\n",
       "      <td>40000.00</td>\n",
       "    </tr>\n",
       "    <tr>\n",
       "      <th>luminosity</th>\n",
       "      <td>240.0</td>\n",
       "      <td>107188.361635</td>\n",
       "      <td>179432.244940</td>\n",
       "      <td>0.00008</td>\n",
       "      <td>0.000865</td>\n",
       "      <td>0.0705</td>\n",
       "      <td>198050.0000</td>\n",
       "      <td>849420.00</td>\n",
       "    </tr>\n",
       "    <tr>\n",
       "      <th>radius</th>\n",
       "      <td>240.0</td>\n",
       "      <td>237.157781</td>\n",
       "      <td>517.155763</td>\n",
       "      <td>0.00840</td>\n",
       "      <td>0.102750</td>\n",
       "      <td>0.7625</td>\n",
       "      <td>42.7500</td>\n",
       "      <td>1948.50</td>\n",
       "    </tr>\n",
       "    <tr>\n",
       "      <th>magnitude</th>\n",
       "      <td>240.0</td>\n",
       "      <td>4.382396</td>\n",
       "      <td>10.532512</td>\n",
       "      <td>-11.92000</td>\n",
       "      <td>-6.232500</td>\n",
       "      <td>8.3130</td>\n",
       "      <td>13.6975</td>\n",
       "      <td>20.06</td>\n",
       "    </tr>\n",
       "    <tr>\n",
       "      <th>type</th>\n",
       "      <td>240.0</td>\n",
       "      <td>2.500000</td>\n",
       "      <td>1.711394</td>\n",
       "      <td>0.00000</td>\n",
       "      <td>1.000000</td>\n",
       "      <td>2.5000</td>\n",
       "      <td>4.0000</td>\n",
       "      <td>5.00</td>\n",
       "    </tr>\n",
       "  </tbody>\n",
       "</table>\n",
       "</div>"
      ],
      "text/plain": [
       "             count           mean            std         min          25%  \\\n",
       "temperature  240.0   10497.462500    9552.425037  1939.00000  3344.250000   \n",
       "luminosity   240.0  107188.361635  179432.244940     0.00008     0.000865   \n",
       "radius       240.0     237.157781     517.155763     0.00840     0.102750   \n",
       "magnitude    240.0       4.382396      10.532512   -11.92000    -6.232500   \n",
       "type         240.0       2.500000       1.711394     0.00000     1.000000   \n",
       "\n",
       "                   50%          75%        max  \n",
       "temperature  5776.0000   15055.5000   40000.00  \n",
       "luminosity      0.0705  198050.0000  849420.00  \n",
       "radius          0.7625      42.7500    1948.50  \n",
       "magnitude       8.3130      13.6975      20.06  \n",
       "type            2.5000       4.0000       5.00  "
      ]
     },
     "execution_count": 7,
     "metadata": {},
     "output_type": "execute_result"
    }
   ],
   "source": [
    "df.describe().T"
   ]
  },
  {
   "cell_type": "markdown",
   "id": "69d0e6ac",
   "metadata": {},
   "source": [
    "#### Проверим на наличие дубликатов"
   ]
  },
  {
   "cell_type": "code",
   "execution_count": 8,
   "id": "a3ba68c9",
   "metadata": {},
   "outputs": [
    {
     "data": {
      "text/plain": [
       "0"
      ]
     },
     "execution_count": 8,
     "metadata": {},
     "output_type": "execute_result"
    }
   ],
   "source": [
    "df.duplicated().sum()"
   ]
  },
  {
   "cell_type": "markdown",
   "id": "d3d3982c",
   "metadata": {},
   "source": [
    "Явных дубликатов нет"
   ]
  },
  {
   "cell_type": "markdown",
   "id": "f5eaab94",
   "metadata": {},
   "source": [
    "#### Проверим на наличие пропусков"
   ]
  },
  {
   "cell_type": "code",
   "execution_count": 9,
   "id": "992c6866",
   "metadata": {},
   "outputs": [
    {
     "data": {
      "text/plain": [
       "temperature    0\n",
       "luminosity     0\n",
       "radius         0\n",
       "magnitude      0\n",
       "type           0\n",
       "color          0\n",
       "dtype: int64"
      ]
     },
     "execution_count": 9,
     "metadata": {},
     "output_type": "execute_result"
    }
   ],
   "source": [
    "df.isna().sum()"
   ]
  },
  {
   "cell_type": "markdown",
   "id": "b9d026c1",
   "metadata": {},
   "source": [
    "Пропусков нет"
   ]
  },
  {
   "cell_type": "markdown",
   "id": "7309760f",
   "metadata": {},
   "source": [
    "#### Изучим колонку temperature"
   ]
  },
  {
   "cell_type": "code",
   "execution_count": 10,
   "id": "b04464db",
   "metadata": {},
   "outputs": [
    {
     "data": {
      "text/plain": [
       "<AxesSubplot:xlabel='temperature', ylabel='Count'>"
      ]
     },
     "execution_count": 10,
     "metadata": {},
     "output_type": "execute_result"
    },
    {
     "data": {
      "image/png": "[encoded data removed]",
      "text/plain": [
       "<Figure size 432x288 with 1 Axes>"
      ]
     },
     "metadata": {
      "needs_background": "light"
     },
     "output_type": "display_data"
    }
   ],
   "source": [
    "sns.histplot(df['temperature'], bins=15)"
   ]
  },
  {
   "cell_type": "code",
   "execution_count": 11,
   "id": "8abe93d3",
   "metadata": {},
   "outputs": [
    {
     "name": "stderr",
     "output_type": "stream",
     "text": [
      "/opt/conda/lib/python3.9/site-packages/seaborn/_decorators.py:36: FutureWarning: Pass the following variable as a keyword arg: x. From version 0.12, the only valid positional argument will be `data`, and passing other arguments without an explicit keyword will result in an error or misinterpretation.\n",
      "  warnings.warn(\n"
     ]
    },
    {
     "data": {
      "text/plain": [
       "<AxesSubplot:xlabel='temperature'>"
      ]
     },
     "execution_count": 11,
     "metadata": {},
     "output_type": "execute_result"
    },
    {
     "data": {
      "image/png": "[encoded data removed]",
      "text/plain": [
       "<Figure size 432x288 with 1 Axes>"
      ]
     },
     "metadata": {
      "needs_background": "light"
     },
     "output_type": "display_data"
    }
   ],
   "source": [
    "sns.boxplot(df['temperature'])"
   ]
  },
  {
   "cell_type": "markdown",
   "id": "3d5c9a69",
   "metadata": {},
   "source": [
    "График temperature представляет экспоненциальное распределение"
   ]
  },
  {
   "cell_type": "markdown",
   "id": "71539eb4",
   "metadata": {},
   "source": [
    "#### Изучим колонку luminosity"
   ]
  },
  {
   "cell_type": "code",
   "execution_count": 12,
   "id": "43a16a40",
   "metadata": {},
   "outputs": [
    {
     "data": {
      "text/plain": [
       "<AxesSubplot:xlabel='luminosity', ylabel='Count'>"
      ]
     },
     "execution_count": 12,
     "metadata": {},
     "output_type": "execute_result"
    },
    {
     "data": {
      "image/png": "[encoded data removed]",
      "text/plain": [
       "<Figure size 432x288 with 1 Axes>"
      ]
     },
     "metadata": {
      "needs_background": "light"
     },
     "output_type": "display_data"
    }
   ],
   "source": [
    "sns.histplot(df['luminosity'], bins=8)"
   ]
  },
  {
   "cell_type": "code",
   "execution_count": 13,
   "id": "c425db73",
   "metadata": {},
   "outputs": [
    {
     "name": "stderr",
     "output_type": "stream",
     "text": [
      "/opt/conda/lib/python3.9/site-packages/seaborn/_decorators.py:36: FutureWarning: Pass the following variable as a keyword arg: x. From version 0.12, the only valid positional argument will be `data`, and passing other arguments without an explicit keyword will result in an error or misinterpretation.\n",
      "  warnings.warn(\n"
     ]
    },
    {
     "data": {
      "text/plain": [
       "<AxesSubplot:xlabel='luminosity'>"
      ]
     },
     "execution_count": 13,
     "metadata": {},
     "output_type": "execute_result"
    },
    {
     "data": {
      "image/png": "[encoded data removed]",
      "text/plain": [
       "<Figure size 432x288 with 1 Axes>"
      ]
     },
     "metadata": {
      "needs_background": "light"
     },
     "output_type": "display_data"
    }
   ],
   "source": [
    "sns.boxplot(df['luminosity'])"
   ]
  },
  {
   "cell_type": "markdown",
   "id": "d96b5e9a",
   "metadata": {},
   "source": [
    "График luminosity так же представляет экспоненциальное распределение"
   ]
  },
  {
   "cell_type": "markdown",
   "id": "2d07b4a4",
   "metadata": {},
   "source": [
    "#### Изучим колонку radius"
   ]
  },
  {
   "cell_type": "code",
   "execution_count": 14,
   "id": "29c49d57",
   "metadata": {},
   "outputs": [
    {
     "data": {
      "text/plain": [
       "<AxesSubplot:xlabel='radius', ylabel='Count'>"
      ]
     },
     "execution_count": 14,
     "metadata": {},
     "output_type": "execute_result"
    },
    {
     "data": {
      "image/png": "[encoded data removed]",
      "text/plain": [
       "<Figure size 432x288 with 1 Axes>"
      ]
     },
     "metadata": {
      "needs_background": "light"
     },
     "output_type": "display_data"
    }
   ],
   "source": [
    "sns.histplot(df['radius'], bins=10)"
   ]
  },
  {
   "cell_type": "code",
   "execution_count": 15,
   "id": "ae477a25",
   "metadata": {},
   "outputs": [
    {
     "name": "stderr",
     "output_type": "stream",
     "text": [
      "/opt/conda/lib/python3.9/site-packages/seaborn/_decorators.py:36: FutureWarning: Pass the following variable as a keyword arg: x. From version 0.12, the only valid positional argument will be `data`, and passing other arguments without an explicit keyword will result in an error or misinterpretation.\n",
      "  warnings.warn(\n"
     ]
    },
    {
     "data": {
      "text/plain": [
       "<AxesSubplot:xlabel='radius'>"
      ]
     },
     "execution_count": 15,
     "metadata": {},
     "output_type": "execute_result"
    },
    {
     "data": {
      "image/png": "[encoded data removed]",
      "text/plain": [
       "<Figure size 432x288 with 1 Axes>"
      ]
     },
     "metadata": {
      "needs_background": "light"
     },
     "output_type": "display_data"
    }
   ],
   "source": [
    "sns.boxplot(df['radius'])"
   ]
  },
  {
   "cell_type": "markdown",
   "id": "e00dee29",
   "metadata": {},
   "source": [
    "Очень много выбросов "
   ]
  },
  {
   "cell_type": "markdown",
   "id": "279bb6fe",
   "metadata": {},
   "source": [
    "#### Изучим колонку magnitude"
   ]
  },
  {
   "cell_type": "code",
   "execution_count": 16,
   "id": "9b5db7a8",
   "metadata": {},
   "outputs": [
    {
     "data": {
      "text/plain": [
       "<AxesSubplot:xlabel='magnitude', ylabel='Count'>"
      ]
     },
     "execution_count": 16,
     "metadata": {},
     "output_type": "execute_result"
    },
    {
     "data": {
      "image/png": "[encoded data removed]",
      "text/plain": [
       "<Figure size 432x288 with 1 Axes>"
      ]
     },
     "metadata": {
      "needs_background": "light"
     },
     "output_type": "display_data"
    }
   ],
   "source": [
    "sns.histplot(df['magnitude'], bins=8)"
   ]
  },
  {
   "cell_type": "code",
   "execution_count": 17,
   "id": "04b737a2",
   "metadata": {},
   "outputs": [
    {
     "name": "stderr",
     "output_type": "stream",
     "text": [
      "/opt/conda/lib/python3.9/site-packages/seaborn/_decorators.py:36: FutureWarning: Pass the following variable as a keyword arg: x. From version 0.12, the only valid positional argument will be `data`, and passing other arguments without an explicit keyword will result in an error or misinterpretation.\n",
      "  warnings.warn(\n"
     ]
    },
    {
     "data": {
      "text/plain": [
       "<AxesSubplot:xlabel='magnitude'>"
      ]
     },
     "execution_count": 17,
     "metadata": {},
     "output_type": "execute_result"
    },
    {
     "data": {
      "image/png": "[encoded data removed]",
      "text/plain": [
       "<Figure size 432x288 with 1 Axes>"
      ]
     },
     "metadata": {
      "needs_background": "light"
     },
     "output_type": "display_data"
    }
   ],
   "source": [
    "sns.boxplot(df['magnitude'])"
   ]
  },
  {
   "cell_type": "markdown",
   "id": "ae9f84b0",
   "metadata": {},
   "source": [
    "#### Изучим колонку type"
   ]
  },
  {
   "cell_type": "code",
   "execution_count": 18,
   "id": "5f0a326f",
   "metadata": {},
   "outputs": [
    {
     "data": {
      "text/plain": [
       "<AxesSubplot:title={'center':'Тип звезды'}>"
      ]
     },
     "execution_count": 18,
     "metadata": {},
     "output_type": "execute_result"
    },
    {
     "data": {
      "image/png": "[encoded data removed]",
      "text/plain": [
       "<Figure size 432x288 with 1 Axes>"
      ]
     },
     "metadata": {
      "needs_background": "light"
     },
     "output_type": "display_data"
    }
   ],
   "source": [
    "df['type'].value_counts().plot(kind='bar', grid=True, title='Тип звезды')"
   ]
  },
  {
   "cell_type": "code",
   "execution_count": 19,
   "id": "3a1e2184",
   "metadata": {},
   "outputs": [
    {
     "data": {
      "text/plain": [
       "0    40\n",
       "1    40\n",
       "2    40\n",
       "3    40\n",
       "4    40\n",
       "5    40\n",
       "Name: type, dtype: int64"
      ]
     },
     "execution_count": 19,
     "metadata": {},
     "output_type": "execute_result"
    }
   ],
   "source": [
    "df['type'].value_counts()"
   ]
  },
  {
   "cell_type": "markdown",
   "id": "4fbe713c",
   "metadata": {},
   "source": [
    "Каждого типа звезды по 40 шт."
   ]
  },
  {
   "cell_type": "markdown",
   "id": "94c2f4ff",
   "metadata": {},
   "source": [
    "#### Изучим колонку color"
   ]
  },
  {
   "cell_type": "code",
   "execution_count": 20,
   "id": "0abc761c",
   "metadata": {},
   "outputs": [
    {
     "data": {
      "text/plain": [
       "Red                   112\n",
       "Blue                   55\n",
       "Blue-white             26\n",
       "Blue White             10\n",
       "yellow-white            8\n",
       "White                   7\n",
       "Yellowish White         3\n",
       "Blue white              3\n",
       "white                   3\n",
       "yellowish               2\n",
       "Orange                  2\n",
       "Whitish                 2\n",
       "Pale yellow orange      1\n",
       "Blue-White              1\n",
       "Orange-Red              1\n",
       "White-Yellow            1\n",
       "Yellowish               1\n",
       "Blue white              1\n",
       "Blue                    1\n",
       "Name: color, dtype: int64"
      ]
     },
     "execution_count": 20,
     "metadata": {},
     "output_type": "execute_result"
    }
   ],
   "source": [
    "df['color'].value_counts()"
   ]
  },
  {
   "cell_type": "markdown",
   "id": "35b18f39",
   "metadata": {},
   "source": [
    "В колонке color есть неявные дубликаты - одни и те же цвета записаны по-разному, исправим:"
   ]
  },
  {
   "cell_type": "code",
   "execution_count": 21,
   "id": "5d5a5bdc",
   "metadata": {},
   "outputs": [],
   "source": [
    "df['color'] = df['color'].str.lower()\n",
    "df['color'] = df['color'].str.strip()"
   ]
  },
  {
   "cell_type": "code",
   "execution_count": 22,
   "id": "dccb5616",
   "metadata": {},
   "outputs": [],
   "source": [
    "def color(x):\n",
    "    if x == 'blue white':\n",
    "        return 'blue-white'\n",
    "    elif x in ['yellowish white','white-yellow']:\n",
    "        return 'yellow-white'\n",
    "    elif x == 'yellowish':\n",
    "        return 'yellow'\n",
    "    elif x == 'whitish':\n",
    "        return 'white'\n",
    "    elif x == 'pale yellow orange':\n",
    "        return 'pale_yellow-orange'\n",
    "    else:\n",
    "        return x"
   ]
  },
  {
   "cell_type": "code",
   "execution_count": 23,
   "id": "64617f0f",
   "metadata": {},
   "outputs": [],
   "source": [
    "df['color'] = df['color'].apply(color)"
   ]
  },
  {
   "cell_type": "code",
   "execution_count": 24,
   "id": "963b1fbe",
   "metadata": {},
   "outputs": [
    {
     "data": {
      "text/plain": [
       "red                   112\n",
       "blue                   56\n",
       "blue-white             41\n",
       "white                  12\n",
       "yellow-white           12\n",
       "yellow                  3\n",
       "orange                  2\n",
       "orange-red              1\n",
       "pale_yellow-orange      1\n",
       "Name: color, dtype: int64"
      ]
     },
     "execution_count": 24,
     "metadata": {},
     "output_type": "execute_result"
    }
   ],
   "source": [
    "df['color'].value_counts()"
   ]
  },
  {
   "cell_type": "code",
   "execution_count": 25,
   "id": "d875eb8f",
   "metadata": {},
   "outputs": [
    {
     "data": {
      "text/plain": [
       "<AxesSubplot:title={'center':'Звёздный цвет'}>"
      ]
     },
     "execution_count": 25,
     "metadata": {},
     "output_type": "execute_result"
    },
    {
     "data": {
      "image/png": "[encoded data removed]",
      "text/plain": [
       "<Figure size 432x288 with 1 Axes>"
      ]
     },
     "metadata": {
      "needs_background": "light"
     },
     "output_type": "display_data"
    }
   ],
   "source": [
    "df['color'].value_counts().plot(kind='bar', grid=True, title='Звёздный цвет')"
   ]
  },
  {
   "cell_type": "markdown",
   "id": "af55ed4e",
   "metadata": {},
   "source": [
    "Начиная с 'yellow-white' цвета представлены в очень маленьком количестве, объединим их в 'others'"
   ]
  },
  {
   "cell_type": "code",
   "execution_count": 26,
   "id": "cadf29e6",
   "metadata": {},
   "outputs": [
    {
     "data": {
      "text/plain": [
       "red           112\n",
       "blue           56\n",
       "blue-white     41\n",
       "others         31\n",
       "Name: color, dtype: int64"
      ]
     },
     "execution_count": 26,
     "metadata": {},
     "output_type": "execute_result"
    }
   ],
   "source": [
    "most_frequent_color = ['red', 'blue', 'blue-white']\n",
    "df['color'] = df['color'].apply(lambda x: 'others' if x not in most_frequent_color else x)\n",
    "df['color'].value_counts()"
   ]
  },
  {
   "cell_type": "markdown",
   "id": "23e409e6",
   "metadata": {},
   "source": [
    "#### Вывод:"
   ]
  },
  {
   "cell_type": "markdown",
   "id": "068ba282",
   "metadata": {},
   "source": [
    "Данные содержат очень много выбросов. Наибольшая часть выбросов содержится в колонке 'radius' - это звезды с большим радиусом. Если мы удалим все выбросы и обучим модель на этих данных, то при тестировании модели на звездах с большим радиусом - результаты будут плохие. Поэтому выбросы удалять не будем и обучим модель на полных данных."
   ]
  },
  {
   "cell_type": "markdown",
   "id": "1ee7293a",
   "metadata": {},
   "source": [
    "### Разобьем данные на выборки"
   ]
  },
  {
   "cell_type": "code",
   "execution_count": 27,
   "id": "cd240680",
   "metadata": {},
   "outputs": [],
   "source": [
    "y = df['temperature']\n",
    "X = df.drop('temperature', axis=1)"
   ]
  },
  {
   "cell_type": "markdown",
   "id": "7aa57356",
   "metadata": {},
   "source": [
    "Методом train_test_split разделим исходные данные на обучающую (60%) и валидационную выборку (40%)"
   ]
  },
  {
   "cell_type": "code",
   "execution_count": 28,
   "id": "98339b56",
   "metadata": {},
   "outputs": [],
   "source": [
    "x_train, x_test, y_train, y_test = train_test_split(X, \n",
    "                                                    y, \n",
    "                                                    train_size=0.75, \n",
    "                                                    test_size=0.25, \n",
    "                                                    random_state=12345)"
   ]
  },
  {
   "cell_type": "code",
   "execution_count": 29,
   "id": "b05a1613",
   "metadata": {},
   "outputs": [
    {
     "name": "stdout",
     "output_type": "stream",
     "text": [
      "Размер обучающей выбоки: (180, 5)\n",
      "Размер тестовой выбоки: (60, 5)\n"
     ]
    }
   ],
   "source": [
    "# проверим\n",
    "print('Размер обучающей выбоки:', x_train.shape)\n",
    "print('Размер тестовой выбоки:', x_test.shape)"
   ]
  },
  {
   "cell_type": "markdown",
   "id": "ebe97b1a",
   "metadata": {},
   "source": [
    "### Подготовка данных к обучению"
   ]
  },
  {
   "cell_type": "markdown",
   "id": "26201bb0",
   "metadata": {},
   "source": [
    "#### Применим технику OHE к категориальным признакам"
   ]
  },
  {
   "cell_type": "code",
   "execution_count": 30,
   "id": "0fd17be7",
   "metadata": {},
   "outputs": [
    {
     "data": {
      "text/html": [
       "<div>\n",
       "<style scoped>\n",
       "    .dataframe tbody tr th:only-of-type {\n",
       "        vertical-align: middle;\n",
       "    }\n",
       "\n",
       "    .dataframe tbody tr th {\n",
       "        vertical-align: top;\n",
       "    }\n",
       "\n",
       "    .dataframe thead th {\n",
       "        text-align: right;\n",
       "    }\n",
       "</style>\n",
       "<table border=\"1\" class=\"dataframe\">\n",
       "  <thead>\n",
       "    <tr style=\"text-align: right;\">\n",
       "      <th></th>\n",
       "      <th>luminosity</th>\n",
       "      <th>radius</th>\n",
       "      <th>magnitude</th>\n",
       "      <th>type_1</th>\n",
       "      <th>type_2</th>\n",
       "      <th>type_3</th>\n",
       "      <th>type_4</th>\n",
       "      <th>type_5</th>\n",
       "      <th>color_blue-white</th>\n",
       "      <th>color_others</th>\n",
       "      <th>color_red</th>\n",
       "    </tr>\n",
       "  </thead>\n",
       "  <tbody>\n",
       "    <tr>\n",
       "      <th>99</th>\n",
       "      <td>198000.000000</td>\n",
       "      <td>10.2000</td>\n",
       "      <td>-4.400</td>\n",
       "      <td>0</td>\n",
       "      <td>0</td>\n",
       "      <td>1</td>\n",
       "      <td>0</td>\n",
       "      <td>0</td>\n",
       "      <td>0</td>\n",
       "      <td>0</td>\n",
       "      <td>0</td>\n",
       "    </tr>\n",
       "    <tr>\n",
       "      <th>206</th>\n",
       "      <td>0.001590</td>\n",
       "      <td>0.0127</td>\n",
       "      <td>10.550</td>\n",
       "      <td>0</td>\n",
       "      <td>1</td>\n",
       "      <td>0</td>\n",
       "      <td>0</td>\n",
       "      <td>0</td>\n",
       "      <td>0</td>\n",
       "      <td>0</td>\n",
       "      <td>0</td>\n",
       "    </tr>\n",
       "    <tr>\n",
       "      <th>10</th>\n",
       "      <td>0.002900</td>\n",
       "      <td>0.5100</td>\n",
       "      <td>10.690</td>\n",
       "      <td>1</td>\n",
       "      <td>0</td>\n",
       "      <td>0</td>\n",
       "      <td>0</td>\n",
       "      <td>0</td>\n",
       "      <td>0</td>\n",
       "      <td>0</td>\n",
       "      <td>1</td>\n",
       "    </tr>\n",
       "    <tr>\n",
       "      <th>156</th>\n",
       "      <td>14520.000000</td>\n",
       "      <td>5.4900</td>\n",
       "      <td>-3.800</td>\n",
       "      <td>0</td>\n",
       "      <td>0</td>\n",
       "      <td>1</td>\n",
       "      <td>0</td>\n",
       "      <td>0</td>\n",
       "      <td>1</td>\n",
       "      <td>0</td>\n",
       "      <td>0</td>\n",
       "    </tr>\n",
       "    <tr>\n",
       "      <th>135</th>\n",
       "      <td>0.002300</td>\n",
       "      <td>0.7300</td>\n",
       "      <td>14.750</td>\n",
       "      <td>1</td>\n",
       "      <td>0</td>\n",
       "      <td>0</td>\n",
       "      <td>0</td>\n",
       "      <td>0</td>\n",
       "      <td>0</td>\n",
       "      <td>0</td>\n",
       "      <td>1</td>\n",
       "    </tr>\n",
       "    <tr>\n",
       "      <th>...</th>\n",
       "      <td>...</td>\n",
       "      <td>...</td>\n",
       "      <td>...</td>\n",
       "      <td>...</td>\n",
       "      <td>...</td>\n",
       "      <td>...</td>\n",
       "      <td>...</td>\n",
       "      <td>...</td>\n",
       "      <td>...</td>\n",
       "      <td>...</td>\n",
       "      <td>...</td>\n",
       "    </tr>\n",
       "    <tr>\n",
       "      <th>164</th>\n",
       "      <td>239000.000000</td>\n",
       "      <td>35.0000</td>\n",
       "      <td>-7.340</td>\n",
       "      <td>0</td>\n",
       "      <td>0</td>\n",
       "      <td>0</td>\n",
       "      <td>1</td>\n",
       "      <td>0</td>\n",
       "      <td>0</td>\n",
       "      <td>0</td>\n",
       "      <td>0</td>\n",
       "    </tr>\n",
       "    <tr>\n",
       "      <th>129</th>\n",
       "      <td>0.000437</td>\n",
       "      <td>0.0856</td>\n",
       "      <td>18.090</td>\n",
       "      <td>0</td>\n",
       "      <td>0</td>\n",
       "      <td>0</td>\n",
       "      <td>0</td>\n",
       "      <td>0</td>\n",
       "      <td>0</td>\n",
       "      <td>0</td>\n",
       "      <td>1</td>\n",
       "    </tr>\n",
       "    <tr>\n",
       "      <th>29</th>\n",
       "      <td>0.000080</td>\n",
       "      <td>0.0130</td>\n",
       "      <td>14.080</td>\n",
       "      <td>0</td>\n",
       "      <td>1</td>\n",
       "      <td>0</td>\n",
       "      <td>0</td>\n",
       "      <td>0</td>\n",
       "      <td>0</td>\n",
       "      <td>1</td>\n",
       "      <td>0</td>\n",
       "    </tr>\n",
       "    <tr>\n",
       "      <th>229</th>\n",
       "      <td>748890.000000</td>\n",
       "      <td>92.0000</td>\n",
       "      <td>-7.346</td>\n",
       "      <td>0</td>\n",
       "      <td>0</td>\n",
       "      <td>0</td>\n",
       "      <td>1</td>\n",
       "      <td>0</td>\n",
       "      <td>0</td>\n",
       "      <td>0</td>\n",
       "      <td>0</td>\n",
       "    </tr>\n",
       "    <tr>\n",
       "      <th>226</th>\n",
       "      <td>593900.000000</td>\n",
       "      <td>80.0000</td>\n",
       "      <td>-7.262</td>\n",
       "      <td>0</td>\n",
       "      <td>0</td>\n",
       "      <td>0</td>\n",
       "      <td>1</td>\n",
       "      <td>0</td>\n",
       "      <td>0</td>\n",
       "      <td>0</td>\n",
       "      <td>0</td>\n",
       "    </tr>\n",
       "  </tbody>\n",
       "</table>\n",
       "<p>180 rows × 11 columns</p>\n",
       "</div>"
      ],
      "text/plain": [
       "        luminosity   radius  magnitude  type_1  type_2  type_3  type_4  \\\n",
       "99   198000.000000  10.2000     -4.400       0       0       1       0   \n",
       "206       0.001590   0.0127     10.550       0       1       0       0   \n",
       "10        0.002900   0.5100     10.690       1       0       0       0   \n",
       "156   14520.000000   5.4900     -3.800       0       0       1       0   \n",
       "135       0.002300   0.7300     14.750       1       0       0       0   \n",
       "..             ...      ...        ...     ...     ...     ...     ...   \n",
       "164  239000.000000  35.0000     -7.340       0       0       0       1   \n",
       "129       0.000437   0.0856     18.090       0       0       0       0   \n",
       "29        0.000080   0.0130     14.080       0       1       0       0   \n",
       "229  748890.000000  92.0000     -7.346       0       0       0       1   \n",
       "226  593900.000000  80.0000     -7.262       0       0       0       1   \n",
       "\n",
       "     type_5  color_blue-white  color_others  color_red  \n",
       "99        0                 0             0          0  \n",
       "206       0                 0             0          0  \n",
       "10        0                 0             0          1  \n",
       "156       0                 1             0          0  \n",
       "135       0                 0             0          1  \n",
       "..      ...               ...           ...        ...  \n",
       "164       0                 0             0          0  \n",
       "129       0                 0             0          1  \n",
       "29        0                 0             1          0  \n",
       "229       0                 0             0          0  \n",
       "226       0                 0             0          0  \n",
       "\n",
       "[180 rows x 11 columns]"
      ]
     },
     "metadata": {},
     "output_type": "display_data"
    }
   ],
   "source": [
    "x_train = pd.get_dummies(x_train, columns=['type', 'color'], drop_first=True)\n",
    "x_test = pd.get_dummies(x_test, columns=['type', 'color'], drop_first=True)\n",
    "\n",
    "display(x_train)"
   ]
  },
  {
   "cell_type": "markdown",
   "id": "5405c5ab",
   "metadata": {},
   "source": [
    "####  Масштабируем количественные данные"
   ]
  },
  {
   "cell_type": "markdown",
   "id": "b99160f5",
   "metadata": {},
   "source": [
    "Числовые значения нужно привести к одному порядку для этого используем StandardScaler"
   ]
  },
  {
   "cell_type": "code",
   "execution_count": 31,
   "id": "43f50121",
   "metadata": {},
   "outputs": [
    {
     "data": {
      "text/html": [
       "<div>\n",
       "<style scoped>\n",
       "    .dataframe tbody tr th:only-of-type {\n",
       "        vertical-align: middle;\n",
       "    }\n",
       "\n",
       "    .dataframe tbody tr th {\n",
       "        vertical-align: top;\n",
       "    }\n",
       "\n",
       "    .dataframe thead th {\n",
       "        text-align: right;\n",
       "    }\n",
       "</style>\n",
       "<table border=\"1\" class=\"dataframe\">\n",
       "  <thead>\n",
       "    <tr style=\"text-align: right;\">\n",
       "      <th></th>\n",
       "      <th>luminosity</th>\n",
       "      <th>radius</th>\n",
       "      <th>magnitude</th>\n",
       "      <th>type_1</th>\n",
       "      <th>type_2</th>\n",
       "      <th>type_3</th>\n",
       "      <th>type_4</th>\n",
       "      <th>type_5</th>\n",
       "      <th>color_blue-white</th>\n",
       "      <th>color_others</th>\n",
       "      <th>color_red</th>\n",
       "    </tr>\n",
       "  </thead>\n",
       "  <tbody>\n",
       "    <tr>\n",
       "      <th>99</th>\n",
       "      <td>0.573322</td>\n",
       "      <td>-0.412010</td>\n",
       "      <td>-0.894946</td>\n",
       "      <td>0</td>\n",
       "      <td>0</td>\n",
       "      <td>1</td>\n",
       "      <td>0</td>\n",
       "      <td>0</td>\n",
       "      <td>0</td>\n",
       "      <td>0</td>\n",
       "      <td>0</td>\n",
       "    </tr>\n",
       "    <tr>\n",
       "      <th>206</th>\n",
       "      <td>-0.586360</td>\n",
       "      <td>-0.433149</td>\n",
       "      <td>0.524323</td>\n",
       "      <td>0</td>\n",
       "      <td>1</td>\n",
       "      <td>0</td>\n",
       "      <td>0</td>\n",
       "      <td>0</td>\n",
       "      <td>0</td>\n",
       "      <td>0</td>\n",
       "      <td>0</td>\n",
       "    </tr>\n",
       "    <tr>\n",
       "      <th>10</th>\n",
       "      <td>-0.586360</td>\n",
       "      <td>-0.432117</td>\n",
       "      <td>0.537614</td>\n",
       "      <td>1</td>\n",
       "      <td>0</td>\n",
       "      <td>0</td>\n",
       "      <td>0</td>\n",
       "      <td>0</td>\n",
       "      <td>0</td>\n",
       "      <td>0</td>\n",
       "      <td>1</td>\n",
       "    </tr>\n",
       "    <tr>\n",
       "      <th>156</th>\n",
       "      <td>-0.501317</td>\n",
       "      <td>-0.421783</td>\n",
       "      <td>-0.837985</td>\n",
       "      <td>0</td>\n",
       "      <td>0</td>\n",
       "      <td>1</td>\n",
       "      <td>0</td>\n",
       "      <td>0</td>\n",
       "      <td>1</td>\n",
       "      <td>0</td>\n",
       "      <td>0</td>\n",
       "    </tr>\n",
       "    <tr>\n",
       "      <th>135</th>\n",
       "      <td>-0.586360</td>\n",
       "      <td>-0.431660</td>\n",
       "      <td>0.923047</td>\n",
       "      <td>1</td>\n",
       "      <td>0</td>\n",
       "      <td>0</td>\n",
       "      <td>0</td>\n",
       "      <td>0</td>\n",
       "      <td>0</td>\n",
       "      <td>0</td>\n",
       "      <td>1</td>\n",
       "    </tr>\n",
       "    <tr>\n",
       "      <th>...</th>\n",
       "      <td>...</td>\n",
       "      <td>...</td>\n",
       "      <td>...</td>\n",
       "      <td>...</td>\n",
       "      <td>...</td>\n",
       "      <td>...</td>\n",
       "      <td>...</td>\n",
       "      <td>...</td>\n",
       "      <td>...</td>\n",
       "      <td>...</td>\n",
       "      <td>...</td>\n",
       "    </tr>\n",
       "    <tr>\n",
       "      <th>164</th>\n",
       "      <td>0.813458</td>\n",
       "      <td>-0.360549</td>\n",
       "      <td>-1.174053</td>\n",
       "      <td>0</td>\n",
       "      <td>0</td>\n",
       "      <td>0</td>\n",
       "      <td>1</td>\n",
       "      <td>0</td>\n",
       "      <td>0</td>\n",
       "      <td>0</td>\n",
       "      <td>0</td>\n",
       "    </tr>\n",
       "    <tr>\n",
       "      <th>129</th>\n",
       "      <td>-0.586360</td>\n",
       "      <td>-0.432997</td>\n",
       "      <td>1.240128</td>\n",
       "      <td>0</td>\n",
       "      <td>0</td>\n",
       "      <td>0</td>\n",
       "      <td>0</td>\n",
       "      <td>0</td>\n",
       "      <td>0</td>\n",
       "      <td>0</td>\n",
       "      <td>1</td>\n",
       "    </tr>\n",
       "    <tr>\n",
       "      <th>29</th>\n",
       "      <td>-0.586360</td>\n",
       "      <td>-0.433148</td>\n",
       "      <td>0.859441</td>\n",
       "      <td>0</td>\n",
       "      <td>1</td>\n",
       "      <td>0</td>\n",
       "      <td>0</td>\n",
       "      <td>0</td>\n",
       "      <td>0</td>\n",
       "      <td>1</td>\n",
       "      <td>0</td>\n",
       "    </tr>\n",
       "    <tr>\n",
       "      <th>229</th>\n",
       "      <td>3.799873</td>\n",
       "      <td>-0.242272</td>\n",
       "      <td>-1.174622</td>\n",
       "      <td>0</td>\n",
       "      <td>0</td>\n",
       "      <td>0</td>\n",
       "      <td>1</td>\n",
       "      <td>0</td>\n",
       "      <td>0</td>\n",
       "      <td>0</td>\n",
       "      <td>0</td>\n",
       "    </tr>\n",
       "    <tr>\n",
       "      <th>226</th>\n",
       "      <td>2.892100</td>\n",
       "      <td>-0.267172</td>\n",
       "      <td>-1.166648</td>\n",
       "      <td>0</td>\n",
       "      <td>0</td>\n",
       "      <td>0</td>\n",
       "      <td>1</td>\n",
       "      <td>0</td>\n",
       "      <td>0</td>\n",
       "      <td>0</td>\n",
       "      <td>0</td>\n",
       "    </tr>\n",
       "  </tbody>\n",
       "</table>\n",
       "<p>180 rows × 11 columns</p>\n",
       "</div>"
      ],
      "text/plain": [
       "     luminosity    radius  magnitude  type_1  type_2  type_3  type_4  type_5  \\\n",
       "99     0.573322 -0.412010  -0.894946       0       0       1       0       0   \n",
       "206   -0.586360 -0.433149   0.524323       0       1       0       0       0   \n",
       "10    -0.586360 -0.432117   0.537614       1       0       0       0       0   \n",
       "156   -0.501317 -0.421783  -0.837985       0       0       1       0       0   \n",
       "135   -0.586360 -0.431660   0.923047       1       0       0       0       0   \n",
       "..          ...       ...        ...     ...     ...     ...     ...     ...   \n",
       "164    0.813458 -0.360549  -1.174053       0       0       0       1       0   \n",
       "129   -0.586360 -0.432997   1.240128       0       0       0       0       0   \n",
       "29    -0.586360 -0.433148   0.859441       0       1       0       0       0   \n",
       "229    3.799873 -0.242272  -1.174622       0       0       0       1       0   \n",
       "226    2.892100 -0.267172  -1.166648       0       0       0       1       0   \n",
       "\n",
       "     color_blue-white  color_others  color_red  \n",
       "99                  0             0          0  \n",
       "206                 0             0          0  \n",
       "10                  0             0          1  \n",
       "156                 1             0          0  \n",
       "135                 0             0          1  \n",
       "..                ...           ...        ...  \n",
       "164                 0             0          0  \n",
       "129                 0             0          1  \n",
       "29                  0             1          0  \n",
       "229                 0             0          0  \n",
       "226                 0             0          0  \n",
       "\n",
       "[180 rows x 11 columns]"
      ]
     },
     "metadata": {},
     "output_type": "display_data"
    }
   ],
   "source": [
    "columns = ['luminosity', 'radius', 'magnitude']\n",
    "scaler = StandardScaler()\n",
    "scaler.fit(x_train[columns])\n",
    "x_train[columns] = scaler.transform(x_train[columns])\n",
    "x_test[columns] = scaler.transform(x_test[columns])\n",
    "\n",
    "display(x_train)"
   ]
  },
  {
   "cell_type": "markdown",
   "id": "funded-electric",
   "metadata": {},
   "source": [
    "## Построение базовой нейронной сети"
   ]
  },
  {
   "cell_type": "markdown",
   "id": "d475dd89",
   "metadata": {},
   "source": []
  },
  {
   "cell_type": "code",
   "execution_count": 32,
   "id": "df0189df",
   "metadata": {},
   "outputs": [],
   "source": [
    "x_train = torch.FloatTensor(x_train.values)\n",
    "x_test = torch.FloatTensor(x_test.values)"
   ]
  },
  {
   "cell_type": "code",
   "execution_count": 33,
   "id": "55d17787",
   "metadata": {},
   "outputs": [],
   "source": [
    "y_train_ = torch.FloatTensor(y_train.values).reshape(y_train.shape[0], 1)\n",
    "y_test_ = torch.FloatTensor(y_test.values).reshape(y_test.shape[0], 1)"
   ]
  },
  {
   "cell_type": "markdown",
   "id": "30d5c7fc",
   "metadata": {},
   "source": [
    "Создадим несколько базовых нейронных сетей - будем менять функцию активации, количество скрытых слоев и количество нейронов."
   ]
  },
  {
   "cell_type": "markdown",
   "id": "184997a4",
   "metadata": {},
   "source": [
    "В качестве метрики примем RMSE."
   ]
  },
  {
   "cell_type": "code",
   "execution_count": 34,
   "id": "57a61f65",
   "metadata": {},
   "outputs": [],
   "source": [
    "num_epochs = 1000"
   ]
  },
  {
   "cell_type": "code",
   "execution_count": 35,
   "id": "e84b09c4",
   "metadata": {},
   "outputs": [],
   "source": [
    "def learn_and_eval(model, num_epochs, hidden_layers=3):\n",
    "    \n",
    "    optimizer = torch.optim.Adam(model.parameters(), lr=1e-3)\n",
    "    \n",
    "    rmse = MeanSquaredError(squared = False)\n",
    "    loss = nn.MSELoss()\n",
    "    \n",
    "    for epoch in range(num_epochs):\n",
    "\n",
    "        preds = model(x_train) \n",
    "\n",
    "        optimizer.zero_grad()\n",
    "      \n",
    "   \n",
    "        loss_value = torch.sqrt(loss(preds, y_train_))\n",
    "        loss_value.backward()\n",
    "            \n",
    "        optimizer.step()\n",
    "        \n",
    "    model.eval()   \n",
    "    with torch.inference_mode():\n",
    "        res = rmse(model(x_train), y_train_)\n",
    "\n",
    "    \n",
    "    if hidden_layers == 3:\n",
    "        print(f'h1: {n_hidden_neurons_1} | h2: {n_hidden_neurons_2} | h3: {n_hidden_neurons_3} | rmse: {res}')\n",
    "    elif hidden_layers == 5:\n",
    "        print(f'h1: {n_hidden_neurons_1} | h2: {n_hidden_neurons_2} | h3: {n_hidden_neurons_3} | h4: {n_hidden_neurons_4} | h5: {n_hidden_neurons_5} | rmse: {res}') "
   ]
  },
  {
   "cell_type": "markdown",
   "id": "9c7e3b81",
   "metadata": {},
   "source": [
    "### Базовая модель 1"
   ]
  },
  {
   "cell_type": "markdown",
   "id": "d0a3b7c7",
   "metadata": {},
   "source": [
    "В данной модели:\n",
    "\n",
    "1. 3 скрытых слоя;\n",
    "2. функция активации - ReLU();\n",
    "3. 1000 нейронов на каждом слое."
   ]
  },
  {
   "cell_type": "code",
   "execution_count": 36,
   "id": "faa55134",
   "metadata": {},
   "outputs": [
    {
     "name": "stdout",
     "output_type": "stream",
     "text": [
      "h1: 1000 | h2: 1000 | h3: 1000 | rmse: 2349.2939453125\n"
     ]
    }
   ],
   "source": [
    "n_in_neurons, n_out_neurons = x_train.shape[1], 1 \n",
    "n_hidden_neurons_1 = 1000\n",
    "n_hidden_neurons_2 = 1000\n",
    "n_hidden_neurons_3 = 1000\n",
    "    \n",
    "net_1 = nn.Sequential(\n",
    "    nn.Linear(n_in_neurons, n_hidden_neurons_1),\n",
    "    nn.ReLU(),\n",
    "    nn.Linear(n_hidden_neurons_1, n_hidden_neurons_2),\n",
    "    nn.ReLU(),\n",
    "    nn.Linear(n_hidden_neurons_2, n_hidden_neurons_3),\n",
    "    nn.ReLU(),\n",
    "    nn.Linear(n_hidden_neurons_3, n_out_neurons),\n",
    "    nn.ReLU()\n",
    ")\n",
    "\n",
    "learn_and_eval(net_1, num_epochs, hidden_layers=3)"
   ]
  },
  {
   "cell_type": "markdown",
   "id": "95ef5503",
   "metadata": {},
   "source": [
    "rmse = 2373.320556640625 Попробуем увеличить количество слоев"
   ]
  },
  {
   "cell_type": "markdown",
   "id": "cd843778",
   "metadata": {},
   "source": [
    "### Базовая модель 2"
   ]
  },
  {
   "cell_type": "markdown",
   "id": "3d01f49f",
   "metadata": {},
   "source": [
    "В данной модели:\n",
    "\n",
    "1. 5 скрытых слоя;\n",
    "2. функция активации - ReLU();\n",
    "3. 1000 нейронов на каждом слое."
   ]
  },
  {
   "cell_type": "code",
   "execution_count": 37,
   "id": "6e134765",
   "metadata": {},
   "outputs": [],
   "source": [
    "n_in_neurons, n_out_neurons = x_train.shape[1], 1 \n",
    "n_hidden_neurons_1 = 1000\n",
    "n_hidden_neurons_2 = 1000\n",
    "n_hidden_neurons_3 = 1000\n",
    "n_hidden_neurons_4 = 1000\n",
    "n_hidden_neurons_5 = 1000"
   ]
  },
  {
   "cell_type": "code",
   "execution_count": 38,
   "id": "48715fea",
   "metadata": {},
   "outputs": [
    {
     "name": "stdout",
     "output_type": "stream",
     "text": [
      "h1: 1000 | h2: 1000 | h3: 1000 | h4: 1000 | h5: 1000 | rmse: 1607.5660400390625\n"
     ]
    }
   ],
   "source": [
    "net_2 = nn.Sequential(\n",
    "    nn.Linear(n_in_neurons, n_hidden_neurons_1),\n",
    "    nn.ReLU(),\n",
    "    nn.Linear(n_hidden_neurons_1, n_hidden_neurons_2),\n",
    "    nn.ReLU(),\n",
    "    nn.Linear(n_hidden_neurons_2, n_hidden_neurons_3),\n",
    "    nn.ReLU(),\n",
    "    nn.Linear(n_hidden_neurons_3, n_hidden_neurons_4),\n",
    "    nn.ReLU(),\n",
    "    nn.Linear(n_hidden_neurons_4, n_hidden_neurons_5),\n",
    "    nn.ReLU(),\n",
    "    nn.Linear(n_hidden_neurons_5, n_out_neurons),\n",
    "    nn.ReLU()\n",
    ")\n",
    "\n",
    "learn_and_eval(net_2, num_epochs, hidden_layers=5)"
   ]
  },
  {
   "cell_type": "markdown",
   "id": "fc2edaff",
   "metadata": {},
   "source": [
    "rmse = 1767.6075439453125 Значение метрики RMSE уменьшилось. Попробуем изменить функцию активации"
   ]
  },
  {
   "cell_type": "markdown",
   "id": "2124eb74",
   "metadata": {},
   "source": [
    "### Базовая модель 3"
   ]
  },
  {
   "cell_type": "markdown",
   "id": "17671f7a",
   "metadata": {},
   "source": [
    "В данной модели:\n",
    "\n",
    "1. 5 скрытых слоя;\n",
    "2. функция активации - Tanh();\n",
    "3. 1000 нейронов на каждом слое."
   ]
  },
  {
   "cell_type": "code",
   "execution_count": 39,
   "id": "5456b440",
   "metadata": {},
   "outputs": [
    {
     "name": "stdout",
     "output_type": "stream",
     "text": [
      "h1: 1000 | h2: 1000 | h3: 1000 | h4: 1000 | h5: 1000 | rmse: 13725.666015625\n"
     ]
    }
   ],
   "source": [
    "net_3 = nn.Sequential(\n",
    "    nn.Linear(n_in_neurons, n_hidden_neurons_1),\n",
    "    nn.Tanh(),\n",
    "    nn.Linear(n_hidden_neurons_1, n_hidden_neurons_2),\n",
    "    nn.Tanh(),\n",
    "    nn.Linear(n_hidden_neurons_2, n_hidden_neurons_3),\n",
    "    nn.Tanh(),\n",
    "    nn.Linear(n_hidden_neurons_3, n_hidden_neurons_4),\n",
    "    nn.Tanh(),\n",
    "    nn.Linear(n_hidden_neurons_4, n_hidden_neurons_5),\n",
    "    nn.Tanh(),\n",
    "    nn.Linear(n_hidden_neurons_5, n_out_neurons),\n",
    "    nn.Tanh()\n",
    ")\n",
    "\n",
    "learn_and_eval(net_3, num_epochs, hidden_layers=5)"
   ]
  },
  {
   "cell_type": "markdown",
   "id": "ae6c0f86",
   "metadata": {},
   "source": [
    "rmse = 13725.666015625 Данная базовая модель работает хуже, чем модель под номером 2"
   ]
  },
  {
   "cell_type": "markdown",
   "id": "ec6b9926",
   "metadata": {},
   "source": [
    "### Базовая модель 4"
   ]
  },
  {
   "cell_type": "markdown",
   "id": "42999086",
   "metadata": {},
   "source": [
    "В данной модели:\n",
    "\n",
    "1. 5 скрытых слоя;\n",
    "2. функции активации - ReLU(),Tanh();\n",
    "3. 1000 нейронов на каждом слое."
   ]
  },
  {
   "cell_type": "code",
   "execution_count": 40,
   "id": "cd20a283",
   "metadata": {},
   "outputs": [
    {
     "name": "stdout",
     "output_type": "stream",
     "text": [
      "h1: 1000 | h2: 1000 | h3: 1000 | h4: 1000 | h5: 1000 | rmse: 12991.744140625\n"
     ]
    }
   ],
   "source": [
    "net_4 = nn.Sequential(\n",
    "    nn.Linear(n_in_neurons, n_hidden_neurons_1),\n",
    "    nn.Tanh(),\n",
    "    nn.Linear(n_hidden_neurons_1, n_hidden_neurons_2),\n",
    "    nn.ReLU(),\n",
    "    nn.Linear(n_hidden_neurons_2, n_hidden_neurons_3),\n",
    "    nn.Tanh(),\n",
    "    nn.Linear(n_hidden_neurons_3, n_hidden_neurons_4),\n",
    "    nn.ReLU(),\n",
    "    nn.Linear(n_hidden_neurons_4, n_hidden_neurons_5),\n",
    "    nn.Tanh(),\n",
    "    nn.Linear(n_hidden_neurons_5, n_out_neurons),\n",
    "    nn.ReLU()\n",
    ")\n",
    "\n",
    "learn_and_eval(net_4, num_epochs, hidden_layers=5)"
   ]
  },
  {
   "cell_type": "markdown",
   "id": "a5c0321d",
   "metadata": {},
   "source": [
    "rmse = 13726.412109375 Данная базовая модель работает хуже, чем модель под номером 2, остановимся на моделе номер 2"
   ]
  },
  {
   "cell_type": "markdown",
   "id": "d2162039",
   "metadata": {},
   "source": [
    "### Базовая модель 5"
   ]
  },
  {
   "cell_type": "markdown",
   "id": "468e68ef",
   "metadata": {},
   "source": [
    "Попробуем подобрать количество нейронов во внутренних слоях у модели №2, может удасться ее улучшить"
   ]
  },
  {
   "cell_type": "code",
   "execution_count": 41,
   "id": "5b677504",
   "metadata": {},
   "outputs": [],
   "source": [
    "n_in_neurons, n_out_neurons = x_train.shape[1], 1 \n",
    "h1 = list(range(100, 1500, 50))\n",
    "h2 = list(range(100, 1500, 50))\n",
    "h3 = list(range(100, 1500, 50))\n",
    "h4 = list(range(100, 1500, 50))\n",
    "h5 = list(range(100, 1500, 50))\n",
    "samples = 10"
   ]
  },
  {
   "cell_type": "code",
   "execution_count": 42,
   "id": "c9a2c304",
   "metadata": {},
   "outputs": [
    {
     "name": "stdout",
     "output_type": "stream",
     "text": [
      "h1: 850 | h2: 450 | h3: 700 | h4: 750 | h5: 1200 | rmse: 1587.63671875\n",
      "h1: 100 | h2: 650 | h3: 1100 | h4: 950 | h5: 1400 | rmse: 13726.412109375\n",
      "h1: 200 | h2: 400 | h3: 750 | h4: 200 | h5: 950 | rmse: 2219.959228515625\n",
      "h1: 500 | h2: 500 | h3: 1300 | h4: 1100 | h5: 250 | rmse: 13726.412109375\n",
      "h1: 900 | h2: 350 | h3: 1050 | h4: 1100 | h5: 500 | rmse: 13726.412109375\n",
      "h1: 1200 | h2: 700 | h3: 900 | h4: 1150 | h5: 1150 | rmse: 1671.5960693359375\n",
      "h1: 950 | h2: 1350 | h3: 850 | h4: 800 | h5: 350 | rmse: 1985.7254638671875\n",
      "h1: 450 | h2: 450 | h3: 1450 | h4: 450 | h5: 800 | rmse: 13726.412109375\n",
      "h1: 1250 | h2: 750 | h3: 900 | h4: 1400 | h5: 700 | rmse: 13726.412109375\n",
      "h1: 1100 | h2: 950 | h3: 300 | h4: 1250 | h5: 1150 | rmse: 1661.969970703125\n"
     ]
    }
   ],
   "source": [
    "for i in range(samples):\n",
    "    \n",
    "    n_hidden_neurons_1 = h1[np.random.randint(0, len(h1))]\n",
    "    n_hidden_neurons_2 = h2[np.random.randint(0, len(h2))]\n",
    "    n_hidden_neurons_3 = h3[np.random.randint(0, len(h3))]\n",
    "    n_hidden_neurons_4 = h4[np.random.randint(0, len(h4))]\n",
    "    n_hidden_neurons_5 = h5[np.random.randint(0, len(h5))]\n",
    "    \n",
    "    net_5 = nn.Sequential(\n",
    "        nn.Linear(n_in_neurons, n_hidden_neurons_1),\n",
    "        nn.ReLU(),\n",
    "        nn.Linear(n_hidden_neurons_1, n_hidden_neurons_2),\n",
    "        nn.ReLU(),\n",
    "        nn.Linear(n_hidden_neurons_2, n_hidden_neurons_3),\n",
    "        nn.ReLU(),\n",
    "        nn.Linear(n_hidden_neurons_3, n_hidden_neurons_4),\n",
    "        nn.ReLU(),\n",
    "        nn.Linear(n_hidden_neurons_4, n_hidden_neurons_5),\n",
    "        nn.ReLU(),\n",
    "        nn.Linear(n_hidden_neurons_5, n_out_neurons),\n",
    "        nn.ReLU()\n",
    "    )\n",
    "\n",
    "    learn_and_eval(net_5, num_epochs, hidden_layers=5)"
   ]
  },
  {
   "cell_type": "markdown",
   "id": "cbd37c9a",
   "metadata": {},
   "source": [
    "Было: h1: 1000 | h2: 1000 | h3: 1000 | h4: 1000 | h5: 1000 | rmse: 1767.6075439453125  \n",
    "  \n",
    "Принимаем новое количество нейронов в скрытых слоях:  \n",
    "h1: 350 | h2: 150 | h3: 1350 | h4: 1200 | h5: 1250 | rmse: 1299.9825439453125"
   ]
  },
  {
   "cell_type": "code",
   "execution_count": 36,
   "id": "a2dd6ab8",
   "metadata": {},
   "outputs": [],
   "source": [
    "n_in_neurons, n_out_neurons = x_train.shape[1], 1 \n",
    "n_hidden_neurons_1 = 350\n",
    "n_hidden_neurons_2 = 150\n",
    "n_hidden_neurons_3 = 1350\n",
    "n_hidden_neurons_4 = 1200\n",
    "n_hidden_neurons_5 = 1250"
   ]
  },
  {
   "cell_type": "markdown",
   "id": "f0197a38",
   "metadata": {},
   "source": [
    "### Вывод по результатам построения модели:"
   ]
  },
  {
   "cell_type": "markdown",
   "id": "24b64878",
   "metadata": {},
   "source": [
    "По результатам анализа работы моделей для работы была выбрана базовая модель №5 со следующими параметрами::\n",
    "\n",
    "1. 5 скрытых слоя;\n",
    "2. функция активации - ReLU();\n",
    "3. С количеством нейронов в слое: h1: 350 | h2: 150 | h3: 1350 | h4: 1200 | h5: 1250 "
   ]
  },
  {
   "cell_type": "markdown",
   "id": "growing-supply",
   "metadata": {},
   "source": [
    "## Улучшение нейронной сети"
   ]
  },
  {
   "cell_type": "markdown",
   "id": "bc132a1e",
   "metadata": {},
   "source": [
    "### Batch Normalization"
   ]
  },
  {
   "cell_type": "code",
   "execution_count": 37,
   "id": "cbe1aff9",
   "metadata": {},
   "outputs": [
    {
     "name": "stdout",
     "output_type": "stream",
     "text": [
      "h1: 350 | h2: 150 | h3: 1350 | h4: 1200 | h5: 1250 | rmse: 9137.373046875\n"
     ]
    }
   ],
   "source": [
    "net_bn = nn.Sequential(\n",
    "    nn.Linear(n_in_neurons, n_hidden_neurons_1),\n",
    "    nn.ReLU(),\n",
    "    nn.BatchNorm1d(n_hidden_neurons_1),\n",
    "    nn.Linear(n_hidden_neurons_1, n_hidden_neurons_2),\n",
    "    nn.ReLU(),\n",
    "    nn.BatchNorm1d(n_hidden_neurons_2),\n",
    "    nn.Linear(n_hidden_neurons_2, n_hidden_neurons_3),\n",
    "    nn.ReLU(),\n",
    "    nn.BatchNorm1d(n_hidden_neurons_3),\n",
    "    nn.Linear(n_hidden_neurons_3, n_hidden_neurons_4),\n",
    "    nn.ReLU(),\n",
    "    nn.BatchNorm1d(n_hidden_neurons_4),\n",
    "    nn.Linear(n_hidden_neurons_4, n_hidden_neurons_5),\n",
    "    nn.ReLU(),\n",
    "    nn.BatchNorm1d(n_hidden_neurons_5),\n",
    "    nn.Linear(n_hidden_neurons_5, n_out_neurons),\n",
    "    nn.ReLU()\n",
    ")\n",
    "\n",
    "learn_and_eval(net_bn, num_epochs, hidden_layers=5)"
   ]
  },
  {
   "cell_type": "markdown",
   "id": "d44bab32",
   "metadata": {},
   "source": [
    "### Dropout"
   ]
  },
  {
   "cell_type": "markdown",
   "id": "72595500",
   "metadata": {},
   "source": [
    "#### Значение p=0.1"
   ]
  },
  {
   "cell_type": "code",
   "execution_count": 38,
   "id": "cc77ed3a",
   "metadata": {},
   "outputs": [
    {
     "name": "stdout",
     "output_type": "stream",
     "text": [
      "h1: 350 | h2: 150 | h3: 1350 | h4: 1200 | h5: 1250 | rmse: 2639.83544921875\n"
     ]
    }
   ],
   "source": [
    "net_do_1 = nn.Sequential(\n",
    "    nn.Linear(n_in_neurons, n_hidden_neurons_1),\n",
    "    nn.Dropout(p=0.1),\n",
    "    nn.ReLU(),\n",
    "    nn.Linear(n_hidden_neurons_1, n_hidden_neurons_2),\n",
    "    nn.Dropout(p=0.1),\n",
    "    nn.ReLU(),\n",
    "    nn.Linear(n_hidden_neurons_2, n_hidden_neurons_3),\n",
    "    nn.Dropout(p=0.1),\n",
    "    nn.ReLU(),\n",
    "    nn.Linear(n_hidden_neurons_3, n_hidden_neurons_4),\n",
    "    nn.Dropout(p=0.1),\n",
    "    nn.ReLU(),\n",
    "    nn.Linear(n_hidden_neurons_4, n_hidden_neurons_5),\n",
    "    nn.Dropout(p=0.1),\n",
    "    nn.ReLU(),\n",
    "    nn.Linear(n_hidden_neurons_5, n_out_neurons),\n",
    "    nn.ReLU()\n",
    ")\n",
    "\n",
    "learn_and_eval(net_do_1, num_epochs, hidden_layers=5)"
   ]
  },
  {
   "cell_type": "markdown",
   "id": "77206a1c",
   "metadata": {},
   "source": [
    "#### Значение p=0.3"
   ]
  },
  {
   "cell_type": "code",
   "execution_count": 39,
   "id": "1ddf9165",
   "metadata": {},
   "outputs": [
    {
     "name": "stdout",
     "output_type": "stream",
     "text": [
      "h1: 350 | h2: 150 | h3: 1350 | h4: 1200 | h5: 1250 | rmse: 2894.810302734375\n"
     ]
    }
   ],
   "source": [
    "net_do_2 = nn.Sequential(\n",
    "    nn.Linear(n_in_neurons, n_hidden_neurons_1),\n",
    "    nn.Dropout(p=0.3),\n",
    "    nn.ReLU(),\n",
    "    nn.Linear(n_hidden_neurons_1, n_hidden_neurons_2),\n",
    "    nn.Dropout(p=0.3),\n",
    "    nn.ReLU(),\n",
    "    nn.Linear(n_hidden_neurons_2, n_hidden_neurons_3),\n",
    "    nn.Dropout(p=0.3),\n",
    "    nn.ReLU(),\n",
    "    nn.Linear(n_hidden_neurons_3, n_hidden_neurons_4),\n",
    "    nn.Dropout(p=0.3),\n",
    "    nn.ReLU(),\n",
    "    nn.Linear(n_hidden_neurons_4, n_hidden_neurons_5),\n",
    "    nn.Dropout(p=0.3),\n",
    "    nn.ReLU(),\n",
    "    nn.Linear(n_hidden_neurons_5, n_out_neurons),\n",
    "    nn.ReLU()\n",
    ")\n",
    "\n",
    "learn_and_eval(net_do_2, num_epochs, hidden_layers=5)"
   ]
  },
  {
   "cell_type": "markdown",
   "id": "45f8060f",
   "metadata": {},
   "source": [
    "#### Значение p=0.5"
   ]
  },
  {
   "cell_type": "code",
   "execution_count": 40,
   "id": "3e81ed18",
   "metadata": {},
   "outputs": [
    {
     "name": "stdout",
     "output_type": "stream",
     "text": [
      "h1: 350 | h2: 150 | h3: 1350 | h4: 1200 | h5: 1250 | rmse: 3060.599365234375\n"
     ]
    }
   ],
   "source": [
    "net_do_3 = nn.Sequential(\n",
    "    nn.Linear(n_in_neurons, n_hidden_neurons_1),\n",
    "    nn.Dropout(p=0.5),\n",
    "    nn.ReLU(),\n",
    "    nn.Linear(n_hidden_neurons_1, n_hidden_neurons_2),\n",
    "    nn.Dropout(p=0.5),\n",
    "    nn.ReLU(),\n",
    "    nn.Linear(n_hidden_neurons_2, n_hidden_neurons_3),\n",
    "    nn.Dropout(p=0.5),\n",
    "    nn.ReLU(),\n",
    "    nn.Linear(n_hidden_neurons_3, n_hidden_neurons_4),\n",
    "    nn.Dropout(p=0.5),\n",
    "    nn.ReLU(),\n",
    "    nn.Linear(n_hidden_neurons_4, n_hidden_neurons_5),\n",
    "    nn.Dropout(p=0.5),\n",
    "    nn.ReLU(),\n",
    "    nn.Linear(n_hidden_neurons_5, n_out_neurons),\n",
    "    nn.ReLU()\n",
    ")\n",
    "\n",
    "learn_and_eval(net_do_3, num_epochs, hidden_layers=5)"
   ]
  },
  {
   "cell_type": "markdown",
   "id": "36800d98",
   "metadata": {},
   "source": [
    "### Вывод по результатам улучшения модели:"
   ]
  },
  {
   "cell_type": "markdown",
   "id": "3474aabb",
   "metadata": {},
   "source": [
    "Значительного улучшения метрики RMSE получить не удалось."
   ]
  },
  {
   "cell_type": "markdown",
   "id": "c398d5f9",
   "metadata": {},
   "source": [
    "### Получили модель:"
   ]
  },
  {
   "cell_type": "code",
   "execution_count": 44,
   "id": "477aebe7",
   "metadata": {},
   "outputs": [],
   "source": [
    "n_in_neurons, n_out_neurons = x_train.shape[1], 1 \n",
    "n_hidden_neurons_1 = 350\n",
    "n_hidden_neurons_2 = 150\n",
    "n_hidden_neurons_3 = 1350\n",
    "n_hidden_neurons_4 = 1200\n",
    "n_hidden_neurons_5 = 1250"
   ]
  },
  {
   "cell_type": "code",
   "execution_count": 46,
   "id": "1434bb06",
   "metadata": {},
   "outputs": [
    {
     "name": "stdout",
     "output_type": "stream",
     "text": [
      "h1: 350 | h2: 150 | h3: 1350 | h4: 1200 | h5: 1250 | rmse: 1465.6826171875\n"
     ]
    }
   ],
   "source": [
    "net = nn.Sequential(\n",
    "    nn.Linear(n_in_neurons, n_hidden_neurons_1),\n",
    "    nn.ReLU(),\n",
    "    nn.Linear(n_hidden_neurons_1, n_hidden_neurons_2),\n",
    "    nn.ReLU(),\n",
    "    nn.Linear(n_hidden_neurons_2, n_hidden_neurons_3),\n",
    "    nn.ReLU(),\n",
    "    nn.Linear(n_hidden_neurons_3, n_hidden_neurons_4),\n",
    "    nn.ReLU(),\n",
    "    nn.Linear(n_hidden_neurons_4, n_hidden_neurons_5),\n",
    "    nn.ReLU(),\n",
    "    nn.Linear(n_hidden_neurons_5, n_out_neurons),\n",
    "    nn.ReLU()\n",
    ")\n",
    "\n",
    "learn_and_eval(net, num_epochs, hidden_layers=5)  "
   ]
  },
  {
   "cell_type": "code",
   "execution_count": 48,
   "id": "2e8059e8",
   "metadata": {},
   "outputs": [
    {
     "name": "stdout",
     "output_type": "stream",
     "text": [
      "     Actual     Predicted\n",
      "232   32489  46748.726562\n",
      "30    39000  35318.656250\n",
      "216    9320  10239.585938\n",
      "52     3834   3148.708740\n",
      "94     9030  10009.061523\n",
      "122    3218   2825.464111\n",
      "213   22012  16353.371094\n",
      "95    11250  15046.867188\n",
      "89    19860  19130.513672\n",
      "47     3574   3840.539307\n",
      "204   18340  19622.601562\n",
      "175    3614   4577.752930\n",
      "73     3150   3240.865234\n",
      "219    8250  10661.669922\n",
      "132    3100   3338.121338\n",
      "20    25000  12172.957031\n",
      "151    8945  11417.837891\n",
      "110    3459   3628.693848\n",
      "33     9700  10177.649414\n",
      "66     2945   2873.232666\n",
      "233   27739  28891.501953\n",
      "103   17120   8279.213867\n",
      "104   11096  23406.912109\n",
      "93     4980   5601.760254\n",
      "236   30839  54127.898438\n",
      "177   11000  29645.470703\n",
      "150   29560  46225.496094\n",
      "224   16787  12721.132812\n",
      "163    5752   8975.181641\n",
      "190    3462   3291.676025\n",
      "40     3826   3429.438232\n",
      "209   19360  17658.662109\n",
      "71     3607   3491.905029\n",
      "106   24630  17967.144531\n",
      "112    3615   4912.959473\n",
      "9      2700   3137.446533\n",
      "170    3570   4914.147461\n",
      "57     3450   3688.177979\n",
      "50     3490   5747.847656\n",
      "16     2799   3424.500977\n",
      "54     3650   3894.634033\n",
      "159   37800  35307.144531\n",
      "185    2889   3027.187500\n",
      "68     2774   2977.455078\n",
      "120    3323   3002.146973\n",
      "109   33421  20975.357422\n",
      "27     7700   7309.334961\n",
      "158   13023  13589.808594\n",
      "139    3541   3342.756836\n",
      "14     2650   3253.714600\n",
      "67     2817   3082.048096\n",
      "17     3692   3395.621338\n",
      "148    7723   7258.285156\n",
      "188    2778   2872.693115\n",
      "172    4287   8314.963867\n",
      "157   20120  18090.783203\n",
      "92     4077   4794.501953\n",
      "49    33750  26002.396484\n",
      "19     3441   3336.878662\n",
      "202   14982  15509.011719\n"
     ]
    }
   ],
   "source": [
    "test_preds = net(x_test)\n",
    "test_preds = [test_preds[x].item() for x in range(len(test_preds))]\n",
    "\n",
    "df = {}\n",
    "df['Actual'] = y_test\n",
    "df['Predicted'] = test_preds\n",
    "df = pd.DataFrame(df)\n",
    "print(df)"
   ]
  },
  {
   "cell_type": "code",
   "execution_count": 49,
   "id": "3d59bdb3",
   "metadata": {},
   "outputs": [],
   "source": [
    "test_preds = pd.DataFrame(test_preds, columns=['temperature'])\n",
    "test_target = pd.DataFrame(y_test, columns=['temperature'])"
   ]
  },
  {
   "cell_type": "code",
   "execution_count": 50,
   "id": "91d50581",
   "metadata": {},
   "outputs": [],
   "source": [
    "test_target.index = range(0,60,1)"
   ]
  },
  {
   "cell_type": "code",
   "execution_count": 51,
   "id": "33b84326",
   "metadata": {},
   "outputs": [
    {
     "data": {
      "image/png": "[encoded data removed]",
      "text/plain": [
       "<Figure size 1440x432 with 1 Axes>"
      ]
     },
     "metadata": {
      "needs_background": "light"
     },
     "output_type": "display_data"
    }
   ],
   "source": [
    "fig, ax = plt.subplots(figsize=[20,6])\n",
    "plt.bar(x=test_preds.index, height=test_preds['temperature'], color='moccasin' , label='predicted')\n",
    "plt.bar(x=test_target.index, height=test_target['temperature'], color='limegreen', label='real', width= 0.4)\n",
    "plt.xlabel('stars')\n",
    "plt.ylabel('temperature')\n",
    "ax.legend()\n",
    "plt.show()"
   ]
  },
  {
   "cell_type": "markdown",
   "id": "f5587417",
   "metadata": {},
   "source": [
    "На маленьких температурах модель практически не ошибается."
   ]
  },
  {
   "cell_type": "markdown",
   "id": "accurate-infrastructure",
   "metadata": {},
   "source": [
    "## Выводы"
   ]
  },
  {
   "cell_type": "markdown",
   "id": "7f33108b",
   "metadata": {},
   "source": [
    "Лучшей всего себя показала нейронная сеть с 5 скрытыми слоями, обученная в 1000 эпох, 5 скрытых слоев, функцией активации - ReLU(), с количеством нейронов: h1: 350 | h2: 150 | h3: 1350 | h4: 1200 | h5: 1250. Удалось достичь 1299.98 на тестовой выборке по метрике RMSE. Значительного улучшения метрики RMSE получить не удалось. Учитывая, что стандратное отклонение у таргета 9552, то результат у модели хороший. Видно (в том числе на последнем графике), что модель все также плохо определяет звезды с высокой температурой на поверхности, что, возможно, объясняется небольшим количеством таких звезд в выборке."
   ]
  }
 ],
 "metadata": {
  "ExecuteTimeLog": [
   {
    "duration": 378,
    "start_time": "2023-05-12T10:34:27.744Z"
   },
   {
    "duration": 69,
    "start_time": "2023-05-12T10:34:46.508Z"
   },
   {
    "duration": 64,
    "start_time": "2023-05-12T10:34:55.760Z"
   },
   {
    "duration": 45,
    "start_time": "2023-05-12T10:35:58.780Z"
   },
   {
    "duration": 12,
    "start_time": "2023-05-12T10:41:31.399Z"
   },
   {
    "duration": 43,
    "start_time": "2023-05-12T10:42:20.219Z"
   },
   {
    "duration": 207,
    "start_time": "2023-05-12T10:44:03.248Z"
   },
   {
    "duration": 31,
    "start_time": "2023-05-12T10:45:24.964Z"
   },
   {
    "duration": 4,
    "start_time": "2023-05-12T10:45:35.916Z"
   },
   {
    "duration": 3,
    "start_time": "2023-05-12T10:45:38.105Z"
   },
   {
    "duration": 12,
    "start_time": "2023-05-12T10:45:39.448Z"
   },
   {
    "duration": 12,
    "start_time": "2023-05-12T10:45:47.436Z"
   },
   {
    "duration": 2,
    "start_time": "2023-05-12T10:48:02.130Z"
   },
   {
    "duration": 25,
    "start_time": "2023-05-12T10:49:23.559Z"
   },
   {
    "duration": 25,
    "start_time": "2023-05-12T10:49:37.444Z"
   },
   {
    "duration": 8,
    "start_time": "2023-05-12T10:51:20.456Z"
   },
   {
    "duration": 7,
    "start_time": "2023-05-12T10:52:26.317Z"
   },
   {
    "duration": 49,
    "start_time": "2023-05-12T10:52:35.693Z"
   },
   {
    "duration": 3591,
    "start_time": "2023-05-12T11:00:45.892Z"
   },
   {
    "duration": 135,
    "start_time": "2023-05-12T11:03:08.401Z"
   },
   {
    "duration": 686,
    "start_time": "2023-05-12T11:04:33.654Z"
   },
   {
    "duration": 9,
    "start_time": "2023-05-12T11:04:43.526Z"
   },
   {
    "duration": 171,
    "start_time": "2023-05-12T11:05:21.582Z"
   },
   {
    "duration": 3354,
    "start_time": "2023-05-12T11:06:09.352Z"
   },
   {
    "duration": 10,
    "start_time": "2023-05-12T11:06:36.254Z"
   },
   {
    "duration": 168,
    "start_time": "2023-05-12T11:07:23.255Z"
   },
   {
    "duration": 2,
    "start_time": "2023-05-12T11:10:06.736Z"
   },
   {
    "duration": 120,
    "start_time": "2023-05-12T11:10:36.013Z"
   },
   {
    "duration": 279,
    "start_time": "2023-05-12T11:16:08.539Z"
   },
   {
    "duration": 173,
    "start_time": "2023-05-12T11:16:14.110Z"
   },
   {
    "duration": 166,
    "start_time": "2023-05-12T11:16:18.142Z"
   },
   {
    "duration": 201,
    "start_time": "2023-05-12T11:16:22.554Z"
   },
   {
    "duration": 162,
    "start_time": "2023-05-12T11:16:36.407Z"
   },
   {
    "duration": 185,
    "start_time": "2023-05-12T11:16:41.423Z"
   },
   {
    "duration": 181,
    "start_time": "2023-05-12T11:16:47.943Z"
   },
   {
    "duration": 183,
    "start_time": "2023-05-12T11:17:03.451Z"
   },
   {
    "duration": 213,
    "start_time": "2023-05-12T11:17:08.805Z"
   },
   {
    "duration": 171,
    "start_time": "2023-05-12T11:17:18.295Z"
   },
   {
    "duration": 162,
    "start_time": "2023-05-12T11:18:12.395Z"
   },
   {
    "duration": 170,
    "start_time": "2023-05-12T11:18:36.059Z"
   },
   {
    "duration": 99,
    "start_time": "2023-05-12T11:18:40.003Z"
   },
   {
    "duration": 158,
    "start_time": "2023-05-12T11:18:47.532Z"
   },
   {
    "duration": 156,
    "start_time": "2023-05-12T11:18:58.903Z"
   },
   {
    "duration": 213,
    "start_time": "2023-05-12T11:19:10.281Z"
   },
   {
    "duration": 278,
    "start_time": "2023-05-12T11:19:16.636Z"
   },
   {
    "duration": 159,
    "start_time": "2023-05-12T11:19:26.759Z"
   },
   {
    "duration": 212,
    "start_time": "2023-05-12T11:19:36.724Z"
   },
   {
    "duration": 149,
    "start_time": "2023-05-12T11:19:48.700Z"
   },
   {
    "duration": 173,
    "start_time": "2023-05-12T11:21:25.916Z"
   },
   {
    "duration": 175,
    "start_time": "2023-05-12T11:21:33.136Z"
   },
   {
    "duration": 115,
    "start_time": "2023-05-12T11:21:36.140Z"
   },
   {
    "duration": 171,
    "start_time": "2023-05-12T11:22:06.987Z"
   },
   {
    "duration": 128,
    "start_time": "2023-05-12T11:22:09.629Z"
   },
   {
    "duration": 154,
    "start_time": "2023-05-12T11:22:27.453Z"
   },
   {
    "duration": 218,
    "start_time": "2023-05-12T11:22:40.097Z"
   },
   {
    "duration": 161,
    "start_time": "2023-05-12T11:22:46.097Z"
   },
   {
    "duration": 176,
    "start_time": "2023-05-12T11:23:45.235Z"
   },
   {
    "duration": 109,
    "start_time": "2023-05-12T11:23:49.041Z"
   },
   {
    "duration": 165,
    "start_time": "2023-05-12T11:25:16.526Z"
   },
   {
    "duration": 151,
    "start_time": "2023-05-12T11:25:51.537Z"
   },
   {
    "duration": 9,
    "start_time": "2023-05-12T11:26:42.983Z"
   },
   {
    "duration": 7,
    "start_time": "2023-05-12T11:28:32.357Z"
   },
   {
    "duration": 5,
    "start_time": "2023-05-12T11:31:24.032Z"
   },
   {
    "duration": 11,
    "start_time": "2023-05-12T11:31:31.161Z"
   },
   {
    "duration": 4,
    "start_time": "2023-05-12T11:33:58.502Z"
   },
   {
    "duration": 4,
    "start_time": "2023-05-12T11:33:59.129Z"
   },
   {
    "duration": 5,
    "start_time": "2023-05-12T11:34:05.884Z"
   },
   {
    "duration": 3,
    "start_time": "2023-05-12T11:34:08.458Z"
   },
   {
    "duration": 4,
    "start_time": "2023-05-12T11:34:09.085Z"
   },
   {
    "duration": 7,
    "start_time": "2023-05-12T11:34:12.601Z"
   },
   {
    "duration": 3,
    "start_time": "2023-05-12T11:34:54.000Z"
   },
   {
    "duration": 4,
    "start_time": "2023-05-12T11:34:54.455Z"
   },
   {
    "duration": 7,
    "start_time": "2023-05-12T11:34:54.866Z"
   },
   {
    "duration": 1221,
    "start_time": "2023-05-12T11:35:09.610Z"
   },
   {
    "duration": 41,
    "start_time": "2023-05-12T11:35:10.833Z"
   },
   {
    "duration": 6,
    "start_time": "2023-05-12T11:35:10.876Z"
   },
   {
    "duration": 13,
    "start_time": "2023-05-12T11:35:10.884Z"
   },
   {
    "duration": 21,
    "start_time": "2023-05-12T11:35:10.900Z"
   },
   {
    "duration": 42,
    "start_time": "2023-05-12T11:35:10.924Z"
   },
   {
    "duration": 7,
    "start_time": "2023-05-12T11:35:10.968Z"
   },
   {
    "duration": 16,
    "start_time": "2023-05-12T11:35:10.976Z"
   },
   {
    "duration": 194,
    "start_time": "2023-05-12T11:35:10.994Z"
   },
   {
    "duration": 127,
    "start_time": "2023-05-12T11:35:11.190Z"
   },
   {
    "duration": 167,
    "start_time": "2023-05-12T11:35:11.318Z"
   },
   {
    "duration": 107,
    "start_time": "2023-05-12T11:35:11.487Z"
   },
   {
    "duration": 181,
    "start_time": "2023-05-12T11:35:11.596Z"
   },
   {
    "duration": 115,
    "start_time": "2023-05-12T11:35:11.788Z"
   },
   {
    "duration": 161,
    "start_time": "2023-05-12T11:35:11.905Z"
   },
   {
    "duration": 104,
    "start_time": "2023-05-12T11:35:12.068Z"
   },
   {
    "duration": 172,
    "start_time": "2023-05-12T11:35:12.173Z"
   },
   {
    "duration": 5,
    "start_time": "2023-05-12T11:35:12.347Z"
   },
   {
    "duration": 10,
    "start_time": "2023-05-12T11:35:12.354Z"
   },
   {
    "duration": 10,
    "start_time": "2023-05-12T11:35:12.366Z"
   },
   {
    "duration": 3,
    "start_time": "2023-05-12T11:35:12.389Z"
   },
   {
    "duration": 15,
    "start_time": "2023-05-12T11:35:12.394Z"
   },
   {
    "duration": 7,
    "start_time": "2023-05-12T11:35:12.411Z"
   },
   {
    "duration": 230,
    "start_time": "2023-05-12T11:35:59.144Z"
   },
   {
    "duration": 5,
    "start_time": "2023-05-12T11:39:39.937Z"
   },
   {
    "duration": 7,
    "start_time": "2023-05-12T11:39:48.681Z"
   },
   {
    "duration": 263,
    "start_time": "2023-05-12T11:54:26.403Z"
   },
   {
    "duration": 12,
    "start_time": "2023-05-12T11:56:34.946Z"
   },
   {
    "duration": 26,
    "start_time": "2023-05-12T11:58:40.193Z"
   },
   {
    "duration": 125,
    "start_time": "2023-05-12T11:58:49.203Z"
   },
   {
    "duration": 1445,
    "start_time": "2023-05-12T11:58:55.382Z"
   },
   {
    "duration": 34,
    "start_time": "2023-05-12T11:58:56.830Z"
   },
   {
    "duration": 4,
    "start_time": "2023-05-12T11:58:56.866Z"
   },
   {
    "duration": 14,
    "start_time": "2023-05-12T11:58:56.873Z"
   },
   {
    "duration": 26,
    "start_time": "2023-05-12T11:58:56.890Z"
   },
   {
    "duration": 29,
    "start_time": "2023-05-12T11:58:56.918Z"
   },
   {
    "duration": 7,
    "start_time": "2023-05-12T11:58:56.949Z"
   },
   {
    "duration": 7,
    "start_time": "2023-05-12T11:58:56.957Z"
   },
   {
    "duration": 238,
    "start_time": "2023-05-12T11:58:56.965Z"
   },
   {
    "duration": 135,
    "start_time": "2023-05-12T11:58:57.205Z"
   },
   {
    "duration": 182,
    "start_time": "2023-05-12T11:58:57.342Z"
   },
   {
    "duration": 120,
    "start_time": "2023-05-12T11:58:57.526Z"
   },
   {
    "duration": 215,
    "start_time": "2023-05-12T11:58:57.648Z"
   },
   {
    "duration": 151,
    "start_time": "2023-05-12T11:58:57.864Z"
   },
   {
    "duration": 241,
    "start_time": "2023-05-12T11:58:58.016Z"
   },
   {
    "duration": 113,
    "start_time": "2023-05-12T11:58:58.258Z"
   },
   {
    "duration": 179,
    "start_time": "2023-05-12T11:58:58.374Z"
   },
   {
    "duration": 6,
    "start_time": "2023-05-12T11:58:58.555Z"
   },
   {
    "duration": 18,
    "start_time": "2023-05-12T11:58:58.562Z"
   },
   {
    "duration": 21,
    "start_time": "2023-05-12T11:58:58.582Z"
   },
   {
    "duration": 4,
    "start_time": "2023-05-12T11:58:58.605Z"
   },
   {
    "duration": 6,
    "start_time": "2023-05-12T11:58:58.611Z"
   },
   {
    "duration": 8,
    "start_time": "2023-05-12T11:58:58.618Z"
   },
   {
    "duration": 189,
    "start_time": "2023-05-12T11:58:58.628Z"
   },
   {
    "duration": 7,
    "start_time": "2023-05-12T11:58:58.819Z"
   },
   {
    "duration": 14,
    "start_time": "2023-05-12T11:58:58.828Z"
   },
   {
    "duration": 159,
    "start_time": "2023-05-12T11:58:58.843Z"
   },
   {
    "duration": 1475,
    "start_time": "2023-05-12T11:59:17.089Z"
   },
   {
    "duration": 40,
    "start_time": "2023-05-12T11:59:18.566Z"
   },
   {
    "duration": 6,
    "start_time": "2023-05-12T11:59:18.608Z"
   },
   {
    "duration": 10,
    "start_time": "2023-05-12T11:59:18.615Z"
   },
   {
    "duration": 22,
    "start_time": "2023-05-12T11:59:18.627Z"
   },
   {
    "duration": 48,
    "start_time": "2023-05-12T11:59:18.651Z"
   },
   {
    "duration": 8,
    "start_time": "2023-05-12T11:59:18.702Z"
   },
   {
    "duration": 18,
    "start_time": "2023-05-12T11:59:18.713Z"
   },
   {
    "duration": 206,
    "start_time": "2023-05-12T11:59:18.733Z"
   },
   {
    "duration": 129,
    "start_time": "2023-05-12T11:59:18.941Z"
   },
   {
    "duration": 184,
    "start_time": "2023-05-12T11:59:19.072Z"
   },
   {
    "duration": 120,
    "start_time": "2023-05-12T11:59:19.258Z"
   },
   {
    "duration": 237,
    "start_time": "2023-05-12T11:59:19.380Z"
   },
   {
    "duration": 155,
    "start_time": "2023-05-12T11:59:19.620Z"
   },
   {
    "duration": 276,
    "start_time": "2023-05-12T11:59:19.777Z"
   },
   {
    "duration": 121,
    "start_time": "2023-05-12T11:59:20.055Z"
   },
   {
    "duration": 235,
    "start_time": "2023-05-12T11:59:20.178Z"
   },
   {
    "duration": 7,
    "start_time": "2023-05-12T11:59:20.416Z"
   },
   {
    "duration": 24,
    "start_time": "2023-05-12T11:59:20.426Z"
   },
   {
    "duration": 15,
    "start_time": "2023-05-12T11:59:20.453Z"
   },
   {
    "duration": 23,
    "start_time": "2023-05-12T11:59:20.471Z"
   },
   {
    "duration": 20,
    "start_time": "2023-05-12T11:59:20.500Z"
   },
   {
    "duration": 18,
    "start_time": "2023-05-12T11:59:20.523Z"
   },
   {
    "duration": 196,
    "start_time": "2023-05-12T11:59:20.544Z"
   },
   {
    "duration": 7,
    "start_time": "2023-05-12T11:59:20.743Z"
   },
   {
    "duration": 26,
    "start_time": "2023-05-12T11:59:20.753Z"
   },
   {
    "duration": 30,
    "start_time": "2023-05-12T11:59:20.782Z"
   },
   {
    "duration": 10,
    "start_time": "2023-05-12T12:05:25.129Z"
   },
   {
    "duration": 1003,
    "start_time": "2023-05-12T12:08:12.612Z"
   },
   {
    "duration": 902,
    "start_time": "2023-05-12T12:08:17.555Z"
   },
   {
    "duration": 1658,
    "start_time": "2023-05-12T12:08:39.520Z"
   },
   {
    "duration": 48,
    "start_time": "2023-05-12T12:08:41.180Z"
   },
   {
    "duration": 5,
    "start_time": "2023-05-12T12:08:41.230Z"
   },
   {
    "duration": 11,
    "start_time": "2023-05-12T12:08:41.237Z"
   },
   {
    "duration": 18,
    "start_time": "2023-05-12T12:08:41.251Z"
   },
   {
    "duration": 57,
    "start_time": "2023-05-12T12:08:41.271Z"
   },
   {
    "duration": 7,
    "start_time": "2023-05-12T12:08:41.330Z"
   },
   {
    "duration": 7,
    "start_time": "2023-05-12T12:08:41.339Z"
   },
   {
    "duration": 226,
    "start_time": "2023-05-12T12:08:41.348Z"
   },
   {
    "duration": 137,
    "start_time": "2023-05-12T12:08:41.576Z"
   },
   {
    "duration": 207,
    "start_time": "2023-05-12T12:08:41.715Z"
   },
   {
    "duration": 126,
    "start_time": "2023-05-12T12:08:41.924Z"
   },
   {
    "duration": 207,
    "start_time": "2023-05-12T12:08:42.052Z"
   },
   {
    "duration": 142,
    "start_time": "2023-05-12T12:08:42.262Z"
   },
   {
    "duration": 247,
    "start_time": "2023-05-12T12:08:42.410Z"
   },
   {
    "duration": 142,
    "start_time": "2023-05-12T12:08:42.659Z"
   },
   {
    "duration": 222,
    "start_time": "2023-05-12T12:08:42.803Z"
   },
   {
    "duration": 10,
    "start_time": "2023-05-12T12:08:43.027Z"
   },
   {
    "duration": 8,
    "start_time": "2023-05-12T12:08:43.039Z"
   },
   {
    "duration": 5,
    "start_time": "2023-05-12T12:08:43.049Z"
   },
   {
    "duration": 7,
    "start_time": "2023-05-12T12:08:43.056Z"
   },
   {
    "duration": 23,
    "start_time": "2023-05-12T12:08:43.065Z"
   },
   {
    "duration": 20,
    "start_time": "2023-05-12T12:08:43.090Z"
   },
   {
    "duration": 204,
    "start_time": "2023-05-12T12:08:43.112Z"
   },
   {
    "duration": 10,
    "start_time": "2023-05-12T12:08:43.317Z"
   },
   {
    "duration": 13,
    "start_time": "2023-05-12T12:08:43.329Z"
   },
   {
    "duration": 1104,
    "start_time": "2023-05-12T12:08:43.343Z"
   },
   {
    "duration": 0,
    "start_time": "2023-05-12T12:08:44.449Z"
   },
   {
    "duration": 8,
    "start_time": "2023-05-12T12:09:21.953Z"
   },
   {
    "duration": 1497,
    "start_time": "2023-05-12T12:15:26.901Z"
   },
   {
    "duration": 36,
    "start_time": "2023-05-12T12:15:28.405Z"
   },
   {
    "duration": 4,
    "start_time": "2023-05-12T12:15:28.443Z"
   },
   {
    "duration": 34,
    "start_time": "2023-05-12T12:15:28.451Z"
   },
   {
    "duration": 38,
    "start_time": "2023-05-12T12:15:28.487Z"
   },
   {
    "duration": 34,
    "start_time": "2023-05-12T12:15:28.527Z"
   },
   {
    "duration": 10,
    "start_time": "2023-05-12T12:15:28.563Z"
   },
   {
    "duration": 21,
    "start_time": "2023-05-12T12:15:28.575Z"
   },
   {
    "duration": 213,
    "start_time": "2023-05-12T12:15:28.602Z"
   },
   {
    "duration": 128,
    "start_time": "2023-05-12T12:15:28.817Z"
   },
   {
    "duration": 192,
    "start_time": "2023-05-12T12:15:28.947Z"
   },
   {
    "duration": 107,
    "start_time": "2023-05-12T12:15:29.142Z"
   },
   {
    "duration": 193,
    "start_time": "2023-05-12T12:15:29.251Z"
   },
   {
    "duration": 140,
    "start_time": "2023-05-12T12:15:29.446Z"
   },
   {
    "duration": 244,
    "start_time": "2023-05-12T12:15:29.591Z"
   },
   {
    "duration": 115,
    "start_time": "2023-05-12T12:15:29.836Z"
   },
   {
    "duration": 176,
    "start_time": "2023-05-12T12:15:29.953Z"
   },
   {
    "duration": 5,
    "start_time": "2023-05-12T12:15:30.131Z"
   },
   {
    "duration": 18,
    "start_time": "2023-05-12T12:15:30.138Z"
   },
   {
    "duration": 40,
    "start_time": "2023-05-12T12:15:30.159Z"
   },
   {
    "duration": 24,
    "start_time": "2023-05-12T12:15:30.201Z"
   },
   {
    "duration": 80,
    "start_time": "2023-05-12T12:15:30.227Z"
   },
   {
    "duration": 42,
    "start_time": "2023-05-12T12:15:30.309Z"
   },
   {
    "duration": 236,
    "start_time": "2023-05-12T12:15:30.353Z"
   },
   {
    "duration": 12,
    "start_time": "2023-05-12T12:15:30.592Z"
   },
   {
    "duration": 52,
    "start_time": "2023-05-12T12:15:30.608Z"
   },
   {
    "duration": 131,
    "start_time": "2023-05-12T12:20:49.247Z"
   },
   {
    "duration": 39,
    "start_time": "2023-05-12T12:21:10.965Z"
   },
   {
    "duration": 5,
    "start_time": "2023-05-12T12:21:49.631Z"
   },
   {
    "duration": 5,
    "start_time": "2023-05-12T12:22:02.335Z"
   },
   {
    "duration": 16,
    "start_time": "2023-05-12T12:22:25.035Z"
   },
   {
    "duration": 26,
    "start_time": "2023-05-12T12:22:56.283Z"
   },
   {
    "duration": 21,
    "start_time": "2023-05-12T12:23:33.232Z"
   },
   {
    "duration": 19,
    "start_time": "2023-05-12T12:25:51.861Z"
   },
   {
    "duration": 14,
    "start_time": "2023-05-12T12:28:07.853Z"
   },
   {
    "duration": 11,
    "start_time": "2023-05-12T12:28:16.628Z"
   },
   {
    "duration": 15,
    "start_time": "2023-05-12T12:28:20.309Z"
   },
   {
    "duration": 16,
    "start_time": "2023-05-12T12:28:30.716Z"
   },
   {
    "duration": 1785,
    "start_time": "2023-05-12T12:30:01.086Z"
   },
   {
    "duration": 59,
    "start_time": "2023-05-12T12:30:02.874Z"
   },
   {
    "duration": 4,
    "start_time": "2023-05-12T12:30:02.940Z"
   },
   {
    "duration": 11,
    "start_time": "2023-05-12T12:30:02.946Z"
   },
   {
    "duration": 19,
    "start_time": "2023-05-12T12:30:02.959Z"
   },
   {
    "duration": 60,
    "start_time": "2023-05-12T12:30:02.981Z"
   },
   {
    "duration": 7,
    "start_time": "2023-05-12T12:30:03.043Z"
   },
   {
    "duration": 9,
    "start_time": "2023-05-12T12:30:03.052Z"
   },
   {
    "duration": 224,
    "start_time": "2023-05-12T12:30:03.062Z"
   },
   {
    "duration": 138,
    "start_time": "2023-05-12T12:30:03.288Z"
   },
   {
    "duration": 189,
    "start_time": "2023-05-12T12:30:03.428Z"
   },
   {
    "duration": 118,
    "start_time": "2023-05-12T12:30:03.619Z"
   },
   {
    "duration": 202,
    "start_time": "2023-05-12T12:30:03.739Z"
   },
   {
    "duration": 136,
    "start_time": "2023-05-12T12:30:03.944Z"
   },
   {
    "duration": 278,
    "start_time": "2023-05-12T12:30:04.081Z"
   },
   {
    "duration": 154,
    "start_time": "2023-05-12T12:30:04.362Z"
   },
   {
    "duration": 183,
    "start_time": "2023-05-12T12:30:04.522Z"
   },
   {
    "duration": 19,
    "start_time": "2023-05-12T12:30:04.712Z"
   },
   {
    "duration": 11,
    "start_time": "2023-05-12T12:30:04.732Z"
   },
   {
    "duration": 15,
    "start_time": "2023-05-12T12:30:04.745Z"
   },
   {
    "duration": 22,
    "start_time": "2023-05-12T12:30:04.763Z"
   },
   {
    "duration": 20,
    "start_time": "2023-05-12T12:30:04.787Z"
   },
   {
    "duration": 32,
    "start_time": "2023-05-12T12:30:04.811Z"
   },
   {
    "duration": 197,
    "start_time": "2023-05-12T12:30:04.845Z"
   },
   {
    "duration": 8,
    "start_time": "2023-05-12T12:30:05.043Z"
   },
   {
    "duration": 16,
    "start_time": "2023-05-12T12:30:05.053Z"
   },
   {
    "duration": 37,
    "start_time": "2023-05-12T12:30:05.072Z"
   },
   {
    "duration": 22,
    "start_time": "2023-05-12T12:30:05.110Z"
   },
   {
    "duration": 1443,
    "start_time": "2023-05-12T12:30:05.135Z"
   },
   {
    "duration": 0,
    "start_time": "2023-05-12T12:30:06.580Z"
   },
   {
    "duration": 34,
    "start_time": "2023-05-12T12:30:20.737Z"
   },
   {
    "duration": 1601,
    "start_time": "2023-05-12T12:31:23.361Z"
   },
   {
    "duration": 41,
    "start_time": "2023-05-12T12:31:24.965Z"
   },
   {
    "duration": 5,
    "start_time": "2023-05-12T12:31:25.008Z"
   },
   {
    "duration": 3,
    "start_time": "2023-05-12T12:31:25.014Z"
   },
   {
    "duration": 25,
    "start_time": "2023-05-12T12:31:25.028Z"
   },
   {
    "duration": 52,
    "start_time": "2023-05-12T12:31:25.055Z"
   },
   {
    "duration": 17,
    "start_time": "2023-05-12T12:31:25.111Z"
   },
   {
    "duration": 13,
    "start_time": "2023-05-12T12:31:25.131Z"
   },
   {
    "duration": 208,
    "start_time": "2023-05-12T12:31:25.146Z"
   },
   {
    "duration": 119,
    "start_time": "2023-05-12T12:31:25.355Z"
   },
   {
    "duration": 189,
    "start_time": "2023-05-12T12:31:25.476Z"
   },
   {
    "duration": 112,
    "start_time": "2023-05-12T12:31:25.667Z"
   },
   {
    "duration": 210,
    "start_time": "2023-05-12T12:31:25.781Z"
   },
   {
    "duration": 141,
    "start_time": "2023-05-12T12:31:25.994Z"
   },
   {
    "duration": 269,
    "start_time": "2023-05-12T12:31:26.136Z"
   },
   {
    "duration": 132,
    "start_time": "2023-05-12T12:31:26.406Z"
   },
   {
    "duration": 178,
    "start_time": "2023-05-12T12:31:26.540Z"
   },
   {
    "duration": 9,
    "start_time": "2023-05-12T12:31:26.721Z"
   },
   {
    "duration": 17,
    "start_time": "2023-05-12T12:31:26.731Z"
   },
   {
    "duration": 17,
    "start_time": "2023-05-12T12:31:26.750Z"
   },
   {
    "duration": 17,
    "start_time": "2023-05-12T12:31:26.769Z"
   },
   {
    "duration": 17,
    "start_time": "2023-05-12T12:31:26.795Z"
   },
   {
    "duration": 18,
    "start_time": "2023-05-12T12:31:26.819Z"
   },
   {
    "duration": 204,
    "start_time": "2023-05-12T12:31:26.839Z"
   },
   {
    "duration": 8,
    "start_time": "2023-05-12T12:31:27.044Z"
   },
   {
    "duration": 12,
    "start_time": "2023-05-12T12:31:27.054Z"
   },
   {
    "duration": 39,
    "start_time": "2023-05-12T12:31:27.067Z"
   },
   {
    "duration": 5,
    "start_time": "2023-05-12T12:31:27.109Z"
   },
   {
    "duration": 31,
    "start_time": "2023-05-12T12:31:27.116Z"
   },
   {
    "duration": 149,
    "start_time": "2023-05-12T12:32:27.547Z"
   },
   {
    "duration": 1568,
    "start_time": "2023-05-12T12:32:40.588Z"
   },
   {
    "duration": 38,
    "start_time": "2023-05-12T12:32:42.158Z"
   },
   {
    "duration": 9,
    "start_time": "2023-05-12T12:32:42.200Z"
   },
   {
    "duration": 8,
    "start_time": "2023-05-12T12:32:42.211Z"
   },
   {
    "duration": 26,
    "start_time": "2023-05-12T12:32:42.221Z"
   },
   {
    "duration": 29,
    "start_time": "2023-05-12T12:32:42.249Z"
   },
   {
    "duration": 17,
    "start_time": "2023-05-12T12:32:42.281Z"
   },
   {
    "duration": 11,
    "start_time": "2023-05-12T12:32:42.306Z"
   },
   {
    "duration": 224,
    "start_time": "2023-05-12T12:32:42.319Z"
   },
   {
    "duration": 167,
    "start_time": "2023-05-12T12:32:42.545Z"
   },
   {
    "duration": 212,
    "start_time": "2023-05-12T12:32:42.715Z"
   },
   {
    "duration": 130,
    "start_time": "2023-05-12T12:32:42.931Z"
   },
   {
    "duration": 229,
    "start_time": "2023-05-12T12:32:43.063Z"
   },
   {
    "duration": 144,
    "start_time": "2023-05-12T12:32:43.296Z"
   },
   {
    "duration": 272,
    "start_time": "2023-05-12T12:32:43.442Z"
   },
   {
    "duration": 158,
    "start_time": "2023-05-12T12:32:43.717Z"
   },
   {
    "duration": 200,
    "start_time": "2023-05-12T12:32:43.878Z"
   },
   {
    "duration": 19,
    "start_time": "2023-05-12T12:32:44.079Z"
   },
   {
    "duration": 10,
    "start_time": "2023-05-12T12:32:44.106Z"
   },
   {
    "duration": 10,
    "start_time": "2023-05-12T12:32:44.118Z"
   },
   {
    "duration": 7,
    "start_time": "2023-05-12T12:32:44.130Z"
   },
   {
    "duration": 6,
    "start_time": "2023-05-12T12:32:44.139Z"
   },
   {
    "duration": 23,
    "start_time": "2023-05-12T12:32:44.147Z"
   },
   {
    "duration": 188,
    "start_time": "2023-05-12T12:32:44.173Z"
   },
   {
    "duration": 8,
    "start_time": "2023-05-12T12:32:44.363Z"
   },
   {
    "duration": 27,
    "start_time": "2023-05-12T12:32:44.373Z"
   },
   {
    "duration": 20,
    "start_time": "2023-05-12T12:32:44.402Z"
   },
   {
    "duration": 15,
    "start_time": "2023-05-12T12:32:44.424Z"
   },
   {
    "duration": 146,
    "start_time": "2023-05-12T12:32:44.440Z"
   },
   {
    "duration": 35,
    "start_time": "2023-05-12T12:33:01.808Z"
   },
   {
    "duration": 24,
    "start_time": "2023-05-12T12:34:42.483Z"
   },
   {
    "duration": 19,
    "start_time": "2023-05-12T12:36:07.931Z"
   },
   {
    "duration": 26,
    "start_time": "2023-05-12T12:36:13.258Z"
   },
   {
    "duration": 34,
    "start_time": "2023-05-12T12:37:25.531Z"
   },
   {
    "duration": 9,
    "start_time": "2023-05-12T12:38:01.198Z"
   },
   {
    "duration": 4,
    "start_time": "2023-05-12T12:38:11.923Z"
   },
   {
    "duration": 20,
    "start_time": "2023-05-12T12:39:30.714Z"
   },
   {
    "duration": 27,
    "start_time": "2023-05-12T12:39:53.514Z"
   },
   {
    "duration": 38,
    "start_time": "2023-05-12T12:39:57.190Z"
   },
   {
    "duration": 21,
    "start_time": "2023-05-12T12:40:08.042Z"
   },
   {
    "duration": 8,
    "start_time": "2023-05-12T12:40:18.144Z"
   },
   {
    "duration": 6,
    "start_time": "2023-05-12T12:42:47.361Z"
   },
   {
    "duration": 5,
    "start_time": "2023-05-12T12:43:19.852Z"
   },
   {
    "duration": 24,
    "start_time": "2023-05-12T12:43:40.292Z"
   },
   {
    "duration": 6,
    "start_time": "2023-05-12T12:43:53.029Z"
   },
   {
    "duration": 1590,
    "start_time": "2023-05-12T12:44:57.845Z"
   },
   {
    "duration": 35,
    "start_time": "2023-05-12T12:44:59.438Z"
   },
   {
    "duration": 5,
    "start_time": "2023-05-12T12:44:59.476Z"
   },
   {
    "duration": 23,
    "start_time": "2023-05-12T12:44:59.484Z"
   },
   {
    "duration": 22,
    "start_time": "2023-05-12T12:44:59.509Z"
   },
   {
    "duration": 32,
    "start_time": "2023-05-12T12:44:59.533Z"
   },
   {
    "duration": 10,
    "start_time": "2023-05-12T12:44:59.567Z"
   },
   {
    "duration": 46,
    "start_time": "2023-05-12T12:44:59.579Z"
   },
   {
    "duration": 232,
    "start_time": "2023-05-12T12:44:59.629Z"
   },
   {
    "duration": 158,
    "start_time": "2023-05-12T12:44:59.864Z"
   },
   {
    "duration": 202,
    "start_time": "2023-05-12T12:45:00.029Z"
   },
   {
    "duration": 146,
    "start_time": "2023-05-12T12:45:00.234Z"
   },
   {
    "duration": 324,
    "start_time": "2023-05-12T12:45:00.383Z"
   },
   {
    "duration": 160,
    "start_time": "2023-05-12T12:45:00.714Z"
   },
   {
    "duration": 329,
    "start_time": "2023-05-12T12:45:00.877Z"
   },
   {
    "duration": 145,
    "start_time": "2023-05-12T12:45:01.208Z"
   },
   {
    "duration": 185,
    "start_time": "2023-05-12T12:45:01.355Z"
   },
   {
    "duration": 8,
    "start_time": "2023-05-12T12:45:01.543Z"
   },
   {
    "duration": 33,
    "start_time": "2023-05-12T12:45:01.553Z"
   },
   {
    "duration": 24,
    "start_time": "2023-05-12T12:45:01.593Z"
   },
   {
    "duration": 34,
    "start_time": "2023-05-12T12:45:01.627Z"
   },
   {
    "duration": 39,
    "start_time": "2023-05-12T12:45:01.664Z"
   },
   {
    "duration": 59,
    "start_time": "2023-05-12T12:45:01.706Z"
   },
   {
    "duration": 251,
    "start_time": "2023-05-12T12:45:01.767Z"
   },
   {
    "duration": 15,
    "start_time": "2023-05-12T12:45:02.023Z"
   },
   {
    "duration": 75,
    "start_time": "2023-05-12T12:45:02.040Z"
   },
   {
    "duration": 35,
    "start_time": "2023-05-12T12:45:02.122Z"
   },
   {
    "duration": 69,
    "start_time": "2023-05-12T12:45:02.160Z"
   },
   {
    "duration": 29,
    "start_time": "2023-05-12T12:45:02.231Z"
   },
   {
    "duration": 37,
    "start_time": "2023-05-12T12:45:02.262Z"
   },
   {
    "duration": 13,
    "start_time": "2023-05-12T12:45:02.301Z"
   },
   {
    "duration": 44,
    "start_time": "2023-05-12T12:45:02.316Z"
   },
   {
    "duration": 141,
    "start_time": "2023-05-12T12:48:35.406Z"
   },
   {
    "duration": 12,
    "start_time": "2023-05-12T12:48:35.850Z"
   },
   {
    "duration": 686,
    "start_time": "2023-05-12T12:48:58.454Z"
   },
   {
    "duration": 60,
    "start_time": "2023-05-12T12:49:04.478Z"
   },
   {
    "duration": 49,
    "start_time": "2023-05-12T12:49:18.820Z"
   },
   {
    "duration": 26,
    "start_time": "2023-05-12T12:49:20.822Z"
   },
   {
    "duration": 4,
    "start_time": "2023-05-12T12:50:23.079Z"
   },
   {
    "duration": 4,
    "start_time": "2023-05-12T12:50:23.962Z"
   },
   {
    "duration": 5,
    "start_time": "2023-05-12T12:51:01.885Z"
   },
   {
    "duration": 2162,
    "start_time": "2023-05-14T04:41:07.463Z"
   },
   {
    "duration": 174,
    "start_time": "2023-05-14T04:41:09.628Z"
   },
   {
    "duration": 3,
    "start_time": "2023-05-14T04:41:09.804Z"
   },
   {
    "duration": 18,
    "start_time": "2023-05-14T04:41:09.809Z"
   },
   {
    "duration": 21,
    "start_time": "2023-05-14T04:41:09.830Z"
   },
   {
    "duration": 28,
    "start_time": "2023-05-14T04:41:09.853Z"
   },
   {
    "duration": 5,
    "start_time": "2023-05-14T04:41:09.882Z"
   },
   {
    "duration": 8,
    "start_time": "2023-05-14T04:41:09.889Z"
   },
   {
    "duration": 169,
    "start_time": "2023-05-14T04:41:09.898Z"
   },
   {
    "duration": 116,
    "start_time": "2023-05-14T04:41:10.070Z"
   },
   {
    "duration": 168,
    "start_time": "2023-05-14T04:41:10.187Z"
   },
   {
    "duration": 114,
    "start_time": "2023-05-14T04:41:10.356Z"
   },
   {
    "duration": 179,
    "start_time": "2023-05-14T04:41:10.472Z"
   },
   {
    "duration": 116,
    "start_time": "2023-05-14T04:41:10.652Z"
   },
   {
    "duration": 168,
    "start_time": "2023-05-14T04:41:10.770Z"
   },
   {
    "duration": 120,
    "start_time": "2023-05-14T04:41:10.940Z"
   },
   {
    "duration": 153,
    "start_time": "2023-05-14T04:41:11.062Z"
   },
   {
    "duration": 12,
    "start_time": "2023-05-14T04:41:11.228Z"
   },
   {
    "duration": 5,
    "start_time": "2023-05-14T04:41:11.242Z"
   },
   {
    "duration": 7,
    "start_time": "2023-05-14T04:41:11.248Z"
   },
   {
    "duration": 9,
    "start_time": "2023-05-14T04:41:11.256Z"
   },
   {
    "duration": 6,
    "start_time": "2023-05-14T04:41:11.267Z"
   },
   {
    "duration": 11,
    "start_time": "2023-05-14T04:41:11.274Z"
   },
   {
    "duration": 155,
    "start_time": "2023-05-14T04:41:11.286Z"
   },
   {
    "duration": 6,
    "start_time": "2023-05-14T04:41:11.444Z"
   },
   {
    "duration": 27,
    "start_time": "2023-05-14T04:41:11.451Z"
   },
   {
    "duration": 24,
    "start_time": "2023-05-14T04:41:11.479Z"
   },
   {
    "duration": 6,
    "start_time": "2023-05-14T04:41:11.528Z"
   },
   {
    "duration": 12,
    "start_time": "2023-05-14T04:41:11.536Z"
   },
   {
    "duration": 6,
    "start_time": "2023-05-14T04:41:11.549Z"
   },
   {
    "duration": 6,
    "start_time": "2023-05-14T04:41:11.556Z"
   },
   {
    "duration": 52,
    "start_time": "2023-05-14T04:41:11.564Z"
   },
   {
    "duration": 26,
    "start_time": "2023-05-14T04:41:11.618Z"
   },
   {
    "duration": 2,
    "start_time": "2023-05-14T04:41:11.646Z"
   },
   {
    "duration": 90,
    "start_time": "2023-05-14T04:41:11.649Z"
   },
   {
    "duration": 0,
    "start_time": "2023-05-14T04:41:11.741Z"
   },
   {
    "duration": 2,
    "start_time": "2023-05-14T04:44:36.048Z"
   },
   {
    "duration": 134,
    "start_time": "2023-05-14T05:00:52.691Z"
   },
   {
    "duration": 12,
    "start_time": "2023-05-14T05:01:33.289Z"
   },
   {
    "duration": 12,
    "start_time": "2023-05-14T05:01:37.244Z"
   },
   {
    "duration": 4,
    "start_time": "2023-05-14T05:01:55.593Z"
   },
   {
    "duration": 9,
    "start_time": "2023-05-14T05:01:59.689Z"
   },
   {
    "duration": 3,
    "start_time": "2023-05-14T05:07:51.950Z"
   },
   {
    "duration": 9,
    "start_time": "2023-05-14T05:07:58.070Z"
   },
   {
    "duration": 3,
    "start_time": "2023-05-14T05:08:02.567Z"
   },
   {
    "duration": 4,
    "start_time": "2023-05-14T05:19:53.803Z"
   },
   {
    "duration": 24,
    "start_time": "2023-05-14T05:19:54.223Z"
   },
   {
    "duration": 1890,
    "start_time": "2023-05-14T05:20:07.994Z"
   },
   {
    "duration": 109,
    "start_time": "2023-05-14T05:20:09.886Z"
   },
   {
    "duration": 4,
    "start_time": "2023-05-14T05:20:09.996Z"
   },
   {
    "duration": 6,
    "start_time": "2023-05-14T05:20:10.002Z"
   },
   {
    "duration": 27,
    "start_time": "2023-05-14T05:20:10.009Z"
   },
   {
    "duration": 64,
    "start_time": "2023-05-14T05:20:10.038Z"
   },
   {
    "duration": 5,
    "start_time": "2023-05-14T05:20:10.104Z"
   },
   {
    "duration": 13,
    "start_time": "2023-05-14T05:20:10.111Z"
   },
   {
    "duration": 171,
    "start_time": "2023-05-14T05:20:10.126Z"
   },
   {
    "duration": 110,
    "start_time": "2023-05-14T05:20:10.300Z"
   },
   {
    "duration": 156,
    "start_time": "2023-05-14T05:20:10.412Z"
   },
   {
    "duration": 99,
    "start_time": "2023-05-14T05:20:10.570Z"
   },
   {
    "duration": 176,
    "start_time": "2023-05-14T05:20:10.671Z"
   },
   {
    "duration": 125,
    "start_time": "2023-05-14T05:20:10.849Z"
   },
   {
    "duration": 182,
    "start_time": "2023-05-14T05:20:10.976Z"
   },
   {
    "duration": 106,
    "start_time": "2023-05-14T05:20:11.160Z"
   },
   {
    "duration": 160,
    "start_time": "2023-05-14T05:20:11.267Z"
   },
   {
    "duration": 6,
    "start_time": "2023-05-14T05:20:11.429Z"
   },
   {
    "duration": 8,
    "start_time": "2023-05-14T05:20:11.437Z"
   },
   {
    "duration": 9,
    "start_time": "2023-05-14T05:20:11.447Z"
   },
   {
    "duration": 5,
    "start_time": "2023-05-14T05:20:11.458Z"
   },
   {
    "duration": 8,
    "start_time": "2023-05-14T05:20:11.464Z"
   },
   {
    "duration": 10,
    "start_time": "2023-05-14T05:20:11.473Z"
   },
   {
    "duration": 184,
    "start_time": "2023-05-14T05:20:11.485Z"
   },
   {
    "duration": 7,
    "start_time": "2023-05-14T05:20:11.670Z"
   },
   {
    "duration": 49,
    "start_time": "2023-05-14T05:20:11.679Z"
   },
   {
    "duration": 31,
    "start_time": "2023-05-14T05:20:11.730Z"
   },
   {
    "duration": 4,
    "start_time": "2023-05-14T05:20:11.766Z"
   },
   {
    "duration": 7,
    "start_time": "2023-05-14T05:20:11.771Z"
   },
   {
    "duration": 9,
    "start_time": "2023-05-14T05:20:11.780Z"
   },
   {
    "duration": 7,
    "start_time": "2023-05-14T05:20:11.791Z"
   },
   {
    "duration": 4,
    "start_time": "2023-05-14T05:20:11.824Z"
   },
   {
    "duration": 18,
    "start_time": "2023-05-14T05:20:11.829Z"
   },
   {
    "duration": 7,
    "start_time": "2023-05-14T05:20:11.848Z"
   },
   {
    "duration": 10,
    "start_time": "2023-05-14T05:20:11.857Z"
   },
   {
    "duration": 177,
    "start_time": "2023-05-14T05:20:11.869Z"
   },
   {
    "duration": 0,
    "start_time": "2023-05-14T05:20:12.048Z"
   },
   {
    "duration": 0,
    "start_time": "2023-05-14T05:20:12.049Z"
   },
   {
    "duration": 0,
    "start_time": "2023-05-14T05:20:12.050Z"
   },
   {
    "duration": 0,
    "start_time": "2023-05-14T05:20:12.051Z"
   },
   {
    "duration": 0,
    "start_time": "2023-05-14T05:20:12.053Z"
   },
   {
    "duration": 3,
    "start_time": "2023-05-14T05:20:20.871Z"
   },
   {
    "duration": 78,
    "start_time": "2023-05-14T05:20:21.892Z"
   },
   {
    "duration": 3,
    "start_time": "2023-05-14T05:20:29.690Z"
   },
   {
    "duration": 3,
    "start_time": "2023-05-14T05:20:31.191Z"
   },
   {
    "duration": 2,
    "start_time": "2023-05-14T05:20:33.297Z"
   },
   {
    "duration": 48,
    "start_time": "2023-05-14T05:20:35.351Z"
   },
   {
    "duration": 207,
    "start_time": "2023-05-14T05:20:51.908Z"
   },
   {
    "duration": 3801,
    "start_time": "2023-05-14T05:21:21.840Z"
   },
   {
    "duration": 3,
    "start_time": "2023-05-14T05:30:48.331Z"
   },
   {
    "duration": 4,
    "start_time": "2023-05-14T05:34:06.137Z"
   },
   {
    "duration": 3,
    "start_time": "2023-05-14T05:39:36.208Z"
   },
   {
    "duration": 3,
    "start_time": "2023-05-14T05:39:37.079Z"
   },
   {
    "duration": 4634,
    "start_time": "2023-05-14T05:39:38.402Z"
   },
   {
    "duration": 12,
    "start_time": "2023-05-14T05:43:55.157Z"
   },
   {
    "duration": 3693,
    "start_time": "2023-05-14T05:45:19.162Z"
   },
   {
    "duration": 2426,
    "start_time": "2023-05-14T05:45:25.630Z"
   },
   {
    "duration": 3,
    "start_time": "2023-05-14T05:46:36.255Z"
   },
   {
    "duration": 185,
    "start_time": "2023-05-14T05:47:07.534Z"
   },
   {
    "duration": 19,
    "start_time": "2023-05-14T05:47:25.827Z"
   },
   {
    "duration": 4,
    "start_time": "2023-05-14T05:47:39.073Z"
   },
   {
    "duration": 4,
    "start_time": "2023-05-14T05:49:29.543Z"
   },
   {
    "duration": 7,
    "start_time": "2023-05-14T05:49:47.460Z"
   },
   {
    "duration": 2,
    "start_time": "2023-05-14T05:51:13.940Z"
   },
   {
    "duration": 20,
    "start_time": "2023-05-14T05:51:39.704Z"
   },
   {
    "duration": 59370,
    "start_time": "2023-05-14T05:51:44.777Z"
   },
   {
    "duration": 5,
    "start_time": "2023-05-14T05:53:26.861Z"
   },
   {
    "duration": 56625,
    "start_time": "2023-05-14T05:53:29.301Z"
   },
   {
    "duration": 4,
    "start_time": "2023-05-14T05:54:25.928Z"
   },
   {
    "duration": 3,
    "start_time": "2023-05-14T05:54:26.586Z"
   },
   {
    "duration": 6,
    "start_time": "2023-05-14T05:54:27.658Z"
   },
   {
    "duration": 3,
    "start_time": "2023-05-14T05:54:28.854Z"
   },
   {
    "duration": 64346,
    "start_time": "2023-05-14T05:54:29.686Z"
   },
   {
    "duration": 3,
    "start_time": "2023-05-14T05:57:14.063Z"
   },
   {
    "duration": 18,
    "start_time": "2023-05-14T05:57:30.557Z"
   },
   {
    "duration": 4,
    "start_time": "2023-05-14T05:58:04.602Z"
   },
   {
    "duration": 470231,
    "start_time": "2023-05-14T05:58:09.815Z"
   },
   {
    "duration": 2470,
    "start_time": "2023-05-14T06:08:39.471Z"
   },
   {
    "duration": 4328,
    "start_time": "2023-05-14T06:08:41.944Z"
   },
   {
    "duration": 39,
    "start_time": "2023-05-14T06:08:46.274Z"
   },
   {
    "duration": 3,
    "start_time": "2023-05-14T06:08:46.315Z"
   },
   {
    "duration": 20,
    "start_time": "2023-05-14T06:08:46.320Z"
   },
   {
    "duration": 36,
    "start_time": "2023-05-14T06:08:46.342Z"
   },
   {
    "duration": 54,
    "start_time": "2023-05-14T06:08:46.380Z"
   },
   {
    "duration": 11,
    "start_time": "2023-05-14T06:08:46.436Z"
   },
   {
    "duration": 35,
    "start_time": "2023-05-14T06:08:46.449Z"
   },
   {
    "duration": 198,
    "start_time": "2023-05-14T06:08:46.486Z"
   },
   {
    "duration": 116,
    "start_time": "2023-05-14T06:08:46.686Z"
   },
   {
    "duration": 164,
    "start_time": "2023-05-14T06:08:46.804Z"
   },
   {
    "duration": 115,
    "start_time": "2023-05-14T06:08:46.970Z"
   },
   {
    "duration": 188,
    "start_time": "2023-05-14T06:08:47.089Z"
   },
   {
    "duration": 131,
    "start_time": "2023-05-14T06:08:47.280Z"
   },
   {
    "duration": 308,
    "start_time": "2023-05-14T06:08:47.425Z"
   },
   {
    "duration": 112,
    "start_time": "2023-05-14T06:08:47.735Z"
   },
   {
    "duration": 149,
    "start_time": "2023-05-14T06:08:47.849Z"
   },
   {
    "duration": 6,
    "start_time": "2023-05-14T06:08:48.000Z"
   },
   {
    "duration": 24,
    "start_time": "2023-05-14T06:08:48.007Z"
   },
   {
    "duration": 33,
    "start_time": "2023-05-14T06:08:48.033Z"
   },
   {
    "duration": 38,
    "start_time": "2023-05-14T06:08:48.068Z"
   },
   {
    "duration": 18,
    "start_time": "2023-05-14T06:08:48.108Z"
   },
   {
    "duration": 28,
    "start_time": "2023-05-14T06:08:48.128Z"
   },
   {
    "duration": 255,
    "start_time": "2023-05-14T06:08:48.158Z"
   },
   {
    "duration": 13,
    "start_time": "2023-05-14T06:08:48.415Z"
   },
   {
    "duration": 361,
    "start_time": "2023-05-14T06:08:48.430Z"
   },
   {
    "duration": 0,
    "start_time": "2023-05-14T06:08:48.794Z"
   },
   {
    "duration": 0,
    "start_time": "2023-05-14T06:08:48.795Z"
   },
   {
    "duration": 0,
    "start_time": "2023-05-14T06:08:48.796Z"
   },
   {
    "duration": 4,
    "start_time": "2023-05-14T06:09:39.608Z"
   },
   {
    "duration": 5,
    "start_time": "2023-05-14T06:09:42.060Z"
   },
   {
    "duration": 18,
    "start_time": "2023-05-14T06:09:42.987Z"
   },
   {
    "duration": 6,
    "start_time": "2023-05-14T06:09:49.912Z"
   },
   {
    "duration": 16,
    "start_time": "2023-05-14T06:09:50.699Z"
   },
   {
    "duration": 3,
    "start_time": "2023-05-14T06:09:57.212Z"
   },
   {
    "duration": 26,
    "start_time": "2023-05-14T06:10:07.698Z"
   },
   {
    "duration": 26,
    "start_time": "2023-05-14T06:10:27.740Z"
   },
   {
    "duration": 26,
    "start_time": "2023-05-14T06:11:12.172Z"
   },
   {
    "duration": 15,
    "start_time": "2023-05-14T06:11:17.368Z"
   },
   {
    "duration": 4,
    "start_time": "2023-05-14T06:11:24.817Z"
   },
   {
    "duration": 4,
    "start_time": "2023-05-14T06:11:26.708Z"
   },
   {
    "duration": 16,
    "start_time": "2023-05-14T06:11:28.276Z"
   },
   {
    "duration": 3,
    "start_time": "2023-05-14T06:11:32.880Z"
   },
   {
    "duration": 17,
    "start_time": "2023-05-14T06:11:33.996Z"
   },
   {
    "duration": 4,
    "start_time": "2023-05-14T06:12:08.645Z"
   },
   {
    "duration": 3,
    "start_time": "2023-05-14T06:12:09.692Z"
   },
   {
    "duration": 4,
    "start_time": "2023-05-14T06:12:10.905Z"
   },
   {
    "duration": 4,
    "start_time": "2023-05-14T06:12:14.745Z"
   },
   {
    "duration": 57457,
    "start_time": "2023-05-14T06:12:15.181Z"
   },
   {
    "duration": 3,
    "start_time": "2023-05-14T06:13:25.117Z"
   },
   {
    "duration": 337619,
    "start_time": "2023-05-14T06:13:25.629Z"
   },
   {
    "duration": 86,
    "start_time": "2023-05-14T06:22:23.760Z"
   },
   {
    "duration": 3,
    "start_time": "2023-05-14T06:24:50.530Z"
   },
   {
    "duration": 534083,
    "start_time": "2023-05-14T06:24:51.341Z"
   },
   {
    "duration": 3,
    "start_time": "2023-05-14T06:36:42.891Z"
   },
   {
    "duration": 36,
    "start_time": "2023-05-14T06:36:55.631Z"
   },
   {
    "duration": 94,
    "start_time": "2023-05-14T06:38:08.652Z"
   },
   {
    "duration": 81940,
    "start_time": "2023-05-14T06:38:49.289Z"
   },
   {
    "duration": 177,
    "start_time": "2023-05-14T06:40:11.233Z"
   },
   {
    "duration": 342,
    "start_time": "2023-05-14T06:40:40.192Z"
   },
   {
    "duration": 37,
    "start_time": "2023-05-14T06:41:12.057Z"
   },
   {
    "duration": 296,
    "start_time": "2023-05-14T06:41:36.937Z"
   },
   {
    "duration": 30,
    "start_time": "2023-05-14T06:41:56.257Z"
   },
   {
    "duration": 90,
    "start_time": "2023-05-14T06:42:00.835Z"
   },
   {
    "duration": 22,
    "start_time": "2023-05-14T06:44:43.654Z"
   },
   {
    "duration": 2228,
    "start_time": "2023-05-14T06:44:55.602Z"
   },
   {
    "duration": 4330,
    "start_time": "2023-05-14T06:44:57.833Z"
   },
   {
    "duration": 40,
    "start_time": "2023-05-14T06:45:02.165Z"
   },
   {
    "duration": 21,
    "start_time": "2023-05-14T06:45:02.208Z"
   },
   {
    "duration": 68,
    "start_time": "2023-05-14T06:45:02.231Z"
   },
   {
    "duration": 80,
    "start_time": "2023-05-14T06:45:02.301Z"
   },
   {
    "duration": 68,
    "start_time": "2023-05-14T06:45:02.383Z"
   },
   {
    "duration": 33,
    "start_time": "2023-05-14T06:45:02.453Z"
   },
   {
    "duration": 21,
    "start_time": "2023-05-14T06:45:02.488Z"
   },
   {
    "duration": 205,
    "start_time": "2023-05-14T06:45:02.513Z"
   },
   {
    "duration": 111,
    "start_time": "2023-05-14T06:45:02.719Z"
   },
   {
    "duration": 146,
    "start_time": "2023-05-14T06:45:02.832Z"
   },
   {
    "duration": 90,
    "start_time": "2023-05-14T06:45:02.980Z"
   },
   {
    "duration": 178,
    "start_time": "2023-05-14T06:45:03.071Z"
   },
   {
    "duration": 134,
    "start_time": "2023-05-14T06:45:03.251Z"
   },
   {
    "duration": 319,
    "start_time": "2023-05-14T06:45:03.387Z"
   },
   {
    "duration": 119,
    "start_time": "2023-05-14T06:45:03.708Z"
   },
   {
    "duration": 139,
    "start_time": "2023-05-14T06:45:03.829Z"
   },
   {
    "duration": 6,
    "start_time": "2023-05-14T06:45:03.969Z"
   },
   {
    "duration": 31,
    "start_time": "2023-05-14T06:45:03.976Z"
   },
   {
    "duration": 28,
    "start_time": "2023-05-14T06:45:04.009Z"
   },
   {
    "duration": 29,
    "start_time": "2023-05-14T06:45:04.039Z"
   },
   {
    "duration": 11,
    "start_time": "2023-05-14T06:45:04.069Z"
   },
   {
    "duration": 14,
    "start_time": "2023-05-14T06:45:04.081Z"
   },
   {
    "duration": 156,
    "start_time": "2023-05-14T06:45:04.097Z"
   },
   {
    "duration": 7,
    "start_time": "2023-05-14T06:45:04.255Z"
   },
   {
    "duration": 43,
    "start_time": "2023-05-14T06:45:04.264Z"
   },
   {
    "duration": 25,
    "start_time": "2023-05-14T06:45:04.310Z"
   },
   {
    "duration": 23,
    "start_time": "2023-05-14T06:45:04.336Z"
   },
   {
    "duration": 18,
    "start_time": "2023-05-14T06:45:04.361Z"
   },
   {
    "duration": 45,
    "start_time": "2023-05-14T06:45:04.381Z"
   },
   {
    "duration": 41,
    "start_time": "2023-05-14T06:45:04.428Z"
   },
   {
    "duration": 5,
    "start_time": "2023-05-14T06:45:04.470Z"
   },
   {
    "duration": 25,
    "start_time": "2023-05-14T06:45:04.476Z"
   },
   {
    "duration": 3,
    "start_time": "2023-05-14T06:45:08.168Z"
   },
   {
    "duration": 327,
    "start_time": "2023-05-14T06:45:08.698Z"
   },
   {
    "duration": 2349,
    "start_time": "2023-05-14T06:46:15.423Z"
   },
   {
    "duration": 4596,
    "start_time": "2023-05-14T06:46:17.775Z"
   },
   {
    "duration": 39,
    "start_time": "2023-05-14T06:46:22.373Z"
   },
   {
    "duration": 4,
    "start_time": "2023-05-14T06:46:22.414Z"
   },
   {
    "duration": 27,
    "start_time": "2023-05-14T06:46:22.420Z"
   },
   {
    "duration": 19,
    "start_time": "2023-05-14T06:46:22.449Z"
   },
   {
    "duration": 48,
    "start_time": "2023-05-14T06:46:22.471Z"
   },
   {
    "duration": 6,
    "start_time": "2023-05-14T06:46:22.521Z"
   },
   {
    "duration": 21,
    "start_time": "2023-05-14T06:46:22.529Z"
   },
   {
    "duration": 195,
    "start_time": "2023-05-14T06:46:22.552Z"
   },
   {
    "duration": 115,
    "start_time": "2023-05-14T06:46:22.749Z"
   },
   {
    "duration": 163,
    "start_time": "2023-05-14T06:46:22.867Z"
   },
   {
    "duration": 131,
    "start_time": "2023-05-14T06:46:23.032Z"
   },
   {
    "duration": 221,
    "start_time": "2023-05-14T06:46:23.168Z"
   },
   {
    "duration": 122,
    "start_time": "2023-05-14T06:46:23.391Z"
   },
   {
    "duration": 333,
    "start_time": "2023-05-14T06:46:23.515Z"
   },
   {
    "duration": 130,
    "start_time": "2023-05-14T06:46:23.850Z"
   },
   {
    "duration": 154,
    "start_time": "2023-05-14T06:46:23.982Z"
   },
   {
    "duration": 7,
    "start_time": "2023-05-14T06:46:24.138Z"
   },
   {
    "duration": 31,
    "start_time": "2023-05-14T06:46:24.147Z"
   },
   {
    "duration": 31,
    "start_time": "2023-05-14T06:46:24.180Z"
   },
   {
    "duration": 29,
    "start_time": "2023-05-14T06:46:24.213Z"
   },
   {
    "duration": 22,
    "start_time": "2023-05-14T06:46:24.244Z"
   },
   {
    "duration": 13,
    "start_time": "2023-05-14T06:46:24.268Z"
   },
   {
    "duration": 150,
    "start_time": "2023-05-14T06:46:24.283Z"
   },
   {
    "duration": 10,
    "start_time": "2023-05-14T06:46:24.435Z"
   },
   {
    "duration": 11,
    "start_time": "2023-05-14T06:46:24.447Z"
   },
   {
    "duration": 9,
    "start_time": "2023-05-14T06:46:24.459Z"
   },
   {
    "duration": 12,
    "start_time": "2023-05-14T06:46:24.469Z"
   },
   {
    "duration": 17,
    "start_time": "2023-05-14T06:46:24.483Z"
   },
   {
    "duration": 32,
    "start_time": "2023-05-14T06:46:24.502Z"
   },
   {
    "duration": 30,
    "start_time": "2023-05-14T06:46:24.536Z"
   },
   {
    "duration": 4,
    "start_time": "2023-05-14T06:46:24.567Z"
   },
   {
    "duration": 14,
    "start_time": "2023-05-14T06:46:24.572Z"
   },
   {
    "duration": 15,
    "start_time": "2023-05-14T06:46:24.588Z"
   },
   {
    "duration": 499,
    "start_time": "2023-05-14T06:46:24.605Z"
   },
   {
    "duration": 50,
    "start_time": "2023-05-14T06:47:17.714Z"
   },
   {
    "duration": 62,
    "start_time": "2023-05-14T06:47:32.509Z"
   },
   {
    "duration": 19,
    "start_time": "2023-05-14T06:47:56.905Z"
   },
   {
    "duration": 26,
    "start_time": "2023-05-14T06:47:57.679Z"
   },
   {
    "duration": 2270,
    "start_time": "2023-05-14T06:48:08.395Z"
   },
   {
    "duration": 4482,
    "start_time": "2023-05-14T06:48:10.667Z"
   },
   {
    "duration": 38,
    "start_time": "2023-05-14T06:48:15.150Z"
   },
   {
    "duration": 4,
    "start_time": "2023-05-14T06:48:15.189Z"
   },
   {
    "duration": 33,
    "start_time": "2023-05-14T06:48:15.195Z"
   },
   {
    "duration": 31,
    "start_time": "2023-05-14T06:48:15.230Z"
   },
   {
    "duration": 63,
    "start_time": "2023-05-14T06:48:15.263Z"
   },
   {
    "duration": 43,
    "start_time": "2023-05-14T06:48:15.328Z"
   },
   {
    "duration": 45,
    "start_time": "2023-05-14T06:48:15.373Z"
   },
   {
    "duration": 175,
    "start_time": "2023-05-14T06:48:15.420Z"
   },
   {
    "duration": 114,
    "start_time": "2023-05-14T06:48:15.597Z"
   },
   {
    "duration": 153,
    "start_time": "2023-05-14T06:48:15.725Z"
   },
   {
    "duration": 89,
    "start_time": "2023-05-14T06:48:15.881Z"
   },
   {
    "duration": 178,
    "start_time": "2023-05-14T06:48:15.972Z"
   },
   {
    "duration": 108,
    "start_time": "2023-05-14T06:48:16.151Z"
   },
   {
    "duration": 309,
    "start_time": "2023-05-14T06:48:16.261Z"
   },
   {
    "duration": 102,
    "start_time": "2023-05-14T06:48:16.571Z"
   },
   {
    "duration": 134,
    "start_time": "2023-05-14T06:48:16.675Z"
   },
   {
    "duration": 15,
    "start_time": "2023-05-14T06:48:16.810Z"
   },
   {
    "duration": 26,
    "start_time": "2023-05-14T06:48:16.827Z"
   },
   {
    "duration": 12,
    "start_time": "2023-05-14T06:48:16.855Z"
   },
   {
    "duration": 19,
    "start_time": "2023-05-14T06:48:16.869Z"
   },
   {
    "duration": 20,
    "start_time": "2023-05-14T06:48:16.890Z"
   },
   {
    "duration": 34,
    "start_time": "2023-05-14T06:48:16.912Z"
   },
   {
    "duration": 159,
    "start_time": "2023-05-14T06:48:16.948Z"
   },
   {
    "duration": 8,
    "start_time": "2023-05-14T06:48:17.109Z"
   },
   {
    "duration": 34,
    "start_time": "2023-05-14T06:48:17.125Z"
   },
   {
    "duration": 54,
    "start_time": "2023-05-14T06:48:17.161Z"
   },
   {
    "duration": 37,
    "start_time": "2023-05-14T06:48:17.217Z"
   },
   {
    "duration": 39,
    "start_time": "2023-05-14T06:48:17.256Z"
   },
   {
    "duration": 76,
    "start_time": "2023-05-14T06:48:17.297Z"
   },
   {
    "duration": 72,
    "start_time": "2023-05-14T06:48:17.375Z"
   },
   {
    "duration": 56,
    "start_time": "2023-05-14T06:48:17.449Z"
   },
   {
    "duration": 40,
    "start_time": "2023-05-14T06:48:17.507Z"
   },
   {
    "duration": 3,
    "start_time": "2023-05-14T06:48:19.691Z"
   },
   {
    "duration": 364,
    "start_time": "2023-05-14T06:48:20.274Z"
   },
   {
    "duration": 5,
    "start_time": "2023-05-14T06:48:54.280Z"
   },
   {
    "duration": 2,
    "start_time": "2023-05-14T06:48:57.821Z"
   },
   {
    "duration": 40,
    "start_time": "2023-05-14T06:48:58.296Z"
   },
   {
    "duration": 20,
    "start_time": "2023-05-14T06:49:27.741Z"
   },
   {
    "duration": 8,
    "start_time": "2023-05-14T06:49:35.321Z"
   },
   {
    "duration": 6,
    "start_time": "2023-05-14T06:49:43.233Z"
   },
   {
    "duration": 23,
    "start_time": "2023-05-14T06:50:43.053Z"
   },
   {
    "duration": 2535,
    "start_time": "2023-05-14T06:51:02.948Z"
   },
   {
    "duration": 4326,
    "start_time": "2023-05-14T06:51:05.485Z"
   },
   {
    "duration": 62,
    "start_time": "2023-05-14T06:51:09.813Z"
   },
   {
    "duration": 5,
    "start_time": "2023-05-14T06:51:09.877Z"
   },
   {
    "duration": 24,
    "start_time": "2023-05-14T06:51:09.885Z"
   },
   {
    "duration": 29,
    "start_time": "2023-05-14T06:51:09.911Z"
   },
   {
    "duration": 39,
    "start_time": "2023-05-14T06:51:09.942Z"
   },
   {
    "duration": 7,
    "start_time": "2023-05-14T06:51:09.983Z"
   },
   {
    "duration": 27,
    "start_time": "2023-05-14T06:51:09.992Z"
   },
   {
    "duration": 259,
    "start_time": "2023-05-14T06:51:10.021Z"
   },
   {
    "duration": 127,
    "start_time": "2023-05-14T06:51:10.282Z"
   },
   {
    "duration": 224,
    "start_time": "2023-05-14T06:51:10.411Z"
   },
   {
    "duration": 141,
    "start_time": "2023-05-14T06:51:10.637Z"
   },
   {
    "duration": 189,
    "start_time": "2023-05-14T06:51:10.782Z"
   },
   {
    "duration": 178,
    "start_time": "2023-05-14T06:51:10.973Z"
   },
   {
    "duration": 341,
    "start_time": "2023-05-14T06:51:11.153Z"
   },
   {
    "duration": 129,
    "start_time": "2023-05-14T06:51:11.496Z"
   },
   {
    "duration": 184,
    "start_time": "2023-05-14T06:51:11.627Z"
   },
   {
    "duration": 16,
    "start_time": "2023-05-14T06:51:11.813Z"
   },
   {
    "duration": 108,
    "start_time": "2023-05-14T06:51:11.832Z"
   },
   {
    "duration": 41,
    "start_time": "2023-05-14T06:51:11.943Z"
   },
   {
    "duration": 18,
    "start_time": "2023-05-14T06:51:11.986Z"
   },
   {
    "duration": 37,
    "start_time": "2023-05-14T06:51:12.006Z"
   },
   {
    "duration": 23,
    "start_time": "2023-05-14T06:51:12.045Z"
   },
   {
    "duration": 163,
    "start_time": "2023-05-14T06:51:12.070Z"
   },
   {
    "duration": 8,
    "start_time": "2023-05-14T06:51:12.235Z"
   },
   {
    "duration": 16,
    "start_time": "2023-05-14T06:51:12.244Z"
   },
   {
    "duration": 15,
    "start_time": "2023-05-14T06:51:12.262Z"
   },
   {
    "duration": 9,
    "start_time": "2023-05-14T06:51:12.279Z"
   },
   {
    "duration": 13,
    "start_time": "2023-05-14T06:51:12.290Z"
   },
   {
    "duration": 29,
    "start_time": "2023-05-14T06:51:12.305Z"
   },
   {
    "duration": 26,
    "start_time": "2023-05-14T06:51:12.337Z"
   },
   {
    "duration": 18,
    "start_time": "2023-05-14T06:51:12.365Z"
   },
   {
    "duration": 12,
    "start_time": "2023-05-14T06:51:12.384Z"
   },
   {
    "duration": 3,
    "start_time": "2023-05-14T06:51:21.584Z"
   },
   {
    "duration": 369,
    "start_time": "2023-05-14T06:51:22.261Z"
   },
   {
    "duration": 297,
    "start_time": "2023-05-14T06:52:04.755Z"
   },
   {
    "duration": 2588,
    "start_time": "2023-05-14T06:52:29.805Z"
   },
   {
    "duration": 4269,
    "start_time": "2023-05-14T06:52:32.396Z"
   },
   {
    "duration": 38,
    "start_time": "2023-05-14T06:52:36.667Z"
   },
   {
    "duration": 4,
    "start_time": "2023-05-14T06:52:36.708Z"
   },
   {
    "duration": 12,
    "start_time": "2023-05-14T06:52:36.713Z"
   },
   {
    "duration": 16,
    "start_time": "2023-05-14T06:52:36.726Z"
   },
   {
    "duration": 33,
    "start_time": "2023-05-14T06:52:36.744Z"
   },
   {
    "duration": 8,
    "start_time": "2023-05-14T06:52:36.779Z"
   },
   {
    "duration": 15,
    "start_time": "2023-05-14T06:52:36.789Z"
   },
   {
    "duration": 224,
    "start_time": "2023-05-14T06:52:36.807Z"
   },
   {
    "duration": 143,
    "start_time": "2023-05-14T06:52:37.033Z"
   },
   {
    "duration": 185,
    "start_time": "2023-05-14T06:52:37.178Z"
   },
   {
    "duration": 130,
    "start_time": "2023-05-14T06:52:37.365Z"
   },
   {
    "duration": 199,
    "start_time": "2023-05-14T06:52:37.497Z"
   },
   {
    "duration": 141,
    "start_time": "2023-05-14T06:52:37.699Z"
   },
   {
    "duration": 301,
    "start_time": "2023-05-14T06:52:37.842Z"
   },
   {
    "duration": 121,
    "start_time": "2023-05-14T06:52:38.145Z"
   },
   {
    "duration": 154,
    "start_time": "2023-05-14T06:52:38.268Z"
   },
   {
    "duration": 6,
    "start_time": "2023-05-14T06:52:38.424Z"
   },
   {
    "duration": 22,
    "start_time": "2023-05-14T06:52:38.432Z"
   },
   {
    "duration": 9,
    "start_time": "2023-05-14T06:52:38.456Z"
   },
   {
    "duration": 11,
    "start_time": "2023-05-14T06:52:38.466Z"
   },
   {
    "duration": 7,
    "start_time": "2023-05-14T06:52:38.478Z"
   },
   {
    "duration": 10,
    "start_time": "2023-05-14T06:52:38.487Z"
   },
   {
    "duration": 208,
    "start_time": "2023-05-14T06:52:38.499Z"
   },
   {
    "duration": 9,
    "start_time": "2023-05-14T06:52:38.709Z"
   },
   {
    "duration": 122,
    "start_time": "2023-05-14T06:52:38.720Z"
   },
   {
    "duration": 9,
    "start_time": "2023-05-14T06:52:38.845Z"
   },
   {
    "duration": 16,
    "start_time": "2023-05-14T06:52:38.856Z"
   },
   {
    "duration": 15,
    "start_time": "2023-05-14T06:52:38.874Z"
   },
   {
    "duration": 481,
    "start_time": "2023-05-14T06:52:38.891Z"
   },
   {
    "duration": 0,
    "start_time": "2023-05-14T06:52:39.373Z"
   },
   {
    "duration": 40,
    "start_time": "2023-05-14T06:52:59.866Z"
   },
   {
    "duration": 41,
    "start_time": "2023-05-14T06:53:02.674Z"
   },
   {
    "duration": 5,
    "start_time": "2023-05-14T06:53:05.527Z"
   },
   {
    "duration": 5,
    "start_time": "2023-05-14T06:53:06.346Z"
   },
   {
    "duration": 2517,
    "start_time": "2023-05-14T06:53:51.630Z"
   },
   {
    "duration": 4696,
    "start_time": "2023-05-14T06:53:54.150Z"
   },
   {
    "duration": 47,
    "start_time": "2023-05-14T06:53:58.848Z"
   },
   {
    "duration": 5,
    "start_time": "2023-05-14T06:53:58.897Z"
   },
   {
    "duration": 48,
    "start_time": "2023-05-14T06:53:58.905Z"
   },
   {
    "duration": 17,
    "start_time": "2023-05-14T06:53:58.955Z"
   },
   {
    "duration": 37,
    "start_time": "2023-05-14T06:53:58.975Z"
   },
   {
    "duration": 7,
    "start_time": "2023-05-14T06:53:59.015Z"
   },
   {
    "duration": 14,
    "start_time": "2023-05-14T06:53:59.024Z"
   },
   {
    "duration": 227,
    "start_time": "2023-05-14T06:53:59.040Z"
   },
   {
    "duration": 120,
    "start_time": "2023-05-14T06:53:59.270Z"
   },
   {
    "duration": 185,
    "start_time": "2023-05-14T06:53:59.392Z"
   },
   {
    "duration": 126,
    "start_time": "2023-05-14T06:53:59.579Z"
   },
   {
    "duration": 184,
    "start_time": "2023-05-14T06:53:59.709Z"
   },
   {
    "duration": 117,
    "start_time": "2023-05-14T06:53:59.895Z"
   },
   {
    "duration": 331,
    "start_time": "2023-05-14T06:54:00.024Z"
   },
   {
    "duration": 110,
    "start_time": "2023-05-14T06:54:00.357Z"
   },
   {
    "duration": 223,
    "start_time": "2023-05-14T06:54:00.468Z"
   },
   {
    "duration": 6,
    "start_time": "2023-05-14T06:54:00.695Z"
   },
   {
    "duration": 57,
    "start_time": "2023-05-14T06:54:00.703Z"
   },
   {
    "duration": 65,
    "start_time": "2023-05-14T06:54:00.762Z"
   },
   {
    "duration": 30,
    "start_time": "2023-05-14T06:54:00.829Z"
   },
   {
    "duration": 20,
    "start_time": "2023-05-14T06:54:00.861Z"
   },
   {
    "duration": 16,
    "start_time": "2023-05-14T06:54:00.883Z"
   },
   {
    "duration": 223,
    "start_time": "2023-05-14T06:54:00.901Z"
   },
   {
    "duration": 10,
    "start_time": "2023-05-14T06:54:01.127Z"
   },
   {
    "duration": 31,
    "start_time": "2023-05-14T06:54:01.138Z"
   },
   {
    "duration": 51,
    "start_time": "2023-05-14T06:54:01.170Z"
   },
   {
    "duration": 29,
    "start_time": "2023-05-14T06:54:01.224Z"
   },
   {
    "duration": 56,
    "start_time": "2023-05-14T06:54:01.255Z"
   },
   {
    "duration": 79,
    "start_time": "2023-05-14T06:54:01.313Z"
   },
   {
    "duration": 44,
    "start_time": "2023-05-14T06:54:01.394Z"
   },
   {
    "duration": 47,
    "start_time": "2023-05-14T06:54:01.441Z"
   },
   {
    "duration": 36,
    "start_time": "2023-05-14T06:54:01.490Z"
   },
   {
    "duration": 4,
    "start_time": "2023-05-14T06:54:09.328Z"
   },
   {
    "duration": 415,
    "start_time": "2023-05-14T06:54:10.825Z"
   },
   {
    "duration": 5,
    "start_time": "2023-05-14T06:54:48.768Z"
   },
   {
    "duration": 4,
    "start_time": "2023-05-14T06:55:08.605Z"
   },
   {
    "duration": 5,
    "start_time": "2023-05-14T06:55:09.551Z"
   },
   {
    "duration": 4,
    "start_time": "2023-05-14T06:55:10.543Z"
   },
   {
    "duration": 6,
    "start_time": "2023-05-14T06:55:11.822Z"
   },
   {
    "duration": 5,
    "start_time": "2023-05-14T06:55:12.910Z"
   },
   {
    "duration": 36,
    "start_time": "2023-05-14T06:55:13.645Z"
   },
   {
    "duration": 5,
    "start_time": "2023-05-14T06:55:46.247Z"
   },
   {
    "duration": 7,
    "start_time": "2023-05-14T06:55:47.547Z"
   },
   {
    "duration": 137877,
    "start_time": "2023-05-14T06:55:48.075Z"
   },
   {
    "duration": 126,
    "start_time": "2023-05-14T06:58:14.714Z"
   },
   {
    "duration": 218801,
    "start_time": "2023-05-14T06:58:34.747Z"
   },
   {
    "duration": 20,
    "start_time": "2023-05-14T07:02:19.179Z"
   },
   {
    "duration": 35,
    "start_time": "2023-05-14T07:02:55.122Z"
   },
   {
    "duration": 4,
    "start_time": "2023-05-14T07:06:43.944Z"
   },
   {
    "duration": 75,
    "start_time": "2023-05-14T07:06:44.519Z"
   },
   {
    "duration": 67,
    "start_time": "2023-05-14T07:07:31.019Z"
   },
   {
    "duration": 44,
    "start_time": "2023-05-14T07:08:22.764Z"
   },
   {
    "duration": 2495,
    "start_time": "2023-05-14T07:08:50.282Z"
   },
   {
    "duration": 4637,
    "start_time": "2023-05-14T07:08:52.780Z"
   },
   {
    "duration": 51,
    "start_time": "2023-05-14T07:08:57.419Z"
   },
   {
    "duration": 5,
    "start_time": "2023-05-14T07:08:57.472Z"
   },
   {
    "duration": 8,
    "start_time": "2023-05-14T07:08:57.479Z"
   },
   {
    "duration": 25,
    "start_time": "2023-05-14T07:08:57.489Z"
   },
   {
    "duration": 53,
    "start_time": "2023-05-14T07:08:57.516Z"
   },
   {
    "duration": 7,
    "start_time": "2023-05-14T07:08:57.572Z"
   },
   {
    "duration": 9,
    "start_time": "2023-05-14T07:08:57.581Z"
   },
   {
    "duration": 232,
    "start_time": "2023-05-14T07:08:57.592Z"
   },
   {
    "duration": 124,
    "start_time": "2023-05-14T07:08:57.831Z"
   },
   {
    "duration": 154,
    "start_time": "2023-05-14T07:08:57.958Z"
   },
   {
    "duration": 113,
    "start_time": "2023-05-14T07:08:58.114Z"
   },
   {
    "duration": 189,
    "start_time": "2023-05-14T07:08:58.232Z"
   },
   {
    "duration": 120,
    "start_time": "2023-05-14T07:08:58.422Z"
   },
   {
    "duration": 342,
    "start_time": "2023-05-14T07:08:58.545Z"
   },
   {
    "duration": 108,
    "start_time": "2023-05-14T07:08:58.889Z"
   },
   {
    "duration": 164,
    "start_time": "2023-05-14T07:08:58.999Z"
   },
   {
    "duration": 6,
    "start_time": "2023-05-14T07:08:59.165Z"
   },
   {
    "duration": 46,
    "start_time": "2023-05-14T07:08:59.173Z"
   },
   {
    "duration": 26,
    "start_time": "2023-05-14T07:08:59.221Z"
   },
   {
    "duration": 5,
    "start_time": "2023-05-14T07:08:59.250Z"
   },
   {
    "duration": 6,
    "start_time": "2023-05-14T07:08:59.257Z"
   },
   {
    "duration": 12,
    "start_time": "2023-05-14T07:08:59.265Z"
   },
   {
    "duration": 184,
    "start_time": "2023-05-14T07:08:59.279Z"
   },
   {
    "duration": 8,
    "start_time": "2023-05-14T07:08:59.464Z"
   },
   {
    "duration": 11,
    "start_time": "2023-05-14T07:08:59.474Z"
   },
   {
    "duration": 10,
    "start_time": "2023-05-14T07:08:59.487Z"
   },
   {
    "duration": 14,
    "start_time": "2023-05-14T07:08:59.499Z"
   },
   {
    "duration": 39,
    "start_time": "2023-05-14T07:08:59.514Z"
   },
   {
    "duration": 38,
    "start_time": "2023-05-14T07:08:59.555Z"
   },
   {
    "duration": 54,
    "start_time": "2023-05-14T07:08:59.595Z"
   },
   {
    "duration": 32,
    "start_time": "2023-05-14T07:08:59.651Z"
   },
   {
    "duration": 10,
    "start_time": "2023-05-14T07:08:59.685Z"
   },
   {
    "duration": 10,
    "start_time": "2023-05-14T07:08:59.699Z"
   },
   {
    "duration": 10,
    "start_time": "2023-05-14T07:08:59.711Z"
   },
   {
    "duration": 368,
    "start_time": "2023-05-14T07:08:59.723Z"
   },
   {
    "duration": 0,
    "start_time": "2023-05-14T07:09:00.092Z"
   },
   {
    "duration": 0,
    "start_time": "2023-05-14T07:09:00.093Z"
   },
   {
    "duration": 0,
    "start_time": "2023-05-14T07:09:00.094Z"
   },
   {
    "duration": 62,
    "start_time": "2023-05-14T07:10:57.810Z"
   },
   {
    "duration": 10,
    "start_time": "2023-05-14T07:11:56.622Z"
   },
   {
    "duration": 32882,
    "start_time": "2023-05-14T07:11:57.482Z"
   },
   {
    "duration": 129379,
    "start_time": "2023-05-14T07:12:31.270Z"
   },
   {
    "duration": 23,
    "start_time": "2023-05-14T07:15:36.759Z"
   },
   {
    "duration": 4,
    "start_time": "2023-05-14T07:16:20.871Z"
   },
   {
    "duration": 232673,
    "start_time": "2023-05-14T07:16:21.552Z"
   },
   {
    "duration": 77,
    "start_time": "2023-05-14T07:20:14.354Z"
   },
   {
    "duration": 107,
    "start_time": "2023-05-14T07:20:19.722Z"
   },
   {
    "duration": 3,
    "start_time": "2023-05-14T07:20:52.459Z"
   },
   {
    "duration": 201888,
    "start_time": "2023-05-14T07:20:53.457Z"
   },
   {
    "duration": 184,
    "start_time": "2023-05-14T07:24:15.348Z"
   },
   {
    "duration": 3,
    "start_time": "2023-05-14T07:31:01.432Z"
   },
   {
    "duration": 148634,
    "start_time": "2023-05-14T07:31:02.101Z"
   },
   {
    "duration": 98,
    "start_time": "2023-05-14T07:33:30.737Z"
   },
   {
    "duration": 3,
    "start_time": "2023-05-14T07:33:30.837Z"
   },
   {
    "duration": 158193,
    "start_time": "2023-05-14T07:33:30.843Z"
   },
   {
    "duration": 100,
    "start_time": "2023-05-14T07:36:09.038Z"
   },
   {
    "duration": 4,
    "start_time": "2023-05-14T07:36:09.141Z"
   },
   {
    "duration": 319255,
    "start_time": "2023-05-14T07:41:08.901Z"
   },
   {
    "duration": 34,
    "start_time": "2023-05-14T07:46:28.226Z"
   },
   {
    "duration": 337125,
    "start_time": "2023-05-14T07:46:28.327Z"
   },
   {
    "duration": 129,
    "start_time": "2023-05-14T07:52:05.526Z"
   },
   {
    "duration": 276687,
    "start_time": "2023-05-14T07:52:05.656Z"
   },
   {
    "duration": 99,
    "start_time": "2023-05-14T07:56:42.346Z"
   },
   {
    "duration": 181098,
    "start_time": "2023-05-14T07:56:42.447Z"
   },
   {
    "duration": 190,
    "start_time": "2023-05-14T07:59:43.547Z"
   },
   {
    "duration": 234992,
    "start_time": "2023-05-14T07:59:43.741Z"
   },
   {
    "duration": 17,
    "start_time": "2023-05-14T08:03:38.735Z"
   },
   {
    "duration": 15,
    "start_time": "2023-05-14T08:03:44.619Z"
   },
   {
    "duration": 35,
    "start_time": "2023-05-14T08:03:51.047Z"
   },
   {
    "duration": 17,
    "start_time": "2023-05-14T08:05:37.995Z"
   },
   {
    "duration": 25,
    "start_time": "2023-05-14T08:05:54.690Z"
   },
   {
    "duration": 17,
    "start_time": "2023-05-14T08:06:17.511Z"
   },
   {
    "duration": 25,
    "start_time": "2023-05-14T08:06:32.748Z"
   },
   {
    "duration": 16,
    "start_time": "2023-05-14T08:06:45.543Z"
   },
   {
    "duration": 27,
    "start_time": "2023-05-14T08:08:33.445Z"
   },
   {
    "duration": 21,
    "start_time": "2023-05-14T08:09:07.010Z"
   },
   {
    "duration": 17,
    "start_time": "2023-05-14T08:09:17.618Z"
   },
   {
    "duration": 20,
    "start_time": "2023-05-14T08:09:29.145Z"
   },
   {
    "duration": 16,
    "start_time": "2023-05-14T08:10:16.814Z"
   },
   {
    "duration": 18,
    "start_time": "2023-05-14T08:10:39.888Z"
   },
   {
    "duration": 21,
    "start_time": "2023-05-14T08:10:44.902Z"
   },
   {
    "duration": 19,
    "start_time": "2023-05-14T08:11:39.814Z"
   },
   {
    "duration": 158232,
    "start_time": "2023-05-14T08:12:13.994Z"
   },
   {
    "duration": 4,
    "start_time": "2023-05-14T08:16:21.290Z"
   },
   {
    "duration": 28,
    "start_time": "2023-05-14T08:16:45.357Z"
   },
   {
    "duration": 4,
    "start_time": "2023-05-14T08:18:54.894Z"
   },
   {
    "duration": 4,
    "start_time": "2023-05-14T08:18:55.612Z"
   },
   {
    "duration": 2586,
    "start_time": "2023-05-14T08:19:01.556Z"
   },
   {
    "duration": 122816,
    "start_time": "2023-05-14T08:19:58.314Z"
   },
   {
    "duration": 4,
    "start_time": "2023-05-14T08:22:10.690Z"
   },
   {
    "duration": 3,
    "start_time": "2023-05-14T08:22:11.130Z"
   },
   {
    "duration": 98877,
    "start_time": "2023-05-14T08:22:12.847Z"
   },
   {
    "duration": 111934,
    "start_time": "2023-05-14T08:26:36.097Z"
   },
   {
    "duration": 42,
    "start_time": "2023-05-14T08:31:06.123Z"
   },
   {
    "duration": 62,
    "start_time": "2023-05-14T08:31:25.022Z"
   },
   {
    "duration": 47,
    "start_time": "2023-05-14T08:32:38.952Z"
   },
   {
    "duration": 82000,
    "start_time": "2023-05-14T08:33:10.355Z"
   },
   {
    "duration": 4,
    "start_time": "2023-05-14T08:36:03.445Z"
   },
   {
    "duration": 87649,
    "start_time": "2023-05-14T08:36:08.686Z"
   },
   {
    "duration": 2800,
    "start_time": "2023-05-14T08:40:31.738Z"
   },
   {
    "duration": 5524,
    "start_time": "2023-05-14T08:40:34.541Z"
   },
   {
    "duration": 41,
    "start_time": "2023-05-14T08:40:40.067Z"
   },
   {
    "duration": 5,
    "start_time": "2023-05-14T08:40:40.112Z"
   },
   {
    "duration": 11,
    "start_time": "2023-05-14T08:40:40.120Z"
   },
   {
    "duration": 40,
    "start_time": "2023-05-14T08:40:40.134Z"
   },
   {
    "duration": 41,
    "start_time": "2023-05-14T08:40:40.176Z"
   },
   {
    "duration": 6,
    "start_time": "2023-05-14T08:40:40.219Z"
   },
   {
    "duration": 19,
    "start_time": "2023-05-14T08:40:40.227Z"
   },
   {
    "duration": 193,
    "start_time": "2023-05-14T08:40:40.250Z"
   },
   {
    "duration": 132,
    "start_time": "2023-05-14T08:40:40.445Z"
   },
   {
    "duration": 178,
    "start_time": "2023-05-14T08:40:40.579Z"
   },
   {
    "duration": 116,
    "start_time": "2023-05-14T08:40:40.759Z"
   },
   {
    "duration": 253,
    "start_time": "2023-05-14T08:40:40.878Z"
   },
   {
    "duration": 135,
    "start_time": "2023-05-14T08:40:41.134Z"
   },
   {
    "duration": 330,
    "start_time": "2023-05-14T08:40:41.271Z"
   },
   {
    "duration": 142,
    "start_time": "2023-05-14T08:40:41.603Z"
   },
   {
    "duration": 149,
    "start_time": "2023-05-14T08:40:41.747Z"
   },
   {
    "duration": 6,
    "start_time": "2023-05-14T08:40:41.898Z"
   },
   {
    "duration": 21,
    "start_time": "2023-05-14T08:40:41.906Z"
   },
   {
    "duration": 6,
    "start_time": "2023-05-14T08:40:41.929Z"
   },
   {
    "duration": 8,
    "start_time": "2023-05-14T08:40:41.936Z"
   },
   {
    "duration": 14,
    "start_time": "2023-05-14T08:40:41.946Z"
   },
   {
    "duration": 8,
    "start_time": "2023-05-14T08:40:41.962Z"
   },
   {
    "duration": 154,
    "start_time": "2023-05-14T08:40:41.972Z"
   },
   {
    "duration": 7,
    "start_time": "2023-05-14T08:40:42.128Z"
   },
   {
    "duration": 19,
    "start_time": "2023-05-14T08:40:42.137Z"
   },
   {
    "duration": 8,
    "start_time": "2023-05-14T08:40:42.161Z"
   },
   {
    "duration": 13,
    "start_time": "2023-05-14T08:40:42.171Z"
   },
   {
    "duration": 23,
    "start_time": "2023-05-14T08:40:42.186Z"
   },
   {
    "duration": 31,
    "start_time": "2023-05-14T08:40:42.211Z"
   },
   {
    "duration": 33,
    "start_time": "2023-05-14T08:40:42.244Z"
   },
   {
    "duration": 5,
    "start_time": "2023-05-14T08:40:42.279Z"
   },
   {
    "duration": 7,
    "start_time": "2023-05-14T08:40:42.286Z"
   },
   {
    "duration": 6,
    "start_time": "2023-05-14T08:40:42.295Z"
   },
   {
    "duration": 5,
    "start_time": "2023-05-14T08:40:42.325Z"
   },
   {
    "duration": 88514,
    "start_time": "2023-05-14T08:40:42.332Z"
   },
   {
    "duration": 418,
    "start_time": "2023-05-14T08:42:10.848Z"
   },
   {
    "duration": 0,
    "start_time": "2023-05-14T08:42:11.269Z"
   },
   {
    "duration": 0,
    "start_time": "2023-05-14T08:42:11.270Z"
   },
   {
    "duration": 0,
    "start_time": "2023-05-14T08:42:11.272Z"
   },
   {
    "duration": 0,
    "start_time": "2023-05-14T08:42:11.273Z"
   },
   {
    "duration": 0,
    "start_time": "2023-05-14T08:42:11.275Z"
   },
   {
    "duration": 0,
    "start_time": "2023-05-14T08:42:11.276Z"
   },
   {
    "duration": 0,
    "start_time": "2023-05-14T08:42:11.278Z"
   },
   {
    "duration": 0,
    "start_time": "2023-05-14T08:42:11.280Z"
   },
   {
    "duration": 0,
    "start_time": "2023-05-14T08:42:11.282Z"
   },
   {
    "duration": 0,
    "start_time": "2023-05-14T08:42:11.284Z"
   },
   {
    "duration": 0,
    "start_time": "2023-05-14T08:42:11.285Z"
   },
   {
    "duration": 1,
    "start_time": "2023-05-14T08:42:11.286Z"
   },
   {
    "duration": 0,
    "start_time": "2023-05-14T08:42:11.288Z"
   },
   {
    "duration": 1,
    "start_time": "2023-05-14T08:42:11.290Z"
   },
   {
    "duration": 0,
    "start_time": "2023-05-14T08:42:11.325Z"
   },
   {
    "duration": 0,
    "start_time": "2023-05-14T08:42:11.327Z"
   },
   {
    "duration": 0,
    "start_time": "2023-05-14T08:42:11.329Z"
   },
   {
    "duration": 0,
    "start_time": "2023-05-14T08:42:11.330Z"
   },
   {
    "duration": 0,
    "start_time": "2023-05-14T08:42:11.332Z"
   },
   {
    "duration": 0,
    "start_time": "2023-05-14T08:42:11.334Z"
   },
   {
    "duration": 0,
    "start_time": "2023-05-14T08:42:11.336Z"
   },
   {
    "duration": 0,
    "start_time": "2023-05-14T08:42:11.337Z"
   },
   {
    "duration": 0,
    "start_time": "2023-05-14T08:42:11.338Z"
   },
   {
    "duration": 0,
    "start_time": "2023-05-14T08:42:11.340Z"
   },
   {
    "duration": 0,
    "start_time": "2023-05-14T08:42:11.341Z"
   },
   {
    "duration": 0,
    "start_time": "2023-05-14T08:42:11.343Z"
   },
   {
    "duration": 0,
    "start_time": "2023-05-14T08:42:11.344Z"
   },
   {
    "duration": 17,
    "start_time": "2023-05-14T08:48:23.294Z"
   },
   {
    "duration": 87977,
    "start_time": "2023-05-14T08:48:27.349Z"
   },
   {
    "duration": 21,
    "start_time": "2023-05-14T08:49:55.329Z"
   },
   {
    "duration": 32,
    "start_time": "2023-05-14T08:50:47.298Z"
   },
   {
    "duration": 4,
    "start_time": "2023-05-14T08:51:00.902Z"
   },
   {
    "duration": 3327,
    "start_time": "2023-05-14T08:51:01.931Z"
   },
   {
    "duration": 41002,
    "start_time": "2023-05-14T08:51:09.751Z"
   },
   {
    "duration": 0,
    "start_time": "2023-05-14T08:51:50.755Z"
   },
   {
    "duration": 0,
    "start_time": "2023-05-14T08:51:50.757Z"
   },
   {
    "duration": 0,
    "start_time": "2023-05-14T08:51:50.758Z"
   },
   {
    "duration": 10,
    "start_time": "2023-05-14T08:51:54.723Z"
   },
   {
    "duration": 3,
    "start_time": "2023-05-14T08:51:59.598Z"
   },
   {
    "duration": 188285,
    "start_time": "2023-05-14T08:52:00.951Z"
   },
   {
    "duration": 9,
    "start_time": "2023-05-14T08:55:09.239Z"
   },
   {
    "duration": 20405,
    "start_time": "2023-05-14T08:55:09.250Z"
   },
   {
    "duration": 0,
    "start_time": "2023-05-14T08:55:29.658Z"
   },
   {
    "duration": 0,
    "start_time": "2023-05-14T08:55:29.659Z"
   },
   {
    "duration": 0,
    "start_time": "2023-05-14T08:55:29.661Z"
   },
   {
    "duration": 0,
    "start_time": "2023-05-14T08:55:29.662Z"
   },
   {
    "duration": 0,
    "start_time": "2023-05-14T08:55:29.663Z"
   },
   {
    "duration": 0,
    "start_time": "2023-05-14T08:55:29.664Z"
   },
   {
    "duration": 0,
    "start_time": "2023-05-14T08:55:29.666Z"
   },
   {
    "duration": 0,
    "start_time": "2023-05-14T08:55:29.667Z"
   },
   {
    "duration": 0,
    "start_time": "2023-05-14T08:55:29.725Z"
   },
   {
    "duration": 0,
    "start_time": "2023-05-14T08:55:29.726Z"
   },
   {
    "duration": 0,
    "start_time": "2023-05-14T08:55:29.727Z"
   },
   {
    "duration": 0,
    "start_time": "2023-05-14T08:55:29.729Z"
   },
   {
    "duration": 0,
    "start_time": "2023-05-14T08:55:29.730Z"
   },
   {
    "duration": 0,
    "start_time": "2023-05-14T08:55:29.731Z"
   },
   {
    "duration": 1,
    "start_time": "2023-05-14T08:55:29.731Z"
   },
   {
    "duration": 0,
    "start_time": "2023-05-14T08:55:29.733Z"
   },
   {
    "duration": 0,
    "start_time": "2023-05-14T08:55:29.734Z"
   },
   {
    "duration": 3,
    "start_time": "2023-05-14T08:55:31.221Z"
   },
   {
    "duration": 225045,
    "start_time": "2023-05-14T08:55:32.289Z"
   },
   {
    "duration": 8,
    "start_time": "2023-05-14T08:59:17.336Z"
   },
   {
    "duration": 4,
    "start_time": "2023-05-14T08:59:45.490Z"
   },
   {
    "duration": 255086,
    "start_time": "2023-05-14T08:59:46.246Z"
   },
   {
    "duration": 18,
    "start_time": "2023-05-14T09:04:01.342Z"
   },
   {
    "duration": 53,
    "start_time": "2023-05-14T09:04:01.364Z"
   },
   {
    "duration": 239213,
    "start_time": "2023-05-14T09:04:01.420Z"
   },
   {
    "duration": 14,
    "start_time": "2023-05-14T09:08:00.635Z"
   },
   {
    "duration": 307987,
    "start_time": "2023-05-14T09:08:00.651Z"
   },
   {
    "duration": 11,
    "start_time": "2023-05-14T09:13:08.641Z"
   },
   {
    "duration": 284878,
    "start_time": "2023-05-14T09:13:08.654Z"
   },
   {
    "duration": 9,
    "start_time": "2023-05-14T09:17:53.533Z"
   },
   {
    "duration": 264085,
    "start_time": "2023-05-14T09:17:53.545Z"
   },
   {
    "duration": 9,
    "start_time": "2023-05-14T09:22:17.633Z"
   },
   {
    "duration": 152492,
    "start_time": "2023-05-14T09:22:17.645Z"
   },
   {
    "duration": 11,
    "start_time": "2023-05-14T09:24:50.138Z"
   },
   {
    "duration": 6,
    "start_time": "2023-05-14T09:25:21.479Z"
   },
   {
    "duration": 3465,
    "start_time": "2023-05-15T02:20:52.152Z"
   },
   {
    "duration": 5924,
    "start_time": "2023-05-15T02:20:55.620Z"
   },
   {
    "duration": 104,
    "start_time": "2023-05-15T02:21:01.548Z"
   },
   {
    "duration": 5,
    "start_time": "2023-05-15T02:21:01.655Z"
   },
   {
    "duration": 37,
    "start_time": "2023-05-15T02:21:01.662Z"
   },
   {
    "duration": 36,
    "start_time": "2023-05-15T02:21:01.701Z"
   },
   {
    "duration": 59,
    "start_time": "2023-05-15T02:21:01.740Z"
   },
   {
    "duration": 15,
    "start_time": "2023-05-15T02:21:01.802Z"
   },
   {
    "duration": 20,
    "start_time": "2023-05-15T02:21:01.820Z"
   },
   {
    "duration": 195,
    "start_time": "2023-05-15T02:21:01.843Z"
   },
   {
    "duration": 118,
    "start_time": "2023-05-15T02:21:02.040Z"
   },
   {
    "duration": 178,
    "start_time": "2023-05-15T02:21:02.160Z"
   },
   {
    "duration": 113,
    "start_time": "2023-05-15T02:21:02.340Z"
   },
   {
    "duration": 204,
    "start_time": "2023-05-15T02:21:02.455Z"
   },
   {
    "duration": 131,
    "start_time": "2023-05-15T02:21:02.661Z"
   },
   {
    "duration": 373,
    "start_time": "2023-05-15T02:21:02.794Z"
   },
   {
    "duration": 119,
    "start_time": "2023-05-15T02:21:03.171Z"
   },
   {
    "duration": 169,
    "start_time": "2023-05-15T02:21:03.292Z"
   },
   {
    "duration": 8,
    "start_time": "2023-05-15T02:21:03.464Z"
   },
   {
    "duration": 18,
    "start_time": "2023-05-15T02:21:03.474Z"
   },
   {
    "duration": 22,
    "start_time": "2023-05-15T02:21:03.493Z"
   },
   {
    "duration": 14,
    "start_time": "2023-05-15T02:21:03.517Z"
   },
   {
    "duration": 12,
    "start_time": "2023-05-15T02:21:03.533Z"
   },
   {
    "duration": 14,
    "start_time": "2023-05-15T02:21:03.547Z"
   },
   {
    "duration": 168,
    "start_time": "2023-05-15T02:21:03.563Z"
   },
   {
    "duration": 8,
    "start_time": "2023-05-15T02:21:03.733Z"
   },
   {
    "duration": 16,
    "start_time": "2023-05-15T02:21:03.743Z"
   },
   {
    "duration": 44,
    "start_time": "2023-05-15T02:21:03.770Z"
   },
   {
    "duration": 20,
    "start_time": "2023-05-15T02:21:03.817Z"
   },
   {
    "duration": 22,
    "start_time": "2023-05-15T02:21:03.839Z"
   },
   {
    "duration": 44,
    "start_time": "2023-05-15T02:21:03.863Z"
   },
   {
    "duration": 30,
    "start_time": "2023-05-15T02:21:03.909Z"
   },
   {
    "duration": 69,
    "start_time": "2023-05-15T02:21:03.941Z"
   },
   {
    "duration": 22,
    "start_time": "2023-05-15T02:21:04.012Z"
   },
   {
    "duration": 15,
    "start_time": "2023-05-15T02:21:04.036Z"
   },
   {
    "duration": 17,
    "start_time": "2023-05-15T02:21:04.053Z"
   },
   {
    "duration": 94817,
    "start_time": "2023-05-15T02:21:04.072Z"
   },
   {
    "duration": 80,
    "start_time": "2023-05-15T02:22:38.892Z"
   },
   {
    "duration": 3,
    "start_time": "2023-05-15T02:22:38.974Z"
   },
   {
    "duration": 184215,
    "start_time": "2023-05-15T02:22:38.979Z"
   },
   {
    "duration": 9,
    "start_time": "2023-05-15T02:25:43.272Z"
   },
   {
    "duration": 7,
    "start_time": "2023-05-15T02:25:43.282Z"
   },
   {
    "duration": 153380,
    "start_time": "2023-05-15T02:25:43.291Z"
   },
   {
    "duration": 8,
    "start_time": "2023-05-15T02:28:16.674Z"
   },
   {
    "duration": 6,
    "start_time": "2023-05-15T02:28:16.684Z"
   },
   {
    "duration": 163889,
    "start_time": "2023-05-15T02:28:16.692Z"
   },
   {
    "duration": 8,
    "start_time": "2023-05-15T02:31:00.583Z"
   },
   {
    "duration": 16,
    "start_time": "2023-05-15T02:31:00.593Z"
   },
   {
    "duration": 181369,
    "start_time": "2023-05-15T02:31:00.611Z"
   },
   {
    "duration": 8,
    "start_time": "2023-05-15T02:34:01.982Z"
   },
   {
    "duration": 161796,
    "start_time": "2023-05-15T02:34:01.992Z"
   },
   {
    "duration": 8,
    "start_time": "2023-05-15T02:36:43.790Z"
   },
   {
    "duration": 173487,
    "start_time": "2023-05-15T02:36:43.800Z"
   },
   {
    "duration": 11,
    "start_time": "2023-05-15T02:39:37.290Z"
   },
   {
    "duration": 167188,
    "start_time": "2023-05-15T02:39:37.304Z"
   },
   {
    "duration": 83,
    "start_time": "2023-05-15T02:42:24.495Z"
   },
   {
    "duration": 168400,
    "start_time": "2023-05-15T02:42:24.580Z"
   },
   {
    "duration": 9,
    "start_time": "2023-05-15T02:45:12.982Z"
   },
   {
    "duration": 5,
    "start_time": "2023-05-15T02:45:12.993Z"
   },
   {
    "duration": 1087586,
    "start_time": "2023-05-15T02:45:13.000Z"
   },
   {
    "duration": 0,
    "start_time": "2023-05-15T03:03:20.589Z"
   },
   {
    "duration": 0,
    "start_time": "2023-05-15T03:03:20.590Z"
   },
   {
    "duration": 0,
    "start_time": "2023-05-15T03:03:20.592Z"
   },
   {
    "duration": 0,
    "start_time": "2023-05-15T03:03:20.593Z"
   },
   {
    "duration": 0,
    "start_time": "2023-05-15T03:03:20.594Z"
   },
   {
    "duration": 5,
    "start_time": "2023-05-15T03:04:16.136Z"
   },
   {
    "duration": 105186,
    "start_time": "2023-05-15T03:04:17.023Z"
   },
   {
    "duration": 128,
    "start_time": "2023-05-15T03:06:10.439Z"
   },
   {
    "duration": 130155,
    "start_time": "2023-05-15T03:06:50.916Z"
   },
   {
    "duration": 4,
    "start_time": "2023-05-15T03:09:22.280Z"
   },
   {
    "duration": 113342,
    "start_time": "2023-05-15T03:09:23.262Z"
   },
   {
    "duration": 141,
    "start_time": "2023-05-15T03:11:17.776Z"
   },
   {
    "duration": 3,
    "start_time": "2023-05-15T03:11:32.193Z"
   },
   {
    "duration": 84743,
    "start_time": "2023-05-15T03:11:33.429Z"
   },
   {
    "duration": 10,
    "start_time": "2023-05-15T03:13:04.249Z"
   },
   {
    "duration": 26,
    "start_time": "2023-05-15T03:13:14.957Z"
   },
   {
    "duration": 31,
    "start_time": "2023-05-15T03:13:31.152Z"
   },
   {
    "duration": 29,
    "start_time": "2023-05-15T03:13:42.472Z"
   },
   {
    "duration": 7,
    "start_time": "2023-05-15T03:13:57.950Z"
   },
   {
    "duration": 500,
    "start_time": "2023-05-15T03:14:02.374Z"
   },
   {
    "duration": 12,
    "start_time": "2023-05-15T03:16:08.147Z"
   },
   {
    "duration": 12,
    "start_time": "2023-05-15T03:16:28.685Z"
   },
   {
    "duration": 29,
    "start_time": "2023-05-15T03:20:12.516Z"
   },
   {
    "duration": 11,
    "start_time": "2023-05-15T03:21:56.916Z"
   },
   {
    "duration": 10,
    "start_time": "2023-05-15T03:25:23.774Z"
   },
   {
    "duration": 392,
    "start_time": "2023-05-15T03:25:53.022Z"
   },
   {
    "duration": 388,
    "start_time": "2023-05-15T03:26:04.898Z"
   },
   {
    "duration": 4,
    "start_time": "2023-05-15T03:26:17.085Z"
   },
   {
    "duration": 9,
    "start_time": "2023-05-15T03:26:28.194Z"
   },
   {
    "duration": 341,
    "start_time": "2023-05-15T03:26:39.582Z"
   },
   {
    "duration": 4,
    "start_time": "2023-05-15T03:28:31.635Z"
   },
   {
    "duration": 157000,
    "start_time": "2023-05-15T03:28:32.472Z"
   },
   {
    "duration": 17,
    "start_time": "2023-05-15T03:31:09.476Z"
   },
   {
    "duration": 10,
    "start_time": "2023-05-15T03:31:50.902Z"
   },
   {
    "duration": 45012,
    "start_time": "2023-05-15T03:31:51.589Z"
   },
   {
    "duration": 4,
    "start_time": "2023-05-15T03:33:09.118Z"
   },
   {
    "duration": 293097,
    "start_time": "2023-05-15T03:33:10.100Z"
   },
   {
    "duration": 11,
    "start_time": "2023-05-15T03:38:03.200Z"
   },
   {
    "duration": 6,
    "start_time": "2023-05-15T03:38:03.213Z"
   },
   {
    "duration": 69,
    "start_time": "2023-05-15T03:38:03.222Z"
   },
   {
    "duration": 411,
    "start_time": "2023-05-15T03:38:03.294Z"
   },
   {
    "duration": 1481,
    "start_time": "2023-05-15T03:38:37.547Z"
   },
   {
    "duration": 0,
    "start_time": "2023-05-15T03:38:39.030Z"
   },
   {
    "duration": 4,
    "start_time": "2023-05-15T03:38:39.623Z"
   },
   {
    "duration": 573886,
    "start_time": "2023-05-15T03:39:14.435Z"
   },
   {
    "duration": 53,
    "start_time": "2023-05-15T03:48:48.326Z"
   },
   {
    "duration": 45,
    "start_time": "2023-05-15T03:48:48.381Z"
   },
   {
    "duration": 33,
    "start_time": "2023-05-15T03:48:48.433Z"
   },
   {
    "duration": 628,
    "start_time": "2023-05-15T03:48:48.469Z"
   },
   {
    "duration": 3272,
    "start_time": "2023-05-16T10:38:07.899Z"
   },
   {
    "duration": 4278,
    "start_time": "2023-05-16T10:38:11.174Z"
   },
   {
    "duration": 43,
    "start_time": "2023-05-16T10:38:15.454Z"
   },
   {
    "duration": 6,
    "start_time": "2023-05-16T10:38:15.499Z"
   },
   {
    "duration": 6,
    "start_time": "2023-05-16T10:38:15.507Z"
   },
   {
    "duration": 15,
    "start_time": "2023-05-16T10:38:15.515Z"
   },
   {
    "duration": 29,
    "start_time": "2023-05-16T10:38:15.534Z"
   },
   {
    "duration": 6,
    "start_time": "2023-05-16T10:38:15.565Z"
   },
   {
    "duration": 16,
    "start_time": "2023-05-16T10:38:15.573Z"
   },
   {
    "duration": 216,
    "start_time": "2023-05-16T10:38:15.591Z"
   },
   {
    "duration": 111,
    "start_time": "2023-05-16T10:38:15.808Z"
   },
   {
    "duration": 169,
    "start_time": "2023-05-16T10:38:15.921Z"
   },
   {
    "duration": 134,
    "start_time": "2023-05-16T10:38:16.092Z"
   },
   {
    "duration": 207,
    "start_time": "2023-05-16T10:38:16.230Z"
   },
   {
    "duration": 164,
    "start_time": "2023-05-16T10:38:16.438Z"
   },
   {
    "duration": 327,
    "start_time": "2023-05-16T10:38:16.604Z"
   },
   {
    "duration": 116,
    "start_time": "2023-05-16T10:38:16.934Z"
   },
   {
    "duration": 154,
    "start_time": "2023-05-16T10:38:17.052Z"
   },
   {
    "duration": 5,
    "start_time": "2023-05-16T10:38:17.208Z"
   },
   {
    "duration": 7,
    "start_time": "2023-05-16T10:38:17.214Z"
   },
   {
    "duration": 6,
    "start_time": "2023-05-16T10:38:17.223Z"
   },
   {
    "duration": 4,
    "start_time": "2023-05-16T10:38:17.249Z"
   },
   {
    "duration": 7,
    "start_time": "2023-05-16T10:38:17.255Z"
   },
   {
    "duration": 11,
    "start_time": "2023-05-16T10:38:17.264Z"
   },
   {
    "duration": 163,
    "start_time": "2023-05-16T10:38:17.276Z"
   },
   {
    "duration": 10,
    "start_time": "2023-05-16T10:38:17.441Z"
   },
   {
    "duration": 21,
    "start_time": "2023-05-16T10:38:17.452Z"
   },
   {
    "duration": 5,
    "start_time": "2023-05-16T10:38:17.475Z"
   },
   {
    "duration": 9,
    "start_time": "2023-05-16T10:38:17.482Z"
   },
   {
    "duration": 5,
    "start_time": "2023-05-16T10:38:17.492Z"
   },
   {
    "duration": 26,
    "start_time": "2023-05-16T10:38:17.498Z"
   },
   {
    "duration": 43,
    "start_time": "2023-05-16T10:38:17.525Z"
   },
   {
    "duration": 4,
    "start_time": "2023-05-16T10:38:17.569Z"
   },
   {
    "duration": 4,
    "start_time": "2023-05-16T10:38:17.575Z"
   },
   {
    "duration": 6,
    "start_time": "2023-05-16T10:38:17.581Z"
   },
   {
    "duration": 8,
    "start_time": "2023-05-16T10:38:17.589Z"
   },
   {
    "duration": 87975,
    "start_time": "2023-05-16T10:38:17.599Z"
   },
   {
    "duration": 80,
    "start_time": "2023-05-16T10:39:45.576Z"
   },
   {
    "duration": 5,
    "start_time": "2023-05-16T10:39:45.658Z"
   },
   {
    "duration": 2433,
    "start_time": "2023-05-16T10:42:29.708Z"
   },
   {
    "duration": 4502,
    "start_time": "2023-05-16T10:42:32.144Z"
   },
   {
    "duration": 43,
    "start_time": "2023-05-16T10:42:36.650Z"
   },
   {
    "duration": 4,
    "start_time": "2023-05-16T10:42:36.695Z"
   },
   {
    "duration": 5,
    "start_time": "2023-05-16T10:42:36.701Z"
   },
   {
    "duration": 16,
    "start_time": "2023-05-16T10:42:36.707Z"
   },
   {
    "duration": 38,
    "start_time": "2023-05-16T10:42:36.725Z"
   },
   {
    "duration": 9,
    "start_time": "2023-05-16T10:42:36.766Z"
   },
   {
    "duration": 9,
    "start_time": "2023-05-16T10:42:36.776Z"
   },
   {
    "duration": 210,
    "start_time": "2023-05-16T10:42:36.787Z"
   },
   {
    "duration": 124,
    "start_time": "2023-05-16T10:42:36.999Z"
   },
   {
    "duration": 177,
    "start_time": "2023-05-16T10:42:37.124Z"
   },
   {
    "duration": 125,
    "start_time": "2023-05-16T10:42:37.303Z"
   },
   {
    "duration": 194,
    "start_time": "2023-05-16T10:42:37.432Z"
   },
   {
    "duration": 132,
    "start_time": "2023-05-16T10:42:37.629Z"
   },
   {
    "duration": 357,
    "start_time": "2023-05-16T10:42:37.763Z"
   },
   {
    "duration": 139,
    "start_time": "2023-05-16T10:42:38.123Z"
   },
   {
    "duration": 202,
    "start_time": "2023-05-16T10:42:38.264Z"
   },
   {
    "duration": 12,
    "start_time": "2023-05-16T10:42:38.468Z"
   },
   {
    "duration": 20,
    "start_time": "2023-05-16T10:42:38.482Z"
   },
   {
    "duration": 28,
    "start_time": "2023-05-16T10:42:38.504Z"
   },
   {
    "duration": 9,
    "start_time": "2023-05-16T10:42:38.534Z"
   },
   {
    "duration": 11,
    "start_time": "2023-05-16T10:42:38.545Z"
   },
   {
    "duration": 34,
    "start_time": "2023-05-16T10:42:38.558Z"
   },
   {
    "duration": 184,
    "start_time": "2023-05-16T10:42:38.593Z"
   },
   {
    "duration": 8,
    "start_time": "2023-05-16T10:42:38.780Z"
   },
   {
    "duration": 8,
    "start_time": "2023-05-16T10:42:38.789Z"
   },
   {
    "duration": 6,
    "start_time": "2023-05-16T10:42:38.799Z"
   },
   {
    "duration": 6,
    "start_time": "2023-05-16T10:42:38.807Z"
   },
   {
    "duration": 7,
    "start_time": "2023-05-16T10:42:38.815Z"
   },
   {
    "duration": 34,
    "start_time": "2023-05-16T10:42:38.850Z"
   },
   {
    "duration": 36,
    "start_time": "2023-05-16T10:42:38.886Z"
   },
   {
    "duration": 28,
    "start_time": "2023-05-16T10:42:38.924Z"
   },
   {
    "duration": 18,
    "start_time": "2023-05-16T10:42:38.954Z"
   },
   {
    "duration": 14,
    "start_time": "2023-05-16T10:42:38.974Z"
   },
   {
    "duration": 23,
    "start_time": "2023-05-16T10:42:38.991Z"
   },
   {
    "duration": 88752,
    "start_time": "2023-05-16T10:42:39.017Z"
   },
   {
    "duration": 10,
    "start_time": "2023-05-16T10:44:07.772Z"
   },
   {
    "duration": 8,
    "start_time": "2023-05-16T10:44:07.851Z"
   },
   {
    "duration": 175697,
    "start_time": "2023-05-16T10:44:07.860Z"
   },
   {
    "duration": 12,
    "start_time": "2023-05-16T10:47:03.564Z"
   },
   {
    "duration": 4,
    "start_time": "2023-05-16T10:47:03.578Z"
   },
   {
    "duration": 139181,
    "start_time": "2023-05-16T10:47:03.584Z"
   },
   {
    "duration": 9,
    "start_time": "2023-05-16T10:49:22.767Z"
   },
   {
    "duration": 4,
    "start_time": "2023-05-16T10:49:22.778Z"
   },
   {
    "duration": 162814,
    "start_time": "2023-05-16T10:49:22.849Z"
   },
   {
    "duration": 10,
    "start_time": "2023-05-16T10:52:05.665Z"
   },
   {
    "duration": 18,
    "start_time": "2023-05-16T10:52:05.677Z"
   },
   {
    "duration": 170361,
    "start_time": "2023-05-16T10:52:05.697Z"
   },
   {
    "duration": 9,
    "start_time": "2023-05-16T10:54:56.060Z"
   },
   {
    "duration": 149879,
    "start_time": "2023-05-16T10:54:56.071Z"
   },
   {
    "duration": 7,
    "start_time": "2023-05-16T10:57:25.953Z"
   },
   {
    "duration": 172488,
    "start_time": "2023-05-16T10:57:25.962Z"
   },
   {
    "duration": 9,
    "start_time": "2023-05-16T11:00:18.452Z"
   },
   {
    "duration": 162700,
    "start_time": "2023-05-16T11:00:18.463Z"
   },
   {
    "duration": 11,
    "start_time": "2023-05-16T11:03:01.165Z"
   },
   {
    "duration": 160696,
    "start_time": "2023-05-16T11:03:01.178Z"
   },
   {
    "duration": 11,
    "start_time": "2023-05-16T11:05:41.877Z"
   },
   {
    "duration": 3,
    "start_time": "2023-05-16T11:05:41.890Z"
   },
   {
    "duration": 321861,
    "start_time": "2023-05-16T11:05:41.894Z"
   },
   {
    "duration": 12,
    "start_time": "2023-05-16T11:11:03.757Z"
   },
   {
    "duration": 4,
    "start_time": "2023-05-16T11:11:03.772Z"
   },
   {
    "duration": 6,
    "start_time": "2023-05-16T11:11:03.778Z"
   },
   {
    "duration": 377,
    "start_time": "2023-05-16T11:11:03.785Z"
   },
   {
    "duration": 106,
    "start_time": "2023-05-16T11:11:04.168Z"
   },
   {
    "duration": 123,
    "start_time": "2023-05-16T11:28:19.399Z"
   },
   {
    "duration": 3574,
    "start_time": "2023-05-16T13:12:01.119Z"
   },
   {
    "duration": 4579,
    "start_time": "2023-05-16T13:12:04.695Z"
   },
   {
    "duration": 75,
    "start_time": "2023-05-16T13:12:09.276Z"
   },
   {
    "duration": 5,
    "start_time": "2023-05-16T13:12:09.353Z"
   },
   {
    "duration": 12,
    "start_time": "2023-05-16T13:12:09.361Z"
   },
   {
    "duration": 15,
    "start_time": "2023-05-16T13:12:09.375Z"
   },
   {
    "duration": 56,
    "start_time": "2023-05-16T13:12:09.392Z"
   },
   {
    "duration": 7,
    "start_time": "2023-05-16T13:12:09.450Z"
   },
   {
    "duration": 18,
    "start_time": "2023-05-16T13:12:09.459Z"
   },
   {
    "duration": 202,
    "start_time": "2023-05-16T13:12:09.479Z"
   },
   {
    "duration": 133,
    "start_time": "2023-05-16T13:12:09.683Z"
   },
   {
    "duration": 192,
    "start_time": "2023-05-16T13:12:09.818Z"
   },
   {
    "duration": 115,
    "start_time": "2023-05-16T13:12:10.012Z"
   },
   {
    "duration": 257,
    "start_time": "2023-05-16T13:12:10.131Z"
   },
   {
    "duration": 158,
    "start_time": "2023-05-16T13:12:10.390Z"
   },
   {
    "duration": 342,
    "start_time": "2023-05-16T13:12:10.551Z"
   },
   {
    "duration": 127,
    "start_time": "2023-05-16T13:12:10.895Z"
   },
   {
    "duration": 174,
    "start_time": "2023-05-16T13:12:11.025Z"
   },
   {
    "duration": 6,
    "start_time": "2023-05-16T13:12:11.201Z"
   },
   {
    "duration": 9,
    "start_time": "2023-05-16T13:12:11.209Z"
   },
   {
    "duration": 7,
    "start_time": "2023-05-16T13:12:11.220Z"
   },
   {
    "duration": 36,
    "start_time": "2023-05-16T13:12:11.230Z"
   },
   {
    "duration": 11,
    "start_time": "2023-05-16T13:12:11.268Z"
   },
   {
    "duration": 8,
    "start_time": "2023-05-16T13:12:11.281Z"
   },
   {
    "duration": 178,
    "start_time": "2023-05-16T13:12:11.291Z"
   },
   {
    "duration": 8,
    "start_time": "2023-05-16T13:12:11.471Z"
   },
   {
    "duration": 4,
    "start_time": "2023-05-16T13:12:11.489Z"
   },
   {
    "duration": 15,
    "start_time": "2023-05-16T13:12:11.495Z"
   },
   {
    "duration": 11,
    "start_time": "2023-05-16T13:12:11.512Z"
   },
   {
    "duration": 34,
    "start_time": "2023-05-16T13:12:27.801Z"
   },
   {
    "duration": 37,
    "start_time": "2023-05-16T13:12:35.193Z"
   },
   {
    "duration": 5,
    "start_time": "2023-05-16T13:12:48.689Z"
   },
   {
    "duration": 4,
    "start_time": "2023-05-16T13:12:49.409Z"
   },
   {
    "duration": 5,
    "start_time": "2023-05-16T13:12:52.168Z"
   },
   {
    "duration": 49,
    "start_time": "2023-05-16T13:14:13.220Z"
   },
   {
    "duration": 347,
    "start_time": "2023-05-16T13:14:24.649Z"
   },
   {
    "duration": 3,
    "start_time": "2023-05-16T13:14:25.061Z"
   },
   {
    "duration": 2334,
    "start_time": "2023-05-16T13:14:31.470Z"
   },
   {
    "duration": 4,
    "start_time": "2023-05-16T13:14:33.807Z"
   },
   {
    "duration": 53,
    "start_time": "2023-05-16T13:14:33.813Z"
   },
   {
    "duration": 6,
    "start_time": "2023-05-16T13:14:33.868Z"
   },
   {
    "duration": 6,
    "start_time": "2023-05-16T13:14:33.877Z"
   },
   {
    "duration": 21,
    "start_time": "2023-05-16T13:14:33.885Z"
   },
   {
    "duration": 38,
    "start_time": "2023-05-16T13:14:33.909Z"
   },
   {
    "duration": 7,
    "start_time": "2023-05-16T13:14:33.949Z"
   },
   {
    "duration": 12,
    "start_time": "2023-05-16T13:14:33.958Z"
   },
   {
    "duration": 204,
    "start_time": "2023-05-16T13:14:33.972Z"
   },
   {
    "duration": 128,
    "start_time": "2023-05-16T13:14:34.178Z"
   },
   {
    "duration": 188,
    "start_time": "2023-05-16T13:14:34.308Z"
   },
   {
    "duration": 111,
    "start_time": "2023-05-16T13:14:34.498Z"
   },
   {
    "duration": 196,
    "start_time": "2023-05-16T13:14:34.613Z"
   },
   {
    "duration": 124,
    "start_time": "2023-05-16T13:14:34.811Z"
   },
   {
    "duration": 182,
    "start_time": "2023-05-16T13:14:34.936Z"
   },
   {
    "duration": 130,
    "start_time": "2023-05-16T13:14:35.120Z"
   },
   {
    "duration": 163,
    "start_time": "2023-05-16T13:14:35.252Z"
   },
   {
    "duration": 5,
    "start_time": "2023-05-16T13:14:35.417Z"
   },
   {
    "duration": 16,
    "start_time": "2023-05-16T13:14:35.424Z"
   },
   {
    "duration": 24,
    "start_time": "2023-05-16T13:14:35.442Z"
   },
   {
    "duration": 13,
    "start_time": "2023-05-16T13:14:35.468Z"
   },
   {
    "duration": 18,
    "start_time": "2023-05-16T13:14:35.483Z"
   },
   {
    "duration": 27,
    "start_time": "2023-05-16T13:14:35.502Z"
   },
   {
    "duration": 168,
    "start_time": "2023-05-16T13:14:35.531Z"
   },
   {
    "duration": 7,
    "start_time": "2023-05-16T13:14:35.701Z"
   },
   {
    "duration": 6,
    "start_time": "2023-05-16T13:14:35.710Z"
   },
   {
    "duration": 25,
    "start_time": "2023-05-16T13:14:35.717Z"
   },
   {
    "duration": 25,
    "start_time": "2023-05-16T13:14:35.744Z"
   },
   {
    "duration": 29,
    "start_time": "2023-05-16T13:14:35.770Z"
   },
   {
    "duration": 29,
    "start_time": "2023-05-16T13:14:35.801Z"
   },
   {
    "duration": 32,
    "start_time": "2023-05-16T13:14:35.832Z"
   },
   {
    "duration": 9,
    "start_time": "2023-05-16T13:14:35.865Z"
   },
   {
    "duration": 6,
    "start_time": "2023-05-16T13:21:55.982Z"
   },
   {
    "duration": 7,
    "start_time": "2023-05-16T13:24:19.022Z"
   },
   {
    "duration": 34,
    "start_time": "2023-05-16T13:24:22.455Z"
   },
   {
    "duration": 4,
    "start_time": "2023-05-16T13:24:53.323Z"
   },
   {
    "duration": 38,
    "start_time": "2023-05-16T13:24:53.901Z"
   },
   {
    "duration": 3,
    "start_time": "2023-05-16T13:25:22.685Z"
   },
   {
    "duration": 7,
    "start_time": "2023-05-16T13:25:23.154Z"
   },
   {
    "duration": 4,
    "start_time": "2023-05-16T13:25:25.356Z"
   },
   {
    "duration": 64,
    "start_time": "2023-05-16T13:25:25.984Z"
   },
   {
    "duration": 5,
    "start_time": "2023-05-16T13:26:36.378Z"
   },
   {
    "duration": 48,
    "start_time": "2023-05-16T13:26:39.257Z"
   },
   {
    "duration": 5,
    "start_time": "2023-05-16T13:27:11.688Z"
   },
   {
    "duration": 51863,
    "start_time": "2023-05-16T13:27:14.082Z"
   },
   {
    "duration": 100507,
    "start_time": "2023-05-16T13:29:30.197Z"
   },
   {
    "duration": 0,
    "start_time": "2023-05-16T13:31:10.706Z"
   },
   {
    "duration": 9,
    "start_time": "2023-05-16T13:31:15.226Z"
   },
   {
    "duration": 90931,
    "start_time": "2023-05-16T13:31:17.197Z"
   },
   {
    "duration": 8,
    "start_time": "2023-05-16T13:32:49.226Z"
   },
   {
    "duration": 118089,
    "start_time": "2023-05-16T13:32:52.450Z"
   },
   {
    "duration": 93899,
    "start_time": "2023-05-16T13:34:51.798Z"
   },
   {
    "duration": 56,
    "start_time": "2023-05-16T13:36:45.750Z"
   },
   {
    "duration": 175762,
    "start_time": "2023-05-16T13:36:53.951Z"
   },
   {
    "duration": 9,
    "start_time": "2023-05-16T13:40:35.085Z"
   },
   {
    "duration": 66,
    "start_time": "2023-05-16T13:40:37.884Z"
   },
   {
    "duration": 7,
    "start_time": "2023-05-16T13:40:46.052Z"
   },
   {
    "duration": 163766,
    "start_time": "2023-05-16T13:40:47.951Z"
   },
   {
    "duration": 5,
    "start_time": "2023-05-16T13:46:11.520Z"
   },
   {
    "duration": 179550,
    "start_time": "2023-05-16T13:46:14.358Z"
   },
   {
    "duration": 19,
    "start_time": "2023-05-16T13:49:57.455Z"
   },
   {
    "duration": 4,
    "start_time": "2023-05-16T13:49:57.940Z"
   },
   {
    "duration": 2643,
    "start_time": "2023-05-16T13:50:20.408Z"
   },
   {
    "duration": 5,
    "start_time": "2023-05-16T13:50:23.054Z"
   },
   {
    "duration": 67,
    "start_time": "2023-05-16T13:50:23.061Z"
   },
   {
    "duration": 5,
    "start_time": "2023-05-16T13:50:23.131Z"
   },
   {
    "duration": 10,
    "start_time": "2023-05-16T13:50:23.138Z"
   },
   {
    "duration": 16,
    "start_time": "2023-05-16T13:50:23.150Z"
   },
   {
    "duration": 43,
    "start_time": "2023-05-16T13:50:23.168Z"
   },
   {
    "duration": 7,
    "start_time": "2023-05-16T13:50:23.213Z"
   },
   {
    "duration": 9,
    "start_time": "2023-05-16T13:50:23.222Z"
   },
   {
    "duration": 203,
    "start_time": "2023-05-16T13:50:23.234Z"
   },
   {
    "duration": 133,
    "start_time": "2023-05-16T13:50:23.441Z"
   },
   {
    "duration": 204,
    "start_time": "2023-05-16T13:50:23.577Z"
   },
   {
    "duration": 122,
    "start_time": "2023-05-16T13:50:23.783Z"
   },
   {
    "duration": 197,
    "start_time": "2023-05-16T13:50:23.908Z"
   },
   {
    "duration": 131,
    "start_time": "2023-05-16T13:50:24.108Z"
   },
   {
    "duration": 177,
    "start_time": "2023-05-16T13:50:24.241Z"
   },
   {
    "duration": 138,
    "start_time": "2023-05-16T13:50:24.420Z"
   },
   {
    "duration": 164,
    "start_time": "2023-05-16T13:50:24.560Z"
   },
   {
    "duration": 7,
    "start_time": "2023-05-16T13:50:24.727Z"
   },
   {
    "duration": 37,
    "start_time": "2023-05-16T13:50:24.736Z"
   },
   {
    "duration": 28,
    "start_time": "2023-05-16T13:50:24.775Z"
   },
   {
    "duration": 16,
    "start_time": "2023-05-16T13:50:24.805Z"
   },
   {
    "duration": 8,
    "start_time": "2023-05-16T13:50:24.824Z"
   },
   {
    "duration": 19,
    "start_time": "2023-05-16T13:50:24.834Z"
   },
   {
    "duration": 189,
    "start_time": "2023-05-16T13:50:24.855Z"
   },
   {
    "duration": 9,
    "start_time": "2023-05-16T13:50:25.046Z"
   },
   {
    "duration": 19,
    "start_time": "2023-05-16T13:50:25.058Z"
   },
   {
    "duration": 30,
    "start_time": "2023-05-16T13:50:25.081Z"
   },
   {
    "duration": 22,
    "start_time": "2023-05-16T13:50:25.112Z"
   },
   {
    "duration": 61,
    "start_time": "2023-05-16T13:50:25.137Z"
   },
   {
    "duration": 45,
    "start_time": "2023-05-16T13:50:25.200Z"
   },
   {
    "duration": 5,
    "start_time": "2023-05-16T13:50:25.248Z"
   },
   {
    "duration": 10,
    "start_time": "2023-05-16T13:50:25.255Z"
   },
   {
    "duration": 20,
    "start_time": "2023-05-16T13:50:25.267Z"
   },
   {
    "duration": 16,
    "start_time": "2023-05-16T13:50:25.289Z"
   },
   {
    "duration": 186663,
    "start_time": "2023-05-16T13:50:25.312Z"
   },
   {
    "duration": 6,
    "start_time": "2023-05-16T14:04:04.062Z"
   },
   {
    "duration": 173049,
    "start_time": "2023-05-16T14:04:06.104Z"
   },
   {
    "duration": 6,
    "start_time": "2023-05-16T14:10:00.067Z"
   },
   {
    "duration": 152381,
    "start_time": "2023-05-16T14:10:01.716Z"
   },
   {
    "duration": 5,
    "start_time": "2023-05-16T14:17:36.505Z"
   },
   {
    "duration": 102489,
    "start_time": "2023-05-16T14:17:38.156Z"
   },
   {
    "duration": 5,
    "start_time": "2023-05-16T14:19:21.661Z"
   },
   {
    "duration": 35,
    "start_time": "2023-05-16T14:19:23.448Z"
   },
   {
    "duration": 139746,
    "start_time": "2023-05-16T14:19:33.554Z"
   },
   {
    "duration": 20741,
    "start_time": "2023-05-16T14:21:53.302Z"
   },
   {
    "duration": 4,
    "start_time": "2023-05-16T14:22:15.429Z"
   },
   {
    "duration": 289710,
    "start_time": "2023-05-16T14:22:16.218Z"
   },
   {
    "duration": 29919,
    "start_time": "2023-05-16T14:33:26.114Z"
   },
   {
    "duration": 314049,
    "start_time": "2023-05-16T14:34:07.551Z"
   },
   {
    "duration": 6578,
    "start_time": "2023-05-16T14:39:21.612Z"
   },
   {
    "duration": 11717,
    "start_time": "2023-05-16T14:39:49.100Z"
   },
   {
    "duration": 3,
    "start_time": "2023-05-16T14:40:05.930Z"
   },
   {
    "duration": 101741,
    "start_time": "2023-05-16T14:40:43.450Z"
   },
   {
    "duration": 4,
    "start_time": "2023-05-16T14:42:25.195Z"
   },
   {
    "duration": 30,
    "start_time": "2023-05-16T14:44:11.767Z"
   },
   {
    "duration": 112903,
    "start_time": "2023-05-16T14:44:17.086Z"
   },
   {
    "duration": 2905,
    "start_time": "2023-05-16T14:47:34.810Z"
   },
   {
    "duration": 5500,
    "start_time": "2023-05-16T14:47:37.725Z"
   },
   {
    "duration": 42,
    "start_time": "2023-05-16T14:47:43.227Z"
   },
   {
    "duration": 5,
    "start_time": "2023-05-16T14:47:43.271Z"
   },
   {
    "duration": 27,
    "start_time": "2023-05-16T14:47:43.278Z"
   },
   {
    "duration": 20,
    "start_time": "2023-05-16T14:47:43.309Z"
   },
   {
    "duration": 28,
    "start_time": "2023-05-16T14:47:43.331Z"
   },
   {
    "duration": 7,
    "start_time": "2023-05-16T14:47:43.361Z"
   },
   {
    "duration": 8,
    "start_time": "2023-05-16T14:47:43.370Z"
   },
   {
    "duration": 209,
    "start_time": "2023-05-16T14:47:43.393Z"
   },
   {
    "duration": 145,
    "start_time": "2023-05-16T14:47:43.608Z"
   },
   {
    "duration": 195,
    "start_time": "2023-05-16T14:47:43.755Z"
   },
   {
    "duration": 110,
    "start_time": "2023-05-16T14:47:43.955Z"
   },
   {
    "duration": 233,
    "start_time": "2023-05-16T14:47:44.070Z"
   },
   {
    "duration": 135,
    "start_time": "2023-05-16T14:47:44.313Z"
   },
   {
    "duration": 389,
    "start_time": "2023-05-16T14:47:44.450Z"
   },
   {
    "duration": 157,
    "start_time": "2023-05-16T14:47:44.842Z"
   },
   {
    "duration": 182,
    "start_time": "2023-05-16T14:47:45.008Z"
   },
   {
    "duration": 8,
    "start_time": "2023-05-16T14:47:45.192Z"
   },
   {
    "duration": 8,
    "start_time": "2023-05-16T14:47:45.202Z"
   },
   {
    "duration": 13,
    "start_time": "2023-05-16T14:47:45.214Z"
   },
   {
    "duration": 14,
    "start_time": "2023-05-16T14:47:45.229Z"
   },
   {
    "duration": 22,
    "start_time": "2023-05-16T14:47:45.245Z"
   },
   {
    "duration": 17,
    "start_time": "2023-05-16T14:47:45.270Z"
   },
   {
    "duration": 217,
    "start_time": "2023-05-16T14:47:45.289Z"
   },
   {
    "duration": 8,
    "start_time": "2023-05-16T14:47:45.508Z"
   },
   {
    "duration": 5,
    "start_time": "2023-05-16T14:47:45.518Z"
   },
   {
    "duration": 14,
    "start_time": "2023-05-16T14:47:45.525Z"
   },
   {
    "duration": 6,
    "start_time": "2023-05-16T14:47:45.541Z"
   },
   {
    "duration": 54,
    "start_time": "2023-05-16T14:47:45.549Z"
   },
   {
    "duration": 31,
    "start_time": "2023-05-16T14:47:45.607Z"
   },
   {
    "duration": 4,
    "start_time": "2023-05-16T14:47:45.640Z"
   },
   {
    "duration": 12,
    "start_time": "2023-05-16T14:47:45.645Z"
   },
   {
    "duration": 5,
    "start_time": "2023-05-16T14:47:45.659Z"
   },
   {
    "duration": 17,
    "start_time": "2023-05-16T14:47:45.688Z"
   },
   {
    "duration": 184412,
    "start_time": "2023-05-16T14:47:45.708Z"
   },
   {
    "duration": 4,
    "start_time": "2023-05-16T14:50:50.123Z"
   },
   {
    "duration": 494417,
    "start_time": "2023-05-16T14:50:50.130Z"
   },
   {
    "duration": 628878,
    "start_time": "2023-05-16T14:59:04.556Z"
   },
   {
    "duration": 724963,
    "start_time": "2023-05-16T15:09:33.436Z"
   },
   {
    "duration": 4,
    "start_time": "2023-05-16T15:22:31.338Z"
   },
   {
    "duration": 56694,
    "start_time": "2023-05-16T15:22:35.721Z"
   },
   {
    "duration": 1954902,
    "start_time": "2023-05-16T15:24:01.150Z"
   },
   {
    "duration": 14,
    "start_time": "2023-05-16T15:56:40.315Z"
   },
   {
    "duration": 3325840,
    "start_time": "2023-05-16T15:56:40.954Z"
   },
   {
    "duration": 6,
    "start_time": "2023-05-16T16:52:06.801Z"
   },
   {
    "duration": 409228,
    "start_time": "2023-05-16T16:53:56.006Z"
   },
   {
    "duration": 411869,
    "start_time": "2023-05-16T17:00:45.236Z"
   },
   {
    "duration": 593802,
    "start_time": "2023-05-16T17:07:37.110Z"
   },
   {
    "duration": 431193,
    "start_time": "2023-05-16T17:17:30.914Z"
   },
   {
    "duration": 5,
    "start_time": "2023-05-16T17:24:42.115Z"
   },
   {
    "duration": 452596,
    "start_time": "2023-05-16T17:24:42.122Z"
   },
   {
    "duration": 22,
    "start_time": "2023-05-16T17:32:14.725Z"
   },
   {
    "duration": 7,
    "start_time": "2023-05-16T17:32:14.749Z"
   },
   {
    "duration": 420,
    "start_time": "2023-05-16T17:32:14.759Z"
   },
   {
    "duration": 0,
    "start_time": "2023-05-16T17:32:15.181Z"
   },
   {
    "duration": 21,
    "start_time": "2023-05-16T17:32:41.917Z"
   },
   {
    "duration": 15,
    "start_time": "2023-05-16T17:33:03.549Z"
   },
   {
    "duration": 18,
    "start_time": "2023-05-16T17:33:10.018Z"
   },
   {
    "duration": 509,
    "start_time": "2023-05-16T17:33:17.356Z"
   },
   {
    "duration": 63,
    "start_time": "2023-05-17T04:11:21.871Z"
   },
   {
    "duration": 3361,
    "start_time": "2023-05-17T04:23:43.711Z"
   },
   {
    "duration": 5480,
    "start_time": "2023-05-17T04:23:47.075Z"
   },
   {
    "duration": 99,
    "start_time": "2023-05-17T04:23:52.557Z"
   },
   {
    "duration": 3,
    "start_time": "2023-05-17T04:23:52.658Z"
   },
   {
    "duration": 4,
    "start_time": "2023-05-17T04:23:52.664Z"
   },
   {
    "duration": 11,
    "start_time": "2023-05-17T04:23:52.669Z"
   },
   {
    "duration": 58,
    "start_time": "2023-05-17T04:23:52.682Z"
   },
   {
    "duration": 5,
    "start_time": "2023-05-17T04:23:52.741Z"
   },
   {
    "duration": 7,
    "start_time": "2023-05-17T04:23:52.747Z"
   },
   {
    "duration": 184,
    "start_time": "2023-05-17T04:23:52.755Z"
   },
   {
    "duration": 112,
    "start_time": "2023-05-17T04:23:52.941Z"
   },
   {
    "duration": 159,
    "start_time": "2023-05-17T04:23:53.055Z"
   },
   {
    "duration": 79,
    "start_time": "2023-05-17T04:23:53.216Z"
   },
   {
    "duration": 143,
    "start_time": "2023-05-17T04:23:53.304Z"
   },
   {
    "duration": 100,
    "start_time": "2023-05-17T04:23:53.448Z"
   },
   {
    "duration": 264,
    "start_time": "2023-05-17T04:23:53.551Z"
   },
   {
    "duration": 102,
    "start_time": "2023-05-17T04:23:53.817Z"
   },
   {
    "duration": 123,
    "start_time": "2023-05-17T04:23:53.921Z"
   },
   {
    "duration": 4,
    "start_time": "2023-05-17T04:23:54.046Z"
   },
   {
    "duration": 20,
    "start_time": "2023-05-17T04:23:54.051Z"
   },
   {
    "duration": 7,
    "start_time": "2023-05-17T04:23:54.073Z"
   },
   {
    "duration": 39,
    "start_time": "2023-05-17T04:23:54.082Z"
   },
   {
    "duration": 6,
    "start_time": "2023-05-17T04:23:54.122Z"
   },
   {
    "duration": 7,
    "start_time": "2023-05-17T04:23:54.129Z"
   },
   {
    "duration": 139,
    "start_time": "2023-05-17T04:23:54.138Z"
   },
   {
    "duration": 36,
    "start_time": "2023-05-17T04:23:54.279Z"
   },
   {
    "duration": 6,
    "start_time": "2023-05-17T04:23:54.317Z"
   },
   {
    "duration": 6,
    "start_time": "2023-05-17T04:23:54.324Z"
   },
   {
    "duration": 5,
    "start_time": "2023-05-17T04:23:54.331Z"
   },
   {
    "duration": 18,
    "start_time": "2023-05-17T04:23:54.337Z"
   },
   {
    "duration": 26,
    "start_time": "2023-05-17T04:23:54.356Z"
   },
   {
    "duration": 38,
    "start_time": "2023-05-17T04:23:54.388Z"
   },
   {
    "duration": 7,
    "start_time": "2023-05-17T04:23:54.428Z"
   },
   {
    "duration": 5,
    "start_time": "2023-05-17T04:23:54.437Z"
   },
   {
    "duration": 11,
    "start_time": "2023-05-17T04:23:54.443Z"
   },
   {
    "duration": 266166,
    "start_time": "2023-05-17T04:23:54.455Z"
   },
   {
    "duration": 3,
    "start_time": "2023-05-17T04:28:20.622Z"
   },
   {
    "duration": 475187,
    "start_time": "2023-05-17T04:28:20.627Z"
   },
   {
    "duration": 539411,
    "start_time": "2023-05-17T04:36:15.819Z"
   },
   {
    "duration": 458479,
    "start_time": "2023-05-17T04:45:15.231Z"
   },
   {
    "duration": 8,
    "start_time": "2023-05-17T04:52:53.714Z"
   },
   {
    "duration": 3561733,
    "start_time": "2023-05-17T04:52:53.785Z"
   },
   {
    "duration": 5,
    "start_time": "2023-05-17T05:52:15.522Z"
   },
   {
    "duration": 715353,
    "start_time": "2023-05-17T05:52:15.532Z"
   },
   {
    "duration": 853712,
    "start_time": "2023-05-17T06:04:10.886Z"
   },
   {
    "duration": 713118,
    "start_time": "2023-05-17T06:18:24.600Z"
   },
   {
    "duration": 681771,
    "start_time": "2023-05-17T06:30:17.727Z"
   },
   {
    "duration": 11,
    "start_time": "2023-05-17T06:41:39.507Z"
   },
   {
    "duration": 769328,
    "start_time": "2023-05-17T06:41:39.523Z"
   },
   {
    "duration": 13,
    "start_time": "2023-05-17T06:54:28.895Z"
   },
   {
    "duration": 30,
    "start_time": "2023-05-17T06:54:28.910Z"
   },
   {
    "duration": 6,
    "start_time": "2023-05-17T06:54:28.942Z"
   },
   {
    "duration": 371,
    "start_time": "2023-05-17T06:54:28.949Z"
   },
   {
    "duration": 3586,
    "start_time": "2023-05-17T07:18:52.979Z"
   },
   {
    "duration": 4954,
    "start_time": "2023-05-17T07:18:56.567Z"
   },
   {
    "duration": 95,
    "start_time": "2023-05-17T07:19:01.523Z"
   },
   {
    "duration": 4,
    "start_time": "2023-05-17T07:19:01.620Z"
   },
   {
    "duration": 13,
    "start_time": "2023-05-17T07:19:01.627Z"
   },
   {
    "duration": 28,
    "start_time": "2023-05-17T07:19:01.641Z"
   },
   {
    "duration": 49,
    "start_time": "2023-05-17T07:19:01.671Z"
   },
   {
    "duration": 45,
    "start_time": "2023-05-17T07:19:01.722Z"
   },
   {
    "duration": 29,
    "start_time": "2023-05-17T07:19:01.768Z"
   },
   {
    "duration": 219,
    "start_time": "2023-05-17T07:19:01.800Z"
   },
   {
    "duration": 104,
    "start_time": "2023-05-17T07:19:02.020Z"
   },
   {
    "duration": 150,
    "start_time": "2023-05-17T07:19:02.126Z"
   },
   {
    "duration": 94,
    "start_time": "2023-05-17T07:19:02.277Z"
   },
   {
    "duration": 173,
    "start_time": "2023-05-17T07:19:02.374Z"
   },
   {
    "duration": 109,
    "start_time": "2023-05-17T07:19:02.549Z"
   },
   {
    "duration": 293,
    "start_time": "2023-05-17T07:19:02.660Z"
   },
   {
    "duration": 99,
    "start_time": "2023-05-17T07:19:02.954Z"
   },
   {
    "duration": 135,
    "start_time": "2023-05-17T07:19:03.054Z"
   },
   {
    "duration": 7,
    "start_time": "2023-05-17T07:19:03.196Z"
   },
   {
    "duration": 26,
    "start_time": "2023-05-17T07:19:03.205Z"
   },
   {
    "duration": 16,
    "start_time": "2023-05-17T07:19:03.232Z"
   },
   {
    "duration": 11,
    "start_time": "2023-05-17T07:19:03.250Z"
   },
   {
    "duration": 16,
    "start_time": "2023-05-17T07:19:03.262Z"
   },
   {
    "duration": 36,
    "start_time": "2023-05-17T07:19:03.280Z"
   },
   {
    "duration": 150,
    "start_time": "2023-05-17T07:19:03.318Z"
   },
   {
    "duration": 6,
    "start_time": "2023-05-17T07:19:03.469Z"
   },
   {
    "duration": 19,
    "start_time": "2023-05-17T07:19:03.476Z"
   },
   {
    "duration": 37,
    "start_time": "2023-05-17T07:19:03.497Z"
   },
   {
    "duration": 11,
    "start_time": "2023-05-17T07:19:03.536Z"
   },
   {
    "duration": 42,
    "start_time": "2023-05-17T07:19:03.548Z"
   },
   {
    "duration": 34,
    "start_time": "2023-05-17T07:19:03.592Z"
   },
   {
    "duration": 18,
    "start_time": "2023-05-17T07:19:03.627Z"
   },
   {
    "duration": 22,
    "start_time": "2023-05-17T07:19:03.647Z"
   },
   {
    "duration": 20,
    "start_time": "2023-05-17T07:19:03.671Z"
   },
   {
    "duration": 38,
    "start_time": "2023-05-17T07:19:03.692Z"
   },
   {
    "duration": 4,
    "start_time": "2023-05-17T07:19:10.430Z"
   },
   {
    "duration": 181513,
    "start_time": "2023-05-17T07:19:15.807Z"
   },
   {
    "duration": 203794,
    "start_time": "2023-05-17T07:22:17.322Z"
   },
   {
    "duration": 195304,
    "start_time": "2023-05-17T07:25:41.118Z"
   },
   {
    "duration": 181906,
    "start_time": "2023-05-17T07:28:56.494Z"
   },
   {
    "duration": 3,
    "start_time": "2023-05-17T07:34:14.678Z"
   },
   {
    "duration": 56436,
    "start_time": "2023-05-17T07:34:15.983Z"
   },
   {
    "duration": 209776,
    "start_time": "2023-05-17T07:35:13.051Z"
   },
   {
    "duration": 2,
    "start_time": "2023-05-17T07:39:28.976Z"
   },
   {
    "duration": 207892,
    "start_time": "2023-05-17T07:39:29.508Z"
   },
   {
    "duration": 229650,
    "start_time": "2023-05-17T07:44:22.446Z"
   },
   {
    "duration": 18,
    "start_time": "2023-05-17T07:49:33.038Z"
   },
   {
    "duration": 31,
    "start_time": "2023-05-17T07:49:43.211Z"
   },
   {
    "duration": 7,
    "start_time": "2023-05-17T07:49:47.519Z"
   },
   {
    "duration": 3,
    "start_time": "2023-05-17T07:49:48.261Z"
   },
   {
    "duration": 378,
    "start_time": "2023-05-17T07:49:49.058Z"
   },
   {
    "duration": 216,
    "start_time": "2023-05-17T08:22:28.019Z"
   }
  ],
  "kernelspec": {
   "display_name": "Python 3 (ipykernel)",
   "language": "python",
   "name": "python3"
  },
  "language_info": {
   "codemirror_mode": {
    "name": "ipython",
    "version": 3
   },
   "file_extension": ".py",
   "mimetype": "text/x-python",
   "name": "python",
   "nbconvert_exporter": "python",
   "pygments_lexer": "ipython3",
   "version": "3.9.12"
  },
  "toc": {
   "base_numbering": 1,
   "nav_menu": {},
   "number_sections": false,
   "sideBar": true,
   "skip_h1_title": false,
   "title_cell": "Содержание",
   "title_sidebar": "Contents",
   "toc_cell": true,
   "toc_position": {},
   "toc_section_display": true,
   "toc_window_display": false
  },
  "varInspector": {
   "cols": {
    "lenName": 16,
    "lenType": 16,
    "lenVar": 40
   },
   "kernels_config": {
    "python": {
     "delete_cmd_postfix": "",
     "delete_cmd_prefix": "del ",
     "library": "var_list.py",
     "varRefreshCmd": "print(var_dic_list())"
    },
    "r": {
     "delete_cmd_postfix": ") ",
     "delete_cmd_prefix": "rm(",
     "library": "var_list.r",
     "varRefreshCmd": "cat(var_dic_list()) "
    }
   },
   "types_to_exclude": [
    "module",
    "function",
    "builtin_function_or_method",
    "instance",
    "_Feature"
   ],
   "window_display": false
  }
 },
 "nbformat": 4,
 "nbformat_minor": 5
}
