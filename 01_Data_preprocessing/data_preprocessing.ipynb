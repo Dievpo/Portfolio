{
 "cells": [
  {
   "cell_type": "markdown",
   "id": "c81daeeb",
   "metadata": {
    "deletable": false,
    "id": "c81daeeb"
   },
   "source": [
    "# Исследование надежности заемщиков\n"
   ]
  },
  {
   "cell_type": "markdown",
   "id": "744d7639",
   "metadata": {
    "deletable": false,
    "id": "744d7639"
   },
   "source": [
    "## Откройте таблицу и изучите общую информацию о данных"
   ]
  },
  {
   "cell_type": "markdown",
   "id": "e7a14c31",
   "metadata": {
    "deletable": false,
    "id": "e7a14c31"
   },
   "source": [
    "**Задание 1. Импортируйте библиотеку pandas. Считайте данные из csv-файла в датафрейм и сохраните в переменную `data`. Путь к файлу:**\n",
    "\n",
    "`/datasets/data.csv`"
   ]
  },
  {
   "cell_type": "code",
   "execution_count": 4,
   "id": "7bcf75c9",
   "metadata": {
    "deletable": false,
    "id": "7bcf75c9"
   },
   "outputs": [],
   "source": [
    "import pandas as pd\n",
    "\n",
    "try:\n",
    "    data = pd.read_csv('/datasets/data.csv')\n",
    "except:\n",
    "    data = pd.read_csv('https://code.s3.yandex.net/datasets/data.csv')"
   ]
  },
  {
   "cell_type": "markdown",
   "id": "b8038fe3",
   "metadata": {
    "deletable": false,
    "id": "b8038fe3"
   },
   "source": [
    "**Задание 2. Выведите первые 20 строчек датафрейма `data` на экран.**"
   ]
  },
  {
   "cell_type": "code",
   "execution_count": 5,
   "id": "2a7cab99",
   "metadata": {
    "deletable": false,
    "id": "2a7cab99",
    "outputId": "1a8f3ef2-d323-4ec2-ddf7-89670b5944c4"
   },
   "outputs": [
    {
     "data": {
      "text/html": [
       "<div>\n",
       "<style scoped>\n",
       "    .dataframe tbody tr th:only-of-type {\n",
       "        vertical-align: middle;\n",
       "    }\n",
       "\n",
       "    .dataframe tbody tr th {\n",
       "        vertical-align: top;\n",
       "    }\n",
       "\n",
       "    .dataframe thead th {\n",
       "        text-align: right;\n",
       "    }\n",
       "</style>\n",
       "<table border=\"1\" class=\"dataframe\">\n",
       "  <thead>\n",
       "    <tr style=\"text-align: right;\">\n",
       "      <th></th>\n",
       "      <th>children</th>\n",
       "      <th>days_employed</th>\n",
       "      <th>dob_years</th>\n",
       "      <th>education</th>\n",
       "      <th>education_id</th>\n",
       "      <th>family_status</th>\n",
       "      <th>family_status_id</th>\n",
       "      <th>gender</th>\n",
       "      <th>income_type</th>\n",
       "      <th>debt</th>\n",
       "      <th>total_income</th>\n",
       "      <th>purpose</th>\n",
       "    </tr>\n",
       "  </thead>\n",
       "  <tbody>\n",
       "    <tr>\n",
       "      <th>0</th>\n",
       "      <td>1</td>\n",
       "      <td>-8437.673028</td>\n",
       "      <td>42</td>\n",
       "      <td>высшее</td>\n",
       "      <td>0</td>\n",
       "      <td>женат / замужем</td>\n",
       "      <td>0</td>\n",
       "      <td>F</td>\n",
       "      <td>сотрудник</td>\n",
       "      <td>0</td>\n",
       "      <td>253875.639453</td>\n",
       "      <td>покупка жилья</td>\n",
       "    </tr>\n",
       "    <tr>\n",
       "      <th>1</th>\n",
       "      <td>1</td>\n",
       "      <td>-4024.803754</td>\n",
       "      <td>36</td>\n",
       "      <td>среднее</td>\n",
       "      <td>1</td>\n",
       "      <td>женат / замужем</td>\n",
       "      <td>0</td>\n",
       "      <td>F</td>\n",
       "      <td>сотрудник</td>\n",
       "      <td>0</td>\n",
       "      <td>112080.014102</td>\n",
       "      <td>приобретение автомобиля</td>\n",
       "    </tr>\n",
       "    <tr>\n",
       "      <th>2</th>\n",
       "      <td>0</td>\n",
       "      <td>-5623.422610</td>\n",
       "      <td>33</td>\n",
       "      <td>Среднее</td>\n",
       "      <td>1</td>\n",
       "      <td>женат / замужем</td>\n",
       "      <td>0</td>\n",
       "      <td>M</td>\n",
       "      <td>сотрудник</td>\n",
       "      <td>0</td>\n",
       "      <td>145885.952297</td>\n",
       "      <td>покупка жилья</td>\n",
       "    </tr>\n",
       "    <tr>\n",
       "      <th>3</th>\n",
       "      <td>3</td>\n",
       "      <td>-4124.747207</td>\n",
       "      <td>32</td>\n",
       "      <td>среднее</td>\n",
       "      <td>1</td>\n",
       "      <td>женат / замужем</td>\n",
       "      <td>0</td>\n",
       "      <td>M</td>\n",
       "      <td>сотрудник</td>\n",
       "      <td>0</td>\n",
       "      <td>267628.550329</td>\n",
       "      <td>дополнительное образование</td>\n",
       "    </tr>\n",
       "    <tr>\n",
       "      <th>4</th>\n",
       "      <td>0</td>\n",
       "      <td>340266.072047</td>\n",
       "      <td>53</td>\n",
       "      <td>среднее</td>\n",
       "      <td>1</td>\n",
       "      <td>гражданский брак</td>\n",
       "      <td>1</td>\n",
       "      <td>F</td>\n",
       "      <td>пенсионер</td>\n",
       "      <td>0</td>\n",
       "      <td>158616.077870</td>\n",
       "      <td>сыграть свадьбу</td>\n",
       "    </tr>\n",
       "    <tr>\n",
       "      <th>5</th>\n",
       "      <td>0</td>\n",
       "      <td>-926.185831</td>\n",
       "      <td>27</td>\n",
       "      <td>высшее</td>\n",
       "      <td>0</td>\n",
       "      <td>гражданский брак</td>\n",
       "      <td>1</td>\n",
       "      <td>M</td>\n",
       "      <td>компаньон</td>\n",
       "      <td>0</td>\n",
       "      <td>255763.565419</td>\n",
       "      <td>покупка жилья</td>\n",
       "    </tr>\n",
       "    <tr>\n",
       "      <th>6</th>\n",
       "      <td>0</td>\n",
       "      <td>-2879.202052</td>\n",
       "      <td>43</td>\n",
       "      <td>высшее</td>\n",
       "      <td>0</td>\n",
       "      <td>женат / замужем</td>\n",
       "      <td>0</td>\n",
       "      <td>F</td>\n",
       "      <td>компаньон</td>\n",
       "      <td>0</td>\n",
       "      <td>240525.971920</td>\n",
       "      <td>операции с жильем</td>\n",
       "    </tr>\n",
       "    <tr>\n",
       "      <th>7</th>\n",
       "      <td>0</td>\n",
       "      <td>-152.779569</td>\n",
       "      <td>50</td>\n",
       "      <td>СРЕДНЕЕ</td>\n",
       "      <td>1</td>\n",
       "      <td>женат / замужем</td>\n",
       "      <td>0</td>\n",
       "      <td>M</td>\n",
       "      <td>сотрудник</td>\n",
       "      <td>0</td>\n",
       "      <td>135823.934197</td>\n",
       "      <td>образование</td>\n",
       "    </tr>\n",
       "    <tr>\n",
       "      <th>8</th>\n",
       "      <td>2</td>\n",
       "      <td>-6929.865299</td>\n",
       "      <td>35</td>\n",
       "      <td>ВЫСШЕЕ</td>\n",
       "      <td>0</td>\n",
       "      <td>гражданский брак</td>\n",
       "      <td>1</td>\n",
       "      <td>F</td>\n",
       "      <td>сотрудник</td>\n",
       "      <td>0</td>\n",
       "      <td>95856.832424</td>\n",
       "      <td>на проведение свадьбы</td>\n",
       "    </tr>\n",
       "    <tr>\n",
       "      <th>9</th>\n",
       "      <td>0</td>\n",
       "      <td>-2188.756445</td>\n",
       "      <td>41</td>\n",
       "      <td>среднее</td>\n",
       "      <td>1</td>\n",
       "      <td>женат / замужем</td>\n",
       "      <td>0</td>\n",
       "      <td>M</td>\n",
       "      <td>сотрудник</td>\n",
       "      <td>0</td>\n",
       "      <td>144425.938277</td>\n",
       "      <td>покупка жилья для семьи</td>\n",
       "    </tr>\n",
       "    <tr>\n",
       "      <th>10</th>\n",
       "      <td>2</td>\n",
       "      <td>-4171.483647</td>\n",
       "      <td>36</td>\n",
       "      <td>высшее</td>\n",
       "      <td>0</td>\n",
       "      <td>женат / замужем</td>\n",
       "      <td>0</td>\n",
       "      <td>M</td>\n",
       "      <td>компаньон</td>\n",
       "      <td>0</td>\n",
       "      <td>113943.491460</td>\n",
       "      <td>покупка недвижимости</td>\n",
       "    </tr>\n",
       "    <tr>\n",
       "      <th>11</th>\n",
       "      <td>0</td>\n",
       "      <td>-792.701887</td>\n",
       "      <td>40</td>\n",
       "      <td>среднее</td>\n",
       "      <td>1</td>\n",
       "      <td>женат / замужем</td>\n",
       "      <td>0</td>\n",
       "      <td>F</td>\n",
       "      <td>сотрудник</td>\n",
       "      <td>0</td>\n",
       "      <td>77069.234271</td>\n",
       "      <td>покупка коммерческой недвижимости</td>\n",
       "    </tr>\n",
       "    <tr>\n",
       "      <th>12</th>\n",
       "      <td>0</td>\n",
       "      <td>NaN</td>\n",
       "      <td>65</td>\n",
       "      <td>среднее</td>\n",
       "      <td>1</td>\n",
       "      <td>гражданский брак</td>\n",
       "      <td>1</td>\n",
       "      <td>M</td>\n",
       "      <td>пенсионер</td>\n",
       "      <td>0</td>\n",
       "      <td>NaN</td>\n",
       "      <td>сыграть свадьбу</td>\n",
       "    </tr>\n",
       "    <tr>\n",
       "      <th>13</th>\n",
       "      <td>0</td>\n",
       "      <td>-1846.641941</td>\n",
       "      <td>54</td>\n",
       "      <td>неоконченное высшее</td>\n",
       "      <td>2</td>\n",
       "      <td>женат / замужем</td>\n",
       "      <td>0</td>\n",
       "      <td>F</td>\n",
       "      <td>сотрудник</td>\n",
       "      <td>0</td>\n",
       "      <td>130458.228857</td>\n",
       "      <td>приобретение автомобиля</td>\n",
       "    </tr>\n",
       "    <tr>\n",
       "      <th>14</th>\n",
       "      <td>0</td>\n",
       "      <td>-1844.956182</td>\n",
       "      <td>56</td>\n",
       "      <td>высшее</td>\n",
       "      <td>0</td>\n",
       "      <td>гражданский брак</td>\n",
       "      <td>1</td>\n",
       "      <td>F</td>\n",
       "      <td>компаньон</td>\n",
       "      <td>1</td>\n",
       "      <td>165127.911772</td>\n",
       "      <td>покупка жилой недвижимости</td>\n",
       "    </tr>\n",
       "    <tr>\n",
       "      <th>15</th>\n",
       "      <td>1</td>\n",
       "      <td>-972.364419</td>\n",
       "      <td>26</td>\n",
       "      <td>среднее</td>\n",
       "      <td>1</td>\n",
       "      <td>женат / замужем</td>\n",
       "      <td>0</td>\n",
       "      <td>F</td>\n",
       "      <td>сотрудник</td>\n",
       "      <td>0</td>\n",
       "      <td>116820.904450</td>\n",
       "      <td>строительство собственной недвижимости</td>\n",
       "    </tr>\n",
       "    <tr>\n",
       "      <th>16</th>\n",
       "      <td>0</td>\n",
       "      <td>-1719.934226</td>\n",
       "      <td>35</td>\n",
       "      <td>среднее</td>\n",
       "      <td>1</td>\n",
       "      <td>женат / замужем</td>\n",
       "      <td>0</td>\n",
       "      <td>F</td>\n",
       "      <td>сотрудник</td>\n",
       "      <td>0</td>\n",
       "      <td>289202.704229</td>\n",
       "      <td>недвижимость</td>\n",
       "    </tr>\n",
       "    <tr>\n",
       "      <th>17</th>\n",
       "      <td>0</td>\n",
       "      <td>-2369.999720</td>\n",
       "      <td>33</td>\n",
       "      <td>высшее</td>\n",
       "      <td>0</td>\n",
       "      <td>гражданский брак</td>\n",
       "      <td>1</td>\n",
       "      <td>M</td>\n",
       "      <td>сотрудник</td>\n",
       "      <td>0</td>\n",
       "      <td>90410.586745</td>\n",
       "      <td>строительство недвижимости</td>\n",
       "    </tr>\n",
       "    <tr>\n",
       "      <th>18</th>\n",
       "      <td>0</td>\n",
       "      <td>400281.136913</td>\n",
       "      <td>53</td>\n",
       "      <td>среднее</td>\n",
       "      <td>1</td>\n",
       "      <td>вдовец / вдова</td>\n",
       "      <td>2</td>\n",
       "      <td>F</td>\n",
       "      <td>пенсионер</td>\n",
       "      <td>0</td>\n",
       "      <td>56823.777243</td>\n",
       "      <td>на покупку подержанного автомобиля</td>\n",
       "    </tr>\n",
       "    <tr>\n",
       "      <th>19</th>\n",
       "      <td>0</td>\n",
       "      <td>-10038.818549</td>\n",
       "      <td>48</td>\n",
       "      <td>СРЕДНЕЕ</td>\n",
       "      <td>1</td>\n",
       "      <td>в разводе</td>\n",
       "      <td>3</td>\n",
       "      <td>F</td>\n",
       "      <td>сотрудник</td>\n",
       "      <td>0</td>\n",
       "      <td>242831.107982</td>\n",
       "      <td>на покупку своего автомобиля</td>\n",
       "    </tr>\n",
       "  </tbody>\n",
       "</table>\n",
       "</div>"
      ],
      "text/plain": [
       "    children  days_employed  dob_years            education  education_id  \\\n",
       "0          1   -8437.673028         42               высшее             0   \n",
       "1          1   -4024.803754         36              среднее             1   \n",
       "2          0   -5623.422610         33              Среднее             1   \n",
       "3          3   -4124.747207         32              среднее             1   \n",
       "4          0  340266.072047         53              среднее             1   \n",
       "5          0    -926.185831         27               высшее             0   \n",
       "6          0   -2879.202052         43               высшее             0   \n",
       "7          0    -152.779569         50              СРЕДНЕЕ             1   \n",
       "8          2   -6929.865299         35               ВЫСШЕЕ             0   \n",
       "9          0   -2188.756445         41              среднее             1   \n",
       "10         2   -4171.483647         36               высшее             0   \n",
       "11         0    -792.701887         40              среднее             1   \n",
       "12         0            NaN         65              среднее             1   \n",
       "13         0   -1846.641941         54  неоконченное высшее             2   \n",
       "14         0   -1844.956182         56               высшее             0   \n",
       "15         1    -972.364419         26              среднее             1   \n",
       "16         0   -1719.934226         35              среднее             1   \n",
       "17         0   -2369.999720         33               высшее             0   \n",
       "18         0  400281.136913         53              среднее             1   \n",
       "19         0  -10038.818549         48              СРЕДНЕЕ             1   \n",
       "\n",
       "       family_status  family_status_id gender income_type  debt  \\\n",
       "0    женат / замужем                 0      F   сотрудник     0   \n",
       "1    женат / замужем                 0      F   сотрудник     0   \n",
       "2    женат / замужем                 0      M   сотрудник     0   \n",
       "3    женат / замужем                 0      M   сотрудник     0   \n",
       "4   гражданский брак                 1      F   пенсионер     0   \n",
       "5   гражданский брак                 1      M   компаньон     0   \n",
       "6    женат / замужем                 0      F   компаньон     0   \n",
       "7    женат / замужем                 0      M   сотрудник     0   \n",
       "8   гражданский брак                 1      F   сотрудник     0   \n",
       "9    женат / замужем                 0      M   сотрудник     0   \n",
       "10   женат / замужем                 0      M   компаньон     0   \n",
       "11   женат / замужем                 0      F   сотрудник     0   \n",
       "12  гражданский брак                 1      M   пенсионер     0   \n",
       "13   женат / замужем                 0      F   сотрудник     0   \n",
       "14  гражданский брак                 1      F   компаньон     1   \n",
       "15   женат / замужем                 0      F   сотрудник     0   \n",
       "16   женат / замужем                 0      F   сотрудник     0   \n",
       "17  гражданский брак                 1      M   сотрудник     0   \n",
       "18    вдовец / вдова                 2      F   пенсионер     0   \n",
       "19         в разводе                 3      F   сотрудник     0   \n",
       "\n",
       "     total_income                                 purpose  \n",
       "0   253875.639453                           покупка жилья  \n",
       "1   112080.014102                 приобретение автомобиля  \n",
       "2   145885.952297                           покупка жилья  \n",
       "3   267628.550329              дополнительное образование  \n",
       "4   158616.077870                         сыграть свадьбу  \n",
       "5   255763.565419                           покупка жилья  \n",
       "6   240525.971920                       операции с жильем  \n",
       "7   135823.934197                             образование  \n",
       "8    95856.832424                   на проведение свадьбы  \n",
       "9   144425.938277                 покупка жилья для семьи  \n",
       "10  113943.491460                    покупка недвижимости  \n",
       "11   77069.234271       покупка коммерческой недвижимости  \n",
       "12            NaN                         сыграть свадьбу  \n",
       "13  130458.228857                 приобретение автомобиля  \n",
       "14  165127.911772              покупка жилой недвижимости  \n",
       "15  116820.904450  строительство собственной недвижимости  \n",
       "16  289202.704229                            недвижимость  \n",
       "17   90410.586745              строительство недвижимости  \n",
       "18   56823.777243      на покупку подержанного автомобиля  \n",
       "19  242831.107982            на покупку своего автомобиля  "
      ]
     },
     "execution_count": 5,
     "metadata": {},
     "output_type": "execute_result"
    }
   ],
   "source": [
    "data.head(20)"
   ]
  },
  {
   "cell_type": "markdown",
   "id": "1c12e233",
   "metadata": {
    "deletable": false,
    "id": "1c12e233"
   },
   "source": [
    "**Задание 3. Выведите основную информацию о датафрейме с помощью метода `info()`.**"
   ]
  },
  {
   "cell_type": "code",
   "execution_count": 6,
   "id": "2b757bca",
   "metadata": {
    "deletable": false,
    "id": "2b757bca",
    "outputId": "15376089-8dad-46c9-b520-c05248d43158"
   },
   "outputs": [
    {
     "name": "stdout",
     "output_type": "stream",
     "text": [
      "<class 'pandas.core.frame.DataFrame'>\n",
      "RangeIndex: 21525 entries, 0 to 21524\n",
      "Data columns (total 12 columns):\n",
      " #   Column            Non-Null Count  Dtype  \n",
      "---  ------            --------------  -----  \n",
      " 0   children          21525 non-null  int64  \n",
      " 1   days_employed     19351 non-null  float64\n",
      " 2   dob_years         21525 non-null  int64  \n",
      " 3   education         21525 non-null  object \n",
      " 4   education_id      21525 non-null  int64  \n",
      " 5   family_status     21525 non-null  object \n",
      " 6   family_status_id  21525 non-null  int64  \n",
      " 7   gender            21525 non-null  object \n",
      " 8   income_type       21525 non-null  object \n",
      " 9   debt              21525 non-null  int64  \n",
      " 10  total_income      19351 non-null  float64\n",
      " 11  purpose           21525 non-null  object \n",
      "dtypes: float64(2), int64(5), object(5)\n",
      "memory usage: 2.0+ MB\n"
     ]
    }
   ],
   "source": [
    "data.info()"
   ]
  },
  {
   "cell_type": "markdown",
   "id": "333ec665",
   "metadata": {
    "deletable": false,
    "id": "333ec665"
   },
   "source": [
    "## Предобработка данных"
   ]
  },
  {
   "cell_type": "markdown",
   "id": "02d92d53",
   "metadata": {
    "deletable": false,
    "id": "02d92d53"
   },
   "source": [
    "### Удаление пропусков"
   ]
  },
  {
   "cell_type": "markdown",
   "id": "cd84967c",
   "metadata": {
    "deletable": false,
    "id": "cd84967c"
   },
   "source": [
    "**Задание 4. Выведите количество пропущенных значений для каждого столбца. Используйте комбинацию двух методов.**"
   ]
  },
  {
   "cell_type": "code",
   "execution_count": 7,
   "id": "7f9b2309",
   "metadata": {
    "deletable": false,
    "id": "7f9b2309",
    "outputId": "81f4d817-781c-465c-ed15-91ce4446810d"
   },
   "outputs": [
    {
     "data": {
      "text/plain": [
       "children               0\n",
       "days_employed       2174\n",
       "dob_years              0\n",
       "education              0\n",
       "education_id           0\n",
       "family_status          0\n",
       "family_status_id       0\n",
       "gender                 0\n",
       "income_type            0\n",
       "debt                   0\n",
       "total_income        2174\n",
       "purpose                0\n",
       "dtype: int64"
      ]
     },
     "execution_count": 7,
     "metadata": {},
     "output_type": "execute_result"
    }
   ],
   "source": [
    "data.isna().sum()"
   ]
  },
  {
   "cell_type": "markdown",
   "id": "db86e27b",
   "metadata": {
    "deletable": false,
    "id": "db86e27b"
   },
   "source": [
    "**Задание 5. В двух столбцах есть пропущенные значения. Один из них — `days_employed`. Пропуски в этом столбце вы обработаете на следующем этапе. Другой столбец с пропущенными значениями — `total_income` — хранит данные о доходах. На сумму дохода сильнее всего влияет тип занятости, поэтому заполнить пропуски в этом столбце нужно медианным значением по каждому типу из столбца `income_type`. Например, у человека с типом занятости `сотрудник` пропуск в столбце `total_income` должен быть заполнен медианным доходом среди всех записей с тем же типом.**"
   ]
  },
  {
   "cell_type": "code",
   "execution_count": 8,
   "id": "42006a93",
   "metadata": {
    "deletable": false,
    "id": "42006a93"
   },
   "outputs": [],
   "source": [
    "for t in data['income_type'].unique():\n",
    "    data.loc[(data['income_type'] == t) & (data['total_income'].isna()), 'total_income'] = \\\n",
    "    data.loc[(data['income_type'] == t), 'total_income'].median()"
   ]
  },
  {
   "cell_type": "markdown",
   "id": "89da5ece",
   "metadata": {
    "deletable": false,
    "id": "89da5ece"
   },
   "source": [
    "### Обработка аномальных значений"
   ]
  },
  {
   "cell_type": "markdown",
   "id": "57964554",
   "metadata": {
    "deletable": false,
    "id": "57964554"
   },
   "source": [
    "**Задание 6. В данных могут встречаться артефакты (аномалии) — значения, которые не отражают действительность и появились по какой-то ошибке. таким артефактом будет отрицательное количество дней трудового стажа в столбце `days_employed`. Для реальных данных это нормально. Обработайте значения в этом столбце: замените все отрицательные значения положительными с помощью метода `abs()`.**"
   ]
  },
  {
   "cell_type": "code",
   "execution_count": 9,
   "id": "f6f055bf",
   "metadata": {
    "deletable": false,
    "id": "f6f055bf"
   },
   "outputs": [],
   "source": [
    "data['days_employed'] = data['days_employed'].abs()"
   ]
  },
  {
   "cell_type": "markdown",
   "id": "6107dd2f",
   "metadata": {
    "deletable": false,
    "id": "6107dd2f"
   },
   "source": [
    "**Задание 7. Для каждого типа занятости выведите медианное значение трудового стажа `days_employed` в днях.**"
   ]
  },
  {
   "cell_type": "code",
   "execution_count": 10,
   "id": "85a5faf6",
   "metadata": {
    "deletable": false,
    "id": "85a5faf6",
    "outputId": "801ef80e-522b-4668-f34e-565af7432bcf"
   },
   "outputs": [
    {
     "data": {
      "text/plain": [
       "income_type\n",
       "безработный        366413.652744\n",
       "в декрете            3296.759962\n",
       "госслужащий          2689.368353\n",
       "компаньон            1547.382223\n",
       "пенсионер          365213.306266\n",
       "предприниматель       520.848083\n",
       "сотрудник            1574.202821\n",
       "студент               578.751554\n",
       "Name: days_employed, dtype: float64"
      ]
     },
     "execution_count": 10,
     "metadata": {},
     "output_type": "execute_result"
    }
   ],
   "source": [
    "data.groupby('income_type')['days_employed'].agg('median')"
   ]
  },
  {
   "cell_type": "markdown",
   "id": "38d1a030",
   "metadata": {
    "deletable": false,
    "id": "38d1a030"
   },
   "source": [
    "У двух типов (безработные и пенсионеры) получатся аномально большие значения. Исправить такие значения сложно, поэтому оставьте их как есть. Тем более этот столбец не понадобится вам для исследования."
   ]
  },
  {
   "cell_type": "markdown",
   "id": "d8a9f147",
   "metadata": {
    "deletable": false,
    "id": "d8a9f147"
   },
   "source": [
    "**Задание 8. Выведите перечень уникальных значений столбца `children`.**"
   ]
  },
  {
   "cell_type": "code",
   "execution_count": 11,
   "id": "ef5056eb",
   "metadata": {
    "deletable": false,
    "id": "ef5056eb",
    "outputId": "6975b15c-7f95-4697-d16d-a0c79b657b03"
   },
   "outputs": [
    {
     "data": {
      "text/plain": [
       "array([ 1,  0,  3,  2, -1,  4, 20,  5])"
      ]
     },
     "execution_count": 11,
     "metadata": {},
     "output_type": "execute_result"
    }
   ],
   "source": [
    "data['children'].unique()"
   ]
  },
  {
   "cell_type": "markdown",
   "id": "40b9ebf2",
   "metadata": {
    "deletable": false,
    "id": "40b9ebf2"
   },
   "source": [
    "**Задание 9. В столбце `children` есть два аномальных значения. Удалите строки, в которых встречаются такие аномальные значения из датафрейма `data`.**"
   ]
  },
  {
   "cell_type": "code",
   "execution_count": 12,
   "id": "3ff9801d",
   "metadata": {
    "deletable": false,
    "id": "3ff9801d"
   },
   "outputs": [],
   "source": [
    "data = data[(data['children'] != -1) & (data['children'] != 20)]"
   ]
  },
  {
   "cell_type": "markdown",
   "id": "bbc4d0ce",
   "metadata": {
    "deletable": false,
    "id": "bbc4d0ce"
   },
   "source": [
    "**Задание 10. Ещё раз выведите перечень уникальных значений столбца `children`, чтобы убедиться, что артефакты удалены.**"
   ]
  },
  {
   "cell_type": "code",
   "execution_count": 13,
   "id": "ad4fa8b7",
   "metadata": {
    "deletable": false,
    "id": "ad4fa8b7",
    "outputId": "b2097101-d49d-44d9-901b-32a65c9463d1"
   },
   "outputs": [
    {
     "data": {
      "text/plain": [
       "array([1, 0, 3, 2, 4, 5])"
      ]
     },
     "execution_count": 13,
     "metadata": {},
     "output_type": "execute_result"
    }
   ],
   "source": [
    "data['children'].unique()"
   ]
  },
  {
   "cell_type": "markdown",
   "id": "75440b63",
   "metadata": {
    "deletable": false,
    "id": "75440b63"
   },
   "source": [
    "### Удаление пропусков (продолжение)"
   ]
  },
  {
   "cell_type": "markdown",
   "id": "f4ea573f",
   "metadata": {
    "deletable": false,
    "id": "f4ea573f"
   },
   "source": [
    "**Задание 11. Заполните пропуски в столбце `days_employed` медианными значениями по каждого типа занятости `income_type`.**"
   ]
  },
  {
   "cell_type": "code",
   "execution_count": 14,
   "id": "af6b1a7e",
   "metadata": {
    "deletable": false,
    "id": "af6b1a7e"
   },
   "outputs": [],
   "source": [
    "for t in data['income_type'].unique():\n",
    "    data.loc[(data['income_type'] == t) & (data['days_employed'].isna()), 'days_employed'] = \\\n",
    "    data.loc[(data['income_type'] == t), 'days_employed'].median()"
   ]
  },
  {
   "cell_type": "markdown",
   "id": "2753f40d",
   "metadata": {
    "deletable": false,
    "id": "2753f40d"
   },
   "source": [
    "**Задание 12. Убедитесь, что все пропуски заполнены. Проверьте себя и ещё раз выведите количество пропущенных значений для каждого столбца с помощью двух методов.**"
   ]
  },
  {
   "cell_type": "code",
   "execution_count": 15,
   "id": "55f78bc2",
   "metadata": {
    "deletable": false,
    "id": "55f78bc2",
    "outputId": "8da1e4e1-358e-4e87-98c9-f261bce0a7b2"
   },
   "outputs": [
    {
     "data": {
      "text/plain": [
       "children            0\n",
       "days_employed       0\n",
       "dob_years           0\n",
       "education           0\n",
       "education_id        0\n",
       "family_status       0\n",
       "family_status_id    0\n",
       "gender              0\n",
       "income_type         0\n",
       "debt                0\n",
       "total_income        0\n",
       "purpose             0\n",
       "dtype: int64"
      ]
     },
     "execution_count": 15,
     "metadata": {},
     "output_type": "execute_result"
    }
   ],
   "source": [
    "data.isna().sum()"
   ]
  },
  {
   "cell_type": "markdown",
   "id": "ddc81e43",
   "metadata": {
    "deletable": false,
    "id": "ddc81e43"
   },
   "source": [
    "### Изменение типов данных"
   ]
  },
  {
   "cell_type": "markdown",
   "id": "42d19d24",
   "metadata": {
    "deletable": false,
    "id": "42d19d24"
   },
   "source": [
    "**Задание 13. Замените вещественный тип данных в столбце `total_income` на целочисленный с помощью метода `astype()`.**"
   ]
  },
  {
   "cell_type": "code",
   "execution_count": 16,
   "id": "920b65ad",
   "metadata": {
    "deletable": false,
    "id": "920b65ad"
   },
   "outputs": [],
   "source": [
    "data['total_income'] = data['total_income'].astype(int)"
   ]
  },
  {
   "cell_type": "markdown",
   "id": "80c420ba",
   "metadata": {
    "deletable": false,
    "id": "80c420ba"
   },
   "source": [
    "### Обработка дубликатов"
   ]
  },
  {
   "cell_type": "markdown",
   "id": "dc587695",
   "metadata": {
    "deletable": false,
    "id": "dc587695"
   },
   "source": [
    "**Задание 14. Выведите на экран количество строк-дубликатов в данных. Если такие строки присутствуют, удалите их.**"
   ]
  },
  {
   "cell_type": "code",
   "execution_count": 17,
   "id": "3ee445e4",
   "metadata": {
    "deletable": false,
    "id": "3ee445e4",
    "outputId": "9684deba-1934-42d1-99e1-cda61740f822"
   },
   "outputs": [
    {
     "data": {
      "text/plain": [
       "54"
      ]
     },
     "execution_count": 17,
     "metadata": {},
     "output_type": "execute_result"
    }
   ],
   "source": [
    "data.duplicated().sum()"
   ]
  },
  {
   "cell_type": "code",
   "execution_count": 18,
   "id": "8575fe05",
   "metadata": {
    "deletable": false,
    "id": "8575fe05"
   },
   "outputs": [],
   "source": [
    "data = data.drop_duplicates()"
   ]
  },
  {
   "cell_type": "markdown",
   "id": "9771a76c",
   "metadata": {
    "deletable": false,
    "id": "9771a76c"
   },
   "source": [
    "**Задание 15. Обработайте неявные дубликаты в столбце `education`. В этом столбце есть одни и те же значения, но записанные по-разному: с использованием заглавных и строчных букв. Приведите их к нижнему регистру. Проверьте остальные столбцы.**"
   ]
  },
  {
   "cell_type": "code",
   "execution_count": 19,
   "id": "a9f8e2bf",
   "metadata": {
    "deletable": false,
    "id": "a9f8e2bf"
   },
   "outputs": [],
   "source": [
    "data['education'] = data['education'].str.lower()"
   ]
  },
  {
   "cell_type": "markdown",
   "id": "9904cf55",
   "metadata": {
    "deletable": false,
    "id": "9904cf55"
   },
   "source": [
    "### Категоризация данных"
   ]
  },
  {
   "cell_type": "markdown",
   "id": "72fcc8a2",
   "metadata": {
    "deletable": false,
    "id": "72fcc8a2"
   },
   "source": [
    "**Задание 16. На основании диапазонов, указанных ниже, создайте в датафрейме `data` столбец `total_income_category` с категориями:**\n",
    "\n",
    "- 0–30000 — `'E'`;\n",
    "- 30001–50000 — `'D'`;\n",
    "- 50001–200000 — `'C'`;\n",
    "- 200001–1000000 — `'B'`;\n",
    "- 1000001 и выше — `'A'`.\n",
    "\n",
    "\n",
    "**Например, кредитополучателю с доходом 25000 нужно назначить категорию `'E'`, а клиенту, получающему 235000, — `'B'`. Используйте собственную функцию с именем `categorize_income()` и метод `apply()`.**"
   ]
  },
  {
   "cell_type": "code",
   "execution_count": 20,
   "id": "e1771346",
   "metadata": {
    "deletable": false,
    "id": "e1771346"
   },
   "outputs": [],
   "source": [
    "def categorize_income(income):\n",
    "    try:\n",
    "        if 0 <= income <= 30000:\n",
    "            return 'E'\n",
    "        elif 30001 <= income <= 50000:\n",
    "            return 'D'\n",
    "        elif 50001 <= income <= 200000:\n",
    "            return 'C'\n",
    "        elif 200001 <= income <= 1000000:\n",
    "            return 'B'\n",
    "        elif income >= 1000001:\n",
    "            return 'A'\n",
    "    except:\n",
    "        pass"
   ]
  },
  {
   "cell_type": "code",
   "execution_count": 21,
   "id": "d5f3586d",
   "metadata": {
    "deletable": false,
    "id": "d5f3586d"
   },
   "outputs": [],
   "source": [
    "data['total_income_category'] = data['total_income'].apply(categorize_income)"
   ]
  },
  {
   "cell_type": "markdown",
   "id": "dde49b5c",
   "metadata": {
    "deletable": false,
    "id": "dde49b5c"
   },
   "source": [
    "**Задание 17. Выведите на экран перечень уникальных целей взятия кредита из столбца `purpose`.**"
   ]
  },
  {
   "cell_type": "code",
   "execution_count": 22,
   "id": "f67ce9b3",
   "metadata": {
    "deletable": false,
    "id": "f67ce9b3",
    "outputId": "673c12d9-7d7e-4ae0-9812-c622c89dd244"
   },
   "outputs": [
    {
     "data": {
      "text/plain": [
       "array(['покупка жилья', 'приобретение автомобиля',\n",
       "       'дополнительное образование', 'сыграть свадьбу',\n",
       "       'операции с жильем', 'образование', 'на проведение свадьбы',\n",
       "       'покупка жилья для семьи', 'покупка недвижимости',\n",
       "       'покупка коммерческой недвижимости', 'покупка жилой недвижимости',\n",
       "       'строительство собственной недвижимости', 'недвижимость',\n",
       "       'строительство недвижимости', 'на покупку подержанного автомобиля',\n",
       "       'на покупку своего автомобиля',\n",
       "       'операции с коммерческой недвижимостью',\n",
       "       'строительство жилой недвижимости', 'жилье',\n",
       "       'операции со своей недвижимостью', 'автомобили',\n",
       "       'заняться образованием', 'сделка с подержанным автомобилем',\n",
       "       'получение образования', 'автомобиль', 'свадьба',\n",
       "       'получение дополнительного образования', 'покупка своего жилья',\n",
       "       'операции с недвижимостью', 'получение высшего образования',\n",
       "       'свой автомобиль', 'сделка с автомобилем',\n",
       "       'профильное образование', 'высшее образование',\n",
       "       'покупка жилья для сдачи', 'на покупку автомобиля', 'ремонт жилью',\n",
       "       'заняться высшим образованием'], dtype=object)"
      ]
     },
     "execution_count": 22,
     "metadata": {},
     "output_type": "execute_result"
    }
   ],
   "source": [
    "data['purpose'].unique()"
   ]
  },
  {
   "cell_type": "markdown",
   "id": "85d0aef0",
   "metadata": {
    "deletable": false,
    "id": "85d0aef0"
   },
   "source": [
    "**Задание 18. Создайте функцию, которая на основании данных из столбца `purpose` сформирует новый столбец `purpose_category`, в который войдут следующие категории:**\n",
    "\n",
    "- `'операции с автомобилем'`,\n",
    "- `'операции с недвижимостью'`,\n",
    "- `'проведение свадьбы'`,\n",
    "- `'получение образования'`.\n",
    "\n",
    "**Например, если в столбце `purpose` находится подстрока `'на покупку автомобиля'`, то в столбце `purpose_category` должна появиться строка `'операции с автомобилем'`.**\n",
    "\n",
    "**Используйте собственную функцию с именем `categorize_purpose()` и метод `apply()`. Изучите данные в столбце `purpose` и определите, какие подстроки помогут вам правильно определить категорию.**"
   ]
  },
  {
   "cell_type": "code",
   "execution_count": 23,
   "id": "e149fab4",
   "metadata": {
    "deletable": false,
    "id": "e149fab4"
   },
   "outputs": [],
   "source": [
    "def categorize_purpose(row):\n",
    "    try:\n",
    "        if 'автом' in row:\n",
    "            return 'операции с автомобилем'\n",
    "        elif 'жил' in row or 'недвиж' in row:\n",
    "            return 'операции с недвижимостью'\n",
    "        elif 'свад' in row:\n",
    "            return 'проведение свадьбы'\n",
    "        elif 'образов' in row:\n",
    "            return 'получение образования'\n",
    "    except:\n",
    "        return 'нет категории'"
   ]
  },
  {
   "cell_type": "code",
   "execution_count": 24,
   "id": "bf36e69b",
   "metadata": {
    "deletable": false,
    "id": "bf36e69b"
   },
   "outputs": [],
   "source": [
    "data['purpose_category'] = data['purpose'].apply(categorize_purpose)"
   ]
  },
  {
   "cell_type": "markdown",
   "id": "09b242bf",
   "metadata": {
    "deletable": false,
    "editable": false,
    "id": "09b242bf"
   },
   "source": [
    "## Исследуйте данные и ответьте на вопросы"
   ]
  },
  {
   "cell_type": "markdown",
   "id": "c5d66278",
   "metadata": {
    "deletable": false,
    "editable": false,
    "id": "c5d66278"
   },
   "source": [
    "**Задание 19. Есть ли зависимость между количеством детей и возвратом кредита в срок?**"
   ]
  },
  {
   "cell_type": "code",
   "execution_count": 25,
   "id": "2cacfc4a",
   "metadata": {
    "id": "2cacfc4a"
   },
   "outputs": [
    {
     "data": {
      "text/html": [
       "<div>\n",
       "<style scoped>\n",
       "    .dataframe tbody tr th:only-of-type {\n",
       "        vertical-align: middle;\n",
       "    }\n",
       "\n",
       "    .dataframe tbody tr th {\n",
       "        vertical-align: top;\n",
       "    }\n",
       "\n",
       "    .dataframe thead th {\n",
       "        text-align: right;\n",
       "    }\n",
       "</style>\n",
       "<table border=\"1\" class=\"dataframe\">\n",
       "  <thead>\n",
       "    <tr style=\"text-align: right;\">\n",
       "      <th></th>\n",
       "      <th>debt</th>\n",
       "      <th>count</th>\n",
       "      <th>probability</th>\n",
       "    </tr>\n",
       "    <tr>\n",
       "      <th>children</th>\n",
       "      <th></th>\n",
       "      <th></th>\n",
       "      <th></th>\n",
       "    </tr>\n",
       "  </thead>\n",
       "  <tbody>\n",
       "    <tr>\n",
       "      <th>0</th>\n",
       "      <td>1063</td>\n",
       "      <td>14107</td>\n",
       "      <td>7.54%</td>\n",
       "    </tr>\n",
       "    <tr>\n",
       "      <th>1</th>\n",
       "      <td>444</td>\n",
       "      <td>4809</td>\n",
       "      <td>9.23%</td>\n",
       "    </tr>\n",
       "    <tr>\n",
       "      <th>2</th>\n",
       "      <td>194</td>\n",
       "      <td>2052</td>\n",
       "      <td>9.45%</td>\n",
       "    </tr>\n",
       "    <tr>\n",
       "      <th>3</th>\n",
       "      <td>27</td>\n",
       "      <td>330</td>\n",
       "      <td>8.18%</td>\n",
       "    </tr>\n",
       "    <tr>\n",
       "      <th>4</th>\n",
       "      <td>4</td>\n",
       "      <td>41</td>\n",
       "      <td>9.76%</td>\n",
       "    </tr>\n",
       "    <tr>\n",
       "      <th>5</th>\n",
       "      <td>0</td>\n",
       "      <td>9</td>\n",
       "      <td>0.00%</td>\n",
       "    </tr>\n",
       "  </tbody>\n",
       "</table>\n",
       "</div>"
      ],
      "text/plain": [
       "          debt  count probability\n",
       "children                         \n",
       "0         1063  14107       7.54%\n",
       "1          444   4809       9.23%\n",
       "2          194   2052       9.45%\n",
       "3           27    330       8.18%\n",
       "4            4     41       9.76%\n",
       "5            0      9       0.00%"
      ]
     },
     "metadata": {},
     "output_type": "display_data"
    }
   ],
   "source": [
    "# сгруппируем данные по количеству детей и сумме столбца задолженность, чтобы получить количество людей имевших задолженость \n",
    "debt_from_children = data.groupby(['children']).agg({'debt':'sum'})\n",
    "\n",
    "# сгруппируем данные по количеству детей и задолженность, чтобы получить количество людей имеющих такое количество детей\n",
    "debt_from_children['count'] = data.groupby('children')['debt'].count()\n",
    "\n",
    "# найдем вероятность задолжености по кредиту человека с определенным количеством детей\n",
    "try:\n",
    "    debt_from_children['probability'] = debt_from_children.loc[:,'debt'] / debt_from_children.loc[:,'count']\n",
    "except ZeroDivisionError:\n",
    "    debt_from_children['probability'] = 0\n",
    "\n",
    "# переведем вероятность в проценты для наглядности\n",
    "debt_from_children['probability'] = debt_from_children['probability'].apply(lambda x: format(x, '.2%'))\n",
    "\n",
    "# выведем получившуюся таблицу на экран\n",
    "display(debt_from_children)"
   ]
  },
  {
   "cell_type": "code",
   "execution_count": 68,
   "id": "ec291d2c",
   "metadata": {},
   "outputs": [
    {
     "data": {
      "text/html": [
       "<style  type=\"text/css\" >\n",
       "</style><table id=\"T_130fd_\" ><thead>    <tr>        <th class=\"blank level0\" ></th>        <th class=\"col_heading level0 col0\" >Кол-во пользователей</th>        <th class=\"col_heading level0 col1\" >Кол-во должников</th>        <th class=\"col_heading level0 col2\" >% должников</th>        <th class=\"col_heading level0 col3\" >% НЕдолжников</th>    </tr>    <tr>        <th class=\"index_name level0\" >children_group</th>        <th class=\"blank\" ></th>        <th class=\"blank\" ></th>        <th class=\"blank\" ></th>        <th class=\"blank\" ></th>    </tr></thead><tbody>\n",
       "                <tr>\n",
       "                        <th id=\"T_130fd_level0_row0\" class=\"row_heading level0 row0\" >Дети есть</th>\n",
       "                        <td id=\"T_130fd_row0_col0\" class=\"data row0 col0\" >7241</td>\n",
       "                        <td id=\"T_130fd_row0_col1\" class=\"data row0 col1\" >669</td>\n",
       "                        <td id=\"T_130fd_row0_col2\" class=\"data row0 col2\" >9.24%</td>\n",
       "                        <td id=\"T_130fd_row0_col3\" class=\"data row0 col3\" >90.76%</td>\n",
       "            </tr>\n",
       "            <tr>\n",
       "                        <th id=\"T_130fd_level0_row1\" class=\"row_heading level0 row1\" >Нет детей</th>\n",
       "                        <td id=\"T_130fd_row1_col0\" class=\"data row1 col0\" >14107</td>\n",
       "                        <td id=\"T_130fd_row1_col1\" class=\"data row1 col1\" >1063</td>\n",
       "                        <td id=\"T_130fd_row1_col2\" class=\"data row1 col2\" >7.54%</td>\n",
       "                        <td id=\"T_130fd_row1_col3\" class=\"data row1 col3\" >92.46%</td>\n",
       "            </tr>\n",
       "    </tbody></table>"
      ],
      "text/plain": [
       "<pandas.io.formats.style.Styler at 0x7fc0715511c0>"
      ]
     },
     "execution_count": 68,
     "metadata": {},
     "output_type": "execute_result"
    }
   ],
   "source": [
    "data['children_group'] = data['children'].apply(lambda x: 'Нет детей' if x == 0 else 'Дети есть')\n",
    "\n",
    "df_example = data.groupby('children_group')['debt'].agg(['count', 'sum', 'mean', lambda x: 1 - x.mean()])\n",
    "df_example.columns = ['Кол-во пользователей', 'Кол-во должников', '% должников', '% НЕдолжников']\n",
    "df_example.style.format({'% должников': '{:.2%}', '% НЕдолжников': '{:.2%}'})"
   ]
  },
  {
   "cell_type": "markdown",
   "id": "3a6b99ec",
   "metadata": {
    "deletable": false,
    "id": "3a6b99ec"
   },
   "source": [
    "**Вывод:** С увеличением количества детей мы видим увеличение количества просроченых задолжностей. Но люди имеющие 3 детей, чаще платят за кредит, чем люди с одним ребенком. А люди с 5 детьми и вовсе не имеют задолностей, скорее всего из-за того, что такие люди редко встречаются. "
   ]
  },
  {
   "cell_type": "markdown",
   "id": "97be82ca",
   "metadata": {
    "deletable": false,
    "editable": false,
    "id": "97be82ca"
   },
   "source": [
    "**Задание 20. Есть ли зависимость между семейным положением и возвратом кредита в срок?**"
   ]
  },
  {
   "cell_type": "code",
   "execution_count": 90,
   "id": "7e96be0e",
   "metadata": {},
   "outputs": [
    {
     "data": {
      "text/html": [
       "<style  type=\"text/css\" >\n",
       "</style><table id=\"T_48063_\" ><thead>    <tr>        <th class=\"blank level0\" ></th>        <th class=\"col_heading level0 col0\" >Кол-во должников</th>        <th class=\"col_heading level0 col1\" >Кол-во пользователей</th>        <th class=\"col_heading level0 col2\" >% должников</th>    </tr>    <tr>        <th class=\"index_name level0\" >family_status</th>        <th class=\"blank\" ></th>        <th class=\"blank\" ></th>        <th class=\"blank\" ></th>    </tr></thead><tbody>\n",
       "                <tr>\n",
       "                        <th id=\"T_48063_level0_row0\" class=\"row_heading level0 row0\" >Не женат / не замужем</th>\n",
       "                        <td id=\"T_48063_row0_col0\" class=\"data row0 col0\" >273</td>\n",
       "                        <td id=\"T_48063_row0_col1\" class=\"data row0 col1\" >2796</td>\n",
       "                        <td id=\"T_48063_row0_col2\" class=\"data row0 col2\" >9.76%</td>\n",
       "            </tr>\n",
       "            <tr>\n",
       "                        <th id=\"T_48063_level0_row1\" class=\"row_heading level0 row1\" >гражданский брак</th>\n",
       "                        <td id=\"T_48063_row1_col0\" class=\"data row1 col0\" >385</td>\n",
       "                        <td id=\"T_48063_row1_col1\" class=\"data row1 col1\" >4146</td>\n",
       "                        <td id=\"T_48063_row1_col2\" class=\"data row1 col2\" >9.29%</td>\n",
       "            </tr>\n",
       "            <tr>\n",
       "                        <th id=\"T_48063_level0_row2\" class=\"row_heading level0 row2\" >женат / замужем</th>\n",
       "                        <td id=\"T_48063_row2_col0\" class=\"data row2 col0\" >927</td>\n",
       "                        <td id=\"T_48063_row2_col1\" class=\"data row2 col1\" >12266</td>\n",
       "                        <td id=\"T_48063_row2_col2\" class=\"data row2 col2\" >7.56%</td>\n",
       "            </tr>\n",
       "            <tr>\n",
       "                        <th id=\"T_48063_level0_row3\" class=\"row_heading level0 row3\" >в разводе</th>\n",
       "                        <td id=\"T_48063_row3_col0\" class=\"data row3 col0\" >84</td>\n",
       "                        <td id=\"T_48063_row3_col1\" class=\"data row3 col1\" >1189</td>\n",
       "                        <td id=\"T_48063_row3_col2\" class=\"data row3 col2\" >7.06%</td>\n",
       "            </tr>\n",
       "            <tr>\n",
       "                        <th id=\"T_48063_level0_row4\" class=\"row_heading level0 row4\" >вдовец / вдова</th>\n",
       "                        <td id=\"T_48063_row4_col0\" class=\"data row4 col0\" >63</td>\n",
       "                        <td id=\"T_48063_row4_col1\" class=\"data row4 col1\" >951</td>\n",
       "                        <td id=\"T_48063_row4_col2\" class=\"data row4 col2\" >6.62%</td>\n",
       "            </tr>\n",
       "    </tbody></table>"
      ],
      "text/plain": [
       "<pandas.io.formats.style.Styler at 0x7fc0430ecb80>"
      ]
     },
     "execution_count": 90,
     "metadata": {},
     "output_type": "execute_result"
    }
   ],
   "source": [
    "# создадим сводную таблицу\n",
    "debt_from_family_status = data.pivot_table(index=['family_status'], values='debt', aggfunc=['sum', 'count', 'mean'])\n",
    "\n",
    "# Переименуем названия колонок для понимания\n",
    "debt_from_family_status.columns = ['Кол-во должников', 'Кол-во пользователей', '% должников']\n",
    "\n",
    "# Отсортируем по убыванию и переведем % должников в проценты для наглядности\n",
    "\n",
    "debt_from_family_status = debt_from_family_status.sort_values(by='% должников', ascending=False).style.format({'% должников': '{:.2%}'})\n",
    "\n",
    "# выведем на экран\n",
    "debt_from_family_status"
   ]
  },
  {
   "cell_type": "markdown",
   "id": "1cef7837",
   "metadata": {
    "deletable": false,
    "id": "1cef7837"
   },
   "source": [
    "**Вывод:** Не женатые / не замужние и люди в гражданском браке реже выплачивают кредит в срок, чаще выплачивают кредит в срок вдовы и вдовцы и люди, которые в разводе."
   ]
  },
  {
   "cell_type": "markdown",
   "id": "1e8b2fca",
   "metadata": {
    "deletable": false,
    "editable": false,
    "id": "1e8b2fca"
   },
   "source": [
    "**Задание 21. Есть ли зависимость между уровнем дохода и возвратом кредита в срок?**"
   ]
  },
  {
   "cell_type": "code",
   "execution_count": 27,
   "id": "cd7e3720",
   "metadata": {
    "id": "cd7e3720"
   },
   "outputs": [
    {
     "data": {
      "text/html": [
       "<div>\n",
       "<style scoped>\n",
       "    .dataframe tbody tr th:only-of-type {\n",
       "        vertical-align: middle;\n",
       "    }\n",
       "\n",
       "    .dataframe tbody tr th {\n",
       "        vertical-align: top;\n",
       "    }\n",
       "\n",
       "    .dataframe thead th {\n",
       "        text-align: right;\n",
       "    }\n",
       "</style>\n",
       "<table border=\"1\" class=\"dataframe\">\n",
       "  <thead>\n",
       "    <tr style=\"text-align: right;\">\n",
       "      <th></th>\n",
       "      <th>debt</th>\n",
       "      <th>count</th>\n",
       "      <th>probability</th>\n",
       "    </tr>\n",
       "    <tr>\n",
       "      <th>total_income_category</th>\n",
       "      <th></th>\n",
       "      <th></th>\n",
       "      <th></th>\n",
       "    </tr>\n",
       "  </thead>\n",
       "  <tbody>\n",
       "    <tr>\n",
       "      <th>A</th>\n",
       "      <td>2</td>\n",
       "      <td>25</td>\n",
       "      <td>8.00%</td>\n",
       "    </tr>\n",
       "    <tr>\n",
       "      <th>B</th>\n",
       "      <td>354</td>\n",
       "      <td>5014</td>\n",
       "      <td>7.06%</td>\n",
       "    </tr>\n",
       "    <tr>\n",
       "      <th>C</th>\n",
       "      <td>1353</td>\n",
       "      <td>15938</td>\n",
       "      <td>8.49%</td>\n",
       "    </tr>\n",
       "    <tr>\n",
       "      <th>D</th>\n",
       "      <td>21</td>\n",
       "      <td>349</td>\n",
       "      <td>6.02%</td>\n",
       "    </tr>\n",
       "    <tr>\n",
       "      <th>E</th>\n",
       "      <td>2</td>\n",
       "      <td>22</td>\n",
       "      <td>9.09%</td>\n",
       "    </tr>\n",
       "  </tbody>\n",
       "</table>\n",
       "</div>"
      ],
      "text/plain": [
       "                       debt  count probability\n",
       "total_income_category                         \n",
       "A                         2     25       8.00%\n",
       "B                       354   5014       7.06%\n",
       "C                      1353  15938       8.49%\n",
       "D                        21    349       6.02%\n",
       "E                         2     22       9.09%"
      ]
     },
     "metadata": {},
     "output_type": "display_data"
    }
   ],
   "source": [
    "# 0–30000 — 'E';\n",
    "# 30001–50000 — 'D';\n",
    "# 50001–200000 — 'C';\n",
    "# 200001–1000000 — 'B';\n",
    "# 1000001 и выше — 'A'.\n",
    "\n",
    "# сгруппируем данные по категории дохода и сумме столбца задолженность, чтобы получить количество людей имевших задолженость \n",
    "debt_from_total_income = data.groupby(['total_income_category']).agg({'debt':'sum'})\n",
    "\n",
    "# сгруппируем данные по категории дохода и задолженность, чтобы получить количество людей в данной категории дохода\n",
    "debt_from_total_income['count'] = data.groupby(['total_income_category']).agg({'debt':'count'})\n",
    "\n",
    "# найдем вероятность задолжености по кредиту человека в определенной категории дохода\n",
    "try:\n",
    "    debt_from_total_income['probability'] = debt_from_total_income.loc[:,'debt'] / debt_from_total_income.loc[:,'count']\n",
    "except ZeroDivisionError:\n",
    "    debt_from_total_income['probability'] = 0\n",
    "\n",
    "# переведем вероятность в проценты для наглядности\n",
    "debt_from_total_income['probability'] = debt_from_total_income['probability'].apply(lambda x: format(x, '.2%'))\n",
    " \n",
    "# выведем получившуюся таблицу на экран\n",
    "display(debt_from_total_income)"
   ]
  },
  {
   "cell_type": "markdown",
   "id": "e8593def",
   "metadata": {
    "deletable": false,
    "id": "e8593def"
   },
   "source": [
    "**Вывод:** Зависимости между уровнем дохода и возвратом кредита в срок нет."
   ]
  },
  {
   "cell_type": "markdown",
   "id": "99ecbd1f",
   "metadata": {
    "deletable": false,
    "editable": false,
    "id": "99ecbd1f"
   },
   "source": [
    "**Задание 22. Как разные цели кредита влияют на его возврат в срок?**"
   ]
  },
  {
   "cell_type": "code",
   "execution_count": 28,
   "id": "2b687290",
   "metadata": {
    "id": "2b687290"
   },
   "outputs": [
    {
     "data": {
      "text/html": [
       "<div>\n",
       "<style scoped>\n",
       "    .dataframe tbody tr th:only-of-type {\n",
       "        vertical-align: middle;\n",
       "    }\n",
       "\n",
       "    .dataframe tbody tr th {\n",
       "        vertical-align: top;\n",
       "    }\n",
       "\n",
       "    .dataframe thead th {\n",
       "        text-align: right;\n",
       "    }\n",
       "</style>\n",
       "<table border=\"1\" class=\"dataframe\">\n",
       "  <thead>\n",
       "    <tr style=\"text-align: right;\">\n",
       "      <th></th>\n",
       "      <th>debt</th>\n",
       "      <th>count</th>\n",
       "      <th>probability</th>\n",
       "    </tr>\n",
       "    <tr>\n",
       "      <th>purpose_category</th>\n",
       "      <th></th>\n",
       "      <th></th>\n",
       "      <th></th>\n",
       "    </tr>\n",
       "  </thead>\n",
       "  <tbody>\n",
       "    <tr>\n",
       "      <th>операции с автомобилем</th>\n",
       "      <td>400</td>\n",
       "      <td>4281</td>\n",
       "      <td>9.34%</td>\n",
       "    </tr>\n",
       "    <tr>\n",
       "      <th>получение образования</th>\n",
       "      <td>369</td>\n",
       "      <td>3989</td>\n",
       "      <td>9.25%</td>\n",
       "    </tr>\n",
       "    <tr>\n",
       "      <th>проведение свадьбы</th>\n",
       "      <td>183</td>\n",
       "      <td>2324</td>\n",
       "      <td>7.87%</td>\n",
       "    </tr>\n",
       "    <tr>\n",
       "      <th>операции с недвижимостью</th>\n",
       "      <td>780</td>\n",
       "      <td>10754</td>\n",
       "      <td>7.25%</td>\n",
       "    </tr>\n",
       "  </tbody>\n",
       "</table>\n",
       "</div>"
      ],
      "text/plain": [
       "                          debt  count probability\n",
       "purpose_category                                 \n",
       "операции с автомобилем     400   4281       9.34%\n",
       "получение образования      369   3989       9.25%\n",
       "проведение свадьбы         183   2324       7.87%\n",
       "операции с недвижимостью   780  10754       7.25%"
      ]
     },
     "metadata": {},
     "output_type": "display_data"
    }
   ],
   "source": [
    "# сгруппируем данные по цели кредита и сумме столбца задолженность, чтобы получить количество людей имевших задолженость \n",
    "debt_from_family_status = data.groupby(['purpose_category']).agg({'debt':'sum'})\n",
    "\n",
    "# сгруппируем данные по цели кредита и задолженность, чтобы получить количество людей имеющих такую цель\n",
    "debt_from_family_status['count'] = data.groupby(['purpose_category']).agg({'debt':'count'})\n",
    "\n",
    "# найдем вероятность задолжености по кредиту человека с определенной целью кредита\n",
    "try:\n",
    "    debt_from_family_status['probability'] = debt_from_family_status.loc[:,'debt'] / debt_from_family_status.loc[:,'count']\n",
    "except ZeroDivisionError:\n",
    "    debt_from_family_status['probability'] = 0\n",
    "\n",
    "# переведем вероятность в проценты для наглядности\n",
    "debt_from_family_status['probability'] = debt_from_family_status['probability'].apply(lambda x: format(x, '.2%'))\n",
    "\n",
    "# отсортируем таблицу по убыванию значения вероятности и выведем на экран\n",
    "display(debt_from_family_status.sort_values(by='probability', ascending=False)) "
   ]
  },
  {
   "cell_type": "markdown",
   "id": "b4bb2ce6",
   "metadata": {
    "deletable": false,
    "id": "b4bb2ce6"
   },
   "source": [
    "**Вывод:** Чаще всего платят в срок люди, которые занимали деньги на операции с недвижимостью, реже платят в срок люди с целью кредита операции с автомобирем."
   ]
  },
  {
   "cell_type": "markdown",
   "id": "09c3ac4c",
   "metadata": {
    "deletable": false,
    "editable": false,
    "id": "09c3ac4c"
   },
   "source": [
    "**Задание 23. Приведите возможные причины появления пропусков в исходных данных.**"
   ]
  },
  {
   "cell_type": "markdown",
   "id": "9da2ceda",
   "metadata": {
    "deletable": false,
    "id": "9da2ceda"
   },
   "source": [
    "*Ответ:* \n",
    "Причинами появления пропусков в исходных данных могут быть: \n",
    "- сокрытие информации, то есть пользователь не указал о себе какие-нибудь сведения\n",
    "- автоматизированная система сбора информации дала сбой\n",
    "- неправильная обработка какой-то информации на итапе формирования данных\n",
    "- пропуск может быть объяснен другими переменными"
   ]
  },
  {
   "cell_type": "markdown",
   "id": "7b0487d6",
   "metadata": {
    "deletable": false,
    "editable": false,
    "id": "7b0487d6"
   },
   "source": [
    "**Задание 24. Объясните, почему заполнить пропуски медианным значением — лучшее решение для количественных переменных.**"
   ]
  },
  {
   "cell_type": "markdown",
   "id": "7ecf2b8e",
   "metadata": {
    "deletable": false,
    "id": "7ecf2b8e"
   },
   "source": [
    "*Ответ:* Заполнить пропуски медианным значением — лучшее решение для количественных переменных так как это дает более объективную информаци. Среднее значение некорректно характеризует данные, когда некоторые значения сильно выделяются среди большинства. "
   ]
  },
  {
   "cell_type": "markdown",
   "id": "6db5255a",
   "metadata": {
    "deletable": false,
    "editable": false,
    "id": "6db5255a"
   },
   "source": [
    "## Общий вывод."
   ]
  },
  {
   "cell_type": "markdown",
   "id": "bad65432",
   "metadata": {
    "id": "bad65432"
   },
   "source": [
    "Основываясь на полученных данных можно сделать вывод: На погашение кредита влияет семейное положение, наличие детей и цель кредита, а уровень дохода ни как не влияет. Наиболее безопасными для банка заемщиками являются человек с целью кредита операции с недвижимостью, без детей, вдовец / вдова или в разводе."
   ]
  }
 ],
 "metadata": {
  "ExecuteTimeLog": [
   {
    "duration": 74,
    "start_time": "2022-07-08T08:58:11.687Z"
   },
   {
    "duration": 558,
    "start_time": "2022-07-08T08:58:36.641Z"
   },
   {
    "duration": 27,
    "start_time": "2022-07-08T08:58:37.201Z"
   },
   {
    "duration": 49,
    "start_time": "2022-07-08T08:58:37.230Z"
   },
   {
    "duration": 21,
    "start_time": "2022-07-08T08:58:37.281Z"
   },
   {
    "duration": 53,
    "start_time": "2022-07-08T08:58:37.305Z"
   },
   {
    "duration": 8,
    "start_time": "2022-07-08T08:58:37.360Z"
   },
   {
    "duration": 13,
    "start_time": "2022-07-08T08:58:37.370Z"
   },
   {
    "duration": 11,
    "start_time": "2022-07-08T08:58:37.385Z"
   },
   {
    "duration": 21,
    "start_time": "2022-07-08T08:58:37.398Z"
   },
   {
    "duration": 6,
    "start_time": "2022-07-08T08:58:37.422Z"
   },
   {
    "duration": 79,
    "start_time": "2022-07-08T08:58:37.430Z"
   },
   {
    "duration": 15,
    "start_time": "2022-07-08T08:58:37.511Z"
   },
   {
    "duration": 29,
    "start_time": "2022-07-08T08:58:37.529Z"
   },
   {
    "duration": 20,
    "start_time": "2022-07-08T08:58:37.561Z"
   },
   {
    "duration": 17,
    "start_time": "2022-07-08T08:58:37.582Z"
   },
   {
    "duration": 17,
    "start_time": "2022-07-08T08:58:37.601Z"
   },
   {
    "duration": 24,
    "start_time": "2022-07-08T08:58:37.625Z"
   },
   {
    "duration": 12,
    "start_time": "2022-07-08T08:58:37.651Z"
   },
   {
    "duration": 5,
    "start_time": "2022-07-08T08:58:37.665Z"
   },
   {
    "duration": 9,
    "start_time": "2022-07-08T08:58:37.672Z"
   },
   {
    "duration": 13,
    "start_time": "2022-07-08T08:58:37.683Z"
   },
   {
    "duration": 9,
    "start_time": "2022-07-08T08:58:40.146Z"
   },
   {
    "duration": 8,
    "start_time": "2022-07-08T08:59:13.314Z"
   },
   {
    "duration": 5,
    "start_time": "2022-07-08T09:01:32.961Z"
   },
   {
    "duration": 9,
    "start_time": "2022-07-08T09:02:10.613Z"
   },
   {
    "duration": 18,
    "start_time": "2022-07-08T09:10:09.477Z"
   },
   {
    "duration": 19,
    "start_time": "2022-07-08T09:13:12.355Z"
   },
   {
    "duration": 29,
    "start_time": "2022-07-08T09:17:47.942Z"
   },
   {
    "duration": 14,
    "start_time": "2022-07-08T09:23:58.647Z"
   },
   {
    "duration": 14,
    "start_time": "2022-07-08T09:24:39.322Z"
   },
   {
    "duration": 20,
    "start_time": "2022-07-08T09:30:08.687Z"
   },
   {
    "duration": 12,
    "start_time": "2022-07-08T09:30:26.464Z"
   },
   {
    "duration": 6,
    "start_time": "2022-07-08T09:36:25.501Z"
   },
   {
    "duration": 8,
    "start_time": "2022-07-08T09:38:05.110Z"
   },
   {
    "duration": 9,
    "start_time": "2022-07-08T09:38:12.572Z"
   },
   {
    "duration": 8,
    "start_time": "2022-07-08T09:41:20.710Z"
   },
   {
    "duration": 10,
    "start_time": "2022-07-08T09:41:38.890Z"
   },
   {
    "duration": 12,
    "start_time": "2022-07-08T09:42:17.309Z"
   },
   {
    "duration": 12,
    "start_time": "2022-07-08T09:42:30.296Z"
   },
   {
    "duration": 18,
    "start_time": "2022-07-08T09:43:46.062Z"
   },
   {
    "duration": 22,
    "start_time": "2022-07-08T09:44:29.664Z"
   },
   {
    "duration": 19,
    "start_time": "2022-07-08T09:44:39.508Z"
   },
   {
    "duration": 37,
    "start_time": "2022-07-08T09:45:21.558Z"
   },
   {
    "duration": 21,
    "start_time": "2022-07-08T09:46:56.050Z"
   },
   {
    "duration": 30,
    "start_time": "2022-07-08T09:47:18.879Z"
   },
   {
    "duration": 11,
    "start_time": "2022-07-08T09:48:15.964Z"
   },
   {
    "duration": 831,
    "start_time": "2022-07-08T09:50:15.731Z"
   },
   {
    "duration": 753,
    "start_time": "2022-07-08T09:50:25.937Z"
   },
   {
    "duration": 906,
    "start_time": "2022-07-08T09:51:16.880Z"
   },
   {
    "duration": 848,
    "start_time": "2022-07-08T09:51:47.746Z"
   },
   {
    "duration": 12,
    "start_time": "2022-07-08T09:52:26.947Z"
   },
   {
    "duration": 19,
    "start_time": "2022-07-08T09:55:21.153Z"
   },
   {
    "duration": 53,
    "start_time": "2022-07-08T10:03:26.734Z"
   },
   {
    "duration": 44,
    "start_time": "2022-07-08T10:03:49.284Z"
   },
   {
    "duration": 17,
    "start_time": "2022-07-08T10:04:22.562Z"
   },
   {
    "duration": 18,
    "start_time": "2022-07-08T10:05:01.455Z"
   },
   {
    "duration": 16,
    "start_time": "2022-07-08T10:05:21.476Z"
   },
   {
    "duration": 16,
    "start_time": "2022-07-08T10:06:11.961Z"
   },
   {
    "duration": 17,
    "start_time": "2022-07-08T10:06:21.314Z"
   },
   {
    "duration": 16,
    "start_time": "2022-07-08T10:06:48.291Z"
   },
   {
    "duration": 18,
    "start_time": "2022-07-08T10:13:33.950Z"
   },
   {
    "duration": 17,
    "start_time": "2022-07-08T10:14:09.884Z"
   },
   {
    "duration": 55,
    "start_time": "2022-07-08T10:21:15.337Z"
   },
   {
    "duration": 19,
    "start_time": "2022-07-08T10:21:20.609Z"
   },
   {
    "duration": 88,
    "start_time": "2022-07-08T10:24:52.056Z"
   },
   {
    "duration": 54,
    "start_time": "2022-07-08T10:24:57.769Z"
   },
   {
    "duration": 55,
    "start_time": "2022-07-08T10:25:52.715Z"
   },
   {
    "duration": 24,
    "start_time": "2022-07-08T10:26:00.776Z"
   },
   {
    "duration": 23,
    "start_time": "2022-07-08T10:26:14.320Z"
   },
   {
    "duration": 28,
    "start_time": "2022-07-08T10:26:46.171Z"
   },
   {
    "duration": 23,
    "start_time": "2022-07-08T10:29:44.089Z"
   },
   {
    "duration": 27,
    "start_time": "2022-07-08T10:31:05.618Z"
   },
   {
    "duration": 21,
    "start_time": "2022-07-08T10:32:52.321Z"
   },
   {
    "duration": 21,
    "start_time": "2022-07-08T10:33:04.671Z"
   },
   {
    "duration": 12,
    "start_time": "2022-07-08T10:34:18.726Z"
   },
   {
    "duration": 24,
    "start_time": "2022-07-08T10:39:25.180Z"
   },
   {
    "duration": 27,
    "start_time": "2022-07-08T10:40:26.125Z"
   },
   {
    "duration": 30,
    "start_time": "2022-07-08T10:40:43.578Z"
   },
   {
    "duration": 12,
    "start_time": "2022-07-08T10:40:54.379Z"
   },
   {
    "duration": 9,
    "start_time": "2022-07-08T10:42:46.144Z"
   },
   {
    "duration": 144,
    "start_time": "2022-07-08T10:43:00.121Z"
   },
   {
    "duration": 9,
    "start_time": "2022-07-08T10:43:26.239Z"
   },
   {
    "duration": 17,
    "start_time": "2022-07-08T10:44:17.367Z"
   },
   {
    "duration": 13,
    "start_time": "2022-07-08T10:46:06.177Z"
   },
   {
    "duration": 14,
    "start_time": "2022-07-08T10:50:06.947Z"
   },
   {
    "duration": 19,
    "start_time": "2022-07-08T10:50:40.494Z"
   },
   {
    "duration": 23,
    "start_time": "2022-07-08T10:53:54.488Z"
   },
   {
    "duration": 21,
    "start_time": "2022-07-08T10:54:09.411Z"
   },
   {
    "duration": 16,
    "start_time": "2022-07-08T10:54:55.588Z"
   },
   {
    "duration": 22,
    "start_time": "2022-07-08T10:55:29.144Z"
   },
   {
    "duration": 19,
    "start_time": "2022-07-08T11:02:17.201Z"
   },
   {
    "duration": 11,
    "start_time": "2022-07-08T11:02:35.789Z"
   },
   {
    "duration": 11,
    "start_time": "2022-07-08T11:02:49.664Z"
   },
   {
    "duration": 11,
    "start_time": "2022-07-08T11:03:37.196Z"
   },
   {
    "duration": 20,
    "start_time": "2022-07-08T11:24:19.279Z"
   },
   {
    "duration": 1470,
    "start_time": "2022-07-08T11:26:48.209Z"
   },
   {
    "duration": 81,
    "start_time": "2022-07-08T11:29:19.908Z"
   },
   {
    "duration": 50,
    "start_time": "2022-07-08T11:30:41.345Z"
   },
   {
    "duration": 758,
    "start_time": "2022-07-08T11:31:06.729Z"
   },
   {
    "duration": 741,
    "start_time": "2022-07-08T11:32:32.256Z"
   },
   {
    "duration": 4,
    "start_time": "2022-07-08T11:33:22.542Z"
   },
   {
    "duration": 48,
    "start_time": "2022-07-08T11:34:19.856Z"
   },
   {
    "duration": 13,
    "start_time": "2022-07-08T11:34:45.313Z"
   },
   {
    "duration": 52,
    "start_time": "2022-07-08T11:36:29.195Z"
   },
   {
    "duration": 923,
    "start_time": "2022-07-08T11:36:38.629Z"
   },
   {
    "duration": 1172,
    "start_time": "2022-07-08T11:38:07.174Z"
   },
   {
    "duration": 821,
    "start_time": "2022-07-08T11:46:10.904Z"
   },
   {
    "duration": 19,
    "start_time": "2022-07-08T11:47:21.662Z"
   },
   {
    "duration": 10,
    "start_time": "2022-07-08T11:47:42.829Z"
   },
   {
    "duration": 16,
    "start_time": "2022-07-08T11:49:27.394Z"
   },
   {
    "duration": 221,
    "start_time": "2022-07-08T11:49:40.381Z"
   },
   {
    "duration": 12,
    "start_time": "2022-07-08T11:49:57.211Z"
   },
   {
    "duration": 14,
    "start_time": "2022-07-08T11:50:49.091Z"
   },
   {
    "duration": 17,
    "start_time": "2022-07-08T13:02:55.495Z"
   },
   {
    "duration": 17,
    "start_time": "2022-07-08T13:50:53.346Z"
   },
   {
    "duration": 14,
    "start_time": "2022-07-08T13:52:36.052Z"
   },
   {
    "duration": 16,
    "start_time": "2022-07-08T13:52:39.524Z"
   },
   {
    "duration": 482,
    "start_time": "2022-07-08T14:51:44.576Z"
   },
   {
    "duration": 21,
    "start_time": "2022-07-08T14:51:45.059Z"
   },
   {
    "duration": 13,
    "start_time": "2022-07-08T14:51:45.081Z"
   },
   {
    "duration": 10,
    "start_time": "2022-07-08T14:51:45.095Z"
   },
   {
    "duration": 44,
    "start_time": "2022-07-08T14:51:45.106Z"
   },
   {
    "duration": 3,
    "start_time": "2022-07-08T14:51:45.156Z"
   },
   {
    "duration": 14,
    "start_time": "2022-07-08T14:51:45.160Z"
   },
   {
    "duration": 3,
    "start_time": "2022-07-08T14:51:45.176Z"
   },
   {
    "duration": 11,
    "start_time": "2022-07-08T14:51:45.181Z"
   },
   {
    "duration": 6,
    "start_time": "2022-07-08T14:51:45.195Z"
   },
   {
    "duration": 50,
    "start_time": "2022-07-08T14:51:45.203Z"
   },
   {
    "duration": 9,
    "start_time": "2022-07-08T14:51:45.255Z"
   },
   {
    "duration": 3,
    "start_time": "2022-07-08T14:51:45.266Z"
   },
   {
    "duration": 19,
    "start_time": "2022-07-08T14:51:45.270Z"
   },
   {
    "duration": 15,
    "start_time": "2022-07-08T14:51:45.291Z"
   },
   {
    "duration": 9,
    "start_time": "2022-07-08T14:51:45.307Z"
   },
   {
    "duration": 8,
    "start_time": "2022-07-08T14:51:45.318Z"
   },
   {
    "duration": 21,
    "start_time": "2022-07-08T14:51:45.346Z"
   },
   {
    "duration": 11,
    "start_time": "2022-07-08T14:51:45.368Z"
   },
   {
    "duration": 4,
    "start_time": "2022-07-08T14:51:45.381Z"
   },
   {
    "duration": 13,
    "start_time": "2022-07-08T14:51:45.386Z"
   },
   {
    "duration": 12,
    "start_time": "2022-07-08T14:51:45.400Z"
   },
   {
    "duration": 21,
    "start_time": "2022-07-08T14:51:45.414Z"
   },
   {
    "duration": 27,
    "start_time": "2022-07-08T14:51:45.437Z"
   },
   {
    "duration": 21,
    "start_time": "2022-07-08T14:51:45.466Z"
   },
   {
    "duration": 445,
    "start_time": "2022-07-08T15:49:33.280Z"
   },
   {
    "duration": 701,
    "start_time": "2022-07-09T09:09:10.963Z"
   },
   {
    "duration": 40,
    "start_time": "2022-07-09T09:09:44.555Z"
   },
   {
    "duration": 42,
    "start_time": "2022-07-09T09:10:33.450Z"
   },
   {
    "duration": 163,
    "start_time": "2022-07-09T09:11:15.388Z"
   },
   {
    "duration": 57,
    "start_time": "2022-07-09T09:11:22.894Z"
   },
   {
    "duration": 36,
    "start_time": "2022-07-09T09:11:34.843Z"
   },
   {
    "duration": 35,
    "start_time": "2022-07-09T09:11:39.764Z"
   },
   {
    "duration": 42,
    "start_time": "2022-07-09T09:12:09.053Z"
   },
   {
    "duration": 41,
    "start_time": "2022-07-09T09:12:21.145Z"
   },
   {
    "duration": 64,
    "start_time": "2022-07-09T09:12:53.188Z"
   },
   {
    "duration": 46,
    "start_time": "2022-07-09T09:13:17.825Z"
   },
   {
    "duration": 47,
    "start_time": "2022-07-09T09:13:33.025Z"
   },
   {
    "duration": 34,
    "start_time": "2022-07-09T09:15:11.338Z"
   },
   {
    "duration": 59,
    "start_time": "2022-07-09T09:17:00.077Z"
   },
   {
    "duration": 33,
    "start_time": "2022-07-09T09:17:12.548Z"
   },
   {
    "duration": 35,
    "start_time": "2022-07-09T09:18:23.845Z"
   },
   {
    "duration": 19,
    "start_time": "2022-07-09T09:18:38.969Z"
   },
   {
    "duration": 51,
    "start_time": "2022-07-09T09:19:22.925Z"
   },
   {
    "duration": 36,
    "start_time": "2022-07-09T09:19:57.791Z"
   },
   {
    "duration": 43,
    "start_time": "2022-07-09T09:20:07.634Z"
   },
   {
    "duration": 35,
    "start_time": "2022-07-09T09:20:16.569Z"
   },
   {
    "duration": 45,
    "start_time": "2022-07-09T09:21:36.026Z"
   },
   {
    "duration": 63,
    "start_time": "2022-07-09T09:21:45.289Z"
   },
   {
    "duration": 575,
    "start_time": "2022-07-09T09:22:41.498Z"
   },
   {
    "duration": 41,
    "start_time": "2022-07-09T09:22:50.379Z"
   },
   {
    "duration": 41,
    "start_time": "2022-07-09T09:23:47.709Z"
   },
   {
    "duration": 36,
    "start_time": "2022-07-09T09:24:39.254Z"
   },
   {
    "duration": 62,
    "start_time": "2022-07-09T09:27:36.395Z"
   },
   {
    "duration": 59,
    "start_time": "2022-07-09T09:27:45.988Z"
   },
   {
    "duration": 43,
    "start_time": "2022-07-09T09:27:58.838Z"
   },
   {
    "duration": 31,
    "start_time": "2022-07-09T09:28:23.754Z"
   },
   {
    "duration": 44,
    "start_time": "2022-07-09T09:28:33.645Z"
   },
   {
    "duration": 41,
    "start_time": "2022-07-09T09:28:36.140Z"
   },
   {
    "duration": 7,
    "start_time": "2022-07-09T09:29:10.927Z"
   },
   {
    "duration": 6,
    "start_time": "2022-07-09T09:29:25.045Z"
   },
   {
    "duration": 34,
    "start_time": "2022-07-09T09:29:34.956Z"
   },
   {
    "duration": 38,
    "start_time": "2022-07-09T09:29:42.244Z"
   },
   {
    "duration": 31,
    "start_time": "2022-07-09T09:30:08.057Z"
   },
   {
    "duration": 31,
    "start_time": "2022-07-09T09:32:48.360Z"
   },
   {
    "duration": 121,
    "start_time": "2022-07-09T09:36:43.594Z"
   }
  ],
  "colab": {
   "name": "dpp_template_part2.ipynb",
   "provenance": []
  },
  "kernelspec": {
   "display_name": "Python 3 (ipykernel)",
   "language": "python",
   "name": "python3"
  },
  "language_info": {
   "codemirror_mode": {
    "name": "ipython",
    "version": 3
   },
   "file_extension": ".py",
   "mimetype": "text/x-python",
   "name": "python",
   "nbconvert_exporter": "python",
   "pygments_lexer": "ipython3",
   "version": "3.9.12"
  },
  "toc": {
   "base_numbering": 1,
   "nav_menu": {},
   "number_sections": true,
   "sideBar": true,
   "skip_h1_title": true,
   "title_cell": "Table of Contents",
   "title_sidebar": "Contents",
   "toc_cell": false,
   "toc_position": {},
   "toc_section_display": true,
   "toc_window_display": false
  }
 },
 "nbformat": 4,
 "nbformat_minor": 5
}
